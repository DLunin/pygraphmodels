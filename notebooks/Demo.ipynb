{
 "cells": [
  {
   "cell_type": "code",
   "execution_count": 53,
   "metadata": {
    "collapsed": false
   },
   "outputs": [],
   "source": [
    "import graphmodels as gm\n",
    "import numpy as np\n",
    "import networkx as nx\n",
    "from scipy import stats\n",
    "%matplotlib inline"
   ]
  },
  {
   "cell_type": "markdown",
   "metadata": {},
   "source": [
    "## Directed Graphical Models"
   ]
  },
  {
   "cell_type": "markdown",
   "metadata": {},
   "source": [
    "`DGM` is a class implementing Directed Graphical Models."
   ]
  },
  {
   "cell_type": "markdown",
   "metadata": {},
   "source": [
    "#### Loading DGMs\n",
    "You can load bayesian networks in .bif format. For example, here we load a simple 'Earthquake' network.\n",
    "\n",
    "Some networks can be downloaded here: http://www.bnlearn.com/bnrepository/"
   ]
  },
  {
   "cell_type": "code",
   "execution_count": 2,
   "metadata": {
    "collapsed": false
   },
   "outputs": [],
   "source": [
    "dgm = gm.DGM.read('../networks/earthquake.bif')"
   ]
  },
  {
   "cell_type": "code",
   "execution_count": 3,
   "metadata": {
    "collapsed": false
   },
   "outputs": [
    {
     "data": {
      "text/html": [
       "\n",
       "\n",
       "<style>\n",
       "\n",
       "table\n",
       "{\n",
       "  border-collapse: collapse;\n",
       "}\n",
       "th\n",
       "{\n",
       "  color: #ffffff;\n",
       "  background-color: #000000;\n",
       "}\n",
       "td\n",
       "{\n",
       "  background-color: #cccccc;\n",
       "}\n",
       "table, th, td\n",
       "{\n",
       "  font-family:Arial, Helvetica, sans-serif;\n",
       "  border: 1px solid black;\n",
       "  text-align: center;\n",
       "  padding: 3px;\n",
       "  font-size:11pt;\n",
       "}\n",
       "g.mpld3-xaxis, g.mpld3-yaxis {\n",
       "    display: none;\n",
       "}\n",
       "    \n",
       "</style>\n",
       "\n",
       "<div id=\"fig_el119451404933869669129069227924\"></div>\n",
       "<script>\n",
       "function mpld3_load_lib(url, callback){\n",
       "  var s = document.createElement('script');\n",
       "  s.src = url;\n",
       "  s.async = true;\n",
       "  s.onreadystatechange = s.onload = callback;\n",
       "  s.onerror = function(){console.warn(\"failed to load library \" + url);};\n",
       "  document.getElementsByTagName(\"head\")[0].appendChild(s);\n",
       "}\n",
       "\n",
       "if(typeof(mpld3) !== \"undefined\" && mpld3._mpld3IsLoaded){\n",
       "   // already loaded: just create the figure\n",
       "   !function(mpld3){\n",
       "       \n",
       "    mpld3.register_plugin(\"htmltooltip\", HtmlTooltipPlugin);\n",
       "    HtmlTooltipPlugin.prototype = Object.create(mpld3.Plugin.prototype);\n",
       "    HtmlTooltipPlugin.prototype.constructor = HtmlTooltipPlugin;\n",
       "    HtmlTooltipPlugin.prototype.requiredProps = [\"id\"];\n",
       "    HtmlTooltipPlugin.prototype.defaultProps = {labels:null, hoffset:0, voffset:10};\n",
       "    function HtmlTooltipPlugin(fig, props){\n",
       "        mpld3.Plugin.call(this, fig, props);\n",
       "    };\n",
       "\n",
       "    HtmlTooltipPlugin.prototype.draw = function(){\n",
       "       var obj = mpld3.get_element(this.props.id);\n",
       "       var labels = this.props.labels;\n",
       "       var tooltip = d3.select(\"body\").append(\"div\")\n",
       "                    .attr(\"class\", \"mpld3-tooltip\")\n",
       "                    .style(\"position\", \"absolute\")\n",
       "                    .style(\"z-index\", \"10\")\n",
       "                    .style(\"visibility\", \"hidden\");\n",
       "\n",
       "       obj.elements()\n",
       "           .on(\"mouseover\", function(d, i){\n",
       "                              tooltip.html(labels[i])\n",
       "                                     .style(\"visibility\", \"visible\");})\n",
       "           .on(\"mousemove\", function(d, i){\n",
       "                    tooltip\n",
       "                      .style(\"top\", d3.event.pageY + this.props.voffset + \"px\")\n",
       "                      .style(\"left\",d3.event.pageX + this.props.hoffset + \"px\");\n",
       "                 }.bind(this))\n",
       "           .on(\"mouseout\",  function(d, i){\n",
       "                           tooltip.style(\"visibility\", \"hidden\");});\n",
       "    };\n",
       "    \n",
       "       mpld3.draw_figure(\"fig_el119451404933869669129069227924\", {\"height\": 640.0, \"plugins\": [{\"type\": \"reset\"}, {\"enabled\": false, \"type\": \"zoom\", \"button\": true}, {\"enabled\": false, \"type\": \"boxzoom\", \"button\": true}, {\"labels\": [\"<table border=\\\"1\\\" cellpadding=\\\"4\\\" cellspacing=\\\"0\\\" bordercolor=\\\"#000000\\\">\\n<tr bgcolor=\\\"#AAAAAA\\\">\\n<th align=\\\"center\\\">Burglary</th>\\n<th align=\\\"center\\\">Prob.</th>\\n</tr>\\n<tr>\\n<td bgcolor=#FFFFFF>True</td>\\n<td bgcolor=#f6b5b1>0.010</td>\\n</tr>\\n<tr>\\n<td bgcolor=#FFFFFF>False</td>\\n<td bgcolor=#f2f0f1>0.990</td>\\n</tr>\\n</table>\", \"<table border=\\\"1\\\" cellpadding=\\\"4\\\" cellspacing=\\\"0\\\" bordercolor=\\\"#000000\\\">\\n<tr bgcolor=\\\"#AAAAAA\\\">\\n<th align=\\\"center\\\">Earthquake</th>\\n<th align=\\\"center\\\">Prob.</th>\\n</tr>\\n<tr>\\n<td bgcolor=#FFFFFF>True</td>\\n<td bgcolor=#efb7b6>0.020</td>\\n</tr>\\n<tr>\\n<td bgcolor=#FFFFFF>False</td>\\n<td bgcolor=#f3eef1>0.980</td>\\n</tr>\\n</table>\", \"<table border=\\\"1\\\" cellpadding=\\\"4\\\" cellspacing=\\\"0\\\" bordercolor=\\\"#000000\\\">\\n<tr bgcolor=\\\"#AAAAAA\\\">\\n<th align=\\\"center\\\">Alarm</th>\\n<th align=\\\"center\\\">MaryCalls</th>\\n<th align=\\\"center\\\">Prob.</th>\\n</tr>\\n<tr>\\n<td bgcolor=#FFFFFF>True</td>\\n<td bgcolor=#FFFFFF>True</td>\\n<td bgcolor=#eee6c2>0.700</td>\\n</tr>\\n<tr>\\n<td bgcolor=#FFFFFF>True</td>\\n<td bgcolor=#FFFFFF>False</td>\\n<td bgcolor=#d2ded0>0.300</td>\\n</tr>\\n<tr>\\n<td bgcolor=#FFFFFF>False</td>\\n<td bgcolor=#FFFFFF>True</td>\\n<td bgcolor=#f6b5b1>0.010</td>\\n</tr>\\n<tr>\\n<td bgcolor=#FFFFFF>False</td>\\n<td bgcolor=#FFFFFF>False</td>\\n<td bgcolor=#f2f0f1>0.990</td>\\n</tr>\\n</table>\", \"<table border=\\\"1\\\" cellpadding=\\\"4\\\" cellspacing=\\\"0\\\" bordercolor=\\\"#000000\\\">\\n<tr bgcolor=\\\"#AAAAAA\\\">\\n<th align=\\\"center\\\">Burglary</th>\\n<th align=\\\"center\\\">Earthquake</th>\\n<th align=\\\"center\\\">Alarm</th>\\n<th align=\\\"center\\\">Prob.</th>\\n</tr>\\n<tr>\\n<td bgcolor=#FFFFFF>True</td>\\n<td bgcolor=#FFFFFF>True</td>\\n<td bgcolor=#FFFFFF>True</td>\\n<td bgcolor=#f6e8ef>0.950</td>\\n</tr>\\n<tr>\\n<td bgcolor=#FFFFFF>True</td>\\n<td bgcolor=#FFFFFF>True</td>\\n<td bgcolor=#FFFFFF>False</td>\\n<td bgcolor=#dfbdc1>0.050</td>\\n</tr>\\n<tr>\\n<td bgcolor=#FFFFFF>True</td>\\n<td bgcolor=#FFFFFF>False</td>\\n<td bgcolor=#FFFFFF>True</td>\\n<td bgcolor=#f7e6ef>0.940</td>\\n</tr>\\n<tr>\\n<td bgcolor=#FFFFFF>True</td>\\n<td bgcolor=#FFFFFF>False</td>\\n<td bgcolor=#FFFFFF>False</td>\\n<td bgcolor=#d9bfc6>0.060</td>\\n</tr>\\n<tr>\\n<td bgcolor=#FFFFFF>False</td>\\n<td bgcolor=#FFFFFF>True</td>\\n<td bgcolor=#FFFFFF>True</td>\\n<td bgcolor=#d1e0ce>0.290</td>\\n</tr>\\n<tr>\\n<td bgcolor=#FFFFFF>False</td>\\n<td bgcolor=#FFFFFF>True</td>\\n<td bgcolor=#FFFFFF>False</td>\\n<td bgcolor=#ede4c1>0.710</td>\\n</tr>\\n<tr>\\n<td bgcolor=#FFFFFF>False</td>\\n<td bgcolor=#FFFFFF>False</td>\\n<td bgcolor=#FFFFFF>True</td>\\n<td bgcolor=#fbb4ae>0.001</td>\\n</tr>\\n<tr>\\n<td bgcolor=#FFFFFF>False</td>\\n<td bgcolor=#FFFFFF>False</td>\\n<td bgcolor=#FFFFFF>False</td>\\n<td bgcolor=#f2f2f2>0.999</td>\\n</tr>\\n</table>\", \"<table border=\\\"1\\\" cellpadding=\\\"4\\\" cellspacing=\\\"0\\\" bordercolor=\\\"#000000\\\">\\n<tr bgcolor=\\\"#AAAAAA\\\">\\n<th align=\\\"center\\\">Alarm</th>\\n<th align=\\\"center\\\">JohnCalls</th>\\n<th align=\\\"center\\\">Prob.</th>\\n</tr>\\n<tr>\\n<td bgcolor=#FFFFFF>True</td>\\n<td bgcolor=#FFFFFF>True</td>\\n<td bgcolor=#fadfed>0.900</td>\\n</tr>\\n<tr>\\n<td bgcolor=#FFFFFF>True</td>\\n<td bgcolor=#FFFFFF>False</td>\\n<td bgcolor=#c2c7d7>0.100</td>\\n</tr>\\n<tr>\\n<td bgcolor=#FFFFFF>False</td>\\n<td bgcolor=#FFFFFF>True</td>\\n<td bgcolor=#dfbdc1>0.050</td>\\n</tr>\\n<tr>\\n<td bgcolor=#FFFFFF>False</td>\\n<td bgcolor=#FFFFFF>False</td>\\n<td bgcolor=#f6e8ef>0.950</td>\\n</tr>\\n</table>\"], \"type\": \"htmltooltip\", \"voffset\": 10, \"id\": \"el11945140492420549936pts\", \"hoffset\": 10}], \"axes\": [{\"bbox\": [0.125, 0.125, 0.775, 0.775], \"sharey\": [], \"zoomable\": true, \"collections\": [], \"markers\": [{\"coordinates\": \"data\", \"edgecolor\": \"#000000\", \"yindex\": 1, \"xindex\": 0, \"alpha\": 1.0, \"zorder\": 2, \"markerpath\": [[[0.0, 10.0], [2.652031, 10.0], [5.195798707848534, 8.946336915882418], [7.0710678118654755, 7.0710678118654755], [8.946336915882418, 5.195798707848534], [10.0, 2.652031], [10.0, 0.0], [10.0, -2.652031], [8.946336915882418, -5.195798707848534], [7.0710678118654755, -7.0710678118654755], [5.195798707848534, -8.946336915882418], [2.652031, -10.0], [0.0, -10.0], [-2.652031, -10.0], [-5.195798707848534, -8.946336915882418], [-7.0710678118654755, -7.0710678118654755], [-8.946336915882418, -5.195798707848534], [-10.0, -2.652031], [-10.0, 0.0], [-10.0, 2.652031], [-8.946336915882418, 5.195798707848534], [-7.0710678118654755, 7.0710678118654755], [-5.195798707848534, 8.946336915882418], [-2.652031, 10.0], [0.0, 10.0]], [\"M\", \"C\", \"C\", \"C\", \"C\", \"C\", \"C\", \"C\", \"C\", \"Z\"]], \"id\": \"el11945140493552247752pts\", \"edgewidth\": 1, \"facecolor\": \"#D3D3D3\", \"data\": \"data09\"}, {\"coordinates\": \"data\", \"edgecolor\": \"#000000\", \"yindex\": 1, \"xindex\": 0, \"alpha\": 0.0, \"zorder\": 2, \"markerpath\": [[[0.0, 20.0], [5.304062, 20.0], [10.391597415697069, 17.892673831764835], [14.142135623730951, 14.142135623730951], [17.892673831764835, 10.391597415697069], [20.0, 5.304062], [20.0, 0.0], [20.0, -5.304062], [17.892673831764835, -10.391597415697069], [14.142135623730951, -14.142135623730951], [10.391597415697069, -17.892673831764835], [5.304062, -20.0], [0.0, -20.0], [-5.304062, -20.0], [-10.391597415697069, -17.892673831764835], [-14.142135623730951, -14.142135623730951], [-17.892673831764835, -10.391597415697069], [-20.0, -5.304062], [-20.0, 0.0], [-20.0, 5.304062], [-17.892673831764835, 10.391597415697069], [-14.142135623730951, 14.142135623730951], [-10.391597415697069, 17.892673831764835], [-5.304062, 20.0], [0.0, 20.0]], [\"M\", \"C\", \"C\", \"C\", \"C\", \"C\", \"C\", \"C\", \"C\", \"Z\"]], \"id\": \"el11945140492420549936pts\", \"edgewidth\": 1, \"facecolor\": \"#D3D3D3\", \"data\": \"data09\"}], \"paths\": [], \"xlim\": [-0.8664272631793841, 1.08], \"texts\": [{\"id\": \"el11945140492420579848\", \"zorder\": 3, \"h_anchor\": \"middle\", \"color\": \"#000000\", \"fontsize\": 10.0, \"coordinates\": \"data\", \"text\": \"Burglary\", \"rotation\": -0.0, \"position\": [-0.5303938795948193, 0.8552570052686205], \"v_baseline\": \"central\", \"alpha\": 1}, {\"id\": \"el11945140492420581360\", \"zorder\": 3, \"h_anchor\": \"middle\", \"color\": \"#000000\", \"fontsize\": 10.0, \"coordinates\": \"data\", \"text\": \"Earthquake\", \"rotation\": -0.0, \"position\": [-0.08956741506264715, -0.8459233992592419], \"v_baseline\": \"central\", \"alpha\": 1}, {\"id\": \"el11945140492420582704\", \"zorder\": 3, \"h_anchor\": \"middle\", \"color\": \"#000000\", \"fontsize\": 10.0, \"coordinates\": \"data\", \"text\": \"MaryCalls\", \"rotation\": -0.0, \"position\": [-0.7864272631793842, -0.950578743995175], \"v_baseline\": \"central\", \"alpha\": 1}, {\"id\": \"el11945140492420600496\", \"zorder\": 3, \"h_anchor\": \"middle\", \"color\": \"#000000\", \"fontsize\": 10.0, \"coordinates\": \"data\", \"text\": \"Alarm\", \"rotation\": -0.0, \"position\": [0.40638855783685074, -0.031950153970589174], \"v_baseline\": \"central\", \"alpha\": 1}, {\"id\": \"el11945140492420601840\", \"zorder\": 3, \"h_anchor\": \"middle\", \"color\": \"#000000\", \"fontsize\": 10.0, \"coordinates\": \"data\", \"text\": \"JohnCalls\", \"rotation\": -0.0, \"position\": [1.0, 0.9731952919563855], \"v_baseline\": \"central\", \"alpha\": 1}], \"yscale\": \"linear\", \"images\": [], \"ylim\": [-1.030578743995175, 1.0531952919563856], \"axesbg\": \"#FFFFFF\", \"id\": \"el11945140492421031360\", \"axes\": [{\"tickformat\": null, \"grid\": {\"gridOn\": false}, \"tickvalues\": null, \"position\": \"bottom\", \"fontsize\": 10.0, \"nticks\": 6, \"scale\": \"linear\"}, {\"tickformat\": null, \"grid\": {\"gridOn\": false}, \"tickvalues\": null, \"position\": \"left\", \"fontsize\": 10.0, \"nticks\": 7, \"scale\": \"linear\"}], \"xscale\": \"linear\", \"ydomain\": [-1.030578743995175, 1.0531952919563856], \"axesbgalpha\": null, \"sharex\": [], \"lines\": [{\"coordinates\": \"data\", \"linewidth\": 1.0, \"yindex\": 1, \"xindex\": 0, \"zorder\": 2, \"dasharray\": \"10,0\", \"color\": \"#808080\", \"id\": \"el11945140492420913528\", \"alpha\": 1, \"data\": \"data01\"}, {\"coordinates\": \"data\", \"linewidth\": 5, \"yindex\": 1, \"xindex\": 0, \"zorder\": 2, \"dasharray\": \"10,0\", \"color\": \"#000000\", \"id\": \"el11945140492420914424\", \"alpha\": 0.5, \"data\": \"data02\"}, {\"coordinates\": \"data\", \"linewidth\": 1.0, \"yindex\": 1, \"xindex\": 0, \"zorder\": 2, \"dasharray\": \"10,0\", \"color\": \"#808080\", \"id\": \"el11945140492420457528\", \"alpha\": 1, \"data\": \"data03\"}, {\"coordinates\": \"data\", \"linewidth\": 5, \"yindex\": 1, \"xindex\": 0, \"zorder\": 2, \"dasharray\": \"10,0\", \"color\": \"#000000\", \"id\": \"el11945140492420460048\", \"alpha\": 0.5, \"data\": \"data04\"}, {\"coordinates\": \"data\", \"linewidth\": 1.0, \"yindex\": 1, \"xindex\": 0, \"zorder\": 2, \"dasharray\": \"10,0\", \"color\": \"#808080\", \"id\": \"el11945140492420503032\", \"alpha\": 1, \"data\": \"data05\"}, {\"coordinates\": \"data\", \"linewidth\": 5, \"yindex\": 1, \"xindex\": 0, \"zorder\": 2, \"dasharray\": \"10,0\", \"color\": \"#000000\", \"id\": \"el11945140492420504992\", \"alpha\": 0.5, \"data\": \"data06\"}, {\"coordinates\": \"data\", \"linewidth\": 1.0, \"yindex\": 1, \"xindex\": 0, \"zorder\": 2, \"dasharray\": \"10,0\", \"color\": \"#808080\", \"id\": \"el11945140492420527496\", \"alpha\": 1, \"data\": \"data07\"}, {\"coordinates\": \"data\", \"linewidth\": 5, \"yindex\": 1, \"xindex\": 0, \"zorder\": 2, \"dasharray\": \"10,0\", \"color\": \"#000000\", \"id\": \"el11945140492420529456\", \"alpha\": 0.5, \"data\": \"data08\"}], \"xdomain\": [-0.8664272631793841, 1.08]}], \"id\": \"el11945140493386966912\", \"width\": 960.0, \"data\": {\"data09\": [[-0.5303938795948193, 0.8552570052686205], [-0.08956741506264715, -0.8459233992592419], [-0.7864272631793842, -0.950578743995175], [0.40638855783685074, -0.031950153970589174], [1.0, 0.9731952919563855]], \"data07\": [[0.40638855783685074, -0.031950153970589174], [1.0, 0.9731952919563855]], \"data04\": [[0.3319951619019261, -0.15404614076388706], [0.40638855783685074, -0.031950153970589174]], \"data05\": [[0.40638855783685074, -0.031950153970589174], [-0.7864272631793842, -0.950578743995175]], \"data08\": [[0.9109582836755276, 0.8224234750673394], [1.0, 0.9731952919563855]], \"data01\": [[-0.5303938795948193, 0.8552570052686205], [0.40638855783685074, -0.031950153970589174]], \"data03\": [[-0.08956741506264715, -0.8459233992592419], [0.40638855783685074, -0.031950153970589174]], \"data02\": [[0.2658711922221002, 0.10113091991529227], [0.40638855783685074, -0.031950153970589174]], \"data06\": [[-0.607504890026949, -0.8127844554914871], [-0.7864272631793842, -0.950578743995175]]}});\n",
       "   }(mpld3);\n",
       "}else if(typeof define === \"function\" && define.amd){\n",
       "   // require.js is available: use it to load d3/mpld3\n",
       "   require.config({paths: {d3: \"https://mpld3.github.io/js/d3.v3.min\"}});\n",
       "   require([\"d3\"], function(d3){\n",
       "      window.d3 = d3;\n",
       "      mpld3_load_lib(\"https://mpld3.github.io/js/mpld3.v0.2.js\", function(){\n",
       "         \n",
       "    mpld3.register_plugin(\"htmltooltip\", HtmlTooltipPlugin);\n",
       "    HtmlTooltipPlugin.prototype = Object.create(mpld3.Plugin.prototype);\n",
       "    HtmlTooltipPlugin.prototype.constructor = HtmlTooltipPlugin;\n",
       "    HtmlTooltipPlugin.prototype.requiredProps = [\"id\"];\n",
       "    HtmlTooltipPlugin.prototype.defaultProps = {labels:null, hoffset:0, voffset:10};\n",
       "    function HtmlTooltipPlugin(fig, props){\n",
       "        mpld3.Plugin.call(this, fig, props);\n",
       "    };\n",
       "\n",
       "    HtmlTooltipPlugin.prototype.draw = function(){\n",
       "       var obj = mpld3.get_element(this.props.id);\n",
       "       var labels = this.props.labels;\n",
       "       var tooltip = d3.select(\"body\").append(\"div\")\n",
       "                    .attr(\"class\", \"mpld3-tooltip\")\n",
       "                    .style(\"position\", \"absolute\")\n",
       "                    .style(\"z-index\", \"10\")\n",
       "                    .style(\"visibility\", \"hidden\");\n",
       "\n",
       "       obj.elements()\n",
       "           .on(\"mouseover\", function(d, i){\n",
       "                              tooltip.html(labels[i])\n",
       "                                     .style(\"visibility\", \"visible\");})\n",
       "           .on(\"mousemove\", function(d, i){\n",
       "                    tooltip\n",
       "                      .style(\"top\", d3.event.pageY + this.props.voffset + \"px\")\n",
       "                      .style(\"left\",d3.event.pageX + this.props.hoffset + \"px\");\n",
       "                 }.bind(this))\n",
       "           .on(\"mouseout\",  function(d, i){\n",
       "                           tooltip.style(\"visibility\", \"hidden\");});\n",
       "    };\n",
       "    \n",
       "         mpld3.draw_figure(\"fig_el119451404933869669129069227924\", {\"height\": 640.0, \"plugins\": [{\"type\": \"reset\"}, {\"enabled\": false, \"type\": \"zoom\", \"button\": true}, {\"enabled\": false, \"type\": \"boxzoom\", \"button\": true}, {\"labels\": [\"<table border=\\\"1\\\" cellpadding=\\\"4\\\" cellspacing=\\\"0\\\" bordercolor=\\\"#000000\\\">\\n<tr bgcolor=\\\"#AAAAAA\\\">\\n<th align=\\\"center\\\">Burglary</th>\\n<th align=\\\"center\\\">Prob.</th>\\n</tr>\\n<tr>\\n<td bgcolor=#FFFFFF>True</td>\\n<td bgcolor=#f6b5b1>0.010</td>\\n</tr>\\n<tr>\\n<td bgcolor=#FFFFFF>False</td>\\n<td bgcolor=#f2f0f1>0.990</td>\\n</tr>\\n</table>\", \"<table border=\\\"1\\\" cellpadding=\\\"4\\\" cellspacing=\\\"0\\\" bordercolor=\\\"#000000\\\">\\n<tr bgcolor=\\\"#AAAAAA\\\">\\n<th align=\\\"center\\\">Earthquake</th>\\n<th align=\\\"center\\\">Prob.</th>\\n</tr>\\n<tr>\\n<td bgcolor=#FFFFFF>True</td>\\n<td bgcolor=#efb7b6>0.020</td>\\n</tr>\\n<tr>\\n<td bgcolor=#FFFFFF>False</td>\\n<td bgcolor=#f3eef1>0.980</td>\\n</tr>\\n</table>\", \"<table border=\\\"1\\\" cellpadding=\\\"4\\\" cellspacing=\\\"0\\\" bordercolor=\\\"#000000\\\">\\n<tr bgcolor=\\\"#AAAAAA\\\">\\n<th align=\\\"center\\\">Alarm</th>\\n<th align=\\\"center\\\">MaryCalls</th>\\n<th align=\\\"center\\\">Prob.</th>\\n</tr>\\n<tr>\\n<td bgcolor=#FFFFFF>True</td>\\n<td bgcolor=#FFFFFF>True</td>\\n<td bgcolor=#eee6c2>0.700</td>\\n</tr>\\n<tr>\\n<td bgcolor=#FFFFFF>True</td>\\n<td bgcolor=#FFFFFF>False</td>\\n<td bgcolor=#d2ded0>0.300</td>\\n</tr>\\n<tr>\\n<td bgcolor=#FFFFFF>False</td>\\n<td bgcolor=#FFFFFF>True</td>\\n<td bgcolor=#f6b5b1>0.010</td>\\n</tr>\\n<tr>\\n<td bgcolor=#FFFFFF>False</td>\\n<td bgcolor=#FFFFFF>False</td>\\n<td bgcolor=#f2f0f1>0.990</td>\\n</tr>\\n</table>\", \"<table border=\\\"1\\\" cellpadding=\\\"4\\\" cellspacing=\\\"0\\\" bordercolor=\\\"#000000\\\">\\n<tr bgcolor=\\\"#AAAAAA\\\">\\n<th align=\\\"center\\\">Burglary</th>\\n<th align=\\\"center\\\">Earthquake</th>\\n<th align=\\\"center\\\">Alarm</th>\\n<th align=\\\"center\\\">Prob.</th>\\n</tr>\\n<tr>\\n<td bgcolor=#FFFFFF>True</td>\\n<td bgcolor=#FFFFFF>True</td>\\n<td bgcolor=#FFFFFF>True</td>\\n<td bgcolor=#f6e8ef>0.950</td>\\n</tr>\\n<tr>\\n<td bgcolor=#FFFFFF>True</td>\\n<td bgcolor=#FFFFFF>True</td>\\n<td bgcolor=#FFFFFF>False</td>\\n<td bgcolor=#dfbdc1>0.050</td>\\n</tr>\\n<tr>\\n<td bgcolor=#FFFFFF>True</td>\\n<td bgcolor=#FFFFFF>False</td>\\n<td bgcolor=#FFFFFF>True</td>\\n<td bgcolor=#f7e6ef>0.940</td>\\n</tr>\\n<tr>\\n<td bgcolor=#FFFFFF>True</td>\\n<td bgcolor=#FFFFFF>False</td>\\n<td bgcolor=#FFFFFF>False</td>\\n<td bgcolor=#d9bfc6>0.060</td>\\n</tr>\\n<tr>\\n<td bgcolor=#FFFFFF>False</td>\\n<td bgcolor=#FFFFFF>True</td>\\n<td bgcolor=#FFFFFF>True</td>\\n<td bgcolor=#d1e0ce>0.290</td>\\n</tr>\\n<tr>\\n<td bgcolor=#FFFFFF>False</td>\\n<td bgcolor=#FFFFFF>True</td>\\n<td bgcolor=#FFFFFF>False</td>\\n<td bgcolor=#ede4c1>0.710</td>\\n</tr>\\n<tr>\\n<td bgcolor=#FFFFFF>False</td>\\n<td bgcolor=#FFFFFF>False</td>\\n<td bgcolor=#FFFFFF>True</td>\\n<td bgcolor=#fbb4ae>0.001</td>\\n</tr>\\n<tr>\\n<td bgcolor=#FFFFFF>False</td>\\n<td bgcolor=#FFFFFF>False</td>\\n<td bgcolor=#FFFFFF>False</td>\\n<td bgcolor=#f2f2f2>0.999</td>\\n</tr>\\n</table>\", \"<table border=\\\"1\\\" cellpadding=\\\"4\\\" cellspacing=\\\"0\\\" bordercolor=\\\"#000000\\\">\\n<tr bgcolor=\\\"#AAAAAA\\\">\\n<th align=\\\"center\\\">Alarm</th>\\n<th align=\\\"center\\\">JohnCalls</th>\\n<th align=\\\"center\\\">Prob.</th>\\n</tr>\\n<tr>\\n<td bgcolor=#FFFFFF>True</td>\\n<td bgcolor=#FFFFFF>True</td>\\n<td bgcolor=#fadfed>0.900</td>\\n</tr>\\n<tr>\\n<td bgcolor=#FFFFFF>True</td>\\n<td bgcolor=#FFFFFF>False</td>\\n<td bgcolor=#c2c7d7>0.100</td>\\n</tr>\\n<tr>\\n<td bgcolor=#FFFFFF>False</td>\\n<td bgcolor=#FFFFFF>True</td>\\n<td bgcolor=#dfbdc1>0.050</td>\\n</tr>\\n<tr>\\n<td bgcolor=#FFFFFF>False</td>\\n<td bgcolor=#FFFFFF>False</td>\\n<td bgcolor=#f6e8ef>0.950</td>\\n</tr>\\n</table>\"], \"type\": \"htmltooltip\", \"voffset\": 10, \"id\": \"el11945140492420549936pts\", \"hoffset\": 10}], \"axes\": [{\"bbox\": [0.125, 0.125, 0.775, 0.775], \"sharey\": [], \"zoomable\": true, \"collections\": [], \"markers\": [{\"coordinates\": \"data\", \"edgecolor\": \"#000000\", \"yindex\": 1, \"xindex\": 0, \"alpha\": 1.0, \"zorder\": 2, \"markerpath\": [[[0.0, 10.0], [2.652031, 10.0], [5.195798707848534, 8.946336915882418], [7.0710678118654755, 7.0710678118654755], [8.946336915882418, 5.195798707848534], [10.0, 2.652031], [10.0, 0.0], [10.0, -2.652031], [8.946336915882418, -5.195798707848534], [7.0710678118654755, -7.0710678118654755], [5.195798707848534, -8.946336915882418], [2.652031, -10.0], [0.0, -10.0], [-2.652031, -10.0], [-5.195798707848534, -8.946336915882418], [-7.0710678118654755, -7.0710678118654755], [-8.946336915882418, -5.195798707848534], [-10.0, -2.652031], [-10.0, 0.0], [-10.0, 2.652031], [-8.946336915882418, 5.195798707848534], [-7.0710678118654755, 7.0710678118654755], [-5.195798707848534, 8.946336915882418], [-2.652031, 10.0], [0.0, 10.0]], [\"M\", \"C\", \"C\", \"C\", \"C\", \"C\", \"C\", \"C\", \"C\", \"Z\"]], \"id\": \"el11945140493552247752pts\", \"edgewidth\": 1, \"facecolor\": \"#D3D3D3\", \"data\": \"data09\"}, {\"coordinates\": \"data\", \"edgecolor\": \"#000000\", \"yindex\": 1, \"xindex\": 0, \"alpha\": 0.0, \"zorder\": 2, \"markerpath\": [[[0.0, 20.0], [5.304062, 20.0], [10.391597415697069, 17.892673831764835], [14.142135623730951, 14.142135623730951], [17.892673831764835, 10.391597415697069], [20.0, 5.304062], [20.0, 0.0], [20.0, -5.304062], [17.892673831764835, -10.391597415697069], [14.142135623730951, -14.142135623730951], [10.391597415697069, -17.892673831764835], [5.304062, -20.0], [0.0, -20.0], [-5.304062, -20.0], [-10.391597415697069, -17.892673831764835], [-14.142135623730951, -14.142135623730951], [-17.892673831764835, -10.391597415697069], [-20.0, -5.304062], [-20.0, 0.0], [-20.0, 5.304062], [-17.892673831764835, 10.391597415697069], [-14.142135623730951, 14.142135623730951], [-10.391597415697069, 17.892673831764835], [-5.304062, 20.0], [0.0, 20.0]], [\"M\", \"C\", \"C\", \"C\", \"C\", \"C\", \"C\", \"C\", \"C\", \"Z\"]], \"id\": \"el11945140492420549936pts\", \"edgewidth\": 1, \"facecolor\": \"#D3D3D3\", \"data\": \"data09\"}], \"paths\": [], \"xlim\": [-0.8664272631793841, 1.08], \"texts\": [{\"id\": \"el11945140492420579848\", \"zorder\": 3, \"h_anchor\": \"middle\", \"color\": \"#000000\", \"fontsize\": 10.0, \"coordinates\": \"data\", \"text\": \"Burglary\", \"rotation\": -0.0, \"position\": [-0.5303938795948193, 0.8552570052686205], \"v_baseline\": \"central\", \"alpha\": 1}, {\"id\": \"el11945140492420581360\", \"zorder\": 3, \"h_anchor\": \"middle\", \"color\": \"#000000\", \"fontsize\": 10.0, \"coordinates\": \"data\", \"text\": \"Earthquake\", \"rotation\": -0.0, \"position\": [-0.08956741506264715, -0.8459233992592419], \"v_baseline\": \"central\", \"alpha\": 1}, {\"id\": \"el11945140492420582704\", \"zorder\": 3, \"h_anchor\": \"middle\", \"color\": \"#000000\", \"fontsize\": 10.0, \"coordinates\": \"data\", \"text\": \"MaryCalls\", \"rotation\": -0.0, \"position\": [-0.7864272631793842, -0.950578743995175], \"v_baseline\": \"central\", \"alpha\": 1}, {\"id\": \"el11945140492420600496\", \"zorder\": 3, \"h_anchor\": \"middle\", \"color\": \"#000000\", \"fontsize\": 10.0, \"coordinates\": \"data\", \"text\": \"Alarm\", \"rotation\": -0.0, \"position\": [0.40638855783685074, -0.031950153970589174], \"v_baseline\": \"central\", \"alpha\": 1}, {\"id\": \"el11945140492420601840\", \"zorder\": 3, \"h_anchor\": \"middle\", \"color\": \"#000000\", \"fontsize\": 10.0, \"coordinates\": \"data\", \"text\": \"JohnCalls\", \"rotation\": -0.0, \"position\": [1.0, 0.9731952919563855], \"v_baseline\": \"central\", \"alpha\": 1}], \"yscale\": \"linear\", \"images\": [], \"ylim\": [-1.030578743995175, 1.0531952919563856], \"axesbg\": \"#FFFFFF\", \"id\": \"el11945140492421031360\", \"axes\": [{\"tickformat\": null, \"grid\": {\"gridOn\": false}, \"tickvalues\": null, \"position\": \"bottom\", \"fontsize\": 10.0, \"nticks\": 6, \"scale\": \"linear\"}, {\"tickformat\": null, \"grid\": {\"gridOn\": false}, \"tickvalues\": null, \"position\": \"left\", \"fontsize\": 10.0, \"nticks\": 7, \"scale\": \"linear\"}], \"xscale\": \"linear\", \"ydomain\": [-1.030578743995175, 1.0531952919563856], \"axesbgalpha\": null, \"sharex\": [], \"lines\": [{\"coordinates\": \"data\", \"linewidth\": 1.0, \"yindex\": 1, \"xindex\": 0, \"zorder\": 2, \"dasharray\": \"10,0\", \"color\": \"#808080\", \"id\": \"el11945140492420913528\", \"alpha\": 1, \"data\": \"data01\"}, {\"coordinates\": \"data\", \"linewidth\": 5, \"yindex\": 1, \"xindex\": 0, \"zorder\": 2, \"dasharray\": \"10,0\", \"color\": \"#000000\", \"id\": \"el11945140492420914424\", \"alpha\": 0.5, \"data\": \"data02\"}, {\"coordinates\": \"data\", \"linewidth\": 1.0, \"yindex\": 1, \"xindex\": 0, \"zorder\": 2, \"dasharray\": \"10,0\", \"color\": \"#808080\", \"id\": \"el11945140492420457528\", \"alpha\": 1, \"data\": \"data03\"}, {\"coordinates\": \"data\", \"linewidth\": 5, \"yindex\": 1, \"xindex\": 0, \"zorder\": 2, \"dasharray\": \"10,0\", \"color\": \"#000000\", \"id\": \"el11945140492420460048\", \"alpha\": 0.5, \"data\": \"data04\"}, {\"coordinates\": \"data\", \"linewidth\": 1.0, \"yindex\": 1, \"xindex\": 0, \"zorder\": 2, \"dasharray\": \"10,0\", \"color\": \"#808080\", \"id\": \"el11945140492420503032\", \"alpha\": 1, \"data\": \"data05\"}, {\"coordinates\": \"data\", \"linewidth\": 5, \"yindex\": 1, \"xindex\": 0, \"zorder\": 2, \"dasharray\": \"10,0\", \"color\": \"#000000\", \"id\": \"el11945140492420504992\", \"alpha\": 0.5, \"data\": \"data06\"}, {\"coordinates\": \"data\", \"linewidth\": 1.0, \"yindex\": 1, \"xindex\": 0, \"zorder\": 2, \"dasharray\": \"10,0\", \"color\": \"#808080\", \"id\": \"el11945140492420527496\", \"alpha\": 1, \"data\": \"data07\"}, {\"coordinates\": \"data\", \"linewidth\": 5, \"yindex\": 1, \"xindex\": 0, \"zorder\": 2, \"dasharray\": \"10,0\", \"color\": \"#000000\", \"id\": \"el11945140492420529456\", \"alpha\": 0.5, \"data\": \"data08\"}], \"xdomain\": [-0.8664272631793841, 1.08]}], \"id\": \"el11945140493386966912\", \"width\": 960.0, \"data\": {\"data09\": [[-0.5303938795948193, 0.8552570052686205], [-0.08956741506264715, -0.8459233992592419], [-0.7864272631793842, -0.950578743995175], [0.40638855783685074, -0.031950153970589174], [1.0, 0.9731952919563855]], \"data07\": [[0.40638855783685074, -0.031950153970589174], [1.0, 0.9731952919563855]], \"data04\": [[0.3319951619019261, -0.15404614076388706], [0.40638855783685074, -0.031950153970589174]], \"data05\": [[0.40638855783685074, -0.031950153970589174], [-0.7864272631793842, -0.950578743995175]], \"data08\": [[0.9109582836755276, 0.8224234750673394], [1.0, 0.9731952919563855]], \"data01\": [[-0.5303938795948193, 0.8552570052686205], [0.40638855783685074, -0.031950153970589174]], \"data03\": [[-0.08956741506264715, -0.8459233992592419], [0.40638855783685074, -0.031950153970589174]], \"data02\": [[0.2658711922221002, 0.10113091991529227], [0.40638855783685074, -0.031950153970589174]], \"data06\": [[-0.607504890026949, -0.8127844554914871], [-0.7864272631793842, -0.950578743995175]]}});\n",
       "      });\n",
       "    });\n",
       "}else{\n",
       "    // require.js not available: dynamically load d3 & mpld3\n",
       "    mpld3_load_lib(\"https://mpld3.github.io/js/d3.v3.min.js\", function(){\n",
       "         mpld3_load_lib(\"https://mpld3.github.io/js/mpld3.v0.2.js\", function(){\n",
       "                 \n",
       "    mpld3.register_plugin(\"htmltooltip\", HtmlTooltipPlugin);\n",
       "    HtmlTooltipPlugin.prototype = Object.create(mpld3.Plugin.prototype);\n",
       "    HtmlTooltipPlugin.prototype.constructor = HtmlTooltipPlugin;\n",
       "    HtmlTooltipPlugin.prototype.requiredProps = [\"id\"];\n",
       "    HtmlTooltipPlugin.prototype.defaultProps = {labels:null, hoffset:0, voffset:10};\n",
       "    function HtmlTooltipPlugin(fig, props){\n",
       "        mpld3.Plugin.call(this, fig, props);\n",
       "    };\n",
       "\n",
       "    HtmlTooltipPlugin.prototype.draw = function(){\n",
       "       var obj = mpld3.get_element(this.props.id);\n",
       "       var labels = this.props.labels;\n",
       "       var tooltip = d3.select(\"body\").append(\"div\")\n",
       "                    .attr(\"class\", \"mpld3-tooltip\")\n",
       "                    .style(\"position\", \"absolute\")\n",
       "                    .style(\"z-index\", \"10\")\n",
       "                    .style(\"visibility\", \"hidden\");\n",
       "\n",
       "       obj.elements()\n",
       "           .on(\"mouseover\", function(d, i){\n",
       "                              tooltip.html(labels[i])\n",
       "                                     .style(\"visibility\", \"visible\");})\n",
       "           .on(\"mousemove\", function(d, i){\n",
       "                    tooltip\n",
       "                      .style(\"top\", d3.event.pageY + this.props.voffset + \"px\")\n",
       "                      .style(\"left\",d3.event.pageX + this.props.hoffset + \"px\");\n",
       "                 }.bind(this))\n",
       "           .on(\"mouseout\",  function(d, i){\n",
       "                           tooltip.style(\"visibility\", \"hidden\");});\n",
       "    };\n",
       "    \n",
       "                 mpld3.draw_figure(\"fig_el119451404933869669129069227924\", {\"height\": 640.0, \"plugins\": [{\"type\": \"reset\"}, {\"enabled\": false, \"type\": \"zoom\", \"button\": true}, {\"enabled\": false, \"type\": \"boxzoom\", \"button\": true}, {\"labels\": [\"<table border=\\\"1\\\" cellpadding=\\\"4\\\" cellspacing=\\\"0\\\" bordercolor=\\\"#000000\\\">\\n<tr bgcolor=\\\"#AAAAAA\\\">\\n<th align=\\\"center\\\">Burglary</th>\\n<th align=\\\"center\\\">Prob.</th>\\n</tr>\\n<tr>\\n<td bgcolor=#FFFFFF>True</td>\\n<td bgcolor=#f6b5b1>0.010</td>\\n</tr>\\n<tr>\\n<td bgcolor=#FFFFFF>False</td>\\n<td bgcolor=#f2f0f1>0.990</td>\\n</tr>\\n</table>\", \"<table border=\\\"1\\\" cellpadding=\\\"4\\\" cellspacing=\\\"0\\\" bordercolor=\\\"#000000\\\">\\n<tr bgcolor=\\\"#AAAAAA\\\">\\n<th align=\\\"center\\\">Earthquake</th>\\n<th align=\\\"center\\\">Prob.</th>\\n</tr>\\n<tr>\\n<td bgcolor=#FFFFFF>True</td>\\n<td bgcolor=#efb7b6>0.020</td>\\n</tr>\\n<tr>\\n<td bgcolor=#FFFFFF>False</td>\\n<td bgcolor=#f3eef1>0.980</td>\\n</tr>\\n</table>\", \"<table border=\\\"1\\\" cellpadding=\\\"4\\\" cellspacing=\\\"0\\\" bordercolor=\\\"#000000\\\">\\n<tr bgcolor=\\\"#AAAAAA\\\">\\n<th align=\\\"center\\\">Alarm</th>\\n<th align=\\\"center\\\">MaryCalls</th>\\n<th align=\\\"center\\\">Prob.</th>\\n</tr>\\n<tr>\\n<td bgcolor=#FFFFFF>True</td>\\n<td bgcolor=#FFFFFF>True</td>\\n<td bgcolor=#eee6c2>0.700</td>\\n</tr>\\n<tr>\\n<td bgcolor=#FFFFFF>True</td>\\n<td bgcolor=#FFFFFF>False</td>\\n<td bgcolor=#d2ded0>0.300</td>\\n</tr>\\n<tr>\\n<td bgcolor=#FFFFFF>False</td>\\n<td bgcolor=#FFFFFF>True</td>\\n<td bgcolor=#f6b5b1>0.010</td>\\n</tr>\\n<tr>\\n<td bgcolor=#FFFFFF>False</td>\\n<td bgcolor=#FFFFFF>False</td>\\n<td bgcolor=#f2f0f1>0.990</td>\\n</tr>\\n</table>\", \"<table border=\\\"1\\\" cellpadding=\\\"4\\\" cellspacing=\\\"0\\\" bordercolor=\\\"#000000\\\">\\n<tr bgcolor=\\\"#AAAAAA\\\">\\n<th align=\\\"center\\\">Burglary</th>\\n<th align=\\\"center\\\">Earthquake</th>\\n<th align=\\\"center\\\">Alarm</th>\\n<th align=\\\"center\\\">Prob.</th>\\n</tr>\\n<tr>\\n<td bgcolor=#FFFFFF>True</td>\\n<td bgcolor=#FFFFFF>True</td>\\n<td bgcolor=#FFFFFF>True</td>\\n<td bgcolor=#f6e8ef>0.950</td>\\n</tr>\\n<tr>\\n<td bgcolor=#FFFFFF>True</td>\\n<td bgcolor=#FFFFFF>True</td>\\n<td bgcolor=#FFFFFF>False</td>\\n<td bgcolor=#dfbdc1>0.050</td>\\n</tr>\\n<tr>\\n<td bgcolor=#FFFFFF>True</td>\\n<td bgcolor=#FFFFFF>False</td>\\n<td bgcolor=#FFFFFF>True</td>\\n<td bgcolor=#f7e6ef>0.940</td>\\n</tr>\\n<tr>\\n<td bgcolor=#FFFFFF>True</td>\\n<td bgcolor=#FFFFFF>False</td>\\n<td bgcolor=#FFFFFF>False</td>\\n<td bgcolor=#d9bfc6>0.060</td>\\n</tr>\\n<tr>\\n<td bgcolor=#FFFFFF>False</td>\\n<td bgcolor=#FFFFFF>True</td>\\n<td bgcolor=#FFFFFF>True</td>\\n<td bgcolor=#d1e0ce>0.290</td>\\n</tr>\\n<tr>\\n<td bgcolor=#FFFFFF>False</td>\\n<td bgcolor=#FFFFFF>True</td>\\n<td bgcolor=#FFFFFF>False</td>\\n<td bgcolor=#ede4c1>0.710</td>\\n</tr>\\n<tr>\\n<td bgcolor=#FFFFFF>False</td>\\n<td bgcolor=#FFFFFF>False</td>\\n<td bgcolor=#FFFFFF>True</td>\\n<td bgcolor=#fbb4ae>0.001</td>\\n</tr>\\n<tr>\\n<td bgcolor=#FFFFFF>False</td>\\n<td bgcolor=#FFFFFF>False</td>\\n<td bgcolor=#FFFFFF>False</td>\\n<td bgcolor=#f2f2f2>0.999</td>\\n</tr>\\n</table>\", \"<table border=\\\"1\\\" cellpadding=\\\"4\\\" cellspacing=\\\"0\\\" bordercolor=\\\"#000000\\\">\\n<tr bgcolor=\\\"#AAAAAA\\\">\\n<th align=\\\"center\\\">Alarm</th>\\n<th align=\\\"center\\\">JohnCalls</th>\\n<th align=\\\"center\\\">Prob.</th>\\n</tr>\\n<tr>\\n<td bgcolor=#FFFFFF>True</td>\\n<td bgcolor=#FFFFFF>True</td>\\n<td bgcolor=#fadfed>0.900</td>\\n</tr>\\n<tr>\\n<td bgcolor=#FFFFFF>True</td>\\n<td bgcolor=#FFFFFF>False</td>\\n<td bgcolor=#c2c7d7>0.100</td>\\n</tr>\\n<tr>\\n<td bgcolor=#FFFFFF>False</td>\\n<td bgcolor=#FFFFFF>True</td>\\n<td bgcolor=#dfbdc1>0.050</td>\\n</tr>\\n<tr>\\n<td bgcolor=#FFFFFF>False</td>\\n<td bgcolor=#FFFFFF>False</td>\\n<td bgcolor=#f6e8ef>0.950</td>\\n</tr>\\n</table>\"], \"type\": \"htmltooltip\", \"voffset\": 10, \"id\": \"el11945140492420549936pts\", \"hoffset\": 10}], \"axes\": [{\"bbox\": [0.125, 0.125, 0.775, 0.775], \"sharey\": [], \"zoomable\": true, \"collections\": [], \"markers\": [{\"coordinates\": \"data\", \"edgecolor\": \"#000000\", \"yindex\": 1, \"xindex\": 0, \"alpha\": 1.0, \"zorder\": 2, \"markerpath\": [[[0.0, 10.0], [2.652031, 10.0], [5.195798707848534, 8.946336915882418], [7.0710678118654755, 7.0710678118654755], [8.946336915882418, 5.195798707848534], [10.0, 2.652031], [10.0, 0.0], [10.0, -2.652031], [8.946336915882418, -5.195798707848534], [7.0710678118654755, -7.0710678118654755], [5.195798707848534, -8.946336915882418], [2.652031, -10.0], [0.0, -10.0], [-2.652031, -10.0], [-5.195798707848534, -8.946336915882418], [-7.0710678118654755, -7.0710678118654755], [-8.946336915882418, -5.195798707848534], [-10.0, -2.652031], [-10.0, 0.0], [-10.0, 2.652031], [-8.946336915882418, 5.195798707848534], [-7.0710678118654755, 7.0710678118654755], [-5.195798707848534, 8.946336915882418], [-2.652031, 10.0], [0.0, 10.0]], [\"M\", \"C\", \"C\", \"C\", \"C\", \"C\", \"C\", \"C\", \"C\", \"Z\"]], \"id\": \"el11945140493552247752pts\", \"edgewidth\": 1, \"facecolor\": \"#D3D3D3\", \"data\": \"data09\"}, {\"coordinates\": \"data\", \"edgecolor\": \"#000000\", \"yindex\": 1, \"xindex\": 0, \"alpha\": 0.0, \"zorder\": 2, \"markerpath\": [[[0.0, 20.0], [5.304062, 20.0], [10.391597415697069, 17.892673831764835], [14.142135623730951, 14.142135623730951], [17.892673831764835, 10.391597415697069], [20.0, 5.304062], [20.0, 0.0], [20.0, -5.304062], [17.892673831764835, -10.391597415697069], [14.142135623730951, -14.142135623730951], [10.391597415697069, -17.892673831764835], [5.304062, -20.0], [0.0, -20.0], [-5.304062, -20.0], [-10.391597415697069, -17.892673831764835], [-14.142135623730951, -14.142135623730951], [-17.892673831764835, -10.391597415697069], [-20.0, -5.304062], [-20.0, 0.0], [-20.0, 5.304062], [-17.892673831764835, 10.391597415697069], [-14.142135623730951, 14.142135623730951], [-10.391597415697069, 17.892673831764835], [-5.304062, 20.0], [0.0, 20.0]], [\"M\", \"C\", \"C\", \"C\", \"C\", \"C\", \"C\", \"C\", \"C\", \"Z\"]], \"id\": \"el11945140492420549936pts\", \"edgewidth\": 1, \"facecolor\": \"#D3D3D3\", \"data\": \"data09\"}], \"paths\": [], \"xlim\": [-0.8664272631793841, 1.08], \"texts\": [{\"id\": \"el11945140492420579848\", \"zorder\": 3, \"h_anchor\": \"middle\", \"color\": \"#000000\", \"fontsize\": 10.0, \"coordinates\": \"data\", \"text\": \"Burglary\", \"rotation\": -0.0, \"position\": [-0.5303938795948193, 0.8552570052686205], \"v_baseline\": \"central\", \"alpha\": 1}, {\"id\": \"el11945140492420581360\", \"zorder\": 3, \"h_anchor\": \"middle\", \"color\": \"#000000\", \"fontsize\": 10.0, \"coordinates\": \"data\", \"text\": \"Earthquake\", \"rotation\": -0.0, \"position\": [-0.08956741506264715, -0.8459233992592419], \"v_baseline\": \"central\", \"alpha\": 1}, {\"id\": \"el11945140492420582704\", \"zorder\": 3, \"h_anchor\": \"middle\", \"color\": \"#000000\", \"fontsize\": 10.0, \"coordinates\": \"data\", \"text\": \"MaryCalls\", \"rotation\": -0.0, \"position\": [-0.7864272631793842, -0.950578743995175], \"v_baseline\": \"central\", \"alpha\": 1}, {\"id\": \"el11945140492420600496\", \"zorder\": 3, \"h_anchor\": \"middle\", \"color\": \"#000000\", \"fontsize\": 10.0, \"coordinates\": \"data\", \"text\": \"Alarm\", \"rotation\": -0.0, \"position\": [0.40638855783685074, -0.031950153970589174], \"v_baseline\": \"central\", \"alpha\": 1}, {\"id\": \"el11945140492420601840\", \"zorder\": 3, \"h_anchor\": \"middle\", \"color\": \"#000000\", \"fontsize\": 10.0, \"coordinates\": \"data\", \"text\": \"JohnCalls\", \"rotation\": -0.0, \"position\": [1.0, 0.9731952919563855], \"v_baseline\": \"central\", \"alpha\": 1}], \"yscale\": \"linear\", \"images\": [], \"ylim\": [-1.030578743995175, 1.0531952919563856], \"axesbg\": \"#FFFFFF\", \"id\": \"el11945140492421031360\", \"axes\": [{\"tickformat\": null, \"grid\": {\"gridOn\": false}, \"tickvalues\": null, \"position\": \"bottom\", \"fontsize\": 10.0, \"nticks\": 6, \"scale\": \"linear\"}, {\"tickformat\": null, \"grid\": {\"gridOn\": false}, \"tickvalues\": null, \"position\": \"left\", \"fontsize\": 10.0, \"nticks\": 7, \"scale\": \"linear\"}], \"xscale\": \"linear\", \"ydomain\": [-1.030578743995175, 1.0531952919563856], \"axesbgalpha\": null, \"sharex\": [], \"lines\": [{\"coordinates\": \"data\", \"linewidth\": 1.0, \"yindex\": 1, \"xindex\": 0, \"zorder\": 2, \"dasharray\": \"10,0\", \"color\": \"#808080\", \"id\": \"el11945140492420913528\", \"alpha\": 1, \"data\": \"data01\"}, {\"coordinates\": \"data\", \"linewidth\": 5, \"yindex\": 1, \"xindex\": 0, \"zorder\": 2, \"dasharray\": \"10,0\", \"color\": \"#000000\", \"id\": \"el11945140492420914424\", \"alpha\": 0.5, \"data\": \"data02\"}, {\"coordinates\": \"data\", \"linewidth\": 1.0, \"yindex\": 1, \"xindex\": 0, \"zorder\": 2, \"dasharray\": \"10,0\", \"color\": \"#808080\", \"id\": \"el11945140492420457528\", \"alpha\": 1, \"data\": \"data03\"}, {\"coordinates\": \"data\", \"linewidth\": 5, \"yindex\": 1, \"xindex\": 0, \"zorder\": 2, \"dasharray\": \"10,0\", \"color\": \"#000000\", \"id\": \"el11945140492420460048\", \"alpha\": 0.5, \"data\": \"data04\"}, {\"coordinates\": \"data\", \"linewidth\": 1.0, \"yindex\": 1, \"xindex\": 0, \"zorder\": 2, \"dasharray\": \"10,0\", \"color\": \"#808080\", \"id\": \"el11945140492420503032\", \"alpha\": 1, \"data\": \"data05\"}, {\"coordinates\": \"data\", \"linewidth\": 5, \"yindex\": 1, \"xindex\": 0, \"zorder\": 2, \"dasharray\": \"10,0\", \"color\": \"#000000\", \"id\": \"el11945140492420504992\", \"alpha\": 0.5, \"data\": \"data06\"}, {\"coordinates\": \"data\", \"linewidth\": 1.0, \"yindex\": 1, \"xindex\": 0, \"zorder\": 2, \"dasharray\": \"10,0\", \"color\": \"#808080\", \"id\": \"el11945140492420527496\", \"alpha\": 1, \"data\": \"data07\"}, {\"coordinates\": \"data\", \"linewidth\": 5, \"yindex\": 1, \"xindex\": 0, \"zorder\": 2, \"dasharray\": \"10,0\", \"color\": \"#000000\", \"id\": \"el11945140492420529456\", \"alpha\": 0.5, \"data\": \"data08\"}], \"xdomain\": [-0.8664272631793841, 1.08]}], \"id\": \"el11945140493386966912\", \"width\": 960.0, \"data\": {\"data09\": [[-0.5303938795948193, 0.8552570052686205], [-0.08956741506264715, -0.8459233992592419], [-0.7864272631793842, -0.950578743995175], [0.40638855783685074, -0.031950153970589174], [1.0, 0.9731952919563855]], \"data07\": [[0.40638855783685074, -0.031950153970589174], [1.0, 0.9731952919563855]], \"data04\": [[0.3319951619019261, -0.15404614076388706], [0.40638855783685074, -0.031950153970589174]], \"data05\": [[0.40638855783685074, -0.031950153970589174], [-0.7864272631793842, -0.950578743995175]], \"data08\": [[0.9109582836755276, 0.8224234750673394], [1.0, 0.9731952919563855]], \"data01\": [[-0.5303938795948193, 0.8552570052686205], [0.40638855783685074, -0.031950153970589174]], \"data03\": [[-0.08956741506264715, -0.8459233992592419], [0.40638855783685074, -0.031950153970589174]], \"data02\": [[0.2658711922221002, 0.10113091991529227], [0.40638855783685074, -0.031950153970589174]], \"data06\": [[-0.607504890026949, -0.8127844554914871], [-0.7864272631793842, -0.950578743995175]]}});\n",
       "            })\n",
       "         });\n",
       "}\n",
       "</script>"
      ],
      "text/plain": [
       "<IPython.core.display.HTML object>"
      ]
     },
     "execution_count": 3,
     "metadata": {},
     "output_type": "execute_result"
    }
   ],
   "source": [
    "dgm.draw() # you can move the cursor on a node to see it's CPD"
   ]
  },
  {
   "cell_type": "markdown",
   "metadata": {},
   "source": [
    "`DGM` is a subclass of `networkx.DiGraph`, so you can use any `networkx` functions on it."
   ]
  },
  {
   "cell_type": "code",
   "execution_count": 4,
   "metadata": {
    "collapsed": false
   },
   "outputs": [
    {
     "data": {
      "text/plain": [
       "['Earthquake', 'Alarm', 'MaryCalls']"
      ]
     },
     "execution_count": 4,
     "metadata": {},
     "output_type": "execute_result"
    }
   ],
   "source": [
    "nx.dag_longest_path(dgm)"
   ]
  },
  {
   "cell_type": "code",
   "execution_count": 5,
   "metadata": {
    "collapsed": false
   },
   "outputs": [
    {
     "data": {
      "text/plain": [
       "{'Alarm': 0.0,\n",
       " 'Burglary': 2.0,\n",
       " 'Earthquake': 2.0,\n",
       " 'JohnCalls': 0.0,\n",
       " 'MaryCalls': 0.0}"
      ]
     },
     "execution_count": 5,
     "metadata": {},
     "output_type": "execute_result"
    }
   ],
   "source": [
    "nx.average_neighbor_degree(dgm)"
   ]
  },
  {
   "cell_type": "markdown",
   "metadata": {},
   "source": [
    "Also, some DGM-specific queries about the graph are implemented:"
   ]
  },
  {
   "cell_type": "code",
   "execution_count": 6,
   "metadata": {
    "collapsed": false
   },
   "outputs": [
    {
     "data": {
      "text/plain": [
       "[('Alarm', 'Burglary', 'Earthquake')]"
      ]
     },
     "execution_count": 6,
     "metadata": {},
     "output_type": "execute_result"
    }
   ],
   "source": [
    "list(dgm.immoralities) # list of all immoralities in graph"
   ]
  },
  {
   "cell_type": "code",
   "execution_count": 7,
   "metadata": {
    "collapsed": false
   },
   "outputs": [
    {
     "data": {
      "text/plain": [
       "[('Alarm', 'Burglary', 'Earthquake')]"
      ]
     },
     "execution_count": 7,
     "metadata": {},
     "output_type": "execute_result"
    }
   ],
   "source": [
    "list(dgm.v_structures) # list of all v_structures in graph"
   ]
  },
  {
   "cell_type": "code",
   "execution_count": 8,
   "metadata": {
    "collapsed": false
   },
   "outputs": [
    {
     "data": {
      "text/html": [
       "\n",
       "\n",
       "<style>\n",
       "\n",
       "table\n",
       "{\n",
       "  border-collapse: collapse;\n",
       "}\n",
       "th\n",
       "{\n",
       "  color: #ffffff;\n",
       "  background-color: #000000;\n",
       "}\n",
       "td\n",
       "{\n",
       "  background-color: #cccccc;\n",
       "}\n",
       "table, th, td\n",
       "{\n",
       "  font-family:Arial, Helvetica, sans-serif;\n",
       "  border: 1px solid black;\n",
       "  text-align: center;\n",
       "  padding: 3px;\n",
       "  font-size:11pt;\n",
       "}\n",
       "g.mpld3-xaxis, g.mpld3-yaxis {\n",
       "    display: none;\n",
       "}\n",
       "    \n",
       "</style>\n",
       "\n",
       "<div id=\"fig_el119451404924179345609089725548\"></div>\n",
       "<script>\n",
       "function mpld3_load_lib(url, callback){\n",
       "  var s = document.createElement('script');\n",
       "  s.src = url;\n",
       "  s.async = true;\n",
       "  s.onreadystatechange = s.onload = callback;\n",
       "  s.onerror = function(){console.warn(\"failed to load library \" + url);};\n",
       "  document.getElementsByTagName(\"head\")[0].appendChild(s);\n",
       "}\n",
       "\n",
       "if(typeof(mpld3) !== \"undefined\" && mpld3._mpld3IsLoaded){\n",
       "   // already loaded: just create the figure\n",
       "   !function(mpld3){\n",
       "       \n",
       "    mpld3.register_plugin(\"htmltooltip\", HtmlTooltipPlugin);\n",
       "    HtmlTooltipPlugin.prototype = Object.create(mpld3.Plugin.prototype);\n",
       "    HtmlTooltipPlugin.prototype.constructor = HtmlTooltipPlugin;\n",
       "    HtmlTooltipPlugin.prototype.requiredProps = [\"id\"];\n",
       "    HtmlTooltipPlugin.prototype.defaultProps = {labels:null, hoffset:0, voffset:10};\n",
       "    function HtmlTooltipPlugin(fig, props){\n",
       "        mpld3.Plugin.call(this, fig, props);\n",
       "    };\n",
       "\n",
       "    HtmlTooltipPlugin.prototype.draw = function(){\n",
       "       var obj = mpld3.get_element(this.props.id);\n",
       "       var labels = this.props.labels;\n",
       "       var tooltip = d3.select(\"body\").append(\"div\")\n",
       "                    .attr(\"class\", \"mpld3-tooltip\")\n",
       "                    .style(\"position\", \"absolute\")\n",
       "                    .style(\"z-index\", \"10\")\n",
       "                    .style(\"visibility\", \"hidden\");\n",
       "\n",
       "       obj.elements()\n",
       "           .on(\"mouseover\", function(d, i){\n",
       "                              tooltip.html(labels[i])\n",
       "                                     .style(\"visibility\", \"visible\");})\n",
       "           .on(\"mousemove\", function(d, i){\n",
       "                    tooltip\n",
       "                      .style(\"top\", d3.event.pageY + this.props.voffset + \"px\")\n",
       "                      .style(\"left\",d3.event.pageX + this.props.hoffset + \"px\");\n",
       "                 }.bind(this))\n",
       "           .on(\"mouseout\",  function(d, i){\n",
       "                           tooltip.style(\"visibility\", \"hidden\");});\n",
       "    };\n",
       "    \n",
       "       mpld3.draw_figure(\"fig_el119451404924179345609089725548\", {\"height\": 640.0, \"plugins\": [{\"type\": \"reset\"}, {\"enabled\": false, \"type\": \"zoom\", \"button\": true}, {\"enabled\": false, \"type\": \"boxzoom\", \"button\": true}, {\"labels\": [], \"type\": \"htmltooltip\", \"voffset\": 10, \"id\": \"el11945140492417390016pts\", \"hoffset\": 10}], \"axes\": [{\"bbox\": [0.125, 0.125, 0.775, 0.775], \"sharey\": [], \"zoomable\": true, \"collections\": [], \"markers\": [{\"coordinates\": \"data\", \"edgecolor\": \"#000000\", \"yindex\": 1, \"xindex\": 0, \"alpha\": 1.0, \"zorder\": 2, \"markerpath\": [[[0.0, 10.0], [2.652031, 10.0], [5.195798707848534, 8.946336915882418], [7.0710678118654755, 7.0710678118654755], [8.946336915882418, 5.195798707848534], [10.0, 2.652031], [10.0, 0.0], [10.0, -2.652031], [8.946336915882418, -5.195798707848534], [7.0710678118654755, -7.0710678118654755], [5.195798707848534, -8.946336915882418], [2.652031, -10.0], [0.0, -10.0], [-2.652031, -10.0], [-5.195798707848534, -8.946336915882418], [-7.0710678118654755, -7.0710678118654755], [-8.946336915882418, -5.195798707848534], [-10.0, -2.652031], [-10.0, 0.0], [-10.0, 2.652031], [-8.946336915882418, 5.195798707848534], [-7.0710678118654755, 7.0710678118654755], [-5.195798707848534, 8.946336915882418], [-2.652031, 10.0], [0.0, 10.0]], [\"M\", \"C\", \"C\", \"C\", \"C\", \"C\", \"C\", \"C\", \"C\", \"Z\"]], \"id\": \"el11945140492417270728pts\", \"edgewidth\": 1, \"facecolor\": \"#D3D3D3\", \"data\": \"data11\"}, {\"coordinates\": \"data\", \"edgecolor\": \"#000000\", \"yindex\": 1, \"xindex\": 0, \"alpha\": 0.0, \"zorder\": 2, \"markerpath\": [[[0.0, 20.0], [5.304062, 20.0], [10.391597415697069, 17.892673831764835], [14.142135623730951, 14.142135623730951], [17.892673831764835, 10.391597415697069], [20.0, 5.304062], [20.0, 0.0], [20.0, -5.304062], [17.892673831764835, -10.391597415697069], [14.142135623730951, -14.142135623730951], [10.391597415697069, -17.892673831764835], [5.304062, -20.0], [0.0, -20.0], [-5.304062, -20.0], [-10.391597415697069, -17.892673831764835], [-14.142135623730951, -14.142135623730951], [-17.892673831764835, -10.391597415697069], [-20.0, -5.304062], [-20.0, 0.0], [-20.0, 5.304062], [-17.892673831764835, 10.391597415697069], [-14.142135623730951, 14.142135623730951], [-10.391597415697069, 17.892673831764835], [-5.304062, 20.0], [0.0, 20.0]], [\"M\", \"C\", \"C\", \"C\", \"C\", \"C\", \"C\", \"C\", \"C\", \"Z\"]], \"id\": \"el11945140492417390016pts\", \"edgewidth\": 1, \"facecolor\": \"#D3D3D3\", \"data\": \"data11\"}], \"paths\": [], \"xlim\": [-1.0891640731461238, 1.0799999999999998], \"texts\": [{\"id\": \"el11945140492417391192\", \"zorder\": 3, \"h_anchor\": \"middle\", \"color\": \"#000000\", \"fontsize\": 10.0, \"coordinates\": \"data\", \"text\": \"Burglary\", \"rotation\": -0.0, \"position\": [-1.0091640731461238, -0.6242803507729305], \"v_baseline\": \"central\", \"alpha\": 1}, {\"id\": \"el11945140492417409152\", \"zorder\": 3, \"h_anchor\": \"middle\", \"color\": \"#000000\", \"fontsize\": 10.0, \"coordinates\": \"data\", \"text\": \"Earthquake\", \"rotation\": -0.0, \"position\": [0.9999999999999999, 0.33582554542666004], \"v_baseline\": \"central\", \"alpha\": 1}, {\"id\": \"el11945140492417410496\", \"zorder\": 3, \"h_anchor\": \"middle\", \"color\": \"#000000\", \"fontsize\": 10.0, \"coordinates\": \"data\", \"text\": \"MaryCalls\", \"rotation\": -0.0, \"position\": [-0.44867314120587676, 0.10731493241006118], \"v_baseline\": \"central\", \"alpha\": 1}, {\"id\": \"el11945140492417411840\", \"zorder\": 3, \"h_anchor\": \"middle\", \"color\": \"#000000\", \"fontsize\": 10.0, \"coordinates\": \"data\", \"text\": \"Alarm\", \"rotation\": -0.0, \"position\": [-0.1589697926487102, 0.703550949972403], \"v_baseline\": \"central\", \"alpha\": 1}, {\"id\": \"el11945140492416909440\", \"zorder\": 3, \"h_anchor\": \"middle\", \"color\": \"#000000\", \"fontsize\": 10.0, \"coordinates\": \"data\", \"text\": \"JohnCalls\", \"rotation\": -0.0, \"position\": [0.6168070070007102, -0.5224110770361938], \"v_baseline\": \"central\", \"alpha\": 1}], \"yscale\": \"linear\", \"images\": [], \"ylim\": [-0.7042803507729305, 0.7835509499724029], \"axesbg\": \"#FFFFFF\", \"id\": \"el11945140492417937248\", \"axes\": [{\"tickformat\": null, \"grid\": {\"gridOn\": false}, \"tickvalues\": null, \"position\": \"bottom\", \"fontsize\": 10.0, \"nticks\": 7, \"scale\": \"linear\"}, {\"tickformat\": null, \"grid\": {\"gridOn\": false}, \"tickvalues\": null, \"position\": \"left\", \"fontsize\": 10.0, \"nticks\": 9, \"scale\": \"linear\"}], \"xscale\": \"linear\", \"ydomain\": [-0.7042803507729305, 0.7835509499724029], \"axesbgalpha\": null, \"sharex\": [], \"lines\": [{\"coordinates\": \"data\", \"linewidth\": 1.0, \"yindex\": 1, \"xindex\": 0, \"zorder\": 2, \"dasharray\": \"10,0\", \"color\": \"#808080\", \"id\": \"el11945140492417270784\", \"alpha\": 1, \"data\": \"data01\"}, {\"coordinates\": \"data\", \"linewidth\": 5, \"yindex\": 1, \"xindex\": 0, \"zorder\": 2, \"dasharray\": \"10,0\", \"color\": \"#000000\", \"id\": \"el11945140492417271624\", \"alpha\": 0.5, \"data\": \"data02\"}, {\"coordinates\": \"data\", \"linewidth\": 1.0, \"yindex\": 1, \"xindex\": 0, \"zorder\": 2, \"dasharray\": \"10,0\", \"color\": \"#808080\", \"id\": \"el11945140492417273696\", \"alpha\": 1, \"data\": \"data03\"}, {\"coordinates\": \"data\", \"linewidth\": 5, \"yindex\": 1, \"xindex\": 0, \"zorder\": 2, \"dasharray\": \"10,0\", \"color\": \"#000000\", \"id\": \"el11945140492417300296\", \"alpha\": 0.5, \"data\": \"data04\"}, {\"coordinates\": \"data\", \"linewidth\": 1.0, \"yindex\": 1, \"xindex\": 0, \"zorder\": 2, \"dasharray\": \"10,0\", \"color\": \"#808080\", \"id\": \"el11945140492417302256\", \"alpha\": 1, \"data\": \"data05\"}, {\"coordinates\": \"data\", \"linewidth\": 5, \"yindex\": 1, \"xindex\": 0, \"zorder\": 2, \"dasharray\": \"10,0\", \"color\": \"#000000\", \"id\": \"el11945140492417316568\", \"alpha\": 0.5, \"data\": \"data06\"}, {\"coordinates\": \"data\", \"linewidth\": 1.0, \"yindex\": 1, \"xindex\": 0, \"zorder\": 2, \"dasharray\": \"10,0\", \"color\": \"#808080\", \"id\": \"el11945140492417318528\", \"alpha\": 1, \"data\": \"data07\"}, {\"coordinates\": \"data\", \"linewidth\": 5, \"yindex\": 1, \"xindex\": 0, \"zorder\": 2, \"dasharray\": \"10,0\", \"color\": \"#000000\", \"id\": \"el11945140492417341032\", \"alpha\": 0.5, \"data\": \"data08\"}, {\"coordinates\": \"data\", \"linewidth\": 1.0, \"yindex\": 1, \"xindex\": 0, \"zorder\": 2, \"dasharray\": \"10,0\", \"color\": \"#808080\", \"id\": \"el11945140492417342992\", \"alpha\": 1, \"data\": \"data09\"}, {\"coordinates\": \"data\", \"linewidth\": 5, \"yindex\": 1, \"xindex\": 0, \"zorder\": 2, \"dasharray\": \"10,0\", \"color\": \"#000000\", \"id\": \"el11945140492417369592\", \"alpha\": 0.5, \"data\": \"data10\"}], \"xdomain\": [-1.0891640731461238, 1.0799999999999998]}], \"id\": \"el11945140492417934560\", \"width\": 960.0, \"data\": {\"data11\": [[-1.0091640731461238, -0.6242803507729305], [0.9999999999999999, 0.33582554542666004], [-0.44867314120587676, 0.10731493241006118], [-0.1589697926487102, 0.703550949972403], [0.6168070070007102, -0.5224110770361938]], \"data09\": [[0.6168070070007102, -0.5224110770361938], [-0.44867314120587676, 0.10731493241006118]], \"data07\": [[-0.1589697926487102, 0.703550949972403], [0.6168070070007102, -0.5224110770361938]], \"data04\": [[0.014875676248596315, 0.6483921392905415], [-0.1589697926487102, 0.703550949972403]], \"data05\": [[-0.1589697926487102, 0.703550949972403], [-0.44867314120587676, 0.10731493241006118]], \"data08\": [[0.5004404870532971, -0.33851677298490435], [0.6168070070007102, -0.5224110770361938]], \"data10\": [[-0.2888511189748887, 0.012856030993122936], [-0.44867314120587676, 0.10731493241006118]], \"data01\": [[-1.0091640731461238, -0.6242803507729305], [-0.1589697926487102, 0.703550949972403]], \"data03\": [[0.9999999999999999, 0.33582554542666004], [-0.1589697926487102, 0.703550949972403]], \"data02\": [[-0.2864989347233222, 0.504376254860603], [-0.1589697926487102, 0.703550949972403]], \"data06\": [[-0.4052176389223018, 0.19675033504441244], [-0.44867314120587676, 0.10731493241006118]]}});\n",
       "   }(mpld3);\n",
       "}else if(typeof define === \"function\" && define.amd){\n",
       "   // require.js is available: use it to load d3/mpld3\n",
       "   require.config({paths: {d3: \"https://mpld3.github.io/js/d3.v3.min\"}});\n",
       "   require([\"d3\"], function(d3){\n",
       "      window.d3 = d3;\n",
       "      mpld3_load_lib(\"https://mpld3.github.io/js/mpld3.v0.2.js\", function(){\n",
       "         \n",
       "    mpld3.register_plugin(\"htmltooltip\", HtmlTooltipPlugin);\n",
       "    HtmlTooltipPlugin.prototype = Object.create(mpld3.Plugin.prototype);\n",
       "    HtmlTooltipPlugin.prototype.constructor = HtmlTooltipPlugin;\n",
       "    HtmlTooltipPlugin.prototype.requiredProps = [\"id\"];\n",
       "    HtmlTooltipPlugin.prototype.defaultProps = {labels:null, hoffset:0, voffset:10};\n",
       "    function HtmlTooltipPlugin(fig, props){\n",
       "        mpld3.Plugin.call(this, fig, props);\n",
       "    };\n",
       "\n",
       "    HtmlTooltipPlugin.prototype.draw = function(){\n",
       "       var obj = mpld3.get_element(this.props.id);\n",
       "       var labels = this.props.labels;\n",
       "       var tooltip = d3.select(\"body\").append(\"div\")\n",
       "                    .attr(\"class\", \"mpld3-tooltip\")\n",
       "                    .style(\"position\", \"absolute\")\n",
       "                    .style(\"z-index\", \"10\")\n",
       "                    .style(\"visibility\", \"hidden\");\n",
       "\n",
       "       obj.elements()\n",
       "           .on(\"mouseover\", function(d, i){\n",
       "                              tooltip.html(labels[i])\n",
       "                                     .style(\"visibility\", \"visible\");})\n",
       "           .on(\"mousemove\", function(d, i){\n",
       "                    tooltip\n",
       "                      .style(\"top\", d3.event.pageY + this.props.voffset + \"px\")\n",
       "                      .style(\"left\",d3.event.pageX + this.props.hoffset + \"px\");\n",
       "                 }.bind(this))\n",
       "           .on(\"mouseout\",  function(d, i){\n",
       "                           tooltip.style(\"visibility\", \"hidden\");});\n",
       "    };\n",
       "    \n",
       "         mpld3.draw_figure(\"fig_el119451404924179345609089725548\", {\"height\": 640.0, \"plugins\": [{\"type\": \"reset\"}, {\"enabled\": false, \"type\": \"zoom\", \"button\": true}, {\"enabled\": false, \"type\": \"boxzoom\", \"button\": true}, {\"labels\": [], \"type\": \"htmltooltip\", \"voffset\": 10, \"id\": \"el11945140492417390016pts\", \"hoffset\": 10}], \"axes\": [{\"bbox\": [0.125, 0.125, 0.775, 0.775], \"sharey\": [], \"zoomable\": true, \"collections\": [], \"markers\": [{\"coordinates\": \"data\", \"edgecolor\": \"#000000\", \"yindex\": 1, \"xindex\": 0, \"alpha\": 1.0, \"zorder\": 2, \"markerpath\": [[[0.0, 10.0], [2.652031, 10.0], [5.195798707848534, 8.946336915882418], [7.0710678118654755, 7.0710678118654755], [8.946336915882418, 5.195798707848534], [10.0, 2.652031], [10.0, 0.0], [10.0, -2.652031], [8.946336915882418, -5.195798707848534], [7.0710678118654755, -7.0710678118654755], [5.195798707848534, -8.946336915882418], [2.652031, -10.0], [0.0, -10.0], [-2.652031, -10.0], [-5.195798707848534, -8.946336915882418], [-7.0710678118654755, -7.0710678118654755], [-8.946336915882418, -5.195798707848534], [-10.0, -2.652031], [-10.0, 0.0], [-10.0, 2.652031], [-8.946336915882418, 5.195798707848534], [-7.0710678118654755, 7.0710678118654755], [-5.195798707848534, 8.946336915882418], [-2.652031, 10.0], [0.0, 10.0]], [\"M\", \"C\", \"C\", \"C\", \"C\", \"C\", \"C\", \"C\", \"C\", \"Z\"]], \"id\": \"el11945140492417270728pts\", \"edgewidth\": 1, \"facecolor\": \"#D3D3D3\", \"data\": \"data11\"}, {\"coordinates\": \"data\", \"edgecolor\": \"#000000\", \"yindex\": 1, \"xindex\": 0, \"alpha\": 0.0, \"zorder\": 2, \"markerpath\": [[[0.0, 20.0], [5.304062, 20.0], [10.391597415697069, 17.892673831764835], [14.142135623730951, 14.142135623730951], [17.892673831764835, 10.391597415697069], [20.0, 5.304062], [20.0, 0.0], [20.0, -5.304062], [17.892673831764835, -10.391597415697069], [14.142135623730951, -14.142135623730951], [10.391597415697069, -17.892673831764835], [5.304062, -20.0], [0.0, -20.0], [-5.304062, -20.0], [-10.391597415697069, -17.892673831764835], [-14.142135623730951, -14.142135623730951], [-17.892673831764835, -10.391597415697069], [-20.0, -5.304062], [-20.0, 0.0], [-20.0, 5.304062], [-17.892673831764835, 10.391597415697069], [-14.142135623730951, 14.142135623730951], [-10.391597415697069, 17.892673831764835], [-5.304062, 20.0], [0.0, 20.0]], [\"M\", \"C\", \"C\", \"C\", \"C\", \"C\", \"C\", \"C\", \"C\", \"Z\"]], \"id\": \"el11945140492417390016pts\", \"edgewidth\": 1, \"facecolor\": \"#D3D3D3\", \"data\": \"data11\"}], \"paths\": [], \"xlim\": [-1.0891640731461238, 1.0799999999999998], \"texts\": [{\"id\": \"el11945140492417391192\", \"zorder\": 3, \"h_anchor\": \"middle\", \"color\": \"#000000\", \"fontsize\": 10.0, \"coordinates\": \"data\", \"text\": \"Burglary\", \"rotation\": -0.0, \"position\": [-1.0091640731461238, -0.6242803507729305], \"v_baseline\": \"central\", \"alpha\": 1}, {\"id\": \"el11945140492417409152\", \"zorder\": 3, \"h_anchor\": \"middle\", \"color\": \"#000000\", \"fontsize\": 10.0, \"coordinates\": \"data\", \"text\": \"Earthquake\", \"rotation\": -0.0, \"position\": [0.9999999999999999, 0.33582554542666004], \"v_baseline\": \"central\", \"alpha\": 1}, {\"id\": \"el11945140492417410496\", \"zorder\": 3, \"h_anchor\": \"middle\", \"color\": \"#000000\", \"fontsize\": 10.0, \"coordinates\": \"data\", \"text\": \"MaryCalls\", \"rotation\": -0.0, \"position\": [-0.44867314120587676, 0.10731493241006118], \"v_baseline\": \"central\", \"alpha\": 1}, {\"id\": \"el11945140492417411840\", \"zorder\": 3, \"h_anchor\": \"middle\", \"color\": \"#000000\", \"fontsize\": 10.0, \"coordinates\": \"data\", \"text\": \"Alarm\", \"rotation\": -0.0, \"position\": [-0.1589697926487102, 0.703550949972403], \"v_baseline\": \"central\", \"alpha\": 1}, {\"id\": \"el11945140492416909440\", \"zorder\": 3, \"h_anchor\": \"middle\", \"color\": \"#000000\", \"fontsize\": 10.0, \"coordinates\": \"data\", \"text\": \"JohnCalls\", \"rotation\": -0.0, \"position\": [0.6168070070007102, -0.5224110770361938], \"v_baseline\": \"central\", \"alpha\": 1}], \"yscale\": \"linear\", \"images\": [], \"ylim\": [-0.7042803507729305, 0.7835509499724029], \"axesbg\": \"#FFFFFF\", \"id\": \"el11945140492417937248\", \"axes\": [{\"tickformat\": null, \"grid\": {\"gridOn\": false}, \"tickvalues\": null, \"position\": \"bottom\", \"fontsize\": 10.0, \"nticks\": 7, \"scale\": \"linear\"}, {\"tickformat\": null, \"grid\": {\"gridOn\": false}, \"tickvalues\": null, \"position\": \"left\", \"fontsize\": 10.0, \"nticks\": 9, \"scale\": \"linear\"}], \"xscale\": \"linear\", \"ydomain\": [-0.7042803507729305, 0.7835509499724029], \"axesbgalpha\": null, \"sharex\": [], \"lines\": [{\"coordinates\": \"data\", \"linewidth\": 1.0, \"yindex\": 1, \"xindex\": 0, \"zorder\": 2, \"dasharray\": \"10,0\", \"color\": \"#808080\", \"id\": \"el11945140492417270784\", \"alpha\": 1, \"data\": \"data01\"}, {\"coordinates\": \"data\", \"linewidth\": 5, \"yindex\": 1, \"xindex\": 0, \"zorder\": 2, \"dasharray\": \"10,0\", \"color\": \"#000000\", \"id\": \"el11945140492417271624\", \"alpha\": 0.5, \"data\": \"data02\"}, {\"coordinates\": \"data\", \"linewidth\": 1.0, \"yindex\": 1, \"xindex\": 0, \"zorder\": 2, \"dasharray\": \"10,0\", \"color\": \"#808080\", \"id\": \"el11945140492417273696\", \"alpha\": 1, \"data\": \"data03\"}, {\"coordinates\": \"data\", \"linewidth\": 5, \"yindex\": 1, \"xindex\": 0, \"zorder\": 2, \"dasharray\": \"10,0\", \"color\": \"#000000\", \"id\": \"el11945140492417300296\", \"alpha\": 0.5, \"data\": \"data04\"}, {\"coordinates\": \"data\", \"linewidth\": 1.0, \"yindex\": 1, \"xindex\": 0, \"zorder\": 2, \"dasharray\": \"10,0\", \"color\": \"#808080\", \"id\": \"el11945140492417302256\", \"alpha\": 1, \"data\": \"data05\"}, {\"coordinates\": \"data\", \"linewidth\": 5, \"yindex\": 1, \"xindex\": 0, \"zorder\": 2, \"dasharray\": \"10,0\", \"color\": \"#000000\", \"id\": \"el11945140492417316568\", \"alpha\": 0.5, \"data\": \"data06\"}, {\"coordinates\": \"data\", \"linewidth\": 1.0, \"yindex\": 1, \"xindex\": 0, \"zorder\": 2, \"dasharray\": \"10,0\", \"color\": \"#808080\", \"id\": \"el11945140492417318528\", \"alpha\": 1, \"data\": \"data07\"}, {\"coordinates\": \"data\", \"linewidth\": 5, \"yindex\": 1, \"xindex\": 0, \"zorder\": 2, \"dasharray\": \"10,0\", \"color\": \"#000000\", \"id\": \"el11945140492417341032\", \"alpha\": 0.5, \"data\": \"data08\"}, {\"coordinates\": \"data\", \"linewidth\": 1.0, \"yindex\": 1, \"xindex\": 0, \"zorder\": 2, \"dasharray\": \"10,0\", \"color\": \"#808080\", \"id\": \"el11945140492417342992\", \"alpha\": 1, \"data\": \"data09\"}, {\"coordinates\": \"data\", \"linewidth\": 5, \"yindex\": 1, \"xindex\": 0, \"zorder\": 2, \"dasharray\": \"10,0\", \"color\": \"#000000\", \"id\": \"el11945140492417369592\", \"alpha\": 0.5, \"data\": \"data10\"}], \"xdomain\": [-1.0891640731461238, 1.0799999999999998]}], \"id\": \"el11945140492417934560\", \"width\": 960.0, \"data\": {\"data11\": [[-1.0091640731461238, -0.6242803507729305], [0.9999999999999999, 0.33582554542666004], [-0.44867314120587676, 0.10731493241006118], [-0.1589697926487102, 0.703550949972403], [0.6168070070007102, -0.5224110770361938]], \"data09\": [[0.6168070070007102, -0.5224110770361938], [-0.44867314120587676, 0.10731493241006118]], \"data07\": [[-0.1589697926487102, 0.703550949972403], [0.6168070070007102, -0.5224110770361938]], \"data04\": [[0.014875676248596315, 0.6483921392905415], [-0.1589697926487102, 0.703550949972403]], \"data05\": [[-0.1589697926487102, 0.703550949972403], [-0.44867314120587676, 0.10731493241006118]], \"data08\": [[0.5004404870532971, -0.33851677298490435], [0.6168070070007102, -0.5224110770361938]], \"data10\": [[-0.2888511189748887, 0.012856030993122936], [-0.44867314120587676, 0.10731493241006118]], \"data01\": [[-1.0091640731461238, -0.6242803507729305], [-0.1589697926487102, 0.703550949972403]], \"data03\": [[0.9999999999999999, 0.33582554542666004], [-0.1589697926487102, 0.703550949972403]], \"data02\": [[-0.2864989347233222, 0.504376254860603], [-0.1589697926487102, 0.703550949972403]], \"data06\": [[-0.4052176389223018, 0.19675033504441244], [-0.44867314120587676, 0.10731493241006118]]}});\n",
       "      });\n",
       "    });\n",
       "}else{\n",
       "    // require.js not available: dynamically load d3 & mpld3\n",
       "    mpld3_load_lib(\"https://mpld3.github.io/js/d3.v3.min.js\", function(){\n",
       "         mpld3_load_lib(\"https://mpld3.github.io/js/mpld3.v0.2.js\", function(){\n",
       "                 \n",
       "    mpld3.register_plugin(\"htmltooltip\", HtmlTooltipPlugin);\n",
       "    HtmlTooltipPlugin.prototype = Object.create(mpld3.Plugin.prototype);\n",
       "    HtmlTooltipPlugin.prototype.constructor = HtmlTooltipPlugin;\n",
       "    HtmlTooltipPlugin.prototype.requiredProps = [\"id\"];\n",
       "    HtmlTooltipPlugin.prototype.defaultProps = {labels:null, hoffset:0, voffset:10};\n",
       "    function HtmlTooltipPlugin(fig, props){\n",
       "        mpld3.Plugin.call(this, fig, props);\n",
       "    };\n",
       "\n",
       "    HtmlTooltipPlugin.prototype.draw = function(){\n",
       "       var obj = mpld3.get_element(this.props.id);\n",
       "       var labels = this.props.labels;\n",
       "       var tooltip = d3.select(\"body\").append(\"div\")\n",
       "                    .attr(\"class\", \"mpld3-tooltip\")\n",
       "                    .style(\"position\", \"absolute\")\n",
       "                    .style(\"z-index\", \"10\")\n",
       "                    .style(\"visibility\", \"hidden\");\n",
       "\n",
       "       obj.elements()\n",
       "           .on(\"mouseover\", function(d, i){\n",
       "                              tooltip.html(labels[i])\n",
       "                                     .style(\"visibility\", \"visible\");})\n",
       "           .on(\"mousemove\", function(d, i){\n",
       "                    tooltip\n",
       "                      .style(\"top\", d3.event.pageY + this.props.voffset + \"px\")\n",
       "                      .style(\"left\",d3.event.pageX + this.props.hoffset + \"px\");\n",
       "                 }.bind(this))\n",
       "           .on(\"mouseout\",  function(d, i){\n",
       "                           tooltip.style(\"visibility\", \"hidden\");});\n",
       "    };\n",
       "    \n",
       "                 mpld3.draw_figure(\"fig_el119451404924179345609089725548\", {\"height\": 640.0, \"plugins\": [{\"type\": \"reset\"}, {\"enabled\": false, \"type\": \"zoom\", \"button\": true}, {\"enabled\": false, \"type\": \"boxzoom\", \"button\": true}, {\"labels\": [], \"type\": \"htmltooltip\", \"voffset\": 10, \"id\": \"el11945140492417390016pts\", \"hoffset\": 10}], \"axes\": [{\"bbox\": [0.125, 0.125, 0.775, 0.775], \"sharey\": [], \"zoomable\": true, \"collections\": [], \"markers\": [{\"coordinates\": \"data\", \"edgecolor\": \"#000000\", \"yindex\": 1, \"xindex\": 0, \"alpha\": 1.0, \"zorder\": 2, \"markerpath\": [[[0.0, 10.0], [2.652031, 10.0], [5.195798707848534, 8.946336915882418], [7.0710678118654755, 7.0710678118654755], [8.946336915882418, 5.195798707848534], [10.0, 2.652031], [10.0, 0.0], [10.0, -2.652031], [8.946336915882418, -5.195798707848534], [7.0710678118654755, -7.0710678118654755], [5.195798707848534, -8.946336915882418], [2.652031, -10.0], [0.0, -10.0], [-2.652031, -10.0], [-5.195798707848534, -8.946336915882418], [-7.0710678118654755, -7.0710678118654755], [-8.946336915882418, -5.195798707848534], [-10.0, -2.652031], [-10.0, 0.0], [-10.0, 2.652031], [-8.946336915882418, 5.195798707848534], [-7.0710678118654755, 7.0710678118654755], [-5.195798707848534, 8.946336915882418], [-2.652031, 10.0], [0.0, 10.0]], [\"M\", \"C\", \"C\", \"C\", \"C\", \"C\", \"C\", \"C\", \"C\", \"Z\"]], \"id\": \"el11945140492417270728pts\", \"edgewidth\": 1, \"facecolor\": \"#D3D3D3\", \"data\": \"data11\"}, {\"coordinates\": \"data\", \"edgecolor\": \"#000000\", \"yindex\": 1, \"xindex\": 0, \"alpha\": 0.0, \"zorder\": 2, \"markerpath\": [[[0.0, 20.0], [5.304062, 20.0], [10.391597415697069, 17.892673831764835], [14.142135623730951, 14.142135623730951], [17.892673831764835, 10.391597415697069], [20.0, 5.304062], [20.0, 0.0], [20.0, -5.304062], [17.892673831764835, -10.391597415697069], [14.142135623730951, -14.142135623730951], [10.391597415697069, -17.892673831764835], [5.304062, -20.0], [0.0, -20.0], [-5.304062, -20.0], [-10.391597415697069, -17.892673831764835], [-14.142135623730951, -14.142135623730951], [-17.892673831764835, -10.391597415697069], [-20.0, -5.304062], [-20.0, 0.0], [-20.0, 5.304062], [-17.892673831764835, 10.391597415697069], [-14.142135623730951, 14.142135623730951], [-10.391597415697069, 17.892673831764835], [-5.304062, 20.0], [0.0, 20.0]], [\"M\", \"C\", \"C\", \"C\", \"C\", \"C\", \"C\", \"C\", \"C\", \"Z\"]], \"id\": \"el11945140492417390016pts\", \"edgewidth\": 1, \"facecolor\": \"#D3D3D3\", \"data\": \"data11\"}], \"paths\": [], \"xlim\": [-1.0891640731461238, 1.0799999999999998], \"texts\": [{\"id\": \"el11945140492417391192\", \"zorder\": 3, \"h_anchor\": \"middle\", \"color\": \"#000000\", \"fontsize\": 10.0, \"coordinates\": \"data\", \"text\": \"Burglary\", \"rotation\": -0.0, \"position\": [-1.0091640731461238, -0.6242803507729305], \"v_baseline\": \"central\", \"alpha\": 1}, {\"id\": \"el11945140492417409152\", \"zorder\": 3, \"h_anchor\": \"middle\", \"color\": \"#000000\", \"fontsize\": 10.0, \"coordinates\": \"data\", \"text\": \"Earthquake\", \"rotation\": -0.0, \"position\": [0.9999999999999999, 0.33582554542666004], \"v_baseline\": \"central\", \"alpha\": 1}, {\"id\": \"el11945140492417410496\", \"zorder\": 3, \"h_anchor\": \"middle\", \"color\": \"#000000\", \"fontsize\": 10.0, \"coordinates\": \"data\", \"text\": \"MaryCalls\", \"rotation\": -0.0, \"position\": [-0.44867314120587676, 0.10731493241006118], \"v_baseline\": \"central\", \"alpha\": 1}, {\"id\": \"el11945140492417411840\", \"zorder\": 3, \"h_anchor\": \"middle\", \"color\": \"#000000\", \"fontsize\": 10.0, \"coordinates\": \"data\", \"text\": \"Alarm\", \"rotation\": -0.0, \"position\": [-0.1589697926487102, 0.703550949972403], \"v_baseline\": \"central\", \"alpha\": 1}, {\"id\": \"el11945140492416909440\", \"zorder\": 3, \"h_anchor\": \"middle\", \"color\": \"#000000\", \"fontsize\": 10.0, \"coordinates\": \"data\", \"text\": \"JohnCalls\", \"rotation\": -0.0, \"position\": [0.6168070070007102, -0.5224110770361938], \"v_baseline\": \"central\", \"alpha\": 1}], \"yscale\": \"linear\", \"images\": [], \"ylim\": [-0.7042803507729305, 0.7835509499724029], \"axesbg\": \"#FFFFFF\", \"id\": \"el11945140492417937248\", \"axes\": [{\"tickformat\": null, \"grid\": {\"gridOn\": false}, \"tickvalues\": null, \"position\": \"bottom\", \"fontsize\": 10.0, \"nticks\": 7, \"scale\": \"linear\"}, {\"tickformat\": null, \"grid\": {\"gridOn\": false}, \"tickvalues\": null, \"position\": \"left\", \"fontsize\": 10.0, \"nticks\": 9, \"scale\": \"linear\"}], \"xscale\": \"linear\", \"ydomain\": [-0.7042803507729305, 0.7835509499724029], \"axesbgalpha\": null, \"sharex\": [], \"lines\": [{\"coordinates\": \"data\", \"linewidth\": 1.0, \"yindex\": 1, \"xindex\": 0, \"zorder\": 2, \"dasharray\": \"10,0\", \"color\": \"#808080\", \"id\": \"el11945140492417270784\", \"alpha\": 1, \"data\": \"data01\"}, {\"coordinates\": \"data\", \"linewidth\": 5, \"yindex\": 1, \"xindex\": 0, \"zorder\": 2, \"dasharray\": \"10,0\", \"color\": \"#000000\", \"id\": \"el11945140492417271624\", \"alpha\": 0.5, \"data\": \"data02\"}, {\"coordinates\": \"data\", \"linewidth\": 1.0, \"yindex\": 1, \"xindex\": 0, \"zorder\": 2, \"dasharray\": \"10,0\", \"color\": \"#808080\", \"id\": \"el11945140492417273696\", \"alpha\": 1, \"data\": \"data03\"}, {\"coordinates\": \"data\", \"linewidth\": 5, \"yindex\": 1, \"xindex\": 0, \"zorder\": 2, \"dasharray\": \"10,0\", \"color\": \"#000000\", \"id\": \"el11945140492417300296\", \"alpha\": 0.5, \"data\": \"data04\"}, {\"coordinates\": \"data\", \"linewidth\": 1.0, \"yindex\": 1, \"xindex\": 0, \"zorder\": 2, \"dasharray\": \"10,0\", \"color\": \"#808080\", \"id\": \"el11945140492417302256\", \"alpha\": 1, \"data\": \"data05\"}, {\"coordinates\": \"data\", \"linewidth\": 5, \"yindex\": 1, \"xindex\": 0, \"zorder\": 2, \"dasharray\": \"10,0\", \"color\": \"#000000\", \"id\": \"el11945140492417316568\", \"alpha\": 0.5, \"data\": \"data06\"}, {\"coordinates\": \"data\", \"linewidth\": 1.0, \"yindex\": 1, \"xindex\": 0, \"zorder\": 2, \"dasharray\": \"10,0\", \"color\": \"#808080\", \"id\": \"el11945140492417318528\", \"alpha\": 1, \"data\": \"data07\"}, {\"coordinates\": \"data\", \"linewidth\": 5, \"yindex\": 1, \"xindex\": 0, \"zorder\": 2, \"dasharray\": \"10,0\", \"color\": \"#000000\", \"id\": \"el11945140492417341032\", \"alpha\": 0.5, \"data\": \"data08\"}, {\"coordinates\": \"data\", \"linewidth\": 1.0, \"yindex\": 1, \"xindex\": 0, \"zorder\": 2, \"dasharray\": \"10,0\", \"color\": \"#808080\", \"id\": \"el11945140492417342992\", \"alpha\": 1, \"data\": \"data09\"}, {\"coordinates\": \"data\", \"linewidth\": 5, \"yindex\": 1, \"xindex\": 0, \"zorder\": 2, \"dasharray\": \"10,0\", \"color\": \"#000000\", \"id\": \"el11945140492417369592\", \"alpha\": 0.5, \"data\": \"data10\"}], \"xdomain\": [-1.0891640731461238, 1.0799999999999998]}], \"id\": \"el11945140492417934560\", \"width\": 960.0, \"data\": {\"data11\": [[-1.0091640731461238, -0.6242803507729305], [0.9999999999999999, 0.33582554542666004], [-0.44867314120587676, 0.10731493241006118], [-0.1589697926487102, 0.703550949972403], [0.6168070070007102, -0.5224110770361938]], \"data09\": [[0.6168070070007102, -0.5224110770361938], [-0.44867314120587676, 0.10731493241006118]], \"data07\": [[-0.1589697926487102, 0.703550949972403], [0.6168070070007102, -0.5224110770361938]], \"data04\": [[0.014875676248596315, 0.6483921392905415], [-0.1589697926487102, 0.703550949972403]], \"data05\": [[-0.1589697926487102, 0.703550949972403], [-0.44867314120587676, 0.10731493241006118]], \"data08\": [[0.5004404870532971, -0.33851677298490435], [0.6168070070007102, -0.5224110770361938]], \"data10\": [[-0.2888511189748887, 0.012856030993122936], [-0.44867314120587676, 0.10731493241006118]], \"data01\": [[-1.0091640731461238, -0.6242803507729305], [-0.1589697926487102, 0.703550949972403]], \"data03\": [[0.9999999999999999, 0.33582554542666004], [-0.1589697926487102, 0.703550949972403]], \"data02\": [[-0.2864989347233222, 0.504376254860603], [-0.1589697926487102, 0.703550949972403]], \"data06\": [[-0.4052176389223018, 0.19675033504441244], [-0.44867314120587676, 0.10731493241006118]]}});\n",
       "            })\n",
       "         });\n",
       "}\n",
       "</script>"
      ],
      "text/plain": [
       "<IPython.core.display.HTML object>"
      ]
     },
     "execution_count": 8,
     "metadata": {},
     "output_type": "execute_result"
    }
   ],
   "source": [
    "changed_dgm1 = gm.DGM()\n",
    "changed_dgm1.add_edges_from(dgm.edges())\n",
    "changed_dgm1.add_edge('JohnCalls', 'MaryCalls')\n",
    "changed_dgm1.draw()"
   ]
  },
  {
   "cell_type": "markdown",
   "metadata": {},
   "source": [
    "#### Checks for I-equivalence and I-maps"
   ]
  },
  {
   "cell_type": "code",
   "execution_count": 9,
   "metadata": {
    "collapsed": false
   },
   "outputs": [
    {
     "data": {
      "text/plain": [
       "False"
      ]
     },
     "execution_count": 9,
     "metadata": {},
     "output_type": "execute_result"
    }
   ],
   "source": [
    "changed_dgm1.is_I_equivalent(dgm)"
   ]
  },
  {
   "cell_type": "code",
   "execution_count": 10,
   "metadata": {
    "collapsed": false
   },
   "outputs": [
    {
     "data": {
      "text/plain": [
       "True"
      ]
     },
     "execution_count": 10,
     "metadata": {},
     "output_type": "execute_result"
    }
   ],
   "source": [
    "changed_dgm1.is_I_map(dgm)"
   ]
  },
  {
   "cell_type": "code",
   "execution_count": 11,
   "metadata": {
    "collapsed": false
   },
   "outputs": [
    {
     "data": {
      "text/plain": [
       "False"
      ]
     },
     "execution_count": 11,
     "metadata": {},
     "output_type": "execute_result"
    }
   ],
   "source": [
    "dgm.is_I_map(changed_dgm1)"
   ]
  },
  {
   "cell_type": "markdown",
   "metadata": {},
   "source": [
    "#### Find which nodes are reachable in the sense of d-separation"
   ]
  },
  {
   "cell_type": "code",
   "execution_count": 12,
   "metadata": {
    "collapsed": false
   },
   "outputs": [
    {
     "data": {
      "text/plain": [
       "{'Alarm', 'Burglary', 'Earthquake', 'MaryCalls'}"
      ]
     },
     "execution_count": 12,
     "metadata": {},
     "output_type": "execute_result"
    }
   ],
   "source": [
    "dgm.reachable('JohnCalls', observed=[])"
   ]
  },
  {
   "cell_type": "code",
   "execution_count": 13,
   "metadata": {
    "collapsed": false
   },
   "outputs": [
    {
     "data": {
      "text/plain": [
       "set()"
      ]
     },
     "execution_count": 13,
     "metadata": {},
     "output_type": "execute_result"
    }
   ],
   "source": [
    "dgm.reachable('JohnCalls', observed=['Alarm'])"
   ]
  },
  {
   "cell_type": "markdown",
   "metadata": {},
   "source": [
    "## Factors"
   ]
  },
  {
   "cell_type": "markdown",
   "metadata": {},
   "source": [
    "Currently, only TableFactor class is implemented. TableFactor represens an unnormalized discrete CPD."
   ]
  },
  {
   "cell_type": "code",
   "execution_count": 14,
   "metadata": {
    "collapsed": false
   },
   "outputs": [
    {
     "data": {
      "text/html": [
       "<table border=\"1\" cellpadding=\"4\" cellspacing=\"0\" bordercolor=\"#000000\">\n",
       "<tr bgcolor=\"#AAAAAA\">\n",
       "<th align=\"center\">Alarm</th>\n",
       "<th align=\"center\">JohnCalls</th>\n",
       "<th align=\"center\">Prob.</th>\n",
       "</tr>\n",
       "<tr>\n",
       "<td bgcolor=#FFFFFF>True</td>\n",
       "<td bgcolor=#FFFFFF>True</td>\n",
       "<td bgcolor=#fadfed>0.900</td>\n",
       "</tr>\n",
       "<tr>\n",
       "<td bgcolor=#FFFFFF>True</td>\n",
       "<td bgcolor=#FFFFFF>False</td>\n",
       "<td bgcolor=#c2c7d7>0.100</td>\n",
       "</tr>\n",
       "<tr>\n",
       "<td bgcolor=#FFFFFF>False</td>\n",
       "<td bgcolor=#FFFFFF>True</td>\n",
       "<td bgcolor=#dfbdc1>0.050</td>\n",
       "</tr>\n",
       "<tr>\n",
       "<td bgcolor=#FFFFFF>False</td>\n",
       "<td bgcolor=#FFFFFF>False</td>\n",
       "<td bgcolor=#f6e8ef>0.950</td>\n",
       "</tr>\n",
       "</table>"
      ],
      "text/plain": [
       "TableFactor(Alarm, JohnCalls)"
      ]
     },
     "execution_count": 14,
     "metadata": {},
     "output_type": "execute_result"
    }
   ],
   "source": [
    "dgm.factor('JohnCalls') # get a factor assigned to variable JohnCalls"
   ]
  },
  {
   "cell_type": "code",
   "execution_count": 54,
   "metadata": {
    "collapsed": false
   },
   "outputs": [
    {
     "data": {
      "text/html": [
       "<table border=\"1\" cellpadding=\"4\" cellspacing=\"0\" bordercolor=\"#000000\">\n",
       "<tr bgcolor=\"#AAAAAA\">\n",
       "<th align=\"center\">Burglary</th>\n",
       "<th align=\"center\">Earthquake</th>\n",
       "<th align=\"center\">Alarm</th>\n",
       "<th align=\"center\">Prob.</th>\n",
       "</tr>\n",
       "<tr>\n",
       "<td bgcolor=#FFFFFF>True</td>\n",
       "<td bgcolor=#FFFFFF>True</td>\n",
       "<td bgcolor=#FFFFFF>True</td>\n",
       "<td bgcolor=#f6e8ef>0.950</td>\n",
       "</tr>\n",
       "<tr>\n",
       "<td bgcolor=#FFFFFF>True</td>\n",
       "<td bgcolor=#FFFFFF>True</td>\n",
       "<td bgcolor=#FFFFFF>False</td>\n",
       "<td bgcolor=#dfbdc1>0.050</td>\n",
       "</tr>\n",
       "<tr>\n",
       "<td bgcolor=#FFFFFF>True</td>\n",
       "<td bgcolor=#FFFFFF>False</td>\n",
       "<td bgcolor=#FFFFFF>True</td>\n",
       "<td bgcolor=#f7e6ef>0.940</td>\n",
       "</tr>\n",
       "<tr>\n",
       "<td bgcolor=#FFFFFF>True</td>\n",
       "<td bgcolor=#FFFFFF>False</td>\n",
       "<td bgcolor=#FFFFFF>False</td>\n",
       "<td bgcolor=#d9bfc6>0.060</td>\n",
       "</tr>\n",
       "<tr>\n",
       "<td bgcolor=#FFFFFF>False</td>\n",
       "<td bgcolor=#FFFFFF>True</td>\n",
       "<td bgcolor=#FFFFFF>True</td>\n",
       "<td bgcolor=#d1e0ce>0.290</td>\n",
       "</tr>\n",
       "<tr>\n",
       "<td bgcolor=#FFFFFF>False</td>\n",
       "<td bgcolor=#FFFFFF>True</td>\n",
       "<td bgcolor=#FFFFFF>False</td>\n",
       "<td bgcolor=#ede4c1>0.710</td>\n",
       "</tr>\n",
       "<tr>\n",
       "<td bgcolor=#FFFFFF>False</td>\n",
       "<td bgcolor=#FFFFFF>False</td>\n",
       "<td bgcolor=#FFFFFF>True</td>\n",
       "<td bgcolor=#fbb4ae>0.001</td>\n",
       "</tr>\n",
       "<tr>\n",
       "<td bgcolor=#FFFFFF>False</td>\n",
       "<td bgcolor=#FFFFFF>False</td>\n",
       "<td bgcolor=#FFFFFF>False</td>\n",
       "<td bgcolor=#f2f2f2>0.999</td>\n",
       "</tr>\n",
       "</table>"
      ],
      "text/plain": [
       "TableFactor(Burglary, Earthquake, Alarm)"
      ]
     },
     "execution_count": 54,
     "metadata": {},
     "output_type": "execute_result"
    }
   ],
   "source": [
    "dgm.cpd('Alarm') # get a cpd of variable Alarm (i.e. normalized factor, see below)"
   ]
  },
  {
   "cell_type": "markdown",
   "metadata": {},
   "source": [
    "### Operations\n",
    "All factor operations are either vectorized or written in C++, so they should be quite fast."
   ]
  },
  {
   "cell_type": "code",
   "execution_count": 16,
   "metadata": {
    "collapsed": true
   },
   "outputs": [],
   "source": [
    "alarm = dgm.factor('Alarm')\n",
    "john_calls = dgm.factor('JohnCalls')\n",
    "burglary = dgm.factor('Burglary')"
   ]
  },
  {
   "cell_type": "code",
   "execution_count": 57,
   "metadata": {
    "collapsed": false
   },
   "outputs": [
    {
     "name": "stdout",
     "output_type": "stream",
     "text": [
      "['Burglary', 'Earthquake', 'Alarm', 'JohnCalls', 'MaryCalls']\n",
      "['Burglary', 'Earthquake', 'Alarm']\n"
     ]
    }
   ],
   "source": [
    "print(alarm.arguments) # all variables in the network\n",
    "print(alarm.scope) # variables in the factor"
   ]
  },
  {
   "cell_type": "markdown",
   "metadata": {},
   "source": [
    "#### Factor Multiplication"
   ]
  },
  {
   "cell_type": "code",
   "execution_count": 17,
   "metadata": {
    "collapsed": false
   },
   "outputs": [
    {
     "data": {
      "text/html": [
       "<table border=\"1\" cellpadding=\"4\" cellspacing=\"0\" bordercolor=\"#000000\">\n",
       "<tr bgcolor=\"#AAAAAA\">\n",
       "<th align=\"center\">Burglary</th>\n",
       "<th align=\"center\">Earthquake</th>\n",
       "<th align=\"center\">Alarm</th>\n",
       "<th align=\"center\">JohnCalls</th>\n",
       "<th align=\"center\">Prob.</th>\n",
       "</tr>\n",
       "<tr>\n",
       "<td bgcolor=#FFFFFF>True</td>\n",
       "<td bgcolor=#FFFFFF>True</td>\n",
       "<td bgcolor=#FFFFFF>True</td>\n",
       "<td bgcolor=#FFFFFF>True</td>\n",
       "<td bgcolor=#f9d9e4>0.855</td>\n",
       "</tr>\n",
       "<tr>\n",
       "<td bgcolor=#FFFFFF>True</td>\n",
       "<td bgcolor=#FFFFFF>True</td>\n",
       "<td bgcolor=#FFFFFF>True</td>\n",
       "<td bgcolor=#FFFFFF>False</td>\n",
       "<td bgcolor=#c4c6d5>0.095</td>\n",
       "</tr>\n",
       "<tr>\n",
       "<td bgcolor=#FFFFFF>True</td>\n",
       "<td bgcolor=#FFFFFF>True</td>\n",
       "<td bgcolor=#FFFFFF>False</td>\n",
       "<td bgcolor=#FFFFFF>True</td>\n",
       "<td bgcolor=#fbb4ae>0.003</td>\n",
       "</tr>\n",
       "<tr>\n",
       "<td bgcolor=#FFFFFF>True</td>\n",
       "<td bgcolor=#FFFFFF>True</td>\n",
       "<td bgcolor=#FFFFFF>False</td>\n",
       "<td bgcolor=#FFFFFF>False</td>\n",
       "<td bgcolor=#dfbdc1>0.048</td>\n",
       "</tr>\n",
       "<tr>\n",
       "<td bgcolor=#FFFFFF>True</td>\n",
       "<td bgcolor=#FFFFFF>False</td>\n",
       "<td bgcolor=#FFFFFF>True</td>\n",
       "<td bgcolor=#FFFFFF>True</td>\n",
       "<td bgcolor=#f7d9e1>0.846</td>\n",
       "</tr>\n",
       "<tr>\n",
       "<td bgcolor=#FFFFFF>True</td>\n",
       "<td bgcolor=#FFFFFF>False</td>\n",
       "<td bgcolor=#FFFFFF>True</td>\n",
       "<td bgcolor=#FFFFFF>False</td>\n",
       "<td bgcolor=#c4c6d5>0.094</td>\n",
       "</tr>\n",
       "<tr>\n",
       "<td bgcolor=#FFFFFF>True</td>\n",
       "<td bgcolor=#FFFFFF>False</td>\n",
       "<td bgcolor=#FFFFFF>False</td>\n",
       "<td bgcolor=#FFFFFF>True</td>\n",
       "<td bgcolor=#fbb4ae>0.003</td>\n",
       "</tr>\n",
       "<tr>\n",
       "<td bgcolor=#FFFFFF>True</td>\n",
       "<td bgcolor=#FFFFFF>False</td>\n",
       "<td bgcolor=#FFFFFF>False</td>\n",
       "<td bgcolor=#FFFFFF>False</td>\n",
       "<td bgcolor=#dbbec5>0.057</td>\n",
       "</tr>\n",
       "<tr>\n",
       "<td bgcolor=#FFFFFF>False</td>\n",
       "<td bgcolor=#FFFFFF>True</td>\n",
       "<td bgcolor=#FFFFFF>True</td>\n",
       "<td bgcolor=#FFFFFF>True</td>\n",
       "<td bgcolor=#cde8c7>0.261</td>\n",
       "</tr>\n",
       "<tr>\n",
       "<td bgcolor=#FFFFFF>False</td>\n",
       "<td bgcolor=#FFFFFF>True</td>\n",
       "<td bgcolor=#FFFFFF>True</td>\n",
       "<td bgcolor=#FFFFFF>False</td>\n",
       "<td bgcolor=#ebb9b9>0.029</td>\n",
       "</tr>\n",
       "<tr>\n",
       "<td bgcolor=#FFFFFF>False</td>\n",
       "<td bgcolor=#FFFFFF>True</td>\n",
       "<td bgcolor=#FFFFFF>False</td>\n",
       "<td bgcolor=#FFFFFF>True</td>\n",
       "<td bgcolor=#e8babb>0.035</td>\n",
       "</tr>\n",
       "<tr>\n",
       "<td bgcolor=#FFFFFF>False</td>\n",
       "<td bgcolor=#FFFFFF>True</td>\n",
       "<td bgcolor=#FFFFFF>False</td>\n",
       "<td bgcolor=#FFFFFF>False</td>\n",
       "<td bgcolor=#f4efc6>0.674</td>\n",
       "</tr>\n",
       "<tr>\n",
       "<td bgcolor=#FFFFFF>False</td>\n",
       "<td bgcolor=#FFFFFF>False</td>\n",
       "<td bgcolor=#FFFFFF>True</td>\n",
       "<td bgcolor=#FFFFFF>True</td>\n",
       "<td bgcolor=#fbb4ae>0.001</td>\n",
       "</tr>\n",
       "<tr>\n",
       "<td bgcolor=#FFFFFF>False</td>\n",
       "<td bgcolor=#FFFFFF>False</td>\n",
       "<td bgcolor=#FFFFFF>True</td>\n",
       "<td bgcolor=#FFFFFF>False</td>\n",
       "<td bgcolor=#fbb4ae>0.000</td>\n",
       "</tr>\n",
       "<tr>\n",
       "<td bgcolor=#FFFFFF>False</td>\n",
       "<td bgcolor=#FFFFFF>False</td>\n",
       "<td bgcolor=#FFFFFF>False</td>\n",
       "<td bgcolor=#FFFFFF>True</td>\n",
       "<td bgcolor=#dfbdc1>0.050</td>\n",
       "</tr>\n",
       "<tr>\n",
       "<td bgcolor=#FFFFFF>False</td>\n",
       "<td bgcolor=#FFFFFF>False</td>\n",
       "<td bgcolor=#FFFFFF>False</td>\n",
       "<td bgcolor=#FFFFFF>False</td>\n",
       "<td bgcolor=#f6e8ef>0.949</td>\n",
       "</tr>\n",
       "</table>"
      ],
      "text/plain": [
       "TableFactor(Burglary, Earthquake, Alarm, JohnCalls)"
      ]
     },
     "execution_count": 17,
     "metadata": {},
     "output_type": "execute_result"
    }
   ],
   "source": [
    "alarm * john_calls # note that the result is NOT a normalized CPD"
   ]
  },
  {
   "cell_type": "markdown",
   "metadata": {},
   "source": [
    "#### Normalization\n",
    "There is no special CPD class, all CPDs are implemented as Factors. This is intentional: often there is no need to normalize probability distributions on intermediate steps of an algorithm; doing that would hurt performance. \n",
    "\n",
    "`.normalize([variables, ])` function normalized the factor so that the probabilities over `variables` sum to 1."
   ]
  },
  {
   "cell_type": "code",
   "execution_count": 18,
   "metadata": {
    "collapsed": false
   },
   "outputs": [
    {
     "data": {
      "text/html": [
       "<table border=\"1\" cellpadding=\"4\" cellspacing=\"0\" bordercolor=\"#000000\">\n",
       "<tr bgcolor=\"#AAAAAA\">\n",
       "<th align=\"center\">Burglary</th>\n",
       "<th align=\"center\">Earthquake</th>\n",
       "<th align=\"center\">Alarm</th>\n",
       "<th align=\"center\">JohnCalls</th>\n",
       "<th align=\"center\">Prob.</th>\n",
       "</tr>\n",
       "<tr>\n",
       "<td bgcolor=#FFFFFF>True</td>\n",
       "<td bgcolor=#FFFFFF>True</td>\n",
       "<td bgcolor=#FFFFFF>True</td>\n",
       "<td bgcolor=#FFFFFF>True</td>\n",
       "<td bgcolor=#fadfed>0.900</td>\n",
       "</tr>\n",
       "<tr>\n",
       "<td bgcolor=#FFFFFF>True</td>\n",
       "<td bgcolor=#FFFFFF>True</td>\n",
       "<td bgcolor=#FFFFFF>True</td>\n",
       "<td bgcolor=#FFFFFF>False</td>\n",
       "<td bgcolor=#c2c7d7>0.100</td>\n",
       "</tr>\n",
       "<tr>\n",
       "<td bgcolor=#FFFFFF>True</td>\n",
       "<td bgcolor=#FFFFFF>True</td>\n",
       "<td bgcolor=#FFFFFF>False</td>\n",
       "<td bgcolor=#FFFFFF>True</td>\n",
       "<td bgcolor=#dfbdc1>0.050</td>\n",
       "</tr>\n",
       "<tr>\n",
       "<td bgcolor=#FFFFFF>True</td>\n",
       "<td bgcolor=#FFFFFF>True</td>\n",
       "<td bgcolor=#FFFFFF>False</td>\n",
       "<td bgcolor=#FFFFFF>False</td>\n",
       "<td bgcolor=#f6e8ef>0.950</td>\n",
       "</tr>\n",
       "<tr>\n",
       "<td bgcolor=#FFFFFF>True</td>\n",
       "<td bgcolor=#FFFFFF>False</td>\n",
       "<td bgcolor=#FFFFFF>True</td>\n",
       "<td bgcolor=#FFFFFF>True</td>\n",
       "<td bgcolor=#fadfed>0.900</td>\n",
       "</tr>\n",
       "<tr>\n",
       "<td bgcolor=#FFFFFF>True</td>\n",
       "<td bgcolor=#FFFFFF>False</td>\n",
       "<td bgcolor=#FFFFFF>True</td>\n",
       "<td bgcolor=#FFFFFF>False</td>\n",
       "<td bgcolor=#c2c7d7>0.100</td>\n",
       "</tr>\n",
       "<tr>\n",
       "<td bgcolor=#FFFFFF>True</td>\n",
       "<td bgcolor=#FFFFFF>False</td>\n",
       "<td bgcolor=#FFFFFF>False</td>\n",
       "<td bgcolor=#FFFFFF>True</td>\n",
       "<td bgcolor=#dfbdc1>0.050</td>\n",
       "</tr>\n",
       "<tr>\n",
       "<td bgcolor=#FFFFFF>True</td>\n",
       "<td bgcolor=#FFFFFF>False</td>\n",
       "<td bgcolor=#FFFFFF>False</td>\n",
       "<td bgcolor=#FFFFFF>False</td>\n",
       "<td bgcolor=#f6e8ef>0.950</td>\n",
       "</tr>\n",
       "<tr>\n",
       "<td bgcolor=#FFFFFF>False</td>\n",
       "<td bgcolor=#FFFFFF>True</td>\n",
       "<td bgcolor=#FFFFFF>True</td>\n",
       "<td bgcolor=#FFFFFF>True</td>\n",
       "<td bgcolor=#fadfed>0.900</td>\n",
       "</tr>\n",
       "<tr>\n",
       "<td bgcolor=#FFFFFF>False</td>\n",
       "<td bgcolor=#FFFFFF>True</td>\n",
       "<td bgcolor=#FFFFFF>True</td>\n",
       "<td bgcolor=#FFFFFF>False</td>\n",
       "<td bgcolor=#c2c7d7>0.100</td>\n",
       "</tr>\n",
       "<tr>\n",
       "<td bgcolor=#FFFFFF>False</td>\n",
       "<td bgcolor=#FFFFFF>True</td>\n",
       "<td bgcolor=#FFFFFF>False</td>\n",
       "<td bgcolor=#FFFFFF>True</td>\n",
       "<td bgcolor=#dfbdc1>0.050</td>\n",
       "</tr>\n",
       "<tr>\n",
       "<td bgcolor=#FFFFFF>False</td>\n",
       "<td bgcolor=#FFFFFF>True</td>\n",
       "<td bgcolor=#FFFFFF>False</td>\n",
       "<td bgcolor=#FFFFFF>False</td>\n",
       "<td bgcolor=#f6e8ef>0.950</td>\n",
       "</tr>\n",
       "<tr>\n",
       "<td bgcolor=#FFFFFF>False</td>\n",
       "<td bgcolor=#FFFFFF>False</td>\n",
       "<td bgcolor=#FFFFFF>True</td>\n",
       "<td bgcolor=#FFFFFF>True</td>\n",
       "<td bgcolor=#fadfed>0.900</td>\n",
       "</tr>\n",
       "<tr>\n",
       "<td bgcolor=#FFFFFF>False</td>\n",
       "<td bgcolor=#FFFFFF>False</td>\n",
       "<td bgcolor=#FFFFFF>True</td>\n",
       "<td bgcolor=#FFFFFF>False</td>\n",
       "<td bgcolor=#c2c7d7>0.100</td>\n",
       "</tr>\n",
       "<tr>\n",
       "<td bgcolor=#FFFFFF>False</td>\n",
       "<td bgcolor=#FFFFFF>False</td>\n",
       "<td bgcolor=#FFFFFF>False</td>\n",
       "<td bgcolor=#FFFFFF>True</td>\n",
       "<td bgcolor=#dfbdc1>0.050</td>\n",
       "</tr>\n",
       "<tr>\n",
       "<td bgcolor=#FFFFFF>False</td>\n",
       "<td bgcolor=#FFFFFF>False</td>\n",
       "<td bgcolor=#FFFFFF>False</td>\n",
       "<td bgcolor=#FFFFFF>False</td>\n",
       "<td bgcolor=#f6e8ef>0.950</td>\n",
       "</tr>\n",
       "</table>"
      ],
      "text/plain": [
       "TableFactor(Burglary, Earthquake, Alarm, JohnCalls)"
      ]
     },
     "execution_count": 18,
     "metadata": {},
     "output_type": "execute_result"
    }
   ],
   "source": [
    "(alarm * john_calls).normalize('JohnCalls') # now the result is a valid CPD: P(JohnCalls | Burglary, Earthquake, Alarm)"
   ]
  },
  {
   "cell_type": "markdown",
   "metadata": {},
   "source": [
    "#### Marginalization\n",
    "Sums out one or several variables. \n",
    "Again, note that the result is not necessarily normalized."
   ]
  },
  {
   "cell_type": "code",
   "execution_count": 19,
   "metadata": {
    "collapsed": false
   },
   "outputs": [
    {
     "data": {
      "text/html": [
       "<table border=\"1\" cellpadding=\"4\" cellspacing=\"0\" bordercolor=\"#000000\">\n",
       "<tr bgcolor=\"#AAAAAA\">\n",
       "<th align=\"center\">Burglary</th>\n",
       "<th align=\"center\">Earthquake</th>\n",
       "<th align=\"center\">Alarm</th>\n",
       "<th align=\"center\">Prob.</th>\n",
       "</tr>\n",
       "<tr>\n",
       "<td bgcolor=#FFFFFF>True</td>\n",
       "<td bgcolor=#FFFFFF>True</td>\n",
       "<td bgcolor=#FFFFFF>True</td>\n",
       "<td bgcolor=#f6b5b1>0.009</td>\n",
       "</tr>\n",
       "<tr>\n",
       "<td bgcolor=#FFFFFF>True</td>\n",
       "<td bgcolor=#FFFFFF>True</td>\n",
       "<td bgcolor=#FFFFFF>False</td>\n",
       "<td bgcolor=#fbb4ae>0.001</td>\n",
       "</tr>\n",
       "<tr>\n",
       "<td bgcolor=#FFFFFF>True</td>\n",
       "<td bgcolor=#FFFFFF>False</td>\n",
       "<td bgcolor=#FFFFFF>True</td>\n",
       "<td bgcolor=#f6b5b1>0.009</td>\n",
       "</tr>\n",
       "<tr>\n",
       "<td bgcolor=#FFFFFF>True</td>\n",
       "<td bgcolor=#FFFFFF>False</td>\n",
       "<td bgcolor=#FFFFFF>False</td>\n",
       "<td bgcolor=#fbb4ae>0.001</td>\n",
       "</tr>\n",
       "<tr>\n",
       "<td bgcolor=#FFFFFF>False</td>\n",
       "<td bgcolor=#FFFFFF>True</td>\n",
       "<td bgcolor=#FFFFFF>True</td>\n",
       "<td bgcolor=#d1e1cd>0.287</td>\n",
       "</tr>\n",
       "<tr>\n",
       "<td bgcolor=#FFFFFF>False</td>\n",
       "<td bgcolor=#FFFFFF>True</td>\n",
       "<td bgcolor=#FFFFFF>False</td>\n",
       "<td bgcolor=#eee6c2>0.703</td>\n",
       "</tr>\n",
       "<tr>\n",
       "<td bgcolor=#FFFFFF>False</td>\n",
       "<td bgcolor=#FFFFFF>False</td>\n",
       "<td bgcolor=#FFFFFF>True</td>\n",
       "<td bgcolor=#fbb4ae>0.001</td>\n",
       "</tr>\n",
       "<tr>\n",
       "<td bgcolor=#FFFFFF>False</td>\n",
       "<td bgcolor=#FFFFFF>False</td>\n",
       "<td bgcolor=#FFFFFF>False</td>\n",
       "<td bgcolor=#f2f0f1>0.989</td>\n",
       "</tr>\n",
       "</table>"
      ],
      "text/plain": [
       "TableFactor(Burglary, Earthquake, Alarm)"
      ]
     },
     "execution_count": 19,
     "metadata": {},
     "output_type": "execute_result"
    }
   ],
   "source": [
    "factor = burglary * alarm\n",
    "factor"
   ]
  },
  {
   "cell_type": "code",
   "execution_count": 20,
   "metadata": {
    "collapsed": false
   },
   "outputs": [
    {
     "data": {
      "text/html": [
       "<table border=\"1\" cellpadding=\"4\" cellspacing=\"0\" bordercolor=\"#000000\">\n",
       "<tr bgcolor=\"#AAAAAA\">\n",
       "<th align=\"center\">Earthquake</th>\n",
       "<th align=\"center\">Alarm</th>\n",
       "<th align=\"center\">Prob.</th>\n",
       "</tr>\n",
       "<tr>\n",
       "<td bgcolor=#FFFFFF>True</td>\n",
       "<td bgcolor=#FFFFFF>True</td>\n",
       "<td bgcolor=#d2ded0>0.297</td>\n",
       "</tr>\n",
       "<tr>\n",
       "<td bgcolor=#FFFFFF>True</td>\n",
       "<td bgcolor=#FFFFFF>False</td>\n",
       "<td bgcolor=#eee6c2>0.703</td>\n",
       "</tr>\n",
       "<tr>\n",
       "<td bgcolor=#FFFFFF>False</td>\n",
       "<td bgcolor=#FFFFFF>True</td>\n",
       "<td bgcolor=#f6b5b1>0.010</td>\n",
       "</tr>\n",
       "<tr>\n",
       "<td bgcolor=#FFFFFF>False</td>\n",
       "<td bgcolor=#FFFFFF>False</td>\n",
       "<td bgcolor=#f2f0f1>0.990</td>\n",
       "</tr>\n",
       "</table>"
      ],
      "text/plain": [
       "TableFactor(Earthquake, Alarm)"
      ]
     },
     "execution_count": 20,
     "metadata": {},
     "output_type": "execute_result"
    }
   ],
   "source": [
    "factor.marginalize('Burglary')"
   ]
  },
  {
   "cell_type": "markdown",
   "metadata": {},
   "source": [
    "#### Factor division"
   ]
  },
  {
   "cell_type": "code",
   "execution_count": 21,
   "metadata": {
    "collapsed": false
   },
   "outputs": [
    {
     "data": {
      "text/html": [
       "<table border=\"1\" cellpadding=\"4\" cellspacing=\"0\" bordercolor=\"#000000\">\n",
       "<tr bgcolor=\"#AAAAAA\">\n",
       "<th align=\"center\">Burglary</th>\n",
       "<th align=\"center\">Earthquake</th>\n",
       "<th align=\"center\">Alarm</th>\n",
       "<th align=\"center\">Prob.</th>\n",
       "</tr>\n",
       "<tr>\n",
       "<td bgcolor=#FFFFFF>True</td>\n",
       "<td bgcolor=#FFFFFF>True</td>\n",
       "<td bgcolor=#FFFFFF>True</td>\n",
       "<td bgcolor=#f6e8ef>0.950</td>\n",
       "</tr>\n",
       "<tr>\n",
       "<td bgcolor=#FFFFFF>True</td>\n",
       "<td bgcolor=#FFFFFF>True</td>\n",
       "<td bgcolor=#FFFFFF>False</td>\n",
       "<td bgcolor=#dfbdc1>0.050</td>\n",
       "</tr>\n",
       "<tr>\n",
       "<td bgcolor=#FFFFFF>True</td>\n",
       "<td bgcolor=#FFFFFF>False</td>\n",
       "<td bgcolor=#FFFFFF>True</td>\n",
       "<td bgcolor=#f7e6ef>0.940</td>\n",
       "</tr>\n",
       "<tr>\n",
       "<td bgcolor=#FFFFFF>True</td>\n",
       "<td bgcolor=#FFFFFF>False</td>\n",
       "<td bgcolor=#FFFFFF>False</td>\n",
       "<td bgcolor=#d9bfc6>0.060</td>\n",
       "</tr>\n",
       "<tr>\n",
       "<td bgcolor=#FFFFFF>False</td>\n",
       "<td bgcolor=#FFFFFF>True</td>\n",
       "<td bgcolor=#FFFFFF>True</td>\n",
       "<td bgcolor=#d1e0ce>0.290</td>\n",
       "</tr>\n",
       "<tr>\n",
       "<td bgcolor=#FFFFFF>False</td>\n",
       "<td bgcolor=#FFFFFF>True</td>\n",
       "<td bgcolor=#FFFFFF>False</td>\n",
       "<td bgcolor=#ede4c1>0.710</td>\n",
       "</tr>\n",
       "<tr>\n",
       "<td bgcolor=#FFFFFF>False</td>\n",
       "<td bgcolor=#FFFFFF>False</td>\n",
       "<td bgcolor=#FFFFFF>True</td>\n",
       "<td bgcolor=#fbb4ae>0.001</td>\n",
       "</tr>\n",
       "<tr>\n",
       "<td bgcolor=#FFFFFF>False</td>\n",
       "<td bgcolor=#FFFFFF>False</td>\n",
       "<td bgcolor=#FFFFFF>False</td>\n",
       "<td bgcolor=#f2f2f2>0.999</td>\n",
       "</tr>\n",
       "</table>"
      ],
      "text/plain": [
       "TableFactor(Burglary, Earthquake, Alarm)"
      ]
     },
     "execution_count": 21,
     "metadata": {},
     "output_type": "execute_result"
    }
   ],
   "source": [
    "alarm"
   ]
  },
  {
   "cell_type": "code",
   "execution_count": 22,
   "metadata": {
    "collapsed": false
   },
   "outputs": [
    {
     "data": {
      "text/html": [
       "<table border=\"1\" cellpadding=\"4\" cellspacing=\"0\" bordercolor=\"#000000\">\n",
       "<tr bgcolor=\"#AAAAAA\">\n",
       "<th align=\"center\">Burglary</th>\n",
       "<th align=\"center\">Earthquake</th>\n",
       "<th align=\"center\">Alarm</th>\n",
       "<th align=\"center\">Prob.</th>\n",
       "</tr>\n",
       "<tr>\n",
       "<td bgcolor=#FFFFFF>True</td>\n",
       "<td bgcolor=#FFFFFF>True</td>\n",
       "<td bgcolor=#FFFFFF>True</td>\n",
       "<td bgcolor=#f6b5b1>0.009</td>\n",
       "</tr>\n",
       "<tr>\n",
       "<td bgcolor=#FFFFFF>True</td>\n",
       "<td bgcolor=#FFFFFF>True</td>\n",
       "<td bgcolor=#FFFFFF>False</td>\n",
       "<td bgcolor=#fbb4ae>0.001</td>\n",
       "</tr>\n",
       "<tr>\n",
       "<td bgcolor=#FFFFFF>True</td>\n",
       "<td bgcolor=#FFFFFF>False</td>\n",
       "<td bgcolor=#FFFFFF>True</td>\n",
       "<td bgcolor=#f6b5b1>0.009</td>\n",
       "</tr>\n",
       "<tr>\n",
       "<td bgcolor=#FFFFFF>True</td>\n",
       "<td bgcolor=#FFFFFF>False</td>\n",
       "<td bgcolor=#FFFFFF>False</td>\n",
       "<td bgcolor=#fbb4ae>0.001</td>\n",
       "</tr>\n",
       "<tr>\n",
       "<td bgcolor=#FFFFFF>False</td>\n",
       "<td bgcolor=#FFFFFF>True</td>\n",
       "<td bgcolor=#FFFFFF>True</td>\n",
       "<td bgcolor=#d1e1cd>0.287</td>\n",
       "</tr>\n",
       "<tr>\n",
       "<td bgcolor=#FFFFFF>False</td>\n",
       "<td bgcolor=#FFFFFF>True</td>\n",
       "<td bgcolor=#FFFFFF>False</td>\n",
       "<td bgcolor=#eee6c2>0.703</td>\n",
       "</tr>\n",
       "<tr>\n",
       "<td bgcolor=#FFFFFF>False</td>\n",
       "<td bgcolor=#FFFFFF>False</td>\n",
       "<td bgcolor=#FFFFFF>True</td>\n",
       "<td bgcolor=#fbb4ae>0.001</td>\n",
       "</tr>\n",
       "<tr>\n",
       "<td bgcolor=#FFFFFF>False</td>\n",
       "<td bgcolor=#FFFFFF>False</td>\n",
       "<td bgcolor=#FFFFFF>False</td>\n",
       "<td bgcolor=#f2f0f1>0.989</td>\n",
       "</tr>\n",
       "</table>"
      ],
      "text/plain": [
       "TableFactor(Burglary, Earthquake, Alarm)"
      ]
     },
     "execution_count": 22,
     "metadata": {},
     "output_type": "execute_result"
    }
   ],
   "source": [
    "factor = burglary * alarm\n",
    "factor"
   ]
  },
  {
   "cell_type": "code",
   "execution_count": 23,
   "metadata": {
    "collapsed": false
   },
   "outputs": [
    {
     "data": {
      "text/html": [
       "<table border=\"1\" cellpadding=\"4\" cellspacing=\"0\" bordercolor=\"#000000\">\n",
       "<tr bgcolor=\"#AAAAAA\">\n",
       "<th align=\"center\">Burglary</th>\n",
       "<th align=\"center\">Earthquake</th>\n",
       "<th align=\"center\">Alarm</th>\n",
       "<th align=\"center\">Prob.</th>\n",
       "</tr>\n",
       "<tr>\n",
       "<td bgcolor=#FFFFFF>True</td>\n",
       "<td bgcolor=#FFFFFF>True</td>\n",
       "<td bgcolor=#FFFFFF>True</td>\n",
       "<td bgcolor=#f6e8ef>0.950</td>\n",
       "</tr>\n",
       "<tr>\n",
       "<td bgcolor=#FFFFFF>True</td>\n",
       "<td bgcolor=#FFFFFF>True</td>\n",
       "<td bgcolor=#FFFFFF>False</td>\n",
       "<td bgcolor=#dfbdc1>0.050</td>\n",
       "</tr>\n",
       "<tr>\n",
       "<td bgcolor=#FFFFFF>True</td>\n",
       "<td bgcolor=#FFFFFF>False</td>\n",
       "<td bgcolor=#FFFFFF>True</td>\n",
       "<td bgcolor=#f7e6ef>0.940</td>\n",
       "</tr>\n",
       "<tr>\n",
       "<td bgcolor=#FFFFFF>True</td>\n",
       "<td bgcolor=#FFFFFF>False</td>\n",
       "<td bgcolor=#FFFFFF>False</td>\n",
       "<td bgcolor=#d9bfc6>0.060</td>\n",
       "</tr>\n",
       "<tr>\n",
       "<td bgcolor=#FFFFFF>False</td>\n",
       "<td bgcolor=#FFFFFF>True</td>\n",
       "<td bgcolor=#FFFFFF>True</td>\n",
       "<td bgcolor=#d1e0ce>0.290</td>\n",
       "</tr>\n",
       "<tr>\n",
       "<td bgcolor=#FFFFFF>False</td>\n",
       "<td bgcolor=#FFFFFF>True</td>\n",
       "<td bgcolor=#FFFFFF>False</td>\n",
       "<td bgcolor=#ede4c1>0.710</td>\n",
       "</tr>\n",
       "<tr>\n",
       "<td bgcolor=#FFFFFF>False</td>\n",
       "<td bgcolor=#FFFFFF>False</td>\n",
       "<td bgcolor=#FFFFFF>True</td>\n",
       "<td bgcolor=#fbb4ae>0.001</td>\n",
       "</tr>\n",
       "<tr>\n",
       "<td bgcolor=#FFFFFF>False</td>\n",
       "<td bgcolor=#FFFFFF>False</td>\n",
       "<td bgcolor=#FFFFFF>False</td>\n",
       "<td bgcolor=#f2f2f2>0.999</td>\n",
       "</tr>\n",
       "</table>"
      ],
      "text/plain": [
       "TableFactor(Burglary, Earthquake, Alarm)"
      ]
     },
     "execution_count": 23,
     "metadata": {},
     "output_type": "execute_result"
    }
   ],
   "source": [
    "factor / burglary"
   ]
  },
  {
   "cell_type": "markdown",
   "metadata": {},
   "source": [
    "## Random sampling"
   ]
  },
  {
   "cell_type": "markdown",
   "metadata": {},
   "source": [
    "### Sampling from a Factor"
   ]
  },
  {
   "cell_type": "code",
   "execution_count": 24,
   "metadata": {
    "collapsed": false
   },
   "outputs": [
    {
     "data": {
      "text/html": [
       "<table border=\"1\" cellpadding=\"4\" cellspacing=\"0\" bordercolor=\"#000000\">\n",
       "<tr bgcolor=\"#AAAAAA\">\n",
       "<th align=\"center\">a</th>\n",
       "<th align=\"center\">b</th>\n",
       "<th align=\"center\">Prob.</th>\n",
       "</tr>\n",
       "<tr>\n",
       "<td bgcolor=#FFFFFF>0</td>\n",
       "<td bgcolor=#FFFFFF>0</td>\n",
       "<td bgcolor=#cceac5>0.250</td>\n",
       "</tr>\n",
       "<tr>\n",
       "<td bgcolor=#FFFFFF>0</td>\n",
       "<td bgcolor=#FFFFFF>1</td>\n",
       "<td bgcolor=#cceac5>0.250</td>\n",
       "</tr>\n",
       "<tr>\n",
       "<td bgcolor=#FFFFFF>1</td>\n",
       "<td bgcolor=#FFFFFF>0</td>\n",
       "<td bgcolor=#e4cdd7>0.400</td>\n",
       "</tr>\n",
       "<tr>\n",
       "<td bgcolor=#FFFFFF>1</td>\n",
       "<td bgcolor=#FFFFFF>1</td>\n",
       "<td bgcolor=#c2c7d7>0.100</td>\n",
       "</tr>\n",
       "</table>"
      ],
      "text/plain": [
       "TableFactor(a, b)"
      ]
     },
     "execution_count": 24,
     "metadata": {},
     "output_type": "execute_result"
    }
   ],
   "source": [
    "f = gm.TableFactor(arguments=['a', 'b'], scope=['a', 'b'])\n",
    "f.table = np.array([[0.5, 0.5], [0.8, 0.2]])\n",
    "f.normalize(*f.scope, copy=False)\n",
    "f"
   ]
  },
  {
   "cell_type": "code",
   "execution_count": 25,
   "metadata": {
    "collapsed": false
   },
   "outputs": [],
   "source": [
    "# sampling\n",
    "rv = f.rvs(size=1e+6)"
   ]
  },
  {
   "cell_type": "code",
   "execution_count": 26,
   "metadata": {
    "collapsed": false
   },
   "outputs": [
    {
     "data": {
      "text/html": [
       "<table border=\"1\" cellpadding=\"4\" cellspacing=\"0\" bordercolor=\"#000000\">\n",
       "<tr bgcolor=\"#AAAAAA\">\n",
       "<th align=\"center\">a</th>\n",
       "<th align=\"center\">b</th>\n",
       "<th align=\"center\">Prob.</th>\n",
       "</tr>\n",
       "<tr>\n",
       "<td bgcolor=#FFFFFF>0</td>\n",
       "<td bgcolor=#FFFFFF>0</td>\n",
       "<td bgcolor=#cceac5>0.250</td>\n",
       "</tr>\n",
       "<tr>\n",
       "<td bgcolor=#FFFFFF>0</td>\n",
       "<td bgcolor=#FFFFFF>1</td>\n",
       "<td bgcolor=#cceac5>0.251</td>\n",
       "</tr>\n",
       "<tr>\n",
       "<td bgcolor=#FFFFFF>1</td>\n",
       "<td bgcolor=#FFFFFF>0</td>\n",
       "<td bgcolor=#e4cdd7>0.399</td>\n",
       "</tr>\n",
       "<tr>\n",
       "<td bgcolor=#FFFFFF>1</td>\n",
       "<td bgcolor=#FFFFFF>1</td>\n",
       "<td bgcolor=#c2c7d7>0.100</td>\n",
       "</tr>\n",
       "</table>"
      ],
      "text/plain": [
       "TableFactor(a, b)"
      ]
     },
     "execution_count": 26,
     "metadata": {},
     "output_type": "execute_result"
    }
   ],
   "source": [
    "# Check if the sampling is correct\n",
    "f1 = gm.TableFactor(['a', 'b'], ['a', 'b']).fit(rv)\n",
    "f1"
   ]
  },
  {
   "cell_type": "code",
   "execution_count": 27,
   "metadata": {
    "collapsed": false
   },
   "outputs": [
    {
     "data": {
      "text/html": [
       "<div>\n",
       "<table border=\"1\" class=\"dataframe\">\n",
       "  <thead>\n",
       "    <tr style=\"text-align: right;\">\n",
       "      <th></th>\n",
       "      <th>b</th>\n",
       "    </tr>\n",
       "  </thead>\n",
       "  <tbody>\n",
       "    <tr>\n",
       "      <th>0</th>\n",
       "      <td>1</td>\n",
       "    </tr>\n",
       "    <tr>\n",
       "      <th>1</th>\n",
       "      <td>0</td>\n",
       "    </tr>\n",
       "    <tr>\n",
       "      <th>2</th>\n",
       "      <td>1</td>\n",
       "    </tr>\n",
       "  </tbody>\n",
       "</table>\n",
       "</div>"
      ],
      "text/plain": [
       "   b\n",
       "0  1\n",
       "1  0\n",
       "2  1"
      ]
     },
     "execution_count": 27,
     "metadata": {},
     "output_type": "execute_result"
    }
   ],
   "source": [
    "# conditional sampling\n",
    "f.rvs(observed={'a': [0, 1, 0]})"
   ]
  },
  {
   "cell_type": "code",
   "execution_count": 28,
   "metadata": {
    "collapsed": false
   },
   "outputs": [
    {
     "data": {
      "text/html": [
       "<div>\n",
       "<table border=\"1\" class=\"dataframe\">\n",
       "  <thead>\n",
       "    <tr style=\"text-align: right;\">\n",
       "      <th></th>\n",
       "      <th>Alarm</th>\n",
       "    </tr>\n",
       "  </thead>\n",
       "  <tbody>\n",
       "    <tr>\n",
       "      <th>0</th>\n",
       "      <td>True</td>\n",
       "    </tr>\n",
       "    <tr>\n",
       "      <th>1</th>\n",
       "      <td>False</td>\n",
       "    </tr>\n",
       "    <tr>\n",
       "      <th>2</th>\n",
       "      <td>True</td>\n",
       "    </tr>\n",
       "  </tbody>\n",
       "</table>\n",
       "</div>"
      ],
      "text/plain": [
       "   Alarm\n",
       "0   True\n",
       "1  False\n",
       "2   True"
      ]
     },
     "execution_count": 28,
     "metadata": {},
     "output_type": "execute_result"
    }
   ],
   "source": [
    "dgm.factor('Alarm').rvs(observed={\n",
    "        'Earthquake': ['True', 'False', 'True'], \n",
    "        'Burglary': ['False', 'False', 'True']\n",
    "    })"
   ]
  },
  {
   "cell_type": "markdown",
   "metadata": {},
   "source": [
    "### Sampling from DGM"
   ]
  },
  {
   "cell_type": "code",
   "execution_count": 29,
   "metadata": {
    "collapsed": false
   },
   "outputs": [
    {
     "data": {
      "text/html": [
       "\n",
       "\n",
       "<style>\n",
       "\n",
       "table\n",
       "{\n",
       "  border-collapse: collapse;\n",
       "}\n",
       "th\n",
       "{\n",
       "  color: #ffffff;\n",
       "  background-color: #000000;\n",
       "}\n",
       "td\n",
       "{\n",
       "  background-color: #cccccc;\n",
       "}\n",
       "table, th, td\n",
       "{\n",
       "  font-family:Arial, Helvetica, sans-serif;\n",
       "  border: 1px solid black;\n",
       "  text-align: center;\n",
       "  padding: 3px;\n",
       "  font-size:11pt;\n",
       "}\n",
       "g.mpld3-xaxis, g.mpld3-yaxis {\n",
       "    display: none;\n",
       "}\n",
       "    \n",
       "</style>\n",
       "\n",
       "<div id=\"fig_el119451404924170628967024718062\"></div>\n",
       "<script>\n",
       "function mpld3_load_lib(url, callback){\n",
       "  var s = document.createElement('script');\n",
       "  s.src = url;\n",
       "  s.async = true;\n",
       "  s.onreadystatechange = s.onload = callback;\n",
       "  s.onerror = function(){console.warn(\"failed to load library \" + url);};\n",
       "  document.getElementsByTagName(\"head\")[0].appendChild(s);\n",
       "}\n",
       "\n",
       "if(typeof(mpld3) !== \"undefined\" && mpld3._mpld3IsLoaded){\n",
       "   // already loaded: just create the figure\n",
       "   !function(mpld3){\n",
       "       \n",
       "    mpld3.register_plugin(\"htmltooltip\", HtmlTooltipPlugin);\n",
       "    HtmlTooltipPlugin.prototype = Object.create(mpld3.Plugin.prototype);\n",
       "    HtmlTooltipPlugin.prototype.constructor = HtmlTooltipPlugin;\n",
       "    HtmlTooltipPlugin.prototype.requiredProps = [\"id\"];\n",
       "    HtmlTooltipPlugin.prototype.defaultProps = {labels:null, hoffset:0, voffset:10};\n",
       "    function HtmlTooltipPlugin(fig, props){\n",
       "        mpld3.Plugin.call(this, fig, props);\n",
       "    };\n",
       "\n",
       "    HtmlTooltipPlugin.prototype.draw = function(){\n",
       "       var obj = mpld3.get_element(this.props.id);\n",
       "       var labels = this.props.labels;\n",
       "       var tooltip = d3.select(\"body\").append(\"div\")\n",
       "                    .attr(\"class\", \"mpld3-tooltip\")\n",
       "                    .style(\"position\", \"absolute\")\n",
       "                    .style(\"z-index\", \"10\")\n",
       "                    .style(\"visibility\", \"hidden\");\n",
       "\n",
       "       obj.elements()\n",
       "           .on(\"mouseover\", function(d, i){\n",
       "                              tooltip.html(labels[i])\n",
       "                                     .style(\"visibility\", \"visible\");})\n",
       "           .on(\"mousemove\", function(d, i){\n",
       "                    tooltip\n",
       "                      .style(\"top\", d3.event.pageY + this.props.voffset + \"px\")\n",
       "                      .style(\"left\",d3.event.pageX + this.props.hoffset + \"px\");\n",
       "                 }.bind(this))\n",
       "           .on(\"mouseout\",  function(d, i){\n",
       "                           tooltip.style(\"visibility\", \"hidden\");});\n",
       "    };\n",
       "    \n",
       "       mpld3.draw_figure(\"fig_el119451404924170628967024718062\", {\"height\": 640.0, \"plugins\": [{\"type\": \"reset\"}, {\"enabled\": false, \"type\": \"zoom\", \"button\": true}, {\"enabled\": false, \"type\": \"boxzoom\", \"button\": true}, {\"labels\": [\"<table border=\\\"1\\\" cellpadding=\\\"4\\\" cellspacing=\\\"0\\\" bordercolor=\\\"#000000\\\">\\n<tr bgcolor=\\\"#AAAAAA\\\">\\n<th align=\\\"center\\\">Burglary</th>\\n<th align=\\\"center\\\">Prob.</th>\\n</tr>\\n<tr>\\n<td bgcolor=#FFFFFF>True</td>\\n<td bgcolor=#f6b5b1>0.010</td>\\n</tr>\\n<tr>\\n<td bgcolor=#FFFFFF>False</td>\\n<td bgcolor=#f2f0f1>0.990</td>\\n</tr>\\n</table>\", \"<table border=\\\"1\\\" cellpadding=\\\"4\\\" cellspacing=\\\"0\\\" bordercolor=\\\"#000000\\\">\\n<tr bgcolor=\\\"#AAAAAA\\\">\\n<th align=\\\"center\\\">Earthquake</th>\\n<th align=\\\"center\\\">Prob.</th>\\n</tr>\\n<tr>\\n<td bgcolor=#FFFFFF>True</td>\\n<td bgcolor=#efb7b6>0.020</td>\\n</tr>\\n<tr>\\n<td bgcolor=#FFFFFF>False</td>\\n<td bgcolor=#f3eef1>0.980</td>\\n</tr>\\n</table>\", \"<table border=\\\"1\\\" cellpadding=\\\"4\\\" cellspacing=\\\"0\\\" bordercolor=\\\"#000000\\\">\\n<tr bgcolor=\\\"#AAAAAA\\\">\\n<th align=\\\"center\\\">Alarm</th>\\n<th align=\\\"center\\\">MaryCalls</th>\\n<th align=\\\"center\\\">Prob.</th>\\n</tr>\\n<tr>\\n<td bgcolor=#FFFFFF>True</td>\\n<td bgcolor=#FFFFFF>True</td>\\n<td bgcolor=#eee6c2>0.700</td>\\n</tr>\\n<tr>\\n<td bgcolor=#FFFFFF>True</td>\\n<td bgcolor=#FFFFFF>False</td>\\n<td bgcolor=#d2ded0>0.300</td>\\n</tr>\\n<tr>\\n<td bgcolor=#FFFFFF>False</td>\\n<td bgcolor=#FFFFFF>True</td>\\n<td bgcolor=#f6b5b1>0.010</td>\\n</tr>\\n<tr>\\n<td bgcolor=#FFFFFF>False</td>\\n<td bgcolor=#FFFFFF>False</td>\\n<td bgcolor=#f2f0f1>0.990</td>\\n</tr>\\n</table>\", \"<table border=\\\"1\\\" cellpadding=\\\"4\\\" cellspacing=\\\"0\\\" bordercolor=\\\"#000000\\\">\\n<tr bgcolor=\\\"#AAAAAA\\\">\\n<th align=\\\"center\\\">Burglary</th>\\n<th align=\\\"center\\\">Earthquake</th>\\n<th align=\\\"center\\\">Alarm</th>\\n<th align=\\\"center\\\">Prob.</th>\\n</tr>\\n<tr>\\n<td bgcolor=#FFFFFF>True</td>\\n<td bgcolor=#FFFFFF>True</td>\\n<td bgcolor=#FFFFFF>True</td>\\n<td bgcolor=#f6e8ef>0.950</td>\\n</tr>\\n<tr>\\n<td bgcolor=#FFFFFF>True</td>\\n<td bgcolor=#FFFFFF>True</td>\\n<td bgcolor=#FFFFFF>False</td>\\n<td bgcolor=#dfbdc1>0.050</td>\\n</tr>\\n<tr>\\n<td bgcolor=#FFFFFF>True</td>\\n<td bgcolor=#FFFFFF>False</td>\\n<td bgcolor=#FFFFFF>True</td>\\n<td bgcolor=#f7e6ef>0.940</td>\\n</tr>\\n<tr>\\n<td bgcolor=#FFFFFF>True</td>\\n<td bgcolor=#FFFFFF>False</td>\\n<td bgcolor=#FFFFFF>False</td>\\n<td bgcolor=#d9bfc6>0.060</td>\\n</tr>\\n<tr>\\n<td bgcolor=#FFFFFF>False</td>\\n<td bgcolor=#FFFFFF>True</td>\\n<td bgcolor=#FFFFFF>True</td>\\n<td bgcolor=#d1e0ce>0.290</td>\\n</tr>\\n<tr>\\n<td bgcolor=#FFFFFF>False</td>\\n<td bgcolor=#FFFFFF>True</td>\\n<td bgcolor=#FFFFFF>False</td>\\n<td bgcolor=#ede4c1>0.710</td>\\n</tr>\\n<tr>\\n<td bgcolor=#FFFFFF>False</td>\\n<td bgcolor=#FFFFFF>False</td>\\n<td bgcolor=#FFFFFF>True</td>\\n<td bgcolor=#fbb4ae>0.001</td>\\n</tr>\\n<tr>\\n<td bgcolor=#FFFFFF>False</td>\\n<td bgcolor=#FFFFFF>False</td>\\n<td bgcolor=#FFFFFF>False</td>\\n<td bgcolor=#f2f2f2>0.999</td>\\n</tr>\\n</table>\", \"<table border=\\\"1\\\" cellpadding=\\\"4\\\" cellspacing=\\\"0\\\" bordercolor=\\\"#000000\\\">\\n<tr bgcolor=\\\"#AAAAAA\\\">\\n<th align=\\\"center\\\">Alarm</th>\\n<th align=\\\"center\\\">JohnCalls</th>\\n<th align=\\\"center\\\">Prob.</th>\\n</tr>\\n<tr>\\n<td bgcolor=#FFFFFF>True</td>\\n<td bgcolor=#FFFFFF>True</td>\\n<td bgcolor=#fadfed>0.900</td>\\n</tr>\\n<tr>\\n<td bgcolor=#FFFFFF>True</td>\\n<td bgcolor=#FFFFFF>False</td>\\n<td bgcolor=#c2c7d7>0.100</td>\\n</tr>\\n<tr>\\n<td bgcolor=#FFFFFF>False</td>\\n<td bgcolor=#FFFFFF>True</td>\\n<td bgcolor=#dfbdc1>0.050</td>\\n</tr>\\n<tr>\\n<td bgcolor=#FFFFFF>False</td>\\n<td bgcolor=#FFFFFF>False</td>\\n<td bgcolor=#f6e8ef>0.950</td>\\n</tr>\\n</table>\"], \"type\": \"htmltooltip\", \"voffset\": 10, \"id\": \"el11945140492414137120pts\", \"hoffset\": 10}], \"axes\": [{\"bbox\": [0.125, 0.125, 0.775, 0.775], \"sharey\": [], \"zoomable\": true, \"collections\": [], \"markers\": [{\"coordinates\": \"data\", \"edgecolor\": \"#000000\", \"yindex\": 1, \"xindex\": 0, \"alpha\": 1.0, \"zorder\": 2, \"markerpath\": [[[0.0, 10.0], [2.652031, 10.0], [5.195798707848534, 8.946336915882418], [7.0710678118654755, 7.0710678118654755], [8.946336915882418, 5.195798707848534], [10.0, 2.652031], [10.0, 0.0], [10.0, -2.652031], [8.946336915882418, -5.195798707848534], [7.0710678118654755, -7.0710678118654755], [5.195798707848534, -8.946336915882418], [2.652031, -10.0], [0.0, -10.0], [-2.652031, -10.0], [-5.195798707848534, -8.946336915882418], [-7.0710678118654755, -7.0710678118654755], [-8.946336915882418, -5.195798707848534], [-10.0, -2.652031], [-10.0, 0.0], [-10.0, 2.652031], [-8.946336915882418, 5.195798707848534], [-7.0710678118654755, 7.0710678118654755], [-5.195798707848534, 8.946336915882418], [-2.652031, 10.0], [0.0, 10.0]], [\"M\", \"C\", \"C\", \"C\", \"C\", \"C\", \"C\", \"C\", \"C\", \"Z\"]], \"id\": \"el11945140492414034104pts\", \"edgewidth\": 1, \"facecolor\": \"#D3D3D3\", \"data\": \"data09\"}, {\"coordinates\": \"data\", \"edgecolor\": \"#000000\", \"yindex\": 1, \"xindex\": 0, \"alpha\": 0.0, \"zorder\": 2, \"markerpath\": [[[0.0, 20.0], [5.304062, 20.0], [10.391597415697069, 17.892673831764835], [14.142135623730951, 14.142135623730951], [17.892673831764835, 10.391597415697069], [20.0, 5.304062], [20.0, 0.0], [20.0, -5.304062], [17.892673831764835, -10.391597415697069], [14.142135623730951, -14.142135623730951], [10.391597415697069, -17.892673831764835], [5.304062, -20.0], [0.0, -20.0], [-5.304062, -20.0], [-10.391597415697069, -17.892673831764835], [-14.142135623730951, -14.142135623730951], [-17.892673831764835, -10.391597415697069], [-20.0, -5.304062], [-20.0, 0.0], [-20.0, 5.304062], [-17.892673831764835, 10.391597415697069], [-14.142135623730951, 14.142135623730951], [-10.391597415697069, 17.892673831764835], [-5.304062, 20.0], [0.0, 20.0]], [\"M\", \"C\", \"C\", \"C\", \"C\", \"C\", \"C\", \"C\", \"C\", \"Z\"]], \"id\": \"el11945140492414137120pts\", \"edgewidth\": 1, \"facecolor\": \"#D3D3D3\", \"data\": \"data09\"}], \"paths\": [], \"xlim\": [-0.6097716880462823, 0.904942610867909], \"texts\": [{\"id\": \"el11945140492414138296\", \"zorder\": 3, \"h_anchor\": \"middle\", \"color\": \"#000000\", \"fontsize\": 10.0, \"coordinates\": \"data\", \"text\": \"Burglary\", \"rotation\": -0.0, \"position\": [0.824942610867909, -0.62101179802201], \"v_baseline\": \"central\", \"alpha\": 1}, {\"id\": \"el11945140492414139808\", \"zorder\": 3, \"h_anchor\": \"middle\", \"color\": \"#000000\", \"fontsize\": 10.0, \"coordinates\": \"data\", \"text\": \"Earthquake\", \"rotation\": -0.0, \"position\": [-0.33126485458416666, -0.7987270848885134], \"v_baseline\": \"central\", \"alpha\": 1}, {\"id\": \"el11945140492414157600\", \"zorder\": 3, \"h_anchor\": \"middle\", \"color\": \"#000000\", \"fontsize\": 10.0, \"coordinates\": \"data\", \"text\": \"MaryCalls\", \"rotation\": -0.0, \"position\": [-0.2704307122112847, 1.0], \"v_baseline\": \"central\", \"alpha\": 1}, {\"id\": \"el11945140492414158944\", \"zorder\": 3, \"h_anchor\": \"middle\", \"color\": \"#000000\", \"fontsize\": 10.0, \"coordinates\": \"data\", \"text\": \"Alarm\", \"rotation\": -0.0, \"position\": [0.3065246439738252, 0.17455148055477393], \"v_baseline\": \"central\", \"alpha\": 1}, {\"id\": \"el11945140492414160288\", \"zorder\": 3, \"h_anchor\": \"middle\", \"color\": \"#000000\", \"fontsize\": 10.0, \"coordinates\": \"data\", \"text\": \"JohnCalls\", \"rotation\": -0.0, \"position\": [-0.5297716880462824, 0.24518740235574984], \"v_baseline\": \"central\", \"alpha\": 1}], \"yscale\": \"linear\", \"images\": [], \"ylim\": [-0.8787270848885134, 1.08], \"axesbg\": \"#FFFFFF\", \"id\": \"el11945140492417098136\", \"axes\": [{\"tickformat\": null, \"grid\": {\"gridOn\": false}, \"tickvalues\": null, \"position\": \"bottom\", \"fontsize\": 10.0, \"nticks\": 10, \"scale\": \"linear\"}, {\"tickformat\": null, \"grid\": {\"gridOn\": false}, \"tickvalues\": null, \"position\": \"left\", \"fontsize\": 10.0, \"nticks\": 6, \"scale\": \"linear\"}], \"xscale\": \"linear\", \"ydomain\": [-0.8787270848885134, 1.08], \"axesbgalpha\": null, \"sharex\": [], \"lines\": [{\"coordinates\": \"data\", \"linewidth\": 1.0, \"yindex\": 1, \"xindex\": 0, \"zorder\": 2, \"dasharray\": \"10,0\", \"color\": \"#808080\", \"id\": \"el11945140492414034216\", \"alpha\": 1, \"data\": \"data01\"}, {\"coordinates\": \"data\", \"linewidth\": 5, \"yindex\": 1, \"xindex\": 0, \"zorder\": 2, \"dasharray\": \"10,0\", \"color\": \"#000000\", \"id\": \"el11945140492414035056\", \"alpha\": 0.5, \"data\": \"data02\"}, {\"coordinates\": \"data\", \"linewidth\": 1.0, \"yindex\": 1, \"xindex\": 0, \"zorder\": 2, \"dasharray\": \"10,0\", \"color\": \"#808080\", \"id\": \"el11945140492414035896\", \"alpha\": 1, \"data\": \"data03\"}, {\"coordinates\": \"data\", \"linewidth\": 5, \"yindex\": 1, \"xindex\": 0, \"zorder\": 2, \"dasharray\": \"10,0\", \"color\": \"#000000\", \"id\": \"el11945140492414067768\", \"alpha\": 0.5, \"data\": \"data04\"}, {\"coordinates\": \"data\", \"linewidth\": 1.0, \"yindex\": 1, \"xindex\": 0, \"zorder\": 2, \"dasharray\": \"10,0\", \"color\": \"#808080\", \"id\": \"el11945140492414069728\", \"alpha\": 1, \"data\": \"data05\"}, {\"coordinates\": \"data\", \"linewidth\": 5, \"yindex\": 1, \"xindex\": 0, \"zorder\": 2, \"dasharray\": \"10,0\", \"color\": \"#000000\", \"id\": \"el11945140492414092232\", \"alpha\": 0.5, \"data\": \"data06\"}, {\"coordinates\": \"data\", \"linewidth\": 1.0, \"yindex\": 1, \"xindex\": 0, \"zorder\": 2, \"dasharray\": \"10,0\", \"color\": \"#808080\", \"id\": \"el11945140492414094192\", \"alpha\": 1, \"data\": \"data07\"}, {\"coordinates\": \"data\", \"linewidth\": 5, \"yindex\": 1, \"xindex\": 0, \"zorder\": 2, \"dasharray\": \"10,0\", \"color\": \"#000000\", \"id\": \"el11945140492414108504\", \"alpha\": 0.5, \"data\": \"data08\"}], \"xdomain\": [-0.6097716880462823, 0.904942610867909]}], \"id\": \"el11945140492417062896\", \"width\": 960.0, \"data\": {\"data09\": [[0.824942610867909, -0.62101179802201], [-0.33126485458416666, -0.7987270848885134], [-0.2704307122112847, 1.0], [0.3065246439738252, 0.17455148055477393], [-0.5297716880462824, 0.24518740235574984]], \"data07\": [[0.3065246439738252, 0.17455148055477393], [-0.5297716880462824, 0.24518740235574984]], \"data04\": [[0.2108562191901264, 0.02855969573828082], [0.3065246439738252, 0.17455148055477393]], \"data05\": [[0.3065246439738252, 0.17455148055477393], [-0.2704307122112847, 1.0]], \"data08\": [[-0.4043272382432662, 0.23459201408560346], [-0.5297716880462824, 0.24518740235574984]], \"data01\": [[0.824942610867909, -0.62101179802201], [0.3065246439738252, 0.17455148055477393]], \"data03\": [[-0.33126485458416666, -0.7987270848885134], [0.3065246439738252, 0.17455148055477393]], \"data02\": [[0.38428733900793777, 0.055216988768256356], [0.3065246439738252, 0.17455148055477393]], \"data06\": [[-0.1838874087835182, 0.8761827220832161], [-0.2704307122112847, 1.0]]}});\n",
       "   }(mpld3);\n",
       "}else if(typeof define === \"function\" && define.amd){\n",
       "   // require.js is available: use it to load d3/mpld3\n",
       "   require.config({paths: {d3: \"https://mpld3.github.io/js/d3.v3.min\"}});\n",
       "   require([\"d3\"], function(d3){\n",
       "      window.d3 = d3;\n",
       "      mpld3_load_lib(\"https://mpld3.github.io/js/mpld3.v0.2.js\", function(){\n",
       "         \n",
       "    mpld3.register_plugin(\"htmltooltip\", HtmlTooltipPlugin);\n",
       "    HtmlTooltipPlugin.prototype = Object.create(mpld3.Plugin.prototype);\n",
       "    HtmlTooltipPlugin.prototype.constructor = HtmlTooltipPlugin;\n",
       "    HtmlTooltipPlugin.prototype.requiredProps = [\"id\"];\n",
       "    HtmlTooltipPlugin.prototype.defaultProps = {labels:null, hoffset:0, voffset:10};\n",
       "    function HtmlTooltipPlugin(fig, props){\n",
       "        mpld3.Plugin.call(this, fig, props);\n",
       "    };\n",
       "\n",
       "    HtmlTooltipPlugin.prototype.draw = function(){\n",
       "       var obj = mpld3.get_element(this.props.id);\n",
       "       var labels = this.props.labels;\n",
       "       var tooltip = d3.select(\"body\").append(\"div\")\n",
       "                    .attr(\"class\", \"mpld3-tooltip\")\n",
       "                    .style(\"position\", \"absolute\")\n",
       "                    .style(\"z-index\", \"10\")\n",
       "                    .style(\"visibility\", \"hidden\");\n",
       "\n",
       "       obj.elements()\n",
       "           .on(\"mouseover\", function(d, i){\n",
       "                              tooltip.html(labels[i])\n",
       "                                     .style(\"visibility\", \"visible\");})\n",
       "           .on(\"mousemove\", function(d, i){\n",
       "                    tooltip\n",
       "                      .style(\"top\", d3.event.pageY + this.props.voffset + \"px\")\n",
       "                      .style(\"left\",d3.event.pageX + this.props.hoffset + \"px\");\n",
       "                 }.bind(this))\n",
       "           .on(\"mouseout\",  function(d, i){\n",
       "                           tooltip.style(\"visibility\", \"hidden\");});\n",
       "    };\n",
       "    \n",
       "         mpld3.draw_figure(\"fig_el119451404924170628967024718062\", {\"height\": 640.0, \"plugins\": [{\"type\": \"reset\"}, {\"enabled\": false, \"type\": \"zoom\", \"button\": true}, {\"enabled\": false, \"type\": \"boxzoom\", \"button\": true}, {\"labels\": [\"<table border=\\\"1\\\" cellpadding=\\\"4\\\" cellspacing=\\\"0\\\" bordercolor=\\\"#000000\\\">\\n<tr bgcolor=\\\"#AAAAAA\\\">\\n<th align=\\\"center\\\">Burglary</th>\\n<th align=\\\"center\\\">Prob.</th>\\n</tr>\\n<tr>\\n<td bgcolor=#FFFFFF>True</td>\\n<td bgcolor=#f6b5b1>0.010</td>\\n</tr>\\n<tr>\\n<td bgcolor=#FFFFFF>False</td>\\n<td bgcolor=#f2f0f1>0.990</td>\\n</tr>\\n</table>\", \"<table border=\\\"1\\\" cellpadding=\\\"4\\\" cellspacing=\\\"0\\\" bordercolor=\\\"#000000\\\">\\n<tr bgcolor=\\\"#AAAAAA\\\">\\n<th align=\\\"center\\\">Earthquake</th>\\n<th align=\\\"center\\\">Prob.</th>\\n</tr>\\n<tr>\\n<td bgcolor=#FFFFFF>True</td>\\n<td bgcolor=#efb7b6>0.020</td>\\n</tr>\\n<tr>\\n<td bgcolor=#FFFFFF>False</td>\\n<td bgcolor=#f3eef1>0.980</td>\\n</tr>\\n</table>\", \"<table border=\\\"1\\\" cellpadding=\\\"4\\\" cellspacing=\\\"0\\\" bordercolor=\\\"#000000\\\">\\n<tr bgcolor=\\\"#AAAAAA\\\">\\n<th align=\\\"center\\\">Alarm</th>\\n<th align=\\\"center\\\">MaryCalls</th>\\n<th align=\\\"center\\\">Prob.</th>\\n</tr>\\n<tr>\\n<td bgcolor=#FFFFFF>True</td>\\n<td bgcolor=#FFFFFF>True</td>\\n<td bgcolor=#eee6c2>0.700</td>\\n</tr>\\n<tr>\\n<td bgcolor=#FFFFFF>True</td>\\n<td bgcolor=#FFFFFF>False</td>\\n<td bgcolor=#d2ded0>0.300</td>\\n</tr>\\n<tr>\\n<td bgcolor=#FFFFFF>False</td>\\n<td bgcolor=#FFFFFF>True</td>\\n<td bgcolor=#f6b5b1>0.010</td>\\n</tr>\\n<tr>\\n<td bgcolor=#FFFFFF>False</td>\\n<td bgcolor=#FFFFFF>False</td>\\n<td bgcolor=#f2f0f1>0.990</td>\\n</tr>\\n</table>\", \"<table border=\\\"1\\\" cellpadding=\\\"4\\\" cellspacing=\\\"0\\\" bordercolor=\\\"#000000\\\">\\n<tr bgcolor=\\\"#AAAAAA\\\">\\n<th align=\\\"center\\\">Burglary</th>\\n<th align=\\\"center\\\">Earthquake</th>\\n<th align=\\\"center\\\">Alarm</th>\\n<th align=\\\"center\\\">Prob.</th>\\n</tr>\\n<tr>\\n<td bgcolor=#FFFFFF>True</td>\\n<td bgcolor=#FFFFFF>True</td>\\n<td bgcolor=#FFFFFF>True</td>\\n<td bgcolor=#f6e8ef>0.950</td>\\n</tr>\\n<tr>\\n<td bgcolor=#FFFFFF>True</td>\\n<td bgcolor=#FFFFFF>True</td>\\n<td bgcolor=#FFFFFF>False</td>\\n<td bgcolor=#dfbdc1>0.050</td>\\n</tr>\\n<tr>\\n<td bgcolor=#FFFFFF>True</td>\\n<td bgcolor=#FFFFFF>False</td>\\n<td bgcolor=#FFFFFF>True</td>\\n<td bgcolor=#f7e6ef>0.940</td>\\n</tr>\\n<tr>\\n<td bgcolor=#FFFFFF>True</td>\\n<td bgcolor=#FFFFFF>False</td>\\n<td bgcolor=#FFFFFF>False</td>\\n<td bgcolor=#d9bfc6>0.060</td>\\n</tr>\\n<tr>\\n<td bgcolor=#FFFFFF>False</td>\\n<td bgcolor=#FFFFFF>True</td>\\n<td bgcolor=#FFFFFF>True</td>\\n<td bgcolor=#d1e0ce>0.290</td>\\n</tr>\\n<tr>\\n<td bgcolor=#FFFFFF>False</td>\\n<td bgcolor=#FFFFFF>True</td>\\n<td bgcolor=#FFFFFF>False</td>\\n<td bgcolor=#ede4c1>0.710</td>\\n</tr>\\n<tr>\\n<td bgcolor=#FFFFFF>False</td>\\n<td bgcolor=#FFFFFF>False</td>\\n<td bgcolor=#FFFFFF>True</td>\\n<td bgcolor=#fbb4ae>0.001</td>\\n</tr>\\n<tr>\\n<td bgcolor=#FFFFFF>False</td>\\n<td bgcolor=#FFFFFF>False</td>\\n<td bgcolor=#FFFFFF>False</td>\\n<td bgcolor=#f2f2f2>0.999</td>\\n</tr>\\n</table>\", \"<table border=\\\"1\\\" cellpadding=\\\"4\\\" cellspacing=\\\"0\\\" bordercolor=\\\"#000000\\\">\\n<tr bgcolor=\\\"#AAAAAA\\\">\\n<th align=\\\"center\\\">Alarm</th>\\n<th align=\\\"center\\\">JohnCalls</th>\\n<th align=\\\"center\\\">Prob.</th>\\n</tr>\\n<tr>\\n<td bgcolor=#FFFFFF>True</td>\\n<td bgcolor=#FFFFFF>True</td>\\n<td bgcolor=#fadfed>0.900</td>\\n</tr>\\n<tr>\\n<td bgcolor=#FFFFFF>True</td>\\n<td bgcolor=#FFFFFF>False</td>\\n<td bgcolor=#c2c7d7>0.100</td>\\n</tr>\\n<tr>\\n<td bgcolor=#FFFFFF>False</td>\\n<td bgcolor=#FFFFFF>True</td>\\n<td bgcolor=#dfbdc1>0.050</td>\\n</tr>\\n<tr>\\n<td bgcolor=#FFFFFF>False</td>\\n<td bgcolor=#FFFFFF>False</td>\\n<td bgcolor=#f6e8ef>0.950</td>\\n</tr>\\n</table>\"], \"type\": \"htmltooltip\", \"voffset\": 10, \"id\": \"el11945140492414137120pts\", \"hoffset\": 10}], \"axes\": [{\"bbox\": [0.125, 0.125, 0.775, 0.775], \"sharey\": [], \"zoomable\": true, \"collections\": [], \"markers\": [{\"coordinates\": \"data\", \"edgecolor\": \"#000000\", \"yindex\": 1, \"xindex\": 0, \"alpha\": 1.0, \"zorder\": 2, \"markerpath\": [[[0.0, 10.0], [2.652031, 10.0], [5.195798707848534, 8.946336915882418], [7.0710678118654755, 7.0710678118654755], [8.946336915882418, 5.195798707848534], [10.0, 2.652031], [10.0, 0.0], [10.0, -2.652031], [8.946336915882418, -5.195798707848534], [7.0710678118654755, -7.0710678118654755], [5.195798707848534, -8.946336915882418], [2.652031, -10.0], [0.0, -10.0], [-2.652031, -10.0], [-5.195798707848534, -8.946336915882418], [-7.0710678118654755, -7.0710678118654755], [-8.946336915882418, -5.195798707848534], [-10.0, -2.652031], [-10.0, 0.0], [-10.0, 2.652031], [-8.946336915882418, 5.195798707848534], [-7.0710678118654755, 7.0710678118654755], [-5.195798707848534, 8.946336915882418], [-2.652031, 10.0], [0.0, 10.0]], [\"M\", \"C\", \"C\", \"C\", \"C\", \"C\", \"C\", \"C\", \"C\", \"Z\"]], \"id\": \"el11945140492414034104pts\", \"edgewidth\": 1, \"facecolor\": \"#D3D3D3\", \"data\": \"data09\"}, {\"coordinates\": \"data\", \"edgecolor\": \"#000000\", \"yindex\": 1, \"xindex\": 0, \"alpha\": 0.0, \"zorder\": 2, \"markerpath\": [[[0.0, 20.0], [5.304062, 20.0], [10.391597415697069, 17.892673831764835], [14.142135623730951, 14.142135623730951], [17.892673831764835, 10.391597415697069], [20.0, 5.304062], [20.0, 0.0], [20.0, -5.304062], [17.892673831764835, -10.391597415697069], [14.142135623730951, -14.142135623730951], [10.391597415697069, -17.892673831764835], [5.304062, -20.0], [0.0, -20.0], [-5.304062, -20.0], [-10.391597415697069, -17.892673831764835], [-14.142135623730951, -14.142135623730951], [-17.892673831764835, -10.391597415697069], [-20.0, -5.304062], [-20.0, 0.0], [-20.0, 5.304062], [-17.892673831764835, 10.391597415697069], [-14.142135623730951, 14.142135623730951], [-10.391597415697069, 17.892673831764835], [-5.304062, 20.0], [0.0, 20.0]], [\"M\", \"C\", \"C\", \"C\", \"C\", \"C\", \"C\", \"C\", \"C\", \"Z\"]], \"id\": \"el11945140492414137120pts\", \"edgewidth\": 1, \"facecolor\": \"#D3D3D3\", \"data\": \"data09\"}], \"paths\": [], \"xlim\": [-0.6097716880462823, 0.904942610867909], \"texts\": [{\"id\": \"el11945140492414138296\", \"zorder\": 3, \"h_anchor\": \"middle\", \"color\": \"#000000\", \"fontsize\": 10.0, \"coordinates\": \"data\", \"text\": \"Burglary\", \"rotation\": -0.0, \"position\": [0.824942610867909, -0.62101179802201], \"v_baseline\": \"central\", \"alpha\": 1}, {\"id\": \"el11945140492414139808\", \"zorder\": 3, \"h_anchor\": \"middle\", \"color\": \"#000000\", \"fontsize\": 10.0, \"coordinates\": \"data\", \"text\": \"Earthquake\", \"rotation\": -0.0, \"position\": [-0.33126485458416666, -0.7987270848885134], \"v_baseline\": \"central\", \"alpha\": 1}, {\"id\": \"el11945140492414157600\", \"zorder\": 3, \"h_anchor\": \"middle\", \"color\": \"#000000\", \"fontsize\": 10.0, \"coordinates\": \"data\", \"text\": \"MaryCalls\", \"rotation\": -0.0, \"position\": [-0.2704307122112847, 1.0], \"v_baseline\": \"central\", \"alpha\": 1}, {\"id\": \"el11945140492414158944\", \"zorder\": 3, \"h_anchor\": \"middle\", \"color\": \"#000000\", \"fontsize\": 10.0, \"coordinates\": \"data\", \"text\": \"Alarm\", \"rotation\": -0.0, \"position\": [0.3065246439738252, 0.17455148055477393], \"v_baseline\": \"central\", \"alpha\": 1}, {\"id\": \"el11945140492414160288\", \"zorder\": 3, \"h_anchor\": \"middle\", \"color\": \"#000000\", \"fontsize\": 10.0, \"coordinates\": \"data\", \"text\": \"JohnCalls\", \"rotation\": -0.0, \"position\": [-0.5297716880462824, 0.24518740235574984], \"v_baseline\": \"central\", \"alpha\": 1}], \"yscale\": \"linear\", \"images\": [], \"ylim\": [-0.8787270848885134, 1.08], \"axesbg\": \"#FFFFFF\", \"id\": \"el11945140492417098136\", \"axes\": [{\"tickformat\": null, \"grid\": {\"gridOn\": false}, \"tickvalues\": null, \"position\": \"bottom\", \"fontsize\": 10.0, \"nticks\": 10, \"scale\": \"linear\"}, {\"tickformat\": null, \"grid\": {\"gridOn\": false}, \"tickvalues\": null, \"position\": \"left\", \"fontsize\": 10.0, \"nticks\": 6, \"scale\": \"linear\"}], \"xscale\": \"linear\", \"ydomain\": [-0.8787270848885134, 1.08], \"axesbgalpha\": null, \"sharex\": [], \"lines\": [{\"coordinates\": \"data\", \"linewidth\": 1.0, \"yindex\": 1, \"xindex\": 0, \"zorder\": 2, \"dasharray\": \"10,0\", \"color\": \"#808080\", \"id\": \"el11945140492414034216\", \"alpha\": 1, \"data\": \"data01\"}, {\"coordinates\": \"data\", \"linewidth\": 5, \"yindex\": 1, \"xindex\": 0, \"zorder\": 2, \"dasharray\": \"10,0\", \"color\": \"#000000\", \"id\": \"el11945140492414035056\", \"alpha\": 0.5, \"data\": \"data02\"}, {\"coordinates\": \"data\", \"linewidth\": 1.0, \"yindex\": 1, \"xindex\": 0, \"zorder\": 2, \"dasharray\": \"10,0\", \"color\": \"#808080\", \"id\": \"el11945140492414035896\", \"alpha\": 1, \"data\": \"data03\"}, {\"coordinates\": \"data\", \"linewidth\": 5, \"yindex\": 1, \"xindex\": 0, \"zorder\": 2, \"dasharray\": \"10,0\", \"color\": \"#000000\", \"id\": \"el11945140492414067768\", \"alpha\": 0.5, \"data\": \"data04\"}, {\"coordinates\": \"data\", \"linewidth\": 1.0, \"yindex\": 1, \"xindex\": 0, \"zorder\": 2, \"dasharray\": \"10,0\", \"color\": \"#808080\", \"id\": \"el11945140492414069728\", \"alpha\": 1, \"data\": \"data05\"}, {\"coordinates\": \"data\", \"linewidth\": 5, \"yindex\": 1, \"xindex\": 0, \"zorder\": 2, \"dasharray\": \"10,0\", \"color\": \"#000000\", \"id\": \"el11945140492414092232\", \"alpha\": 0.5, \"data\": \"data06\"}, {\"coordinates\": \"data\", \"linewidth\": 1.0, \"yindex\": 1, \"xindex\": 0, \"zorder\": 2, \"dasharray\": \"10,0\", \"color\": \"#808080\", \"id\": \"el11945140492414094192\", \"alpha\": 1, \"data\": \"data07\"}, {\"coordinates\": \"data\", \"linewidth\": 5, \"yindex\": 1, \"xindex\": 0, \"zorder\": 2, \"dasharray\": \"10,0\", \"color\": \"#000000\", \"id\": \"el11945140492414108504\", \"alpha\": 0.5, \"data\": \"data08\"}], \"xdomain\": [-0.6097716880462823, 0.904942610867909]}], \"id\": \"el11945140492417062896\", \"width\": 960.0, \"data\": {\"data09\": [[0.824942610867909, -0.62101179802201], [-0.33126485458416666, -0.7987270848885134], [-0.2704307122112847, 1.0], [0.3065246439738252, 0.17455148055477393], [-0.5297716880462824, 0.24518740235574984]], \"data07\": [[0.3065246439738252, 0.17455148055477393], [-0.5297716880462824, 0.24518740235574984]], \"data04\": [[0.2108562191901264, 0.02855969573828082], [0.3065246439738252, 0.17455148055477393]], \"data05\": [[0.3065246439738252, 0.17455148055477393], [-0.2704307122112847, 1.0]], \"data08\": [[-0.4043272382432662, 0.23459201408560346], [-0.5297716880462824, 0.24518740235574984]], \"data01\": [[0.824942610867909, -0.62101179802201], [0.3065246439738252, 0.17455148055477393]], \"data03\": [[-0.33126485458416666, -0.7987270848885134], [0.3065246439738252, 0.17455148055477393]], \"data02\": [[0.38428733900793777, 0.055216988768256356], [0.3065246439738252, 0.17455148055477393]], \"data06\": [[-0.1838874087835182, 0.8761827220832161], [-0.2704307122112847, 1.0]]}});\n",
       "      });\n",
       "    });\n",
       "}else{\n",
       "    // require.js not available: dynamically load d3 & mpld3\n",
       "    mpld3_load_lib(\"https://mpld3.github.io/js/d3.v3.min.js\", function(){\n",
       "         mpld3_load_lib(\"https://mpld3.github.io/js/mpld3.v0.2.js\", function(){\n",
       "                 \n",
       "    mpld3.register_plugin(\"htmltooltip\", HtmlTooltipPlugin);\n",
       "    HtmlTooltipPlugin.prototype = Object.create(mpld3.Plugin.prototype);\n",
       "    HtmlTooltipPlugin.prototype.constructor = HtmlTooltipPlugin;\n",
       "    HtmlTooltipPlugin.prototype.requiredProps = [\"id\"];\n",
       "    HtmlTooltipPlugin.prototype.defaultProps = {labels:null, hoffset:0, voffset:10};\n",
       "    function HtmlTooltipPlugin(fig, props){\n",
       "        mpld3.Plugin.call(this, fig, props);\n",
       "    };\n",
       "\n",
       "    HtmlTooltipPlugin.prototype.draw = function(){\n",
       "       var obj = mpld3.get_element(this.props.id);\n",
       "       var labels = this.props.labels;\n",
       "       var tooltip = d3.select(\"body\").append(\"div\")\n",
       "                    .attr(\"class\", \"mpld3-tooltip\")\n",
       "                    .style(\"position\", \"absolute\")\n",
       "                    .style(\"z-index\", \"10\")\n",
       "                    .style(\"visibility\", \"hidden\");\n",
       "\n",
       "       obj.elements()\n",
       "           .on(\"mouseover\", function(d, i){\n",
       "                              tooltip.html(labels[i])\n",
       "                                     .style(\"visibility\", \"visible\");})\n",
       "           .on(\"mousemove\", function(d, i){\n",
       "                    tooltip\n",
       "                      .style(\"top\", d3.event.pageY + this.props.voffset + \"px\")\n",
       "                      .style(\"left\",d3.event.pageX + this.props.hoffset + \"px\");\n",
       "                 }.bind(this))\n",
       "           .on(\"mouseout\",  function(d, i){\n",
       "                           tooltip.style(\"visibility\", \"hidden\");});\n",
       "    };\n",
       "    \n",
       "                 mpld3.draw_figure(\"fig_el119451404924170628967024718062\", {\"height\": 640.0, \"plugins\": [{\"type\": \"reset\"}, {\"enabled\": false, \"type\": \"zoom\", \"button\": true}, {\"enabled\": false, \"type\": \"boxzoom\", \"button\": true}, {\"labels\": [\"<table border=\\\"1\\\" cellpadding=\\\"4\\\" cellspacing=\\\"0\\\" bordercolor=\\\"#000000\\\">\\n<tr bgcolor=\\\"#AAAAAA\\\">\\n<th align=\\\"center\\\">Burglary</th>\\n<th align=\\\"center\\\">Prob.</th>\\n</tr>\\n<tr>\\n<td bgcolor=#FFFFFF>True</td>\\n<td bgcolor=#f6b5b1>0.010</td>\\n</tr>\\n<tr>\\n<td bgcolor=#FFFFFF>False</td>\\n<td bgcolor=#f2f0f1>0.990</td>\\n</tr>\\n</table>\", \"<table border=\\\"1\\\" cellpadding=\\\"4\\\" cellspacing=\\\"0\\\" bordercolor=\\\"#000000\\\">\\n<tr bgcolor=\\\"#AAAAAA\\\">\\n<th align=\\\"center\\\">Earthquake</th>\\n<th align=\\\"center\\\">Prob.</th>\\n</tr>\\n<tr>\\n<td bgcolor=#FFFFFF>True</td>\\n<td bgcolor=#efb7b6>0.020</td>\\n</tr>\\n<tr>\\n<td bgcolor=#FFFFFF>False</td>\\n<td bgcolor=#f3eef1>0.980</td>\\n</tr>\\n</table>\", \"<table border=\\\"1\\\" cellpadding=\\\"4\\\" cellspacing=\\\"0\\\" bordercolor=\\\"#000000\\\">\\n<tr bgcolor=\\\"#AAAAAA\\\">\\n<th align=\\\"center\\\">Alarm</th>\\n<th align=\\\"center\\\">MaryCalls</th>\\n<th align=\\\"center\\\">Prob.</th>\\n</tr>\\n<tr>\\n<td bgcolor=#FFFFFF>True</td>\\n<td bgcolor=#FFFFFF>True</td>\\n<td bgcolor=#eee6c2>0.700</td>\\n</tr>\\n<tr>\\n<td bgcolor=#FFFFFF>True</td>\\n<td bgcolor=#FFFFFF>False</td>\\n<td bgcolor=#d2ded0>0.300</td>\\n</tr>\\n<tr>\\n<td bgcolor=#FFFFFF>False</td>\\n<td bgcolor=#FFFFFF>True</td>\\n<td bgcolor=#f6b5b1>0.010</td>\\n</tr>\\n<tr>\\n<td bgcolor=#FFFFFF>False</td>\\n<td bgcolor=#FFFFFF>False</td>\\n<td bgcolor=#f2f0f1>0.990</td>\\n</tr>\\n</table>\", \"<table border=\\\"1\\\" cellpadding=\\\"4\\\" cellspacing=\\\"0\\\" bordercolor=\\\"#000000\\\">\\n<tr bgcolor=\\\"#AAAAAA\\\">\\n<th align=\\\"center\\\">Burglary</th>\\n<th align=\\\"center\\\">Earthquake</th>\\n<th align=\\\"center\\\">Alarm</th>\\n<th align=\\\"center\\\">Prob.</th>\\n</tr>\\n<tr>\\n<td bgcolor=#FFFFFF>True</td>\\n<td bgcolor=#FFFFFF>True</td>\\n<td bgcolor=#FFFFFF>True</td>\\n<td bgcolor=#f6e8ef>0.950</td>\\n</tr>\\n<tr>\\n<td bgcolor=#FFFFFF>True</td>\\n<td bgcolor=#FFFFFF>True</td>\\n<td bgcolor=#FFFFFF>False</td>\\n<td bgcolor=#dfbdc1>0.050</td>\\n</tr>\\n<tr>\\n<td bgcolor=#FFFFFF>True</td>\\n<td bgcolor=#FFFFFF>False</td>\\n<td bgcolor=#FFFFFF>True</td>\\n<td bgcolor=#f7e6ef>0.940</td>\\n</tr>\\n<tr>\\n<td bgcolor=#FFFFFF>True</td>\\n<td bgcolor=#FFFFFF>False</td>\\n<td bgcolor=#FFFFFF>False</td>\\n<td bgcolor=#d9bfc6>0.060</td>\\n</tr>\\n<tr>\\n<td bgcolor=#FFFFFF>False</td>\\n<td bgcolor=#FFFFFF>True</td>\\n<td bgcolor=#FFFFFF>True</td>\\n<td bgcolor=#d1e0ce>0.290</td>\\n</tr>\\n<tr>\\n<td bgcolor=#FFFFFF>False</td>\\n<td bgcolor=#FFFFFF>True</td>\\n<td bgcolor=#FFFFFF>False</td>\\n<td bgcolor=#ede4c1>0.710</td>\\n</tr>\\n<tr>\\n<td bgcolor=#FFFFFF>False</td>\\n<td bgcolor=#FFFFFF>False</td>\\n<td bgcolor=#FFFFFF>True</td>\\n<td bgcolor=#fbb4ae>0.001</td>\\n</tr>\\n<tr>\\n<td bgcolor=#FFFFFF>False</td>\\n<td bgcolor=#FFFFFF>False</td>\\n<td bgcolor=#FFFFFF>False</td>\\n<td bgcolor=#f2f2f2>0.999</td>\\n</tr>\\n</table>\", \"<table border=\\\"1\\\" cellpadding=\\\"4\\\" cellspacing=\\\"0\\\" bordercolor=\\\"#000000\\\">\\n<tr bgcolor=\\\"#AAAAAA\\\">\\n<th align=\\\"center\\\">Alarm</th>\\n<th align=\\\"center\\\">JohnCalls</th>\\n<th align=\\\"center\\\">Prob.</th>\\n</tr>\\n<tr>\\n<td bgcolor=#FFFFFF>True</td>\\n<td bgcolor=#FFFFFF>True</td>\\n<td bgcolor=#fadfed>0.900</td>\\n</tr>\\n<tr>\\n<td bgcolor=#FFFFFF>True</td>\\n<td bgcolor=#FFFFFF>False</td>\\n<td bgcolor=#c2c7d7>0.100</td>\\n</tr>\\n<tr>\\n<td bgcolor=#FFFFFF>False</td>\\n<td bgcolor=#FFFFFF>True</td>\\n<td bgcolor=#dfbdc1>0.050</td>\\n</tr>\\n<tr>\\n<td bgcolor=#FFFFFF>False</td>\\n<td bgcolor=#FFFFFF>False</td>\\n<td bgcolor=#f6e8ef>0.950</td>\\n</tr>\\n</table>\"], \"type\": \"htmltooltip\", \"voffset\": 10, \"id\": \"el11945140492414137120pts\", \"hoffset\": 10}], \"axes\": [{\"bbox\": [0.125, 0.125, 0.775, 0.775], \"sharey\": [], \"zoomable\": true, \"collections\": [], \"markers\": [{\"coordinates\": \"data\", \"edgecolor\": \"#000000\", \"yindex\": 1, \"xindex\": 0, \"alpha\": 1.0, \"zorder\": 2, \"markerpath\": [[[0.0, 10.0], [2.652031, 10.0], [5.195798707848534, 8.946336915882418], [7.0710678118654755, 7.0710678118654755], [8.946336915882418, 5.195798707848534], [10.0, 2.652031], [10.0, 0.0], [10.0, -2.652031], [8.946336915882418, -5.195798707848534], [7.0710678118654755, -7.0710678118654755], [5.195798707848534, -8.946336915882418], [2.652031, -10.0], [0.0, -10.0], [-2.652031, -10.0], [-5.195798707848534, -8.946336915882418], [-7.0710678118654755, -7.0710678118654755], [-8.946336915882418, -5.195798707848534], [-10.0, -2.652031], [-10.0, 0.0], [-10.0, 2.652031], [-8.946336915882418, 5.195798707848534], [-7.0710678118654755, 7.0710678118654755], [-5.195798707848534, 8.946336915882418], [-2.652031, 10.0], [0.0, 10.0]], [\"M\", \"C\", \"C\", \"C\", \"C\", \"C\", \"C\", \"C\", \"C\", \"Z\"]], \"id\": \"el11945140492414034104pts\", \"edgewidth\": 1, \"facecolor\": \"#D3D3D3\", \"data\": \"data09\"}, {\"coordinates\": \"data\", \"edgecolor\": \"#000000\", \"yindex\": 1, \"xindex\": 0, \"alpha\": 0.0, \"zorder\": 2, \"markerpath\": [[[0.0, 20.0], [5.304062, 20.0], [10.391597415697069, 17.892673831764835], [14.142135623730951, 14.142135623730951], [17.892673831764835, 10.391597415697069], [20.0, 5.304062], [20.0, 0.0], [20.0, -5.304062], [17.892673831764835, -10.391597415697069], [14.142135623730951, -14.142135623730951], [10.391597415697069, -17.892673831764835], [5.304062, -20.0], [0.0, -20.0], [-5.304062, -20.0], [-10.391597415697069, -17.892673831764835], [-14.142135623730951, -14.142135623730951], [-17.892673831764835, -10.391597415697069], [-20.0, -5.304062], [-20.0, 0.0], [-20.0, 5.304062], [-17.892673831764835, 10.391597415697069], [-14.142135623730951, 14.142135623730951], [-10.391597415697069, 17.892673831764835], [-5.304062, 20.0], [0.0, 20.0]], [\"M\", \"C\", \"C\", \"C\", \"C\", \"C\", \"C\", \"C\", \"C\", \"Z\"]], \"id\": \"el11945140492414137120pts\", \"edgewidth\": 1, \"facecolor\": \"#D3D3D3\", \"data\": \"data09\"}], \"paths\": [], \"xlim\": [-0.6097716880462823, 0.904942610867909], \"texts\": [{\"id\": \"el11945140492414138296\", \"zorder\": 3, \"h_anchor\": \"middle\", \"color\": \"#000000\", \"fontsize\": 10.0, \"coordinates\": \"data\", \"text\": \"Burglary\", \"rotation\": -0.0, \"position\": [0.824942610867909, -0.62101179802201], \"v_baseline\": \"central\", \"alpha\": 1}, {\"id\": \"el11945140492414139808\", \"zorder\": 3, \"h_anchor\": \"middle\", \"color\": \"#000000\", \"fontsize\": 10.0, \"coordinates\": \"data\", \"text\": \"Earthquake\", \"rotation\": -0.0, \"position\": [-0.33126485458416666, -0.7987270848885134], \"v_baseline\": \"central\", \"alpha\": 1}, {\"id\": \"el11945140492414157600\", \"zorder\": 3, \"h_anchor\": \"middle\", \"color\": \"#000000\", \"fontsize\": 10.0, \"coordinates\": \"data\", \"text\": \"MaryCalls\", \"rotation\": -0.0, \"position\": [-0.2704307122112847, 1.0], \"v_baseline\": \"central\", \"alpha\": 1}, {\"id\": \"el11945140492414158944\", \"zorder\": 3, \"h_anchor\": \"middle\", \"color\": \"#000000\", \"fontsize\": 10.0, \"coordinates\": \"data\", \"text\": \"Alarm\", \"rotation\": -0.0, \"position\": [0.3065246439738252, 0.17455148055477393], \"v_baseline\": \"central\", \"alpha\": 1}, {\"id\": \"el11945140492414160288\", \"zorder\": 3, \"h_anchor\": \"middle\", \"color\": \"#000000\", \"fontsize\": 10.0, \"coordinates\": \"data\", \"text\": \"JohnCalls\", \"rotation\": -0.0, \"position\": [-0.5297716880462824, 0.24518740235574984], \"v_baseline\": \"central\", \"alpha\": 1}], \"yscale\": \"linear\", \"images\": [], \"ylim\": [-0.8787270848885134, 1.08], \"axesbg\": \"#FFFFFF\", \"id\": \"el11945140492417098136\", \"axes\": [{\"tickformat\": null, \"grid\": {\"gridOn\": false}, \"tickvalues\": null, \"position\": \"bottom\", \"fontsize\": 10.0, \"nticks\": 10, \"scale\": \"linear\"}, {\"tickformat\": null, \"grid\": {\"gridOn\": false}, \"tickvalues\": null, \"position\": \"left\", \"fontsize\": 10.0, \"nticks\": 6, \"scale\": \"linear\"}], \"xscale\": \"linear\", \"ydomain\": [-0.8787270848885134, 1.08], \"axesbgalpha\": null, \"sharex\": [], \"lines\": [{\"coordinates\": \"data\", \"linewidth\": 1.0, \"yindex\": 1, \"xindex\": 0, \"zorder\": 2, \"dasharray\": \"10,0\", \"color\": \"#808080\", \"id\": \"el11945140492414034216\", \"alpha\": 1, \"data\": \"data01\"}, {\"coordinates\": \"data\", \"linewidth\": 5, \"yindex\": 1, \"xindex\": 0, \"zorder\": 2, \"dasharray\": \"10,0\", \"color\": \"#000000\", \"id\": \"el11945140492414035056\", \"alpha\": 0.5, \"data\": \"data02\"}, {\"coordinates\": \"data\", \"linewidth\": 1.0, \"yindex\": 1, \"xindex\": 0, \"zorder\": 2, \"dasharray\": \"10,0\", \"color\": \"#808080\", \"id\": \"el11945140492414035896\", \"alpha\": 1, \"data\": \"data03\"}, {\"coordinates\": \"data\", \"linewidth\": 5, \"yindex\": 1, \"xindex\": 0, \"zorder\": 2, \"dasharray\": \"10,0\", \"color\": \"#000000\", \"id\": \"el11945140492414067768\", \"alpha\": 0.5, \"data\": \"data04\"}, {\"coordinates\": \"data\", \"linewidth\": 1.0, \"yindex\": 1, \"xindex\": 0, \"zorder\": 2, \"dasharray\": \"10,0\", \"color\": \"#808080\", \"id\": \"el11945140492414069728\", \"alpha\": 1, \"data\": \"data05\"}, {\"coordinates\": \"data\", \"linewidth\": 5, \"yindex\": 1, \"xindex\": 0, \"zorder\": 2, \"dasharray\": \"10,0\", \"color\": \"#000000\", \"id\": \"el11945140492414092232\", \"alpha\": 0.5, \"data\": \"data06\"}, {\"coordinates\": \"data\", \"linewidth\": 1.0, \"yindex\": 1, \"xindex\": 0, \"zorder\": 2, \"dasharray\": \"10,0\", \"color\": \"#808080\", \"id\": \"el11945140492414094192\", \"alpha\": 1, \"data\": \"data07\"}, {\"coordinates\": \"data\", \"linewidth\": 5, \"yindex\": 1, \"xindex\": 0, \"zorder\": 2, \"dasharray\": \"10,0\", \"color\": \"#000000\", \"id\": \"el11945140492414108504\", \"alpha\": 0.5, \"data\": \"data08\"}], \"xdomain\": [-0.6097716880462823, 0.904942610867909]}], \"id\": \"el11945140492417062896\", \"width\": 960.0, \"data\": {\"data09\": [[0.824942610867909, -0.62101179802201], [-0.33126485458416666, -0.7987270848885134], [-0.2704307122112847, 1.0], [0.3065246439738252, 0.17455148055477393], [-0.5297716880462824, 0.24518740235574984]], \"data07\": [[0.3065246439738252, 0.17455148055477393], [-0.5297716880462824, 0.24518740235574984]], \"data04\": [[0.2108562191901264, 0.02855969573828082], [0.3065246439738252, 0.17455148055477393]], \"data05\": [[0.3065246439738252, 0.17455148055477393], [-0.2704307122112847, 1.0]], \"data08\": [[-0.4043272382432662, 0.23459201408560346], [-0.5297716880462824, 0.24518740235574984]], \"data01\": [[0.824942610867909, -0.62101179802201], [0.3065246439738252, 0.17455148055477393]], \"data03\": [[-0.33126485458416666, -0.7987270848885134], [0.3065246439738252, 0.17455148055477393]], \"data02\": [[0.38428733900793777, 0.055216988768256356], [0.3065246439738252, 0.17455148055477393]], \"data06\": [[-0.1838874087835182, 0.8761827220832161], [-0.2704307122112847, 1.0]]}});\n",
       "            })\n",
       "         });\n",
       "}\n",
       "</script>"
      ],
      "text/plain": [
       "<IPython.core.display.HTML object>"
      ]
     },
     "execution_count": 29,
     "metadata": {},
     "output_type": "execute_result"
    }
   ],
   "source": [
    "dgm.draw()"
   ]
  },
  {
   "cell_type": "code",
   "execution_count": 30,
   "metadata": {
    "collapsed": false
   },
   "outputs": [
    {
     "data": {
      "text/html": [
       "<div>\n",
       "<table border=\"1\" class=\"dataframe\">\n",
       "  <thead>\n",
       "    <tr style=\"text-align: right;\">\n",
       "      <th></th>\n",
       "      <th>Earthquake</th>\n",
       "      <th>Burglary</th>\n",
       "      <th>Alarm</th>\n",
       "      <th>MaryCalls</th>\n",
       "      <th>JohnCalls</th>\n",
       "    </tr>\n",
       "  </thead>\n",
       "  <tbody>\n",
       "    <tr>\n",
       "      <th>0</th>\n",
       "      <td>False</td>\n",
       "      <td>False</td>\n",
       "      <td>False</td>\n",
       "      <td>False</td>\n",
       "      <td>False</td>\n",
       "    </tr>\n",
       "    <tr>\n",
       "      <th>1</th>\n",
       "      <td>False</td>\n",
       "      <td>False</td>\n",
       "      <td>False</td>\n",
       "      <td>False</td>\n",
       "      <td>False</td>\n",
       "    </tr>\n",
       "    <tr>\n",
       "      <th>2</th>\n",
       "      <td>False</td>\n",
       "      <td>False</td>\n",
       "      <td>False</td>\n",
       "      <td>False</td>\n",
       "      <td>False</td>\n",
       "    </tr>\n",
       "    <tr>\n",
       "      <th>3</th>\n",
       "      <td>False</td>\n",
       "      <td>False</td>\n",
       "      <td>False</td>\n",
       "      <td>False</td>\n",
       "      <td>False</td>\n",
       "    </tr>\n",
       "    <tr>\n",
       "      <th>4</th>\n",
       "      <td>False</td>\n",
       "      <td>False</td>\n",
       "      <td>False</td>\n",
       "      <td>False</td>\n",
       "      <td>False</td>\n",
       "    </tr>\n",
       "    <tr>\n",
       "      <th>5</th>\n",
       "      <td>False</td>\n",
       "      <td>False</td>\n",
       "      <td>False</td>\n",
       "      <td>False</td>\n",
       "      <td>False</td>\n",
       "    </tr>\n",
       "    <tr>\n",
       "      <th>6</th>\n",
       "      <td>False</td>\n",
       "      <td>False</td>\n",
       "      <td>False</td>\n",
       "      <td>False</td>\n",
       "      <td>False</td>\n",
       "    </tr>\n",
       "    <tr>\n",
       "      <th>7</th>\n",
       "      <td>False</td>\n",
       "      <td>False</td>\n",
       "      <td>False</td>\n",
       "      <td>False</td>\n",
       "      <td>False</td>\n",
       "    </tr>\n",
       "    <tr>\n",
       "      <th>8</th>\n",
       "      <td>True</td>\n",
       "      <td>False</td>\n",
       "      <td>False</td>\n",
       "      <td>False</td>\n",
       "      <td>False</td>\n",
       "    </tr>\n",
       "    <tr>\n",
       "      <th>9</th>\n",
       "      <td>False</td>\n",
       "      <td>False</td>\n",
       "      <td>False</td>\n",
       "      <td>False</td>\n",
       "      <td>False</td>\n",
       "    </tr>\n",
       "  </tbody>\n",
       "</table>\n",
       "</div>"
      ],
      "text/plain": [
       "  Earthquake Burglary  Alarm MaryCalls JohnCalls\n",
       "0      False    False  False     False     False\n",
       "1      False    False  False     False     False\n",
       "2      False    False  False     False     False\n",
       "3      False    False  False     False     False\n",
       "4      False    False  False     False     False\n",
       "5      False    False  False     False     False\n",
       "6      False    False  False     False     False\n",
       "7      False    False  False     False     False\n",
       "8       True    False  False     False     False\n",
       "9      False    False  False     False     False"
      ]
     },
     "execution_count": 30,
     "metadata": {},
     "output_type": "execute_result"
    }
   ],
   "source": [
    "dgm.rvs(size=10)"
   ]
  },
  {
   "cell_type": "markdown",
   "metadata": {},
   "source": [
    "## Fitting\n",
    "### DGMs"
   ]
  },
  {
   "cell_type": "code",
   "execution_count": 31,
   "metadata": {
    "collapsed": true
   },
   "outputs": [],
   "source": [
    "# generating data\n",
    "data = dgm.rvs(size=1000000)"
   ]
  },
  {
   "cell_type": "code",
   "execution_count": 32,
   "metadata": {
    "collapsed": false
   },
   "outputs": [
    {
     "data": {
      "text/html": [
       "\n",
       "\n",
       "<style>\n",
       "\n",
       "table\n",
       "{\n",
       "  border-collapse: collapse;\n",
       "}\n",
       "th\n",
       "{\n",
       "  color: #ffffff;\n",
       "  background-color: #000000;\n",
       "}\n",
       "td\n",
       "{\n",
       "  background-color: #cccccc;\n",
       "}\n",
       "table, th, td\n",
       "{\n",
       "  font-family:Arial, Helvetica, sans-serif;\n",
       "  border: 1px solid black;\n",
       "  text-align: center;\n",
       "  padding: 3px;\n",
       "  font-size:11pt;\n",
       "}\n",
       "g.mpld3-xaxis, g.mpld3-yaxis {\n",
       "    display: none;\n",
       "}\n",
       "    \n",
       "</style>\n",
       "\n",
       "<div id=\"fig_el11945140492417027320736170350\"></div>\n",
       "<script>\n",
       "function mpld3_load_lib(url, callback){\n",
       "  var s = document.createElement('script');\n",
       "  s.src = url;\n",
       "  s.async = true;\n",
       "  s.onreadystatechange = s.onload = callback;\n",
       "  s.onerror = function(){console.warn(\"failed to load library \" + url);};\n",
       "  document.getElementsByTagName(\"head\")[0].appendChild(s);\n",
       "}\n",
       "\n",
       "if(typeof(mpld3) !== \"undefined\" && mpld3._mpld3IsLoaded){\n",
       "   // already loaded: just create the figure\n",
       "   !function(mpld3){\n",
       "       \n",
       "    mpld3.register_plugin(\"htmltooltip\", HtmlTooltipPlugin);\n",
       "    HtmlTooltipPlugin.prototype = Object.create(mpld3.Plugin.prototype);\n",
       "    HtmlTooltipPlugin.prototype.constructor = HtmlTooltipPlugin;\n",
       "    HtmlTooltipPlugin.prototype.requiredProps = [\"id\"];\n",
       "    HtmlTooltipPlugin.prototype.defaultProps = {labels:null, hoffset:0, voffset:10};\n",
       "    function HtmlTooltipPlugin(fig, props){\n",
       "        mpld3.Plugin.call(this, fig, props);\n",
       "    };\n",
       "\n",
       "    HtmlTooltipPlugin.prototype.draw = function(){\n",
       "       var obj = mpld3.get_element(this.props.id);\n",
       "       var labels = this.props.labels;\n",
       "       var tooltip = d3.select(\"body\").append(\"div\")\n",
       "                    .attr(\"class\", \"mpld3-tooltip\")\n",
       "                    .style(\"position\", \"absolute\")\n",
       "                    .style(\"z-index\", \"10\")\n",
       "                    .style(\"visibility\", \"hidden\");\n",
       "\n",
       "       obj.elements()\n",
       "           .on(\"mouseover\", function(d, i){\n",
       "                              tooltip.html(labels[i])\n",
       "                                     .style(\"visibility\", \"visible\");})\n",
       "           .on(\"mousemove\", function(d, i){\n",
       "                    tooltip\n",
       "                      .style(\"top\", d3.event.pageY + this.props.voffset + \"px\")\n",
       "                      .style(\"left\",d3.event.pageX + this.props.hoffset + \"px\");\n",
       "                 }.bind(this))\n",
       "           .on(\"mouseout\",  function(d, i){\n",
       "                           tooltip.style(\"visibility\", \"hidden\");});\n",
       "    };\n",
       "    \n",
       "       mpld3.draw_figure(\"fig_el11945140492417027320736170350\", {\"height\": 640.0, \"plugins\": [{\"type\": \"reset\"}, {\"enabled\": false, \"type\": \"zoom\", \"button\": true}, {\"enabled\": false, \"type\": \"boxzoom\", \"button\": true}, {\"labels\": [], \"type\": \"htmltooltip\", \"voffset\": 10, \"id\": \"el11945140492420602400pts\", \"hoffset\": 10}], \"axes\": [{\"bbox\": [0.125, 0.125, 0.775, 0.775], \"sharey\": [], \"zoomable\": true, \"collections\": [], \"markers\": [{\"coordinates\": \"data\", \"edgecolor\": \"#000000\", \"yindex\": 1, \"xindex\": 0, \"alpha\": 1.0, \"zorder\": 2, \"markerpath\": [[[0.0, 10.0], [2.652031, 10.0], [5.195798707848534, 8.946336915882418], [7.0710678118654755, 7.0710678118654755], [8.946336915882418, 5.195798707848534], [10.0, 2.652031], [10.0, 0.0], [10.0, -2.652031], [8.946336915882418, -5.195798707848534], [7.0710678118654755, -7.0710678118654755], [5.195798707848534, -8.946336915882418], [2.652031, -10.0], [0.0, -10.0], [-2.652031, -10.0], [-5.195798707848534, -8.946336915882418], [-7.0710678118654755, -7.0710678118654755], [-8.946336915882418, -5.195798707848534], [-10.0, -2.652031], [-10.0, 0.0], [-10.0, 2.652031], [-8.946336915882418, 5.195798707848534], [-7.0710678118654755, 7.0710678118654755], [-5.195798707848534, 8.946336915882418], [-2.652031, 10.0], [0.0, 10.0]], [\"M\", \"C\", \"C\", \"C\", \"C\", \"C\", \"C\", \"C\", \"C\", \"Z\"]], \"id\": \"el11945140492417727960pts\", \"edgewidth\": 1, \"facecolor\": \"#D3D3D3\", \"data\": \"data09\"}, {\"coordinates\": \"data\", \"edgecolor\": \"#000000\", \"yindex\": 1, \"xindex\": 0, \"alpha\": 0.0, \"zorder\": 2, \"markerpath\": [[[0.0, 20.0], [5.304062, 20.0], [10.391597415697069, 17.892673831764835], [14.142135623730951, 14.142135623730951], [17.892673831764835, 10.391597415697069], [20.0, 5.304062], [20.0, 0.0], [20.0, -5.304062], [17.892673831764835, -10.391597415697069], [14.142135623730951, -14.142135623730951], [10.391597415697069, -17.892673831764835], [5.304062, -20.0], [0.0, -20.0], [-5.304062, -20.0], [-10.391597415697069, -17.892673831764835], [-14.142135623730951, -14.142135623730951], [-17.892673831764835, -10.391597415697069], [-20.0, -5.304062], [-20.0, 0.0], [-20.0, 5.304062], [-17.892673831764835, 10.391597415697069], [-14.142135623730951, 14.142135623730951], [-10.391597415697069, 17.892673831764835], [-5.304062, 20.0], [0.0, 20.0]], [\"M\", \"C\", \"C\", \"C\", \"C\", \"C\", \"C\", \"C\", \"C\", \"Z\"]], \"id\": \"el11945140492420602400pts\", \"edgewidth\": 1, \"facecolor\": \"#D3D3D3\", \"data\": \"data09\"}], \"paths\": [], \"xlim\": [-0.7248281796718692, 1.08], \"texts\": [{\"id\": \"el11945140492421143128\", \"zorder\": 3, \"h_anchor\": \"middle\", \"color\": \"#000000\", \"fontsize\": 10.0, \"coordinates\": \"data\", \"text\": \"Burglary\", \"rotation\": -0.0, \"position\": [-0.5752618324256954, -0.7019794875360691], \"v_baseline\": \"central\", \"alpha\": 1}, {\"id\": \"el11945140492421143800\", \"zorder\": 3, \"h_anchor\": \"middle\", \"color\": \"#000000\", \"fontsize\": 10.0, \"coordinates\": \"data\", \"text\": \"Earthquake\", \"rotation\": -0.0, \"position\": [0.07029992268970019, 0.8063933236567407], \"v_baseline\": \"central\", \"alpha\": 1}, {\"id\": \"el11945140492421144080\", \"zorder\": 3, \"h_anchor\": \"middle\", \"color\": \"#000000\", \"fontsize\": 10.0, \"coordinates\": \"data\", \"text\": \"MaryCalls\", \"rotation\": -0.0, \"position\": [-0.6448281796718692, 0.2913885414667912], \"v_baseline\": \"central\", \"alpha\": 1}, {\"id\": \"el11945140492421105704\", \"zorder\": 3, \"h_anchor\": \"middle\", \"color\": \"#000000\", \"fontsize\": 10.0, \"coordinates\": \"data\", \"text\": \"Alarm\", \"rotation\": -0.0, \"position\": [0.1497900894078641, -0.0471663768472777], \"v_baseline\": \"central\", \"alpha\": 1}, {\"id\": \"el11945140492421105648\", \"zorder\": 3, \"h_anchor\": \"middle\", \"color\": \"#000000\", \"fontsize\": 10.0, \"coordinates\": \"data\", \"text\": \"JohnCalls\", \"rotation\": -0.0, \"position\": [1.0, -0.34863600074018514], \"v_baseline\": \"central\", \"alpha\": 1}], \"yscale\": \"linear\", \"images\": [], \"ylim\": [-0.781979487536069, 0.8863933236567406], \"axesbg\": \"#FFFFFF\", \"id\": \"el11945140492416936760\", \"axes\": [{\"tickformat\": null, \"grid\": {\"gridOn\": false}, \"tickvalues\": null, \"position\": \"bottom\", \"fontsize\": 10.0, \"nticks\": 6, \"scale\": \"linear\"}, {\"tickformat\": null, \"grid\": {\"gridOn\": false}, \"tickvalues\": null, \"position\": \"left\", \"fontsize\": 10.0, \"nticks\": 10, \"scale\": \"linear\"}], \"xscale\": \"linear\", \"ydomain\": [-0.781979487536069, 0.8863933236567406], \"axesbgalpha\": null, \"sharex\": [], \"lines\": [{\"coordinates\": \"data\", \"linewidth\": 1.0, \"yindex\": 1, \"xindex\": 0, \"zorder\": 2, \"dasharray\": \"10,0\", \"color\": \"#808080\", \"id\": \"el11945140492417727680\", \"alpha\": 1, \"data\": \"data01\"}, {\"coordinates\": \"data\", \"linewidth\": 5, \"yindex\": 1, \"xindex\": 0, \"zorder\": 2, \"dasharray\": \"10,0\", \"color\": \"#000000\", \"id\": \"el11945140492417727792\", \"alpha\": 0.5, \"data\": \"data02\"}, {\"coordinates\": \"data\", \"linewidth\": 1.0, \"yindex\": 1, \"xindex\": 0, \"zorder\": 2, \"dasharray\": \"10,0\", \"color\": \"#808080\", \"id\": \"el11945140492417741992\", \"alpha\": 1, \"data\": \"data03\"}, {\"coordinates\": \"data\", \"linewidth\": 5, \"yindex\": 1, \"xindex\": 0, \"zorder\": 2, \"dasharray\": \"10,0\", \"color\": \"#000000\", \"id\": \"el11945140492417743896\", \"alpha\": 0.5, \"data\": \"data04\"}, {\"coordinates\": \"data\", \"linewidth\": 1.0, \"yindex\": 1, \"xindex\": 0, \"zorder\": 2, \"dasharray\": \"10,0\", \"color\": \"#808080\", \"id\": \"el11945140492420812416\", \"alpha\": 1, \"data\": \"data05\"}, {\"coordinates\": \"data\", \"linewidth\": 5, \"yindex\": 1, \"xindex\": 0, \"zorder\": 2, \"dasharray\": \"10,0\", \"color\": \"#000000\", \"id\": \"el11945140492420809392\", \"alpha\": 0.5, \"data\": \"data06\"}, {\"coordinates\": \"data\", \"linewidth\": 1.0, \"yindex\": 1, \"xindex\": 0, \"zorder\": 2, \"dasharray\": \"10,0\", \"color\": \"#808080\", \"id\": \"el11945140492420623832\", \"alpha\": 1, \"data\": \"data07\"}, {\"coordinates\": \"data\", \"linewidth\": 5, \"yindex\": 1, \"xindex\": 0, \"zorder\": 2, \"dasharray\": \"10,0\", \"color\": \"#000000\", \"id\": \"el11945140492420621704\", \"alpha\": 0.5, \"data\": \"data08\"}], \"xdomain\": [-0.7248281796718692, 1.08]}], \"id\": \"el11945140492417027320\", \"width\": 960.0, \"data\": {\"data09\": [[-0.5752618324256954, -0.7019794875360691], [0.07029992268970019, 0.8063933236567407], [-0.6448281796718692, 0.2913885414667912], [0.1497900894078641, -0.0471663768472777], [1.0, -0.34863600074018514]], \"data07\": [[0.1497900894078641, -0.0471663768472777], [1.0, -0.34863600074018514]], \"data04\": [[0.1378665644001395, 0.08086757822832505], [0.1497900894078641, -0.0471663768472777]], \"data05\": [[0.1497900894078641, -0.0471663768472777], [-0.6448281796718692, 0.2913885414667912]], \"data08\": [[0.8724685134111796, -0.303415557156249], [1.0, -0.34863600074018514]], \"data01\": [[-0.5752618324256954, -0.7019794875360691], [0.1497900894078641, -0.0471663768472777]], \"data03\": [[0.07029992268970019, 0.8063933236567407], [0.1497900894078641, -0.0471663768472777]], \"data02\": [[0.04103230113283017, -0.1453883434505964], [0.1497900894078641, -0.0471663768472777]], \"data06\": [[-0.5256354393099092, 0.2406053037196809], [-0.6448281796718692, 0.2913885414667912]]}});\n",
       "   }(mpld3);\n",
       "}else if(typeof define === \"function\" && define.amd){\n",
       "   // require.js is available: use it to load d3/mpld3\n",
       "   require.config({paths: {d3: \"https://mpld3.github.io/js/d3.v3.min\"}});\n",
       "   require([\"d3\"], function(d3){\n",
       "      window.d3 = d3;\n",
       "      mpld3_load_lib(\"https://mpld3.github.io/js/mpld3.v0.2.js\", function(){\n",
       "         \n",
       "    mpld3.register_plugin(\"htmltooltip\", HtmlTooltipPlugin);\n",
       "    HtmlTooltipPlugin.prototype = Object.create(mpld3.Plugin.prototype);\n",
       "    HtmlTooltipPlugin.prototype.constructor = HtmlTooltipPlugin;\n",
       "    HtmlTooltipPlugin.prototype.requiredProps = [\"id\"];\n",
       "    HtmlTooltipPlugin.prototype.defaultProps = {labels:null, hoffset:0, voffset:10};\n",
       "    function HtmlTooltipPlugin(fig, props){\n",
       "        mpld3.Plugin.call(this, fig, props);\n",
       "    };\n",
       "\n",
       "    HtmlTooltipPlugin.prototype.draw = function(){\n",
       "       var obj = mpld3.get_element(this.props.id);\n",
       "       var labels = this.props.labels;\n",
       "       var tooltip = d3.select(\"body\").append(\"div\")\n",
       "                    .attr(\"class\", \"mpld3-tooltip\")\n",
       "                    .style(\"position\", \"absolute\")\n",
       "                    .style(\"z-index\", \"10\")\n",
       "                    .style(\"visibility\", \"hidden\");\n",
       "\n",
       "       obj.elements()\n",
       "           .on(\"mouseover\", function(d, i){\n",
       "                              tooltip.html(labels[i])\n",
       "                                     .style(\"visibility\", \"visible\");})\n",
       "           .on(\"mousemove\", function(d, i){\n",
       "                    tooltip\n",
       "                      .style(\"top\", d3.event.pageY + this.props.voffset + \"px\")\n",
       "                      .style(\"left\",d3.event.pageX + this.props.hoffset + \"px\");\n",
       "                 }.bind(this))\n",
       "           .on(\"mouseout\",  function(d, i){\n",
       "                           tooltip.style(\"visibility\", \"hidden\");});\n",
       "    };\n",
       "    \n",
       "         mpld3.draw_figure(\"fig_el11945140492417027320736170350\", {\"height\": 640.0, \"plugins\": [{\"type\": \"reset\"}, {\"enabled\": false, \"type\": \"zoom\", \"button\": true}, {\"enabled\": false, \"type\": \"boxzoom\", \"button\": true}, {\"labels\": [], \"type\": \"htmltooltip\", \"voffset\": 10, \"id\": \"el11945140492420602400pts\", \"hoffset\": 10}], \"axes\": [{\"bbox\": [0.125, 0.125, 0.775, 0.775], \"sharey\": [], \"zoomable\": true, \"collections\": [], \"markers\": [{\"coordinates\": \"data\", \"edgecolor\": \"#000000\", \"yindex\": 1, \"xindex\": 0, \"alpha\": 1.0, \"zorder\": 2, \"markerpath\": [[[0.0, 10.0], [2.652031, 10.0], [5.195798707848534, 8.946336915882418], [7.0710678118654755, 7.0710678118654755], [8.946336915882418, 5.195798707848534], [10.0, 2.652031], [10.0, 0.0], [10.0, -2.652031], [8.946336915882418, -5.195798707848534], [7.0710678118654755, -7.0710678118654755], [5.195798707848534, -8.946336915882418], [2.652031, -10.0], [0.0, -10.0], [-2.652031, -10.0], [-5.195798707848534, -8.946336915882418], [-7.0710678118654755, -7.0710678118654755], [-8.946336915882418, -5.195798707848534], [-10.0, -2.652031], [-10.0, 0.0], [-10.0, 2.652031], [-8.946336915882418, 5.195798707848534], [-7.0710678118654755, 7.0710678118654755], [-5.195798707848534, 8.946336915882418], [-2.652031, 10.0], [0.0, 10.0]], [\"M\", \"C\", \"C\", \"C\", \"C\", \"C\", \"C\", \"C\", \"C\", \"Z\"]], \"id\": \"el11945140492417727960pts\", \"edgewidth\": 1, \"facecolor\": \"#D3D3D3\", \"data\": \"data09\"}, {\"coordinates\": \"data\", \"edgecolor\": \"#000000\", \"yindex\": 1, \"xindex\": 0, \"alpha\": 0.0, \"zorder\": 2, \"markerpath\": [[[0.0, 20.0], [5.304062, 20.0], [10.391597415697069, 17.892673831764835], [14.142135623730951, 14.142135623730951], [17.892673831764835, 10.391597415697069], [20.0, 5.304062], [20.0, 0.0], [20.0, -5.304062], [17.892673831764835, -10.391597415697069], [14.142135623730951, -14.142135623730951], [10.391597415697069, -17.892673831764835], [5.304062, -20.0], [0.0, -20.0], [-5.304062, -20.0], [-10.391597415697069, -17.892673831764835], [-14.142135623730951, -14.142135623730951], [-17.892673831764835, -10.391597415697069], [-20.0, -5.304062], [-20.0, 0.0], [-20.0, 5.304062], [-17.892673831764835, 10.391597415697069], [-14.142135623730951, 14.142135623730951], [-10.391597415697069, 17.892673831764835], [-5.304062, 20.0], [0.0, 20.0]], [\"M\", \"C\", \"C\", \"C\", \"C\", \"C\", \"C\", \"C\", \"C\", \"Z\"]], \"id\": \"el11945140492420602400pts\", \"edgewidth\": 1, \"facecolor\": \"#D3D3D3\", \"data\": \"data09\"}], \"paths\": [], \"xlim\": [-0.7248281796718692, 1.08], \"texts\": [{\"id\": \"el11945140492421143128\", \"zorder\": 3, \"h_anchor\": \"middle\", \"color\": \"#000000\", \"fontsize\": 10.0, \"coordinates\": \"data\", \"text\": \"Burglary\", \"rotation\": -0.0, \"position\": [-0.5752618324256954, -0.7019794875360691], \"v_baseline\": \"central\", \"alpha\": 1}, {\"id\": \"el11945140492421143800\", \"zorder\": 3, \"h_anchor\": \"middle\", \"color\": \"#000000\", \"fontsize\": 10.0, \"coordinates\": \"data\", \"text\": \"Earthquake\", \"rotation\": -0.0, \"position\": [0.07029992268970019, 0.8063933236567407], \"v_baseline\": \"central\", \"alpha\": 1}, {\"id\": \"el11945140492421144080\", \"zorder\": 3, \"h_anchor\": \"middle\", \"color\": \"#000000\", \"fontsize\": 10.0, \"coordinates\": \"data\", \"text\": \"MaryCalls\", \"rotation\": -0.0, \"position\": [-0.6448281796718692, 0.2913885414667912], \"v_baseline\": \"central\", \"alpha\": 1}, {\"id\": \"el11945140492421105704\", \"zorder\": 3, \"h_anchor\": \"middle\", \"color\": \"#000000\", \"fontsize\": 10.0, \"coordinates\": \"data\", \"text\": \"Alarm\", \"rotation\": -0.0, \"position\": [0.1497900894078641, -0.0471663768472777], \"v_baseline\": \"central\", \"alpha\": 1}, {\"id\": \"el11945140492421105648\", \"zorder\": 3, \"h_anchor\": \"middle\", \"color\": \"#000000\", \"fontsize\": 10.0, \"coordinates\": \"data\", \"text\": \"JohnCalls\", \"rotation\": -0.0, \"position\": [1.0, -0.34863600074018514], \"v_baseline\": \"central\", \"alpha\": 1}], \"yscale\": \"linear\", \"images\": [], \"ylim\": [-0.781979487536069, 0.8863933236567406], \"axesbg\": \"#FFFFFF\", \"id\": \"el11945140492416936760\", \"axes\": [{\"tickformat\": null, \"grid\": {\"gridOn\": false}, \"tickvalues\": null, \"position\": \"bottom\", \"fontsize\": 10.0, \"nticks\": 6, \"scale\": \"linear\"}, {\"tickformat\": null, \"grid\": {\"gridOn\": false}, \"tickvalues\": null, \"position\": \"left\", \"fontsize\": 10.0, \"nticks\": 10, \"scale\": \"linear\"}], \"xscale\": \"linear\", \"ydomain\": [-0.781979487536069, 0.8863933236567406], \"axesbgalpha\": null, \"sharex\": [], \"lines\": [{\"coordinates\": \"data\", \"linewidth\": 1.0, \"yindex\": 1, \"xindex\": 0, \"zorder\": 2, \"dasharray\": \"10,0\", \"color\": \"#808080\", \"id\": \"el11945140492417727680\", \"alpha\": 1, \"data\": \"data01\"}, {\"coordinates\": \"data\", \"linewidth\": 5, \"yindex\": 1, \"xindex\": 0, \"zorder\": 2, \"dasharray\": \"10,0\", \"color\": \"#000000\", \"id\": \"el11945140492417727792\", \"alpha\": 0.5, \"data\": \"data02\"}, {\"coordinates\": \"data\", \"linewidth\": 1.0, \"yindex\": 1, \"xindex\": 0, \"zorder\": 2, \"dasharray\": \"10,0\", \"color\": \"#808080\", \"id\": \"el11945140492417741992\", \"alpha\": 1, \"data\": \"data03\"}, {\"coordinates\": \"data\", \"linewidth\": 5, \"yindex\": 1, \"xindex\": 0, \"zorder\": 2, \"dasharray\": \"10,0\", \"color\": \"#000000\", \"id\": \"el11945140492417743896\", \"alpha\": 0.5, \"data\": \"data04\"}, {\"coordinates\": \"data\", \"linewidth\": 1.0, \"yindex\": 1, \"xindex\": 0, \"zorder\": 2, \"dasharray\": \"10,0\", \"color\": \"#808080\", \"id\": \"el11945140492420812416\", \"alpha\": 1, \"data\": \"data05\"}, {\"coordinates\": \"data\", \"linewidth\": 5, \"yindex\": 1, \"xindex\": 0, \"zorder\": 2, \"dasharray\": \"10,0\", \"color\": \"#000000\", \"id\": \"el11945140492420809392\", \"alpha\": 0.5, \"data\": \"data06\"}, {\"coordinates\": \"data\", \"linewidth\": 1.0, \"yindex\": 1, \"xindex\": 0, \"zorder\": 2, \"dasharray\": \"10,0\", \"color\": \"#808080\", \"id\": \"el11945140492420623832\", \"alpha\": 1, \"data\": \"data07\"}, {\"coordinates\": \"data\", \"linewidth\": 5, \"yindex\": 1, \"xindex\": 0, \"zorder\": 2, \"dasharray\": \"10,0\", \"color\": \"#000000\", \"id\": \"el11945140492420621704\", \"alpha\": 0.5, \"data\": \"data08\"}], \"xdomain\": [-0.7248281796718692, 1.08]}], \"id\": \"el11945140492417027320\", \"width\": 960.0, \"data\": {\"data09\": [[-0.5752618324256954, -0.7019794875360691], [0.07029992268970019, 0.8063933236567407], [-0.6448281796718692, 0.2913885414667912], [0.1497900894078641, -0.0471663768472777], [1.0, -0.34863600074018514]], \"data07\": [[0.1497900894078641, -0.0471663768472777], [1.0, -0.34863600074018514]], \"data04\": [[0.1378665644001395, 0.08086757822832505], [0.1497900894078641, -0.0471663768472777]], \"data05\": [[0.1497900894078641, -0.0471663768472777], [-0.6448281796718692, 0.2913885414667912]], \"data08\": [[0.8724685134111796, -0.303415557156249], [1.0, -0.34863600074018514]], \"data01\": [[-0.5752618324256954, -0.7019794875360691], [0.1497900894078641, -0.0471663768472777]], \"data03\": [[0.07029992268970019, 0.8063933236567407], [0.1497900894078641, -0.0471663768472777]], \"data02\": [[0.04103230113283017, -0.1453883434505964], [0.1497900894078641, -0.0471663768472777]], \"data06\": [[-0.5256354393099092, 0.2406053037196809], [-0.6448281796718692, 0.2913885414667912]]}});\n",
       "      });\n",
       "    });\n",
       "}else{\n",
       "    // require.js not available: dynamically load d3 & mpld3\n",
       "    mpld3_load_lib(\"https://mpld3.github.io/js/d3.v3.min.js\", function(){\n",
       "         mpld3_load_lib(\"https://mpld3.github.io/js/mpld3.v0.2.js\", function(){\n",
       "                 \n",
       "    mpld3.register_plugin(\"htmltooltip\", HtmlTooltipPlugin);\n",
       "    HtmlTooltipPlugin.prototype = Object.create(mpld3.Plugin.prototype);\n",
       "    HtmlTooltipPlugin.prototype.constructor = HtmlTooltipPlugin;\n",
       "    HtmlTooltipPlugin.prototype.requiredProps = [\"id\"];\n",
       "    HtmlTooltipPlugin.prototype.defaultProps = {labels:null, hoffset:0, voffset:10};\n",
       "    function HtmlTooltipPlugin(fig, props){\n",
       "        mpld3.Plugin.call(this, fig, props);\n",
       "    };\n",
       "\n",
       "    HtmlTooltipPlugin.prototype.draw = function(){\n",
       "       var obj = mpld3.get_element(this.props.id);\n",
       "       var labels = this.props.labels;\n",
       "       var tooltip = d3.select(\"body\").append(\"div\")\n",
       "                    .attr(\"class\", \"mpld3-tooltip\")\n",
       "                    .style(\"position\", \"absolute\")\n",
       "                    .style(\"z-index\", \"10\")\n",
       "                    .style(\"visibility\", \"hidden\");\n",
       "\n",
       "       obj.elements()\n",
       "           .on(\"mouseover\", function(d, i){\n",
       "                              tooltip.html(labels[i])\n",
       "                                     .style(\"visibility\", \"visible\");})\n",
       "           .on(\"mousemove\", function(d, i){\n",
       "                    tooltip\n",
       "                      .style(\"top\", d3.event.pageY + this.props.voffset + \"px\")\n",
       "                      .style(\"left\",d3.event.pageX + this.props.hoffset + \"px\");\n",
       "                 }.bind(this))\n",
       "           .on(\"mouseout\",  function(d, i){\n",
       "                           tooltip.style(\"visibility\", \"hidden\");});\n",
       "    };\n",
       "    \n",
       "                 mpld3.draw_figure(\"fig_el11945140492417027320736170350\", {\"height\": 640.0, \"plugins\": [{\"type\": \"reset\"}, {\"enabled\": false, \"type\": \"zoom\", \"button\": true}, {\"enabled\": false, \"type\": \"boxzoom\", \"button\": true}, {\"labels\": [], \"type\": \"htmltooltip\", \"voffset\": 10, \"id\": \"el11945140492420602400pts\", \"hoffset\": 10}], \"axes\": [{\"bbox\": [0.125, 0.125, 0.775, 0.775], \"sharey\": [], \"zoomable\": true, \"collections\": [], \"markers\": [{\"coordinates\": \"data\", \"edgecolor\": \"#000000\", \"yindex\": 1, \"xindex\": 0, \"alpha\": 1.0, \"zorder\": 2, \"markerpath\": [[[0.0, 10.0], [2.652031, 10.0], [5.195798707848534, 8.946336915882418], [7.0710678118654755, 7.0710678118654755], [8.946336915882418, 5.195798707848534], [10.0, 2.652031], [10.0, 0.0], [10.0, -2.652031], [8.946336915882418, -5.195798707848534], [7.0710678118654755, -7.0710678118654755], [5.195798707848534, -8.946336915882418], [2.652031, -10.0], [0.0, -10.0], [-2.652031, -10.0], [-5.195798707848534, -8.946336915882418], [-7.0710678118654755, -7.0710678118654755], [-8.946336915882418, -5.195798707848534], [-10.0, -2.652031], [-10.0, 0.0], [-10.0, 2.652031], [-8.946336915882418, 5.195798707848534], [-7.0710678118654755, 7.0710678118654755], [-5.195798707848534, 8.946336915882418], [-2.652031, 10.0], [0.0, 10.0]], [\"M\", \"C\", \"C\", \"C\", \"C\", \"C\", \"C\", \"C\", \"C\", \"Z\"]], \"id\": \"el11945140492417727960pts\", \"edgewidth\": 1, \"facecolor\": \"#D3D3D3\", \"data\": \"data09\"}, {\"coordinates\": \"data\", \"edgecolor\": \"#000000\", \"yindex\": 1, \"xindex\": 0, \"alpha\": 0.0, \"zorder\": 2, \"markerpath\": [[[0.0, 20.0], [5.304062, 20.0], [10.391597415697069, 17.892673831764835], [14.142135623730951, 14.142135623730951], [17.892673831764835, 10.391597415697069], [20.0, 5.304062], [20.0, 0.0], [20.0, -5.304062], [17.892673831764835, -10.391597415697069], [14.142135623730951, -14.142135623730951], [10.391597415697069, -17.892673831764835], [5.304062, -20.0], [0.0, -20.0], [-5.304062, -20.0], [-10.391597415697069, -17.892673831764835], [-14.142135623730951, -14.142135623730951], [-17.892673831764835, -10.391597415697069], [-20.0, -5.304062], [-20.0, 0.0], [-20.0, 5.304062], [-17.892673831764835, 10.391597415697069], [-14.142135623730951, 14.142135623730951], [-10.391597415697069, 17.892673831764835], [-5.304062, 20.0], [0.0, 20.0]], [\"M\", \"C\", \"C\", \"C\", \"C\", \"C\", \"C\", \"C\", \"C\", \"Z\"]], \"id\": \"el11945140492420602400pts\", \"edgewidth\": 1, \"facecolor\": \"#D3D3D3\", \"data\": \"data09\"}], \"paths\": [], \"xlim\": [-0.7248281796718692, 1.08], \"texts\": [{\"id\": \"el11945140492421143128\", \"zorder\": 3, \"h_anchor\": \"middle\", \"color\": \"#000000\", \"fontsize\": 10.0, \"coordinates\": \"data\", \"text\": \"Burglary\", \"rotation\": -0.0, \"position\": [-0.5752618324256954, -0.7019794875360691], \"v_baseline\": \"central\", \"alpha\": 1}, {\"id\": \"el11945140492421143800\", \"zorder\": 3, \"h_anchor\": \"middle\", \"color\": \"#000000\", \"fontsize\": 10.0, \"coordinates\": \"data\", \"text\": \"Earthquake\", \"rotation\": -0.0, \"position\": [0.07029992268970019, 0.8063933236567407], \"v_baseline\": \"central\", \"alpha\": 1}, {\"id\": \"el11945140492421144080\", \"zorder\": 3, \"h_anchor\": \"middle\", \"color\": \"#000000\", \"fontsize\": 10.0, \"coordinates\": \"data\", \"text\": \"MaryCalls\", \"rotation\": -0.0, \"position\": [-0.6448281796718692, 0.2913885414667912], \"v_baseline\": \"central\", \"alpha\": 1}, {\"id\": \"el11945140492421105704\", \"zorder\": 3, \"h_anchor\": \"middle\", \"color\": \"#000000\", \"fontsize\": 10.0, \"coordinates\": \"data\", \"text\": \"Alarm\", \"rotation\": -0.0, \"position\": [0.1497900894078641, -0.0471663768472777], \"v_baseline\": \"central\", \"alpha\": 1}, {\"id\": \"el11945140492421105648\", \"zorder\": 3, \"h_anchor\": \"middle\", \"color\": \"#000000\", \"fontsize\": 10.0, \"coordinates\": \"data\", \"text\": \"JohnCalls\", \"rotation\": -0.0, \"position\": [1.0, -0.34863600074018514], \"v_baseline\": \"central\", \"alpha\": 1}], \"yscale\": \"linear\", \"images\": [], \"ylim\": [-0.781979487536069, 0.8863933236567406], \"axesbg\": \"#FFFFFF\", \"id\": \"el11945140492416936760\", \"axes\": [{\"tickformat\": null, \"grid\": {\"gridOn\": false}, \"tickvalues\": null, \"position\": \"bottom\", \"fontsize\": 10.0, \"nticks\": 6, \"scale\": \"linear\"}, {\"tickformat\": null, \"grid\": {\"gridOn\": false}, \"tickvalues\": null, \"position\": \"left\", \"fontsize\": 10.0, \"nticks\": 10, \"scale\": \"linear\"}], \"xscale\": \"linear\", \"ydomain\": [-0.781979487536069, 0.8863933236567406], \"axesbgalpha\": null, \"sharex\": [], \"lines\": [{\"coordinates\": \"data\", \"linewidth\": 1.0, \"yindex\": 1, \"xindex\": 0, \"zorder\": 2, \"dasharray\": \"10,0\", \"color\": \"#808080\", \"id\": \"el11945140492417727680\", \"alpha\": 1, \"data\": \"data01\"}, {\"coordinates\": \"data\", \"linewidth\": 5, \"yindex\": 1, \"xindex\": 0, \"zorder\": 2, \"dasharray\": \"10,0\", \"color\": \"#000000\", \"id\": \"el11945140492417727792\", \"alpha\": 0.5, \"data\": \"data02\"}, {\"coordinates\": \"data\", \"linewidth\": 1.0, \"yindex\": 1, \"xindex\": 0, \"zorder\": 2, \"dasharray\": \"10,0\", \"color\": \"#808080\", \"id\": \"el11945140492417741992\", \"alpha\": 1, \"data\": \"data03\"}, {\"coordinates\": \"data\", \"linewidth\": 5, \"yindex\": 1, \"xindex\": 0, \"zorder\": 2, \"dasharray\": \"10,0\", \"color\": \"#000000\", \"id\": \"el11945140492417743896\", \"alpha\": 0.5, \"data\": \"data04\"}, {\"coordinates\": \"data\", \"linewidth\": 1.0, \"yindex\": 1, \"xindex\": 0, \"zorder\": 2, \"dasharray\": \"10,0\", \"color\": \"#808080\", \"id\": \"el11945140492420812416\", \"alpha\": 1, \"data\": \"data05\"}, {\"coordinates\": \"data\", \"linewidth\": 5, \"yindex\": 1, \"xindex\": 0, \"zorder\": 2, \"dasharray\": \"10,0\", \"color\": \"#000000\", \"id\": \"el11945140492420809392\", \"alpha\": 0.5, \"data\": \"data06\"}, {\"coordinates\": \"data\", \"linewidth\": 1.0, \"yindex\": 1, \"xindex\": 0, \"zorder\": 2, \"dasharray\": \"10,0\", \"color\": \"#808080\", \"id\": \"el11945140492420623832\", \"alpha\": 1, \"data\": \"data07\"}, {\"coordinates\": \"data\", \"linewidth\": 5, \"yindex\": 1, \"xindex\": 0, \"zorder\": 2, \"dasharray\": \"10,0\", \"color\": \"#000000\", \"id\": \"el11945140492420621704\", \"alpha\": 0.5, \"data\": \"data08\"}], \"xdomain\": [-0.7248281796718692, 1.08]}], \"id\": \"el11945140492417027320\", \"width\": 960.0, \"data\": {\"data09\": [[-0.5752618324256954, -0.7019794875360691], [0.07029992268970019, 0.8063933236567407], [-0.6448281796718692, 0.2913885414667912], [0.1497900894078641, -0.0471663768472777], [1.0, -0.34863600074018514]], \"data07\": [[0.1497900894078641, -0.0471663768472777], [1.0, -0.34863600074018514]], \"data04\": [[0.1378665644001395, 0.08086757822832505], [0.1497900894078641, -0.0471663768472777]], \"data05\": [[0.1497900894078641, -0.0471663768472777], [-0.6448281796718692, 0.2913885414667912]], \"data08\": [[0.8724685134111796, -0.303415557156249], [1.0, -0.34863600074018514]], \"data01\": [[-0.5752618324256954, -0.7019794875360691], [0.1497900894078641, -0.0471663768472777]], \"data03\": [[0.07029992268970019, 0.8063933236567407], [0.1497900894078641, -0.0471663768472777]], \"data02\": [[0.04103230113283017, -0.1453883434505964], [0.1497900894078641, -0.0471663768472777]], \"data06\": [[-0.5256354393099092, 0.2406053037196809], [-0.6448281796718692, 0.2913885414667912]]}});\n",
       "            })\n",
       "         });\n",
       "}\n",
       "</script>"
      ],
      "text/plain": [
       "<IPython.core.display.HTML object>"
      ]
     },
     "execution_count": 32,
     "metadata": {},
     "output_type": "execute_result"
    }
   ],
   "source": [
    "# copying graph\n",
    "dgm1 = gm.DGM()\n",
    "dgm1.add_nodes_from(dgm.nodes(), cpd=gm.TableFactor) # here we also need to specify cpd type (TableFactor)\n",
    "dgm1.add_edges_from(dgm.edges())\n",
    "dgm1.draw()"
   ]
  },
  {
   "cell_type": "code",
   "execution_count": 33,
   "metadata": {
    "collapsed": false
   },
   "outputs": [
    {
     "data": {
      "text/html": [
       "\n",
       "\n",
       "<style>\n",
       "\n",
       "table\n",
       "{\n",
       "  border-collapse: collapse;\n",
       "}\n",
       "th\n",
       "{\n",
       "  color: #ffffff;\n",
       "  background-color: #000000;\n",
       "}\n",
       "td\n",
       "{\n",
       "  background-color: #cccccc;\n",
       "}\n",
       "table, th, td\n",
       "{\n",
       "  font-family:Arial, Helvetica, sans-serif;\n",
       "  border: 1px solid black;\n",
       "  text-align: center;\n",
       "  padding: 3px;\n",
       "  font-size:11pt;\n",
       "}\n",
       "g.mpld3-xaxis, g.mpld3-yaxis {\n",
       "    display: none;\n",
       "}\n",
       "    \n",
       "</style>\n",
       "\n",
       "<div id=\"fig_el119451404924169695282866502920\"></div>\n",
       "<script>\n",
       "function mpld3_load_lib(url, callback){\n",
       "  var s = document.createElement('script');\n",
       "  s.src = url;\n",
       "  s.async = true;\n",
       "  s.onreadystatechange = s.onload = callback;\n",
       "  s.onerror = function(){console.warn(\"failed to load library \" + url);};\n",
       "  document.getElementsByTagName(\"head\")[0].appendChild(s);\n",
       "}\n",
       "\n",
       "if(typeof(mpld3) !== \"undefined\" && mpld3._mpld3IsLoaded){\n",
       "   // already loaded: just create the figure\n",
       "   !function(mpld3){\n",
       "       \n",
       "    mpld3.register_plugin(\"htmltooltip\", HtmlTooltipPlugin);\n",
       "    HtmlTooltipPlugin.prototype = Object.create(mpld3.Plugin.prototype);\n",
       "    HtmlTooltipPlugin.prototype.constructor = HtmlTooltipPlugin;\n",
       "    HtmlTooltipPlugin.prototype.requiredProps = [\"id\"];\n",
       "    HtmlTooltipPlugin.prototype.defaultProps = {labels:null, hoffset:0, voffset:10};\n",
       "    function HtmlTooltipPlugin(fig, props){\n",
       "        mpld3.Plugin.call(this, fig, props);\n",
       "    };\n",
       "\n",
       "    HtmlTooltipPlugin.prototype.draw = function(){\n",
       "       var obj = mpld3.get_element(this.props.id);\n",
       "       var labels = this.props.labels;\n",
       "       var tooltip = d3.select(\"body\").append(\"div\")\n",
       "                    .attr(\"class\", \"mpld3-tooltip\")\n",
       "                    .style(\"position\", \"absolute\")\n",
       "                    .style(\"z-index\", \"10\")\n",
       "                    .style(\"visibility\", \"hidden\");\n",
       "\n",
       "       obj.elements()\n",
       "           .on(\"mouseover\", function(d, i){\n",
       "                              tooltip.html(labels[i])\n",
       "                                     .style(\"visibility\", \"visible\");})\n",
       "           .on(\"mousemove\", function(d, i){\n",
       "                    tooltip\n",
       "                      .style(\"top\", d3.event.pageY + this.props.voffset + \"px\")\n",
       "                      .style(\"left\",d3.event.pageX + this.props.hoffset + \"px\");\n",
       "                 }.bind(this))\n",
       "           .on(\"mouseout\",  function(d, i){\n",
       "                           tooltip.style(\"visibility\", \"hidden\");});\n",
       "    };\n",
       "    \n",
       "       mpld3.draw_figure(\"fig_el119451404924169695282866502920\", {\"height\": 640.0, \"plugins\": [{\"type\": \"reset\"}, {\"enabled\": false, \"type\": \"zoom\", \"button\": true}, {\"enabled\": false, \"type\": \"boxzoom\", \"button\": true}, {\"labels\": [\"<table border=\\\"1\\\" cellpadding=\\\"4\\\" cellspacing=\\\"0\\\" bordercolor=\\\"#000000\\\">\\n<tr bgcolor=\\\"#AAAAAA\\\">\\n<th align=\\\"center\\\">Burglary</th>\\n<th align=\\\"center\\\">Prob.</th>\\n</tr>\\n<tr>\\n<td bgcolor=#FFFFFF>False</td>\\n<td bgcolor=#f2f0f1>0.990</td>\\n</tr>\\n<tr>\\n<td bgcolor=#FFFFFF>True</td>\\n<td bgcolor=#f6b5b1>0.010</td>\\n</tr>\\n</table>\", \"<table border=\\\"1\\\" cellpadding=\\\"4\\\" cellspacing=\\\"0\\\" bordercolor=\\\"#000000\\\">\\n<tr bgcolor=\\\"#AAAAAA\\\">\\n<th align=\\\"center\\\">Earthquake</th>\\n<th align=\\\"center\\\">Prob.</th>\\n</tr>\\n<tr>\\n<td bgcolor=#FFFFFF>False</td>\\n<td bgcolor=#f3eef1>0.980</td>\\n</tr>\\n<tr>\\n<td bgcolor=#FFFFFF>True</td>\\n<td bgcolor=#efb7b6>0.020</td>\\n</tr>\\n</table>\", \"<table border=\\\"1\\\" cellpadding=\\\"4\\\" cellspacing=\\\"0\\\" bordercolor=\\\"#000000\\\">\\n<tr bgcolor=\\\"#AAAAAA\\\">\\n<th align=\\\"center\\\">MaryCalls</th>\\n<th align=\\\"center\\\">Alarm</th>\\n<th align=\\\"center\\\">Prob.</th>\\n</tr>\\n<tr>\\n<td bgcolor=#FFFFFF>False</td>\\n<td bgcolor=#FFFFFF>False</td>\\n<td bgcolor=#f2f0f1>0.990</td>\\n</tr>\\n<tr>\\n<td bgcolor=#FFFFFF>False</td>\\n<td bgcolor=#FFFFFF>True</td>\\n<td bgcolor=#d2dfcf>0.295</td>\\n</tr>\\n<tr>\\n<td bgcolor=#FFFFFF>True</td>\\n<td bgcolor=#FFFFFF>False</td>\\n<td bgcolor=#f6b5b1>0.010</td>\\n</tr>\\n<tr>\\n<td bgcolor=#FFFFFF>True</td>\\n<td bgcolor=#FFFFFF>True</td>\\n<td bgcolor=#eee5c2>0.705</td>\\n</tr>\\n</table>\", \"<table border=\\\"1\\\" cellpadding=\\\"4\\\" cellspacing=\\\"0\\\" bordercolor=\\\"#000000\\\">\\n<tr bgcolor=\\\"#AAAAAA\\\">\\n<th align=\\\"center\\\">Burglary</th>\\n<th align=\\\"center\\\">Earthquake</th>\\n<th align=\\\"center\\\">Alarm</th>\\n<th align=\\\"center\\\">Prob.</th>\\n</tr>\\n<tr>\\n<td bgcolor=#FFFFFF>False</td>\\n<td bgcolor=#FFFFFF>False</td>\\n<td bgcolor=#FFFFFF>False</td>\\n<td bgcolor=#f2f2f2>0.999</td>\\n</tr>\\n<tr>\\n<td bgcolor=#FFFFFF>False</td>\\n<td bgcolor=#FFFFFF>False</td>\\n<td bgcolor=#FFFFFF>True</td>\\n<td bgcolor=#fbb4ae>0.001</td>\\n</tr>\\n<tr>\\n<td bgcolor=#FFFFFF>False</td>\\n<td bgcolor=#FFFFFF>True</td>\\n<td bgcolor=#FFFFFF>False</td>\\n<td bgcolor=#ede4c1>0.709</td>\\n</tr>\\n<tr>\\n<td bgcolor=#FFFFFF>False</td>\\n<td bgcolor=#FFFFFF>True</td>\\n<td bgcolor=#FFFFFF>True</td>\\n<td bgcolor=#d1e0ce>0.291</td>\\n</tr>\\n<tr>\\n<td bgcolor=#FFFFFF>True</td>\\n<td bgcolor=#FFFFFF>False</td>\\n<td bgcolor=#FFFFFF>False</td>\\n<td bgcolor=#ddbec3>0.054</td>\\n</tr>\\n<tr>\\n<td bgcolor=#FFFFFF>True</td>\\n<td bgcolor=#FFFFFF>False</td>\\n<td bgcolor=#FFFFFF>True</td>\\n<td bgcolor=#f6e8ef>0.946</td>\\n</tr>\\n<tr>\\n<td bgcolor=#FFFFFF>True</td>\\n<td bgcolor=#FFFFFF>True</td>\\n<td bgcolor=#FFFFFF>False</td>\\n<td bgcolor=#dfbdc1>0.050</td>\\n</tr>\\n<tr>\\n<td bgcolor=#FFFFFF>True</td>\\n<td bgcolor=#FFFFFF>True</td>\\n<td bgcolor=#FFFFFF>True</td>\\n<td bgcolor=#f6e8ef>0.950</td>\\n</tr>\\n</table>\", \"<table border=\\\"1\\\" cellpadding=\\\"4\\\" cellspacing=\\\"0\\\" bordercolor=\\\"#000000\\\">\\n<tr bgcolor=\\\"#AAAAAA\\\">\\n<th align=\\\"center\\\">Alarm</th>\\n<th align=\\\"center\\\">JohnCalls</th>\\n<th align=\\\"center\\\">Prob.</th>\\n</tr>\\n<tr>\\n<td bgcolor=#FFFFFF>False</td>\\n<td bgcolor=#FFFFFF>False</td>\\n<td bgcolor=#f6e8ef>0.950</td>\\n</tr>\\n<tr>\\n<td bgcolor=#FFFFFF>False</td>\\n<td bgcolor=#FFFFFF>True</td>\\n<td bgcolor=#dfbdc1>0.050</td>\\n</tr>\\n<tr>\\n<td bgcolor=#FFFFFF>True</td>\\n<td bgcolor=#FFFFFF>False</td>\\n<td bgcolor=#c2c7d7>0.098</td>\\n</tr>\\n<tr>\\n<td bgcolor=#FFFFFF>True</td>\\n<td bgcolor=#FFFFFF>True</td>\\n<td bgcolor=#fadfed>0.902</td>\\n</tr>\\n</table>\"], \"type\": \"htmltooltip\", \"voffset\": 10, \"id\": \"el11945140492417255800pts\", \"hoffset\": 10}], \"axes\": [{\"bbox\": [0.125, 0.125, 0.775, 0.775], \"sharey\": [], \"zoomable\": true, \"collections\": [], \"markers\": [{\"coordinates\": \"data\", \"edgecolor\": \"#000000\", \"yindex\": 1, \"xindex\": 0, \"alpha\": 1.0, \"zorder\": 2, \"markerpath\": [[[0.0, 10.0], [2.652031, 10.0], [5.195798707848534, 8.946336915882418], [7.0710678118654755, 7.0710678118654755], [8.946336915882418, 5.195798707848534], [10.0, 2.652031], [10.0, 0.0], [10.0, -2.652031], [8.946336915882418, -5.195798707848534], [7.0710678118654755, -7.0710678118654755], [5.195798707848534, -8.946336915882418], [2.652031, -10.0], [0.0, -10.0], [-2.652031, -10.0], [-5.195798707848534, -8.946336915882418], [-7.0710678118654755, -7.0710678118654755], [-8.946336915882418, -5.195798707848534], [-10.0, -2.652031], [-10.0, 0.0], [-10.0, 2.652031], [-8.946336915882418, 5.195798707848534], [-7.0710678118654755, 7.0710678118654755], [-5.195798707848534, 8.946336915882418], [-2.652031, 10.0], [0.0, 10.0]], [\"M\", \"C\", \"C\", \"C\", \"C\", \"C\", \"C\", \"C\", \"C\", \"Z\"]], \"id\": \"el11945140492417345296pts\", \"edgewidth\": 1, \"facecolor\": \"#D3D3D3\", \"data\": \"data09\"}, {\"coordinates\": \"data\", \"edgecolor\": \"#000000\", \"yindex\": 1, \"xindex\": 0, \"alpha\": 0.0, \"zorder\": 2, \"markerpath\": [[[0.0, 20.0], [5.304062, 20.0], [10.391597415697069, 17.892673831764835], [14.142135623730951, 14.142135623730951], [17.892673831764835, 10.391597415697069], [20.0, 5.304062], [20.0, 0.0], [20.0, -5.304062], [17.892673831764835, -10.391597415697069], [14.142135623730951, -14.142135623730951], [10.391597415697069, -17.892673831764835], [5.304062, -20.0], [0.0, -20.0], [-5.304062, -20.0], [-10.391597415697069, -17.892673831764835], [-14.142135623730951, -14.142135623730951], [-17.892673831764835, -10.391597415697069], [-20.0, -5.304062], [-20.0, 0.0], [-20.0, 5.304062], [-17.892673831764835, 10.391597415697069], [-14.142135623730951, 14.142135623730951], [-10.391597415697069, 17.892673831764835], [-5.304062, 20.0], [0.0, 20.0]], [\"M\", \"C\", \"C\", \"C\", \"C\", \"C\", \"C\", \"C\", \"C\", \"Z\"]], \"id\": \"el11945140492417255800pts\", \"edgewidth\": 1, \"facecolor\": \"#D3D3D3\", \"data\": \"data09\"}], \"paths\": [], \"xlim\": [-1.5371311091608728, 1.0508532918074884], \"texts\": [{\"id\": \"el11945140492417256976\", \"zorder\": 3, \"h_anchor\": \"middle\", \"color\": \"#000000\", \"fontsize\": 10.0, \"coordinates\": \"data\", \"text\": \"Burglary\", \"rotation\": -0.0, \"position\": [-1.4571311091608727, -0.5043332441152496], \"v_baseline\": \"central\", \"alpha\": 1}, {\"id\": \"el11945140492417209400\", \"zorder\": 3, \"h_anchor\": \"middle\", \"color\": \"#000000\", \"fontsize\": 10.0, \"coordinates\": \"data\", \"text\": \"Earthquake\", \"rotation\": -0.0, \"position\": [0.9708532918074885, 1.0], \"v_baseline\": \"central\", \"alpha\": 1}, {\"id\": \"el11945140492417210744\", \"zorder\": 3, \"h_anchor\": \"middle\", \"color\": \"#000000\", \"fontsize\": 10.0, \"coordinates\": \"data\", \"text\": \"MaryCalls\", \"rotation\": -0.0, \"position\": [-0.3015443159506189, 0.6543326291582464], \"v_baseline\": \"central\", \"alpha\": 1}, {\"id\": \"el11945140492417212088\", \"zorder\": 3, \"h_anchor\": \"middle\", \"color\": \"#000000\", \"fontsize\": 10.0, \"coordinates\": \"data\", \"text\": \"Alarm\", \"rotation\": -0.0, \"position\": [0.18977908126395224, -0.1017254455893992], \"v_baseline\": \"central\", \"alpha\": 1}, {\"id\": \"el11945140492417406008\", \"zorder\": 3, \"h_anchor\": \"middle\", \"color\": \"#000000\", \"fontsize\": 10.0, \"coordinates\": \"data\", \"text\": \"JohnCalls\", \"rotation\": -0.0, \"position\": [0.598043052040051, -1.0482739394535985], \"v_baseline\": \"central\", \"alpha\": 1}], \"yscale\": \"linear\", \"images\": [], \"ylim\": [-1.1282739394535986, 1.08], \"axesbg\": \"#FFFFFF\", \"id\": \"el11945140492420539616\", \"axes\": [{\"tickformat\": null, \"grid\": {\"gridOn\": false}, \"tickvalues\": null, \"position\": \"bottom\", \"fontsize\": 10.0, \"nticks\": 8, \"scale\": \"linear\"}, {\"tickformat\": null, \"grid\": {\"gridOn\": false}, \"tickvalues\": null, \"position\": \"left\", \"fontsize\": 10.0, \"nticks\": 7, \"scale\": \"linear\"}], \"xscale\": \"linear\", \"ydomain\": [-1.1282739394535986, 1.08], \"axesbgalpha\": null, \"sharex\": [], \"lines\": [{\"coordinates\": \"data\", \"linewidth\": 1.0, \"yindex\": 1, \"xindex\": 0, \"zorder\": 2, \"dasharray\": \"10,0\", \"color\": \"#808080\", \"id\": \"el11945140492417345408\", \"alpha\": 1, \"data\": \"data01\"}, {\"coordinates\": \"data\", \"linewidth\": 5, \"yindex\": 1, \"xindex\": 0, \"zorder\": 2, \"dasharray\": \"10,0\", \"color\": \"#000000\", \"id\": \"el11945140492417346248\", \"alpha\": 0.5, \"data\": \"data02\"}, {\"coordinates\": \"data\", \"linewidth\": 1.0, \"yindex\": 1, \"xindex\": 0, \"zorder\": 2, \"dasharray\": \"10,0\", \"color\": \"#808080\", \"id\": \"el11945140492417155480\", \"alpha\": 1, \"data\": \"data03\"}, {\"coordinates\": \"data\", \"linewidth\": 5, \"yindex\": 1, \"xindex\": 0, \"zorder\": 2, \"dasharray\": \"10,0\", \"color\": \"#000000\", \"id\": \"el11945140492417157776\", \"alpha\": 0.5, \"data\": \"data04\"}, {\"coordinates\": \"data\", \"linewidth\": 1.0, \"yindex\": 1, \"xindex\": 0, \"zorder\": 2, \"dasharray\": \"10,0\", \"color\": \"#808080\", \"id\": \"el11945140492417356408\", \"alpha\": 1, \"data\": \"data05\"}, {\"coordinates\": \"data\", \"linewidth\": 5, \"yindex\": 1, \"xindex\": 0, \"zorder\": 2, \"dasharray\": \"10,0\", \"color\": \"#000000\", \"id\": \"el11945140492417358368\", \"alpha\": 0.5, \"data\": \"data06\"}, {\"coordinates\": \"data\", \"linewidth\": 1.0, \"yindex\": 1, \"xindex\": 0, \"zorder\": 2, \"dasharray\": \"10,0\", \"color\": \"#808080\", \"id\": \"el11945140492417303048\", \"alpha\": 1, \"data\": \"data07\"}, {\"coordinates\": \"data\", \"linewidth\": 5, \"yindex\": 1, \"xindex\": 0, \"zorder\": 2, \"dasharray\": \"10,0\", \"color\": \"#000000\", \"id\": \"el11945140492417305008\", \"alpha\": 0.5, \"data\": \"data08\"}], \"xdomain\": [-1.5371311091608728, 1.0508532918074884]}], \"id\": \"el11945140492416969528\", \"width\": 960.0, \"data\": {\"data09\": [[-1.4571311091608727, -0.5043332441152496], [0.9708532918074885, 1.0], [-0.3015443159506189, 0.6543326291582464], [0.18977908126395224, -0.1017254455893992], [0.598043052040051, -1.0482739394535985]], \"data07\": [[0.18977908126395224, -0.1017254455893992], [0.598043052040051, -1.0482739394535985]], \"data04\": [[0.3069402128454827, 0.06353337124901068], [0.18977908126395224, -0.1017254455893992]], \"data05\": [[0.18977908126395224, -0.1017254455893992], [-0.3015443159506189, 0.6543326291582464]], \"data08\": [[0.5368034564236362, -0.9062916653739685], [0.598043052040051, -1.0482739394535985]], \"data01\": [[-1.4571311091608727, -0.5043332441152496], [0.18977908126395224, -0.1017254455893992]], \"data03\": [[0.9708532918074885, 1.0], [0.18977908126395224, -0.1017254455893992]], \"data02\": [[-0.057257447299771475, -0.16211661536827676], [0.18977908126395224, -0.1017254455893992]], \"data06\": [[-0.22784580636843327, 0.5409239179460996], [-0.3015443159506189, 0.6543326291582464]]}});\n",
       "   }(mpld3);\n",
       "}else if(typeof define === \"function\" && define.amd){\n",
       "   // require.js is available: use it to load d3/mpld3\n",
       "   require.config({paths: {d3: \"https://mpld3.github.io/js/d3.v3.min\"}});\n",
       "   require([\"d3\"], function(d3){\n",
       "      window.d3 = d3;\n",
       "      mpld3_load_lib(\"https://mpld3.github.io/js/mpld3.v0.2.js\", function(){\n",
       "         \n",
       "    mpld3.register_plugin(\"htmltooltip\", HtmlTooltipPlugin);\n",
       "    HtmlTooltipPlugin.prototype = Object.create(mpld3.Plugin.prototype);\n",
       "    HtmlTooltipPlugin.prototype.constructor = HtmlTooltipPlugin;\n",
       "    HtmlTooltipPlugin.prototype.requiredProps = [\"id\"];\n",
       "    HtmlTooltipPlugin.prototype.defaultProps = {labels:null, hoffset:0, voffset:10};\n",
       "    function HtmlTooltipPlugin(fig, props){\n",
       "        mpld3.Plugin.call(this, fig, props);\n",
       "    };\n",
       "\n",
       "    HtmlTooltipPlugin.prototype.draw = function(){\n",
       "       var obj = mpld3.get_element(this.props.id);\n",
       "       var labels = this.props.labels;\n",
       "       var tooltip = d3.select(\"body\").append(\"div\")\n",
       "                    .attr(\"class\", \"mpld3-tooltip\")\n",
       "                    .style(\"position\", \"absolute\")\n",
       "                    .style(\"z-index\", \"10\")\n",
       "                    .style(\"visibility\", \"hidden\");\n",
       "\n",
       "       obj.elements()\n",
       "           .on(\"mouseover\", function(d, i){\n",
       "                              tooltip.html(labels[i])\n",
       "                                     .style(\"visibility\", \"visible\");})\n",
       "           .on(\"mousemove\", function(d, i){\n",
       "                    tooltip\n",
       "                      .style(\"top\", d3.event.pageY + this.props.voffset + \"px\")\n",
       "                      .style(\"left\",d3.event.pageX + this.props.hoffset + \"px\");\n",
       "                 }.bind(this))\n",
       "           .on(\"mouseout\",  function(d, i){\n",
       "                           tooltip.style(\"visibility\", \"hidden\");});\n",
       "    };\n",
       "    \n",
       "         mpld3.draw_figure(\"fig_el119451404924169695282866502920\", {\"height\": 640.0, \"plugins\": [{\"type\": \"reset\"}, {\"enabled\": false, \"type\": \"zoom\", \"button\": true}, {\"enabled\": false, \"type\": \"boxzoom\", \"button\": true}, {\"labels\": [\"<table border=\\\"1\\\" cellpadding=\\\"4\\\" cellspacing=\\\"0\\\" bordercolor=\\\"#000000\\\">\\n<tr bgcolor=\\\"#AAAAAA\\\">\\n<th align=\\\"center\\\">Burglary</th>\\n<th align=\\\"center\\\">Prob.</th>\\n</tr>\\n<tr>\\n<td bgcolor=#FFFFFF>False</td>\\n<td bgcolor=#f2f0f1>0.990</td>\\n</tr>\\n<tr>\\n<td bgcolor=#FFFFFF>True</td>\\n<td bgcolor=#f6b5b1>0.010</td>\\n</tr>\\n</table>\", \"<table border=\\\"1\\\" cellpadding=\\\"4\\\" cellspacing=\\\"0\\\" bordercolor=\\\"#000000\\\">\\n<tr bgcolor=\\\"#AAAAAA\\\">\\n<th align=\\\"center\\\">Earthquake</th>\\n<th align=\\\"center\\\">Prob.</th>\\n</tr>\\n<tr>\\n<td bgcolor=#FFFFFF>False</td>\\n<td bgcolor=#f3eef1>0.980</td>\\n</tr>\\n<tr>\\n<td bgcolor=#FFFFFF>True</td>\\n<td bgcolor=#efb7b6>0.020</td>\\n</tr>\\n</table>\", \"<table border=\\\"1\\\" cellpadding=\\\"4\\\" cellspacing=\\\"0\\\" bordercolor=\\\"#000000\\\">\\n<tr bgcolor=\\\"#AAAAAA\\\">\\n<th align=\\\"center\\\">MaryCalls</th>\\n<th align=\\\"center\\\">Alarm</th>\\n<th align=\\\"center\\\">Prob.</th>\\n</tr>\\n<tr>\\n<td bgcolor=#FFFFFF>False</td>\\n<td bgcolor=#FFFFFF>False</td>\\n<td bgcolor=#f2f0f1>0.990</td>\\n</tr>\\n<tr>\\n<td bgcolor=#FFFFFF>False</td>\\n<td bgcolor=#FFFFFF>True</td>\\n<td bgcolor=#d2dfcf>0.295</td>\\n</tr>\\n<tr>\\n<td bgcolor=#FFFFFF>True</td>\\n<td bgcolor=#FFFFFF>False</td>\\n<td bgcolor=#f6b5b1>0.010</td>\\n</tr>\\n<tr>\\n<td bgcolor=#FFFFFF>True</td>\\n<td bgcolor=#FFFFFF>True</td>\\n<td bgcolor=#eee5c2>0.705</td>\\n</tr>\\n</table>\", \"<table border=\\\"1\\\" cellpadding=\\\"4\\\" cellspacing=\\\"0\\\" bordercolor=\\\"#000000\\\">\\n<tr bgcolor=\\\"#AAAAAA\\\">\\n<th align=\\\"center\\\">Burglary</th>\\n<th align=\\\"center\\\">Earthquake</th>\\n<th align=\\\"center\\\">Alarm</th>\\n<th align=\\\"center\\\">Prob.</th>\\n</tr>\\n<tr>\\n<td bgcolor=#FFFFFF>False</td>\\n<td bgcolor=#FFFFFF>False</td>\\n<td bgcolor=#FFFFFF>False</td>\\n<td bgcolor=#f2f2f2>0.999</td>\\n</tr>\\n<tr>\\n<td bgcolor=#FFFFFF>False</td>\\n<td bgcolor=#FFFFFF>False</td>\\n<td bgcolor=#FFFFFF>True</td>\\n<td bgcolor=#fbb4ae>0.001</td>\\n</tr>\\n<tr>\\n<td bgcolor=#FFFFFF>False</td>\\n<td bgcolor=#FFFFFF>True</td>\\n<td bgcolor=#FFFFFF>False</td>\\n<td bgcolor=#ede4c1>0.709</td>\\n</tr>\\n<tr>\\n<td bgcolor=#FFFFFF>False</td>\\n<td bgcolor=#FFFFFF>True</td>\\n<td bgcolor=#FFFFFF>True</td>\\n<td bgcolor=#d1e0ce>0.291</td>\\n</tr>\\n<tr>\\n<td bgcolor=#FFFFFF>True</td>\\n<td bgcolor=#FFFFFF>False</td>\\n<td bgcolor=#FFFFFF>False</td>\\n<td bgcolor=#ddbec3>0.054</td>\\n</tr>\\n<tr>\\n<td bgcolor=#FFFFFF>True</td>\\n<td bgcolor=#FFFFFF>False</td>\\n<td bgcolor=#FFFFFF>True</td>\\n<td bgcolor=#f6e8ef>0.946</td>\\n</tr>\\n<tr>\\n<td bgcolor=#FFFFFF>True</td>\\n<td bgcolor=#FFFFFF>True</td>\\n<td bgcolor=#FFFFFF>False</td>\\n<td bgcolor=#dfbdc1>0.050</td>\\n</tr>\\n<tr>\\n<td bgcolor=#FFFFFF>True</td>\\n<td bgcolor=#FFFFFF>True</td>\\n<td bgcolor=#FFFFFF>True</td>\\n<td bgcolor=#f6e8ef>0.950</td>\\n</tr>\\n</table>\", \"<table border=\\\"1\\\" cellpadding=\\\"4\\\" cellspacing=\\\"0\\\" bordercolor=\\\"#000000\\\">\\n<tr bgcolor=\\\"#AAAAAA\\\">\\n<th align=\\\"center\\\">Alarm</th>\\n<th align=\\\"center\\\">JohnCalls</th>\\n<th align=\\\"center\\\">Prob.</th>\\n</tr>\\n<tr>\\n<td bgcolor=#FFFFFF>False</td>\\n<td bgcolor=#FFFFFF>False</td>\\n<td bgcolor=#f6e8ef>0.950</td>\\n</tr>\\n<tr>\\n<td bgcolor=#FFFFFF>False</td>\\n<td bgcolor=#FFFFFF>True</td>\\n<td bgcolor=#dfbdc1>0.050</td>\\n</tr>\\n<tr>\\n<td bgcolor=#FFFFFF>True</td>\\n<td bgcolor=#FFFFFF>False</td>\\n<td bgcolor=#c2c7d7>0.098</td>\\n</tr>\\n<tr>\\n<td bgcolor=#FFFFFF>True</td>\\n<td bgcolor=#FFFFFF>True</td>\\n<td bgcolor=#fadfed>0.902</td>\\n</tr>\\n</table>\"], \"type\": \"htmltooltip\", \"voffset\": 10, \"id\": \"el11945140492417255800pts\", \"hoffset\": 10}], \"axes\": [{\"bbox\": [0.125, 0.125, 0.775, 0.775], \"sharey\": [], \"zoomable\": true, \"collections\": [], \"markers\": [{\"coordinates\": \"data\", \"edgecolor\": \"#000000\", \"yindex\": 1, \"xindex\": 0, \"alpha\": 1.0, \"zorder\": 2, \"markerpath\": [[[0.0, 10.0], [2.652031, 10.0], [5.195798707848534, 8.946336915882418], [7.0710678118654755, 7.0710678118654755], [8.946336915882418, 5.195798707848534], [10.0, 2.652031], [10.0, 0.0], [10.0, -2.652031], [8.946336915882418, -5.195798707848534], [7.0710678118654755, -7.0710678118654755], [5.195798707848534, -8.946336915882418], [2.652031, -10.0], [0.0, -10.0], [-2.652031, -10.0], [-5.195798707848534, -8.946336915882418], [-7.0710678118654755, -7.0710678118654755], [-8.946336915882418, -5.195798707848534], [-10.0, -2.652031], [-10.0, 0.0], [-10.0, 2.652031], [-8.946336915882418, 5.195798707848534], [-7.0710678118654755, 7.0710678118654755], [-5.195798707848534, 8.946336915882418], [-2.652031, 10.0], [0.0, 10.0]], [\"M\", \"C\", \"C\", \"C\", \"C\", \"C\", \"C\", \"C\", \"C\", \"Z\"]], \"id\": \"el11945140492417345296pts\", \"edgewidth\": 1, \"facecolor\": \"#D3D3D3\", \"data\": \"data09\"}, {\"coordinates\": \"data\", \"edgecolor\": \"#000000\", \"yindex\": 1, \"xindex\": 0, \"alpha\": 0.0, \"zorder\": 2, \"markerpath\": [[[0.0, 20.0], [5.304062, 20.0], [10.391597415697069, 17.892673831764835], [14.142135623730951, 14.142135623730951], [17.892673831764835, 10.391597415697069], [20.0, 5.304062], [20.0, 0.0], [20.0, -5.304062], [17.892673831764835, -10.391597415697069], [14.142135623730951, -14.142135623730951], [10.391597415697069, -17.892673831764835], [5.304062, -20.0], [0.0, -20.0], [-5.304062, -20.0], [-10.391597415697069, -17.892673831764835], [-14.142135623730951, -14.142135623730951], [-17.892673831764835, -10.391597415697069], [-20.0, -5.304062], [-20.0, 0.0], [-20.0, 5.304062], [-17.892673831764835, 10.391597415697069], [-14.142135623730951, 14.142135623730951], [-10.391597415697069, 17.892673831764835], [-5.304062, 20.0], [0.0, 20.0]], [\"M\", \"C\", \"C\", \"C\", \"C\", \"C\", \"C\", \"C\", \"C\", \"Z\"]], \"id\": \"el11945140492417255800pts\", \"edgewidth\": 1, \"facecolor\": \"#D3D3D3\", \"data\": \"data09\"}], \"paths\": [], \"xlim\": [-1.5371311091608728, 1.0508532918074884], \"texts\": [{\"id\": \"el11945140492417256976\", \"zorder\": 3, \"h_anchor\": \"middle\", \"color\": \"#000000\", \"fontsize\": 10.0, \"coordinates\": \"data\", \"text\": \"Burglary\", \"rotation\": -0.0, \"position\": [-1.4571311091608727, -0.5043332441152496], \"v_baseline\": \"central\", \"alpha\": 1}, {\"id\": \"el11945140492417209400\", \"zorder\": 3, \"h_anchor\": \"middle\", \"color\": \"#000000\", \"fontsize\": 10.0, \"coordinates\": \"data\", \"text\": \"Earthquake\", \"rotation\": -0.0, \"position\": [0.9708532918074885, 1.0], \"v_baseline\": \"central\", \"alpha\": 1}, {\"id\": \"el11945140492417210744\", \"zorder\": 3, \"h_anchor\": \"middle\", \"color\": \"#000000\", \"fontsize\": 10.0, \"coordinates\": \"data\", \"text\": \"MaryCalls\", \"rotation\": -0.0, \"position\": [-0.3015443159506189, 0.6543326291582464], \"v_baseline\": \"central\", \"alpha\": 1}, {\"id\": \"el11945140492417212088\", \"zorder\": 3, \"h_anchor\": \"middle\", \"color\": \"#000000\", \"fontsize\": 10.0, \"coordinates\": \"data\", \"text\": \"Alarm\", \"rotation\": -0.0, \"position\": [0.18977908126395224, -0.1017254455893992], \"v_baseline\": \"central\", \"alpha\": 1}, {\"id\": \"el11945140492417406008\", \"zorder\": 3, \"h_anchor\": \"middle\", \"color\": \"#000000\", \"fontsize\": 10.0, \"coordinates\": \"data\", \"text\": \"JohnCalls\", \"rotation\": -0.0, \"position\": [0.598043052040051, -1.0482739394535985], \"v_baseline\": \"central\", \"alpha\": 1}], \"yscale\": \"linear\", \"images\": [], \"ylim\": [-1.1282739394535986, 1.08], \"axesbg\": \"#FFFFFF\", \"id\": \"el11945140492420539616\", \"axes\": [{\"tickformat\": null, \"grid\": {\"gridOn\": false}, \"tickvalues\": null, \"position\": \"bottom\", \"fontsize\": 10.0, \"nticks\": 8, \"scale\": \"linear\"}, {\"tickformat\": null, \"grid\": {\"gridOn\": false}, \"tickvalues\": null, \"position\": \"left\", \"fontsize\": 10.0, \"nticks\": 7, \"scale\": \"linear\"}], \"xscale\": \"linear\", \"ydomain\": [-1.1282739394535986, 1.08], \"axesbgalpha\": null, \"sharex\": [], \"lines\": [{\"coordinates\": \"data\", \"linewidth\": 1.0, \"yindex\": 1, \"xindex\": 0, \"zorder\": 2, \"dasharray\": \"10,0\", \"color\": \"#808080\", \"id\": \"el11945140492417345408\", \"alpha\": 1, \"data\": \"data01\"}, {\"coordinates\": \"data\", \"linewidth\": 5, \"yindex\": 1, \"xindex\": 0, \"zorder\": 2, \"dasharray\": \"10,0\", \"color\": \"#000000\", \"id\": \"el11945140492417346248\", \"alpha\": 0.5, \"data\": \"data02\"}, {\"coordinates\": \"data\", \"linewidth\": 1.0, \"yindex\": 1, \"xindex\": 0, \"zorder\": 2, \"dasharray\": \"10,0\", \"color\": \"#808080\", \"id\": \"el11945140492417155480\", \"alpha\": 1, \"data\": \"data03\"}, {\"coordinates\": \"data\", \"linewidth\": 5, \"yindex\": 1, \"xindex\": 0, \"zorder\": 2, \"dasharray\": \"10,0\", \"color\": \"#000000\", \"id\": \"el11945140492417157776\", \"alpha\": 0.5, \"data\": \"data04\"}, {\"coordinates\": \"data\", \"linewidth\": 1.0, \"yindex\": 1, \"xindex\": 0, \"zorder\": 2, \"dasharray\": \"10,0\", \"color\": \"#808080\", \"id\": \"el11945140492417356408\", \"alpha\": 1, \"data\": \"data05\"}, {\"coordinates\": \"data\", \"linewidth\": 5, \"yindex\": 1, \"xindex\": 0, \"zorder\": 2, \"dasharray\": \"10,0\", \"color\": \"#000000\", \"id\": \"el11945140492417358368\", \"alpha\": 0.5, \"data\": \"data06\"}, {\"coordinates\": \"data\", \"linewidth\": 1.0, \"yindex\": 1, \"xindex\": 0, \"zorder\": 2, \"dasharray\": \"10,0\", \"color\": \"#808080\", \"id\": \"el11945140492417303048\", \"alpha\": 1, \"data\": \"data07\"}, {\"coordinates\": \"data\", \"linewidth\": 5, \"yindex\": 1, \"xindex\": 0, \"zorder\": 2, \"dasharray\": \"10,0\", \"color\": \"#000000\", \"id\": \"el11945140492417305008\", \"alpha\": 0.5, \"data\": \"data08\"}], \"xdomain\": [-1.5371311091608728, 1.0508532918074884]}], \"id\": \"el11945140492416969528\", \"width\": 960.0, \"data\": {\"data09\": [[-1.4571311091608727, -0.5043332441152496], [0.9708532918074885, 1.0], [-0.3015443159506189, 0.6543326291582464], [0.18977908126395224, -0.1017254455893992], [0.598043052040051, -1.0482739394535985]], \"data07\": [[0.18977908126395224, -0.1017254455893992], [0.598043052040051, -1.0482739394535985]], \"data04\": [[0.3069402128454827, 0.06353337124901068], [0.18977908126395224, -0.1017254455893992]], \"data05\": [[0.18977908126395224, -0.1017254455893992], [-0.3015443159506189, 0.6543326291582464]], \"data08\": [[0.5368034564236362, -0.9062916653739685], [0.598043052040051, -1.0482739394535985]], \"data01\": [[-1.4571311091608727, -0.5043332441152496], [0.18977908126395224, -0.1017254455893992]], \"data03\": [[0.9708532918074885, 1.0], [0.18977908126395224, -0.1017254455893992]], \"data02\": [[-0.057257447299771475, -0.16211661536827676], [0.18977908126395224, -0.1017254455893992]], \"data06\": [[-0.22784580636843327, 0.5409239179460996], [-0.3015443159506189, 0.6543326291582464]]}});\n",
       "      });\n",
       "    });\n",
       "}else{\n",
       "    // require.js not available: dynamically load d3 & mpld3\n",
       "    mpld3_load_lib(\"https://mpld3.github.io/js/d3.v3.min.js\", function(){\n",
       "         mpld3_load_lib(\"https://mpld3.github.io/js/mpld3.v0.2.js\", function(){\n",
       "                 \n",
       "    mpld3.register_plugin(\"htmltooltip\", HtmlTooltipPlugin);\n",
       "    HtmlTooltipPlugin.prototype = Object.create(mpld3.Plugin.prototype);\n",
       "    HtmlTooltipPlugin.prototype.constructor = HtmlTooltipPlugin;\n",
       "    HtmlTooltipPlugin.prototype.requiredProps = [\"id\"];\n",
       "    HtmlTooltipPlugin.prototype.defaultProps = {labels:null, hoffset:0, voffset:10};\n",
       "    function HtmlTooltipPlugin(fig, props){\n",
       "        mpld3.Plugin.call(this, fig, props);\n",
       "    };\n",
       "\n",
       "    HtmlTooltipPlugin.prototype.draw = function(){\n",
       "       var obj = mpld3.get_element(this.props.id);\n",
       "       var labels = this.props.labels;\n",
       "       var tooltip = d3.select(\"body\").append(\"div\")\n",
       "                    .attr(\"class\", \"mpld3-tooltip\")\n",
       "                    .style(\"position\", \"absolute\")\n",
       "                    .style(\"z-index\", \"10\")\n",
       "                    .style(\"visibility\", \"hidden\");\n",
       "\n",
       "       obj.elements()\n",
       "           .on(\"mouseover\", function(d, i){\n",
       "                              tooltip.html(labels[i])\n",
       "                                     .style(\"visibility\", \"visible\");})\n",
       "           .on(\"mousemove\", function(d, i){\n",
       "                    tooltip\n",
       "                      .style(\"top\", d3.event.pageY + this.props.voffset + \"px\")\n",
       "                      .style(\"left\",d3.event.pageX + this.props.hoffset + \"px\");\n",
       "                 }.bind(this))\n",
       "           .on(\"mouseout\",  function(d, i){\n",
       "                           tooltip.style(\"visibility\", \"hidden\");});\n",
       "    };\n",
       "    \n",
       "                 mpld3.draw_figure(\"fig_el119451404924169695282866502920\", {\"height\": 640.0, \"plugins\": [{\"type\": \"reset\"}, {\"enabled\": false, \"type\": \"zoom\", \"button\": true}, {\"enabled\": false, \"type\": \"boxzoom\", \"button\": true}, {\"labels\": [\"<table border=\\\"1\\\" cellpadding=\\\"4\\\" cellspacing=\\\"0\\\" bordercolor=\\\"#000000\\\">\\n<tr bgcolor=\\\"#AAAAAA\\\">\\n<th align=\\\"center\\\">Burglary</th>\\n<th align=\\\"center\\\">Prob.</th>\\n</tr>\\n<tr>\\n<td bgcolor=#FFFFFF>False</td>\\n<td bgcolor=#f2f0f1>0.990</td>\\n</tr>\\n<tr>\\n<td bgcolor=#FFFFFF>True</td>\\n<td bgcolor=#f6b5b1>0.010</td>\\n</tr>\\n</table>\", \"<table border=\\\"1\\\" cellpadding=\\\"4\\\" cellspacing=\\\"0\\\" bordercolor=\\\"#000000\\\">\\n<tr bgcolor=\\\"#AAAAAA\\\">\\n<th align=\\\"center\\\">Earthquake</th>\\n<th align=\\\"center\\\">Prob.</th>\\n</tr>\\n<tr>\\n<td bgcolor=#FFFFFF>False</td>\\n<td bgcolor=#f3eef1>0.980</td>\\n</tr>\\n<tr>\\n<td bgcolor=#FFFFFF>True</td>\\n<td bgcolor=#efb7b6>0.020</td>\\n</tr>\\n</table>\", \"<table border=\\\"1\\\" cellpadding=\\\"4\\\" cellspacing=\\\"0\\\" bordercolor=\\\"#000000\\\">\\n<tr bgcolor=\\\"#AAAAAA\\\">\\n<th align=\\\"center\\\">MaryCalls</th>\\n<th align=\\\"center\\\">Alarm</th>\\n<th align=\\\"center\\\">Prob.</th>\\n</tr>\\n<tr>\\n<td bgcolor=#FFFFFF>False</td>\\n<td bgcolor=#FFFFFF>False</td>\\n<td bgcolor=#f2f0f1>0.990</td>\\n</tr>\\n<tr>\\n<td bgcolor=#FFFFFF>False</td>\\n<td bgcolor=#FFFFFF>True</td>\\n<td bgcolor=#d2dfcf>0.295</td>\\n</tr>\\n<tr>\\n<td bgcolor=#FFFFFF>True</td>\\n<td bgcolor=#FFFFFF>False</td>\\n<td bgcolor=#f6b5b1>0.010</td>\\n</tr>\\n<tr>\\n<td bgcolor=#FFFFFF>True</td>\\n<td bgcolor=#FFFFFF>True</td>\\n<td bgcolor=#eee5c2>0.705</td>\\n</tr>\\n</table>\", \"<table border=\\\"1\\\" cellpadding=\\\"4\\\" cellspacing=\\\"0\\\" bordercolor=\\\"#000000\\\">\\n<tr bgcolor=\\\"#AAAAAA\\\">\\n<th align=\\\"center\\\">Burglary</th>\\n<th align=\\\"center\\\">Earthquake</th>\\n<th align=\\\"center\\\">Alarm</th>\\n<th align=\\\"center\\\">Prob.</th>\\n</tr>\\n<tr>\\n<td bgcolor=#FFFFFF>False</td>\\n<td bgcolor=#FFFFFF>False</td>\\n<td bgcolor=#FFFFFF>False</td>\\n<td bgcolor=#f2f2f2>0.999</td>\\n</tr>\\n<tr>\\n<td bgcolor=#FFFFFF>False</td>\\n<td bgcolor=#FFFFFF>False</td>\\n<td bgcolor=#FFFFFF>True</td>\\n<td bgcolor=#fbb4ae>0.001</td>\\n</tr>\\n<tr>\\n<td bgcolor=#FFFFFF>False</td>\\n<td bgcolor=#FFFFFF>True</td>\\n<td bgcolor=#FFFFFF>False</td>\\n<td bgcolor=#ede4c1>0.709</td>\\n</tr>\\n<tr>\\n<td bgcolor=#FFFFFF>False</td>\\n<td bgcolor=#FFFFFF>True</td>\\n<td bgcolor=#FFFFFF>True</td>\\n<td bgcolor=#d1e0ce>0.291</td>\\n</tr>\\n<tr>\\n<td bgcolor=#FFFFFF>True</td>\\n<td bgcolor=#FFFFFF>False</td>\\n<td bgcolor=#FFFFFF>False</td>\\n<td bgcolor=#ddbec3>0.054</td>\\n</tr>\\n<tr>\\n<td bgcolor=#FFFFFF>True</td>\\n<td bgcolor=#FFFFFF>False</td>\\n<td bgcolor=#FFFFFF>True</td>\\n<td bgcolor=#f6e8ef>0.946</td>\\n</tr>\\n<tr>\\n<td bgcolor=#FFFFFF>True</td>\\n<td bgcolor=#FFFFFF>True</td>\\n<td bgcolor=#FFFFFF>False</td>\\n<td bgcolor=#dfbdc1>0.050</td>\\n</tr>\\n<tr>\\n<td bgcolor=#FFFFFF>True</td>\\n<td bgcolor=#FFFFFF>True</td>\\n<td bgcolor=#FFFFFF>True</td>\\n<td bgcolor=#f6e8ef>0.950</td>\\n</tr>\\n</table>\", \"<table border=\\\"1\\\" cellpadding=\\\"4\\\" cellspacing=\\\"0\\\" bordercolor=\\\"#000000\\\">\\n<tr bgcolor=\\\"#AAAAAA\\\">\\n<th align=\\\"center\\\">Alarm</th>\\n<th align=\\\"center\\\">JohnCalls</th>\\n<th align=\\\"center\\\">Prob.</th>\\n</tr>\\n<tr>\\n<td bgcolor=#FFFFFF>False</td>\\n<td bgcolor=#FFFFFF>False</td>\\n<td bgcolor=#f6e8ef>0.950</td>\\n</tr>\\n<tr>\\n<td bgcolor=#FFFFFF>False</td>\\n<td bgcolor=#FFFFFF>True</td>\\n<td bgcolor=#dfbdc1>0.050</td>\\n</tr>\\n<tr>\\n<td bgcolor=#FFFFFF>True</td>\\n<td bgcolor=#FFFFFF>False</td>\\n<td bgcolor=#c2c7d7>0.098</td>\\n</tr>\\n<tr>\\n<td bgcolor=#FFFFFF>True</td>\\n<td bgcolor=#FFFFFF>True</td>\\n<td bgcolor=#fadfed>0.902</td>\\n</tr>\\n</table>\"], \"type\": \"htmltooltip\", \"voffset\": 10, \"id\": \"el11945140492417255800pts\", \"hoffset\": 10}], \"axes\": [{\"bbox\": [0.125, 0.125, 0.775, 0.775], \"sharey\": [], \"zoomable\": true, \"collections\": [], \"markers\": [{\"coordinates\": \"data\", \"edgecolor\": \"#000000\", \"yindex\": 1, \"xindex\": 0, \"alpha\": 1.0, \"zorder\": 2, \"markerpath\": [[[0.0, 10.0], [2.652031, 10.0], [5.195798707848534, 8.946336915882418], [7.0710678118654755, 7.0710678118654755], [8.946336915882418, 5.195798707848534], [10.0, 2.652031], [10.0, 0.0], [10.0, -2.652031], [8.946336915882418, -5.195798707848534], [7.0710678118654755, -7.0710678118654755], [5.195798707848534, -8.946336915882418], [2.652031, -10.0], [0.0, -10.0], [-2.652031, -10.0], [-5.195798707848534, -8.946336915882418], [-7.0710678118654755, -7.0710678118654755], [-8.946336915882418, -5.195798707848534], [-10.0, -2.652031], [-10.0, 0.0], [-10.0, 2.652031], [-8.946336915882418, 5.195798707848534], [-7.0710678118654755, 7.0710678118654755], [-5.195798707848534, 8.946336915882418], [-2.652031, 10.0], [0.0, 10.0]], [\"M\", \"C\", \"C\", \"C\", \"C\", \"C\", \"C\", \"C\", \"C\", \"Z\"]], \"id\": \"el11945140492417345296pts\", \"edgewidth\": 1, \"facecolor\": \"#D3D3D3\", \"data\": \"data09\"}, {\"coordinates\": \"data\", \"edgecolor\": \"#000000\", \"yindex\": 1, \"xindex\": 0, \"alpha\": 0.0, \"zorder\": 2, \"markerpath\": [[[0.0, 20.0], [5.304062, 20.0], [10.391597415697069, 17.892673831764835], [14.142135623730951, 14.142135623730951], [17.892673831764835, 10.391597415697069], [20.0, 5.304062], [20.0, 0.0], [20.0, -5.304062], [17.892673831764835, -10.391597415697069], [14.142135623730951, -14.142135623730951], [10.391597415697069, -17.892673831764835], [5.304062, -20.0], [0.0, -20.0], [-5.304062, -20.0], [-10.391597415697069, -17.892673831764835], [-14.142135623730951, -14.142135623730951], [-17.892673831764835, -10.391597415697069], [-20.0, -5.304062], [-20.0, 0.0], [-20.0, 5.304062], [-17.892673831764835, 10.391597415697069], [-14.142135623730951, 14.142135623730951], [-10.391597415697069, 17.892673831764835], [-5.304062, 20.0], [0.0, 20.0]], [\"M\", \"C\", \"C\", \"C\", \"C\", \"C\", \"C\", \"C\", \"C\", \"Z\"]], \"id\": \"el11945140492417255800pts\", \"edgewidth\": 1, \"facecolor\": \"#D3D3D3\", \"data\": \"data09\"}], \"paths\": [], \"xlim\": [-1.5371311091608728, 1.0508532918074884], \"texts\": [{\"id\": \"el11945140492417256976\", \"zorder\": 3, \"h_anchor\": \"middle\", \"color\": \"#000000\", \"fontsize\": 10.0, \"coordinates\": \"data\", \"text\": \"Burglary\", \"rotation\": -0.0, \"position\": [-1.4571311091608727, -0.5043332441152496], \"v_baseline\": \"central\", \"alpha\": 1}, {\"id\": \"el11945140492417209400\", \"zorder\": 3, \"h_anchor\": \"middle\", \"color\": \"#000000\", \"fontsize\": 10.0, \"coordinates\": \"data\", \"text\": \"Earthquake\", \"rotation\": -0.0, \"position\": [0.9708532918074885, 1.0], \"v_baseline\": \"central\", \"alpha\": 1}, {\"id\": \"el11945140492417210744\", \"zorder\": 3, \"h_anchor\": \"middle\", \"color\": \"#000000\", \"fontsize\": 10.0, \"coordinates\": \"data\", \"text\": \"MaryCalls\", \"rotation\": -0.0, \"position\": [-0.3015443159506189, 0.6543326291582464], \"v_baseline\": \"central\", \"alpha\": 1}, {\"id\": \"el11945140492417212088\", \"zorder\": 3, \"h_anchor\": \"middle\", \"color\": \"#000000\", \"fontsize\": 10.0, \"coordinates\": \"data\", \"text\": \"Alarm\", \"rotation\": -0.0, \"position\": [0.18977908126395224, -0.1017254455893992], \"v_baseline\": \"central\", \"alpha\": 1}, {\"id\": \"el11945140492417406008\", \"zorder\": 3, \"h_anchor\": \"middle\", \"color\": \"#000000\", \"fontsize\": 10.0, \"coordinates\": \"data\", \"text\": \"JohnCalls\", \"rotation\": -0.0, \"position\": [0.598043052040051, -1.0482739394535985], \"v_baseline\": \"central\", \"alpha\": 1}], \"yscale\": \"linear\", \"images\": [], \"ylim\": [-1.1282739394535986, 1.08], \"axesbg\": \"#FFFFFF\", \"id\": \"el11945140492420539616\", \"axes\": [{\"tickformat\": null, \"grid\": {\"gridOn\": false}, \"tickvalues\": null, \"position\": \"bottom\", \"fontsize\": 10.0, \"nticks\": 8, \"scale\": \"linear\"}, {\"tickformat\": null, \"grid\": {\"gridOn\": false}, \"tickvalues\": null, \"position\": \"left\", \"fontsize\": 10.0, \"nticks\": 7, \"scale\": \"linear\"}], \"xscale\": \"linear\", \"ydomain\": [-1.1282739394535986, 1.08], \"axesbgalpha\": null, \"sharex\": [], \"lines\": [{\"coordinates\": \"data\", \"linewidth\": 1.0, \"yindex\": 1, \"xindex\": 0, \"zorder\": 2, \"dasharray\": \"10,0\", \"color\": \"#808080\", \"id\": \"el11945140492417345408\", \"alpha\": 1, \"data\": \"data01\"}, {\"coordinates\": \"data\", \"linewidth\": 5, \"yindex\": 1, \"xindex\": 0, \"zorder\": 2, \"dasharray\": \"10,0\", \"color\": \"#000000\", \"id\": \"el11945140492417346248\", \"alpha\": 0.5, \"data\": \"data02\"}, {\"coordinates\": \"data\", \"linewidth\": 1.0, \"yindex\": 1, \"xindex\": 0, \"zorder\": 2, \"dasharray\": \"10,0\", \"color\": \"#808080\", \"id\": \"el11945140492417155480\", \"alpha\": 1, \"data\": \"data03\"}, {\"coordinates\": \"data\", \"linewidth\": 5, \"yindex\": 1, \"xindex\": 0, \"zorder\": 2, \"dasharray\": \"10,0\", \"color\": \"#000000\", \"id\": \"el11945140492417157776\", \"alpha\": 0.5, \"data\": \"data04\"}, {\"coordinates\": \"data\", \"linewidth\": 1.0, \"yindex\": 1, \"xindex\": 0, \"zorder\": 2, \"dasharray\": \"10,0\", \"color\": \"#808080\", \"id\": \"el11945140492417356408\", \"alpha\": 1, \"data\": \"data05\"}, {\"coordinates\": \"data\", \"linewidth\": 5, \"yindex\": 1, \"xindex\": 0, \"zorder\": 2, \"dasharray\": \"10,0\", \"color\": \"#000000\", \"id\": \"el11945140492417358368\", \"alpha\": 0.5, \"data\": \"data06\"}, {\"coordinates\": \"data\", \"linewidth\": 1.0, \"yindex\": 1, \"xindex\": 0, \"zorder\": 2, \"dasharray\": \"10,0\", \"color\": \"#808080\", \"id\": \"el11945140492417303048\", \"alpha\": 1, \"data\": \"data07\"}, {\"coordinates\": \"data\", \"linewidth\": 5, \"yindex\": 1, \"xindex\": 0, \"zorder\": 2, \"dasharray\": \"10,0\", \"color\": \"#000000\", \"id\": \"el11945140492417305008\", \"alpha\": 0.5, \"data\": \"data08\"}], \"xdomain\": [-1.5371311091608728, 1.0508532918074884]}], \"id\": \"el11945140492416969528\", \"width\": 960.0, \"data\": {\"data09\": [[-1.4571311091608727, -0.5043332441152496], [0.9708532918074885, 1.0], [-0.3015443159506189, 0.6543326291582464], [0.18977908126395224, -0.1017254455893992], [0.598043052040051, -1.0482739394535985]], \"data07\": [[0.18977908126395224, -0.1017254455893992], [0.598043052040051, -1.0482739394535985]], \"data04\": [[0.3069402128454827, 0.06353337124901068], [0.18977908126395224, -0.1017254455893992]], \"data05\": [[0.18977908126395224, -0.1017254455893992], [-0.3015443159506189, 0.6543326291582464]], \"data08\": [[0.5368034564236362, -0.9062916653739685], [0.598043052040051, -1.0482739394535985]], \"data01\": [[-1.4571311091608727, -0.5043332441152496], [0.18977908126395224, -0.1017254455893992]], \"data03\": [[0.9708532918074885, 1.0], [0.18977908126395224, -0.1017254455893992]], \"data02\": [[-0.057257447299771475, -0.16211661536827676], [0.18977908126395224, -0.1017254455893992]], \"data06\": [[-0.22784580636843327, 0.5409239179460996], [-0.3015443159506189, 0.6543326291582464]]}});\n",
       "            })\n",
       "         });\n",
       "}\n",
       "</script>"
      ],
      "text/plain": [
       "<IPython.core.display.HTML object>"
      ]
     },
     "execution_count": 33,
     "metadata": {},
     "output_type": "execute_result"
    }
   ],
   "source": [
    "# fitting\n",
    "dgm1.fit(data)\n",
    "dgm1.draw()"
   ]
  },
  {
   "cell_type": "markdown",
   "metadata": {},
   "source": [
    "Distributions in this DGM must be close to the real distributions (those in `dgm`)."
   ]
  },
  {
   "cell_type": "code",
   "execution_count": 34,
   "metadata": {
    "collapsed": false
   },
   "outputs": [
    {
     "data": {
      "text/html": [
       "\n",
       "\n",
       "<style>\n",
       "\n",
       "table\n",
       "{\n",
       "  border-collapse: collapse;\n",
       "}\n",
       "th\n",
       "{\n",
       "  color: #ffffff;\n",
       "  background-color: #000000;\n",
       "}\n",
       "td\n",
       "{\n",
       "  background-color: #cccccc;\n",
       "}\n",
       "table, th, td\n",
       "{\n",
       "  font-family:Arial, Helvetica, sans-serif;\n",
       "  border: 1px solid black;\n",
       "  text-align: center;\n",
       "  padding: 3px;\n",
       "  font-size:11pt;\n",
       "}\n",
       "g.mpld3-xaxis, g.mpld3-yaxis {\n",
       "    display: none;\n",
       "}\n",
       "    \n",
       "</style>\n",
       "\n",
       "<div id=\"fig_el119451404924169688007753347191\"></div>\n",
       "<script>\n",
       "function mpld3_load_lib(url, callback){\n",
       "  var s = document.createElement('script');\n",
       "  s.src = url;\n",
       "  s.async = true;\n",
       "  s.onreadystatechange = s.onload = callback;\n",
       "  s.onerror = function(){console.warn(\"failed to load library \" + url);};\n",
       "  document.getElementsByTagName(\"head\")[0].appendChild(s);\n",
       "}\n",
       "\n",
       "if(typeof(mpld3) !== \"undefined\" && mpld3._mpld3IsLoaded){\n",
       "   // already loaded: just create the figure\n",
       "   !function(mpld3){\n",
       "       \n",
       "    mpld3.register_plugin(\"htmltooltip\", HtmlTooltipPlugin);\n",
       "    HtmlTooltipPlugin.prototype = Object.create(mpld3.Plugin.prototype);\n",
       "    HtmlTooltipPlugin.prototype.constructor = HtmlTooltipPlugin;\n",
       "    HtmlTooltipPlugin.prototype.requiredProps = [\"id\"];\n",
       "    HtmlTooltipPlugin.prototype.defaultProps = {labels:null, hoffset:0, voffset:10};\n",
       "    function HtmlTooltipPlugin(fig, props){\n",
       "        mpld3.Plugin.call(this, fig, props);\n",
       "    };\n",
       "\n",
       "    HtmlTooltipPlugin.prototype.draw = function(){\n",
       "       var obj = mpld3.get_element(this.props.id);\n",
       "       var labels = this.props.labels;\n",
       "       var tooltip = d3.select(\"body\").append(\"div\")\n",
       "                    .attr(\"class\", \"mpld3-tooltip\")\n",
       "                    .style(\"position\", \"absolute\")\n",
       "                    .style(\"z-index\", \"10\")\n",
       "                    .style(\"visibility\", \"hidden\");\n",
       "\n",
       "       obj.elements()\n",
       "           .on(\"mouseover\", function(d, i){\n",
       "                              tooltip.html(labels[i])\n",
       "                                     .style(\"visibility\", \"visible\");})\n",
       "           .on(\"mousemove\", function(d, i){\n",
       "                    tooltip\n",
       "                      .style(\"top\", d3.event.pageY + this.props.voffset + \"px\")\n",
       "                      .style(\"left\",d3.event.pageX + this.props.hoffset + \"px\");\n",
       "                 }.bind(this))\n",
       "           .on(\"mouseout\",  function(d, i){\n",
       "                           tooltip.style(\"visibility\", \"hidden\");});\n",
       "    };\n",
       "    \n",
       "       mpld3.draw_figure(\"fig_el119451404924169688007753347191\", {\"height\": 640.0, \"plugins\": [{\"type\": \"reset\"}, {\"enabled\": false, \"type\": \"zoom\", \"button\": true}, {\"enabled\": false, \"type\": \"boxzoom\", \"button\": true}, {\"labels\": [\"<table border=\\\"1\\\" cellpadding=\\\"4\\\" cellspacing=\\\"0\\\" bordercolor=\\\"#000000\\\">\\n<tr bgcolor=\\\"#AAAAAA\\\">\\n<th align=\\\"center\\\">Burglary</th>\\n<th align=\\\"center\\\">Prob.</th>\\n</tr>\\n<tr>\\n<td bgcolor=#FFFFFF>True</td>\\n<td bgcolor=#f6b5b1>0.010</td>\\n</tr>\\n<tr>\\n<td bgcolor=#FFFFFF>False</td>\\n<td bgcolor=#f2f0f1>0.990</td>\\n</tr>\\n</table>\", \"<table border=\\\"1\\\" cellpadding=\\\"4\\\" cellspacing=\\\"0\\\" bordercolor=\\\"#000000\\\">\\n<tr bgcolor=\\\"#AAAAAA\\\">\\n<th align=\\\"center\\\">Earthquake</th>\\n<th align=\\\"center\\\">Prob.</th>\\n</tr>\\n<tr>\\n<td bgcolor=#FFFFFF>True</td>\\n<td bgcolor=#efb7b6>0.020</td>\\n</tr>\\n<tr>\\n<td bgcolor=#FFFFFF>False</td>\\n<td bgcolor=#f3eef1>0.980</td>\\n</tr>\\n</table>\", \"<table border=\\\"1\\\" cellpadding=\\\"4\\\" cellspacing=\\\"0\\\" bordercolor=\\\"#000000\\\">\\n<tr bgcolor=\\\"#AAAAAA\\\">\\n<th align=\\\"center\\\">Alarm</th>\\n<th align=\\\"center\\\">MaryCalls</th>\\n<th align=\\\"center\\\">Prob.</th>\\n</tr>\\n<tr>\\n<td bgcolor=#FFFFFF>True</td>\\n<td bgcolor=#FFFFFF>True</td>\\n<td bgcolor=#eee6c2>0.700</td>\\n</tr>\\n<tr>\\n<td bgcolor=#FFFFFF>True</td>\\n<td bgcolor=#FFFFFF>False</td>\\n<td bgcolor=#d2ded0>0.300</td>\\n</tr>\\n<tr>\\n<td bgcolor=#FFFFFF>False</td>\\n<td bgcolor=#FFFFFF>True</td>\\n<td bgcolor=#f6b5b1>0.010</td>\\n</tr>\\n<tr>\\n<td bgcolor=#FFFFFF>False</td>\\n<td bgcolor=#FFFFFF>False</td>\\n<td bgcolor=#f2f0f1>0.990</td>\\n</tr>\\n</table>\", \"<table border=\\\"1\\\" cellpadding=\\\"4\\\" cellspacing=\\\"0\\\" bordercolor=\\\"#000000\\\">\\n<tr bgcolor=\\\"#AAAAAA\\\">\\n<th align=\\\"center\\\">Burglary</th>\\n<th align=\\\"center\\\">Earthquake</th>\\n<th align=\\\"center\\\">Alarm</th>\\n<th align=\\\"center\\\">Prob.</th>\\n</tr>\\n<tr>\\n<td bgcolor=#FFFFFF>True</td>\\n<td bgcolor=#FFFFFF>True</td>\\n<td bgcolor=#FFFFFF>True</td>\\n<td bgcolor=#f6e8ef>0.950</td>\\n</tr>\\n<tr>\\n<td bgcolor=#FFFFFF>True</td>\\n<td bgcolor=#FFFFFF>True</td>\\n<td bgcolor=#FFFFFF>False</td>\\n<td bgcolor=#dfbdc1>0.050</td>\\n</tr>\\n<tr>\\n<td bgcolor=#FFFFFF>True</td>\\n<td bgcolor=#FFFFFF>False</td>\\n<td bgcolor=#FFFFFF>True</td>\\n<td bgcolor=#f7e6ef>0.940</td>\\n</tr>\\n<tr>\\n<td bgcolor=#FFFFFF>True</td>\\n<td bgcolor=#FFFFFF>False</td>\\n<td bgcolor=#FFFFFF>False</td>\\n<td bgcolor=#d9bfc6>0.060</td>\\n</tr>\\n<tr>\\n<td bgcolor=#FFFFFF>False</td>\\n<td bgcolor=#FFFFFF>True</td>\\n<td bgcolor=#FFFFFF>True</td>\\n<td bgcolor=#d1e0ce>0.290</td>\\n</tr>\\n<tr>\\n<td bgcolor=#FFFFFF>False</td>\\n<td bgcolor=#FFFFFF>True</td>\\n<td bgcolor=#FFFFFF>False</td>\\n<td bgcolor=#ede4c1>0.710</td>\\n</tr>\\n<tr>\\n<td bgcolor=#FFFFFF>False</td>\\n<td bgcolor=#FFFFFF>False</td>\\n<td bgcolor=#FFFFFF>True</td>\\n<td bgcolor=#fbb4ae>0.001</td>\\n</tr>\\n<tr>\\n<td bgcolor=#FFFFFF>False</td>\\n<td bgcolor=#FFFFFF>False</td>\\n<td bgcolor=#FFFFFF>False</td>\\n<td bgcolor=#f2f2f2>0.999</td>\\n</tr>\\n</table>\", \"<table border=\\\"1\\\" cellpadding=\\\"4\\\" cellspacing=\\\"0\\\" bordercolor=\\\"#000000\\\">\\n<tr bgcolor=\\\"#AAAAAA\\\">\\n<th align=\\\"center\\\">Alarm</th>\\n<th align=\\\"center\\\">JohnCalls</th>\\n<th align=\\\"center\\\">Prob.</th>\\n</tr>\\n<tr>\\n<td bgcolor=#FFFFFF>True</td>\\n<td bgcolor=#FFFFFF>True</td>\\n<td bgcolor=#fadfed>0.900</td>\\n</tr>\\n<tr>\\n<td bgcolor=#FFFFFF>True</td>\\n<td bgcolor=#FFFFFF>False</td>\\n<td bgcolor=#c2c7d7>0.100</td>\\n</tr>\\n<tr>\\n<td bgcolor=#FFFFFF>False</td>\\n<td bgcolor=#FFFFFF>True</td>\\n<td bgcolor=#dfbdc1>0.050</td>\\n</tr>\\n<tr>\\n<td bgcolor=#FFFFFF>False</td>\\n<td bgcolor=#FFFFFF>False</td>\\n<td bgcolor=#f6e8ef>0.950</td>\\n</tr>\\n</table>\"], \"type\": \"htmltooltip\", \"voffset\": 10, \"id\": \"el11945140492420175744pts\", \"hoffset\": 10}], \"axes\": [{\"bbox\": [0.125, 0.125, 0.775, 0.775], \"sharey\": [], \"zoomable\": true, \"collections\": [], \"markers\": [{\"coordinates\": \"data\", \"edgecolor\": \"#000000\", \"yindex\": 1, \"xindex\": 0, \"alpha\": 1.0, \"zorder\": 2, \"markerpath\": [[[0.0, 10.0], [2.652031, 10.0], [5.195798707848534, 8.946336915882418], [7.0710678118654755, 7.0710678118654755], [8.946336915882418, 5.195798707848534], [10.0, 2.652031], [10.0, 0.0], [10.0, -2.652031], [8.946336915882418, -5.195798707848534], [7.0710678118654755, -7.0710678118654755], [5.195798707848534, -8.946336915882418], [2.652031, -10.0], [0.0, -10.0], [-2.652031, -10.0], [-5.195798707848534, -8.946336915882418], [-7.0710678118654755, -7.0710678118654755], [-8.946336915882418, -5.195798707848534], [-10.0, -2.652031], [-10.0, 0.0], [-10.0, 2.652031], [-8.946336915882418, 5.195798707848534], [-7.0710678118654755, 7.0710678118654755], [-5.195798707848534, 8.946336915882418], [-2.652031, 10.0], [0.0, 10.0]], [\"M\", \"C\", \"C\", \"C\", \"C\", \"C\", \"C\", \"C\", \"C\", \"Z\"]], \"id\": \"el11945140492386829648pts\", \"edgewidth\": 1, \"facecolor\": \"#D3D3D3\", \"data\": \"data09\"}, {\"coordinates\": \"data\", \"edgecolor\": \"#000000\", \"yindex\": 1, \"xindex\": 0, \"alpha\": 0.0, \"zorder\": 2, \"markerpath\": [[[0.0, 20.0], [5.304062, 20.0], [10.391597415697069, 17.892673831764835], [14.142135623730951, 14.142135623730951], [17.892673831764835, 10.391597415697069], [20.0, 5.304062], [20.0, 0.0], [20.0, -5.304062], [17.892673831764835, -10.391597415697069], [14.142135623730951, -14.142135623730951], [10.391597415697069, -17.892673831764835], [5.304062, -20.0], [0.0, -20.0], [-5.304062, -20.0], [-10.391597415697069, -17.892673831764835], [-14.142135623730951, -14.142135623730951], [-17.892673831764835, -10.391597415697069], [-20.0, -5.304062], [-20.0, 0.0], [-20.0, 5.304062], [-17.892673831764835, 10.391597415697069], [-14.142135623730951, 14.142135623730951], [-10.391597415697069, 17.892673831764835], [-5.304062, 20.0], [0.0, 20.0]], [\"M\", \"C\", \"C\", \"C\", \"C\", \"C\", \"C\", \"C\", \"C\", \"Z\"]], \"id\": \"el11945140492420175744pts\", \"edgewidth\": 1, \"facecolor\": \"#D3D3D3\", \"data\": \"data09\"}], \"paths\": [], \"xlim\": [-1.4473077825581244, 1.08], \"texts\": [{\"id\": \"el11945140492420176920\", \"zorder\": 3, \"h_anchor\": \"middle\", \"color\": \"#000000\", \"fontsize\": 10.0, \"coordinates\": \"data\", \"text\": \"Burglary\", \"rotation\": -0.0, \"position\": [1.0, -0.9934281525218273], \"v_baseline\": \"central\", \"alpha\": 1}, {\"id\": \"el11945140492420194880\", \"zorder\": 3, \"h_anchor\": \"middle\", \"color\": \"#000000\", \"fontsize\": 10.0, \"coordinates\": \"data\", \"text\": \"Earthquake\", \"rotation\": -0.0, \"position\": [-1.3673077825581244, -0.10278453887786115], \"v_baseline\": \"central\", \"alpha\": 1}, {\"id\": \"el11945140492420196224\", \"zorder\": 3, \"h_anchor\": \"middle\", \"color\": \"#000000\", \"fontsize\": 10.0, \"coordinates\": \"data\", \"text\": \"MaryCalls\", \"rotation\": -0.0, \"position\": [0.7634349371993553, 0.6275617541619603], \"v_baseline\": \"central\", \"alpha\": 1}, {\"id\": \"el11945140492420197568\", \"zorder\": 3, \"h_anchor\": \"middle\", \"color\": \"#000000\", \"fontsize\": 10.0, \"coordinates\": \"data\", \"text\": \"Alarm\", \"rotation\": -0.0, \"position\": [0.014486999408393875, -0.17782717429295794], \"v_baseline\": \"central\", \"alpha\": 1}, {\"id\": \"el11945140492420215360\", \"zorder\": 3, \"h_anchor\": \"middle\", \"color\": \"#000000\", \"fontsize\": 10.0, \"coordinates\": \"data\", \"text\": \"JohnCalls\", \"rotation\": -0.0, \"position\": [-0.41061415404962504, 0.6464781115306859], \"v_baseline\": \"central\", \"alpha\": 1}], \"yscale\": \"linear\", \"images\": [], \"ylim\": [-1.0734281525218272, 0.7264781115306859], \"axesbg\": \"#FFFFFF\", \"id\": \"el11945140492413700360\", \"axes\": [{\"tickformat\": null, \"grid\": {\"gridOn\": false}, \"tickvalues\": null, \"position\": \"bottom\", \"fontsize\": 10.0, \"nticks\": 7, \"scale\": \"linear\"}, {\"tickformat\": null, \"grid\": {\"gridOn\": false}, \"tickvalues\": null, \"position\": \"left\", \"fontsize\": 10.0, \"nticks\": 6, \"scale\": \"linear\"}], \"xscale\": \"linear\", \"ydomain\": [-1.0734281525218272, 0.7264781115306859], \"axesbgalpha\": null, \"sharex\": [], \"lines\": [{\"coordinates\": \"data\", \"linewidth\": 1.0, \"yindex\": 1, \"xindex\": 0, \"zorder\": 2, \"dasharray\": \"10,0\", \"color\": \"#808080\", \"id\": \"el11945140492386829760\", \"alpha\": 1, \"data\": \"data01\"}, {\"coordinates\": \"data\", \"linewidth\": 5, \"yindex\": 1, \"xindex\": 0, \"zorder\": 2, \"dasharray\": \"10,0\", \"color\": \"#000000\", \"id\": \"el11945140492386830600\", \"alpha\": 0.5, \"data\": \"data02\"}, {\"coordinates\": \"data\", \"linewidth\": 1.0, \"yindex\": 1, \"xindex\": 0, \"zorder\": 2, \"dasharray\": \"10,0\", \"color\": \"#808080\", \"id\": \"el11945140492386853664\", \"alpha\": 1, \"data\": \"data03\"}, {\"coordinates\": \"data\", \"linewidth\": 5, \"yindex\": 1, \"xindex\": 0, \"zorder\": 2, \"dasharray\": \"10,0\", \"color\": \"#000000\", \"id\": \"el11945140492386855064\", \"alpha\": 0.5, \"data\": \"data04\"}, {\"coordinates\": \"data\", \"linewidth\": 1.0, \"yindex\": 1, \"xindex\": 0, \"zorder\": 2, \"dasharray\": \"10,0\", \"color\": \"#808080\", \"id\": \"el11945140492386877568\", \"alpha\": 1, \"data\": \"data05\"}, {\"coordinates\": \"data\", \"linewidth\": 5, \"yindex\": 1, \"xindex\": 0, \"zorder\": 2, \"dasharray\": \"10,0\", \"color\": \"#000000\", \"id\": \"el11945140492386879528\", \"alpha\": 0.5, \"data\": \"data06\"}, {\"coordinates\": \"data\", \"linewidth\": 1.0, \"yindex\": 1, \"xindex\": 0, \"zorder\": 2, \"dasharray\": \"10,0\", \"color\": \"#808080\", \"id\": \"el11945140492386881488\", \"alpha\": 1, \"data\": \"data07\"}, {\"coordinates\": \"data\", \"linewidth\": 5, \"yindex\": 1, \"xindex\": 0, \"zorder\": 2, \"dasharray\": \"10,0\", \"color\": \"#000000\", \"id\": \"el11945140492420147128\", \"alpha\": 0.5, \"data\": \"data08\"}], \"xdomain\": [-1.4473077825581244, 1.08]}], \"id\": \"el11945140492416968800\", \"width\": 960.0, \"data\": {\"data09\": [[1.0, -0.9934281525218273], [-1.3673077825581244, -0.10278453887786115], [0.7634349371993553, 0.6275617541619603], [0.014486999408393875, -0.17782717429295794], [-0.41061415404962504, 0.6464781115306859]], \"data07\": [[0.014486999408393875, -0.17782717429295794], [-0.41061415404962504, 0.6464781115306859]], \"data04\": [[-0.19278221788658384, -0.16657077898069342], [0.014486999408393875, -0.17782717429295794]], \"data05\": [[0.014486999408393875, -0.17782717429295794], [0.7634349371993553, 0.6275617541619603]], \"data08\": [[-0.3468489810309222, 0.5228323186571393], [-0.41061415404962504, 0.6464781115306859]], \"data01\": [[1.0, -0.9934281525218273], [0.014486999408393875, -0.17782717429295794]], \"data03\": [[-1.3673077825581244, -0.10278453887786115], [0.014486999408393875, -0.17782717429295794]], \"data02\": [[0.1623139494971348, -0.3001673210272883], [0.014486999408393875, -0.17782717429295794]], \"data06\": [[0.651092746530711, 0.5067534148937225], [0.7634349371993553, 0.6275617541619603]]}});\n",
       "   }(mpld3);\n",
       "}else if(typeof define === \"function\" && define.amd){\n",
       "   // require.js is available: use it to load d3/mpld3\n",
       "   require.config({paths: {d3: \"https://mpld3.github.io/js/d3.v3.min\"}});\n",
       "   require([\"d3\"], function(d3){\n",
       "      window.d3 = d3;\n",
       "      mpld3_load_lib(\"https://mpld3.github.io/js/mpld3.v0.2.js\", function(){\n",
       "         \n",
       "    mpld3.register_plugin(\"htmltooltip\", HtmlTooltipPlugin);\n",
       "    HtmlTooltipPlugin.prototype = Object.create(mpld3.Plugin.prototype);\n",
       "    HtmlTooltipPlugin.prototype.constructor = HtmlTooltipPlugin;\n",
       "    HtmlTooltipPlugin.prototype.requiredProps = [\"id\"];\n",
       "    HtmlTooltipPlugin.prototype.defaultProps = {labels:null, hoffset:0, voffset:10};\n",
       "    function HtmlTooltipPlugin(fig, props){\n",
       "        mpld3.Plugin.call(this, fig, props);\n",
       "    };\n",
       "\n",
       "    HtmlTooltipPlugin.prototype.draw = function(){\n",
       "       var obj = mpld3.get_element(this.props.id);\n",
       "       var labels = this.props.labels;\n",
       "       var tooltip = d3.select(\"body\").append(\"div\")\n",
       "                    .attr(\"class\", \"mpld3-tooltip\")\n",
       "                    .style(\"position\", \"absolute\")\n",
       "                    .style(\"z-index\", \"10\")\n",
       "                    .style(\"visibility\", \"hidden\");\n",
       "\n",
       "       obj.elements()\n",
       "           .on(\"mouseover\", function(d, i){\n",
       "                              tooltip.html(labels[i])\n",
       "                                     .style(\"visibility\", \"visible\");})\n",
       "           .on(\"mousemove\", function(d, i){\n",
       "                    tooltip\n",
       "                      .style(\"top\", d3.event.pageY + this.props.voffset + \"px\")\n",
       "                      .style(\"left\",d3.event.pageX + this.props.hoffset + \"px\");\n",
       "                 }.bind(this))\n",
       "           .on(\"mouseout\",  function(d, i){\n",
       "                           tooltip.style(\"visibility\", \"hidden\");});\n",
       "    };\n",
       "    \n",
       "         mpld3.draw_figure(\"fig_el119451404924169688007753347191\", {\"height\": 640.0, \"plugins\": [{\"type\": \"reset\"}, {\"enabled\": false, \"type\": \"zoom\", \"button\": true}, {\"enabled\": false, \"type\": \"boxzoom\", \"button\": true}, {\"labels\": [\"<table border=\\\"1\\\" cellpadding=\\\"4\\\" cellspacing=\\\"0\\\" bordercolor=\\\"#000000\\\">\\n<tr bgcolor=\\\"#AAAAAA\\\">\\n<th align=\\\"center\\\">Burglary</th>\\n<th align=\\\"center\\\">Prob.</th>\\n</tr>\\n<tr>\\n<td bgcolor=#FFFFFF>True</td>\\n<td bgcolor=#f6b5b1>0.010</td>\\n</tr>\\n<tr>\\n<td bgcolor=#FFFFFF>False</td>\\n<td bgcolor=#f2f0f1>0.990</td>\\n</tr>\\n</table>\", \"<table border=\\\"1\\\" cellpadding=\\\"4\\\" cellspacing=\\\"0\\\" bordercolor=\\\"#000000\\\">\\n<tr bgcolor=\\\"#AAAAAA\\\">\\n<th align=\\\"center\\\">Earthquake</th>\\n<th align=\\\"center\\\">Prob.</th>\\n</tr>\\n<tr>\\n<td bgcolor=#FFFFFF>True</td>\\n<td bgcolor=#efb7b6>0.020</td>\\n</tr>\\n<tr>\\n<td bgcolor=#FFFFFF>False</td>\\n<td bgcolor=#f3eef1>0.980</td>\\n</tr>\\n</table>\", \"<table border=\\\"1\\\" cellpadding=\\\"4\\\" cellspacing=\\\"0\\\" bordercolor=\\\"#000000\\\">\\n<tr bgcolor=\\\"#AAAAAA\\\">\\n<th align=\\\"center\\\">Alarm</th>\\n<th align=\\\"center\\\">MaryCalls</th>\\n<th align=\\\"center\\\">Prob.</th>\\n</tr>\\n<tr>\\n<td bgcolor=#FFFFFF>True</td>\\n<td bgcolor=#FFFFFF>True</td>\\n<td bgcolor=#eee6c2>0.700</td>\\n</tr>\\n<tr>\\n<td bgcolor=#FFFFFF>True</td>\\n<td bgcolor=#FFFFFF>False</td>\\n<td bgcolor=#d2ded0>0.300</td>\\n</tr>\\n<tr>\\n<td bgcolor=#FFFFFF>False</td>\\n<td bgcolor=#FFFFFF>True</td>\\n<td bgcolor=#f6b5b1>0.010</td>\\n</tr>\\n<tr>\\n<td bgcolor=#FFFFFF>False</td>\\n<td bgcolor=#FFFFFF>False</td>\\n<td bgcolor=#f2f0f1>0.990</td>\\n</tr>\\n</table>\", \"<table border=\\\"1\\\" cellpadding=\\\"4\\\" cellspacing=\\\"0\\\" bordercolor=\\\"#000000\\\">\\n<tr bgcolor=\\\"#AAAAAA\\\">\\n<th align=\\\"center\\\">Burglary</th>\\n<th align=\\\"center\\\">Earthquake</th>\\n<th align=\\\"center\\\">Alarm</th>\\n<th align=\\\"center\\\">Prob.</th>\\n</tr>\\n<tr>\\n<td bgcolor=#FFFFFF>True</td>\\n<td bgcolor=#FFFFFF>True</td>\\n<td bgcolor=#FFFFFF>True</td>\\n<td bgcolor=#f6e8ef>0.950</td>\\n</tr>\\n<tr>\\n<td bgcolor=#FFFFFF>True</td>\\n<td bgcolor=#FFFFFF>True</td>\\n<td bgcolor=#FFFFFF>False</td>\\n<td bgcolor=#dfbdc1>0.050</td>\\n</tr>\\n<tr>\\n<td bgcolor=#FFFFFF>True</td>\\n<td bgcolor=#FFFFFF>False</td>\\n<td bgcolor=#FFFFFF>True</td>\\n<td bgcolor=#f7e6ef>0.940</td>\\n</tr>\\n<tr>\\n<td bgcolor=#FFFFFF>True</td>\\n<td bgcolor=#FFFFFF>False</td>\\n<td bgcolor=#FFFFFF>False</td>\\n<td bgcolor=#d9bfc6>0.060</td>\\n</tr>\\n<tr>\\n<td bgcolor=#FFFFFF>False</td>\\n<td bgcolor=#FFFFFF>True</td>\\n<td bgcolor=#FFFFFF>True</td>\\n<td bgcolor=#d1e0ce>0.290</td>\\n</tr>\\n<tr>\\n<td bgcolor=#FFFFFF>False</td>\\n<td bgcolor=#FFFFFF>True</td>\\n<td bgcolor=#FFFFFF>False</td>\\n<td bgcolor=#ede4c1>0.710</td>\\n</tr>\\n<tr>\\n<td bgcolor=#FFFFFF>False</td>\\n<td bgcolor=#FFFFFF>False</td>\\n<td bgcolor=#FFFFFF>True</td>\\n<td bgcolor=#fbb4ae>0.001</td>\\n</tr>\\n<tr>\\n<td bgcolor=#FFFFFF>False</td>\\n<td bgcolor=#FFFFFF>False</td>\\n<td bgcolor=#FFFFFF>False</td>\\n<td bgcolor=#f2f2f2>0.999</td>\\n</tr>\\n</table>\", \"<table border=\\\"1\\\" cellpadding=\\\"4\\\" cellspacing=\\\"0\\\" bordercolor=\\\"#000000\\\">\\n<tr bgcolor=\\\"#AAAAAA\\\">\\n<th align=\\\"center\\\">Alarm</th>\\n<th align=\\\"center\\\">JohnCalls</th>\\n<th align=\\\"center\\\">Prob.</th>\\n</tr>\\n<tr>\\n<td bgcolor=#FFFFFF>True</td>\\n<td bgcolor=#FFFFFF>True</td>\\n<td bgcolor=#fadfed>0.900</td>\\n</tr>\\n<tr>\\n<td bgcolor=#FFFFFF>True</td>\\n<td bgcolor=#FFFFFF>False</td>\\n<td bgcolor=#c2c7d7>0.100</td>\\n</tr>\\n<tr>\\n<td bgcolor=#FFFFFF>False</td>\\n<td bgcolor=#FFFFFF>True</td>\\n<td bgcolor=#dfbdc1>0.050</td>\\n</tr>\\n<tr>\\n<td bgcolor=#FFFFFF>False</td>\\n<td bgcolor=#FFFFFF>False</td>\\n<td bgcolor=#f6e8ef>0.950</td>\\n</tr>\\n</table>\"], \"type\": \"htmltooltip\", \"voffset\": 10, \"id\": \"el11945140492420175744pts\", \"hoffset\": 10}], \"axes\": [{\"bbox\": [0.125, 0.125, 0.775, 0.775], \"sharey\": [], \"zoomable\": true, \"collections\": [], \"markers\": [{\"coordinates\": \"data\", \"edgecolor\": \"#000000\", \"yindex\": 1, \"xindex\": 0, \"alpha\": 1.0, \"zorder\": 2, \"markerpath\": [[[0.0, 10.0], [2.652031, 10.0], [5.195798707848534, 8.946336915882418], [7.0710678118654755, 7.0710678118654755], [8.946336915882418, 5.195798707848534], [10.0, 2.652031], [10.0, 0.0], [10.0, -2.652031], [8.946336915882418, -5.195798707848534], [7.0710678118654755, -7.0710678118654755], [5.195798707848534, -8.946336915882418], [2.652031, -10.0], [0.0, -10.0], [-2.652031, -10.0], [-5.195798707848534, -8.946336915882418], [-7.0710678118654755, -7.0710678118654755], [-8.946336915882418, -5.195798707848534], [-10.0, -2.652031], [-10.0, 0.0], [-10.0, 2.652031], [-8.946336915882418, 5.195798707848534], [-7.0710678118654755, 7.0710678118654755], [-5.195798707848534, 8.946336915882418], [-2.652031, 10.0], [0.0, 10.0]], [\"M\", \"C\", \"C\", \"C\", \"C\", \"C\", \"C\", \"C\", \"C\", \"Z\"]], \"id\": \"el11945140492386829648pts\", \"edgewidth\": 1, \"facecolor\": \"#D3D3D3\", \"data\": \"data09\"}, {\"coordinates\": \"data\", \"edgecolor\": \"#000000\", \"yindex\": 1, \"xindex\": 0, \"alpha\": 0.0, \"zorder\": 2, \"markerpath\": [[[0.0, 20.0], [5.304062, 20.0], [10.391597415697069, 17.892673831764835], [14.142135623730951, 14.142135623730951], [17.892673831764835, 10.391597415697069], [20.0, 5.304062], [20.0, 0.0], [20.0, -5.304062], [17.892673831764835, -10.391597415697069], [14.142135623730951, -14.142135623730951], [10.391597415697069, -17.892673831764835], [5.304062, -20.0], [0.0, -20.0], [-5.304062, -20.0], [-10.391597415697069, -17.892673831764835], [-14.142135623730951, -14.142135623730951], [-17.892673831764835, -10.391597415697069], [-20.0, -5.304062], [-20.0, 0.0], [-20.0, 5.304062], [-17.892673831764835, 10.391597415697069], [-14.142135623730951, 14.142135623730951], [-10.391597415697069, 17.892673831764835], [-5.304062, 20.0], [0.0, 20.0]], [\"M\", \"C\", \"C\", \"C\", \"C\", \"C\", \"C\", \"C\", \"C\", \"Z\"]], \"id\": \"el11945140492420175744pts\", \"edgewidth\": 1, \"facecolor\": \"#D3D3D3\", \"data\": \"data09\"}], \"paths\": [], \"xlim\": [-1.4473077825581244, 1.08], \"texts\": [{\"id\": \"el11945140492420176920\", \"zorder\": 3, \"h_anchor\": \"middle\", \"color\": \"#000000\", \"fontsize\": 10.0, \"coordinates\": \"data\", \"text\": \"Burglary\", \"rotation\": -0.0, \"position\": [1.0, -0.9934281525218273], \"v_baseline\": \"central\", \"alpha\": 1}, {\"id\": \"el11945140492420194880\", \"zorder\": 3, \"h_anchor\": \"middle\", \"color\": \"#000000\", \"fontsize\": 10.0, \"coordinates\": \"data\", \"text\": \"Earthquake\", \"rotation\": -0.0, \"position\": [-1.3673077825581244, -0.10278453887786115], \"v_baseline\": \"central\", \"alpha\": 1}, {\"id\": \"el11945140492420196224\", \"zorder\": 3, \"h_anchor\": \"middle\", \"color\": \"#000000\", \"fontsize\": 10.0, \"coordinates\": \"data\", \"text\": \"MaryCalls\", \"rotation\": -0.0, \"position\": [0.7634349371993553, 0.6275617541619603], \"v_baseline\": \"central\", \"alpha\": 1}, {\"id\": \"el11945140492420197568\", \"zorder\": 3, \"h_anchor\": \"middle\", \"color\": \"#000000\", \"fontsize\": 10.0, \"coordinates\": \"data\", \"text\": \"Alarm\", \"rotation\": -0.0, \"position\": [0.014486999408393875, -0.17782717429295794], \"v_baseline\": \"central\", \"alpha\": 1}, {\"id\": \"el11945140492420215360\", \"zorder\": 3, \"h_anchor\": \"middle\", \"color\": \"#000000\", \"fontsize\": 10.0, \"coordinates\": \"data\", \"text\": \"JohnCalls\", \"rotation\": -0.0, \"position\": [-0.41061415404962504, 0.6464781115306859], \"v_baseline\": \"central\", \"alpha\": 1}], \"yscale\": \"linear\", \"images\": [], \"ylim\": [-1.0734281525218272, 0.7264781115306859], \"axesbg\": \"#FFFFFF\", \"id\": \"el11945140492413700360\", \"axes\": [{\"tickformat\": null, \"grid\": {\"gridOn\": false}, \"tickvalues\": null, \"position\": \"bottom\", \"fontsize\": 10.0, \"nticks\": 7, \"scale\": \"linear\"}, {\"tickformat\": null, \"grid\": {\"gridOn\": false}, \"tickvalues\": null, \"position\": \"left\", \"fontsize\": 10.0, \"nticks\": 6, \"scale\": \"linear\"}], \"xscale\": \"linear\", \"ydomain\": [-1.0734281525218272, 0.7264781115306859], \"axesbgalpha\": null, \"sharex\": [], \"lines\": [{\"coordinates\": \"data\", \"linewidth\": 1.0, \"yindex\": 1, \"xindex\": 0, \"zorder\": 2, \"dasharray\": \"10,0\", \"color\": \"#808080\", \"id\": \"el11945140492386829760\", \"alpha\": 1, \"data\": \"data01\"}, {\"coordinates\": \"data\", \"linewidth\": 5, \"yindex\": 1, \"xindex\": 0, \"zorder\": 2, \"dasharray\": \"10,0\", \"color\": \"#000000\", \"id\": \"el11945140492386830600\", \"alpha\": 0.5, \"data\": \"data02\"}, {\"coordinates\": \"data\", \"linewidth\": 1.0, \"yindex\": 1, \"xindex\": 0, \"zorder\": 2, \"dasharray\": \"10,0\", \"color\": \"#808080\", \"id\": \"el11945140492386853664\", \"alpha\": 1, \"data\": \"data03\"}, {\"coordinates\": \"data\", \"linewidth\": 5, \"yindex\": 1, \"xindex\": 0, \"zorder\": 2, \"dasharray\": \"10,0\", \"color\": \"#000000\", \"id\": \"el11945140492386855064\", \"alpha\": 0.5, \"data\": \"data04\"}, {\"coordinates\": \"data\", \"linewidth\": 1.0, \"yindex\": 1, \"xindex\": 0, \"zorder\": 2, \"dasharray\": \"10,0\", \"color\": \"#808080\", \"id\": \"el11945140492386877568\", \"alpha\": 1, \"data\": \"data05\"}, {\"coordinates\": \"data\", \"linewidth\": 5, \"yindex\": 1, \"xindex\": 0, \"zorder\": 2, \"dasharray\": \"10,0\", \"color\": \"#000000\", \"id\": \"el11945140492386879528\", \"alpha\": 0.5, \"data\": \"data06\"}, {\"coordinates\": \"data\", \"linewidth\": 1.0, \"yindex\": 1, \"xindex\": 0, \"zorder\": 2, \"dasharray\": \"10,0\", \"color\": \"#808080\", \"id\": \"el11945140492386881488\", \"alpha\": 1, \"data\": \"data07\"}, {\"coordinates\": \"data\", \"linewidth\": 5, \"yindex\": 1, \"xindex\": 0, \"zorder\": 2, \"dasharray\": \"10,0\", \"color\": \"#000000\", \"id\": \"el11945140492420147128\", \"alpha\": 0.5, \"data\": \"data08\"}], \"xdomain\": [-1.4473077825581244, 1.08]}], \"id\": \"el11945140492416968800\", \"width\": 960.0, \"data\": {\"data09\": [[1.0, -0.9934281525218273], [-1.3673077825581244, -0.10278453887786115], [0.7634349371993553, 0.6275617541619603], [0.014486999408393875, -0.17782717429295794], [-0.41061415404962504, 0.6464781115306859]], \"data07\": [[0.014486999408393875, -0.17782717429295794], [-0.41061415404962504, 0.6464781115306859]], \"data04\": [[-0.19278221788658384, -0.16657077898069342], [0.014486999408393875, -0.17782717429295794]], \"data05\": [[0.014486999408393875, -0.17782717429295794], [0.7634349371993553, 0.6275617541619603]], \"data08\": [[-0.3468489810309222, 0.5228323186571393], [-0.41061415404962504, 0.6464781115306859]], \"data01\": [[1.0, -0.9934281525218273], [0.014486999408393875, -0.17782717429295794]], \"data03\": [[-1.3673077825581244, -0.10278453887786115], [0.014486999408393875, -0.17782717429295794]], \"data02\": [[0.1623139494971348, -0.3001673210272883], [0.014486999408393875, -0.17782717429295794]], \"data06\": [[0.651092746530711, 0.5067534148937225], [0.7634349371993553, 0.6275617541619603]]}});\n",
       "      });\n",
       "    });\n",
       "}else{\n",
       "    // require.js not available: dynamically load d3 & mpld3\n",
       "    mpld3_load_lib(\"https://mpld3.github.io/js/d3.v3.min.js\", function(){\n",
       "         mpld3_load_lib(\"https://mpld3.github.io/js/mpld3.v0.2.js\", function(){\n",
       "                 \n",
       "    mpld3.register_plugin(\"htmltooltip\", HtmlTooltipPlugin);\n",
       "    HtmlTooltipPlugin.prototype = Object.create(mpld3.Plugin.prototype);\n",
       "    HtmlTooltipPlugin.prototype.constructor = HtmlTooltipPlugin;\n",
       "    HtmlTooltipPlugin.prototype.requiredProps = [\"id\"];\n",
       "    HtmlTooltipPlugin.prototype.defaultProps = {labels:null, hoffset:0, voffset:10};\n",
       "    function HtmlTooltipPlugin(fig, props){\n",
       "        mpld3.Plugin.call(this, fig, props);\n",
       "    };\n",
       "\n",
       "    HtmlTooltipPlugin.prototype.draw = function(){\n",
       "       var obj = mpld3.get_element(this.props.id);\n",
       "       var labels = this.props.labels;\n",
       "       var tooltip = d3.select(\"body\").append(\"div\")\n",
       "                    .attr(\"class\", \"mpld3-tooltip\")\n",
       "                    .style(\"position\", \"absolute\")\n",
       "                    .style(\"z-index\", \"10\")\n",
       "                    .style(\"visibility\", \"hidden\");\n",
       "\n",
       "       obj.elements()\n",
       "           .on(\"mouseover\", function(d, i){\n",
       "                              tooltip.html(labels[i])\n",
       "                                     .style(\"visibility\", \"visible\");})\n",
       "           .on(\"mousemove\", function(d, i){\n",
       "                    tooltip\n",
       "                      .style(\"top\", d3.event.pageY + this.props.voffset + \"px\")\n",
       "                      .style(\"left\",d3.event.pageX + this.props.hoffset + \"px\");\n",
       "                 }.bind(this))\n",
       "           .on(\"mouseout\",  function(d, i){\n",
       "                           tooltip.style(\"visibility\", \"hidden\");});\n",
       "    };\n",
       "    \n",
       "                 mpld3.draw_figure(\"fig_el119451404924169688007753347191\", {\"height\": 640.0, \"plugins\": [{\"type\": \"reset\"}, {\"enabled\": false, \"type\": \"zoom\", \"button\": true}, {\"enabled\": false, \"type\": \"boxzoom\", \"button\": true}, {\"labels\": [\"<table border=\\\"1\\\" cellpadding=\\\"4\\\" cellspacing=\\\"0\\\" bordercolor=\\\"#000000\\\">\\n<tr bgcolor=\\\"#AAAAAA\\\">\\n<th align=\\\"center\\\">Burglary</th>\\n<th align=\\\"center\\\">Prob.</th>\\n</tr>\\n<tr>\\n<td bgcolor=#FFFFFF>True</td>\\n<td bgcolor=#f6b5b1>0.010</td>\\n</tr>\\n<tr>\\n<td bgcolor=#FFFFFF>False</td>\\n<td bgcolor=#f2f0f1>0.990</td>\\n</tr>\\n</table>\", \"<table border=\\\"1\\\" cellpadding=\\\"4\\\" cellspacing=\\\"0\\\" bordercolor=\\\"#000000\\\">\\n<tr bgcolor=\\\"#AAAAAA\\\">\\n<th align=\\\"center\\\">Earthquake</th>\\n<th align=\\\"center\\\">Prob.</th>\\n</tr>\\n<tr>\\n<td bgcolor=#FFFFFF>True</td>\\n<td bgcolor=#efb7b6>0.020</td>\\n</tr>\\n<tr>\\n<td bgcolor=#FFFFFF>False</td>\\n<td bgcolor=#f3eef1>0.980</td>\\n</tr>\\n</table>\", \"<table border=\\\"1\\\" cellpadding=\\\"4\\\" cellspacing=\\\"0\\\" bordercolor=\\\"#000000\\\">\\n<tr bgcolor=\\\"#AAAAAA\\\">\\n<th align=\\\"center\\\">Alarm</th>\\n<th align=\\\"center\\\">MaryCalls</th>\\n<th align=\\\"center\\\">Prob.</th>\\n</tr>\\n<tr>\\n<td bgcolor=#FFFFFF>True</td>\\n<td bgcolor=#FFFFFF>True</td>\\n<td bgcolor=#eee6c2>0.700</td>\\n</tr>\\n<tr>\\n<td bgcolor=#FFFFFF>True</td>\\n<td bgcolor=#FFFFFF>False</td>\\n<td bgcolor=#d2ded0>0.300</td>\\n</tr>\\n<tr>\\n<td bgcolor=#FFFFFF>False</td>\\n<td bgcolor=#FFFFFF>True</td>\\n<td bgcolor=#f6b5b1>0.010</td>\\n</tr>\\n<tr>\\n<td bgcolor=#FFFFFF>False</td>\\n<td bgcolor=#FFFFFF>False</td>\\n<td bgcolor=#f2f0f1>0.990</td>\\n</tr>\\n</table>\", \"<table border=\\\"1\\\" cellpadding=\\\"4\\\" cellspacing=\\\"0\\\" bordercolor=\\\"#000000\\\">\\n<tr bgcolor=\\\"#AAAAAA\\\">\\n<th align=\\\"center\\\">Burglary</th>\\n<th align=\\\"center\\\">Earthquake</th>\\n<th align=\\\"center\\\">Alarm</th>\\n<th align=\\\"center\\\">Prob.</th>\\n</tr>\\n<tr>\\n<td bgcolor=#FFFFFF>True</td>\\n<td bgcolor=#FFFFFF>True</td>\\n<td bgcolor=#FFFFFF>True</td>\\n<td bgcolor=#f6e8ef>0.950</td>\\n</tr>\\n<tr>\\n<td bgcolor=#FFFFFF>True</td>\\n<td bgcolor=#FFFFFF>True</td>\\n<td bgcolor=#FFFFFF>False</td>\\n<td bgcolor=#dfbdc1>0.050</td>\\n</tr>\\n<tr>\\n<td bgcolor=#FFFFFF>True</td>\\n<td bgcolor=#FFFFFF>False</td>\\n<td bgcolor=#FFFFFF>True</td>\\n<td bgcolor=#f7e6ef>0.940</td>\\n</tr>\\n<tr>\\n<td bgcolor=#FFFFFF>True</td>\\n<td bgcolor=#FFFFFF>False</td>\\n<td bgcolor=#FFFFFF>False</td>\\n<td bgcolor=#d9bfc6>0.060</td>\\n</tr>\\n<tr>\\n<td bgcolor=#FFFFFF>False</td>\\n<td bgcolor=#FFFFFF>True</td>\\n<td bgcolor=#FFFFFF>True</td>\\n<td bgcolor=#d1e0ce>0.290</td>\\n</tr>\\n<tr>\\n<td bgcolor=#FFFFFF>False</td>\\n<td bgcolor=#FFFFFF>True</td>\\n<td bgcolor=#FFFFFF>False</td>\\n<td bgcolor=#ede4c1>0.710</td>\\n</tr>\\n<tr>\\n<td bgcolor=#FFFFFF>False</td>\\n<td bgcolor=#FFFFFF>False</td>\\n<td bgcolor=#FFFFFF>True</td>\\n<td bgcolor=#fbb4ae>0.001</td>\\n</tr>\\n<tr>\\n<td bgcolor=#FFFFFF>False</td>\\n<td bgcolor=#FFFFFF>False</td>\\n<td bgcolor=#FFFFFF>False</td>\\n<td bgcolor=#f2f2f2>0.999</td>\\n</tr>\\n</table>\", \"<table border=\\\"1\\\" cellpadding=\\\"4\\\" cellspacing=\\\"0\\\" bordercolor=\\\"#000000\\\">\\n<tr bgcolor=\\\"#AAAAAA\\\">\\n<th align=\\\"center\\\">Alarm</th>\\n<th align=\\\"center\\\">JohnCalls</th>\\n<th align=\\\"center\\\">Prob.</th>\\n</tr>\\n<tr>\\n<td bgcolor=#FFFFFF>True</td>\\n<td bgcolor=#FFFFFF>True</td>\\n<td bgcolor=#fadfed>0.900</td>\\n</tr>\\n<tr>\\n<td bgcolor=#FFFFFF>True</td>\\n<td bgcolor=#FFFFFF>False</td>\\n<td bgcolor=#c2c7d7>0.100</td>\\n</tr>\\n<tr>\\n<td bgcolor=#FFFFFF>False</td>\\n<td bgcolor=#FFFFFF>True</td>\\n<td bgcolor=#dfbdc1>0.050</td>\\n</tr>\\n<tr>\\n<td bgcolor=#FFFFFF>False</td>\\n<td bgcolor=#FFFFFF>False</td>\\n<td bgcolor=#f6e8ef>0.950</td>\\n</tr>\\n</table>\"], \"type\": \"htmltooltip\", \"voffset\": 10, \"id\": \"el11945140492420175744pts\", \"hoffset\": 10}], \"axes\": [{\"bbox\": [0.125, 0.125, 0.775, 0.775], \"sharey\": [], \"zoomable\": true, \"collections\": [], \"markers\": [{\"coordinates\": \"data\", \"edgecolor\": \"#000000\", \"yindex\": 1, \"xindex\": 0, \"alpha\": 1.0, \"zorder\": 2, \"markerpath\": [[[0.0, 10.0], [2.652031, 10.0], [5.195798707848534, 8.946336915882418], [7.0710678118654755, 7.0710678118654755], [8.946336915882418, 5.195798707848534], [10.0, 2.652031], [10.0, 0.0], [10.0, -2.652031], [8.946336915882418, -5.195798707848534], [7.0710678118654755, -7.0710678118654755], [5.195798707848534, -8.946336915882418], [2.652031, -10.0], [0.0, -10.0], [-2.652031, -10.0], [-5.195798707848534, -8.946336915882418], [-7.0710678118654755, -7.0710678118654755], [-8.946336915882418, -5.195798707848534], [-10.0, -2.652031], [-10.0, 0.0], [-10.0, 2.652031], [-8.946336915882418, 5.195798707848534], [-7.0710678118654755, 7.0710678118654755], [-5.195798707848534, 8.946336915882418], [-2.652031, 10.0], [0.0, 10.0]], [\"M\", \"C\", \"C\", \"C\", \"C\", \"C\", \"C\", \"C\", \"C\", \"Z\"]], \"id\": \"el11945140492386829648pts\", \"edgewidth\": 1, \"facecolor\": \"#D3D3D3\", \"data\": \"data09\"}, {\"coordinates\": \"data\", \"edgecolor\": \"#000000\", \"yindex\": 1, \"xindex\": 0, \"alpha\": 0.0, \"zorder\": 2, \"markerpath\": [[[0.0, 20.0], [5.304062, 20.0], [10.391597415697069, 17.892673831764835], [14.142135623730951, 14.142135623730951], [17.892673831764835, 10.391597415697069], [20.0, 5.304062], [20.0, 0.0], [20.0, -5.304062], [17.892673831764835, -10.391597415697069], [14.142135623730951, -14.142135623730951], [10.391597415697069, -17.892673831764835], [5.304062, -20.0], [0.0, -20.0], [-5.304062, -20.0], [-10.391597415697069, -17.892673831764835], [-14.142135623730951, -14.142135623730951], [-17.892673831764835, -10.391597415697069], [-20.0, -5.304062], [-20.0, 0.0], [-20.0, 5.304062], [-17.892673831764835, 10.391597415697069], [-14.142135623730951, 14.142135623730951], [-10.391597415697069, 17.892673831764835], [-5.304062, 20.0], [0.0, 20.0]], [\"M\", \"C\", \"C\", \"C\", \"C\", \"C\", \"C\", \"C\", \"C\", \"Z\"]], \"id\": \"el11945140492420175744pts\", \"edgewidth\": 1, \"facecolor\": \"#D3D3D3\", \"data\": \"data09\"}], \"paths\": [], \"xlim\": [-1.4473077825581244, 1.08], \"texts\": [{\"id\": \"el11945140492420176920\", \"zorder\": 3, \"h_anchor\": \"middle\", \"color\": \"#000000\", \"fontsize\": 10.0, \"coordinates\": \"data\", \"text\": \"Burglary\", \"rotation\": -0.0, \"position\": [1.0, -0.9934281525218273], \"v_baseline\": \"central\", \"alpha\": 1}, {\"id\": \"el11945140492420194880\", \"zorder\": 3, \"h_anchor\": \"middle\", \"color\": \"#000000\", \"fontsize\": 10.0, \"coordinates\": \"data\", \"text\": \"Earthquake\", \"rotation\": -0.0, \"position\": [-1.3673077825581244, -0.10278453887786115], \"v_baseline\": \"central\", \"alpha\": 1}, {\"id\": \"el11945140492420196224\", \"zorder\": 3, \"h_anchor\": \"middle\", \"color\": \"#000000\", \"fontsize\": 10.0, \"coordinates\": \"data\", \"text\": \"MaryCalls\", \"rotation\": -0.0, \"position\": [0.7634349371993553, 0.6275617541619603], \"v_baseline\": \"central\", \"alpha\": 1}, {\"id\": \"el11945140492420197568\", \"zorder\": 3, \"h_anchor\": \"middle\", \"color\": \"#000000\", \"fontsize\": 10.0, \"coordinates\": \"data\", \"text\": \"Alarm\", \"rotation\": -0.0, \"position\": [0.014486999408393875, -0.17782717429295794], \"v_baseline\": \"central\", \"alpha\": 1}, {\"id\": \"el11945140492420215360\", \"zorder\": 3, \"h_anchor\": \"middle\", \"color\": \"#000000\", \"fontsize\": 10.0, \"coordinates\": \"data\", \"text\": \"JohnCalls\", \"rotation\": -0.0, \"position\": [-0.41061415404962504, 0.6464781115306859], \"v_baseline\": \"central\", \"alpha\": 1}], \"yscale\": \"linear\", \"images\": [], \"ylim\": [-1.0734281525218272, 0.7264781115306859], \"axesbg\": \"#FFFFFF\", \"id\": \"el11945140492413700360\", \"axes\": [{\"tickformat\": null, \"grid\": {\"gridOn\": false}, \"tickvalues\": null, \"position\": \"bottom\", \"fontsize\": 10.0, \"nticks\": 7, \"scale\": \"linear\"}, {\"tickformat\": null, \"grid\": {\"gridOn\": false}, \"tickvalues\": null, \"position\": \"left\", \"fontsize\": 10.0, \"nticks\": 6, \"scale\": \"linear\"}], \"xscale\": \"linear\", \"ydomain\": [-1.0734281525218272, 0.7264781115306859], \"axesbgalpha\": null, \"sharex\": [], \"lines\": [{\"coordinates\": \"data\", \"linewidth\": 1.0, \"yindex\": 1, \"xindex\": 0, \"zorder\": 2, \"dasharray\": \"10,0\", \"color\": \"#808080\", \"id\": \"el11945140492386829760\", \"alpha\": 1, \"data\": \"data01\"}, {\"coordinates\": \"data\", \"linewidth\": 5, \"yindex\": 1, \"xindex\": 0, \"zorder\": 2, \"dasharray\": \"10,0\", \"color\": \"#000000\", \"id\": \"el11945140492386830600\", \"alpha\": 0.5, \"data\": \"data02\"}, {\"coordinates\": \"data\", \"linewidth\": 1.0, \"yindex\": 1, \"xindex\": 0, \"zorder\": 2, \"dasharray\": \"10,0\", \"color\": \"#808080\", \"id\": \"el11945140492386853664\", \"alpha\": 1, \"data\": \"data03\"}, {\"coordinates\": \"data\", \"linewidth\": 5, \"yindex\": 1, \"xindex\": 0, \"zorder\": 2, \"dasharray\": \"10,0\", \"color\": \"#000000\", \"id\": \"el11945140492386855064\", \"alpha\": 0.5, \"data\": \"data04\"}, {\"coordinates\": \"data\", \"linewidth\": 1.0, \"yindex\": 1, \"xindex\": 0, \"zorder\": 2, \"dasharray\": \"10,0\", \"color\": \"#808080\", \"id\": \"el11945140492386877568\", \"alpha\": 1, \"data\": \"data05\"}, {\"coordinates\": \"data\", \"linewidth\": 5, \"yindex\": 1, \"xindex\": 0, \"zorder\": 2, \"dasharray\": \"10,0\", \"color\": \"#000000\", \"id\": \"el11945140492386879528\", \"alpha\": 0.5, \"data\": \"data06\"}, {\"coordinates\": \"data\", \"linewidth\": 1.0, \"yindex\": 1, \"xindex\": 0, \"zorder\": 2, \"dasharray\": \"10,0\", \"color\": \"#808080\", \"id\": \"el11945140492386881488\", \"alpha\": 1, \"data\": \"data07\"}, {\"coordinates\": \"data\", \"linewidth\": 5, \"yindex\": 1, \"xindex\": 0, \"zorder\": 2, \"dasharray\": \"10,0\", \"color\": \"#000000\", \"id\": \"el11945140492420147128\", \"alpha\": 0.5, \"data\": \"data08\"}], \"xdomain\": [-1.4473077825581244, 1.08]}], \"id\": \"el11945140492416968800\", \"width\": 960.0, \"data\": {\"data09\": [[1.0, -0.9934281525218273], [-1.3673077825581244, -0.10278453887786115], [0.7634349371993553, 0.6275617541619603], [0.014486999408393875, -0.17782717429295794], [-0.41061415404962504, 0.6464781115306859]], \"data07\": [[0.014486999408393875, -0.17782717429295794], [-0.41061415404962504, 0.6464781115306859]], \"data04\": [[-0.19278221788658384, -0.16657077898069342], [0.014486999408393875, -0.17782717429295794]], \"data05\": [[0.014486999408393875, -0.17782717429295794], [0.7634349371993553, 0.6275617541619603]], \"data08\": [[-0.3468489810309222, 0.5228323186571393], [-0.41061415404962504, 0.6464781115306859]], \"data01\": [[1.0, -0.9934281525218273], [0.014486999408393875, -0.17782717429295794]], \"data03\": [[-1.3673077825581244, -0.10278453887786115], [0.014486999408393875, -0.17782717429295794]], \"data02\": [[0.1623139494971348, -0.3001673210272883], [0.014486999408393875, -0.17782717429295794]], \"data06\": [[0.651092746530711, 0.5067534148937225], [0.7634349371993553, 0.6275617541619603]]}});\n",
       "            })\n",
       "         });\n",
       "}\n",
       "</script>"
      ],
      "text/plain": [
       "<IPython.core.display.HTML object>"
      ]
     },
     "execution_count": 34,
     "metadata": {},
     "output_type": "execute_result"
    }
   ],
   "source": [
    "dgm.draw()"
   ]
  },
  {
   "cell_type": "markdown",
   "metadata": {},
   "source": [
    "### Factors"
   ]
  },
  {
   "cell_type": "code",
   "execution_count": 35,
   "metadata": {
    "collapsed": true
   },
   "outputs": [],
   "source": [
    "factor = dgm.factor('Alarm') * dgm.factor('Burglary') * dgm.factor('Earthquake')"
   ]
  },
  {
   "cell_type": "code",
   "execution_count": 36,
   "metadata": {
    "collapsed": true
   },
   "outputs": [],
   "source": [
    "# generating data\n",
    "data = factor.rvs(size=1000000)"
   ]
  },
  {
   "cell_type": "code",
   "execution_count": 37,
   "metadata": {
    "collapsed": true
   },
   "outputs": [],
   "source": [
    "new_factor = gm.TableFactor(['Alarm', 'Burglary', 'Earthquake'], ['Alarm', 'Burglary', 'Earthquake'])"
   ]
  },
  {
   "cell_type": "code",
   "execution_count": 38,
   "metadata": {
    "collapsed": false
   },
   "outputs": [
    {
     "data": {
      "text/html": [
       "<table border=\"1\" cellpadding=\"4\" cellspacing=\"0\" bordercolor=\"#000000\">\n",
       "<tr bgcolor=\"#AAAAAA\">\n",
       "<th align=\"center\">Alarm</th>\n",
       "<th align=\"center\">Burglary</th>\n",
       "<th align=\"center\">Earthquake</th>\n",
       "<th align=\"center\">Prob.</th>\n",
       "</tr>\n",
       "<tr>\n",
       "<td bgcolor=#FFFFFF>False</td>\n",
       "<td bgcolor=#FFFFFF>False</td>\n",
       "<td bgcolor=#FFFFFF>False</td>\n",
       "<td bgcolor=#f4ecf0>0.969</td>\n",
       "</tr>\n",
       "<tr>\n",
       "<td bgcolor=#FFFFFF>False</td>\n",
       "<td bgcolor=#FFFFFF>False</td>\n",
       "<td bgcolor=#FFFFFF>True</td>\n",
       "<td bgcolor=#f4b6b2>0.014</td>\n",
       "</tr>\n",
       "<tr>\n",
       "<td bgcolor=#FFFFFF>False</td>\n",
       "<td bgcolor=#FFFFFF>True</td>\n",
       "<td bgcolor=#FFFFFF>False</td>\n",
       "<td bgcolor=#fbb4ae>0.001</td>\n",
       "</tr>\n",
       "<tr>\n",
       "<td bgcolor=#FFFFFF>False</td>\n",
       "<td bgcolor=#FFFFFF>True</td>\n",
       "<td bgcolor=#FFFFFF>True</td>\n",
       "<td bgcolor=#fbb4ae>0.000</td>\n",
       "</tr>\n",
       "<tr>\n",
       "<td bgcolor=#FFFFFF>True</td>\n",
       "<td bgcolor=#FFFFFF>False</td>\n",
       "<td bgcolor=#FFFFFF>False</td>\n",
       "<td bgcolor=#fbb4ae>0.001</td>\n",
       "</tr>\n",
       "<tr>\n",
       "<td bgcolor=#FFFFFF>True</td>\n",
       "<td bgcolor=#FFFFFF>False</td>\n",
       "<td bgcolor=#FFFFFF>True</td>\n",
       "<td bgcolor=#f8b4af>0.006</td>\n",
       "</tr>\n",
       "<tr>\n",
       "<td bgcolor=#FFFFFF>True</td>\n",
       "<td bgcolor=#FFFFFF>True</td>\n",
       "<td bgcolor=#FFFFFF>False</td>\n",
       "<td bgcolor=#f6b5b1>0.009</td>\n",
       "</tr>\n",
       "<tr>\n",
       "<td bgcolor=#FFFFFF>True</td>\n",
       "<td bgcolor=#FFFFFF>True</td>\n",
       "<td bgcolor=#FFFFFF>True</td>\n",
       "<td bgcolor=#fbb4ae>0.000</td>\n",
       "</tr>\n",
       "</table>"
      ],
      "text/plain": [
       "TableFactor(Alarm, Burglary, Earthquake)"
      ]
     },
     "execution_count": 38,
     "metadata": {},
     "output_type": "execute_result"
    }
   ],
   "source": [
    "# fitting\n",
    "new_factor.fit(data)"
   ]
  },
  {
   "cell_type": "code",
   "execution_count": 39,
   "metadata": {
    "collapsed": false
   },
   "outputs": [
    {
     "data": {
      "text/html": [
       "<table border=\"1\" cellpadding=\"4\" cellspacing=\"0\" bordercolor=\"#000000\">\n",
       "<tr bgcolor=\"#AAAAAA\">\n",
       "<th align=\"center\">Burglary</th>\n",
       "<th align=\"center\">Earthquake</th>\n",
       "<th align=\"center\">Alarm</th>\n",
       "<th align=\"center\">Prob.</th>\n",
       "</tr>\n",
       "<tr>\n",
       "<td bgcolor=#FFFFFF>True</td>\n",
       "<td bgcolor=#FFFFFF>True</td>\n",
       "<td bgcolor=#FFFFFF>True</td>\n",
       "<td bgcolor=#fbb4ae>0.000</td>\n",
       "</tr>\n",
       "<tr>\n",
       "<td bgcolor=#FFFFFF>True</td>\n",
       "<td bgcolor=#FFFFFF>True</td>\n",
       "<td bgcolor=#FFFFFF>False</td>\n",
       "<td bgcolor=#fbb4ae>0.000</td>\n",
       "</tr>\n",
       "<tr>\n",
       "<td bgcolor=#FFFFFF>True</td>\n",
       "<td bgcolor=#FFFFFF>False</td>\n",
       "<td bgcolor=#FFFFFF>True</td>\n",
       "<td bgcolor=#f6b5b1>0.009</td>\n",
       "</tr>\n",
       "<tr>\n",
       "<td bgcolor=#FFFFFF>True</td>\n",
       "<td bgcolor=#FFFFFF>False</td>\n",
       "<td bgcolor=#FFFFFF>False</td>\n",
       "<td bgcolor=#fbb4ae>0.001</td>\n",
       "</tr>\n",
       "<tr>\n",
       "<td bgcolor=#FFFFFF>False</td>\n",
       "<td bgcolor=#FFFFFF>True</td>\n",
       "<td bgcolor=#FFFFFF>True</td>\n",
       "<td bgcolor=#f8b4af>0.006</td>\n",
       "</tr>\n",
       "<tr>\n",
       "<td bgcolor=#FFFFFF>False</td>\n",
       "<td bgcolor=#FFFFFF>True</td>\n",
       "<td bgcolor=#FFFFFF>False</td>\n",
       "<td bgcolor=#f4b6b2>0.014</td>\n",
       "</tr>\n",
       "<tr>\n",
       "<td bgcolor=#FFFFFF>False</td>\n",
       "<td bgcolor=#FFFFFF>False</td>\n",
       "<td bgcolor=#FFFFFF>True</td>\n",
       "<td bgcolor=#fbb4ae>0.001</td>\n",
       "</tr>\n",
       "<tr>\n",
       "<td bgcolor=#FFFFFF>False</td>\n",
       "<td bgcolor=#FFFFFF>False</td>\n",
       "<td bgcolor=#FFFFFF>False</td>\n",
       "<td bgcolor=#f4ecf0>0.969</td>\n",
       "</tr>\n",
       "</table>"
      ],
      "text/plain": [
       "TableFactor(Burglary, Earthquake, Alarm)"
      ]
     },
     "execution_count": 39,
     "metadata": {},
     "output_type": "execute_result"
    }
   ],
   "source": [
    "factor"
   ]
  },
  {
   "cell_type": "markdown",
   "metadata": {},
   "source": [
    "## Inference"
   ]
  },
  {
   "cell_type": "code",
   "execution_count": 40,
   "metadata": {
    "collapsed": false
   },
   "outputs": [],
   "source": [
    "# creating inference object\n",
    "inference = gm.SumProductInference(dgm)"
   ]
  },
  {
   "cell_type": "code",
   "execution_count": 41,
   "metadata": {
    "collapsed": false
   },
   "outputs": [
    {
     "data": {
      "text/html": [
       "<table border=\"1\" cellpadding=\"4\" cellspacing=\"0\" bordercolor=\"#000000\">\n",
       "<tr bgcolor=\"#AAAAAA\">\n",
       "<th align=\"center\">JohnCalls</th>\n",
       "<th align=\"center\">Prob.</th>\n",
       "</tr>\n",
       "<tr>\n",
       "<td bgcolor=#FFFFFF>True</td>\n",
       "<td bgcolor=#d6c0c8>0.064</td>\n",
       "</tr>\n",
       "<tr>\n",
       "<td bgcolor=#FFFFFF>False</td>\n",
       "<td bgcolor=#f7e5ee>0.936</td>\n",
       "</tr>\n",
       "</table>"
      ],
      "text/plain": [
       "TableFactor(JohnCalls)"
      ]
     },
     "execution_count": 41,
     "metadata": {},
     "output_type": "execute_result"
    }
   ],
   "source": [
    "# making inference queries\n",
    "inference(query=['JohnCalls']) # probability of John calling"
   ]
  },
  {
   "cell_type": "code",
   "execution_count": 42,
   "metadata": {
    "collapsed": false
   },
   "outputs": [
    {
     "data": {
      "text/html": [
       "<table border=\"1\" cellpadding=\"4\" cellspacing=\"0\" bordercolor=\"#000000\">\n",
       "<tr bgcolor=\"#AAAAAA\">\n",
       "<th align=\"center\">JohnCalls</th>\n",
       "<th align=\"center\">Prob.</th>\n",
       "</tr>\n",
       "<tr>\n",
       "<td bgcolor=#FFFFFF>True</td>\n",
       "<td bgcolor=#f8d9e2>0.849</td>\n",
       "</tr>\n",
       "<tr>\n",
       "<td bgcolor=#FFFFFF>False</td>\n",
       "<td bgcolor=#b7d2dd>0.151</td>\n",
       "</tr>\n",
       "</table>"
      ],
      "text/plain": [
       "TableFactor(JohnCalls)"
      ]
     },
     "execution_count": 42,
     "metadata": {},
     "output_type": "execute_result"
    }
   ],
   "source": [
    "# probability of John calling in case there was a burglary\n",
    "inference(query=['JohnCalls'], observed=dict(Burglary='True'))"
   ]
  },
  {
   "cell_type": "code",
   "execution_count": 43,
   "metadata": {
    "collapsed": false
   },
   "outputs": [
    {
     "data": {
      "text/html": [
       "<table border=\"1\" cellpadding=\"4\" cellspacing=\"0\" bordercolor=\"#000000\">\n",
       "<tr bgcolor=\"#AAAAAA\">\n",
       "<th align=\"center\">JohnCalls</th>\n",
       "<th align=\"center\">MaryCalls</th>\n",
       "<th align=\"center\">Prob.</th>\n",
       "</tr>\n",
       "<tr>\n",
       "<td bgcolor=#FFFFFF>True</td>\n",
       "<td bgcolor=#FFFFFF>True</td>\n",
       "<td bgcolor=#fef5c2>0.592</td>\n",
       "</tr>\n",
       "<tr>\n",
       "<td bgcolor=#FFFFFF>True</td>\n",
       "<td bgcolor=#FFFFFF>False</td>\n",
       "<td bgcolor=#cce9c6>0.257</td>\n",
       "</tr>\n",
       "<tr>\n",
       "<td bgcolor=#FFFFFF>False</td>\n",
       "<td bgcolor=#FFFFFF>True</td>\n",
       "<td bgcolor=#d6c0c8>0.066</td>\n",
       "</tr>\n",
       "<tr>\n",
       "<td bgcolor=#FFFFFF>False</td>\n",
       "<td bgcolor=#FFFFFF>False</td>\n",
       "<td bgcolor=#cbc4d0>0.084</td>\n",
       "</tr>\n",
       "</table>"
      ],
      "text/plain": [
       "TableFactor(JohnCalls, MaryCalls)"
      ]
     },
     "execution_count": 43,
     "metadata": {},
     "output_type": "execute_result"
    }
   ],
   "source": [
    "# probability of John/Mary calling in case there was a burglary\n",
    "inference(query=['JohnCalls', 'MaryCalls'], observed=dict(Burglary='True'))"
   ]
  },
  {
   "cell_type": "code",
   "execution_count": 44,
   "metadata": {
    "collapsed": false
   },
   "outputs": [
    {
     "data": {
      "text/html": [
       "<table border=\"1\" cellpadding=\"4\" cellspacing=\"0\" bordercolor=\"#000000\">\n",
       "<tr bgcolor=\"#AAAAAA\">\n",
       "<th align=\"center\">Earthquake</th>\n",
       "<th align=\"center\">Prob.</th>\n",
       "</tr>\n",
       "<tr>\n",
       "<td bgcolor=#FFFFFF>True</td>\n",
       "<td bgcolor=#dad0de>0.352</td>\n",
       "</tr>\n",
       "<tr>\n",
       "<td bgcolor=#FFFFFF>False</td>\n",
       "<td bgcolor=#faf8c9>0.648</td>\n",
       "</tr>\n",
       "</table>"
      ],
      "text/plain": [
       "TableFactor(Earthquake)"
      ]
     },
     "execution_count": 44,
     "metadata": {},
     "output_type": "execute_result"
    }
   ],
   "source": [
    "# probability of Earthquake given that both John and Mary called\n",
    "inference(query=['Earthquake'], observed=dict(JohnCalls='True', MaryCalls='True'))"
   ]
  },
  {
   "cell_type": "markdown",
   "metadata": {},
   "source": [
    "## Structure Learning"
   ]
  },
  {
   "cell_type": "markdown",
   "metadata": {},
   "source": [
    "Currently only Chow-Liu algorithm is implemented. It allows to find a tree structure with maximum likelihood."
   ]
  },
  {
   "cell_type": "code",
   "execution_count": 45,
   "metadata": {
    "collapsed": true
   },
   "outputs": [],
   "source": [
    "# generating data\n",
    "data = dgm.rvs(size=1000000)"
   ]
  },
  {
   "cell_type": "code",
   "execution_count": 46,
   "metadata": {
    "collapsed": false
   },
   "outputs": [],
   "source": [
    "learned = gm.chow_liu(data)"
   ]
  },
  {
   "cell_type": "code",
   "execution_count": 47,
   "metadata": {
    "collapsed": false
   },
   "outputs": [
    {
     "data": {
      "text/html": [
       "\n",
       "\n",
       "<style>\n",
       "\n",
       "table\n",
       "{\n",
       "  border-collapse: collapse;\n",
       "}\n",
       "th\n",
       "{\n",
       "  color: #ffffff;\n",
       "  background-color: #000000;\n",
       "}\n",
       "td\n",
       "{\n",
       "  background-color: #cccccc;\n",
       "}\n",
       "table, th, td\n",
       "{\n",
       "  font-family:Arial, Helvetica, sans-serif;\n",
       "  border: 1px solid black;\n",
       "  text-align: center;\n",
       "  padding: 3px;\n",
       "  font-size:11pt;\n",
       "}\n",
       "g.mpld3-xaxis, g.mpld3-yaxis {\n",
       "    display: none;\n",
       "}\n",
       "    \n",
       "</style>\n",
       "\n",
       "<div id=\"fig_el119451404924202466085153003090\"></div>\n",
       "<script>\n",
       "function mpld3_load_lib(url, callback){\n",
       "  var s = document.createElement('script');\n",
       "  s.src = url;\n",
       "  s.async = true;\n",
       "  s.onreadystatechange = s.onload = callback;\n",
       "  s.onerror = function(){console.warn(\"failed to load library \" + url);};\n",
       "  document.getElementsByTagName(\"head\")[0].appendChild(s);\n",
       "}\n",
       "\n",
       "if(typeof(mpld3) !== \"undefined\" && mpld3._mpld3IsLoaded){\n",
       "   // already loaded: just create the figure\n",
       "   !function(mpld3){\n",
       "       \n",
       "    mpld3.register_plugin(\"htmltooltip\", HtmlTooltipPlugin);\n",
       "    HtmlTooltipPlugin.prototype = Object.create(mpld3.Plugin.prototype);\n",
       "    HtmlTooltipPlugin.prototype.constructor = HtmlTooltipPlugin;\n",
       "    HtmlTooltipPlugin.prototype.requiredProps = [\"id\"];\n",
       "    HtmlTooltipPlugin.prototype.defaultProps = {labels:null, hoffset:0, voffset:10};\n",
       "    function HtmlTooltipPlugin(fig, props){\n",
       "        mpld3.Plugin.call(this, fig, props);\n",
       "    };\n",
       "\n",
       "    HtmlTooltipPlugin.prototype.draw = function(){\n",
       "       var obj = mpld3.get_element(this.props.id);\n",
       "       var labels = this.props.labels;\n",
       "       var tooltip = d3.select(\"body\").append(\"div\")\n",
       "                    .attr(\"class\", \"mpld3-tooltip\")\n",
       "                    .style(\"position\", \"absolute\")\n",
       "                    .style(\"z-index\", \"10\")\n",
       "                    .style(\"visibility\", \"hidden\");\n",
       "\n",
       "       obj.elements()\n",
       "           .on(\"mouseover\", function(d, i){\n",
       "                              tooltip.html(labels[i])\n",
       "                                     .style(\"visibility\", \"visible\");})\n",
       "           .on(\"mousemove\", function(d, i){\n",
       "                    tooltip\n",
       "                      .style(\"top\", d3.event.pageY + this.props.voffset + \"px\")\n",
       "                      .style(\"left\",d3.event.pageX + this.props.hoffset + \"px\");\n",
       "                 }.bind(this))\n",
       "           .on(\"mouseout\",  function(d, i){\n",
       "                           tooltip.style(\"visibility\", \"hidden\");});\n",
       "    };\n",
       "    \n",
       "       mpld3.draw_figure(\"fig_el119451404924202466085153003090\", {\"height\": 640.0, \"plugins\": [{\"type\": \"reset\"}, {\"enabled\": false, \"type\": \"zoom\", \"button\": true}, {\"enabled\": false, \"type\": \"boxzoom\", \"button\": true}, {\"labels\": [], \"type\": \"htmltooltip\", \"voffset\": 10, \"id\": \"el11945140492385457432pts\", \"hoffset\": 10}], \"axes\": [{\"bbox\": [0.125, 0.125, 0.775, 0.775], \"sharey\": [], \"zoomable\": true, \"collections\": [], \"markers\": [{\"coordinates\": \"data\", \"edgecolor\": \"#000000\", \"yindex\": 1, \"xindex\": 0, \"alpha\": 1.0, \"zorder\": 2, \"markerpath\": [[[0.0, 10.0], [2.652031, 10.0], [5.195798707848534, 8.946336915882418], [7.0710678118654755, 7.0710678118654755], [8.946336915882418, 5.195798707848534], [10.0, 2.652031], [10.0, 0.0], [10.0, -2.652031], [8.946336915882418, -5.195798707848534], [7.0710678118654755, -7.0710678118654755], [5.195798707848534, -8.946336915882418], [2.652031, -10.0], [0.0, -10.0], [-2.652031, -10.0], [-5.195798707848534, -8.946336915882418], [-7.0710678118654755, -7.0710678118654755], [-8.946336915882418, -5.195798707848534], [-10.0, -2.652031], [-10.0, 0.0], [-10.0, 2.652031], [-8.946336915882418, 5.195798707848534], [-7.0710678118654755, 7.0710678118654755], [-5.195798707848534, 8.946336915882418], [-2.652031, 10.0], [0.0, 10.0]], [\"M\", \"C\", \"C\", \"C\", \"C\", \"C\", \"C\", \"C\", \"C\", \"Z\"]], \"id\": \"el11945140492419920616pts\", \"edgewidth\": 1, \"facecolor\": \"#D3D3D3\", \"data\": \"data09\"}, {\"coordinates\": \"data\", \"edgecolor\": \"#000000\", \"yindex\": 1, \"xindex\": 0, \"alpha\": 0.0, \"zorder\": 2, \"markerpath\": [[[0.0, 20.0], [5.304062, 20.0], [10.391597415697069, 17.892673831764835], [14.142135623730951, 14.142135623730951], [17.892673831764835, 10.391597415697069], [20.0, 5.304062], [20.0, 0.0], [20.0, -5.304062], [17.892673831764835, -10.391597415697069], [14.142135623730951, -14.142135623730951], [10.391597415697069, -17.892673831764835], [5.304062, -20.0], [0.0, -20.0], [-5.304062, -20.0], [-10.391597415697069, -17.892673831764835], [-14.142135623730951, -14.142135623730951], [-17.892673831764835, -10.391597415697069], [-20.0, -5.304062], [-20.0, 0.0], [-20.0, 5.304062], [-17.892673831764835, 10.391597415697069], [-14.142135623730951, 14.142135623730951], [-10.391597415697069, 17.892673831764835], [-5.304062, 20.0], [0.0, 20.0]], [\"M\", \"C\", \"C\", \"C\", \"C\", \"C\", \"C\", \"C\", \"C\", \"Z\"]], \"id\": \"el11945140492385457432pts\", \"edgewidth\": 1, \"facecolor\": \"#D3D3D3\", \"data\": \"data09\"}], \"paths\": [], \"xlim\": [-1.4190909218078205, 1.08], \"texts\": [{\"id\": \"el11945140492385445088\", \"zorder\": 3, \"h_anchor\": \"middle\", \"color\": \"#000000\", \"fontsize\": 10.0, \"coordinates\": \"data\", \"text\": \"Burglary\", \"rotation\": -0.0, \"position\": [0.26974490019604236, 0.2509921727247743], \"v_baseline\": \"central\", \"alpha\": 1}, {\"id\": \"el11945140492385421688\", \"zorder\": 3, \"h_anchor\": \"middle\", \"color\": \"#000000\", \"fontsize\": 10.0, \"coordinates\": \"data\", \"text\": \"Earthquake\", \"rotation\": -0.0, \"position\": [-1.3390909218078204, -0.0447316633992621], \"v_baseline\": \"central\", \"alpha\": 1}, {\"id\": \"el11945140492385402776\", \"zorder\": 3, \"h_anchor\": \"middle\", \"color\": \"#000000\", \"fontsize\": 10.0, \"coordinates\": \"data\", \"text\": \"MaryCalls\", \"rotation\": -0.0, \"position\": [0.2801274516908498, 0.8679600660471458], \"v_baseline\": \"central\", \"alpha\": 1}, {\"id\": \"el11945140492385379888\", \"zorder\": 3, \"h_anchor\": \"middle\", \"color\": \"#000000\", \"fontsize\": 10.0, \"coordinates\": \"data\", \"text\": \"Alarm\", \"rotation\": -0.0, \"position\": [-0.2107814300790719, -0.7624310793799604], \"v_baseline\": \"central\", \"alpha\": 1}, {\"id\": \"el11945140492385379216\", \"zorder\": 3, \"h_anchor\": \"middle\", \"color\": \"#000000\", \"fontsize\": 10.0, \"coordinates\": \"data\", \"text\": \"JohnCalls\", \"rotation\": -0.0, \"position\": [1.0, -0.3117894959926982], \"v_baseline\": \"central\", \"alpha\": 1}], \"yscale\": \"linear\", \"images\": [], \"ylim\": [-0.8424310793799603, 0.9479600660471458], \"axesbg\": \"#FFFFFF\", \"id\": \"el11945140492420278480\", \"axes\": [{\"tickformat\": null, \"grid\": {\"gridOn\": false}, \"tickvalues\": null, \"position\": \"bottom\", \"fontsize\": 10.0, \"nticks\": 7, \"scale\": \"linear\"}, {\"tickformat\": null, \"grid\": {\"gridOn\": false}, \"tickvalues\": null, \"position\": \"left\", \"fontsize\": 10.0, \"nticks\": 5, \"scale\": \"linear\"}], \"xscale\": \"linear\", \"ydomain\": [-0.8424310793799603, 0.9479600660471458], \"axesbgalpha\": null, \"sharex\": [], \"lines\": [{\"coordinates\": \"data\", \"linewidth\": 1.0, \"yindex\": 1, \"xindex\": 0, \"zorder\": 2, \"dasharray\": \"10,0\", \"color\": \"#808080\", \"id\": \"el11945140492419920672\", \"alpha\": 1, \"data\": \"data01\"}, {\"coordinates\": \"data\", \"linewidth\": 5, \"yindex\": 1, \"xindex\": 0, \"zorder\": 2, \"dasharray\": \"10,0\", \"color\": \"#000000\", \"id\": \"el11945140492419921512\", \"alpha\": 0.5, \"data\": \"data02\"}, {\"coordinates\": \"data\", \"linewidth\": 1.0, \"yindex\": 1, \"xindex\": 0, \"zorder\": 2, \"dasharray\": \"10,0\", \"color\": \"#808080\", \"id\": \"el11945140492419923584\", \"alpha\": 1, \"data\": \"data03\"}, {\"coordinates\": \"data\", \"linewidth\": 5, \"yindex\": 1, \"xindex\": 0, \"zorder\": 2, \"dasharray\": \"10,0\", \"color\": \"#000000\", \"id\": \"el11945140492419941992\", \"alpha\": 0.5, \"data\": \"data04\"}, {\"coordinates\": \"data\", \"linewidth\": 1.0, \"yindex\": 1, \"xindex\": 0, \"zorder\": 2, \"dasharray\": \"10,0\", \"color\": \"#808080\", \"id\": \"el11945140492419943952\", \"alpha\": 1, \"data\": \"data05\"}, {\"coordinates\": \"data\", \"linewidth\": 5, \"yindex\": 1, \"xindex\": 0, \"zorder\": 2, \"dasharray\": \"10,0\", \"color\": \"#000000\", \"id\": \"el11945140492419966456\", \"alpha\": 0.5, \"data\": \"data06\"}, {\"coordinates\": \"data\", \"linewidth\": 1.0, \"yindex\": 1, \"xindex\": 0, \"zorder\": 2, \"dasharray\": \"10,0\", \"color\": \"#808080\", \"id\": \"el11945140492419968416\", \"alpha\": 1, \"data\": \"data07\"}, {\"coordinates\": \"data\", \"linewidth\": 5, \"yindex\": 1, \"xindex\": 0, \"zorder\": 2, \"dasharray\": \"10,0\", \"color\": \"#000000\", \"id\": \"el11945140492419990920\", \"alpha\": 0.5, \"data\": \"data08\"}], \"xdomain\": [-1.4190909218078205, 1.08]}], \"id\": \"el11945140492420246608\", \"width\": 960.0, \"data\": {\"data09\": [[0.26974490019604236, 0.2509921727247743], [-1.3390909218078204, -0.0447316633992621], [0.2801274516908498, 0.8679600660471458], [-0.2107814300790719, -0.7624310793799604], [1.0, -0.3117894959926982]], \"data07\": [[-0.2107814300790719, -0.7624310793799604], [1.0, -0.3117894959926982]], \"data04\": [[0.1976659506547752, 0.09897868490906411], [0.26974490019604236, 0.2509921727247743]], \"data05\": [[-0.2107814300790719, -0.7624310793799604], [0.2801274516908498, 0.8679600660471458]], \"data08\": [[0.8183827854881393, -0.3793857335007875], [1.0, -0.3117894959926982]], \"data01\": [[-1.3390909218078204, -0.0447316633992621], [-0.2107814300790719, -0.7624310793799604]], \"data03\": [[-0.2107814300790719, -0.7624310793799604], [0.26974490019604236, 0.2509921727247743]], \"data02\": [[-0.3800278538383842, -0.6547761669828556], [-0.2107814300790719, -0.7624310793799604]], \"data06\": [[0.20649111942536152, 0.6234013942330798], [0.2801274516908498, 0.8679600660471458]]}});\n",
       "   }(mpld3);\n",
       "}else if(typeof define === \"function\" && define.amd){\n",
       "   // require.js is available: use it to load d3/mpld3\n",
       "   require.config({paths: {d3: \"https://mpld3.github.io/js/d3.v3.min\"}});\n",
       "   require([\"d3\"], function(d3){\n",
       "      window.d3 = d3;\n",
       "      mpld3_load_lib(\"https://mpld3.github.io/js/mpld3.v0.2.js\", function(){\n",
       "         \n",
       "    mpld3.register_plugin(\"htmltooltip\", HtmlTooltipPlugin);\n",
       "    HtmlTooltipPlugin.prototype = Object.create(mpld3.Plugin.prototype);\n",
       "    HtmlTooltipPlugin.prototype.constructor = HtmlTooltipPlugin;\n",
       "    HtmlTooltipPlugin.prototype.requiredProps = [\"id\"];\n",
       "    HtmlTooltipPlugin.prototype.defaultProps = {labels:null, hoffset:0, voffset:10};\n",
       "    function HtmlTooltipPlugin(fig, props){\n",
       "        mpld3.Plugin.call(this, fig, props);\n",
       "    };\n",
       "\n",
       "    HtmlTooltipPlugin.prototype.draw = function(){\n",
       "       var obj = mpld3.get_element(this.props.id);\n",
       "       var labels = this.props.labels;\n",
       "       var tooltip = d3.select(\"body\").append(\"div\")\n",
       "                    .attr(\"class\", \"mpld3-tooltip\")\n",
       "                    .style(\"position\", \"absolute\")\n",
       "                    .style(\"z-index\", \"10\")\n",
       "                    .style(\"visibility\", \"hidden\");\n",
       "\n",
       "       obj.elements()\n",
       "           .on(\"mouseover\", function(d, i){\n",
       "                              tooltip.html(labels[i])\n",
       "                                     .style(\"visibility\", \"visible\");})\n",
       "           .on(\"mousemove\", function(d, i){\n",
       "                    tooltip\n",
       "                      .style(\"top\", d3.event.pageY + this.props.voffset + \"px\")\n",
       "                      .style(\"left\",d3.event.pageX + this.props.hoffset + \"px\");\n",
       "                 }.bind(this))\n",
       "           .on(\"mouseout\",  function(d, i){\n",
       "                           tooltip.style(\"visibility\", \"hidden\");});\n",
       "    };\n",
       "    \n",
       "         mpld3.draw_figure(\"fig_el119451404924202466085153003090\", {\"height\": 640.0, \"plugins\": [{\"type\": \"reset\"}, {\"enabled\": false, \"type\": \"zoom\", \"button\": true}, {\"enabled\": false, \"type\": \"boxzoom\", \"button\": true}, {\"labels\": [], \"type\": \"htmltooltip\", \"voffset\": 10, \"id\": \"el11945140492385457432pts\", \"hoffset\": 10}], \"axes\": [{\"bbox\": [0.125, 0.125, 0.775, 0.775], \"sharey\": [], \"zoomable\": true, \"collections\": [], \"markers\": [{\"coordinates\": \"data\", \"edgecolor\": \"#000000\", \"yindex\": 1, \"xindex\": 0, \"alpha\": 1.0, \"zorder\": 2, \"markerpath\": [[[0.0, 10.0], [2.652031, 10.0], [5.195798707848534, 8.946336915882418], [7.0710678118654755, 7.0710678118654755], [8.946336915882418, 5.195798707848534], [10.0, 2.652031], [10.0, 0.0], [10.0, -2.652031], [8.946336915882418, -5.195798707848534], [7.0710678118654755, -7.0710678118654755], [5.195798707848534, -8.946336915882418], [2.652031, -10.0], [0.0, -10.0], [-2.652031, -10.0], [-5.195798707848534, -8.946336915882418], [-7.0710678118654755, -7.0710678118654755], [-8.946336915882418, -5.195798707848534], [-10.0, -2.652031], [-10.0, 0.0], [-10.0, 2.652031], [-8.946336915882418, 5.195798707848534], [-7.0710678118654755, 7.0710678118654755], [-5.195798707848534, 8.946336915882418], [-2.652031, 10.0], [0.0, 10.0]], [\"M\", \"C\", \"C\", \"C\", \"C\", \"C\", \"C\", \"C\", \"C\", \"Z\"]], \"id\": \"el11945140492419920616pts\", \"edgewidth\": 1, \"facecolor\": \"#D3D3D3\", \"data\": \"data09\"}, {\"coordinates\": \"data\", \"edgecolor\": \"#000000\", \"yindex\": 1, \"xindex\": 0, \"alpha\": 0.0, \"zorder\": 2, \"markerpath\": [[[0.0, 20.0], [5.304062, 20.0], [10.391597415697069, 17.892673831764835], [14.142135623730951, 14.142135623730951], [17.892673831764835, 10.391597415697069], [20.0, 5.304062], [20.0, 0.0], [20.0, -5.304062], [17.892673831764835, -10.391597415697069], [14.142135623730951, -14.142135623730951], [10.391597415697069, -17.892673831764835], [5.304062, -20.0], [0.0, -20.0], [-5.304062, -20.0], [-10.391597415697069, -17.892673831764835], [-14.142135623730951, -14.142135623730951], [-17.892673831764835, -10.391597415697069], [-20.0, -5.304062], [-20.0, 0.0], [-20.0, 5.304062], [-17.892673831764835, 10.391597415697069], [-14.142135623730951, 14.142135623730951], [-10.391597415697069, 17.892673831764835], [-5.304062, 20.0], [0.0, 20.0]], [\"M\", \"C\", \"C\", \"C\", \"C\", \"C\", \"C\", \"C\", \"C\", \"Z\"]], \"id\": \"el11945140492385457432pts\", \"edgewidth\": 1, \"facecolor\": \"#D3D3D3\", \"data\": \"data09\"}], \"paths\": [], \"xlim\": [-1.4190909218078205, 1.08], \"texts\": [{\"id\": \"el11945140492385445088\", \"zorder\": 3, \"h_anchor\": \"middle\", \"color\": \"#000000\", \"fontsize\": 10.0, \"coordinates\": \"data\", \"text\": \"Burglary\", \"rotation\": -0.0, \"position\": [0.26974490019604236, 0.2509921727247743], \"v_baseline\": \"central\", \"alpha\": 1}, {\"id\": \"el11945140492385421688\", \"zorder\": 3, \"h_anchor\": \"middle\", \"color\": \"#000000\", \"fontsize\": 10.0, \"coordinates\": \"data\", \"text\": \"Earthquake\", \"rotation\": -0.0, \"position\": [-1.3390909218078204, -0.0447316633992621], \"v_baseline\": \"central\", \"alpha\": 1}, {\"id\": \"el11945140492385402776\", \"zorder\": 3, \"h_anchor\": \"middle\", \"color\": \"#000000\", \"fontsize\": 10.0, \"coordinates\": \"data\", \"text\": \"MaryCalls\", \"rotation\": -0.0, \"position\": [0.2801274516908498, 0.8679600660471458], \"v_baseline\": \"central\", \"alpha\": 1}, {\"id\": \"el11945140492385379888\", \"zorder\": 3, \"h_anchor\": \"middle\", \"color\": \"#000000\", \"fontsize\": 10.0, \"coordinates\": \"data\", \"text\": \"Alarm\", \"rotation\": -0.0, \"position\": [-0.2107814300790719, -0.7624310793799604], \"v_baseline\": \"central\", \"alpha\": 1}, {\"id\": \"el11945140492385379216\", \"zorder\": 3, \"h_anchor\": \"middle\", \"color\": \"#000000\", \"fontsize\": 10.0, \"coordinates\": \"data\", \"text\": \"JohnCalls\", \"rotation\": -0.0, \"position\": [1.0, -0.3117894959926982], \"v_baseline\": \"central\", \"alpha\": 1}], \"yscale\": \"linear\", \"images\": [], \"ylim\": [-0.8424310793799603, 0.9479600660471458], \"axesbg\": \"#FFFFFF\", \"id\": \"el11945140492420278480\", \"axes\": [{\"tickformat\": null, \"grid\": {\"gridOn\": false}, \"tickvalues\": null, \"position\": \"bottom\", \"fontsize\": 10.0, \"nticks\": 7, \"scale\": \"linear\"}, {\"tickformat\": null, \"grid\": {\"gridOn\": false}, \"tickvalues\": null, \"position\": \"left\", \"fontsize\": 10.0, \"nticks\": 5, \"scale\": \"linear\"}], \"xscale\": \"linear\", \"ydomain\": [-0.8424310793799603, 0.9479600660471458], \"axesbgalpha\": null, \"sharex\": [], \"lines\": [{\"coordinates\": \"data\", \"linewidth\": 1.0, \"yindex\": 1, \"xindex\": 0, \"zorder\": 2, \"dasharray\": \"10,0\", \"color\": \"#808080\", \"id\": \"el11945140492419920672\", \"alpha\": 1, \"data\": \"data01\"}, {\"coordinates\": \"data\", \"linewidth\": 5, \"yindex\": 1, \"xindex\": 0, \"zorder\": 2, \"dasharray\": \"10,0\", \"color\": \"#000000\", \"id\": \"el11945140492419921512\", \"alpha\": 0.5, \"data\": \"data02\"}, {\"coordinates\": \"data\", \"linewidth\": 1.0, \"yindex\": 1, \"xindex\": 0, \"zorder\": 2, \"dasharray\": \"10,0\", \"color\": \"#808080\", \"id\": \"el11945140492419923584\", \"alpha\": 1, \"data\": \"data03\"}, {\"coordinates\": \"data\", \"linewidth\": 5, \"yindex\": 1, \"xindex\": 0, \"zorder\": 2, \"dasharray\": \"10,0\", \"color\": \"#000000\", \"id\": \"el11945140492419941992\", \"alpha\": 0.5, \"data\": \"data04\"}, {\"coordinates\": \"data\", \"linewidth\": 1.0, \"yindex\": 1, \"xindex\": 0, \"zorder\": 2, \"dasharray\": \"10,0\", \"color\": \"#808080\", \"id\": \"el11945140492419943952\", \"alpha\": 1, \"data\": \"data05\"}, {\"coordinates\": \"data\", \"linewidth\": 5, \"yindex\": 1, \"xindex\": 0, \"zorder\": 2, \"dasharray\": \"10,0\", \"color\": \"#000000\", \"id\": \"el11945140492419966456\", \"alpha\": 0.5, \"data\": \"data06\"}, {\"coordinates\": \"data\", \"linewidth\": 1.0, \"yindex\": 1, \"xindex\": 0, \"zorder\": 2, \"dasharray\": \"10,0\", \"color\": \"#808080\", \"id\": \"el11945140492419968416\", \"alpha\": 1, \"data\": \"data07\"}, {\"coordinates\": \"data\", \"linewidth\": 5, \"yindex\": 1, \"xindex\": 0, \"zorder\": 2, \"dasharray\": \"10,0\", \"color\": \"#000000\", \"id\": \"el11945140492419990920\", \"alpha\": 0.5, \"data\": \"data08\"}], \"xdomain\": [-1.4190909218078205, 1.08]}], \"id\": \"el11945140492420246608\", \"width\": 960.0, \"data\": {\"data09\": [[0.26974490019604236, 0.2509921727247743], [-1.3390909218078204, -0.0447316633992621], [0.2801274516908498, 0.8679600660471458], [-0.2107814300790719, -0.7624310793799604], [1.0, -0.3117894959926982]], \"data07\": [[-0.2107814300790719, -0.7624310793799604], [1.0, -0.3117894959926982]], \"data04\": [[0.1976659506547752, 0.09897868490906411], [0.26974490019604236, 0.2509921727247743]], \"data05\": [[-0.2107814300790719, -0.7624310793799604], [0.2801274516908498, 0.8679600660471458]], \"data08\": [[0.8183827854881393, -0.3793857335007875], [1.0, -0.3117894959926982]], \"data01\": [[-1.3390909218078204, -0.0447316633992621], [-0.2107814300790719, -0.7624310793799604]], \"data03\": [[-0.2107814300790719, -0.7624310793799604], [0.26974490019604236, 0.2509921727247743]], \"data02\": [[-0.3800278538383842, -0.6547761669828556], [-0.2107814300790719, -0.7624310793799604]], \"data06\": [[0.20649111942536152, 0.6234013942330798], [0.2801274516908498, 0.8679600660471458]]}});\n",
       "      });\n",
       "    });\n",
       "}else{\n",
       "    // require.js not available: dynamically load d3 & mpld3\n",
       "    mpld3_load_lib(\"https://mpld3.github.io/js/d3.v3.min.js\", function(){\n",
       "         mpld3_load_lib(\"https://mpld3.github.io/js/mpld3.v0.2.js\", function(){\n",
       "                 \n",
       "    mpld3.register_plugin(\"htmltooltip\", HtmlTooltipPlugin);\n",
       "    HtmlTooltipPlugin.prototype = Object.create(mpld3.Plugin.prototype);\n",
       "    HtmlTooltipPlugin.prototype.constructor = HtmlTooltipPlugin;\n",
       "    HtmlTooltipPlugin.prototype.requiredProps = [\"id\"];\n",
       "    HtmlTooltipPlugin.prototype.defaultProps = {labels:null, hoffset:0, voffset:10};\n",
       "    function HtmlTooltipPlugin(fig, props){\n",
       "        mpld3.Plugin.call(this, fig, props);\n",
       "    };\n",
       "\n",
       "    HtmlTooltipPlugin.prototype.draw = function(){\n",
       "       var obj = mpld3.get_element(this.props.id);\n",
       "       var labels = this.props.labels;\n",
       "       var tooltip = d3.select(\"body\").append(\"div\")\n",
       "                    .attr(\"class\", \"mpld3-tooltip\")\n",
       "                    .style(\"position\", \"absolute\")\n",
       "                    .style(\"z-index\", \"10\")\n",
       "                    .style(\"visibility\", \"hidden\");\n",
       "\n",
       "       obj.elements()\n",
       "           .on(\"mouseover\", function(d, i){\n",
       "                              tooltip.html(labels[i])\n",
       "                                     .style(\"visibility\", \"visible\");})\n",
       "           .on(\"mousemove\", function(d, i){\n",
       "                    tooltip\n",
       "                      .style(\"top\", d3.event.pageY + this.props.voffset + \"px\")\n",
       "                      .style(\"left\",d3.event.pageX + this.props.hoffset + \"px\");\n",
       "                 }.bind(this))\n",
       "           .on(\"mouseout\",  function(d, i){\n",
       "                           tooltip.style(\"visibility\", \"hidden\");});\n",
       "    };\n",
       "    \n",
       "                 mpld3.draw_figure(\"fig_el119451404924202466085153003090\", {\"height\": 640.0, \"plugins\": [{\"type\": \"reset\"}, {\"enabled\": false, \"type\": \"zoom\", \"button\": true}, {\"enabled\": false, \"type\": \"boxzoom\", \"button\": true}, {\"labels\": [], \"type\": \"htmltooltip\", \"voffset\": 10, \"id\": \"el11945140492385457432pts\", \"hoffset\": 10}], \"axes\": [{\"bbox\": [0.125, 0.125, 0.775, 0.775], \"sharey\": [], \"zoomable\": true, \"collections\": [], \"markers\": [{\"coordinates\": \"data\", \"edgecolor\": \"#000000\", \"yindex\": 1, \"xindex\": 0, \"alpha\": 1.0, \"zorder\": 2, \"markerpath\": [[[0.0, 10.0], [2.652031, 10.0], [5.195798707848534, 8.946336915882418], [7.0710678118654755, 7.0710678118654755], [8.946336915882418, 5.195798707848534], [10.0, 2.652031], [10.0, 0.0], [10.0, -2.652031], [8.946336915882418, -5.195798707848534], [7.0710678118654755, -7.0710678118654755], [5.195798707848534, -8.946336915882418], [2.652031, -10.0], [0.0, -10.0], [-2.652031, -10.0], [-5.195798707848534, -8.946336915882418], [-7.0710678118654755, -7.0710678118654755], [-8.946336915882418, -5.195798707848534], [-10.0, -2.652031], [-10.0, 0.0], [-10.0, 2.652031], [-8.946336915882418, 5.195798707848534], [-7.0710678118654755, 7.0710678118654755], [-5.195798707848534, 8.946336915882418], [-2.652031, 10.0], [0.0, 10.0]], [\"M\", \"C\", \"C\", \"C\", \"C\", \"C\", \"C\", \"C\", \"C\", \"Z\"]], \"id\": \"el11945140492419920616pts\", \"edgewidth\": 1, \"facecolor\": \"#D3D3D3\", \"data\": \"data09\"}, {\"coordinates\": \"data\", \"edgecolor\": \"#000000\", \"yindex\": 1, \"xindex\": 0, \"alpha\": 0.0, \"zorder\": 2, \"markerpath\": [[[0.0, 20.0], [5.304062, 20.0], [10.391597415697069, 17.892673831764835], [14.142135623730951, 14.142135623730951], [17.892673831764835, 10.391597415697069], [20.0, 5.304062], [20.0, 0.0], [20.0, -5.304062], [17.892673831764835, -10.391597415697069], [14.142135623730951, -14.142135623730951], [10.391597415697069, -17.892673831764835], [5.304062, -20.0], [0.0, -20.0], [-5.304062, -20.0], [-10.391597415697069, -17.892673831764835], [-14.142135623730951, -14.142135623730951], [-17.892673831764835, -10.391597415697069], [-20.0, -5.304062], [-20.0, 0.0], [-20.0, 5.304062], [-17.892673831764835, 10.391597415697069], [-14.142135623730951, 14.142135623730951], [-10.391597415697069, 17.892673831764835], [-5.304062, 20.0], [0.0, 20.0]], [\"M\", \"C\", \"C\", \"C\", \"C\", \"C\", \"C\", \"C\", \"C\", \"Z\"]], \"id\": \"el11945140492385457432pts\", \"edgewidth\": 1, \"facecolor\": \"#D3D3D3\", \"data\": \"data09\"}], \"paths\": [], \"xlim\": [-1.4190909218078205, 1.08], \"texts\": [{\"id\": \"el11945140492385445088\", \"zorder\": 3, \"h_anchor\": \"middle\", \"color\": \"#000000\", \"fontsize\": 10.0, \"coordinates\": \"data\", \"text\": \"Burglary\", \"rotation\": -0.0, \"position\": [0.26974490019604236, 0.2509921727247743], \"v_baseline\": \"central\", \"alpha\": 1}, {\"id\": \"el11945140492385421688\", \"zorder\": 3, \"h_anchor\": \"middle\", \"color\": \"#000000\", \"fontsize\": 10.0, \"coordinates\": \"data\", \"text\": \"Earthquake\", \"rotation\": -0.0, \"position\": [-1.3390909218078204, -0.0447316633992621], \"v_baseline\": \"central\", \"alpha\": 1}, {\"id\": \"el11945140492385402776\", \"zorder\": 3, \"h_anchor\": \"middle\", \"color\": \"#000000\", \"fontsize\": 10.0, \"coordinates\": \"data\", \"text\": \"MaryCalls\", \"rotation\": -0.0, \"position\": [0.2801274516908498, 0.8679600660471458], \"v_baseline\": \"central\", \"alpha\": 1}, {\"id\": \"el11945140492385379888\", \"zorder\": 3, \"h_anchor\": \"middle\", \"color\": \"#000000\", \"fontsize\": 10.0, \"coordinates\": \"data\", \"text\": \"Alarm\", \"rotation\": -0.0, \"position\": [-0.2107814300790719, -0.7624310793799604], \"v_baseline\": \"central\", \"alpha\": 1}, {\"id\": \"el11945140492385379216\", \"zorder\": 3, \"h_anchor\": \"middle\", \"color\": \"#000000\", \"fontsize\": 10.0, \"coordinates\": \"data\", \"text\": \"JohnCalls\", \"rotation\": -0.0, \"position\": [1.0, -0.3117894959926982], \"v_baseline\": \"central\", \"alpha\": 1}], \"yscale\": \"linear\", \"images\": [], \"ylim\": [-0.8424310793799603, 0.9479600660471458], \"axesbg\": \"#FFFFFF\", \"id\": \"el11945140492420278480\", \"axes\": [{\"tickformat\": null, \"grid\": {\"gridOn\": false}, \"tickvalues\": null, \"position\": \"bottom\", \"fontsize\": 10.0, \"nticks\": 7, \"scale\": \"linear\"}, {\"tickformat\": null, \"grid\": {\"gridOn\": false}, \"tickvalues\": null, \"position\": \"left\", \"fontsize\": 10.0, \"nticks\": 5, \"scale\": \"linear\"}], \"xscale\": \"linear\", \"ydomain\": [-0.8424310793799603, 0.9479600660471458], \"axesbgalpha\": null, \"sharex\": [], \"lines\": [{\"coordinates\": \"data\", \"linewidth\": 1.0, \"yindex\": 1, \"xindex\": 0, \"zorder\": 2, \"dasharray\": \"10,0\", \"color\": \"#808080\", \"id\": \"el11945140492419920672\", \"alpha\": 1, \"data\": \"data01\"}, {\"coordinates\": \"data\", \"linewidth\": 5, \"yindex\": 1, \"xindex\": 0, \"zorder\": 2, \"dasharray\": \"10,0\", \"color\": \"#000000\", \"id\": \"el11945140492419921512\", \"alpha\": 0.5, \"data\": \"data02\"}, {\"coordinates\": \"data\", \"linewidth\": 1.0, \"yindex\": 1, \"xindex\": 0, \"zorder\": 2, \"dasharray\": \"10,0\", \"color\": \"#808080\", \"id\": \"el11945140492419923584\", \"alpha\": 1, \"data\": \"data03\"}, {\"coordinates\": \"data\", \"linewidth\": 5, \"yindex\": 1, \"xindex\": 0, \"zorder\": 2, \"dasharray\": \"10,0\", \"color\": \"#000000\", \"id\": \"el11945140492419941992\", \"alpha\": 0.5, \"data\": \"data04\"}, {\"coordinates\": \"data\", \"linewidth\": 1.0, \"yindex\": 1, \"xindex\": 0, \"zorder\": 2, \"dasharray\": \"10,0\", \"color\": \"#808080\", \"id\": \"el11945140492419943952\", \"alpha\": 1, \"data\": \"data05\"}, {\"coordinates\": \"data\", \"linewidth\": 5, \"yindex\": 1, \"xindex\": 0, \"zorder\": 2, \"dasharray\": \"10,0\", \"color\": \"#000000\", \"id\": \"el11945140492419966456\", \"alpha\": 0.5, \"data\": \"data06\"}, {\"coordinates\": \"data\", \"linewidth\": 1.0, \"yindex\": 1, \"xindex\": 0, \"zorder\": 2, \"dasharray\": \"10,0\", \"color\": \"#808080\", \"id\": \"el11945140492419968416\", \"alpha\": 1, \"data\": \"data07\"}, {\"coordinates\": \"data\", \"linewidth\": 5, \"yindex\": 1, \"xindex\": 0, \"zorder\": 2, \"dasharray\": \"10,0\", \"color\": \"#000000\", \"id\": \"el11945140492419990920\", \"alpha\": 0.5, \"data\": \"data08\"}], \"xdomain\": [-1.4190909218078205, 1.08]}], \"id\": \"el11945140492420246608\", \"width\": 960.0, \"data\": {\"data09\": [[0.26974490019604236, 0.2509921727247743], [-1.3390909218078204, -0.0447316633992621], [0.2801274516908498, 0.8679600660471458], [-0.2107814300790719, -0.7624310793799604], [1.0, -0.3117894959926982]], \"data07\": [[-0.2107814300790719, -0.7624310793799604], [1.0, -0.3117894959926982]], \"data04\": [[0.1976659506547752, 0.09897868490906411], [0.26974490019604236, 0.2509921727247743]], \"data05\": [[-0.2107814300790719, -0.7624310793799604], [0.2801274516908498, 0.8679600660471458]], \"data08\": [[0.8183827854881393, -0.3793857335007875], [1.0, -0.3117894959926982]], \"data01\": [[-1.3390909218078204, -0.0447316633992621], [-0.2107814300790719, -0.7624310793799604]], \"data03\": [[-0.2107814300790719, -0.7624310793799604], [0.26974490019604236, 0.2509921727247743]], \"data02\": [[-0.3800278538383842, -0.6547761669828556], [-0.2107814300790719, -0.7624310793799604]], \"data06\": [[0.20649111942536152, 0.6234013942330798], [0.2801274516908498, 0.8679600660471458]]}});\n",
       "            })\n",
       "         });\n",
       "}\n",
       "</script>"
      ],
      "text/plain": [
       "<IPython.core.display.HTML object>"
      ]
     },
     "execution_count": 47,
     "metadata": {},
     "output_type": "execute_result"
    }
   ],
   "source": [
    "learned.draw()"
   ]
  },
  {
   "cell_type": "markdown",
   "metadata": {},
   "source": [
    "You can see that the Chow-Liu algorithm didn't find the true structure (since it is not a tree). However, the result is quite close to it."
   ]
  },
  {
   "cell_type": "markdown",
   "metadata": {},
   "source": [
    "## Random DGM Generation"
   ]
  },
  {
   "cell_type": "code",
   "execution_count": 48,
   "metadata": {
    "collapsed": false
   },
   "outputs": [],
   "source": [
    "gen = gm.ErdosRenyiDGMGen(factor_gen=gm.DirichletTableFactorGen())"
   ]
  },
  {
   "cell_type": "code",
   "execution_count": 50,
   "metadata": {
    "collapsed": false
   },
   "outputs": [
    {
     "data": {
      "text/html": [
       "\n",
       "\n",
       "<style>\n",
       "\n",
       "table\n",
       "{\n",
       "  border-collapse: collapse;\n",
       "}\n",
       "th\n",
       "{\n",
       "  color: #ffffff;\n",
       "  background-color: #000000;\n",
       "}\n",
       "td\n",
       "{\n",
       "  background-color: #cccccc;\n",
       "}\n",
       "table, th, td\n",
       "{\n",
       "  font-family:Arial, Helvetica, sans-serif;\n",
       "  border: 1px solid black;\n",
       "  text-align: center;\n",
       "  padding: 3px;\n",
       "  font-size:11pt;\n",
       "}\n",
       "g.mpld3-xaxis, g.mpld3-yaxis {\n",
       "    display: none;\n",
       "}\n",
       "    \n",
       "</style>\n",
       "\n",
       "<div id=\"fig_el119451404924189625447224875993\"></div>\n",
       "<script>\n",
       "function mpld3_load_lib(url, callback){\n",
       "  var s = document.createElement('script');\n",
       "  s.src = url;\n",
       "  s.async = true;\n",
       "  s.onreadystatechange = s.onload = callback;\n",
       "  s.onerror = function(){console.warn(\"failed to load library \" + url);};\n",
       "  document.getElementsByTagName(\"head\")[0].appendChild(s);\n",
       "}\n",
       "\n",
       "if(typeof(mpld3) !== \"undefined\" && mpld3._mpld3IsLoaded){\n",
       "   // already loaded: just create the figure\n",
       "   !function(mpld3){\n",
       "       \n",
       "    mpld3.register_plugin(\"htmltooltip\", HtmlTooltipPlugin);\n",
       "    HtmlTooltipPlugin.prototype = Object.create(mpld3.Plugin.prototype);\n",
       "    HtmlTooltipPlugin.prototype.constructor = HtmlTooltipPlugin;\n",
       "    HtmlTooltipPlugin.prototype.requiredProps = [\"id\"];\n",
       "    HtmlTooltipPlugin.prototype.defaultProps = {labels:null, hoffset:0, voffset:10};\n",
       "    function HtmlTooltipPlugin(fig, props){\n",
       "        mpld3.Plugin.call(this, fig, props);\n",
       "    };\n",
       "\n",
       "    HtmlTooltipPlugin.prototype.draw = function(){\n",
       "       var obj = mpld3.get_element(this.props.id);\n",
       "       var labels = this.props.labels;\n",
       "       var tooltip = d3.select(\"body\").append(\"div\")\n",
       "                    .attr(\"class\", \"mpld3-tooltip\")\n",
       "                    .style(\"position\", \"absolute\")\n",
       "                    .style(\"z-index\", \"10\")\n",
       "                    .style(\"visibility\", \"hidden\");\n",
       "\n",
       "       obj.elements()\n",
       "           .on(\"mouseover\", function(d, i){\n",
       "                              tooltip.html(labels[i])\n",
       "                                     .style(\"visibility\", \"visible\");})\n",
       "           .on(\"mousemove\", function(d, i){\n",
       "                    tooltip\n",
       "                      .style(\"top\", d3.event.pageY + this.props.voffset + \"px\")\n",
       "                      .style(\"left\",d3.event.pageX + this.props.hoffset + \"px\");\n",
       "                 }.bind(this))\n",
       "           .on(\"mouseout\",  function(d, i){\n",
       "                           tooltip.style(\"visibility\", \"hidden\");});\n",
       "    };\n",
       "    \n",
       "       mpld3.draw_figure(\"fig_el119451404924189625447224875993\", {\"height\": 640.0, \"plugins\": [{\"type\": \"reset\"}, {\"enabled\": false, \"type\": \"zoom\", \"button\": true}, {\"enabled\": false, \"type\": \"boxzoom\", \"button\": true}, {\"labels\": [\"<table border=\\\"1\\\" cellpadding=\\\"4\\\" cellspacing=\\\"0\\\" bordercolor=\\\"#000000\\\">\\n<tr bgcolor=\\\"#AAAAAA\\\">\\n<th align=\\\"center\\\">0</th>\\n<th align=\\\"center\\\">Prob.</th>\\n</tr>\\n<tr>\\n<td bgcolor=#FFFFFF>0</td>\\n<td bgcolor=#bedbd4>0.185</td>\\n</tr>\\n<tr>\\n<td bgcolor=#FFFFFF>1</td>\\n<td bgcolor=#f1d9d5>0.815</td>\\n</tr>\\n</table>\", \"<table border=\\\"1\\\" cellpadding=\\\"4\\\" cellspacing=\\\"0\\\" bordercolor=\\\"#000000\\\">\\n<tr bgcolor=\\\"#AAAAAA\\\">\\n<th align=\\\"center\\\">0</th>\\n<th align=\\\"center\\\">1</th>\\n<th align=\\\"center\\\">Prob.</th>\\n</tr>\\n<tr>\\n<td bgcolor=#FFFFFF>0</td>\\n<td bgcolor=#FFFFFF>0</td>\\n<td bgcolor=#cee5ca>0.271</td>\\n</tr>\\n<tr>\\n<td bgcolor=#FFFFFF>0</td>\\n<td bgcolor=#FFFFFF>1</td>\\n<td bgcolor=#e9debf>0.729</td>\\n</tr>\\n<tr>\\n<td bgcolor=#FFFFFF>1</td>\\n<td bgcolor=#FFFFFF>0</td>\\n<td bgcolor=#b4cce1>0.124</td>\\n</tr>\\n<tr>\\n<td bgcolor=#FFFFFF>1</td>\\n<td bgcolor=#FFFFFF>1</td>\\n<td bgcolor=#fcdaec>0.876</td>\\n</tr>\\n</table>\", \"<table border=\\\"1\\\" cellpadding=\\\"4\\\" cellspacing=\\\"0\\\" bordercolor=\\\"#000000\\\">\\n<tr bgcolor=\\\"#AAAAAA\\\">\\n<th align=\\\"center\\\">0</th>\\n<th align=\\\"center\\\">1</th>\\n<th align=\\\"center\\\">2</th>\\n<th align=\\\"center\\\">Prob.</th>\\n</tr>\\n<tr>\\n<td bgcolor=#FFFFFF>0</td>\\n<td bgcolor=#FFFFFF>0</td>\\n<td bgcolor=#FFFFFF>0</td>\\n<td bgcolor=#b9cade>0.114</td>\\n</tr>\\n<tr>\\n<td bgcolor=#FFFFFF>0</td>\\n<td bgcolor=#FFFFFF>0</td>\\n<td bgcolor=#FFFFFF>1</td>\\n<td bgcolor=#fcdcec>0.886</td>\\n</tr>\\n<tr>\\n<td bgcolor=#FFFFFF>0</td>\\n<td bgcolor=#FFFFFF>1</td>\\n<td bgcolor=#FFFFFF>0</td>\\n<td bgcolor=#fcd9ea>0.869</td>\\n</tr>\\n<tr>\\n<td bgcolor=#FFFFFF>0</td>\\n<td bgcolor=#FFFFFF>1</td>\\n<td bgcolor=#FFFFFF>1</td>\\n<td bgcolor=#b3cee1>0.131</td>\\n</tr>\\n<tr>\\n<td bgcolor=#FFFFFF>1</td>\\n<td bgcolor=#FFFFFF>0</td>\\n<td bgcolor=#FFFFFF>0</td>\\n<td bgcolor=#c9e8c7>0.242</td>\\n</tr>\\n<tr>\\n<td bgcolor=#FFFFFF>1</td>\\n<td bgcolor=#FFFFFF>0</td>\\n<td bgcolor=#FFFFFF>1</td>\\n<td bgcolor=#e7d8c1>0.758</td>\\n</tr>\\n<tr>\\n<td bgcolor=#FFFFFF>1</td>\\n<td bgcolor=#FFFFFF>1</td>\\n<td bgcolor=#FFFFFF>0</td>\\n<td bgcolor=#e7dbbe>0.737</td>\\n</tr>\\n<tr>\\n<td bgcolor=#FFFFFF>1</td>\\n<td bgcolor=#FFFFFF>1</td>\\n<td bgcolor=#FFFFFF>1</td>\\n<td bgcolor=#cde7c8>0.263</td>\\n</tr>\\n</table>\", \"<table border=\\\"1\\\" cellpadding=\\\"4\\\" cellspacing=\\\"0\\\" bordercolor=\\\"#000000\\\">\\n<tr bgcolor=\\\"#AAAAAA\\\">\\n<th align=\\\"center\\\">1</th>\\n<th align=\\\"center\\\">3</th>\\n<th align=\\\"center\\\">Prob.</th>\\n</tr>\\n<tr>\\n<td bgcolor=#FFFFFF>0</td>\\n<td bgcolor=#FFFFFF>0</td>\\n<td bgcolor=#d4c1ca>0.067</td>\\n</tr>\\n<tr>\\n<td bgcolor=#FFFFFF>0</td>\\n<td bgcolor=#FFFFFF>1</td>\\n<td bgcolor=#f7e5ee>0.933</td>\\n</tr>\\n<tr>\\n<td bgcolor=#FFFFFF>1</td>\\n<td bgcolor=#FFFFFF>0</td>\\n<td bgcolor=#bec9da>0.109</td>\\n</tr>\\n<tr>\\n<td bgcolor=#FFFFFF>1</td>\\n<td bgcolor=#FFFFFF>1</td>\\n<td bgcolor=#fbddec>0.891</td>\\n</tr>\\n</table>\", \"<table border=\\\"1\\\" cellpadding=\\\"4\\\" cellspacing=\\\"0\\\" bordercolor=\\\"#000000\\\">\\n<tr bgcolor=\\\"#AAAAAA\\\">\\n<th align=\\\"center\\\">0</th>\\n<th align=\\\"center\\\">1</th>\\n<th align=\\\"center\\\">2</th>\\n<th align=\\\"center\\\">3</th>\\n<th align=\\\"center\\\">4</th>\\n<th align=\\\"center\\\">Prob.</th>\\n</tr>\\n<tr>\\n<td bgcolor=#FFFFFF>0</td>\\n<td bgcolor=#FFFFFF>0</td>\\n<td bgcolor=#FFFFFF>0</td>\\n<td bgcolor=#FFFFFF>0</td>\\n<td bgcolor=#FFFFFF>0</td>\\n<td bgcolor=#fbdcec>0.887</td>\\n</tr>\\n<tr>\\n<td bgcolor=#FFFFFF>0</td>\\n<td bgcolor=#FFFFFF>0</td>\\n<td bgcolor=#FFFFFF>0</td>\\n<td bgcolor=#FFFFFF>0</td>\\n<td bgcolor=#FFFFFF>1</td>\\n<td bgcolor=#bbc9dc>0.113</td>\\n</tr>\\n<tr>\\n<td bgcolor=#FFFFFF>0</td>\\n<td bgcolor=#FFFFFF>0</td>\\n<td bgcolor=#FFFFFF>0</td>\\n<td bgcolor=#FFFFFF>1</td>\\n<td bgcolor=#FFFFFF>0</td>\\n<td bgcolor=#f4b6b2>0.012</td>\\n</tr>\\n<tr>\\n<td bgcolor=#FFFFFF>0</td>\\n<td bgcolor=#FFFFFF>0</td>\\n<td bgcolor=#FFFFFF>0</td>\\n<td bgcolor=#FFFFFF>1</td>\\n<td bgcolor=#FFFFFF>1</td>\\n<td bgcolor=#f3eff1>0.988</td>\\n</tr>\\n<tr>\\n<td bgcolor=#FFFFFF>0</td>\\n<td bgcolor=#FFFFFF>0</td>\\n<td bgcolor=#FFFFFF>1</td>\\n<td bgcolor=#FFFFFF>0</td>\\n<td bgcolor=#FFFFFF>0</td>\\n<td bgcolor=#faf8c9>0.646</td>\\n</tr>\\n<tr>\\n<td bgcolor=#FFFFFF>0</td>\\n<td bgcolor=#FFFFFF>0</td>\\n<td bgcolor=#FFFFFF>1</td>\\n<td bgcolor=#FFFFFF>0</td>\\n<td bgcolor=#FFFFFF>1</td>\\n<td bgcolor=#dad0de>0.354</td>\\n</tr>\\n<tr>\\n<td bgcolor=#FFFFFF>0</td>\\n<td bgcolor=#FFFFFF>0</td>\\n<td bgcolor=#FFFFFF>1</td>\\n<td bgcolor=#FFFFFF>1</td>\\n<td bgcolor=#FFFFFF>0</td>\\n<td bgcolor=#f5ebf0>0.964</td>\\n</tr>\\n<tr>\\n<td bgcolor=#FFFFFF>0</td>\\n<td bgcolor=#FFFFFF>0</td>\\n<td bgcolor=#FFFFFF>1</td>\\n<td bgcolor=#FFFFFF>1</td>\\n<td bgcolor=#FFFFFF>1</td>\\n<td bgcolor=#e6bbbc>0.036</td>\\n</tr>\\n<tr>\\n<td bgcolor=#FFFFFF>0</td>\\n<td bgcolor=#FFFFFF>1</td>\\n<td bgcolor=#FFFFFF>0</td>\\n<td bgcolor=#FFFFFF>0</td>\\n<td bgcolor=#FFFFFF>0</td>\\n<td bgcolor=#b5cfe0>0.138</td>\\n</tr>\\n<tr>\\n<td bgcolor=#FFFFFF>0</td>\\n<td bgcolor=#FFFFFF>1</td>\\n<td bgcolor=#FFFFFF>0</td>\\n<td bgcolor=#FFFFFF>0</td>\\n<td bgcolor=#FFFFFF>1</td>\\n<td bgcolor=#fad9e7>0.862</td>\\n</tr>\\n<tr>\\n<td bgcolor=#FFFFFF>0</td>\\n<td bgcolor=#FFFFFF>1</td>\\n<td bgcolor=#FFFFFF>0</td>\\n<td bgcolor=#FFFFFF>1</td>\\n<td bgcolor=#FFFFFF>0</td>\\n<td bgcolor=#fef0bd>0.576</td>\\n</tr>\\n<tr>\\n<td bgcolor=#FFFFFF>0</td>\\n<td bgcolor=#FFFFFF>1</td>\\n<td bgcolor=#FFFFFF>0</td>\\n<td bgcolor=#FFFFFF>1</td>\\n<td bgcolor=#FFFFFF>1</td>\\n<td bgcolor=#ead0cb>0.424</td>\\n</tr>\\n<tr>\\n<td bgcolor=#FFFFFF>0</td>\\n<td bgcolor=#FFFFFF>1</td>\\n<td bgcolor=#FFFFFF>1</td>\\n<td bgcolor=#FFFFFF>0</td>\\n<td bgcolor=#FFFFFF>0</td>\\n<td bgcolor=#cbc4d0>0.085</td>\\n</tr>\\n<tr>\\n<td bgcolor=#FFFFFF>0</td>\\n<td bgcolor=#FFFFFF>1</td>\\n<td bgcolor=#FFFFFF>1</td>\\n<td bgcolor=#FFFFFF>0</td>\\n<td bgcolor=#FFFFFF>1</td>\\n<td bgcolor=#f9e2ee>0.915</td>\\n</tr>\\n<tr>\\n<td bgcolor=#FFFFFF>0</td>\\n<td bgcolor=#FFFFFF>1</td>\\n<td bgcolor=#FFFFFF>1</td>\\n<td bgcolor=#FFFFFF>1</td>\\n<td bgcolor=#FFFFFF>0</td>\\n<td bgcolor=#e6d8bf>0.757</td>\\n</tr>\\n<tr>\\n<td bgcolor=#FFFFFF>0</td>\\n<td bgcolor=#FFFFFF>1</td>\\n<td bgcolor=#FFFFFF>1</td>\\n<td bgcolor=#FFFFFF>1</td>\\n<td bgcolor=#FFFFFF>1</td>\\n<td bgcolor=#cae9c6>0.243</td>\\n</tr>\\n<tr>\\n<td bgcolor=#FFFFFF>1</td>\\n<td bgcolor=#FFFFFF>0</td>\\n<td bgcolor=#FFFFFF>0</td>\\n<td bgcolor=#FFFFFF>0</td>\\n<td bgcolor=#FFFFFF>0</td>\\n<td bgcolor=#fcd8a8>0.495</td>\\n</tr>\\n<tr>\\n<td bgcolor=#FFFFFF>1</td>\\n<td bgcolor=#FFFFFF>0</td>\\n<td bgcolor=#FFFFFF>0</td>\\n<td bgcolor=#FFFFFF>0</td>\\n<td bgcolor=#FFFFFF>1</td>\\n<td bgcolor=#fedaa7>0.505</td>\\n</tr>\\n<tr>\\n<td bgcolor=#FFFFFF>1</td>\\n<td bgcolor=#FFFFFF>0</td>\\n<td bgcolor=#FFFFFF>0</td>\\n<td bgcolor=#FFFFFF>1</td>\\n<td bgcolor=#FFFFFF>0</td>\\n<td bgcolor=#decbe3>0.377</td>\\n</tr>\\n<tr>\\n<td bgcolor=#FFFFFF>1</td>\\n<td bgcolor=#FFFFFF>0</td>\\n<td bgcolor=#FFFFFF>0</td>\\n<td bgcolor=#FFFFFF>1</td>\\n<td bgcolor=#FFFFFF>1</td>\\n<td bgcolor=#fefecb>0.623</td>\\n</tr>\\n<tr>\\n<td bgcolor=#FFFFFF>1</td>\\n<td bgcolor=#FFFFFF>0</td>\\n<td bgcolor=#FFFFFF>1</td>\\n<td bgcolor=#FFFFFF>0</td>\\n<td bgcolor=#FFFFFF>0</td>\\n<td bgcolor=#e7d8c1>0.761</td>\\n</tr>\\n<tr>\\n<td bgcolor=#FFFFFF>1</td>\\n<td bgcolor=#FFFFFF>0</td>\\n<td bgcolor=#FFFFFF>1</td>\\n<td bgcolor=#FFFFFF>0</td>\\n<td bgcolor=#FFFFFF>1</td>\\n<td bgcolor=#c9e8c7>0.239</td>\\n</tr>\\n<tr>\\n<td bgcolor=#FFFFFF>1</td>\\n<td bgcolor=#FFFFFF>0</td>\\n<td bgcolor=#FFFFFF>1</td>\\n<td bgcolor=#FFFFFF>1</td>\\n<td bgcolor=#FFFFFF>0</td>\\n<td bgcolor=#fee7b4>0.549</td>\\n</tr>\\n<tr>\\n<td bgcolor=#FFFFFF>1</td>\\n<td bgcolor=#FFFFFF>0</td>\\n<td bgcolor=#FFFFFF>1</td>\\n<td bgcolor=#FFFFFF>1</td>\\n<td bgcolor=#FFFFFF>1</td>\\n<td bgcolor=#f1d3be>0.451</td>\\n</tr>\\n<tr>\\n<td bgcolor=#FFFFFF>1</td>\\n<td bgcolor=#FFFFFF>1</td>\\n<td bgcolor=#FFFFFF>0</td>\\n<td bgcolor=#FFFFFF>0</td>\\n<td bgcolor=#FFFFFF>0</td>\\n<td bgcolor=#f3d9d8>0.822</td>\\n</tr>\\n<tr>\\n<td bgcolor=#FFFFFF>1</td>\\n<td bgcolor=#FFFFFF>1</td>\\n<td bgcolor=#FFFFFF>0</td>\\n<td bgcolor=#FFFFFF>0</td>\\n<td bgcolor=#FFFFFF>1</td>\\n<td bgcolor=#bdd9d6>0.178</td>\\n</tr>\\n<tr>\\n<td bgcolor=#FFFFFF>1</td>\\n<td bgcolor=#FFFFFF>1</td>\\n<td bgcolor=#FFFFFF>0</td>\\n<td bgcolor=#FFFFFF>1</td>\\n<td bgcolor=#FFFFFF>0</td>\\n<td bgcolor=#c0ddd2>0.195</td>\\n</tr>\\n<tr>\\n<td bgcolor=#FFFFFF>1</td>\\n<td bgcolor=#FFFFFF>1</td>\\n<td bgcolor=#FFFFFF>0</td>\\n<td bgcolor=#FFFFFF>1</td>\\n<td bgcolor=#FFFFFF>1</td>\\n<td bgcolor=#f0d8d2>0.805</td>\\n</tr>\\n<tr>\\n<td bgcolor=#FFFFFF>1</td>\\n<td bgcolor=#FFFFFF>1</td>\\n<td bgcolor=#FFFFFF>1</td>\\n<td bgcolor=#FFFFFF>0</td>\\n<td bgcolor=#FFFFFF>0</td>\\n<td bgcolor=#edb8b7>0.026</td>\\n</tr>\\n<tr>\\n<td bgcolor=#FFFFFF>1</td>\\n<td bgcolor=#FFFFFF>1</td>\\n<td bgcolor=#FFFFFF>1</td>\\n<td bgcolor=#FFFFFF>0</td>\\n<td bgcolor=#FFFFFF>1</td>\\n<td bgcolor=#f4edf0>0.974</td>\\n</tr>\\n<tr>\\n<td bgcolor=#FFFFFF>1</td>\\n<td bgcolor=#FFFFFF>1</td>\\n<td bgcolor=#FFFFFF>1</td>\\n<td bgcolor=#FFFFFF>1</td>\\n<td bgcolor=#FFFFFF>0</td>\\n<td bgcolor=#b9d4db>0.159</td>\\n</tr>\\n<tr>\\n<td bgcolor=#FFFFFF>1</td>\\n<td bgcolor=#FFFFFF>1</td>\\n<td bgcolor=#FFFFFF>1</td>\\n<td bgcolor=#FFFFFF>1</td>\\n<td bgcolor=#FFFFFF>1</td>\\n<td bgcolor=#f6d9e0>0.841</td>\\n</tr>\\n</table>\", \"<table border=\\\"1\\\" cellpadding=\\\"4\\\" cellspacing=\\\"0\\\" bordercolor=\\\"#000000\\\">\\n<tr bgcolor=\\\"#AAAAAA\\\">\\n<th align=\\\"center\\\">0</th>\\n<th align=\\\"center\\\">2</th>\\n<th align=\\\"center\\\">3</th>\\n<th align=\\\"center\\\">5</th>\\n<th align=\\\"center\\\">Prob.</th>\\n</tr>\\n<tr>\\n<td bgcolor=#FFFFFF>0</td>\\n<td bgcolor=#FFFFFF>0</td>\\n<td bgcolor=#FFFFFF>0</td>\\n<td bgcolor=#FFFFFF>0</td>\\n<td bgcolor=#f8e2ee>0.920</td>\\n</tr>\\n<tr>\\n<td bgcolor=#FFFFFF>0</td>\\n<td bgcolor=#FFFFFF>0</td>\\n<td bgcolor=#FFFFFF>0</td>\\n<td bgcolor=#FFFFFF>1</td>\\n<td bgcolor=#cdc3cf>0.080</td>\\n</tr>\\n<tr>\\n<td bgcolor=#FFFFFF>0</td>\\n<td bgcolor=#FFFFFF>0</td>\\n<td bgcolor=#FFFFFF>1</td>\\n<td bgcolor=#FFFFFF>0</td>\\n<td bgcolor=#ead8c8>0.780</td>\\n</tr>\\n<tr>\\n<td bgcolor=#FFFFFF>0</td>\\n<td bgcolor=#FFFFFF>0</td>\\n<td bgcolor=#FFFFFF>1</td>\\n<td bgcolor=#FFFFFF>1</td>\\n<td bgcolor=#c5e3cc>0.220</td>\\n</tr>\\n<tr>\\n<td bgcolor=#FFFFFF>0</td>\\n<td bgcolor=#FFFFFF>1</td>\\n<td bgcolor=#FFFFFF>0</td>\\n<td bgcolor=#FFFFFF>0</td>\\n<td bgcolor=#ecd1c8>0.433</td>\\n</tr>\\n<tr>\\n<td bgcolor=#FFFFFF>0</td>\\n<td bgcolor=#FFFFFF>1</td>\\n<td bgcolor=#FFFFFF>0</td>\\n<td bgcolor=#FFFFFF>1</td>\\n<td bgcolor=#feedba>0.567</td>\\n</tr>\\n<tr>\\n<td bgcolor=#FFFFFF>0</td>\\n<td bgcolor=#FFFFFF>1</td>\\n<td bgcolor=#FFFFFF>1</td>\\n<td bgcolor=#FFFFFF>0</td>\\n<td bgcolor=#ebd8c9>0.785</td>\\n</tr>\\n<tr>\\n<td bgcolor=#FFFFFF>0</td>\\n<td bgcolor=#FFFFFF>1</td>\\n<td bgcolor=#FFFFFF>1</td>\\n<td bgcolor=#FFFFFF>1</td>\\n<td bgcolor=#c5e2cd>0.215</td>\\n</tr>\\n<tr>\\n<td bgcolor=#FFFFFF>1</td>\\n<td bgcolor=#FFFFFF>0</td>\\n<td bgcolor=#FFFFFF>0</td>\\n<td bgcolor=#FFFFFF>0</td>\\n<td bgcolor=#f7d9e1>0.845</td>\\n</tr>\\n<tr>\\n<td bgcolor=#FFFFFF>1</td>\\n<td bgcolor=#FFFFFF>0</td>\\n<td bgcolor=#FFFFFF>0</td>\\n<td bgcolor=#FFFFFF>1</td>\\n<td bgcolor=#b8d3dc>0.155</td>\\n</tr>\\n<tr>\\n<td bgcolor=#FFFFFF>1</td>\\n<td bgcolor=#FFFFFF>0</td>\\n<td bgcolor=#FFFFFF>1</td>\\n<td bgcolor=#FFFFFF>0</td>\\n<td bgcolor=#b9cade>0.114</td>\\n</tr>\\n<tr>\\n<td bgcolor=#FFFFFF>1</td>\\n<td bgcolor=#FFFFFF>0</td>\\n<td bgcolor=#FFFFFF>1</td>\\n<td bgcolor=#FFFFFF>1</td>\\n<td bgcolor=#fcdcec>0.886</td>\\n</tr>\\n<tr>\\n<td bgcolor=#FFFFFF>1</td>\\n<td bgcolor=#FFFFFF>1</td>\\n<td bgcolor=#FFFFFF>0</td>\\n<td bgcolor=#FFFFFF>0</td>\\n<td bgcolor=#e2ccdb>0.391</td>\\n</tr>\\n<tr>\\n<td bgcolor=#FFFFFF>1</td>\\n<td bgcolor=#FFFFFF>1</td>\\n<td bgcolor=#FFFFFF>0</td>\\n<td bgcolor=#FFFFFF>1</td>\\n<td bgcolor=#fef9c6>0.609</td>\\n</tr>\\n<tr>\\n<td bgcolor=#FFFFFF>1</td>\\n<td bgcolor=#FFFFFF>1</td>\\n<td bgcolor=#FFFFFF>1</td>\\n<td bgcolor=#FFFFFF>0</td>\\n<td bgcolor=#f8d9e2>0.849</td>\\n</tr>\\n<tr>\\n<td bgcolor=#FFFFFF>1</td>\\n<td bgcolor=#FFFFFF>1</td>\\n<td bgcolor=#FFFFFF>1</td>\\n<td bgcolor=#FFFFFF>1</td>\\n<td bgcolor=#b7d2dd>0.151</td>\\n</tr>\\n</table>\", \"<table border=\\\"1\\\" cellpadding=\\\"4\\\" cellspacing=\\\"0\\\" bordercolor=\\\"#000000\\\">\\n<tr bgcolor=\\\"#AAAAAA\\\">\\n<th align=\\\"center\\\">0</th>\\n<th align=\\\"center\\\">4</th>\\n<th align=\\\"center\\\">5</th>\\n<th align=\\\"center\\\">6</th>\\n<th align=\\\"center\\\">Prob.</th>\\n</tr>\\n<tr>\\n<td bgcolor=#FFFFFF>0</td>\\n<td bgcolor=#FFFFFF>0</td>\\n<td bgcolor=#FFFFFF>0</td>\\n<td bgcolor=#FFFFFF>0</td>\\n<td bgcolor=#f6d9de>0.838</td>\\n</tr>\\n<tr>\\n<td bgcolor=#FFFFFF>0</td>\\n<td bgcolor=#FFFFFF>0</td>\\n<td bgcolor=#FFFFFF>0</td>\\n<td bgcolor=#FFFFFF>1</td>\\n<td bgcolor=#bad5da>0.162</td>\\n</tr>\\n<tr>\\n<td bgcolor=#FFFFFF>0</td>\\n<td bgcolor=#FFFFFF>0</td>\\n<td bgcolor=#FFFFFF>1</td>\\n<td bgcolor=#FFFFFF>0</td>\\n<td bgcolor=#feefbc>0.572</td>\\n</tr>\\n<tr>\\n<td bgcolor=#FFFFFF>0</td>\\n<td bgcolor=#FFFFFF>0</td>\\n<td bgcolor=#FFFFFF>1</td>\\n<td bgcolor=#FFFFFF>1</td>\\n<td bgcolor=#ebd0c9>0.428</td>\\n</tr>\\n<tr>\\n<td bgcolor=#FFFFFF>0</td>\\n<td bgcolor=#FFFFFF>1</td>\\n<td bgcolor=#FFFFFF>0</td>\\n<td bgcolor=#FFFFFF>0</td>\\n<td bgcolor=#f3eef1>0.979</td>\\n</tr>\\n<tr>\\n<td bgcolor=#FFFFFF>0</td>\\n<td bgcolor=#FFFFFF>1</td>\\n<td bgcolor=#FFFFFF>0</td>\\n<td bgcolor=#FFFFFF>1</td>\\n<td bgcolor=#efb7b6>0.021</td>\\n</tr>\\n<tr>\\n<td bgcolor=#FFFFFF>0</td>\\n<td bgcolor=#FFFFFF>1</td>\\n<td bgcolor=#FFFFFF>1</td>\\n<td bgcolor=#FFFFFF>0</td>\\n<td bgcolor=#d5d9d5>0.317</td>\\n</tr>\\n<tr>\\n<td bgcolor=#FFFFFF>0</td>\\n<td bgcolor=#FFFFFF>1</td>\\n<td bgcolor=#FFFFFF>1</td>\\n<td bgcolor=#FFFFFF>1</td>\\n<td bgcolor=#f3edc5>0.683</td>\\n</tr>\\n<tr>\\n<td bgcolor=#FFFFFF>1</td>\\n<td bgcolor=#FFFFFF>0</td>\\n<td bgcolor=#FFFFFF>0</td>\\n<td bgcolor=#FFFFFF>0</td>\\n<td bgcolor=#ebd8c9>0.783</td>\\n</tr>\\n<tr>\\n<td bgcolor=#FFFFFF>1</td>\\n<td bgcolor=#FFFFFF>0</td>\\n<td bgcolor=#FFFFFF>0</td>\\n<td bgcolor=#FFFFFF>1</td>\\n<td bgcolor=#c5e2cd>0.217</td>\\n</tr>\\n<tr>\\n<td bgcolor=#FFFFFF>1</td>\\n<td bgcolor=#FFFFFF>0</td>\\n<td bgcolor=#FFFFFF>1</td>\\n<td bgcolor=#FFFFFF>0</td>\\n<td bgcolor=#bfdcd3>0.189</td>\\n</tr>\\n<tr>\\n<td bgcolor=#FFFFFF>1</td>\\n<td bgcolor=#FFFFFF>0</td>\\n<td bgcolor=#FFFFFF>1</td>\\n<td bgcolor=#FFFFFF>1</td>\\n<td bgcolor=#f0d8d4>0.811</td>\\n</tr>\\n<tr>\\n<td bgcolor=#FFFFFF>1</td>\\n<td bgcolor=#FFFFFF>1</td>\\n<td bgcolor=#FFFFFF>0</td>\\n<td bgcolor=#FFFFFF>0</td>\\n<td bgcolor=#e4cdd7>0.400</td>\\n</tr>\\n<tr>\\n<td bgcolor=#FFFFFF>1</td>\\n<td bgcolor=#FFFFFF>1</td>\\n<td bgcolor=#FFFFFF>0</td>\\n<td bgcolor=#FFFFFF>1</td>\\n<td bgcolor=#fef7c4>0.600</td>\\n</tr>\\n<tr>\\n<td bgcolor=#FFFFFF>1</td>\\n<td bgcolor=#FFFFFF>1</td>\\n<td bgcolor=#FFFFFF>1</td>\\n<td bgcolor=#FFFFFF>0</td>\\n<td bgcolor=#f5d5b6>0.465</td>\\n</tr>\\n<tr>\\n<td bgcolor=#FFFFFF>1</td>\\n<td bgcolor=#FFFFFF>1</td>\\n<td bgcolor=#FFFFFF>1</td>\\n<td bgcolor=#FFFFFF>1</td>\\n<td bgcolor=#fee3b0>0.535</td>\\n</tr>\\n</table>\", \"<table border=\\\"1\\\" cellpadding=\\\"4\\\" cellspacing=\\\"0\\\" bordercolor=\\\"#000000\\\">\\n<tr bgcolor=\\\"#AAAAAA\\\">\\n<th align=\\\"center\\\">0</th>\\n<th align=\\\"center\\\">1</th>\\n<th align=\\\"center\\\">2</th>\\n<th align=\\\"center\\\">4</th>\\n<th align=\\\"center\\\">6</th>\\n<th align=\\\"center\\\">7</th>\\n<th align=\\\"center\\\">Prob.</th>\\n</tr>\\n<tr>\\n<td bgcolor=#FFFFFF>0</td>\\n<td bgcolor=#FFFFFF>0</td>\\n<td bgcolor=#FFFFFF>0</td>\\n<td bgcolor=#FFFFFF>0</td>\\n<td bgcolor=#FFFFFF>0</td>\\n<td bgcolor=#FFFFFF>0</td>\\n<td bgcolor=#d4dbd3>0.309</td>\\n</tr>\\n<tr>\\n<td bgcolor=#FFFFFF>0</td>\\n<td bgcolor=#FFFFFF>0</td>\\n<td bgcolor=#FFFFFF>0</td>\\n<td bgcolor=#FFFFFF>0</td>\\n<td bgcolor=#FFFFFF>0</td>\\n<td bgcolor=#FFFFFF>1</td>\\n<td bgcolor=#f1eac4>0.691</td>\\n</tr>\\n<tr>\\n<td bgcolor=#FFFFFF>0</td>\\n<td bgcolor=#FFFFFF>0</td>\\n<td bgcolor=#FFFFFF>0</td>\\n<td bgcolor=#FFFFFF>0</td>\\n<td bgcolor=#FFFFFF>1</td>\\n<td bgcolor=#FFFFFF>0</td>\\n<td bgcolor=#edd1c6>0.436</td>\\n</tr>\\n<tr>\\n<td bgcolor=#FFFFFF>0</td>\\n<td bgcolor=#FFFFFF>0</td>\\n<td bgcolor=#FFFFFF>0</td>\\n<td bgcolor=#FFFFFF>0</td>\\n<td bgcolor=#FFFFFF>1</td>\\n<td bgcolor=#FFFFFF>1</td>\\n<td bgcolor=#feecb9>0.564</td>\\n</tr>\\n<tr>\\n<td bgcolor=#FFFFFF>0</td>\\n<td bgcolor=#FFFFFF>0</td>\\n<td bgcolor=#FFFFFF>0</td>\\n<td bgcolor=#FFFFFF>1</td>\\n<td bgcolor=#FFFFFF>0</td>\\n<td bgcolor=#FFFFFF>0</td>\\n<td bgcolor=#f2f1f1>0.994</td>\\n</tr>\\n<tr>\\n<td bgcolor=#FFFFFF>0</td>\\n<td bgcolor=#FFFFFF>0</td>\\n<td bgcolor=#FFFFFF>0</td>\\n<td bgcolor=#FFFFFF>1</td>\\n<td bgcolor=#FFFFFF>0</td>\\n<td bgcolor=#FFFFFF>1</td>\\n<td bgcolor=#f8b4af>0.006</td>\\n</tr>\\n<tr>\\n<td bgcolor=#FFFFFF>0</td>\\n<td bgcolor=#FFFFFF>0</td>\\n<td bgcolor=#FFFFFF>0</td>\\n<td bgcolor=#FFFFFF>1</td>\\n<td bgcolor=#FFFFFF>1</td>\\n<td bgcolor=#FFFFFF>0</td>\\n<td bgcolor=#cbc4d0>0.085</td>\\n</tr>\\n<tr>\\n<td bgcolor=#FFFFFF>0</td>\\n<td bgcolor=#FFFFFF>0</td>\\n<td bgcolor=#FFFFFF>0</td>\\n<td bgcolor=#FFFFFF>1</td>\\n<td bgcolor=#FFFFFF>1</td>\\n<td bgcolor=#FFFFFF>1</td>\\n<td bgcolor=#f9e2ee>0.915</td>\\n</tr>\\n<tr>\\n<td bgcolor=#FFFFFF>0</td>\\n<td bgcolor=#FFFFFF>0</td>\\n<td bgcolor=#FFFFFF>1</td>\\n<td bgcolor=#FFFFFF>0</td>\\n<td bgcolor=#FFFFFF>0</td>\\n<td bgcolor=#FFFFFF>0</td>\\n<td bgcolor=#efd8d1>0.804</td>\\n</tr>\\n<tr>\\n<td bgcolor=#FFFFFF>0</td>\\n<td bgcolor=#FFFFFF>0</td>\\n<td bgcolor=#FFFFFF>1</td>\\n<td bgcolor=#FFFFFF>0</td>\\n<td bgcolor=#FFFFFF>0</td>\\n<td bgcolor=#FFFFFF>1</td>\\n<td bgcolor=#c1ded1>0.196</td>\\n</tr>\\n<tr>\\n<td bgcolor=#FFFFFF>0</td>\\n<td bgcolor=#FFFFFF>0</td>\\n<td bgcolor=#FFFFFF>1</td>\\n<td bgcolor=#FFFFFF>0</td>\\n<td bgcolor=#FFFFFF>1</td>\\n<td bgcolor=#FFFFFF>0</td>\\n<td bgcolor=#f4b6b2>0.013</td>\\n</tr>\\n<tr>\\n<td bgcolor=#FFFFFF>0</td>\\n<td bgcolor=#FFFFFF>0</td>\\n<td bgcolor=#FFFFFF>1</td>\\n<td bgcolor=#FFFFFF>0</td>\\n<td bgcolor=#FFFFFF>1</td>\\n<td bgcolor=#FFFFFF>1</td>\\n<td bgcolor=#f3eff1>0.987</td>\\n</tr>\\n<tr>\\n<td bgcolor=#FFFFFF>0</td>\\n<td bgcolor=#FFFFFF>0</td>\\n<td bgcolor=#FFFFFF>1</td>\\n<td bgcolor=#FFFFFF>1</td>\\n<td bgcolor=#FFFFFF>0</td>\\n<td bgcolor=#FFFFFF>0</td>\\n<td bgcolor=#e6d9bd>0.743</td>\\n</tr>\\n<tr>\\n<td bgcolor=#FFFFFF>0</td>\\n<td bgcolor=#FFFFFF>0</td>\\n<td bgcolor=#FFFFFF>1</td>\\n<td bgcolor=#FFFFFF>1</td>\\n<td bgcolor=#FFFFFF>0</td>\\n<td bgcolor=#FFFFFF>1</td>\\n<td bgcolor=#cce9c6>0.257</td>\\n</tr>\\n<tr>\\n<td bgcolor=#FFFFFF>0</td>\\n<td bgcolor=#FFFFFF>0</td>\\n<td bgcolor=#FFFFFF>1</td>\\n<td bgcolor=#FFFFFF>1</td>\\n<td bgcolor=#FFFFFF>1</td>\\n<td bgcolor=#FFFFFF>0</td>\\n<td bgcolor=#d6d8d6>0.321</td>\\n</tr>\\n<tr>\\n<td bgcolor=#FFFFFF>0</td>\\n<td bgcolor=#FFFFFF>0</td>\\n<td bgcolor=#FFFFFF>1</td>\\n<td bgcolor=#FFFFFF>1</td>\\n<td bgcolor=#FFFFFF>1</td>\\n<td bgcolor=#FFFFFF>1</td>\\n<td bgcolor=#f3eec5>0.679</td>\\n</tr>\\n<tr>\\n<td bgcolor=#FFFFFF>0</td>\\n<td bgcolor=#FFFFFF>1</td>\\n<td bgcolor=#FFFFFF>0</td>\\n<td bgcolor=#FFFFFF>0</td>\\n<td bgcolor=#FFFFFF>0</td>\\n<td bgcolor=#FFFFFF>0</td>\\n<td bgcolor=#f2d3bc>0.457</td>\\n</tr>\\n<tr>\\n<td bgcolor=#FFFFFF>0</td>\\n<td bgcolor=#FFFFFF>1</td>\\n<td bgcolor=#FFFFFF>0</td>\\n<td bgcolor=#FFFFFF>0</td>\\n<td bgcolor=#FFFFFF>0</td>\\n<td bgcolor=#FFFFFF>1</td>\\n<td bgcolor=#fee6b3>0.543</td>\\n</tr>\\n<tr>\\n<td bgcolor=#FFFFFF>0</td>\\n<td bgcolor=#FFFFFF>1</td>\\n<td bgcolor=#FFFFFF>0</td>\\n<td bgcolor=#FFFFFF>0</td>\\n<td bgcolor=#FFFFFF>1</td>\\n<td bgcolor=#FFFFFF>0</td>\\n<td bgcolor=#d7d6d8>0.331</td>\\n</tr>\\n<tr>\\n<td bgcolor=#FFFFFF>0</td>\\n<td bgcolor=#FFFFFF>1</td>\\n<td bgcolor=#FFFFFF>0</td>\\n<td bgcolor=#FFFFFF>0</td>\\n<td bgcolor=#FFFFFF>1</td>\\n<td bgcolor=#FFFFFF>1</td>\\n<td bgcolor=#f5f0c6>0.669</td>\\n</tr>\\n<tr>\\n<td bgcolor=#FFFFFF>0</td>\\n<td bgcolor=#FFFFFF>1</td>\\n<td bgcolor=#FFFFFF>0</td>\\n<td bgcolor=#FFFFFF>1</td>\\n<td bgcolor=#FFFFFF>0</td>\\n<td bgcolor=#FFFFFF>0</td>\\n<td bgcolor=#fef5c2>0.593</td>\\n</tr>\\n<tr>\\n<td bgcolor=#FFFFFF>0</td>\\n<td bgcolor=#FFFFFF>1</td>\\n<td bgcolor=#FFFFFF>0</td>\\n<td bgcolor=#FFFFFF>1</td>\\n<td bgcolor=#FFFFFF>0</td>\\n<td bgcolor=#FFFFFF>1</td>\\n<td bgcolor=#e6ced3>0.407</td>\\n</tr>\\n<tr>\\n<td bgcolor=#FFFFFF>0</td>\\n<td bgcolor=#FFFFFF>1</td>\\n<td bgcolor=#FFFFFF>0</td>\\n<td bgcolor=#FFFFFF>1</td>\\n<td bgcolor=#FFFFFF>1</td>\\n<td bgcolor=#FFFFFF>0</td>\\n<td bgcolor=#e7dbbe>0.735</td>\\n</tr>\\n<tr>\\n<td bgcolor=#FFFFFF>0</td>\\n<td bgcolor=#FFFFFF>1</td>\\n<td bgcolor=#FFFFFF>0</td>\\n<td bgcolor=#FFFFFF>1</td>\\n<td bgcolor=#FFFFFF>1</td>\\n<td bgcolor=#FFFFFF>1</td>\\n<td bgcolor=#cde7c8>0.265</td>\\n</tr>\\n<tr>\\n<td bgcolor=#FFFFFF>0</td>\\n<td bgcolor=#FFFFFF>1</td>\\n<td bgcolor=#FFFFFF>1</td>\\n<td bgcolor=#FFFFFF>0</td>\\n<td bgcolor=#FFFFFF>0</td>\\n<td bgcolor=#FFFFFF>0</td>\\n<td bgcolor=#f3d9da>0.825</td>\\n</tr>\\n<tr>\\n<td bgcolor=#FFFFFF>0</td>\\n<td bgcolor=#FFFFFF>1</td>\\n<td bgcolor=#FFFFFF>1</td>\\n<td bgcolor=#FFFFFF>0</td>\\n<td bgcolor=#FFFFFF>0</td>\\n<td bgcolor=#FFFFFF>1</td>\\n<td bgcolor=#bcd8d7>0.175</td>\\n</tr>\\n<tr>\\n<td bgcolor=#FFFFFF>0</td>\\n<td bgcolor=#FFFFFF>1</td>\\n<td bgcolor=#FFFFFF>1</td>\\n<td bgcolor=#FFFFFF>0</td>\\n<td bgcolor=#FFFFFF>1</td>\\n<td bgcolor=#FFFFFF>0</td>\\n<td bgcolor=#fefcc9>0.616</td>\\n</tr>\\n<tr>\\n<td bgcolor=#FFFFFF>0</td>\\n<td bgcolor=#FFFFFF>1</td>\\n<td bgcolor=#FFFFFF>1</td>\\n<td bgcolor=#FFFFFF>0</td>\\n<td bgcolor=#FFFFFF>1</td>\\n<td bgcolor=#FFFFFF>1</td>\\n<td bgcolor=#e0ccdf>0.384</td>\\n</tr>\\n<tr>\\n<td bgcolor=#FFFFFF>0</td>\\n<td bgcolor=#FFFFFF>1</td>\\n<td bgcolor=#FFFFFF>1</td>\\n<td bgcolor=#FFFFFF>1</td>\\n<td bgcolor=#FFFFFF>0</td>\\n<td bgcolor=#FFFFFF>0</td>\\n<td bgcolor=#fef9c6>0.607</td>\\n</tr>\\n<tr>\\n<td bgcolor=#FFFFFF>0</td>\\n<td bgcolor=#FFFFFF>1</td>\\n<td bgcolor=#FFFFFF>1</td>\\n<td bgcolor=#FFFFFF>1</td>\\n<td bgcolor=#FFFFFF>0</td>\\n<td bgcolor=#FFFFFF>1</td>\\n<td bgcolor=#e2ccdb>0.393</td>\\n</tr>\\n<tr>\\n<td bgcolor=#FFFFFF>0</td>\\n<td bgcolor=#FFFFFF>1</td>\\n<td bgcolor=#FFFFFF>1</td>\\n<td bgcolor=#FFFFFF>1</td>\\n<td bgcolor=#FFFFFF>1</td>\\n<td bgcolor=#FFFFFF>0</td>\\n<td bgcolor=#bedad5>0.181</td>\\n</tr>\\n<tr>\\n<td bgcolor=#FFFFFF>0</td>\\n<td bgcolor=#FFFFFF>1</td>\\n<td bgcolor=#FFFFFF>1</td>\\n<td bgcolor=#FFFFFF>1</td>\\n<td bgcolor=#FFFFFF>1</td>\\n<td bgcolor=#FFFFFF>1</td>\\n<td bgcolor=#f2d9d7>0.819</td>\\n</tr>\\n<tr>\\n<td bgcolor=#FFFFFF>1</td>\\n<td bgcolor=#FFFFFF>0</td>\\n<td bgcolor=#FFFFFF>0</td>\\n<td bgcolor=#FFFFFF>0</td>\\n<td bgcolor=#FFFFFF>0</td>\\n<td bgcolor=#FFFFFF>0</td>\\n<td bgcolor=#dbbec5>0.055</td>\\n</tr>\\n<tr>\\n<td bgcolor=#FFFFFF>1</td>\\n<td bgcolor=#FFFFFF>0</td>\\n<td bgcolor=#FFFFFF>0</td>\\n<td bgcolor=#FFFFFF>0</td>\\n<td bgcolor=#FFFFFF>0</td>\\n<td bgcolor=#FFFFFF>1</td>\\n<td bgcolor=#f6e7ef>0.945</td>\\n</tr>\\n<tr>\\n<td bgcolor=#FFFFFF>1</td>\\n<td bgcolor=#FFFFFF>0</td>\\n<td bgcolor=#FFFFFF>0</td>\\n<td bgcolor=#FFFFFF>0</td>\\n<td bgcolor=#FFFFFF>1</td>\\n<td bgcolor=#FFFFFF>0</td>\\n<td bgcolor=#c1ded1>0.199</td>\\n</tr>\\n<tr>\\n<td bgcolor=#FFFFFF>1</td>\\n<td bgcolor=#FFFFFF>0</td>\\n<td bgcolor=#FFFFFF>0</td>\\n<td bgcolor=#FFFFFF>0</td>\\n<td bgcolor=#FFFFFF>1</td>\\n<td bgcolor=#FFFFFF>1</td>\\n<td bgcolor=#efd8d1>0.801</td>\\n</tr>\\n<tr>\\n<td bgcolor=#FFFFFF>1</td>\\n<td bgcolor=#FFFFFF>0</td>\\n<td bgcolor=#FFFFFF>0</td>\\n<td bgcolor=#FFFFFF>1</td>\\n<td bgcolor=#FFFFFF>0</td>\\n<td bgcolor=#FFFFFF>0</td>\\n<td bgcolor=#fee4b1>0.536</td>\\n</tr>\\n<tr>\\n<td bgcolor=#FFFFFF>1</td>\\n<td bgcolor=#FFFFFF>0</td>\\n<td bgcolor=#FFFFFF>0</td>\\n<td bgcolor=#FFFFFF>1</td>\\n<td bgcolor=#FFFFFF>0</td>\\n<td bgcolor=#FFFFFF>1</td>\\n<td bgcolor=#f4d4b8>0.464</td>\\n</tr>\\n<tr>\\n<td bgcolor=#FFFFFF>1</td>\\n<td bgcolor=#FFFFFF>0</td>\\n<td bgcolor=#FFFFFF>0</td>\\n<td bgcolor=#FFFFFF>1</td>\\n<td bgcolor=#FFFFFF>1</td>\\n<td bgcolor=#FFFFFF>0</td>\\n<td bgcolor=#d9d2dc>0.344</td>\\n</tr>\\n<tr>\\n<td bgcolor=#FFFFFF>1</td>\\n<td bgcolor=#FFFFFF>0</td>\\n<td bgcolor=#FFFFFF>0</td>\\n<td bgcolor=#FFFFFF>1</td>\\n<td bgcolor=#FFFFFF>1</td>\\n<td bgcolor=#FFFFFF>1</td>\\n<td bgcolor=#f8f5c8>0.656</td>\\n</tr>\\n<tr>\\n<td bgcolor=#FFFFFF>1</td>\\n<td bgcolor=#FFFFFF>0</td>\\n<td bgcolor=#FFFFFF>1</td>\\n<td bgcolor=#FFFFFF>0</td>\\n<td bgcolor=#FFFFFF>0</td>\\n<td bgcolor=#FFFFFF>0</td>\\n<td bgcolor=#ecd1c8>0.430</td>\\n</tr>\\n<tr>\\n<td bgcolor=#FFFFFF>1</td>\\n<td bgcolor=#FFFFFF>0</td>\\n<td bgcolor=#FFFFFF>1</td>\\n<td bgcolor=#FFFFFF>0</td>\\n<td bgcolor=#FFFFFF>0</td>\\n<td bgcolor=#FFFFFF>1</td>\\n<td bgcolor=#feedba>0.570</td>\\n</tr>\\n<tr>\\n<td bgcolor=#FFFFFF>1</td>\\n<td bgcolor=#FFFFFF>0</td>\\n<td bgcolor=#FFFFFF>1</td>\\n<td bgcolor=#FFFFFF>0</td>\\n<td bgcolor=#FFFFFF>1</td>\\n<td bgcolor=#FFFFFF>0</td>\\n<td bgcolor=#b8d3dc>0.155</td>\\n</tr>\\n<tr>\\n<td bgcolor=#FFFFFF>1</td>\\n<td bgcolor=#FFFFFF>0</td>\\n<td bgcolor=#FFFFFF>1</td>\\n<td bgcolor=#FFFFFF>0</td>\\n<td bgcolor=#FFFFFF>1</td>\\n<td bgcolor=#FFFFFF>1</td>\\n<td bgcolor=#f7d9e1>0.845</td>\\n</tr>\\n<tr>\\n<td bgcolor=#FFFFFF>1</td>\\n<td bgcolor=#FFFFFF>0</td>\\n<td bgcolor=#FFFFFF>1</td>\\n<td bgcolor=#FFFFFF>1</td>\\n<td bgcolor=#FFFFFF>0</td>\\n<td bgcolor=#FFFFFF>0</td>\\n<td bgcolor=#f7d9e1>0.846</td>\\n</tr>\\n<tr>\\n<td bgcolor=#FFFFFF>1</td>\\n<td bgcolor=#FFFFFF>0</td>\\n<td bgcolor=#FFFFFF>1</td>\\n<td bgcolor=#FFFFFF>1</td>\\n<td bgcolor=#FFFFFF>0</td>\\n<td bgcolor=#FFFFFF>1</td>\\n<td bgcolor=#b8d3dc>0.154</td>\\n</tr>\\n<tr>\\n<td bgcolor=#FFFFFF>1</td>\\n<td bgcolor=#FFFFFF>0</td>\\n<td bgcolor=#FFFFFF>1</td>\\n<td bgcolor=#FFFFFF>1</td>\\n<td bgcolor=#FFFFFF>1</td>\\n<td bgcolor=#FFFFFF>0</td>\\n<td bgcolor=#f8d9e2>0.849</td>\\n</tr>\\n<tr>\\n<td bgcolor=#FFFFFF>1</td>\\n<td bgcolor=#FFFFFF>0</td>\\n<td bgcolor=#FFFFFF>1</td>\\n<td bgcolor=#FFFFFF>1</td>\\n<td bgcolor=#FFFFFF>1</td>\\n<td bgcolor=#FFFFFF>1</td>\\n<td bgcolor=#b7d2dd>0.151</td>\\n</tr>\\n<tr>\\n<td bgcolor=#FFFFFF>1</td>\\n<td bgcolor=#FFFFFF>1</td>\\n<td bgcolor=#FFFFFF>0</td>\\n<td bgcolor=#FFFFFF>0</td>\\n<td bgcolor=#FFFFFF>0</td>\\n<td bgcolor=#FFFFFF>0</td>\\n<td bgcolor=#feedba>0.569</td>\\n</tr>\\n<tr>\\n<td bgcolor=#FFFFFF>1</td>\\n<td bgcolor=#FFFFFF>1</td>\\n<td bgcolor=#FFFFFF>0</td>\\n<td bgcolor=#FFFFFF>0</td>\\n<td bgcolor=#FFFFFF>0</td>\\n<td bgcolor=#FFFFFF>1</td>\\n<td bgcolor=#ecd1c8>0.431</td>\\n</tr>\\n<tr>\\n<td bgcolor=#FFFFFF>1</td>\\n<td bgcolor=#FFFFFF>1</td>\\n<td bgcolor=#FFFFFF>0</td>\\n<td bgcolor=#FFFFFF>0</td>\\n<td bgcolor=#FFFFFF>1</td>\\n<td bgcolor=#FFFFFF>0</td>\\n<td bgcolor=#c0c8d9>0.103</td>\\n</tr>\\n<tr>\\n<td bgcolor=#FFFFFF>1</td>\\n<td bgcolor=#FFFFFF>1</td>\\n<td bgcolor=#FFFFFF>0</td>\\n<td bgcolor=#FFFFFF>0</td>\\n<td bgcolor=#FFFFFF>1</td>\\n<td bgcolor=#FFFFFF>1</td>\\n<td bgcolor=#fadeed>0.897</td>\\n</tr>\\n<tr>\\n<td bgcolor=#FFFFFF>1</td>\\n<td bgcolor=#FFFFFF>1</td>\\n<td bgcolor=#FFFFFF>0</td>\\n<td bgcolor=#FFFFFF>1</td>\\n<td bgcolor=#FFFFFF>0</td>\\n<td bgcolor=#FFFFFF>0</td>\\n<td bgcolor=#efd2c2>0.442</td>\\n</tr>\\n<tr>\\n<td bgcolor=#FFFFFF>1</td>\\n<td bgcolor=#FFFFFF>1</td>\\n<td bgcolor=#FFFFFF>0</td>\\n<td bgcolor=#FFFFFF>1</td>\\n<td bgcolor=#FFFFFF>0</td>\\n<td bgcolor=#FFFFFF>1</td>\\n<td bgcolor=#feeab7>0.558</td>\\n</tr>\\n<tr>\\n<td bgcolor=#FFFFFF>1</td>\\n<td bgcolor=#FFFFFF>1</td>\\n<td bgcolor=#FFFFFF>0</td>\\n<td bgcolor=#FFFFFF>1</td>\\n<td bgcolor=#FFFFFF>1</td>\\n<td bgcolor=#FFFFFF>0</td>\\n<td bgcolor=#f3d9da>0.827</td>\\n</tr>\\n<tr>\\n<td bgcolor=#FFFFFF>1</td>\\n<td bgcolor=#FFFFFF>1</td>\\n<td bgcolor=#FFFFFF>0</td>\\n<td bgcolor=#FFFFFF>1</td>\\n<td bgcolor=#FFFFFF>1</td>\\n<td bgcolor=#FFFFFF>1</td>\\n<td bgcolor=#bcd8d7>0.173</td>\\n</tr>\\n<tr>\\n<td bgcolor=#FFFFFF>1</td>\\n<td bgcolor=#FFFFFF>1</td>\\n<td bgcolor=#FFFFFF>1</td>\\n<td bgcolor=#FFFFFF>0</td>\\n<td bgcolor=#FFFFFF>0</td>\\n<td bgcolor=#FFFFFF>0</td>\\n<td bgcolor=#e5ced5>0.404</td>\\n</tr>\\n<tr>\\n<td bgcolor=#FFFFFF>1</td>\\n<td bgcolor=#FFFFFF>1</td>\\n<td bgcolor=#FFFFFF>1</td>\\n<td bgcolor=#FFFFFF>0</td>\\n<td bgcolor=#FFFFFF>0</td>\\n<td bgcolor=#FFFFFF>1</td>\\n<td bgcolor=#fef6c3>0.596</td>\\n</tr>\\n<tr>\\n<td bgcolor=#FFFFFF>1</td>\\n<td bgcolor=#FFFFFF>1</td>\\n<td bgcolor=#FFFFFF>1</td>\\n<td bgcolor=#FFFFFF>0</td>\\n<td bgcolor=#FFFFFF>1</td>\\n<td bgcolor=#FFFFFF>0</td>\\n<td bgcolor=#bbc9dc>0.113</td>\\n</tr>\\n<tr>\\n<td bgcolor=#FFFFFF>1</td>\\n<td bgcolor=#FFFFFF>1</td>\\n<td bgcolor=#FFFFFF>1</td>\\n<td bgcolor=#FFFFFF>0</td>\\n<td bgcolor=#FFFFFF>1</td>\\n<td bgcolor=#FFFFFF>1</td>\\n<td bgcolor=#fbdcec>0.887</td>\\n</tr>\\n<tr>\\n<td bgcolor=#FFFFFF>1</td>\\n<td bgcolor=#FFFFFF>1</td>\\n<td bgcolor=#FFFFFF>1</td>\\n<td bgcolor=#FFFFFF>1</td>\\n<td bgcolor=#FFFFFF>0</td>\\n<td bgcolor=#FFFFFF>0</td>\\n<td bgcolor=#f2f0f1>0.991</td>\\n</tr>\\n<tr>\\n<td bgcolor=#FFFFFF>1</td>\\n<td bgcolor=#FFFFFF>1</td>\\n<td bgcolor=#FFFFFF>1</td>\\n<td bgcolor=#FFFFFF>1</td>\\n<td bgcolor=#FFFFFF>0</td>\\n<td bgcolor=#FFFFFF>1</td>\\n<td bgcolor=#f6b5b1>0.009</td>\\n</tr>\\n<tr>\\n<td bgcolor=#FFFFFF>1</td>\\n<td bgcolor=#FFFFFF>1</td>\\n<td bgcolor=#FFFFFF>1</td>\\n<td bgcolor=#FFFFFF>1</td>\\n<td bgcolor=#FFFFFF>1</td>\\n<td bgcolor=#FFFFFF>0</td>\\n<td bgcolor=#feddaa>0.515</td>\\n</tr>\\n<tr>\\n<td bgcolor=#FFFFFF>1</td>\\n<td bgcolor=#FFFFFF>1</td>\\n<td bgcolor=#FFFFFF>1</td>\\n<td bgcolor=#FFFFFF>1</td>\\n<td bgcolor=#FFFFFF>1</td>\\n<td bgcolor=#FFFFFF>1</td>\\n<td bgcolor=#fad7ac>0.485</td>\\n</tr>\\n</table>\", \"<table border=\\\"1\\\" cellpadding=\\\"4\\\" cellspacing=\\\"0\\\" bordercolor=\\\"#000000\\\">\\n<tr bgcolor=\\\"#AAAAAA\\\">\\n<th align=\\\"center\\\">0</th>\\n<th align=\\\"center\\\">2</th>\\n<th align=\\\"center\\\">3</th>\\n<th align=\\\"center\\\">5</th>\\n<th align=\\\"center\\\">6</th>\\n<th align=\\\"center\\\">7</th>\\n<th align=\\\"center\\\">8</th>\\n<th align=\\\"center\\\">Prob.</th>\\n</tr>\\n<tr>\\n<td bgcolor=#FFFFFF>0</td>\\n<td bgcolor=#FFFFFF>0</td>\\n<td bgcolor=#FFFFFF>0</td>\\n<td bgcolor=#FFFFFF>0</td>\\n<td bgcolor=#FFFFFF>0</td>\\n<td bgcolor=#FFFFFF>0</td>\\n<td bgcolor=#FFFFFF>0</td>\\n<td bgcolor=#fbb4ae>0.000</td>\\n</tr>\\n<tr>\\n<td bgcolor=#FFFFFF>0</td>\\n<td bgcolor=#FFFFFF>0</td>\\n<td bgcolor=#FFFFFF>0</td>\\n<td bgcolor=#FFFFFF>0</td>\\n<td bgcolor=#FFFFFF>0</td>\\n<td bgcolor=#FFFFFF>0</td>\\n<td bgcolor=#FFFFFF>1</td>\\n<td bgcolor=#f2f2f2>1.000</td>\\n</tr>\\n<tr>\\n<td bgcolor=#FFFFFF>0</td>\\n<td bgcolor=#FFFFFF>0</td>\\n<td bgcolor=#FFFFFF>0</td>\\n<td bgcolor=#FFFFFF>0</td>\\n<td bgcolor=#FFFFFF>0</td>\\n<td bgcolor=#FFFFFF>1</td>\\n<td bgcolor=#FFFFFF>0</td>\\n<td bgcolor=#c8e6c9>0.233</td>\\n</tr>\\n<tr>\\n<td bgcolor=#FFFFFF>0</td>\\n<td bgcolor=#FFFFFF>0</td>\\n<td bgcolor=#FFFFFF>0</td>\\n<td bgcolor=#FFFFFF>0</td>\\n<td bgcolor=#FFFFFF>0</td>\\n<td bgcolor=#FFFFFF>1</td>\\n<td bgcolor=#FFFFFF>1</td>\\n<td bgcolor=#e8d8c4>0.767</td>\\n</tr>\\n<tr>\\n<td bgcolor=#FFFFFF>0</td>\\n<td bgcolor=#FFFFFF>0</td>\\n<td bgcolor=#FFFFFF>0</td>\\n<td bgcolor=#FFFFFF>0</td>\\n<td bgcolor=#FFFFFF>1</td>\\n<td bgcolor=#FFFFFF>0</td>\\n<td bgcolor=#FFFFFF>0</td>\\n<td bgcolor=#f7f4c7>0.659</td>\\n</tr>\\n<tr>\\n<td bgcolor=#FFFFFF>0</td>\\n<td bgcolor=#FFFFFF>0</td>\\n<td bgcolor=#FFFFFF>0</td>\\n<td bgcolor=#FFFFFF>0</td>\\n<td bgcolor=#FFFFFF>1</td>\\n<td bgcolor=#FFFFFF>0</td>\\n<td bgcolor=#FFFFFF>1</td>\\n<td bgcolor=#d9d3db>0.341</td>\\n</tr>\\n<tr>\\n<td bgcolor=#FFFFFF>0</td>\\n<td bgcolor=#FFFFFF>0</td>\\n<td bgcolor=#FFFFFF>0</td>\\n<td bgcolor=#FFFFFF>0</td>\\n<td bgcolor=#FFFFFF>1</td>\\n<td bgcolor=#FFFFFF>1</td>\\n<td bgcolor=#FFFFFF>0</td>\\n<td bgcolor=#b7d1de>0.145</td>\\n</tr>\\n<tr>\\n<td bgcolor=#FFFFFF>0</td>\\n<td bgcolor=#FFFFFF>0</td>\\n<td bgcolor=#FFFFFF>0</td>\\n<td bgcolor=#FFFFFF>0</td>\\n<td bgcolor=#FFFFFF>1</td>\\n<td bgcolor=#FFFFFF>1</td>\\n<td bgcolor=#FFFFFF>1</td>\\n<td bgcolor=#f9d9e4>0.855</td>\\n</tr>\\n<tr>\\n<td bgcolor=#FFFFFF>0</td>\\n<td bgcolor=#FFFFFF>0</td>\\n<td bgcolor=#FFFFFF>0</td>\\n<td bgcolor=#FFFFFF>1</td>\\n<td bgcolor=#FFFFFF>0</td>\\n<td bgcolor=#FFFFFF>0</td>\\n<td bgcolor=#FFFFFF>0</td>\\n<td bgcolor=#f3d9da>0.828</td>\\n</tr>\\n<tr>\\n<td bgcolor=#FFFFFF>0</td>\\n<td bgcolor=#FFFFFF>0</td>\\n<td bgcolor=#FFFFFF>0</td>\\n<td bgcolor=#FFFFFF>1</td>\\n<td bgcolor=#FFFFFF>0</td>\\n<td bgcolor=#FFFFFF>0</td>\\n<td bgcolor=#FFFFFF>1</td>\\n<td bgcolor=#bcd8d7>0.172</td>\\n</tr>\\n<tr>\\n<td bgcolor=#FFFFFF>0</td>\\n<td bgcolor=#FFFFFF>0</td>\\n<td bgcolor=#FFFFFF>0</td>\\n<td bgcolor=#FFFFFF>1</td>\\n<td bgcolor=#FFFFFF>0</td>\\n<td bgcolor=#FFFFFF>1</td>\\n<td bgcolor=#FFFFFF>0</td>\\n<td bgcolor=#f4efc6>0.674</td>\\n</tr>\\n<tr>\\n<td bgcolor=#FFFFFF>0</td>\\n<td bgcolor=#FFFFFF>0</td>\\n<td bgcolor=#FFFFFF>0</td>\\n<td bgcolor=#FFFFFF>1</td>\\n<td bgcolor=#FFFFFF>0</td>\\n<td bgcolor=#FFFFFF>1</td>\\n<td bgcolor=#FFFFFF>1</td>\\n<td bgcolor=#d6d7d7>0.326</td>\\n</tr>\\n<tr>\\n<td bgcolor=#FFFFFF>0</td>\\n<td bgcolor=#FFFFFF>0</td>\\n<td bgcolor=#FFFFFF>0</td>\\n<td bgcolor=#FFFFFF>1</td>\\n<td bgcolor=#FFFFFF>1</td>\\n<td bgcolor=#FFFFFF>0</td>\\n<td bgcolor=#FFFFFF>0</td>\\n<td bgcolor=#fef7c4>0.598</td>\\n</tr>\\n<tr>\\n<td bgcolor=#FFFFFF>0</td>\\n<td bgcolor=#FFFFFF>0</td>\\n<td bgcolor=#FFFFFF>0</td>\\n<td bgcolor=#FFFFFF>1</td>\\n<td bgcolor=#FFFFFF>1</td>\\n<td bgcolor=#FFFFFF>0</td>\\n<td bgcolor=#FFFFFF>1</td>\\n<td bgcolor=#e4cdd7>0.402</td>\\n</tr>\\n<tr>\\n<td bgcolor=#FFFFFF>0</td>\\n<td bgcolor=#FFFFFF>0</td>\\n<td bgcolor=#FFFFFF>0</td>\\n<td bgcolor=#FFFFFF>1</td>\\n<td bgcolor=#FFFFFF>1</td>\\n<td bgcolor=#FFFFFF>1</td>\\n<td bgcolor=#FFFFFF>0</td>\\n<td bgcolor=#d0e2cd>0.285</td>\\n</tr>\\n<tr>\\n<td bgcolor=#FFFFFF>0</td>\\n<td bgcolor=#FFFFFF>0</td>\\n<td bgcolor=#FFFFFF>0</td>\\n<td bgcolor=#FFFFFF>1</td>\\n<td bgcolor=#FFFFFF>1</td>\\n<td bgcolor=#FFFFFF>1</td>\\n<td bgcolor=#FFFFFF>1</td>\\n<td bgcolor=#ebe2c0>0.715</td>\\n</tr>\\n<tr>\\n<td bgcolor=#FFFFFF>0</td>\\n<td bgcolor=#FFFFFF>0</td>\\n<td bgcolor=#FFFFFF>1</td>\\n<td bgcolor=#FFFFFF>0</td>\\n<td bgcolor=#FFFFFF>0</td>\\n<td bgcolor=#FFFFFF>0</td>\\n<td bgcolor=#FFFFFF>0</td>\\n<td bgcolor=#feebb8>0.560</td>\\n</tr>\\n<tr>\\n<td bgcolor=#FFFFFF>0</td>\\n<td bgcolor=#FFFFFF>0</td>\\n<td bgcolor=#FFFFFF>1</td>\\n<td bgcolor=#FFFFFF>0</td>\\n<td bgcolor=#FFFFFF>0</td>\\n<td bgcolor=#FFFFFF>0</td>\\n<td bgcolor=#FFFFFF>1</td>\\n<td bgcolor=#eed2c4>0.440</td>\\n</tr>\\n<tr>\\n<td bgcolor=#FFFFFF>0</td>\\n<td bgcolor=#FFFFFF>0</td>\\n<td bgcolor=#FFFFFF>1</td>\\n<td bgcolor=#FFFFFF>0</td>\\n<td bgcolor=#FFFFFF>0</td>\\n<td bgcolor=#FFFFFF>1</td>\\n<td bgcolor=#FFFFFF>0</td>\\n<td bgcolor=#fad7ac>0.488</td>\\n</tr>\\n<tr>\\n<td bgcolor=#FFFFFF>0</td>\\n<td bgcolor=#FFFFFF>0</td>\\n<td bgcolor=#FFFFFF>1</td>\\n<td bgcolor=#FFFFFF>0</td>\\n<td bgcolor=#FFFFFF>0</td>\\n<td bgcolor=#FFFFFF>1</td>\\n<td bgcolor=#FFFFFF>1</td>\\n<td bgcolor=#feddaa>0.512</td>\\n</tr>\\n<tr>\\n<td bgcolor=#FFFFFF>0</td>\\n<td bgcolor=#FFFFFF>0</td>\\n<td bgcolor=#FFFFFF>1</td>\\n<td bgcolor=#FFFFFF>0</td>\\n<td bgcolor=#FFFFFF>1</td>\\n<td bgcolor=#FFFFFF>0</td>\\n<td bgcolor=#FFFFFF>0</td>\\n<td bgcolor=#d4dcd2>0.308</td>\\n</tr>\\n<tr>\\n<td bgcolor=#FFFFFF>0</td>\\n<td bgcolor=#FFFFFF>0</td>\\n<td bgcolor=#FFFFFF>1</td>\\n<td bgcolor=#FFFFFF>0</td>\\n<td bgcolor=#FFFFFF>1</td>\\n<td bgcolor=#FFFFFF>0</td>\\n<td bgcolor=#FFFFFF>1</td>\\n<td bgcolor=#f0e9c3>0.692</td>\\n</tr>\\n<tr>\\n<td bgcolor=#FFFFFF>0</td>\\n<td bgcolor=#FFFFFF>0</td>\\n<td bgcolor=#FFFFFF>1</td>\\n<td bgcolor=#FFFFFF>0</td>\\n<td bgcolor=#FFFFFF>1</td>\\n<td bgcolor=#FFFFFF>1</td>\\n<td bgcolor=#FFFFFF>0</td>\\n<td bgcolor=#efe8c3>0.697</td>\\n</tr>\\n<tr>\\n<td bgcolor=#FFFFFF>0</td>\\n<td bgcolor=#FFFFFF>0</td>\\n<td bgcolor=#FFFFFF>1</td>\\n<td bgcolor=#FFFFFF>0</td>\\n<td bgcolor=#FFFFFF>1</td>\\n<td bgcolor=#FFFFFF>1</td>\\n<td bgcolor=#FFFFFF>1</td>\\n<td bgcolor=#d3ddd1>0.303</td>\\n</tr>\\n<tr>\\n<td bgcolor=#FFFFFF>0</td>\\n<td bgcolor=#FFFFFF>0</td>\\n<td bgcolor=#FFFFFF>1</td>\\n<td bgcolor=#FFFFFF>1</td>\\n<td bgcolor=#FFFFFF>0</td>\\n<td bgcolor=#FFFFFF>0</td>\\n<td bgcolor=#FFFFFF>0</td>\\n<td bgcolor=#f7d9e1>0.845</td>\\n</tr>\\n<tr>\\n<td bgcolor=#FFFFFF>0</td>\\n<td bgcolor=#FFFFFF>0</td>\\n<td bgcolor=#FFFFFF>1</td>\\n<td bgcolor=#FFFFFF>1</td>\\n<td bgcolor=#FFFFFF>0</td>\\n<td bgcolor=#FFFFFF>0</td>\\n<td bgcolor=#FFFFFF>1</td>\\n<td bgcolor=#b8d3dc>0.155</td>\\n</tr>\\n<tr>\\n<td bgcolor=#FFFFFF>0</td>\\n<td bgcolor=#FFFFFF>0</td>\\n<td bgcolor=#FFFFFF>1</td>\\n<td bgcolor=#FFFFFF>1</td>\\n<td bgcolor=#FFFFFF>0</td>\\n<td bgcolor=#FFFFFF>1</td>\\n<td bgcolor=#FFFFFF>0</td>\\n<td bgcolor=#f6e8ef>0.952</td>\\n</tr>\\n<tr>\\n<td bgcolor=#FFFFFF>0</td>\\n<td bgcolor=#FFFFFF>0</td>\\n<td bgcolor=#FFFFFF>1</td>\\n<td bgcolor=#FFFFFF>1</td>\\n<td bgcolor=#FFFFFF>0</td>\\n<td bgcolor=#FFFFFF>1</td>\\n<td bgcolor=#FFFFFF>1</td>\\n<td bgcolor=#dfbdc1>0.048</td>\\n</tr>\\n<tr>\\n<td bgcolor=#FFFFFF>0</td>\\n<td bgcolor=#FFFFFF>0</td>\\n<td bgcolor=#FFFFFF>1</td>\\n<td bgcolor=#FFFFFF>1</td>\\n<td bgcolor=#FFFFFF>1</td>\\n<td bgcolor=#FFFFFF>0</td>\\n<td bgcolor=#FFFFFF>0</td>\\n<td bgcolor=#dbbec5>0.057</td>\\n</tr>\\n<tr>\\n<td bgcolor=#FFFFFF>0</td>\\n<td bgcolor=#FFFFFF>0</td>\\n<td bgcolor=#FFFFFF>1</td>\\n<td bgcolor=#FFFFFF>1</td>\\n<td bgcolor=#FFFFFF>1</td>\\n<td bgcolor=#FFFFFF>0</td>\\n<td bgcolor=#FFFFFF>1</td>\\n<td bgcolor=#f6e7ef>0.943</td>\\n</tr>\\n<tr>\\n<td bgcolor=#FFFFFF>0</td>\\n<td bgcolor=#FFFFFF>0</td>\\n<td bgcolor=#FFFFFF>1</td>\\n<td bgcolor=#FFFFFF>1</td>\\n<td bgcolor=#FFFFFF>1</td>\\n<td bgcolor=#FFFFFF>1</td>\\n<td bgcolor=#FFFFFF>0</td>\\n<td bgcolor=#ecd8cb>0.788</td>\\n</tr>\\n<tr>\\n<td bgcolor=#FFFFFF>0</td>\\n<td bgcolor=#FFFFFF>0</td>\\n<td bgcolor=#FFFFFF>1</td>\\n<td bgcolor=#FFFFFF>1</td>\\n<td bgcolor=#FFFFFF>1</td>\\n<td bgcolor=#FFFFFF>1</td>\\n<td bgcolor=#FFFFFF>1</td>\\n<td bgcolor=#c4e1ce>0.212</td>\\n</tr>\\n<tr>\\n<td bgcolor=#FFFFFF>0</td>\\n<td bgcolor=#FFFFFF>1</td>\\n<td bgcolor=#FFFFFF>0</td>\\n<td bgcolor=#FFFFFF>0</td>\\n<td bgcolor=#FFFFFF>0</td>\\n<td bgcolor=#FFFFFF>0</td>\\n<td bgcolor=#FFFFFF>0</td>\\n<td bgcolor=#d9d2dc>0.347</td>\\n</tr>\\n<tr>\\n<td bgcolor=#FFFFFF>0</td>\\n<td bgcolor=#FFFFFF>1</td>\\n<td bgcolor=#FFFFFF>0</td>\\n<td bgcolor=#FFFFFF>0</td>\\n<td bgcolor=#FFFFFF>0</td>\\n<td bgcolor=#FFFFFF>0</td>\\n<td bgcolor=#FFFFFF>1</td>\\n<td bgcolor=#f8f5c8>0.653</td>\\n</tr>\\n<tr>\\n<td bgcolor=#FFFFFF>0</td>\\n<td bgcolor=#FFFFFF>1</td>\\n<td bgcolor=#FFFFFF>0</td>\\n<td bgcolor=#FFFFFF>0</td>\\n<td bgcolor=#FFFFFF>0</td>\\n<td bgcolor=#FFFFFF>1</td>\\n<td bgcolor=#FFFFFF>0</td>\\n<td bgcolor=#d6d8d6>0.322</td>\\n</tr>\\n<tr>\\n<td bgcolor=#FFFFFF>0</td>\\n<td bgcolor=#FFFFFF>1</td>\\n<td bgcolor=#FFFFFF>0</td>\\n<td bgcolor=#FFFFFF>0</td>\\n<td bgcolor=#FFFFFF>0</td>\\n<td bgcolor=#FFFFFF>1</td>\\n<td bgcolor=#FFFFFF>1</td>\\n<td bgcolor=#f3eec5>0.678</td>\\n</tr>\\n<tr>\\n<td bgcolor=#FFFFFF>0</td>\\n<td bgcolor=#FFFFFF>1</td>\\n<td bgcolor=#FFFFFF>0</td>\\n<td bgcolor=#FFFFFF>0</td>\\n<td bgcolor=#FFFFFF>1</td>\\n<td bgcolor=#FFFFFF>0</td>\\n<td bgcolor=#FFFFFF>0</td>\\n<td bgcolor=#fcdcec>0.886</td>\\n</tr>\\n<tr>\\n<td bgcolor=#FFFFFF>0</td>\\n<td bgcolor=#FFFFFF>1</td>\\n<td bgcolor=#FFFFFF>0</td>\\n<td bgcolor=#FFFFFF>0</td>\\n<td bgcolor=#FFFFFF>1</td>\\n<td bgcolor=#FFFFFF>0</td>\\n<td bgcolor=#FFFFFF>1</td>\\n<td bgcolor=#b9cade>0.114</td>\\n</tr>\\n<tr>\\n<td bgcolor=#FFFFFF>0</td>\\n<td bgcolor=#FFFFFF>1</td>\\n<td bgcolor=#FFFFFF>0</td>\\n<td bgcolor=#FFFFFF>0</td>\\n<td bgcolor=#FFFFFF>1</td>\\n<td bgcolor=#FFFFFF>1</td>\\n<td bgcolor=#FFFFFF>0</td>\\n<td bgcolor=#f6d9e0>0.840</td>\\n</tr>\\n<tr>\\n<td bgcolor=#FFFFFF>0</td>\\n<td bgcolor=#FFFFFF>1</td>\\n<td bgcolor=#FFFFFF>0</td>\\n<td bgcolor=#FFFFFF>0</td>\\n<td bgcolor=#FFFFFF>1</td>\\n<td bgcolor=#FFFFFF>1</td>\\n<td bgcolor=#FFFFFF>1</td>\\n<td bgcolor=#b9d4db>0.160</td>\\n</tr>\\n<tr>\\n<td bgcolor=#FFFFFF>0</td>\\n<td bgcolor=#FFFFFF>1</td>\\n<td bgcolor=#FFFFFF>0</td>\\n<td bgcolor=#FFFFFF>1</td>\\n<td bgcolor=#FFFFFF>0</td>\\n<td bgcolor=#FFFFFF>0</td>\\n<td bgcolor=#FFFFFF>0</td>\\n<td bgcolor=#d4c1ca>0.070</td>\\n</tr>\\n<tr>\\n<td bgcolor=#FFFFFF>0</td>\\n<td bgcolor=#FFFFFF>1</td>\\n<td bgcolor=#FFFFFF>0</td>\\n<td bgcolor=#FFFFFF>1</td>\\n<td bgcolor=#FFFFFF>0</td>\\n<td bgcolor=#FFFFFF>0</td>\\n<td bgcolor=#FFFFFF>1</td>\\n<td bgcolor=#f7e5ee>0.930</td>\\n</tr>\\n<tr>\\n<td bgcolor=#FFFFFF>0</td>\\n<td bgcolor=#FFFFFF>1</td>\\n<td bgcolor=#FFFFFF>0</td>\\n<td bgcolor=#FFFFFF>1</td>\\n<td bgcolor=#FFFFFF>0</td>\\n<td bgcolor=#FFFFFF>1</td>\\n<td bgcolor=#FFFFFF>0</td>\\n<td bgcolor=#fee4b1>0.538</td>\\n</tr>\\n<tr>\\n<td bgcolor=#FFFFFF>0</td>\\n<td bgcolor=#FFFFFF>1</td>\\n<td bgcolor=#FFFFFF>0</td>\\n<td bgcolor=#FFFFFF>1</td>\\n<td bgcolor=#FFFFFF>0</td>\\n<td bgcolor=#FFFFFF>1</td>\\n<td bgcolor=#FFFFFF>1</td>\\n<td bgcolor=#f4d4b8>0.462</td>\\n</tr>\\n<tr>\\n<td bgcolor=#FFFFFF>0</td>\\n<td bgcolor=#FFFFFF>1</td>\\n<td bgcolor=#FFFFFF>0</td>\\n<td bgcolor=#FFFFFF>1</td>\\n<td bgcolor=#FFFFFF>1</td>\\n<td bgcolor=#FFFFFF>0</td>\\n<td bgcolor=#FFFFFF>0</td>\\n<td bgcolor=#fbdcec>0.887</td>\\n</tr>\\n<tr>\\n<td bgcolor=#FFFFFF>0</td>\\n<td bgcolor=#FFFFFF>1</td>\\n<td bgcolor=#FFFFFF>0</td>\\n<td bgcolor=#FFFFFF>1</td>\\n<td bgcolor=#FFFFFF>1</td>\\n<td bgcolor=#FFFFFF>0</td>\\n<td bgcolor=#FFFFFF>1</td>\\n<td bgcolor=#bbc9dc>0.113</td>\\n</tr>\\n<tr>\\n<td bgcolor=#FFFFFF>0</td>\\n<td bgcolor=#FFFFFF>1</td>\\n<td bgcolor=#FFFFFF>0</td>\\n<td bgcolor=#FFFFFF>1</td>\\n<td bgcolor=#FFFFFF>1</td>\\n<td bgcolor=#FFFFFF>1</td>\\n<td bgcolor=#FFFFFF>0</td>\\n<td bgcolor=#fef3c0>0.586</td>\\n</tr>\\n<tr>\\n<td bgcolor=#FFFFFF>0</td>\\n<td bgcolor=#FFFFFF>1</td>\\n<td bgcolor=#FFFFFF>0</td>\\n<td bgcolor=#FFFFFF>1</td>\\n<td bgcolor=#FFFFFF>1</td>\\n<td bgcolor=#FFFFFF>1</td>\\n<td bgcolor=#FFFFFF>1</td>\\n<td bgcolor=#e7cfd1>0.414</td>\\n</tr>\\n<tr>\\n<td bgcolor=#FFFFFF>0</td>\\n<td bgcolor=#FFFFFF>1</td>\\n<td bgcolor=#FFFFFF>1</td>\\n<td bgcolor=#FFFFFF>0</td>\\n<td bgcolor=#FFFFFF>0</td>\\n<td bgcolor=#FFFFFF>0</td>\\n<td bgcolor=#FFFFFF>0</td>\\n<td bgcolor=#ebd0c9>0.429</td>\\n</tr>\\n<tr>\\n<td bgcolor=#FFFFFF>0</td>\\n<td bgcolor=#FFFFFF>1</td>\\n<td bgcolor=#FFFFFF>1</td>\\n<td bgcolor=#FFFFFF>0</td>\\n<td bgcolor=#FFFFFF>0</td>\\n<td bgcolor=#FFFFFF>0</td>\\n<td bgcolor=#FFFFFF>1</td>\\n<td bgcolor=#feefbc>0.571</td>\\n</tr>\\n<tr>\\n<td bgcolor=#FFFFFF>0</td>\\n<td bgcolor=#FFFFFF>1</td>\\n<td bgcolor=#FFFFFF>1</td>\\n<td bgcolor=#FFFFFF>0</td>\\n<td bgcolor=#FFFFFF>0</td>\\n<td bgcolor=#FFFFFF>1</td>\\n<td bgcolor=#FFFFFF>0</td>\\n<td bgcolor=#e6dabe>0.740</td>\\n</tr>\\n<tr>\\n<td bgcolor=#FFFFFF>0</td>\\n<td bgcolor=#FFFFFF>1</td>\\n<td bgcolor=#FFFFFF>1</td>\\n<td bgcolor=#FFFFFF>0</td>\\n<td bgcolor=#FFFFFF>0</td>\\n<td bgcolor=#FFFFFF>1</td>\\n<td bgcolor=#FFFFFF>1</td>\\n<td bgcolor=#cde8c7>0.260</td>\\n</tr>\\n<tr>\\n<td bgcolor=#FFFFFF>0</td>\\n<td bgcolor=#FFFFFF>1</td>\\n<td bgcolor=#FFFFFF>1</td>\\n<td bgcolor=#FFFFFF>0</td>\\n<td bgcolor=#FFFFFF>1</td>\\n<td bgcolor=#FFFFFF>0</td>\\n<td bgcolor=#FFFFFF>0</td>\\n<td bgcolor=#d6c0c8>0.066</td>\\n</tr>\\n<tr>\\n<td bgcolor=#FFFFFF>0</td>\\n<td bgcolor=#FFFFFF>1</td>\\n<td bgcolor=#FFFFFF>1</td>\\n<td bgcolor=#FFFFFF>0</td>\\n<td bgcolor=#FFFFFF>1</td>\\n<td bgcolor=#FFFFFF>0</td>\\n<td bgcolor=#FFFFFF>1</td>\\n<td bgcolor=#f7e5ee>0.934</td>\\n</tr>\\n<tr>\\n<td bgcolor=#FFFFFF>0</td>\\n<td bgcolor=#FFFFFF>1</td>\\n<td bgcolor=#FFFFFF>1</td>\\n<td bgcolor=#FFFFFF>0</td>\\n<td bgcolor=#FFFFFF>1</td>\\n<td bgcolor=#FFFFFF>1</td>\\n<td bgcolor=#FFFFFF>0</td>\\n<td bgcolor=#f0e9c3>0.695</td>\\n</tr>\\n<tr>\\n<td bgcolor=#FFFFFF>0</td>\\n<td bgcolor=#FFFFFF>1</td>\\n<td bgcolor=#FFFFFF>1</td>\\n<td bgcolor=#FFFFFF>0</td>\\n<td bgcolor=#FFFFFF>1</td>\\n<td bgcolor=#FFFFFF>1</td>\\n<td bgcolor=#FFFFFF>1</td>\\n<td bgcolor=#d4dcd2>0.305</td>\\n</tr>\\n<tr>\\n<td bgcolor=#FFFFFF>0</td>\\n<td bgcolor=#FFFFFF>1</td>\\n<td bgcolor=#FFFFFF>1</td>\\n<td bgcolor=#FFFFFF>1</td>\\n<td bgcolor=#FFFFFF>0</td>\\n<td bgcolor=#FFFFFF>0</td>\\n<td bgcolor=#FFFFFF>0</td>\\n<td bgcolor=#d9d3db>0.340</td>\\n</tr>\\n<tr>\\n<td bgcolor=#FFFFFF>0</td>\\n<td bgcolor=#FFFFFF>1</td>\\n<td bgcolor=#FFFFFF>1</td>\\n<td bgcolor=#FFFFFF>1</td>\\n<td bgcolor=#FFFFFF>0</td>\\n<td bgcolor=#FFFFFF>0</td>\\n<td bgcolor=#FFFFFF>1</td>\\n<td bgcolor=#f7f4c7>0.660</td>\\n</tr>\\n<tr>\\n<td bgcolor=#FFFFFF>0</td>\\n<td bgcolor=#FFFFFF>1</td>\\n<td bgcolor=#FFFFFF>1</td>\\n<td bgcolor=#FFFFFF>1</td>\\n<td bgcolor=#FFFFFF>0</td>\\n<td bgcolor=#FFFFFF>1</td>\\n<td bgcolor=#FFFFFF>0</td>\\n<td bgcolor=#cbeac5>0.249</td>\\n</tr>\\n<tr>\\n<td bgcolor=#FFFFFF>0</td>\\n<td bgcolor=#FFFFFF>1</td>\\n<td bgcolor=#FFFFFF>1</td>\\n<td bgcolor=#FFFFFF>1</td>\\n<td bgcolor=#FFFFFF>0</td>\\n<td bgcolor=#FFFFFF>1</td>\\n<td bgcolor=#FFFFFF>1</td>\\n<td bgcolor=#e5d8be>0.751</td>\\n</tr>\\n<tr>\\n<td bgcolor=#FFFFFF>0</td>\\n<td bgcolor=#FFFFFF>1</td>\\n<td bgcolor=#FFFFFF>1</td>\\n<td bgcolor=#FFFFFF>1</td>\\n<td bgcolor=#FFFFFF>1</td>\\n<td bgcolor=#FFFFFF>0</td>\\n<td bgcolor=#FFFFFF>0</td>\\n<td bgcolor=#feefbc>0.573</td>\\n</tr>\\n<tr>\\n<td bgcolor=#FFFFFF>0</td>\\n<td bgcolor=#FFFFFF>1</td>\\n<td bgcolor=#FFFFFF>1</td>\\n<td bgcolor=#FFFFFF>1</td>\\n<td bgcolor=#FFFFFF>1</td>\\n<td bgcolor=#FFFFFF>0</td>\\n<td bgcolor=#FFFFFF>1</td>\\n<td bgcolor=#ebd0c9>0.427</td>\\n</tr>\\n<tr>\\n<td bgcolor=#FFFFFF>0</td>\\n<td bgcolor=#FFFFFF>1</td>\\n<td bgcolor=#FFFFFF>1</td>\\n<td bgcolor=#FFFFFF>1</td>\\n<td bgcolor=#FFFFFF>1</td>\\n<td bgcolor=#FFFFFF>1</td>\\n<td bgcolor=#FFFFFF>0</td>\\n<td bgcolor=#f6d5b4>0.469</td>\\n</tr>\\n<tr>\\n<td bgcolor=#FFFFFF>0</td>\\n<td bgcolor=#FFFFFF>1</td>\\n<td bgcolor=#FFFFFF>1</td>\\n<td bgcolor=#FFFFFF>1</td>\\n<td bgcolor=#FFFFFF>1</td>\\n<td bgcolor=#FFFFFF>1</td>\\n<td bgcolor=#FFFFFF>1</td>\\n<td bgcolor=#fee1ae>0.531</td>\\n</tr>\\n<tr>\\n<td bgcolor=#FFFFFF>1</td>\\n<td bgcolor=#FFFFFF>0</td>\\n<td bgcolor=#FFFFFF>0</td>\\n<td bgcolor=#FFFFFF>0</td>\\n<td bgcolor=#FFFFFF>0</td>\\n<td bgcolor=#FFFFFF>0</td>\\n<td bgcolor=#FFFFFF>0</td>\\n<td bgcolor=#bdd9d6>0.176</td>\\n</tr>\\n<tr>\\n<td bgcolor=#FFFFFF>1</td>\\n<td bgcolor=#FFFFFF>0</td>\\n<td bgcolor=#FFFFFF>0</td>\\n<td bgcolor=#FFFFFF>0</td>\\n<td bgcolor=#FFFFFF>0</td>\\n<td bgcolor=#FFFFFF>0</td>\\n<td bgcolor=#FFFFFF>1</td>\\n<td bgcolor=#f3d9d8>0.824</td>\\n</tr>\\n<tr>\\n<td bgcolor=#FFFFFF>1</td>\\n<td bgcolor=#FFFFFF>0</td>\\n<td bgcolor=#FFFFFF>0</td>\\n<td bgcolor=#FFFFFF>0</td>\\n<td bgcolor=#FFFFFF>0</td>\\n<td bgcolor=#FFFFFF>1</td>\\n<td bgcolor=#FFFFFF>0</td>\\n<td bgcolor=#fcdcec>0.886</td>\\n</tr>\\n<tr>\\n<td bgcolor=#FFFFFF>1</td>\\n<td bgcolor=#FFFFFF>0</td>\\n<td bgcolor=#FFFFFF>0</td>\\n<td bgcolor=#FFFFFF>0</td>\\n<td bgcolor=#FFFFFF>0</td>\\n<td bgcolor=#FFFFFF>1</td>\\n<td bgcolor=#FFFFFF>1</td>\\n<td bgcolor=#b9cade>0.114</td>\\n</tr>\\n<tr>\\n<td bgcolor=#FFFFFF>1</td>\\n<td bgcolor=#FFFFFF>0</td>\\n<td bgcolor=#FFFFFF>0</td>\\n<td bgcolor=#FFFFFF>0</td>\\n<td bgcolor=#FFFFFF>1</td>\\n<td bgcolor=#FFFFFF>0</td>\\n<td bgcolor=#FFFFFF>0</td>\\n<td bgcolor=#efd8d1>0.802</td>\\n</tr>\\n<tr>\\n<td bgcolor=#FFFFFF>1</td>\\n<td bgcolor=#FFFFFF>0</td>\\n<td bgcolor=#FFFFFF>0</td>\\n<td bgcolor=#FFFFFF>0</td>\\n<td bgcolor=#FFFFFF>1</td>\\n<td bgcolor=#FFFFFF>0</td>\\n<td bgcolor=#FFFFFF>1</td>\\n<td bgcolor=#c1ded1>0.198</td>\\n</tr>\\n<tr>\\n<td bgcolor=#FFFFFF>1</td>\\n<td bgcolor=#FFFFFF>0</td>\\n<td bgcolor=#FFFFFF>0</td>\\n<td bgcolor=#FFFFFF>0</td>\\n<td bgcolor=#FFFFFF>1</td>\\n<td bgcolor=#FFFFFF>1</td>\\n<td bgcolor=#FFFFFF>0</td>\\n<td bgcolor=#f7d6b2>0.476</td>\\n</tr>\\n<tr>\\n<td bgcolor=#FFFFFF>1</td>\\n<td bgcolor=#FFFFFF>0</td>\\n<td bgcolor=#FFFFFF>0</td>\\n<td bgcolor=#FFFFFF>0</td>\\n<td bgcolor=#FFFFFF>1</td>\\n<td bgcolor=#FFFFFF>1</td>\\n<td bgcolor=#FFFFFF>1</td>\\n<td bgcolor=#fee0ad>0.524</td>\\n</tr>\\n<tr>\\n<td bgcolor=#FFFFFF>1</td>\\n<td bgcolor=#FFFFFF>0</td>\\n<td bgcolor=#FFFFFF>0</td>\\n<td bgcolor=#FFFFFF>1</td>\\n<td bgcolor=#FFFFFF>0</td>\\n<td bgcolor=#FFFFFF>0</td>\\n<td bgcolor=#FFFFFF>0</td>\\n<td bgcolor=#e6d8bf>0.757</td>\\n</tr>\\n<tr>\\n<td bgcolor=#FFFFFF>1</td>\\n<td bgcolor=#FFFFFF>0</td>\\n<td bgcolor=#FFFFFF>0</td>\\n<td bgcolor=#FFFFFF>1</td>\\n<td bgcolor=#FFFFFF>0</td>\\n<td bgcolor=#FFFFFF>0</td>\\n<td bgcolor=#FFFFFF>1</td>\\n<td bgcolor=#cae9c6>0.243</td>\\n</tr>\\n<tr>\\n<td bgcolor=#FFFFFF>1</td>\\n<td bgcolor=#FFFFFF>0</td>\\n<td bgcolor=#FFFFFF>0</td>\\n<td bgcolor=#FFFFFF>1</td>\\n<td bgcolor=#FFFFFF>0</td>\\n<td bgcolor=#FFFFFF>1</td>\\n<td bgcolor=#FFFFFF>0</td>\\n<td bgcolor=#bbd7d8>0.168</td>\\n</tr>\\n<tr>\\n<td bgcolor=#FFFFFF>1</td>\\n<td bgcolor=#FFFFFF>0</td>\\n<td bgcolor=#FFFFFF>0</td>\\n<td bgcolor=#FFFFFF>1</td>\\n<td bgcolor=#FFFFFF>0</td>\\n<td bgcolor=#FFFFFF>1</td>\\n<td bgcolor=#FFFFFF>1</td>\\n<td bgcolor=#f4d9db>0.832</td>\\n</tr>\\n<tr>\\n<td bgcolor=#FFFFFF>1</td>\\n<td bgcolor=#FFFFFF>0</td>\\n<td bgcolor=#FFFFFF>0</td>\\n<td bgcolor=#FFFFFF>1</td>\\n<td bgcolor=#FFFFFF>1</td>\\n<td bgcolor=#FFFFFF>0</td>\\n<td bgcolor=#FFFFFF>0</td>\\n<td bgcolor=#fedba8>0.511</td>\\n</tr>\\n<tr>\\n<td bgcolor=#FFFFFF>1</td>\\n<td bgcolor=#FFFFFF>0</td>\\n<td bgcolor=#FFFFFF>0</td>\\n<td bgcolor=#FFFFFF>1</td>\\n<td bgcolor=#FFFFFF>1</td>\\n<td bgcolor=#FFFFFF>0</td>\\n<td bgcolor=#FFFFFF>1</td>\\n<td bgcolor=#fbd7aa>0.489</td>\\n</tr>\\n<tr>\\n<td bgcolor=#FFFFFF>1</td>\\n<td bgcolor=#FFFFFF>0</td>\\n<td bgcolor=#FFFFFF>0</td>\\n<td bgcolor=#FFFFFF>1</td>\\n<td bgcolor=#FFFFFF>1</td>\\n<td bgcolor=#FFFFFF>1</td>\\n<td bgcolor=#FFFFFF>0</td>\\n<td bgcolor=#dccde1>0.366</td>\\n</tr>\\n<tr>\\n<td bgcolor=#FFFFFF>1</td>\\n<td bgcolor=#FFFFFF>0</td>\\n<td bgcolor=#FFFFFF>0</td>\\n<td bgcolor=#FFFFFF>1</td>\\n<td bgcolor=#FFFFFF>1</td>\\n<td bgcolor=#FFFFFF>1</td>\\n<td bgcolor=#FFFFFF>1</td>\\n<td bgcolor=#fcfbca>0.634</td>\\n</tr>\\n<tr>\\n<td bgcolor=#FFFFFF>1</td>\\n<td bgcolor=#FFFFFF>0</td>\\n<td bgcolor=#FFFFFF>1</td>\\n<td bgcolor=#FFFFFF>0</td>\\n<td bgcolor=#FFFFFF>0</td>\\n<td bgcolor=#FFFFFF>0</td>\\n<td bgcolor=#FFFFFF>0</td>\\n<td bgcolor=#e2bcc0>0.046</td>\\n</tr>\\n<tr>\\n<td bgcolor=#FFFFFF>1</td>\\n<td bgcolor=#FFFFFF>0</td>\\n<td bgcolor=#FFFFFF>1</td>\\n<td bgcolor=#FFFFFF>0</td>\\n<td bgcolor=#FFFFFF>0</td>\\n<td bgcolor=#FFFFFF>0</td>\\n<td bgcolor=#FFFFFF>1</td>\\n<td bgcolor=#f5e9ef>0.954</td>\\n</tr>\\n<tr>\\n<td bgcolor=#FFFFFF>1</td>\\n<td bgcolor=#FFFFFF>0</td>\\n<td bgcolor=#FFFFFF>1</td>\\n<td bgcolor=#FFFFFF>0</td>\\n<td bgcolor=#FFFFFF>0</td>\\n<td bgcolor=#FFFFFF>1</td>\\n<td bgcolor=#FFFFFF>0</td>\\n<td bgcolor=#fbf9c9>0.641</td>\\n</tr>\\n<tr>\\n<td bgcolor=#FFFFFF>1</td>\\n<td bgcolor=#FFFFFF>0</td>\\n<td bgcolor=#FFFFFF>1</td>\\n<td bgcolor=#FFFFFF>0</td>\\n<td bgcolor=#FFFFFF>0</td>\\n<td bgcolor=#FFFFFF>1</td>\\n<td bgcolor=#FFFFFF>1</td>\\n<td bgcolor=#dbcfdf>0.359</td>\\n</tr>\\n<tr>\\n<td bgcolor=#FFFFFF>1</td>\\n<td bgcolor=#FFFFFF>0</td>\\n<td bgcolor=#FFFFFF>1</td>\\n<td bgcolor=#FFFFFF>0</td>\\n<td bgcolor=#FFFFFF>1</td>\\n<td bgcolor=#FFFFFF>0</td>\\n<td bgcolor=#FFFFFF>0</td>\\n<td bgcolor=#d2dfcf>0.296</td>\\n</tr>\\n<tr>\\n<td bgcolor=#FFFFFF>1</td>\\n<td bgcolor=#FFFFFF>0</td>\\n<td bgcolor=#FFFFFF>1</td>\\n<td bgcolor=#FFFFFF>0</td>\\n<td bgcolor=#FFFFFF>1</td>\\n<td bgcolor=#FFFFFF>0</td>\\n<td bgcolor=#FFFFFF>1</td>\\n<td bgcolor=#eee5c2>0.704</td>\\n</tr>\\n<tr>\\n<td bgcolor=#FFFFFF>1</td>\\n<td bgcolor=#FFFFFF>0</td>\\n<td bgcolor=#FFFFFF>1</td>\\n<td bgcolor=#FFFFFF>0</td>\\n<td bgcolor=#FFFFFF>1</td>\\n<td bgcolor=#FFFFFF>1</td>\\n<td bgcolor=#FFFFFF>0</td>\\n<td bgcolor=#f8e2ee>0.919</td>\\n</tr>\\n<tr>\\n<td bgcolor=#FFFFFF>1</td>\\n<td bgcolor=#FFFFFF>0</td>\\n<td bgcolor=#FFFFFF>1</td>\\n<td bgcolor=#FFFFFF>0</td>\\n<td bgcolor=#FFFFFF>1</td>\\n<td bgcolor=#FFFFFF>1</td>\\n<td bgcolor=#FFFFFF>1</td>\\n<td bgcolor=#cdc3cf>0.081</td>\\n</tr>\\n<tr>\\n<td bgcolor=#FFFFFF>1</td>\\n<td bgcolor=#FFFFFF>0</td>\\n<td bgcolor=#FFFFFF>1</td>\\n<td bgcolor=#FFFFFF>1</td>\\n<td bgcolor=#FFFFFF>0</td>\\n<td bgcolor=#FFFFFF>0</td>\\n<td bgcolor=#FFFFFF>0</td>\\n<td bgcolor=#ddcce2>0.369</td>\\n</tr>\\n<tr>\\n<td bgcolor=#FFFFFF>1</td>\\n<td bgcolor=#FFFFFF>0</td>\\n<td bgcolor=#FFFFFF>1</td>\\n<td bgcolor=#FFFFFF>1</td>\\n<td bgcolor=#FFFFFF>0</td>\\n<td bgcolor=#FFFFFF>0</td>\\n<td bgcolor=#FFFFFF>1</td>\\n<td bgcolor=#fdfdcb>0.631</td>\\n</tr>\\n<tr>\\n<td bgcolor=#FFFFFF>1</td>\\n<td bgcolor=#FFFFFF>0</td>\\n<td bgcolor=#FFFFFF>1</td>\\n<td bgcolor=#FFFFFF>1</td>\\n<td bgcolor=#FFFFFF>0</td>\\n<td bgcolor=#FFFFFF>1</td>\\n<td bgcolor=#FFFFFF>0</td>\\n<td bgcolor=#f2d9d7>0.817</td>\\n</tr>\\n<tr>\\n<td bgcolor=#FFFFFF>1</td>\\n<td bgcolor=#FFFFFF>0</td>\\n<td bgcolor=#FFFFFF>1</td>\\n<td bgcolor=#FFFFFF>1</td>\\n<td bgcolor=#FFFFFF>0</td>\\n<td bgcolor=#FFFFFF>1</td>\\n<td bgcolor=#FFFFFF>1</td>\\n<td bgcolor=#bedad5>0.183</td>\\n</tr>\\n<tr>\\n<td bgcolor=#FFFFFF>1</td>\\n<td bgcolor=#FFFFFF>0</td>\\n<td bgcolor=#FFFFFF>1</td>\\n<td bgcolor=#FFFFFF>1</td>\\n<td bgcolor=#FFFFFF>1</td>\\n<td bgcolor=#FFFFFF>0</td>\\n<td bgcolor=#FFFFFF>0</td>\\n<td bgcolor=#f1b7b4>0.016</td>\\n</tr>\\n<tr>\\n<td bgcolor=#FFFFFF>1</td>\\n<td bgcolor=#FFFFFF>0</td>\\n<td bgcolor=#FFFFFF>1</td>\\n<td bgcolor=#FFFFFF>1</td>\\n<td bgcolor=#FFFFFF>1</td>\\n<td bgcolor=#FFFFFF>0</td>\\n<td bgcolor=#FFFFFF>1</td>\\n<td bgcolor=#f3eef1>0.984</td>\\n</tr>\\n<tr>\\n<td bgcolor=#FFFFFF>1</td>\\n<td bgcolor=#FFFFFF>0</td>\\n<td bgcolor=#FFFFFF>1</td>\\n<td bgcolor=#FFFFFF>1</td>\\n<td bgcolor=#FFFFFF>1</td>\\n<td bgcolor=#FFFFFF>1</td>\\n<td bgcolor=#FFFFFF>0</td>\\n<td bgcolor=#eee5c2>0.705</td>\\n</tr>\\n<tr>\\n<td bgcolor=#FFFFFF>1</td>\\n<td bgcolor=#FFFFFF>0</td>\\n<td bgcolor=#FFFFFF>1</td>\\n<td bgcolor=#FFFFFF>1</td>\\n<td bgcolor=#FFFFFF>1</td>\\n<td bgcolor=#FFFFFF>1</td>\\n<td bgcolor=#FFFFFF>1</td>\\n<td bgcolor=#d2dfcf>0.295</td>\\n</tr>\\n<tr>\\n<td bgcolor=#FFFFFF>1</td>\\n<td bgcolor=#FFFFFF>1</td>\\n<td bgcolor=#FFFFFF>0</td>\\n<td bgcolor=#FFFFFF>0</td>\\n<td bgcolor=#FFFFFF>0</td>\\n<td bgcolor=#FFFFFF>0</td>\\n<td bgcolor=#FFFFFF>0</td>\\n<td bgcolor=#f6e8ef>0.946</td>\\n</tr>\\n<tr>\\n<td bgcolor=#FFFFFF>1</td>\\n<td bgcolor=#FFFFFF>1</td>\\n<td bgcolor=#FFFFFF>0</td>\\n<td bgcolor=#FFFFFF>0</td>\\n<td bgcolor=#FFFFFF>0</td>\\n<td bgcolor=#FFFFFF>0</td>\\n<td bgcolor=#FFFFFF>1</td>\\n<td bgcolor=#ddbec3>0.054</td>\\n</tr>\\n<tr>\\n<td bgcolor=#FFFFFF>1</td>\\n<td bgcolor=#FFFFFF>1</td>\\n<td bgcolor=#FFFFFF>0</td>\\n<td bgcolor=#FFFFFF>0</td>\\n<td bgcolor=#FFFFFF>0</td>\\n<td bgcolor=#FFFFFF>1</td>\\n<td bgcolor=#FFFFFF>0</td>\\n<td bgcolor=#bbd7d8>0.170</td>\\n</tr>\\n<tr>\\n<td bgcolor=#FFFFFF>1</td>\\n<td bgcolor=#FFFFFF>1</td>\\n<td bgcolor=#FFFFFF>0</td>\\n<td bgcolor=#FFFFFF>0</td>\\n<td bgcolor=#FFFFFF>0</td>\\n<td bgcolor=#FFFFFF>1</td>\\n<td bgcolor=#FFFFFF>1</td>\\n<td bgcolor=#f4d9db>0.830</td>\\n</tr>\\n<tr>\\n<td bgcolor=#FFFFFF>1</td>\\n<td bgcolor=#FFFFFF>1</td>\\n<td bgcolor=#FFFFFF>0</td>\\n<td bgcolor=#FFFFFF>0</td>\\n<td bgcolor=#FFFFFF>1</td>\\n<td bgcolor=#FFFFFF>0</td>\\n<td bgcolor=#FFFFFF>0</td>\\n<td bgcolor=#cce9c6>0.256</td>\\n</tr>\\n<tr>\\n<td bgcolor=#FFFFFF>1</td>\\n<td bgcolor=#FFFFFF>1</td>\\n<td bgcolor=#FFFFFF>0</td>\\n<td bgcolor=#FFFFFF>0</td>\\n<td bgcolor=#FFFFFF>1</td>\\n<td bgcolor=#FFFFFF>0</td>\\n<td bgcolor=#FFFFFF>1</td>\\n<td bgcolor=#e6d9bd>0.744</td>\\n</tr>\\n<tr>\\n<td bgcolor=#FFFFFF>1</td>\\n<td bgcolor=#FFFFFF>1</td>\\n<td bgcolor=#FFFFFF>0</td>\\n<td bgcolor=#FFFFFF>0</td>\\n<td bgcolor=#FFFFFF>1</td>\\n<td bgcolor=#FFFFFF>1</td>\\n<td bgcolor=#FFFFFF>0</td>\\n<td bgcolor=#feecb9>0.566</td>\\n</tr>\\n<tr>\\n<td bgcolor=#FFFFFF>1</td>\\n<td bgcolor=#FFFFFF>1</td>\\n<td bgcolor=#FFFFFF>0</td>\\n<td bgcolor=#FFFFFF>0</td>\\n<td bgcolor=#FFFFFF>1</td>\\n<td bgcolor=#FFFFFF>1</td>\\n<td bgcolor=#FFFFFF>1</td>\\n<td bgcolor=#edd1c6>0.434</td>\\n</tr>\\n<tr>\\n<td bgcolor=#FFFFFF>1</td>\\n<td bgcolor=#FFFFFF>1</td>\\n<td bgcolor=#FFFFFF>0</td>\\n<td bgcolor=#FFFFFF>1</td>\\n<td bgcolor=#FFFFFF>0</td>\\n<td bgcolor=#FFFFFF>0</td>\\n<td bgcolor=#FFFFFF>0</td>\\n<td bgcolor=#d8d4da>0.339</td>\\n</tr>\\n<tr>\\n<td bgcolor=#FFFFFF>1</td>\\n<td bgcolor=#FFFFFF>1</td>\\n<td bgcolor=#FFFFFF>0</td>\\n<td bgcolor=#FFFFFF>1</td>\\n<td bgcolor=#FFFFFF>0</td>\\n<td bgcolor=#FFFFFF>0</td>\\n<td bgcolor=#FFFFFF>1</td>\\n<td bgcolor=#f7f3c7>0.661</td>\\n</tr>\\n<tr>\\n<td bgcolor=#FFFFFF>1</td>\\n<td bgcolor=#FFFFFF>1</td>\\n<td bgcolor=#FFFFFF>0</td>\\n<td bgcolor=#FFFFFF>1</td>\\n<td bgcolor=#FFFFFF>0</td>\\n<td bgcolor=#FFFFFF>1</td>\\n<td bgcolor=#FFFFFF>0</td>\\n<td bgcolor=#efb7b6>0.021</td>\\n</tr>\\n<tr>\\n<td bgcolor=#FFFFFF>1</td>\\n<td bgcolor=#FFFFFF>1</td>\\n<td bgcolor=#FFFFFF>0</td>\\n<td bgcolor=#FFFFFF>1</td>\\n<td bgcolor=#FFFFFF>0</td>\\n<td bgcolor=#FFFFFF>1</td>\\n<td bgcolor=#FFFFFF>1</td>\\n<td bgcolor=#f3eef1>0.979</td>\\n</tr>\\n<tr>\\n<td bgcolor=#FFFFFF>1</td>\\n<td bgcolor=#FFFFFF>1</td>\\n<td bgcolor=#FFFFFF>0</td>\\n<td bgcolor=#FFFFFF>1</td>\\n<td bgcolor=#FFFFFF>1</td>\\n<td bgcolor=#FFFFFF>0</td>\\n<td bgcolor=#FFFFFF>0</td>\\n<td bgcolor=#d5d9d5>0.320</td>\\n</tr>\\n<tr>\\n<td bgcolor=#FFFFFF>1</td>\\n<td bgcolor=#FFFFFF>1</td>\\n<td bgcolor=#FFFFFF>0</td>\\n<td bgcolor=#FFFFFF>1</td>\\n<td bgcolor=#FFFFFF>1</td>\\n<td bgcolor=#FFFFFF>0</td>\\n<td bgcolor=#FFFFFF>1</td>\\n<td bgcolor=#f3edc5>0.680</td>\\n</tr>\\n<tr>\\n<td bgcolor=#FFFFFF>1</td>\\n<td bgcolor=#FFFFFF>1</td>\\n<td bgcolor=#FFFFFF>0</td>\\n<td bgcolor=#FFFFFF>1</td>\\n<td bgcolor=#FFFFFF>1</td>\\n<td bgcolor=#FFFFFF>1</td>\\n<td bgcolor=#FFFFFF>0</td>\\n<td bgcolor=#fedeab>0.518</td>\\n</tr>\\n<tr>\\n<td bgcolor=#FFFFFF>1</td>\\n<td bgcolor=#FFFFFF>1</td>\\n<td bgcolor=#FFFFFF>0</td>\\n<td bgcolor=#FFFFFF>1</td>\\n<td bgcolor=#FFFFFF>1</td>\\n<td bgcolor=#FFFFFF>1</td>\\n<td bgcolor=#FFFFFF>1</td>\\n<td bgcolor=#f9d7ae>0.482</td>\\n</tr>\\n<tr>\\n<td bgcolor=#FFFFFF>1</td>\\n<td bgcolor=#FFFFFF>1</td>\\n<td bgcolor=#FFFFFF>1</td>\\n<td bgcolor=#FFFFFF>0</td>\\n<td bgcolor=#FFFFFF>0</td>\\n<td bgcolor=#FFFFFF>0</td>\\n<td bgcolor=#FFFFFF>0</td>\\n<td bgcolor=#b9d4db>0.160</td>\\n</tr>\\n<tr>\\n<td bgcolor=#FFFFFF>1</td>\\n<td bgcolor=#FFFFFF>1</td>\\n<td bgcolor=#FFFFFF>1</td>\\n<td bgcolor=#FFFFFF>0</td>\\n<td bgcolor=#FFFFFF>0</td>\\n<td bgcolor=#FFFFFF>0</td>\\n<td bgcolor=#FFFFFF>1</td>\\n<td bgcolor=#f6d9e0>0.840</td>\\n</tr>\\n<tr>\\n<td bgcolor=#FFFFFF>1</td>\\n<td bgcolor=#FFFFFF>1</td>\\n<td bgcolor=#FFFFFF>1</td>\\n<td bgcolor=#FFFFFF>0</td>\\n<td bgcolor=#FFFFFF>0</td>\\n<td bgcolor=#FFFFFF>1</td>\\n<td bgcolor=#FFFFFF>0</td>\\n<td bgcolor=#ead8c6>0.776</td>\\n</tr>\\n<tr>\\n<td bgcolor=#FFFFFF>1</td>\\n<td bgcolor=#FFFFFF>1</td>\\n<td bgcolor=#FFFFFF>1</td>\\n<td bgcolor=#FFFFFF>0</td>\\n<td bgcolor=#FFFFFF>0</td>\\n<td bgcolor=#FFFFFF>1</td>\\n<td bgcolor=#FFFFFF>1</td>\\n<td bgcolor=#c6e4cb>0.224</td>\\n</tr>\\n<tr>\\n<td bgcolor=#FFFFFF>1</td>\\n<td bgcolor=#FFFFFF>1</td>\\n<td bgcolor=#FFFFFF>1</td>\\n<td bgcolor=#FFFFFF>0</td>\\n<td bgcolor=#FFFFFF>1</td>\\n<td bgcolor=#FFFFFF>0</td>\\n<td bgcolor=#FFFFFF>0</td>\\n<td bgcolor=#ecd1c8>0.431</td>\\n</tr>\\n<tr>\\n<td bgcolor=#FFFFFF>1</td>\\n<td bgcolor=#FFFFFF>1</td>\\n<td bgcolor=#FFFFFF>1</td>\\n<td bgcolor=#FFFFFF>0</td>\\n<td bgcolor=#FFFFFF>1</td>\\n<td bgcolor=#FFFFFF>0</td>\\n<td bgcolor=#FFFFFF>1</td>\\n<td bgcolor=#feedba>0.569</td>\\n</tr>\\n<tr>\\n<td bgcolor=#FFFFFF>1</td>\\n<td bgcolor=#FFFFFF>1</td>\\n<td bgcolor=#FFFFFF>1</td>\\n<td bgcolor=#FFFFFF>0</td>\\n<td bgcolor=#FFFFFF>1</td>\\n<td bgcolor=#FFFFFF>1</td>\\n<td bgcolor=#FFFFFF>0</td>\\n<td bgcolor=#fef6c3>0.594</td>\\n</tr>\\n<tr>\\n<td bgcolor=#FFFFFF>1</td>\\n<td bgcolor=#FFFFFF>1</td>\\n<td bgcolor=#FFFFFF>1</td>\\n<td bgcolor=#FFFFFF>0</td>\\n<td bgcolor=#FFFFFF>1</td>\\n<td bgcolor=#FFFFFF>1</td>\\n<td bgcolor=#FFFFFF>1</td>\\n<td bgcolor=#e5ced5>0.406</td>\\n</tr>\\n<tr>\\n<td bgcolor=#FFFFFF>1</td>\\n<td bgcolor=#FFFFFF>1</td>\\n<td bgcolor=#FFFFFF>1</td>\\n<td bgcolor=#FFFFFF>1</td>\\n<td bgcolor=#FFFFFF>0</td>\\n<td bgcolor=#FFFFFF>0</td>\\n<td bgcolor=#FFFFFF>0</td>\\n<td bgcolor=#dbbec5>0.058</td>\\n</tr>\\n<tr>\\n<td bgcolor=#FFFFFF>1</td>\\n<td bgcolor=#FFFFFF>1</td>\\n<td bgcolor=#FFFFFF>1</td>\\n<td bgcolor=#FFFFFF>1</td>\\n<td bgcolor=#FFFFFF>0</td>\\n<td bgcolor=#FFFFFF>0</td>\\n<td bgcolor=#FFFFFF>1</td>\\n<td bgcolor=#f6e7ef>0.942</td>\\n</tr>\\n<tr>\\n<td bgcolor=#FFFFFF>1</td>\\n<td bgcolor=#FFFFFF>1</td>\\n<td bgcolor=#FFFFFF>1</td>\\n<td bgcolor=#FFFFFF>1</td>\\n<td bgcolor=#FFFFFF>0</td>\\n<td bgcolor=#FFFFFF>1</td>\\n<td bgcolor=#FFFFFF>0</td>\\n<td bgcolor=#ece3c1>0.711</td>\\n</tr>\\n<tr>\\n<td bgcolor=#FFFFFF>1</td>\\n<td bgcolor=#FFFFFF>1</td>\\n<td bgcolor=#FFFFFF>1</td>\\n<td bgcolor=#FFFFFF>1</td>\\n<td bgcolor=#FFFFFF>0</td>\\n<td bgcolor=#FFFFFF>1</td>\\n<td bgcolor=#FFFFFF>1</td>\\n<td bgcolor=#d1e1cd>0.289</td>\\n</tr>\\n<tr>\\n<td bgcolor=#FFFFFF>1</td>\\n<td bgcolor=#FFFFFF>1</td>\\n<td bgcolor=#FFFFFF>1</td>\\n<td bgcolor=#FFFFFF>1</td>\\n<td bgcolor=#FFFFFF>1</td>\\n<td bgcolor=#FFFFFF>0</td>\\n<td bgcolor=#FFFFFF>0</td>\\n<td bgcolor=#f2f2f2>0.998</td>\\n</tr>\\n<tr>\\n<td bgcolor=#FFFFFF>1</td>\\n<td bgcolor=#FFFFFF>1</td>\\n<td bgcolor=#FFFFFF>1</td>\\n<td bgcolor=#FFFFFF>1</td>\\n<td bgcolor=#FFFFFF>1</td>\\n<td bgcolor=#FFFFFF>0</td>\\n<td bgcolor=#FFFFFF>1</td>\\n<td bgcolor=#fbb4ae>0.002</td>\\n</tr>\\n<tr>\\n<td bgcolor=#FFFFFF>1</td>\\n<td bgcolor=#FFFFFF>1</td>\\n<td bgcolor=#FFFFFF>1</td>\\n<td bgcolor=#FFFFFF>1</td>\\n<td bgcolor=#FFFFFF>1</td>\\n<td bgcolor=#FFFFFF>1</td>\\n<td bgcolor=#FFFFFF>0</td>\\n<td bgcolor=#f4d4b8>0.463</td>\\n</tr>\\n<tr>\\n<td bgcolor=#FFFFFF>1</td>\\n<td bgcolor=#FFFFFF>1</td>\\n<td bgcolor=#FFFFFF>1</td>\\n<td bgcolor=#FFFFFF>1</td>\\n<td bgcolor=#FFFFFF>1</td>\\n<td bgcolor=#FFFFFF>1</td>\\n<td bgcolor=#FFFFFF>1</td>\\n<td bgcolor=#fee4b1>0.537</td>\\n</tr>\\n</table>\", \"<table border=\\\"1\\\" cellpadding=\\\"4\\\" cellspacing=\\\"0\\\" bordercolor=\\\"#000000\\\">\\n<tr bgcolor=\\\"#AAAAAA\\\">\\n<th align=\\\"center\\\">0</th>\\n<th align=\\\"center\\\">3</th>\\n<th align=\\\"center\\\">5</th>\\n<th align=\\\"center\\\">6</th>\\n<th align=\\\"center\\\">8</th>\\n<th align=\\\"center\\\">9</th>\\n<th align=\\\"center\\\">Prob.</th>\\n</tr>\\n<tr>\\n<td bgcolor=#FFFFFF>0</td>\\n<td bgcolor=#FFFFFF>0</td>\\n<td bgcolor=#FFFFFF>0</td>\\n<td bgcolor=#FFFFFF>0</td>\\n<td bgcolor=#FFFFFF>0</td>\\n<td bgcolor=#FFFFFF>0</td>\\n<td bgcolor=#fef5c2>0.590</td>\\n</tr>\\n<tr>\\n<td bgcolor=#FFFFFF>0</td>\\n<td bgcolor=#FFFFFF>0</td>\\n<td bgcolor=#FFFFFF>0</td>\\n<td bgcolor=#FFFFFF>0</td>\\n<td bgcolor=#FFFFFF>0</td>\\n<td bgcolor=#FFFFFF>1</td>\\n<td bgcolor=#e6ced3>0.410</td>\\n</tr>\\n<tr>\\n<td bgcolor=#FFFFFF>0</td>\\n<td bgcolor=#FFFFFF>0</td>\\n<td bgcolor=#FFFFFF>0</td>\\n<td bgcolor=#FFFFFF>0</td>\\n<td bgcolor=#FFFFFF>1</td>\\n<td bgcolor=#FFFFFF>0</td>\\n<td bgcolor=#ecd8cb>0.787</td>\\n</tr>\\n<tr>\\n<td bgcolor=#FFFFFF>0</td>\\n<td bgcolor=#FFFFFF>0</td>\\n<td bgcolor=#FFFFFF>0</td>\\n<td bgcolor=#FFFFFF>0</td>\\n<td bgcolor=#FFFFFF>1</td>\\n<td bgcolor=#FFFFFF>1</td>\\n<td bgcolor=#c4e1ce>0.213</td>\\n</tr>\\n<tr>\\n<td bgcolor=#FFFFFF>0</td>\\n<td bgcolor=#FFFFFF>0</td>\\n<td bgcolor=#FFFFFF>0</td>\\n<td bgcolor=#FFFFFF>1</td>\\n<td bgcolor=#FFFFFF>0</td>\\n<td bgcolor=#FFFFFF>0</td>\\n<td bgcolor=#c8e6c9>0.231</td>\\n</tr>\\n<tr>\\n<td bgcolor=#FFFFFF>0</td>\\n<td bgcolor=#FFFFFF>0</td>\\n<td bgcolor=#FFFFFF>0</td>\\n<td bgcolor=#FFFFFF>1</td>\\n<td bgcolor=#FFFFFF>0</td>\\n<td bgcolor=#FFFFFF>1</td>\\n<td bgcolor=#e8d8c4>0.769</td>\\n</tr>\\n<tr>\\n<td bgcolor=#FFFFFF>0</td>\\n<td bgcolor=#FFFFFF>0</td>\\n<td bgcolor=#FFFFFF>0</td>\\n<td bgcolor=#FFFFFF>1</td>\\n<td bgcolor=#FFFFFF>1</td>\\n<td bgcolor=#FFFFFF>0</td>\\n<td bgcolor=#f8f5c8>0.656</td>\\n</tr>\\n<tr>\\n<td bgcolor=#FFFFFF>0</td>\\n<td bgcolor=#FFFFFF>0</td>\\n<td bgcolor=#FFFFFF>0</td>\\n<td bgcolor=#FFFFFF>1</td>\\n<td bgcolor=#FFFFFF>1</td>\\n<td bgcolor=#FFFFFF>1</td>\\n<td bgcolor=#d9d2dc>0.344</td>\\n</tr>\\n<tr>\\n<td bgcolor=#FFFFFF>0</td>\\n<td bgcolor=#FFFFFF>0</td>\\n<td bgcolor=#FFFFFF>1</td>\\n<td bgcolor=#FFFFFF>0</td>\\n<td bgcolor=#FFFFFF>0</td>\\n<td bgcolor=#FFFFFF>0</td>\\n<td bgcolor=#dccde1>0.364</td>\\n</tr>\\n<tr>\\n<td bgcolor=#FFFFFF>0</td>\\n<td bgcolor=#FFFFFF>0</td>\\n<td bgcolor=#FFFFFF>1</td>\\n<td bgcolor=#FFFFFF>0</td>\\n<td bgcolor=#FFFFFF>0</td>\\n<td bgcolor=#FFFFFF>1</td>\\n<td bgcolor=#fcfbca>0.636</td>\\n</tr>\\n<tr>\\n<td bgcolor=#FFFFFF>0</td>\\n<td bgcolor=#FFFFFF>0</td>\\n<td bgcolor=#FFFFFF>1</td>\\n<td bgcolor=#FFFFFF>0</td>\\n<td bgcolor=#FFFFFF>1</td>\\n<td bgcolor=#FFFFFF>0</td>\\n<td bgcolor=#fadfed>0.903</td>\\n</tr>\\n<tr>\\n<td bgcolor=#FFFFFF>0</td>\\n<td bgcolor=#FFFFFF>0</td>\\n<td bgcolor=#FFFFFF>1</td>\\n<td bgcolor=#FFFFFF>0</td>\\n<td bgcolor=#FFFFFF>1</td>\\n<td bgcolor=#FFFFFF>1</td>\\n<td bgcolor=#c4c6d5>0.097</td>\\n</tr>\\n<tr>\\n<td bgcolor=#FFFFFF>0</td>\\n<td bgcolor=#FFFFFF>0</td>\\n<td bgcolor=#FFFFFF>1</td>\\n<td bgcolor=#FFFFFF>1</td>\\n<td bgcolor=#FFFFFF>0</td>\\n<td bgcolor=#FFFFFF>0</td>\\n<td bgcolor=#f9e1ed>0.912</td>\\n</tr>\\n<tr>\\n<td bgcolor=#FFFFFF>0</td>\\n<td bgcolor=#FFFFFF>0</td>\\n<td bgcolor=#FFFFFF>1</td>\\n<td bgcolor=#FFFFFF>1</td>\\n<td bgcolor=#FFFFFF>0</td>\\n<td bgcolor=#FFFFFF>1</td>\\n<td bgcolor=#c9c5d2>0.088</td>\\n</tr>\\n<tr>\\n<td bgcolor=#FFFFFF>0</td>\\n<td bgcolor=#FFFFFF>0</td>\\n<td bgcolor=#FFFFFF>1</td>\\n<td bgcolor=#FFFFFF>1</td>\\n<td bgcolor=#FFFFFF>1</td>\\n<td bgcolor=#FFFFFF>0</td>\\n<td bgcolor=#fbf9c9>0.642</td>\\n</tr>\\n<tr>\\n<td bgcolor=#FFFFFF>0</td>\\n<td bgcolor=#FFFFFF>0</td>\\n<td bgcolor=#FFFFFF>1</td>\\n<td bgcolor=#FFFFFF>1</td>\\n<td bgcolor=#FFFFFF>1</td>\\n<td bgcolor=#FFFFFF>1</td>\\n<td bgcolor=#dbcfdf>0.358</td>\\n</tr>\\n<tr>\\n<td bgcolor=#FFFFFF>0</td>\\n<td bgcolor=#FFFFFF>1</td>\\n<td bgcolor=#FFFFFF>0</td>\\n<td bgcolor=#FFFFFF>0</td>\\n<td bgcolor=#FFFFFF>0</td>\\n<td bgcolor=#FFFFFF>0</td>\\n<td bgcolor=#fed9a6>0.503</td>\\n</tr>\\n<tr>\\n<td bgcolor=#FFFFFF>0</td>\\n<td bgcolor=#FFFFFF>1</td>\\n<td bgcolor=#FFFFFF>0</td>\\n<td bgcolor=#FFFFFF>0</td>\\n<td bgcolor=#FFFFFF>0</td>\\n<td bgcolor=#FFFFFF>1</td>\\n<td bgcolor=#fdd8a6>0.497</td>\\n</tr>\\n<tr>\\n<td bgcolor=#FFFFFF>0</td>\\n<td bgcolor=#FFFFFF>1</td>\\n<td bgcolor=#FFFFFF>0</td>\\n<td bgcolor=#FFFFFF>0</td>\\n<td bgcolor=#FFFFFF>1</td>\\n<td bgcolor=#FFFFFF>0</td>\\n<td bgcolor=#f4efc6>0.674</td>\\n</tr>\\n<tr>\\n<td bgcolor=#FFFFFF>0</td>\\n<td bgcolor=#FFFFFF>1</td>\\n<td bgcolor=#FFFFFF>0</td>\\n<td bgcolor=#FFFFFF>0</td>\\n<td bgcolor=#FFFFFF>1</td>\\n<td bgcolor=#FFFFFF>1</td>\\n<td bgcolor=#d6d7d7>0.326</td>\\n</tr>\\n<tr>\\n<td bgcolor=#FFFFFF>0</td>\\n<td bgcolor=#FFFFFF>1</td>\\n<td bgcolor=#FFFFFF>0</td>\\n<td bgcolor=#FFFFFF>1</td>\\n<td bgcolor=#FFFFFF>0</td>\\n<td bgcolor=#FFFFFF>0</td>\\n<td bgcolor=#e1ccdd>0.388</td>\\n</tr>\\n<tr>\\n<td bgcolor=#FFFFFF>0</td>\\n<td bgcolor=#FFFFFF>1</td>\\n<td bgcolor=#FFFFFF>0</td>\\n<td bgcolor=#FFFFFF>1</td>\\n<td bgcolor=#FFFFFF>0</td>\\n<td bgcolor=#FFFFFF>1</td>\\n<td bgcolor=#fefac7>0.612</td>\\n</tr>\\n<tr>\\n<td bgcolor=#FFFFFF>0</td>\\n<td bgcolor=#FFFFFF>1</td>\\n<td bgcolor=#FFFFFF>0</td>\\n<td bgcolor=#FFFFFF>1</td>\\n<td bgcolor=#FFFFFF>1</td>\\n<td bgcolor=#FFFFFF>0</td>\\n<td bgcolor=#e9d8c5>0.771</td>\\n</tr>\\n<tr>\\n<td bgcolor=#FFFFFF>0</td>\\n<td bgcolor=#FFFFFF>1</td>\\n<td bgcolor=#FFFFFF>0</td>\\n<td bgcolor=#FFFFFF>1</td>\\n<td bgcolor=#FFFFFF>1</td>\\n<td bgcolor=#FFFFFF>1</td>\\n<td bgcolor=#c7e5ca>0.229</td>\\n</tr>\\n<tr>\\n<td bgcolor=#FFFFFF>0</td>\\n<td bgcolor=#FFFFFF>1</td>\\n<td bgcolor=#FFFFFF>1</td>\\n<td bgcolor=#FFFFFF>0</td>\\n<td bgcolor=#FFFFFF>0</td>\\n<td bgcolor=#FFFFFF>0</td>\\n<td bgcolor=#d0e2cd>0.285</td>\\n</tr>\\n<tr>\\n<td bgcolor=#FFFFFF>0</td>\\n<td bgcolor=#FFFFFF>1</td>\\n<td bgcolor=#FFFFFF>1</td>\\n<td bgcolor=#FFFFFF>0</td>\\n<td bgcolor=#FFFFFF>0</td>\\n<td bgcolor=#FFFFFF>1</td>\\n<td bgcolor=#ebe2c0>0.715</td>\\n</tr>\\n<tr>\\n<td bgcolor=#FFFFFF>0</td>\\n<td bgcolor=#FFFFFF>1</td>\\n<td bgcolor=#FFFFFF>1</td>\\n<td bgcolor=#FFFFFF>0</td>\\n<td bgcolor=#FFFFFF>1</td>\\n<td bgcolor=#FFFFFF>0</td>\\n<td bgcolor=#d6d7d7>0.325</td>\\n</tr>\\n<tr>\\n<td bgcolor=#FFFFFF>0</td>\\n<td bgcolor=#FFFFFF>1</td>\\n<td bgcolor=#FFFFFF>1</td>\\n<td bgcolor=#FFFFFF>0</td>\\n<td bgcolor=#FFFFFF>1</td>\\n<td bgcolor=#FFFFFF>1</td>\\n<td bgcolor=#f4efc6>0.675</td>\\n</tr>\\n<tr>\\n<td bgcolor=#FFFFFF>0</td>\\n<td bgcolor=#FFFFFF>1</td>\\n<td bgcolor=#FFFFFF>1</td>\\n<td bgcolor=#FFFFFF>1</td>\\n<td bgcolor=#FFFFFF>0</td>\\n<td bgcolor=#FFFFFF>0</td>\\n<td bgcolor=#f7f3c7>0.661</td>\\n</tr>\\n<tr>\\n<td bgcolor=#FFFFFF>0</td>\\n<td bgcolor=#FFFFFF>1</td>\\n<td bgcolor=#FFFFFF>1</td>\\n<td bgcolor=#FFFFFF>1</td>\\n<td bgcolor=#FFFFFF>0</td>\\n<td bgcolor=#FFFFFF>1</td>\\n<td bgcolor=#d8d4da>0.339</td>\\n</tr>\\n<tr>\\n<td bgcolor=#FFFFFF>0</td>\\n<td bgcolor=#FFFFFF>1</td>\\n<td bgcolor=#FFFFFF>1</td>\\n<td bgcolor=#FFFFFF>1</td>\\n<td bgcolor=#FFFFFF>1</td>\\n<td bgcolor=#FFFFFF>0</td>\\n<td bgcolor=#d4dbd3>0.309</td>\\n</tr>\\n<tr>\\n<td bgcolor=#FFFFFF>0</td>\\n<td bgcolor=#FFFFFF>1</td>\\n<td bgcolor=#FFFFFF>1</td>\\n<td bgcolor=#FFFFFF>1</td>\\n<td bgcolor=#FFFFFF>1</td>\\n<td bgcolor=#FFFFFF>1</td>\\n<td bgcolor=#f1eac4>0.691</td>\\n</tr>\\n<tr>\\n<td bgcolor=#FFFFFF>1</td>\\n<td bgcolor=#FFFFFF>0</td>\\n<td bgcolor=#FFFFFF>0</td>\\n<td bgcolor=#FFFFFF>0</td>\\n<td bgcolor=#FFFFFF>0</td>\\n<td bgcolor=#FFFFFF>0</td>\\n<td bgcolor=#e5d8bd>0.747</td>\\n</tr>\\n<tr>\\n<td bgcolor=#FFFFFF>1</td>\\n<td bgcolor=#FFFFFF>0</td>\\n<td bgcolor=#FFFFFF>0</td>\\n<td bgcolor=#FFFFFF>0</td>\\n<td bgcolor=#FFFFFF>0</td>\\n<td bgcolor=#FFFFFF>1</td>\\n<td bgcolor=#cceac5>0.253</td>\\n</tr>\\n<tr>\\n<td bgcolor=#FFFFFF>1</td>\\n<td bgcolor=#FFFFFF>0</td>\\n<td bgcolor=#FFFFFF>0</td>\\n<td bgcolor=#FFFFFF>0</td>\\n<td bgcolor=#FFFFFF>1</td>\\n<td bgcolor=#FFFFFF>0</td>\\n<td bgcolor=#feefbc>0.571</td>\\n</tr>\\n<tr>\\n<td bgcolor=#FFFFFF>1</td>\\n<td bgcolor=#FFFFFF>0</td>\\n<td bgcolor=#FFFFFF>0</td>\\n<td bgcolor=#FFFFFF>0</td>\\n<td bgcolor=#FFFFFF>1</td>\\n<td bgcolor=#FFFFFF>1</td>\\n<td bgcolor=#ebd0c9>0.429</td>\\n</tr>\\n<tr>\\n<td bgcolor=#FFFFFF>1</td>\\n<td bgcolor=#FFFFFF>0</td>\\n<td bgcolor=#FFFFFF>0</td>\\n<td bgcolor=#FFFFFF>1</td>\\n<td bgcolor=#FFFFFF>0</td>\\n<td bgcolor=#FFFFFF>0</td>\\n<td bgcolor=#d1e1cd>0.287</td>\\n</tr>\\n<tr>\\n<td bgcolor=#FFFFFF>1</td>\\n<td bgcolor=#FFFFFF>0</td>\\n<td bgcolor=#FFFFFF>0</td>\\n<td bgcolor=#FFFFFF>1</td>\\n<td bgcolor=#FFFFFF>0</td>\\n<td bgcolor=#FFFFFF>1</td>\\n<td bgcolor=#ece3c1>0.713</td>\\n</tr>\\n<tr>\\n<td bgcolor=#FFFFFF>1</td>\\n<td bgcolor=#FFFFFF>0</td>\\n<td bgcolor=#FFFFFF>0</td>\\n<td bgcolor=#FFFFFF>1</td>\\n<td bgcolor=#FFFFFF>1</td>\\n<td bgcolor=#FFFFFF>0</td>\\n<td bgcolor=#d7d6d8>0.329</td>\\n</tr>\\n<tr>\\n<td bgcolor=#FFFFFF>1</td>\\n<td bgcolor=#FFFFFF>0</td>\\n<td bgcolor=#FFFFFF>0</td>\\n<td bgcolor=#FFFFFF>1</td>\\n<td bgcolor=#FFFFFF>1</td>\\n<td bgcolor=#FFFFFF>1</td>\\n<td bgcolor=#f5f0c6>0.671</td>\\n</tr>\\n<tr>\\n<td bgcolor=#FFFFFF>1</td>\\n<td bgcolor=#FFFFFF>0</td>\\n<td bgcolor=#FFFFFF>1</td>\\n<td bgcolor=#FFFFFF>0</td>\\n<td bgcolor=#FFFFFF>0</td>\\n<td bgcolor=#FFFFFF>0</td>\\n<td bgcolor=#fee4b1>0.536</td>\\n</tr>\\n<tr>\\n<td bgcolor=#FFFFFF>1</td>\\n<td bgcolor=#FFFFFF>0</td>\\n<td bgcolor=#FFFFFF>1</td>\\n<td bgcolor=#FFFFFF>0</td>\\n<td bgcolor=#FFFFFF>0</td>\\n<td bgcolor=#FFFFFF>1</td>\\n<td bgcolor=#f4d4b8>0.464</td>\\n</tr>\\n<tr>\\n<td bgcolor=#FFFFFF>1</td>\\n<td bgcolor=#FFFFFF>0</td>\\n<td bgcolor=#FFFFFF>1</td>\\n<td bgcolor=#FFFFFF>0</td>\\n<td bgcolor=#FFFFFF>1</td>\\n<td bgcolor=#FFFFFF>0</td>\\n<td bgcolor=#f5e9ef>0.957</td>\\n</tr>\\n<tr>\\n<td bgcolor=#FFFFFF>1</td>\\n<td bgcolor=#FFFFFF>0</td>\\n<td bgcolor=#FFFFFF>1</td>\\n<td bgcolor=#FFFFFF>0</td>\\n<td bgcolor=#FFFFFF>1</td>\\n<td bgcolor=#FFFFFF>1</td>\\n<td bgcolor=#e2bcc0>0.043</td>\\n</tr>\\n<tr>\\n<td bgcolor=#FFFFFF>1</td>\\n<td bgcolor=#FFFFFF>0</td>\\n<td bgcolor=#FFFFFF>1</td>\\n<td bgcolor=#FFFFFF>1</td>\\n<td bgcolor=#FFFFFF>0</td>\\n<td bgcolor=#FFFFFF>0</td>\\n<td bgcolor=#b8d3dc>0.154</td>\\n</tr>\\n<tr>\\n<td bgcolor=#FFFFFF>1</td>\\n<td bgcolor=#FFFFFF>0</td>\\n<td bgcolor=#FFFFFF>1</td>\\n<td bgcolor=#FFFFFF>1</td>\\n<td bgcolor=#FFFFFF>0</td>\\n<td bgcolor=#FFFFFF>1</td>\\n<td bgcolor=#f7d9e1>0.846</td>\\n</tr>\\n<tr>\\n<td bgcolor=#FFFFFF>1</td>\\n<td bgcolor=#FFFFFF>0</td>\\n<td bgcolor=#FFFFFF>1</td>\\n<td bgcolor=#FFFFFF>1</td>\\n<td bgcolor=#FFFFFF>1</td>\\n<td bgcolor=#FFFFFF>0</td>\\n<td bgcolor=#fee5b2>0.541</td>\\n</tr>\\n<tr>\\n<td bgcolor=#FFFFFF>1</td>\\n<td bgcolor=#FFFFFF>0</td>\\n<td bgcolor=#FFFFFF>1</td>\\n<td bgcolor=#FFFFFF>1</td>\\n<td bgcolor=#FFFFFF>1</td>\\n<td bgcolor=#FFFFFF>1</td>\\n<td bgcolor=#f3d4ba>0.459</td>\\n</tr>\\n<tr>\\n<td bgcolor=#FFFFFF>1</td>\\n<td bgcolor=#FFFFFF>1</td>\\n<td bgcolor=#FFFFFF>0</td>\\n<td bgcolor=#FFFFFF>0</td>\\n<td bgcolor=#FFFFFF>0</td>\\n<td bgcolor=#FFFFFF>0</td>\\n<td bgcolor=#fad9e7>0.860</td>\\n</tr>\\n<tr>\\n<td bgcolor=#FFFFFF>1</td>\\n<td bgcolor=#FFFFFF>1</td>\\n<td bgcolor=#FFFFFF>0</td>\\n<td bgcolor=#FFFFFF>0</td>\\n<td bgcolor=#FFFFFF>0</td>\\n<td bgcolor=#FFFFFF>1</td>\\n<td bgcolor=#b5cfe0>0.140</td>\\n</tr>\\n<tr>\\n<td bgcolor=#FFFFFF>1</td>\\n<td bgcolor=#FFFFFF>1</td>\\n<td bgcolor=#FFFFFF>0</td>\\n<td bgcolor=#FFFFFF>0</td>\\n<td bgcolor=#FFFFFF>1</td>\\n<td bgcolor=#FFFFFF>0</td>\\n<td bgcolor=#f9f6c8>0.652</td>\\n</tr>\\n<tr>\\n<td bgcolor=#FFFFFF>1</td>\\n<td bgcolor=#FFFFFF>1</td>\\n<td bgcolor=#FFFFFF>0</td>\\n<td bgcolor=#FFFFFF>0</td>\\n<td bgcolor=#FFFFFF>1</td>\\n<td bgcolor=#FFFFFF>1</td>\\n<td bgcolor=#dad1dd>0.348</td>\\n</tr>\\n<tr>\\n<td bgcolor=#FFFFFF>1</td>\\n<td bgcolor=#FFFFFF>1</td>\\n<td bgcolor=#FFFFFF>0</td>\\n<td bgcolor=#FFFFFF>1</td>\\n<td bgcolor=#FFFFFF>0</td>\\n<td bgcolor=#FFFFFF>0</td>\\n<td bgcolor=#d0c2cd>0.078</td>\\n</tr>\\n<tr>\\n<td bgcolor=#FFFFFF>1</td>\\n<td bgcolor=#FFFFFF>1</td>\\n<td bgcolor=#FFFFFF>0</td>\\n<td bgcolor=#FFFFFF>1</td>\\n<td bgcolor=#FFFFFF>0</td>\\n<td bgcolor=#FFFFFF>1</td>\\n<td bgcolor=#f8e3ee>0.922</td>\\n</tr>\\n<tr>\\n<td bgcolor=#FFFFFF>1</td>\\n<td bgcolor=#FFFFFF>1</td>\\n<td bgcolor=#FFFFFF>0</td>\\n<td bgcolor=#FFFFFF>1</td>\\n<td bgcolor=#FFFFFF>1</td>\\n<td bgcolor=#FFFFFF>0</td>\\n<td bgcolor=#feedba>0.567</td>\\n</tr>\\n<tr>\\n<td bgcolor=#FFFFFF>1</td>\\n<td bgcolor=#FFFFFF>1</td>\\n<td bgcolor=#FFFFFF>0</td>\\n<td bgcolor=#FFFFFF>1</td>\\n<td bgcolor=#FFFFFF>1</td>\\n<td bgcolor=#FFFFFF>1</td>\\n<td bgcolor=#ecd1c8>0.433</td>\\n</tr>\\n<tr>\\n<td bgcolor=#FFFFFF>1</td>\\n<td bgcolor=#FFFFFF>1</td>\\n<td bgcolor=#FFFFFF>1</td>\\n<td bgcolor=#FFFFFF>0</td>\\n<td bgcolor=#FFFFFF>0</td>\\n<td bgcolor=#FFFFFF>0</td>\\n<td bgcolor=#f4edf0>0.975</td>\\n</tr>\\n<tr>\\n<td bgcolor=#FFFFFF>1</td>\\n<td bgcolor=#FFFFFF>1</td>\\n<td bgcolor=#FFFFFF>1</td>\\n<td bgcolor=#FFFFFF>0</td>\\n<td bgcolor=#FFFFFF>0</td>\\n<td bgcolor=#FFFFFF>1</td>\\n<td bgcolor=#edb8b7>0.025</td>\\n</tr>\\n<tr>\\n<td bgcolor=#FFFFFF>1</td>\\n<td bgcolor=#FFFFFF>1</td>\\n<td bgcolor=#FFFFFF>1</td>\\n<td bgcolor=#FFFFFF>0</td>\\n<td bgcolor=#FFFFFF>1</td>\\n<td bgcolor=#FFFFFF>0</td>\\n<td bgcolor=#f4d4b8>0.462</td>\\n</tr>\\n<tr>\\n<td bgcolor=#FFFFFF>1</td>\\n<td bgcolor=#FFFFFF>1</td>\\n<td bgcolor=#FFFFFF>1</td>\\n<td bgcolor=#FFFFFF>0</td>\\n<td bgcolor=#FFFFFF>1</td>\\n<td bgcolor=#FFFFFF>1</td>\\n<td bgcolor=#fee4b1>0.538</td>\\n</tr>\\n<tr>\\n<td bgcolor=#FFFFFF>1</td>\\n<td bgcolor=#FFFFFF>1</td>\\n<td bgcolor=#FFFFFF>1</td>\\n<td bgcolor=#FFFFFF>1</td>\\n<td bgcolor=#FFFFFF>0</td>\\n<td bgcolor=#FFFFFF>0</td>\\n<td bgcolor=#f4efc6>0.672</td>\\n</tr>\\n<tr>\\n<td bgcolor=#FFFFFF>1</td>\\n<td bgcolor=#FFFFFF>1</td>\\n<td bgcolor=#FFFFFF>1</td>\\n<td bgcolor=#FFFFFF>1</td>\\n<td bgcolor=#FFFFFF>0</td>\\n<td bgcolor=#FFFFFF>1</td>\\n<td bgcolor=#d6d7d7>0.328</td>\\n</tr>\\n<tr>\\n<td bgcolor=#FFFFFF>1</td>\\n<td bgcolor=#FFFFFF>1</td>\\n<td bgcolor=#FFFFFF>1</td>\\n<td bgcolor=#FFFFFF>1</td>\\n<td bgcolor=#FFFFFF>1</td>\\n<td bgcolor=#FFFFFF>0</td>\\n<td bgcolor=#b4cfe1>0.133</td>\\n</tr>\\n<tr>\\n<td bgcolor=#FFFFFF>1</td>\\n<td bgcolor=#FFFFFF>1</td>\\n<td bgcolor=#FFFFFF>1</td>\\n<td bgcolor=#FFFFFF>1</td>\\n<td bgcolor=#FFFFFF>1</td>\\n<td bgcolor=#FFFFFF>1</td>\\n<td bgcolor=#fbd9e8>0.867</td>\\n</tr>\\n</table>\"], \"type\": \"htmltooltip\", \"voffset\": 10, \"id\": \"el11945140492416641680pts\", \"hoffset\": 10}], \"axes\": [{\"bbox\": [0.125, 0.125, 0.775, 0.775], \"sharey\": [], \"zoomable\": true, \"collections\": [], \"markers\": [{\"coordinates\": \"data\", \"edgecolor\": \"#000000\", \"yindex\": 1, \"xindex\": 0, \"alpha\": 1.0, \"zorder\": 2, \"markerpath\": [[[0.0, 10.0], [2.652031, 10.0], [5.195798707848534, 8.946336915882418], [7.0710678118654755, 7.0710678118654755], [8.946336915882418, 5.195798707848534], [10.0, 2.652031], [10.0, 0.0], [10.0, -2.652031], [8.946336915882418, -5.195798707848534], [7.0710678118654755, -7.0710678118654755], [5.195798707848534, -8.946336915882418], [2.652031, -10.0], [0.0, -10.0], [-2.652031, -10.0], [-5.195798707848534, -8.946336915882418], [-7.0710678118654755, -7.0710678118654755], [-8.946336915882418, -5.195798707848534], [-10.0, -2.652031], [-10.0, 0.0], [-10.0, 2.652031], [-8.946336915882418, 5.195798707848534], [-7.0710678118654755, 7.0710678118654755], [-5.195798707848534, 8.946336915882418], [-2.652031, 10.0], [0.0, 10.0]], [\"M\", \"C\", \"C\", \"C\", \"C\", \"C\", \"C\", \"C\", \"C\", \"Z\"]], \"id\": \"el11945140492418731424pts\", \"edgewidth\": 1, \"facecolor\": \"#D3D3D3\", \"data\": \"data61\"}, {\"coordinates\": \"data\", \"edgecolor\": \"#000000\", \"yindex\": 1, \"xindex\": 0, \"alpha\": 0.0, \"zorder\": 2, \"markerpath\": [[[0.0, 20.0], [5.304062, 20.0], [10.391597415697069, 17.892673831764835], [14.142135623730951, 14.142135623730951], [17.892673831764835, 10.391597415697069], [20.0, 5.304062], [20.0, 0.0], [20.0, -5.304062], [17.892673831764835, -10.391597415697069], [14.142135623730951, -14.142135623730951], [10.391597415697069, -17.892673831764835], [5.304062, -20.0], [0.0, -20.0], [-5.304062, -20.0], [-10.391597415697069, -17.892673831764835], [-14.142135623730951, -14.142135623730951], [-17.892673831764835, -10.391597415697069], [-20.0, -5.304062], [-20.0, 0.0], [-20.0, 5.304062], [-17.892673831764835, 10.391597415697069], [-14.142135623730951, 14.142135623730951], [-10.391597415697069, 17.892673831764835], [-5.304062, 20.0], [0.0, 20.0]], [\"M\", \"C\", \"C\", \"C\", \"C\", \"C\", \"C\", \"C\", \"C\", \"Z\"]], \"id\": \"el11945140492416641680pts\", \"edgewidth\": 1, \"facecolor\": \"#D3D3D3\", \"data\": \"data61\"}], \"paths\": [], \"xlim\": [-0.800500842973138, 0.8402531187701787], \"texts\": [{\"id\": \"el11945140492416663624\", \"zorder\": 3, \"h_anchor\": \"middle\", \"color\": \"#000000\", \"fontsize\": 10.0, \"coordinates\": \"data\", \"text\": \"0\", \"rotation\": -0.0, \"position\": [0.2883394275517535, 1.0], \"v_baseline\": \"central\", \"alpha\": 1}, {\"id\": \"el11945140492416664912\", \"zorder\": 3, \"h_anchor\": \"middle\", \"color\": \"#000000\", \"fontsize\": 10.0, \"coordinates\": \"data\", \"text\": \"1\", \"rotation\": -0.0, \"position\": [-0.720500842973138, 0.6248291301747088], \"v_baseline\": \"central\", \"alpha\": 1}, {\"id\": \"el11945140492416666256\", \"zorder\": 3, \"h_anchor\": \"middle\", \"color\": \"#000000\", \"fontsize\": 10.0, \"coordinates\": \"data\", \"text\": \"2\", \"rotation\": -0.0, \"position\": [-0.6559186065617822, 0.10388020621154978], \"v_baseline\": \"central\", \"alpha\": 1}, {\"id\": \"el11945140492416667600\", \"zorder\": 3, \"h_anchor\": \"middle\", \"color\": \"#000000\", \"fontsize\": 10.0, \"coordinates\": \"data\", \"text\": \"3\", \"rotation\": -0.0, \"position\": [-0.6029153041384868, -0.8817513739394521], \"v_baseline\": \"central\", \"alpha\": 1}, {\"id\": \"el11945140492416689488\", \"zorder\": 3, \"h_anchor\": \"middle\", \"color\": \"#000000\", \"fontsize\": 10.0, \"coordinates\": \"data\", \"text\": \"4\", \"rotation\": -0.0, \"position\": [-0.18959448814771304, 0.11727534363577667], \"v_baseline\": \"central\", \"alpha\": 1}, {\"id\": \"el11945140492416690832\", \"zorder\": 3, \"h_anchor\": \"middle\", \"color\": \"#000000\", \"fontsize\": 10.0, \"coordinates\": \"data\", \"text\": \"5\", \"rotation\": -0.0, \"position\": [0.34626747260305657, 0.013079202738905903], \"v_baseline\": \"central\", \"alpha\": 1}, {\"id\": \"el11945140492416692176\", \"zorder\": 3, \"h_anchor\": \"middle\", \"color\": \"#000000\", \"fontsize\": 10.0, \"coordinates\": \"data\", \"text\": \"6\", \"rotation\": -0.0, \"position\": [0.7602531187701788, -0.3054992194695447], \"v_baseline\": \"central\", \"alpha\": 1}, {\"id\": \"el11945140492416714064\", \"zorder\": 3, \"h_anchor\": \"middle\", \"color\": \"#000000\", \"fontsize\": 10.0, \"coordinates\": \"data\", \"text\": \"7\", \"rotation\": -0.0, \"position\": [-0.07261619081701791, -0.18611283965492156], \"v_baseline\": \"central\", \"alpha\": 1}, {\"id\": \"el11945140492416715408\", \"zorder\": 3, \"h_anchor\": \"middle\", \"color\": \"#000000\", \"fontsize\": 10.0, \"coordinates\": \"data\", \"text\": \"8\", \"rotation\": -0.0, \"position\": [0.10997925783821633, -0.3502548778212648], \"v_baseline\": \"central\", \"alpha\": 1}, {\"id\": \"el11945140492416716752\", \"zorder\": 3, \"h_anchor\": \"middle\", \"color\": \"#000000\", \"fontsize\": 10.0, \"coordinates\": \"data\", \"text\": \"9\", \"rotation\": -0.0, \"position\": [0.7367061558749326, -0.135445571875757], \"v_baseline\": \"central\", \"alpha\": 1}], \"yscale\": \"linear\", \"images\": [], \"ylim\": [-0.9617513739394521, 1.08], \"axesbg\": \"#FFFFFF\", \"id\": \"el11945140492418963720\", \"axes\": [{\"tickformat\": null, \"grid\": {\"gridOn\": false}, \"tickvalues\": null, \"position\": \"bottom\", \"fontsize\": 10.0, \"nticks\": 5, \"scale\": \"linear\"}, {\"tickformat\": null, \"grid\": {\"gridOn\": false}, \"tickvalues\": null, \"position\": \"left\", \"fontsize\": 10.0, \"nticks\": 6, \"scale\": \"linear\"}], \"xscale\": \"linear\", \"ydomain\": [-0.9617513739394521, 1.08], \"axesbgalpha\": null, \"sharex\": [], \"lines\": [{\"coordinates\": \"data\", \"linewidth\": 1.0, \"yindex\": 1, \"xindex\": 0, \"zorder\": 2, \"dasharray\": \"10,0\", \"color\": \"#808080\", \"id\": \"el11945140492418731536\", \"alpha\": 1, \"data\": \"data01\"}, {\"coordinates\": \"data\", \"linewidth\": 5, \"yindex\": 1, \"xindex\": 0, \"zorder\": 2, \"dasharray\": \"10,0\", \"color\": \"#000000\", \"id\": \"el11945140492418753368\", \"alpha\": 0.5, \"data\": \"data02\"}, {\"coordinates\": \"data\", \"linewidth\": 1.0, \"yindex\": 1, \"xindex\": 0, \"zorder\": 2, \"dasharray\": \"10,0\", \"color\": \"#808080\", \"id\": \"el11945140492418755608\", \"alpha\": 1, \"data\": \"data03\"}, {\"coordinates\": \"data\", \"linewidth\": 5, \"yindex\": 1, \"xindex\": 0, \"zorder\": 2, \"dasharray\": \"10,0\", \"color\": \"#000000\", \"id\": \"el11945140492419050240\", \"alpha\": 0.5, \"data\": \"data04\"}, {\"coordinates\": \"data\", \"linewidth\": 1.0, \"yindex\": 1, \"xindex\": 0, \"zorder\": 2, \"dasharray\": \"10,0\", \"color\": \"#808080\", \"id\": \"el11945140492419073920\", \"alpha\": 1, \"data\": \"data05\"}, {\"coordinates\": \"data\", \"linewidth\": 5, \"yindex\": 1, \"xindex\": 0, \"zorder\": 2, \"dasharray\": \"10,0\", \"color\": \"#000000\", \"id\": \"el11945140492418999016\", \"alpha\": 0.5, \"data\": \"data06\"}, {\"coordinates\": \"data\", \"linewidth\": 1.0, \"yindex\": 1, \"xindex\": 0, \"zorder\": 2, \"dasharray\": \"10,0\", \"color\": \"#808080\", \"id\": \"el11945140492418890104\", \"alpha\": 1, \"data\": \"data07\"}, {\"coordinates\": \"data\", \"linewidth\": 5, \"yindex\": 1, \"xindex\": 0, \"zorder\": 2, \"dasharray\": \"10,0\", \"color\": \"#000000\", \"id\": \"el11945140492418770536\", \"alpha\": 0.5, \"data\": \"data08\"}, {\"coordinates\": \"data\", \"linewidth\": 1.0, \"yindex\": 1, \"xindex\": 0, \"zorder\": 2, \"dasharray\": \"10,0\", \"color\": \"#808080\", \"id\": \"el11945140492418772496\", \"alpha\": 1, \"data\": \"data09\"}, {\"coordinates\": \"data\", \"linewidth\": 5, \"yindex\": 1, \"xindex\": 0, \"zorder\": 2, \"dasharray\": \"10,0\", \"color\": \"#000000\", \"id\": \"el11945140492418790904\", \"alpha\": 0.5, \"data\": \"data10\"}, {\"coordinates\": \"data\", \"linewidth\": 1.0, \"yindex\": 1, \"xindex\": 0, \"zorder\": 2, \"dasharray\": \"10,0\", \"color\": \"#808080\", \"id\": \"el11945140492418792864\", \"alpha\": 1, \"data\": \"data11\"}, {\"coordinates\": \"data\", \"linewidth\": 5, \"yindex\": 1, \"xindex\": 0, \"zorder\": 2, \"dasharray\": \"10,0\", \"color\": \"#000000\", \"id\": \"el11945140492418307464\", \"alpha\": 0.5, \"data\": \"data12\"}, {\"coordinates\": \"data\", \"linewidth\": 1.0, \"yindex\": 1, \"xindex\": 0, \"zorder\": 2, \"dasharray\": \"10,0\", \"color\": \"#808080\", \"id\": \"el11945140492418309424\", \"alpha\": 1, \"data\": \"data13\"}, {\"coordinates\": \"data\", \"linewidth\": 5, \"yindex\": 1, \"xindex\": 0, \"zorder\": 2, \"dasharray\": \"10,0\", \"color\": \"#000000\", \"id\": \"el11945140492418327832\", \"alpha\": 0.5, \"data\": \"data14\"}, {\"coordinates\": \"data\", \"linewidth\": 1.0, \"yindex\": 1, \"xindex\": 0, \"zorder\": 2, \"dasharray\": \"10,0\", \"color\": \"#808080\", \"id\": \"el11945140492418329792\", \"alpha\": 1, \"data\": \"data15\"}, {\"coordinates\": \"data\", \"linewidth\": 5, \"yindex\": 1, \"xindex\": 0, \"zorder\": 2, \"dasharray\": \"10,0\", \"color\": \"#000000\", \"id\": \"el11945140492418348200\", \"alpha\": 0.5, \"data\": \"data16\"}, {\"coordinates\": \"data\", \"linewidth\": 1.0, \"yindex\": 1, \"xindex\": 0, \"zorder\": 2, \"dasharray\": \"10,0\", \"color\": \"#808080\", \"id\": \"el11945140492418350160\", \"alpha\": 1, \"data\": \"data17\"}, {\"coordinates\": \"data\", \"linewidth\": 5, \"yindex\": 1, \"xindex\": 0, \"zorder\": 2, \"dasharray\": \"10,0\", \"color\": \"#000000\", \"id\": \"el11945140492418376760\", \"alpha\": 0.5, \"data\": \"data18\"}, {\"coordinates\": \"data\", \"linewidth\": 1.0, \"yindex\": 1, \"xindex\": 0, \"zorder\": 2, \"dasharray\": \"10,0\", \"color\": \"#808080\", \"id\": \"el11945140492418378720\", \"alpha\": 1, \"data\": \"data19\"}, {\"coordinates\": \"data\", \"linewidth\": 5, \"yindex\": 1, \"xindex\": 0, \"zorder\": 2, \"dasharray\": \"10,0\", \"color\": \"#000000\", \"id\": \"el11945140492418393032\", \"alpha\": 0.5, \"data\": \"data20\"}, {\"coordinates\": \"data\", \"linewidth\": 1.0, \"yindex\": 1, \"xindex\": 0, \"zorder\": 2, \"dasharray\": \"10,0\", \"color\": \"#808080\", \"id\": \"el11945140492418394992\", \"alpha\": 1, \"data\": \"data21\"}, {\"coordinates\": \"data\", \"linewidth\": 5, \"yindex\": 1, \"xindex\": 0, \"zorder\": 2, \"dasharray\": \"10,0\", \"color\": \"#000000\", \"id\": \"el11945140492418417496\", \"alpha\": 0.5, \"data\": \"data22\"}, {\"coordinates\": \"data\", \"linewidth\": 1.0, \"yindex\": 1, \"xindex\": 0, \"zorder\": 2, \"dasharray\": \"10,0\", \"color\": \"#808080\", \"id\": \"el11945140492418419456\", \"alpha\": 1, \"data\": \"data23\"}, {\"coordinates\": \"data\", \"linewidth\": 5, \"yindex\": 1, \"xindex\": 0, \"zorder\": 2, \"dasharray\": \"10,0\", \"color\": \"#000000\", \"id\": \"el11945140492418441960\", \"alpha\": 0.5, \"data\": \"data24\"}, {\"coordinates\": \"data\", \"linewidth\": 1.0, \"yindex\": 1, \"xindex\": 0, \"zorder\": 2, \"dasharray\": \"10,0\", \"color\": \"#808080\", \"id\": \"el11945140492418443920\", \"alpha\": 1, \"data\": \"data25\"}, {\"coordinates\": \"data\", \"linewidth\": 5, \"yindex\": 1, \"xindex\": 0, \"zorder\": 2, \"dasharray\": \"10,0\", \"color\": \"#000000\", \"id\": \"el11945140492418458232\", \"alpha\": 0.5, \"data\": \"data26\"}, {\"coordinates\": \"data\", \"linewidth\": 1.0, \"yindex\": 1, \"xindex\": 0, \"zorder\": 2, \"dasharray\": \"10,0\", \"color\": \"#808080\", \"id\": \"el11945140492418460192\", \"alpha\": 1, \"data\": \"data27\"}, {\"coordinates\": \"data\", \"linewidth\": 5, \"yindex\": 1, \"xindex\": 0, \"zorder\": 2, \"dasharray\": \"10,0\", \"color\": \"#000000\", \"id\": \"el11945140492418482696\", \"alpha\": 0.5, \"data\": \"data28\"}, {\"coordinates\": \"data\", \"linewidth\": 1.0, \"yindex\": 1, \"xindex\": 0, \"zorder\": 2, \"dasharray\": \"10,0\", \"color\": \"#808080\", \"id\": \"el11945140492418484656\", \"alpha\": 1, \"data\": \"data29\"}, {\"coordinates\": \"data\", \"linewidth\": 5, \"yindex\": 1, \"xindex\": 0, \"zorder\": 2, \"dasharray\": \"10,0\", \"color\": \"#000000\", \"id\": \"el11945140492418507160\", \"alpha\": 0.5, \"data\": \"data30\"}, {\"coordinates\": \"data\", \"linewidth\": 1.0, \"yindex\": 1, \"xindex\": 0, \"zorder\": 2, \"dasharray\": \"10,0\", \"color\": \"#808080\", \"id\": \"el11945140492418509120\", \"alpha\": 1, \"data\": \"data31\"}, {\"coordinates\": \"data\", \"linewidth\": 5, \"yindex\": 1, \"xindex\": 0, \"zorder\": 2, \"dasharray\": \"10,0\", \"color\": \"#000000\", \"id\": \"el11945140492418531624\", \"alpha\": 0.5, \"data\": \"data32\"}, {\"coordinates\": \"data\", \"linewidth\": 1.0, \"yindex\": 1, \"xindex\": 0, \"zorder\": 2, \"dasharray\": \"10,0\", \"color\": \"#808080\", \"id\": \"el11945140492418533584\", \"alpha\": 1, \"data\": \"data33\"}, {\"coordinates\": \"data\", \"linewidth\": 5, \"yindex\": 1, \"xindex\": 0, \"zorder\": 2, \"dasharray\": \"10,0\", \"color\": \"#000000\", \"id\": \"el11945140492418551992\", \"alpha\": 0.5, \"data\": \"data34\"}, {\"coordinates\": \"data\", \"linewidth\": 1.0, \"yindex\": 1, \"xindex\": 0, \"zorder\": 2, \"dasharray\": \"10,0\", \"color\": \"#808080\", \"id\": \"el11945140492418553952\", \"alpha\": 1, \"data\": \"data35\"}, {\"coordinates\": \"data\", \"linewidth\": 5, \"yindex\": 1, \"xindex\": 0, \"zorder\": 2, \"dasharray\": \"10,0\", \"color\": \"#000000\", \"id\": \"el11945140492418048072\", \"alpha\": 0.5, \"data\": \"data36\"}, {\"coordinates\": \"data\", \"linewidth\": 1.0, \"yindex\": 1, \"xindex\": 0, \"zorder\": 2, \"dasharray\": \"10,0\", \"color\": \"#808080\", \"id\": \"el11945140492418050032\", \"alpha\": 1, \"data\": \"data37\"}, {\"coordinates\": \"data\", \"linewidth\": 5, \"yindex\": 1, \"xindex\": 0, \"zorder\": 2, \"dasharray\": \"10,0\", \"color\": \"#000000\", \"id\": \"el11945140492418051992\", \"alpha\": 0.5, \"data\": \"data38\"}, {\"coordinates\": \"data\", \"linewidth\": 1.0, \"yindex\": 1, \"xindex\": 0, \"zorder\": 2, \"dasharray\": \"10,0\", \"color\": \"#808080\", \"id\": \"el11945140492418074496\", \"alpha\": 1, \"data\": \"data39\"}, {\"coordinates\": \"data\", \"linewidth\": 5, \"yindex\": 1, \"xindex\": 0, \"zorder\": 2, \"dasharray\": \"10,0\", \"color\": \"#000000\", \"id\": \"el11945140492418076456\", \"alpha\": 0.5, \"data\": \"data40\"}, {\"coordinates\": \"data\", \"linewidth\": 1.0, \"yindex\": 1, \"xindex\": 0, \"zorder\": 2, \"dasharray\": \"10,0\", \"color\": \"#808080\", \"id\": \"el11945140492418094864\", \"alpha\": 1, \"data\": \"data41\"}, {\"coordinates\": \"data\", \"linewidth\": 5, \"yindex\": 1, \"xindex\": 0, \"zorder\": 2, \"dasharray\": \"10,0\", \"color\": \"#000000\", \"id\": \"el11945140492418096824\", \"alpha\": 0.5, \"data\": \"data42\"}, {\"coordinates\": \"data\", \"linewidth\": 1.0, \"yindex\": 1, \"xindex\": 0, \"zorder\": 2, \"dasharray\": \"10,0\", \"color\": \"#808080\", \"id\": \"el11945140492418115232\", \"alpha\": 1, \"data\": \"data43\"}, {\"coordinates\": \"data\", \"linewidth\": 5, \"yindex\": 1, \"xindex\": 0, \"zorder\": 2, \"dasharray\": \"10,0\", \"color\": \"#000000\", \"id\": \"el11945140492418117192\", \"alpha\": 0.5, \"data\": \"data44\"}, {\"coordinates\": \"data\", \"linewidth\": 1.0, \"yindex\": 1, \"xindex\": 0, \"zorder\": 2, \"dasharray\": \"10,0\", \"color\": \"#808080\", \"id\": \"el11945140492418139696\", \"alpha\": 1, \"data\": \"data45\"}, {\"coordinates\": \"data\", \"linewidth\": 5, \"yindex\": 1, \"xindex\": 0, \"zorder\": 2, \"dasharray\": \"10,0\", \"color\": \"#000000\", \"id\": \"el11945140492418141656\", \"alpha\": 0.5, \"data\": \"data46\"}, {\"coordinates\": \"data\", \"linewidth\": 1.0, \"yindex\": 1, \"xindex\": 0, \"zorder\": 2, \"dasharray\": \"10,0\", \"color\": \"#808080\", \"id\": \"el11945140492418155968\", \"alpha\": 1, \"data\": \"data47\"}, {\"coordinates\": \"data\", \"linewidth\": 5, \"yindex\": 1, \"xindex\": 0, \"zorder\": 2, \"dasharray\": \"10,0\", \"color\": \"#000000\", \"id\": \"el11945140492418157928\", \"alpha\": 0.5, \"data\": \"data48\"}, {\"coordinates\": \"data\", \"linewidth\": 1.0, \"yindex\": 1, \"xindex\": 0, \"zorder\": 2, \"dasharray\": \"10,0\", \"color\": \"#808080\", \"id\": \"el11945140492418176336\", \"alpha\": 1, \"data\": \"data49\"}, {\"coordinates\": \"data\", \"linewidth\": 5, \"yindex\": 1, \"xindex\": 0, \"zorder\": 2, \"dasharray\": \"10,0\", \"color\": \"#000000\", \"id\": \"el11945140492418178296\", \"alpha\": 0.5, \"data\": \"data50\"}, {\"coordinates\": \"data\", \"linewidth\": 1.0, \"yindex\": 1, \"xindex\": 0, \"zorder\": 2, \"dasharray\": \"10,0\", \"color\": \"#808080\", \"id\": \"el11945140492418204896\", \"alpha\": 1, \"data\": \"data51\"}, {\"coordinates\": \"data\", \"linewidth\": 5, \"yindex\": 1, \"xindex\": 0, \"zorder\": 2, \"dasharray\": \"10,0\", \"color\": \"#000000\", \"id\": \"el11945140492418206856\", \"alpha\": 0.5, \"data\": \"data52\"}, {\"coordinates\": \"data\", \"linewidth\": 1.0, \"yindex\": 1, \"xindex\": 0, \"zorder\": 2, \"dasharray\": \"10,0\", \"color\": \"#808080\", \"id\": \"el11945140492418233456\", \"alpha\": 1, \"data\": \"data53\"}, {\"coordinates\": \"data\", \"linewidth\": 5, \"yindex\": 1, \"xindex\": 0, \"zorder\": 2, \"dasharray\": \"10,0\", \"color\": \"#000000\", \"id\": \"el11945140492418235416\", \"alpha\": 0.5, \"data\": \"data54\"}, {\"coordinates\": \"data\", \"linewidth\": 1.0, \"yindex\": 1, \"xindex\": 0, \"zorder\": 2, \"dasharray\": \"10,0\", \"color\": \"#808080\", \"id\": \"el11945140492418249728\", \"alpha\": 1, \"data\": \"data55\"}, {\"coordinates\": \"data\", \"linewidth\": 5, \"yindex\": 1, \"xindex\": 0, \"zorder\": 2, \"dasharray\": \"10,0\", \"color\": \"#000000\", \"id\": \"el11945140492418251688\", \"alpha\": 0.5, \"data\": \"data56\"}, {\"coordinates\": \"data\", \"linewidth\": 1.0, \"yindex\": 1, \"xindex\": 0, \"zorder\": 2, \"dasharray\": \"10,0\", \"color\": \"#808080\", \"id\": \"el11945140492418274192\", \"alpha\": 1, \"data\": \"data57\"}, {\"coordinates\": \"data\", \"linewidth\": 5, \"yindex\": 1, \"xindex\": 0, \"zorder\": 2, \"dasharray\": \"10,0\", \"color\": \"#000000\", \"id\": \"el11945140492418276152\", \"alpha\": 0.5, \"data\": \"data58\"}, {\"coordinates\": \"data\", \"linewidth\": 1.0, \"yindex\": 1, \"xindex\": 0, \"zorder\": 2, \"dasharray\": \"10,0\", \"color\": \"#808080\", \"id\": \"el11945140492418294560\", \"alpha\": 1, \"data\": \"data59\"}, {\"coordinates\": \"data\", \"linewidth\": 5, \"yindex\": 1, \"xindex\": 0, \"zorder\": 2, \"dasharray\": \"10,0\", \"color\": \"#000000\", \"id\": \"el11945140492418296520\", \"alpha\": 0.5, \"data\": \"data60\"}], \"xdomain\": [-0.800500842973138, 0.8402531187701787]}], \"id\": \"el11945140492418962544\", \"width\": 960.0, \"data\": {\"data14\": [[0.1367332832952469, -0.1477166461480751], [0.10997925783821633, -0.3502548778212648]], \"data09\": [[0.2883394275517535, 1.0], [0.7602531187701788, -0.3054992194695447]], \"data05\": [[0.2883394275517535, 1.0], [-0.18959448814771304, 0.11727534363577667]], \"data39\": [[-0.6029153041384868, -0.8817513739394521], [0.34626747260305657, 0.013079202738905903]], \"data48\": [[0.6781403533841512, -0.11316685568355758], [0.7367061558749326, -0.135445571875757]], \"data11\": [[0.2883394275517535, 1.0], [-0.07261619081701791, -0.18611283965492156]], \"data07\": [[0.2883394275517535, 1.0], [0.34626747260305657, 0.013079202738905903]], \"data45\": [[0.34626747260305657, 0.013079202738905903], [0.10997925783821633, -0.3502548778212648]], \"data29\": [[-0.6559186065617822, 0.10388020621154978], [0.34626747260305657, 0.013079202738905903]], \"data06\": [[-0.11790440079279306, 0.24968404209041017], [-0.18959448814771304, 0.11727534363577667]], \"data41\": [[-0.18959448814771304, 0.11727534363577667], [0.7602531187701788, -0.3054992194695447]], \"data17\": [[-0.720500842973138, 0.6248291301747088], [-0.6559186065617822, 0.10388020621154978]], \"data50\": [[0.6981552718451104, -0.25771245613827715], [0.7602531187701788, -0.3054992194695447]], \"data49\": [[0.34626747260305657, 0.013079202738905903], [0.7602531187701788, -0.3054992194695447]], \"data42\": [[0.6177759777324949, -0.2420830350037465], [0.7602531187701788, -0.3054992194695447]], \"data60\": [[0.6426971211694251, -0.16766696776758316], [0.7367061558749326, -0.135445571875757]], \"data47\": [[0.34626747260305657, 0.013079202738905903], [0.7367061558749326, -0.135445571875757]], \"data55\": [[0.7602531187701788, -0.3054992194695447], [-0.07261619081701791, -0.18611283965492156]], \"data08\": [[0.3375782658453611, 0.16111732232807], [0.34626747260305657, 0.013079202738905903]], \"data53\": [[0.7602531187701788, -0.3054992194695447], [0.7367061558749326, -0.135445571875757]], \"data20\": [[-0.6205531349636845, -0.655764298322328], [-0.6029153041384868, -0.8817513739394521]], \"data22\": [[-0.2692304413715268, 0.19340841161661648], [-0.18959448814771304, 0.11727534363577667]], \"data13\": [[0.2883394275517535, 1.0], [0.10997925783821633, -0.3502548778212648]], \"data33\": [[-0.6029153041384868, -0.8817513739394521], [0.10997925783821633, -0.3502548778212648]], \"data30\": [[0.19593956072833077, 0.026699353259802484], [0.34626747260305657, 0.013079202738905903]], \"data01\": [[0.2883394275517535, 1.0], [-0.720500842973138, 0.6248291301747088]], \"data31\": [[-0.6559186065617822, 0.10388020621154978], [-0.07261619081701791, -0.18611283965492156]], \"data10\": [[0.6894660650874149, -0.10967433654911302], [0.7602531187701788, -0.3054992194695447]], \"data58\": [[0.08258994053993118, -0.32563357209631333], [0.10997925783821633, -0.3502548778212648]], \"data46\": [[0.14542249005294236, -0.2957547657372392], [0.10997925783821633, -0.3502548778212648]], \"data52\": [[0.2075203369780107, -0.34354152906850677], [0.10997925783821633, -0.3502548778212648]], \"data36\": [[0.5357629368729196, -0.24739144218531128], [0.7367061558749326, -0.135445571875757]], \"data19\": [[-0.720500842973138, 0.6248291301747088], [-0.6029153041384868, -0.8817513739394521]], \"data25\": [[-0.6559186065617822, 0.10388020621154978], [0.10997925783821633, -0.3502548778212648]], \"data59\": [[0.10997925783821633, -0.3502548778212648], [0.7367061558749326, -0.135445571875757]], \"data28\": [[-0.25954310590982343, 0.11526607302214263], [-0.18959448814771304, 0.11727534363577667]], \"data16\": [[0.6694511466264558, 0.03487126390560655], [0.7367061558749326, -0.135445571875757]], \"data03\": [[0.2883394275517535, 1.0], [-0.6559186065617822, 0.10388020621154978]], \"data34\": [[0.003045073541710866, -0.4299793522389929], [0.10997925783821633, -0.3502548778212648]], \"data04\": [[-0.5142799014447519, 0.2382981752798173], [-0.6559186065617822, 0.10388020621154978]], \"data32\": [[-0.16011155317873255, -0.14261388277495085], [-0.07261619081701791, -0.18611283965492156]], \"data56\": [[0.05231420562106158, -0.20402079662711503], [-0.07261619081701791, -0.18611283965492156]], \"data37\": [[-0.6029153041384868, -0.8817513739394521], [-0.18959448814771304, 0.11727534363577667]], \"data02\": [[-0.5691748023944043, 0.6811047606485024], [-0.720500842973138, 0.6248291301747088]], \"data23\": [[-0.720500842973138, 0.6248291301747088], [-0.07261619081701791, -0.18611283965492156]], \"data12\": [[-0.018472848061702192, -0.008195913706683322], [-0.07261619081701791, -0.18611283965492156]], \"data38\": [[-0.2515926105463291, -0.03257866400050764], [-0.18959448814771304, 0.11727534363577667]], \"data54\": [[0.7402382003092195, -0.16095361901482516], [0.7367061558749326, -0.135445571875757]], \"data24\": [[-0.1697988886404359, -0.06447154418047703], [-0.07261619081701791, -0.18611283965492156]], \"data15\": [[0.2883394275517535, 1.0], [0.7367061558749326, -0.135445571875757]], \"data57\": [[-0.07261619081701791, -0.18611283965492156], [0.10997925783821633, -0.3502548778212648]], \"data27\": [[-0.6559186065617822, 0.10388020621154978], [-0.18959448814771304, 0.11727534363577667]], \"data44\": [[-0.09016293541662218, -0.14060461216131684], [-0.07261619081701791, -0.18611283965492156]], \"data40\": [[0.20389005609182506, -0.1211453837628478], [0.34626747260305657, 0.013079202738905903]], \"data18\": [[-0.6656059420234857, 0.18202254480602362], [-0.6559186065617822, 0.10388020621154978]], \"data21\": [[-0.720500842973138, 0.6248291301747088], [-0.18959448814771304, 0.11727534363577667]], \"data26\": [[-0.00490542182178344, -0.28213461521634264], [0.10997925783821633, -0.3502548778212648]], \"data61\": [[0.2883394275517535, 1.0], [-0.720500842973138, 0.6248291301747088], [-0.6559186065617822, 0.10388020621154978], [-0.6029153041384868, -0.8817513739394521], [-0.18959448814771304, 0.11727534363577667], [0.34626747260305657, 0.013079202738905903], [0.7602531187701788, -0.3054992194695447], [-0.07261619081701791, -0.18611283965492156], [0.10997925783821633, -0.3502548778212648], [0.7367061558749326, -0.135445571875757]], \"data43\": [[-0.18959448814771304, 0.11727534363577667], [-0.07261619081701791, -0.18611283965492156]], \"data51\": [[0.7602531187701788, -0.3054992194695447], [0.10997925783821633, -0.3502548778212648]], \"data35\": [[-0.6029153041384868, -0.8817513739394521], [0.7367061558749326, -0.135445571875757]]}});\n",
       "   }(mpld3);\n",
       "}else if(typeof define === \"function\" && define.amd){\n",
       "   // require.js is available: use it to load d3/mpld3\n",
       "   require.config({paths: {d3: \"https://mpld3.github.io/js/d3.v3.min\"}});\n",
       "   require([\"d3\"], function(d3){\n",
       "      window.d3 = d3;\n",
       "      mpld3_load_lib(\"https://mpld3.github.io/js/mpld3.v0.2.js\", function(){\n",
       "         \n",
       "    mpld3.register_plugin(\"htmltooltip\", HtmlTooltipPlugin);\n",
       "    HtmlTooltipPlugin.prototype = Object.create(mpld3.Plugin.prototype);\n",
       "    HtmlTooltipPlugin.prototype.constructor = HtmlTooltipPlugin;\n",
       "    HtmlTooltipPlugin.prototype.requiredProps = [\"id\"];\n",
       "    HtmlTooltipPlugin.prototype.defaultProps = {labels:null, hoffset:0, voffset:10};\n",
       "    function HtmlTooltipPlugin(fig, props){\n",
       "        mpld3.Plugin.call(this, fig, props);\n",
       "    };\n",
       "\n",
       "    HtmlTooltipPlugin.prototype.draw = function(){\n",
       "       var obj = mpld3.get_element(this.props.id);\n",
       "       var labels = this.props.labels;\n",
       "       var tooltip = d3.select(\"body\").append(\"div\")\n",
       "                    .attr(\"class\", \"mpld3-tooltip\")\n",
       "                    .style(\"position\", \"absolute\")\n",
       "                    .style(\"z-index\", \"10\")\n",
       "                    .style(\"visibility\", \"hidden\");\n",
       "\n",
       "       obj.elements()\n",
       "           .on(\"mouseover\", function(d, i){\n",
       "                              tooltip.html(labels[i])\n",
       "                                     .style(\"visibility\", \"visible\");})\n",
       "           .on(\"mousemove\", function(d, i){\n",
       "                    tooltip\n",
       "                      .style(\"top\", d3.event.pageY + this.props.voffset + \"px\")\n",
       "                      .style(\"left\",d3.event.pageX + this.props.hoffset + \"px\");\n",
       "                 }.bind(this))\n",
       "           .on(\"mouseout\",  function(d, i){\n",
       "                           tooltip.style(\"visibility\", \"hidden\");});\n",
       "    };\n",
       "    \n",
       "         mpld3.draw_figure(\"fig_el119451404924189625447224875993\", {\"height\": 640.0, \"plugins\": [{\"type\": \"reset\"}, {\"enabled\": false, \"type\": \"zoom\", \"button\": true}, {\"enabled\": false, \"type\": \"boxzoom\", \"button\": true}, {\"labels\": [\"<table border=\\\"1\\\" cellpadding=\\\"4\\\" cellspacing=\\\"0\\\" bordercolor=\\\"#000000\\\">\\n<tr bgcolor=\\\"#AAAAAA\\\">\\n<th align=\\\"center\\\">0</th>\\n<th align=\\\"center\\\">Prob.</th>\\n</tr>\\n<tr>\\n<td bgcolor=#FFFFFF>0</td>\\n<td bgcolor=#bedbd4>0.185</td>\\n</tr>\\n<tr>\\n<td bgcolor=#FFFFFF>1</td>\\n<td bgcolor=#f1d9d5>0.815</td>\\n</tr>\\n</table>\", \"<table border=\\\"1\\\" cellpadding=\\\"4\\\" cellspacing=\\\"0\\\" bordercolor=\\\"#000000\\\">\\n<tr bgcolor=\\\"#AAAAAA\\\">\\n<th align=\\\"center\\\">0</th>\\n<th align=\\\"center\\\">1</th>\\n<th align=\\\"center\\\">Prob.</th>\\n</tr>\\n<tr>\\n<td bgcolor=#FFFFFF>0</td>\\n<td bgcolor=#FFFFFF>0</td>\\n<td bgcolor=#cee5ca>0.271</td>\\n</tr>\\n<tr>\\n<td bgcolor=#FFFFFF>0</td>\\n<td bgcolor=#FFFFFF>1</td>\\n<td bgcolor=#e9debf>0.729</td>\\n</tr>\\n<tr>\\n<td bgcolor=#FFFFFF>1</td>\\n<td bgcolor=#FFFFFF>0</td>\\n<td bgcolor=#b4cce1>0.124</td>\\n</tr>\\n<tr>\\n<td bgcolor=#FFFFFF>1</td>\\n<td bgcolor=#FFFFFF>1</td>\\n<td bgcolor=#fcdaec>0.876</td>\\n</tr>\\n</table>\", \"<table border=\\\"1\\\" cellpadding=\\\"4\\\" cellspacing=\\\"0\\\" bordercolor=\\\"#000000\\\">\\n<tr bgcolor=\\\"#AAAAAA\\\">\\n<th align=\\\"center\\\">0</th>\\n<th align=\\\"center\\\">1</th>\\n<th align=\\\"center\\\">2</th>\\n<th align=\\\"center\\\">Prob.</th>\\n</tr>\\n<tr>\\n<td bgcolor=#FFFFFF>0</td>\\n<td bgcolor=#FFFFFF>0</td>\\n<td bgcolor=#FFFFFF>0</td>\\n<td bgcolor=#b9cade>0.114</td>\\n</tr>\\n<tr>\\n<td bgcolor=#FFFFFF>0</td>\\n<td bgcolor=#FFFFFF>0</td>\\n<td bgcolor=#FFFFFF>1</td>\\n<td bgcolor=#fcdcec>0.886</td>\\n</tr>\\n<tr>\\n<td bgcolor=#FFFFFF>0</td>\\n<td bgcolor=#FFFFFF>1</td>\\n<td bgcolor=#FFFFFF>0</td>\\n<td bgcolor=#fcd9ea>0.869</td>\\n</tr>\\n<tr>\\n<td bgcolor=#FFFFFF>0</td>\\n<td bgcolor=#FFFFFF>1</td>\\n<td bgcolor=#FFFFFF>1</td>\\n<td bgcolor=#b3cee1>0.131</td>\\n</tr>\\n<tr>\\n<td bgcolor=#FFFFFF>1</td>\\n<td bgcolor=#FFFFFF>0</td>\\n<td bgcolor=#FFFFFF>0</td>\\n<td bgcolor=#c9e8c7>0.242</td>\\n</tr>\\n<tr>\\n<td bgcolor=#FFFFFF>1</td>\\n<td bgcolor=#FFFFFF>0</td>\\n<td bgcolor=#FFFFFF>1</td>\\n<td bgcolor=#e7d8c1>0.758</td>\\n</tr>\\n<tr>\\n<td bgcolor=#FFFFFF>1</td>\\n<td bgcolor=#FFFFFF>1</td>\\n<td bgcolor=#FFFFFF>0</td>\\n<td bgcolor=#e7dbbe>0.737</td>\\n</tr>\\n<tr>\\n<td bgcolor=#FFFFFF>1</td>\\n<td bgcolor=#FFFFFF>1</td>\\n<td bgcolor=#FFFFFF>1</td>\\n<td bgcolor=#cde7c8>0.263</td>\\n</tr>\\n</table>\", \"<table border=\\\"1\\\" cellpadding=\\\"4\\\" cellspacing=\\\"0\\\" bordercolor=\\\"#000000\\\">\\n<tr bgcolor=\\\"#AAAAAA\\\">\\n<th align=\\\"center\\\">1</th>\\n<th align=\\\"center\\\">3</th>\\n<th align=\\\"center\\\">Prob.</th>\\n</tr>\\n<tr>\\n<td bgcolor=#FFFFFF>0</td>\\n<td bgcolor=#FFFFFF>0</td>\\n<td bgcolor=#d4c1ca>0.067</td>\\n</tr>\\n<tr>\\n<td bgcolor=#FFFFFF>0</td>\\n<td bgcolor=#FFFFFF>1</td>\\n<td bgcolor=#f7e5ee>0.933</td>\\n</tr>\\n<tr>\\n<td bgcolor=#FFFFFF>1</td>\\n<td bgcolor=#FFFFFF>0</td>\\n<td bgcolor=#bec9da>0.109</td>\\n</tr>\\n<tr>\\n<td bgcolor=#FFFFFF>1</td>\\n<td bgcolor=#FFFFFF>1</td>\\n<td bgcolor=#fbddec>0.891</td>\\n</tr>\\n</table>\", \"<table border=\\\"1\\\" cellpadding=\\\"4\\\" cellspacing=\\\"0\\\" bordercolor=\\\"#000000\\\">\\n<tr bgcolor=\\\"#AAAAAA\\\">\\n<th align=\\\"center\\\">0</th>\\n<th align=\\\"center\\\">1</th>\\n<th align=\\\"center\\\">2</th>\\n<th align=\\\"center\\\">3</th>\\n<th align=\\\"center\\\">4</th>\\n<th align=\\\"center\\\">Prob.</th>\\n</tr>\\n<tr>\\n<td bgcolor=#FFFFFF>0</td>\\n<td bgcolor=#FFFFFF>0</td>\\n<td bgcolor=#FFFFFF>0</td>\\n<td bgcolor=#FFFFFF>0</td>\\n<td bgcolor=#FFFFFF>0</td>\\n<td bgcolor=#fbdcec>0.887</td>\\n</tr>\\n<tr>\\n<td bgcolor=#FFFFFF>0</td>\\n<td bgcolor=#FFFFFF>0</td>\\n<td bgcolor=#FFFFFF>0</td>\\n<td bgcolor=#FFFFFF>0</td>\\n<td bgcolor=#FFFFFF>1</td>\\n<td bgcolor=#bbc9dc>0.113</td>\\n</tr>\\n<tr>\\n<td bgcolor=#FFFFFF>0</td>\\n<td bgcolor=#FFFFFF>0</td>\\n<td bgcolor=#FFFFFF>0</td>\\n<td bgcolor=#FFFFFF>1</td>\\n<td bgcolor=#FFFFFF>0</td>\\n<td bgcolor=#f4b6b2>0.012</td>\\n</tr>\\n<tr>\\n<td bgcolor=#FFFFFF>0</td>\\n<td bgcolor=#FFFFFF>0</td>\\n<td bgcolor=#FFFFFF>0</td>\\n<td bgcolor=#FFFFFF>1</td>\\n<td bgcolor=#FFFFFF>1</td>\\n<td bgcolor=#f3eff1>0.988</td>\\n</tr>\\n<tr>\\n<td bgcolor=#FFFFFF>0</td>\\n<td bgcolor=#FFFFFF>0</td>\\n<td bgcolor=#FFFFFF>1</td>\\n<td bgcolor=#FFFFFF>0</td>\\n<td bgcolor=#FFFFFF>0</td>\\n<td bgcolor=#faf8c9>0.646</td>\\n</tr>\\n<tr>\\n<td bgcolor=#FFFFFF>0</td>\\n<td bgcolor=#FFFFFF>0</td>\\n<td bgcolor=#FFFFFF>1</td>\\n<td bgcolor=#FFFFFF>0</td>\\n<td bgcolor=#FFFFFF>1</td>\\n<td bgcolor=#dad0de>0.354</td>\\n</tr>\\n<tr>\\n<td bgcolor=#FFFFFF>0</td>\\n<td bgcolor=#FFFFFF>0</td>\\n<td bgcolor=#FFFFFF>1</td>\\n<td bgcolor=#FFFFFF>1</td>\\n<td bgcolor=#FFFFFF>0</td>\\n<td bgcolor=#f5ebf0>0.964</td>\\n</tr>\\n<tr>\\n<td bgcolor=#FFFFFF>0</td>\\n<td bgcolor=#FFFFFF>0</td>\\n<td bgcolor=#FFFFFF>1</td>\\n<td bgcolor=#FFFFFF>1</td>\\n<td bgcolor=#FFFFFF>1</td>\\n<td bgcolor=#e6bbbc>0.036</td>\\n</tr>\\n<tr>\\n<td bgcolor=#FFFFFF>0</td>\\n<td bgcolor=#FFFFFF>1</td>\\n<td bgcolor=#FFFFFF>0</td>\\n<td bgcolor=#FFFFFF>0</td>\\n<td bgcolor=#FFFFFF>0</td>\\n<td bgcolor=#b5cfe0>0.138</td>\\n</tr>\\n<tr>\\n<td bgcolor=#FFFFFF>0</td>\\n<td bgcolor=#FFFFFF>1</td>\\n<td bgcolor=#FFFFFF>0</td>\\n<td bgcolor=#FFFFFF>0</td>\\n<td bgcolor=#FFFFFF>1</td>\\n<td bgcolor=#fad9e7>0.862</td>\\n</tr>\\n<tr>\\n<td bgcolor=#FFFFFF>0</td>\\n<td bgcolor=#FFFFFF>1</td>\\n<td bgcolor=#FFFFFF>0</td>\\n<td bgcolor=#FFFFFF>1</td>\\n<td bgcolor=#FFFFFF>0</td>\\n<td bgcolor=#fef0bd>0.576</td>\\n</tr>\\n<tr>\\n<td bgcolor=#FFFFFF>0</td>\\n<td bgcolor=#FFFFFF>1</td>\\n<td bgcolor=#FFFFFF>0</td>\\n<td bgcolor=#FFFFFF>1</td>\\n<td bgcolor=#FFFFFF>1</td>\\n<td bgcolor=#ead0cb>0.424</td>\\n</tr>\\n<tr>\\n<td bgcolor=#FFFFFF>0</td>\\n<td bgcolor=#FFFFFF>1</td>\\n<td bgcolor=#FFFFFF>1</td>\\n<td bgcolor=#FFFFFF>0</td>\\n<td bgcolor=#FFFFFF>0</td>\\n<td bgcolor=#cbc4d0>0.085</td>\\n</tr>\\n<tr>\\n<td bgcolor=#FFFFFF>0</td>\\n<td bgcolor=#FFFFFF>1</td>\\n<td bgcolor=#FFFFFF>1</td>\\n<td bgcolor=#FFFFFF>0</td>\\n<td bgcolor=#FFFFFF>1</td>\\n<td bgcolor=#f9e2ee>0.915</td>\\n</tr>\\n<tr>\\n<td bgcolor=#FFFFFF>0</td>\\n<td bgcolor=#FFFFFF>1</td>\\n<td bgcolor=#FFFFFF>1</td>\\n<td bgcolor=#FFFFFF>1</td>\\n<td bgcolor=#FFFFFF>0</td>\\n<td bgcolor=#e6d8bf>0.757</td>\\n</tr>\\n<tr>\\n<td bgcolor=#FFFFFF>0</td>\\n<td bgcolor=#FFFFFF>1</td>\\n<td bgcolor=#FFFFFF>1</td>\\n<td bgcolor=#FFFFFF>1</td>\\n<td bgcolor=#FFFFFF>1</td>\\n<td bgcolor=#cae9c6>0.243</td>\\n</tr>\\n<tr>\\n<td bgcolor=#FFFFFF>1</td>\\n<td bgcolor=#FFFFFF>0</td>\\n<td bgcolor=#FFFFFF>0</td>\\n<td bgcolor=#FFFFFF>0</td>\\n<td bgcolor=#FFFFFF>0</td>\\n<td bgcolor=#fcd8a8>0.495</td>\\n</tr>\\n<tr>\\n<td bgcolor=#FFFFFF>1</td>\\n<td bgcolor=#FFFFFF>0</td>\\n<td bgcolor=#FFFFFF>0</td>\\n<td bgcolor=#FFFFFF>0</td>\\n<td bgcolor=#FFFFFF>1</td>\\n<td bgcolor=#fedaa7>0.505</td>\\n</tr>\\n<tr>\\n<td bgcolor=#FFFFFF>1</td>\\n<td bgcolor=#FFFFFF>0</td>\\n<td bgcolor=#FFFFFF>0</td>\\n<td bgcolor=#FFFFFF>1</td>\\n<td bgcolor=#FFFFFF>0</td>\\n<td bgcolor=#decbe3>0.377</td>\\n</tr>\\n<tr>\\n<td bgcolor=#FFFFFF>1</td>\\n<td bgcolor=#FFFFFF>0</td>\\n<td bgcolor=#FFFFFF>0</td>\\n<td bgcolor=#FFFFFF>1</td>\\n<td bgcolor=#FFFFFF>1</td>\\n<td bgcolor=#fefecb>0.623</td>\\n</tr>\\n<tr>\\n<td bgcolor=#FFFFFF>1</td>\\n<td bgcolor=#FFFFFF>0</td>\\n<td bgcolor=#FFFFFF>1</td>\\n<td bgcolor=#FFFFFF>0</td>\\n<td bgcolor=#FFFFFF>0</td>\\n<td bgcolor=#e7d8c1>0.761</td>\\n</tr>\\n<tr>\\n<td bgcolor=#FFFFFF>1</td>\\n<td bgcolor=#FFFFFF>0</td>\\n<td bgcolor=#FFFFFF>1</td>\\n<td bgcolor=#FFFFFF>0</td>\\n<td bgcolor=#FFFFFF>1</td>\\n<td bgcolor=#c9e8c7>0.239</td>\\n</tr>\\n<tr>\\n<td bgcolor=#FFFFFF>1</td>\\n<td bgcolor=#FFFFFF>0</td>\\n<td bgcolor=#FFFFFF>1</td>\\n<td bgcolor=#FFFFFF>1</td>\\n<td bgcolor=#FFFFFF>0</td>\\n<td bgcolor=#fee7b4>0.549</td>\\n</tr>\\n<tr>\\n<td bgcolor=#FFFFFF>1</td>\\n<td bgcolor=#FFFFFF>0</td>\\n<td bgcolor=#FFFFFF>1</td>\\n<td bgcolor=#FFFFFF>1</td>\\n<td bgcolor=#FFFFFF>1</td>\\n<td bgcolor=#f1d3be>0.451</td>\\n</tr>\\n<tr>\\n<td bgcolor=#FFFFFF>1</td>\\n<td bgcolor=#FFFFFF>1</td>\\n<td bgcolor=#FFFFFF>0</td>\\n<td bgcolor=#FFFFFF>0</td>\\n<td bgcolor=#FFFFFF>0</td>\\n<td bgcolor=#f3d9d8>0.822</td>\\n</tr>\\n<tr>\\n<td bgcolor=#FFFFFF>1</td>\\n<td bgcolor=#FFFFFF>1</td>\\n<td bgcolor=#FFFFFF>0</td>\\n<td bgcolor=#FFFFFF>0</td>\\n<td bgcolor=#FFFFFF>1</td>\\n<td bgcolor=#bdd9d6>0.178</td>\\n</tr>\\n<tr>\\n<td bgcolor=#FFFFFF>1</td>\\n<td bgcolor=#FFFFFF>1</td>\\n<td bgcolor=#FFFFFF>0</td>\\n<td bgcolor=#FFFFFF>1</td>\\n<td bgcolor=#FFFFFF>0</td>\\n<td bgcolor=#c0ddd2>0.195</td>\\n</tr>\\n<tr>\\n<td bgcolor=#FFFFFF>1</td>\\n<td bgcolor=#FFFFFF>1</td>\\n<td bgcolor=#FFFFFF>0</td>\\n<td bgcolor=#FFFFFF>1</td>\\n<td bgcolor=#FFFFFF>1</td>\\n<td bgcolor=#f0d8d2>0.805</td>\\n</tr>\\n<tr>\\n<td bgcolor=#FFFFFF>1</td>\\n<td bgcolor=#FFFFFF>1</td>\\n<td bgcolor=#FFFFFF>1</td>\\n<td bgcolor=#FFFFFF>0</td>\\n<td bgcolor=#FFFFFF>0</td>\\n<td bgcolor=#edb8b7>0.026</td>\\n</tr>\\n<tr>\\n<td bgcolor=#FFFFFF>1</td>\\n<td bgcolor=#FFFFFF>1</td>\\n<td bgcolor=#FFFFFF>1</td>\\n<td bgcolor=#FFFFFF>0</td>\\n<td bgcolor=#FFFFFF>1</td>\\n<td bgcolor=#f4edf0>0.974</td>\\n</tr>\\n<tr>\\n<td bgcolor=#FFFFFF>1</td>\\n<td bgcolor=#FFFFFF>1</td>\\n<td bgcolor=#FFFFFF>1</td>\\n<td bgcolor=#FFFFFF>1</td>\\n<td bgcolor=#FFFFFF>0</td>\\n<td bgcolor=#b9d4db>0.159</td>\\n</tr>\\n<tr>\\n<td bgcolor=#FFFFFF>1</td>\\n<td bgcolor=#FFFFFF>1</td>\\n<td bgcolor=#FFFFFF>1</td>\\n<td bgcolor=#FFFFFF>1</td>\\n<td bgcolor=#FFFFFF>1</td>\\n<td bgcolor=#f6d9e0>0.841</td>\\n</tr>\\n</table>\", \"<table border=\\\"1\\\" cellpadding=\\\"4\\\" cellspacing=\\\"0\\\" bordercolor=\\\"#000000\\\">\\n<tr bgcolor=\\\"#AAAAAA\\\">\\n<th align=\\\"center\\\">0</th>\\n<th align=\\\"center\\\">2</th>\\n<th align=\\\"center\\\">3</th>\\n<th align=\\\"center\\\">5</th>\\n<th align=\\\"center\\\">Prob.</th>\\n</tr>\\n<tr>\\n<td bgcolor=#FFFFFF>0</td>\\n<td bgcolor=#FFFFFF>0</td>\\n<td bgcolor=#FFFFFF>0</td>\\n<td bgcolor=#FFFFFF>0</td>\\n<td bgcolor=#f8e2ee>0.920</td>\\n</tr>\\n<tr>\\n<td bgcolor=#FFFFFF>0</td>\\n<td bgcolor=#FFFFFF>0</td>\\n<td bgcolor=#FFFFFF>0</td>\\n<td bgcolor=#FFFFFF>1</td>\\n<td bgcolor=#cdc3cf>0.080</td>\\n</tr>\\n<tr>\\n<td bgcolor=#FFFFFF>0</td>\\n<td bgcolor=#FFFFFF>0</td>\\n<td bgcolor=#FFFFFF>1</td>\\n<td bgcolor=#FFFFFF>0</td>\\n<td bgcolor=#ead8c8>0.780</td>\\n</tr>\\n<tr>\\n<td bgcolor=#FFFFFF>0</td>\\n<td bgcolor=#FFFFFF>0</td>\\n<td bgcolor=#FFFFFF>1</td>\\n<td bgcolor=#FFFFFF>1</td>\\n<td bgcolor=#c5e3cc>0.220</td>\\n</tr>\\n<tr>\\n<td bgcolor=#FFFFFF>0</td>\\n<td bgcolor=#FFFFFF>1</td>\\n<td bgcolor=#FFFFFF>0</td>\\n<td bgcolor=#FFFFFF>0</td>\\n<td bgcolor=#ecd1c8>0.433</td>\\n</tr>\\n<tr>\\n<td bgcolor=#FFFFFF>0</td>\\n<td bgcolor=#FFFFFF>1</td>\\n<td bgcolor=#FFFFFF>0</td>\\n<td bgcolor=#FFFFFF>1</td>\\n<td bgcolor=#feedba>0.567</td>\\n</tr>\\n<tr>\\n<td bgcolor=#FFFFFF>0</td>\\n<td bgcolor=#FFFFFF>1</td>\\n<td bgcolor=#FFFFFF>1</td>\\n<td bgcolor=#FFFFFF>0</td>\\n<td bgcolor=#ebd8c9>0.785</td>\\n</tr>\\n<tr>\\n<td bgcolor=#FFFFFF>0</td>\\n<td bgcolor=#FFFFFF>1</td>\\n<td bgcolor=#FFFFFF>1</td>\\n<td bgcolor=#FFFFFF>1</td>\\n<td bgcolor=#c5e2cd>0.215</td>\\n</tr>\\n<tr>\\n<td bgcolor=#FFFFFF>1</td>\\n<td bgcolor=#FFFFFF>0</td>\\n<td bgcolor=#FFFFFF>0</td>\\n<td bgcolor=#FFFFFF>0</td>\\n<td bgcolor=#f7d9e1>0.845</td>\\n</tr>\\n<tr>\\n<td bgcolor=#FFFFFF>1</td>\\n<td bgcolor=#FFFFFF>0</td>\\n<td bgcolor=#FFFFFF>0</td>\\n<td bgcolor=#FFFFFF>1</td>\\n<td bgcolor=#b8d3dc>0.155</td>\\n</tr>\\n<tr>\\n<td bgcolor=#FFFFFF>1</td>\\n<td bgcolor=#FFFFFF>0</td>\\n<td bgcolor=#FFFFFF>1</td>\\n<td bgcolor=#FFFFFF>0</td>\\n<td bgcolor=#b9cade>0.114</td>\\n</tr>\\n<tr>\\n<td bgcolor=#FFFFFF>1</td>\\n<td bgcolor=#FFFFFF>0</td>\\n<td bgcolor=#FFFFFF>1</td>\\n<td bgcolor=#FFFFFF>1</td>\\n<td bgcolor=#fcdcec>0.886</td>\\n</tr>\\n<tr>\\n<td bgcolor=#FFFFFF>1</td>\\n<td bgcolor=#FFFFFF>1</td>\\n<td bgcolor=#FFFFFF>0</td>\\n<td bgcolor=#FFFFFF>0</td>\\n<td bgcolor=#e2ccdb>0.391</td>\\n</tr>\\n<tr>\\n<td bgcolor=#FFFFFF>1</td>\\n<td bgcolor=#FFFFFF>1</td>\\n<td bgcolor=#FFFFFF>0</td>\\n<td bgcolor=#FFFFFF>1</td>\\n<td bgcolor=#fef9c6>0.609</td>\\n</tr>\\n<tr>\\n<td bgcolor=#FFFFFF>1</td>\\n<td bgcolor=#FFFFFF>1</td>\\n<td bgcolor=#FFFFFF>1</td>\\n<td bgcolor=#FFFFFF>0</td>\\n<td bgcolor=#f8d9e2>0.849</td>\\n</tr>\\n<tr>\\n<td bgcolor=#FFFFFF>1</td>\\n<td bgcolor=#FFFFFF>1</td>\\n<td bgcolor=#FFFFFF>1</td>\\n<td bgcolor=#FFFFFF>1</td>\\n<td bgcolor=#b7d2dd>0.151</td>\\n</tr>\\n</table>\", \"<table border=\\\"1\\\" cellpadding=\\\"4\\\" cellspacing=\\\"0\\\" bordercolor=\\\"#000000\\\">\\n<tr bgcolor=\\\"#AAAAAA\\\">\\n<th align=\\\"center\\\">0</th>\\n<th align=\\\"center\\\">4</th>\\n<th align=\\\"center\\\">5</th>\\n<th align=\\\"center\\\">6</th>\\n<th align=\\\"center\\\">Prob.</th>\\n</tr>\\n<tr>\\n<td bgcolor=#FFFFFF>0</td>\\n<td bgcolor=#FFFFFF>0</td>\\n<td bgcolor=#FFFFFF>0</td>\\n<td bgcolor=#FFFFFF>0</td>\\n<td bgcolor=#f6d9de>0.838</td>\\n</tr>\\n<tr>\\n<td bgcolor=#FFFFFF>0</td>\\n<td bgcolor=#FFFFFF>0</td>\\n<td bgcolor=#FFFFFF>0</td>\\n<td bgcolor=#FFFFFF>1</td>\\n<td bgcolor=#bad5da>0.162</td>\\n</tr>\\n<tr>\\n<td bgcolor=#FFFFFF>0</td>\\n<td bgcolor=#FFFFFF>0</td>\\n<td bgcolor=#FFFFFF>1</td>\\n<td bgcolor=#FFFFFF>0</td>\\n<td bgcolor=#feefbc>0.572</td>\\n</tr>\\n<tr>\\n<td bgcolor=#FFFFFF>0</td>\\n<td bgcolor=#FFFFFF>0</td>\\n<td bgcolor=#FFFFFF>1</td>\\n<td bgcolor=#FFFFFF>1</td>\\n<td bgcolor=#ebd0c9>0.428</td>\\n</tr>\\n<tr>\\n<td bgcolor=#FFFFFF>0</td>\\n<td bgcolor=#FFFFFF>1</td>\\n<td bgcolor=#FFFFFF>0</td>\\n<td bgcolor=#FFFFFF>0</td>\\n<td bgcolor=#f3eef1>0.979</td>\\n</tr>\\n<tr>\\n<td bgcolor=#FFFFFF>0</td>\\n<td bgcolor=#FFFFFF>1</td>\\n<td bgcolor=#FFFFFF>0</td>\\n<td bgcolor=#FFFFFF>1</td>\\n<td bgcolor=#efb7b6>0.021</td>\\n</tr>\\n<tr>\\n<td bgcolor=#FFFFFF>0</td>\\n<td bgcolor=#FFFFFF>1</td>\\n<td bgcolor=#FFFFFF>1</td>\\n<td bgcolor=#FFFFFF>0</td>\\n<td bgcolor=#d5d9d5>0.317</td>\\n</tr>\\n<tr>\\n<td bgcolor=#FFFFFF>0</td>\\n<td bgcolor=#FFFFFF>1</td>\\n<td bgcolor=#FFFFFF>1</td>\\n<td bgcolor=#FFFFFF>1</td>\\n<td bgcolor=#f3edc5>0.683</td>\\n</tr>\\n<tr>\\n<td bgcolor=#FFFFFF>1</td>\\n<td bgcolor=#FFFFFF>0</td>\\n<td bgcolor=#FFFFFF>0</td>\\n<td bgcolor=#FFFFFF>0</td>\\n<td bgcolor=#ebd8c9>0.783</td>\\n</tr>\\n<tr>\\n<td bgcolor=#FFFFFF>1</td>\\n<td bgcolor=#FFFFFF>0</td>\\n<td bgcolor=#FFFFFF>0</td>\\n<td bgcolor=#FFFFFF>1</td>\\n<td bgcolor=#c5e2cd>0.217</td>\\n</tr>\\n<tr>\\n<td bgcolor=#FFFFFF>1</td>\\n<td bgcolor=#FFFFFF>0</td>\\n<td bgcolor=#FFFFFF>1</td>\\n<td bgcolor=#FFFFFF>0</td>\\n<td bgcolor=#bfdcd3>0.189</td>\\n</tr>\\n<tr>\\n<td bgcolor=#FFFFFF>1</td>\\n<td bgcolor=#FFFFFF>0</td>\\n<td bgcolor=#FFFFFF>1</td>\\n<td bgcolor=#FFFFFF>1</td>\\n<td bgcolor=#f0d8d4>0.811</td>\\n</tr>\\n<tr>\\n<td bgcolor=#FFFFFF>1</td>\\n<td bgcolor=#FFFFFF>1</td>\\n<td bgcolor=#FFFFFF>0</td>\\n<td bgcolor=#FFFFFF>0</td>\\n<td bgcolor=#e4cdd7>0.400</td>\\n</tr>\\n<tr>\\n<td bgcolor=#FFFFFF>1</td>\\n<td bgcolor=#FFFFFF>1</td>\\n<td bgcolor=#FFFFFF>0</td>\\n<td bgcolor=#FFFFFF>1</td>\\n<td bgcolor=#fef7c4>0.600</td>\\n</tr>\\n<tr>\\n<td bgcolor=#FFFFFF>1</td>\\n<td bgcolor=#FFFFFF>1</td>\\n<td bgcolor=#FFFFFF>1</td>\\n<td bgcolor=#FFFFFF>0</td>\\n<td bgcolor=#f5d5b6>0.465</td>\\n</tr>\\n<tr>\\n<td bgcolor=#FFFFFF>1</td>\\n<td bgcolor=#FFFFFF>1</td>\\n<td bgcolor=#FFFFFF>1</td>\\n<td bgcolor=#FFFFFF>1</td>\\n<td bgcolor=#fee3b0>0.535</td>\\n</tr>\\n</table>\", \"<table border=\\\"1\\\" cellpadding=\\\"4\\\" cellspacing=\\\"0\\\" bordercolor=\\\"#000000\\\">\\n<tr bgcolor=\\\"#AAAAAA\\\">\\n<th align=\\\"center\\\">0</th>\\n<th align=\\\"center\\\">1</th>\\n<th align=\\\"center\\\">2</th>\\n<th align=\\\"center\\\">4</th>\\n<th align=\\\"center\\\">6</th>\\n<th align=\\\"center\\\">7</th>\\n<th align=\\\"center\\\">Prob.</th>\\n</tr>\\n<tr>\\n<td bgcolor=#FFFFFF>0</td>\\n<td bgcolor=#FFFFFF>0</td>\\n<td bgcolor=#FFFFFF>0</td>\\n<td bgcolor=#FFFFFF>0</td>\\n<td bgcolor=#FFFFFF>0</td>\\n<td bgcolor=#FFFFFF>0</td>\\n<td bgcolor=#d4dbd3>0.309</td>\\n</tr>\\n<tr>\\n<td bgcolor=#FFFFFF>0</td>\\n<td bgcolor=#FFFFFF>0</td>\\n<td bgcolor=#FFFFFF>0</td>\\n<td bgcolor=#FFFFFF>0</td>\\n<td bgcolor=#FFFFFF>0</td>\\n<td bgcolor=#FFFFFF>1</td>\\n<td bgcolor=#f1eac4>0.691</td>\\n</tr>\\n<tr>\\n<td bgcolor=#FFFFFF>0</td>\\n<td bgcolor=#FFFFFF>0</td>\\n<td bgcolor=#FFFFFF>0</td>\\n<td bgcolor=#FFFFFF>0</td>\\n<td bgcolor=#FFFFFF>1</td>\\n<td bgcolor=#FFFFFF>0</td>\\n<td bgcolor=#edd1c6>0.436</td>\\n</tr>\\n<tr>\\n<td bgcolor=#FFFFFF>0</td>\\n<td bgcolor=#FFFFFF>0</td>\\n<td bgcolor=#FFFFFF>0</td>\\n<td bgcolor=#FFFFFF>0</td>\\n<td bgcolor=#FFFFFF>1</td>\\n<td bgcolor=#FFFFFF>1</td>\\n<td bgcolor=#feecb9>0.564</td>\\n</tr>\\n<tr>\\n<td bgcolor=#FFFFFF>0</td>\\n<td bgcolor=#FFFFFF>0</td>\\n<td bgcolor=#FFFFFF>0</td>\\n<td bgcolor=#FFFFFF>1</td>\\n<td bgcolor=#FFFFFF>0</td>\\n<td bgcolor=#FFFFFF>0</td>\\n<td bgcolor=#f2f1f1>0.994</td>\\n</tr>\\n<tr>\\n<td bgcolor=#FFFFFF>0</td>\\n<td bgcolor=#FFFFFF>0</td>\\n<td bgcolor=#FFFFFF>0</td>\\n<td bgcolor=#FFFFFF>1</td>\\n<td bgcolor=#FFFFFF>0</td>\\n<td bgcolor=#FFFFFF>1</td>\\n<td bgcolor=#f8b4af>0.006</td>\\n</tr>\\n<tr>\\n<td bgcolor=#FFFFFF>0</td>\\n<td bgcolor=#FFFFFF>0</td>\\n<td bgcolor=#FFFFFF>0</td>\\n<td bgcolor=#FFFFFF>1</td>\\n<td bgcolor=#FFFFFF>1</td>\\n<td bgcolor=#FFFFFF>0</td>\\n<td bgcolor=#cbc4d0>0.085</td>\\n</tr>\\n<tr>\\n<td bgcolor=#FFFFFF>0</td>\\n<td bgcolor=#FFFFFF>0</td>\\n<td bgcolor=#FFFFFF>0</td>\\n<td bgcolor=#FFFFFF>1</td>\\n<td bgcolor=#FFFFFF>1</td>\\n<td bgcolor=#FFFFFF>1</td>\\n<td bgcolor=#f9e2ee>0.915</td>\\n</tr>\\n<tr>\\n<td bgcolor=#FFFFFF>0</td>\\n<td bgcolor=#FFFFFF>0</td>\\n<td bgcolor=#FFFFFF>1</td>\\n<td bgcolor=#FFFFFF>0</td>\\n<td bgcolor=#FFFFFF>0</td>\\n<td bgcolor=#FFFFFF>0</td>\\n<td bgcolor=#efd8d1>0.804</td>\\n</tr>\\n<tr>\\n<td bgcolor=#FFFFFF>0</td>\\n<td bgcolor=#FFFFFF>0</td>\\n<td bgcolor=#FFFFFF>1</td>\\n<td bgcolor=#FFFFFF>0</td>\\n<td bgcolor=#FFFFFF>0</td>\\n<td bgcolor=#FFFFFF>1</td>\\n<td bgcolor=#c1ded1>0.196</td>\\n</tr>\\n<tr>\\n<td bgcolor=#FFFFFF>0</td>\\n<td bgcolor=#FFFFFF>0</td>\\n<td bgcolor=#FFFFFF>1</td>\\n<td bgcolor=#FFFFFF>0</td>\\n<td bgcolor=#FFFFFF>1</td>\\n<td bgcolor=#FFFFFF>0</td>\\n<td bgcolor=#f4b6b2>0.013</td>\\n</tr>\\n<tr>\\n<td bgcolor=#FFFFFF>0</td>\\n<td bgcolor=#FFFFFF>0</td>\\n<td bgcolor=#FFFFFF>1</td>\\n<td bgcolor=#FFFFFF>0</td>\\n<td bgcolor=#FFFFFF>1</td>\\n<td bgcolor=#FFFFFF>1</td>\\n<td bgcolor=#f3eff1>0.987</td>\\n</tr>\\n<tr>\\n<td bgcolor=#FFFFFF>0</td>\\n<td bgcolor=#FFFFFF>0</td>\\n<td bgcolor=#FFFFFF>1</td>\\n<td bgcolor=#FFFFFF>1</td>\\n<td bgcolor=#FFFFFF>0</td>\\n<td bgcolor=#FFFFFF>0</td>\\n<td bgcolor=#e6d9bd>0.743</td>\\n</tr>\\n<tr>\\n<td bgcolor=#FFFFFF>0</td>\\n<td bgcolor=#FFFFFF>0</td>\\n<td bgcolor=#FFFFFF>1</td>\\n<td bgcolor=#FFFFFF>1</td>\\n<td bgcolor=#FFFFFF>0</td>\\n<td bgcolor=#FFFFFF>1</td>\\n<td bgcolor=#cce9c6>0.257</td>\\n</tr>\\n<tr>\\n<td bgcolor=#FFFFFF>0</td>\\n<td bgcolor=#FFFFFF>0</td>\\n<td bgcolor=#FFFFFF>1</td>\\n<td bgcolor=#FFFFFF>1</td>\\n<td bgcolor=#FFFFFF>1</td>\\n<td bgcolor=#FFFFFF>0</td>\\n<td bgcolor=#d6d8d6>0.321</td>\\n</tr>\\n<tr>\\n<td bgcolor=#FFFFFF>0</td>\\n<td bgcolor=#FFFFFF>0</td>\\n<td bgcolor=#FFFFFF>1</td>\\n<td bgcolor=#FFFFFF>1</td>\\n<td bgcolor=#FFFFFF>1</td>\\n<td bgcolor=#FFFFFF>1</td>\\n<td bgcolor=#f3eec5>0.679</td>\\n</tr>\\n<tr>\\n<td bgcolor=#FFFFFF>0</td>\\n<td bgcolor=#FFFFFF>1</td>\\n<td bgcolor=#FFFFFF>0</td>\\n<td bgcolor=#FFFFFF>0</td>\\n<td bgcolor=#FFFFFF>0</td>\\n<td bgcolor=#FFFFFF>0</td>\\n<td bgcolor=#f2d3bc>0.457</td>\\n</tr>\\n<tr>\\n<td bgcolor=#FFFFFF>0</td>\\n<td bgcolor=#FFFFFF>1</td>\\n<td bgcolor=#FFFFFF>0</td>\\n<td bgcolor=#FFFFFF>0</td>\\n<td bgcolor=#FFFFFF>0</td>\\n<td bgcolor=#FFFFFF>1</td>\\n<td bgcolor=#fee6b3>0.543</td>\\n</tr>\\n<tr>\\n<td bgcolor=#FFFFFF>0</td>\\n<td bgcolor=#FFFFFF>1</td>\\n<td bgcolor=#FFFFFF>0</td>\\n<td bgcolor=#FFFFFF>0</td>\\n<td bgcolor=#FFFFFF>1</td>\\n<td bgcolor=#FFFFFF>0</td>\\n<td bgcolor=#d7d6d8>0.331</td>\\n</tr>\\n<tr>\\n<td bgcolor=#FFFFFF>0</td>\\n<td bgcolor=#FFFFFF>1</td>\\n<td bgcolor=#FFFFFF>0</td>\\n<td bgcolor=#FFFFFF>0</td>\\n<td bgcolor=#FFFFFF>1</td>\\n<td bgcolor=#FFFFFF>1</td>\\n<td bgcolor=#f5f0c6>0.669</td>\\n</tr>\\n<tr>\\n<td bgcolor=#FFFFFF>0</td>\\n<td bgcolor=#FFFFFF>1</td>\\n<td bgcolor=#FFFFFF>0</td>\\n<td bgcolor=#FFFFFF>1</td>\\n<td bgcolor=#FFFFFF>0</td>\\n<td bgcolor=#FFFFFF>0</td>\\n<td bgcolor=#fef5c2>0.593</td>\\n</tr>\\n<tr>\\n<td bgcolor=#FFFFFF>0</td>\\n<td bgcolor=#FFFFFF>1</td>\\n<td bgcolor=#FFFFFF>0</td>\\n<td bgcolor=#FFFFFF>1</td>\\n<td bgcolor=#FFFFFF>0</td>\\n<td bgcolor=#FFFFFF>1</td>\\n<td bgcolor=#e6ced3>0.407</td>\\n</tr>\\n<tr>\\n<td bgcolor=#FFFFFF>0</td>\\n<td bgcolor=#FFFFFF>1</td>\\n<td bgcolor=#FFFFFF>0</td>\\n<td bgcolor=#FFFFFF>1</td>\\n<td bgcolor=#FFFFFF>1</td>\\n<td bgcolor=#FFFFFF>0</td>\\n<td bgcolor=#e7dbbe>0.735</td>\\n</tr>\\n<tr>\\n<td bgcolor=#FFFFFF>0</td>\\n<td bgcolor=#FFFFFF>1</td>\\n<td bgcolor=#FFFFFF>0</td>\\n<td bgcolor=#FFFFFF>1</td>\\n<td bgcolor=#FFFFFF>1</td>\\n<td bgcolor=#FFFFFF>1</td>\\n<td bgcolor=#cde7c8>0.265</td>\\n</tr>\\n<tr>\\n<td bgcolor=#FFFFFF>0</td>\\n<td bgcolor=#FFFFFF>1</td>\\n<td bgcolor=#FFFFFF>1</td>\\n<td bgcolor=#FFFFFF>0</td>\\n<td bgcolor=#FFFFFF>0</td>\\n<td bgcolor=#FFFFFF>0</td>\\n<td bgcolor=#f3d9da>0.825</td>\\n</tr>\\n<tr>\\n<td bgcolor=#FFFFFF>0</td>\\n<td bgcolor=#FFFFFF>1</td>\\n<td bgcolor=#FFFFFF>1</td>\\n<td bgcolor=#FFFFFF>0</td>\\n<td bgcolor=#FFFFFF>0</td>\\n<td bgcolor=#FFFFFF>1</td>\\n<td bgcolor=#bcd8d7>0.175</td>\\n</tr>\\n<tr>\\n<td bgcolor=#FFFFFF>0</td>\\n<td bgcolor=#FFFFFF>1</td>\\n<td bgcolor=#FFFFFF>1</td>\\n<td bgcolor=#FFFFFF>0</td>\\n<td bgcolor=#FFFFFF>1</td>\\n<td bgcolor=#FFFFFF>0</td>\\n<td bgcolor=#fefcc9>0.616</td>\\n</tr>\\n<tr>\\n<td bgcolor=#FFFFFF>0</td>\\n<td bgcolor=#FFFFFF>1</td>\\n<td bgcolor=#FFFFFF>1</td>\\n<td bgcolor=#FFFFFF>0</td>\\n<td bgcolor=#FFFFFF>1</td>\\n<td bgcolor=#FFFFFF>1</td>\\n<td bgcolor=#e0ccdf>0.384</td>\\n</tr>\\n<tr>\\n<td bgcolor=#FFFFFF>0</td>\\n<td bgcolor=#FFFFFF>1</td>\\n<td bgcolor=#FFFFFF>1</td>\\n<td bgcolor=#FFFFFF>1</td>\\n<td bgcolor=#FFFFFF>0</td>\\n<td bgcolor=#FFFFFF>0</td>\\n<td bgcolor=#fef9c6>0.607</td>\\n</tr>\\n<tr>\\n<td bgcolor=#FFFFFF>0</td>\\n<td bgcolor=#FFFFFF>1</td>\\n<td bgcolor=#FFFFFF>1</td>\\n<td bgcolor=#FFFFFF>1</td>\\n<td bgcolor=#FFFFFF>0</td>\\n<td bgcolor=#FFFFFF>1</td>\\n<td bgcolor=#e2ccdb>0.393</td>\\n</tr>\\n<tr>\\n<td bgcolor=#FFFFFF>0</td>\\n<td bgcolor=#FFFFFF>1</td>\\n<td bgcolor=#FFFFFF>1</td>\\n<td bgcolor=#FFFFFF>1</td>\\n<td bgcolor=#FFFFFF>1</td>\\n<td bgcolor=#FFFFFF>0</td>\\n<td bgcolor=#bedad5>0.181</td>\\n</tr>\\n<tr>\\n<td bgcolor=#FFFFFF>0</td>\\n<td bgcolor=#FFFFFF>1</td>\\n<td bgcolor=#FFFFFF>1</td>\\n<td bgcolor=#FFFFFF>1</td>\\n<td bgcolor=#FFFFFF>1</td>\\n<td bgcolor=#FFFFFF>1</td>\\n<td bgcolor=#f2d9d7>0.819</td>\\n</tr>\\n<tr>\\n<td bgcolor=#FFFFFF>1</td>\\n<td bgcolor=#FFFFFF>0</td>\\n<td bgcolor=#FFFFFF>0</td>\\n<td bgcolor=#FFFFFF>0</td>\\n<td bgcolor=#FFFFFF>0</td>\\n<td bgcolor=#FFFFFF>0</td>\\n<td bgcolor=#dbbec5>0.055</td>\\n</tr>\\n<tr>\\n<td bgcolor=#FFFFFF>1</td>\\n<td bgcolor=#FFFFFF>0</td>\\n<td bgcolor=#FFFFFF>0</td>\\n<td bgcolor=#FFFFFF>0</td>\\n<td bgcolor=#FFFFFF>0</td>\\n<td bgcolor=#FFFFFF>1</td>\\n<td bgcolor=#f6e7ef>0.945</td>\\n</tr>\\n<tr>\\n<td bgcolor=#FFFFFF>1</td>\\n<td bgcolor=#FFFFFF>0</td>\\n<td bgcolor=#FFFFFF>0</td>\\n<td bgcolor=#FFFFFF>0</td>\\n<td bgcolor=#FFFFFF>1</td>\\n<td bgcolor=#FFFFFF>0</td>\\n<td bgcolor=#c1ded1>0.199</td>\\n</tr>\\n<tr>\\n<td bgcolor=#FFFFFF>1</td>\\n<td bgcolor=#FFFFFF>0</td>\\n<td bgcolor=#FFFFFF>0</td>\\n<td bgcolor=#FFFFFF>0</td>\\n<td bgcolor=#FFFFFF>1</td>\\n<td bgcolor=#FFFFFF>1</td>\\n<td bgcolor=#efd8d1>0.801</td>\\n</tr>\\n<tr>\\n<td bgcolor=#FFFFFF>1</td>\\n<td bgcolor=#FFFFFF>0</td>\\n<td bgcolor=#FFFFFF>0</td>\\n<td bgcolor=#FFFFFF>1</td>\\n<td bgcolor=#FFFFFF>0</td>\\n<td bgcolor=#FFFFFF>0</td>\\n<td bgcolor=#fee4b1>0.536</td>\\n</tr>\\n<tr>\\n<td bgcolor=#FFFFFF>1</td>\\n<td bgcolor=#FFFFFF>0</td>\\n<td bgcolor=#FFFFFF>0</td>\\n<td bgcolor=#FFFFFF>1</td>\\n<td bgcolor=#FFFFFF>0</td>\\n<td bgcolor=#FFFFFF>1</td>\\n<td bgcolor=#f4d4b8>0.464</td>\\n</tr>\\n<tr>\\n<td bgcolor=#FFFFFF>1</td>\\n<td bgcolor=#FFFFFF>0</td>\\n<td bgcolor=#FFFFFF>0</td>\\n<td bgcolor=#FFFFFF>1</td>\\n<td bgcolor=#FFFFFF>1</td>\\n<td bgcolor=#FFFFFF>0</td>\\n<td bgcolor=#d9d2dc>0.344</td>\\n</tr>\\n<tr>\\n<td bgcolor=#FFFFFF>1</td>\\n<td bgcolor=#FFFFFF>0</td>\\n<td bgcolor=#FFFFFF>0</td>\\n<td bgcolor=#FFFFFF>1</td>\\n<td bgcolor=#FFFFFF>1</td>\\n<td bgcolor=#FFFFFF>1</td>\\n<td bgcolor=#f8f5c8>0.656</td>\\n</tr>\\n<tr>\\n<td bgcolor=#FFFFFF>1</td>\\n<td bgcolor=#FFFFFF>0</td>\\n<td bgcolor=#FFFFFF>1</td>\\n<td bgcolor=#FFFFFF>0</td>\\n<td bgcolor=#FFFFFF>0</td>\\n<td bgcolor=#FFFFFF>0</td>\\n<td bgcolor=#ecd1c8>0.430</td>\\n</tr>\\n<tr>\\n<td bgcolor=#FFFFFF>1</td>\\n<td bgcolor=#FFFFFF>0</td>\\n<td bgcolor=#FFFFFF>1</td>\\n<td bgcolor=#FFFFFF>0</td>\\n<td bgcolor=#FFFFFF>0</td>\\n<td bgcolor=#FFFFFF>1</td>\\n<td bgcolor=#feedba>0.570</td>\\n</tr>\\n<tr>\\n<td bgcolor=#FFFFFF>1</td>\\n<td bgcolor=#FFFFFF>0</td>\\n<td bgcolor=#FFFFFF>1</td>\\n<td bgcolor=#FFFFFF>0</td>\\n<td bgcolor=#FFFFFF>1</td>\\n<td bgcolor=#FFFFFF>0</td>\\n<td bgcolor=#b8d3dc>0.155</td>\\n</tr>\\n<tr>\\n<td bgcolor=#FFFFFF>1</td>\\n<td bgcolor=#FFFFFF>0</td>\\n<td bgcolor=#FFFFFF>1</td>\\n<td bgcolor=#FFFFFF>0</td>\\n<td bgcolor=#FFFFFF>1</td>\\n<td bgcolor=#FFFFFF>1</td>\\n<td bgcolor=#f7d9e1>0.845</td>\\n</tr>\\n<tr>\\n<td bgcolor=#FFFFFF>1</td>\\n<td bgcolor=#FFFFFF>0</td>\\n<td bgcolor=#FFFFFF>1</td>\\n<td bgcolor=#FFFFFF>1</td>\\n<td bgcolor=#FFFFFF>0</td>\\n<td bgcolor=#FFFFFF>0</td>\\n<td bgcolor=#f7d9e1>0.846</td>\\n</tr>\\n<tr>\\n<td bgcolor=#FFFFFF>1</td>\\n<td bgcolor=#FFFFFF>0</td>\\n<td bgcolor=#FFFFFF>1</td>\\n<td bgcolor=#FFFFFF>1</td>\\n<td bgcolor=#FFFFFF>0</td>\\n<td bgcolor=#FFFFFF>1</td>\\n<td bgcolor=#b8d3dc>0.154</td>\\n</tr>\\n<tr>\\n<td bgcolor=#FFFFFF>1</td>\\n<td bgcolor=#FFFFFF>0</td>\\n<td bgcolor=#FFFFFF>1</td>\\n<td bgcolor=#FFFFFF>1</td>\\n<td bgcolor=#FFFFFF>1</td>\\n<td bgcolor=#FFFFFF>0</td>\\n<td bgcolor=#f8d9e2>0.849</td>\\n</tr>\\n<tr>\\n<td bgcolor=#FFFFFF>1</td>\\n<td bgcolor=#FFFFFF>0</td>\\n<td bgcolor=#FFFFFF>1</td>\\n<td bgcolor=#FFFFFF>1</td>\\n<td bgcolor=#FFFFFF>1</td>\\n<td bgcolor=#FFFFFF>1</td>\\n<td bgcolor=#b7d2dd>0.151</td>\\n</tr>\\n<tr>\\n<td bgcolor=#FFFFFF>1</td>\\n<td bgcolor=#FFFFFF>1</td>\\n<td bgcolor=#FFFFFF>0</td>\\n<td bgcolor=#FFFFFF>0</td>\\n<td bgcolor=#FFFFFF>0</td>\\n<td bgcolor=#FFFFFF>0</td>\\n<td bgcolor=#feedba>0.569</td>\\n</tr>\\n<tr>\\n<td bgcolor=#FFFFFF>1</td>\\n<td bgcolor=#FFFFFF>1</td>\\n<td bgcolor=#FFFFFF>0</td>\\n<td bgcolor=#FFFFFF>0</td>\\n<td bgcolor=#FFFFFF>0</td>\\n<td bgcolor=#FFFFFF>1</td>\\n<td bgcolor=#ecd1c8>0.431</td>\\n</tr>\\n<tr>\\n<td bgcolor=#FFFFFF>1</td>\\n<td bgcolor=#FFFFFF>1</td>\\n<td bgcolor=#FFFFFF>0</td>\\n<td bgcolor=#FFFFFF>0</td>\\n<td bgcolor=#FFFFFF>1</td>\\n<td bgcolor=#FFFFFF>0</td>\\n<td bgcolor=#c0c8d9>0.103</td>\\n</tr>\\n<tr>\\n<td bgcolor=#FFFFFF>1</td>\\n<td bgcolor=#FFFFFF>1</td>\\n<td bgcolor=#FFFFFF>0</td>\\n<td bgcolor=#FFFFFF>0</td>\\n<td bgcolor=#FFFFFF>1</td>\\n<td bgcolor=#FFFFFF>1</td>\\n<td bgcolor=#fadeed>0.897</td>\\n</tr>\\n<tr>\\n<td bgcolor=#FFFFFF>1</td>\\n<td bgcolor=#FFFFFF>1</td>\\n<td bgcolor=#FFFFFF>0</td>\\n<td bgcolor=#FFFFFF>1</td>\\n<td bgcolor=#FFFFFF>0</td>\\n<td bgcolor=#FFFFFF>0</td>\\n<td bgcolor=#efd2c2>0.442</td>\\n</tr>\\n<tr>\\n<td bgcolor=#FFFFFF>1</td>\\n<td bgcolor=#FFFFFF>1</td>\\n<td bgcolor=#FFFFFF>0</td>\\n<td bgcolor=#FFFFFF>1</td>\\n<td bgcolor=#FFFFFF>0</td>\\n<td bgcolor=#FFFFFF>1</td>\\n<td bgcolor=#feeab7>0.558</td>\\n</tr>\\n<tr>\\n<td bgcolor=#FFFFFF>1</td>\\n<td bgcolor=#FFFFFF>1</td>\\n<td bgcolor=#FFFFFF>0</td>\\n<td bgcolor=#FFFFFF>1</td>\\n<td bgcolor=#FFFFFF>1</td>\\n<td bgcolor=#FFFFFF>0</td>\\n<td bgcolor=#f3d9da>0.827</td>\\n</tr>\\n<tr>\\n<td bgcolor=#FFFFFF>1</td>\\n<td bgcolor=#FFFFFF>1</td>\\n<td bgcolor=#FFFFFF>0</td>\\n<td bgcolor=#FFFFFF>1</td>\\n<td bgcolor=#FFFFFF>1</td>\\n<td bgcolor=#FFFFFF>1</td>\\n<td bgcolor=#bcd8d7>0.173</td>\\n</tr>\\n<tr>\\n<td bgcolor=#FFFFFF>1</td>\\n<td bgcolor=#FFFFFF>1</td>\\n<td bgcolor=#FFFFFF>1</td>\\n<td bgcolor=#FFFFFF>0</td>\\n<td bgcolor=#FFFFFF>0</td>\\n<td bgcolor=#FFFFFF>0</td>\\n<td bgcolor=#e5ced5>0.404</td>\\n</tr>\\n<tr>\\n<td bgcolor=#FFFFFF>1</td>\\n<td bgcolor=#FFFFFF>1</td>\\n<td bgcolor=#FFFFFF>1</td>\\n<td bgcolor=#FFFFFF>0</td>\\n<td bgcolor=#FFFFFF>0</td>\\n<td bgcolor=#FFFFFF>1</td>\\n<td bgcolor=#fef6c3>0.596</td>\\n</tr>\\n<tr>\\n<td bgcolor=#FFFFFF>1</td>\\n<td bgcolor=#FFFFFF>1</td>\\n<td bgcolor=#FFFFFF>1</td>\\n<td bgcolor=#FFFFFF>0</td>\\n<td bgcolor=#FFFFFF>1</td>\\n<td bgcolor=#FFFFFF>0</td>\\n<td bgcolor=#bbc9dc>0.113</td>\\n</tr>\\n<tr>\\n<td bgcolor=#FFFFFF>1</td>\\n<td bgcolor=#FFFFFF>1</td>\\n<td bgcolor=#FFFFFF>1</td>\\n<td bgcolor=#FFFFFF>0</td>\\n<td bgcolor=#FFFFFF>1</td>\\n<td bgcolor=#FFFFFF>1</td>\\n<td bgcolor=#fbdcec>0.887</td>\\n</tr>\\n<tr>\\n<td bgcolor=#FFFFFF>1</td>\\n<td bgcolor=#FFFFFF>1</td>\\n<td bgcolor=#FFFFFF>1</td>\\n<td bgcolor=#FFFFFF>1</td>\\n<td bgcolor=#FFFFFF>0</td>\\n<td bgcolor=#FFFFFF>0</td>\\n<td bgcolor=#f2f0f1>0.991</td>\\n</tr>\\n<tr>\\n<td bgcolor=#FFFFFF>1</td>\\n<td bgcolor=#FFFFFF>1</td>\\n<td bgcolor=#FFFFFF>1</td>\\n<td bgcolor=#FFFFFF>1</td>\\n<td bgcolor=#FFFFFF>0</td>\\n<td bgcolor=#FFFFFF>1</td>\\n<td bgcolor=#f6b5b1>0.009</td>\\n</tr>\\n<tr>\\n<td bgcolor=#FFFFFF>1</td>\\n<td bgcolor=#FFFFFF>1</td>\\n<td bgcolor=#FFFFFF>1</td>\\n<td bgcolor=#FFFFFF>1</td>\\n<td bgcolor=#FFFFFF>1</td>\\n<td bgcolor=#FFFFFF>0</td>\\n<td bgcolor=#feddaa>0.515</td>\\n</tr>\\n<tr>\\n<td bgcolor=#FFFFFF>1</td>\\n<td bgcolor=#FFFFFF>1</td>\\n<td bgcolor=#FFFFFF>1</td>\\n<td bgcolor=#FFFFFF>1</td>\\n<td bgcolor=#FFFFFF>1</td>\\n<td bgcolor=#FFFFFF>1</td>\\n<td bgcolor=#fad7ac>0.485</td>\\n</tr>\\n</table>\", \"<table border=\\\"1\\\" cellpadding=\\\"4\\\" cellspacing=\\\"0\\\" bordercolor=\\\"#000000\\\">\\n<tr bgcolor=\\\"#AAAAAA\\\">\\n<th align=\\\"center\\\">0</th>\\n<th align=\\\"center\\\">2</th>\\n<th align=\\\"center\\\">3</th>\\n<th align=\\\"center\\\">5</th>\\n<th align=\\\"center\\\">6</th>\\n<th align=\\\"center\\\">7</th>\\n<th align=\\\"center\\\">8</th>\\n<th align=\\\"center\\\">Prob.</th>\\n</tr>\\n<tr>\\n<td bgcolor=#FFFFFF>0</td>\\n<td bgcolor=#FFFFFF>0</td>\\n<td bgcolor=#FFFFFF>0</td>\\n<td bgcolor=#FFFFFF>0</td>\\n<td bgcolor=#FFFFFF>0</td>\\n<td bgcolor=#FFFFFF>0</td>\\n<td bgcolor=#FFFFFF>0</td>\\n<td bgcolor=#fbb4ae>0.000</td>\\n</tr>\\n<tr>\\n<td bgcolor=#FFFFFF>0</td>\\n<td bgcolor=#FFFFFF>0</td>\\n<td bgcolor=#FFFFFF>0</td>\\n<td bgcolor=#FFFFFF>0</td>\\n<td bgcolor=#FFFFFF>0</td>\\n<td bgcolor=#FFFFFF>0</td>\\n<td bgcolor=#FFFFFF>1</td>\\n<td bgcolor=#f2f2f2>1.000</td>\\n</tr>\\n<tr>\\n<td bgcolor=#FFFFFF>0</td>\\n<td bgcolor=#FFFFFF>0</td>\\n<td bgcolor=#FFFFFF>0</td>\\n<td bgcolor=#FFFFFF>0</td>\\n<td bgcolor=#FFFFFF>0</td>\\n<td bgcolor=#FFFFFF>1</td>\\n<td bgcolor=#FFFFFF>0</td>\\n<td bgcolor=#c8e6c9>0.233</td>\\n</tr>\\n<tr>\\n<td bgcolor=#FFFFFF>0</td>\\n<td bgcolor=#FFFFFF>0</td>\\n<td bgcolor=#FFFFFF>0</td>\\n<td bgcolor=#FFFFFF>0</td>\\n<td bgcolor=#FFFFFF>0</td>\\n<td bgcolor=#FFFFFF>1</td>\\n<td bgcolor=#FFFFFF>1</td>\\n<td bgcolor=#e8d8c4>0.767</td>\\n</tr>\\n<tr>\\n<td bgcolor=#FFFFFF>0</td>\\n<td bgcolor=#FFFFFF>0</td>\\n<td bgcolor=#FFFFFF>0</td>\\n<td bgcolor=#FFFFFF>0</td>\\n<td bgcolor=#FFFFFF>1</td>\\n<td bgcolor=#FFFFFF>0</td>\\n<td bgcolor=#FFFFFF>0</td>\\n<td bgcolor=#f7f4c7>0.659</td>\\n</tr>\\n<tr>\\n<td bgcolor=#FFFFFF>0</td>\\n<td bgcolor=#FFFFFF>0</td>\\n<td bgcolor=#FFFFFF>0</td>\\n<td bgcolor=#FFFFFF>0</td>\\n<td bgcolor=#FFFFFF>1</td>\\n<td bgcolor=#FFFFFF>0</td>\\n<td bgcolor=#FFFFFF>1</td>\\n<td bgcolor=#d9d3db>0.341</td>\\n</tr>\\n<tr>\\n<td bgcolor=#FFFFFF>0</td>\\n<td bgcolor=#FFFFFF>0</td>\\n<td bgcolor=#FFFFFF>0</td>\\n<td bgcolor=#FFFFFF>0</td>\\n<td bgcolor=#FFFFFF>1</td>\\n<td bgcolor=#FFFFFF>1</td>\\n<td bgcolor=#FFFFFF>0</td>\\n<td bgcolor=#b7d1de>0.145</td>\\n</tr>\\n<tr>\\n<td bgcolor=#FFFFFF>0</td>\\n<td bgcolor=#FFFFFF>0</td>\\n<td bgcolor=#FFFFFF>0</td>\\n<td bgcolor=#FFFFFF>0</td>\\n<td bgcolor=#FFFFFF>1</td>\\n<td bgcolor=#FFFFFF>1</td>\\n<td bgcolor=#FFFFFF>1</td>\\n<td bgcolor=#f9d9e4>0.855</td>\\n</tr>\\n<tr>\\n<td bgcolor=#FFFFFF>0</td>\\n<td bgcolor=#FFFFFF>0</td>\\n<td bgcolor=#FFFFFF>0</td>\\n<td bgcolor=#FFFFFF>1</td>\\n<td bgcolor=#FFFFFF>0</td>\\n<td bgcolor=#FFFFFF>0</td>\\n<td bgcolor=#FFFFFF>0</td>\\n<td bgcolor=#f3d9da>0.828</td>\\n</tr>\\n<tr>\\n<td bgcolor=#FFFFFF>0</td>\\n<td bgcolor=#FFFFFF>0</td>\\n<td bgcolor=#FFFFFF>0</td>\\n<td bgcolor=#FFFFFF>1</td>\\n<td bgcolor=#FFFFFF>0</td>\\n<td bgcolor=#FFFFFF>0</td>\\n<td bgcolor=#FFFFFF>1</td>\\n<td bgcolor=#bcd8d7>0.172</td>\\n</tr>\\n<tr>\\n<td bgcolor=#FFFFFF>0</td>\\n<td bgcolor=#FFFFFF>0</td>\\n<td bgcolor=#FFFFFF>0</td>\\n<td bgcolor=#FFFFFF>1</td>\\n<td bgcolor=#FFFFFF>0</td>\\n<td bgcolor=#FFFFFF>1</td>\\n<td bgcolor=#FFFFFF>0</td>\\n<td bgcolor=#f4efc6>0.674</td>\\n</tr>\\n<tr>\\n<td bgcolor=#FFFFFF>0</td>\\n<td bgcolor=#FFFFFF>0</td>\\n<td bgcolor=#FFFFFF>0</td>\\n<td bgcolor=#FFFFFF>1</td>\\n<td bgcolor=#FFFFFF>0</td>\\n<td bgcolor=#FFFFFF>1</td>\\n<td bgcolor=#FFFFFF>1</td>\\n<td bgcolor=#d6d7d7>0.326</td>\\n</tr>\\n<tr>\\n<td bgcolor=#FFFFFF>0</td>\\n<td bgcolor=#FFFFFF>0</td>\\n<td bgcolor=#FFFFFF>0</td>\\n<td bgcolor=#FFFFFF>1</td>\\n<td bgcolor=#FFFFFF>1</td>\\n<td bgcolor=#FFFFFF>0</td>\\n<td bgcolor=#FFFFFF>0</td>\\n<td bgcolor=#fef7c4>0.598</td>\\n</tr>\\n<tr>\\n<td bgcolor=#FFFFFF>0</td>\\n<td bgcolor=#FFFFFF>0</td>\\n<td bgcolor=#FFFFFF>0</td>\\n<td bgcolor=#FFFFFF>1</td>\\n<td bgcolor=#FFFFFF>1</td>\\n<td bgcolor=#FFFFFF>0</td>\\n<td bgcolor=#FFFFFF>1</td>\\n<td bgcolor=#e4cdd7>0.402</td>\\n</tr>\\n<tr>\\n<td bgcolor=#FFFFFF>0</td>\\n<td bgcolor=#FFFFFF>0</td>\\n<td bgcolor=#FFFFFF>0</td>\\n<td bgcolor=#FFFFFF>1</td>\\n<td bgcolor=#FFFFFF>1</td>\\n<td bgcolor=#FFFFFF>1</td>\\n<td bgcolor=#FFFFFF>0</td>\\n<td bgcolor=#d0e2cd>0.285</td>\\n</tr>\\n<tr>\\n<td bgcolor=#FFFFFF>0</td>\\n<td bgcolor=#FFFFFF>0</td>\\n<td bgcolor=#FFFFFF>0</td>\\n<td bgcolor=#FFFFFF>1</td>\\n<td bgcolor=#FFFFFF>1</td>\\n<td bgcolor=#FFFFFF>1</td>\\n<td bgcolor=#FFFFFF>1</td>\\n<td bgcolor=#ebe2c0>0.715</td>\\n</tr>\\n<tr>\\n<td bgcolor=#FFFFFF>0</td>\\n<td bgcolor=#FFFFFF>0</td>\\n<td bgcolor=#FFFFFF>1</td>\\n<td bgcolor=#FFFFFF>0</td>\\n<td bgcolor=#FFFFFF>0</td>\\n<td bgcolor=#FFFFFF>0</td>\\n<td bgcolor=#FFFFFF>0</td>\\n<td bgcolor=#feebb8>0.560</td>\\n</tr>\\n<tr>\\n<td bgcolor=#FFFFFF>0</td>\\n<td bgcolor=#FFFFFF>0</td>\\n<td bgcolor=#FFFFFF>1</td>\\n<td bgcolor=#FFFFFF>0</td>\\n<td bgcolor=#FFFFFF>0</td>\\n<td bgcolor=#FFFFFF>0</td>\\n<td bgcolor=#FFFFFF>1</td>\\n<td bgcolor=#eed2c4>0.440</td>\\n</tr>\\n<tr>\\n<td bgcolor=#FFFFFF>0</td>\\n<td bgcolor=#FFFFFF>0</td>\\n<td bgcolor=#FFFFFF>1</td>\\n<td bgcolor=#FFFFFF>0</td>\\n<td bgcolor=#FFFFFF>0</td>\\n<td bgcolor=#FFFFFF>1</td>\\n<td bgcolor=#FFFFFF>0</td>\\n<td bgcolor=#fad7ac>0.488</td>\\n</tr>\\n<tr>\\n<td bgcolor=#FFFFFF>0</td>\\n<td bgcolor=#FFFFFF>0</td>\\n<td bgcolor=#FFFFFF>1</td>\\n<td bgcolor=#FFFFFF>0</td>\\n<td bgcolor=#FFFFFF>0</td>\\n<td bgcolor=#FFFFFF>1</td>\\n<td bgcolor=#FFFFFF>1</td>\\n<td bgcolor=#feddaa>0.512</td>\\n</tr>\\n<tr>\\n<td bgcolor=#FFFFFF>0</td>\\n<td bgcolor=#FFFFFF>0</td>\\n<td bgcolor=#FFFFFF>1</td>\\n<td bgcolor=#FFFFFF>0</td>\\n<td bgcolor=#FFFFFF>1</td>\\n<td bgcolor=#FFFFFF>0</td>\\n<td bgcolor=#FFFFFF>0</td>\\n<td bgcolor=#d4dcd2>0.308</td>\\n</tr>\\n<tr>\\n<td bgcolor=#FFFFFF>0</td>\\n<td bgcolor=#FFFFFF>0</td>\\n<td bgcolor=#FFFFFF>1</td>\\n<td bgcolor=#FFFFFF>0</td>\\n<td bgcolor=#FFFFFF>1</td>\\n<td bgcolor=#FFFFFF>0</td>\\n<td bgcolor=#FFFFFF>1</td>\\n<td bgcolor=#f0e9c3>0.692</td>\\n</tr>\\n<tr>\\n<td bgcolor=#FFFFFF>0</td>\\n<td bgcolor=#FFFFFF>0</td>\\n<td bgcolor=#FFFFFF>1</td>\\n<td bgcolor=#FFFFFF>0</td>\\n<td bgcolor=#FFFFFF>1</td>\\n<td bgcolor=#FFFFFF>1</td>\\n<td bgcolor=#FFFFFF>0</td>\\n<td bgcolor=#efe8c3>0.697</td>\\n</tr>\\n<tr>\\n<td bgcolor=#FFFFFF>0</td>\\n<td bgcolor=#FFFFFF>0</td>\\n<td bgcolor=#FFFFFF>1</td>\\n<td bgcolor=#FFFFFF>0</td>\\n<td bgcolor=#FFFFFF>1</td>\\n<td bgcolor=#FFFFFF>1</td>\\n<td bgcolor=#FFFFFF>1</td>\\n<td bgcolor=#d3ddd1>0.303</td>\\n</tr>\\n<tr>\\n<td bgcolor=#FFFFFF>0</td>\\n<td bgcolor=#FFFFFF>0</td>\\n<td bgcolor=#FFFFFF>1</td>\\n<td bgcolor=#FFFFFF>1</td>\\n<td bgcolor=#FFFFFF>0</td>\\n<td bgcolor=#FFFFFF>0</td>\\n<td bgcolor=#FFFFFF>0</td>\\n<td bgcolor=#f7d9e1>0.845</td>\\n</tr>\\n<tr>\\n<td bgcolor=#FFFFFF>0</td>\\n<td bgcolor=#FFFFFF>0</td>\\n<td bgcolor=#FFFFFF>1</td>\\n<td bgcolor=#FFFFFF>1</td>\\n<td bgcolor=#FFFFFF>0</td>\\n<td bgcolor=#FFFFFF>0</td>\\n<td bgcolor=#FFFFFF>1</td>\\n<td bgcolor=#b8d3dc>0.155</td>\\n</tr>\\n<tr>\\n<td bgcolor=#FFFFFF>0</td>\\n<td bgcolor=#FFFFFF>0</td>\\n<td bgcolor=#FFFFFF>1</td>\\n<td bgcolor=#FFFFFF>1</td>\\n<td bgcolor=#FFFFFF>0</td>\\n<td bgcolor=#FFFFFF>1</td>\\n<td bgcolor=#FFFFFF>0</td>\\n<td bgcolor=#f6e8ef>0.952</td>\\n</tr>\\n<tr>\\n<td bgcolor=#FFFFFF>0</td>\\n<td bgcolor=#FFFFFF>0</td>\\n<td bgcolor=#FFFFFF>1</td>\\n<td bgcolor=#FFFFFF>1</td>\\n<td bgcolor=#FFFFFF>0</td>\\n<td bgcolor=#FFFFFF>1</td>\\n<td bgcolor=#FFFFFF>1</td>\\n<td bgcolor=#dfbdc1>0.048</td>\\n</tr>\\n<tr>\\n<td bgcolor=#FFFFFF>0</td>\\n<td bgcolor=#FFFFFF>0</td>\\n<td bgcolor=#FFFFFF>1</td>\\n<td bgcolor=#FFFFFF>1</td>\\n<td bgcolor=#FFFFFF>1</td>\\n<td bgcolor=#FFFFFF>0</td>\\n<td bgcolor=#FFFFFF>0</td>\\n<td bgcolor=#dbbec5>0.057</td>\\n</tr>\\n<tr>\\n<td bgcolor=#FFFFFF>0</td>\\n<td bgcolor=#FFFFFF>0</td>\\n<td bgcolor=#FFFFFF>1</td>\\n<td bgcolor=#FFFFFF>1</td>\\n<td bgcolor=#FFFFFF>1</td>\\n<td bgcolor=#FFFFFF>0</td>\\n<td bgcolor=#FFFFFF>1</td>\\n<td bgcolor=#f6e7ef>0.943</td>\\n</tr>\\n<tr>\\n<td bgcolor=#FFFFFF>0</td>\\n<td bgcolor=#FFFFFF>0</td>\\n<td bgcolor=#FFFFFF>1</td>\\n<td bgcolor=#FFFFFF>1</td>\\n<td bgcolor=#FFFFFF>1</td>\\n<td bgcolor=#FFFFFF>1</td>\\n<td bgcolor=#FFFFFF>0</td>\\n<td bgcolor=#ecd8cb>0.788</td>\\n</tr>\\n<tr>\\n<td bgcolor=#FFFFFF>0</td>\\n<td bgcolor=#FFFFFF>0</td>\\n<td bgcolor=#FFFFFF>1</td>\\n<td bgcolor=#FFFFFF>1</td>\\n<td bgcolor=#FFFFFF>1</td>\\n<td bgcolor=#FFFFFF>1</td>\\n<td bgcolor=#FFFFFF>1</td>\\n<td bgcolor=#c4e1ce>0.212</td>\\n</tr>\\n<tr>\\n<td bgcolor=#FFFFFF>0</td>\\n<td bgcolor=#FFFFFF>1</td>\\n<td bgcolor=#FFFFFF>0</td>\\n<td bgcolor=#FFFFFF>0</td>\\n<td bgcolor=#FFFFFF>0</td>\\n<td bgcolor=#FFFFFF>0</td>\\n<td bgcolor=#FFFFFF>0</td>\\n<td bgcolor=#d9d2dc>0.347</td>\\n</tr>\\n<tr>\\n<td bgcolor=#FFFFFF>0</td>\\n<td bgcolor=#FFFFFF>1</td>\\n<td bgcolor=#FFFFFF>0</td>\\n<td bgcolor=#FFFFFF>0</td>\\n<td bgcolor=#FFFFFF>0</td>\\n<td bgcolor=#FFFFFF>0</td>\\n<td bgcolor=#FFFFFF>1</td>\\n<td bgcolor=#f8f5c8>0.653</td>\\n</tr>\\n<tr>\\n<td bgcolor=#FFFFFF>0</td>\\n<td bgcolor=#FFFFFF>1</td>\\n<td bgcolor=#FFFFFF>0</td>\\n<td bgcolor=#FFFFFF>0</td>\\n<td bgcolor=#FFFFFF>0</td>\\n<td bgcolor=#FFFFFF>1</td>\\n<td bgcolor=#FFFFFF>0</td>\\n<td bgcolor=#d6d8d6>0.322</td>\\n</tr>\\n<tr>\\n<td bgcolor=#FFFFFF>0</td>\\n<td bgcolor=#FFFFFF>1</td>\\n<td bgcolor=#FFFFFF>0</td>\\n<td bgcolor=#FFFFFF>0</td>\\n<td bgcolor=#FFFFFF>0</td>\\n<td bgcolor=#FFFFFF>1</td>\\n<td bgcolor=#FFFFFF>1</td>\\n<td bgcolor=#f3eec5>0.678</td>\\n</tr>\\n<tr>\\n<td bgcolor=#FFFFFF>0</td>\\n<td bgcolor=#FFFFFF>1</td>\\n<td bgcolor=#FFFFFF>0</td>\\n<td bgcolor=#FFFFFF>0</td>\\n<td bgcolor=#FFFFFF>1</td>\\n<td bgcolor=#FFFFFF>0</td>\\n<td bgcolor=#FFFFFF>0</td>\\n<td bgcolor=#fcdcec>0.886</td>\\n</tr>\\n<tr>\\n<td bgcolor=#FFFFFF>0</td>\\n<td bgcolor=#FFFFFF>1</td>\\n<td bgcolor=#FFFFFF>0</td>\\n<td bgcolor=#FFFFFF>0</td>\\n<td bgcolor=#FFFFFF>1</td>\\n<td bgcolor=#FFFFFF>0</td>\\n<td bgcolor=#FFFFFF>1</td>\\n<td bgcolor=#b9cade>0.114</td>\\n</tr>\\n<tr>\\n<td bgcolor=#FFFFFF>0</td>\\n<td bgcolor=#FFFFFF>1</td>\\n<td bgcolor=#FFFFFF>0</td>\\n<td bgcolor=#FFFFFF>0</td>\\n<td bgcolor=#FFFFFF>1</td>\\n<td bgcolor=#FFFFFF>1</td>\\n<td bgcolor=#FFFFFF>0</td>\\n<td bgcolor=#f6d9e0>0.840</td>\\n</tr>\\n<tr>\\n<td bgcolor=#FFFFFF>0</td>\\n<td bgcolor=#FFFFFF>1</td>\\n<td bgcolor=#FFFFFF>0</td>\\n<td bgcolor=#FFFFFF>0</td>\\n<td bgcolor=#FFFFFF>1</td>\\n<td bgcolor=#FFFFFF>1</td>\\n<td bgcolor=#FFFFFF>1</td>\\n<td bgcolor=#b9d4db>0.160</td>\\n</tr>\\n<tr>\\n<td bgcolor=#FFFFFF>0</td>\\n<td bgcolor=#FFFFFF>1</td>\\n<td bgcolor=#FFFFFF>0</td>\\n<td bgcolor=#FFFFFF>1</td>\\n<td bgcolor=#FFFFFF>0</td>\\n<td bgcolor=#FFFFFF>0</td>\\n<td bgcolor=#FFFFFF>0</td>\\n<td bgcolor=#d4c1ca>0.070</td>\\n</tr>\\n<tr>\\n<td bgcolor=#FFFFFF>0</td>\\n<td bgcolor=#FFFFFF>1</td>\\n<td bgcolor=#FFFFFF>0</td>\\n<td bgcolor=#FFFFFF>1</td>\\n<td bgcolor=#FFFFFF>0</td>\\n<td bgcolor=#FFFFFF>0</td>\\n<td bgcolor=#FFFFFF>1</td>\\n<td bgcolor=#f7e5ee>0.930</td>\\n</tr>\\n<tr>\\n<td bgcolor=#FFFFFF>0</td>\\n<td bgcolor=#FFFFFF>1</td>\\n<td bgcolor=#FFFFFF>0</td>\\n<td bgcolor=#FFFFFF>1</td>\\n<td bgcolor=#FFFFFF>0</td>\\n<td bgcolor=#FFFFFF>1</td>\\n<td bgcolor=#FFFFFF>0</td>\\n<td bgcolor=#fee4b1>0.538</td>\\n</tr>\\n<tr>\\n<td bgcolor=#FFFFFF>0</td>\\n<td bgcolor=#FFFFFF>1</td>\\n<td bgcolor=#FFFFFF>0</td>\\n<td bgcolor=#FFFFFF>1</td>\\n<td bgcolor=#FFFFFF>0</td>\\n<td bgcolor=#FFFFFF>1</td>\\n<td bgcolor=#FFFFFF>1</td>\\n<td bgcolor=#f4d4b8>0.462</td>\\n</tr>\\n<tr>\\n<td bgcolor=#FFFFFF>0</td>\\n<td bgcolor=#FFFFFF>1</td>\\n<td bgcolor=#FFFFFF>0</td>\\n<td bgcolor=#FFFFFF>1</td>\\n<td bgcolor=#FFFFFF>1</td>\\n<td bgcolor=#FFFFFF>0</td>\\n<td bgcolor=#FFFFFF>0</td>\\n<td bgcolor=#fbdcec>0.887</td>\\n</tr>\\n<tr>\\n<td bgcolor=#FFFFFF>0</td>\\n<td bgcolor=#FFFFFF>1</td>\\n<td bgcolor=#FFFFFF>0</td>\\n<td bgcolor=#FFFFFF>1</td>\\n<td bgcolor=#FFFFFF>1</td>\\n<td bgcolor=#FFFFFF>0</td>\\n<td bgcolor=#FFFFFF>1</td>\\n<td bgcolor=#bbc9dc>0.113</td>\\n</tr>\\n<tr>\\n<td bgcolor=#FFFFFF>0</td>\\n<td bgcolor=#FFFFFF>1</td>\\n<td bgcolor=#FFFFFF>0</td>\\n<td bgcolor=#FFFFFF>1</td>\\n<td bgcolor=#FFFFFF>1</td>\\n<td bgcolor=#FFFFFF>1</td>\\n<td bgcolor=#FFFFFF>0</td>\\n<td bgcolor=#fef3c0>0.586</td>\\n</tr>\\n<tr>\\n<td bgcolor=#FFFFFF>0</td>\\n<td bgcolor=#FFFFFF>1</td>\\n<td bgcolor=#FFFFFF>0</td>\\n<td bgcolor=#FFFFFF>1</td>\\n<td bgcolor=#FFFFFF>1</td>\\n<td bgcolor=#FFFFFF>1</td>\\n<td bgcolor=#FFFFFF>1</td>\\n<td bgcolor=#e7cfd1>0.414</td>\\n</tr>\\n<tr>\\n<td bgcolor=#FFFFFF>0</td>\\n<td bgcolor=#FFFFFF>1</td>\\n<td bgcolor=#FFFFFF>1</td>\\n<td bgcolor=#FFFFFF>0</td>\\n<td bgcolor=#FFFFFF>0</td>\\n<td bgcolor=#FFFFFF>0</td>\\n<td bgcolor=#FFFFFF>0</td>\\n<td bgcolor=#ebd0c9>0.429</td>\\n</tr>\\n<tr>\\n<td bgcolor=#FFFFFF>0</td>\\n<td bgcolor=#FFFFFF>1</td>\\n<td bgcolor=#FFFFFF>1</td>\\n<td bgcolor=#FFFFFF>0</td>\\n<td bgcolor=#FFFFFF>0</td>\\n<td bgcolor=#FFFFFF>0</td>\\n<td bgcolor=#FFFFFF>1</td>\\n<td bgcolor=#feefbc>0.571</td>\\n</tr>\\n<tr>\\n<td bgcolor=#FFFFFF>0</td>\\n<td bgcolor=#FFFFFF>1</td>\\n<td bgcolor=#FFFFFF>1</td>\\n<td bgcolor=#FFFFFF>0</td>\\n<td bgcolor=#FFFFFF>0</td>\\n<td bgcolor=#FFFFFF>1</td>\\n<td bgcolor=#FFFFFF>0</td>\\n<td bgcolor=#e6dabe>0.740</td>\\n</tr>\\n<tr>\\n<td bgcolor=#FFFFFF>0</td>\\n<td bgcolor=#FFFFFF>1</td>\\n<td bgcolor=#FFFFFF>1</td>\\n<td bgcolor=#FFFFFF>0</td>\\n<td bgcolor=#FFFFFF>0</td>\\n<td bgcolor=#FFFFFF>1</td>\\n<td bgcolor=#FFFFFF>1</td>\\n<td bgcolor=#cde8c7>0.260</td>\\n</tr>\\n<tr>\\n<td bgcolor=#FFFFFF>0</td>\\n<td bgcolor=#FFFFFF>1</td>\\n<td bgcolor=#FFFFFF>1</td>\\n<td bgcolor=#FFFFFF>0</td>\\n<td bgcolor=#FFFFFF>1</td>\\n<td bgcolor=#FFFFFF>0</td>\\n<td bgcolor=#FFFFFF>0</td>\\n<td bgcolor=#d6c0c8>0.066</td>\\n</tr>\\n<tr>\\n<td bgcolor=#FFFFFF>0</td>\\n<td bgcolor=#FFFFFF>1</td>\\n<td bgcolor=#FFFFFF>1</td>\\n<td bgcolor=#FFFFFF>0</td>\\n<td bgcolor=#FFFFFF>1</td>\\n<td bgcolor=#FFFFFF>0</td>\\n<td bgcolor=#FFFFFF>1</td>\\n<td bgcolor=#f7e5ee>0.934</td>\\n</tr>\\n<tr>\\n<td bgcolor=#FFFFFF>0</td>\\n<td bgcolor=#FFFFFF>1</td>\\n<td bgcolor=#FFFFFF>1</td>\\n<td bgcolor=#FFFFFF>0</td>\\n<td bgcolor=#FFFFFF>1</td>\\n<td bgcolor=#FFFFFF>1</td>\\n<td bgcolor=#FFFFFF>0</td>\\n<td bgcolor=#f0e9c3>0.695</td>\\n</tr>\\n<tr>\\n<td bgcolor=#FFFFFF>0</td>\\n<td bgcolor=#FFFFFF>1</td>\\n<td bgcolor=#FFFFFF>1</td>\\n<td bgcolor=#FFFFFF>0</td>\\n<td bgcolor=#FFFFFF>1</td>\\n<td bgcolor=#FFFFFF>1</td>\\n<td bgcolor=#FFFFFF>1</td>\\n<td bgcolor=#d4dcd2>0.305</td>\\n</tr>\\n<tr>\\n<td bgcolor=#FFFFFF>0</td>\\n<td bgcolor=#FFFFFF>1</td>\\n<td bgcolor=#FFFFFF>1</td>\\n<td bgcolor=#FFFFFF>1</td>\\n<td bgcolor=#FFFFFF>0</td>\\n<td bgcolor=#FFFFFF>0</td>\\n<td bgcolor=#FFFFFF>0</td>\\n<td bgcolor=#d9d3db>0.340</td>\\n</tr>\\n<tr>\\n<td bgcolor=#FFFFFF>0</td>\\n<td bgcolor=#FFFFFF>1</td>\\n<td bgcolor=#FFFFFF>1</td>\\n<td bgcolor=#FFFFFF>1</td>\\n<td bgcolor=#FFFFFF>0</td>\\n<td bgcolor=#FFFFFF>0</td>\\n<td bgcolor=#FFFFFF>1</td>\\n<td bgcolor=#f7f4c7>0.660</td>\\n</tr>\\n<tr>\\n<td bgcolor=#FFFFFF>0</td>\\n<td bgcolor=#FFFFFF>1</td>\\n<td bgcolor=#FFFFFF>1</td>\\n<td bgcolor=#FFFFFF>1</td>\\n<td bgcolor=#FFFFFF>0</td>\\n<td bgcolor=#FFFFFF>1</td>\\n<td bgcolor=#FFFFFF>0</td>\\n<td bgcolor=#cbeac5>0.249</td>\\n</tr>\\n<tr>\\n<td bgcolor=#FFFFFF>0</td>\\n<td bgcolor=#FFFFFF>1</td>\\n<td bgcolor=#FFFFFF>1</td>\\n<td bgcolor=#FFFFFF>1</td>\\n<td bgcolor=#FFFFFF>0</td>\\n<td bgcolor=#FFFFFF>1</td>\\n<td bgcolor=#FFFFFF>1</td>\\n<td bgcolor=#e5d8be>0.751</td>\\n</tr>\\n<tr>\\n<td bgcolor=#FFFFFF>0</td>\\n<td bgcolor=#FFFFFF>1</td>\\n<td bgcolor=#FFFFFF>1</td>\\n<td bgcolor=#FFFFFF>1</td>\\n<td bgcolor=#FFFFFF>1</td>\\n<td bgcolor=#FFFFFF>0</td>\\n<td bgcolor=#FFFFFF>0</td>\\n<td bgcolor=#feefbc>0.573</td>\\n</tr>\\n<tr>\\n<td bgcolor=#FFFFFF>0</td>\\n<td bgcolor=#FFFFFF>1</td>\\n<td bgcolor=#FFFFFF>1</td>\\n<td bgcolor=#FFFFFF>1</td>\\n<td bgcolor=#FFFFFF>1</td>\\n<td bgcolor=#FFFFFF>0</td>\\n<td bgcolor=#FFFFFF>1</td>\\n<td bgcolor=#ebd0c9>0.427</td>\\n</tr>\\n<tr>\\n<td bgcolor=#FFFFFF>0</td>\\n<td bgcolor=#FFFFFF>1</td>\\n<td bgcolor=#FFFFFF>1</td>\\n<td bgcolor=#FFFFFF>1</td>\\n<td bgcolor=#FFFFFF>1</td>\\n<td bgcolor=#FFFFFF>1</td>\\n<td bgcolor=#FFFFFF>0</td>\\n<td bgcolor=#f6d5b4>0.469</td>\\n</tr>\\n<tr>\\n<td bgcolor=#FFFFFF>0</td>\\n<td bgcolor=#FFFFFF>1</td>\\n<td bgcolor=#FFFFFF>1</td>\\n<td bgcolor=#FFFFFF>1</td>\\n<td bgcolor=#FFFFFF>1</td>\\n<td bgcolor=#FFFFFF>1</td>\\n<td bgcolor=#FFFFFF>1</td>\\n<td bgcolor=#fee1ae>0.531</td>\\n</tr>\\n<tr>\\n<td bgcolor=#FFFFFF>1</td>\\n<td bgcolor=#FFFFFF>0</td>\\n<td bgcolor=#FFFFFF>0</td>\\n<td bgcolor=#FFFFFF>0</td>\\n<td bgcolor=#FFFFFF>0</td>\\n<td bgcolor=#FFFFFF>0</td>\\n<td bgcolor=#FFFFFF>0</td>\\n<td bgcolor=#bdd9d6>0.176</td>\\n</tr>\\n<tr>\\n<td bgcolor=#FFFFFF>1</td>\\n<td bgcolor=#FFFFFF>0</td>\\n<td bgcolor=#FFFFFF>0</td>\\n<td bgcolor=#FFFFFF>0</td>\\n<td bgcolor=#FFFFFF>0</td>\\n<td bgcolor=#FFFFFF>0</td>\\n<td bgcolor=#FFFFFF>1</td>\\n<td bgcolor=#f3d9d8>0.824</td>\\n</tr>\\n<tr>\\n<td bgcolor=#FFFFFF>1</td>\\n<td bgcolor=#FFFFFF>0</td>\\n<td bgcolor=#FFFFFF>0</td>\\n<td bgcolor=#FFFFFF>0</td>\\n<td bgcolor=#FFFFFF>0</td>\\n<td bgcolor=#FFFFFF>1</td>\\n<td bgcolor=#FFFFFF>0</td>\\n<td bgcolor=#fcdcec>0.886</td>\\n</tr>\\n<tr>\\n<td bgcolor=#FFFFFF>1</td>\\n<td bgcolor=#FFFFFF>0</td>\\n<td bgcolor=#FFFFFF>0</td>\\n<td bgcolor=#FFFFFF>0</td>\\n<td bgcolor=#FFFFFF>0</td>\\n<td bgcolor=#FFFFFF>1</td>\\n<td bgcolor=#FFFFFF>1</td>\\n<td bgcolor=#b9cade>0.114</td>\\n</tr>\\n<tr>\\n<td bgcolor=#FFFFFF>1</td>\\n<td bgcolor=#FFFFFF>0</td>\\n<td bgcolor=#FFFFFF>0</td>\\n<td bgcolor=#FFFFFF>0</td>\\n<td bgcolor=#FFFFFF>1</td>\\n<td bgcolor=#FFFFFF>0</td>\\n<td bgcolor=#FFFFFF>0</td>\\n<td bgcolor=#efd8d1>0.802</td>\\n</tr>\\n<tr>\\n<td bgcolor=#FFFFFF>1</td>\\n<td bgcolor=#FFFFFF>0</td>\\n<td bgcolor=#FFFFFF>0</td>\\n<td bgcolor=#FFFFFF>0</td>\\n<td bgcolor=#FFFFFF>1</td>\\n<td bgcolor=#FFFFFF>0</td>\\n<td bgcolor=#FFFFFF>1</td>\\n<td bgcolor=#c1ded1>0.198</td>\\n</tr>\\n<tr>\\n<td bgcolor=#FFFFFF>1</td>\\n<td bgcolor=#FFFFFF>0</td>\\n<td bgcolor=#FFFFFF>0</td>\\n<td bgcolor=#FFFFFF>0</td>\\n<td bgcolor=#FFFFFF>1</td>\\n<td bgcolor=#FFFFFF>1</td>\\n<td bgcolor=#FFFFFF>0</td>\\n<td bgcolor=#f7d6b2>0.476</td>\\n</tr>\\n<tr>\\n<td bgcolor=#FFFFFF>1</td>\\n<td bgcolor=#FFFFFF>0</td>\\n<td bgcolor=#FFFFFF>0</td>\\n<td bgcolor=#FFFFFF>0</td>\\n<td bgcolor=#FFFFFF>1</td>\\n<td bgcolor=#FFFFFF>1</td>\\n<td bgcolor=#FFFFFF>1</td>\\n<td bgcolor=#fee0ad>0.524</td>\\n</tr>\\n<tr>\\n<td bgcolor=#FFFFFF>1</td>\\n<td bgcolor=#FFFFFF>0</td>\\n<td bgcolor=#FFFFFF>0</td>\\n<td bgcolor=#FFFFFF>1</td>\\n<td bgcolor=#FFFFFF>0</td>\\n<td bgcolor=#FFFFFF>0</td>\\n<td bgcolor=#FFFFFF>0</td>\\n<td bgcolor=#e6d8bf>0.757</td>\\n</tr>\\n<tr>\\n<td bgcolor=#FFFFFF>1</td>\\n<td bgcolor=#FFFFFF>0</td>\\n<td bgcolor=#FFFFFF>0</td>\\n<td bgcolor=#FFFFFF>1</td>\\n<td bgcolor=#FFFFFF>0</td>\\n<td bgcolor=#FFFFFF>0</td>\\n<td bgcolor=#FFFFFF>1</td>\\n<td bgcolor=#cae9c6>0.243</td>\\n</tr>\\n<tr>\\n<td bgcolor=#FFFFFF>1</td>\\n<td bgcolor=#FFFFFF>0</td>\\n<td bgcolor=#FFFFFF>0</td>\\n<td bgcolor=#FFFFFF>1</td>\\n<td bgcolor=#FFFFFF>0</td>\\n<td bgcolor=#FFFFFF>1</td>\\n<td bgcolor=#FFFFFF>0</td>\\n<td bgcolor=#bbd7d8>0.168</td>\\n</tr>\\n<tr>\\n<td bgcolor=#FFFFFF>1</td>\\n<td bgcolor=#FFFFFF>0</td>\\n<td bgcolor=#FFFFFF>0</td>\\n<td bgcolor=#FFFFFF>1</td>\\n<td bgcolor=#FFFFFF>0</td>\\n<td bgcolor=#FFFFFF>1</td>\\n<td bgcolor=#FFFFFF>1</td>\\n<td bgcolor=#f4d9db>0.832</td>\\n</tr>\\n<tr>\\n<td bgcolor=#FFFFFF>1</td>\\n<td bgcolor=#FFFFFF>0</td>\\n<td bgcolor=#FFFFFF>0</td>\\n<td bgcolor=#FFFFFF>1</td>\\n<td bgcolor=#FFFFFF>1</td>\\n<td bgcolor=#FFFFFF>0</td>\\n<td bgcolor=#FFFFFF>0</td>\\n<td bgcolor=#fedba8>0.511</td>\\n</tr>\\n<tr>\\n<td bgcolor=#FFFFFF>1</td>\\n<td bgcolor=#FFFFFF>0</td>\\n<td bgcolor=#FFFFFF>0</td>\\n<td bgcolor=#FFFFFF>1</td>\\n<td bgcolor=#FFFFFF>1</td>\\n<td bgcolor=#FFFFFF>0</td>\\n<td bgcolor=#FFFFFF>1</td>\\n<td bgcolor=#fbd7aa>0.489</td>\\n</tr>\\n<tr>\\n<td bgcolor=#FFFFFF>1</td>\\n<td bgcolor=#FFFFFF>0</td>\\n<td bgcolor=#FFFFFF>0</td>\\n<td bgcolor=#FFFFFF>1</td>\\n<td bgcolor=#FFFFFF>1</td>\\n<td bgcolor=#FFFFFF>1</td>\\n<td bgcolor=#FFFFFF>0</td>\\n<td bgcolor=#dccde1>0.366</td>\\n</tr>\\n<tr>\\n<td bgcolor=#FFFFFF>1</td>\\n<td bgcolor=#FFFFFF>0</td>\\n<td bgcolor=#FFFFFF>0</td>\\n<td bgcolor=#FFFFFF>1</td>\\n<td bgcolor=#FFFFFF>1</td>\\n<td bgcolor=#FFFFFF>1</td>\\n<td bgcolor=#FFFFFF>1</td>\\n<td bgcolor=#fcfbca>0.634</td>\\n</tr>\\n<tr>\\n<td bgcolor=#FFFFFF>1</td>\\n<td bgcolor=#FFFFFF>0</td>\\n<td bgcolor=#FFFFFF>1</td>\\n<td bgcolor=#FFFFFF>0</td>\\n<td bgcolor=#FFFFFF>0</td>\\n<td bgcolor=#FFFFFF>0</td>\\n<td bgcolor=#FFFFFF>0</td>\\n<td bgcolor=#e2bcc0>0.046</td>\\n</tr>\\n<tr>\\n<td bgcolor=#FFFFFF>1</td>\\n<td bgcolor=#FFFFFF>0</td>\\n<td bgcolor=#FFFFFF>1</td>\\n<td bgcolor=#FFFFFF>0</td>\\n<td bgcolor=#FFFFFF>0</td>\\n<td bgcolor=#FFFFFF>0</td>\\n<td bgcolor=#FFFFFF>1</td>\\n<td bgcolor=#f5e9ef>0.954</td>\\n</tr>\\n<tr>\\n<td bgcolor=#FFFFFF>1</td>\\n<td bgcolor=#FFFFFF>0</td>\\n<td bgcolor=#FFFFFF>1</td>\\n<td bgcolor=#FFFFFF>0</td>\\n<td bgcolor=#FFFFFF>0</td>\\n<td bgcolor=#FFFFFF>1</td>\\n<td bgcolor=#FFFFFF>0</td>\\n<td bgcolor=#fbf9c9>0.641</td>\\n</tr>\\n<tr>\\n<td bgcolor=#FFFFFF>1</td>\\n<td bgcolor=#FFFFFF>0</td>\\n<td bgcolor=#FFFFFF>1</td>\\n<td bgcolor=#FFFFFF>0</td>\\n<td bgcolor=#FFFFFF>0</td>\\n<td bgcolor=#FFFFFF>1</td>\\n<td bgcolor=#FFFFFF>1</td>\\n<td bgcolor=#dbcfdf>0.359</td>\\n</tr>\\n<tr>\\n<td bgcolor=#FFFFFF>1</td>\\n<td bgcolor=#FFFFFF>0</td>\\n<td bgcolor=#FFFFFF>1</td>\\n<td bgcolor=#FFFFFF>0</td>\\n<td bgcolor=#FFFFFF>1</td>\\n<td bgcolor=#FFFFFF>0</td>\\n<td bgcolor=#FFFFFF>0</td>\\n<td bgcolor=#d2dfcf>0.296</td>\\n</tr>\\n<tr>\\n<td bgcolor=#FFFFFF>1</td>\\n<td bgcolor=#FFFFFF>0</td>\\n<td bgcolor=#FFFFFF>1</td>\\n<td bgcolor=#FFFFFF>0</td>\\n<td bgcolor=#FFFFFF>1</td>\\n<td bgcolor=#FFFFFF>0</td>\\n<td bgcolor=#FFFFFF>1</td>\\n<td bgcolor=#eee5c2>0.704</td>\\n</tr>\\n<tr>\\n<td bgcolor=#FFFFFF>1</td>\\n<td bgcolor=#FFFFFF>0</td>\\n<td bgcolor=#FFFFFF>1</td>\\n<td bgcolor=#FFFFFF>0</td>\\n<td bgcolor=#FFFFFF>1</td>\\n<td bgcolor=#FFFFFF>1</td>\\n<td bgcolor=#FFFFFF>0</td>\\n<td bgcolor=#f8e2ee>0.919</td>\\n</tr>\\n<tr>\\n<td bgcolor=#FFFFFF>1</td>\\n<td bgcolor=#FFFFFF>0</td>\\n<td bgcolor=#FFFFFF>1</td>\\n<td bgcolor=#FFFFFF>0</td>\\n<td bgcolor=#FFFFFF>1</td>\\n<td bgcolor=#FFFFFF>1</td>\\n<td bgcolor=#FFFFFF>1</td>\\n<td bgcolor=#cdc3cf>0.081</td>\\n</tr>\\n<tr>\\n<td bgcolor=#FFFFFF>1</td>\\n<td bgcolor=#FFFFFF>0</td>\\n<td bgcolor=#FFFFFF>1</td>\\n<td bgcolor=#FFFFFF>1</td>\\n<td bgcolor=#FFFFFF>0</td>\\n<td bgcolor=#FFFFFF>0</td>\\n<td bgcolor=#FFFFFF>0</td>\\n<td bgcolor=#ddcce2>0.369</td>\\n</tr>\\n<tr>\\n<td bgcolor=#FFFFFF>1</td>\\n<td bgcolor=#FFFFFF>0</td>\\n<td bgcolor=#FFFFFF>1</td>\\n<td bgcolor=#FFFFFF>1</td>\\n<td bgcolor=#FFFFFF>0</td>\\n<td bgcolor=#FFFFFF>0</td>\\n<td bgcolor=#FFFFFF>1</td>\\n<td bgcolor=#fdfdcb>0.631</td>\\n</tr>\\n<tr>\\n<td bgcolor=#FFFFFF>1</td>\\n<td bgcolor=#FFFFFF>0</td>\\n<td bgcolor=#FFFFFF>1</td>\\n<td bgcolor=#FFFFFF>1</td>\\n<td bgcolor=#FFFFFF>0</td>\\n<td bgcolor=#FFFFFF>1</td>\\n<td bgcolor=#FFFFFF>0</td>\\n<td bgcolor=#f2d9d7>0.817</td>\\n</tr>\\n<tr>\\n<td bgcolor=#FFFFFF>1</td>\\n<td bgcolor=#FFFFFF>0</td>\\n<td bgcolor=#FFFFFF>1</td>\\n<td bgcolor=#FFFFFF>1</td>\\n<td bgcolor=#FFFFFF>0</td>\\n<td bgcolor=#FFFFFF>1</td>\\n<td bgcolor=#FFFFFF>1</td>\\n<td bgcolor=#bedad5>0.183</td>\\n</tr>\\n<tr>\\n<td bgcolor=#FFFFFF>1</td>\\n<td bgcolor=#FFFFFF>0</td>\\n<td bgcolor=#FFFFFF>1</td>\\n<td bgcolor=#FFFFFF>1</td>\\n<td bgcolor=#FFFFFF>1</td>\\n<td bgcolor=#FFFFFF>0</td>\\n<td bgcolor=#FFFFFF>0</td>\\n<td bgcolor=#f1b7b4>0.016</td>\\n</tr>\\n<tr>\\n<td bgcolor=#FFFFFF>1</td>\\n<td bgcolor=#FFFFFF>0</td>\\n<td bgcolor=#FFFFFF>1</td>\\n<td bgcolor=#FFFFFF>1</td>\\n<td bgcolor=#FFFFFF>1</td>\\n<td bgcolor=#FFFFFF>0</td>\\n<td bgcolor=#FFFFFF>1</td>\\n<td bgcolor=#f3eef1>0.984</td>\\n</tr>\\n<tr>\\n<td bgcolor=#FFFFFF>1</td>\\n<td bgcolor=#FFFFFF>0</td>\\n<td bgcolor=#FFFFFF>1</td>\\n<td bgcolor=#FFFFFF>1</td>\\n<td bgcolor=#FFFFFF>1</td>\\n<td bgcolor=#FFFFFF>1</td>\\n<td bgcolor=#FFFFFF>0</td>\\n<td bgcolor=#eee5c2>0.705</td>\\n</tr>\\n<tr>\\n<td bgcolor=#FFFFFF>1</td>\\n<td bgcolor=#FFFFFF>0</td>\\n<td bgcolor=#FFFFFF>1</td>\\n<td bgcolor=#FFFFFF>1</td>\\n<td bgcolor=#FFFFFF>1</td>\\n<td bgcolor=#FFFFFF>1</td>\\n<td bgcolor=#FFFFFF>1</td>\\n<td bgcolor=#d2dfcf>0.295</td>\\n</tr>\\n<tr>\\n<td bgcolor=#FFFFFF>1</td>\\n<td bgcolor=#FFFFFF>1</td>\\n<td bgcolor=#FFFFFF>0</td>\\n<td bgcolor=#FFFFFF>0</td>\\n<td bgcolor=#FFFFFF>0</td>\\n<td bgcolor=#FFFFFF>0</td>\\n<td bgcolor=#FFFFFF>0</td>\\n<td bgcolor=#f6e8ef>0.946</td>\\n</tr>\\n<tr>\\n<td bgcolor=#FFFFFF>1</td>\\n<td bgcolor=#FFFFFF>1</td>\\n<td bgcolor=#FFFFFF>0</td>\\n<td bgcolor=#FFFFFF>0</td>\\n<td bgcolor=#FFFFFF>0</td>\\n<td bgcolor=#FFFFFF>0</td>\\n<td bgcolor=#FFFFFF>1</td>\\n<td bgcolor=#ddbec3>0.054</td>\\n</tr>\\n<tr>\\n<td bgcolor=#FFFFFF>1</td>\\n<td bgcolor=#FFFFFF>1</td>\\n<td bgcolor=#FFFFFF>0</td>\\n<td bgcolor=#FFFFFF>0</td>\\n<td bgcolor=#FFFFFF>0</td>\\n<td bgcolor=#FFFFFF>1</td>\\n<td bgcolor=#FFFFFF>0</td>\\n<td bgcolor=#bbd7d8>0.170</td>\\n</tr>\\n<tr>\\n<td bgcolor=#FFFFFF>1</td>\\n<td bgcolor=#FFFFFF>1</td>\\n<td bgcolor=#FFFFFF>0</td>\\n<td bgcolor=#FFFFFF>0</td>\\n<td bgcolor=#FFFFFF>0</td>\\n<td bgcolor=#FFFFFF>1</td>\\n<td bgcolor=#FFFFFF>1</td>\\n<td bgcolor=#f4d9db>0.830</td>\\n</tr>\\n<tr>\\n<td bgcolor=#FFFFFF>1</td>\\n<td bgcolor=#FFFFFF>1</td>\\n<td bgcolor=#FFFFFF>0</td>\\n<td bgcolor=#FFFFFF>0</td>\\n<td bgcolor=#FFFFFF>1</td>\\n<td bgcolor=#FFFFFF>0</td>\\n<td bgcolor=#FFFFFF>0</td>\\n<td bgcolor=#cce9c6>0.256</td>\\n</tr>\\n<tr>\\n<td bgcolor=#FFFFFF>1</td>\\n<td bgcolor=#FFFFFF>1</td>\\n<td bgcolor=#FFFFFF>0</td>\\n<td bgcolor=#FFFFFF>0</td>\\n<td bgcolor=#FFFFFF>1</td>\\n<td bgcolor=#FFFFFF>0</td>\\n<td bgcolor=#FFFFFF>1</td>\\n<td bgcolor=#e6d9bd>0.744</td>\\n</tr>\\n<tr>\\n<td bgcolor=#FFFFFF>1</td>\\n<td bgcolor=#FFFFFF>1</td>\\n<td bgcolor=#FFFFFF>0</td>\\n<td bgcolor=#FFFFFF>0</td>\\n<td bgcolor=#FFFFFF>1</td>\\n<td bgcolor=#FFFFFF>1</td>\\n<td bgcolor=#FFFFFF>0</td>\\n<td bgcolor=#feecb9>0.566</td>\\n</tr>\\n<tr>\\n<td bgcolor=#FFFFFF>1</td>\\n<td bgcolor=#FFFFFF>1</td>\\n<td bgcolor=#FFFFFF>0</td>\\n<td bgcolor=#FFFFFF>0</td>\\n<td bgcolor=#FFFFFF>1</td>\\n<td bgcolor=#FFFFFF>1</td>\\n<td bgcolor=#FFFFFF>1</td>\\n<td bgcolor=#edd1c6>0.434</td>\\n</tr>\\n<tr>\\n<td bgcolor=#FFFFFF>1</td>\\n<td bgcolor=#FFFFFF>1</td>\\n<td bgcolor=#FFFFFF>0</td>\\n<td bgcolor=#FFFFFF>1</td>\\n<td bgcolor=#FFFFFF>0</td>\\n<td bgcolor=#FFFFFF>0</td>\\n<td bgcolor=#FFFFFF>0</td>\\n<td bgcolor=#d8d4da>0.339</td>\\n</tr>\\n<tr>\\n<td bgcolor=#FFFFFF>1</td>\\n<td bgcolor=#FFFFFF>1</td>\\n<td bgcolor=#FFFFFF>0</td>\\n<td bgcolor=#FFFFFF>1</td>\\n<td bgcolor=#FFFFFF>0</td>\\n<td bgcolor=#FFFFFF>0</td>\\n<td bgcolor=#FFFFFF>1</td>\\n<td bgcolor=#f7f3c7>0.661</td>\\n</tr>\\n<tr>\\n<td bgcolor=#FFFFFF>1</td>\\n<td bgcolor=#FFFFFF>1</td>\\n<td bgcolor=#FFFFFF>0</td>\\n<td bgcolor=#FFFFFF>1</td>\\n<td bgcolor=#FFFFFF>0</td>\\n<td bgcolor=#FFFFFF>1</td>\\n<td bgcolor=#FFFFFF>0</td>\\n<td bgcolor=#efb7b6>0.021</td>\\n</tr>\\n<tr>\\n<td bgcolor=#FFFFFF>1</td>\\n<td bgcolor=#FFFFFF>1</td>\\n<td bgcolor=#FFFFFF>0</td>\\n<td bgcolor=#FFFFFF>1</td>\\n<td bgcolor=#FFFFFF>0</td>\\n<td bgcolor=#FFFFFF>1</td>\\n<td bgcolor=#FFFFFF>1</td>\\n<td bgcolor=#f3eef1>0.979</td>\\n</tr>\\n<tr>\\n<td bgcolor=#FFFFFF>1</td>\\n<td bgcolor=#FFFFFF>1</td>\\n<td bgcolor=#FFFFFF>0</td>\\n<td bgcolor=#FFFFFF>1</td>\\n<td bgcolor=#FFFFFF>1</td>\\n<td bgcolor=#FFFFFF>0</td>\\n<td bgcolor=#FFFFFF>0</td>\\n<td bgcolor=#d5d9d5>0.320</td>\\n</tr>\\n<tr>\\n<td bgcolor=#FFFFFF>1</td>\\n<td bgcolor=#FFFFFF>1</td>\\n<td bgcolor=#FFFFFF>0</td>\\n<td bgcolor=#FFFFFF>1</td>\\n<td bgcolor=#FFFFFF>1</td>\\n<td bgcolor=#FFFFFF>0</td>\\n<td bgcolor=#FFFFFF>1</td>\\n<td bgcolor=#f3edc5>0.680</td>\\n</tr>\\n<tr>\\n<td bgcolor=#FFFFFF>1</td>\\n<td bgcolor=#FFFFFF>1</td>\\n<td bgcolor=#FFFFFF>0</td>\\n<td bgcolor=#FFFFFF>1</td>\\n<td bgcolor=#FFFFFF>1</td>\\n<td bgcolor=#FFFFFF>1</td>\\n<td bgcolor=#FFFFFF>0</td>\\n<td bgcolor=#fedeab>0.518</td>\\n</tr>\\n<tr>\\n<td bgcolor=#FFFFFF>1</td>\\n<td bgcolor=#FFFFFF>1</td>\\n<td bgcolor=#FFFFFF>0</td>\\n<td bgcolor=#FFFFFF>1</td>\\n<td bgcolor=#FFFFFF>1</td>\\n<td bgcolor=#FFFFFF>1</td>\\n<td bgcolor=#FFFFFF>1</td>\\n<td bgcolor=#f9d7ae>0.482</td>\\n</tr>\\n<tr>\\n<td bgcolor=#FFFFFF>1</td>\\n<td bgcolor=#FFFFFF>1</td>\\n<td bgcolor=#FFFFFF>1</td>\\n<td bgcolor=#FFFFFF>0</td>\\n<td bgcolor=#FFFFFF>0</td>\\n<td bgcolor=#FFFFFF>0</td>\\n<td bgcolor=#FFFFFF>0</td>\\n<td bgcolor=#b9d4db>0.160</td>\\n</tr>\\n<tr>\\n<td bgcolor=#FFFFFF>1</td>\\n<td bgcolor=#FFFFFF>1</td>\\n<td bgcolor=#FFFFFF>1</td>\\n<td bgcolor=#FFFFFF>0</td>\\n<td bgcolor=#FFFFFF>0</td>\\n<td bgcolor=#FFFFFF>0</td>\\n<td bgcolor=#FFFFFF>1</td>\\n<td bgcolor=#f6d9e0>0.840</td>\\n</tr>\\n<tr>\\n<td bgcolor=#FFFFFF>1</td>\\n<td bgcolor=#FFFFFF>1</td>\\n<td bgcolor=#FFFFFF>1</td>\\n<td bgcolor=#FFFFFF>0</td>\\n<td bgcolor=#FFFFFF>0</td>\\n<td bgcolor=#FFFFFF>1</td>\\n<td bgcolor=#FFFFFF>0</td>\\n<td bgcolor=#ead8c6>0.776</td>\\n</tr>\\n<tr>\\n<td bgcolor=#FFFFFF>1</td>\\n<td bgcolor=#FFFFFF>1</td>\\n<td bgcolor=#FFFFFF>1</td>\\n<td bgcolor=#FFFFFF>0</td>\\n<td bgcolor=#FFFFFF>0</td>\\n<td bgcolor=#FFFFFF>1</td>\\n<td bgcolor=#FFFFFF>1</td>\\n<td bgcolor=#c6e4cb>0.224</td>\\n</tr>\\n<tr>\\n<td bgcolor=#FFFFFF>1</td>\\n<td bgcolor=#FFFFFF>1</td>\\n<td bgcolor=#FFFFFF>1</td>\\n<td bgcolor=#FFFFFF>0</td>\\n<td bgcolor=#FFFFFF>1</td>\\n<td bgcolor=#FFFFFF>0</td>\\n<td bgcolor=#FFFFFF>0</td>\\n<td bgcolor=#ecd1c8>0.431</td>\\n</tr>\\n<tr>\\n<td bgcolor=#FFFFFF>1</td>\\n<td bgcolor=#FFFFFF>1</td>\\n<td bgcolor=#FFFFFF>1</td>\\n<td bgcolor=#FFFFFF>0</td>\\n<td bgcolor=#FFFFFF>1</td>\\n<td bgcolor=#FFFFFF>0</td>\\n<td bgcolor=#FFFFFF>1</td>\\n<td bgcolor=#feedba>0.569</td>\\n</tr>\\n<tr>\\n<td bgcolor=#FFFFFF>1</td>\\n<td bgcolor=#FFFFFF>1</td>\\n<td bgcolor=#FFFFFF>1</td>\\n<td bgcolor=#FFFFFF>0</td>\\n<td bgcolor=#FFFFFF>1</td>\\n<td bgcolor=#FFFFFF>1</td>\\n<td bgcolor=#FFFFFF>0</td>\\n<td bgcolor=#fef6c3>0.594</td>\\n</tr>\\n<tr>\\n<td bgcolor=#FFFFFF>1</td>\\n<td bgcolor=#FFFFFF>1</td>\\n<td bgcolor=#FFFFFF>1</td>\\n<td bgcolor=#FFFFFF>0</td>\\n<td bgcolor=#FFFFFF>1</td>\\n<td bgcolor=#FFFFFF>1</td>\\n<td bgcolor=#FFFFFF>1</td>\\n<td bgcolor=#e5ced5>0.406</td>\\n</tr>\\n<tr>\\n<td bgcolor=#FFFFFF>1</td>\\n<td bgcolor=#FFFFFF>1</td>\\n<td bgcolor=#FFFFFF>1</td>\\n<td bgcolor=#FFFFFF>1</td>\\n<td bgcolor=#FFFFFF>0</td>\\n<td bgcolor=#FFFFFF>0</td>\\n<td bgcolor=#FFFFFF>0</td>\\n<td bgcolor=#dbbec5>0.058</td>\\n</tr>\\n<tr>\\n<td bgcolor=#FFFFFF>1</td>\\n<td bgcolor=#FFFFFF>1</td>\\n<td bgcolor=#FFFFFF>1</td>\\n<td bgcolor=#FFFFFF>1</td>\\n<td bgcolor=#FFFFFF>0</td>\\n<td bgcolor=#FFFFFF>0</td>\\n<td bgcolor=#FFFFFF>1</td>\\n<td bgcolor=#f6e7ef>0.942</td>\\n</tr>\\n<tr>\\n<td bgcolor=#FFFFFF>1</td>\\n<td bgcolor=#FFFFFF>1</td>\\n<td bgcolor=#FFFFFF>1</td>\\n<td bgcolor=#FFFFFF>1</td>\\n<td bgcolor=#FFFFFF>0</td>\\n<td bgcolor=#FFFFFF>1</td>\\n<td bgcolor=#FFFFFF>0</td>\\n<td bgcolor=#ece3c1>0.711</td>\\n</tr>\\n<tr>\\n<td bgcolor=#FFFFFF>1</td>\\n<td bgcolor=#FFFFFF>1</td>\\n<td bgcolor=#FFFFFF>1</td>\\n<td bgcolor=#FFFFFF>1</td>\\n<td bgcolor=#FFFFFF>0</td>\\n<td bgcolor=#FFFFFF>1</td>\\n<td bgcolor=#FFFFFF>1</td>\\n<td bgcolor=#d1e1cd>0.289</td>\\n</tr>\\n<tr>\\n<td bgcolor=#FFFFFF>1</td>\\n<td bgcolor=#FFFFFF>1</td>\\n<td bgcolor=#FFFFFF>1</td>\\n<td bgcolor=#FFFFFF>1</td>\\n<td bgcolor=#FFFFFF>1</td>\\n<td bgcolor=#FFFFFF>0</td>\\n<td bgcolor=#FFFFFF>0</td>\\n<td bgcolor=#f2f2f2>0.998</td>\\n</tr>\\n<tr>\\n<td bgcolor=#FFFFFF>1</td>\\n<td bgcolor=#FFFFFF>1</td>\\n<td bgcolor=#FFFFFF>1</td>\\n<td bgcolor=#FFFFFF>1</td>\\n<td bgcolor=#FFFFFF>1</td>\\n<td bgcolor=#FFFFFF>0</td>\\n<td bgcolor=#FFFFFF>1</td>\\n<td bgcolor=#fbb4ae>0.002</td>\\n</tr>\\n<tr>\\n<td bgcolor=#FFFFFF>1</td>\\n<td bgcolor=#FFFFFF>1</td>\\n<td bgcolor=#FFFFFF>1</td>\\n<td bgcolor=#FFFFFF>1</td>\\n<td bgcolor=#FFFFFF>1</td>\\n<td bgcolor=#FFFFFF>1</td>\\n<td bgcolor=#FFFFFF>0</td>\\n<td bgcolor=#f4d4b8>0.463</td>\\n</tr>\\n<tr>\\n<td bgcolor=#FFFFFF>1</td>\\n<td bgcolor=#FFFFFF>1</td>\\n<td bgcolor=#FFFFFF>1</td>\\n<td bgcolor=#FFFFFF>1</td>\\n<td bgcolor=#FFFFFF>1</td>\\n<td bgcolor=#FFFFFF>1</td>\\n<td bgcolor=#FFFFFF>1</td>\\n<td bgcolor=#fee4b1>0.537</td>\\n</tr>\\n</table>\", \"<table border=\\\"1\\\" cellpadding=\\\"4\\\" cellspacing=\\\"0\\\" bordercolor=\\\"#000000\\\">\\n<tr bgcolor=\\\"#AAAAAA\\\">\\n<th align=\\\"center\\\">0</th>\\n<th align=\\\"center\\\">3</th>\\n<th align=\\\"center\\\">5</th>\\n<th align=\\\"center\\\">6</th>\\n<th align=\\\"center\\\">8</th>\\n<th align=\\\"center\\\">9</th>\\n<th align=\\\"center\\\">Prob.</th>\\n</tr>\\n<tr>\\n<td bgcolor=#FFFFFF>0</td>\\n<td bgcolor=#FFFFFF>0</td>\\n<td bgcolor=#FFFFFF>0</td>\\n<td bgcolor=#FFFFFF>0</td>\\n<td bgcolor=#FFFFFF>0</td>\\n<td bgcolor=#FFFFFF>0</td>\\n<td bgcolor=#fef5c2>0.590</td>\\n</tr>\\n<tr>\\n<td bgcolor=#FFFFFF>0</td>\\n<td bgcolor=#FFFFFF>0</td>\\n<td bgcolor=#FFFFFF>0</td>\\n<td bgcolor=#FFFFFF>0</td>\\n<td bgcolor=#FFFFFF>0</td>\\n<td bgcolor=#FFFFFF>1</td>\\n<td bgcolor=#e6ced3>0.410</td>\\n</tr>\\n<tr>\\n<td bgcolor=#FFFFFF>0</td>\\n<td bgcolor=#FFFFFF>0</td>\\n<td bgcolor=#FFFFFF>0</td>\\n<td bgcolor=#FFFFFF>0</td>\\n<td bgcolor=#FFFFFF>1</td>\\n<td bgcolor=#FFFFFF>0</td>\\n<td bgcolor=#ecd8cb>0.787</td>\\n</tr>\\n<tr>\\n<td bgcolor=#FFFFFF>0</td>\\n<td bgcolor=#FFFFFF>0</td>\\n<td bgcolor=#FFFFFF>0</td>\\n<td bgcolor=#FFFFFF>0</td>\\n<td bgcolor=#FFFFFF>1</td>\\n<td bgcolor=#FFFFFF>1</td>\\n<td bgcolor=#c4e1ce>0.213</td>\\n</tr>\\n<tr>\\n<td bgcolor=#FFFFFF>0</td>\\n<td bgcolor=#FFFFFF>0</td>\\n<td bgcolor=#FFFFFF>0</td>\\n<td bgcolor=#FFFFFF>1</td>\\n<td bgcolor=#FFFFFF>0</td>\\n<td bgcolor=#FFFFFF>0</td>\\n<td bgcolor=#c8e6c9>0.231</td>\\n</tr>\\n<tr>\\n<td bgcolor=#FFFFFF>0</td>\\n<td bgcolor=#FFFFFF>0</td>\\n<td bgcolor=#FFFFFF>0</td>\\n<td bgcolor=#FFFFFF>1</td>\\n<td bgcolor=#FFFFFF>0</td>\\n<td bgcolor=#FFFFFF>1</td>\\n<td bgcolor=#e8d8c4>0.769</td>\\n</tr>\\n<tr>\\n<td bgcolor=#FFFFFF>0</td>\\n<td bgcolor=#FFFFFF>0</td>\\n<td bgcolor=#FFFFFF>0</td>\\n<td bgcolor=#FFFFFF>1</td>\\n<td bgcolor=#FFFFFF>1</td>\\n<td bgcolor=#FFFFFF>0</td>\\n<td bgcolor=#f8f5c8>0.656</td>\\n</tr>\\n<tr>\\n<td bgcolor=#FFFFFF>0</td>\\n<td bgcolor=#FFFFFF>0</td>\\n<td bgcolor=#FFFFFF>0</td>\\n<td bgcolor=#FFFFFF>1</td>\\n<td bgcolor=#FFFFFF>1</td>\\n<td bgcolor=#FFFFFF>1</td>\\n<td bgcolor=#d9d2dc>0.344</td>\\n</tr>\\n<tr>\\n<td bgcolor=#FFFFFF>0</td>\\n<td bgcolor=#FFFFFF>0</td>\\n<td bgcolor=#FFFFFF>1</td>\\n<td bgcolor=#FFFFFF>0</td>\\n<td bgcolor=#FFFFFF>0</td>\\n<td bgcolor=#FFFFFF>0</td>\\n<td bgcolor=#dccde1>0.364</td>\\n</tr>\\n<tr>\\n<td bgcolor=#FFFFFF>0</td>\\n<td bgcolor=#FFFFFF>0</td>\\n<td bgcolor=#FFFFFF>1</td>\\n<td bgcolor=#FFFFFF>0</td>\\n<td bgcolor=#FFFFFF>0</td>\\n<td bgcolor=#FFFFFF>1</td>\\n<td bgcolor=#fcfbca>0.636</td>\\n</tr>\\n<tr>\\n<td bgcolor=#FFFFFF>0</td>\\n<td bgcolor=#FFFFFF>0</td>\\n<td bgcolor=#FFFFFF>1</td>\\n<td bgcolor=#FFFFFF>0</td>\\n<td bgcolor=#FFFFFF>1</td>\\n<td bgcolor=#FFFFFF>0</td>\\n<td bgcolor=#fadfed>0.903</td>\\n</tr>\\n<tr>\\n<td bgcolor=#FFFFFF>0</td>\\n<td bgcolor=#FFFFFF>0</td>\\n<td bgcolor=#FFFFFF>1</td>\\n<td bgcolor=#FFFFFF>0</td>\\n<td bgcolor=#FFFFFF>1</td>\\n<td bgcolor=#FFFFFF>1</td>\\n<td bgcolor=#c4c6d5>0.097</td>\\n</tr>\\n<tr>\\n<td bgcolor=#FFFFFF>0</td>\\n<td bgcolor=#FFFFFF>0</td>\\n<td bgcolor=#FFFFFF>1</td>\\n<td bgcolor=#FFFFFF>1</td>\\n<td bgcolor=#FFFFFF>0</td>\\n<td bgcolor=#FFFFFF>0</td>\\n<td bgcolor=#f9e1ed>0.912</td>\\n</tr>\\n<tr>\\n<td bgcolor=#FFFFFF>0</td>\\n<td bgcolor=#FFFFFF>0</td>\\n<td bgcolor=#FFFFFF>1</td>\\n<td bgcolor=#FFFFFF>1</td>\\n<td bgcolor=#FFFFFF>0</td>\\n<td bgcolor=#FFFFFF>1</td>\\n<td bgcolor=#c9c5d2>0.088</td>\\n</tr>\\n<tr>\\n<td bgcolor=#FFFFFF>0</td>\\n<td bgcolor=#FFFFFF>0</td>\\n<td bgcolor=#FFFFFF>1</td>\\n<td bgcolor=#FFFFFF>1</td>\\n<td bgcolor=#FFFFFF>1</td>\\n<td bgcolor=#FFFFFF>0</td>\\n<td bgcolor=#fbf9c9>0.642</td>\\n</tr>\\n<tr>\\n<td bgcolor=#FFFFFF>0</td>\\n<td bgcolor=#FFFFFF>0</td>\\n<td bgcolor=#FFFFFF>1</td>\\n<td bgcolor=#FFFFFF>1</td>\\n<td bgcolor=#FFFFFF>1</td>\\n<td bgcolor=#FFFFFF>1</td>\\n<td bgcolor=#dbcfdf>0.358</td>\\n</tr>\\n<tr>\\n<td bgcolor=#FFFFFF>0</td>\\n<td bgcolor=#FFFFFF>1</td>\\n<td bgcolor=#FFFFFF>0</td>\\n<td bgcolor=#FFFFFF>0</td>\\n<td bgcolor=#FFFFFF>0</td>\\n<td bgcolor=#FFFFFF>0</td>\\n<td bgcolor=#fed9a6>0.503</td>\\n</tr>\\n<tr>\\n<td bgcolor=#FFFFFF>0</td>\\n<td bgcolor=#FFFFFF>1</td>\\n<td bgcolor=#FFFFFF>0</td>\\n<td bgcolor=#FFFFFF>0</td>\\n<td bgcolor=#FFFFFF>0</td>\\n<td bgcolor=#FFFFFF>1</td>\\n<td bgcolor=#fdd8a6>0.497</td>\\n</tr>\\n<tr>\\n<td bgcolor=#FFFFFF>0</td>\\n<td bgcolor=#FFFFFF>1</td>\\n<td bgcolor=#FFFFFF>0</td>\\n<td bgcolor=#FFFFFF>0</td>\\n<td bgcolor=#FFFFFF>1</td>\\n<td bgcolor=#FFFFFF>0</td>\\n<td bgcolor=#f4efc6>0.674</td>\\n</tr>\\n<tr>\\n<td bgcolor=#FFFFFF>0</td>\\n<td bgcolor=#FFFFFF>1</td>\\n<td bgcolor=#FFFFFF>0</td>\\n<td bgcolor=#FFFFFF>0</td>\\n<td bgcolor=#FFFFFF>1</td>\\n<td bgcolor=#FFFFFF>1</td>\\n<td bgcolor=#d6d7d7>0.326</td>\\n</tr>\\n<tr>\\n<td bgcolor=#FFFFFF>0</td>\\n<td bgcolor=#FFFFFF>1</td>\\n<td bgcolor=#FFFFFF>0</td>\\n<td bgcolor=#FFFFFF>1</td>\\n<td bgcolor=#FFFFFF>0</td>\\n<td bgcolor=#FFFFFF>0</td>\\n<td bgcolor=#e1ccdd>0.388</td>\\n</tr>\\n<tr>\\n<td bgcolor=#FFFFFF>0</td>\\n<td bgcolor=#FFFFFF>1</td>\\n<td bgcolor=#FFFFFF>0</td>\\n<td bgcolor=#FFFFFF>1</td>\\n<td bgcolor=#FFFFFF>0</td>\\n<td bgcolor=#FFFFFF>1</td>\\n<td bgcolor=#fefac7>0.612</td>\\n</tr>\\n<tr>\\n<td bgcolor=#FFFFFF>0</td>\\n<td bgcolor=#FFFFFF>1</td>\\n<td bgcolor=#FFFFFF>0</td>\\n<td bgcolor=#FFFFFF>1</td>\\n<td bgcolor=#FFFFFF>1</td>\\n<td bgcolor=#FFFFFF>0</td>\\n<td bgcolor=#e9d8c5>0.771</td>\\n</tr>\\n<tr>\\n<td bgcolor=#FFFFFF>0</td>\\n<td bgcolor=#FFFFFF>1</td>\\n<td bgcolor=#FFFFFF>0</td>\\n<td bgcolor=#FFFFFF>1</td>\\n<td bgcolor=#FFFFFF>1</td>\\n<td bgcolor=#FFFFFF>1</td>\\n<td bgcolor=#c7e5ca>0.229</td>\\n</tr>\\n<tr>\\n<td bgcolor=#FFFFFF>0</td>\\n<td bgcolor=#FFFFFF>1</td>\\n<td bgcolor=#FFFFFF>1</td>\\n<td bgcolor=#FFFFFF>0</td>\\n<td bgcolor=#FFFFFF>0</td>\\n<td bgcolor=#FFFFFF>0</td>\\n<td bgcolor=#d0e2cd>0.285</td>\\n</tr>\\n<tr>\\n<td bgcolor=#FFFFFF>0</td>\\n<td bgcolor=#FFFFFF>1</td>\\n<td bgcolor=#FFFFFF>1</td>\\n<td bgcolor=#FFFFFF>0</td>\\n<td bgcolor=#FFFFFF>0</td>\\n<td bgcolor=#FFFFFF>1</td>\\n<td bgcolor=#ebe2c0>0.715</td>\\n</tr>\\n<tr>\\n<td bgcolor=#FFFFFF>0</td>\\n<td bgcolor=#FFFFFF>1</td>\\n<td bgcolor=#FFFFFF>1</td>\\n<td bgcolor=#FFFFFF>0</td>\\n<td bgcolor=#FFFFFF>1</td>\\n<td bgcolor=#FFFFFF>0</td>\\n<td bgcolor=#d6d7d7>0.325</td>\\n</tr>\\n<tr>\\n<td bgcolor=#FFFFFF>0</td>\\n<td bgcolor=#FFFFFF>1</td>\\n<td bgcolor=#FFFFFF>1</td>\\n<td bgcolor=#FFFFFF>0</td>\\n<td bgcolor=#FFFFFF>1</td>\\n<td bgcolor=#FFFFFF>1</td>\\n<td bgcolor=#f4efc6>0.675</td>\\n</tr>\\n<tr>\\n<td bgcolor=#FFFFFF>0</td>\\n<td bgcolor=#FFFFFF>1</td>\\n<td bgcolor=#FFFFFF>1</td>\\n<td bgcolor=#FFFFFF>1</td>\\n<td bgcolor=#FFFFFF>0</td>\\n<td bgcolor=#FFFFFF>0</td>\\n<td bgcolor=#f7f3c7>0.661</td>\\n</tr>\\n<tr>\\n<td bgcolor=#FFFFFF>0</td>\\n<td bgcolor=#FFFFFF>1</td>\\n<td bgcolor=#FFFFFF>1</td>\\n<td bgcolor=#FFFFFF>1</td>\\n<td bgcolor=#FFFFFF>0</td>\\n<td bgcolor=#FFFFFF>1</td>\\n<td bgcolor=#d8d4da>0.339</td>\\n</tr>\\n<tr>\\n<td bgcolor=#FFFFFF>0</td>\\n<td bgcolor=#FFFFFF>1</td>\\n<td bgcolor=#FFFFFF>1</td>\\n<td bgcolor=#FFFFFF>1</td>\\n<td bgcolor=#FFFFFF>1</td>\\n<td bgcolor=#FFFFFF>0</td>\\n<td bgcolor=#d4dbd3>0.309</td>\\n</tr>\\n<tr>\\n<td bgcolor=#FFFFFF>0</td>\\n<td bgcolor=#FFFFFF>1</td>\\n<td bgcolor=#FFFFFF>1</td>\\n<td bgcolor=#FFFFFF>1</td>\\n<td bgcolor=#FFFFFF>1</td>\\n<td bgcolor=#FFFFFF>1</td>\\n<td bgcolor=#f1eac4>0.691</td>\\n</tr>\\n<tr>\\n<td bgcolor=#FFFFFF>1</td>\\n<td bgcolor=#FFFFFF>0</td>\\n<td bgcolor=#FFFFFF>0</td>\\n<td bgcolor=#FFFFFF>0</td>\\n<td bgcolor=#FFFFFF>0</td>\\n<td bgcolor=#FFFFFF>0</td>\\n<td bgcolor=#e5d8bd>0.747</td>\\n</tr>\\n<tr>\\n<td bgcolor=#FFFFFF>1</td>\\n<td bgcolor=#FFFFFF>0</td>\\n<td bgcolor=#FFFFFF>0</td>\\n<td bgcolor=#FFFFFF>0</td>\\n<td bgcolor=#FFFFFF>0</td>\\n<td bgcolor=#FFFFFF>1</td>\\n<td bgcolor=#cceac5>0.253</td>\\n</tr>\\n<tr>\\n<td bgcolor=#FFFFFF>1</td>\\n<td bgcolor=#FFFFFF>0</td>\\n<td bgcolor=#FFFFFF>0</td>\\n<td bgcolor=#FFFFFF>0</td>\\n<td bgcolor=#FFFFFF>1</td>\\n<td bgcolor=#FFFFFF>0</td>\\n<td bgcolor=#feefbc>0.571</td>\\n</tr>\\n<tr>\\n<td bgcolor=#FFFFFF>1</td>\\n<td bgcolor=#FFFFFF>0</td>\\n<td bgcolor=#FFFFFF>0</td>\\n<td bgcolor=#FFFFFF>0</td>\\n<td bgcolor=#FFFFFF>1</td>\\n<td bgcolor=#FFFFFF>1</td>\\n<td bgcolor=#ebd0c9>0.429</td>\\n</tr>\\n<tr>\\n<td bgcolor=#FFFFFF>1</td>\\n<td bgcolor=#FFFFFF>0</td>\\n<td bgcolor=#FFFFFF>0</td>\\n<td bgcolor=#FFFFFF>1</td>\\n<td bgcolor=#FFFFFF>0</td>\\n<td bgcolor=#FFFFFF>0</td>\\n<td bgcolor=#d1e1cd>0.287</td>\\n</tr>\\n<tr>\\n<td bgcolor=#FFFFFF>1</td>\\n<td bgcolor=#FFFFFF>0</td>\\n<td bgcolor=#FFFFFF>0</td>\\n<td bgcolor=#FFFFFF>1</td>\\n<td bgcolor=#FFFFFF>0</td>\\n<td bgcolor=#FFFFFF>1</td>\\n<td bgcolor=#ece3c1>0.713</td>\\n</tr>\\n<tr>\\n<td bgcolor=#FFFFFF>1</td>\\n<td bgcolor=#FFFFFF>0</td>\\n<td bgcolor=#FFFFFF>0</td>\\n<td bgcolor=#FFFFFF>1</td>\\n<td bgcolor=#FFFFFF>1</td>\\n<td bgcolor=#FFFFFF>0</td>\\n<td bgcolor=#d7d6d8>0.329</td>\\n</tr>\\n<tr>\\n<td bgcolor=#FFFFFF>1</td>\\n<td bgcolor=#FFFFFF>0</td>\\n<td bgcolor=#FFFFFF>0</td>\\n<td bgcolor=#FFFFFF>1</td>\\n<td bgcolor=#FFFFFF>1</td>\\n<td bgcolor=#FFFFFF>1</td>\\n<td bgcolor=#f5f0c6>0.671</td>\\n</tr>\\n<tr>\\n<td bgcolor=#FFFFFF>1</td>\\n<td bgcolor=#FFFFFF>0</td>\\n<td bgcolor=#FFFFFF>1</td>\\n<td bgcolor=#FFFFFF>0</td>\\n<td bgcolor=#FFFFFF>0</td>\\n<td bgcolor=#FFFFFF>0</td>\\n<td bgcolor=#fee4b1>0.536</td>\\n</tr>\\n<tr>\\n<td bgcolor=#FFFFFF>1</td>\\n<td bgcolor=#FFFFFF>0</td>\\n<td bgcolor=#FFFFFF>1</td>\\n<td bgcolor=#FFFFFF>0</td>\\n<td bgcolor=#FFFFFF>0</td>\\n<td bgcolor=#FFFFFF>1</td>\\n<td bgcolor=#f4d4b8>0.464</td>\\n</tr>\\n<tr>\\n<td bgcolor=#FFFFFF>1</td>\\n<td bgcolor=#FFFFFF>0</td>\\n<td bgcolor=#FFFFFF>1</td>\\n<td bgcolor=#FFFFFF>0</td>\\n<td bgcolor=#FFFFFF>1</td>\\n<td bgcolor=#FFFFFF>0</td>\\n<td bgcolor=#f5e9ef>0.957</td>\\n</tr>\\n<tr>\\n<td bgcolor=#FFFFFF>1</td>\\n<td bgcolor=#FFFFFF>0</td>\\n<td bgcolor=#FFFFFF>1</td>\\n<td bgcolor=#FFFFFF>0</td>\\n<td bgcolor=#FFFFFF>1</td>\\n<td bgcolor=#FFFFFF>1</td>\\n<td bgcolor=#e2bcc0>0.043</td>\\n</tr>\\n<tr>\\n<td bgcolor=#FFFFFF>1</td>\\n<td bgcolor=#FFFFFF>0</td>\\n<td bgcolor=#FFFFFF>1</td>\\n<td bgcolor=#FFFFFF>1</td>\\n<td bgcolor=#FFFFFF>0</td>\\n<td bgcolor=#FFFFFF>0</td>\\n<td bgcolor=#b8d3dc>0.154</td>\\n</tr>\\n<tr>\\n<td bgcolor=#FFFFFF>1</td>\\n<td bgcolor=#FFFFFF>0</td>\\n<td bgcolor=#FFFFFF>1</td>\\n<td bgcolor=#FFFFFF>1</td>\\n<td bgcolor=#FFFFFF>0</td>\\n<td bgcolor=#FFFFFF>1</td>\\n<td bgcolor=#f7d9e1>0.846</td>\\n</tr>\\n<tr>\\n<td bgcolor=#FFFFFF>1</td>\\n<td bgcolor=#FFFFFF>0</td>\\n<td bgcolor=#FFFFFF>1</td>\\n<td bgcolor=#FFFFFF>1</td>\\n<td bgcolor=#FFFFFF>1</td>\\n<td bgcolor=#FFFFFF>0</td>\\n<td bgcolor=#fee5b2>0.541</td>\\n</tr>\\n<tr>\\n<td bgcolor=#FFFFFF>1</td>\\n<td bgcolor=#FFFFFF>0</td>\\n<td bgcolor=#FFFFFF>1</td>\\n<td bgcolor=#FFFFFF>1</td>\\n<td bgcolor=#FFFFFF>1</td>\\n<td bgcolor=#FFFFFF>1</td>\\n<td bgcolor=#f3d4ba>0.459</td>\\n</tr>\\n<tr>\\n<td bgcolor=#FFFFFF>1</td>\\n<td bgcolor=#FFFFFF>1</td>\\n<td bgcolor=#FFFFFF>0</td>\\n<td bgcolor=#FFFFFF>0</td>\\n<td bgcolor=#FFFFFF>0</td>\\n<td bgcolor=#FFFFFF>0</td>\\n<td bgcolor=#fad9e7>0.860</td>\\n</tr>\\n<tr>\\n<td bgcolor=#FFFFFF>1</td>\\n<td bgcolor=#FFFFFF>1</td>\\n<td bgcolor=#FFFFFF>0</td>\\n<td bgcolor=#FFFFFF>0</td>\\n<td bgcolor=#FFFFFF>0</td>\\n<td bgcolor=#FFFFFF>1</td>\\n<td bgcolor=#b5cfe0>0.140</td>\\n</tr>\\n<tr>\\n<td bgcolor=#FFFFFF>1</td>\\n<td bgcolor=#FFFFFF>1</td>\\n<td bgcolor=#FFFFFF>0</td>\\n<td bgcolor=#FFFFFF>0</td>\\n<td bgcolor=#FFFFFF>1</td>\\n<td bgcolor=#FFFFFF>0</td>\\n<td bgcolor=#f9f6c8>0.652</td>\\n</tr>\\n<tr>\\n<td bgcolor=#FFFFFF>1</td>\\n<td bgcolor=#FFFFFF>1</td>\\n<td bgcolor=#FFFFFF>0</td>\\n<td bgcolor=#FFFFFF>0</td>\\n<td bgcolor=#FFFFFF>1</td>\\n<td bgcolor=#FFFFFF>1</td>\\n<td bgcolor=#dad1dd>0.348</td>\\n</tr>\\n<tr>\\n<td bgcolor=#FFFFFF>1</td>\\n<td bgcolor=#FFFFFF>1</td>\\n<td bgcolor=#FFFFFF>0</td>\\n<td bgcolor=#FFFFFF>1</td>\\n<td bgcolor=#FFFFFF>0</td>\\n<td bgcolor=#FFFFFF>0</td>\\n<td bgcolor=#d0c2cd>0.078</td>\\n</tr>\\n<tr>\\n<td bgcolor=#FFFFFF>1</td>\\n<td bgcolor=#FFFFFF>1</td>\\n<td bgcolor=#FFFFFF>0</td>\\n<td bgcolor=#FFFFFF>1</td>\\n<td bgcolor=#FFFFFF>0</td>\\n<td bgcolor=#FFFFFF>1</td>\\n<td bgcolor=#f8e3ee>0.922</td>\\n</tr>\\n<tr>\\n<td bgcolor=#FFFFFF>1</td>\\n<td bgcolor=#FFFFFF>1</td>\\n<td bgcolor=#FFFFFF>0</td>\\n<td bgcolor=#FFFFFF>1</td>\\n<td bgcolor=#FFFFFF>1</td>\\n<td bgcolor=#FFFFFF>0</td>\\n<td bgcolor=#feedba>0.567</td>\\n</tr>\\n<tr>\\n<td bgcolor=#FFFFFF>1</td>\\n<td bgcolor=#FFFFFF>1</td>\\n<td bgcolor=#FFFFFF>0</td>\\n<td bgcolor=#FFFFFF>1</td>\\n<td bgcolor=#FFFFFF>1</td>\\n<td bgcolor=#FFFFFF>1</td>\\n<td bgcolor=#ecd1c8>0.433</td>\\n</tr>\\n<tr>\\n<td bgcolor=#FFFFFF>1</td>\\n<td bgcolor=#FFFFFF>1</td>\\n<td bgcolor=#FFFFFF>1</td>\\n<td bgcolor=#FFFFFF>0</td>\\n<td bgcolor=#FFFFFF>0</td>\\n<td bgcolor=#FFFFFF>0</td>\\n<td bgcolor=#f4edf0>0.975</td>\\n</tr>\\n<tr>\\n<td bgcolor=#FFFFFF>1</td>\\n<td bgcolor=#FFFFFF>1</td>\\n<td bgcolor=#FFFFFF>1</td>\\n<td bgcolor=#FFFFFF>0</td>\\n<td bgcolor=#FFFFFF>0</td>\\n<td bgcolor=#FFFFFF>1</td>\\n<td bgcolor=#edb8b7>0.025</td>\\n</tr>\\n<tr>\\n<td bgcolor=#FFFFFF>1</td>\\n<td bgcolor=#FFFFFF>1</td>\\n<td bgcolor=#FFFFFF>1</td>\\n<td bgcolor=#FFFFFF>0</td>\\n<td bgcolor=#FFFFFF>1</td>\\n<td bgcolor=#FFFFFF>0</td>\\n<td bgcolor=#f4d4b8>0.462</td>\\n</tr>\\n<tr>\\n<td bgcolor=#FFFFFF>1</td>\\n<td bgcolor=#FFFFFF>1</td>\\n<td bgcolor=#FFFFFF>1</td>\\n<td bgcolor=#FFFFFF>0</td>\\n<td bgcolor=#FFFFFF>1</td>\\n<td bgcolor=#FFFFFF>1</td>\\n<td bgcolor=#fee4b1>0.538</td>\\n</tr>\\n<tr>\\n<td bgcolor=#FFFFFF>1</td>\\n<td bgcolor=#FFFFFF>1</td>\\n<td bgcolor=#FFFFFF>1</td>\\n<td bgcolor=#FFFFFF>1</td>\\n<td bgcolor=#FFFFFF>0</td>\\n<td bgcolor=#FFFFFF>0</td>\\n<td bgcolor=#f4efc6>0.672</td>\\n</tr>\\n<tr>\\n<td bgcolor=#FFFFFF>1</td>\\n<td bgcolor=#FFFFFF>1</td>\\n<td bgcolor=#FFFFFF>1</td>\\n<td bgcolor=#FFFFFF>1</td>\\n<td bgcolor=#FFFFFF>0</td>\\n<td bgcolor=#FFFFFF>1</td>\\n<td bgcolor=#d6d7d7>0.328</td>\\n</tr>\\n<tr>\\n<td bgcolor=#FFFFFF>1</td>\\n<td bgcolor=#FFFFFF>1</td>\\n<td bgcolor=#FFFFFF>1</td>\\n<td bgcolor=#FFFFFF>1</td>\\n<td bgcolor=#FFFFFF>1</td>\\n<td bgcolor=#FFFFFF>0</td>\\n<td bgcolor=#b4cfe1>0.133</td>\\n</tr>\\n<tr>\\n<td bgcolor=#FFFFFF>1</td>\\n<td bgcolor=#FFFFFF>1</td>\\n<td bgcolor=#FFFFFF>1</td>\\n<td bgcolor=#FFFFFF>1</td>\\n<td bgcolor=#FFFFFF>1</td>\\n<td bgcolor=#FFFFFF>1</td>\\n<td bgcolor=#fbd9e8>0.867</td>\\n</tr>\\n</table>\"], \"type\": \"htmltooltip\", \"voffset\": 10, \"id\": \"el11945140492416641680pts\", \"hoffset\": 10}], \"axes\": [{\"bbox\": [0.125, 0.125, 0.775, 0.775], \"sharey\": [], \"zoomable\": true, \"collections\": [], \"markers\": [{\"coordinates\": \"data\", \"edgecolor\": \"#000000\", \"yindex\": 1, \"xindex\": 0, \"alpha\": 1.0, \"zorder\": 2, \"markerpath\": [[[0.0, 10.0], [2.652031, 10.0], [5.195798707848534, 8.946336915882418], [7.0710678118654755, 7.0710678118654755], [8.946336915882418, 5.195798707848534], [10.0, 2.652031], [10.0, 0.0], [10.0, -2.652031], [8.946336915882418, -5.195798707848534], [7.0710678118654755, -7.0710678118654755], [5.195798707848534, -8.946336915882418], [2.652031, -10.0], [0.0, -10.0], [-2.652031, -10.0], [-5.195798707848534, -8.946336915882418], [-7.0710678118654755, -7.0710678118654755], [-8.946336915882418, -5.195798707848534], [-10.0, -2.652031], [-10.0, 0.0], [-10.0, 2.652031], [-8.946336915882418, 5.195798707848534], [-7.0710678118654755, 7.0710678118654755], [-5.195798707848534, 8.946336915882418], [-2.652031, 10.0], [0.0, 10.0]], [\"M\", \"C\", \"C\", \"C\", \"C\", \"C\", \"C\", \"C\", \"C\", \"Z\"]], \"id\": \"el11945140492418731424pts\", \"edgewidth\": 1, \"facecolor\": \"#D3D3D3\", \"data\": \"data61\"}, {\"coordinates\": \"data\", \"edgecolor\": \"#000000\", \"yindex\": 1, \"xindex\": 0, \"alpha\": 0.0, \"zorder\": 2, \"markerpath\": [[[0.0, 20.0], [5.304062, 20.0], [10.391597415697069, 17.892673831764835], [14.142135623730951, 14.142135623730951], [17.892673831764835, 10.391597415697069], [20.0, 5.304062], [20.0, 0.0], [20.0, -5.304062], [17.892673831764835, -10.391597415697069], [14.142135623730951, -14.142135623730951], [10.391597415697069, -17.892673831764835], [5.304062, -20.0], [0.0, -20.0], [-5.304062, -20.0], [-10.391597415697069, -17.892673831764835], [-14.142135623730951, -14.142135623730951], [-17.892673831764835, -10.391597415697069], [-20.0, -5.304062], [-20.0, 0.0], [-20.0, 5.304062], [-17.892673831764835, 10.391597415697069], [-14.142135623730951, 14.142135623730951], [-10.391597415697069, 17.892673831764835], [-5.304062, 20.0], [0.0, 20.0]], [\"M\", \"C\", \"C\", \"C\", \"C\", \"C\", \"C\", \"C\", \"C\", \"Z\"]], \"id\": \"el11945140492416641680pts\", \"edgewidth\": 1, \"facecolor\": \"#D3D3D3\", \"data\": \"data61\"}], \"paths\": [], \"xlim\": [-0.800500842973138, 0.8402531187701787], \"texts\": [{\"id\": \"el11945140492416663624\", \"zorder\": 3, \"h_anchor\": \"middle\", \"color\": \"#000000\", \"fontsize\": 10.0, \"coordinates\": \"data\", \"text\": \"0\", \"rotation\": -0.0, \"position\": [0.2883394275517535, 1.0], \"v_baseline\": \"central\", \"alpha\": 1}, {\"id\": \"el11945140492416664912\", \"zorder\": 3, \"h_anchor\": \"middle\", \"color\": \"#000000\", \"fontsize\": 10.0, \"coordinates\": \"data\", \"text\": \"1\", \"rotation\": -0.0, \"position\": [-0.720500842973138, 0.6248291301747088], \"v_baseline\": \"central\", \"alpha\": 1}, {\"id\": \"el11945140492416666256\", \"zorder\": 3, \"h_anchor\": \"middle\", \"color\": \"#000000\", \"fontsize\": 10.0, \"coordinates\": \"data\", \"text\": \"2\", \"rotation\": -0.0, \"position\": [-0.6559186065617822, 0.10388020621154978], \"v_baseline\": \"central\", \"alpha\": 1}, {\"id\": \"el11945140492416667600\", \"zorder\": 3, \"h_anchor\": \"middle\", \"color\": \"#000000\", \"fontsize\": 10.0, \"coordinates\": \"data\", \"text\": \"3\", \"rotation\": -0.0, \"position\": [-0.6029153041384868, -0.8817513739394521], \"v_baseline\": \"central\", \"alpha\": 1}, {\"id\": \"el11945140492416689488\", \"zorder\": 3, \"h_anchor\": \"middle\", \"color\": \"#000000\", \"fontsize\": 10.0, \"coordinates\": \"data\", \"text\": \"4\", \"rotation\": -0.0, \"position\": [-0.18959448814771304, 0.11727534363577667], \"v_baseline\": \"central\", \"alpha\": 1}, {\"id\": \"el11945140492416690832\", \"zorder\": 3, \"h_anchor\": \"middle\", \"color\": \"#000000\", \"fontsize\": 10.0, \"coordinates\": \"data\", \"text\": \"5\", \"rotation\": -0.0, \"position\": [0.34626747260305657, 0.013079202738905903], \"v_baseline\": \"central\", \"alpha\": 1}, {\"id\": \"el11945140492416692176\", \"zorder\": 3, \"h_anchor\": \"middle\", \"color\": \"#000000\", \"fontsize\": 10.0, \"coordinates\": \"data\", \"text\": \"6\", \"rotation\": -0.0, \"position\": [0.7602531187701788, -0.3054992194695447], \"v_baseline\": \"central\", \"alpha\": 1}, {\"id\": \"el11945140492416714064\", \"zorder\": 3, \"h_anchor\": \"middle\", \"color\": \"#000000\", \"fontsize\": 10.0, \"coordinates\": \"data\", \"text\": \"7\", \"rotation\": -0.0, \"position\": [-0.07261619081701791, -0.18611283965492156], \"v_baseline\": \"central\", \"alpha\": 1}, {\"id\": \"el11945140492416715408\", \"zorder\": 3, \"h_anchor\": \"middle\", \"color\": \"#000000\", \"fontsize\": 10.0, \"coordinates\": \"data\", \"text\": \"8\", \"rotation\": -0.0, \"position\": [0.10997925783821633, -0.3502548778212648], \"v_baseline\": \"central\", \"alpha\": 1}, {\"id\": \"el11945140492416716752\", \"zorder\": 3, \"h_anchor\": \"middle\", \"color\": \"#000000\", \"fontsize\": 10.0, \"coordinates\": \"data\", \"text\": \"9\", \"rotation\": -0.0, \"position\": [0.7367061558749326, -0.135445571875757], \"v_baseline\": \"central\", \"alpha\": 1}], \"yscale\": \"linear\", \"images\": [], \"ylim\": [-0.9617513739394521, 1.08], \"axesbg\": \"#FFFFFF\", \"id\": \"el11945140492418963720\", \"axes\": [{\"tickformat\": null, \"grid\": {\"gridOn\": false}, \"tickvalues\": null, \"position\": \"bottom\", \"fontsize\": 10.0, \"nticks\": 5, \"scale\": \"linear\"}, {\"tickformat\": null, \"grid\": {\"gridOn\": false}, \"tickvalues\": null, \"position\": \"left\", \"fontsize\": 10.0, \"nticks\": 6, \"scale\": \"linear\"}], \"xscale\": \"linear\", \"ydomain\": [-0.9617513739394521, 1.08], \"axesbgalpha\": null, \"sharex\": [], \"lines\": [{\"coordinates\": \"data\", \"linewidth\": 1.0, \"yindex\": 1, \"xindex\": 0, \"zorder\": 2, \"dasharray\": \"10,0\", \"color\": \"#808080\", \"id\": \"el11945140492418731536\", \"alpha\": 1, \"data\": \"data01\"}, {\"coordinates\": \"data\", \"linewidth\": 5, \"yindex\": 1, \"xindex\": 0, \"zorder\": 2, \"dasharray\": \"10,0\", \"color\": \"#000000\", \"id\": \"el11945140492418753368\", \"alpha\": 0.5, \"data\": \"data02\"}, {\"coordinates\": \"data\", \"linewidth\": 1.0, \"yindex\": 1, \"xindex\": 0, \"zorder\": 2, \"dasharray\": \"10,0\", \"color\": \"#808080\", \"id\": \"el11945140492418755608\", \"alpha\": 1, \"data\": \"data03\"}, {\"coordinates\": \"data\", \"linewidth\": 5, \"yindex\": 1, \"xindex\": 0, \"zorder\": 2, \"dasharray\": \"10,0\", \"color\": \"#000000\", \"id\": \"el11945140492419050240\", \"alpha\": 0.5, \"data\": \"data04\"}, {\"coordinates\": \"data\", \"linewidth\": 1.0, \"yindex\": 1, \"xindex\": 0, \"zorder\": 2, \"dasharray\": \"10,0\", \"color\": \"#808080\", \"id\": \"el11945140492419073920\", \"alpha\": 1, \"data\": \"data05\"}, {\"coordinates\": \"data\", \"linewidth\": 5, \"yindex\": 1, \"xindex\": 0, \"zorder\": 2, \"dasharray\": \"10,0\", \"color\": \"#000000\", \"id\": \"el11945140492418999016\", \"alpha\": 0.5, \"data\": \"data06\"}, {\"coordinates\": \"data\", \"linewidth\": 1.0, \"yindex\": 1, \"xindex\": 0, \"zorder\": 2, \"dasharray\": \"10,0\", \"color\": \"#808080\", \"id\": \"el11945140492418890104\", \"alpha\": 1, \"data\": \"data07\"}, {\"coordinates\": \"data\", \"linewidth\": 5, \"yindex\": 1, \"xindex\": 0, \"zorder\": 2, \"dasharray\": \"10,0\", \"color\": \"#000000\", \"id\": \"el11945140492418770536\", \"alpha\": 0.5, \"data\": \"data08\"}, {\"coordinates\": \"data\", \"linewidth\": 1.0, \"yindex\": 1, \"xindex\": 0, \"zorder\": 2, \"dasharray\": \"10,0\", \"color\": \"#808080\", \"id\": \"el11945140492418772496\", \"alpha\": 1, \"data\": \"data09\"}, {\"coordinates\": \"data\", \"linewidth\": 5, \"yindex\": 1, \"xindex\": 0, \"zorder\": 2, \"dasharray\": \"10,0\", \"color\": \"#000000\", \"id\": \"el11945140492418790904\", \"alpha\": 0.5, \"data\": \"data10\"}, {\"coordinates\": \"data\", \"linewidth\": 1.0, \"yindex\": 1, \"xindex\": 0, \"zorder\": 2, \"dasharray\": \"10,0\", \"color\": \"#808080\", \"id\": \"el11945140492418792864\", \"alpha\": 1, \"data\": \"data11\"}, {\"coordinates\": \"data\", \"linewidth\": 5, \"yindex\": 1, \"xindex\": 0, \"zorder\": 2, \"dasharray\": \"10,0\", \"color\": \"#000000\", \"id\": \"el11945140492418307464\", \"alpha\": 0.5, \"data\": \"data12\"}, {\"coordinates\": \"data\", \"linewidth\": 1.0, \"yindex\": 1, \"xindex\": 0, \"zorder\": 2, \"dasharray\": \"10,0\", \"color\": \"#808080\", \"id\": \"el11945140492418309424\", \"alpha\": 1, \"data\": \"data13\"}, {\"coordinates\": \"data\", \"linewidth\": 5, \"yindex\": 1, \"xindex\": 0, \"zorder\": 2, \"dasharray\": \"10,0\", \"color\": \"#000000\", \"id\": \"el11945140492418327832\", \"alpha\": 0.5, \"data\": \"data14\"}, {\"coordinates\": \"data\", \"linewidth\": 1.0, \"yindex\": 1, \"xindex\": 0, \"zorder\": 2, \"dasharray\": \"10,0\", \"color\": \"#808080\", \"id\": \"el11945140492418329792\", \"alpha\": 1, \"data\": \"data15\"}, {\"coordinates\": \"data\", \"linewidth\": 5, \"yindex\": 1, \"xindex\": 0, \"zorder\": 2, \"dasharray\": \"10,0\", \"color\": \"#000000\", \"id\": \"el11945140492418348200\", \"alpha\": 0.5, \"data\": \"data16\"}, {\"coordinates\": \"data\", \"linewidth\": 1.0, \"yindex\": 1, \"xindex\": 0, \"zorder\": 2, \"dasharray\": \"10,0\", \"color\": \"#808080\", \"id\": \"el11945140492418350160\", \"alpha\": 1, \"data\": \"data17\"}, {\"coordinates\": \"data\", \"linewidth\": 5, \"yindex\": 1, \"xindex\": 0, \"zorder\": 2, \"dasharray\": \"10,0\", \"color\": \"#000000\", \"id\": \"el11945140492418376760\", \"alpha\": 0.5, \"data\": \"data18\"}, {\"coordinates\": \"data\", \"linewidth\": 1.0, \"yindex\": 1, \"xindex\": 0, \"zorder\": 2, \"dasharray\": \"10,0\", \"color\": \"#808080\", \"id\": \"el11945140492418378720\", \"alpha\": 1, \"data\": \"data19\"}, {\"coordinates\": \"data\", \"linewidth\": 5, \"yindex\": 1, \"xindex\": 0, \"zorder\": 2, \"dasharray\": \"10,0\", \"color\": \"#000000\", \"id\": \"el11945140492418393032\", \"alpha\": 0.5, \"data\": \"data20\"}, {\"coordinates\": \"data\", \"linewidth\": 1.0, \"yindex\": 1, \"xindex\": 0, \"zorder\": 2, \"dasharray\": \"10,0\", \"color\": \"#808080\", \"id\": \"el11945140492418394992\", \"alpha\": 1, \"data\": \"data21\"}, {\"coordinates\": \"data\", \"linewidth\": 5, \"yindex\": 1, \"xindex\": 0, \"zorder\": 2, \"dasharray\": \"10,0\", \"color\": \"#000000\", \"id\": \"el11945140492418417496\", \"alpha\": 0.5, \"data\": \"data22\"}, {\"coordinates\": \"data\", \"linewidth\": 1.0, \"yindex\": 1, \"xindex\": 0, \"zorder\": 2, \"dasharray\": \"10,0\", \"color\": \"#808080\", \"id\": \"el11945140492418419456\", \"alpha\": 1, \"data\": \"data23\"}, {\"coordinates\": \"data\", \"linewidth\": 5, \"yindex\": 1, \"xindex\": 0, \"zorder\": 2, \"dasharray\": \"10,0\", \"color\": \"#000000\", \"id\": \"el11945140492418441960\", \"alpha\": 0.5, \"data\": \"data24\"}, {\"coordinates\": \"data\", \"linewidth\": 1.0, \"yindex\": 1, \"xindex\": 0, \"zorder\": 2, \"dasharray\": \"10,0\", \"color\": \"#808080\", \"id\": \"el11945140492418443920\", \"alpha\": 1, \"data\": \"data25\"}, {\"coordinates\": \"data\", \"linewidth\": 5, \"yindex\": 1, \"xindex\": 0, \"zorder\": 2, \"dasharray\": \"10,0\", \"color\": \"#000000\", \"id\": \"el11945140492418458232\", \"alpha\": 0.5, \"data\": \"data26\"}, {\"coordinates\": \"data\", \"linewidth\": 1.0, \"yindex\": 1, \"xindex\": 0, \"zorder\": 2, \"dasharray\": \"10,0\", \"color\": \"#808080\", \"id\": \"el11945140492418460192\", \"alpha\": 1, \"data\": \"data27\"}, {\"coordinates\": \"data\", \"linewidth\": 5, \"yindex\": 1, \"xindex\": 0, \"zorder\": 2, \"dasharray\": \"10,0\", \"color\": \"#000000\", \"id\": \"el11945140492418482696\", \"alpha\": 0.5, \"data\": \"data28\"}, {\"coordinates\": \"data\", \"linewidth\": 1.0, \"yindex\": 1, \"xindex\": 0, \"zorder\": 2, \"dasharray\": \"10,0\", \"color\": \"#808080\", \"id\": \"el11945140492418484656\", \"alpha\": 1, \"data\": \"data29\"}, {\"coordinates\": \"data\", \"linewidth\": 5, \"yindex\": 1, \"xindex\": 0, \"zorder\": 2, \"dasharray\": \"10,0\", \"color\": \"#000000\", \"id\": \"el11945140492418507160\", \"alpha\": 0.5, \"data\": \"data30\"}, {\"coordinates\": \"data\", \"linewidth\": 1.0, \"yindex\": 1, \"xindex\": 0, \"zorder\": 2, \"dasharray\": \"10,0\", \"color\": \"#808080\", \"id\": \"el11945140492418509120\", \"alpha\": 1, \"data\": \"data31\"}, {\"coordinates\": \"data\", \"linewidth\": 5, \"yindex\": 1, \"xindex\": 0, \"zorder\": 2, \"dasharray\": \"10,0\", \"color\": \"#000000\", \"id\": \"el11945140492418531624\", \"alpha\": 0.5, \"data\": \"data32\"}, {\"coordinates\": \"data\", \"linewidth\": 1.0, \"yindex\": 1, \"xindex\": 0, \"zorder\": 2, \"dasharray\": \"10,0\", \"color\": \"#808080\", \"id\": \"el11945140492418533584\", \"alpha\": 1, \"data\": \"data33\"}, {\"coordinates\": \"data\", \"linewidth\": 5, \"yindex\": 1, \"xindex\": 0, \"zorder\": 2, \"dasharray\": \"10,0\", \"color\": \"#000000\", \"id\": \"el11945140492418551992\", \"alpha\": 0.5, \"data\": \"data34\"}, {\"coordinates\": \"data\", \"linewidth\": 1.0, \"yindex\": 1, \"xindex\": 0, \"zorder\": 2, \"dasharray\": \"10,0\", \"color\": \"#808080\", \"id\": \"el11945140492418553952\", \"alpha\": 1, \"data\": \"data35\"}, {\"coordinates\": \"data\", \"linewidth\": 5, \"yindex\": 1, \"xindex\": 0, \"zorder\": 2, \"dasharray\": \"10,0\", \"color\": \"#000000\", \"id\": \"el11945140492418048072\", \"alpha\": 0.5, \"data\": \"data36\"}, {\"coordinates\": \"data\", \"linewidth\": 1.0, \"yindex\": 1, \"xindex\": 0, \"zorder\": 2, \"dasharray\": \"10,0\", \"color\": \"#808080\", \"id\": \"el11945140492418050032\", \"alpha\": 1, \"data\": \"data37\"}, {\"coordinates\": \"data\", \"linewidth\": 5, \"yindex\": 1, \"xindex\": 0, \"zorder\": 2, \"dasharray\": \"10,0\", \"color\": \"#000000\", \"id\": \"el11945140492418051992\", \"alpha\": 0.5, \"data\": \"data38\"}, {\"coordinates\": \"data\", \"linewidth\": 1.0, \"yindex\": 1, \"xindex\": 0, \"zorder\": 2, \"dasharray\": \"10,0\", \"color\": \"#808080\", \"id\": \"el11945140492418074496\", \"alpha\": 1, \"data\": \"data39\"}, {\"coordinates\": \"data\", \"linewidth\": 5, \"yindex\": 1, \"xindex\": 0, \"zorder\": 2, \"dasharray\": \"10,0\", \"color\": \"#000000\", \"id\": \"el11945140492418076456\", \"alpha\": 0.5, \"data\": \"data40\"}, {\"coordinates\": \"data\", \"linewidth\": 1.0, \"yindex\": 1, \"xindex\": 0, \"zorder\": 2, \"dasharray\": \"10,0\", \"color\": \"#808080\", \"id\": \"el11945140492418094864\", \"alpha\": 1, \"data\": \"data41\"}, {\"coordinates\": \"data\", \"linewidth\": 5, \"yindex\": 1, \"xindex\": 0, \"zorder\": 2, \"dasharray\": \"10,0\", \"color\": \"#000000\", \"id\": \"el11945140492418096824\", \"alpha\": 0.5, \"data\": \"data42\"}, {\"coordinates\": \"data\", \"linewidth\": 1.0, \"yindex\": 1, \"xindex\": 0, \"zorder\": 2, \"dasharray\": \"10,0\", \"color\": \"#808080\", \"id\": \"el11945140492418115232\", \"alpha\": 1, \"data\": \"data43\"}, {\"coordinates\": \"data\", \"linewidth\": 5, \"yindex\": 1, \"xindex\": 0, \"zorder\": 2, \"dasharray\": \"10,0\", \"color\": \"#000000\", \"id\": \"el11945140492418117192\", \"alpha\": 0.5, \"data\": \"data44\"}, {\"coordinates\": \"data\", \"linewidth\": 1.0, \"yindex\": 1, \"xindex\": 0, \"zorder\": 2, \"dasharray\": \"10,0\", \"color\": \"#808080\", \"id\": \"el11945140492418139696\", \"alpha\": 1, \"data\": \"data45\"}, {\"coordinates\": \"data\", \"linewidth\": 5, \"yindex\": 1, \"xindex\": 0, \"zorder\": 2, \"dasharray\": \"10,0\", \"color\": \"#000000\", \"id\": \"el11945140492418141656\", \"alpha\": 0.5, \"data\": \"data46\"}, {\"coordinates\": \"data\", \"linewidth\": 1.0, \"yindex\": 1, \"xindex\": 0, \"zorder\": 2, \"dasharray\": \"10,0\", \"color\": \"#808080\", \"id\": \"el11945140492418155968\", \"alpha\": 1, \"data\": \"data47\"}, {\"coordinates\": \"data\", \"linewidth\": 5, \"yindex\": 1, \"xindex\": 0, \"zorder\": 2, \"dasharray\": \"10,0\", \"color\": \"#000000\", \"id\": \"el11945140492418157928\", \"alpha\": 0.5, \"data\": \"data48\"}, {\"coordinates\": \"data\", \"linewidth\": 1.0, \"yindex\": 1, \"xindex\": 0, \"zorder\": 2, \"dasharray\": \"10,0\", \"color\": \"#808080\", \"id\": \"el11945140492418176336\", \"alpha\": 1, \"data\": \"data49\"}, {\"coordinates\": \"data\", \"linewidth\": 5, \"yindex\": 1, \"xindex\": 0, \"zorder\": 2, \"dasharray\": \"10,0\", \"color\": \"#000000\", \"id\": \"el11945140492418178296\", \"alpha\": 0.5, \"data\": \"data50\"}, {\"coordinates\": \"data\", \"linewidth\": 1.0, \"yindex\": 1, \"xindex\": 0, \"zorder\": 2, \"dasharray\": \"10,0\", \"color\": \"#808080\", \"id\": \"el11945140492418204896\", \"alpha\": 1, \"data\": \"data51\"}, {\"coordinates\": \"data\", \"linewidth\": 5, \"yindex\": 1, \"xindex\": 0, \"zorder\": 2, \"dasharray\": \"10,0\", \"color\": \"#000000\", \"id\": \"el11945140492418206856\", \"alpha\": 0.5, \"data\": \"data52\"}, {\"coordinates\": \"data\", \"linewidth\": 1.0, \"yindex\": 1, \"xindex\": 0, \"zorder\": 2, \"dasharray\": \"10,0\", \"color\": \"#808080\", \"id\": \"el11945140492418233456\", \"alpha\": 1, \"data\": \"data53\"}, {\"coordinates\": \"data\", \"linewidth\": 5, \"yindex\": 1, \"xindex\": 0, \"zorder\": 2, \"dasharray\": \"10,0\", \"color\": \"#000000\", \"id\": \"el11945140492418235416\", \"alpha\": 0.5, \"data\": \"data54\"}, {\"coordinates\": \"data\", \"linewidth\": 1.0, \"yindex\": 1, \"xindex\": 0, \"zorder\": 2, \"dasharray\": \"10,0\", \"color\": \"#808080\", \"id\": \"el11945140492418249728\", \"alpha\": 1, \"data\": \"data55\"}, {\"coordinates\": \"data\", \"linewidth\": 5, \"yindex\": 1, \"xindex\": 0, \"zorder\": 2, \"dasharray\": \"10,0\", \"color\": \"#000000\", \"id\": \"el11945140492418251688\", \"alpha\": 0.5, \"data\": \"data56\"}, {\"coordinates\": \"data\", \"linewidth\": 1.0, \"yindex\": 1, \"xindex\": 0, \"zorder\": 2, \"dasharray\": \"10,0\", \"color\": \"#808080\", \"id\": \"el11945140492418274192\", \"alpha\": 1, \"data\": \"data57\"}, {\"coordinates\": \"data\", \"linewidth\": 5, \"yindex\": 1, \"xindex\": 0, \"zorder\": 2, \"dasharray\": \"10,0\", \"color\": \"#000000\", \"id\": \"el11945140492418276152\", \"alpha\": 0.5, \"data\": \"data58\"}, {\"coordinates\": \"data\", \"linewidth\": 1.0, \"yindex\": 1, \"xindex\": 0, \"zorder\": 2, \"dasharray\": \"10,0\", \"color\": \"#808080\", \"id\": \"el11945140492418294560\", \"alpha\": 1, \"data\": \"data59\"}, {\"coordinates\": \"data\", \"linewidth\": 5, \"yindex\": 1, \"xindex\": 0, \"zorder\": 2, \"dasharray\": \"10,0\", \"color\": \"#000000\", \"id\": \"el11945140492418296520\", \"alpha\": 0.5, \"data\": \"data60\"}], \"xdomain\": [-0.800500842973138, 0.8402531187701787]}], \"id\": \"el11945140492418962544\", \"width\": 960.0, \"data\": {\"data14\": [[0.1367332832952469, -0.1477166461480751], [0.10997925783821633, -0.3502548778212648]], \"data09\": [[0.2883394275517535, 1.0], [0.7602531187701788, -0.3054992194695447]], \"data05\": [[0.2883394275517535, 1.0], [-0.18959448814771304, 0.11727534363577667]], \"data39\": [[-0.6029153041384868, -0.8817513739394521], [0.34626747260305657, 0.013079202738905903]], \"data48\": [[0.6781403533841512, -0.11316685568355758], [0.7367061558749326, -0.135445571875757]], \"data11\": [[0.2883394275517535, 1.0], [-0.07261619081701791, -0.18611283965492156]], \"data07\": [[0.2883394275517535, 1.0], [0.34626747260305657, 0.013079202738905903]], \"data45\": [[0.34626747260305657, 0.013079202738905903], [0.10997925783821633, -0.3502548778212648]], \"data29\": [[-0.6559186065617822, 0.10388020621154978], [0.34626747260305657, 0.013079202738905903]], \"data06\": [[-0.11790440079279306, 0.24968404209041017], [-0.18959448814771304, 0.11727534363577667]], \"data41\": [[-0.18959448814771304, 0.11727534363577667], [0.7602531187701788, -0.3054992194695447]], \"data17\": [[-0.720500842973138, 0.6248291301747088], [-0.6559186065617822, 0.10388020621154978]], \"data50\": [[0.6981552718451104, -0.25771245613827715], [0.7602531187701788, -0.3054992194695447]], \"data49\": [[0.34626747260305657, 0.013079202738905903], [0.7602531187701788, -0.3054992194695447]], \"data42\": [[0.6177759777324949, -0.2420830350037465], [0.7602531187701788, -0.3054992194695447]], \"data60\": [[0.6426971211694251, -0.16766696776758316], [0.7367061558749326, -0.135445571875757]], \"data47\": [[0.34626747260305657, 0.013079202738905903], [0.7367061558749326, -0.135445571875757]], \"data55\": [[0.7602531187701788, -0.3054992194695447], [-0.07261619081701791, -0.18611283965492156]], \"data08\": [[0.3375782658453611, 0.16111732232807], [0.34626747260305657, 0.013079202738905903]], \"data53\": [[0.7602531187701788, -0.3054992194695447], [0.7367061558749326, -0.135445571875757]], \"data20\": [[-0.6205531349636845, -0.655764298322328], [-0.6029153041384868, -0.8817513739394521]], \"data22\": [[-0.2692304413715268, 0.19340841161661648], [-0.18959448814771304, 0.11727534363577667]], \"data13\": [[0.2883394275517535, 1.0], [0.10997925783821633, -0.3502548778212648]], \"data33\": [[-0.6029153041384868, -0.8817513739394521], [0.10997925783821633, -0.3502548778212648]], \"data30\": [[0.19593956072833077, 0.026699353259802484], [0.34626747260305657, 0.013079202738905903]], \"data01\": [[0.2883394275517535, 1.0], [-0.720500842973138, 0.6248291301747088]], \"data31\": [[-0.6559186065617822, 0.10388020621154978], [-0.07261619081701791, -0.18611283965492156]], \"data10\": [[0.6894660650874149, -0.10967433654911302], [0.7602531187701788, -0.3054992194695447]], \"data58\": [[0.08258994053993118, -0.32563357209631333], [0.10997925783821633, -0.3502548778212648]], \"data46\": [[0.14542249005294236, -0.2957547657372392], [0.10997925783821633, -0.3502548778212648]], \"data52\": [[0.2075203369780107, -0.34354152906850677], [0.10997925783821633, -0.3502548778212648]], \"data36\": [[0.5357629368729196, -0.24739144218531128], [0.7367061558749326, -0.135445571875757]], \"data19\": [[-0.720500842973138, 0.6248291301747088], [-0.6029153041384868, -0.8817513739394521]], \"data25\": [[-0.6559186065617822, 0.10388020621154978], [0.10997925783821633, -0.3502548778212648]], \"data59\": [[0.10997925783821633, -0.3502548778212648], [0.7367061558749326, -0.135445571875757]], \"data28\": [[-0.25954310590982343, 0.11526607302214263], [-0.18959448814771304, 0.11727534363577667]], \"data16\": [[0.6694511466264558, 0.03487126390560655], [0.7367061558749326, -0.135445571875757]], \"data03\": [[0.2883394275517535, 1.0], [-0.6559186065617822, 0.10388020621154978]], \"data34\": [[0.003045073541710866, -0.4299793522389929], [0.10997925783821633, -0.3502548778212648]], \"data04\": [[-0.5142799014447519, 0.2382981752798173], [-0.6559186065617822, 0.10388020621154978]], \"data32\": [[-0.16011155317873255, -0.14261388277495085], [-0.07261619081701791, -0.18611283965492156]], \"data56\": [[0.05231420562106158, -0.20402079662711503], [-0.07261619081701791, -0.18611283965492156]], \"data37\": [[-0.6029153041384868, -0.8817513739394521], [-0.18959448814771304, 0.11727534363577667]], \"data02\": [[-0.5691748023944043, 0.6811047606485024], [-0.720500842973138, 0.6248291301747088]], \"data23\": [[-0.720500842973138, 0.6248291301747088], [-0.07261619081701791, -0.18611283965492156]], \"data12\": [[-0.018472848061702192, -0.008195913706683322], [-0.07261619081701791, -0.18611283965492156]], \"data38\": [[-0.2515926105463291, -0.03257866400050764], [-0.18959448814771304, 0.11727534363577667]], \"data54\": [[0.7402382003092195, -0.16095361901482516], [0.7367061558749326, -0.135445571875757]], \"data24\": [[-0.1697988886404359, -0.06447154418047703], [-0.07261619081701791, -0.18611283965492156]], \"data15\": [[0.2883394275517535, 1.0], [0.7367061558749326, -0.135445571875757]], \"data57\": [[-0.07261619081701791, -0.18611283965492156], [0.10997925783821633, -0.3502548778212648]], \"data27\": [[-0.6559186065617822, 0.10388020621154978], [-0.18959448814771304, 0.11727534363577667]], \"data44\": [[-0.09016293541662218, -0.14060461216131684], [-0.07261619081701791, -0.18611283965492156]], \"data40\": [[0.20389005609182506, -0.1211453837628478], [0.34626747260305657, 0.013079202738905903]], \"data18\": [[-0.6656059420234857, 0.18202254480602362], [-0.6559186065617822, 0.10388020621154978]], \"data21\": [[-0.720500842973138, 0.6248291301747088], [-0.18959448814771304, 0.11727534363577667]], \"data26\": [[-0.00490542182178344, -0.28213461521634264], [0.10997925783821633, -0.3502548778212648]], \"data61\": [[0.2883394275517535, 1.0], [-0.720500842973138, 0.6248291301747088], [-0.6559186065617822, 0.10388020621154978], [-0.6029153041384868, -0.8817513739394521], [-0.18959448814771304, 0.11727534363577667], [0.34626747260305657, 0.013079202738905903], [0.7602531187701788, -0.3054992194695447], [-0.07261619081701791, -0.18611283965492156], [0.10997925783821633, -0.3502548778212648], [0.7367061558749326, -0.135445571875757]], \"data43\": [[-0.18959448814771304, 0.11727534363577667], [-0.07261619081701791, -0.18611283965492156]], \"data51\": [[0.7602531187701788, -0.3054992194695447], [0.10997925783821633, -0.3502548778212648]], \"data35\": [[-0.6029153041384868, -0.8817513739394521], [0.7367061558749326, -0.135445571875757]]}});\n",
       "      });\n",
       "    });\n",
       "}else{\n",
       "    // require.js not available: dynamically load d3 & mpld3\n",
       "    mpld3_load_lib(\"https://mpld3.github.io/js/d3.v3.min.js\", function(){\n",
       "         mpld3_load_lib(\"https://mpld3.github.io/js/mpld3.v0.2.js\", function(){\n",
       "                 \n",
       "    mpld3.register_plugin(\"htmltooltip\", HtmlTooltipPlugin);\n",
       "    HtmlTooltipPlugin.prototype = Object.create(mpld3.Plugin.prototype);\n",
       "    HtmlTooltipPlugin.prototype.constructor = HtmlTooltipPlugin;\n",
       "    HtmlTooltipPlugin.prototype.requiredProps = [\"id\"];\n",
       "    HtmlTooltipPlugin.prototype.defaultProps = {labels:null, hoffset:0, voffset:10};\n",
       "    function HtmlTooltipPlugin(fig, props){\n",
       "        mpld3.Plugin.call(this, fig, props);\n",
       "    };\n",
       "\n",
       "    HtmlTooltipPlugin.prototype.draw = function(){\n",
       "       var obj = mpld3.get_element(this.props.id);\n",
       "       var labels = this.props.labels;\n",
       "       var tooltip = d3.select(\"body\").append(\"div\")\n",
       "                    .attr(\"class\", \"mpld3-tooltip\")\n",
       "                    .style(\"position\", \"absolute\")\n",
       "                    .style(\"z-index\", \"10\")\n",
       "                    .style(\"visibility\", \"hidden\");\n",
       "\n",
       "       obj.elements()\n",
       "           .on(\"mouseover\", function(d, i){\n",
       "                              tooltip.html(labels[i])\n",
       "                                     .style(\"visibility\", \"visible\");})\n",
       "           .on(\"mousemove\", function(d, i){\n",
       "                    tooltip\n",
       "                      .style(\"top\", d3.event.pageY + this.props.voffset + \"px\")\n",
       "                      .style(\"left\",d3.event.pageX + this.props.hoffset + \"px\");\n",
       "                 }.bind(this))\n",
       "           .on(\"mouseout\",  function(d, i){\n",
       "                           tooltip.style(\"visibility\", \"hidden\");});\n",
       "    };\n",
       "    \n",
       "                 mpld3.draw_figure(\"fig_el119451404924189625447224875993\", {\"height\": 640.0, \"plugins\": [{\"type\": \"reset\"}, {\"enabled\": false, \"type\": \"zoom\", \"button\": true}, {\"enabled\": false, \"type\": \"boxzoom\", \"button\": true}, {\"labels\": [\"<table border=\\\"1\\\" cellpadding=\\\"4\\\" cellspacing=\\\"0\\\" bordercolor=\\\"#000000\\\">\\n<tr bgcolor=\\\"#AAAAAA\\\">\\n<th align=\\\"center\\\">0</th>\\n<th align=\\\"center\\\">Prob.</th>\\n</tr>\\n<tr>\\n<td bgcolor=#FFFFFF>0</td>\\n<td bgcolor=#bedbd4>0.185</td>\\n</tr>\\n<tr>\\n<td bgcolor=#FFFFFF>1</td>\\n<td bgcolor=#f1d9d5>0.815</td>\\n</tr>\\n</table>\", \"<table border=\\\"1\\\" cellpadding=\\\"4\\\" cellspacing=\\\"0\\\" bordercolor=\\\"#000000\\\">\\n<tr bgcolor=\\\"#AAAAAA\\\">\\n<th align=\\\"center\\\">0</th>\\n<th align=\\\"center\\\">1</th>\\n<th align=\\\"center\\\">Prob.</th>\\n</tr>\\n<tr>\\n<td bgcolor=#FFFFFF>0</td>\\n<td bgcolor=#FFFFFF>0</td>\\n<td bgcolor=#cee5ca>0.271</td>\\n</tr>\\n<tr>\\n<td bgcolor=#FFFFFF>0</td>\\n<td bgcolor=#FFFFFF>1</td>\\n<td bgcolor=#e9debf>0.729</td>\\n</tr>\\n<tr>\\n<td bgcolor=#FFFFFF>1</td>\\n<td bgcolor=#FFFFFF>0</td>\\n<td bgcolor=#b4cce1>0.124</td>\\n</tr>\\n<tr>\\n<td bgcolor=#FFFFFF>1</td>\\n<td bgcolor=#FFFFFF>1</td>\\n<td bgcolor=#fcdaec>0.876</td>\\n</tr>\\n</table>\", \"<table border=\\\"1\\\" cellpadding=\\\"4\\\" cellspacing=\\\"0\\\" bordercolor=\\\"#000000\\\">\\n<tr bgcolor=\\\"#AAAAAA\\\">\\n<th align=\\\"center\\\">0</th>\\n<th align=\\\"center\\\">1</th>\\n<th align=\\\"center\\\">2</th>\\n<th align=\\\"center\\\">Prob.</th>\\n</tr>\\n<tr>\\n<td bgcolor=#FFFFFF>0</td>\\n<td bgcolor=#FFFFFF>0</td>\\n<td bgcolor=#FFFFFF>0</td>\\n<td bgcolor=#b9cade>0.114</td>\\n</tr>\\n<tr>\\n<td bgcolor=#FFFFFF>0</td>\\n<td bgcolor=#FFFFFF>0</td>\\n<td bgcolor=#FFFFFF>1</td>\\n<td bgcolor=#fcdcec>0.886</td>\\n</tr>\\n<tr>\\n<td bgcolor=#FFFFFF>0</td>\\n<td bgcolor=#FFFFFF>1</td>\\n<td bgcolor=#FFFFFF>0</td>\\n<td bgcolor=#fcd9ea>0.869</td>\\n</tr>\\n<tr>\\n<td bgcolor=#FFFFFF>0</td>\\n<td bgcolor=#FFFFFF>1</td>\\n<td bgcolor=#FFFFFF>1</td>\\n<td bgcolor=#b3cee1>0.131</td>\\n</tr>\\n<tr>\\n<td bgcolor=#FFFFFF>1</td>\\n<td bgcolor=#FFFFFF>0</td>\\n<td bgcolor=#FFFFFF>0</td>\\n<td bgcolor=#c9e8c7>0.242</td>\\n</tr>\\n<tr>\\n<td bgcolor=#FFFFFF>1</td>\\n<td bgcolor=#FFFFFF>0</td>\\n<td bgcolor=#FFFFFF>1</td>\\n<td bgcolor=#e7d8c1>0.758</td>\\n</tr>\\n<tr>\\n<td bgcolor=#FFFFFF>1</td>\\n<td bgcolor=#FFFFFF>1</td>\\n<td bgcolor=#FFFFFF>0</td>\\n<td bgcolor=#e7dbbe>0.737</td>\\n</tr>\\n<tr>\\n<td bgcolor=#FFFFFF>1</td>\\n<td bgcolor=#FFFFFF>1</td>\\n<td bgcolor=#FFFFFF>1</td>\\n<td bgcolor=#cde7c8>0.263</td>\\n</tr>\\n</table>\", \"<table border=\\\"1\\\" cellpadding=\\\"4\\\" cellspacing=\\\"0\\\" bordercolor=\\\"#000000\\\">\\n<tr bgcolor=\\\"#AAAAAA\\\">\\n<th align=\\\"center\\\">1</th>\\n<th align=\\\"center\\\">3</th>\\n<th align=\\\"center\\\">Prob.</th>\\n</tr>\\n<tr>\\n<td bgcolor=#FFFFFF>0</td>\\n<td bgcolor=#FFFFFF>0</td>\\n<td bgcolor=#d4c1ca>0.067</td>\\n</tr>\\n<tr>\\n<td bgcolor=#FFFFFF>0</td>\\n<td bgcolor=#FFFFFF>1</td>\\n<td bgcolor=#f7e5ee>0.933</td>\\n</tr>\\n<tr>\\n<td bgcolor=#FFFFFF>1</td>\\n<td bgcolor=#FFFFFF>0</td>\\n<td bgcolor=#bec9da>0.109</td>\\n</tr>\\n<tr>\\n<td bgcolor=#FFFFFF>1</td>\\n<td bgcolor=#FFFFFF>1</td>\\n<td bgcolor=#fbddec>0.891</td>\\n</tr>\\n</table>\", \"<table border=\\\"1\\\" cellpadding=\\\"4\\\" cellspacing=\\\"0\\\" bordercolor=\\\"#000000\\\">\\n<tr bgcolor=\\\"#AAAAAA\\\">\\n<th align=\\\"center\\\">0</th>\\n<th align=\\\"center\\\">1</th>\\n<th align=\\\"center\\\">2</th>\\n<th align=\\\"center\\\">3</th>\\n<th align=\\\"center\\\">4</th>\\n<th align=\\\"center\\\">Prob.</th>\\n</tr>\\n<tr>\\n<td bgcolor=#FFFFFF>0</td>\\n<td bgcolor=#FFFFFF>0</td>\\n<td bgcolor=#FFFFFF>0</td>\\n<td bgcolor=#FFFFFF>0</td>\\n<td bgcolor=#FFFFFF>0</td>\\n<td bgcolor=#fbdcec>0.887</td>\\n</tr>\\n<tr>\\n<td bgcolor=#FFFFFF>0</td>\\n<td bgcolor=#FFFFFF>0</td>\\n<td bgcolor=#FFFFFF>0</td>\\n<td bgcolor=#FFFFFF>0</td>\\n<td bgcolor=#FFFFFF>1</td>\\n<td bgcolor=#bbc9dc>0.113</td>\\n</tr>\\n<tr>\\n<td bgcolor=#FFFFFF>0</td>\\n<td bgcolor=#FFFFFF>0</td>\\n<td bgcolor=#FFFFFF>0</td>\\n<td bgcolor=#FFFFFF>1</td>\\n<td bgcolor=#FFFFFF>0</td>\\n<td bgcolor=#f4b6b2>0.012</td>\\n</tr>\\n<tr>\\n<td bgcolor=#FFFFFF>0</td>\\n<td bgcolor=#FFFFFF>0</td>\\n<td bgcolor=#FFFFFF>0</td>\\n<td bgcolor=#FFFFFF>1</td>\\n<td bgcolor=#FFFFFF>1</td>\\n<td bgcolor=#f3eff1>0.988</td>\\n</tr>\\n<tr>\\n<td bgcolor=#FFFFFF>0</td>\\n<td bgcolor=#FFFFFF>0</td>\\n<td bgcolor=#FFFFFF>1</td>\\n<td bgcolor=#FFFFFF>0</td>\\n<td bgcolor=#FFFFFF>0</td>\\n<td bgcolor=#faf8c9>0.646</td>\\n</tr>\\n<tr>\\n<td bgcolor=#FFFFFF>0</td>\\n<td bgcolor=#FFFFFF>0</td>\\n<td bgcolor=#FFFFFF>1</td>\\n<td bgcolor=#FFFFFF>0</td>\\n<td bgcolor=#FFFFFF>1</td>\\n<td bgcolor=#dad0de>0.354</td>\\n</tr>\\n<tr>\\n<td bgcolor=#FFFFFF>0</td>\\n<td bgcolor=#FFFFFF>0</td>\\n<td bgcolor=#FFFFFF>1</td>\\n<td bgcolor=#FFFFFF>1</td>\\n<td bgcolor=#FFFFFF>0</td>\\n<td bgcolor=#f5ebf0>0.964</td>\\n</tr>\\n<tr>\\n<td bgcolor=#FFFFFF>0</td>\\n<td bgcolor=#FFFFFF>0</td>\\n<td bgcolor=#FFFFFF>1</td>\\n<td bgcolor=#FFFFFF>1</td>\\n<td bgcolor=#FFFFFF>1</td>\\n<td bgcolor=#e6bbbc>0.036</td>\\n</tr>\\n<tr>\\n<td bgcolor=#FFFFFF>0</td>\\n<td bgcolor=#FFFFFF>1</td>\\n<td bgcolor=#FFFFFF>0</td>\\n<td bgcolor=#FFFFFF>0</td>\\n<td bgcolor=#FFFFFF>0</td>\\n<td bgcolor=#b5cfe0>0.138</td>\\n</tr>\\n<tr>\\n<td bgcolor=#FFFFFF>0</td>\\n<td bgcolor=#FFFFFF>1</td>\\n<td bgcolor=#FFFFFF>0</td>\\n<td bgcolor=#FFFFFF>0</td>\\n<td bgcolor=#FFFFFF>1</td>\\n<td bgcolor=#fad9e7>0.862</td>\\n</tr>\\n<tr>\\n<td bgcolor=#FFFFFF>0</td>\\n<td bgcolor=#FFFFFF>1</td>\\n<td bgcolor=#FFFFFF>0</td>\\n<td bgcolor=#FFFFFF>1</td>\\n<td bgcolor=#FFFFFF>0</td>\\n<td bgcolor=#fef0bd>0.576</td>\\n</tr>\\n<tr>\\n<td bgcolor=#FFFFFF>0</td>\\n<td bgcolor=#FFFFFF>1</td>\\n<td bgcolor=#FFFFFF>0</td>\\n<td bgcolor=#FFFFFF>1</td>\\n<td bgcolor=#FFFFFF>1</td>\\n<td bgcolor=#ead0cb>0.424</td>\\n</tr>\\n<tr>\\n<td bgcolor=#FFFFFF>0</td>\\n<td bgcolor=#FFFFFF>1</td>\\n<td bgcolor=#FFFFFF>1</td>\\n<td bgcolor=#FFFFFF>0</td>\\n<td bgcolor=#FFFFFF>0</td>\\n<td bgcolor=#cbc4d0>0.085</td>\\n</tr>\\n<tr>\\n<td bgcolor=#FFFFFF>0</td>\\n<td bgcolor=#FFFFFF>1</td>\\n<td bgcolor=#FFFFFF>1</td>\\n<td bgcolor=#FFFFFF>0</td>\\n<td bgcolor=#FFFFFF>1</td>\\n<td bgcolor=#f9e2ee>0.915</td>\\n</tr>\\n<tr>\\n<td bgcolor=#FFFFFF>0</td>\\n<td bgcolor=#FFFFFF>1</td>\\n<td bgcolor=#FFFFFF>1</td>\\n<td bgcolor=#FFFFFF>1</td>\\n<td bgcolor=#FFFFFF>0</td>\\n<td bgcolor=#e6d8bf>0.757</td>\\n</tr>\\n<tr>\\n<td bgcolor=#FFFFFF>0</td>\\n<td bgcolor=#FFFFFF>1</td>\\n<td bgcolor=#FFFFFF>1</td>\\n<td bgcolor=#FFFFFF>1</td>\\n<td bgcolor=#FFFFFF>1</td>\\n<td bgcolor=#cae9c6>0.243</td>\\n</tr>\\n<tr>\\n<td bgcolor=#FFFFFF>1</td>\\n<td bgcolor=#FFFFFF>0</td>\\n<td bgcolor=#FFFFFF>0</td>\\n<td bgcolor=#FFFFFF>0</td>\\n<td bgcolor=#FFFFFF>0</td>\\n<td bgcolor=#fcd8a8>0.495</td>\\n</tr>\\n<tr>\\n<td bgcolor=#FFFFFF>1</td>\\n<td bgcolor=#FFFFFF>0</td>\\n<td bgcolor=#FFFFFF>0</td>\\n<td bgcolor=#FFFFFF>0</td>\\n<td bgcolor=#FFFFFF>1</td>\\n<td bgcolor=#fedaa7>0.505</td>\\n</tr>\\n<tr>\\n<td bgcolor=#FFFFFF>1</td>\\n<td bgcolor=#FFFFFF>0</td>\\n<td bgcolor=#FFFFFF>0</td>\\n<td bgcolor=#FFFFFF>1</td>\\n<td bgcolor=#FFFFFF>0</td>\\n<td bgcolor=#decbe3>0.377</td>\\n</tr>\\n<tr>\\n<td bgcolor=#FFFFFF>1</td>\\n<td bgcolor=#FFFFFF>0</td>\\n<td bgcolor=#FFFFFF>0</td>\\n<td bgcolor=#FFFFFF>1</td>\\n<td bgcolor=#FFFFFF>1</td>\\n<td bgcolor=#fefecb>0.623</td>\\n</tr>\\n<tr>\\n<td bgcolor=#FFFFFF>1</td>\\n<td bgcolor=#FFFFFF>0</td>\\n<td bgcolor=#FFFFFF>1</td>\\n<td bgcolor=#FFFFFF>0</td>\\n<td bgcolor=#FFFFFF>0</td>\\n<td bgcolor=#e7d8c1>0.761</td>\\n</tr>\\n<tr>\\n<td bgcolor=#FFFFFF>1</td>\\n<td bgcolor=#FFFFFF>0</td>\\n<td bgcolor=#FFFFFF>1</td>\\n<td bgcolor=#FFFFFF>0</td>\\n<td bgcolor=#FFFFFF>1</td>\\n<td bgcolor=#c9e8c7>0.239</td>\\n</tr>\\n<tr>\\n<td bgcolor=#FFFFFF>1</td>\\n<td bgcolor=#FFFFFF>0</td>\\n<td bgcolor=#FFFFFF>1</td>\\n<td bgcolor=#FFFFFF>1</td>\\n<td bgcolor=#FFFFFF>0</td>\\n<td bgcolor=#fee7b4>0.549</td>\\n</tr>\\n<tr>\\n<td bgcolor=#FFFFFF>1</td>\\n<td bgcolor=#FFFFFF>0</td>\\n<td bgcolor=#FFFFFF>1</td>\\n<td bgcolor=#FFFFFF>1</td>\\n<td bgcolor=#FFFFFF>1</td>\\n<td bgcolor=#f1d3be>0.451</td>\\n</tr>\\n<tr>\\n<td bgcolor=#FFFFFF>1</td>\\n<td bgcolor=#FFFFFF>1</td>\\n<td bgcolor=#FFFFFF>0</td>\\n<td bgcolor=#FFFFFF>0</td>\\n<td bgcolor=#FFFFFF>0</td>\\n<td bgcolor=#f3d9d8>0.822</td>\\n</tr>\\n<tr>\\n<td bgcolor=#FFFFFF>1</td>\\n<td bgcolor=#FFFFFF>1</td>\\n<td bgcolor=#FFFFFF>0</td>\\n<td bgcolor=#FFFFFF>0</td>\\n<td bgcolor=#FFFFFF>1</td>\\n<td bgcolor=#bdd9d6>0.178</td>\\n</tr>\\n<tr>\\n<td bgcolor=#FFFFFF>1</td>\\n<td bgcolor=#FFFFFF>1</td>\\n<td bgcolor=#FFFFFF>0</td>\\n<td bgcolor=#FFFFFF>1</td>\\n<td bgcolor=#FFFFFF>0</td>\\n<td bgcolor=#c0ddd2>0.195</td>\\n</tr>\\n<tr>\\n<td bgcolor=#FFFFFF>1</td>\\n<td bgcolor=#FFFFFF>1</td>\\n<td bgcolor=#FFFFFF>0</td>\\n<td bgcolor=#FFFFFF>1</td>\\n<td bgcolor=#FFFFFF>1</td>\\n<td bgcolor=#f0d8d2>0.805</td>\\n</tr>\\n<tr>\\n<td bgcolor=#FFFFFF>1</td>\\n<td bgcolor=#FFFFFF>1</td>\\n<td bgcolor=#FFFFFF>1</td>\\n<td bgcolor=#FFFFFF>0</td>\\n<td bgcolor=#FFFFFF>0</td>\\n<td bgcolor=#edb8b7>0.026</td>\\n</tr>\\n<tr>\\n<td bgcolor=#FFFFFF>1</td>\\n<td bgcolor=#FFFFFF>1</td>\\n<td bgcolor=#FFFFFF>1</td>\\n<td bgcolor=#FFFFFF>0</td>\\n<td bgcolor=#FFFFFF>1</td>\\n<td bgcolor=#f4edf0>0.974</td>\\n</tr>\\n<tr>\\n<td bgcolor=#FFFFFF>1</td>\\n<td bgcolor=#FFFFFF>1</td>\\n<td bgcolor=#FFFFFF>1</td>\\n<td bgcolor=#FFFFFF>1</td>\\n<td bgcolor=#FFFFFF>0</td>\\n<td bgcolor=#b9d4db>0.159</td>\\n</tr>\\n<tr>\\n<td bgcolor=#FFFFFF>1</td>\\n<td bgcolor=#FFFFFF>1</td>\\n<td bgcolor=#FFFFFF>1</td>\\n<td bgcolor=#FFFFFF>1</td>\\n<td bgcolor=#FFFFFF>1</td>\\n<td bgcolor=#f6d9e0>0.841</td>\\n</tr>\\n</table>\", \"<table border=\\\"1\\\" cellpadding=\\\"4\\\" cellspacing=\\\"0\\\" bordercolor=\\\"#000000\\\">\\n<tr bgcolor=\\\"#AAAAAA\\\">\\n<th align=\\\"center\\\">0</th>\\n<th align=\\\"center\\\">2</th>\\n<th align=\\\"center\\\">3</th>\\n<th align=\\\"center\\\">5</th>\\n<th align=\\\"center\\\">Prob.</th>\\n</tr>\\n<tr>\\n<td bgcolor=#FFFFFF>0</td>\\n<td bgcolor=#FFFFFF>0</td>\\n<td bgcolor=#FFFFFF>0</td>\\n<td bgcolor=#FFFFFF>0</td>\\n<td bgcolor=#f8e2ee>0.920</td>\\n</tr>\\n<tr>\\n<td bgcolor=#FFFFFF>0</td>\\n<td bgcolor=#FFFFFF>0</td>\\n<td bgcolor=#FFFFFF>0</td>\\n<td bgcolor=#FFFFFF>1</td>\\n<td bgcolor=#cdc3cf>0.080</td>\\n</tr>\\n<tr>\\n<td bgcolor=#FFFFFF>0</td>\\n<td bgcolor=#FFFFFF>0</td>\\n<td bgcolor=#FFFFFF>1</td>\\n<td bgcolor=#FFFFFF>0</td>\\n<td bgcolor=#ead8c8>0.780</td>\\n</tr>\\n<tr>\\n<td bgcolor=#FFFFFF>0</td>\\n<td bgcolor=#FFFFFF>0</td>\\n<td bgcolor=#FFFFFF>1</td>\\n<td bgcolor=#FFFFFF>1</td>\\n<td bgcolor=#c5e3cc>0.220</td>\\n</tr>\\n<tr>\\n<td bgcolor=#FFFFFF>0</td>\\n<td bgcolor=#FFFFFF>1</td>\\n<td bgcolor=#FFFFFF>0</td>\\n<td bgcolor=#FFFFFF>0</td>\\n<td bgcolor=#ecd1c8>0.433</td>\\n</tr>\\n<tr>\\n<td bgcolor=#FFFFFF>0</td>\\n<td bgcolor=#FFFFFF>1</td>\\n<td bgcolor=#FFFFFF>0</td>\\n<td bgcolor=#FFFFFF>1</td>\\n<td bgcolor=#feedba>0.567</td>\\n</tr>\\n<tr>\\n<td bgcolor=#FFFFFF>0</td>\\n<td bgcolor=#FFFFFF>1</td>\\n<td bgcolor=#FFFFFF>1</td>\\n<td bgcolor=#FFFFFF>0</td>\\n<td bgcolor=#ebd8c9>0.785</td>\\n</tr>\\n<tr>\\n<td bgcolor=#FFFFFF>0</td>\\n<td bgcolor=#FFFFFF>1</td>\\n<td bgcolor=#FFFFFF>1</td>\\n<td bgcolor=#FFFFFF>1</td>\\n<td bgcolor=#c5e2cd>0.215</td>\\n</tr>\\n<tr>\\n<td bgcolor=#FFFFFF>1</td>\\n<td bgcolor=#FFFFFF>0</td>\\n<td bgcolor=#FFFFFF>0</td>\\n<td bgcolor=#FFFFFF>0</td>\\n<td bgcolor=#f7d9e1>0.845</td>\\n</tr>\\n<tr>\\n<td bgcolor=#FFFFFF>1</td>\\n<td bgcolor=#FFFFFF>0</td>\\n<td bgcolor=#FFFFFF>0</td>\\n<td bgcolor=#FFFFFF>1</td>\\n<td bgcolor=#b8d3dc>0.155</td>\\n</tr>\\n<tr>\\n<td bgcolor=#FFFFFF>1</td>\\n<td bgcolor=#FFFFFF>0</td>\\n<td bgcolor=#FFFFFF>1</td>\\n<td bgcolor=#FFFFFF>0</td>\\n<td bgcolor=#b9cade>0.114</td>\\n</tr>\\n<tr>\\n<td bgcolor=#FFFFFF>1</td>\\n<td bgcolor=#FFFFFF>0</td>\\n<td bgcolor=#FFFFFF>1</td>\\n<td bgcolor=#FFFFFF>1</td>\\n<td bgcolor=#fcdcec>0.886</td>\\n</tr>\\n<tr>\\n<td bgcolor=#FFFFFF>1</td>\\n<td bgcolor=#FFFFFF>1</td>\\n<td bgcolor=#FFFFFF>0</td>\\n<td bgcolor=#FFFFFF>0</td>\\n<td bgcolor=#e2ccdb>0.391</td>\\n</tr>\\n<tr>\\n<td bgcolor=#FFFFFF>1</td>\\n<td bgcolor=#FFFFFF>1</td>\\n<td bgcolor=#FFFFFF>0</td>\\n<td bgcolor=#FFFFFF>1</td>\\n<td bgcolor=#fef9c6>0.609</td>\\n</tr>\\n<tr>\\n<td bgcolor=#FFFFFF>1</td>\\n<td bgcolor=#FFFFFF>1</td>\\n<td bgcolor=#FFFFFF>1</td>\\n<td bgcolor=#FFFFFF>0</td>\\n<td bgcolor=#f8d9e2>0.849</td>\\n</tr>\\n<tr>\\n<td bgcolor=#FFFFFF>1</td>\\n<td bgcolor=#FFFFFF>1</td>\\n<td bgcolor=#FFFFFF>1</td>\\n<td bgcolor=#FFFFFF>1</td>\\n<td bgcolor=#b7d2dd>0.151</td>\\n</tr>\\n</table>\", \"<table border=\\\"1\\\" cellpadding=\\\"4\\\" cellspacing=\\\"0\\\" bordercolor=\\\"#000000\\\">\\n<tr bgcolor=\\\"#AAAAAA\\\">\\n<th align=\\\"center\\\">0</th>\\n<th align=\\\"center\\\">4</th>\\n<th align=\\\"center\\\">5</th>\\n<th align=\\\"center\\\">6</th>\\n<th align=\\\"center\\\">Prob.</th>\\n</tr>\\n<tr>\\n<td bgcolor=#FFFFFF>0</td>\\n<td bgcolor=#FFFFFF>0</td>\\n<td bgcolor=#FFFFFF>0</td>\\n<td bgcolor=#FFFFFF>0</td>\\n<td bgcolor=#f6d9de>0.838</td>\\n</tr>\\n<tr>\\n<td bgcolor=#FFFFFF>0</td>\\n<td bgcolor=#FFFFFF>0</td>\\n<td bgcolor=#FFFFFF>0</td>\\n<td bgcolor=#FFFFFF>1</td>\\n<td bgcolor=#bad5da>0.162</td>\\n</tr>\\n<tr>\\n<td bgcolor=#FFFFFF>0</td>\\n<td bgcolor=#FFFFFF>0</td>\\n<td bgcolor=#FFFFFF>1</td>\\n<td bgcolor=#FFFFFF>0</td>\\n<td bgcolor=#feefbc>0.572</td>\\n</tr>\\n<tr>\\n<td bgcolor=#FFFFFF>0</td>\\n<td bgcolor=#FFFFFF>0</td>\\n<td bgcolor=#FFFFFF>1</td>\\n<td bgcolor=#FFFFFF>1</td>\\n<td bgcolor=#ebd0c9>0.428</td>\\n</tr>\\n<tr>\\n<td bgcolor=#FFFFFF>0</td>\\n<td bgcolor=#FFFFFF>1</td>\\n<td bgcolor=#FFFFFF>0</td>\\n<td bgcolor=#FFFFFF>0</td>\\n<td bgcolor=#f3eef1>0.979</td>\\n</tr>\\n<tr>\\n<td bgcolor=#FFFFFF>0</td>\\n<td bgcolor=#FFFFFF>1</td>\\n<td bgcolor=#FFFFFF>0</td>\\n<td bgcolor=#FFFFFF>1</td>\\n<td bgcolor=#efb7b6>0.021</td>\\n</tr>\\n<tr>\\n<td bgcolor=#FFFFFF>0</td>\\n<td bgcolor=#FFFFFF>1</td>\\n<td bgcolor=#FFFFFF>1</td>\\n<td bgcolor=#FFFFFF>0</td>\\n<td bgcolor=#d5d9d5>0.317</td>\\n</tr>\\n<tr>\\n<td bgcolor=#FFFFFF>0</td>\\n<td bgcolor=#FFFFFF>1</td>\\n<td bgcolor=#FFFFFF>1</td>\\n<td bgcolor=#FFFFFF>1</td>\\n<td bgcolor=#f3edc5>0.683</td>\\n</tr>\\n<tr>\\n<td bgcolor=#FFFFFF>1</td>\\n<td bgcolor=#FFFFFF>0</td>\\n<td bgcolor=#FFFFFF>0</td>\\n<td bgcolor=#FFFFFF>0</td>\\n<td bgcolor=#ebd8c9>0.783</td>\\n</tr>\\n<tr>\\n<td bgcolor=#FFFFFF>1</td>\\n<td bgcolor=#FFFFFF>0</td>\\n<td bgcolor=#FFFFFF>0</td>\\n<td bgcolor=#FFFFFF>1</td>\\n<td bgcolor=#c5e2cd>0.217</td>\\n</tr>\\n<tr>\\n<td bgcolor=#FFFFFF>1</td>\\n<td bgcolor=#FFFFFF>0</td>\\n<td bgcolor=#FFFFFF>1</td>\\n<td bgcolor=#FFFFFF>0</td>\\n<td bgcolor=#bfdcd3>0.189</td>\\n</tr>\\n<tr>\\n<td bgcolor=#FFFFFF>1</td>\\n<td bgcolor=#FFFFFF>0</td>\\n<td bgcolor=#FFFFFF>1</td>\\n<td bgcolor=#FFFFFF>1</td>\\n<td bgcolor=#f0d8d4>0.811</td>\\n</tr>\\n<tr>\\n<td bgcolor=#FFFFFF>1</td>\\n<td bgcolor=#FFFFFF>1</td>\\n<td bgcolor=#FFFFFF>0</td>\\n<td bgcolor=#FFFFFF>0</td>\\n<td bgcolor=#e4cdd7>0.400</td>\\n</tr>\\n<tr>\\n<td bgcolor=#FFFFFF>1</td>\\n<td bgcolor=#FFFFFF>1</td>\\n<td bgcolor=#FFFFFF>0</td>\\n<td bgcolor=#FFFFFF>1</td>\\n<td bgcolor=#fef7c4>0.600</td>\\n</tr>\\n<tr>\\n<td bgcolor=#FFFFFF>1</td>\\n<td bgcolor=#FFFFFF>1</td>\\n<td bgcolor=#FFFFFF>1</td>\\n<td bgcolor=#FFFFFF>0</td>\\n<td bgcolor=#f5d5b6>0.465</td>\\n</tr>\\n<tr>\\n<td bgcolor=#FFFFFF>1</td>\\n<td bgcolor=#FFFFFF>1</td>\\n<td bgcolor=#FFFFFF>1</td>\\n<td bgcolor=#FFFFFF>1</td>\\n<td bgcolor=#fee3b0>0.535</td>\\n</tr>\\n</table>\", \"<table border=\\\"1\\\" cellpadding=\\\"4\\\" cellspacing=\\\"0\\\" bordercolor=\\\"#000000\\\">\\n<tr bgcolor=\\\"#AAAAAA\\\">\\n<th align=\\\"center\\\">0</th>\\n<th align=\\\"center\\\">1</th>\\n<th align=\\\"center\\\">2</th>\\n<th align=\\\"center\\\">4</th>\\n<th align=\\\"center\\\">6</th>\\n<th align=\\\"center\\\">7</th>\\n<th align=\\\"center\\\">Prob.</th>\\n</tr>\\n<tr>\\n<td bgcolor=#FFFFFF>0</td>\\n<td bgcolor=#FFFFFF>0</td>\\n<td bgcolor=#FFFFFF>0</td>\\n<td bgcolor=#FFFFFF>0</td>\\n<td bgcolor=#FFFFFF>0</td>\\n<td bgcolor=#FFFFFF>0</td>\\n<td bgcolor=#d4dbd3>0.309</td>\\n</tr>\\n<tr>\\n<td bgcolor=#FFFFFF>0</td>\\n<td bgcolor=#FFFFFF>0</td>\\n<td bgcolor=#FFFFFF>0</td>\\n<td bgcolor=#FFFFFF>0</td>\\n<td bgcolor=#FFFFFF>0</td>\\n<td bgcolor=#FFFFFF>1</td>\\n<td bgcolor=#f1eac4>0.691</td>\\n</tr>\\n<tr>\\n<td bgcolor=#FFFFFF>0</td>\\n<td bgcolor=#FFFFFF>0</td>\\n<td bgcolor=#FFFFFF>0</td>\\n<td bgcolor=#FFFFFF>0</td>\\n<td bgcolor=#FFFFFF>1</td>\\n<td bgcolor=#FFFFFF>0</td>\\n<td bgcolor=#edd1c6>0.436</td>\\n</tr>\\n<tr>\\n<td bgcolor=#FFFFFF>0</td>\\n<td bgcolor=#FFFFFF>0</td>\\n<td bgcolor=#FFFFFF>0</td>\\n<td bgcolor=#FFFFFF>0</td>\\n<td bgcolor=#FFFFFF>1</td>\\n<td bgcolor=#FFFFFF>1</td>\\n<td bgcolor=#feecb9>0.564</td>\\n</tr>\\n<tr>\\n<td bgcolor=#FFFFFF>0</td>\\n<td bgcolor=#FFFFFF>0</td>\\n<td bgcolor=#FFFFFF>0</td>\\n<td bgcolor=#FFFFFF>1</td>\\n<td bgcolor=#FFFFFF>0</td>\\n<td bgcolor=#FFFFFF>0</td>\\n<td bgcolor=#f2f1f1>0.994</td>\\n</tr>\\n<tr>\\n<td bgcolor=#FFFFFF>0</td>\\n<td bgcolor=#FFFFFF>0</td>\\n<td bgcolor=#FFFFFF>0</td>\\n<td bgcolor=#FFFFFF>1</td>\\n<td bgcolor=#FFFFFF>0</td>\\n<td bgcolor=#FFFFFF>1</td>\\n<td bgcolor=#f8b4af>0.006</td>\\n</tr>\\n<tr>\\n<td bgcolor=#FFFFFF>0</td>\\n<td bgcolor=#FFFFFF>0</td>\\n<td bgcolor=#FFFFFF>0</td>\\n<td bgcolor=#FFFFFF>1</td>\\n<td bgcolor=#FFFFFF>1</td>\\n<td bgcolor=#FFFFFF>0</td>\\n<td bgcolor=#cbc4d0>0.085</td>\\n</tr>\\n<tr>\\n<td bgcolor=#FFFFFF>0</td>\\n<td bgcolor=#FFFFFF>0</td>\\n<td bgcolor=#FFFFFF>0</td>\\n<td bgcolor=#FFFFFF>1</td>\\n<td bgcolor=#FFFFFF>1</td>\\n<td bgcolor=#FFFFFF>1</td>\\n<td bgcolor=#f9e2ee>0.915</td>\\n</tr>\\n<tr>\\n<td bgcolor=#FFFFFF>0</td>\\n<td bgcolor=#FFFFFF>0</td>\\n<td bgcolor=#FFFFFF>1</td>\\n<td bgcolor=#FFFFFF>0</td>\\n<td bgcolor=#FFFFFF>0</td>\\n<td bgcolor=#FFFFFF>0</td>\\n<td bgcolor=#efd8d1>0.804</td>\\n</tr>\\n<tr>\\n<td bgcolor=#FFFFFF>0</td>\\n<td bgcolor=#FFFFFF>0</td>\\n<td bgcolor=#FFFFFF>1</td>\\n<td bgcolor=#FFFFFF>0</td>\\n<td bgcolor=#FFFFFF>0</td>\\n<td bgcolor=#FFFFFF>1</td>\\n<td bgcolor=#c1ded1>0.196</td>\\n</tr>\\n<tr>\\n<td bgcolor=#FFFFFF>0</td>\\n<td bgcolor=#FFFFFF>0</td>\\n<td bgcolor=#FFFFFF>1</td>\\n<td bgcolor=#FFFFFF>0</td>\\n<td bgcolor=#FFFFFF>1</td>\\n<td bgcolor=#FFFFFF>0</td>\\n<td bgcolor=#f4b6b2>0.013</td>\\n</tr>\\n<tr>\\n<td bgcolor=#FFFFFF>0</td>\\n<td bgcolor=#FFFFFF>0</td>\\n<td bgcolor=#FFFFFF>1</td>\\n<td bgcolor=#FFFFFF>0</td>\\n<td bgcolor=#FFFFFF>1</td>\\n<td bgcolor=#FFFFFF>1</td>\\n<td bgcolor=#f3eff1>0.987</td>\\n</tr>\\n<tr>\\n<td bgcolor=#FFFFFF>0</td>\\n<td bgcolor=#FFFFFF>0</td>\\n<td bgcolor=#FFFFFF>1</td>\\n<td bgcolor=#FFFFFF>1</td>\\n<td bgcolor=#FFFFFF>0</td>\\n<td bgcolor=#FFFFFF>0</td>\\n<td bgcolor=#e6d9bd>0.743</td>\\n</tr>\\n<tr>\\n<td bgcolor=#FFFFFF>0</td>\\n<td bgcolor=#FFFFFF>0</td>\\n<td bgcolor=#FFFFFF>1</td>\\n<td bgcolor=#FFFFFF>1</td>\\n<td bgcolor=#FFFFFF>0</td>\\n<td bgcolor=#FFFFFF>1</td>\\n<td bgcolor=#cce9c6>0.257</td>\\n</tr>\\n<tr>\\n<td bgcolor=#FFFFFF>0</td>\\n<td bgcolor=#FFFFFF>0</td>\\n<td bgcolor=#FFFFFF>1</td>\\n<td bgcolor=#FFFFFF>1</td>\\n<td bgcolor=#FFFFFF>1</td>\\n<td bgcolor=#FFFFFF>0</td>\\n<td bgcolor=#d6d8d6>0.321</td>\\n</tr>\\n<tr>\\n<td bgcolor=#FFFFFF>0</td>\\n<td bgcolor=#FFFFFF>0</td>\\n<td bgcolor=#FFFFFF>1</td>\\n<td bgcolor=#FFFFFF>1</td>\\n<td bgcolor=#FFFFFF>1</td>\\n<td bgcolor=#FFFFFF>1</td>\\n<td bgcolor=#f3eec5>0.679</td>\\n</tr>\\n<tr>\\n<td bgcolor=#FFFFFF>0</td>\\n<td bgcolor=#FFFFFF>1</td>\\n<td bgcolor=#FFFFFF>0</td>\\n<td bgcolor=#FFFFFF>0</td>\\n<td bgcolor=#FFFFFF>0</td>\\n<td bgcolor=#FFFFFF>0</td>\\n<td bgcolor=#f2d3bc>0.457</td>\\n</tr>\\n<tr>\\n<td bgcolor=#FFFFFF>0</td>\\n<td bgcolor=#FFFFFF>1</td>\\n<td bgcolor=#FFFFFF>0</td>\\n<td bgcolor=#FFFFFF>0</td>\\n<td bgcolor=#FFFFFF>0</td>\\n<td bgcolor=#FFFFFF>1</td>\\n<td bgcolor=#fee6b3>0.543</td>\\n</tr>\\n<tr>\\n<td bgcolor=#FFFFFF>0</td>\\n<td bgcolor=#FFFFFF>1</td>\\n<td bgcolor=#FFFFFF>0</td>\\n<td bgcolor=#FFFFFF>0</td>\\n<td bgcolor=#FFFFFF>1</td>\\n<td bgcolor=#FFFFFF>0</td>\\n<td bgcolor=#d7d6d8>0.331</td>\\n</tr>\\n<tr>\\n<td bgcolor=#FFFFFF>0</td>\\n<td bgcolor=#FFFFFF>1</td>\\n<td bgcolor=#FFFFFF>0</td>\\n<td bgcolor=#FFFFFF>0</td>\\n<td bgcolor=#FFFFFF>1</td>\\n<td bgcolor=#FFFFFF>1</td>\\n<td bgcolor=#f5f0c6>0.669</td>\\n</tr>\\n<tr>\\n<td bgcolor=#FFFFFF>0</td>\\n<td bgcolor=#FFFFFF>1</td>\\n<td bgcolor=#FFFFFF>0</td>\\n<td bgcolor=#FFFFFF>1</td>\\n<td bgcolor=#FFFFFF>0</td>\\n<td bgcolor=#FFFFFF>0</td>\\n<td bgcolor=#fef5c2>0.593</td>\\n</tr>\\n<tr>\\n<td bgcolor=#FFFFFF>0</td>\\n<td bgcolor=#FFFFFF>1</td>\\n<td bgcolor=#FFFFFF>0</td>\\n<td bgcolor=#FFFFFF>1</td>\\n<td bgcolor=#FFFFFF>0</td>\\n<td bgcolor=#FFFFFF>1</td>\\n<td bgcolor=#e6ced3>0.407</td>\\n</tr>\\n<tr>\\n<td bgcolor=#FFFFFF>0</td>\\n<td bgcolor=#FFFFFF>1</td>\\n<td bgcolor=#FFFFFF>0</td>\\n<td bgcolor=#FFFFFF>1</td>\\n<td bgcolor=#FFFFFF>1</td>\\n<td bgcolor=#FFFFFF>0</td>\\n<td bgcolor=#e7dbbe>0.735</td>\\n</tr>\\n<tr>\\n<td bgcolor=#FFFFFF>0</td>\\n<td bgcolor=#FFFFFF>1</td>\\n<td bgcolor=#FFFFFF>0</td>\\n<td bgcolor=#FFFFFF>1</td>\\n<td bgcolor=#FFFFFF>1</td>\\n<td bgcolor=#FFFFFF>1</td>\\n<td bgcolor=#cde7c8>0.265</td>\\n</tr>\\n<tr>\\n<td bgcolor=#FFFFFF>0</td>\\n<td bgcolor=#FFFFFF>1</td>\\n<td bgcolor=#FFFFFF>1</td>\\n<td bgcolor=#FFFFFF>0</td>\\n<td bgcolor=#FFFFFF>0</td>\\n<td bgcolor=#FFFFFF>0</td>\\n<td bgcolor=#f3d9da>0.825</td>\\n</tr>\\n<tr>\\n<td bgcolor=#FFFFFF>0</td>\\n<td bgcolor=#FFFFFF>1</td>\\n<td bgcolor=#FFFFFF>1</td>\\n<td bgcolor=#FFFFFF>0</td>\\n<td bgcolor=#FFFFFF>0</td>\\n<td bgcolor=#FFFFFF>1</td>\\n<td bgcolor=#bcd8d7>0.175</td>\\n</tr>\\n<tr>\\n<td bgcolor=#FFFFFF>0</td>\\n<td bgcolor=#FFFFFF>1</td>\\n<td bgcolor=#FFFFFF>1</td>\\n<td bgcolor=#FFFFFF>0</td>\\n<td bgcolor=#FFFFFF>1</td>\\n<td bgcolor=#FFFFFF>0</td>\\n<td bgcolor=#fefcc9>0.616</td>\\n</tr>\\n<tr>\\n<td bgcolor=#FFFFFF>0</td>\\n<td bgcolor=#FFFFFF>1</td>\\n<td bgcolor=#FFFFFF>1</td>\\n<td bgcolor=#FFFFFF>0</td>\\n<td bgcolor=#FFFFFF>1</td>\\n<td bgcolor=#FFFFFF>1</td>\\n<td bgcolor=#e0ccdf>0.384</td>\\n</tr>\\n<tr>\\n<td bgcolor=#FFFFFF>0</td>\\n<td bgcolor=#FFFFFF>1</td>\\n<td bgcolor=#FFFFFF>1</td>\\n<td bgcolor=#FFFFFF>1</td>\\n<td bgcolor=#FFFFFF>0</td>\\n<td bgcolor=#FFFFFF>0</td>\\n<td bgcolor=#fef9c6>0.607</td>\\n</tr>\\n<tr>\\n<td bgcolor=#FFFFFF>0</td>\\n<td bgcolor=#FFFFFF>1</td>\\n<td bgcolor=#FFFFFF>1</td>\\n<td bgcolor=#FFFFFF>1</td>\\n<td bgcolor=#FFFFFF>0</td>\\n<td bgcolor=#FFFFFF>1</td>\\n<td bgcolor=#e2ccdb>0.393</td>\\n</tr>\\n<tr>\\n<td bgcolor=#FFFFFF>0</td>\\n<td bgcolor=#FFFFFF>1</td>\\n<td bgcolor=#FFFFFF>1</td>\\n<td bgcolor=#FFFFFF>1</td>\\n<td bgcolor=#FFFFFF>1</td>\\n<td bgcolor=#FFFFFF>0</td>\\n<td bgcolor=#bedad5>0.181</td>\\n</tr>\\n<tr>\\n<td bgcolor=#FFFFFF>0</td>\\n<td bgcolor=#FFFFFF>1</td>\\n<td bgcolor=#FFFFFF>1</td>\\n<td bgcolor=#FFFFFF>1</td>\\n<td bgcolor=#FFFFFF>1</td>\\n<td bgcolor=#FFFFFF>1</td>\\n<td bgcolor=#f2d9d7>0.819</td>\\n</tr>\\n<tr>\\n<td bgcolor=#FFFFFF>1</td>\\n<td bgcolor=#FFFFFF>0</td>\\n<td bgcolor=#FFFFFF>0</td>\\n<td bgcolor=#FFFFFF>0</td>\\n<td bgcolor=#FFFFFF>0</td>\\n<td bgcolor=#FFFFFF>0</td>\\n<td bgcolor=#dbbec5>0.055</td>\\n</tr>\\n<tr>\\n<td bgcolor=#FFFFFF>1</td>\\n<td bgcolor=#FFFFFF>0</td>\\n<td bgcolor=#FFFFFF>0</td>\\n<td bgcolor=#FFFFFF>0</td>\\n<td bgcolor=#FFFFFF>0</td>\\n<td bgcolor=#FFFFFF>1</td>\\n<td bgcolor=#f6e7ef>0.945</td>\\n</tr>\\n<tr>\\n<td bgcolor=#FFFFFF>1</td>\\n<td bgcolor=#FFFFFF>0</td>\\n<td bgcolor=#FFFFFF>0</td>\\n<td bgcolor=#FFFFFF>0</td>\\n<td bgcolor=#FFFFFF>1</td>\\n<td bgcolor=#FFFFFF>0</td>\\n<td bgcolor=#c1ded1>0.199</td>\\n</tr>\\n<tr>\\n<td bgcolor=#FFFFFF>1</td>\\n<td bgcolor=#FFFFFF>0</td>\\n<td bgcolor=#FFFFFF>0</td>\\n<td bgcolor=#FFFFFF>0</td>\\n<td bgcolor=#FFFFFF>1</td>\\n<td bgcolor=#FFFFFF>1</td>\\n<td bgcolor=#efd8d1>0.801</td>\\n</tr>\\n<tr>\\n<td bgcolor=#FFFFFF>1</td>\\n<td bgcolor=#FFFFFF>0</td>\\n<td bgcolor=#FFFFFF>0</td>\\n<td bgcolor=#FFFFFF>1</td>\\n<td bgcolor=#FFFFFF>0</td>\\n<td bgcolor=#FFFFFF>0</td>\\n<td bgcolor=#fee4b1>0.536</td>\\n</tr>\\n<tr>\\n<td bgcolor=#FFFFFF>1</td>\\n<td bgcolor=#FFFFFF>0</td>\\n<td bgcolor=#FFFFFF>0</td>\\n<td bgcolor=#FFFFFF>1</td>\\n<td bgcolor=#FFFFFF>0</td>\\n<td bgcolor=#FFFFFF>1</td>\\n<td bgcolor=#f4d4b8>0.464</td>\\n</tr>\\n<tr>\\n<td bgcolor=#FFFFFF>1</td>\\n<td bgcolor=#FFFFFF>0</td>\\n<td bgcolor=#FFFFFF>0</td>\\n<td bgcolor=#FFFFFF>1</td>\\n<td bgcolor=#FFFFFF>1</td>\\n<td bgcolor=#FFFFFF>0</td>\\n<td bgcolor=#d9d2dc>0.344</td>\\n</tr>\\n<tr>\\n<td bgcolor=#FFFFFF>1</td>\\n<td bgcolor=#FFFFFF>0</td>\\n<td bgcolor=#FFFFFF>0</td>\\n<td bgcolor=#FFFFFF>1</td>\\n<td bgcolor=#FFFFFF>1</td>\\n<td bgcolor=#FFFFFF>1</td>\\n<td bgcolor=#f8f5c8>0.656</td>\\n</tr>\\n<tr>\\n<td bgcolor=#FFFFFF>1</td>\\n<td bgcolor=#FFFFFF>0</td>\\n<td bgcolor=#FFFFFF>1</td>\\n<td bgcolor=#FFFFFF>0</td>\\n<td bgcolor=#FFFFFF>0</td>\\n<td bgcolor=#FFFFFF>0</td>\\n<td bgcolor=#ecd1c8>0.430</td>\\n</tr>\\n<tr>\\n<td bgcolor=#FFFFFF>1</td>\\n<td bgcolor=#FFFFFF>0</td>\\n<td bgcolor=#FFFFFF>1</td>\\n<td bgcolor=#FFFFFF>0</td>\\n<td bgcolor=#FFFFFF>0</td>\\n<td bgcolor=#FFFFFF>1</td>\\n<td bgcolor=#feedba>0.570</td>\\n</tr>\\n<tr>\\n<td bgcolor=#FFFFFF>1</td>\\n<td bgcolor=#FFFFFF>0</td>\\n<td bgcolor=#FFFFFF>1</td>\\n<td bgcolor=#FFFFFF>0</td>\\n<td bgcolor=#FFFFFF>1</td>\\n<td bgcolor=#FFFFFF>0</td>\\n<td bgcolor=#b8d3dc>0.155</td>\\n</tr>\\n<tr>\\n<td bgcolor=#FFFFFF>1</td>\\n<td bgcolor=#FFFFFF>0</td>\\n<td bgcolor=#FFFFFF>1</td>\\n<td bgcolor=#FFFFFF>0</td>\\n<td bgcolor=#FFFFFF>1</td>\\n<td bgcolor=#FFFFFF>1</td>\\n<td bgcolor=#f7d9e1>0.845</td>\\n</tr>\\n<tr>\\n<td bgcolor=#FFFFFF>1</td>\\n<td bgcolor=#FFFFFF>0</td>\\n<td bgcolor=#FFFFFF>1</td>\\n<td bgcolor=#FFFFFF>1</td>\\n<td bgcolor=#FFFFFF>0</td>\\n<td bgcolor=#FFFFFF>0</td>\\n<td bgcolor=#f7d9e1>0.846</td>\\n</tr>\\n<tr>\\n<td bgcolor=#FFFFFF>1</td>\\n<td bgcolor=#FFFFFF>0</td>\\n<td bgcolor=#FFFFFF>1</td>\\n<td bgcolor=#FFFFFF>1</td>\\n<td bgcolor=#FFFFFF>0</td>\\n<td bgcolor=#FFFFFF>1</td>\\n<td bgcolor=#b8d3dc>0.154</td>\\n</tr>\\n<tr>\\n<td bgcolor=#FFFFFF>1</td>\\n<td bgcolor=#FFFFFF>0</td>\\n<td bgcolor=#FFFFFF>1</td>\\n<td bgcolor=#FFFFFF>1</td>\\n<td bgcolor=#FFFFFF>1</td>\\n<td bgcolor=#FFFFFF>0</td>\\n<td bgcolor=#f8d9e2>0.849</td>\\n</tr>\\n<tr>\\n<td bgcolor=#FFFFFF>1</td>\\n<td bgcolor=#FFFFFF>0</td>\\n<td bgcolor=#FFFFFF>1</td>\\n<td bgcolor=#FFFFFF>1</td>\\n<td bgcolor=#FFFFFF>1</td>\\n<td bgcolor=#FFFFFF>1</td>\\n<td bgcolor=#b7d2dd>0.151</td>\\n</tr>\\n<tr>\\n<td bgcolor=#FFFFFF>1</td>\\n<td bgcolor=#FFFFFF>1</td>\\n<td bgcolor=#FFFFFF>0</td>\\n<td bgcolor=#FFFFFF>0</td>\\n<td bgcolor=#FFFFFF>0</td>\\n<td bgcolor=#FFFFFF>0</td>\\n<td bgcolor=#feedba>0.569</td>\\n</tr>\\n<tr>\\n<td bgcolor=#FFFFFF>1</td>\\n<td bgcolor=#FFFFFF>1</td>\\n<td bgcolor=#FFFFFF>0</td>\\n<td bgcolor=#FFFFFF>0</td>\\n<td bgcolor=#FFFFFF>0</td>\\n<td bgcolor=#FFFFFF>1</td>\\n<td bgcolor=#ecd1c8>0.431</td>\\n</tr>\\n<tr>\\n<td bgcolor=#FFFFFF>1</td>\\n<td bgcolor=#FFFFFF>1</td>\\n<td bgcolor=#FFFFFF>0</td>\\n<td bgcolor=#FFFFFF>0</td>\\n<td bgcolor=#FFFFFF>1</td>\\n<td bgcolor=#FFFFFF>0</td>\\n<td bgcolor=#c0c8d9>0.103</td>\\n</tr>\\n<tr>\\n<td bgcolor=#FFFFFF>1</td>\\n<td bgcolor=#FFFFFF>1</td>\\n<td bgcolor=#FFFFFF>0</td>\\n<td bgcolor=#FFFFFF>0</td>\\n<td bgcolor=#FFFFFF>1</td>\\n<td bgcolor=#FFFFFF>1</td>\\n<td bgcolor=#fadeed>0.897</td>\\n</tr>\\n<tr>\\n<td bgcolor=#FFFFFF>1</td>\\n<td bgcolor=#FFFFFF>1</td>\\n<td bgcolor=#FFFFFF>0</td>\\n<td bgcolor=#FFFFFF>1</td>\\n<td bgcolor=#FFFFFF>0</td>\\n<td bgcolor=#FFFFFF>0</td>\\n<td bgcolor=#efd2c2>0.442</td>\\n</tr>\\n<tr>\\n<td bgcolor=#FFFFFF>1</td>\\n<td bgcolor=#FFFFFF>1</td>\\n<td bgcolor=#FFFFFF>0</td>\\n<td bgcolor=#FFFFFF>1</td>\\n<td bgcolor=#FFFFFF>0</td>\\n<td bgcolor=#FFFFFF>1</td>\\n<td bgcolor=#feeab7>0.558</td>\\n</tr>\\n<tr>\\n<td bgcolor=#FFFFFF>1</td>\\n<td bgcolor=#FFFFFF>1</td>\\n<td bgcolor=#FFFFFF>0</td>\\n<td bgcolor=#FFFFFF>1</td>\\n<td bgcolor=#FFFFFF>1</td>\\n<td bgcolor=#FFFFFF>0</td>\\n<td bgcolor=#f3d9da>0.827</td>\\n</tr>\\n<tr>\\n<td bgcolor=#FFFFFF>1</td>\\n<td bgcolor=#FFFFFF>1</td>\\n<td bgcolor=#FFFFFF>0</td>\\n<td bgcolor=#FFFFFF>1</td>\\n<td bgcolor=#FFFFFF>1</td>\\n<td bgcolor=#FFFFFF>1</td>\\n<td bgcolor=#bcd8d7>0.173</td>\\n</tr>\\n<tr>\\n<td bgcolor=#FFFFFF>1</td>\\n<td bgcolor=#FFFFFF>1</td>\\n<td bgcolor=#FFFFFF>1</td>\\n<td bgcolor=#FFFFFF>0</td>\\n<td bgcolor=#FFFFFF>0</td>\\n<td bgcolor=#FFFFFF>0</td>\\n<td bgcolor=#e5ced5>0.404</td>\\n</tr>\\n<tr>\\n<td bgcolor=#FFFFFF>1</td>\\n<td bgcolor=#FFFFFF>1</td>\\n<td bgcolor=#FFFFFF>1</td>\\n<td bgcolor=#FFFFFF>0</td>\\n<td bgcolor=#FFFFFF>0</td>\\n<td bgcolor=#FFFFFF>1</td>\\n<td bgcolor=#fef6c3>0.596</td>\\n</tr>\\n<tr>\\n<td bgcolor=#FFFFFF>1</td>\\n<td bgcolor=#FFFFFF>1</td>\\n<td bgcolor=#FFFFFF>1</td>\\n<td bgcolor=#FFFFFF>0</td>\\n<td bgcolor=#FFFFFF>1</td>\\n<td bgcolor=#FFFFFF>0</td>\\n<td bgcolor=#bbc9dc>0.113</td>\\n</tr>\\n<tr>\\n<td bgcolor=#FFFFFF>1</td>\\n<td bgcolor=#FFFFFF>1</td>\\n<td bgcolor=#FFFFFF>1</td>\\n<td bgcolor=#FFFFFF>0</td>\\n<td bgcolor=#FFFFFF>1</td>\\n<td bgcolor=#FFFFFF>1</td>\\n<td bgcolor=#fbdcec>0.887</td>\\n</tr>\\n<tr>\\n<td bgcolor=#FFFFFF>1</td>\\n<td bgcolor=#FFFFFF>1</td>\\n<td bgcolor=#FFFFFF>1</td>\\n<td bgcolor=#FFFFFF>1</td>\\n<td bgcolor=#FFFFFF>0</td>\\n<td bgcolor=#FFFFFF>0</td>\\n<td bgcolor=#f2f0f1>0.991</td>\\n</tr>\\n<tr>\\n<td bgcolor=#FFFFFF>1</td>\\n<td bgcolor=#FFFFFF>1</td>\\n<td bgcolor=#FFFFFF>1</td>\\n<td bgcolor=#FFFFFF>1</td>\\n<td bgcolor=#FFFFFF>0</td>\\n<td bgcolor=#FFFFFF>1</td>\\n<td bgcolor=#f6b5b1>0.009</td>\\n</tr>\\n<tr>\\n<td bgcolor=#FFFFFF>1</td>\\n<td bgcolor=#FFFFFF>1</td>\\n<td bgcolor=#FFFFFF>1</td>\\n<td bgcolor=#FFFFFF>1</td>\\n<td bgcolor=#FFFFFF>1</td>\\n<td bgcolor=#FFFFFF>0</td>\\n<td bgcolor=#feddaa>0.515</td>\\n</tr>\\n<tr>\\n<td bgcolor=#FFFFFF>1</td>\\n<td bgcolor=#FFFFFF>1</td>\\n<td bgcolor=#FFFFFF>1</td>\\n<td bgcolor=#FFFFFF>1</td>\\n<td bgcolor=#FFFFFF>1</td>\\n<td bgcolor=#FFFFFF>1</td>\\n<td bgcolor=#fad7ac>0.485</td>\\n</tr>\\n</table>\", \"<table border=\\\"1\\\" cellpadding=\\\"4\\\" cellspacing=\\\"0\\\" bordercolor=\\\"#000000\\\">\\n<tr bgcolor=\\\"#AAAAAA\\\">\\n<th align=\\\"center\\\">0</th>\\n<th align=\\\"center\\\">2</th>\\n<th align=\\\"center\\\">3</th>\\n<th align=\\\"center\\\">5</th>\\n<th align=\\\"center\\\">6</th>\\n<th align=\\\"center\\\">7</th>\\n<th align=\\\"center\\\">8</th>\\n<th align=\\\"center\\\">Prob.</th>\\n</tr>\\n<tr>\\n<td bgcolor=#FFFFFF>0</td>\\n<td bgcolor=#FFFFFF>0</td>\\n<td bgcolor=#FFFFFF>0</td>\\n<td bgcolor=#FFFFFF>0</td>\\n<td bgcolor=#FFFFFF>0</td>\\n<td bgcolor=#FFFFFF>0</td>\\n<td bgcolor=#FFFFFF>0</td>\\n<td bgcolor=#fbb4ae>0.000</td>\\n</tr>\\n<tr>\\n<td bgcolor=#FFFFFF>0</td>\\n<td bgcolor=#FFFFFF>0</td>\\n<td bgcolor=#FFFFFF>0</td>\\n<td bgcolor=#FFFFFF>0</td>\\n<td bgcolor=#FFFFFF>0</td>\\n<td bgcolor=#FFFFFF>0</td>\\n<td bgcolor=#FFFFFF>1</td>\\n<td bgcolor=#f2f2f2>1.000</td>\\n</tr>\\n<tr>\\n<td bgcolor=#FFFFFF>0</td>\\n<td bgcolor=#FFFFFF>0</td>\\n<td bgcolor=#FFFFFF>0</td>\\n<td bgcolor=#FFFFFF>0</td>\\n<td bgcolor=#FFFFFF>0</td>\\n<td bgcolor=#FFFFFF>1</td>\\n<td bgcolor=#FFFFFF>0</td>\\n<td bgcolor=#c8e6c9>0.233</td>\\n</tr>\\n<tr>\\n<td bgcolor=#FFFFFF>0</td>\\n<td bgcolor=#FFFFFF>0</td>\\n<td bgcolor=#FFFFFF>0</td>\\n<td bgcolor=#FFFFFF>0</td>\\n<td bgcolor=#FFFFFF>0</td>\\n<td bgcolor=#FFFFFF>1</td>\\n<td bgcolor=#FFFFFF>1</td>\\n<td bgcolor=#e8d8c4>0.767</td>\\n</tr>\\n<tr>\\n<td bgcolor=#FFFFFF>0</td>\\n<td bgcolor=#FFFFFF>0</td>\\n<td bgcolor=#FFFFFF>0</td>\\n<td bgcolor=#FFFFFF>0</td>\\n<td bgcolor=#FFFFFF>1</td>\\n<td bgcolor=#FFFFFF>0</td>\\n<td bgcolor=#FFFFFF>0</td>\\n<td bgcolor=#f7f4c7>0.659</td>\\n</tr>\\n<tr>\\n<td bgcolor=#FFFFFF>0</td>\\n<td bgcolor=#FFFFFF>0</td>\\n<td bgcolor=#FFFFFF>0</td>\\n<td bgcolor=#FFFFFF>0</td>\\n<td bgcolor=#FFFFFF>1</td>\\n<td bgcolor=#FFFFFF>0</td>\\n<td bgcolor=#FFFFFF>1</td>\\n<td bgcolor=#d9d3db>0.341</td>\\n</tr>\\n<tr>\\n<td bgcolor=#FFFFFF>0</td>\\n<td bgcolor=#FFFFFF>0</td>\\n<td bgcolor=#FFFFFF>0</td>\\n<td bgcolor=#FFFFFF>0</td>\\n<td bgcolor=#FFFFFF>1</td>\\n<td bgcolor=#FFFFFF>1</td>\\n<td bgcolor=#FFFFFF>0</td>\\n<td bgcolor=#b7d1de>0.145</td>\\n</tr>\\n<tr>\\n<td bgcolor=#FFFFFF>0</td>\\n<td bgcolor=#FFFFFF>0</td>\\n<td bgcolor=#FFFFFF>0</td>\\n<td bgcolor=#FFFFFF>0</td>\\n<td bgcolor=#FFFFFF>1</td>\\n<td bgcolor=#FFFFFF>1</td>\\n<td bgcolor=#FFFFFF>1</td>\\n<td bgcolor=#f9d9e4>0.855</td>\\n</tr>\\n<tr>\\n<td bgcolor=#FFFFFF>0</td>\\n<td bgcolor=#FFFFFF>0</td>\\n<td bgcolor=#FFFFFF>0</td>\\n<td bgcolor=#FFFFFF>1</td>\\n<td bgcolor=#FFFFFF>0</td>\\n<td bgcolor=#FFFFFF>0</td>\\n<td bgcolor=#FFFFFF>0</td>\\n<td bgcolor=#f3d9da>0.828</td>\\n</tr>\\n<tr>\\n<td bgcolor=#FFFFFF>0</td>\\n<td bgcolor=#FFFFFF>0</td>\\n<td bgcolor=#FFFFFF>0</td>\\n<td bgcolor=#FFFFFF>1</td>\\n<td bgcolor=#FFFFFF>0</td>\\n<td bgcolor=#FFFFFF>0</td>\\n<td bgcolor=#FFFFFF>1</td>\\n<td bgcolor=#bcd8d7>0.172</td>\\n</tr>\\n<tr>\\n<td bgcolor=#FFFFFF>0</td>\\n<td bgcolor=#FFFFFF>0</td>\\n<td bgcolor=#FFFFFF>0</td>\\n<td bgcolor=#FFFFFF>1</td>\\n<td bgcolor=#FFFFFF>0</td>\\n<td bgcolor=#FFFFFF>1</td>\\n<td bgcolor=#FFFFFF>0</td>\\n<td bgcolor=#f4efc6>0.674</td>\\n</tr>\\n<tr>\\n<td bgcolor=#FFFFFF>0</td>\\n<td bgcolor=#FFFFFF>0</td>\\n<td bgcolor=#FFFFFF>0</td>\\n<td bgcolor=#FFFFFF>1</td>\\n<td bgcolor=#FFFFFF>0</td>\\n<td bgcolor=#FFFFFF>1</td>\\n<td bgcolor=#FFFFFF>1</td>\\n<td bgcolor=#d6d7d7>0.326</td>\\n</tr>\\n<tr>\\n<td bgcolor=#FFFFFF>0</td>\\n<td bgcolor=#FFFFFF>0</td>\\n<td bgcolor=#FFFFFF>0</td>\\n<td bgcolor=#FFFFFF>1</td>\\n<td bgcolor=#FFFFFF>1</td>\\n<td bgcolor=#FFFFFF>0</td>\\n<td bgcolor=#FFFFFF>0</td>\\n<td bgcolor=#fef7c4>0.598</td>\\n</tr>\\n<tr>\\n<td bgcolor=#FFFFFF>0</td>\\n<td bgcolor=#FFFFFF>0</td>\\n<td bgcolor=#FFFFFF>0</td>\\n<td bgcolor=#FFFFFF>1</td>\\n<td bgcolor=#FFFFFF>1</td>\\n<td bgcolor=#FFFFFF>0</td>\\n<td bgcolor=#FFFFFF>1</td>\\n<td bgcolor=#e4cdd7>0.402</td>\\n</tr>\\n<tr>\\n<td bgcolor=#FFFFFF>0</td>\\n<td bgcolor=#FFFFFF>0</td>\\n<td bgcolor=#FFFFFF>0</td>\\n<td bgcolor=#FFFFFF>1</td>\\n<td bgcolor=#FFFFFF>1</td>\\n<td bgcolor=#FFFFFF>1</td>\\n<td bgcolor=#FFFFFF>0</td>\\n<td bgcolor=#d0e2cd>0.285</td>\\n</tr>\\n<tr>\\n<td bgcolor=#FFFFFF>0</td>\\n<td bgcolor=#FFFFFF>0</td>\\n<td bgcolor=#FFFFFF>0</td>\\n<td bgcolor=#FFFFFF>1</td>\\n<td bgcolor=#FFFFFF>1</td>\\n<td bgcolor=#FFFFFF>1</td>\\n<td bgcolor=#FFFFFF>1</td>\\n<td bgcolor=#ebe2c0>0.715</td>\\n</tr>\\n<tr>\\n<td bgcolor=#FFFFFF>0</td>\\n<td bgcolor=#FFFFFF>0</td>\\n<td bgcolor=#FFFFFF>1</td>\\n<td bgcolor=#FFFFFF>0</td>\\n<td bgcolor=#FFFFFF>0</td>\\n<td bgcolor=#FFFFFF>0</td>\\n<td bgcolor=#FFFFFF>0</td>\\n<td bgcolor=#feebb8>0.560</td>\\n</tr>\\n<tr>\\n<td bgcolor=#FFFFFF>0</td>\\n<td bgcolor=#FFFFFF>0</td>\\n<td bgcolor=#FFFFFF>1</td>\\n<td bgcolor=#FFFFFF>0</td>\\n<td bgcolor=#FFFFFF>0</td>\\n<td bgcolor=#FFFFFF>0</td>\\n<td bgcolor=#FFFFFF>1</td>\\n<td bgcolor=#eed2c4>0.440</td>\\n</tr>\\n<tr>\\n<td bgcolor=#FFFFFF>0</td>\\n<td bgcolor=#FFFFFF>0</td>\\n<td bgcolor=#FFFFFF>1</td>\\n<td bgcolor=#FFFFFF>0</td>\\n<td bgcolor=#FFFFFF>0</td>\\n<td bgcolor=#FFFFFF>1</td>\\n<td bgcolor=#FFFFFF>0</td>\\n<td bgcolor=#fad7ac>0.488</td>\\n</tr>\\n<tr>\\n<td bgcolor=#FFFFFF>0</td>\\n<td bgcolor=#FFFFFF>0</td>\\n<td bgcolor=#FFFFFF>1</td>\\n<td bgcolor=#FFFFFF>0</td>\\n<td bgcolor=#FFFFFF>0</td>\\n<td bgcolor=#FFFFFF>1</td>\\n<td bgcolor=#FFFFFF>1</td>\\n<td bgcolor=#feddaa>0.512</td>\\n</tr>\\n<tr>\\n<td bgcolor=#FFFFFF>0</td>\\n<td bgcolor=#FFFFFF>0</td>\\n<td bgcolor=#FFFFFF>1</td>\\n<td bgcolor=#FFFFFF>0</td>\\n<td bgcolor=#FFFFFF>1</td>\\n<td bgcolor=#FFFFFF>0</td>\\n<td bgcolor=#FFFFFF>0</td>\\n<td bgcolor=#d4dcd2>0.308</td>\\n</tr>\\n<tr>\\n<td bgcolor=#FFFFFF>0</td>\\n<td bgcolor=#FFFFFF>0</td>\\n<td bgcolor=#FFFFFF>1</td>\\n<td bgcolor=#FFFFFF>0</td>\\n<td bgcolor=#FFFFFF>1</td>\\n<td bgcolor=#FFFFFF>0</td>\\n<td bgcolor=#FFFFFF>1</td>\\n<td bgcolor=#f0e9c3>0.692</td>\\n</tr>\\n<tr>\\n<td bgcolor=#FFFFFF>0</td>\\n<td bgcolor=#FFFFFF>0</td>\\n<td bgcolor=#FFFFFF>1</td>\\n<td bgcolor=#FFFFFF>0</td>\\n<td bgcolor=#FFFFFF>1</td>\\n<td bgcolor=#FFFFFF>1</td>\\n<td bgcolor=#FFFFFF>0</td>\\n<td bgcolor=#efe8c3>0.697</td>\\n</tr>\\n<tr>\\n<td bgcolor=#FFFFFF>0</td>\\n<td bgcolor=#FFFFFF>0</td>\\n<td bgcolor=#FFFFFF>1</td>\\n<td bgcolor=#FFFFFF>0</td>\\n<td bgcolor=#FFFFFF>1</td>\\n<td bgcolor=#FFFFFF>1</td>\\n<td bgcolor=#FFFFFF>1</td>\\n<td bgcolor=#d3ddd1>0.303</td>\\n</tr>\\n<tr>\\n<td bgcolor=#FFFFFF>0</td>\\n<td bgcolor=#FFFFFF>0</td>\\n<td bgcolor=#FFFFFF>1</td>\\n<td bgcolor=#FFFFFF>1</td>\\n<td bgcolor=#FFFFFF>0</td>\\n<td bgcolor=#FFFFFF>0</td>\\n<td bgcolor=#FFFFFF>0</td>\\n<td bgcolor=#f7d9e1>0.845</td>\\n</tr>\\n<tr>\\n<td bgcolor=#FFFFFF>0</td>\\n<td bgcolor=#FFFFFF>0</td>\\n<td bgcolor=#FFFFFF>1</td>\\n<td bgcolor=#FFFFFF>1</td>\\n<td bgcolor=#FFFFFF>0</td>\\n<td bgcolor=#FFFFFF>0</td>\\n<td bgcolor=#FFFFFF>1</td>\\n<td bgcolor=#b8d3dc>0.155</td>\\n</tr>\\n<tr>\\n<td bgcolor=#FFFFFF>0</td>\\n<td bgcolor=#FFFFFF>0</td>\\n<td bgcolor=#FFFFFF>1</td>\\n<td bgcolor=#FFFFFF>1</td>\\n<td bgcolor=#FFFFFF>0</td>\\n<td bgcolor=#FFFFFF>1</td>\\n<td bgcolor=#FFFFFF>0</td>\\n<td bgcolor=#f6e8ef>0.952</td>\\n</tr>\\n<tr>\\n<td bgcolor=#FFFFFF>0</td>\\n<td bgcolor=#FFFFFF>0</td>\\n<td bgcolor=#FFFFFF>1</td>\\n<td bgcolor=#FFFFFF>1</td>\\n<td bgcolor=#FFFFFF>0</td>\\n<td bgcolor=#FFFFFF>1</td>\\n<td bgcolor=#FFFFFF>1</td>\\n<td bgcolor=#dfbdc1>0.048</td>\\n</tr>\\n<tr>\\n<td bgcolor=#FFFFFF>0</td>\\n<td bgcolor=#FFFFFF>0</td>\\n<td bgcolor=#FFFFFF>1</td>\\n<td bgcolor=#FFFFFF>1</td>\\n<td bgcolor=#FFFFFF>1</td>\\n<td bgcolor=#FFFFFF>0</td>\\n<td bgcolor=#FFFFFF>0</td>\\n<td bgcolor=#dbbec5>0.057</td>\\n</tr>\\n<tr>\\n<td bgcolor=#FFFFFF>0</td>\\n<td bgcolor=#FFFFFF>0</td>\\n<td bgcolor=#FFFFFF>1</td>\\n<td bgcolor=#FFFFFF>1</td>\\n<td bgcolor=#FFFFFF>1</td>\\n<td bgcolor=#FFFFFF>0</td>\\n<td bgcolor=#FFFFFF>1</td>\\n<td bgcolor=#f6e7ef>0.943</td>\\n</tr>\\n<tr>\\n<td bgcolor=#FFFFFF>0</td>\\n<td bgcolor=#FFFFFF>0</td>\\n<td bgcolor=#FFFFFF>1</td>\\n<td bgcolor=#FFFFFF>1</td>\\n<td bgcolor=#FFFFFF>1</td>\\n<td bgcolor=#FFFFFF>1</td>\\n<td bgcolor=#FFFFFF>0</td>\\n<td bgcolor=#ecd8cb>0.788</td>\\n</tr>\\n<tr>\\n<td bgcolor=#FFFFFF>0</td>\\n<td bgcolor=#FFFFFF>0</td>\\n<td bgcolor=#FFFFFF>1</td>\\n<td bgcolor=#FFFFFF>1</td>\\n<td bgcolor=#FFFFFF>1</td>\\n<td bgcolor=#FFFFFF>1</td>\\n<td bgcolor=#FFFFFF>1</td>\\n<td bgcolor=#c4e1ce>0.212</td>\\n</tr>\\n<tr>\\n<td bgcolor=#FFFFFF>0</td>\\n<td bgcolor=#FFFFFF>1</td>\\n<td bgcolor=#FFFFFF>0</td>\\n<td bgcolor=#FFFFFF>0</td>\\n<td bgcolor=#FFFFFF>0</td>\\n<td bgcolor=#FFFFFF>0</td>\\n<td bgcolor=#FFFFFF>0</td>\\n<td bgcolor=#d9d2dc>0.347</td>\\n</tr>\\n<tr>\\n<td bgcolor=#FFFFFF>0</td>\\n<td bgcolor=#FFFFFF>1</td>\\n<td bgcolor=#FFFFFF>0</td>\\n<td bgcolor=#FFFFFF>0</td>\\n<td bgcolor=#FFFFFF>0</td>\\n<td bgcolor=#FFFFFF>0</td>\\n<td bgcolor=#FFFFFF>1</td>\\n<td bgcolor=#f8f5c8>0.653</td>\\n</tr>\\n<tr>\\n<td bgcolor=#FFFFFF>0</td>\\n<td bgcolor=#FFFFFF>1</td>\\n<td bgcolor=#FFFFFF>0</td>\\n<td bgcolor=#FFFFFF>0</td>\\n<td bgcolor=#FFFFFF>0</td>\\n<td bgcolor=#FFFFFF>1</td>\\n<td bgcolor=#FFFFFF>0</td>\\n<td bgcolor=#d6d8d6>0.322</td>\\n</tr>\\n<tr>\\n<td bgcolor=#FFFFFF>0</td>\\n<td bgcolor=#FFFFFF>1</td>\\n<td bgcolor=#FFFFFF>0</td>\\n<td bgcolor=#FFFFFF>0</td>\\n<td bgcolor=#FFFFFF>0</td>\\n<td bgcolor=#FFFFFF>1</td>\\n<td bgcolor=#FFFFFF>1</td>\\n<td bgcolor=#f3eec5>0.678</td>\\n</tr>\\n<tr>\\n<td bgcolor=#FFFFFF>0</td>\\n<td bgcolor=#FFFFFF>1</td>\\n<td bgcolor=#FFFFFF>0</td>\\n<td bgcolor=#FFFFFF>0</td>\\n<td bgcolor=#FFFFFF>1</td>\\n<td bgcolor=#FFFFFF>0</td>\\n<td bgcolor=#FFFFFF>0</td>\\n<td bgcolor=#fcdcec>0.886</td>\\n</tr>\\n<tr>\\n<td bgcolor=#FFFFFF>0</td>\\n<td bgcolor=#FFFFFF>1</td>\\n<td bgcolor=#FFFFFF>0</td>\\n<td bgcolor=#FFFFFF>0</td>\\n<td bgcolor=#FFFFFF>1</td>\\n<td bgcolor=#FFFFFF>0</td>\\n<td bgcolor=#FFFFFF>1</td>\\n<td bgcolor=#b9cade>0.114</td>\\n</tr>\\n<tr>\\n<td bgcolor=#FFFFFF>0</td>\\n<td bgcolor=#FFFFFF>1</td>\\n<td bgcolor=#FFFFFF>0</td>\\n<td bgcolor=#FFFFFF>0</td>\\n<td bgcolor=#FFFFFF>1</td>\\n<td bgcolor=#FFFFFF>1</td>\\n<td bgcolor=#FFFFFF>0</td>\\n<td bgcolor=#f6d9e0>0.840</td>\\n</tr>\\n<tr>\\n<td bgcolor=#FFFFFF>0</td>\\n<td bgcolor=#FFFFFF>1</td>\\n<td bgcolor=#FFFFFF>0</td>\\n<td bgcolor=#FFFFFF>0</td>\\n<td bgcolor=#FFFFFF>1</td>\\n<td bgcolor=#FFFFFF>1</td>\\n<td bgcolor=#FFFFFF>1</td>\\n<td bgcolor=#b9d4db>0.160</td>\\n</tr>\\n<tr>\\n<td bgcolor=#FFFFFF>0</td>\\n<td bgcolor=#FFFFFF>1</td>\\n<td bgcolor=#FFFFFF>0</td>\\n<td bgcolor=#FFFFFF>1</td>\\n<td bgcolor=#FFFFFF>0</td>\\n<td bgcolor=#FFFFFF>0</td>\\n<td bgcolor=#FFFFFF>0</td>\\n<td bgcolor=#d4c1ca>0.070</td>\\n</tr>\\n<tr>\\n<td bgcolor=#FFFFFF>0</td>\\n<td bgcolor=#FFFFFF>1</td>\\n<td bgcolor=#FFFFFF>0</td>\\n<td bgcolor=#FFFFFF>1</td>\\n<td bgcolor=#FFFFFF>0</td>\\n<td bgcolor=#FFFFFF>0</td>\\n<td bgcolor=#FFFFFF>1</td>\\n<td bgcolor=#f7e5ee>0.930</td>\\n</tr>\\n<tr>\\n<td bgcolor=#FFFFFF>0</td>\\n<td bgcolor=#FFFFFF>1</td>\\n<td bgcolor=#FFFFFF>0</td>\\n<td bgcolor=#FFFFFF>1</td>\\n<td bgcolor=#FFFFFF>0</td>\\n<td bgcolor=#FFFFFF>1</td>\\n<td bgcolor=#FFFFFF>0</td>\\n<td bgcolor=#fee4b1>0.538</td>\\n</tr>\\n<tr>\\n<td bgcolor=#FFFFFF>0</td>\\n<td bgcolor=#FFFFFF>1</td>\\n<td bgcolor=#FFFFFF>0</td>\\n<td bgcolor=#FFFFFF>1</td>\\n<td bgcolor=#FFFFFF>0</td>\\n<td bgcolor=#FFFFFF>1</td>\\n<td bgcolor=#FFFFFF>1</td>\\n<td bgcolor=#f4d4b8>0.462</td>\\n</tr>\\n<tr>\\n<td bgcolor=#FFFFFF>0</td>\\n<td bgcolor=#FFFFFF>1</td>\\n<td bgcolor=#FFFFFF>0</td>\\n<td bgcolor=#FFFFFF>1</td>\\n<td bgcolor=#FFFFFF>1</td>\\n<td bgcolor=#FFFFFF>0</td>\\n<td bgcolor=#FFFFFF>0</td>\\n<td bgcolor=#fbdcec>0.887</td>\\n</tr>\\n<tr>\\n<td bgcolor=#FFFFFF>0</td>\\n<td bgcolor=#FFFFFF>1</td>\\n<td bgcolor=#FFFFFF>0</td>\\n<td bgcolor=#FFFFFF>1</td>\\n<td bgcolor=#FFFFFF>1</td>\\n<td bgcolor=#FFFFFF>0</td>\\n<td bgcolor=#FFFFFF>1</td>\\n<td bgcolor=#bbc9dc>0.113</td>\\n</tr>\\n<tr>\\n<td bgcolor=#FFFFFF>0</td>\\n<td bgcolor=#FFFFFF>1</td>\\n<td bgcolor=#FFFFFF>0</td>\\n<td bgcolor=#FFFFFF>1</td>\\n<td bgcolor=#FFFFFF>1</td>\\n<td bgcolor=#FFFFFF>1</td>\\n<td bgcolor=#FFFFFF>0</td>\\n<td bgcolor=#fef3c0>0.586</td>\\n</tr>\\n<tr>\\n<td bgcolor=#FFFFFF>0</td>\\n<td bgcolor=#FFFFFF>1</td>\\n<td bgcolor=#FFFFFF>0</td>\\n<td bgcolor=#FFFFFF>1</td>\\n<td bgcolor=#FFFFFF>1</td>\\n<td bgcolor=#FFFFFF>1</td>\\n<td bgcolor=#FFFFFF>1</td>\\n<td bgcolor=#e7cfd1>0.414</td>\\n</tr>\\n<tr>\\n<td bgcolor=#FFFFFF>0</td>\\n<td bgcolor=#FFFFFF>1</td>\\n<td bgcolor=#FFFFFF>1</td>\\n<td bgcolor=#FFFFFF>0</td>\\n<td bgcolor=#FFFFFF>0</td>\\n<td bgcolor=#FFFFFF>0</td>\\n<td bgcolor=#FFFFFF>0</td>\\n<td bgcolor=#ebd0c9>0.429</td>\\n</tr>\\n<tr>\\n<td bgcolor=#FFFFFF>0</td>\\n<td bgcolor=#FFFFFF>1</td>\\n<td bgcolor=#FFFFFF>1</td>\\n<td bgcolor=#FFFFFF>0</td>\\n<td bgcolor=#FFFFFF>0</td>\\n<td bgcolor=#FFFFFF>0</td>\\n<td bgcolor=#FFFFFF>1</td>\\n<td bgcolor=#feefbc>0.571</td>\\n</tr>\\n<tr>\\n<td bgcolor=#FFFFFF>0</td>\\n<td bgcolor=#FFFFFF>1</td>\\n<td bgcolor=#FFFFFF>1</td>\\n<td bgcolor=#FFFFFF>0</td>\\n<td bgcolor=#FFFFFF>0</td>\\n<td bgcolor=#FFFFFF>1</td>\\n<td bgcolor=#FFFFFF>0</td>\\n<td bgcolor=#e6dabe>0.740</td>\\n</tr>\\n<tr>\\n<td bgcolor=#FFFFFF>0</td>\\n<td bgcolor=#FFFFFF>1</td>\\n<td bgcolor=#FFFFFF>1</td>\\n<td bgcolor=#FFFFFF>0</td>\\n<td bgcolor=#FFFFFF>0</td>\\n<td bgcolor=#FFFFFF>1</td>\\n<td bgcolor=#FFFFFF>1</td>\\n<td bgcolor=#cde8c7>0.260</td>\\n</tr>\\n<tr>\\n<td bgcolor=#FFFFFF>0</td>\\n<td bgcolor=#FFFFFF>1</td>\\n<td bgcolor=#FFFFFF>1</td>\\n<td bgcolor=#FFFFFF>0</td>\\n<td bgcolor=#FFFFFF>1</td>\\n<td bgcolor=#FFFFFF>0</td>\\n<td bgcolor=#FFFFFF>0</td>\\n<td bgcolor=#d6c0c8>0.066</td>\\n</tr>\\n<tr>\\n<td bgcolor=#FFFFFF>0</td>\\n<td bgcolor=#FFFFFF>1</td>\\n<td bgcolor=#FFFFFF>1</td>\\n<td bgcolor=#FFFFFF>0</td>\\n<td bgcolor=#FFFFFF>1</td>\\n<td bgcolor=#FFFFFF>0</td>\\n<td bgcolor=#FFFFFF>1</td>\\n<td bgcolor=#f7e5ee>0.934</td>\\n</tr>\\n<tr>\\n<td bgcolor=#FFFFFF>0</td>\\n<td bgcolor=#FFFFFF>1</td>\\n<td bgcolor=#FFFFFF>1</td>\\n<td bgcolor=#FFFFFF>0</td>\\n<td bgcolor=#FFFFFF>1</td>\\n<td bgcolor=#FFFFFF>1</td>\\n<td bgcolor=#FFFFFF>0</td>\\n<td bgcolor=#f0e9c3>0.695</td>\\n</tr>\\n<tr>\\n<td bgcolor=#FFFFFF>0</td>\\n<td bgcolor=#FFFFFF>1</td>\\n<td bgcolor=#FFFFFF>1</td>\\n<td bgcolor=#FFFFFF>0</td>\\n<td bgcolor=#FFFFFF>1</td>\\n<td bgcolor=#FFFFFF>1</td>\\n<td bgcolor=#FFFFFF>1</td>\\n<td bgcolor=#d4dcd2>0.305</td>\\n</tr>\\n<tr>\\n<td bgcolor=#FFFFFF>0</td>\\n<td bgcolor=#FFFFFF>1</td>\\n<td bgcolor=#FFFFFF>1</td>\\n<td bgcolor=#FFFFFF>1</td>\\n<td bgcolor=#FFFFFF>0</td>\\n<td bgcolor=#FFFFFF>0</td>\\n<td bgcolor=#FFFFFF>0</td>\\n<td bgcolor=#d9d3db>0.340</td>\\n</tr>\\n<tr>\\n<td bgcolor=#FFFFFF>0</td>\\n<td bgcolor=#FFFFFF>1</td>\\n<td bgcolor=#FFFFFF>1</td>\\n<td bgcolor=#FFFFFF>1</td>\\n<td bgcolor=#FFFFFF>0</td>\\n<td bgcolor=#FFFFFF>0</td>\\n<td bgcolor=#FFFFFF>1</td>\\n<td bgcolor=#f7f4c7>0.660</td>\\n</tr>\\n<tr>\\n<td bgcolor=#FFFFFF>0</td>\\n<td bgcolor=#FFFFFF>1</td>\\n<td bgcolor=#FFFFFF>1</td>\\n<td bgcolor=#FFFFFF>1</td>\\n<td bgcolor=#FFFFFF>0</td>\\n<td bgcolor=#FFFFFF>1</td>\\n<td bgcolor=#FFFFFF>0</td>\\n<td bgcolor=#cbeac5>0.249</td>\\n</tr>\\n<tr>\\n<td bgcolor=#FFFFFF>0</td>\\n<td bgcolor=#FFFFFF>1</td>\\n<td bgcolor=#FFFFFF>1</td>\\n<td bgcolor=#FFFFFF>1</td>\\n<td bgcolor=#FFFFFF>0</td>\\n<td bgcolor=#FFFFFF>1</td>\\n<td bgcolor=#FFFFFF>1</td>\\n<td bgcolor=#e5d8be>0.751</td>\\n</tr>\\n<tr>\\n<td bgcolor=#FFFFFF>0</td>\\n<td bgcolor=#FFFFFF>1</td>\\n<td bgcolor=#FFFFFF>1</td>\\n<td bgcolor=#FFFFFF>1</td>\\n<td bgcolor=#FFFFFF>1</td>\\n<td bgcolor=#FFFFFF>0</td>\\n<td bgcolor=#FFFFFF>0</td>\\n<td bgcolor=#feefbc>0.573</td>\\n</tr>\\n<tr>\\n<td bgcolor=#FFFFFF>0</td>\\n<td bgcolor=#FFFFFF>1</td>\\n<td bgcolor=#FFFFFF>1</td>\\n<td bgcolor=#FFFFFF>1</td>\\n<td bgcolor=#FFFFFF>1</td>\\n<td bgcolor=#FFFFFF>0</td>\\n<td bgcolor=#FFFFFF>1</td>\\n<td bgcolor=#ebd0c9>0.427</td>\\n</tr>\\n<tr>\\n<td bgcolor=#FFFFFF>0</td>\\n<td bgcolor=#FFFFFF>1</td>\\n<td bgcolor=#FFFFFF>1</td>\\n<td bgcolor=#FFFFFF>1</td>\\n<td bgcolor=#FFFFFF>1</td>\\n<td bgcolor=#FFFFFF>1</td>\\n<td bgcolor=#FFFFFF>0</td>\\n<td bgcolor=#f6d5b4>0.469</td>\\n</tr>\\n<tr>\\n<td bgcolor=#FFFFFF>0</td>\\n<td bgcolor=#FFFFFF>1</td>\\n<td bgcolor=#FFFFFF>1</td>\\n<td bgcolor=#FFFFFF>1</td>\\n<td bgcolor=#FFFFFF>1</td>\\n<td bgcolor=#FFFFFF>1</td>\\n<td bgcolor=#FFFFFF>1</td>\\n<td bgcolor=#fee1ae>0.531</td>\\n</tr>\\n<tr>\\n<td bgcolor=#FFFFFF>1</td>\\n<td bgcolor=#FFFFFF>0</td>\\n<td bgcolor=#FFFFFF>0</td>\\n<td bgcolor=#FFFFFF>0</td>\\n<td bgcolor=#FFFFFF>0</td>\\n<td bgcolor=#FFFFFF>0</td>\\n<td bgcolor=#FFFFFF>0</td>\\n<td bgcolor=#bdd9d6>0.176</td>\\n</tr>\\n<tr>\\n<td bgcolor=#FFFFFF>1</td>\\n<td bgcolor=#FFFFFF>0</td>\\n<td bgcolor=#FFFFFF>0</td>\\n<td bgcolor=#FFFFFF>0</td>\\n<td bgcolor=#FFFFFF>0</td>\\n<td bgcolor=#FFFFFF>0</td>\\n<td bgcolor=#FFFFFF>1</td>\\n<td bgcolor=#f3d9d8>0.824</td>\\n</tr>\\n<tr>\\n<td bgcolor=#FFFFFF>1</td>\\n<td bgcolor=#FFFFFF>0</td>\\n<td bgcolor=#FFFFFF>0</td>\\n<td bgcolor=#FFFFFF>0</td>\\n<td bgcolor=#FFFFFF>0</td>\\n<td bgcolor=#FFFFFF>1</td>\\n<td bgcolor=#FFFFFF>0</td>\\n<td bgcolor=#fcdcec>0.886</td>\\n</tr>\\n<tr>\\n<td bgcolor=#FFFFFF>1</td>\\n<td bgcolor=#FFFFFF>0</td>\\n<td bgcolor=#FFFFFF>0</td>\\n<td bgcolor=#FFFFFF>0</td>\\n<td bgcolor=#FFFFFF>0</td>\\n<td bgcolor=#FFFFFF>1</td>\\n<td bgcolor=#FFFFFF>1</td>\\n<td bgcolor=#b9cade>0.114</td>\\n</tr>\\n<tr>\\n<td bgcolor=#FFFFFF>1</td>\\n<td bgcolor=#FFFFFF>0</td>\\n<td bgcolor=#FFFFFF>0</td>\\n<td bgcolor=#FFFFFF>0</td>\\n<td bgcolor=#FFFFFF>1</td>\\n<td bgcolor=#FFFFFF>0</td>\\n<td bgcolor=#FFFFFF>0</td>\\n<td bgcolor=#efd8d1>0.802</td>\\n</tr>\\n<tr>\\n<td bgcolor=#FFFFFF>1</td>\\n<td bgcolor=#FFFFFF>0</td>\\n<td bgcolor=#FFFFFF>0</td>\\n<td bgcolor=#FFFFFF>0</td>\\n<td bgcolor=#FFFFFF>1</td>\\n<td bgcolor=#FFFFFF>0</td>\\n<td bgcolor=#FFFFFF>1</td>\\n<td bgcolor=#c1ded1>0.198</td>\\n</tr>\\n<tr>\\n<td bgcolor=#FFFFFF>1</td>\\n<td bgcolor=#FFFFFF>0</td>\\n<td bgcolor=#FFFFFF>0</td>\\n<td bgcolor=#FFFFFF>0</td>\\n<td bgcolor=#FFFFFF>1</td>\\n<td bgcolor=#FFFFFF>1</td>\\n<td bgcolor=#FFFFFF>0</td>\\n<td bgcolor=#f7d6b2>0.476</td>\\n</tr>\\n<tr>\\n<td bgcolor=#FFFFFF>1</td>\\n<td bgcolor=#FFFFFF>0</td>\\n<td bgcolor=#FFFFFF>0</td>\\n<td bgcolor=#FFFFFF>0</td>\\n<td bgcolor=#FFFFFF>1</td>\\n<td bgcolor=#FFFFFF>1</td>\\n<td bgcolor=#FFFFFF>1</td>\\n<td bgcolor=#fee0ad>0.524</td>\\n</tr>\\n<tr>\\n<td bgcolor=#FFFFFF>1</td>\\n<td bgcolor=#FFFFFF>0</td>\\n<td bgcolor=#FFFFFF>0</td>\\n<td bgcolor=#FFFFFF>1</td>\\n<td bgcolor=#FFFFFF>0</td>\\n<td bgcolor=#FFFFFF>0</td>\\n<td bgcolor=#FFFFFF>0</td>\\n<td bgcolor=#e6d8bf>0.757</td>\\n</tr>\\n<tr>\\n<td bgcolor=#FFFFFF>1</td>\\n<td bgcolor=#FFFFFF>0</td>\\n<td bgcolor=#FFFFFF>0</td>\\n<td bgcolor=#FFFFFF>1</td>\\n<td bgcolor=#FFFFFF>0</td>\\n<td bgcolor=#FFFFFF>0</td>\\n<td bgcolor=#FFFFFF>1</td>\\n<td bgcolor=#cae9c6>0.243</td>\\n</tr>\\n<tr>\\n<td bgcolor=#FFFFFF>1</td>\\n<td bgcolor=#FFFFFF>0</td>\\n<td bgcolor=#FFFFFF>0</td>\\n<td bgcolor=#FFFFFF>1</td>\\n<td bgcolor=#FFFFFF>0</td>\\n<td bgcolor=#FFFFFF>1</td>\\n<td bgcolor=#FFFFFF>0</td>\\n<td bgcolor=#bbd7d8>0.168</td>\\n</tr>\\n<tr>\\n<td bgcolor=#FFFFFF>1</td>\\n<td bgcolor=#FFFFFF>0</td>\\n<td bgcolor=#FFFFFF>0</td>\\n<td bgcolor=#FFFFFF>1</td>\\n<td bgcolor=#FFFFFF>0</td>\\n<td bgcolor=#FFFFFF>1</td>\\n<td bgcolor=#FFFFFF>1</td>\\n<td bgcolor=#f4d9db>0.832</td>\\n</tr>\\n<tr>\\n<td bgcolor=#FFFFFF>1</td>\\n<td bgcolor=#FFFFFF>0</td>\\n<td bgcolor=#FFFFFF>0</td>\\n<td bgcolor=#FFFFFF>1</td>\\n<td bgcolor=#FFFFFF>1</td>\\n<td bgcolor=#FFFFFF>0</td>\\n<td bgcolor=#FFFFFF>0</td>\\n<td bgcolor=#fedba8>0.511</td>\\n</tr>\\n<tr>\\n<td bgcolor=#FFFFFF>1</td>\\n<td bgcolor=#FFFFFF>0</td>\\n<td bgcolor=#FFFFFF>0</td>\\n<td bgcolor=#FFFFFF>1</td>\\n<td bgcolor=#FFFFFF>1</td>\\n<td bgcolor=#FFFFFF>0</td>\\n<td bgcolor=#FFFFFF>1</td>\\n<td bgcolor=#fbd7aa>0.489</td>\\n</tr>\\n<tr>\\n<td bgcolor=#FFFFFF>1</td>\\n<td bgcolor=#FFFFFF>0</td>\\n<td bgcolor=#FFFFFF>0</td>\\n<td bgcolor=#FFFFFF>1</td>\\n<td bgcolor=#FFFFFF>1</td>\\n<td bgcolor=#FFFFFF>1</td>\\n<td bgcolor=#FFFFFF>0</td>\\n<td bgcolor=#dccde1>0.366</td>\\n</tr>\\n<tr>\\n<td bgcolor=#FFFFFF>1</td>\\n<td bgcolor=#FFFFFF>0</td>\\n<td bgcolor=#FFFFFF>0</td>\\n<td bgcolor=#FFFFFF>1</td>\\n<td bgcolor=#FFFFFF>1</td>\\n<td bgcolor=#FFFFFF>1</td>\\n<td bgcolor=#FFFFFF>1</td>\\n<td bgcolor=#fcfbca>0.634</td>\\n</tr>\\n<tr>\\n<td bgcolor=#FFFFFF>1</td>\\n<td bgcolor=#FFFFFF>0</td>\\n<td bgcolor=#FFFFFF>1</td>\\n<td bgcolor=#FFFFFF>0</td>\\n<td bgcolor=#FFFFFF>0</td>\\n<td bgcolor=#FFFFFF>0</td>\\n<td bgcolor=#FFFFFF>0</td>\\n<td bgcolor=#e2bcc0>0.046</td>\\n</tr>\\n<tr>\\n<td bgcolor=#FFFFFF>1</td>\\n<td bgcolor=#FFFFFF>0</td>\\n<td bgcolor=#FFFFFF>1</td>\\n<td bgcolor=#FFFFFF>0</td>\\n<td bgcolor=#FFFFFF>0</td>\\n<td bgcolor=#FFFFFF>0</td>\\n<td bgcolor=#FFFFFF>1</td>\\n<td bgcolor=#f5e9ef>0.954</td>\\n</tr>\\n<tr>\\n<td bgcolor=#FFFFFF>1</td>\\n<td bgcolor=#FFFFFF>0</td>\\n<td bgcolor=#FFFFFF>1</td>\\n<td bgcolor=#FFFFFF>0</td>\\n<td bgcolor=#FFFFFF>0</td>\\n<td bgcolor=#FFFFFF>1</td>\\n<td bgcolor=#FFFFFF>0</td>\\n<td bgcolor=#fbf9c9>0.641</td>\\n</tr>\\n<tr>\\n<td bgcolor=#FFFFFF>1</td>\\n<td bgcolor=#FFFFFF>0</td>\\n<td bgcolor=#FFFFFF>1</td>\\n<td bgcolor=#FFFFFF>0</td>\\n<td bgcolor=#FFFFFF>0</td>\\n<td bgcolor=#FFFFFF>1</td>\\n<td bgcolor=#FFFFFF>1</td>\\n<td bgcolor=#dbcfdf>0.359</td>\\n</tr>\\n<tr>\\n<td bgcolor=#FFFFFF>1</td>\\n<td bgcolor=#FFFFFF>0</td>\\n<td bgcolor=#FFFFFF>1</td>\\n<td bgcolor=#FFFFFF>0</td>\\n<td bgcolor=#FFFFFF>1</td>\\n<td bgcolor=#FFFFFF>0</td>\\n<td bgcolor=#FFFFFF>0</td>\\n<td bgcolor=#d2dfcf>0.296</td>\\n</tr>\\n<tr>\\n<td bgcolor=#FFFFFF>1</td>\\n<td bgcolor=#FFFFFF>0</td>\\n<td bgcolor=#FFFFFF>1</td>\\n<td bgcolor=#FFFFFF>0</td>\\n<td bgcolor=#FFFFFF>1</td>\\n<td bgcolor=#FFFFFF>0</td>\\n<td bgcolor=#FFFFFF>1</td>\\n<td bgcolor=#eee5c2>0.704</td>\\n</tr>\\n<tr>\\n<td bgcolor=#FFFFFF>1</td>\\n<td bgcolor=#FFFFFF>0</td>\\n<td bgcolor=#FFFFFF>1</td>\\n<td bgcolor=#FFFFFF>0</td>\\n<td bgcolor=#FFFFFF>1</td>\\n<td bgcolor=#FFFFFF>1</td>\\n<td bgcolor=#FFFFFF>0</td>\\n<td bgcolor=#f8e2ee>0.919</td>\\n</tr>\\n<tr>\\n<td bgcolor=#FFFFFF>1</td>\\n<td bgcolor=#FFFFFF>0</td>\\n<td bgcolor=#FFFFFF>1</td>\\n<td bgcolor=#FFFFFF>0</td>\\n<td bgcolor=#FFFFFF>1</td>\\n<td bgcolor=#FFFFFF>1</td>\\n<td bgcolor=#FFFFFF>1</td>\\n<td bgcolor=#cdc3cf>0.081</td>\\n</tr>\\n<tr>\\n<td bgcolor=#FFFFFF>1</td>\\n<td bgcolor=#FFFFFF>0</td>\\n<td bgcolor=#FFFFFF>1</td>\\n<td bgcolor=#FFFFFF>1</td>\\n<td bgcolor=#FFFFFF>0</td>\\n<td bgcolor=#FFFFFF>0</td>\\n<td bgcolor=#FFFFFF>0</td>\\n<td bgcolor=#ddcce2>0.369</td>\\n</tr>\\n<tr>\\n<td bgcolor=#FFFFFF>1</td>\\n<td bgcolor=#FFFFFF>0</td>\\n<td bgcolor=#FFFFFF>1</td>\\n<td bgcolor=#FFFFFF>1</td>\\n<td bgcolor=#FFFFFF>0</td>\\n<td bgcolor=#FFFFFF>0</td>\\n<td bgcolor=#FFFFFF>1</td>\\n<td bgcolor=#fdfdcb>0.631</td>\\n</tr>\\n<tr>\\n<td bgcolor=#FFFFFF>1</td>\\n<td bgcolor=#FFFFFF>0</td>\\n<td bgcolor=#FFFFFF>1</td>\\n<td bgcolor=#FFFFFF>1</td>\\n<td bgcolor=#FFFFFF>0</td>\\n<td bgcolor=#FFFFFF>1</td>\\n<td bgcolor=#FFFFFF>0</td>\\n<td bgcolor=#f2d9d7>0.817</td>\\n</tr>\\n<tr>\\n<td bgcolor=#FFFFFF>1</td>\\n<td bgcolor=#FFFFFF>0</td>\\n<td bgcolor=#FFFFFF>1</td>\\n<td bgcolor=#FFFFFF>1</td>\\n<td bgcolor=#FFFFFF>0</td>\\n<td bgcolor=#FFFFFF>1</td>\\n<td bgcolor=#FFFFFF>1</td>\\n<td bgcolor=#bedad5>0.183</td>\\n</tr>\\n<tr>\\n<td bgcolor=#FFFFFF>1</td>\\n<td bgcolor=#FFFFFF>0</td>\\n<td bgcolor=#FFFFFF>1</td>\\n<td bgcolor=#FFFFFF>1</td>\\n<td bgcolor=#FFFFFF>1</td>\\n<td bgcolor=#FFFFFF>0</td>\\n<td bgcolor=#FFFFFF>0</td>\\n<td bgcolor=#f1b7b4>0.016</td>\\n</tr>\\n<tr>\\n<td bgcolor=#FFFFFF>1</td>\\n<td bgcolor=#FFFFFF>0</td>\\n<td bgcolor=#FFFFFF>1</td>\\n<td bgcolor=#FFFFFF>1</td>\\n<td bgcolor=#FFFFFF>1</td>\\n<td bgcolor=#FFFFFF>0</td>\\n<td bgcolor=#FFFFFF>1</td>\\n<td bgcolor=#f3eef1>0.984</td>\\n</tr>\\n<tr>\\n<td bgcolor=#FFFFFF>1</td>\\n<td bgcolor=#FFFFFF>0</td>\\n<td bgcolor=#FFFFFF>1</td>\\n<td bgcolor=#FFFFFF>1</td>\\n<td bgcolor=#FFFFFF>1</td>\\n<td bgcolor=#FFFFFF>1</td>\\n<td bgcolor=#FFFFFF>0</td>\\n<td bgcolor=#eee5c2>0.705</td>\\n</tr>\\n<tr>\\n<td bgcolor=#FFFFFF>1</td>\\n<td bgcolor=#FFFFFF>0</td>\\n<td bgcolor=#FFFFFF>1</td>\\n<td bgcolor=#FFFFFF>1</td>\\n<td bgcolor=#FFFFFF>1</td>\\n<td bgcolor=#FFFFFF>1</td>\\n<td bgcolor=#FFFFFF>1</td>\\n<td bgcolor=#d2dfcf>0.295</td>\\n</tr>\\n<tr>\\n<td bgcolor=#FFFFFF>1</td>\\n<td bgcolor=#FFFFFF>1</td>\\n<td bgcolor=#FFFFFF>0</td>\\n<td bgcolor=#FFFFFF>0</td>\\n<td bgcolor=#FFFFFF>0</td>\\n<td bgcolor=#FFFFFF>0</td>\\n<td bgcolor=#FFFFFF>0</td>\\n<td bgcolor=#f6e8ef>0.946</td>\\n</tr>\\n<tr>\\n<td bgcolor=#FFFFFF>1</td>\\n<td bgcolor=#FFFFFF>1</td>\\n<td bgcolor=#FFFFFF>0</td>\\n<td bgcolor=#FFFFFF>0</td>\\n<td bgcolor=#FFFFFF>0</td>\\n<td bgcolor=#FFFFFF>0</td>\\n<td bgcolor=#FFFFFF>1</td>\\n<td bgcolor=#ddbec3>0.054</td>\\n</tr>\\n<tr>\\n<td bgcolor=#FFFFFF>1</td>\\n<td bgcolor=#FFFFFF>1</td>\\n<td bgcolor=#FFFFFF>0</td>\\n<td bgcolor=#FFFFFF>0</td>\\n<td bgcolor=#FFFFFF>0</td>\\n<td bgcolor=#FFFFFF>1</td>\\n<td bgcolor=#FFFFFF>0</td>\\n<td bgcolor=#bbd7d8>0.170</td>\\n</tr>\\n<tr>\\n<td bgcolor=#FFFFFF>1</td>\\n<td bgcolor=#FFFFFF>1</td>\\n<td bgcolor=#FFFFFF>0</td>\\n<td bgcolor=#FFFFFF>0</td>\\n<td bgcolor=#FFFFFF>0</td>\\n<td bgcolor=#FFFFFF>1</td>\\n<td bgcolor=#FFFFFF>1</td>\\n<td bgcolor=#f4d9db>0.830</td>\\n</tr>\\n<tr>\\n<td bgcolor=#FFFFFF>1</td>\\n<td bgcolor=#FFFFFF>1</td>\\n<td bgcolor=#FFFFFF>0</td>\\n<td bgcolor=#FFFFFF>0</td>\\n<td bgcolor=#FFFFFF>1</td>\\n<td bgcolor=#FFFFFF>0</td>\\n<td bgcolor=#FFFFFF>0</td>\\n<td bgcolor=#cce9c6>0.256</td>\\n</tr>\\n<tr>\\n<td bgcolor=#FFFFFF>1</td>\\n<td bgcolor=#FFFFFF>1</td>\\n<td bgcolor=#FFFFFF>0</td>\\n<td bgcolor=#FFFFFF>0</td>\\n<td bgcolor=#FFFFFF>1</td>\\n<td bgcolor=#FFFFFF>0</td>\\n<td bgcolor=#FFFFFF>1</td>\\n<td bgcolor=#e6d9bd>0.744</td>\\n</tr>\\n<tr>\\n<td bgcolor=#FFFFFF>1</td>\\n<td bgcolor=#FFFFFF>1</td>\\n<td bgcolor=#FFFFFF>0</td>\\n<td bgcolor=#FFFFFF>0</td>\\n<td bgcolor=#FFFFFF>1</td>\\n<td bgcolor=#FFFFFF>1</td>\\n<td bgcolor=#FFFFFF>0</td>\\n<td bgcolor=#feecb9>0.566</td>\\n</tr>\\n<tr>\\n<td bgcolor=#FFFFFF>1</td>\\n<td bgcolor=#FFFFFF>1</td>\\n<td bgcolor=#FFFFFF>0</td>\\n<td bgcolor=#FFFFFF>0</td>\\n<td bgcolor=#FFFFFF>1</td>\\n<td bgcolor=#FFFFFF>1</td>\\n<td bgcolor=#FFFFFF>1</td>\\n<td bgcolor=#edd1c6>0.434</td>\\n</tr>\\n<tr>\\n<td bgcolor=#FFFFFF>1</td>\\n<td bgcolor=#FFFFFF>1</td>\\n<td bgcolor=#FFFFFF>0</td>\\n<td bgcolor=#FFFFFF>1</td>\\n<td bgcolor=#FFFFFF>0</td>\\n<td bgcolor=#FFFFFF>0</td>\\n<td bgcolor=#FFFFFF>0</td>\\n<td bgcolor=#d8d4da>0.339</td>\\n</tr>\\n<tr>\\n<td bgcolor=#FFFFFF>1</td>\\n<td bgcolor=#FFFFFF>1</td>\\n<td bgcolor=#FFFFFF>0</td>\\n<td bgcolor=#FFFFFF>1</td>\\n<td bgcolor=#FFFFFF>0</td>\\n<td bgcolor=#FFFFFF>0</td>\\n<td bgcolor=#FFFFFF>1</td>\\n<td bgcolor=#f7f3c7>0.661</td>\\n</tr>\\n<tr>\\n<td bgcolor=#FFFFFF>1</td>\\n<td bgcolor=#FFFFFF>1</td>\\n<td bgcolor=#FFFFFF>0</td>\\n<td bgcolor=#FFFFFF>1</td>\\n<td bgcolor=#FFFFFF>0</td>\\n<td bgcolor=#FFFFFF>1</td>\\n<td bgcolor=#FFFFFF>0</td>\\n<td bgcolor=#efb7b6>0.021</td>\\n</tr>\\n<tr>\\n<td bgcolor=#FFFFFF>1</td>\\n<td bgcolor=#FFFFFF>1</td>\\n<td bgcolor=#FFFFFF>0</td>\\n<td bgcolor=#FFFFFF>1</td>\\n<td bgcolor=#FFFFFF>0</td>\\n<td bgcolor=#FFFFFF>1</td>\\n<td bgcolor=#FFFFFF>1</td>\\n<td bgcolor=#f3eef1>0.979</td>\\n</tr>\\n<tr>\\n<td bgcolor=#FFFFFF>1</td>\\n<td bgcolor=#FFFFFF>1</td>\\n<td bgcolor=#FFFFFF>0</td>\\n<td bgcolor=#FFFFFF>1</td>\\n<td bgcolor=#FFFFFF>1</td>\\n<td bgcolor=#FFFFFF>0</td>\\n<td bgcolor=#FFFFFF>0</td>\\n<td bgcolor=#d5d9d5>0.320</td>\\n</tr>\\n<tr>\\n<td bgcolor=#FFFFFF>1</td>\\n<td bgcolor=#FFFFFF>1</td>\\n<td bgcolor=#FFFFFF>0</td>\\n<td bgcolor=#FFFFFF>1</td>\\n<td bgcolor=#FFFFFF>1</td>\\n<td bgcolor=#FFFFFF>0</td>\\n<td bgcolor=#FFFFFF>1</td>\\n<td bgcolor=#f3edc5>0.680</td>\\n</tr>\\n<tr>\\n<td bgcolor=#FFFFFF>1</td>\\n<td bgcolor=#FFFFFF>1</td>\\n<td bgcolor=#FFFFFF>0</td>\\n<td bgcolor=#FFFFFF>1</td>\\n<td bgcolor=#FFFFFF>1</td>\\n<td bgcolor=#FFFFFF>1</td>\\n<td bgcolor=#FFFFFF>0</td>\\n<td bgcolor=#fedeab>0.518</td>\\n</tr>\\n<tr>\\n<td bgcolor=#FFFFFF>1</td>\\n<td bgcolor=#FFFFFF>1</td>\\n<td bgcolor=#FFFFFF>0</td>\\n<td bgcolor=#FFFFFF>1</td>\\n<td bgcolor=#FFFFFF>1</td>\\n<td bgcolor=#FFFFFF>1</td>\\n<td bgcolor=#FFFFFF>1</td>\\n<td bgcolor=#f9d7ae>0.482</td>\\n</tr>\\n<tr>\\n<td bgcolor=#FFFFFF>1</td>\\n<td bgcolor=#FFFFFF>1</td>\\n<td bgcolor=#FFFFFF>1</td>\\n<td bgcolor=#FFFFFF>0</td>\\n<td bgcolor=#FFFFFF>0</td>\\n<td bgcolor=#FFFFFF>0</td>\\n<td bgcolor=#FFFFFF>0</td>\\n<td bgcolor=#b9d4db>0.160</td>\\n</tr>\\n<tr>\\n<td bgcolor=#FFFFFF>1</td>\\n<td bgcolor=#FFFFFF>1</td>\\n<td bgcolor=#FFFFFF>1</td>\\n<td bgcolor=#FFFFFF>0</td>\\n<td bgcolor=#FFFFFF>0</td>\\n<td bgcolor=#FFFFFF>0</td>\\n<td bgcolor=#FFFFFF>1</td>\\n<td bgcolor=#f6d9e0>0.840</td>\\n</tr>\\n<tr>\\n<td bgcolor=#FFFFFF>1</td>\\n<td bgcolor=#FFFFFF>1</td>\\n<td bgcolor=#FFFFFF>1</td>\\n<td bgcolor=#FFFFFF>0</td>\\n<td bgcolor=#FFFFFF>0</td>\\n<td bgcolor=#FFFFFF>1</td>\\n<td bgcolor=#FFFFFF>0</td>\\n<td bgcolor=#ead8c6>0.776</td>\\n</tr>\\n<tr>\\n<td bgcolor=#FFFFFF>1</td>\\n<td bgcolor=#FFFFFF>1</td>\\n<td bgcolor=#FFFFFF>1</td>\\n<td bgcolor=#FFFFFF>0</td>\\n<td bgcolor=#FFFFFF>0</td>\\n<td bgcolor=#FFFFFF>1</td>\\n<td bgcolor=#FFFFFF>1</td>\\n<td bgcolor=#c6e4cb>0.224</td>\\n</tr>\\n<tr>\\n<td bgcolor=#FFFFFF>1</td>\\n<td bgcolor=#FFFFFF>1</td>\\n<td bgcolor=#FFFFFF>1</td>\\n<td bgcolor=#FFFFFF>0</td>\\n<td bgcolor=#FFFFFF>1</td>\\n<td bgcolor=#FFFFFF>0</td>\\n<td bgcolor=#FFFFFF>0</td>\\n<td bgcolor=#ecd1c8>0.431</td>\\n</tr>\\n<tr>\\n<td bgcolor=#FFFFFF>1</td>\\n<td bgcolor=#FFFFFF>1</td>\\n<td bgcolor=#FFFFFF>1</td>\\n<td bgcolor=#FFFFFF>0</td>\\n<td bgcolor=#FFFFFF>1</td>\\n<td bgcolor=#FFFFFF>0</td>\\n<td bgcolor=#FFFFFF>1</td>\\n<td bgcolor=#feedba>0.569</td>\\n</tr>\\n<tr>\\n<td bgcolor=#FFFFFF>1</td>\\n<td bgcolor=#FFFFFF>1</td>\\n<td bgcolor=#FFFFFF>1</td>\\n<td bgcolor=#FFFFFF>0</td>\\n<td bgcolor=#FFFFFF>1</td>\\n<td bgcolor=#FFFFFF>1</td>\\n<td bgcolor=#FFFFFF>0</td>\\n<td bgcolor=#fef6c3>0.594</td>\\n</tr>\\n<tr>\\n<td bgcolor=#FFFFFF>1</td>\\n<td bgcolor=#FFFFFF>1</td>\\n<td bgcolor=#FFFFFF>1</td>\\n<td bgcolor=#FFFFFF>0</td>\\n<td bgcolor=#FFFFFF>1</td>\\n<td bgcolor=#FFFFFF>1</td>\\n<td bgcolor=#FFFFFF>1</td>\\n<td bgcolor=#e5ced5>0.406</td>\\n</tr>\\n<tr>\\n<td bgcolor=#FFFFFF>1</td>\\n<td bgcolor=#FFFFFF>1</td>\\n<td bgcolor=#FFFFFF>1</td>\\n<td bgcolor=#FFFFFF>1</td>\\n<td bgcolor=#FFFFFF>0</td>\\n<td bgcolor=#FFFFFF>0</td>\\n<td bgcolor=#FFFFFF>0</td>\\n<td bgcolor=#dbbec5>0.058</td>\\n</tr>\\n<tr>\\n<td bgcolor=#FFFFFF>1</td>\\n<td bgcolor=#FFFFFF>1</td>\\n<td bgcolor=#FFFFFF>1</td>\\n<td bgcolor=#FFFFFF>1</td>\\n<td bgcolor=#FFFFFF>0</td>\\n<td bgcolor=#FFFFFF>0</td>\\n<td bgcolor=#FFFFFF>1</td>\\n<td bgcolor=#f6e7ef>0.942</td>\\n</tr>\\n<tr>\\n<td bgcolor=#FFFFFF>1</td>\\n<td bgcolor=#FFFFFF>1</td>\\n<td bgcolor=#FFFFFF>1</td>\\n<td bgcolor=#FFFFFF>1</td>\\n<td bgcolor=#FFFFFF>0</td>\\n<td bgcolor=#FFFFFF>1</td>\\n<td bgcolor=#FFFFFF>0</td>\\n<td bgcolor=#ece3c1>0.711</td>\\n</tr>\\n<tr>\\n<td bgcolor=#FFFFFF>1</td>\\n<td bgcolor=#FFFFFF>1</td>\\n<td bgcolor=#FFFFFF>1</td>\\n<td bgcolor=#FFFFFF>1</td>\\n<td bgcolor=#FFFFFF>0</td>\\n<td bgcolor=#FFFFFF>1</td>\\n<td bgcolor=#FFFFFF>1</td>\\n<td bgcolor=#d1e1cd>0.289</td>\\n</tr>\\n<tr>\\n<td bgcolor=#FFFFFF>1</td>\\n<td bgcolor=#FFFFFF>1</td>\\n<td bgcolor=#FFFFFF>1</td>\\n<td bgcolor=#FFFFFF>1</td>\\n<td bgcolor=#FFFFFF>1</td>\\n<td bgcolor=#FFFFFF>0</td>\\n<td bgcolor=#FFFFFF>0</td>\\n<td bgcolor=#f2f2f2>0.998</td>\\n</tr>\\n<tr>\\n<td bgcolor=#FFFFFF>1</td>\\n<td bgcolor=#FFFFFF>1</td>\\n<td bgcolor=#FFFFFF>1</td>\\n<td bgcolor=#FFFFFF>1</td>\\n<td bgcolor=#FFFFFF>1</td>\\n<td bgcolor=#FFFFFF>0</td>\\n<td bgcolor=#FFFFFF>1</td>\\n<td bgcolor=#fbb4ae>0.002</td>\\n</tr>\\n<tr>\\n<td bgcolor=#FFFFFF>1</td>\\n<td bgcolor=#FFFFFF>1</td>\\n<td bgcolor=#FFFFFF>1</td>\\n<td bgcolor=#FFFFFF>1</td>\\n<td bgcolor=#FFFFFF>1</td>\\n<td bgcolor=#FFFFFF>1</td>\\n<td bgcolor=#FFFFFF>0</td>\\n<td bgcolor=#f4d4b8>0.463</td>\\n</tr>\\n<tr>\\n<td bgcolor=#FFFFFF>1</td>\\n<td bgcolor=#FFFFFF>1</td>\\n<td bgcolor=#FFFFFF>1</td>\\n<td bgcolor=#FFFFFF>1</td>\\n<td bgcolor=#FFFFFF>1</td>\\n<td bgcolor=#FFFFFF>1</td>\\n<td bgcolor=#FFFFFF>1</td>\\n<td bgcolor=#fee4b1>0.537</td>\\n</tr>\\n</table>\", \"<table border=\\\"1\\\" cellpadding=\\\"4\\\" cellspacing=\\\"0\\\" bordercolor=\\\"#000000\\\">\\n<tr bgcolor=\\\"#AAAAAA\\\">\\n<th align=\\\"center\\\">0</th>\\n<th align=\\\"center\\\">3</th>\\n<th align=\\\"center\\\">5</th>\\n<th align=\\\"center\\\">6</th>\\n<th align=\\\"center\\\">8</th>\\n<th align=\\\"center\\\">9</th>\\n<th align=\\\"center\\\">Prob.</th>\\n</tr>\\n<tr>\\n<td bgcolor=#FFFFFF>0</td>\\n<td bgcolor=#FFFFFF>0</td>\\n<td bgcolor=#FFFFFF>0</td>\\n<td bgcolor=#FFFFFF>0</td>\\n<td bgcolor=#FFFFFF>0</td>\\n<td bgcolor=#FFFFFF>0</td>\\n<td bgcolor=#fef5c2>0.590</td>\\n</tr>\\n<tr>\\n<td bgcolor=#FFFFFF>0</td>\\n<td bgcolor=#FFFFFF>0</td>\\n<td bgcolor=#FFFFFF>0</td>\\n<td bgcolor=#FFFFFF>0</td>\\n<td bgcolor=#FFFFFF>0</td>\\n<td bgcolor=#FFFFFF>1</td>\\n<td bgcolor=#e6ced3>0.410</td>\\n</tr>\\n<tr>\\n<td bgcolor=#FFFFFF>0</td>\\n<td bgcolor=#FFFFFF>0</td>\\n<td bgcolor=#FFFFFF>0</td>\\n<td bgcolor=#FFFFFF>0</td>\\n<td bgcolor=#FFFFFF>1</td>\\n<td bgcolor=#FFFFFF>0</td>\\n<td bgcolor=#ecd8cb>0.787</td>\\n</tr>\\n<tr>\\n<td bgcolor=#FFFFFF>0</td>\\n<td bgcolor=#FFFFFF>0</td>\\n<td bgcolor=#FFFFFF>0</td>\\n<td bgcolor=#FFFFFF>0</td>\\n<td bgcolor=#FFFFFF>1</td>\\n<td bgcolor=#FFFFFF>1</td>\\n<td bgcolor=#c4e1ce>0.213</td>\\n</tr>\\n<tr>\\n<td bgcolor=#FFFFFF>0</td>\\n<td bgcolor=#FFFFFF>0</td>\\n<td bgcolor=#FFFFFF>0</td>\\n<td bgcolor=#FFFFFF>1</td>\\n<td bgcolor=#FFFFFF>0</td>\\n<td bgcolor=#FFFFFF>0</td>\\n<td bgcolor=#c8e6c9>0.231</td>\\n</tr>\\n<tr>\\n<td bgcolor=#FFFFFF>0</td>\\n<td bgcolor=#FFFFFF>0</td>\\n<td bgcolor=#FFFFFF>0</td>\\n<td bgcolor=#FFFFFF>1</td>\\n<td bgcolor=#FFFFFF>0</td>\\n<td bgcolor=#FFFFFF>1</td>\\n<td bgcolor=#e8d8c4>0.769</td>\\n</tr>\\n<tr>\\n<td bgcolor=#FFFFFF>0</td>\\n<td bgcolor=#FFFFFF>0</td>\\n<td bgcolor=#FFFFFF>0</td>\\n<td bgcolor=#FFFFFF>1</td>\\n<td bgcolor=#FFFFFF>1</td>\\n<td bgcolor=#FFFFFF>0</td>\\n<td bgcolor=#f8f5c8>0.656</td>\\n</tr>\\n<tr>\\n<td bgcolor=#FFFFFF>0</td>\\n<td bgcolor=#FFFFFF>0</td>\\n<td bgcolor=#FFFFFF>0</td>\\n<td bgcolor=#FFFFFF>1</td>\\n<td bgcolor=#FFFFFF>1</td>\\n<td bgcolor=#FFFFFF>1</td>\\n<td bgcolor=#d9d2dc>0.344</td>\\n</tr>\\n<tr>\\n<td bgcolor=#FFFFFF>0</td>\\n<td bgcolor=#FFFFFF>0</td>\\n<td bgcolor=#FFFFFF>1</td>\\n<td bgcolor=#FFFFFF>0</td>\\n<td bgcolor=#FFFFFF>0</td>\\n<td bgcolor=#FFFFFF>0</td>\\n<td bgcolor=#dccde1>0.364</td>\\n</tr>\\n<tr>\\n<td bgcolor=#FFFFFF>0</td>\\n<td bgcolor=#FFFFFF>0</td>\\n<td bgcolor=#FFFFFF>1</td>\\n<td bgcolor=#FFFFFF>0</td>\\n<td bgcolor=#FFFFFF>0</td>\\n<td bgcolor=#FFFFFF>1</td>\\n<td bgcolor=#fcfbca>0.636</td>\\n</tr>\\n<tr>\\n<td bgcolor=#FFFFFF>0</td>\\n<td bgcolor=#FFFFFF>0</td>\\n<td bgcolor=#FFFFFF>1</td>\\n<td bgcolor=#FFFFFF>0</td>\\n<td bgcolor=#FFFFFF>1</td>\\n<td bgcolor=#FFFFFF>0</td>\\n<td bgcolor=#fadfed>0.903</td>\\n</tr>\\n<tr>\\n<td bgcolor=#FFFFFF>0</td>\\n<td bgcolor=#FFFFFF>0</td>\\n<td bgcolor=#FFFFFF>1</td>\\n<td bgcolor=#FFFFFF>0</td>\\n<td bgcolor=#FFFFFF>1</td>\\n<td bgcolor=#FFFFFF>1</td>\\n<td bgcolor=#c4c6d5>0.097</td>\\n</tr>\\n<tr>\\n<td bgcolor=#FFFFFF>0</td>\\n<td bgcolor=#FFFFFF>0</td>\\n<td bgcolor=#FFFFFF>1</td>\\n<td bgcolor=#FFFFFF>1</td>\\n<td bgcolor=#FFFFFF>0</td>\\n<td bgcolor=#FFFFFF>0</td>\\n<td bgcolor=#f9e1ed>0.912</td>\\n</tr>\\n<tr>\\n<td bgcolor=#FFFFFF>0</td>\\n<td bgcolor=#FFFFFF>0</td>\\n<td bgcolor=#FFFFFF>1</td>\\n<td bgcolor=#FFFFFF>1</td>\\n<td bgcolor=#FFFFFF>0</td>\\n<td bgcolor=#FFFFFF>1</td>\\n<td bgcolor=#c9c5d2>0.088</td>\\n</tr>\\n<tr>\\n<td bgcolor=#FFFFFF>0</td>\\n<td bgcolor=#FFFFFF>0</td>\\n<td bgcolor=#FFFFFF>1</td>\\n<td bgcolor=#FFFFFF>1</td>\\n<td bgcolor=#FFFFFF>1</td>\\n<td bgcolor=#FFFFFF>0</td>\\n<td bgcolor=#fbf9c9>0.642</td>\\n</tr>\\n<tr>\\n<td bgcolor=#FFFFFF>0</td>\\n<td bgcolor=#FFFFFF>0</td>\\n<td bgcolor=#FFFFFF>1</td>\\n<td bgcolor=#FFFFFF>1</td>\\n<td bgcolor=#FFFFFF>1</td>\\n<td bgcolor=#FFFFFF>1</td>\\n<td bgcolor=#dbcfdf>0.358</td>\\n</tr>\\n<tr>\\n<td bgcolor=#FFFFFF>0</td>\\n<td bgcolor=#FFFFFF>1</td>\\n<td bgcolor=#FFFFFF>0</td>\\n<td bgcolor=#FFFFFF>0</td>\\n<td bgcolor=#FFFFFF>0</td>\\n<td bgcolor=#FFFFFF>0</td>\\n<td bgcolor=#fed9a6>0.503</td>\\n</tr>\\n<tr>\\n<td bgcolor=#FFFFFF>0</td>\\n<td bgcolor=#FFFFFF>1</td>\\n<td bgcolor=#FFFFFF>0</td>\\n<td bgcolor=#FFFFFF>0</td>\\n<td bgcolor=#FFFFFF>0</td>\\n<td bgcolor=#FFFFFF>1</td>\\n<td bgcolor=#fdd8a6>0.497</td>\\n</tr>\\n<tr>\\n<td bgcolor=#FFFFFF>0</td>\\n<td bgcolor=#FFFFFF>1</td>\\n<td bgcolor=#FFFFFF>0</td>\\n<td bgcolor=#FFFFFF>0</td>\\n<td bgcolor=#FFFFFF>1</td>\\n<td bgcolor=#FFFFFF>0</td>\\n<td bgcolor=#f4efc6>0.674</td>\\n</tr>\\n<tr>\\n<td bgcolor=#FFFFFF>0</td>\\n<td bgcolor=#FFFFFF>1</td>\\n<td bgcolor=#FFFFFF>0</td>\\n<td bgcolor=#FFFFFF>0</td>\\n<td bgcolor=#FFFFFF>1</td>\\n<td bgcolor=#FFFFFF>1</td>\\n<td bgcolor=#d6d7d7>0.326</td>\\n</tr>\\n<tr>\\n<td bgcolor=#FFFFFF>0</td>\\n<td bgcolor=#FFFFFF>1</td>\\n<td bgcolor=#FFFFFF>0</td>\\n<td bgcolor=#FFFFFF>1</td>\\n<td bgcolor=#FFFFFF>0</td>\\n<td bgcolor=#FFFFFF>0</td>\\n<td bgcolor=#e1ccdd>0.388</td>\\n</tr>\\n<tr>\\n<td bgcolor=#FFFFFF>0</td>\\n<td bgcolor=#FFFFFF>1</td>\\n<td bgcolor=#FFFFFF>0</td>\\n<td bgcolor=#FFFFFF>1</td>\\n<td bgcolor=#FFFFFF>0</td>\\n<td bgcolor=#FFFFFF>1</td>\\n<td bgcolor=#fefac7>0.612</td>\\n</tr>\\n<tr>\\n<td bgcolor=#FFFFFF>0</td>\\n<td bgcolor=#FFFFFF>1</td>\\n<td bgcolor=#FFFFFF>0</td>\\n<td bgcolor=#FFFFFF>1</td>\\n<td bgcolor=#FFFFFF>1</td>\\n<td bgcolor=#FFFFFF>0</td>\\n<td bgcolor=#e9d8c5>0.771</td>\\n</tr>\\n<tr>\\n<td bgcolor=#FFFFFF>0</td>\\n<td bgcolor=#FFFFFF>1</td>\\n<td bgcolor=#FFFFFF>0</td>\\n<td bgcolor=#FFFFFF>1</td>\\n<td bgcolor=#FFFFFF>1</td>\\n<td bgcolor=#FFFFFF>1</td>\\n<td bgcolor=#c7e5ca>0.229</td>\\n</tr>\\n<tr>\\n<td bgcolor=#FFFFFF>0</td>\\n<td bgcolor=#FFFFFF>1</td>\\n<td bgcolor=#FFFFFF>1</td>\\n<td bgcolor=#FFFFFF>0</td>\\n<td bgcolor=#FFFFFF>0</td>\\n<td bgcolor=#FFFFFF>0</td>\\n<td bgcolor=#d0e2cd>0.285</td>\\n</tr>\\n<tr>\\n<td bgcolor=#FFFFFF>0</td>\\n<td bgcolor=#FFFFFF>1</td>\\n<td bgcolor=#FFFFFF>1</td>\\n<td bgcolor=#FFFFFF>0</td>\\n<td bgcolor=#FFFFFF>0</td>\\n<td bgcolor=#FFFFFF>1</td>\\n<td bgcolor=#ebe2c0>0.715</td>\\n</tr>\\n<tr>\\n<td bgcolor=#FFFFFF>0</td>\\n<td bgcolor=#FFFFFF>1</td>\\n<td bgcolor=#FFFFFF>1</td>\\n<td bgcolor=#FFFFFF>0</td>\\n<td bgcolor=#FFFFFF>1</td>\\n<td bgcolor=#FFFFFF>0</td>\\n<td bgcolor=#d6d7d7>0.325</td>\\n</tr>\\n<tr>\\n<td bgcolor=#FFFFFF>0</td>\\n<td bgcolor=#FFFFFF>1</td>\\n<td bgcolor=#FFFFFF>1</td>\\n<td bgcolor=#FFFFFF>0</td>\\n<td bgcolor=#FFFFFF>1</td>\\n<td bgcolor=#FFFFFF>1</td>\\n<td bgcolor=#f4efc6>0.675</td>\\n</tr>\\n<tr>\\n<td bgcolor=#FFFFFF>0</td>\\n<td bgcolor=#FFFFFF>1</td>\\n<td bgcolor=#FFFFFF>1</td>\\n<td bgcolor=#FFFFFF>1</td>\\n<td bgcolor=#FFFFFF>0</td>\\n<td bgcolor=#FFFFFF>0</td>\\n<td bgcolor=#f7f3c7>0.661</td>\\n</tr>\\n<tr>\\n<td bgcolor=#FFFFFF>0</td>\\n<td bgcolor=#FFFFFF>1</td>\\n<td bgcolor=#FFFFFF>1</td>\\n<td bgcolor=#FFFFFF>1</td>\\n<td bgcolor=#FFFFFF>0</td>\\n<td bgcolor=#FFFFFF>1</td>\\n<td bgcolor=#d8d4da>0.339</td>\\n</tr>\\n<tr>\\n<td bgcolor=#FFFFFF>0</td>\\n<td bgcolor=#FFFFFF>1</td>\\n<td bgcolor=#FFFFFF>1</td>\\n<td bgcolor=#FFFFFF>1</td>\\n<td bgcolor=#FFFFFF>1</td>\\n<td bgcolor=#FFFFFF>0</td>\\n<td bgcolor=#d4dbd3>0.309</td>\\n</tr>\\n<tr>\\n<td bgcolor=#FFFFFF>0</td>\\n<td bgcolor=#FFFFFF>1</td>\\n<td bgcolor=#FFFFFF>1</td>\\n<td bgcolor=#FFFFFF>1</td>\\n<td bgcolor=#FFFFFF>1</td>\\n<td bgcolor=#FFFFFF>1</td>\\n<td bgcolor=#f1eac4>0.691</td>\\n</tr>\\n<tr>\\n<td bgcolor=#FFFFFF>1</td>\\n<td bgcolor=#FFFFFF>0</td>\\n<td bgcolor=#FFFFFF>0</td>\\n<td bgcolor=#FFFFFF>0</td>\\n<td bgcolor=#FFFFFF>0</td>\\n<td bgcolor=#FFFFFF>0</td>\\n<td bgcolor=#e5d8bd>0.747</td>\\n</tr>\\n<tr>\\n<td bgcolor=#FFFFFF>1</td>\\n<td bgcolor=#FFFFFF>0</td>\\n<td bgcolor=#FFFFFF>0</td>\\n<td bgcolor=#FFFFFF>0</td>\\n<td bgcolor=#FFFFFF>0</td>\\n<td bgcolor=#FFFFFF>1</td>\\n<td bgcolor=#cceac5>0.253</td>\\n</tr>\\n<tr>\\n<td bgcolor=#FFFFFF>1</td>\\n<td bgcolor=#FFFFFF>0</td>\\n<td bgcolor=#FFFFFF>0</td>\\n<td bgcolor=#FFFFFF>0</td>\\n<td bgcolor=#FFFFFF>1</td>\\n<td bgcolor=#FFFFFF>0</td>\\n<td bgcolor=#feefbc>0.571</td>\\n</tr>\\n<tr>\\n<td bgcolor=#FFFFFF>1</td>\\n<td bgcolor=#FFFFFF>0</td>\\n<td bgcolor=#FFFFFF>0</td>\\n<td bgcolor=#FFFFFF>0</td>\\n<td bgcolor=#FFFFFF>1</td>\\n<td bgcolor=#FFFFFF>1</td>\\n<td bgcolor=#ebd0c9>0.429</td>\\n</tr>\\n<tr>\\n<td bgcolor=#FFFFFF>1</td>\\n<td bgcolor=#FFFFFF>0</td>\\n<td bgcolor=#FFFFFF>0</td>\\n<td bgcolor=#FFFFFF>1</td>\\n<td bgcolor=#FFFFFF>0</td>\\n<td bgcolor=#FFFFFF>0</td>\\n<td bgcolor=#d1e1cd>0.287</td>\\n</tr>\\n<tr>\\n<td bgcolor=#FFFFFF>1</td>\\n<td bgcolor=#FFFFFF>0</td>\\n<td bgcolor=#FFFFFF>0</td>\\n<td bgcolor=#FFFFFF>1</td>\\n<td bgcolor=#FFFFFF>0</td>\\n<td bgcolor=#FFFFFF>1</td>\\n<td bgcolor=#ece3c1>0.713</td>\\n</tr>\\n<tr>\\n<td bgcolor=#FFFFFF>1</td>\\n<td bgcolor=#FFFFFF>0</td>\\n<td bgcolor=#FFFFFF>0</td>\\n<td bgcolor=#FFFFFF>1</td>\\n<td bgcolor=#FFFFFF>1</td>\\n<td bgcolor=#FFFFFF>0</td>\\n<td bgcolor=#d7d6d8>0.329</td>\\n</tr>\\n<tr>\\n<td bgcolor=#FFFFFF>1</td>\\n<td bgcolor=#FFFFFF>0</td>\\n<td bgcolor=#FFFFFF>0</td>\\n<td bgcolor=#FFFFFF>1</td>\\n<td bgcolor=#FFFFFF>1</td>\\n<td bgcolor=#FFFFFF>1</td>\\n<td bgcolor=#f5f0c6>0.671</td>\\n</tr>\\n<tr>\\n<td bgcolor=#FFFFFF>1</td>\\n<td bgcolor=#FFFFFF>0</td>\\n<td bgcolor=#FFFFFF>1</td>\\n<td bgcolor=#FFFFFF>0</td>\\n<td bgcolor=#FFFFFF>0</td>\\n<td bgcolor=#FFFFFF>0</td>\\n<td bgcolor=#fee4b1>0.536</td>\\n</tr>\\n<tr>\\n<td bgcolor=#FFFFFF>1</td>\\n<td bgcolor=#FFFFFF>0</td>\\n<td bgcolor=#FFFFFF>1</td>\\n<td bgcolor=#FFFFFF>0</td>\\n<td bgcolor=#FFFFFF>0</td>\\n<td bgcolor=#FFFFFF>1</td>\\n<td bgcolor=#f4d4b8>0.464</td>\\n</tr>\\n<tr>\\n<td bgcolor=#FFFFFF>1</td>\\n<td bgcolor=#FFFFFF>0</td>\\n<td bgcolor=#FFFFFF>1</td>\\n<td bgcolor=#FFFFFF>0</td>\\n<td bgcolor=#FFFFFF>1</td>\\n<td bgcolor=#FFFFFF>0</td>\\n<td bgcolor=#f5e9ef>0.957</td>\\n</tr>\\n<tr>\\n<td bgcolor=#FFFFFF>1</td>\\n<td bgcolor=#FFFFFF>0</td>\\n<td bgcolor=#FFFFFF>1</td>\\n<td bgcolor=#FFFFFF>0</td>\\n<td bgcolor=#FFFFFF>1</td>\\n<td bgcolor=#FFFFFF>1</td>\\n<td bgcolor=#e2bcc0>0.043</td>\\n</tr>\\n<tr>\\n<td bgcolor=#FFFFFF>1</td>\\n<td bgcolor=#FFFFFF>0</td>\\n<td bgcolor=#FFFFFF>1</td>\\n<td bgcolor=#FFFFFF>1</td>\\n<td bgcolor=#FFFFFF>0</td>\\n<td bgcolor=#FFFFFF>0</td>\\n<td bgcolor=#b8d3dc>0.154</td>\\n</tr>\\n<tr>\\n<td bgcolor=#FFFFFF>1</td>\\n<td bgcolor=#FFFFFF>0</td>\\n<td bgcolor=#FFFFFF>1</td>\\n<td bgcolor=#FFFFFF>1</td>\\n<td bgcolor=#FFFFFF>0</td>\\n<td bgcolor=#FFFFFF>1</td>\\n<td bgcolor=#f7d9e1>0.846</td>\\n</tr>\\n<tr>\\n<td bgcolor=#FFFFFF>1</td>\\n<td bgcolor=#FFFFFF>0</td>\\n<td bgcolor=#FFFFFF>1</td>\\n<td bgcolor=#FFFFFF>1</td>\\n<td bgcolor=#FFFFFF>1</td>\\n<td bgcolor=#FFFFFF>0</td>\\n<td bgcolor=#fee5b2>0.541</td>\\n</tr>\\n<tr>\\n<td bgcolor=#FFFFFF>1</td>\\n<td bgcolor=#FFFFFF>0</td>\\n<td bgcolor=#FFFFFF>1</td>\\n<td bgcolor=#FFFFFF>1</td>\\n<td bgcolor=#FFFFFF>1</td>\\n<td bgcolor=#FFFFFF>1</td>\\n<td bgcolor=#f3d4ba>0.459</td>\\n</tr>\\n<tr>\\n<td bgcolor=#FFFFFF>1</td>\\n<td bgcolor=#FFFFFF>1</td>\\n<td bgcolor=#FFFFFF>0</td>\\n<td bgcolor=#FFFFFF>0</td>\\n<td bgcolor=#FFFFFF>0</td>\\n<td bgcolor=#FFFFFF>0</td>\\n<td bgcolor=#fad9e7>0.860</td>\\n</tr>\\n<tr>\\n<td bgcolor=#FFFFFF>1</td>\\n<td bgcolor=#FFFFFF>1</td>\\n<td bgcolor=#FFFFFF>0</td>\\n<td bgcolor=#FFFFFF>0</td>\\n<td bgcolor=#FFFFFF>0</td>\\n<td bgcolor=#FFFFFF>1</td>\\n<td bgcolor=#b5cfe0>0.140</td>\\n</tr>\\n<tr>\\n<td bgcolor=#FFFFFF>1</td>\\n<td bgcolor=#FFFFFF>1</td>\\n<td bgcolor=#FFFFFF>0</td>\\n<td bgcolor=#FFFFFF>0</td>\\n<td bgcolor=#FFFFFF>1</td>\\n<td bgcolor=#FFFFFF>0</td>\\n<td bgcolor=#f9f6c8>0.652</td>\\n</tr>\\n<tr>\\n<td bgcolor=#FFFFFF>1</td>\\n<td bgcolor=#FFFFFF>1</td>\\n<td bgcolor=#FFFFFF>0</td>\\n<td bgcolor=#FFFFFF>0</td>\\n<td bgcolor=#FFFFFF>1</td>\\n<td bgcolor=#FFFFFF>1</td>\\n<td bgcolor=#dad1dd>0.348</td>\\n</tr>\\n<tr>\\n<td bgcolor=#FFFFFF>1</td>\\n<td bgcolor=#FFFFFF>1</td>\\n<td bgcolor=#FFFFFF>0</td>\\n<td bgcolor=#FFFFFF>1</td>\\n<td bgcolor=#FFFFFF>0</td>\\n<td bgcolor=#FFFFFF>0</td>\\n<td bgcolor=#d0c2cd>0.078</td>\\n</tr>\\n<tr>\\n<td bgcolor=#FFFFFF>1</td>\\n<td bgcolor=#FFFFFF>1</td>\\n<td bgcolor=#FFFFFF>0</td>\\n<td bgcolor=#FFFFFF>1</td>\\n<td bgcolor=#FFFFFF>0</td>\\n<td bgcolor=#FFFFFF>1</td>\\n<td bgcolor=#f8e3ee>0.922</td>\\n</tr>\\n<tr>\\n<td bgcolor=#FFFFFF>1</td>\\n<td bgcolor=#FFFFFF>1</td>\\n<td bgcolor=#FFFFFF>0</td>\\n<td bgcolor=#FFFFFF>1</td>\\n<td bgcolor=#FFFFFF>1</td>\\n<td bgcolor=#FFFFFF>0</td>\\n<td bgcolor=#feedba>0.567</td>\\n</tr>\\n<tr>\\n<td bgcolor=#FFFFFF>1</td>\\n<td bgcolor=#FFFFFF>1</td>\\n<td bgcolor=#FFFFFF>0</td>\\n<td bgcolor=#FFFFFF>1</td>\\n<td bgcolor=#FFFFFF>1</td>\\n<td bgcolor=#FFFFFF>1</td>\\n<td bgcolor=#ecd1c8>0.433</td>\\n</tr>\\n<tr>\\n<td bgcolor=#FFFFFF>1</td>\\n<td bgcolor=#FFFFFF>1</td>\\n<td bgcolor=#FFFFFF>1</td>\\n<td bgcolor=#FFFFFF>0</td>\\n<td bgcolor=#FFFFFF>0</td>\\n<td bgcolor=#FFFFFF>0</td>\\n<td bgcolor=#f4edf0>0.975</td>\\n</tr>\\n<tr>\\n<td bgcolor=#FFFFFF>1</td>\\n<td bgcolor=#FFFFFF>1</td>\\n<td bgcolor=#FFFFFF>1</td>\\n<td bgcolor=#FFFFFF>0</td>\\n<td bgcolor=#FFFFFF>0</td>\\n<td bgcolor=#FFFFFF>1</td>\\n<td bgcolor=#edb8b7>0.025</td>\\n</tr>\\n<tr>\\n<td bgcolor=#FFFFFF>1</td>\\n<td bgcolor=#FFFFFF>1</td>\\n<td bgcolor=#FFFFFF>1</td>\\n<td bgcolor=#FFFFFF>0</td>\\n<td bgcolor=#FFFFFF>1</td>\\n<td bgcolor=#FFFFFF>0</td>\\n<td bgcolor=#f4d4b8>0.462</td>\\n</tr>\\n<tr>\\n<td bgcolor=#FFFFFF>1</td>\\n<td bgcolor=#FFFFFF>1</td>\\n<td bgcolor=#FFFFFF>1</td>\\n<td bgcolor=#FFFFFF>0</td>\\n<td bgcolor=#FFFFFF>1</td>\\n<td bgcolor=#FFFFFF>1</td>\\n<td bgcolor=#fee4b1>0.538</td>\\n</tr>\\n<tr>\\n<td bgcolor=#FFFFFF>1</td>\\n<td bgcolor=#FFFFFF>1</td>\\n<td bgcolor=#FFFFFF>1</td>\\n<td bgcolor=#FFFFFF>1</td>\\n<td bgcolor=#FFFFFF>0</td>\\n<td bgcolor=#FFFFFF>0</td>\\n<td bgcolor=#f4efc6>0.672</td>\\n</tr>\\n<tr>\\n<td bgcolor=#FFFFFF>1</td>\\n<td bgcolor=#FFFFFF>1</td>\\n<td bgcolor=#FFFFFF>1</td>\\n<td bgcolor=#FFFFFF>1</td>\\n<td bgcolor=#FFFFFF>0</td>\\n<td bgcolor=#FFFFFF>1</td>\\n<td bgcolor=#d6d7d7>0.328</td>\\n</tr>\\n<tr>\\n<td bgcolor=#FFFFFF>1</td>\\n<td bgcolor=#FFFFFF>1</td>\\n<td bgcolor=#FFFFFF>1</td>\\n<td bgcolor=#FFFFFF>1</td>\\n<td bgcolor=#FFFFFF>1</td>\\n<td bgcolor=#FFFFFF>0</td>\\n<td bgcolor=#b4cfe1>0.133</td>\\n</tr>\\n<tr>\\n<td bgcolor=#FFFFFF>1</td>\\n<td bgcolor=#FFFFFF>1</td>\\n<td bgcolor=#FFFFFF>1</td>\\n<td bgcolor=#FFFFFF>1</td>\\n<td bgcolor=#FFFFFF>1</td>\\n<td bgcolor=#FFFFFF>1</td>\\n<td bgcolor=#fbd9e8>0.867</td>\\n</tr>\\n</table>\"], \"type\": \"htmltooltip\", \"voffset\": 10, \"id\": \"el11945140492416641680pts\", \"hoffset\": 10}], \"axes\": [{\"bbox\": [0.125, 0.125, 0.775, 0.775], \"sharey\": [], \"zoomable\": true, \"collections\": [], \"markers\": [{\"coordinates\": \"data\", \"edgecolor\": \"#000000\", \"yindex\": 1, \"xindex\": 0, \"alpha\": 1.0, \"zorder\": 2, \"markerpath\": [[[0.0, 10.0], [2.652031, 10.0], [5.195798707848534, 8.946336915882418], [7.0710678118654755, 7.0710678118654755], [8.946336915882418, 5.195798707848534], [10.0, 2.652031], [10.0, 0.0], [10.0, -2.652031], [8.946336915882418, -5.195798707848534], [7.0710678118654755, -7.0710678118654755], [5.195798707848534, -8.946336915882418], [2.652031, -10.0], [0.0, -10.0], [-2.652031, -10.0], [-5.195798707848534, -8.946336915882418], [-7.0710678118654755, -7.0710678118654755], [-8.946336915882418, -5.195798707848534], [-10.0, -2.652031], [-10.0, 0.0], [-10.0, 2.652031], [-8.946336915882418, 5.195798707848534], [-7.0710678118654755, 7.0710678118654755], [-5.195798707848534, 8.946336915882418], [-2.652031, 10.0], [0.0, 10.0]], [\"M\", \"C\", \"C\", \"C\", \"C\", \"C\", \"C\", \"C\", \"C\", \"Z\"]], \"id\": \"el11945140492418731424pts\", \"edgewidth\": 1, \"facecolor\": \"#D3D3D3\", \"data\": \"data61\"}, {\"coordinates\": \"data\", \"edgecolor\": \"#000000\", \"yindex\": 1, \"xindex\": 0, \"alpha\": 0.0, \"zorder\": 2, \"markerpath\": [[[0.0, 20.0], [5.304062, 20.0], [10.391597415697069, 17.892673831764835], [14.142135623730951, 14.142135623730951], [17.892673831764835, 10.391597415697069], [20.0, 5.304062], [20.0, 0.0], [20.0, -5.304062], [17.892673831764835, -10.391597415697069], [14.142135623730951, -14.142135623730951], [10.391597415697069, -17.892673831764835], [5.304062, -20.0], [0.0, -20.0], [-5.304062, -20.0], [-10.391597415697069, -17.892673831764835], [-14.142135623730951, -14.142135623730951], [-17.892673831764835, -10.391597415697069], [-20.0, -5.304062], [-20.0, 0.0], [-20.0, 5.304062], [-17.892673831764835, 10.391597415697069], [-14.142135623730951, 14.142135623730951], [-10.391597415697069, 17.892673831764835], [-5.304062, 20.0], [0.0, 20.0]], [\"M\", \"C\", \"C\", \"C\", \"C\", \"C\", \"C\", \"C\", \"C\", \"Z\"]], \"id\": \"el11945140492416641680pts\", \"edgewidth\": 1, \"facecolor\": \"#D3D3D3\", \"data\": \"data61\"}], \"paths\": [], \"xlim\": [-0.800500842973138, 0.8402531187701787], \"texts\": [{\"id\": \"el11945140492416663624\", \"zorder\": 3, \"h_anchor\": \"middle\", \"color\": \"#000000\", \"fontsize\": 10.0, \"coordinates\": \"data\", \"text\": \"0\", \"rotation\": -0.0, \"position\": [0.2883394275517535, 1.0], \"v_baseline\": \"central\", \"alpha\": 1}, {\"id\": \"el11945140492416664912\", \"zorder\": 3, \"h_anchor\": \"middle\", \"color\": \"#000000\", \"fontsize\": 10.0, \"coordinates\": \"data\", \"text\": \"1\", \"rotation\": -0.0, \"position\": [-0.720500842973138, 0.6248291301747088], \"v_baseline\": \"central\", \"alpha\": 1}, {\"id\": \"el11945140492416666256\", \"zorder\": 3, \"h_anchor\": \"middle\", \"color\": \"#000000\", \"fontsize\": 10.0, \"coordinates\": \"data\", \"text\": \"2\", \"rotation\": -0.0, \"position\": [-0.6559186065617822, 0.10388020621154978], \"v_baseline\": \"central\", \"alpha\": 1}, {\"id\": \"el11945140492416667600\", \"zorder\": 3, \"h_anchor\": \"middle\", \"color\": \"#000000\", \"fontsize\": 10.0, \"coordinates\": \"data\", \"text\": \"3\", \"rotation\": -0.0, \"position\": [-0.6029153041384868, -0.8817513739394521], \"v_baseline\": \"central\", \"alpha\": 1}, {\"id\": \"el11945140492416689488\", \"zorder\": 3, \"h_anchor\": \"middle\", \"color\": \"#000000\", \"fontsize\": 10.0, \"coordinates\": \"data\", \"text\": \"4\", \"rotation\": -0.0, \"position\": [-0.18959448814771304, 0.11727534363577667], \"v_baseline\": \"central\", \"alpha\": 1}, {\"id\": \"el11945140492416690832\", \"zorder\": 3, \"h_anchor\": \"middle\", \"color\": \"#000000\", \"fontsize\": 10.0, \"coordinates\": \"data\", \"text\": \"5\", \"rotation\": -0.0, \"position\": [0.34626747260305657, 0.013079202738905903], \"v_baseline\": \"central\", \"alpha\": 1}, {\"id\": \"el11945140492416692176\", \"zorder\": 3, \"h_anchor\": \"middle\", \"color\": \"#000000\", \"fontsize\": 10.0, \"coordinates\": \"data\", \"text\": \"6\", \"rotation\": -0.0, \"position\": [0.7602531187701788, -0.3054992194695447], \"v_baseline\": \"central\", \"alpha\": 1}, {\"id\": \"el11945140492416714064\", \"zorder\": 3, \"h_anchor\": \"middle\", \"color\": \"#000000\", \"fontsize\": 10.0, \"coordinates\": \"data\", \"text\": \"7\", \"rotation\": -0.0, \"position\": [-0.07261619081701791, -0.18611283965492156], \"v_baseline\": \"central\", \"alpha\": 1}, {\"id\": \"el11945140492416715408\", \"zorder\": 3, \"h_anchor\": \"middle\", \"color\": \"#000000\", \"fontsize\": 10.0, \"coordinates\": \"data\", \"text\": \"8\", \"rotation\": -0.0, \"position\": [0.10997925783821633, -0.3502548778212648], \"v_baseline\": \"central\", \"alpha\": 1}, {\"id\": \"el11945140492416716752\", \"zorder\": 3, \"h_anchor\": \"middle\", \"color\": \"#000000\", \"fontsize\": 10.0, \"coordinates\": \"data\", \"text\": \"9\", \"rotation\": -0.0, \"position\": [0.7367061558749326, -0.135445571875757], \"v_baseline\": \"central\", \"alpha\": 1}], \"yscale\": \"linear\", \"images\": [], \"ylim\": [-0.9617513739394521, 1.08], \"axesbg\": \"#FFFFFF\", \"id\": \"el11945140492418963720\", \"axes\": [{\"tickformat\": null, \"grid\": {\"gridOn\": false}, \"tickvalues\": null, \"position\": \"bottom\", \"fontsize\": 10.0, \"nticks\": 5, \"scale\": \"linear\"}, {\"tickformat\": null, \"grid\": {\"gridOn\": false}, \"tickvalues\": null, \"position\": \"left\", \"fontsize\": 10.0, \"nticks\": 6, \"scale\": \"linear\"}], \"xscale\": \"linear\", \"ydomain\": [-0.9617513739394521, 1.08], \"axesbgalpha\": null, \"sharex\": [], \"lines\": [{\"coordinates\": \"data\", \"linewidth\": 1.0, \"yindex\": 1, \"xindex\": 0, \"zorder\": 2, \"dasharray\": \"10,0\", \"color\": \"#808080\", \"id\": \"el11945140492418731536\", \"alpha\": 1, \"data\": \"data01\"}, {\"coordinates\": \"data\", \"linewidth\": 5, \"yindex\": 1, \"xindex\": 0, \"zorder\": 2, \"dasharray\": \"10,0\", \"color\": \"#000000\", \"id\": \"el11945140492418753368\", \"alpha\": 0.5, \"data\": \"data02\"}, {\"coordinates\": \"data\", \"linewidth\": 1.0, \"yindex\": 1, \"xindex\": 0, \"zorder\": 2, \"dasharray\": \"10,0\", \"color\": \"#808080\", \"id\": \"el11945140492418755608\", \"alpha\": 1, \"data\": \"data03\"}, {\"coordinates\": \"data\", \"linewidth\": 5, \"yindex\": 1, \"xindex\": 0, \"zorder\": 2, \"dasharray\": \"10,0\", \"color\": \"#000000\", \"id\": \"el11945140492419050240\", \"alpha\": 0.5, \"data\": \"data04\"}, {\"coordinates\": \"data\", \"linewidth\": 1.0, \"yindex\": 1, \"xindex\": 0, \"zorder\": 2, \"dasharray\": \"10,0\", \"color\": \"#808080\", \"id\": \"el11945140492419073920\", \"alpha\": 1, \"data\": \"data05\"}, {\"coordinates\": \"data\", \"linewidth\": 5, \"yindex\": 1, \"xindex\": 0, \"zorder\": 2, \"dasharray\": \"10,0\", \"color\": \"#000000\", \"id\": \"el11945140492418999016\", \"alpha\": 0.5, \"data\": \"data06\"}, {\"coordinates\": \"data\", \"linewidth\": 1.0, \"yindex\": 1, \"xindex\": 0, \"zorder\": 2, \"dasharray\": \"10,0\", \"color\": \"#808080\", \"id\": \"el11945140492418890104\", \"alpha\": 1, \"data\": \"data07\"}, {\"coordinates\": \"data\", \"linewidth\": 5, \"yindex\": 1, \"xindex\": 0, \"zorder\": 2, \"dasharray\": \"10,0\", \"color\": \"#000000\", \"id\": \"el11945140492418770536\", \"alpha\": 0.5, \"data\": \"data08\"}, {\"coordinates\": \"data\", \"linewidth\": 1.0, \"yindex\": 1, \"xindex\": 0, \"zorder\": 2, \"dasharray\": \"10,0\", \"color\": \"#808080\", \"id\": \"el11945140492418772496\", \"alpha\": 1, \"data\": \"data09\"}, {\"coordinates\": \"data\", \"linewidth\": 5, \"yindex\": 1, \"xindex\": 0, \"zorder\": 2, \"dasharray\": \"10,0\", \"color\": \"#000000\", \"id\": \"el11945140492418790904\", \"alpha\": 0.5, \"data\": \"data10\"}, {\"coordinates\": \"data\", \"linewidth\": 1.0, \"yindex\": 1, \"xindex\": 0, \"zorder\": 2, \"dasharray\": \"10,0\", \"color\": \"#808080\", \"id\": \"el11945140492418792864\", \"alpha\": 1, \"data\": \"data11\"}, {\"coordinates\": \"data\", \"linewidth\": 5, \"yindex\": 1, \"xindex\": 0, \"zorder\": 2, \"dasharray\": \"10,0\", \"color\": \"#000000\", \"id\": \"el11945140492418307464\", \"alpha\": 0.5, \"data\": \"data12\"}, {\"coordinates\": \"data\", \"linewidth\": 1.0, \"yindex\": 1, \"xindex\": 0, \"zorder\": 2, \"dasharray\": \"10,0\", \"color\": \"#808080\", \"id\": \"el11945140492418309424\", \"alpha\": 1, \"data\": \"data13\"}, {\"coordinates\": \"data\", \"linewidth\": 5, \"yindex\": 1, \"xindex\": 0, \"zorder\": 2, \"dasharray\": \"10,0\", \"color\": \"#000000\", \"id\": \"el11945140492418327832\", \"alpha\": 0.5, \"data\": \"data14\"}, {\"coordinates\": \"data\", \"linewidth\": 1.0, \"yindex\": 1, \"xindex\": 0, \"zorder\": 2, \"dasharray\": \"10,0\", \"color\": \"#808080\", \"id\": \"el11945140492418329792\", \"alpha\": 1, \"data\": \"data15\"}, {\"coordinates\": \"data\", \"linewidth\": 5, \"yindex\": 1, \"xindex\": 0, \"zorder\": 2, \"dasharray\": \"10,0\", \"color\": \"#000000\", \"id\": \"el11945140492418348200\", \"alpha\": 0.5, \"data\": \"data16\"}, {\"coordinates\": \"data\", \"linewidth\": 1.0, \"yindex\": 1, \"xindex\": 0, \"zorder\": 2, \"dasharray\": \"10,0\", \"color\": \"#808080\", \"id\": \"el11945140492418350160\", \"alpha\": 1, \"data\": \"data17\"}, {\"coordinates\": \"data\", \"linewidth\": 5, \"yindex\": 1, \"xindex\": 0, \"zorder\": 2, \"dasharray\": \"10,0\", \"color\": \"#000000\", \"id\": \"el11945140492418376760\", \"alpha\": 0.5, \"data\": \"data18\"}, {\"coordinates\": \"data\", \"linewidth\": 1.0, \"yindex\": 1, \"xindex\": 0, \"zorder\": 2, \"dasharray\": \"10,0\", \"color\": \"#808080\", \"id\": \"el11945140492418378720\", \"alpha\": 1, \"data\": \"data19\"}, {\"coordinates\": \"data\", \"linewidth\": 5, \"yindex\": 1, \"xindex\": 0, \"zorder\": 2, \"dasharray\": \"10,0\", \"color\": \"#000000\", \"id\": \"el11945140492418393032\", \"alpha\": 0.5, \"data\": \"data20\"}, {\"coordinates\": \"data\", \"linewidth\": 1.0, \"yindex\": 1, \"xindex\": 0, \"zorder\": 2, \"dasharray\": \"10,0\", \"color\": \"#808080\", \"id\": \"el11945140492418394992\", \"alpha\": 1, \"data\": \"data21\"}, {\"coordinates\": \"data\", \"linewidth\": 5, \"yindex\": 1, \"xindex\": 0, \"zorder\": 2, \"dasharray\": \"10,0\", \"color\": \"#000000\", \"id\": \"el11945140492418417496\", \"alpha\": 0.5, \"data\": \"data22\"}, {\"coordinates\": \"data\", \"linewidth\": 1.0, \"yindex\": 1, \"xindex\": 0, \"zorder\": 2, \"dasharray\": \"10,0\", \"color\": \"#808080\", \"id\": \"el11945140492418419456\", \"alpha\": 1, \"data\": \"data23\"}, {\"coordinates\": \"data\", \"linewidth\": 5, \"yindex\": 1, \"xindex\": 0, \"zorder\": 2, \"dasharray\": \"10,0\", \"color\": \"#000000\", \"id\": \"el11945140492418441960\", \"alpha\": 0.5, \"data\": \"data24\"}, {\"coordinates\": \"data\", \"linewidth\": 1.0, \"yindex\": 1, \"xindex\": 0, \"zorder\": 2, \"dasharray\": \"10,0\", \"color\": \"#808080\", \"id\": \"el11945140492418443920\", \"alpha\": 1, \"data\": \"data25\"}, {\"coordinates\": \"data\", \"linewidth\": 5, \"yindex\": 1, \"xindex\": 0, \"zorder\": 2, \"dasharray\": \"10,0\", \"color\": \"#000000\", \"id\": \"el11945140492418458232\", \"alpha\": 0.5, \"data\": \"data26\"}, {\"coordinates\": \"data\", \"linewidth\": 1.0, \"yindex\": 1, \"xindex\": 0, \"zorder\": 2, \"dasharray\": \"10,0\", \"color\": \"#808080\", \"id\": \"el11945140492418460192\", \"alpha\": 1, \"data\": \"data27\"}, {\"coordinates\": \"data\", \"linewidth\": 5, \"yindex\": 1, \"xindex\": 0, \"zorder\": 2, \"dasharray\": \"10,0\", \"color\": \"#000000\", \"id\": \"el11945140492418482696\", \"alpha\": 0.5, \"data\": \"data28\"}, {\"coordinates\": \"data\", \"linewidth\": 1.0, \"yindex\": 1, \"xindex\": 0, \"zorder\": 2, \"dasharray\": \"10,0\", \"color\": \"#808080\", \"id\": \"el11945140492418484656\", \"alpha\": 1, \"data\": \"data29\"}, {\"coordinates\": \"data\", \"linewidth\": 5, \"yindex\": 1, \"xindex\": 0, \"zorder\": 2, \"dasharray\": \"10,0\", \"color\": \"#000000\", \"id\": \"el11945140492418507160\", \"alpha\": 0.5, \"data\": \"data30\"}, {\"coordinates\": \"data\", \"linewidth\": 1.0, \"yindex\": 1, \"xindex\": 0, \"zorder\": 2, \"dasharray\": \"10,0\", \"color\": \"#808080\", \"id\": \"el11945140492418509120\", \"alpha\": 1, \"data\": \"data31\"}, {\"coordinates\": \"data\", \"linewidth\": 5, \"yindex\": 1, \"xindex\": 0, \"zorder\": 2, \"dasharray\": \"10,0\", \"color\": \"#000000\", \"id\": \"el11945140492418531624\", \"alpha\": 0.5, \"data\": \"data32\"}, {\"coordinates\": \"data\", \"linewidth\": 1.0, \"yindex\": 1, \"xindex\": 0, \"zorder\": 2, \"dasharray\": \"10,0\", \"color\": \"#808080\", \"id\": \"el11945140492418533584\", \"alpha\": 1, \"data\": \"data33\"}, {\"coordinates\": \"data\", \"linewidth\": 5, \"yindex\": 1, \"xindex\": 0, \"zorder\": 2, \"dasharray\": \"10,0\", \"color\": \"#000000\", \"id\": \"el11945140492418551992\", \"alpha\": 0.5, \"data\": \"data34\"}, {\"coordinates\": \"data\", \"linewidth\": 1.0, \"yindex\": 1, \"xindex\": 0, \"zorder\": 2, \"dasharray\": \"10,0\", \"color\": \"#808080\", \"id\": \"el11945140492418553952\", \"alpha\": 1, \"data\": \"data35\"}, {\"coordinates\": \"data\", \"linewidth\": 5, \"yindex\": 1, \"xindex\": 0, \"zorder\": 2, \"dasharray\": \"10,0\", \"color\": \"#000000\", \"id\": \"el11945140492418048072\", \"alpha\": 0.5, \"data\": \"data36\"}, {\"coordinates\": \"data\", \"linewidth\": 1.0, \"yindex\": 1, \"xindex\": 0, \"zorder\": 2, \"dasharray\": \"10,0\", \"color\": \"#808080\", \"id\": \"el11945140492418050032\", \"alpha\": 1, \"data\": \"data37\"}, {\"coordinates\": \"data\", \"linewidth\": 5, \"yindex\": 1, \"xindex\": 0, \"zorder\": 2, \"dasharray\": \"10,0\", \"color\": \"#000000\", \"id\": \"el11945140492418051992\", \"alpha\": 0.5, \"data\": \"data38\"}, {\"coordinates\": \"data\", \"linewidth\": 1.0, \"yindex\": 1, \"xindex\": 0, \"zorder\": 2, \"dasharray\": \"10,0\", \"color\": \"#808080\", \"id\": \"el11945140492418074496\", \"alpha\": 1, \"data\": \"data39\"}, {\"coordinates\": \"data\", \"linewidth\": 5, \"yindex\": 1, \"xindex\": 0, \"zorder\": 2, \"dasharray\": \"10,0\", \"color\": \"#000000\", \"id\": \"el11945140492418076456\", \"alpha\": 0.5, \"data\": \"data40\"}, {\"coordinates\": \"data\", \"linewidth\": 1.0, \"yindex\": 1, \"xindex\": 0, \"zorder\": 2, \"dasharray\": \"10,0\", \"color\": \"#808080\", \"id\": \"el11945140492418094864\", \"alpha\": 1, \"data\": \"data41\"}, {\"coordinates\": \"data\", \"linewidth\": 5, \"yindex\": 1, \"xindex\": 0, \"zorder\": 2, \"dasharray\": \"10,0\", \"color\": \"#000000\", \"id\": \"el11945140492418096824\", \"alpha\": 0.5, \"data\": \"data42\"}, {\"coordinates\": \"data\", \"linewidth\": 1.0, \"yindex\": 1, \"xindex\": 0, \"zorder\": 2, \"dasharray\": \"10,0\", \"color\": \"#808080\", \"id\": \"el11945140492418115232\", \"alpha\": 1, \"data\": \"data43\"}, {\"coordinates\": \"data\", \"linewidth\": 5, \"yindex\": 1, \"xindex\": 0, \"zorder\": 2, \"dasharray\": \"10,0\", \"color\": \"#000000\", \"id\": \"el11945140492418117192\", \"alpha\": 0.5, \"data\": \"data44\"}, {\"coordinates\": \"data\", \"linewidth\": 1.0, \"yindex\": 1, \"xindex\": 0, \"zorder\": 2, \"dasharray\": \"10,0\", \"color\": \"#808080\", \"id\": \"el11945140492418139696\", \"alpha\": 1, \"data\": \"data45\"}, {\"coordinates\": \"data\", \"linewidth\": 5, \"yindex\": 1, \"xindex\": 0, \"zorder\": 2, \"dasharray\": \"10,0\", \"color\": \"#000000\", \"id\": \"el11945140492418141656\", \"alpha\": 0.5, \"data\": \"data46\"}, {\"coordinates\": \"data\", \"linewidth\": 1.0, \"yindex\": 1, \"xindex\": 0, \"zorder\": 2, \"dasharray\": \"10,0\", \"color\": \"#808080\", \"id\": \"el11945140492418155968\", \"alpha\": 1, \"data\": \"data47\"}, {\"coordinates\": \"data\", \"linewidth\": 5, \"yindex\": 1, \"xindex\": 0, \"zorder\": 2, \"dasharray\": \"10,0\", \"color\": \"#000000\", \"id\": \"el11945140492418157928\", \"alpha\": 0.5, \"data\": \"data48\"}, {\"coordinates\": \"data\", \"linewidth\": 1.0, \"yindex\": 1, \"xindex\": 0, \"zorder\": 2, \"dasharray\": \"10,0\", \"color\": \"#808080\", \"id\": \"el11945140492418176336\", \"alpha\": 1, \"data\": \"data49\"}, {\"coordinates\": \"data\", \"linewidth\": 5, \"yindex\": 1, \"xindex\": 0, \"zorder\": 2, \"dasharray\": \"10,0\", \"color\": \"#000000\", \"id\": \"el11945140492418178296\", \"alpha\": 0.5, \"data\": \"data50\"}, {\"coordinates\": \"data\", \"linewidth\": 1.0, \"yindex\": 1, \"xindex\": 0, \"zorder\": 2, \"dasharray\": \"10,0\", \"color\": \"#808080\", \"id\": \"el11945140492418204896\", \"alpha\": 1, \"data\": \"data51\"}, {\"coordinates\": \"data\", \"linewidth\": 5, \"yindex\": 1, \"xindex\": 0, \"zorder\": 2, \"dasharray\": \"10,0\", \"color\": \"#000000\", \"id\": \"el11945140492418206856\", \"alpha\": 0.5, \"data\": \"data52\"}, {\"coordinates\": \"data\", \"linewidth\": 1.0, \"yindex\": 1, \"xindex\": 0, \"zorder\": 2, \"dasharray\": \"10,0\", \"color\": \"#808080\", \"id\": \"el11945140492418233456\", \"alpha\": 1, \"data\": \"data53\"}, {\"coordinates\": \"data\", \"linewidth\": 5, \"yindex\": 1, \"xindex\": 0, \"zorder\": 2, \"dasharray\": \"10,0\", \"color\": \"#000000\", \"id\": \"el11945140492418235416\", \"alpha\": 0.5, \"data\": \"data54\"}, {\"coordinates\": \"data\", \"linewidth\": 1.0, \"yindex\": 1, \"xindex\": 0, \"zorder\": 2, \"dasharray\": \"10,0\", \"color\": \"#808080\", \"id\": \"el11945140492418249728\", \"alpha\": 1, \"data\": \"data55\"}, {\"coordinates\": \"data\", \"linewidth\": 5, \"yindex\": 1, \"xindex\": 0, \"zorder\": 2, \"dasharray\": \"10,0\", \"color\": \"#000000\", \"id\": \"el11945140492418251688\", \"alpha\": 0.5, \"data\": \"data56\"}, {\"coordinates\": \"data\", \"linewidth\": 1.0, \"yindex\": 1, \"xindex\": 0, \"zorder\": 2, \"dasharray\": \"10,0\", \"color\": \"#808080\", \"id\": \"el11945140492418274192\", \"alpha\": 1, \"data\": \"data57\"}, {\"coordinates\": \"data\", \"linewidth\": 5, \"yindex\": 1, \"xindex\": 0, \"zorder\": 2, \"dasharray\": \"10,0\", \"color\": \"#000000\", \"id\": \"el11945140492418276152\", \"alpha\": 0.5, \"data\": \"data58\"}, {\"coordinates\": \"data\", \"linewidth\": 1.0, \"yindex\": 1, \"xindex\": 0, \"zorder\": 2, \"dasharray\": \"10,0\", \"color\": \"#808080\", \"id\": \"el11945140492418294560\", \"alpha\": 1, \"data\": \"data59\"}, {\"coordinates\": \"data\", \"linewidth\": 5, \"yindex\": 1, \"xindex\": 0, \"zorder\": 2, \"dasharray\": \"10,0\", \"color\": \"#000000\", \"id\": \"el11945140492418296520\", \"alpha\": 0.5, \"data\": \"data60\"}], \"xdomain\": [-0.800500842973138, 0.8402531187701787]}], \"id\": \"el11945140492418962544\", \"width\": 960.0, \"data\": {\"data14\": [[0.1367332832952469, -0.1477166461480751], [0.10997925783821633, -0.3502548778212648]], \"data09\": [[0.2883394275517535, 1.0], [0.7602531187701788, -0.3054992194695447]], \"data05\": [[0.2883394275517535, 1.0], [-0.18959448814771304, 0.11727534363577667]], \"data39\": [[-0.6029153041384868, -0.8817513739394521], [0.34626747260305657, 0.013079202738905903]], \"data48\": [[0.6781403533841512, -0.11316685568355758], [0.7367061558749326, -0.135445571875757]], \"data11\": [[0.2883394275517535, 1.0], [-0.07261619081701791, -0.18611283965492156]], \"data07\": [[0.2883394275517535, 1.0], [0.34626747260305657, 0.013079202738905903]], \"data45\": [[0.34626747260305657, 0.013079202738905903], [0.10997925783821633, -0.3502548778212648]], \"data29\": [[-0.6559186065617822, 0.10388020621154978], [0.34626747260305657, 0.013079202738905903]], \"data06\": [[-0.11790440079279306, 0.24968404209041017], [-0.18959448814771304, 0.11727534363577667]], \"data41\": [[-0.18959448814771304, 0.11727534363577667], [0.7602531187701788, -0.3054992194695447]], \"data17\": [[-0.720500842973138, 0.6248291301747088], [-0.6559186065617822, 0.10388020621154978]], \"data50\": [[0.6981552718451104, -0.25771245613827715], [0.7602531187701788, -0.3054992194695447]], \"data49\": [[0.34626747260305657, 0.013079202738905903], [0.7602531187701788, -0.3054992194695447]], \"data42\": [[0.6177759777324949, -0.2420830350037465], [0.7602531187701788, -0.3054992194695447]], \"data60\": [[0.6426971211694251, -0.16766696776758316], [0.7367061558749326, -0.135445571875757]], \"data47\": [[0.34626747260305657, 0.013079202738905903], [0.7367061558749326, -0.135445571875757]], \"data55\": [[0.7602531187701788, -0.3054992194695447], [-0.07261619081701791, -0.18611283965492156]], \"data08\": [[0.3375782658453611, 0.16111732232807], [0.34626747260305657, 0.013079202738905903]], \"data53\": [[0.7602531187701788, -0.3054992194695447], [0.7367061558749326, -0.135445571875757]], \"data20\": [[-0.6205531349636845, -0.655764298322328], [-0.6029153041384868, -0.8817513739394521]], \"data22\": [[-0.2692304413715268, 0.19340841161661648], [-0.18959448814771304, 0.11727534363577667]], \"data13\": [[0.2883394275517535, 1.0], [0.10997925783821633, -0.3502548778212648]], \"data33\": [[-0.6029153041384868, -0.8817513739394521], [0.10997925783821633, -0.3502548778212648]], \"data30\": [[0.19593956072833077, 0.026699353259802484], [0.34626747260305657, 0.013079202738905903]], \"data01\": [[0.2883394275517535, 1.0], [-0.720500842973138, 0.6248291301747088]], \"data31\": [[-0.6559186065617822, 0.10388020621154978], [-0.07261619081701791, -0.18611283965492156]], \"data10\": [[0.6894660650874149, -0.10967433654911302], [0.7602531187701788, -0.3054992194695447]], \"data58\": [[0.08258994053993118, -0.32563357209631333], [0.10997925783821633, -0.3502548778212648]], \"data46\": [[0.14542249005294236, -0.2957547657372392], [0.10997925783821633, -0.3502548778212648]], \"data52\": [[0.2075203369780107, -0.34354152906850677], [0.10997925783821633, -0.3502548778212648]], \"data36\": [[0.5357629368729196, -0.24739144218531128], [0.7367061558749326, -0.135445571875757]], \"data19\": [[-0.720500842973138, 0.6248291301747088], [-0.6029153041384868, -0.8817513739394521]], \"data25\": [[-0.6559186065617822, 0.10388020621154978], [0.10997925783821633, -0.3502548778212648]], \"data59\": [[0.10997925783821633, -0.3502548778212648], [0.7367061558749326, -0.135445571875757]], \"data28\": [[-0.25954310590982343, 0.11526607302214263], [-0.18959448814771304, 0.11727534363577667]], \"data16\": [[0.6694511466264558, 0.03487126390560655], [0.7367061558749326, -0.135445571875757]], \"data03\": [[0.2883394275517535, 1.0], [-0.6559186065617822, 0.10388020621154978]], \"data34\": [[0.003045073541710866, -0.4299793522389929], [0.10997925783821633, -0.3502548778212648]], \"data04\": [[-0.5142799014447519, 0.2382981752798173], [-0.6559186065617822, 0.10388020621154978]], \"data32\": [[-0.16011155317873255, -0.14261388277495085], [-0.07261619081701791, -0.18611283965492156]], \"data56\": [[0.05231420562106158, -0.20402079662711503], [-0.07261619081701791, -0.18611283965492156]], \"data37\": [[-0.6029153041384868, -0.8817513739394521], [-0.18959448814771304, 0.11727534363577667]], \"data02\": [[-0.5691748023944043, 0.6811047606485024], [-0.720500842973138, 0.6248291301747088]], \"data23\": [[-0.720500842973138, 0.6248291301747088], [-0.07261619081701791, -0.18611283965492156]], \"data12\": [[-0.018472848061702192, -0.008195913706683322], [-0.07261619081701791, -0.18611283965492156]], \"data38\": [[-0.2515926105463291, -0.03257866400050764], [-0.18959448814771304, 0.11727534363577667]], \"data54\": [[0.7402382003092195, -0.16095361901482516], [0.7367061558749326, -0.135445571875757]], \"data24\": [[-0.1697988886404359, -0.06447154418047703], [-0.07261619081701791, -0.18611283965492156]], \"data15\": [[0.2883394275517535, 1.0], [0.7367061558749326, -0.135445571875757]], \"data57\": [[-0.07261619081701791, -0.18611283965492156], [0.10997925783821633, -0.3502548778212648]], \"data27\": [[-0.6559186065617822, 0.10388020621154978], [-0.18959448814771304, 0.11727534363577667]], \"data44\": [[-0.09016293541662218, -0.14060461216131684], [-0.07261619081701791, -0.18611283965492156]], \"data40\": [[0.20389005609182506, -0.1211453837628478], [0.34626747260305657, 0.013079202738905903]], \"data18\": [[-0.6656059420234857, 0.18202254480602362], [-0.6559186065617822, 0.10388020621154978]], \"data21\": [[-0.720500842973138, 0.6248291301747088], [-0.18959448814771304, 0.11727534363577667]], \"data26\": [[-0.00490542182178344, -0.28213461521634264], [0.10997925783821633, -0.3502548778212648]], \"data61\": [[0.2883394275517535, 1.0], [-0.720500842973138, 0.6248291301747088], [-0.6559186065617822, 0.10388020621154978], [-0.6029153041384868, -0.8817513739394521], [-0.18959448814771304, 0.11727534363577667], [0.34626747260305657, 0.013079202738905903], [0.7602531187701788, -0.3054992194695447], [-0.07261619081701791, -0.18611283965492156], [0.10997925783821633, -0.3502548778212648], [0.7367061558749326, -0.135445571875757]], \"data43\": [[-0.18959448814771304, 0.11727534363577667], [-0.07261619081701791, -0.18611283965492156]], \"data51\": [[0.7602531187701788, -0.3054992194695447], [0.10997925783821633, -0.3502548778212648]], \"data35\": [[-0.6029153041384868, -0.8817513739394521], [0.7367061558749326, -0.135445571875757]]}});\n",
       "            })\n",
       "         });\n",
       "}\n",
       "</script>"
      ],
      "text/plain": [
       "<IPython.core.display.HTML object>"
      ]
     },
     "execution_count": 50,
     "metadata": {},
     "output_type": "execute_result"
    }
   ],
   "source": [
    "gen().draw()"
   ]
  },
  {
   "cell_type": "code",
   "execution_count": 51,
   "metadata": {
    "collapsed": true
   },
   "outputs": [],
   "source": [
    "gen = gm.TreeDGMGen(factor_gen=gm.DirichletTableFactorGen())"
   ]
  },
  {
   "cell_type": "code",
   "execution_count": 52,
   "metadata": {
    "collapsed": false
   },
   "outputs": [
    {
     "data": {
      "text/html": [
       "\n",
       "\n",
       "<style>\n",
       "\n",
       "table\n",
       "{\n",
       "  border-collapse: collapse;\n",
       "}\n",
       "th\n",
       "{\n",
       "  color: #ffffff;\n",
       "  background-color: #000000;\n",
       "}\n",
       "td\n",
       "{\n",
       "  background-color: #cccccc;\n",
       "}\n",
       "table, th, td\n",
       "{\n",
       "  font-family:Arial, Helvetica, sans-serif;\n",
       "  border: 1px solid black;\n",
       "  text-align: center;\n",
       "  padding: 3px;\n",
       "  font-size:11pt;\n",
       "}\n",
       "g.mpld3-xaxis, g.mpld3-yaxis {\n",
       "    display: none;\n",
       "}\n",
       "    \n",
       "</style>\n",
       "\n",
       "<div id=\"fig_el119451404924202467208005616753\"></div>\n",
       "<script>\n",
       "function mpld3_load_lib(url, callback){\n",
       "  var s = document.createElement('script');\n",
       "  s.src = url;\n",
       "  s.async = true;\n",
       "  s.onreadystatechange = s.onload = callback;\n",
       "  s.onerror = function(){console.warn(\"failed to load library \" + url);};\n",
       "  document.getElementsByTagName(\"head\")[0].appendChild(s);\n",
       "}\n",
       "\n",
       "if(typeof(mpld3) !== \"undefined\" && mpld3._mpld3IsLoaded){\n",
       "   // already loaded: just create the figure\n",
       "   !function(mpld3){\n",
       "       \n",
       "    mpld3.register_plugin(\"htmltooltip\", HtmlTooltipPlugin);\n",
       "    HtmlTooltipPlugin.prototype = Object.create(mpld3.Plugin.prototype);\n",
       "    HtmlTooltipPlugin.prototype.constructor = HtmlTooltipPlugin;\n",
       "    HtmlTooltipPlugin.prototype.requiredProps = [\"id\"];\n",
       "    HtmlTooltipPlugin.prototype.defaultProps = {labels:null, hoffset:0, voffset:10};\n",
       "    function HtmlTooltipPlugin(fig, props){\n",
       "        mpld3.Plugin.call(this, fig, props);\n",
       "    };\n",
       "\n",
       "    HtmlTooltipPlugin.prototype.draw = function(){\n",
       "       var obj = mpld3.get_element(this.props.id);\n",
       "       var labels = this.props.labels;\n",
       "       var tooltip = d3.select(\"body\").append(\"div\")\n",
       "                    .attr(\"class\", \"mpld3-tooltip\")\n",
       "                    .style(\"position\", \"absolute\")\n",
       "                    .style(\"z-index\", \"10\")\n",
       "                    .style(\"visibility\", \"hidden\");\n",
       "\n",
       "       obj.elements()\n",
       "           .on(\"mouseover\", function(d, i){\n",
       "                              tooltip.html(labels[i])\n",
       "                                     .style(\"visibility\", \"visible\");})\n",
       "           .on(\"mousemove\", function(d, i){\n",
       "                    tooltip\n",
       "                      .style(\"top\", d3.event.pageY + this.props.voffset + \"px\")\n",
       "                      .style(\"left\",d3.event.pageX + this.props.hoffset + \"px\");\n",
       "                 }.bind(this))\n",
       "           .on(\"mouseout\",  function(d, i){\n",
       "                           tooltip.style(\"visibility\", \"hidden\");});\n",
       "    };\n",
       "    \n",
       "       mpld3.draw_figure(\"fig_el119451404924202467208005616753\", {\"height\": 640.0, \"plugins\": [{\"type\": \"reset\"}, {\"enabled\": false, \"type\": \"zoom\", \"button\": true}, {\"enabled\": false, \"type\": \"boxzoom\", \"button\": true}, {\"labels\": [\"<table border=\\\"1\\\" cellpadding=\\\"4\\\" cellspacing=\\\"0\\\" bordercolor=\\\"#000000\\\">\\n<tr bgcolor=\\\"#AAAAAA\\\">\\n<th align=\\\"center\\\">0</th>\\n<th align=\\\"center\\\">Prob.</th>\\n</tr>\\n<tr>\\n<td bgcolor=#FFFFFF>0</td>\\n<td bgcolor=#c5e2cd>0.217</td>\\n</tr>\\n<tr>\\n<td bgcolor=#FFFFFF>1</td>\\n<td bgcolor=#ebd8c9>0.783</td>\\n</tr>\\n</table>\", \"<table border=\\\"1\\\" cellpadding=\\\"4\\\" cellspacing=\\\"0\\\" bordercolor=\\\"#000000\\\">\\n<tr bgcolor=\\\"#AAAAAA\\\">\\n<th align=\\\"center\\\">0</th>\\n<th align=\\\"center\\\">1</th>\\n<th align=\\\"center\\\">Prob.</th>\\n</tr>\\n<tr>\\n<td bgcolor=#FFFFFF>0</td>\\n<td bgcolor=#FFFFFF>0</td>\\n<td bgcolor=#bdd9d6>0.179</td>\\n</tr>\\n<tr>\\n<td bgcolor=#FFFFFF>0</td>\\n<td bgcolor=#FFFFFF>1</td>\\n<td bgcolor=#f3d9d8>0.821</td>\\n</tr>\\n<tr>\\n<td bgcolor=#FFFFFF>1</td>\\n<td bgcolor=#FFFFFF>0</td>\\n<td bgcolor=#fbf9c9>0.643</td>\\n</tr>\\n<tr>\\n<td bgcolor=#FFFFFF>1</td>\\n<td bgcolor=#FFFFFF>1</td>\\n<td bgcolor=#dbcfdf>0.357</td>\\n</tr>\\n</table>\", \"<table border=\\\"1\\\" cellpadding=\\\"4\\\" cellspacing=\\\"0\\\" bordercolor=\\\"#000000\\\">\\n<tr bgcolor=\\\"#AAAAAA\\\">\\n<th align=\\\"center\\\">0</th>\\n<th align=\\\"center\\\">2</th>\\n<th align=\\\"center\\\">Prob.</th>\\n</tr>\\n<tr>\\n<td bgcolor=#FFFFFF>0</td>\\n<td bgcolor=#FFFFFF>0</td>\\n<td bgcolor=#c6e4cb>0.223</td>\\n</tr>\\n<tr>\\n<td bgcolor=#FFFFFF>0</td>\\n<td bgcolor=#FFFFFF>1</td>\\n<td bgcolor=#ead8c6>0.777</td>\\n</tr>\\n<tr>\\n<td bgcolor=#FFFFFF>1</td>\\n<td bgcolor=#FFFFFF>0</td>\\n<td bgcolor=#e8ddbf>0.733</td>\\n</tr>\\n<tr>\\n<td bgcolor=#FFFFFF>1</td>\\n<td bgcolor=#FFFFFF>1</td>\\n<td bgcolor=#cee6c9>0.267</td>\\n</tr>\\n</table>\", \"<table border=\\\"1\\\" cellpadding=\\\"4\\\" cellspacing=\\\"0\\\" bordercolor=\\\"#000000\\\">\\n<tr bgcolor=\\\"#AAAAAA\\\">\\n<th align=\\\"center\\\">0</th>\\n<th align=\\\"center\\\">3</th>\\n<th align=\\\"center\\\">Prob.</th>\\n</tr>\\n<tr>\\n<td bgcolor=#FFFFFF>0</td>\\n<td bgcolor=#FFFFFF>0</td>\\n<td bgcolor=#c2dfd0>0.205</td>\\n</tr>\\n<tr>\\n<td bgcolor=#FFFFFF>0</td>\\n<td bgcolor=#FFFFFF>1</td>\\n<td bgcolor=#edd8ce>0.795</td>\\n</tr>\\n<tr>\\n<td bgcolor=#FFFFFF>1</td>\\n<td bgcolor=#FFFFFF>0</td>\\n<td bgcolor=#f0d8d4>0.811</td>\\n</tr>\\n<tr>\\n<td bgcolor=#FFFFFF>1</td>\\n<td bgcolor=#FFFFFF>1</td>\\n<td bgcolor=#bfdcd3>0.189</td>\\n</tr>\\n</table>\", \"<table border=\\\"1\\\" cellpadding=\\\"4\\\" cellspacing=\\\"0\\\" bordercolor=\\\"#000000\\\">\\n<tr bgcolor=\\\"#AAAAAA\\\">\\n<th align=\\\"center\\\">0</th>\\n<th align=\\\"center\\\">4</th>\\n<th align=\\\"center\\\">Prob.</th>\\n</tr>\\n<tr>\\n<td bgcolor=#FFFFFF>0</td>\\n<td bgcolor=#FFFFFF>0</td>\\n<td bgcolor=#d2dfcf>0.295</td>\\n</tr>\\n<tr>\\n<td bgcolor=#FFFFFF>0</td>\\n<td bgcolor=#FFFFFF>1</td>\\n<td bgcolor=#eee5c2>0.705</td>\\n</tr>\\n<tr>\\n<td bgcolor=#FFFFFF>1</td>\\n<td bgcolor=#FFFFFF>0</td>\\n<td bgcolor=#fdfdcb>0.629</td>\\n</tr>\\n<tr>\\n<td bgcolor=#FFFFFF>1</td>\\n<td bgcolor=#FFFFFF>1</td>\\n<td bgcolor=#ddcce2>0.371</td>\\n</tr>\\n</table>\", \"<table border=\\\"1\\\" cellpadding=\\\"4\\\" cellspacing=\\\"0\\\" bordercolor=\\\"#000000\\\">\\n<tr bgcolor=\\\"#AAAAAA\\\">\\n<th align=\\\"center\\\">4</th>\\n<th align=\\\"center\\\">5</th>\\n<th align=\\\"center\\\">Prob.</th>\\n</tr>\\n<tr>\\n<td bgcolor=#FFFFFF>0</td>\\n<td bgcolor=#FFFFFF>0</td>\\n<td bgcolor=#cde8c7>0.261</td>\\n</tr>\\n<tr>\\n<td bgcolor=#FFFFFF>0</td>\\n<td bgcolor=#FFFFFF>1</td>\\n<td bgcolor=#e6dabe>0.739</td>\\n</tr>\\n<tr>\\n<td bgcolor=#FFFFFF>1</td>\\n<td bgcolor=#FFFFFF>0</td>\\n<td bgcolor=#d0c2cd>0.075</td>\\n</tr>\\n<tr>\\n<td bgcolor=#FFFFFF>1</td>\\n<td bgcolor=#FFFFFF>1</td>\\n<td bgcolor=#f8e3ee>0.925</td>\\n</tr>\\n</table>\", \"<table border=\\\"1\\\" cellpadding=\\\"4\\\" cellspacing=\\\"0\\\" bordercolor=\\\"#000000\\\">\\n<tr bgcolor=\\\"#AAAAAA\\\">\\n<th align=\\\"center\\\">4</th>\\n<th align=\\\"center\\\">6</th>\\n<th align=\\\"center\\\">Prob.</th>\\n</tr>\\n<tr>\\n<td bgcolor=#FFFFFF>0</td>\\n<td bgcolor=#FFFFFF>0</td>\\n<td bgcolor=#c6e4cb>0.223</td>\\n</tr>\\n<tr>\\n<td bgcolor=#FFFFFF>0</td>\\n<td bgcolor=#FFFFFF>1</td>\\n<td bgcolor=#ead8c6>0.777</td>\\n</tr>\\n<tr>\\n<td bgcolor=#FFFFFF>1</td>\\n<td bgcolor=#FFFFFF>0</td>\\n<td bgcolor=#d2c2cb>0.072</td>\\n</tr>\\n<tr>\\n<td bgcolor=#FFFFFF>1</td>\\n<td bgcolor=#FFFFFF>1</td>\\n<td bgcolor=#f8e4ee>0.928</td>\\n</tr>\\n</table>\", \"<table border=\\\"1\\\" cellpadding=\\\"4\\\" cellspacing=\\\"0\\\" bordercolor=\\\"#000000\\\">\\n<tr bgcolor=\\\"#AAAAAA\\\">\\n<th align=\\\"center\\\">4</th>\\n<th align=\\\"center\\\">7</th>\\n<th align=\\\"center\\\">Prob.</th>\\n</tr>\\n<tr>\\n<td bgcolor=#FFFFFF>0</td>\\n<td bgcolor=#FFFFFF>0</td>\\n<td bgcolor=#ede4c1>0.710</td>\\n</tr>\\n<tr>\\n<td bgcolor=#FFFFFF>0</td>\\n<td bgcolor=#FFFFFF>1</td>\\n<td bgcolor=#d1e0ce>0.290</td>\\n</tr>\\n<tr>\\n<td bgcolor=#FFFFFF>1</td>\\n<td bgcolor=#FFFFFF>0</td>\\n<td bgcolor=#cde8c7>0.260</td>\\n</tr>\\n<tr>\\n<td bgcolor=#FFFFFF>1</td>\\n<td bgcolor=#FFFFFF>1</td>\\n<td bgcolor=#e6dabe>0.740</td>\\n</tr>\\n</table>\", \"<table border=\\\"1\\\" cellpadding=\\\"4\\\" cellspacing=\\\"0\\\" bordercolor=\\\"#000000\\\">\\n<tr bgcolor=\\\"#AAAAAA\\\">\\n<th align=\\\"center\\\">4</th>\\n<th align=\\\"center\\\">8</th>\\n<th align=\\\"center\\\">Prob.</th>\\n</tr>\\n<tr>\\n<td bgcolor=#FFFFFF>0</td>\\n<td bgcolor=#FFFFFF>0</td>\\n<td bgcolor=#f1b7b4>0.018</td>\\n</tr>\\n<tr>\\n<td bgcolor=#FFFFFF>0</td>\\n<td bgcolor=#FFFFFF>1</td>\\n<td bgcolor=#f3eef1>0.982</td>\\n</tr>\\n<tr>\\n<td bgcolor=#FFFFFF>1</td>\\n<td bgcolor=#FFFFFF>0</td>\\n<td bgcolor=#f6d9e0>0.843</td>\\n</tr>\\n<tr>\\n<td bgcolor=#FFFFFF>1</td>\\n<td bgcolor=#FFFFFF>1</td>\\n<td bgcolor=#b9d4db>0.157</td>\\n</tr>\\n</table>\", \"<table border=\\\"1\\\" cellpadding=\\\"4\\\" cellspacing=\\\"0\\\" bordercolor=\\\"#000000\\\">\\n<tr bgcolor=\\\"#AAAAAA\\\">\\n<th align=\\\"center\\\">8</th>\\n<th align=\\\"center\\\">9</th>\\n<th align=\\\"center\\\">Prob.</th>\\n</tr>\\n<tr>\\n<td bgcolor=#FFFFFF>0</td>\\n<td bgcolor=#FFFFFF>0</td>\\n<td bgcolor=#f6b5b1>0.008</td>\\n</tr>\\n<tr>\\n<td bgcolor=#FFFFFF>0</td>\\n<td bgcolor=#FFFFFF>1</td>\\n<td bgcolor=#f2f0f1>0.992</td>\\n</tr>\\n<tr>\\n<td bgcolor=#FFFFFF>1</td>\\n<td bgcolor=#FFFFFF>0</td>\\n<td bgcolor=#d2dfcf>0.296</td>\\n</tr>\\n<tr>\\n<td bgcolor=#FFFFFF>1</td>\\n<td bgcolor=#FFFFFF>1</td>\\n<td bgcolor=#eee5c2>0.704</td>\\n</tr>\\n</table>\"], \"type\": \"htmltooltip\", \"voffset\": 10, \"id\": \"el11945140492416424032pts\", \"hoffset\": 10}], \"axes\": [{\"bbox\": [0.125, 0.125, 0.775, 0.775], \"sharey\": [], \"zoomable\": true, \"collections\": [], \"markers\": [{\"coordinates\": \"data\", \"edgecolor\": \"#000000\", \"yindex\": 1, \"xindex\": 0, \"alpha\": 1.0, \"zorder\": 2, \"markerpath\": [[[0.0, 10.0], [2.652031, 10.0], [5.195798707848534, 8.946336915882418], [7.0710678118654755, 7.0710678118654755], [8.946336915882418, 5.195798707848534], [10.0, 2.652031], [10.0, 0.0], [10.0, -2.652031], [8.946336915882418, -5.195798707848534], [7.0710678118654755, -7.0710678118654755], [5.195798707848534, -8.946336915882418], [2.652031, -10.0], [0.0, -10.0], [-2.652031, -10.0], [-5.195798707848534, -8.946336915882418], [-7.0710678118654755, -7.0710678118654755], [-8.946336915882418, -5.195798707848534], [-10.0, -2.652031], [-10.0, 0.0], [-10.0, 2.652031], [-8.946336915882418, 5.195798707848534], [-7.0710678118654755, 7.0710678118654755], [-5.195798707848534, 8.946336915882418], [-2.652031, 10.0], [0.0, 10.0]], [\"M\", \"C\", \"C\", \"C\", \"C\", \"C\", \"C\", \"C\", \"C\", \"Z\"]], \"id\": \"el11945140492416392272pts\", \"edgewidth\": 1, \"facecolor\": \"#D3D3D3\", \"data\": \"data19\"}, {\"coordinates\": \"data\", \"edgecolor\": \"#000000\", \"yindex\": 1, \"xindex\": 0, \"alpha\": 0.0, \"zorder\": 2, \"markerpath\": [[[0.0, 20.0], [5.304062, 20.0], [10.391597415697069, 17.892673831764835], [14.142135623730951, 14.142135623730951], [17.892673831764835, 10.391597415697069], [20.0, 5.304062], [20.0, 0.0], [20.0, -5.304062], [17.892673831764835, -10.391597415697069], [14.142135623730951, -14.142135623730951], [10.391597415697069, -17.892673831764835], [5.304062, -20.0], [0.0, -20.0], [-5.304062, -20.0], [-10.391597415697069, -17.892673831764835], [-14.142135623730951, -14.142135623730951], [-17.892673831764835, -10.391597415697069], [-20.0, -5.304062], [-20.0, 0.0], [-20.0, 5.304062], [-17.892673831764835, 10.391597415697069], [-14.142135623730951, 14.142135623730951], [-10.391597415697069, 17.892673831764835], [-5.304062, 20.0], [0.0, 20.0]], [\"M\", \"C\", \"C\", \"C\", \"C\", \"C\", \"C\", \"C\", \"C\", \"Z\"]], \"id\": \"el11945140492416424032pts\", \"edgewidth\": 1, \"facecolor\": \"#D3D3D3\", \"data\": \"data19\"}], \"paths\": [], \"xlim\": [-1.1874471001015556, 1.08], \"texts\": [{\"id\": \"el11945140492416366632\", \"zorder\": 3, \"h_anchor\": \"middle\", \"color\": \"#000000\", \"fontsize\": 10.0, \"coordinates\": \"data\", \"text\": \"0\", \"rotation\": -0.0, \"position\": [1.0, 0.48798948662314473], \"v_baseline\": \"central\", \"alpha\": 1}, {\"id\": \"el11945140492416368144\", \"zorder\": 3, \"h_anchor\": \"middle\", \"color\": \"#000000\", \"fontsize\": 10.0, \"coordinates\": \"data\", \"text\": \"1\", \"rotation\": -0.0, \"position\": [0.3740891190649708, -0.5623840525053511], \"v_baseline\": \"central\", \"alpha\": 1}, {\"id\": \"el11945140492415865744\", \"zorder\": 3, \"h_anchor\": \"middle\", \"color\": \"#000000\", \"fontsize\": 10.0, \"coordinates\": \"data\", \"text\": \"2\", \"rotation\": -0.0, \"position\": [0.10537523890060294, -0.20376257684078353], \"v_baseline\": \"central\", \"alpha\": 1}, {\"id\": \"el11945140492415867088\", \"zorder\": 3, \"h_anchor\": \"middle\", \"color\": \"#000000\", \"fontsize\": 10.0, \"coordinates\": \"data\", \"text\": \"3\", \"rotation\": -0.0, \"position\": [0.3424031702524202, 0.023647028796796258], \"v_baseline\": \"central\", \"alpha\": 1}, {\"id\": \"el11945140492415868432\", \"zorder\": 3, \"h_anchor\": \"middle\", \"color\": \"#000000\", \"fontsize\": 10.0, \"coordinates\": \"data\", \"text\": \"4\", \"rotation\": -0.0, \"position\": [-0.1884936510881002, -0.1314723065332603], \"v_baseline\": \"central\", \"alpha\": 1}, {\"id\": \"el11945140492415894416\", \"zorder\": 3, \"h_anchor\": \"middle\", \"color\": \"#000000\", \"fontsize\": 10.0, \"coordinates\": \"data\", \"text\": \"5\", \"rotation\": -0.0, \"position\": [0.590843813674389, -0.6370828634952039], \"v_baseline\": \"central\", \"alpha\": 1}, {\"id\": \"el11945140492415895760\", \"zorder\": 3, \"h_anchor\": \"middle\", \"color\": \"#000000\", \"fontsize\": 10.0, \"coordinates\": \"data\", \"text\": \"6\", \"rotation\": -0.0, \"position\": [-1.1074471001015556, -0.3866040245694813], \"v_baseline\": \"central\", \"alpha\": 1}, {\"id\": \"el11945140492415897104\", \"zorder\": 3, \"h_anchor\": \"middle\", \"color\": \"#000000\", \"fontsize\": 10.0, \"coordinates\": \"data\", \"text\": \"7\", \"rotation\": -0.0, \"position\": [-0.9193845125625624, 0.32282741236708407], \"v_baseline\": \"central\", \"alpha\": 1}, {\"id\": \"el11945140492415914896\", \"zorder\": 3, \"h_anchor\": \"middle\", \"color\": \"#000000\", \"fontsize\": 10.0, \"coordinates\": \"data\", \"text\": \"8\", \"rotation\": -0.0, \"position\": [-0.42503501041129926, 0.6048100332016992], \"v_baseline\": \"central\", \"alpha\": 1}, {\"id\": \"el11945140492415916240\", \"zorder\": 3, \"h_anchor\": \"middle\", \"color\": \"#000000\", \"fontsize\": 10.0, \"coordinates\": \"data\", \"text\": \"9\", \"rotation\": -0.0, \"position\": [0.22764893227113567, 0.48203186295535644], \"v_baseline\": \"central\", \"alpha\": 1}], \"yscale\": \"linear\", \"images\": [], \"ylim\": [-0.7170828634952039, 0.6848100332016992], \"axesbg\": \"#FFFFFF\", \"id\": \"el11945140492416413648\", \"axes\": [{\"tickformat\": null, \"grid\": {\"gridOn\": false}, \"tickvalues\": null, \"position\": \"bottom\", \"fontsize\": 10.0, \"nticks\": 7, \"scale\": \"linear\"}, {\"tickformat\": null, \"grid\": {\"gridOn\": false}, \"tickvalues\": null, \"position\": \"left\", \"fontsize\": 10.0, \"nticks\": 9, \"scale\": \"linear\"}], \"xscale\": \"linear\", \"ydomain\": [-0.7170828634952039, 0.6848100332016992], \"axesbgalpha\": null, \"sharex\": [], \"lines\": [{\"coordinates\": \"data\", \"linewidth\": 1.0, \"yindex\": 1, \"xindex\": 0, \"zorder\": 2, \"dasharray\": \"10,0\", \"color\": \"#808080\", \"id\": \"el11945140492418962880\", \"alpha\": 1, \"data\": \"data01\"}, {\"coordinates\": \"data\", \"linewidth\": 5, \"yindex\": 1, \"xindex\": 0, \"zorder\": 2, \"dasharray\": \"10,0\", \"color\": \"#000000\", \"id\": \"el11945140492416203576\", \"alpha\": 0.5, \"data\": \"data02\"}, {\"coordinates\": \"data\", \"linewidth\": 1.0, \"yindex\": 1, \"xindex\": 0, \"zorder\": 2, \"dasharray\": \"10,0\", \"color\": \"#808080\", \"id\": \"el11945140492416222264\", \"alpha\": 1, \"data\": \"data03\"}, {\"coordinates\": \"data\", \"linewidth\": 5, \"yindex\": 1, \"xindex\": 0, \"zorder\": 2, \"dasharray\": \"10,0\", \"color\": \"#000000\", \"id\": \"el11945140492416224112\", \"alpha\": 0.5, \"data\": \"data04\"}, {\"coordinates\": \"data\", \"linewidth\": 1.0, \"yindex\": 1, \"xindex\": 0, \"zorder\": 2, \"dasharray\": \"10,0\", \"color\": \"#808080\", \"id\": \"el11945140492416254752\", \"alpha\": 1, \"data\": \"data05\"}, {\"coordinates\": \"data\", \"linewidth\": 5, \"yindex\": 1, \"xindex\": 0, \"zorder\": 2, \"dasharray\": \"10,0\", \"color\": \"#000000\", \"id\": \"el11945140492416256712\", \"alpha\": 0.5, \"data\": \"data06\"}, {\"coordinates\": \"data\", \"linewidth\": 1.0, \"yindex\": 1, \"xindex\": 0, \"zorder\": 2, \"dasharray\": \"10,0\", \"color\": \"#808080\", \"id\": \"el11945140492416275120\", \"alpha\": 1, \"data\": \"data07\"}, {\"coordinates\": \"data\", \"linewidth\": 5, \"yindex\": 1, \"xindex\": 0, \"zorder\": 2, \"dasharray\": \"10,0\", \"color\": \"#000000\", \"id\": \"el11945140492416277080\", \"alpha\": 0.5, \"data\": \"data08\"}, {\"coordinates\": \"data\", \"linewidth\": 1.0, \"yindex\": 1, \"xindex\": 0, \"zorder\": 2, \"dasharray\": \"10,0\", \"color\": \"#808080\", \"id\": \"el11945140492416299584\", \"alpha\": 1, \"data\": \"data09\"}, {\"coordinates\": \"data\", \"linewidth\": 5, \"yindex\": 1, \"xindex\": 0, \"zorder\": 2, \"dasharray\": \"10,0\", \"color\": \"#000000\", \"id\": \"el11945140492416301544\", \"alpha\": 0.5, \"data\": \"data10\"}, {\"coordinates\": \"data\", \"linewidth\": 1.0, \"yindex\": 1, \"xindex\": 0, \"zorder\": 2, \"dasharray\": \"10,0\", \"color\": \"#808080\", \"id\": \"el11945140492416328144\", \"alpha\": 1, \"data\": \"data11\"}, {\"coordinates\": \"data\", \"linewidth\": 5, \"yindex\": 1, \"xindex\": 0, \"zorder\": 2, \"dasharray\": \"10,0\", \"color\": \"#000000\", \"id\": \"el11945140492416330104\", \"alpha\": 0.5, \"data\": \"data12\"}, {\"coordinates\": \"data\", \"linewidth\": 1.0, \"yindex\": 1, \"xindex\": 0, \"zorder\": 2, \"dasharray\": \"10,0\", \"color\": \"#808080\", \"id\": \"el11945140492416344416\", \"alpha\": 1, \"data\": \"data13\"}, {\"coordinates\": \"data\", \"linewidth\": 5, \"yindex\": 1, \"xindex\": 0, \"zorder\": 2, \"dasharray\": \"10,0\", \"color\": \"#000000\", \"id\": \"el11945140492416346376\", \"alpha\": 0.5, \"data\": \"data14\"}, {\"coordinates\": \"data\", \"linewidth\": 1.0, \"yindex\": 1, \"xindex\": 0, \"zorder\": 2, \"dasharray\": \"10,0\", \"color\": \"#808080\", \"id\": \"el11945140492416566384\", \"alpha\": 1, \"data\": \"data15\"}, {\"coordinates\": \"data\", \"linewidth\": 5, \"yindex\": 1, \"xindex\": 0, \"zorder\": 2, \"dasharray\": \"10,0\", \"color\": \"#000000\", \"id\": \"el11945140492416552128\", \"alpha\": 0.5, \"data\": \"data16\"}, {\"coordinates\": \"data\", \"linewidth\": 1.0, \"yindex\": 1, \"xindex\": 0, \"zorder\": 2, \"dasharray\": \"10,0\", \"color\": \"#808080\", \"id\": \"el11945140492416520432\", \"alpha\": 1, \"data\": \"data17\"}, {\"coordinates\": \"data\", \"linewidth\": 5, \"yindex\": 1, \"xindex\": 0, \"zorder\": 2, \"dasharray\": \"10,0\", \"color\": \"#000000\", \"id\": \"el11945140492416458312\", \"alpha\": 0.5, \"data\": \"data18\"}], \"xdomain\": [-1.1874471001015556, 1.08]}], \"id\": \"el11945140492420246720\", \"width\": 960.0, \"data\": {\"data14\": [[-0.9696040827495372, -0.3483342668640481], [-1.1074471001015556, -0.3866040245694813]], \"data09\": [[-0.1884936510881002, -0.1314723065332603], [-0.42503501041129926, 0.6048100332016992]], \"data16\": [[-0.8097508833413931, 0.2546824545320324], [-0.9193845125625624, 0.32282741236708407]], \"data15\": [[-0.1884936510881002, -0.1314723065332603], [-0.9193845125625624, 0.32282741236708407]], \"data05\": [[1.0, 0.48798948662314473], [0.3424031702524202, 0.023647028796796258]], \"data12\": [[0.4739431939600156, -0.5612412799509124], [0.590843813674389, -0.6370828634952039]], \"data18\": [[0.12974634086877043, 0.5004485884923079], [0.22764893227113567, 0.48203186295535644]], \"data19\": [[1.0, 0.48798948662314473], [0.3740891190649708, -0.5623840525053511], [0.10537523890060294, -0.20376257684078353], [0.3424031702524202, 0.023647028796796258], [-0.1884936510881002, -0.1314723065332603], [0.590843813674389, -0.6370828634952039], [-1.1074471001015556, -0.3866040245694813], [-0.9193845125625624, 0.32282741236708407], [-0.42503501041129926, 0.6048100332016992], [0.22764893227113567, 0.48203186295535644]], \"data03\": [[1.0, 0.48798948662314473], [0.10537523890060294, -0.20376257684078353]], \"data06\": [[0.44104269471455715, 0.09329839747074853], [0.3424031702524202, 0.023647028796796258]], \"data11\": [[-0.1884936510881002, -0.1314723065332603], [0.590843813674389, -0.6370828634952039]], \"data07\": [[1.0, 0.48798948662314473], [-0.1884936510881002, -0.1314723065332603]], \"data17\": [[-0.42503501041129926, 0.6048100332016992], [0.22764893227113567, 0.48203186295535644]], \"data04\": [[0.23956895306551249, -0.0999997673211943], [0.10537523890060294, -0.20376257684078353]], \"data13\": [[-0.1884936510881002, -0.1314723065332603], [-1.1074471001015556, -0.3866040245694813]], \"data01\": [[1.0, 0.48798948662314473], [0.3740891190649708, -0.5623840525053511]], \"data08\": [[-0.010219603424885204, -0.03855303755979955], [-0.1884936510881002, -0.1314723065332603]], \"data02\": [[0.46797575120522517, -0.4048280216360767], [0.3740891190649708, -0.5623840525053511]], \"data10\": [[-0.3895538065128194, 0.49436768224145533], [-0.42503501041129926, 0.6048100332016992]]}});\n",
       "   }(mpld3);\n",
       "}else if(typeof define === \"function\" && define.amd){\n",
       "   // require.js is available: use it to load d3/mpld3\n",
       "   require.config({paths: {d3: \"https://mpld3.github.io/js/d3.v3.min\"}});\n",
       "   require([\"d3\"], function(d3){\n",
       "      window.d3 = d3;\n",
       "      mpld3_load_lib(\"https://mpld3.github.io/js/mpld3.v0.2.js\", function(){\n",
       "         \n",
       "    mpld3.register_plugin(\"htmltooltip\", HtmlTooltipPlugin);\n",
       "    HtmlTooltipPlugin.prototype = Object.create(mpld3.Plugin.prototype);\n",
       "    HtmlTooltipPlugin.prototype.constructor = HtmlTooltipPlugin;\n",
       "    HtmlTooltipPlugin.prototype.requiredProps = [\"id\"];\n",
       "    HtmlTooltipPlugin.prototype.defaultProps = {labels:null, hoffset:0, voffset:10};\n",
       "    function HtmlTooltipPlugin(fig, props){\n",
       "        mpld3.Plugin.call(this, fig, props);\n",
       "    };\n",
       "\n",
       "    HtmlTooltipPlugin.prototype.draw = function(){\n",
       "       var obj = mpld3.get_element(this.props.id);\n",
       "       var labels = this.props.labels;\n",
       "       var tooltip = d3.select(\"body\").append(\"div\")\n",
       "                    .attr(\"class\", \"mpld3-tooltip\")\n",
       "                    .style(\"position\", \"absolute\")\n",
       "                    .style(\"z-index\", \"10\")\n",
       "                    .style(\"visibility\", \"hidden\");\n",
       "\n",
       "       obj.elements()\n",
       "           .on(\"mouseover\", function(d, i){\n",
       "                              tooltip.html(labels[i])\n",
       "                                     .style(\"visibility\", \"visible\");})\n",
       "           .on(\"mousemove\", function(d, i){\n",
       "                    tooltip\n",
       "                      .style(\"top\", d3.event.pageY + this.props.voffset + \"px\")\n",
       "                      .style(\"left\",d3.event.pageX + this.props.hoffset + \"px\");\n",
       "                 }.bind(this))\n",
       "           .on(\"mouseout\",  function(d, i){\n",
       "                           tooltip.style(\"visibility\", \"hidden\");});\n",
       "    };\n",
       "    \n",
       "         mpld3.draw_figure(\"fig_el119451404924202467208005616753\", {\"height\": 640.0, \"plugins\": [{\"type\": \"reset\"}, {\"enabled\": false, \"type\": \"zoom\", \"button\": true}, {\"enabled\": false, \"type\": \"boxzoom\", \"button\": true}, {\"labels\": [\"<table border=\\\"1\\\" cellpadding=\\\"4\\\" cellspacing=\\\"0\\\" bordercolor=\\\"#000000\\\">\\n<tr bgcolor=\\\"#AAAAAA\\\">\\n<th align=\\\"center\\\">0</th>\\n<th align=\\\"center\\\">Prob.</th>\\n</tr>\\n<tr>\\n<td bgcolor=#FFFFFF>0</td>\\n<td bgcolor=#c5e2cd>0.217</td>\\n</tr>\\n<tr>\\n<td bgcolor=#FFFFFF>1</td>\\n<td bgcolor=#ebd8c9>0.783</td>\\n</tr>\\n</table>\", \"<table border=\\\"1\\\" cellpadding=\\\"4\\\" cellspacing=\\\"0\\\" bordercolor=\\\"#000000\\\">\\n<tr bgcolor=\\\"#AAAAAA\\\">\\n<th align=\\\"center\\\">0</th>\\n<th align=\\\"center\\\">1</th>\\n<th align=\\\"center\\\">Prob.</th>\\n</tr>\\n<tr>\\n<td bgcolor=#FFFFFF>0</td>\\n<td bgcolor=#FFFFFF>0</td>\\n<td bgcolor=#bdd9d6>0.179</td>\\n</tr>\\n<tr>\\n<td bgcolor=#FFFFFF>0</td>\\n<td bgcolor=#FFFFFF>1</td>\\n<td bgcolor=#f3d9d8>0.821</td>\\n</tr>\\n<tr>\\n<td bgcolor=#FFFFFF>1</td>\\n<td bgcolor=#FFFFFF>0</td>\\n<td bgcolor=#fbf9c9>0.643</td>\\n</tr>\\n<tr>\\n<td bgcolor=#FFFFFF>1</td>\\n<td bgcolor=#FFFFFF>1</td>\\n<td bgcolor=#dbcfdf>0.357</td>\\n</tr>\\n</table>\", \"<table border=\\\"1\\\" cellpadding=\\\"4\\\" cellspacing=\\\"0\\\" bordercolor=\\\"#000000\\\">\\n<tr bgcolor=\\\"#AAAAAA\\\">\\n<th align=\\\"center\\\">0</th>\\n<th align=\\\"center\\\">2</th>\\n<th align=\\\"center\\\">Prob.</th>\\n</tr>\\n<tr>\\n<td bgcolor=#FFFFFF>0</td>\\n<td bgcolor=#FFFFFF>0</td>\\n<td bgcolor=#c6e4cb>0.223</td>\\n</tr>\\n<tr>\\n<td bgcolor=#FFFFFF>0</td>\\n<td bgcolor=#FFFFFF>1</td>\\n<td bgcolor=#ead8c6>0.777</td>\\n</tr>\\n<tr>\\n<td bgcolor=#FFFFFF>1</td>\\n<td bgcolor=#FFFFFF>0</td>\\n<td bgcolor=#e8ddbf>0.733</td>\\n</tr>\\n<tr>\\n<td bgcolor=#FFFFFF>1</td>\\n<td bgcolor=#FFFFFF>1</td>\\n<td bgcolor=#cee6c9>0.267</td>\\n</tr>\\n</table>\", \"<table border=\\\"1\\\" cellpadding=\\\"4\\\" cellspacing=\\\"0\\\" bordercolor=\\\"#000000\\\">\\n<tr bgcolor=\\\"#AAAAAA\\\">\\n<th align=\\\"center\\\">0</th>\\n<th align=\\\"center\\\">3</th>\\n<th align=\\\"center\\\">Prob.</th>\\n</tr>\\n<tr>\\n<td bgcolor=#FFFFFF>0</td>\\n<td bgcolor=#FFFFFF>0</td>\\n<td bgcolor=#c2dfd0>0.205</td>\\n</tr>\\n<tr>\\n<td bgcolor=#FFFFFF>0</td>\\n<td bgcolor=#FFFFFF>1</td>\\n<td bgcolor=#edd8ce>0.795</td>\\n</tr>\\n<tr>\\n<td bgcolor=#FFFFFF>1</td>\\n<td bgcolor=#FFFFFF>0</td>\\n<td bgcolor=#f0d8d4>0.811</td>\\n</tr>\\n<tr>\\n<td bgcolor=#FFFFFF>1</td>\\n<td bgcolor=#FFFFFF>1</td>\\n<td bgcolor=#bfdcd3>0.189</td>\\n</tr>\\n</table>\", \"<table border=\\\"1\\\" cellpadding=\\\"4\\\" cellspacing=\\\"0\\\" bordercolor=\\\"#000000\\\">\\n<tr bgcolor=\\\"#AAAAAA\\\">\\n<th align=\\\"center\\\">0</th>\\n<th align=\\\"center\\\">4</th>\\n<th align=\\\"center\\\">Prob.</th>\\n</tr>\\n<tr>\\n<td bgcolor=#FFFFFF>0</td>\\n<td bgcolor=#FFFFFF>0</td>\\n<td bgcolor=#d2dfcf>0.295</td>\\n</tr>\\n<tr>\\n<td bgcolor=#FFFFFF>0</td>\\n<td bgcolor=#FFFFFF>1</td>\\n<td bgcolor=#eee5c2>0.705</td>\\n</tr>\\n<tr>\\n<td bgcolor=#FFFFFF>1</td>\\n<td bgcolor=#FFFFFF>0</td>\\n<td bgcolor=#fdfdcb>0.629</td>\\n</tr>\\n<tr>\\n<td bgcolor=#FFFFFF>1</td>\\n<td bgcolor=#FFFFFF>1</td>\\n<td bgcolor=#ddcce2>0.371</td>\\n</tr>\\n</table>\", \"<table border=\\\"1\\\" cellpadding=\\\"4\\\" cellspacing=\\\"0\\\" bordercolor=\\\"#000000\\\">\\n<tr bgcolor=\\\"#AAAAAA\\\">\\n<th align=\\\"center\\\">4</th>\\n<th align=\\\"center\\\">5</th>\\n<th align=\\\"center\\\">Prob.</th>\\n</tr>\\n<tr>\\n<td bgcolor=#FFFFFF>0</td>\\n<td bgcolor=#FFFFFF>0</td>\\n<td bgcolor=#cde8c7>0.261</td>\\n</tr>\\n<tr>\\n<td bgcolor=#FFFFFF>0</td>\\n<td bgcolor=#FFFFFF>1</td>\\n<td bgcolor=#e6dabe>0.739</td>\\n</tr>\\n<tr>\\n<td bgcolor=#FFFFFF>1</td>\\n<td bgcolor=#FFFFFF>0</td>\\n<td bgcolor=#d0c2cd>0.075</td>\\n</tr>\\n<tr>\\n<td bgcolor=#FFFFFF>1</td>\\n<td bgcolor=#FFFFFF>1</td>\\n<td bgcolor=#f8e3ee>0.925</td>\\n</tr>\\n</table>\", \"<table border=\\\"1\\\" cellpadding=\\\"4\\\" cellspacing=\\\"0\\\" bordercolor=\\\"#000000\\\">\\n<tr bgcolor=\\\"#AAAAAA\\\">\\n<th align=\\\"center\\\">4</th>\\n<th align=\\\"center\\\">6</th>\\n<th align=\\\"center\\\">Prob.</th>\\n</tr>\\n<tr>\\n<td bgcolor=#FFFFFF>0</td>\\n<td bgcolor=#FFFFFF>0</td>\\n<td bgcolor=#c6e4cb>0.223</td>\\n</tr>\\n<tr>\\n<td bgcolor=#FFFFFF>0</td>\\n<td bgcolor=#FFFFFF>1</td>\\n<td bgcolor=#ead8c6>0.777</td>\\n</tr>\\n<tr>\\n<td bgcolor=#FFFFFF>1</td>\\n<td bgcolor=#FFFFFF>0</td>\\n<td bgcolor=#d2c2cb>0.072</td>\\n</tr>\\n<tr>\\n<td bgcolor=#FFFFFF>1</td>\\n<td bgcolor=#FFFFFF>1</td>\\n<td bgcolor=#f8e4ee>0.928</td>\\n</tr>\\n</table>\", \"<table border=\\\"1\\\" cellpadding=\\\"4\\\" cellspacing=\\\"0\\\" bordercolor=\\\"#000000\\\">\\n<tr bgcolor=\\\"#AAAAAA\\\">\\n<th align=\\\"center\\\">4</th>\\n<th align=\\\"center\\\">7</th>\\n<th align=\\\"center\\\">Prob.</th>\\n</tr>\\n<tr>\\n<td bgcolor=#FFFFFF>0</td>\\n<td bgcolor=#FFFFFF>0</td>\\n<td bgcolor=#ede4c1>0.710</td>\\n</tr>\\n<tr>\\n<td bgcolor=#FFFFFF>0</td>\\n<td bgcolor=#FFFFFF>1</td>\\n<td bgcolor=#d1e0ce>0.290</td>\\n</tr>\\n<tr>\\n<td bgcolor=#FFFFFF>1</td>\\n<td bgcolor=#FFFFFF>0</td>\\n<td bgcolor=#cde8c7>0.260</td>\\n</tr>\\n<tr>\\n<td bgcolor=#FFFFFF>1</td>\\n<td bgcolor=#FFFFFF>1</td>\\n<td bgcolor=#e6dabe>0.740</td>\\n</tr>\\n</table>\", \"<table border=\\\"1\\\" cellpadding=\\\"4\\\" cellspacing=\\\"0\\\" bordercolor=\\\"#000000\\\">\\n<tr bgcolor=\\\"#AAAAAA\\\">\\n<th align=\\\"center\\\">4</th>\\n<th align=\\\"center\\\">8</th>\\n<th align=\\\"center\\\">Prob.</th>\\n</tr>\\n<tr>\\n<td bgcolor=#FFFFFF>0</td>\\n<td bgcolor=#FFFFFF>0</td>\\n<td bgcolor=#f1b7b4>0.018</td>\\n</tr>\\n<tr>\\n<td bgcolor=#FFFFFF>0</td>\\n<td bgcolor=#FFFFFF>1</td>\\n<td bgcolor=#f3eef1>0.982</td>\\n</tr>\\n<tr>\\n<td bgcolor=#FFFFFF>1</td>\\n<td bgcolor=#FFFFFF>0</td>\\n<td bgcolor=#f6d9e0>0.843</td>\\n</tr>\\n<tr>\\n<td bgcolor=#FFFFFF>1</td>\\n<td bgcolor=#FFFFFF>1</td>\\n<td bgcolor=#b9d4db>0.157</td>\\n</tr>\\n</table>\", \"<table border=\\\"1\\\" cellpadding=\\\"4\\\" cellspacing=\\\"0\\\" bordercolor=\\\"#000000\\\">\\n<tr bgcolor=\\\"#AAAAAA\\\">\\n<th align=\\\"center\\\">8</th>\\n<th align=\\\"center\\\">9</th>\\n<th align=\\\"center\\\">Prob.</th>\\n</tr>\\n<tr>\\n<td bgcolor=#FFFFFF>0</td>\\n<td bgcolor=#FFFFFF>0</td>\\n<td bgcolor=#f6b5b1>0.008</td>\\n</tr>\\n<tr>\\n<td bgcolor=#FFFFFF>0</td>\\n<td bgcolor=#FFFFFF>1</td>\\n<td bgcolor=#f2f0f1>0.992</td>\\n</tr>\\n<tr>\\n<td bgcolor=#FFFFFF>1</td>\\n<td bgcolor=#FFFFFF>0</td>\\n<td bgcolor=#d2dfcf>0.296</td>\\n</tr>\\n<tr>\\n<td bgcolor=#FFFFFF>1</td>\\n<td bgcolor=#FFFFFF>1</td>\\n<td bgcolor=#eee5c2>0.704</td>\\n</tr>\\n</table>\"], \"type\": \"htmltooltip\", \"voffset\": 10, \"id\": \"el11945140492416424032pts\", \"hoffset\": 10}], \"axes\": [{\"bbox\": [0.125, 0.125, 0.775, 0.775], \"sharey\": [], \"zoomable\": true, \"collections\": [], \"markers\": [{\"coordinates\": \"data\", \"edgecolor\": \"#000000\", \"yindex\": 1, \"xindex\": 0, \"alpha\": 1.0, \"zorder\": 2, \"markerpath\": [[[0.0, 10.0], [2.652031, 10.0], [5.195798707848534, 8.946336915882418], [7.0710678118654755, 7.0710678118654755], [8.946336915882418, 5.195798707848534], [10.0, 2.652031], [10.0, 0.0], [10.0, -2.652031], [8.946336915882418, -5.195798707848534], [7.0710678118654755, -7.0710678118654755], [5.195798707848534, -8.946336915882418], [2.652031, -10.0], [0.0, -10.0], [-2.652031, -10.0], [-5.195798707848534, -8.946336915882418], [-7.0710678118654755, -7.0710678118654755], [-8.946336915882418, -5.195798707848534], [-10.0, -2.652031], [-10.0, 0.0], [-10.0, 2.652031], [-8.946336915882418, 5.195798707848534], [-7.0710678118654755, 7.0710678118654755], [-5.195798707848534, 8.946336915882418], [-2.652031, 10.0], [0.0, 10.0]], [\"M\", \"C\", \"C\", \"C\", \"C\", \"C\", \"C\", \"C\", \"C\", \"Z\"]], \"id\": \"el11945140492416392272pts\", \"edgewidth\": 1, \"facecolor\": \"#D3D3D3\", \"data\": \"data19\"}, {\"coordinates\": \"data\", \"edgecolor\": \"#000000\", \"yindex\": 1, \"xindex\": 0, \"alpha\": 0.0, \"zorder\": 2, \"markerpath\": [[[0.0, 20.0], [5.304062, 20.0], [10.391597415697069, 17.892673831764835], [14.142135623730951, 14.142135623730951], [17.892673831764835, 10.391597415697069], [20.0, 5.304062], [20.0, 0.0], [20.0, -5.304062], [17.892673831764835, -10.391597415697069], [14.142135623730951, -14.142135623730951], [10.391597415697069, -17.892673831764835], [5.304062, -20.0], [0.0, -20.0], [-5.304062, -20.0], [-10.391597415697069, -17.892673831764835], [-14.142135623730951, -14.142135623730951], [-17.892673831764835, -10.391597415697069], [-20.0, -5.304062], [-20.0, 0.0], [-20.0, 5.304062], [-17.892673831764835, 10.391597415697069], [-14.142135623730951, 14.142135623730951], [-10.391597415697069, 17.892673831764835], [-5.304062, 20.0], [0.0, 20.0]], [\"M\", \"C\", \"C\", \"C\", \"C\", \"C\", \"C\", \"C\", \"C\", \"Z\"]], \"id\": \"el11945140492416424032pts\", \"edgewidth\": 1, \"facecolor\": \"#D3D3D3\", \"data\": \"data19\"}], \"paths\": [], \"xlim\": [-1.1874471001015556, 1.08], \"texts\": [{\"id\": \"el11945140492416366632\", \"zorder\": 3, \"h_anchor\": \"middle\", \"color\": \"#000000\", \"fontsize\": 10.0, \"coordinates\": \"data\", \"text\": \"0\", \"rotation\": -0.0, \"position\": [1.0, 0.48798948662314473], \"v_baseline\": \"central\", \"alpha\": 1}, {\"id\": \"el11945140492416368144\", \"zorder\": 3, \"h_anchor\": \"middle\", \"color\": \"#000000\", \"fontsize\": 10.0, \"coordinates\": \"data\", \"text\": \"1\", \"rotation\": -0.0, \"position\": [0.3740891190649708, -0.5623840525053511], \"v_baseline\": \"central\", \"alpha\": 1}, {\"id\": \"el11945140492415865744\", \"zorder\": 3, \"h_anchor\": \"middle\", \"color\": \"#000000\", \"fontsize\": 10.0, \"coordinates\": \"data\", \"text\": \"2\", \"rotation\": -0.0, \"position\": [0.10537523890060294, -0.20376257684078353], \"v_baseline\": \"central\", \"alpha\": 1}, {\"id\": \"el11945140492415867088\", \"zorder\": 3, \"h_anchor\": \"middle\", \"color\": \"#000000\", \"fontsize\": 10.0, \"coordinates\": \"data\", \"text\": \"3\", \"rotation\": -0.0, \"position\": [0.3424031702524202, 0.023647028796796258], \"v_baseline\": \"central\", \"alpha\": 1}, {\"id\": \"el11945140492415868432\", \"zorder\": 3, \"h_anchor\": \"middle\", \"color\": \"#000000\", \"fontsize\": 10.0, \"coordinates\": \"data\", \"text\": \"4\", \"rotation\": -0.0, \"position\": [-0.1884936510881002, -0.1314723065332603], \"v_baseline\": \"central\", \"alpha\": 1}, {\"id\": \"el11945140492415894416\", \"zorder\": 3, \"h_anchor\": \"middle\", \"color\": \"#000000\", \"fontsize\": 10.0, \"coordinates\": \"data\", \"text\": \"5\", \"rotation\": -0.0, \"position\": [0.590843813674389, -0.6370828634952039], \"v_baseline\": \"central\", \"alpha\": 1}, {\"id\": \"el11945140492415895760\", \"zorder\": 3, \"h_anchor\": \"middle\", \"color\": \"#000000\", \"fontsize\": 10.0, \"coordinates\": \"data\", \"text\": \"6\", \"rotation\": -0.0, \"position\": [-1.1074471001015556, -0.3866040245694813], \"v_baseline\": \"central\", \"alpha\": 1}, {\"id\": \"el11945140492415897104\", \"zorder\": 3, \"h_anchor\": \"middle\", \"color\": \"#000000\", \"fontsize\": 10.0, \"coordinates\": \"data\", \"text\": \"7\", \"rotation\": -0.0, \"position\": [-0.9193845125625624, 0.32282741236708407], \"v_baseline\": \"central\", \"alpha\": 1}, {\"id\": \"el11945140492415914896\", \"zorder\": 3, \"h_anchor\": \"middle\", \"color\": \"#000000\", \"fontsize\": 10.0, \"coordinates\": \"data\", \"text\": \"8\", \"rotation\": -0.0, \"position\": [-0.42503501041129926, 0.6048100332016992], \"v_baseline\": \"central\", \"alpha\": 1}, {\"id\": \"el11945140492415916240\", \"zorder\": 3, \"h_anchor\": \"middle\", \"color\": \"#000000\", \"fontsize\": 10.0, \"coordinates\": \"data\", \"text\": \"9\", \"rotation\": -0.0, \"position\": [0.22764893227113567, 0.48203186295535644], \"v_baseline\": \"central\", \"alpha\": 1}], \"yscale\": \"linear\", \"images\": [], \"ylim\": [-0.7170828634952039, 0.6848100332016992], \"axesbg\": \"#FFFFFF\", \"id\": \"el11945140492416413648\", \"axes\": [{\"tickformat\": null, \"grid\": {\"gridOn\": false}, \"tickvalues\": null, \"position\": \"bottom\", \"fontsize\": 10.0, \"nticks\": 7, \"scale\": \"linear\"}, {\"tickformat\": null, \"grid\": {\"gridOn\": false}, \"tickvalues\": null, \"position\": \"left\", \"fontsize\": 10.0, \"nticks\": 9, \"scale\": \"linear\"}], \"xscale\": \"linear\", \"ydomain\": [-0.7170828634952039, 0.6848100332016992], \"axesbgalpha\": null, \"sharex\": [], \"lines\": [{\"coordinates\": \"data\", \"linewidth\": 1.0, \"yindex\": 1, \"xindex\": 0, \"zorder\": 2, \"dasharray\": \"10,0\", \"color\": \"#808080\", \"id\": \"el11945140492418962880\", \"alpha\": 1, \"data\": \"data01\"}, {\"coordinates\": \"data\", \"linewidth\": 5, \"yindex\": 1, \"xindex\": 0, \"zorder\": 2, \"dasharray\": \"10,0\", \"color\": \"#000000\", \"id\": \"el11945140492416203576\", \"alpha\": 0.5, \"data\": \"data02\"}, {\"coordinates\": \"data\", \"linewidth\": 1.0, \"yindex\": 1, \"xindex\": 0, \"zorder\": 2, \"dasharray\": \"10,0\", \"color\": \"#808080\", \"id\": \"el11945140492416222264\", \"alpha\": 1, \"data\": \"data03\"}, {\"coordinates\": \"data\", \"linewidth\": 5, \"yindex\": 1, \"xindex\": 0, \"zorder\": 2, \"dasharray\": \"10,0\", \"color\": \"#000000\", \"id\": \"el11945140492416224112\", \"alpha\": 0.5, \"data\": \"data04\"}, {\"coordinates\": \"data\", \"linewidth\": 1.0, \"yindex\": 1, \"xindex\": 0, \"zorder\": 2, \"dasharray\": \"10,0\", \"color\": \"#808080\", \"id\": \"el11945140492416254752\", \"alpha\": 1, \"data\": \"data05\"}, {\"coordinates\": \"data\", \"linewidth\": 5, \"yindex\": 1, \"xindex\": 0, \"zorder\": 2, \"dasharray\": \"10,0\", \"color\": \"#000000\", \"id\": \"el11945140492416256712\", \"alpha\": 0.5, \"data\": \"data06\"}, {\"coordinates\": \"data\", \"linewidth\": 1.0, \"yindex\": 1, \"xindex\": 0, \"zorder\": 2, \"dasharray\": \"10,0\", \"color\": \"#808080\", \"id\": \"el11945140492416275120\", \"alpha\": 1, \"data\": \"data07\"}, {\"coordinates\": \"data\", \"linewidth\": 5, \"yindex\": 1, \"xindex\": 0, \"zorder\": 2, \"dasharray\": \"10,0\", \"color\": \"#000000\", \"id\": \"el11945140492416277080\", \"alpha\": 0.5, \"data\": \"data08\"}, {\"coordinates\": \"data\", \"linewidth\": 1.0, \"yindex\": 1, \"xindex\": 0, \"zorder\": 2, \"dasharray\": \"10,0\", \"color\": \"#808080\", \"id\": \"el11945140492416299584\", \"alpha\": 1, \"data\": \"data09\"}, {\"coordinates\": \"data\", \"linewidth\": 5, \"yindex\": 1, \"xindex\": 0, \"zorder\": 2, \"dasharray\": \"10,0\", \"color\": \"#000000\", \"id\": \"el11945140492416301544\", \"alpha\": 0.5, \"data\": \"data10\"}, {\"coordinates\": \"data\", \"linewidth\": 1.0, \"yindex\": 1, \"xindex\": 0, \"zorder\": 2, \"dasharray\": \"10,0\", \"color\": \"#808080\", \"id\": \"el11945140492416328144\", \"alpha\": 1, \"data\": \"data11\"}, {\"coordinates\": \"data\", \"linewidth\": 5, \"yindex\": 1, \"xindex\": 0, \"zorder\": 2, \"dasharray\": \"10,0\", \"color\": \"#000000\", \"id\": \"el11945140492416330104\", \"alpha\": 0.5, \"data\": \"data12\"}, {\"coordinates\": \"data\", \"linewidth\": 1.0, \"yindex\": 1, \"xindex\": 0, \"zorder\": 2, \"dasharray\": \"10,0\", \"color\": \"#808080\", \"id\": \"el11945140492416344416\", \"alpha\": 1, \"data\": \"data13\"}, {\"coordinates\": \"data\", \"linewidth\": 5, \"yindex\": 1, \"xindex\": 0, \"zorder\": 2, \"dasharray\": \"10,0\", \"color\": \"#000000\", \"id\": \"el11945140492416346376\", \"alpha\": 0.5, \"data\": \"data14\"}, {\"coordinates\": \"data\", \"linewidth\": 1.0, \"yindex\": 1, \"xindex\": 0, \"zorder\": 2, \"dasharray\": \"10,0\", \"color\": \"#808080\", \"id\": \"el11945140492416566384\", \"alpha\": 1, \"data\": \"data15\"}, {\"coordinates\": \"data\", \"linewidth\": 5, \"yindex\": 1, \"xindex\": 0, \"zorder\": 2, \"dasharray\": \"10,0\", \"color\": \"#000000\", \"id\": \"el11945140492416552128\", \"alpha\": 0.5, \"data\": \"data16\"}, {\"coordinates\": \"data\", \"linewidth\": 1.0, \"yindex\": 1, \"xindex\": 0, \"zorder\": 2, \"dasharray\": \"10,0\", \"color\": \"#808080\", \"id\": \"el11945140492416520432\", \"alpha\": 1, \"data\": \"data17\"}, {\"coordinates\": \"data\", \"linewidth\": 5, \"yindex\": 1, \"xindex\": 0, \"zorder\": 2, \"dasharray\": \"10,0\", \"color\": \"#000000\", \"id\": \"el11945140492416458312\", \"alpha\": 0.5, \"data\": \"data18\"}], \"xdomain\": [-1.1874471001015556, 1.08]}], \"id\": \"el11945140492420246720\", \"width\": 960.0, \"data\": {\"data14\": [[-0.9696040827495372, -0.3483342668640481], [-1.1074471001015556, -0.3866040245694813]], \"data09\": [[-0.1884936510881002, -0.1314723065332603], [-0.42503501041129926, 0.6048100332016992]], \"data16\": [[-0.8097508833413931, 0.2546824545320324], [-0.9193845125625624, 0.32282741236708407]], \"data15\": [[-0.1884936510881002, -0.1314723065332603], [-0.9193845125625624, 0.32282741236708407]], \"data05\": [[1.0, 0.48798948662314473], [0.3424031702524202, 0.023647028796796258]], \"data12\": [[0.4739431939600156, -0.5612412799509124], [0.590843813674389, -0.6370828634952039]], \"data18\": [[0.12974634086877043, 0.5004485884923079], [0.22764893227113567, 0.48203186295535644]], \"data19\": [[1.0, 0.48798948662314473], [0.3740891190649708, -0.5623840525053511], [0.10537523890060294, -0.20376257684078353], [0.3424031702524202, 0.023647028796796258], [-0.1884936510881002, -0.1314723065332603], [0.590843813674389, -0.6370828634952039], [-1.1074471001015556, -0.3866040245694813], [-0.9193845125625624, 0.32282741236708407], [-0.42503501041129926, 0.6048100332016992], [0.22764893227113567, 0.48203186295535644]], \"data03\": [[1.0, 0.48798948662314473], [0.10537523890060294, -0.20376257684078353]], \"data06\": [[0.44104269471455715, 0.09329839747074853], [0.3424031702524202, 0.023647028796796258]], \"data11\": [[-0.1884936510881002, -0.1314723065332603], [0.590843813674389, -0.6370828634952039]], \"data07\": [[1.0, 0.48798948662314473], [-0.1884936510881002, -0.1314723065332603]], \"data17\": [[-0.42503501041129926, 0.6048100332016992], [0.22764893227113567, 0.48203186295535644]], \"data04\": [[0.23956895306551249, -0.0999997673211943], [0.10537523890060294, -0.20376257684078353]], \"data13\": [[-0.1884936510881002, -0.1314723065332603], [-1.1074471001015556, -0.3866040245694813]], \"data01\": [[1.0, 0.48798948662314473], [0.3740891190649708, -0.5623840525053511]], \"data08\": [[-0.010219603424885204, -0.03855303755979955], [-0.1884936510881002, -0.1314723065332603]], \"data02\": [[0.46797575120522517, -0.4048280216360767], [0.3740891190649708, -0.5623840525053511]], \"data10\": [[-0.3895538065128194, 0.49436768224145533], [-0.42503501041129926, 0.6048100332016992]]}});\n",
       "      });\n",
       "    });\n",
       "}else{\n",
       "    // require.js not available: dynamically load d3 & mpld3\n",
       "    mpld3_load_lib(\"https://mpld3.github.io/js/d3.v3.min.js\", function(){\n",
       "         mpld3_load_lib(\"https://mpld3.github.io/js/mpld3.v0.2.js\", function(){\n",
       "                 \n",
       "    mpld3.register_plugin(\"htmltooltip\", HtmlTooltipPlugin);\n",
       "    HtmlTooltipPlugin.prototype = Object.create(mpld3.Plugin.prototype);\n",
       "    HtmlTooltipPlugin.prototype.constructor = HtmlTooltipPlugin;\n",
       "    HtmlTooltipPlugin.prototype.requiredProps = [\"id\"];\n",
       "    HtmlTooltipPlugin.prototype.defaultProps = {labels:null, hoffset:0, voffset:10};\n",
       "    function HtmlTooltipPlugin(fig, props){\n",
       "        mpld3.Plugin.call(this, fig, props);\n",
       "    };\n",
       "\n",
       "    HtmlTooltipPlugin.prototype.draw = function(){\n",
       "       var obj = mpld3.get_element(this.props.id);\n",
       "       var labels = this.props.labels;\n",
       "       var tooltip = d3.select(\"body\").append(\"div\")\n",
       "                    .attr(\"class\", \"mpld3-tooltip\")\n",
       "                    .style(\"position\", \"absolute\")\n",
       "                    .style(\"z-index\", \"10\")\n",
       "                    .style(\"visibility\", \"hidden\");\n",
       "\n",
       "       obj.elements()\n",
       "           .on(\"mouseover\", function(d, i){\n",
       "                              tooltip.html(labels[i])\n",
       "                                     .style(\"visibility\", \"visible\");})\n",
       "           .on(\"mousemove\", function(d, i){\n",
       "                    tooltip\n",
       "                      .style(\"top\", d3.event.pageY + this.props.voffset + \"px\")\n",
       "                      .style(\"left\",d3.event.pageX + this.props.hoffset + \"px\");\n",
       "                 }.bind(this))\n",
       "           .on(\"mouseout\",  function(d, i){\n",
       "                           tooltip.style(\"visibility\", \"hidden\");});\n",
       "    };\n",
       "    \n",
       "                 mpld3.draw_figure(\"fig_el119451404924202467208005616753\", {\"height\": 640.0, \"plugins\": [{\"type\": \"reset\"}, {\"enabled\": false, \"type\": \"zoom\", \"button\": true}, {\"enabled\": false, \"type\": \"boxzoom\", \"button\": true}, {\"labels\": [\"<table border=\\\"1\\\" cellpadding=\\\"4\\\" cellspacing=\\\"0\\\" bordercolor=\\\"#000000\\\">\\n<tr bgcolor=\\\"#AAAAAA\\\">\\n<th align=\\\"center\\\">0</th>\\n<th align=\\\"center\\\">Prob.</th>\\n</tr>\\n<tr>\\n<td bgcolor=#FFFFFF>0</td>\\n<td bgcolor=#c5e2cd>0.217</td>\\n</tr>\\n<tr>\\n<td bgcolor=#FFFFFF>1</td>\\n<td bgcolor=#ebd8c9>0.783</td>\\n</tr>\\n</table>\", \"<table border=\\\"1\\\" cellpadding=\\\"4\\\" cellspacing=\\\"0\\\" bordercolor=\\\"#000000\\\">\\n<tr bgcolor=\\\"#AAAAAA\\\">\\n<th align=\\\"center\\\">0</th>\\n<th align=\\\"center\\\">1</th>\\n<th align=\\\"center\\\">Prob.</th>\\n</tr>\\n<tr>\\n<td bgcolor=#FFFFFF>0</td>\\n<td bgcolor=#FFFFFF>0</td>\\n<td bgcolor=#bdd9d6>0.179</td>\\n</tr>\\n<tr>\\n<td bgcolor=#FFFFFF>0</td>\\n<td bgcolor=#FFFFFF>1</td>\\n<td bgcolor=#f3d9d8>0.821</td>\\n</tr>\\n<tr>\\n<td bgcolor=#FFFFFF>1</td>\\n<td bgcolor=#FFFFFF>0</td>\\n<td bgcolor=#fbf9c9>0.643</td>\\n</tr>\\n<tr>\\n<td bgcolor=#FFFFFF>1</td>\\n<td bgcolor=#FFFFFF>1</td>\\n<td bgcolor=#dbcfdf>0.357</td>\\n</tr>\\n</table>\", \"<table border=\\\"1\\\" cellpadding=\\\"4\\\" cellspacing=\\\"0\\\" bordercolor=\\\"#000000\\\">\\n<tr bgcolor=\\\"#AAAAAA\\\">\\n<th align=\\\"center\\\">0</th>\\n<th align=\\\"center\\\">2</th>\\n<th align=\\\"center\\\">Prob.</th>\\n</tr>\\n<tr>\\n<td bgcolor=#FFFFFF>0</td>\\n<td bgcolor=#FFFFFF>0</td>\\n<td bgcolor=#c6e4cb>0.223</td>\\n</tr>\\n<tr>\\n<td bgcolor=#FFFFFF>0</td>\\n<td bgcolor=#FFFFFF>1</td>\\n<td bgcolor=#ead8c6>0.777</td>\\n</tr>\\n<tr>\\n<td bgcolor=#FFFFFF>1</td>\\n<td bgcolor=#FFFFFF>0</td>\\n<td bgcolor=#e8ddbf>0.733</td>\\n</tr>\\n<tr>\\n<td bgcolor=#FFFFFF>1</td>\\n<td bgcolor=#FFFFFF>1</td>\\n<td bgcolor=#cee6c9>0.267</td>\\n</tr>\\n</table>\", \"<table border=\\\"1\\\" cellpadding=\\\"4\\\" cellspacing=\\\"0\\\" bordercolor=\\\"#000000\\\">\\n<tr bgcolor=\\\"#AAAAAA\\\">\\n<th align=\\\"center\\\">0</th>\\n<th align=\\\"center\\\">3</th>\\n<th align=\\\"center\\\">Prob.</th>\\n</tr>\\n<tr>\\n<td bgcolor=#FFFFFF>0</td>\\n<td bgcolor=#FFFFFF>0</td>\\n<td bgcolor=#c2dfd0>0.205</td>\\n</tr>\\n<tr>\\n<td bgcolor=#FFFFFF>0</td>\\n<td bgcolor=#FFFFFF>1</td>\\n<td bgcolor=#edd8ce>0.795</td>\\n</tr>\\n<tr>\\n<td bgcolor=#FFFFFF>1</td>\\n<td bgcolor=#FFFFFF>0</td>\\n<td bgcolor=#f0d8d4>0.811</td>\\n</tr>\\n<tr>\\n<td bgcolor=#FFFFFF>1</td>\\n<td bgcolor=#FFFFFF>1</td>\\n<td bgcolor=#bfdcd3>0.189</td>\\n</tr>\\n</table>\", \"<table border=\\\"1\\\" cellpadding=\\\"4\\\" cellspacing=\\\"0\\\" bordercolor=\\\"#000000\\\">\\n<tr bgcolor=\\\"#AAAAAA\\\">\\n<th align=\\\"center\\\">0</th>\\n<th align=\\\"center\\\">4</th>\\n<th align=\\\"center\\\">Prob.</th>\\n</tr>\\n<tr>\\n<td bgcolor=#FFFFFF>0</td>\\n<td bgcolor=#FFFFFF>0</td>\\n<td bgcolor=#d2dfcf>0.295</td>\\n</tr>\\n<tr>\\n<td bgcolor=#FFFFFF>0</td>\\n<td bgcolor=#FFFFFF>1</td>\\n<td bgcolor=#eee5c2>0.705</td>\\n</tr>\\n<tr>\\n<td bgcolor=#FFFFFF>1</td>\\n<td bgcolor=#FFFFFF>0</td>\\n<td bgcolor=#fdfdcb>0.629</td>\\n</tr>\\n<tr>\\n<td bgcolor=#FFFFFF>1</td>\\n<td bgcolor=#FFFFFF>1</td>\\n<td bgcolor=#ddcce2>0.371</td>\\n</tr>\\n</table>\", \"<table border=\\\"1\\\" cellpadding=\\\"4\\\" cellspacing=\\\"0\\\" bordercolor=\\\"#000000\\\">\\n<tr bgcolor=\\\"#AAAAAA\\\">\\n<th align=\\\"center\\\">4</th>\\n<th align=\\\"center\\\">5</th>\\n<th align=\\\"center\\\">Prob.</th>\\n</tr>\\n<tr>\\n<td bgcolor=#FFFFFF>0</td>\\n<td bgcolor=#FFFFFF>0</td>\\n<td bgcolor=#cde8c7>0.261</td>\\n</tr>\\n<tr>\\n<td bgcolor=#FFFFFF>0</td>\\n<td bgcolor=#FFFFFF>1</td>\\n<td bgcolor=#e6dabe>0.739</td>\\n</tr>\\n<tr>\\n<td bgcolor=#FFFFFF>1</td>\\n<td bgcolor=#FFFFFF>0</td>\\n<td bgcolor=#d0c2cd>0.075</td>\\n</tr>\\n<tr>\\n<td bgcolor=#FFFFFF>1</td>\\n<td bgcolor=#FFFFFF>1</td>\\n<td bgcolor=#f8e3ee>0.925</td>\\n</tr>\\n</table>\", \"<table border=\\\"1\\\" cellpadding=\\\"4\\\" cellspacing=\\\"0\\\" bordercolor=\\\"#000000\\\">\\n<tr bgcolor=\\\"#AAAAAA\\\">\\n<th align=\\\"center\\\">4</th>\\n<th align=\\\"center\\\">6</th>\\n<th align=\\\"center\\\">Prob.</th>\\n</tr>\\n<tr>\\n<td bgcolor=#FFFFFF>0</td>\\n<td bgcolor=#FFFFFF>0</td>\\n<td bgcolor=#c6e4cb>0.223</td>\\n</tr>\\n<tr>\\n<td bgcolor=#FFFFFF>0</td>\\n<td bgcolor=#FFFFFF>1</td>\\n<td bgcolor=#ead8c6>0.777</td>\\n</tr>\\n<tr>\\n<td bgcolor=#FFFFFF>1</td>\\n<td bgcolor=#FFFFFF>0</td>\\n<td bgcolor=#d2c2cb>0.072</td>\\n</tr>\\n<tr>\\n<td bgcolor=#FFFFFF>1</td>\\n<td bgcolor=#FFFFFF>1</td>\\n<td bgcolor=#f8e4ee>0.928</td>\\n</tr>\\n</table>\", \"<table border=\\\"1\\\" cellpadding=\\\"4\\\" cellspacing=\\\"0\\\" bordercolor=\\\"#000000\\\">\\n<tr bgcolor=\\\"#AAAAAA\\\">\\n<th align=\\\"center\\\">4</th>\\n<th align=\\\"center\\\">7</th>\\n<th align=\\\"center\\\">Prob.</th>\\n</tr>\\n<tr>\\n<td bgcolor=#FFFFFF>0</td>\\n<td bgcolor=#FFFFFF>0</td>\\n<td bgcolor=#ede4c1>0.710</td>\\n</tr>\\n<tr>\\n<td bgcolor=#FFFFFF>0</td>\\n<td bgcolor=#FFFFFF>1</td>\\n<td bgcolor=#d1e0ce>0.290</td>\\n</tr>\\n<tr>\\n<td bgcolor=#FFFFFF>1</td>\\n<td bgcolor=#FFFFFF>0</td>\\n<td bgcolor=#cde8c7>0.260</td>\\n</tr>\\n<tr>\\n<td bgcolor=#FFFFFF>1</td>\\n<td bgcolor=#FFFFFF>1</td>\\n<td bgcolor=#e6dabe>0.740</td>\\n</tr>\\n</table>\", \"<table border=\\\"1\\\" cellpadding=\\\"4\\\" cellspacing=\\\"0\\\" bordercolor=\\\"#000000\\\">\\n<tr bgcolor=\\\"#AAAAAA\\\">\\n<th align=\\\"center\\\">4</th>\\n<th align=\\\"center\\\">8</th>\\n<th align=\\\"center\\\">Prob.</th>\\n</tr>\\n<tr>\\n<td bgcolor=#FFFFFF>0</td>\\n<td bgcolor=#FFFFFF>0</td>\\n<td bgcolor=#f1b7b4>0.018</td>\\n</tr>\\n<tr>\\n<td bgcolor=#FFFFFF>0</td>\\n<td bgcolor=#FFFFFF>1</td>\\n<td bgcolor=#f3eef1>0.982</td>\\n</tr>\\n<tr>\\n<td bgcolor=#FFFFFF>1</td>\\n<td bgcolor=#FFFFFF>0</td>\\n<td bgcolor=#f6d9e0>0.843</td>\\n</tr>\\n<tr>\\n<td bgcolor=#FFFFFF>1</td>\\n<td bgcolor=#FFFFFF>1</td>\\n<td bgcolor=#b9d4db>0.157</td>\\n</tr>\\n</table>\", \"<table border=\\\"1\\\" cellpadding=\\\"4\\\" cellspacing=\\\"0\\\" bordercolor=\\\"#000000\\\">\\n<tr bgcolor=\\\"#AAAAAA\\\">\\n<th align=\\\"center\\\">8</th>\\n<th align=\\\"center\\\">9</th>\\n<th align=\\\"center\\\">Prob.</th>\\n</tr>\\n<tr>\\n<td bgcolor=#FFFFFF>0</td>\\n<td bgcolor=#FFFFFF>0</td>\\n<td bgcolor=#f6b5b1>0.008</td>\\n</tr>\\n<tr>\\n<td bgcolor=#FFFFFF>0</td>\\n<td bgcolor=#FFFFFF>1</td>\\n<td bgcolor=#f2f0f1>0.992</td>\\n</tr>\\n<tr>\\n<td bgcolor=#FFFFFF>1</td>\\n<td bgcolor=#FFFFFF>0</td>\\n<td bgcolor=#d2dfcf>0.296</td>\\n</tr>\\n<tr>\\n<td bgcolor=#FFFFFF>1</td>\\n<td bgcolor=#FFFFFF>1</td>\\n<td bgcolor=#eee5c2>0.704</td>\\n</tr>\\n</table>\"], \"type\": \"htmltooltip\", \"voffset\": 10, \"id\": \"el11945140492416424032pts\", \"hoffset\": 10}], \"axes\": [{\"bbox\": [0.125, 0.125, 0.775, 0.775], \"sharey\": [], \"zoomable\": true, \"collections\": [], \"markers\": [{\"coordinates\": \"data\", \"edgecolor\": \"#000000\", \"yindex\": 1, \"xindex\": 0, \"alpha\": 1.0, \"zorder\": 2, \"markerpath\": [[[0.0, 10.0], [2.652031, 10.0], [5.195798707848534, 8.946336915882418], [7.0710678118654755, 7.0710678118654755], [8.946336915882418, 5.195798707848534], [10.0, 2.652031], [10.0, 0.0], [10.0, -2.652031], [8.946336915882418, -5.195798707848534], [7.0710678118654755, -7.0710678118654755], [5.195798707848534, -8.946336915882418], [2.652031, -10.0], [0.0, -10.0], [-2.652031, -10.0], [-5.195798707848534, -8.946336915882418], [-7.0710678118654755, -7.0710678118654755], [-8.946336915882418, -5.195798707848534], [-10.0, -2.652031], [-10.0, 0.0], [-10.0, 2.652031], [-8.946336915882418, 5.195798707848534], [-7.0710678118654755, 7.0710678118654755], [-5.195798707848534, 8.946336915882418], [-2.652031, 10.0], [0.0, 10.0]], [\"M\", \"C\", \"C\", \"C\", \"C\", \"C\", \"C\", \"C\", \"C\", \"Z\"]], \"id\": \"el11945140492416392272pts\", \"edgewidth\": 1, \"facecolor\": \"#D3D3D3\", \"data\": \"data19\"}, {\"coordinates\": \"data\", \"edgecolor\": \"#000000\", \"yindex\": 1, \"xindex\": 0, \"alpha\": 0.0, \"zorder\": 2, \"markerpath\": [[[0.0, 20.0], [5.304062, 20.0], [10.391597415697069, 17.892673831764835], [14.142135623730951, 14.142135623730951], [17.892673831764835, 10.391597415697069], [20.0, 5.304062], [20.0, 0.0], [20.0, -5.304062], [17.892673831764835, -10.391597415697069], [14.142135623730951, -14.142135623730951], [10.391597415697069, -17.892673831764835], [5.304062, -20.0], [0.0, -20.0], [-5.304062, -20.0], [-10.391597415697069, -17.892673831764835], [-14.142135623730951, -14.142135623730951], [-17.892673831764835, -10.391597415697069], [-20.0, -5.304062], [-20.0, 0.0], [-20.0, 5.304062], [-17.892673831764835, 10.391597415697069], [-14.142135623730951, 14.142135623730951], [-10.391597415697069, 17.892673831764835], [-5.304062, 20.0], [0.0, 20.0]], [\"M\", \"C\", \"C\", \"C\", \"C\", \"C\", \"C\", \"C\", \"C\", \"Z\"]], \"id\": \"el11945140492416424032pts\", \"edgewidth\": 1, \"facecolor\": \"#D3D3D3\", \"data\": \"data19\"}], \"paths\": [], \"xlim\": [-1.1874471001015556, 1.08], \"texts\": [{\"id\": \"el11945140492416366632\", \"zorder\": 3, \"h_anchor\": \"middle\", \"color\": \"#000000\", \"fontsize\": 10.0, \"coordinates\": \"data\", \"text\": \"0\", \"rotation\": -0.0, \"position\": [1.0, 0.48798948662314473], \"v_baseline\": \"central\", \"alpha\": 1}, {\"id\": \"el11945140492416368144\", \"zorder\": 3, \"h_anchor\": \"middle\", \"color\": \"#000000\", \"fontsize\": 10.0, \"coordinates\": \"data\", \"text\": \"1\", \"rotation\": -0.0, \"position\": [0.3740891190649708, -0.5623840525053511], \"v_baseline\": \"central\", \"alpha\": 1}, {\"id\": \"el11945140492415865744\", \"zorder\": 3, \"h_anchor\": \"middle\", \"color\": \"#000000\", \"fontsize\": 10.0, \"coordinates\": \"data\", \"text\": \"2\", \"rotation\": -0.0, \"position\": [0.10537523890060294, -0.20376257684078353], \"v_baseline\": \"central\", \"alpha\": 1}, {\"id\": \"el11945140492415867088\", \"zorder\": 3, \"h_anchor\": \"middle\", \"color\": \"#000000\", \"fontsize\": 10.0, \"coordinates\": \"data\", \"text\": \"3\", \"rotation\": -0.0, \"position\": [0.3424031702524202, 0.023647028796796258], \"v_baseline\": \"central\", \"alpha\": 1}, {\"id\": \"el11945140492415868432\", \"zorder\": 3, \"h_anchor\": \"middle\", \"color\": \"#000000\", \"fontsize\": 10.0, \"coordinates\": \"data\", \"text\": \"4\", \"rotation\": -0.0, \"position\": [-0.1884936510881002, -0.1314723065332603], \"v_baseline\": \"central\", \"alpha\": 1}, {\"id\": \"el11945140492415894416\", \"zorder\": 3, \"h_anchor\": \"middle\", \"color\": \"#000000\", \"fontsize\": 10.0, \"coordinates\": \"data\", \"text\": \"5\", \"rotation\": -0.0, \"position\": [0.590843813674389, -0.6370828634952039], \"v_baseline\": \"central\", \"alpha\": 1}, {\"id\": \"el11945140492415895760\", \"zorder\": 3, \"h_anchor\": \"middle\", \"color\": \"#000000\", \"fontsize\": 10.0, \"coordinates\": \"data\", \"text\": \"6\", \"rotation\": -0.0, \"position\": [-1.1074471001015556, -0.3866040245694813], \"v_baseline\": \"central\", \"alpha\": 1}, {\"id\": \"el11945140492415897104\", \"zorder\": 3, \"h_anchor\": \"middle\", \"color\": \"#000000\", \"fontsize\": 10.0, \"coordinates\": \"data\", \"text\": \"7\", \"rotation\": -0.0, \"position\": [-0.9193845125625624, 0.32282741236708407], \"v_baseline\": \"central\", \"alpha\": 1}, {\"id\": \"el11945140492415914896\", \"zorder\": 3, \"h_anchor\": \"middle\", \"color\": \"#000000\", \"fontsize\": 10.0, \"coordinates\": \"data\", \"text\": \"8\", \"rotation\": -0.0, \"position\": [-0.42503501041129926, 0.6048100332016992], \"v_baseline\": \"central\", \"alpha\": 1}, {\"id\": \"el11945140492415916240\", \"zorder\": 3, \"h_anchor\": \"middle\", \"color\": \"#000000\", \"fontsize\": 10.0, \"coordinates\": \"data\", \"text\": \"9\", \"rotation\": -0.0, \"position\": [0.22764893227113567, 0.48203186295535644], \"v_baseline\": \"central\", \"alpha\": 1}], \"yscale\": \"linear\", \"images\": [], \"ylim\": [-0.7170828634952039, 0.6848100332016992], \"axesbg\": \"#FFFFFF\", \"id\": \"el11945140492416413648\", \"axes\": [{\"tickformat\": null, \"grid\": {\"gridOn\": false}, \"tickvalues\": null, \"position\": \"bottom\", \"fontsize\": 10.0, \"nticks\": 7, \"scale\": \"linear\"}, {\"tickformat\": null, \"grid\": {\"gridOn\": false}, \"tickvalues\": null, \"position\": \"left\", \"fontsize\": 10.0, \"nticks\": 9, \"scale\": \"linear\"}], \"xscale\": \"linear\", \"ydomain\": [-0.7170828634952039, 0.6848100332016992], \"axesbgalpha\": null, \"sharex\": [], \"lines\": [{\"coordinates\": \"data\", \"linewidth\": 1.0, \"yindex\": 1, \"xindex\": 0, \"zorder\": 2, \"dasharray\": \"10,0\", \"color\": \"#808080\", \"id\": \"el11945140492418962880\", \"alpha\": 1, \"data\": \"data01\"}, {\"coordinates\": \"data\", \"linewidth\": 5, \"yindex\": 1, \"xindex\": 0, \"zorder\": 2, \"dasharray\": \"10,0\", \"color\": \"#000000\", \"id\": \"el11945140492416203576\", \"alpha\": 0.5, \"data\": \"data02\"}, {\"coordinates\": \"data\", \"linewidth\": 1.0, \"yindex\": 1, \"xindex\": 0, \"zorder\": 2, \"dasharray\": \"10,0\", \"color\": \"#808080\", \"id\": \"el11945140492416222264\", \"alpha\": 1, \"data\": \"data03\"}, {\"coordinates\": \"data\", \"linewidth\": 5, \"yindex\": 1, \"xindex\": 0, \"zorder\": 2, \"dasharray\": \"10,0\", \"color\": \"#000000\", \"id\": \"el11945140492416224112\", \"alpha\": 0.5, \"data\": \"data04\"}, {\"coordinates\": \"data\", \"linewidth\": 1.0, \"yindex\": 1, \"xindex\": 0, \"zorder\": 2, \"dasharray\": \"10,0\", \"color\": \"#808080\", \"id\": \"el11945140492416254752\", \"alpha\": 1, \"data\": \"data05\"}, {\"coordinates\": \"data\", \"linewidth\": 5, \"yindex\": 1, \"xindex\": 0, \"zorder\": 2, \"dasharray\": \"10,0\", \"color\": \"#000000\", \"id\": \"el11945140492416256712\", \"alpha\": 0.5, \"data\": \"data06\"}, {\"coordinates\": \"data\", \"linewidth\": 1.0, \"yindex\": 1, \"xindex\": 0, \"zorder\": 2, \"dasharray\": \"10,0\", \"color\": \"#808080\", \"id\": \"el11945140492416275120\", \"alpha\": 1, \"data\": \"data07\"}, {\"coordinates\": \"data\", \"linewidth\": 5, \"yindex\": 1, \"xindex\": 0, \"zorder\": 2, \"dasharray\": \"10,0\", \"color\": \"#000000\", \"id\": \"el11945140492416277080\", \"alpha\": 0.5, \"data\": \"data08\"}, {\"coordinates\": \"data\", \"linewidth\": 1.0, \"yindex\": 1, \"xindex\": 0, \"zorder\": 2, \"dasharray\": \"10,0\", \"color\": \"#808080\", \"id\": \"el11945140492416299584\", \"alpha\": 1, \"data\": \"data09\"}, {\"coordinates\": \"data\", \"linewidth\": 5, \"yindex\": 1, \"xindex\": 0, \"zorder\": 2, \"dasharray\": \"10,0\", \"color\": \"#000000\", \"id\": \"el11945140492416301544\", \"alpha\": 0.5, \"data\": \"data10\"}, {\"coordinates\": \"data\", \"linewidth\": 1.0, \"yindex\": 1, \"xindex\": 0, \"zorder\": 2, \"dasharray\": \"10,0\", \"color\": \"#808080\", \"id\": \"el11945140492416328144\", \"alpha\": 1, \"data\": \"data11\"}, {\"coordinates\": \"data\", \"linewidth\": 5, \"yindex\": 1, \"xindex\": 0, \"zorder\": 2, \"dasharray\": \"10,0\", \"color\": \"#000000\", \"id\": \"el11945140492416330104\", \"alpha\": 0.5, \"data\": \"data12\"}, {\"coordinates\": \"data\", \"linewidth\": 1.0, \"yindex\": 1, \"xindex\": 0, \"zorder\": 2, \"dasharray\": \"10,0\", \"color\": \"#808080\", \"id\": \"el11945140492416344416\", \"alpha\": 1, \"data\": \"data13\"}, {\"coordinates\": \"data\", \"linewidth\": 5, \"yindex\": 1, \"xindex\": 0, \"zorder\": 2, \"dasharray\": \"10,0\", \"color\": \"#000000\", \"id\": \"el11945140492416346376\", \"alpha\": 0.5, \"data\": \"data14\"}, {\"coordinates\": \"data\", \"linewidth\": 1.0, \"yindex\": 1, \"xindex\": 0, \"zorder\": 2, \"dasharray\": \"10,0\", \"color\": \"#808080\", \"id\": \"el11945140492416566384\", \"alpha\": 1, \"data\": \"data15\"}, {\"coordinates\": \"data\", \"linewidth\": 5, \"yindex\": 1, \"xindex\": 0, \"zorder\": 2, \"dasharray\": \"10,0\", \"color\": \"#000000\", \"id\": \"el11945140492416552128\", \"alpha\": 0.5, \"data\": \"data16\"}, {\"coordinates\": \"data\", \"linewidth\": 1.0, \"yindex\": 1, \"xindex\": 0, \"zorder\": 2, \"dasharray\": \"10,0\", \"color\": \"#808080\", \"id\": \"el11945140492416520432\", \"alpha\": 1, \"data\": \"data17\"}, {\"coordinates\": \"data\", \"linewidth\": 5, \"yindex\": 1, \"xindex\": 0, \"zorder\": 2, \"dasharray\": \"10,0\", \"color\": \"#000000\", \"id\": \"el11945140492416458312\", \"alpha\": 0.5, \"data\": \"data18\"}], \"xdomain\": [-1.1874471001015556, 1.08]}], \"id\": \"el11945140492420246720\", \"width\": 960.0, \"data\": {\"data14\": [[-0.9696040827495372, -0.3483342668640481], [-1.1074471001015556, -0.3866040245694813]], \"data09\": [[-0.1884936510881002, -0.1314723065332603], [-0.42503501041129926, 0.6048100332016992]], \"data16\": [[-0.8097508833413931, 0.2546824545320324], [-0.9193845125625624, 0.32282741236708407]], \"data15\": [[-0.1884936510881002, -0.1314723065332603], [-0.9193845125625624, 0.32282741236708407]], \"data05\": [[1.0, 0.48798948662314473], [0.3424031702524202, 0.023647028796796258]], \"data12\": [[0.4739431939600156, -0.5612412799509124], [0.590843813674389, -0.6370828634952039]], \"data18\": [[0.12974634086877043, 0.5004485884923079], [0.22764893227113567, 0.48203186295535644]], \"data19\": [[1.0, 0.48798948662314473], [0.3740891190649708, -0.5623840525053511], [0.10537523890060294, -0.20376257684078353], [0.3424031702524202, 0.023647028796796258], [-0.1884936510881002, -0.1314723065332603], [0.590843813674389, -0.6370828634952039], [-1.1074471001015556, -0.3866040245694813], [-0.9193845125625624, 0.32282741236708407], [-0.42503501041129926, 0.6048100332016992], [0.22764893227113567, 0.48203186295535644]], \"data03\": [[1.0, 0.48798948662314473], [0.10537523890060294, -0.20376257684078353]], \"data06\": [[0.44104269471455715, 0.09329839747074853], [0.3424031702524202, 0.023647028796796258]], \"data11\": [[-0.1884936510881002, -0.1314723065332603], [0.590843813674389, -0.6370828634952039]], \"data07\": [[1.0, 0.48798948662314473], [-0.1884936510881002, -0.1314723065332603]], \"data17\": [[-0.42503501041129926, 0.6048100332016992], [0.22764893227113567, 0.48203186295535644]], \"data04\": [[0.23956895306551249, -0.0999997673211943], [0.10537523890060294, -0.20376257684078353]], \"data13\": [[-0.1884936510881002, -0.1314723065332603], [-1.1074471001015556, -0.3866040245694813]], \"data01\": [[1.0, 0.48798948662314473], [0.3740891190649708, -0.5623840525053511]], \"data08\": [[-0.010219603424885204, -0.03855303755979955], [-0.1884936510881002, -0.1314723065332603]], \"data02\": [[0.46797575120522517, -0.4048280216360767], [0.3740891190649708, -0.5623840525053511]], \"data10\": [[-0.3895538065128194, 0.49436768224145533], [-0.42503501041129926, 0.6048100332016992]]}});\n",
       "            })\n",
       "         });\n",
       "}\n",
       "</script>"
      ],
      "text/plain": [
       "<IPython.core.display.HTML object>"
      ]
     },
     "execution_count": 52,
     "metadata": {},
     "output_type": "execute_result"
    }
   ],
   "source": [
    "gen().draw()"
   ]
  },
  {
   "cell_type": "code",
   "execution_count": null,
   "metadata": {
    "collapsed": true
   },
   "outputs": [],
   "source": []
  }
 ],
 "metadata": {
  "kernelspec": {
   "display_name": "Python 3",
   "language": "python",
   "name": "python3"
  },
  "language_info": {
   "codemirror_mode": {
    "name": "ipython",
    "version": 3
   },
   "file_extension": ".py",
   "mimetype": "text/x-python",
   "name": "python",
   "nbconvert_exporter": "python",
   "pygments_lexer": "ipython3",
   "version": "3.4.3"
  }
 },
 "nbformat": 4,
 "nbformat_minor": 0
}
