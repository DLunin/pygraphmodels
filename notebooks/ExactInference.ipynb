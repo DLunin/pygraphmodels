{
 "cells": [
  {
   "cell_type": "code",
   "execution_count": 2,
   "metadata": {
    "collapsed": false
   },
   "outputs": [
    {
     "name": "stdout",
     "output_type": "stream",
     "text": [
      "The line_profiler extension is already loaded. To reload it, use:\n",
      "  %reload_ext line_profiler\n"
     ]
    }
   ],
   "source": [
    "import numpy as np\n",
    "import scipy as sp\n",
    "import matplotlib as mpl\n",
    "import matplotlib.pyplot as plt\n",
    "import networkx as nx\n",
    "import pandas as pd\n",
    "import sys\n",
    "sys.path.append('/home/wrwt/Programming/pygraphmodels')\n",
    "import graphmodels as gm\n",
    "from itertools import permutations\n",
    "from graphmodels import MatrixGraph, DGM\n",
    "%matplotlib inline\n",
    "%load_ext line_profiler"
   ]
  },
  {
   "cell_type": "code",
   "execution_count": 4,
   "metadata": {
    "collapsed": false
   },
   "outputs": [
    {
     "data": {
      "text/html": [
       "\n",
       "\n",
       "<style>\n",
       "\n",
       "table\n",
       "{\n",
       "  border-collapse: collapse;\n",
       "}\n",
       "th\n",
       "{\n",
       "  color: #ffffff;\n",
       "  background-color: #000000;\n",
       "}\n",
       "td\n",
       "{\n",
       "  background-color: #cccccc;\n",
       "}\n",
       "table, th, td\n",
       "{\n",
       "  font-family:Arial, Helvetica, sans-serif;\n",
       "  border: 1px solid black;\n",
       "  text-align: center;\n",
       "  padding: 3px;\n",
       "  font-size:11pt;\n",
       "}\n",
       "g.mpld3-xaxis, g.mpld3-yaxis {\n",
       "    display: none;\n",
       "}\n",
       "    \n",
       "</style>\n",
       "\n",
       "<div id=\"fig_el57431402144830102564514481957\"></div>\n",
       "<script>\n",
       "function mpld3_load_lib(url, callback){\n",
       "  var s = document.createElement('script');\n",
       "  s.src = url;\n",
       "  s.async = true;\n",
       "  s.onreadystatechange = s.onload = callback;\n",
       "  s.onerror = function(){console.warn(\"failed to load library \" + url);};\n",
       "  document.getElementsByTagName(\"head\")[0].appendChild(s);\n",
       "}\n",
       "\n",
       "if(typeof(mpld3) !== \"undefined\" && mpld3._mpld3IsLoaded){\n",
       "   // already loaded: just create the figure\n",
       "   !function(mpld3){\n",
       "       \n",
       "    mpld3.register_plugin(\"htmltooltip\", HtmlTooltipPlugin);\n",
       "    HtmlTooltipPlugin.prototype = Object.create(mpld3.Plugin.prototype);\n",
       "    HtmlTooltipPlugin.prototype.constructor = HtmlTooltipPlugin;\n",
       "    HtmlTooltipPlugin.prototype.requiredProps = [\"id\"];\n",
       "    HtmlTooltipPlugin.prototype.defaultProps = {labels:null, hoffset:0, voffset:10};\n",
       "    function HtmlTooltipPlugin(fig, props){\n",
       "        mpld3.Plugin.call(this, fig, props);\n",
       "    };\n",
       "\n",
       "    HtmlTooltipPlugin.prototype.draw = function(){\n",
       "       var obj = mpld3.get_element(this.props.id);\n",
       "       var labels = this.props.labels;\n",
       "       var tooltip = d3.select(\"body\").append(\"div\")\n",
       "                    .attr(\"class\", \"mpld3-tooltip\")\n",
       "                    .style(\"position\", \"absolute\")\n",
       "                    .style(\"z-index\", \"10\")\n",
       "                    .style(\"visibility\", \"hidden\");\n",
       "\n",
       "       obj.elements()\n",
       "           .on(\"mouseover\", function(d, i){\n",
       "                              tooltip.html(labels[i])\n",
       "                                     .style(\"visibility\", \"visible\");})\n",
       "           .on(\"mousemove\", function(d, i){\n",
       "                    tooltip\n",
       "                      .style(\"top\", d3.event.pageY + this.props.voffset + \"px\")\n",
       "                      .style(\"left\",d3.event.pageX + this.props.hoffset + \"px\");\n",
       "                 }.bind(this))\n",
       "           .on(\"mouseout\",  function(d, i){\n",
       "                           tooltip.style(\"visibility\", \"hidden\");});\n",
       "    };\n",
       "    \n",
       "       mpld3.draw_figure(\"fig_el57431402144830102564514481957\", {\"axes\": [{\"xlim\": [-0.080000000000000002, 0.67636626672254152], \"yscale\": \"linear\", \"axesbg\": \"#FFFFFF\", \"texts\": [{\"v_baseline\": \"central\", \"h_anchor\": \"middle\", \"color\": \"#000000\", \"text\": \"Burglary\", \"coordinates\": \"data\", \"zorder\": 3, \"alpha\": 1, \"fontsize\": 10.0, \"position\": [0.25520638739339696, 0.0], \"rotation\": -0.0, \"id\": \"el5743140214467083472\"}, {\"v_baseline\": \"central\", \"h_anchor\": \"middle\", \"color\": \"#000000\", \"text\": \"MaryCalls\", \"coordinates\": \"data\", \"zorder\": 3, \"alpha\": 1, \"fontsize\": 10.0, \"position\": [0.082620036873077105, 0.81901697526087369], \"rotation\": -0.0, \"id\": \"el5743140214466609424\"}, {\"v_baseline\": \"central\", \"h_anchor\": \"middle\", \"color\": \"#000000\", \"text\": \"Alarm\", \"coordinates\": \"data\", \"zorder\": 3, \"alpha\": 1, \"fontsize\": 10.0, \"position\": [0.59636626672254156, 0.45979621900479667], \"rotation\": -0.0, \"id\": \"el5743140214466610512\"}, {\"v_baseline\": \"central\", \"h_anchor\": \"middle\", \"color\": \"#000000\", \"text\": \"JohnCalls\", \"coordinates\": \"data\", \"zorder\": 3, \"alpha\": 1, \"fontsize\": 10.0, \"position\": [0.0, 0.27096924261773087], \"rotation\": -0.0, \"id\": \"el5743140214466611600\"}, {\"v_baseline\": \"central\", \"h_anchor\": \"middle\", \"color\": \"#000000\", \"text\": \"Earthquake\", \"coordinates\": \"data\", \"zorder\": 3, \"alpha\": 1, \"fontsize\": 10.0, \"position\": [0.40708034307108332, 1.0], \"rotation\": -0.0, \"id\": \"el5743140214466612688\"}], \"zoomable\": true, \"images\": [], \"xdomain\": [-0.080000000000000002, 0.67636626672254152], \"ylim\": [-0.080000000000000002, 1.0800000000000001], \"paths\": [], \"sharey\": [], \"sharex\": [], \"axesbgalpha\": null, \"axes\": [{\"scale\": \"linear\", \"tickformat\": null, \"grid\": {\"gridOn\": false}, \"fontsize\": 10.0, \"position\": \"bottom\", \"nticks\": 9, \"tickvalues\": null}, {\"scale\": \"linear\", \"tickformat\": null, \"grid\": {\"gridOn\": false}, \"fontsize\": 10.0, \"position\": \"left\", \"nticks\": 8, \"tickvalues\": null}], \"lines\": [{\"color\": \"#808080\", \"yindex\": 1, \"coordinates\": \"data\", \"dasharray\": \"10,0\", \"zorder\": 2, \"alpha\": 1, \"xindex\": 0, \"linewidth\": 1.0, \"data\": \"data01\", \"id\": \"el5743140214466925392\"}, {\"color\": \"#000000\", \"yindex\": 1, \"coordinates\": \"data\", \"dasharray\": \"10,0\", \"zorder\": 2, \"alpha\": 0.5, \"xindex\": 0, \"linewidth\": 5.0, \"data\": \"data02\", \"id\": \"el5743140214466925968\"}, {\"color\": \"#808080\", \"yindex\": 1, \"coordinates\": \"data\", \"dasharray\": \"10,0\", \"zorder\": 2, \"alpha\": 1, \"xindex\": 0, \"linewidth\": 1.0, \"data\": \"data03\", \"id\": \"el5743140214466927504\"}, {\"color\": \"#000000\", \"yindex\": 1, \"coordinates\": \"data\", \"dasharray\": \"10,0\", \"zorder\": 2, \"alpha\": 0.5, \"xindex\": 0, \"linewidth\": 5.0, \"data\": \"data04\", \"id\": \"el5743140214466986512\"}, {\"color\": \"#808080\", \"yindex\": 1, \"coordinates\": \"data\", \"dasharray\": \"10,0\", \"zorder\": 2, \"alpha\": 1, \"xindex\": 0, \"linewidth\": 1.0, \"data\": \"data05\", \"id\": \"el5743140214466988112\"}, {\"color\": \"#000000\", \"yindex\": 1, \"coordinates\": \"data\", \"dasharray\": \"10,0\", \"zorder\": 2, \"alpha\": 0.5, \"xindex\": 0, \"linewidth\": 5.0, \"data\": \"data06\", \"id\": \"el5743140214466989712\"}, {\"color\": \"#808080\", \"yindex\": 1, \"coordinates\": \"data\", \"dasharray\": \"10,0\", \"zorder\": 2, \"alpha\": 1, \"xindex\": 0, \"linewidth\": 1.0, \"data\": \"data07\", \"id\": \"el5743140214467032336\"}, {\"color\": \"#000000\", \"yindex\": 1, \"coordinates\": \"data\", \"dasharray\": \"10,0\", \"zorder\": 2, \"alpha\": 0.5, \"xindex\": 0, \"linewidth\": 5.0, \"data\": \"data08\", \"id\": \"el5743140214467033936\"}], \"markers\": [{\"edgecolor\": \"#000000\", \"facecolor\": \"#D3D3D3\", \"edgewidth\": 1, \"yindex\": 1, \"coordinates\": \"data\", \"zorder\": 2, \"markerpath\": [[[0.0, 10.0], [2.652031, 10.0], [5.195798707848534, 8.946336915882418], [7.0710678118654755, 7.0710678118654755], [8.946336915882418, 5.195798707848534], [10.0, 2.652031], [10.0, 0.0], [10.0, -2.652031], [8.946336915882418, -5.195798707848534], [7.0710678118654755, -7.0710678118654755], [5.195798707848534, -8.946336915882418], [2.652031, -10.0], [0.0, -10.0], [-2.652031, -10.0], [-5.195798707848534, -8.946336915882418], [-7.0710678118654755, -7.0710678118654755], [-8.946336915882418, -5.195798707848534], [-10.0, -2.652031], [-10.0, 0.0], [-10.0, 2.652031], [-8.946336915882418, 5.195798707848534], [-7.0710678118654755, 7.0710678118654755], [-5.195798707848534, 8.946336915882418], [-2.652031, 10.0], [0.0, 10.0]], [\"M\", \"C\", \"C\", \"C\", \"C\", \"C\", \"C\", \"C\", \"C\", \"Z\"]], \"alpha\": 1.0, \"xindex\": 0, \"data\": \"data09\", \"id\": \"el5743140215120591376pts\"}, {\"edgecolor\": \"#000000\", \"facecolor\": \"#D3D3D3\", \"edgewidth\": 1, \"yindex\": 1, \"coordinates\": \"data\", \"zorder\": 2, \"markerpath\": [[[0.0, 20.0], [5.304062, 20.0], [10.391597415697069, 17.892673831764835], [14.142135623730951, 14.142135623730951], [17.892673831764835, 10.391597415697069], [20.0, 5.304062], [20.0, 0.0], [20.0, -5.304062], [17.892673831764835, -10.391597415697069], [14.142135623730951, -14.142135623730951], [10.391597415697069, -17.892673831764835], [5.304062, -20.0], [0.0, -20.0], [-5.304062, -20.0], [-10.391597415697069, -17.892673831764835], [-14.142135623730951, -14.142135623730951], [-17.892673831764835, -10.391597415697069], [-20.0, -5.304062], [-20.0, 0.0], [-20.0, 5.304062], [-17.892673831764835, 10.391597415697069], [-14.142135623730951, 14.142135623730951], [-10.391597415697069, 17.892673831764835], [-5.304062, 20.0], [0.0, 20.0]], [\"M\", \"C\", \"C\", \"C\", \"C\", \"C\", \"C\", \"C\", \"C\", \"Z\"]], \"alpha\": 0.0, \"xindex\": 0, \"data\": \"data09\", \"id\": \"el5743140214467081808pts\"}], \"id\": \"el5743140214467364624\", \"ydomain\": [-0.080000000000000002, 1.0800000000000001], \"collections\": [], \"xscale\": \"linear\", \"bbox\": [0.125, 0.125, 0.77500000000000002, 0.77500000000000002]}], \"height\": 480.0, \"width\": 640.0, \"plugins\": [{\"type\": \"reset\"}, {\"enabled\": false, \"button\": true, \"type\": \"zoom\"}, {\"enabled\": false, \"button\": true, \"type\": \"boxzoom\"}, {\"voffset\": 10, \"labels\": [\"<table border=\\\"1\\\" cellpadding=\\\"4\\\" cellspacing=\\\"0\\\" bordercolor=\\\"#000000\\\">\\n<tr bgcolor=\\\"#AAAAAA\\\">\\n<th align=\\\"center\\\">Burglary</th>\\n<th align=\\\"center\\\">Prob.</th>\\n</tr>\\n<tr>\\n<td bgcolor=#FFFFFF>True</td>\\n<td bgcolor=#f6b5b1>0.010</td>\\n</tr>\\n<tr>\\n<td bgcolor=#FFFFFF>False</td>\\n<td bgcolor=#f2f0f1>0.990</td>\\n</tr>\\n</table>\", \"<table border=\\\"1\\\" cellpadding=\\\"4\\\" cellspacing=\\\"0\\\" bordercolor=\\\"#000000\\\">\\n<tr bgcolor=\\\"#AAAAAA\\\">\\n<th align=\\\"center\\\">Alarm</th>\\n<th align=\\\"center\\\">MaryCalls</th>\\n<th align=\\\"center\\\">Prob.</th>\\n</tr>\\n<tr>\\n<td bgcolor=#FFFFFF>True</td>\\n<td bgcolor=#FFFFFF>True</td>\\n<td bgcolor=#eee6c2>0.700</td>\\n</tr>\\n<tr>\\n<td bgcolor=#FFFFFF>True</td>\\n<td bgcolor=#FFFFFF>False</td>\\n<td bgcolor=#d2ded0>0.300</td>\\n</tr>\\n<tr>\\n<td bgcolor=#FFFFFF>False</td>\\n<td bgcolor=#FFFFFF>True</td>\\n<td bgcolor=#f6b5b1>0.010</td>\\n</tr>\\n<tr>\\n<td bgcolor=#FFFFFF>False</td>\\n<td bgcolor=#FFFFFF>False</td>\\n<td bgcolor=#f2f0f1>0.990</td>\\n</tr>\\n</table>\", \"<table border=\\\"1\\\" cellpadding=\\\"4\\\" cellspacing=\\\"0\\\" bordercolor=\\\"#000000\\\">\\n<tr bgcolor=\\\"#AAAAAA\\\">\\n<th align=\\\"center\\\">Burglary</th>\\n<th align=\\\"center\\\">Earthquake</th>\\n<th align=\\\"center\\\">Alarm</th>\\n<th align=\\\"center\\\">Prob.</th>\\n</tr>\\n<tr>\\n<td bgcolor=#FFFFFF>True</td>\\n<td bgcolor=#FFFFFF>True</td>\\n<td bgcolor=#FFFFFF>True</td>\\n<td bgcolor=#f6e8ef>0.950</td>\\n</tr>\\n<tr>\\n<td bgcolor=#FFFFFF>True</td>\\n<td bgcolor=#FFFFFF>True</td>\\n<td bgcolor=#FFFFFF>False</td>\\n<td bgcolor=#dfbdc1>0.050</td>\\n</tr>\\n<tr>\\n<td bgcolor=#FFFFFF>True</td>\\n<td bgcolor=#FFFFFF>False</td>\\n<td bgcolor=#FFFFFF>True</td>\\n<td bgcolor=#f7e6ef>0.940</td>\\n</tr>\\n<tr>\\n<td bgcolor=#FFFFFF>True</td>\\n<td bgcolor=#FFFFFF>False</td>\\n<td bgcolor=#FFFFFF>False</td>\\n<td bgcolor=#d9bfc6>0.060</td>\\n</tr>\\n<tr>\\n<td bgcolor=#FFFFFF>False</td>\\n<td bgcolor=#FFFFFF>True</td>\\n<td bgcolor=#FFFFFF>True</td>\\n<td bgcolor=#d1e0ce>0.290</td>\\n</tr>\\n<tr>\\n<td bgcolor=#FFFFFF>False</td>\\n<td bgcolor=#FFFFFF>True</td>\\n<td bgcolor=#FFFFFF>False</td>\\n<td bgcolor=#ede4c1>0.710</td>\\n</tr>\\n<tr>\\n<td bgcolor=#FFFFFF>False</td>\\n<td bgcolor=#FFFFFF>False</td>\\n<td bgcolor=#FFFFFF>True</td>\\n<td bgcolor=#fbb4ae>0.001</td>\\n</tr>\\n<tr>\\n<td bgcolor=#FFFFFF>False</td>\\n<td bgcolor=#FFFFFF>False</td>\\n<td bgcolor=#FFFFFF>False</td>\\n<td bgcolor=#f2f2f2>0.999</td>\\n</tr>\\n</table>\", \"<table border=\\\"1\\\" cellpadding=\\\"4\\\" cellspacing=\\\"0\\\" bordercolor=\\\"#000000\\\">\\n<tr bgcolor=\\\"#AAAAAA\\\">\\n<th align=\\\"center\\\">Alarm</th>\\n<th align=\\\"center\\\">JohnCalls</th>\\n<th align=\\\"center\\\">Prob.</th>\\n</tr>\\n<tr>\\n<td bgcolor=#FFFFFF>True</td>\\n<td bgcolor=#FFFFFF>True</td>\\n<td bgcolor=#fadfed>0.900</td>\\n</tr>\\n<tr>\\n<td bgcolor=#FFFFFF>True</td>\\n<td bgcolor=#FFFFFF>False</td>\\n<td bgcolor=#c2c7d7>0.100</td>\\n</tr>\\n<tr>\\n<td bgcolor=#FFFFFF>False</td>\\n<td bgcolor=#FFFFFF>True</td>\\n<td bgcolor=#dfbdc1>0.050</td>\\n</tr>\\n<tr>\\n<td bgcolor=#FFFFFF>False</td>\\n<td bgcolor=#FFFFFF>False</td>\\n<td bgcolor=#f6e8ef>0.950</td>\\n</tr>\\n</table>\", \"<table border=\\\"1\\\" cellpadding=\\\"4\\\" cellspacing=\\\"0\\\" bordercolor=\\\"#000000\\\">\\n<tr bgcolor=\\\"#AAAAAA\\\">\\n<th align=\\\"center\\\">Earthquake</th>\\n<th align=\\\"center\\\">Prob.</th>\\n</tr>\\n<tr>\\n<td bgcolor=#FFFFFF>True</td>\\n<td bgcolor=#efb7b6>0.020</td>\\n</tr>\\n<tr>\\n<td bgcolor=#FFFFFF>False</td>\\n<td bgcolor=#f3eef1>0.980</td>\\n</tr>\\n</table>\"], \"type\": \"htmltooltip\", \"id\": \"el5743140214467081808pts\", \"hoffset\": 10}], \"data\": {\"data08\": [[0.5679733781748229, 0.5408267861540772], [0.5963662667225416, 0.45979621900479667]], \"data09\": [[0.25520638739339696, 0.0], [0.0826200368730771, 0.8190169752608737], [0.5963662667225416, 0.45979621900479667], [0.0, 0.27096924261773087], [0.4070803430710833, 1.0]], \"data06\": [[0.08945494000838124, 0.2992932890757907], [0.0, 0.27096924261773087]], \"data07\": [[0.4070803430710833, 1.0], [0.5963662667225416, 0.45979621900479667]], \"data04\": [[0.15968197135049678, 0.7651338618224621], [0.0826200368730771, 0.8190169752608737]], \"data05\": [[0.5963662667225416, 0.45979621900479667], [0.0, 0.27096924261773087]], \"data02\": [[0.5451922848231698, 0.3908267861540772], [0.5963662667225416, 0.45979621900479667]], \"data03\": [[0.5963662667225416, 0.45979621900479667], [0.0826200368730771, 0.8190169752608737]], \"data01\": [[0.25520638739339696, 0.0], [0.5963662667225416, 0.45979621900479667]]}, \"id\": \"el5743140214483010256\"});\n",
       "   }(mpld3);\n",
       "}else if(typeof define === \"function\" && define.amd){\n",
       "   // require.js is available: use it to load d3/mpld3\n",
       "   require.config({paths: {d3: \"https://mpld3.github.io/js/d3.v3.min\"}});\n",
       "   require([\"d3\"], function(d3){\n",
       "      window.d3 = d3;\n",
       "      mpld3_load_lib(\"https://mpld3.github.io/js/mpld3.v0.2.js\", function(){\n",
       "         \n",
       "    mpld3.register_plugin(\"htmltooltip\", HtmlTooltipPlugin);\n",
       "    HtmlTooltipPlugin.prototype = Object.create(mpld3.Plugin.prototype);\n",
       "    HtmlTooltipPlugin.prototype.constructor = HtmlTooltipPlugin;\n",
       "    HtmlTooltipPlugin.prototype.requiredProps = [\"id\"];\n",
       "    HtmlTooltipPlugin.prototype.defaultProps = {labels:null, hoffset:0, voffset:10};\n",
       "    function HtmlTooltipPlugin(fig, props){\n",
       "        mpld3.Plugin.call(this, fig, props);\n",
       "    };\n",
       "\n",
       "    HtmlTooltipPlugin.prototype.draw = function(){\n",
       "       var obj = mpld3.get_element(this.props.id);\n",
       "       var labels = this.props.labels;\n",
       "       var tooltip = d3.select(\"body\").append(\"div\")\n",
       "                    .attr(\"class\", \"mpld3-tooltip\")\n",
       "                    .style(\"position\", \"absolute\")\n",
       "                    .style(\"z-index\", \"10\")\n",
       "                    .style(\"visibility\", \"hidden\");\n",
       "\n",
       "       obj.elements()\n",
       "           .on(\"mouseover\", function(d, i){\n",
       "                              tooltip.html(labels[i])\n",
       "                                     .style(\"visibility\", \"visible\");})\n",
       "           .on(\"mousemove\", function(d, i){\n",
       "                    tooltip\n",
       "                      .style(\"top\", d3.event.pageY + this.props.voffset + \"px\")\n",
       "                      .style(\"left\",d3.event.pageX + this.props.hoffset + \"px\");\n",
       "                 }.bind(this))\n",
       "           .on(\"mouseout\",  function(d, i){\n",
       "                           tooltip.style(\"visibility\", \"hidden\");});\n",
       "    };\n",
       "    \n",
       "         mpld3.draw_figure(\"fig_el57431402144830102564514481957\", {\"axes\": [{\"xlim\": [-0.080000000000000002, 0.67636626672254152], \"yscale\": \"linear\", \"axesbg\": \"#FFFFFF\", \"texts\": [{\"v_baseline\": \"central\", \"h_anchor\": \"middle\", \"color\": \"#000000\", \"text\": \"Burglary\", \"coordinates\": \"data\", \"zorder\": 3, \"alpha\": 1, \"fontsize\": 10.0, \"position\": [0.25520638739339696, 0.0], \"rotation\": -0.0, \"id\": \"el5743140214467083472\"}, {\"v_baseline\": \"central\", \"h_anchor\": \"middle\", \"color\": \"#000000\", \"text\": \"MaryCalls\", \"coordinates\": \"data\", \"zorder\": 3, \"alpha\": 1, \"fontsize\": 10.0, \"position\": [0.082620036873077105, 0.81901697526087369], \"rotation\": -0.0, \"id\": \"el5743140214466609424\"}, {\"v_baseline\": \"central\", \"h_anchor\": \"middle\", \"color\": \"#000000\", \"text\": \"Alarm\", \"coordinates\": \"data\", \"zorder\": 3, \"alpha\": 1, \"fontsize\": 10.0, \"position\": [0.59636626672254156, 0.45979621900479667], \"rotation\": -0.0, \"id\": \"el5743140214466610512\"}, {\"v_baseline\": \"central\", \"h_anchor\": \"middle\", \"color\": \"#000000\", \"text\": \"JohnCalls\", \"coordinates\": \"data\", \"zorder\": 3, \"alpha\": 1, \"fontsize\": 10.0, \"position\": [0.0, 0.27096924261773087], \"rotation\": -0.0, \"id\": \"el5743140214466611600\"}, {\"v_baseline\": \"central\", \"h_anchor\": \"middle\", \"color\": \"#000000\", \"text\": \"Earthquake\", \"coordinates\": \"data\", \"zorder\": 3, \"alpha\": 1, \"fontsize\": 10.0, \"position\": [0.40708034307108332, 1.0], \"rotation\": -0.0, \"id\": \"el5743140214466612688\"}], \"zoomable\": true, \"images\": [], \"xdomain\": [-0.080000000000000002, 0.67636626672254152], \"ylim\": [-0.080000000000000002, 1.0800000000000001], \"paths\": [], \"sharey\": [], \"sharex\": [], \"axesbgalpha\": null, \"axes\": [{\"scale\": \"linear\", \"tickformat\": null, \"grid\": {\"gridOn\": false}, \"fontsize\": 10.0, \"position\": \"bottom\", \"nticks\": 9, \"tickvalues\": null}, {\"scale\": \"linear\", \"tickformat\": null, \"grid\": {\"gridOn\": false}, \"fontsize\": 10.0, \"position\": \"left\", \"nticks\": 8, \"tickvalues\": null}], \"lines\": [{\"color\": \"#808080\", \"yindex\": 1, \"coordinates\": \"data\", \"dasharray\": \"10,0\", \"zorder\": 2, \"alpha\": 1, \"xindex\": 0, \"linewidth\": 1.0, \"data\": \"data01\", \"id\": \"el5743140214466925392\"}, {\"color\": \"#000000\", \"yindex\": 1, \"coordinates\": \"data\", \"dasharray\": \"10,0\", \"zorder\": 2, \"alpha\": 0.5, \"xindex\": 0, \"linewidth\": 5.0, \"data\": \"data02\", \"id\": \"el5743140214466925968\"}, {\"color\": \"#808080\", \"yindex\": 1, \"coordinates\": \"data\", \"dasharray\": \"10,0\", \"zorder\": 2, \"alpha\": 1, \"xindex\": 0, \"linewidth\": 1.0, \"data\": \"data03\", \"id\": \"el5743140214466927504\"}, {\"color\": \"#000000\", \"yindex\": 1, \"coordinates\": \"data\", \"dasharray\": \"10,0\", \"zorder\": 2, \"alpha\": 0.5, \"xindex\": 0, \"linewidth\": 5.0, \"data\": \"data04\", \"id\": \"el5743140214466986512\"}, {\"color\": \"#808080\", \"yindex\": 1, \"coordinates\": \"data\", \"dasharray\": \"10,0\", \"zorder\": 2, \"alpha\": 1, \"xindex\": 0, \"linewidth\": 1.0, \"data\": \"data05\", \"id\": \"el5743140214466988112\"}, {\"color\": \"#000000\", \"yindex\": 1, \"coordinates\": \"data\", \"dasharray\": \"10,0\", \"zorder\": 2, \"alpha\": 0.5, \"xindex\": 0, \"linewidth\": 5.0, \"data\": \"data06\", \"id\": \"el5743140214466989712\"}, {\"color\": \"#808080\", \"yindex\": 1, \"coordinates\": \"data\", \"dasharray\": \"10,0\", \"zorder\": 2, \"alpha\": 1, \"xindex\": 0, \"linewidth\": 1.0, \"data\": \"data07\", \"id\": \"el5743140214467032336\"}, {\"color\": \"#000000\", \"yindex\": 1, \"coordinates\": \"data\", \"dasharray\": \"10,0\", \"zorder\": 2, \"alpha\": 0.5, \"xindex\": 0, \"linewidth\": 5.0, \"data\": \"data08\", \"id\": \"el5743140214467033936\"}], \"markers\": [{\"edgecolor\": \"#000000\", \"facecolor\": \"#D3D3D3\", \"edgewidth\": 1, \"yindex\": 1, \"coordinates\": \"data\", \"zorder\": 2, \"markerpath\": [[[0.0, 10.0], [2.652031, 10.0], [5.195798707848534, 8.946336915882418], [7.0710678118654755, 7.0710678118654755], [8.946336915882418, 5.195798707848534], [10.0, 2.652031], [10.0, 0.0], [10.0, -2.652031], [8.946336915882418, -5.195798707848534], [7.0710678118654755, -7.0710678118654755], [5.195798707848534, -8.946336915882418], [2.652031, -10.0], [0.0, -10.0], [-2.652031, -10.0], [-5.195798707848534, -8.946336915882418], [-7.0710678118654755, -7.0710678118654755], [-8.946336915882418, -5.195798707848534], [-10.0, -2.652031], [-10.0, 0.0], [-10.0, 2.652031], [-8.946336915882418, 5.195798707848534], [-7.0710678118654755, 7.0710678118654755], [-5.195798707848534, 8.946336915882418], [-2.652031, 10.0], [0.0, 10.0]], [\"M\", \"C\", \"C\", \"C\", \"C\", \"C\", \"C\", \"C\", \"C\", \"Z\"]], \"alpha\": 1.0, \"xindex\": 0, \"data\": \"data09\", \"id\": \"el5743140215120591376pts\"}, {\"edgecolor\": \"#000000\", \"facecolor\": \"#D3D3D3\", \"edgewidth\": 1, \"yindex\": 1, \"coordinates\": \"data\", \"zorder\": 2, \"markerpath\": [[[0.0, 20.0], [5.304062, 20.0], [10.391597415697069, 17.892673831764835], [14.142135623730951, 14.142135623730951], [17.892673831764835, 10.391597415697069], [20.0, 5.304062], [20.0, 0.0], [20.0, -5.304062], [17.892673831764835, -10.391597415697069], [14.142135623730951, -14.142135623730951], [10.391597415697069, -17.892673831764835], [5.304062, -20.0], [0.0, -20.0], [-5.304062, -20.0], [-10.391597415697069, -17.892673831764835], [-14.142135623730951, -14.142135623730951], [-17.892673831764835, -10.391597415697069], [-20.0, -5.304062], [-20.0, 0.0], [-20.0, 5.304062], [-17.892673831764835, 10.391597415697069], [-14.142135623730951, 14.142135623730951], [-10.391597415697069, 17.892673831764835], [-5.304062, 20.0], [0.0, 20.0]], [\"M\", \"C\", \"C\", \"C\", \"C\", \"C\", \"C\", \"C\", \"C\", \"Z\"]], \"alpha\": 0.0, \"xindex\": 0, \"data\": \"data09\", \"id\": \"el5743140214467081808pts\"}], \"id\": \"el5743140214467364624\", \"ydomain\": [-0.080000000000000002, 1.0800000000000001], \"collections\": [], \"xscale\": \"linear\", \"bbox\": [0.125, 0.125, 0.77500000000000002, 0.77500000000000002]}], \"height\": 480.0, \"width\": 640.0, \"plugins\": [{\"type\": \"reset\"}, {\"enabled\": false, \"button\": true, \"type\": \"zoom\"}, {\"enabled\": false, \"button\": true, \"type\": \"boxzoom\"}, {\"voffset\": 10, \"labels\": [\"<table border=\\\"1\\\" cellpadding=\\\"4\\\" cellspacing=\\\"0\\\" bordercolor=\\\"#000000\\\">\\n<tr bgcolor=\\\"#AAAAAA\\\">\\n<th align=\\\"center\\\">Burglary</th>\\n<th align=\\\"center\\\">Prob.</th>\\n</tr>\\n<tr>\\n<td bgcolor=#FFFFFF>True</td>\\n<td bgcolor=#f6b5b1>0.010</td>\\n</tr>\\n<tr>\\n<td bgcolor=#FFFFFF>False</td>\\n<td bgcolor=#f2f0f1>0.990</td>\\n</tr>\\n</table>\", \"<table border=\\\"1\\\" cellpadding=\\\"4\\\" cellspacing=\\\"0\\\" bordercolor=\\\"#000000\\\">\\n<tr bgcolor=\\\"#AAAAAA\\\">\\n<th align=\\\"center\\\">Alarm</th>\\n<th align=\\\"center\\\">MaryCalls</th>\\n<th align=\\\"center\\\">Prob.</th>\\n</tr>\\n<tr>\\n<td bgcolor=#FFFFFF>True</td>\\n<td bgcolor=#FFFFFF>True</td>\\n<td bgcolor=#eee6c2>0.700</td>\\n</tr>\\n<tr>\\n<td bgcolor=#FFFFFF>True</td>\\n<td bgcolor=#FFFFFF>False</td>\\n<td bgcolor=#d2ded0>0.300</td>\\n</tr>\\n<tr>\\n<td bgcolor=#FFFFFF>False</td>\\n<td bgcolor=#FFFFFF>True</td>\\n<td bgcolor=#f6b5b1>0.010</td>\\n</tr>\\n<tr>\\n<td bgcolor=#FFFFFF>False</td>\\n<td bgcolor=#FFFFFF>False</td>\\n<td bgcolor=#f2f0f1>0.990</td>\\n</tr>\\n</table>\", \"<table border=\\\"1\\\" cellpadding=\\\"4\\\" cellspacing=\\\"0\\\" bordercolor=\\\"#000000\\\">\\n<tr bgcolor=\\\"#AAAAAA\\\">\\n<th align=\\\"center\\\">Burglary</th>\\n<th align=\\\"center\\\">Earthquake</th>\\n<th align=\\\"center\\\">Alarm</th>\\n<th align=\\\"center\\\">Prob.</th>\\n</tr>\\n<tr>\\n<td bgcolor=#FFFFFF>True</td>\\n<td bgcolor=#FFFFFF>True</td>\\n<td bgcolor=#FFFFFF>True</td>\\n<td bgcolor=#f6e8ef>0.950</td>\\n</tr>\\n<tr>\\n<td bgcolor=#FFFFFF>True</td>\\n<td bgcolor=#FFFFFF>True</td>\\n<td bgcolor=#FFFFFF>False</td>\\n<td bgcolor=#dfbdc1>0.050</td>\\n</tr>\\n<tr>\\n<td bgcolor=#FFFFFF>True</td>\\n<td bgcolor=#FFFFFF>False</td>\\n<td bgcolor=#FFFFFF>True</td>\\n<td bgcolor=#f7e6ef>0.940</td>\\n</tr>\\n<tr>\\n<td bgcolor=#FFFFFF>True</td>\\n<td bgcolor=#FFFFFF>False</td>\\n<td bgcolor=#FFFFFF>False</td>\\n<td bgcolor=#d9bfc6>0.060</td>\\n</tr>\\n<tr>\\n<td bgcolor=#FFFFFF>False</td>\\n<td bgcolor=#FFFFFF>True</td>\\n<td bgcolor=#FFFFFF>True</td>\\n<td bgcolor=#d1e0ce>0.290</td>\\n</tr>\\n<tr>\\n<td bgcolor=#FFFFFF>False</td>\\n<td bgcolor=#FFFFFF>True</td>\\n<td bgcolor=#FFFFFF>False</td>\\n<td bgcolor=#ede4c1>0.710</td>\\n</tr>\\n<tr>\\n<td bgcolor=#FFFFFF>False</td>\\n<td bgcolor=#FFFFFF>False</td>\\n<td bgcolor=#FFFFFF>True</td>\\n<td bgcolor=#fbb4ae>0.001</td>\\n</tr>\\n<tr>\\n<td bgcolor=#FFFFFF>False</td>\\n<td bgcolor=#FFFFFF>False</td>\\n<td bgcolor=#FFFFFF>False</td>\\n<td bgcolor=#f2f2f2>0.999</td>\\n</tr>\\n</table>\", \"<table border=\\\"1\\\" cellpadding=\\\"4\\\" cellspacing=\\\"0\\\" bordercolor=\\\"#000000\\\">\\n<tr bgcolor=\\\"#AAAAAA\\\">\\n<th align=\\\"center\\\">Alarm</th>\\n<th align=\\\"center\\\">JohnCalls</th>\\n<th align=\\\"center\\\">Prob.</th>\\n</tr>\\n<tr>\\n<td bgcolor=#FFFFFF>True</td>\\n<td bgcolor=#FFFFFF>True</td>\\n<td bgcolor=#fadfed>0.900</td>\\n</tr>\\n<tr>\\n<td bgcolor=#FFFFFF>True</td>\\n<td bgcolor=#FFFFFF>False</td>\\n<td bgcolor=#c2c7d7>0.100</td>\\n</tr>\\n<tr>\\n<td bgcolor=#FFFFFF>False</td>\\n<td bgcolor=#FFFFFF>True</td>\\n<td bgcolor=#dfbdc1>0.050</td>\\n</tr>\\n<tr>\\n<td bgcolor=#FFFFFF>False</td>\\n<td bgcolor=#FFFFFF>False</td>\\n<td bgcolor=#f6e8ef>0.950</td>\\n</tr>\\n</table>\", \"<table border=\\\"1\\\" cellpadding=\\\"4\\\" cellspacing=\\\"0\\\" bordercolor=\\\"#000000\\\">\\n<tr bgcolor=\\\"#AAAAAA\\\">\\n<th align=\\\"center\\\">Earthquake</th>\\n<th align=\\\"center\\\">Prob.</th>\\n</tr>\\n<tr>\\n<td bgcolor=#FFFFFF>True</td>\\n<td bgcolor=#efb7b6>0.020</td>\\n</tr>\\n<tr>\\n<td bgcolor=#FFFFFF>False</td>\\n<td bgcolor=#f3eef1>0.980</td>\\n</tr>\\n</table>\"], \"type\": \"htmltooltip\", \"id\": \"el5743140214467081808pts\", \"hoffset\": 10}], \"data\": {\"data08\": [[0.5679733781748229, 0.5408267861540772], [0.5963662667225416, 0.45979621900479667]], \"data09\": [[0.25520638739339696, 0.0], [0.0826200368730771, 0.8190169752608737], [0.5963662667225416, 0.45979621900479667], [0.0, 0.27096924261773087], [0.4070803430710833, 1.0]], \"data06\": [[0.08945494000838124, 0.2992932890757907], [0.0, 0.27096924261773087]], \"data07\": [[0.4070803430710833, 1.0], [0.5963662667225416, 0.45979621900479667]], \"data04\": [[0.15968197135049678, 0.7651338618224621], [0.0826200368730771, 0.8190169752608737]], \"data05\": [[0.5963662667225416, 0.45979621900479667], [0.0, 0.27096924261773087]], \"data02\": [[0.5451922848231698, 0.3908267861540772], [0.5963662667225416, 0.45979621900479667]], \"data03\": [[0.5963662667225416, 0.45979621900479667], [0.0826200368730771, 0.8190169752608737]], \"data01\": [[0.25520638739339696, 0.0], [0.5963662667225416, 0.45979621900479667]]}, \"id\": \"el5743140214483010256\"});\n",
       "      });\n",
       "    });\n",
       "}else{\n",
       "    // require.js not available: dynamically load d3 & mpld3\n",
       "    mpld3_load_lib(\"https://mpld3.github.io/js/d3.v3.min.js\", function(){\n",
       "         mpld3_load_lib(\"https://mpld3.github.io/js/mpld3.v0.2.js\", function(){\n",
       "                 \n",
       "    mpld3.register_plugin(\"htmltooltip\", HtmlTooltipPlugin);\n",
       "    HtmlTooltipPlugin.prototype = Object.create(mpld3.Plugin.prototype);\n",
       "    HtmlTooltipPlugin.prototype.constructor = HtmlTooltipPlugin;\n",
       "    HtmlTooltipPlugin.prototype.requiredProps = [\"id\"];\n",
       "    HtmlTooltipPlugin.prototype.defaultProps = {labels:null, hoffset:0, voffset:10};\n",
       "    function HtmlTooltipPlugin(fig, props){\n",
       "        mpld3.Plugin.call(this, fig, props);\n",
       "    };\n",
       "\n",
       "    HtmlTooltipPlugin.prototype.draw = function(){\n",
       "       var obj = mpld3.get_element(this.props.id);\n",
       "       var labels = this.props.labels;\n",
       "       var tooltip = d3.select(\"body\").append(\"div\")\n",
       "                    .attr(\"class\", \"mpld3-tooltip\")\n",
       "                    .style(\"position\", \"absolute\")\n",
       "                    .style(\"z-index\", \"10\")\n",
       "                    .style(\"visibility\", \"hidden\");\n",
       "\n",
       "       obj.elements()\n",
       "           .on(\"mouseover\", function(d, i){\n",
       "                              tooltip.html(labels[i])\n",
       "                                     .style(\"visibility\", \"visible\");})\n",
       "           .on(\"mousemove\", function(d, i){\n",
       "                    tooltip\n",
       "                      .style(\"top\", d3.event.pageY + this.props.voffset + \"px\")\n",
       "                      .style(\"left\",d3.event.pageX + this.props.hoffset + \"px\");\n",
       "                 }.bind(this))\n",
       "           .on(\"mouseout\",  function(d, i){\n",
       "                           tooltip.style(\"visibility\", \"hidden\");});\n",
       "    };\n",
       "    \n",
       "                 mpld3.draw_figure(\"fig_el57431402144830102564514481957\", {\"axes\": [{\"xlim\": [-0.080000000000000002, 0.67636626672254152], \"yscale\": \"linear\", \"axesbg\": \"#FFFFFF\", \"texts\": [{\"v_baseline\": \"central\", \"h_anchor\": \"middle\", \"color\": \"#000000\", \"text\": \"Burglary\", \"coordinates\": \"data\", \"zorder\": 3, \"alpha\": 1, \"fontsize\": 10.0, \"position\": [0.25520638739339696, 0.0], \"rotation\": -0.0, \"id\": \"el5743140214467083472\"}, {\"v_baseline\": \"central\", \"h_anchor\": \"middle\", \"color\": \"#000000\", \"text\": \"MaryCalls\", \"coordinates\": \"data\", \"zorder\": 3, \"alpha\": 1, \"fontsize\": 10.0, \"position\": [0.082620036873077105, 0.81901697526087369], \"rotation\": -0.0, \"id\": \"el5743140214466609424\"}, {\"v_baseline\": \"central\", \"h_anchor\": \"middle\", \"color\": \"#000000\", \"text\": \"Alarm\", \"coordinates\": \"data\", \"zorder\": 3, \"alpha\": 1, \"fontsize\": 10.0, \"position\": [0.59636626672254156, 0.45979621900479667], \"rotation\": -0.0, \"id\": \"el5743140214466610512\"}, {\"v_baseline\": \"central\", \"h_anchor\": \"middle\", \"color\": \"#000000\", \"text\": \"JohnCalls\", \"coordinates\": \"data\", \"zorder\": 3, \"alpha\": 1, \"fontsize\": 10.0, \"position\": [0.0, 0.27096924261773087], \"rotation\": -0.0, \"id\": \"el5743140214466611600\"}, {\"v_baseline\": \"central\", \"h_anchor\": \"middle\", \"color\": \"#000000\", \"text\": \"Earthquake\", \"coordinates\": \"data\", \"zorder\": 3, \"alpha\": 1, \"fontsize\": 10.0, \"position\": [0.40708034307108332, 1.0], \"rotation\": -0.0, \"id\": \"el5743140214466612688\"}], \"zoomable\": true, \"images\": [], \"xdomain\": [-0.080000000000000002, 0.67636626672254152], \"ylim\": [-0.080000000000000002, 1.0800000000000001], \"paths\": [], \"sharey\": [], \"sharex\": [], \"axesbgalpha\": null, \"axes\": [{\"scale\": \"linear\", \"tickformat\": null, \"grid\": {\"gridOn\": false}, \"fontsize\": 10.0, \"position\": \"bottom\", \"nticks\": 9, \"tickvalues\": null}, {\"scale\": \"linear\", \"tickformat\": null, \"grid\": {\"gridOn\": false}, \"fontsize\": 10.0, \"position\": \"left\", \"nticks\": 8, \"tickvalues\": null}], \"lines\": [{\"color\": \"#808080\", \"yindex\": 1, \"coordinates\": \"data\", \"dasharray\": \"10,0\", \"zorder\": 2, \"alpha\": 1, \"xindex\": 0, \"linewidth\": 1.0, \"data\": \"data01\", \"id\": \"el5743140214466925392\"}, {\"color\": \"#000000\", \"yindex\": 1, \"coordinates\": \"data\", \"dasharray\": \"10,0\", \"zorder\": 2, \"alpha\": 0.5, \"xindex\": 0, \"linewidth\": 5.0, \"data\": \"data02\", \"id\": \"el5743140214466925968\"}, {\"color\": \"#808080\", \"yindex\": 1, \"coordinates\": \"data\", \"dasharray\": \"10,0\", \"zorder\": 2, \"alpha\": 1, \"xindex\": 0, \"linewidth\": 1.0, \"data\": \"data03\", \"id\": \"el5743140214466927504\"}, {\"color\": \"#000000\", \"yindex\": 1, \"coordinates\": \"data\", \"dasharray\": \"10,0\", \"zorder\": 2, \"alpha\": 0.5, \"xindex\": 0, \"linewidth\": 5.0, \"data\": \"data04\", \"id\": \"el5743140214466986512\"}, {\"color\": \"#808080\", \"yindex\": 1, \"coordinates\": \"data\", \"dasharray\": \"10,0\", \"zorder\": 2, \"alpha\": 1, \"xindex\": 0, \"linewidth\": 1.0, \"data\": \"data05\", \"id\": \"el5743140214466988112\"}, {\"color\": \"#000000\", \"yindex\": 1, \"coordinates\": \"data\", \"dasharray\": \"10,0\", \"zorder\": 2, \"alpha\": 0.5, \"xindex\": 0, \"linewidth\": 5.0, \"data\": \"data06\", \"id\": \"el5743140214466989712\"}, {\"color\": \"#808080\", \"yindex\": 1, \"coordinates\": \"data\", \"dasharray\": \"10,0\", \"zorder\": 2, \"alpha\": 1, \"xindex\": 0, \"linewidth\": 1.0, \"data\": \"data07\", \"id\": \"el5743140214467032336\"}, {\"color\": \"#000000\", \"yindex\": 1, \"coordinates\": \"data\", \"dasharray\": \"10,0\", \"zorder\": 2, \"alpha\": 0.5, \"xindex\": 0, \"linewidth\": 5.0, \"data\": \"data08\", \"id\": \"el5743140214467033936\"}], \"markers\": [{\"edgecolor\": \"#000000\", \"facecolor\": \"#D3D3D3\", \"edgewidth\": 1, \"yindex\": 1, \"coordinates\": \"data\", \"zorder\": 2, \"markerpath\": [[[0.0, 10.0], [2.652031, 10.0], [5.195798707848534, 8.946336915882418], [7.0710678118654755, 7.0710678118654755], [8.946336915882418, 5.195798707848534], [10.0, 2.652031], [10.0, 0.0], [10.0, -2.652031], [8.946336915882418, -5.195798707848534], [7.0710678118654755, -7.0710678118654755], [5.195798707848534, -8.946336915882418], [2.652031, -10.0], [0.0, -10.0], [-2.652031, -10.0], [-5.195798707848534, -8.946336915882418], [-7.0710678118654755, -7.0710678118654755], [-8.946336915882418, -5.195798707848534], [-10.0, -2.652031], [-10.0, 0.0], [-10.0, 2.652031], [-8.946336915882418, 5.195798707848534], [-7.0710678118654755, 7.0710678118654755], [-5.195798707848534, 8.946336915882418], [-2.652031, 10.0], [0.0, 10.0]], [\"M\", \"C\", \"C\", \"C\", \"C\", \"C\", \"C\", \"C\", \"C\", \"Z\"]], \"alpha\": 1.0, \"xindex\": 0, \"data\": \"data09\", \"id\": \"el5743140215120591376pts\"}, {\"edgecolor\": \"#000000\", \"facecolor\": \"#D3D3D3\", \"edgewidth\": 1, \"yindex\": 1, \"coordinates\": \"data\", \"zorder\": 2, \"markerpath\": [[[0.0, 20.0], [5.304062, 20.0], [10.391597415697069, 17.892673831764835], [14.142135623730951, 14.142135623730951], [17.892673831764835, 10.391597415697069], [20.0, 5.304062], [20.0, 0.0], [20.0, -5.304062], [17.892673831764835, -10.391597415697069], [14.142135623730951, -14.142135623730951], [10.391597415697069, -17.892673831764835], [5.304062, -20.0], [0.0, -20.0], [-5.304062, -20.0], [-10.391597415697069, -17.892673831764835], [-14.142135623730951, -14.142135623730951], [-17.892673831764835, -10.391597415697069], [-20.0, -5.304062], [-20.0, 0.0], [-20.0, 5.304062], [-17.892673831764835, 10.391597415697069], [-14.142135623730951, 14.142135623730951], [-10.391597415697069, 17.892673831764835], [-5.304062, 20.0], [0.0, 20.0]], [\"M\", \"C\", \"C\", \"C\", \"C\", \"C\", \"C\", \"C\", \"C\", \"Z\"]], \"alpha\": 0.0, \"xindex\": 0, \"data\": \"data09\", \"id\": \"el5743140214467081808pts\"}], \"id\": \"el5743140214467364624\", \"ydomain\": [-0.080000000000000002, 1.0800000000000001], \"collections\": [], \"xscale\": \"linear\", \"bbox\": [0.125, 0.125, 0.77500000000000002, 0.77500000000000002]}], \"height\": 480.0, \"width\": 640.0, \"plugins\": [{\"type\": \"reset\"}, {\"enabled\": false, \"button\": true, \"type\": \"zoom\"}, {\"enabled\": false, \"button\": true, \"type\": \"boxzoom\"}, {\"voffset\": 10, \"labels\": [\"<table border=\\\"1\\\" cellpadding=\\\"4\\\" cellspacing=\\\"0\\\" bordercolor=\\\"#000000\\\">\\n<tr bgcolor=\\\"#AAAAAA\\\">\\n<th align=\\\"center\\\">Burglary</th>\\n<th align=\\\"center\\\">Prob.</th>\\n</tr>\\n<tr>\\n<td bgcolor=#FFFFFF>True</td>\\n<td bgcolor=#f6b5b1>0.010</td>\\n</tr>\\n<tr>\\n<td bgcolor=#FFFFFF>False</td>\\n<td bgcolor=#f2f0f1>0.990</td>\\n</tr>\\n</table>\", \"<table border=\\\"1\\\" cellpadding=\\\"4\\\" cellspacing=\\\"0\\\" bordercolor=\\\"#000000\\\">\\n<tr bgcolor=\\\"#AAAAAA\\\">\\n<th align=\\\"center\\\">Alarm</th>\\n<th align=\\\"center\\\">MaryCalls</th>\\n<th align=\\\"center\\\">Prob.</th>\\n</tr>\\n<tr>\\n<td bgcolor=#FFFFFF>True</td>\\n<td bgcolor=#FFFFFF>True</td>\\n<td bgcolor=#eee6c2>0.700</td>\\n</tr>\\n<tr>\\n<td bgcolor=#FFFFFF>True</td>\\n<td bgcolor=#FFFFFF>False</td>\\n<td bgcolor=#d2ded0>0.300</td>\\n</tr>\\n<tr>\\n<td bgcolor=#FFFFFF>False</td>\\n<td bgcolor=#FFFFFF>True</td>\\n<td bgcolor=#f6b5b1>0.010</td>\\n</tr>\\n<tr>\\n<td bgcolor=#FFFFFF>False</td>\\n<td bgcolor=#FFFFFF>False</td>\\n<td bgcolor=#f2f0f1>0.990</td>\\n</tr>\\n</table>\", \"<table border=\\\"1\\\" cellpadding=\\\"4\\\" cellspacing=\\\"0\\\" bordercolor=\\\"#000000\\\">\\n<tr bgcolor=\\\"#AAAAAA\\\">\\n<th align=\\\"center\\\">Burglary</th>\\n<th align=\\\"center\\\">Earthquake</th>\\n<th align=\\\"center\\\">Alarm</th>\\n<th align=\\\"center\\\">Prob.</th>\\n</tr>\\n<tr>\\n<td bgcolor=#FFFFFF>True</td>\\n<td bgcolor=#FFFFFF>True</td>\\n<td bgcolor=#FFFFFF>True</td>\\n<td bgcolor=#f6e8ef>0.950</td>\\n</tr>\\n<tr>\\n<td bgcolor=#FFFFFF>True</td>\\n<td bgcolor=#FFFFFF>True</td>\\n<td bgcolor=#FFFFFF>False</td>\\n<td bgcolor=#dfbdc1>0.050</td>\\n</tr>\\n<tr>\\n<td bgcolor=#FFFFFF>True</td>\\n<td bgcolor=#FFFFFF>False</td>\\n<td bgcolor=#FFFFFF>True</td>\\n<td bgcolor=#f7e6ef>0.940</td>\\n</tr>\\n<tr>\\n<td bgcolor=#FFFFFF>True</td>\\n<td bgcolor=#FFFFFF>False</td>\\n<td bgcolor=#FFFFFF>False</td>\\n<td bgcolor=#d9bfc6>0.060</td>\\n</tr>\\n<tr>\\n<td bgcolor=#FFFFFF>False</td>\\n<td bgcolor=#FFFFFF>True</td>\\n<td bgcolor=#FFFFFF>True</td>\\n<td bgcolor=#d1e0ce>0.290</td>\\n</tr>\\n<tr>\\n<td bgcolor=#FFFFFF>False</td>\\n<td bgcolor=#FFFFFF>True</td>\\n<td bgcolor=#FFFFFF>False</td>\\n<td bgcolor=#ede4c1>0.710</td>\\n</tr>\\n<tr>\\n<td bgcolor=#FFFFFF>False</td>\\n<td bgcolor=#FFFFFF>False</td>\\n<td bgcolor=#FFFFFF>True</td>\\n<td bgcolor=#fbb4ae>0.001</td>\\n</tr>\\n<tr>\\n<td bgcolor=#FFFFFF>False</td>\\n<td bgcolor=#FFFFFF>False</td>\\n<td bgcolor=#FFFFFF>False</td>\\n<td bgcolor=#f2f2f2>0.999</td>\\n</tr>\\n</table>\", \"<table border=\\\"1\\\" cellpadding=\\\"4\\\" cellspacing=\\\"0\\\" bordercolor=\\\"#000000\\\">\\n<tr bgcolor=\\\"#AAAAAA\\\">\\n<th align=\\\"center\\\">Alarm</th>\\n<th align=\\\"center\\\">JohnCalls</th>\\n<th align=\\\"center\\\">Prob.</th>\\n</tr>\\n<tr>\\n<td bgcolor=#FFFFFF>True</td>\\n<td bgcolor=#FFFFFF>True</td>\\n<td bgcolor=#fadfed>0.900</td>\\n</tr>\\n<tr>\\n<td bgcolor=#FFFFFF>True</td>\\n<td bgcolor=#FFFFFF>False</td>\\n<td bgcolor=#c2c7d7>0.100</td>\\n</tr>\\n<tr>\\n<td bgcolor=#FFFFFF>False</td>\\n<td bgcolor=#FFFFFF>True</td>\\n<td bgcolor=#dfbdc1>0.050</td>\\n</tr>\\n<tr>\\n<td bgcolor=#FFFFFF>False</td>\\n<td bgcolor=#FFFFFF>False</td>\\n<td bgcolor=#f6e8ef>0.950</td>\\n</tr>\\n</table>\", \"<table border=\\\"1\\\" cellpadding=\\\"4\\\" cellspacing=\\\"0\\\" bordercolor=\\\"#000000\\\">\\n<tr bgcolor=\\\"#AAAAAA\\\">\\n<th align=\\\"center\\\">Earthquake</th>\\n<th align=\\\"center\\\">Prob.</th>\\n</tr>\\n<tr>\\n<td bgcolor=#FFFFFF>True</td>\\n<td bgcolor=#efb7b6>0.020</td>\\n</tr>\\n<tr>\\n<td bgcolor=#FFFFFF>False</td>\\n<td bgcolor=#f3eef1>0.980</td>\\n</tr>\\n</table>\"], \"type\": \"htmltooltip\", \"id\": \"el5743140214467081808pts\", \"hoffset\": 10}], \"data\": {\"data08\": [[0.5679733781748229, 0.5408267861540772], [0.5963662667225416, 0.45979621900479667]], \"data09\": [[0.25520638739339696, 0.0], [0.0826200368730771, 0.8190169752608737], [0.5963662667225416, 0.45979621900479667], [0.0, 0.27096924261773087], [0.4070803430710833, 1.0]], \"data06\": [[0.08945494000838124, 0.2992932890757907], [0.0, 0.27096924261773087]], \"data07\": [[0.4070803430710833, 1.0], [0.5963662667225416, 0.45979621900479667]], \"data04\": [[0.15968197135049678, 0.7651338618224621], [0.0826200368730771, 0.8190169752608737]], \"data05\": [[0.5963662667225416, 0.45979621900479667], [0.0, 0.27096924261773087]], \"data02\": [[0.5451922848231698, 0.3908267861540772], [0.5963662667225416, 0.45979621900479667]], \"data03\": [[0.5963662667225416, 0.45979621900479667], [0.0826200368730771, 0.8190169752608737]], \"data01\": [[0.25520638739339696, 0.0], [0.5963662667225416, 0.45979621900479667]]}, \"id\": \"el5743140214483010256\"});\n",
       "            })\n",
       "         });\n",
       "}\n",
       "</script>"
      ],
      "text/plain": [
       "<IPython.core.display.HTML object>"
      ]
     },
     "execution_count": 4,
     "metadata": {},
     "output_type": "execute_result"
    }
   ],
   "source": [
    "from os import listdir\n",
    "import os.path\n",
    "NETWORKS_PATH = '/home/wrwt/Programming/pygraphmodels/networks/'\n",
    "network_filenames = listdir(NETWORKS_PATH)\n",
    "true_dgm = gm.DGM.read(os.path.join(NETWORKS_PATH, 'earthquake.bif'))\n",
    "true_dgm.draw()"
   ]
  },
  {
   "cell_type": "code",
   "execution_count": null,
   "metadata": {
    "collapsed": true
   },
   "outputs": [],
   "source": [
    "def "
   ]
  },
  {
   "cell_type": "code",
   "execution_count": 6,
   "metadata": {
    "collapsed": true
   },
   "outputs": [],
   "source": [
    "class CliqueGraph(nx.DiGraph):\n",
    "    def __init__(self):\n",
    "        nx.DiGraph.__init__(self)"
   ]
  },
  {
   "cell_type": "code",
   "execution_count": 7,
   "metadata": {
    "collapsed": true
   },
   "outputs": [],
   "source": [
    "from graphmodels.inference import InferenceStrategy\n",
    "\n",
    "class BeliefUpdateInference(InferenceStrategy):\n",
    "    def __init__(self, gm, ctree_builder=None):\n",
    "        self.ctree = ctree_builder(gm)\n",
    "\n",
    "    def __call__(self, query, observed=None):\n",
    "        pass"
   ]
  },
  {
   "cell_type": "code",
   "execution_count": null,
   "metadata": {
    "collapsed": true
   },
   "outputs": [],
   "source": []
  }
 ],
 "metadata": {
  "kernelspec": {
   "display_name": "Python 2",
   "language": "python",
   "name": "python2"
  },
  "language_info": {
   "codemirror_mode": {
    "name": "ipython",
    "version": 2
   },
   "file_extension": ".py",
   "mimetype": "text/x-python",
   "name": "python",
   "nbconvert_exporter": "python",
   "pygments_lexer": "ipython2",
   "version": "2.7.9"
  }
 },
 "nbformat": 4,
 "nbformat_minor": 0
}
