{
 "cells": [
  {
   "cell_type": "code",
   "execution_count": 3,
   "metadata": {
    "collapsed": true
   },
   "outputs": [],
   "source": [
    "import sys\n",
    "sys.path.append('/home/wrwt/Programming/pygraphmodels')"
   ]
  },
  {
   "cell_type": "code",
   "execution_count": 4,
   "metadata": {
    "collapsed": false
   },
   "outputs": [],
   "source": [
    "import graphmodels as gm\n",
    "import numpy as np\n",
    "import pandas as pd"
   ]
  },
  {
   "cell_type": "code",
   "execution_count": 26,
   "metadata": {
    "collapsed": false
   },
   "outputs": [],
   "source": [
    "a = np.random.randint(2, size=1000)\n",
    "b = np.random.randint(2, size=1000)\n",
    "c = a + b\n",
    "data = np.transpose(np.vstack([a, b, c]))\n",
    "df = pd.DataFrame(data=data, columns=['a', 'b', 'c'])"
   ]
  },
  {
   "cell_type": "code",
   "execution_count": 27,
   "metadata": {
    "collapsed": false
   },
   "outputs": [],
   "source": [
    "tf = gm.TableFactor(['a', 'b', 'c'], ['a', 'b', 'c'])"
   ]
  },
  {
   "cell_type": "code",
   "execution_count": 28,
   "metadata": {
    "collapsed": false
   },
   "outputs": [
    {
     "data": {
      "text/html": [
       "<table><tr><td>a</td><td>b</td><td>c</td><td>P</td></tr><tr><td>0</td><td>0</td><td>0</td><td>0.259</td></tr><tr><td>0</td><td>0</td><td>1</td><td>0.000</td></tr><tr><td>0</td><td>0</td><td>2</td><td>0.000</td></tr><tr><td>0</td><td>1</td><td>0</td><td>0.000</td></tr><tr><td>0</td><td>1</td><td>1</td><td>0.251</td></tr><tr><td>0</td><td>1</td><td>2</td><td>0.000</td></tr><tr><td>1</td><td>0</td><td>0</td><td>0.000</td></tr><tr><td>1</td><td>0</td><td>1</td><td>0.245</td></tr><tr><td>1</td><td>0</td><td>2</td><td>0.000</td></tr><tr><td>1</td><td>1</td><td>0</td><td>0.000</td></tr><tr><td>1</td><td>1</td><td>1</td><td>0.000</td></tr><tr><td>1</td><td>1</td><td>2</td><td>0.245</td></tr></table>"
      ],
      "text/plain": [
       "TableFactor(a, b, c)"
      ]
     },
     "execution_count": 28,
     "metadata": {},
     "output_type": "execute_result"
    }
   ],
   "source": [
    "tf.fit(df)"
   ]
  },
  {
   "cell_type": "code",
   "execution_count": 29,
   "metadata": {
    "collapsed": false
   },
   "outputs": [
    {
     "data": {
      "text/html": [
       "<table><tr><td>c</td><td>P</td></tr><tr><td>0</td><td>0.259</td></tr><tr><td>1</td><td>0.496</td></tr><tr><td>2</td><td>0.245</td></tr></table>"
      ],
      "text/plain": [
       "TableFactor(c)"
      ]
     },
     "execution_count": 29,
     "metadata": {},
     "output_type": "execute_result"
    }
   ],
   "source": [
    "tf.marginalize('a', 'b')"
   ]
  },
  {
   "cell_type": "code",
   "execution_count": null,
   "metadata": {
    "collapsed": true
   },
   "outputs": [],
   "source": []
  }
 ],
 "metadata": {
  "kernelspec": {
   "display_name": "Python 3",
   "language": "python",
   "name": "python3"
  },
  "language_info": {
   "codemirror_mode": {
    "name": "ipython",
    "version": 3
   },
   "file_extension": ".py",
   "mimetype": "text/x-python",
   "name": "python",
   "nbconvert_exporter": "python",
   "pygments_lexer": "ipython3",
   "version": "3.4.3"
  }
 },
 "nbformat": 4,
 "nbformat_minor": 0
}
