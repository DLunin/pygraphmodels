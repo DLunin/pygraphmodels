{
 "cells": [
  {
   "cell_type": "code",
   "execution_count": 1,
   "metadata": {
    "collapsed": true
   },
   "outputs": [],
   "source": [
    "%%capture\n",
    "import numpy as np\n",
    "import scipy as sp\n",
    "import matplotlib as mpl\n",
    "import matplotlib.pyplot as plt\n",
    "import networkx as nx\n",
    "%matplotlib inline"
   ]
  },
  {
   "cell_type": "code",
   "execution_count": 2,
   "metadata": {
    "collapsed": false
   },
   "outputs": [],
   "source": [
    "%%capture\n",
    "import sys\n",
    "sys.path.append('/home/wrwt/Programming/pygraphmodels')\n",
    "import graphmodels as gm"
   ]
  },
  {
   "cell_type": "code",
   "execution_count": 3,
   "metadata": {
    "collapsed": true
   },
   "outputs": [],
   "source": [
    "import warnings\n",
    "warnings.filterwarnings('ignore', module='matplotlib')\n",
    "warnings.filterwarnings('ignore', module='IPython')"
   ]
  },
  {
   "cell_type": "code",
   "execution_count": 4,
   "metadata": {
    "collapsed": false
   },
   "outputs": [],
   "source": [
    "def bic_score(x, pa):\n",
    "    l = gm.information.discrete_mutual_information(data[[x]], data[pa]) - gm.information.discrete_entropy(data[[x]])\n",
    "    n = data.shape[0]\n",
    "    k = np.prod(true_dgm.factor(x).table.shape) - 1\n",
    "    result = -n*l + 0.5 * np.log(n) * k\n",
    "    return result"
   ]
  },
  {
   "cell_type": "code",
   "execution_count": 5,
   "metadata": {
    "collapsed": false
   },
   "outputs": [
    {
     "name": "stderr",
     "output_type": "stream",
     "text": [
      "/usr/local/lib/python2.7/dist-packages/IPython/core/formatters.py:92: DeprecationWarning: DisplayFormatter._ipython_display_formatter_default is deprecated: use @default decorator instead.\n",
      "  def _ipython_display_formatter_default(self):\n",
      "/usr/local/lib/python2.7/dist-packages/IPython/core/formatters.py:669: DeprecationWarning: PlainTextFormatter._singleton_printers_default is deprecated: use @default decorator instead.\n",
      "  def _singleton_printers_default(self):\n"
     ]
    },
    {
     "data": {
      "text/html": [
       "\n",
       "\n",
       "<style>\n",
       "\n",
       "table\n",
       "{\n",
       "  border-collapse: collapse;\n",
       "}\n",
       "th\n",
       "{\n",
       "  color: #ffffff;\n",
       "  background-color: #000000;\n",
       "}\n",
       "td\n",
       "{\n",
       "  background-color: #cccccc;\n",
       "}\n",
       "table, th, td\n",
       "{\n",
       "  font-family:Arial, Helvetica, sans-serif;\n",
       "  border: 1px solid black;\n",
       "  text-align: center;\n",
       "  padding: 3px;\n",
       "  font-size:11pt;\n",
       "}\n",
       "g.mpld3-xaxis, g.mpld3-yaxis {\n",
       "    display: none;\n",
       "}\n",
       "    \n",
       "</style>\n",
       "\n",
       "<div id=\"fig_el59641402972955174565461373168\"></div>\n",
       "<script>\n",
       "function mpld3_load_lib(url, callback){\n",
       "  var s = document.createElement('script');\n",
       "  s.src = url;\n",
       "  s.async = true;\n",
       "  s.onreadystatechange = s.onload = callback;\n",
       "  s.onerror = function(){console.warn(\"failed to load library \" + url);};\n",
       "  document.getElementsByTagName(\"head\")[0].appendChild(s);\n",
       "}\n",
       "\n",
       "if(typeof(mpld3) !== \"undefined\" && mpld3._mpld3IsLoaded){\n",
       "   // already loaded: just create the figure\n",
       "   !function(mpld3){\n",
       "       \n",
       "    mpld3.register_plugin(\"htmltooltip\", HtmlTooltipPlugin);\n",
       "    HtmlTooltipPlugin.prototype = Object.create(mpld3.Plugin.prototype);\n",
       "    HtmlTooltipPlugin.prototype.constructor = HtmlTooltipPlugin;\n",
       "    HtmlTooltipPlugin.prototype.requiredProps = [\"id\"];\n",
       "    HtmlTooltipPlugin.prototype.defaultProps = {labels:null, hoffset:0, voffset:10};\n",
       "    function HtmlTooltipPlugin(fig, props){\n",
       "        mpld3.Plugin.call(this, fig, props);\n",
       "    };\n",
       "\n",
       "    HtmlTooltipPlugin.prototype.draw = function(){\n",
       "       var obj = mpld3.get_element(this.props.id);\n",
       "       var labels = this.props.labels;\n",
       "       var tooltip = d3.select(\"body\").append(\"div\")\n",
       "                    .attr(\"class\", \"mpld3-tooltip\")\n",
       "                    .style(\"position\", \"absolute\")\n",
       "                    .style(\"z-index\", \"10\")\n",
       "                    .style(\"visibility\", \"hidden\");\n",
       "\n",
       "       obj.elements()\n",
       "           .on(\"mouseover\", function(d, i){\n",
       "                              tooltip.html(labels[i])\n",
       "                                     .style(\"visibility\", \"visible\");})\n",
       "           .on(\"mousemove\", function(d, i){\n",
       "                    tooltip\n",
       "                      .style(\"top\", d3.event.pageY + this.props.voffset + \"px\")\n",
       "                      .style(\"left\",d3.event.pageX + this.props.hoffset + \"px\");\n",
       "                 }.bind(this))\n",
       "           .on(\"mouseout\",  function(d, i){\n",
       "                           tooltip.style(\"visibility\", \"hidden\");});\n",
       "    };\n",
       "    \n",
       "       mpld3.draw_figure(\"fig_el59641402972955174565461373168\", {\"axes\": [{\"xlim\": [-0.080000000000000002, 0.92680328733373984], \"yscale\": \"linear\", \"axesbg\": \"#FFFFFF\", \"texts\": [{\"v_baseline\": \"central\", \"h_anchor\": \"middle\", \"color\": \"#000000\", \"text\": \"Burglary\", \"coordinates\": \"data\", \"zorder\": 3, \"alpha\": 1, \"fontsize\": 10.0, \"position\": [0.84680328733373988, 1.0], \"rotation\": -0.0, \"id\": \"el5964140297294841296\"}, {\"v_baseline\": \"central\", \"h_anchor\": \"middle\", \"color\": \"#000000\", \"text\": \"MaryCalls\", \"coordinates\": \"data\", \"zorder\": 3, \"alpha\": 1, \"fontsize\": 10.0, \"position\": [0.71628481781631403, 0.54233389337498594], \"rotation\": -0.0, \"id\": \"el5964140297294842320\"}, {\"v_baseline\": \"central\", \"h_anchor\": \"middle\", \"color\": \"#000000\", \"text\": \"Alarm\", \"coordinates\": \"data\", \"zorder\": 3, \"alpha\": 1, \"fontsize\": 10.0, \"position\": [0.54163463320721417, 0.28715741881203843], \"rotation\": -0.0, \"id\": \"el5964140297294843408\"}, {\"v_baseline\": \"central\", \"h_anchor\": \"middle\", \"color\": \"#000000\", \"text\": \"JohnCalls\", \"coordinates\": \"data\", \"zorder\": 3, \"alpha\": 1, \"fontsize\": 10.0, \"position\": [0.13244244771489333, 0.55938754889230946], \"rotation\": -0.0, \"id\": \"el5964140297294901904\"}, {\"v_baseline\": \"central\", \"h_anchor\": \"middle\", \"color\": \"#000000\", \"text\": \"Earthquake\", \"coordinates\": \"data\", \"zorder\": 3, \"alpha\": 1, \"fontsize\": 10.0, \"position\": [0.0, 0.0], \"rotation\": -0.0, \"id\": \"el5964140297294902992\"}], \"zoomable\": true, \"images\": [], \"xdomain\": [-0.080000000000000002, 0.92680328733373984], \"ylim\": [-0.080000000000000002, 1.0800000000000001], \"paths\": [], \"sharey\": [], \"sharex\": [], \"axesbgalpha\": null, \"axes\": [{\"scale\": \"linear\", \"tickformat\": null, \"grid\": {\"gridOn\": false}, \"fontsize\": 10.0, \"position\": \"bottom\", \"nticks\": 7, \"tickvalues\": null}, {\"scale\": \"linear\", \"tickformat\": null, \"grid\": {\"gridOn\": false}, \"fontsize\": 10.0, \"position\": \"left\", \"nticks\": 8, \"tickvalues\": null}], \"lines\": [{\"color\": \"#808080\", \"yindex\": 1, \"coordinates\": \"data\", \"dasharray\": \"10,0\", \"zorder\": 2, \"alpha\": 1, \"xindex\": 0, \"linewidth\": 1.0, \"data\": \"data01\", \"id\": \"el5964140297295408848\"}, {\"color\": \"#000000\", \"yindex\": 1, \"coordinates\": \"data\", \"dasharray\": \"10,0\", \"zorder\": 2, \"alpha\": 0.5, \"xindex\": 0, \"linewidth\": 5.0, \"data\": \"data02\", \"id\": \"el5964140297295408656\"}, {\"color\": \"#808080\", \"yindex\": 1, \"coordinates\": \"data\", \"dasharray\": \"10,0\", \"zorder\": 2, \"alpha\": 1, \"xindex\": 0, \"linewidth\": 1.0, \"data\": \"data03\", \"id\": \"el5964140297295345424\"}, {\"color\": \"#000000\", \"yindex\": 1, \"coordinates\": \"data\", \"dasharray\": \"10,0\", \"zorder\": 2, \"alpha\": 0.5, \"xindex\": 0, \"linewidth\": 5.0, \"data\": \"data04\", \"id\": \"el5964140297295298896\"}, {\"color\": \"#808080\", \"yindex\": 1, \"coordinates\": \"data\", \"dasharray\": \"10,0\", \"zorder\": 2, \"alpha\": 1, \"xindex\": 0, \"linewidth\": 1.0, \"data\": \"data05\", \"id\": \"el5964140297295255952\"}, {\"color\": \"#000000\", \"yindex\": 1, \"coordinates\": \"data\", \"dasharray\": \"10,0\", \"zorder\": 2, \"alpha\": 0.5, \"xindex\": 0, \"linewidth\": 5.0, \"data\": \"data06\", \"id\": \"el5964140297295705040\"}, {\"color\": \"#808080\", \"yindex\": 1, \"coordinates\": \"data\", \"dasharray\": \"10,0\", \"zorder\": 2, \"alpha\": 1, \"xindex\": 0, \"linewidth\": 1.0, \"data\": \"data07\", \"id\": \"el5964140297295199632\"}, {\"color\": \"#000000\", \"yindex\": 1, \"coordinates\": \"data\", \"dasharray\": \"10,0\", \"zorder\": 2, \"alpha\": 0.5, \"xindex\": 0, \"linewidth\": 5.0, \"data\": \"data08\", \"id\": \"el5964140297294787600\"}], \"markers\": [{\"edgecolor\": \"#000000\", \"facecolor\": \"#D3D3D3\", \"edgewidth\": 1, \"yindex\": 1, \"coordinates\": \"data\", \"zorder\": 2, \"markerpath\": [[[0.0, 10.0], [2.652031, 10.0], [5.195798707848534, 8.946336915882418], [7.0710678118654755, 7.0710678118654755], [8.946336915882418, 5.195798707848534], [10.0, 2.652031], [10.0, 0.0], [10.0, -2.652031], [8.946336915882418, -5.195798707848534], [7.0710678118654755, -7.0710678118654755], [5.195798707848534, -8.946336915882418], [2.652031, -10.0], [0.0, -10.0], [-2.652031, -10.0], [-5.195798707848534, -8.946336915882418], [-7.0710678118654755, -7.0710678118654755], [-8.946336915882418, -5.195798707848534], [-10.0, -2.652031], [-10.0, 0.0], [-10.0, 2.652031], [-8.946336915882418, 5.195798707848534], [-7.0710678118654755, 7.0710678118654755], [-5.195798707848534, 8.946336915882418], [-2.652031, 10.0], [0.0, 10.0]], [\"M\", \"C\", \"C\", \"C\", \"C\", \"C\", \"C\", \"C\", \"C\", \"Z\"]], \"alpha\": 1.0, \"xindex\": 0, \"data\": \"data09\", \"id\": \"el5964140297944216912pts\"}, {\"edgecolor\": \"#000000\", \"facecolor\": \"#D3D3D3\", \"edgewidth\": 1, \"yindex\": 1, \"coordinates\": \"data\", \"zorder\": 2, \"markerpath\": [[[0.0, 20.0], [5.304062, 20.0], [10.391597415697069, 17.892673831764835], [14.142135623730951, 14.142135623730951], [17.892673831764835, 10.391597415697069], [20.0, 5.304062], [20.0, 0.0], [20.0, -5.304062], [17.892673831764835, -10.391597415697069], [14.142135623730951, -14.142135623730951], [10.391597415697069, -17.892673831764835], [5.304062, -20.0], [0.0, -20.0], [-5.304062, -20.0], [-10.391597415697069, -17.892673831764835], [-14.142135623730951, -14.142135623730951], [-17.892673831764835, -10.391597415697069], [-20.0, -5.304062], [-20.0, 0.0], [-20.0, 5.304062], [-17.892673831764835, 10.391597415697069], [-14.142135623730951, 14.142135623730951], [-10.391597415697069, 17.892673831764835], [-5.304062, 20.0], [0.0, 20.0]], [\"M\", \"C\", \"C\", \"C\", \"C\", \"C\", \"C\", \"C\", \"C\", \"Z\"]], \"alpha\": 0.0, \"xindex\": 0, \"data\": \"data09\", \"id\": \"el5964140297294904080pts\"}], \"id\": \"el5964140297935409808\", \"ydomain\": [-0.080000000000000002, 1.0800000000000001], \"collections\": [], \"xscale\": \"linear\", \"bbox\": [0.125, 0.125, 0.77500000000000002, 0.77500000000000002]}], \"height\": 640.0, \"width\": 960.0, \"plugins\": [{\"type\": \"reset\"}, {\"enabled\": false, \"button\": true, \"type\": \"zoom\"}, {\"enabled\": false, \"button\": true, \"type\": \"boxzoom\"}, {\"voffset\": 10, \"labels\": [\"<table border=\\\"1\\\" cellpadding=\\\"4\\\" cellspacing=\\\"0\\\" bordercolor=\\\"#000000\\\">\\n<tr bgcolor=\\\"#AAAAAA\\\">\\n<th align=\\\"center\\\">Burglary</th>\\n<th align=\\\"center\\\">Prob.</th>\\n</tr>\\n<tr>\\n<td bgcolor=#FFFFFF>True</td>\\n<td bgcolor=#f6b5b1>0.010</td>\\n</tr>\\n<tr>\\n<td bgcolor=#FFFFFF>False</td>\\n<td bgcolor=#f2f0f1>0.990</td>\\n</tr>\\n</table>\", \"<table border=\\\"1\\\" cellpadding=\\\"4\\\" cellspacing=\\\"0\\\" bordercolor=\\\"#000000\\\">\\n<tr bgcolor=\\\"#AAAAAA\\\">\\n<th align=\\\"center\\\">Alarm</th>\\n<th align=\\\"center\\\">MaryCalls</th>\\n<th align=\\\"center\\\">Prob.</th>\\n</tr>\\n<tr>\\n<td bgcolor=#FFFFFF>True</td>\\n<td bgcolor=#FFFFFF>True</td>\\n<td bgcolor=#eee6c2>0.700</td>\\n</tr>\\n<tr>\\n<td bgcolor=#FFFFFF>True</td>\\n<td bgcolor=#FFFFFF>False</td>\\n<td bgcolor=#d2ded0>0.300</td>\\n</tr>\\n<tr>\\n<td bgcolor=#FFFFFF>False</td>\\n<td bgcolor=#FFFFFF>True</td>\\n<td bgcolor=#f6b5b1>0.010</td>\\n</tr>\\n<tr>\\n<td bgcolor=#FFFFFF>False</td>\\n<td bgcolor=#FFFFFF>False</td>\\n<td bgcolor=#f2f0f1>0.990</td>\\n</tr>\\n</table>\", \"<table border=\\\"1\\\" cellpadding=\\\"4\\\" cellspacing=\\\"0\\\" bordercolor=\\\"#000000\\\">\\n<tr bgcolor=\\\"#AAAAAA\\\">\\n<th align=\\\"center\\\">Burglary</th>\\n<th align=\\\"center\\\">Earthquake</th>\\n<th align=\\\"center\\\">Alarm</th>\\n<th align=\\\"center\\\">Prob.</th>\\n</tr>\\n<tr>\\n<td bgcolor=#FFFFFF>True</td>\\n<td bgcolor=#FFFFFF>True</td>\\n<td bgcolor=#FFFFFF>True</td>\\n<td bgcolor=#f6e8ef>0.950</td>\\n</tr>\\n<tr>\\n<td bgcolor=#FFFFFF>True</td>\\n<td bgcolor=#FFFFFF>True</td>\\n<td bgcolor=#FFFFFF>False</td>\\n<td bgcolor=#dfbdc1>0.050</td>\\n</tr>\\n<tr>\\n<td bgcolor=#FFFFFF>True</td>\\n<td bgcolor=#FFFFFF>False</td>\\n<td bgcolor=#FFFFFF>True</td>\\n<td bgcolor=#f7e6ef>0.940</td>\\n</tr>\\n<tr>\\n<td bgcolor=#FFFFFF>True</td>\\n<td bgcolor=#FFFFFF>False</td>\\n<td bgcolor=#FFFFFF>False</td>\\n<td bgcolor=#d9bfc6>0.060</td>\\n</tr>\\n<tr>\\n<td bgcolor=#FFFFFF>False</td>\\n<td bgcolor=#FFFFFF>True</td>\\n<td bgcolor=#FFFFFF>True</td>\\n<td bgcolor=#d1e0ce>0.290</td>\\n</tr>\\n<tr>\\n<td bgcolor=#FFFFFF>False</td>\\n<td bgcolor=#FFFFFF>True</td>\\n<td bgcolor=#FFFFFF>False</td>\\n<td bgcolor=#ede4c1>0.710</td>\\n</tr>\\n<tr>\\n<td bgcolor=#FFFFFF>False</td>\\n<td bgcolor=#FFFFFF>False</td>\\n<td bgcolor=#FFFFFF>True</td>\\n<td bgcolor=#fbb4ae>0.001</td>\\n</tr>\\n<tr>\\n<td bgcolor=#FFFFFF>False</td>\\n<td bgcolor=#FFFFFF>False</td>\\n<td bgcolor=#FFFFFF>False</td>\\n<td bgcolor=#f2f2f2>0.999</td>\\n</tr>\\n</table>\", \"<table border=\\\"1\\\" cellpadding=\\\"4\\\" cellspacing=\\\"0\\\" bordercolor=\\\"#000000\\\">\\n<tr bgcolor=\\\"#AAAAAA\\\">\\n<th align=\\\"center\\\">Alarm</th>\\n<th align=\\\"center\\\">JohnCalls</th>\\n<th align=\\\"center\\\">Prob.</th>\\n</tr>\\n<tr>\\n<td bgcolor=#FFFFFF>True</td>\\n<td bgcolor=#FFFFFF>True</td>\\n<td bgcolor=#fadfed>0.900</td>\\n</tr>\\n<tr>\\n<td bgcolor=#FFFFFF>True</td>\\n<td bgcolor=#FFFFFF>False</td>\\n<td bgcolor=#c2c7d7>0.100</td>\\n</tr>\\n<tr>\\n<td bgcolor=#FFFFFF>False</td>\\n<td bgcolor=#FFFFFF>True</td>\\n<td bgcolor=#dfbdc1>0.050</td>\\n</tr>\\n<tr>\\n<td bgcolor=#FFFFFF>False</td>\\n<td bgcolor=#FFFFFF>False</td>\\n<td bgcolor=#f6e8ef>0.950</td>\\n</tr>\\n</table>\", \"<table border=\\\"1\\\" cellpadding=\\\"4\\\" cellspacing=\\\"0\\\" bordercolor=\\\"#000000\\\">\\n<tr bgcolor=\\\"#AAAAAA\\\">\\n<th align=\\\"center\\\">Earthquake</th>\\n<th align=\\\"center\\\">Prob.</th>\\n</tr>\\n<tr>\\n<td bgcolor=#FFFFFF>True</td>\\n<td bgcolor=#efb7b6>0.020</td>\\n</tr>\\n<tr>\\n<td bgcolor=#FFFFFF>False</td>\\n<td bgcolor=#f3eef1>0.980</td>\\n</tr>\\n</table>\"], \"type\": \"htmltooltip\", \"id\": \"el5964140297294904080pts\", \"hoffset\": 10}], \"data\": {\"data08\": [[0.46038943822613204, 0.24408380599023266], [0.5416346332072142, 0.28715741881203843]], \"data09\": [[0.8468032873337399, 1.0], [0.716284817816314, 0.5423338933749859], [0.5416346332072142, 0.28715741881203843], [0.13244244771489333, 0.5593875488923095], [0.0, 0.0]], \"data06\": [[0.19382127553874146, 0.5185530293802688], [0.13244244771489333, 0.5593875488923095]], \"data07\": [[0.0, 0.0], [0.5416346332072142, 0.28715741881203843]], \"data04\": [[0.6900872901249491, 0.5040574221905438], [0.716284817816314, 0.5423338933749859]], \"data05\": [[0.5416346332072142, 0.28715741881203843], [0.13244244771489333, 0.5593875488923095]], \"data02\": [[0.587409931326193, 0.3940838059902326], [0.5416346332072142, 0.28715741881203843]], \"data03\": [[0.5416346332072142, 0.28715741881203843], [0.716284817816314, 0.5423338933749859]], \"data01\": [[0.8468032873337399, 1.0], [0.5416346332072142, 0.28715741881203843]]}, \"id\": \"el5964140297295517456\"});\n",
       "   }(mpld3);\n",
       "}else if(typeof define === \"function\" && define.amd){\n",
       "   // require.js is available: use it to load d3/mpld3\n",
       "   require.config({paths: {d3: \"https://mpld3.github.io/js/d3.v3.min\"}});\n",
       "   require([\"d3\"], function(d3){\n",
       "      window.d3 = d3;\n",
       "      mpld3_load_lib(\"https://mpld3.github.io/js/mpld3.v0.2.js\", function(){\n",
       "         \n",
       "    mpld3.register_plugin(\"htmltooltip\", HtmlTooltipPlugin);\n",
       "    HtmlTooltipPlugin.prototype = Object.create(mpld3.Plugin.prototype);\n",
       "    HtmlTooltipPlugin.prototype.constructor = HtmlTooltipPlugin;\n",
       "    HtmlTooltipPlugin.prototype.requiredProps = [\"id\"];\n",
       "    HtmlTooltipPlugin.prototype.defaultProps = {labels:null, hoffset:0, voffset:10};\n",
       "    function HtmlTooltipPlugin(fig, props){\n",
       "        mpld3.Plugin.call(this, fig, props);\n",
       "    };\n",
       "\n",
       "    HtmlTooltipPlugin.prototype.draw = function(){\n",
       "       var obj = mpld3.get_element(this.props.id);\n",
       "       var labels = this.props.labels;\n",
       "       var tooltip = d3.select(\"body\").append(\"div\")\n",
       "                    .attr(\"class\", \"mpld3-tooltip\")\n",
       "                    .style(\"position\", \"absolute\")\n",
       "                    .style(\"z-index\", \"10\")\n",
       "                    .style(\"visibility\", \"hidden\");\n",
       "\n",
       "       obj.elements()\n",
       "           .on(\"mouseover\", function(d, i){\n",
       "                              tooltip.html(labels[i])\n",
       "                                     .style(\"visibility\", \"visible\");})\n",
       "           .on(\"mousemove\", function(d, i){\n",
       "                    tooltip\n",
       "                      .style(\"top\", d3.event.pageY + this.props.voffset + \"px\")\n",
       "                      .style(\"left\",d3.event.pageX + this.props.hoffset + \"px\");\n",
       "                 }.bind(this))\n",
       "           .on(\"mouseout\",  function(d, i){\n",
       "                           tooltip.style(\"visibility\", \"hidden\");});\n",
       "    };\n",
       "    \n",
       "         mpld3.draw_figure(\"fig_el59641402972955174565461373168\", {\"axes\": [{\"xlim\": [-0.080000000000000002, 0.92680328733373984], \"yscale\": \"linear\", \"axesbg\": \"#FFFFFF\", \"texts\": [{\"v_baseline\": \"central\", \"h_anchor\": \"middle\", \"color\": \"#000000\", \"text\": \"Burglary\", \"coordinates\": \"data\", \"zorder\": 3, \"alpha\": 1, \"fontsize\": 10.0, \"position\": [0.84680328733373988, 1.0], \"rotation\": -0.0, \"id\": \"el5964140297294841296\"}, {\"v_baseline\": \"central\", \"h_anchor\": \"middle\", \"color\": \"#000000\", \"text\": \"MaryCalls\", \"coordinates\": \"data\", \"zorder\": 3, \"alpha\": 1, \"fontsize\": 10.0, \"position\": [0.71628481781631403, 0.54233389337498594], \"rotation\": -0.0, \"id\": \"el5964140297294842320\"}, {\"v_baseline\": \"central\", \"h_anchor\": \"middle\", \"color\": \"#000000\", \"text\": \"Alarm\", \"coordinates\": \"data\", \"zorder\": 3, \"alpha\": 1, \"fontsize\": 10.0, \"position\": [0.54163463320721417, 0.28715741881203843], \"rotation\": -0.0, \"id\": \"el5964140297294843408\"}, {\"v_baseline\": \"central\", \"h_anchor\": \"middle\", \"color\": \"#000000\", \"text\": \"JohnCalls\", \"coordinates\": \"data\", \"zorder\": 3, \"alpha\": 1, \"fontsize\": 10.0, \"position\": [0.13244244771489333, 0.55938754889230946], \"rotation\": -0.0, \"id\": \"el5964140297294901904\"}, {\"v_baseline\": \"central\", \"h_anchor\": \"middle\", \"color\": \"#000000\", \"text\": \"Earthquake\", \"coordinates\": \"data\", \"zorder\": 3, \"alpha\": 1, \"fontsize\": 10.0, \"position\": [0.0, 0.0], \"rotation\": -0.0, \"id\": \"el5964140297294902992\"}], \"zoomable\": true, \"images\": [], \"xdomain\": [-0.080000000000000002, 0.92680328733373984], \"ylim\": [-0.080000000000000002, 1.0800000000000001], \"paths\": [], \"sharey\": [], \"sharex\": [], \"axesbgalpha\": null, \"axes\": [{\"scale\": \"linear\", \"tickformat\": null, \"grid\": {\"gridOn\": false}, \"fontsize\": 10.0, \"position\": \"bottom\", \"nticks\": 7, \"tickvalues\": null}, {\"scale\": \"linear\", \"tickformat\": null, \"grid\": {\"gridOn\": false}, \"fontsize\": 10.0, \"position\": \"left\", \"nticks\": 8, \"tickvalues\": null}], \"lines\": [{\"color\": \"#808080\", \"yindex\": 1, \"coordinates\": \"data\", \"dasharray\": \"10,0\", \"zorder\": 2, \"alpha\": 1, \"xindex\": 0, \"linewidth\": 1.0, \"data\": \"data01\", \"id\": \"el5964140297295408848\"}, {\"color\": \"#000000\", \"yindex\": 1, \"coordinates\": \"data\", \"dasharray\": \"10,0\", \"zorder\": 2, \"alpha\": 0.5, \"xindex\": 0, \"linewidth\": 5.0, \"data\": \"data02\", \"id\": \"el5964140297295408656\"}, {\"color\": \"#808080\", \"yindex\": 1, \"coordinates\": \"data\", \"dasharray\": \"10,0\", \"zorder\": 2, \"alpha\": 1, \"xindex\": 0, \"linewidth\": 1.0, \"data\": \"data03\", \"id\": \"el5964140297295345424\"}, {\"color\": \"#000000\", \"yindex\": 1, \"coordinates\": \"data\", \"dasharray\": \"10,0\", \"zorder\": 2, \"alpha\": 0.5, \"xindex\": 0, \"linewidth\": 5.0, \"data\": \"data04\", \"id\": \"el5964140297295298896\"}, {\"color\": \"#808080\", \"yindex\": 1, \"coordinates\": \"data\", \"dasharray\": \"10,0\", \"zorder\": 2, \"alpha\": 1, \"xindex\": 0, \"linewidth\": 1.0, \"data\": \"data05\", \"id\": \"el5964140297295255952\"}, {\"color\": \"#000000\", \"yindex\": 1, \"coordinates\": \"data\", \"dasharray\": \"10,0\", \"zorder\": 2, \"alpha\": 0.5, \"xindex\": 0, \"linewidth\": 5.0, \"data\": \"data06\", \"id\": \"el5964140297295705040\"}, {\"color\": \"#808080\", \"yindex\": 1, \"coordinates\": \"data\", \"dasharray\": \"10,0\", \"zorder\": 2, \"alpha\": 1, \"xindex\": 0, \"linewidth\": 1.0, \"data\": \"data07\", \"id\": \"el5964140297295199632\"}, {\"color\": \"#000000\", \"yindex\": 1, \"coordinates\": \"data\", \"dasharray\": \"10,0\", \"zorder\": 2, \"alpha\": 0.5, \"xindex\": 0, \"linewidth\": 5.0, \"data\": \"data08\", \"id\": \"el5964140297294787600\"}], \"markers\": [{\"edgecolor\": \"#000000\", \"facecolor\": \"#D3D3D3\", \"edgewidth\": 1, \"yindex\": 1, \"coordinates\": \"data\", \"zorder\": 2, \"markerpath\": [[[0.0, 10.0], [2.652031, 10.0], [5.195798707848534, 8.946336915882418], [7.0710678118654755, 7.0710678118654755], [8.946336915882418, 5.195798707848534], [10.0, 2.652031], [10.0, 0.0], [10.0, -2.652031], [8.946336915882418, -5.195798707848534], [7.0710678118654755, -7.0710678118654755], [5.195798707848534, -8.946336915882418], [2.652031, -10.0], [0.0, -10.0], [-2.652031, -10.0], [-5.195798707848534, -8.946336915882418], [-7.0710678118654755, -7.0710678118654755], [-8.946336915882418, -5.195798707848534], [-10.0, -2.652031], [-10.0, 0.0], [-10.0, 2.652031], [-8.946336915882418, 5.195798707848534], [-7.0710678118654755, 7.0710678118654755], [-5.195798707848534, 8.946336915882418], [-2.652031, 10.0], [0.0, 10.0]], [\"M\", \"C\", \"C\", \"C\", \"C\", \"C\", \"C\", \"C\", \"C\", \"Z\"]], \"alpha\": 1.0, \"xindex\": 0, \"data\": \"data09\", \"id\": \"el5964140297944216912pts\"}, {\"edgecolor\": \"#000000\", \"facecolor\": \"#D3D3D3\", \"edgewidth\": 1, \"yindex\": 1, \"coordinates\": \"data\", \"zorder\": 2, \"markerpath\": [[[0.0, 20.0], [5.304062, 20.0], [10.391597415697069, 17.892673831764835], [14.142135623730951, 14.142135623730951], [17.892673831764835, 10.391597415697069], [20.0, 5.304062], [20.0, 0.0], [20.0, -5.304062], [17.892673831764835, -10.391597415697069], [14.142135623730951, -14.142135623730951], [10.391597415697069, -17.892673831764835], [5.304062, -20.0], [0.0, -20.0], [-5.304062, -20.0], [-10.391597415697069, -17.892673831764835], [-14.142135623730951, -14.142135623730951], [-17.892673831764835, -10.391597415697069], [-20.0, -5.304062], [-20.0, 0.0], [-20.0, 5.304062], [-17.892673831764835, 10.391597415697069], [-14.142135623730951, 14.142135623730951], [-10.391597415697069, 17.892673831764835], [-5.304062, 20.0], [0.0, 20.0]], [\"M\", \"C\", \"C\", \"C\", \"C\", \"C\", \"C\", \"C\", \"C\", \"Z\"]], \"alpha\": 0.0, \"xindex\": 0, \"data\": \"data09\", \"id\": \"el5964140297294904080pts\"}], \"id\": \"el5964140297935409808\", \"ydomain\": [-0.080000000000000002, 1.0800000000000001], \"collections\": [], \"xscale\": \"linear\", \"bbox\": [0.125, 0.125, 0.77500000000000002, 0.77500000000000002]}], \"height\": 640.0, \"width\": 960.0, \"plugins\": [{\"type\": \"reset\"}, {\"enabled\": false, \"button\": true, \"type\": \"zoom\"}, {\"enabled\": false, \"button\": true, \"type\": \"boxzoom\"}, {\"voffset\": 10, \"labels\": [\"<table border=\\\"1\\\" cellpadding=\\\"4\\\" cellspacing=\\\"0\\\" bordercolor=\\\"#000000\\\">\\n<tr bgcolor=\\\"#AAAAAA\\\">\\n<th align=\\\"center\\\">Burglary</th>\\n<th align=\\\"center\\\">Prob.</th>\\n</tr>\\n<tr>\\n<td bgcolor=#FFFFFF>True</td>\\n<td bgcolor=#f6b5b1>0.010</td>\\n</tr>\\n<tr>\\n<td bgcolor=#FFFFFF>False</td>\\n<td bgcolor=#f2f0f1>0.990</td>\\n</tr>\\n</table>\", \"<table border=\\\"1\\\" cellpadding=\\\"4\\\" cellspacing=\\\"0\\\" bordercolor=\\\"#000000\\\">\\n<tr bgcolor=\\\"#AAAAAA\\\">\\n<th align=\\\"center\\\">Alarm</th>\\n<th align=\\\"center\\\">MaryCalls</th>\\n<th align=\\\"center\\\">Prob.</th>\\n</tr>\\n<tr>\\n<td bgcolor=#FFFFFF>True</td>\\n<td bgcolor=#FFFFFF>True</td>\\n<td bgcolor=#eee6c2>0.700</td>\\n</tr>\\n<tr>\\n<td bgcolor=#FFFFFF>True</td>\\n<td bgcolor=#FFFFFF>False</td>\\n<td bgcolor=#d2ded0>0.300</td>\\n</tr>\\n<tr>\\n<td bgcolor=#FFFFFF>False</td>\\n<td bgcolor=#FFFFFF>True</td>\\n<td bgcolor=#f6b5b1>0.010</td>\\n</tr>\\n<tr>\\n<td bgcolor=#FFFFFF>False</td>\\n<td bgcolor=#FFFFFF>False</td>\\n<td bgcolor=#f2f0f1>0.990</td>\\n</tr>\\n</table>\", \"<table border=\\\"1\\\" cellpadding=\\\"4\\\" cellspacing=\\\"0\\\" bordercolor=\\\"#000000\\\">\\n<tr bgcolor=\\\"#AAAAAA\\\">\\n<th align=\\\"center\\\">Burglary</th>\\n<th align=\\\"center\\\">Earthquake</th>\\n<th align=\\\"center\\\">Alarm</th>\\n<th align=\\\"center\\\">Prob.</th>\\n</tr>\\n<tr>\\n<td bgcolor=#FFFFFF>True</td>\\n<td bgcolor=#FFFFFF>True</td>\\n<td bgcolor=#FFFFFF>True</td>\\n<td bgcolor=#f6e8ef>0.950</td>\\n</tr>\\n<tr>\\n<td bgcolor=#FFFFFF>True</td>\\n<td bgcolor=#FFFFFF>True</td>\\n<td bgcolor=#FFFFFF>False</td>\\n<td bgcolor=#dfbdc1>0.050</td>\\n</tr>\\n<tr>\\n<td bgcolor=#FFFFFF>True</td>\\n<td bgcolor=#FFFFFF>False</td>\\n<td bgcolor=#FFFFFF>True</td>\\n<td bgcolor=#f7e6ef>0.940</td>\\n</tr>\\n<tr>\\n<td bgcolor=#FFFFFF>True</td>\\n<td bgcolor=#FFFFFF>False</td>\\n<td bgcolor=#FFFFFF>False</td>\\n<td bgcolor=#d9bfc6>0.060</td>\\n</tr>\\n<tr>\\n<td bgcolor=#FFFFFF>False</td>\\n<td bgcolor=#FFFFFF>True</td>\\n<td bgcolor=#FFFFFF>True</td>\\n<td bgcolor=#d1e0ce>0.290</td>\\n</tr>\\n<tr>\\n<td bgcolor=#FFFFFF>False</td>\\n<td bgcolor=#FFFFFF>True</td>\\n<td bgcolor=#FFFFFF>False</td>\\n<td bgcolor=#ede4c1>0.710</td>\\n</tr>\\n<tr>\\n<td bgcolor=#FFFFFF>False</td>\\n<td bgcolor=#FFFFFF>False</td>\\n<td bgcolor=#FFFFFF>True</td>\\n<td bgcolor=#fbb4ae>0.001</td>\\n</tr>\\n<tr>\\n<td bgcolor=#FFFFFF>False</td>\\n<td bgcolor=#FFFFFF>False</td>\\n<td bgcolor=#FFFFFF>False</td>\\n<td bgcolor=#f2f2f2>0.999</td>\\n</tr>\\n</table>\", \"<table border=\\\"1\\\" cellpadding=\\\"4\\\" cellspacing=\\\"0\\\" bordercolor=\\\"#000000\\\">\\n<tr bgcolor=\\\"#AAAAAA\\\">\\n<th align=\\\"center\\\">Alarm</th>\\n<th align=\\\"center\\\">JohnCalls</th>\\n<th align=\\\"center\\\">Prob.</th>\\n</tr>\\n<tr>\\n<td bgcolor=#FFFFFF>True</td>\\n<td bgcolor=#FFFFFF>True</td>\\n<td bgcolor=#fadfed>0.900</td>\\n</tr>\\n<tr>\\n<td bgcolor=#FFFFFF>True</td>\\n<td bgcolor=#FFFFFF>False</td>\\n<td bgcolor=#c2c7d7>0.100</td>\\n</tr>\\n<tr>\\n<td bgcolor=#FFFFFF>False</td>\\n<td bgcolor=#FFFFFF>True</td>\\n<td bgcolor=#dfbdc1>0.050</td>\\n</tr>\\n<tr>\\n<td bgcolor=#FFFFFF>False</td>\\n<td bgcolor=#FFFFFF>False</td>\\n<td bgcolor=#f6e8ef>0.950</td>\\n</tr>\\n</table>\", \"<table border=\\\"1\\\" cellpadding=\\\"4\\\" cellspacing=\\\"0\\\" bordercolor=\\\"#000000\\\">\\n<tr bgcolor=\\\"#AAAAAA\\\">\\n<th align=\\\"center\\\">Earthquake</th>\\n<th align=\\\"center\\\">Prob.</th>\\n</tr>\\n<tr>\\n<td bgcolor=#FFFFFF>True</td>\\n<td bgcolor=#efb7b6>0.020</td>\\n</tr>\\n<tr>\\n<td bgcolor=#FFFFFF>False</td>\\n<td bgcolor=#f3eef1>0.980</td>\\n</tr>\\n</table>\"], \"type\": \"htmltooltip\", \"id\": \"el5964140297294904080pts\", \"hoffset\": 10}], \"data\": {\"data08\": [[0.46038943822613204, 0.24408380599023266], [0.5416346332072142, 0.28715741881203843]], \"data09\": [[0.8468032873337399, 1.0], [0.716284817816314, 0.5423338933749859], [0.5416346332072142, 0.28715741881203843], [0.13244244771489333, 0.5593875488923095], [0.0, 0.0]], \"data06\": [[0.19382127553874146, 0.5185530293802688], [0.13244244771489333, 0.5593875488923095]], \"data07\": [[0.0, 0.0], [0.5416346332072142, 0.28715741881203843]], \"data04\": [[0.6900872901249491, 0.5040574221905438], [0.716284817816314, 0.5423338933749859]], \"data05\": [[0.5416346332072142, 0.28715741881203843], [0.13244244771489333, 0.5593875488923095]], \"data02\": [[0.587409931326193, 0.3940838059902326], [0.5416346332072142, 0.28715741881203843]], \"data03\": [[0.5416346332072142, 0.28715741881203843], [0.716284817816314, 0.5423338933749859]], \"data01\": [[0.8468032873337399, 1.0], [0.5416346332072142, 0.28715741881203843]]}, \"id\": \"el5964140297295517456\"});\n",
       "      });\n",
       "    });\n",
       "}else{\n",
       "    // require.js not available: dynamically load d3 & mpld3\n",
       "    mpld3_load_lib(\"https://mpld3.github.io/js/d3.v3.min.js\", function(){\n",
       "         mpld3_load_lib(\"https://mpld3.github.io/js/mpld3.v0.2.js\", function(){\n",
       "                 \n",
       "    mpld3.register_plugin(\"htmltooltip\", HtmlTooltipPlugin);\n",
       "    HtmlTooltipPlugin.prototype = Object.create(mpld3.Plugin.prototype);\n",
       "    HtmlTooltipPlugin.prototype.constructor = HtmlTooltipPlugin;\n",
       "    HtmlTooltipPlugin.prototype.requiredProps = [\"id\"];\n",
       "    HtmlTooltipPlugin.prototype.defaultProps = {labels:null, hoffset:0, voffset:10};\n",
       "    function HtmlTooltipPlugin(fig, props){\n",
       "        mpld3.Plugin.call(this, fig, props);\n",
       "    };\n",
       "\n",
       "    HtmlTooltipPlugin.prototype.draw = function(){\n",
       "       var obj = mpld3.get_element(this.props.id);\n",
       "       var labels = this.props.labels;\n",
       "       var tooltip = d3.select(\"body\").append(\"div\")\n",
       "                    .attr(\"class\", \"mpld3-tooltip\")\n",
       "                    .style(\"position\", \"absolute\")\n",
       "                    .style(\"z-index\", \"10\")\n",
       "                    .style(\"visibility\", \"hidden\");\n",
       "\n",
       "       obj.elements()\n",
       "           .on(\"mouseover\", function(d, i){\n",
       "                              tooltip.html(labels[i])\n",
       "                                     .style(\"visibility\", \"visible\");})\n",
       "           .on(\"mousemove\", function(d, i){\n",
       "                    tooltip\n",
       "                      .style(\"top\", d3.event.pageY + this.props.voffset + \"px\")\n",
       "                      .style(\"left\",d3.event.pageX + this.props.hoffset + \"px\");\n",
       "                 }.bind(this))\n",
       "           .on(\"mouseout\",  function(d, i){\n",
       "                           tooltip.style(\"visibility\", \"hidden\");});\n",
       "    };\n",
       "    \n",
       "                 mpld3.draw_figure(\"fig_el59641402972955174565461373168\", {\"axes\": [{\"xlim\": [-0.080000000000000002, 0.92680328733373984], \"yscale\": \"linear\", \"axesbg\": \"#FFFFFF\", \"texts\": [{\"v_baseline\": \"central\", \"h_anchor\": \"middle\", \"color\": \"#000000\", \"text\": \"Burglary\", \"coordinates\": \"data\", \"zorder\": 3, \"alpha\": 1, \"fontsize\": 10.0, \"position\": [0.84680328733373988, 1.0], \"rotation\": -0.0, \"id\": \"el5964140297294841296\"}, {\"v_baseline\": \"central\", \"h_anchor\": \"middle\", \"color\": \"#000000\", \"text\": \"MaryCalls\", \"coordinates\": \"data\", \"zorder\": 3, \"alpha\": 1, \"fontsize\": 10.0, \"position\": [0.71628481781631403, 0.54233389337498594], \"rotation\": -0.0, \"id\": \"el5964140297294842320\"}, {\"v_baseline\": \"central\", \"h_anchor\": \"middle\", \"color\": \"#000000\", \"text\": \"Alarm\", \"coordinates\": \"data\", \"zorder\": 3, \"alpha\": 1, \"fontsize\": 10.0, \"position\": [0.54163463320721417, 0.28715741881203843], \"rotation\": -0.0, \"id\": \"el5964140297294843408\"}, {\"v_baseline\": \"central\", \"h_anchor\": \"middle\", \"color\": \"#000000\", \"text\": \"JohnCalls\", \"coordinates\": \"data\", \"zorder\": 3, \"alpha\": 1, \"fontsize\": 10.0, \"position\": [0.13244244771489333, 0.55938754889230946], \"rotation\": -0.0, \"id\": \"el5964140297294901904\"}, {\"v_baseline\": \"central\", \"h_anchor\": \"middle\", \"color\": \"#000000\", \"text\": \"Earthquake\", \"coordinates\": \"data\", \"zorder\": 3, \"alpha\": 1, \"fontsize\": 10.0, \"position\": [0.0, 0.0], \"rotation\": -0.0, \"id\": \"el5964140297294902992\"}], \"zoomable\": true, \"images\": [], \"xdomain\": [-0.080000000000000002, 0.92680328733373984], \"ylim\": [-0.080000000000000002, 1.0800000000000001], \"paths\": [], \"sharey\": [], \"sharex\": [], \"axesbgalpha\": null, \"axes\": [{\"scale\": \"linear\", \"tickformat\": null, \"grid\": {\"gridOn\": false}, \"fontsize\": 10.0, \"position\": \"bottom\", \"nticks\": 7, \"tickvalues\": null}, {\"scale\": \"linear\", \"tickformat\": null, \"grid\": {\"gridOn\": false}, \"fontsize\": 10.0, \"position\": \"left\", \"nticks\": 8, \"tickvalues\": null}], \"lines\": [{\"color\": \"#808080\", \"yindex\": 1, \"coordinates\": \"data\", \"dasharray\": \"10,0\", \"zorder\": 2, \"alpha\": 1, \"xindex\": 0, \"linewidth\": 1.0, \"data\": \"data01\", \"id\": \"el5964140297295408848\"}, {\"color\": \"#000000\", \"yindex\": 1, \"coordinates\": \"data\", \"dasharray\": \"10,0\", \"zorder\": 2, \"alpha\": 0.5, \"xindex\": 0, \"linewidth\": 5.0, \"data\": \"data02\", \"id\": \"el5964140297295408656\"}, {\"color\": \"#808080\", \"yindex\": 1, \"coordinates\": \"data\", \"dasharray\": \"10,0\", \"zorder\": 2, \"alpha\": 1, \"xindex\": 0, \"linewidth\": 1.0, \"data\": \"data03\", \"id\": \"el5964140297295345424\"}, {\"color\": \"#000000\", \"yindex\": 1, \"coordinates\": \"data\", \"dasharray\": \"10,0\", \"zorder\": 2, \"alpha\": 0.5, \"xindex\": 0, \"linewidth\": 5.0, \"data\": \"data04\", \"id\": \"el5964140297295298896\"}, {\"color\": \"#808080\", \"yindex\": 1, \"coordinates\": \"data\", \"dasharray\": \"10,0\", \"zorder\": 2, \"alpha\": 1, \"xindex\": 0, \"linewidth\": 1.0, \"data\": \"data05\", \"id\": \"el5964140297295255952\"}, {\"color\": \"#000000\", \"yindex\": 1, \"coordinates\": \"data\", \"dasharray\": \"10,0\", \"zorder\": 2, \"alpha\": 0.5, \"xindex\": 0, \"linewidth\": 5.0, \"data\": \"data06\", \"id\": \"el5964140297295705040\"}, {\"color\": \"#808080\", \"yindex\": 1, \"coordinates\": \"data\", \"dasharray\": \"10,0\", \"zorder\": 2, \"alpha\": 1, \"xindex\": 0, \"linewidth\": 1.0, \"data\": \"data07\", \"id\": \"el5964140297295199632\"}, {\"color\": \"#000000\", \"yindex\": 1, \"coordinates\": \"data\", \"dasharray\": \"10,0\", \"zorder\": 2, \"alpha\": 0.5, \"xindex\": 0, \"linewidth\": 5.0, \"data\": \"data08\", \"id\": \"el5964140297294787600\"}], \"markers\": [{\"edgecolor\": \"#000000\", \"facecolor\": \"#D3D3D3\", \"edgewidth\": 1, \"yindex\": 1, \"coordinates\": \"data\", \"zorder\": 2, \"markerpath\": [[[0.0, 10.0], [2.652031, 10.0], [5.195798707848534, 8.946336915882418], [7.0710678118654755, 7.0710678118654755], [8.946336915882418, 5.195798707848534], [10.0, 2.652031], [10.0, 0.0], [10.0, -2.652031], [8.946336915882418, -5.195798707848534], [7.0710678118654755, -7.0710678118654755], [5.195798707848534, -8.946336915882418], [2.652031, -10.0], [0.0, -10.0], [-2.652031, -10.0], [-5.195798707848534, -8.946336915882418], [-7.0710678118654755, -7.0710678118654755], [-8.946336915882418, -5.195798707848534], [-10.0, -2.652031], [-10.0, 0.0], [-10.0, 2.652031], [-8.946336915882418, 5.195798707848534], [-7.0710678118654755, 7.0710678118654755], [-5.195798707848534, 8.946336915882418], [-2.652031, 10.0], [0.0, 10.0]], [\"M\", \"C\", \"C\", \"C\", \"C\", \"C\", \"C\", \"C\", \"C\", \"Z\"]], \"alpha\": 1.0, \"xindex\": 0, \"data\": \"data09\", \"id\": \"el5964140297944216912pts\"}, {\"edgecolor\": \"#000000\", \"facecolor\": \"#D3D3D3\", \"edgewidth\": 1, \"yindex\": 1, \"coordinates\": \"data\", \"zorder\": 2, \"markerpath\": [[[0.0, 20.0], [5.304062, 20.0], [10.391597415697069, 17.892673831764835], [14.142135623730951, 14.142135623730951], [17.892673831764835, 10.391597415697069], [20.0, 5.304062], [20.0, 0.0], [20.0, -5.304062], [17.892673831764835, -10.391597415697069], [14.142135623730951, -14.142135623730951], [10.391597415697069, -17.892673831764835], [5.304062, -20.0], [0.0, -20.0], [-5.304062, -20.0], [-10.391597415697069, -17.892673831764835], [-14.142135623730951, -14.142135623730951], [-17.892673831764835, -10.391597415697069], [-20.0, -5.304062], [-20.0, 0.0], [-20.0, 5.304062], [-17.892673831764835, 10.391597415697069], [-14.142135623730951, 14.142135623730951], [-10.391597415697069, 17.892673831764835], [-5.304062, 20.0], [0.0, 20.0]], [\"M\", \"C\", \"C\", \"C\", \"C\", \"C\", \"C\", \"C\", \"C\", \"Z\"]], \"alpha\": 0.0, \"xindex\": 0, \"data\": \"data09\", \"id\": \"el5964140297294904080pts\"}], \"id\": \"el5964140297935409808\", \"ydomain\": [-0.080000000000000002, 1.0800000000000001], \"collections\": [], \"xscale\": \"linear\", \"bbox\": [0.125, 0.125, 0.77500000000000002, 0.77500000000000002]}], \"height\": 640.0, \"width\": 960.0, \"plugins\": [{\"type\": \"reset\"}, {\"enabled\": false, \"button\": true, \"type\": \"zoom\"}, {\"enabled\": false, \"button\": true, \"type\": \"boxzoom\"}, {\"voffset\": 10, \"labels\": [\"<table border=\\\"1\\\" cellpadding=\\\"4\\\" cellspacing=\\\"0\\\" bordercolor=\\\"#000000\\\">\\n<tr bgcolor=\\\"#AAAAAA\\\">\\n<th align=\\\"center\\\">Burglary</th>\\n<th align=\\\"center\\\">Prob.</th>\\n</tr>\\n<tr>\\n<td bgcolor=#FFFFFF>True</td>\\n<td bgcolor=#f6b5b1>0.010</td>\\n</tr>\\n<tr>\\n<td bgcolor=#FFFFFF>False</td>\\n<td bgcolor=#f2f0f1>0.990</td>\\n</tr>\\n</table>\", \"<table border=\\\"1\\\" cellpadding=\\\"4\\\" cellspacing=\\\"0\\\" bordercolor=\\\"#000000\\\">\\n<tr bgcolor=\\\"#AAAAAA\\\">\\n<th align=\\\"center\\\">Alarm</th>\\n<th align=\\\"center\\\">MaryCalls</th>\\n<th align=\\\"center\\\">Prob.</th>\\n</tr>\\n<tr>\\n<td bgcolor=#FFFFFF>True</td>\\n<td bgcolor=#FFFFFF>True</td>\\n<td bgcolor=#eee6c2>0.700</td>\\n</tr>\\n<tr>\\n<td bgcolor=#FFFFFF>True</td>\\n<td bgcolor=#FFFFFF>False</td>\\n<td bgcolor=#d2ded0>0.300</td>\\n</tr>\\n<tr>\\n<td bgcolor=#FFFFFF>False</td>\\n<td bgcolor=#FFFFFF>True</td>\\n<td bgcolor=#f6b5b1>0.010</td>\\n</tr>\\n<tr>\\n<td bgcolor=#FFFFFF>False</td>\\n<td bgcolor=#FFFFFF>False</td>\\n<td bgcolor=#f2f0f1>0.990</td>\\n</tr>\\n</table>\", \"<table border=\\\"1\\\" cellpadding=\\\"4\\\" cellspacing=\\\"0\\\" bordercolor=\\\"#000000\\\">\\n<tr bgcolor=\\\"#AAAAAA\\\">\\n<th align=\\\"center\\\">Burglary</th>\\n<th align=\\\"center\\\">Earthquake</th>\\n<th align=\\\"center\\\">Alarm</th>\\n<th align=\\\"center\\\">Prob.</th>\\n</tr>\\n<tr>\\n<td bgcolor=#FFFFFF>True</td>\\n<td bgcolor=#FFFFFF>True</td>\\n<td bgcolor=#FFFFFF>True</td>\\n<td bgcolor=#f6e8ef>0.950</td>\\n</tr>\\n<tr>\\n<td bgcolor=#FFFFFF>True</td>\\n<td bgcolor=#FFFFFF>True</td>\\n<td bgcolor=#FFFFFF>False</td>\\n<td bgcolor=#dfbdc1>0.050</td>\\n</tr>\\n<tr>\\n<td bgcolor=#FFFFFF>True</td>\\n<td bgcolor=#FFFFFF>False</td>\\n<td bgcolor=#FFFFFF>True</td>\\n<td bgcolor=#f7e6ef>0.940</td>\\n</tr>\\n<tr>\\n<td bgcolor=#FFFFFF>True</td>\\n<td bgcolor=#FFFFFF>False</td>\\n<td bgcolor=#FFFFFF>False</td>\\n<td bgcolor=#d9bfc6>0.060</td>\\n</tr>\\n<tr>\\n<td bgcolor=#FFFFFF>False</td>\\n<td bgcolor=#FFFFFF>True</td>\\n<td bgcolor=#FFFFFF>True</td>\\n<td bgcolor=#d1e0ce>0.290</td>\\n</tr>\\n<tr>\\n<td bgcolor=#FFFFFF>False</td>\\n<td bgcolor=#FFFFFF>True</td>\\n<td bgcolor=#FFFFFF>False</td>\\n<td bgcolor=#ede4c1>0.710</td>\\n</tr>\\n<tr>\\n<td bgcolor=#FFFFFF>False</td>\\n<td bgcolor=#FFFFFF>False</td>\\n<td bgcolor=#FFFFFF>True</td>\\n<td bgcolor=#fbb4ae>0.001</td>\\n</tr>\\n<tr>\\n<td bgcolor=#FFFFFF>False</td>\\n<td bgcolor=#FFFFFF>False</td>\\n<td bgcolor=#FFFFFF>False</td>\\n<td bgcolor=#f2f2f2>0.999</td>\\n</tr>\\n</table>\", \"<table border=\\\"1\\\" cellpadding=\\\"4\\\" cellspacing=\\\"0\\\" bordercolor=\\\"#000000\\\">\\n<tr bgcolor=\\\"#AAAAAA\\\">\\n<th align=\\\"center\\\">Alarm</th>\\n<th align=\\\"center\\\">JohnCalls</th>\\n<th align=\\\"center\\\">Prob.</th>\\n</tr>\\n<tr>\\n<td bgcolor=#FFFFFF>True</td>\\n<td bgcolor=#FFFFFF>True</td>\\n<td bgcolor=#fadfed>0.900</td>\\n</tr>\\n<tr>\\n<td bgcolor=#FFFFFF>True</td>\\n<td bgcolor=#FFFFFF>False</td>\\n<td bgcolor=#c2c7d7>0.100</td>\\n</tr>\\n<tr>\\n<td bgcolor=#FFFFFF>False</td>\\n<td bgcolor=#FFFFFF>True</td>\\n<td bgcolor=#dfbdc1>0.050</td>\\n</tr>\\n<tr>\\n<td bgcolor=#FFFFFF>False</td>\\n<td bgcolor=#FFFFFF>False</td>\\n<td bgcolor=#f6e8ef>0.950</td>\\n</tr>\\n</table>\", \"<table border=\\\"1\\\" cellpadding=\\\"4\\\" cellspacing=\\\"0\\\" bordercolor=\\\"#000000\\\">\\n<tr bgcolor=\\\"#AAAAAA\\\">\\n<th align=\\\"center\\\">Earthquake</th>\\n<th align=\\\"center\\\">Prob.</th>\\n</tr>\\n<tr>\\n<td bgcolor=#FFFFFF>True</td>\\n<td bgcolor=#efb7b6>0.020</td>\\n</tr>\\n<tr>\\n<td bgcolor=#FFFFFF>False</td>\\n<td bgcolor=#f3eef1>0.980</td>\\n</tr>\\n</table>\"], \"type\": \"htmltooltip\", \"id\": \"el5964140297294904080pts\", \"hoffset\": 10}], \"data\": {\"data08\": [[0.46038943822613204, 0.24408380599023266], [0.5416346332072142, 0.28715741881203843]], \"data09\": [[0.8468032873337399, 1.0], [0.716284817816314, 0.5423338933749859], [0.5416346332072142, 0.28715741881203843], [0.13244244771489333, 0.5593875488923095], [0.0, 0.0]], \"data06\": [[0.19382127553874146, 0.5185530293802688], [0.13244244771489333, 0.5593875488923095]], \"data07\": [[0.0, 0.0], [0.5416346332072142, 0.28715741881203843]], \"data04\": [[0.6900872901249491, 0.5040574221905438], [0.716284817816314, 0.5423338933749859]], \"data05\": [[0.5416346332072142, 0.28715741881203843], [0.13244244771489333, 0.5593875488923095]], \"data02\": [[0.587409931326193, 0.3940838059902326], [0.5416346332072142, 0.28715741881203843]], \"data03\": [[0.5416346332072142, 0.28715741881203843], [0.716284817816314, 0.5423338933749859]], \"data01\": [[0.8468032873337399, 1.0], [0.5416346332072142, 0.28715741881203843]]}, \"id\": \"el5964140297295517456\"});\n",
       "            })\n",
       "         });\n",
       "}\n",
       "</script>"
      ],
      "text/plain": [
       "<IPython.core.display.HTML object>"
      ]
     },
     "execution_count": 5,
     "metadata": {},
     "output_type": "execute_result"
    }
   ],
   "source": [
    "from os import listdir\n",
    "import os.path\n",
    "NETWORKS_PATH = '/home/wrwt/Programming/pygraphmodels/networks/'\n",
    "network_filenames = listdir(NETWORKS_PATH)\n",
    "true_dgm = gm.DGM.read(os.path.join(NETWORKS_PATH, 'earthquake.bif'))\n",
    "true_dgm.draw()"
   ]
  },
  {
   "cell_type": "code",
   "execution_count": 154,
   "metadata": {
    "collapsed": true
   },
   "outputs": [],
   "source": [
    "data = true_dgm.rvs(100000)"
   ]
  },
  {
   "cell_type": "code",
   "execution_count": 155,
   "metadata": {
    "collapsed": false
   },
   "outputs": [],
   "source": [
    "from graphmodels.information import discrete_entropy, discrete_mutual_information, factor_mutual_information"
   ]
  },
  {
   "cell_type": "code",
   "execution_count": 156,
   "metadata": {
    "collapsed": false
   },
   "outputs": [
    {
     "data": {
      "text/plain": [
       "0.038894484259644563"
      ]
     },
     "execution_count": 156,
     "metadata": {},
     "output_type": "execute_result"
    }
   ],
   "source": [
    "discrete_mutual_information(data[['Alarm']], data[['Burglary']])"
   ]
  },
  {
   "cell_type": "code",
   "execution_count": 157,
   "metadata": {
    "collapsed": false
   },
   "outputs": [
    {
     "data": {
      "text/plain": [
       "0.05966472681371339"
      ]
     },
     "execution_count": 157,
     "metadata": {},
     "output_type": "execute_result"
    }
   ],
   "source": [
    "discrete_mutual_information(data[['Alarm']], data[['Burglary', 'Earthquake']])"
   ]
  },
  {
   "cell_type": "code",
   "execution_count": 158,
   "metadata": {
    "collapsed": false
   },
   "outputs": [
    {
     "data": {
      "text/plain": [
       "0.0136464374789157"
      ]
     },
     "execution_count": 158,
     "metadata": {},
     "output_type": "execute_result"
    }
   ],
   "source": [
    "discrete_mutual_information(data[['Alarm']], data[['Earthquake']])"
   ]
  },
  {
   "cell_type": "code",
   "execution_count": 159,
   "metadata": {
    "collapsed": false
   },
   "outputs": [
    {
     "data": {
      "text/plain": [
       "8.4000514533765538e-06"
      ]
     },
     "execution_count": 159,
     "metadata": {},
     "output_type": "execute_result"
    }
   ],
   "source": [
    "discrete_mutual_information(data[['Burglary']], data[['Earthquake']])"
   ]
  },
  {
   "cell_type": "code",
   "execution_count": 160,
   "metadata": {
    "collapsed": true
   },
   "outputs": [],
   "source": [
    "def bic_score(dgm, data):\n",
    "    result = 0.\n",
    "    for x in dgm.nodes():\n",
    "        pa = dgm.predecessors(x)\n",
    "        \n",
    "        def n_values(x):\n",
    "            return len(data[x].value_counts())\n",
    "    \n",
    "        k = n_values(x)*np.prod([n_values(pa_i) for pa_i in pa]) - 1\n",
    "        n = data.shape[0]\n",
    "        l = n*(discrete_mutual_information(data[[x]], data[pa]) - \\\n",
    "               discrete_entropy(data[[x]]))\n",
    "        result += l - 0.5 * np.log(n) * k\n",
    "    return result"
   ]
  },
  {
   "cell_type": "code",
   "execution_count": 170,
   "metadata": {
    "collapsed": false
   },
   "outputs": [],
   "source": [
    "from itertools import permutations\n",
    "dgm = gm.DGM(true_dgm)\n",
    "\n",
    "scores = []\n",
    "ops = []\n",
    "for src, dst in permutations(dgm.nodes(), 2):\n",
    "    if dgm.has_edge(src, dst):\n",
    "        dgm.remove_edge(src, dst)\n",
    "        if nx.is_directed_acyclic_graph(dgm):\n",
    "            scores.append(bic_score(dgm, data))\n",
    "            ops.append(('remove', src, dst))\n",
    "        dgm.add_edge(dst, src)\n",
    "        if nx.is_directed_acyclic_graph(dgm):\n",
    "            scores.append(bic_score(dgm, data))\n",
    "            ops.append(('reverse', src, dst))\n",
    "        dgm.remove_edge(dst, src)\n",
    "        dgm.add_edge(src, dst)\n",
    "    else:\n",
    "        dgm.add_edge(src, dst)\n",
    "        if nx.is_directed_acyclic_graph(dgm):\n",
    "            scores.append(bic_score(dgm, data))\n",
    "            ops.append(('add', src, dst))\n",
    "        dgm.remove_edge(src, dst)"
   ]
  },
  {
   "cell_type": "code",
   "execution_count": 171,
   "metadata": {
    "collapsed": false
   },
   "outputs": [
    {
     "data": {
      "text/plain": [
       "-44026.543691382198"
      ]
     },
     "execution_count": 171,
     "metadata": {},
     "output_type": "execute_result"
    }
   ],
   "source": [
    "bic_score(dgm, data)"
   ]
  },
  {
   "cell_type": "code",
   "execution_count": 175,
   "metadata": {
    "collapsed": false
   },
   "outputs": [
    {
     "data": {
      "text/plain": [
       "-44037.216611701828"
      ]
     },
     "execution_count": 175,
     "metadata": {},
     "output_type": "execute_result"
    }
   ],
   "source": [
    "max(scores)"
   ]
  },
  {
   "cell_type": "markdown",
   "metadata": {},
   "source": [
    "Как видно, правильная сеть является локальным максимумом BIC score."
   ]
  },
  {
   "cell_type": "code",
   "execution_count": 174,
   "metadata": {
    "collapsed": false
   },
   "outputs": [
    {
     "data": {
      "text/plain": [
       "('add', 'Earthquake', 'Burglary')"
      ]
     },
     "execution_count": 174,
     "metadata": {},
     "output_type": "execute_result"
    }
   ],
   "source": [
    "ops[np.argmax(scores)]"
   ]
  },
  {
   "cell_type": "code",
   "execution_count": null,
   "metadata": {
    "collapsed": true
   },
   "outputs": [],
   "source": []
  }
 ],
 "metadata": {
  "kernelspec": {
   "display_name": "Python 2",
   "language": "python",
   "name": "python2"
  },
  "language_info": {
   "codemirror_mode": {
    "name": "ipython",
    "version": 2
   },
   "file_extension": ".py",
   "mimetype": "text/x-python",
   "name": "python",
   "nbconvert_exporter": "python",
   "pygments_lexer": "ipython2",
   "version": "2.7.9"
  }
 },
 "nbformat": 4,
 "nbformat_minor": 0
}
