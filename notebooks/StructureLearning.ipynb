{
 "cells": [
  {
   "cell_type": "code",
   "execution_count": 1,
   "metadata": {
    "collapsed": true
   },
   "outputs": [],
   "source": [
    "%%capture\n",
    "import numpy as np\n",
    "import scipy as sp\n",
    "import matplotlib as mpl\n",
    "import matplotlib.pyplot as plt\n",
    "import networkx as nx\n",
    "%matplotlib inline"
   ]
  },
  {
   "cell_type": "code",
   "execution_count": 2,
   "metadata": {
    "collapsed": false
   },
   "outputs": [],
   "source": [
    "%%capture\n",
    "import sys\n",
    "sys.path.append('/home/wrwt/Programming/pygraphmodels')\n",
    "import graphmodels as gm"
   ]
  },
  {
   "cell_type": "code",
   "execution_count": 3,
   "metadata": {
    "collapsed": true
   },
   "outputs": [],
   "source": [
    "import warnings\n",
    "warnings.filterwarnings('ignore', module='matplotlib')\n",
    "warnings.filterwarnings('ignore', module='IPython')"
   ]
  },
  {
   "cell_type": "code",
   "execution_count": 4,
   "metadata": {
    "collapsed": false
   },
   "outputs": [],
   "source": [
    "def bic_score(x, pa):\n",
    "    l = gm.information.discrete_mutual_information(data[[x]], data[pa]) - gm.information.discrete_entropy(data[[x]])\n",
    "    n = data.shape[0]\n",
    "    k = np.prod(true_dgm.factor(x).table.shape) - 1\n",
    "    result = -n*l + 0.5 * np.log(n) * k\n",
    "    return result"
   ]
  },
  {
   "cell_type": "code",
   "execution_count": 5,
   "metadata": {
    "collapsed": false
   },
   "outputs": [
    {
     "name": "stderr",
     "output_type": "stream",
     "text": [
      "/usr/local/lib/python2.7/dist-packages/IPython/core/formatters.py:92: DeprecationWarning: DisplayFormatter._ipython_display_formatter_default is deprecated: use @default decorator instead.\n",
      "  def _ipython_display_formatter_default(self):\n",
      "/usr/local/lib/python2.7/dist-packages/IPython/core/formatters.py:669: DeprecationWarning: PlainTextFormatter._singleton_printers_default is deprecated: use @default decorator instead.\n",
      "  def _singleton_printers_default(self):\n"
     ]
    },
    {
     "data": {
      "text/html": [
       "\n",
       "\n",
       "<style>\n",
       "\n",
       "table\n",
       "{\n",
       "  border-collapse: collapse;\n",
       "}\n",
       "th\n",
       "{\n",
       "  color: #ffffff;\n",
       "  background-color: #000000;\n",
       "}\n",
       "td\n",
       "{\n",
       "  background-color: #cccccc;\n",
       "}\n",
       "table, th, td\n",
       "{\n",
       "  font-family:Arial, Helvetica, sans-serif;\n",
       "  border: 1px solid black;\n",
       "  text-align: center;\n",
       "  padding: 3px;\n",
       "  font-size:11pt;\n",
       "}\n",
       "g.mpld3-xaxis, g.mpld3-yaxis {\n",
       "    display: none;\n",
       "}\n",
       "    \n",
       "</style>\n",
       "\n",
       "<div id=\"fig_el130471404667113198884644363215\"></div>\n",
       "<script>\n",
       "function mpld3_load_lib(url, callback){\n",
       "  var s = document.createElement('script');\n",
       "  s.src = url;\n",
       "  s.async = true;\n",
       "  s.onreadystatechange = s.onload = callback;\n",
       "  s.onerror = function(){console.warn(\"failed to load library \" + url);};\n",
       "  document.getElementsByTagName(\"head\")[0].appendChild(s);\n",
       "}\n",
       "\n",
       "if(typeof(mpld3) !== \"undefined\" && mpld3._mpld3IsLoaded){\n",
       "   // already loaded: just create the figure\n",
       "   !function(mpld3){\n",
       "       \n",
       "    mpld3.register_plugin(\"htmltooltip\", HtmlTooltipPlugin);\n",
       "    HtmlTooltipPlugin.prototype = Object.create(mpld3.Plugin.prototype);\n",
       "    HtmlTooltipPlugin.prototype.constructor = HtmlTooltipPlugin;\n",
       "    HtmlTooltipPlugin.prototype.requiredProps = [\"id\"];\n",
       "    HtmlTooltipPlugin.prototype.defaultProps = {labels:null, hoffset:0, voffset:10};\n",
       "    function HtmlTooltipPlugin(fig, props){\n",
       "        mpld3.Plugin.call(this, fig, props);\n",
       "    };\n",
       "\n",
       "    HtmlTooltipPlugin.prototype.draw = function(){\n",
       "       var obj = mpld3.get_element(this.props.id);\n",
       "       var labels = this.props.labels;\n",
       "       var tooltip = d3.select(\"body\").append(\"div\")\n",
       "                    .attr(\"class\", \"mpld3-tooltip\")\n",
       "                    .style(\"position\", \"absolute\")\n",
       "                    .style(\"z-index\", \"10\")\n",
       "                    .style(\"visibility\", \"hidden\");\n",
       "\n",
       "       obj.elements()\n",
       "           .on(\"mouseover\", function(d, i){\n",
       "                              tooltip.html(labels[i])\n",
       "                                     .style(\"visibility\", \"visible\");})\n",
       "           .on(\"mousemove\", function(d, i){\n",
       "                    tooltip\n",
       "                      .style(\"top\", d3.event.pageY + this.props.voffset + \"px\")\n",
       "                      .style(\"left\",d3.event.pageX + this.props.hoffset + \"px\");\n",
       "                 }.bind(this))\n",
       "           .on(\"mouseout\",  function(d, i){\n",
       "                           tooltip.style(\"visibility\", \"hidden\");});\n",
       "    };\n",
       "    \n",
       "       mpld3.draw_figure(\"fig_el130471404667113198884644363215\", {\"axes\": [{\"xlim\": [-0.080000000000000002, 0.97240382059960939], \"yscale\": \"linear\", \"axesbg\": \"#FFFFFF\", \"texts\": [{\"v_baseline\": \"central\", \"h_anchor\": \"middle\", \"color\": \"#000000\", \"text\": \"Burglary\", \"coordinates\": \"data\", \"zorder\": 3, \"alpha\": 1, \"fontsize\": 10.0, \"position\": [0.81480371523083317, 0.0], \"rotation\": -0.0, \"id\": \"el13047140466710660432\"}, {\"v_baseline\": \"central\", \"h_anchor\": \"middle\", \"color\": \"#000000\", \"text\": \"MaryCalls\", \"coordinates\": \"data\", \"zorder\": 3, \"alpha\": 1, \"fontsize\": 10.0, \"position\": [0.89240382059960943, 0.80550267606080794], \"rotation\": -0.0, \"id\": \"el13047140466710661392\"}, {\"v_baseline\": \"central\", \"h_anchor\": \"middle\", \"color\": \"#000000\", \"text\": \"Alarm\", \"coordinates\": \"data\", \"zorder\": 3, \"alpha\": 1, \"fontsize\": 10.0, \"position\": [0.43587853779725549, 0.52047806534527419], \"rotation\": -0.0, \"id\": \"el13047140466710662480\"}, {\"v_baseline\": \"central\", \"h_anchor\": \"middle\", \"color\": \"#000000\", \"text\": \"JohnCalls\", \"coordinates\": \"data\", \"zorder\": 3, \"alpha\": 1, \"fontsize\": 10.0, \"position\": [0.051811606009019413, 0.29931889765459213], \"rotation\": -0.0, \"id\": \"el13047140466710188496\"}, {\"v_baseline\": \"central\", \"h_anchor\": \"middle\", \"color\": \"#000000\", \"text\": \"Earthquake\", \"coordinates\": \"data\", \"zorder\": 3, \"alpha\": 1, \"fontsize\": 10.0, \"position\": [0.0, 1.0], \"rotation\": -0.0, \"id\": \"el13047140466710189584\"}], \"zoomable\": true, \"images\": [], \"xdomain\": [-0.080000000000000002, 0.97240382059960939], \"ylim\": [-0.080000000000000002, 1.0800000000000001], \"paths\": [], \"sharey\": [], \"sharex\": [], \"axesbgalpha\": null, \"axes\": [{\"scale\": \"linear\", \"tickformat\": null, \"grid\": {\"gridOn\": false}, \"fontsize\": 10.0, \"position\": \"bottom\", \"nticks\": 7, \"tickvalues\": null}, {\"scale\": \"linear\", \"tickformat\": null, \"grid\": {\"gridOn\": false}, \"fontsize\": 10.0, \"position\": \"left\", \"nticks\": 8, \"tickvalues\": null}], \"lines\": [{\"color\": \"#808080\", \"yindex\": 1, \"coordinates\": \"data\", \"dasharray\": \"10,0\", \"zorder\": 2, \"alpha\": 1, \"xindex\": 0, \"linewidth\": 1.0, \"data\": \"data01\", \"id\": \"el13047140467376456528\"}, {\"color\": \"#000000\", \"yindex\": 1, \"coordinates\": \"data\", \"dasharray\": \"10,0\", \"zorder\": 2, \"alpha\": 0.5, \"xindex\": 0, \"linewidth\": 5.0, \"data\": \"data02\", \"id\": \"el13047140466711224016\"}, {\"color\": \"#808080\", \"yindex\": 1, \"coordinates\": \"data\", \"dasharray\": \"10,0\", \"zorder\": 2, \"alpha\": 1, \"xindex\": 0, \"linewidth\": 1.0, \"data\": \"data03\", \"id\": \"el13047140466711156432\"}, {\"color\": \"#000000\", \"yindex\": 1, \"coordinates\": \"data\", \"dasharray\": \"10,0\", \"zorder\": 2, \"alpha\": 0.5, \"xindex\": 0, \"linewidth\": 5.0, \"data\": \"data04\", \"id\": \"el13047140466711103248\"}, {\"color\": \"#808080\", \"yindex\": 1, \"coordinates\": \"data\", \"dasharray\": \"10,0\", \"zorder\": 2, \"alpha\": 1, \"xindex\": 0, \"linewidth\": 1.0, \"data\": \"data05\", \"id\": \"el13047140466711058640\"}, {\"color\": \"#000000\", \"yindex\": 1, \"coordinates\": \"data\", \"dasharray\": \"10,0\", \"zorder\": 2, \"alpha\": 0.5, \"xindex\": 0, \"linewidth\": 5.0, \"data\": \"data06\", \"id\": \"el13047140466710988048\"}, {\"color\": \"#808080\", \"yindex\": 1, \"coordinates\": \"data\", \"dasharray\": \"10,0\", \"zorder\": 2, \"alpha\": 1, \"xindex\": 0, \"linewidth\": 1.0, \"data\": \"data07\", \"id\": \"el13047140466710474000\"}, {\"color\": \"#000000\", \"yindex\": 1, \"coordinates\": \"data\", \"dasharray\": \"10,0\", \"zorder\": 2, \"alpha\": 0.5, \"xindex\": 0, \"linewidth\": 5.0, \"data\": \"data08\", \"id\": \"el13047140466710610832\"}], \"markers\": [{\"edgecolor\": \"#000000\", \"facecolor\": \"#D3D3D3\", \"edgewidth\": 1, \"yindex\": 1, \"coordinates\": \"data\", \"zorder\": 2, \"markerpath\": [[[0.0, 10.0], [2.652031, 10.0], [5.195798707848534, 8.946336915882418], [7.0710678118654755, 7.0710678118654755], [8.946336915882418, 5.195798707848534], [10.0, 2.652031], [10.0, 0.0], [10.0, -2.652031], [8.946336915882418, -5.195798707848534], [7.0710678118654755, -7.0710678118654755], [5.195798707848534, -8.946336915882418], [2.652031, -10.0], [0.0, -10.0], [-2.652031, -10.0], [-5.195798707848534, -8.946336915882418], [-7.0710678118654755, -7.0710678118654755], [-8.946336915882418, -5.195798707848534], [-10.0, -2.652031], [-10.0, 0.0], [-10.0, 2.652031], [-8.946336915882418, 5.195798707848534], [-7.0710678118654755, 7.0710678118654755], [-5.195798707848534, 8.946336915882418], [-2.652031, 10.0], [0.0, 10.0]], [\"M\", \"C\", \"C\", \"C\", \"C\", \"C\", \"C\", \"C\", \"C\", \"Z\"]], \"alpha\": 1.0, \"xindex\": 0, \"data\": \"data09\", \"id\": \"el13047140467376456912pts\"}, {\"edgecolor\": \"#000000\", \"facecolor\": \"#D3D3D3\", \"edgewidth\": 1, \"yindex\": 1, \"coordinates\": \"data\", \"zorder\": 2, \"markerpath\": [[[0.0, 20.0], [5.304062, 20.0], [10.391597415697069, 17.892673831764835], [14.142135623730951, 14.142135623730951], [17.892673831764835, 10.391597415697069], [20.0, 5.304062], [20.0, 0.0], [20.0, -5.304062], [17.892673831764835, -10.391597415697069], [14.142135623730951, -14.142135623730951], [10.391597415697069, -17.892673831764835], [5.304062, -20.0], [0.0, -20.0], [-5.304062, -20.0], [-10.391597415697069, -17.892673831764835], [-14.142135623730951, -14.142135623730951], [-17.892673831764835, -10.391597415697069], [-20.0, -5.304062], [-20.0, 0.0], [-20.0, 5.304062], [-17.892673831764835, 10.391597415697069], [-14.142135623730951, 14.142135623730951], [-10.391597415697069, 17.892673831764835], [-5.304062, 20.0], [0.0, 20.0]], [\"M\", \"C\", \"C\", \"C\", \"C\", \"C\", \"C\", \"C\", \"C\", \"Z\"]], \"alpha\": 0.0, \"xindex\": 0, \"data\": \"data09\", \"id\": \"el13047140466710190672pts\"}], \"id\": \"el13047140466711322512\", \"ydomain\": [-0.080000000000000002, 1.0800000000000001], \"collections\": [], \"xscale\": \"linear\", \"bbox\": [0.125, 0.125, 0.77500000000000002, 0.77500000000000002]}], \"height\": 640.0, \"width\": 960.0, \"plugins\": [{\"type\": \"reset\"}, {\"enabled\": false, \"button\": true, \"type\": \"zoom\"}, {\"enabled\": false, \"button\": true, \"type\": \"boxzoom\"}, {\"voffset\": 10, \"labels\": [\"<table border=\\\"1\\\" cellpadding=\\\"4\\\" cellspacing=\\\"0\\\" bordercolor=\\\"#000000\\\">\\n<tr bgcolor=\\\"#AAAAAA\\\">\\n<th align=\\\"center\\\">Burglary</th>\\n<th align=\\\"center\\\">Prob.</th>\\n</tr>\\n<tr>\\n<td bgcolor=#FFFFFF>True</td>\\n<td bgcolor=#f6b5b1>0.010</td>\\n</tr>\\n<tr>\\n<td bgcolor=#FFFFFF>False</td>\\n<td bgcolor=#f2f0f1>0.990</td>\\n</tr>\\n</table>\", \"<table border=\\\"1\\\" cellpadding=\\\"4\\\" cellspacing=\\\"0\\\" bordercolor=\\\"#000000\\\">\\n<tr bgcolor=\\\"#AAAAAA\\\">\\n<th align=\\\"center\\\">Alarm</th>\\n<th align=\\\"center\\\">MaryCalls</th>\\n<th align=\\\"center\\\">Prob.</th>\\n</tr>\\n<tr>\\n<td bgcolor=#FFFFFF>True</td>\\n<td bgcolor=#FFFFFF>True</td>\\n<td bgcolor=#eee6c2>0.700</td>\\n</tr>\\n<tr>\\n<td bgcolor=#FFFFFF>True</td>\\n<td bgcolor=#FFFFFF>False</td>\\n<td bgcolor=#d2ded0>0.300</td>\\n</tr>\\n<tr>\\n<td bgcolor=#FFFFFF>False</td>\\n<td bgcolor=#FFFFFF>True</td>\\n<td bgcolor=#f6b5b1>0.010</td>\\n</tr>\\n<tr>\\n<td bgcolor=#FFFFFF>False</td>\\n<td bgcolor=#FFFFFF>False</td>\\n<td bgcolor=#f2f0f1>0.990</td>\\n</tr>\\n</table>\", \"<table border=\\\"1\\\" cellpadding=\\\"4\\\" cellspacing=\\\"0\\\" bordercolor=\\\"#000000\\\">\\n<tr bgcolor=\\\"#AAAAAA\\\">\\n<th align=\\\"center\\\">Burglary</th>\\n<th align=\\\"center\\\">Earthquake</th>\\n<th align=\\\"center\\\">Alarm</th>\\n<th align=\\\"center\\\">Prob.</th>\\n</tr>\\n<tr>\\n<td bgcolor=#FFFFFF>True</td>\\n<td bgcolor=#FFFFFF>True</td>\\n<td bgcolor=#FFFFFF>True</td>\\n<td bgcolor=#f6e8ef>0.950</td>\\n</tr>\\n<tr>\\n<td bgcolor=#FFFFFF>True</td>\\n<td bgcolor=#FFFFFF>True</td>\\n<td bgcolor=#FFFFFF>False</td>\\n<td bgcolor=#dfbdc1>0.050</td>\\n</tr>\\n<tr>\\n<td bgcolor=#FFFFFF>True</td>\\n<td bgcolor=#FFFFFF>False</td>\\n<td bgcolor=#FFFFFF>True</td>\\n<td bgcolor=#f7e6ef>0.940</td>\\n</tr>\\n<tr>\\n<td bgcolor=#FFFFFF>True</td>\\n<td bgcolor=#FFFFFF>False</td>\\n<td bgcolor=#FFFFFF>False</td>\\n<td bgcolor=#d9bfc6>0.060</td>\\n</tr>\\n<tr>\\n<td bgcolor=#FFFFFF>False</td>\\n<td bgcolor=#FFFFFF>True</td>\\n<td bgcolor=#FFFFFF>True</td>\\n<td bgcolor=#d1e0ce>0.290</td>\\n</tr>\\n<tr>\\n<td bgcolor=#FFFFFF>False</td>\\n<td bgcolor=#FFFFFF>True</td>\\n<td bgcolor=#FFFFFF>False</td>\\n<td bgcolor=#ede4c1>0.710</td>\\n</tr>\\n<tr>\\n<td bgcolor=#FFFFFF>False</td>\\n<td bgcolor=#FFFFFF>False</td>\\n<td bgcolor=#FFFFFF>True</td>\\n<td bgcolor=#fbb4ae>0.001</td>\\n</tr>\\n<tr>\\n<td bgcolor=#FFFFFF>False</td>\\n<td bgcolor=#FFFFFF>False</td>\\n<td bgcolor=#FFFFFF>False</td>\\n<td bgcolor=#f2f2f2>0.999</td>\\n</tr>\\n</table>\", \"<table border=\\\"1\\\" cellpadding=\\\"4\\\" cellspacing=\\\"0\\\" bordercolor=\\\"#000000\\\">\\n<tr bgcolor=\\\"#AAAAAA\\\">\\n<th align=\\\"center\\\">Alarm</th>\\n<th align=\\\"center\\\">JohnCalls</th>\\n<th align=\\\"center\\\">Prob.</th>\\n</tr>\\n<tr>\\n<td bgcolor=#FFFFFF>True</td>\\n<td bgcolor=#FFFFFF>True</td>\\n<td bgcolor=#fadfed>0.900</td>\\n</tr>\\n<tr>\\n<td bgcolor=#FFFFFF>True</td>\\n<td bgcolor=#FFFFFF>False</td>\\n<td bgcolor=#c2c7d7>0.100</td>\\n</tr>\\n<tr>\\n<td bgcolor=#FFFFFF>False</td>\\n<td bgcolor=#FFFFFF>True</td>\\n<td bgcolor=#dfbdc1>0.050</td>\\n</tr>\\n<tr>\\n<td bgcolor=#FFFFFF>False</td>\\n<td bgcolor=#FFFFFF>False</td>\\n<td bgcolor=#f6e8ef>0.950</td>\\n</tr>\\n</table>\", \"<table border=\\\"1\\\" cellpadding=\\\"4\\\" cellspacing=\\\"0\\\" bordercolor=\\\"#000000\\\">\\n<tr bgcolor=\\\"#AAAAAA\\\">\\n<th align=\\\"center\\\">Earthquake</th>\\n<th align=\\\"center\\\">Prob.</th>\\n</tr>\\n<tr>\\n<td bgcolor=#FFFFFF>True</td>\\n<td bgcolor=#efb7b6>0.020</td>\\n</tr>\\n<tr>\\n<td bgcolor=#FFFFFF>False</td>\\n<td bgcolor=#f3eef1>0.980</td>\\n</tr>\\n</table>\"], \"type\": \"htmltooltip\", \"id\": \"el13047140466710190672pts\", \"hoffset\": 10}], \"data\": {\"data08\": [[0.37049675712766716, 0.5924063555434831], [0.4358785377972555, 0.5204780653452742]], \"data09\": [[0.8148037152308332, 0.0], [0.8924038205996094, 0.8055026760608079], [0.4358785377972555, 0.5204780653452742], [0.05181160600901941, 0.29931889765459213], [0.0, 1.0]], \"data06\": [[0.10942164577725483, 0.33249277280819445], [0.05181160600901941, 0.29931889765459213]], \"data07\": [[0.0, 1.0], [0.4358785377972555, 0.5204780653452742]], \"data04\": [[0.8239250281792564, 0.7627489844534778], [0.8924038205996094, 0.8055026760608079]], \"data05\": [[0.4358785377972555, 0.5204780653452742], [0.05181160600901941, 0.29931889765459213]], \"data02\": [[0.49271731441229216, 0.44240635554348307], [0.4358785377972555, 0.5204780653452742]], \"data03\": [[0.4358785377972555, 0.5204780653452742], [0.8924038205996094, 0.8055026760608079]], \"data01\": [[0.8148037152308332, 0.0], [0.4358785377972555, 0.5204780653452742]]}, \"id\": \"el13047140466711319888\"});\n",
       "   }(mpld3);\n",
       "}else if(typeof define === \"function\" && define.amd){\n",
       "   // require.js is available: use it to load d3/mpld3\n",
       "   require.config({paths: {d3: \"https://mpld3.github.io/js/d3.v3.min\"}});\n",
       "   require([\"d3\"], function(d3){\n",
       "      window.d3 = d3;\n",
       "      mpld3_load_lib(\"https://mpld3.github.io/js/mpld3.v0.2.js\", function(){\n",
       "         \n",
       "    mpld3.register_plugin(\"htmltooltip\", HtmlTooltipPlugin);\n",
       "    HtmlTooltipPlugin.prototype = Object.create(mpld3.Plugin.prototype);\n",
       "    HtmlTooltipPlugin.prototype.constructor = HtmlTooltipPlugin;\n",
       "    HtmlTooltipPlugin.prototype.requiredProps = [\"id\"];\n",
       "    HtmlTooltipPlugin.prototype.defaultProps = {labels:null, hoffset:0, voffset:10};\n",
       "    function HtmlTooltipPlugin(fig, props){\n",
       "        mpld3.Plugin.call(this, fig, props);\n",
       "    };\n",
       "\n",
       "    HtmlTooltipPlugin.prototype.draw = function(){\n",
       "       var obj = mpld3.get_element(this.props.id);\n",
       "       var labels = this.props.labels;\n",
       "       var tooltip = d3.select(\"body\").append(\"div\")\n",
       "                    .attr(\"class\", \"mpld3-tooltip\")\n",
       "                    .style(\"position\", \"absolute\")\n",
       "                    .style(\"z-index\", \"10\")\n",
       "                    .style(\"visibility\", \"hidden\");\n",
       "\n",
       "       obj.elements()\n",
       "           .on(\"mouseover\", function(d, i){\n",
       "                              tooltip.html(labels[i])\n",
       "                                     .style(\"visibility\", \"visible\");})\n",
       "           .on(\"mousemove\", function(d, i){\n",
       "                    tooltip\n",
       "                      .style(\"top\", d3.event.pageY + this.props.voffset + \"px\")\n",
       "                      .style(\"left\",d3.event.pageX + this.props.hoffset + \"px\");\n",
       "                 }.bind(this))\n",
       "           .on(\"mouseout\",  function(d, i){\n",
       "                           tooltip.style(\"visibility\", \"hidden\");});\n",
       "    };\n",
       "    \n",
       "         mpld3.draw_figure(\"fig_el130471404667113198884644363215\", {\"axes\": [{\"xlim\": [-0.080000000000000002, 0.97240382059960939], \"yscale\": \"linear\", \"axesbg\": \"#FFFFFF\", \"texts\": [{\"v_baseline\": \"central\", \"h_anchor\": \"middle\", \"color\": \"#000000\", \"text\": \"Burglary\", \"coordinates\": \"data\", \"zorder\": 3, \"alpha\": 1, \"fontsize\": 10.0, \"position\": [0.81480371523083317, 0.0], \"rotation\": -0.0, \"id\": \"el13047140466710660432\"}, {\"v_baseline\": \"central\", \"h_anchor\": \"middle\", \"color\": \"#000000\", \"text\": \"MaryCalls\", \"coordinates\": \"data\", \"zorder\": 3, \"alpha\": 1, \"fontsize\": 10.0, \"position\": [0.89240382059960943, 0.80550267606080794], \"rotation\": -0.0, \"id\": \"el13047140466710661392\"}, {\"v_baseline\": \"central\", \"h_anchor\": \"middle\", \"color\": \"#000000\", \"text\": \"Alarm\", \"coordinates\": \"data\", \"zorder\": 3, \"alpha\": 1, \"fontsize\": 10.0, \"position\": [0.43587853779725549, 0.52047806534527419], \"rotation\": -0.0, \"id\": \"el13047140466710662480\"}, {\"v_baseline\": \"central\", \"h_anchor\": \"middle\", \"color\": \"#000000\", \"text\": \"JohnCalls\", \"coordinates\": \"data\", \"zorder\": 3, \"alpha\": 1, \"fontsize\": 10.0, \"position\": [0.051811606009019413, 0.29931889765459213], \"rotation\": -0.0, \"id\": \"el13047140466710188496\"}, {\"v_baseline\": \"central\", \"h_anchor\": \"middle\", \"color\": \"#000000\", \"text\": \"Earthquake\", \"coordinates\": \"data\", \"zorder\": 3, \"alpha\": 1, \"fontsize\": 10.0, \"position\": [0.0, 1.0], \"rotation\": -0.0, \"id\": \"el13047140466710189584\"}], \"zoomable\": true, \"images\": [], \"xdomain\": [-0.080000000000000002, 0.97240382059960939], \"ylim\": [-0.080000000000000002, 1.0800000000000001], \"paths\": [], \"sharey\": [], \"sharex\": [], \"axesbgalpha\": null, \"axes\": [{\"scale\": \"linear\", \"tickformat\": null, \"grid\": {\"gridOn\": false}, \"fontsize\": 10.0, \"position\": \"bottom\", \"nticks\": 7, \"tickvalues\": null}, {\"scale\": \"linear\", \"tickformat\": null, \"grid\": {\"gridOn\": false}, \"fontsize\": 10.0, \"position\": \"left\", \"nticks\": 8, \"tickvalues\": null}], \"lines\": [{\"color\": \"#808080\", \"yindex\": 1, \"coordinates\": \"data\", \"dasharray\": \"10,0\", \"zorder\": 2, \"alpha\": 1, \"xindex\": 0, \"linewidth\": 1.0, \"data\": \"data01\", \"id\": \"el13047140467376456528\"}, {\"color\": \"#000000\", \"yindex\": 1, \"coordinates\": \"data\", \"dasharray\": \"10,0\", \"zorder\": 2, \"alpha\": 0.5, \"xindex\": 0, \"linewidth\": 5.0, \"data\": \"data02\", \"id\": \"el13047140466711224016\"}, {\"color\": \"#808080\", \"yindex\": 1, \"coordinates\": \"data\", \"dasharray\": \"10,0\", \"zorder\": 2, \"alpha\": 1, \"xindex\": 0, \"linewidth\": 1.0, \"data\": \"data03\", \"id\": \"el13047140466711156432\"}, {\"color\": \"#000000\", \"yindex\": 1, \"coordinates\": \"data\", \"dasharray\": \"10,0\", \"zorder\": 2, \"alpha\": 0.5, \"xindex\": 0, \"linewidth\": 5.0, \"data\": \"data04\", \"id\": \"el13047140466711103248\"}, {\"color\": \"#808080\", \"yindex\": 1, \"coordinates\": \"data\", \"dasharray\": \"10,0\", \"zorder\": 2, \"alpha\": 1, \"xindex\": 0, \"linewidth\": 1.0, \"data\": \"data05\", \"id\": \"el13047140466711058640\"}, {\"color\": \"#000000\", \"yindex\": 1, \"coordinates\": \"data\", \"dasharray\": \"10,0\", \"zorder\": 2, \"alpha\": 0.5, \"xindex\": 0, \"linewidth\": 5.0, \"data\": \"data06\", \"id\": \"el13047140466710988048\"}, {\"color\": \"#808080\", \"yindex\": 1, \"coordinates\": \"data\", \"dasharray\": \"10,0\", \"zorder\": 2, \"alpha\": 1, \"xindex\": 0, \"linewidth\": 1.0, \"data\": \"data07\", \"id\": \"el13047140466710474000\"}, {\"color\": \"#000000\", \"yindex\": 1, \"coordinates\": \"data\", \"dasharray\": \"10,0\", \"zorder\": 2, \"alpha\": 0.5, \"xindex\": 0, \"linewidth\": 5.0, \"data\": \"data08\", \"id\": \"el13047140466710610832\"}], \"markers\": [{\"edgecolor\": \"#000000\", \"facecolor\": \"#D3D3D3\", \"edgewidth\": 1, \"yindex\": 1, \"coordinates\": \"data\", \"zorder\": 2, \"markerpath\": [[[0.0, 10.0], [2.652031, 10.0], [5.195798707848534, 8.946336915882418], [7.0710678118654755, 7.0710678118654755], [8.946336915882418, 5.195798707848534], [10.0, 2.652031], [10.0, 0.0], [10.0, -2.652031], [8.946336915882418, -5.195798707848534], [7.0710678118654755, -7.0710678118654755], [5.195798707848534, -8.946336915882418], [2.652031, -10.0], [0.0, -10.0], [-2.652031, -10.0], [-5.195798707848534, -8.946336915882418], [-7.0710678118654755, -7.0710678118654755], [-8.946336915882418, -5.195798707848534], [-10.0, -2.652031], [-10.0, 0.0], [-10.0, 2.652031], [-8.946336915882418, 5.195798707848534], [-7.0710678118654755, 7.0710678118654755], [-5.195798707848534, 8.946336915882418], [-2.652031, 10.0], [0.0, 10.0]], [\"M\", \"C\", \"C\", \"C\", \"C\", \"C\", \"C\", \"C\", \"C\", \"Z\"]], \"alpha\": 1.0, \"xindex\": 0, \"data\": \"data09\", \"id\": \"el13047140467376456912pts\"}, {\"edgecolor\": \"#000000\", \"facecolor\": \"#D3D3D3\", \"edgewidth\": 1, \"yindex\": 1, \"coordinates\": \"data\", \"zorder\": 2, \"markerpath\": [[[0.0, 20.0], [5.304062, 20.0], [10.391597415697069, 17.892673831764835], [14.142135623730951, 14.142135623730951], [17.892673831764835, 10.391597415697069], [20.0, 5.304062], [20.0, 0.0], [20.0, -5.304062], [17.892673831764835, -10.391597415697069], [14.142135623730951, -14.142135623730951], [10.391597415697069, -17.892673831764835], [5.304062, -20.0], [0.0, -20.0], [-5.304062, -20.0], [-10.391597415697069, -17.892673831764835], [-14.142135623730951, -14.142135623730951], [-17.892673831764835, -10.391597415697069], [-20.0, -5.304062], [-20.0, 0.0], [-20.0, 5.304062], [-17.892673831764835, 10.391597415697069], [-14.142135623730951, 14.142135623730951], [-10.391597415697069, 17.892673831764835], [-5.304062, 20.0], [0.0, 20.0]], [\"M\", \"C\", \"C\", \"C\", \"C\", \"C\", \"C\", \"C\", \"C\", \"Z\"]], \"alpha\": 0.0, \"xindex\": 0, \"data\": \"data09\", \"id\": \"el13047140466710190672pts\"}], \"id\": \"el13047140466711322512\", \"ydomain\": [-0.080000000000000002, 1.0800000000000001], \"collections\": [], \"xscale\": \"linear\", \"bbox\": [0.125, 0.125, 0.77500000000000002, 0.77500000000000002]}], \"height\": 640.0, \"width\": 960.0, \"plugins\": [{\"type\": \"reset\"}, {\"enabled\": false, \"button\": true, \"type\": \"zoom\"}, {\"enabled\": false, \"button\": true, \"type\": \"boxzoom\"}, {\"voffset\": 10, \"labels\": [\"<table border=\\\"1\\\" cellpadding=\\\"4\\\" cellspacing=\\\"0\\\" bordercolor=\\\"#000000\\\">\\n<tr bgcolor=\\\"#AAAAAA\\\">\\n<th align=\\\"center\\\">Burglary</th>\\n<th align=\\\"center\\\">Prob.</th>\\n</tr>\\n<tr>\\n<td bgcolor=#FFFFFF>True</td>\\n<td bgcolor=#f6b5b1>0.010</td>\\n</tr>\\n<tr>\\n<td bgcolor=#FFFFFF>False</td>\\n<td bgcolor=#f2f0f1>0.990</td>\\n</tr>\\n</table>\", \"<table border=\\\"1\\\" cellpadding=\\\"4\\\" cellspacing=\\\"0\\\" bordercolor=\\\"#000000\\\">\\n<tr bgcolor=\\\"#AAAAAA\\\">\\n<th align=\\\"center\\\">Alarm</th>\\n<th align=\\\"center\\\">MaryCalls</th>\\n<th align=\\\"center\\\">Prob.</th>\\n</tr>\\n<tr>\\n<td bgcolor=#FFFFFF>True</td>\\n<td bgcolor=#FFFFFF>True</td>\\n<td bgcolor=#eee6c2>0.700</td>\\n</tr>\\n<tr>\\n<td bgcolor=#FFFFFF>True</td>\\n<td bgcolor=#FFFFFF>False</td>\\n<td bgcolor=#d2ded0>0.300</td>\\n</tr>\\n<tr>\\n<td bgcolor=#FFFFFF>False</td>\\n<td bgcolor=#FFFFFF>True</td>\\n<td bgcolor=#f6b5b1>0.010</td>\\n</tr>\\n<tr>\\n<td bgcolor=#FFFFFF>False</td>\\n<td bgcolor=#FFFFFF>False</td>\\n<td bgcolor=#f2f0f1>0.990</td>\\n</tr>\\n</table>\", \"<table border=\\\"1\\\" cellpadding=\\\"4\\\" cellspacing=\\\"0\\\" bordercolor=\\\"#000000\\\">\\n<tr bgcolor=\\\"#AAAAAA\\\">\\n<th align=\\\"center\\\">Burglary</th>\\n<th align=\\\"center\\\">Earthquake</th>\\n<th align=\\\"center\\\">Alarm</th>\\n<th align=\\\"center\\\">Prob.</th>\\n</tr>\\n<tr>\\n<td bgcolor=#FFFFFF>True</td>\\n<td bgcolor=#FFFFFF>True</td>\\n<td bgcolor=#FFFFFF>True</td>\\n<td bgcolor=#f6e8ef>0.950</td>\\n</tr>\\n<tr>\\n<td bgcolor=#FFFFFF>True</td>\\n<td bgcolor=#FFFFFF>True</td>\\n<td bgcolor=#FFFFFF>False</td>\\n<td bgcolor=#dfbdc1>0.050</td>\\n</tr>\\n<tr>\\n<td bgcolor=#FFFFFF>True</td>\\n<td bgcolor=#FFFFFF>False</td>\\n<td bgcolor=#FFFFFF>True</td>\\n<td bgcolor=#f7e6ef>0.940</td>\\n</tr>\\n<tr>\\n<td bgcolor=#FFFFFF>True</td>\\n<td bgcolor=#FFFFFF>False</td>\\n<td bgcolor=#FFFFFF>False</td>\\n<td bgcolor=#d9bfc6>0.060</td>\\n</tr>\\n<tr>\\n<td bgcolor=#FFFFFF>False</td>\\n<td bgcolor=#FFFFFF>True</td>\\n<td bgcolor=#FFFFFF>True</td>\\n<td bgcolor=#d1e0ce>0.290</td>\\n</tr>\\n<tr>\\n<td bgcolor=#FFFFFF>False</td>\\n<td bgcolor=#FFFFFF>True</td>\\n<td bgcolor=#FFFFFF>False</td>\\n<td bgcolor=#ede4c1>0.710</td>\\n</tr>\\n<tr>\\n<td bgcolor=#FFFFFF>False</td>\\n<td bgcolor=#FFFFFF>False</td>\\n<td bgcolor=#FFFFFF>True</td>\\n<td bgcolor=#fbb4ae>0.001</td>\\n</tr>\\n<tr>\\n<td bgcolor=#FFFFFF>False</td>\\n<td bgcolor=#FFFFFF>False</td>\\n<td bgcolor=#FFFFFF>False</td>\\n<td bgcolor=#f2f2f2>0.999</td>\\n</tr>\\n</table>\", \"<table border=\\\"1\\\" cellpadding=\\\"4\\\" cellspacing=\\\"0\\\" bordercolor=\\\"#000000\\\">\\n<tr bgcolor=\\\"#AAAAAA\\\">\\n<th align=\\\"center\\\">Alarm</th>\\n<th align=\\\"center\\\">JohnCalls</th>\\n<th align=\\\"center\\\">Prob.</th>\\n</tr>\\n<tr>\\n<td bgcolor=#FFFFFF>True</td>\\n<td bgcolor=#FFFFFF>True</td>\\n<td bgcolor=#fadfed>0.900</td>\\n</tr>\\n<tr>\\n<td bgcolor=#FFFFFF>True</td>\\n<td bgcolor=#FFFFFF>False</td>\\n<td bgcolor=#c2c7d7>0.100</td>\\n</tr>\\n<tr>\\n<td bgcolor=#FFFFFF>False</td>\\n<td bgcolor=#FFFFFF>True</td>\\n<td bgcolor=#dfbdc1>0.050</td>\\n</tr>\\n<tr>\\n<td bgcolor=#FFFFFF>False</td>\\n<td bgcolor=#FFFFFF>False</td>\\n<td bgcolor=#f6e8ef>0.950</td>\\n</tr>\\n</table>\", \"<table border=\\\"1\\\" cellpadding=\\\"4\\\" cellspacing=\\\"0\\\" bordercolor=\\\"#000000\\\">\\n<tr bgcolor=\\\"#AAAAAA\\\">\\n<th align=\\\"center\\\">Earthquake</th>\\n<th align=\\\"center\\\">Prob.</th>\\n</tr>\\n<tr>\\n<td bgcolor=#FFFFFF>True</td>\\n<td bgcolor=#efb7b6>0.020</td>\\n</tr>\\n<tr>\\n<td bgcolor=#FFFFFF>False</td>\\n<td bgcolor=#f3eef1>0.980</td>\\n</tr>\\n</table>\"], \"type\": \"htmltooltip\", \"id\": \"el13047140466710190672pts\", \"hoffset\": 10}], \"data\": {\"data08\": [[0.37049675712766716, 0.5924063555434831], [0.4358785377972555, 0.5204780653452742]], \"data09\": [[0.8148037152308332, 0.0], [0.8924038205996094, 0.8055026760608079], [0.4358785377972555, 0.5204780653452742], [0.05181160600901941, 0.29931889765459213], [0.0, 1.0]], \"data06\": [[0.10942164577725483, 0.33249277280819445], [0.05181160600901941, 0.29931889765459213]], \"data07\": [[0.0, 1.0], [0.4358785377972555, 0.5204780653452742]], \"data04\": [[0.8239250281792564, 0.7627489844534778], [0.8924038205996094, 0.8055026760608079]], \"data05\": [[0.4358785377972555, 0.5204780653452742], [0.05181160600901941, 0.29931889765459213]], \"data02\": [[0.49271731441229216, 0.44240635554348307], [0.4358785377972555, 0.5204780653452742]], \"data03\": [[0.4358785377972555, 0.5204780653452742], [0.8924038205996094, 0.8055026760608079]], \"data01\": [[0.8148037152308332, 0.0], [0.4358785377972555, 0.5204780653452742]]}, \"id\": \"el13047140466711319888\"});\n",
       "      });\n",
       "    });\n",
       "}else{\n",
       "    // require.js not available: dynamically load d3 & mpld3\n",
       "    mpld3_load_lib(\"https://mpld3.github.io/js/d3.v3.min.js\", function(){\n",
       "         mpld3_load_lib(\"https://mpld3.github.io/js/mpld3.v0.2.js\", function(){\n",
       "                 \n",
       "    mpld3.register_plugin(\"htmltooltip\", HtmlTooltipPlugin);\n",
       "    HtmlTooltipPlugin.prototype = Object.create(mpld3.Plugin.prototype);\n",
       "    HtmlTooltipPlugin.prototype.constructor = HtmlTooltipPlugin;\n",
       "    HtmlTooltipPlugin.prototype.requiredProps = [\"id\"];\n",
       "    HtmlTooltipPlugin.prototype.defaultProps = {labels:null, hoffset:0, voffset:10};\n",
       "    function HtmlTooltipPlugin(fig, props){\n",
       "        mpld3.Plugin.call(this, fig, props);\n",
       "    };\n",
       "\n",
       "    HtmlTooltipPlugin.prototype.draw = function(){\n",
       "       var obj = mpld3.get_element(this.props.id);\n",
       "       var labels = this.props.labels;\n",
       "       var tooltip = d3.select(\"body\").append(\"div\")\n",
       "                    .attr(\"class\", \"mpld3-tooltip\")\n",
       "                    .style(\"position\", \"absolute\")\n",
       "                    .style(\"z-index\", \"10\")\n",
       "                    .style(\"visibility\", \"hidden\");\n",
       "\n",
       "       obj.elements()\n",
       "           .on(\"mouseover\", function(d, i){\n",
       "                              tooltip.html(labels[i])\n",
       "                                     .style(\"visibility\", \"visible\");})\n",
       "           .on(\"mousemove\", function(d, i){\n",
       "                    tooltip\n",
       "                      .style(\"top\", d3.event.pageY + this.props.voffset + \"px\")\n",
       "                      .style(\"left\",d3.event.pageX + this.props.hoffset + \"px\");\n",
       "                 }.bind(this))\n",
       "           .on(\"mouseout\",  function(d, i){\n",
       "                           tooltip.style(\"visibility\", \"hidden\");});\n",
       "    };\n",
       "    \n",
       "                 mpld3.draw_figure(\"fig_el130471404667113198884644363215\", {\"axes\": [{\"xlim\": [-0.080000000000000002, 0.97240382059960939], \"yscale\": \"linear\", \"axesbg\": \"#FFFFFF\", \"texts\": [{\"v_baseline\": \"central\", \"h_anchor\": \"middle\", \"color\": \"#000000\", \"text\": \"Burglary\", \"coordinates\": \"data\", \"zorder\": 3, \"alpha\": 1, \"fontsize\": 10.0, \"position\": [0.81480371523083317, 0.0], \"rotation\": -0.0, \"id\": \"el13047140466710660432\"}, {\"v_baseline\": \"central\", \"h_anchor\": \"middle\", \"color\": \"#000000\", \"text\": \"MaryCalls\", \"coordinates\": \"data\", \"zorder\": 3, \"alpha\": 1, \"fontsize\": 10.0, \"position\": [0.89240382059960943, 0.80550267606080794], \"rotation\": -0.0, \"id\": \"el13047140466710661392\"}, {\"v_baseline\": \"central\", \"h_anchor\": \"middle\", \"color\": \"#000000\", \"text\": \"Alarm\", \"coordinates\": \"data\", \"zorder\": 3, \"alpha\": 1, \"fontsize\": 10.0, \"position\": [0.43587853779725549, 0.52047806534527419], \"rotation\": -0.0, \"id\": \"el13047140466710662480\"}, {\"v_baseline\": \"central\", \"h_anchor\": \"middle\", \"color\": \"#000000\", \"text\": \"JohnCalls\", \"coordinates\": \"data\", \"zorder\": 3, \"alpha\": 1, \"fontsize\": 10.0, \"position\": [0.051811606009019413, 0.29931889765459213], \"rotation\": -0.0, \"id\": \"el13047140466710188496\"}, {\"v_baseline\": \"central\", \"h_anchor\": \"middle\", \"color\": \"#000000\", \"text\": \"Earthquake\", \"coordinates\": \"data\", \"zorder\": 3, \"alpha\": 1, \"fontsize\": 10.0, \"position\": [0.0, 1.0], \"rotation\": -0.0, \"id\": \"el13047140466710189584\"}], \"zoomable\": true, \"images\": [], \"xdomain\": [-0.080000000000000002, 0.97240382059960939], \"ylim\": [-0.080000000000000002, 1.0800000000000001], \"paths\": [], \"sharey\": [], \"sharex\": [], \"axesbgalpha\": null, \"axes\": [{\"scale\": \"linear\", \"tickformat\": null, \"grid\": {\"gridOn\": false}, \"fontsize\": 10.0, \"position\": \"bottom\", \"nticks\": 7, \"tickvalues\": null}, {\"scale\": \"linear\", \"tickformat\": null, \"grid\": {\"gridOn\": false}, \"fontsize\": 10.0, \"position\": \"left\", \"nticks\": 8, \"tickvalues\": null}], \"lines\": [{\"color\": \"#808080\", \"yindex\": 1, \"coordinates\": \"data\", \"dasharray\": \"10,0\", \"zorder\": 2, \"alpha\": 1, \"xindex\": 0, \"linewidth\": 1.0, \"data\": \"data01\", \"id\": \"el13047140467376456528\"}, {\"color\": \"#000000\", \"yindex\": 1, \"coordinates\": \"data\", \"dasharray\": \"10,0\", \"zorder\": 2, \"alpha\": 0.5, \"xindex\": 0, \"linewidth\": 5.0, \"data\": \"data02\", \"id\": \"el13047140466711224016\"}, {\"color\": \"#808080\", \"yindex\": 1, \"coordinates\": \"data\", \"dasharray\": \"10,0\", \"zorder\": 2, \"alpha\": 1, \"xindex\": 0, \"linewidth\": 1.0, \"data\": \"data03\", \"id\": \"el13047140466711156432\"}, {\"color\": \"#000000\", \"yindex\": 1, \"coordinates\": \"data\", \"dasharray\": \"10,0\", \"zorder\": 2, \"alpha\": 0.5, \"xindex\": 0, \"linewidth\": 5.0, \"data\": \"data04\", \"id\": \"el13047140466711103248\"}, {\"color\": \"#808080\", \"yindex\": 1, \"coordinates\": \"data\", \"dasharray\": \"10,0\", \"zorder\": 2, \"alpha\": 1, \"xindex\": 0, \"linewidth\": 1.0, \"data\": \"data05\", \"id\": \"el13047140466711058640\"}, {\"color\": \"#000000\", \"yindex\": 1, \"coordinates\": \"data\", \"dasharray\": \"10,0\", \"zorder\": 2, \"alpha\": 0.5, \"xindex\": 0, \"linewidth\": 5.0, \"data\": \"data06\", \"id\": \"el13047140466710988048\"}, {\"color\": \"#808080\", \"yindex\": 1, \"coordinates\": \"data\", \"dasharray\": \"10,0\", \"zorder\": 2, \"alpha\": 1, \"xindex\": 0, \"linewidth\": 1.0, \"data\": \"data07\", \"id\": \"el13047140466710474000\"}, {\"color\": \"#000000\", \"yindex\": 1, \"coordinates\": \"data\", \"dasharray\": \"10,0\", \"zorder\": 2, \"alpha\": 0.5, \"xindex\": 0, \"linewidth\": 5.0, \"data\": \"data08\", \"id\": \"el13047140466710610832\"}], \"markers\": [{\"edgecolor\": \"#000000\", \"facecolor\": \"#D3D3D3\", \"edgewidth\": 1, \"yindex\": 1, \"coordinates\": \"data\", \"zorder\": 2, \"markerpath\": [[[0.0, 10.0], [2.652031, 10.0], [5.195798707848534, 8.946336915882418], [7.0710678118654755, 7.0710678118654755], [8.946336915882418, 5.195798707848534], [10.0, 2.652031], [10.0, 0.0], [10.0, -2.652031], [8.946336915882418, -5.195798707848534], [7.0710678118654755, -7.0710678118654755], [5.195798707848534, -8.946336915882418], [2.652031, -10.0], [0.0, -10.0], [-2.652031, -10.0], [-5.195798707848534, -8.946336915882418], [-7.0710678118654755, -7.0710678118654755], [-8.946336915882418, -5.195798707848534], [-10.0, -2.652031], [-10.0, 0.0], [-10.0, 2.652031], [-8.946336915882418, 5.195798707848534], [-7.0710678118654755, 7.0710678118654755], [-5.195798707848534, 8.946336915882418], [-2.652031, 10.0], [0.0, 10.0]], [\"M\", \"C\", \"C\", \"C\", \"C\", \"C\", \"C\", \"C\", \"C\", \"Z\"]], \"alpha\": 1.0, \"xindex\": 0, \"data\": \"data09\", \"id\": \"el13047140467376456912pts\"}, {\"edgecolor\": \"#000000\", \"facecolor\": \"#D3D3D3\", \"edgewidth\": 1, \"yindex\": 1, \"coordinates\": \"data\", \"zorder\": 2, \"markerpath\": [[[0.0, 20.0], [5.304062, 20.0], [10.391597415697069, 17.892673831764835], [14.142135623730951, 14.142135623730951], [17.892673831764835, 10.391597415697069], [20.0, 5.304062], [20.0, 0.0], [20.0, -5.304062], [17.892673831764835, -10.391597415697069], [14.142135623730951, -14.142135623730951], [10.391597415697069, -17.892673831764835], [5.304062, -20.0], [0.0, -20.0], [-5.304062, -20.0], [-10.391597415697069, -17.892673831764835], [-14.142135623730951, -14.142135623730951], [-17.892673831764835, -10.391597415697069], [-20.0, -5.304062], [-20.0, 0.0], [-20.0, 5.304062], [-17.892673831764835, 10.391597415697069], [-14.142135623730951, 14.142135623730951], [-10.391597415697069, 17.892673831764835], [-5.304062, 20.0], [0.0, 20.0]], [\"M\", \"C\", \"C\", \"C\", \"C\", \"C\", \"C\", \"C\", \"C\", \"Z\"]], \"alpha\": 0.0, \"xindex\": 0, \"data\": \"data09\", \"id\": \"el13047140466710190672pts\"}], \"id\": \"el13047140466711322512\", \"ydomain\": [-0.080000000000000002, 1.0800000000000001], \"collections\": [], \"xscale\": \"linear\", \"bbox\": [0.125, 0.125, 0.77500000000000002, 0.77500000000000002]}], \"height\": 640.0, \"width\": 960.0, \"plugins\": [{\"type\": \"reset\"}, {\"enabled\": false, \"button\": true, \"type\": \"zoom\"}, {\"enabled\": false, \"button\": true, \"type\": \"boxzoom\"}, {\"voffset\": 10, \"labels\": [\"<table border=\\\"1\\\" cellpadding=\\\"4\\\" cellspacing=\\\"0\\\" bordercolor=\\\"#000000\\\">\\n<tr bgcolor=\\\"#AAAAAA\\\">\\n<th align=\\\"center\\\">Burglary</th>\\n<th align=\\\"center\\\">Prob.</th>\\n</tr>\\n<tr>\\n<td bgcolor=#FFFFFF>True</td>\\n<td bgcolor=#f6b5b1>0.010</td>\\n</tr>\\n<tr>\\n<td bgcolor=#FFFFFF>False</td>\\n<td bgcolor=#f2f0f1>0.990</td>\\n</tr>\\n</table>\", \"<table border=\\\"1\\\" cellpadding=\\\"4\\\" cellspacing=\\\"0\\\" bordercolor=\\\"#000000\\\">\\n<tr bgcolor=\\\"#AAAAAA\\\">\\n<th align=\\\"center\\\">Alarm</th>\\n<th align=\\\"center\\\">MaryCalls</th>\\n<th align=\\\"center\\\">Prob.</th>\\n</tr>\\n<tr>\\n<td bgcolor=#FFFFFF>True</td>\\n<td bgcolor=#FFFFFF>True</td>\\n<td bgcolor=#eee6c2>0.700</td>\\n</tr>\\n<tr>\\n<td bgcolor=#FFFFFF>True</td>\\n<td bgcolor=#FFFFFF>False</td>\\n<td bgcolor=#d2ded0>0.300</td>\\n</tr>\\n<tr>\\n<td bgcolor=#FFFFFF>False</td>\\n<td bgcolor=#FFFFFF>True</td>\\n<td bgcolor=#f6b5b1>0.010</td>\\n</tr>\\n<tr>\\n<td bgcolor=#FFFFFF>False</td>\\n<td bgcolor=#FFFFFF>False</td>\\n<td bgcolor=#f2f0f1>0.990</td>\\n</tr>\\n</table>\", \"<table border=\\\"1\\\" cellpadding=\\\"4\\\" cellspacing=\\\"0\\\" bordercolor=\\\"#000000\\\">\\n<tr bgcolor=\\\"#AAAAAA\\\">\\n<th align=\\\"center\\\">Burglary</th>\\n<th align=\\\"center\\\">Earthquake</th>\\n<th align=\\\"center\\\">Alarm</th>\\n<th align=\\\"center\\\">Prob.</th>\\n</tr>\\n<tr>\\n<td bgcolor=#FFFFFF>True</td>\\n<td bgcolor=#FFFFFF>True</td>\\n<td bgcolor=#FFFFFF>True</td>\\n<td bgcolor=#f6e8ef>0.950</td>\\n</tr>\\n<tr>\\n<td bgcolor=#FFFFFF>True</td>\\n<td bgcolor=#FFFFFF>True</td>\\n<td bgcolor=#FFFFFF>False</td>\\n<td bgcolor=#dfbdc1>0.050</td>\\n</tr>\\n<tr>\\n<td bgcolor=#FFFFFF>True</td>\\n<td bgcolor=#FFFFFF>False</td>\\n<td bgcolor=#FFFFFF>True</td>\\n<td bgcolor=#f7e6ef>0.940</td>\\n</tr>\\n<tr>\\n<td bgcolor=#FFFFFF>True</td>\\n<td bgcolor=#FFFFFF>False</td>\\n<td bgcolor=#FFFFFF>False</td>\\n<td bgcolor=#d9bfc6>0.060</td>\\n</tr>\\n<tr>\\n<td bgcolor=#FFFFFF>False</td>\\n<td bgcolor=#FFFFFF>True</td>\\n<td bgcolor=#FFFFFF>True</td>\\n<td bgcolor=#d1e0ce>0.290</td>\\n</tr>\\n<tr>\\n<td bgcolor=#FFFFFF>False</td>\\n<td bgcolor=#FFFFFF>True</td>\\n<td bgcolor=#FFFFFF>False</td>\\n<td bgcolor=#ede4c1>0.710</td>\\n</tr>\\n<tr>\\n<td bgcolor=#FFFFFF>False</td>\\n<td bgcolor=#FFFFFF>False</td>\\n<td bgcolor=#FFFFFF>True</td>\\n<td bgcolor=#fbb4ae>0.001</td>\\n</tr>\\n<tr>\\n<td bgcolor=#FFFFFF>False</td>\\n<td bgcolor=#FFFFFF>False</td>\\n<td bgcolor=#FFFFFF>False</td>\\n<td bgcolor=#f2f2f2>0.999</td>\\n</tr>\\n</table>\", \"<table border=\\\"1\\\" cellpadding=\\\"4\\\" cellspacing=\\\"0\\\" bordercolor=\\\"#000000\\\">\\n<tr bgcolor=\\\"#AAAAAA\\\">\\n<th align=\\\"center\\\">Alarm</th>\\n<th align=\\\"center\\\">JohnCalls</th>\\n<th align=\\\"center\\\">Prob.</th>\\n</tr>\\n<tr>\\n<td bgcolor=#FFFFFF>True</td>\\n<td bgcolor=#FFFFFF>True</td>\\n<td bgcolor=#fadfed>0.900</td>\\n</tr>\\n<tr>\\n<td bgcolor=#FFFFFF>True</td>\\n<td bgcolor=#FFFFFF>False</td>\\n<td bgcolor=#c2c7d7>0.100</td>\\n</tr>\\n<tr>\\n<td bgcolor=#FFFFFF>False</td>\\n<td bgcolor=#FFFFFF>True</td>\\n<td bgcolor=#dfbdc1>0.050</td>\\n</tr>\\n<tr>\\n<td bgcolor=#FFFFFF>False</td>\\n<td bgcolor=#FFFFFF>False</td>\\n<td bgcolor=#f6e8ef>0.950</td>\\n</tr>\\n</table>\", \"<table border=\\\"1\\\" cellpadding=\\\"4\\\" cellspacing=\\\"0\\\" bordercolor=\\\"#000000\\\">\\n<tr bgcolor=\\\"#AAAAAA\\\">\\n<th align=\\\"center\\\">Earthquake</th>\\n<th align=\\\"center\\\">Prob.</th>\\n</tr>\\n<tr>\\n<td bgcolor=#FFFFFF>True</td>\\n<td bgcolor=#efb7b6>0.020</td>\\n</tr>\\n<tr>\\n<td bgcolor=#FFFFFF>False</td>\\n<td bgcolor=#f3eef1>0.980</td>\\n</tr>\\n</table>\"], \"type\": \"htmltooltip\", \"id\": \"el13047140466710190672pts\", \"hoffset\": 10}], \"data\": {\"data08\": [[0.37049675712766716, 0.5924063555434831], [0.4358785377972555, 0.5204780653452742]], \"data09\": [[0.8148037152308332, 0.0], [0.8924038205996094, 0.8055026760608079], [0.4358785377972555, 0.5204780653452742], [0.05181160600901941, 0.29931889765459213], [0.0, 1.0]], \"data06\": [[0.10942164577725483, 0.33249277280819445], [0.05181160600901941, 0.29931889765459213]], \"data07\": [[0.0, 1.0], [0.4358785377972555, 0.5204780653452742]], \"data04\": [[0.8239250281792564, 0.7627489844534778], [0.8924038205996094, 0.8055026760608079]], \"data05\": [[0.4358785377972555, 0.5204780653452742], [0.05181160600901941, 0.29931889765459213]], \"data02\": [[0.49271731441229216, 0.44240635554348307], [0.4358785377972555, 0.5204780653452742]], \"data03\": [[0.4358785377972555, 0.5204780653452742], [0.8924038205996094, 0.8055026760608079]], \"data01\": [[0.8148037152308332, 0.0], [0.4358785377972555, 0.5204780653452742]]}, \"id\": \"el13047140466711319888\"});\n",
       "            })\n",
       "         });\n",
       "}\n",
       "</script>"
      ],
      "text/plain": [
       "<IPython.core.display.HTML object>"
      ]
     },
     "execution_count": 5,
     "metadata": {},
     "output_type": "execute_result"
    }
   ],
   "source": [
    "from os import listdir\n",
    "import os.path\n",
    "NETWORKS_PATH = '/home/wrwt/Programming/pygraphmodels/networks/'\n",
    "network_filenames = listdir(NETWORKS_PATH)\n",
    "true_dgm = gm.DGM.read(os.path.join(NETWORKS_PATH, 'earthquake.bif'))\n",
    "true_dgm.draw()"
   ]
  },
  {
   "cell_type": "code",
   "execution_count": 10,
   "metadata": {
    "collapsed": true
   },
   "outputs": [],
   "source": [
    "data = true_dgm.rvs(1000000)"
   ]
  },
  {
   "cell_type": "code",
   "execution_count": 11,
   "metadata": {
    "collapsed": false
   },
   "outputs": [],
   "source": [
    "from graphmodels.information import discrete_entropy, discrete_mutual_information"
   ]
  },
  {
   "cell_type": "code",
   "execution_count": 12,
   "metadata": {
    "collapsed": false
   },
   "outputs": [
    {
     "name": "stdout",
     "output_type": "stream",
     "text": [
      "1 loop, best of 3: 591 ms per loop\n"
     ]
    }
   ],
   "source": [
    "%%timeit\n",
    "discrete_mutual_information(data[['Alarm']], data[['MaryCalls', 'JohnCalls']])"
   ]
  },
  {
   "cell_type": "code",
   "execution_count": 105,
   "metadata": {
    "collapsed": true
   },
   "outputs": [],
   "source": [
    "from itertools import product\n",
    "class MatrixGraph:\n",
    "    def __init__(self, adjacency_matrix, names_to_idx=None):\n",
    "        self.adj = adjacency_matrix\n",
    "        self.names_to_idx = names_to_idx\n",
    "        if names_to_idx is None:\n",
    "            self.names_to_idx = {i:i for i in range(adj.shape[0])}\n",
    "            \n",
    "    @property\n",
    "    def n(self):\n",
    "        return self.adj.shape[0]\n",
    "    \n",
    "    @property\n",
    "    def m(self):\n",
    "        return np.sum(self.adj)\n",
    "    \n",
    "    @property\n",
    "    def names(self):\n",
    "        idx_to_names = self.idx_to_names\n",
    "        return [idx_to_names[i] for i in range(self.n)]\n",
    "    \n",
    "    @property\n",
    "    def idx_to_names(self):\n",
    "        return {i:node for node, i in self.names_to_idx.items()}\n",
    "    \n",
    "    @staticmethod\n",
    "    def from_networkx_DiGraph(graph):\n",
    "        names_to_idx = {node:i for i, node in enumerate(graph.nodes())}\n",
    "        adj = np.zeros((len(names_to_idx), len(names_to_idx)))\n",
    "        for u, v in graph.edges():\n",
    "            adj[names_to_idx[u], names_to_idx[v]] = 1\n",
    "        return MatrixGraph(adj, names_to_idx=names_to_idx)\n",
    "\n",
    "    def to_networkx_DiGraph(self):\n",
    "        result = nx.DiGraph()\n",
    "        result.add_nodes_from(self.names_to_idx.keys())\n",
    "        for i, j in product(range(self.n), repeat=2):\n",
    "            if self.adj[i, j]:\n",
    "                result.add_edge(self.idx_to_names[i], self.idx_to_names[j])\n",
    "        return result\n",
    "    \n",
    "    def is_acyclic(self):\n",
    "        return nx.is_directed_acyclic_graph(self.to_networkx_DiGraph())\n",
    "    \n",
    "    def draw(self):\n",
    "        return gm.DGM(self.to_networkx_DiGraph()).draw()"
   ]
  },
  {
   "cell_type": "code",
   "execution_count": 48,
   "metadata": {
    "collapsed": true
   },
   "outputs": [],
   "source": [
    "def bic_score(dgm, data):\n",
    "    result = 0.\n",
    "    for x in dgm.nodes():\n",
    "        pa = dgm.predecessors(x)\n",
    "        \n",
    "        def n_values(x):\n",
    "            return len(data[x].value_counts())\n",
    "    \n",
    "        k = n_values(x)*np.prod([n_values(pa_i) for pa_i in pa]) - 1\n",
    "        n = data.shape[0]\n",
    "        l = n*(discrete_mutual_information(data[[x]], data[pa]) - \\\n",
    "               discrete_entropy(data[[x]]))\n",
    "        result += l - 0.5 * np.log(n) * k\n",
    "    return result"
   ]
  },
  {
   "cell_type": "code",
   "execution_count": 97,
   "metadata": {
    "collapsed": false
   },
   "outputs": [],
   "source": [
    "class ScoreBIC:\n",
    "    def __init__(self, graph, data):\n",
    "        self.graph = graph\n",
    "        self.data = data\n",
    "        self.n_values = {name: len(self.data[name].value_counts()) for name in self.data.columns}\n",
    "        self.cache = {}\n",
    "        \n",
    "    def _footprint(self, node, parents):\n",
    "        return tuple([node] + list(parents))\n",
    "        \n",
    "    def __call__(self, node, parents):\n",
    "        fp = self._footprint(node, parents)\n",
    "        if fp in self.cache:\n",
    "            return self.cache[fp]\n",
    "        \n",
    "        pa_names = [self.graph.idx_to_names[idx] for idx, exists in enumerate(parents) if exists]\n",
    "        node_name = self.graph.idx_to_names[node]\n",
    "            \n",
    "        k = self.n_values[node_name]*np.prod([self.n_values[pa_i] for pa_i in pa_names]) - 1\n",
    "        n = self.data.shape[0]\n",
    "        l = n*discrete_mutual_information(data[[node_name]], data[pa_names])\n",
    "        \n",
    "        result = l - 0.5 * np.log(n) * k\n",
    "        self.cache[fp] = result\n",
    "        return result"
   ]
  },
  {
   "cell_type": "code",
   "execution_count": 98,
   "metadata": {
    "collapsed": true
   },
   "outputs": [],
   "source": [
    "mxg = MatrixGraph.from_networkx_DiGraph(true_dgm)\n",
    "score = ScoreBIC(mxg, data)"
   ]
  },
  {
   "cell_type": "code",
   "execution_count": 99,
   "metadata": {
    "collapsed": false
   },
   "outputs": [
    {
     "data": {
      "text/plain": [
       "['Burglary', 'MaryCalls', 'Alarm', 'JohnCalls', 'Earthquake']"
      ]
     },
     "execution_count": 99,
     "metadata": {},
     "output_type": "execute_result"
    }
   ],
   "source": [
    "mxg.names"
   ]
  },
  {
   "cell_type": "code",
   "execution_count": 100,
   "metadata": {
    "collapsed": false
   },
   "outputs": [
    {
     "data": {
      "text/plain": [
       "-6.9077552789821368"
      ]
     },
     "execution_count": 100,
     "metadata": {},
     "output_type": "execute_result"
    }
   ],
   "source": [
    "score(1, [0, 0, 0, 0, 0])"
   ]
  },
  {
   "cell_type": "code",
   "execution_count": 101,
   "metadata": {
    "collapsed": false
   },
   "outputs": [
    {
     "data": {
      "text/plain": [
       "36519.607616759378"
      ]
     },
     "execution_count": 101,
     "metadata": {},
     "output_type": "execute_result"
    }
   ],
   "source": [
    "score(1, [0, 0, 1, 0, 0])"
   ]
  },
  {
   "cell_type": "code",
   "execution_count": 102,
   "metadata": {
    "collapsed": false
   },
   "outputs": [
    {
     "data": {
      "text/plain": [
       "36492.351913303683"
      ]
     },
     "execution_count": 102,
     "metadata": {},
     "output_type": "execute_result"
    }
   ],
   "source": [
    "score(1, [1, 0, 1, 0, 0])"
   ]
  },
  {
   "cell_type": "code",
   "execution_count": 103,
   "metadata": {
    "collapsed": false
   },
   "outputs": [
    {
     "data": {
      "text/plain": [
       "-6.9077552789821368"
      ]
     },
     "execution_count": 103,
     "metadata": {},
     "output_type": "execute_result"
    }
   ],
   "source": [
    "score(4, [0, 0, 0, 0, 0])"
   ]
  },
  {
   "cell_type": "code",
   "execution_count": 104,
   "metadata": {
    "collapsed": false
   },
   "outputs": [
    {
     "name": "stdout",
     "output_type": "stream",
     "text": [
      "The line_profiler extension is already loaded. To reload it, use:\n",
      "  %reload_ext line_profiler\n"
     ]
    }
   ],
   "source": [
    "%load_ext line_profiler\n",
    "%lprun -f ScoreBIC.__call__ score(4, [1, 1, 1, 1, 0])"
   ]
  },
  {
   "cell_type": "code",
   "execution_count": null,
   "metadata": {
    "collapsed": true
   },
   "outputs": [],
   "source": [
    "class InvalidOperation(Exception): pass\n",
    "\n",
    "class LocalOperation:\n",
    "    def __init__(self, graph, fscore):\n",
    "        self.graph = graph\n",
    "        self.fscore = fscore\n",
    "    \n",
    "    def do(self):\n",
    "        raise NotImplementedError()\n",
    "    \n",
    "    def undo(self):\n",
    "        raise NotImplementedError()\n",
    "        \n",
    "    @property\n",
    "    def score(self):\n",
    "        raise NotImplementedError()"
   ]
  },
  {
   "cell_type": "code",
   "execution_count": 136,
   "metadata": {
    "collapsed": true
   },
   "outputs": [],
   "source": [
    "class AddEdge(LocalOperation):\n",
    "    def __init__(self, graph, fscore, src, dst):\n",
    "        LocalOperation.__init__(self, graph, fscore)\n",
    "        self.src = src\n",
    "        self.dst = dst\n",
    "    \n",
    "    def do(self):\n",
    "        if self.graph.adj[self.src, self.dst]:\n",
    "            raise InvalidOperation()\n",
    "        self.graph.adj[self.src, self.dst] = 1\n",
    "        if not self.graph.is_acyclic():\n",
    "            self.graph.adj[self.src, self.dst] = 0\n",
    "            raise InvalidOperation()\n",
    "        return self\n",
    "    \n",
    "    def undo(self):\n",
    "        self.graph.adj[self.src, self.dst] = 0\n",
    "        return self\n",
    "    \n",
    "    @property\n",
    "    def score(self):\n",
    "        pa = self.graph.adj[:, self.dst].copy()\n",
    "        score = -self.fscore(self.dst, pa)\n",
    "        pa[self.src] = 1\n",
    "        score += self.fscore(self.dst, pa)\n",
    "        return score"
   ]
  },
  {
   "cell_type": "code",
   "execution_count": 139,
   "metadata": {
    "collapsed": true
   },
   "outputs": [],
   "source": [
    "class RemoveEdge(LocalOperation):\n",
    "    def __init__(self, graph, fscore, src, dst):\n",
    "        LocalOperation.__init__(self, graph, fscore)\n",
    "        self.src = src\n",
    "        self.dst = dst\n",
    "    \n",
    "    def do(self):\n",
    "        if not self.graph.adj[self.src, self.dst]:\n",
    "            raise InvalidOperation()\n",
    "        self.graph.adj[self.src, self.dst] = 0\n",
    "        return self\n",
    "    \n",
    "    def undo(self):\n",
    "        self.graph.adj[self.src, self.dst] = 1\n",
    "        return self\n",
    "    \n",
    "    @property\n",
    "    def score(self):\n",
    "        pa = self.graph.adj[:, self.dst].copy()\n",
    "        score = -self.fscore(self.dst, pa)\n",
    "        pa[self.src] = 0\n",
    "        score += self.fscore(self.dst, pa)\n",
    "        return score"
   ]
  },
  {
   "cell_type": "code",
   "execution_count": 141,
   "metadata": {
    "collapsed": true
   },
   "outputs": [],
   "source": [
    "class ReverseEdge(LocalOperation):\n",
    "    def __init__(self, graph, fscore, src, dst):\n",
    "        LocalOperation.__init__(self, graph, fscore)\n",
    "        self.src = src\n",
    "        self.dst = dst\n",
    "        \n",
    "    def do(self):\n",
    "        if not self.graph.adj[self.src, self.dst]:\n",
    "            raise InvalidOperation()\n",
    "        self.graph.adj[self.src, self.dst] = 0\n",
    "        self.graph.adj[self.dst, self.src] = 1\n",
    "        if not self.graph.is_acyclic():\n",
    "            self.graph.adj[self.src, self.dst] = 1\n",
    "            self.graph.adj[self.dst, self.src] = 0\n",
    "            raise InvalidOperation()\n",
    "        return self\n",
    "    \n",
    "    def undo(self):\n",
    "        self.graph.adj[self.src, self.dst] = 1\n",
    "        self.graph.adj[self.dst, self.src] = 0\n",
    "        return self\n",
    "    \n",
    "    @property\n",
    "    def score(self):\n",
    "        pa = self.graph.adj[:, self.dst].copy()\n",
    "        score = -self.fscore(self.dst, pa)\n",
    "        pa[self.src] = 0\n",
    "        score += self.fscore(self.dst, pa)\n",
    "        \n",
    "        pa = self.graph.adj[:, self.src].copy()\n",
    "        score -= self.fscore(self.src, pa)\n",
    "        pa[self.dst] = 1\n",
    "        score += self.fscore(self.src, pa)\n",
    "        return score"
   ]
  },
  {
   "cell_type": "code",
   "execution_count": 142,
   "metadata": {
    "collapsed": true
   },
   "outputs": [],
   "source": [
    "mxg = MatrixGraph.from_networkx_DiGraph(true_dgm)\n",
    "score = ScoreBIC(mxg, data)"
   ]
  },
  {
   "cell_type": "code",
   "execution_count": 143,
   "metadata": {
    "collapsed": false
   },
   "outputs": [
    {
     "data": {
      "text/html": [
       "\n",
       "\n",
       "<style>\n",
       "\n",
       "table\n",
       "{\n",
       "  border-collapse: collapse;\n",
       "}\n",
       "th\n",
       "{\n",
       "  color: #ffffff;\n",
       "  background-color: #000000;\n",
       "}\n",
       "td\n",
       "{\n",
       "  background-color: #cccccc;\n",
       "}\n",
       "table, th, td\n",
       "{\n",
       "  font-family:Arial, Helvetica, sans-serif;\n",
       "  border: 1px solid black;\n",
       "  text-align: center;\n",
       "  padding: 3px;\n",
       "  font-size:11pt;\n",
       "}\n",
       "g.mpld3-xaxis, g.mpld3-yaxis {\n",
       "    display: none;\n",
       "}\n",
       "    \n",
       "</style>\n",
       "\n",
       "<div id=\"fig_el130471404667005883684001044475\"></div>\n",
       "<script>\n",
       "function mpld3_load_lib(url, callback){\n",
       "  var s = document.createElement('script');\n",
       "  s.src = url;\n",
       "  s.async = true;\n",
       "  s.onreadystatechange = s.onload = callback;\n",
       "  s.onerror = function(){console.warn(\"failed to load library \" + url);};\n",
       "  document.getElementsByTagName(\"head\")[0].appendChild(s);\n",
       "}\n",
       "\n",
       "if(typeof(mpld3) !== \"undefined\" && mpld3._mpld3IsLoaded){\n",
       "   // already loaded: just create the figure\n",
       "   !function(mpld3){\n",
       "       \n",
       "    mpld3.register_plugin(\"htmltooltip\", HtmlTooltipPlugin);\n",
       "    HtmlTooltipPlugin.prototype = Object.create(mpld3.Plugin.prototype);\n",
       "    HtmlTooltipPlugin.prototype.constructor = HtmlTooltipPlugin;\n",
       "    HtmlTooltipPlugin.prototype.requiredProps = [\"id\"];\n",
       "    HtmlTooltipPlugin.prototype.defaultProps = {labels:null, hoffset:0, voffset:10};\n",
       "    function HtmlTooltipPlugin(fig, props){\n",
       "        mpld3.Plugin.call(this, fig, props);\n",
       "    };\n",
       "\n",
       "    HtmlTooltipPlugin.prototype.draw = function(){\n",
       "       var obj = mpld3.get_element(this.props.id);\n",
       "       var labels = this.props.labels;\n",
       "       var tooltip = d3.select(\"body\").append(\"div\")\n",
       "                    .attr(\"class\", \"mpld3-tooltip\")\n",
       "                    .style(\"position\", \"absolute\")\n",
       "                    .style(\"z-index\", \"10\")\n",
       "                    .style(\"visibility\", \"hidden\");\n",
       "\n",
       "       obj.elements()\n",
       "           .on(\"mouseover\", function(d, i){\n",
       "                              tooltip.html(labels[i])\n",
       "                                     .style(\"visibility\", \"visible\");})\n",
       "           .on(\"mousemove\", function(d, i){\n",
       "                    tooltip\n",
       "                      .style(\"top\", d3.event.pageY + this.props.voffset + \"px\")\n",
       "                      .style(\"left\",d3.event.pageX + this.props.hoffset + \"px\");\n",
       "                 }.bind(this))\n",
       "           .on(\"mouseout\",  function(d, i){\n",
       "                           tooltip.style(\"visibility\", \"hidden\");});\n",
       "    };\n",
       "    \n",
       "       mpld3.draw_figure(\"fig_el130471404667005883684001044475\", {\"axes\": [{\"xlim\": [-0.080000000000000002, 0.75827259637925326], \"yscale\": \"linear\", \"axesbg\": \"#FFFFFF\", \"texts\": [{\"v_baseline\": \"central\", \"h_anchor\": \"middle\", \"color\": \"#000000\", \"text\": \"Burglary\", \"coordinates\": \"data\", \"zorder\": 3, \"alpha\": 1, \"fontsize\": 10.0, \"position\": [0.49065778201356736, 0.0], \"rotation\": -0.0, \"id\": \"el13047140466704690448\"}, {\"v_baseline\": \"central\", \"h_anchor\": \"middle\", \"color\": \"#000000\", \"text\": \"MaryCalls\", \"coordinates\": \"data\", \"zorder\": 3, \"alpha\": 1, \"fontsize\": 10.0, \"position\": [0.41421329637500731, 0.9122830548146903], \"rotation\": -0.0, \"id\": \"el13047140466704687440\"}, {\"v_baseline\": \"central\", \"h_anchor\": \"middle\", \"color\": \"#000000\", \"text\": \"Alarm\", \"coordinates\": \"data\", \"zorder\": 3, \"alpha\": 1, \"fontsize\": 10.0, \"position\": [0.068178303961742626, 0.41177525328728831], \"rotation\": -0.0, \"id\": \"el13047140466704688848\"}, {\"v_baseline\": \"central\", \"h_anchor\": \"middle\", \"color\": \"#000000\", \"text\": \"JohnCalls\", \"coordinates\": \"data\", \"zorder\": 3, \"alpha\": 1, \"fontsize\": 10.0, \"position\": [0.6782725963792533, 0.38300035500888385], \"rotation\": -0.0, \"id\": \"el13047140466704651152\"}, {\"v_baseline\": \"central\", \"h_anchor\": \"middle\", \"color\": \"#000000\", \"text\": \"Earthquake\", \"coordinates\": \"data\", \"zorder\": 3, \"alpha\": 1, \"fontsize\": 10.0, \"position\": [0.0, 1.0], \"rotation\": -0.0, \"id\": \"el13047140466704651792\"}], \"zoomable\": true, \"images\": [], \"xdomain\": [-0.080000000000000002, 0.75827259637925326], \"ylim\": [-0.080000000000000002, 1.0800000000000001], \"paths\": [], \"sharey\": [], \"sharex\": [], \"axesbgalpha\": null, \"axes\": [{\"scale\": \"linear\", \"tickformat\": null, \"grid\": {\"gridOn\": false}, \"fontsize\": 10.0, \"position\": \"bottom\", \"nticks\": 10, \"tickvalues\": null}, {\"scale\": \"linear\", \"tickformat\": null, \"grid\": {\"gridOn\": false}, \"fontsize\": 10.0, \"position\": \"left\", \"nticks\": 8, \"tickvalues\": null}], \"lines\": [{\"color\": \"#808080\", \"yindex\": 1, \"coordinates\": \"data\", \"dasharray\": \"10,0\", \"zorder\": 2, \"alpha\": 1, \"xindex\": 0, \"linewidth\": 1.0, \"data\": \"data01\", \"id\": \"el13047140466704315216\"}, {\"color\": \"#000000\", \"yindex\": 1, \"coordinates\": \"data\", \"dasharray\": \"10,0\", \"zorder\": 2, \"alpha\": 0.5, \"xindex\": 0, \"linewidth\": 5.0, \"data\": \"data02\", \"id\": \"el13047140466704315728\"}, {\"color\": \"#808080\", \"yindex\": 1, \"coordinates\": \"data\", \"dasharray\": \"10,0\", \"zorder\": 2, \"alpha\": 1, \"xindex\": 0, \"linewidth\": 1.0, \"data\": \"data03\", \"id\": \"el13047140466704317968\"}, {\"color\": \"#000000\", \"yindex\": 1, \"coordinates\": \"data\", \"dasharray\": \"10,0\", \"zorder\": 2, \"alpha\": 0.5, \"xindex\": 0, \"linewidth\": 5.0, \"data\": \"data04\", \"id\": \"el13047140466704762448\"}, {\"color\": \"#808080\", \"yindex\": 1, \"coordinates\": \"data\", \"dasharray\": \"10,0\", \"zorder\": 2, \"alpha\": 1, \"xindex\": 0, \"linewidth\": 1.0, \"data\": \"data05\", \"id\": \"el13047140466704761808\"}, {\"color\": \"#000000\", \"yindex\": 1, \"coordinates\": \"data\", \"dasharray\": \"10,0\", \"zorder\": 2, \"alpha\": 0.5, \"xindex\": 0, \"linewidth\": 5.0, \"data\": \"data06\", \"id\": \"el13047140466704809680\"}, {\"color\": \"#808080\", \"yindex\": 1, \"coordinates\": \"data\", \"dasharray\": \"10,0\", \"zorder\": 2, \"alpha\": 1, \"xindex\": 0, \"linewidth\": 1.0, \"data\": \"data07\", \"id\": \"el13047140466704808656\"}, {\"color\": \"#000000\", \"yindex\": 1, \"coordinates\": \"data\", \"dasharray\": \"10,0\", \"zorder\": 2, \"alpha\": 0.5, \"xindex\": 0, \"linewidth\": 5.0, \"data\": \"data08\", \"id\": \"el13047140466705166544\"}], \"markers\": [{\"edgecolor\": \"#000000\", \"facecolor\": \"#D3D3D3\", \"edgewidth\": 1, \"yindex\": 1, \"coordinates\": \"data\", \"zorder\": 2, \"markerpath\": [[[0.0, 10.0], [2.652031, 10.0], [5.195798707848534, 8.946336915882418], [7.0710678118654755, 7.0710678118654755], [8.946336915882418, 5.195798707848534], [10.0, 2.652031], [10.0, 0.0], [10.0, -2.652031], [8.946336915882418, -5.195798707848534], [7.0710678118654755, -7.0710678118654755], [5.195798707848534, -8.946336915882418], [2.652031, -10.0], [0.0, -10.0], [-2.652031, -10.0], [-5.195798707848534, -8.946336915882418], [-7.0710678118654755, -7.0710678118654755], [-8.946336915882418, -5.195798707848534], [-10.0, -2.652031], [-10.0, 0.0], [-10.0, 2.652031], [-8.946336915882418, 5.195798707848534], [-7.0710678118654755, 7.0710678118654755], [-5.195798707848534, 8.946336915882418], [-2.652031, 10.0], [0.0, 10.0]], [\"M\", \"C\", \"C\", \"C\", \"C\", \"C\", \"C\", \"C\", \"C\", \"Z\"]], \"alpha\": 1.0, \"xindex\": 0, \"data\": \"data09\", \"id\": \"el13047140466704315024pts\"}, {\"edgecolor\": \"#000000\", \"facecolor\": \"#D3D3D3\", \"edgewidth\": 1, \"yindex\": 1, \"coordinates\": \"data\", \"zorder\": 2, \"markerpath\": [[[0.0, 20.0], [5.304062, 20.0], [10.391597415697069, 17.892673831764835], [14.142135623730951, 14.142135623730951], [17.892673831764835, 10.391597415697069], [20.0, 5.304062], [20.0, 0.0], [20.0, -5.304062], [17.892673831764835, -10.391597415697069], [14.142135623730951, -14.142135623730951], [10.391597415697069, -17.892673831764835], [5.304062, -20.0], [0.0, -20.0], [-5.304062, -20.0], [-10.391597415697069, -17.892673831764835], [-14.142135623730951, -14.142135623730951], [-17.892673831764835, -10.391597415697069], [-20.0, -5.304062], [-20.0, 0.0], [-20.0, 5.304062], [-17.892673831764835, 10.391597415697069], [-14.142135623730951, 14.142135623730951], [-10.391597415697069, 17.892673831764835], [-5.304062, 20.0], [0.0, 20.0]], [\"M\", \"C\", \"C\", \"C\", \"C\", \"C\", \"C\", \"C\", \"C\", \"Z\"]], \"alpha\": 0.0, \"xindex\": 0, \"data\": \"data09\", \"id\": \"el13047140466704653200pts\"}], \"id\": \"el13047140466700590608\", \"ydomain\": [-0.080000000000000002, 1.0800000000000001], \"collections\": [], \"xscale\": \"linear\", \"bbox\": [0.125, 0.125, 0.77500000000000002, 0.77500000000000002]}], \"height\": 640.0, \"width\": 960.0, \"plugins\": [{\"type\": \"reset\"}, {\"enabled\": false, \"button\": true, \"type\": \"zoom\"}, {\"enabled\": false, \"button\": true, \"type\": \"boxzoom\"}, {\"voffset\": 10, \"labels\": [], \"type\": \"htmltooltip\", \"id\": \"el13047140466704653200pts\", \"hoffset\": 10}], \"data\": {\"data08\": [[0.05795155836748123, 0.500008965294195], [0.06817830396174263, 0.4117752532872883]], \"data09\": [[0.49065778201356736, 0.0], [0.4142132963750073, 0.9122830548146903], [0.06817830396174263, 0.4117752532872883], [0.6782725963792533, 0.38300035500888385], [0.0, 1.0]], \"data06\": [[0.5867584525166267, 0.38731658975064454], [0.6782725963792533, 0.38300035500888385]], \"data07\": [[0.0, 1.0], [0.06817830396174263, 0.4117752532872883]], \"data04\": [[0.3623080475130176, 0.83720688458558], [0.4142132963750073, 0.9122830548146903]], \"data05\": [[0.06817830396174263, 0.4117752532872883], [0.6782725963792533, 0.38300035500888385]], \"data02\": [[0.13155022566951635, 0.35000896529419506], [0.06817830396174263, 0.4117752532872883]], \"data03\": [[0.06817830396174263, 0.4117752532872883], [0.4142132963750073, 0.9122830548146903]], \"data01\": [[0.49065778201356736, 0.0], [0.06817830396174263, 0.4117752532872883]]}, \"id\": \"el13047140466700588368\"});\n",
       "   }(mpld3);\n",
       "}else if(typeof define === \"function\" && define.amd){\n",
       "   // require.js is available: use it to load d3/mpld3\n",
       "   require.config({paths: {d3: \"https://mpld3.github.io/js/d3.v3.min\"}});\n",
       "   require([\"d3\"], function(d3){\n",
       "      window.d3 = d3;\n",
       "      mpld3_load_lib(\"https://mpld3.github.io/js/mpld3.v0.2.js\", function(){\n",
       "         \n",
       "    mpld3.register_plugin(\"htmltooltip\", HtmlTooltipPlugin);\n",
       "    HtmlTooltipPlugin.prototype = Object.create(mpld3.Plugin.prototype);\n",
       "    HtmlTooltipPlugin.prototype.constructor = HtmlTooltipPlugin;\n",
       "    HtmlTooltipPlugin.prototype.requiredProps = [\"id\"];\n",
       "    HtmlTooltipPlugin.prototype.defaultProps = {labels:null, hoffset:0, voffset:10};\n",
       "    function HtmlTooltipPlugin(fig, props){\n",
       "        mpld3.Plugin.call(this, fig, props);\n",
       "    };\n",
       "\n",
       "    HtmlTooltipPlugin.prototype.draw = function(){\n",
       "       var obj = mpld3.get_element(this.props.id);\n",
       "       var labels = this.props.labels;\n",
       "       var tooltip = d3.select(\"body\").append(\"div\")\n",
       "                    .attr(\"class\", \"mpld3-tooltip\")\n",
       "                    .style(\"position\", \"absolute\")\n",
       "                    .style(\"z-index\", \"10\")\n",
       "                    .style(\"visibility\", \"hidden\");\n",
       "\n",
       "       obj.elements()\n",
       "           .on(\"mouseover\", function(d, i){\n",
       "                              tooltip.html(labels[i])\n",
       "                                     .style(\"visibility\", \"visible\");})\n",
       "           .on(\"mousemove\", function(d, i){\n",
       "                    tooltip\n",
       "                      .style(\"top\", d3.event.pageY + this.props.voffset + \"px\")\n",
       "                      .style(\"left\",d3.event.pageX + this.props.hoffset + \"px\");\n",
       "                 }.bind(this))\n",
       "           .on(\"mouseout\",  function(d, i){\n",
       "                           tooltip.style(\"visibility\", \"hidden\");});\n",
       "    };\n",
       "    \n",
       "         mpld3.draw_figure(\"fig_el130471404667005883684001044475\", {\"axes\": [{\"xlim\": [-0.080000000000000002, 0.75827259637925326], \"yscale\": \"linear\", \"axesbg\": \"#FFFFFF\", \"texts\": [{\"v_baseline\": \"central\", \"h_anchor\": \"middle\", \"color\": \"#000000\", \"text\": \"Burglary\", \"coordinates\": \"data\", \"zorder\": 3, \"alpha\": 1, \"fontsize\": 10.0, \"position\": [0.49065778201356736, 0.0], \"rotation\": -0.0, \"id\": \"el13047140466704690448\"}, {\"v_baseline\": \"central\", \"h_anchor\": \"middle\", \"color\": \"#000000\", \"text\": \"MaryCalls\", \"coordinates\": \"data\", \"zorder\": 3, \"alpha\": 1, \"fontsize\": 10.0, \"position\": [0.41421329637500731, 0.9122830548146903], \"rotation\": -0.0, \"id\": \"el13047140466704687440\"}, {\"v_baseline\": \"central\", \"h_anchor\": \"middle\", \"color\": \"#000000\", \"text\": \"Alarm\", \"coordinates\": \"data\", \"zorder\": 3, \"alpha\": 1, \"fontsize\": 10.0, \"position\": [0.068178303961742626, 0.41177525328728831], \"rotation\": -0.0, \"id\": \"el13047140466704688848\"}, {\"v_baseline\": \"central\", \"h_anchor\": \"middle\", \"color\": \"#000000\", \"text\": \"JohnCalls\", \"coordinates\": \"data\", \"zorder\": 3, \"alpha\": 1, \"fontsize\": 10.0, \"position\": [0.6782725963792533, 0.38300035500888385], \"rotation\": -0.0, \"id\": \"el13047140466704651152\"}, {\"v_baseline\": \"central\", \"h_anchor\": \"middle\", \"color\": \"#000000\", \"text\": \"Earthquake\", \"coordinates\": \"data\", \"zorder\": 3, \"alpha\": 1, \"fontsize\": 10.0, \"position\": [0.0, 1.0], \"rotation\": -0.0, \"id\": \"el13047140466704651792\"}], \"zoomable\": true, \"images\": [], \"xdomain\": [-0.080000000000000002, 0.75827259637925326], \"ylim\": [-0.080000000000000002, 1.0800000000000001], \"paths\": [], \"sharey\": [], \"sharex\": [], \"axesbgalpha\": null, \"axes\": [{\"scale\": \"linear\", \"tickformat\": null, \"grid\": {\"gridOn\": false}, \"fontsize\": 10.0, \"position\": \"bottom\", \"nticks\": 10, \"tickvalues\": null}, {\"scale\": \"linear\", \"tickformat\": null, \"grid\": {\"gridOn\": false}, \"fontsize\": 10.0, \"position\": \"left\", \"nticks\": 8, \"tickvalues\": null}], \"lines\": [{\"color\": \"#808080\", \"yindex\": 1, \"coordinates\": \"data\", \"dasharray\": \"10,0\", \"zorder\": 2, \"alpha\": 1, \"xindex\": 0, \"linewidth\": 1.0, \"data\": \"data01\", \"id\": \"el13047140466704315216\"}, {\"color\": \"#000000\", \"yindex\": 1, \"coordinates\": \"data\", \"dasharray\": \"10,0\", \"zorder\": 2, \"alpha\": 0.5, \"xindex\": 0, \"linewidth\": 5.0, \"data\": \"data02\", \"id\": \"el13047140466704315728\"}, {\"color\": \"#808080\", \"yindex\": 1, \"coordinates\": \"data\", \"dasharray\": \"10,0\", \"zorder\": 2, \"alpha\": 1, \"xindex\": 0, \"linewidth\": 1.0, \"data\": \"data03\", \"id\": \"el13047140466704317968\"}, {\"color\": \"#000000\", \"yindex\": 1, \"coordinates\": \"data\", \"dasharray\": \"10,0\", \"zorder\": 2, \"alpha\": 0.5, \"xindex\": 0, \"linewidth\": 5.0, \"data\": \"data04\", \"id\": \"el13047140466704762448\"}, {\"color\": \"#808080\", \"yindex\": 1, \"coordinates\": \"data\", \"dasharray\": \"10,0\", \"zorder\": 2, \"alpha\": 1, \"xindex\": 0, \"linewidth\": 1.0, \"data\": \"data05\", \"id\": \"el13047140466704761808\"}, {\"color\": \"#000000\", \"yindex\": 1, \"coordinates\": \"data\", \"dasharray\": \"10,0\", \"zorder\": 2, \"alpha\": 0.5, \"xindex\": 0, \"linewidth\": 5.0, \"data\": \"data06\", \"id\": \"el13047140466704809680\"}, {\"color\": \"#808080\", \"yindex\": 1, \"coordinates\": \"data\", \"dasharray\": \"10,0\", \"zorder\": 2, \"alpha\": 1, \"xindex\": 0, \"linewidth\": 1.0, \"data\": \"data07\", \"id\": \"el13047140466704808656\"}, {\"color\": \"#000000\", \"yindex\": 1, \"coordinates\": \"data\", \"dasharray\": \"10,0\", \"zorder\": 2, \"alpha\": 0.5, \"xindex\": 0, \"linewidth\": 5.0, \"data\": \"data08\", \"id\": \"el13047140466705166544\"}], \"markers\": [{\"edgecolor\": \"#000000\", \"facecolor\": \"#D3D3D3\", \"edgewidth\": 1, \"yindex\": 1, \"coordinates\": \"data\", \"zorder\": 2, \"markerpath\": [[[0.0, 10.0], [2.652031, 10.0], [5.195798707848534, 8.946336915882418], [7.0710678118654755, 7.0710678118654755], [8.946336915882418, 5.195798707848534], [10.0, 2.652031], [10.0, 0.0], [10.0, -2.652031], [8.946336915882418, -5.195798707848534], [7.0710678118654755, -7.0710678118654755], [5.195798707848534, -8.946336915882418], [2.652031, -10.0], [0.0, -10.0], [-2.652031, -10.0], [-5.195798707848534, -8.946336915882418], [-7.0710678118654755, -7.0710678118654755], [-8.946336915882418, -5.195798707848534], [-10.0, -2.652031], [-10.0, 0.0], [-10.0, 2.652031], [-8.946336915882418, 5.195798707848534], [-7.0710678118654755, 7.0710678118654755], [-5.195798707848534, 8.946336915882418], [-2.652031, 10.0], [0.0, 10.0]], [\"M\", \"C\", \"C\", \"C\", \"C\", \"C\", \"C\", \"C\", \"C\", \"Z\"]], \"alpha\": 1.0, \"xindex\": 0, \"data\": \"data09\", \"id\": \"el13047140466704315024pts\"}, {\"edgecolor\": \"#000000\", \"facecolor\": \"#D3D3D3\", \"edgewidth\": 1, \"yindex\": 1, \"coordinates\": \"data\", \"zorder\": 2, \"markerpath\": [[[0.0, 20.0], [5.304062, 20.0], [10.391597415697069, 17.892673831764835], [14.142135623730951, 14.142135623730951], [17.892673831764835, 10.391597415697069], [20.0, 5.304062], [20.0, 0.0], [20.0, -5.304062], [17.892673831764835, -10.391597415697069], [14.142135623730951, -14.142135623730951], [10.391597415697069, -17.892673831764835], [5.304062, -20.0], [0.0, -20.0], [-5.304062, -20.0], [-10.391597415697069, -17.892673831764835], [-14.142135623730951, -14.142135623730951], [-17.892673831764835, -10.391597415697069], [-20.0, -5.304062], [-20.0, 0.0], [-20.0, 5.304062], [-17.892673831764835, 10.391597415697069], [-14.142135623730951, 14.142135623730951], [-10.391597415697069, 17.892673831764835], [-5.304062, 20.0], [0.0, 20.0]], [\"M\", \"C\", \"C\", \"C\", \"C\", \"C\", \"C\", \"C\", \"C\", \"Z\"]], \"alpha\": 0.0, \"xindex\": 0, \"data\": \"data09\", \"id\": \"el13047140466704653200pts\"}], \"id\": \"el13047140466700590608\", \"ydomain\": [-0.080000000000000002, 1.0800000000000001], \"collections\": [], \"xscale\": \"linear\", \"bbox\": [0.125, 0.125, 0.77500000000000002, 0.77500000000000002]}], \"height\": 640.0, \"width\": 960.0, \"plugins\": [{\"type\": \"reset\"}, {\"enabled\": false, \"button\": true, \"type\": \"zoom\"}, {\"enabled\": false, \"button\": true, \"type\": \"boxzoom\"}, {\"voffset\": 10, \"labels\": [], \"type\": \"htmltooltip\", \"id\": \"el13047140466704653200pts\", \"hoffset\": 10}], \"data\": {\"data08\": [[0.05795155836748123, 0.500008965294195], [0.06817830396174263, 0.4117752532872883]], \"data09\": [[0.49065778201356736, 0.0], [0.4142132963750073, 0.9122830548146903], [0.06817830396174263, 0.4117752532872883], [0.6782725963792533, 0.38300035500888385], [0.0, 1.0]], \"data06\": [[0.5867584525166267, 0.38731658975064454], [0.6782725963792533, 0.38300035500888385]], \"data07\": [[0.0, 1.0], [0.06817830396174263, 0.4117752532872883]], \"data04\": [[0.3623080475130176, 0.83720688458558], [0.4142132963750073, 0.9122830548146903]], \"data05\": [[0.06817830396174263, 0.4117752532872883], [0.6782725963792533, 0.38300035500888385]], \"data02\": [[0.13155022566951635, 0.35000896529419506], [0.06817830396174263, 0.4117752532872883]], \"data03\": [[0.06817830396174263, 0.4117752532872883], [0.4142132963750073, 0.9122830548146903]], \"data01\": [[0.49065778201356736, 0.0], [0.06817830396174263, 0.4117752532872883]]}, \"id\": \"el13047140466700588368\"});\n",
       "      });\n",
       "    });\n",
       "}else{\n",
       "    // require.js not available: dynamically load d3 & mpld3\n",
       "    mpld3_load_lib(\"https://mpld3.github.io/js/d3.v3.min.js\", function(){\n",
       "         mpld3_load_lib(\"https://mpld3.github.io/js/mpld3.v0.2.js\", function(){\n",
       "                 \n",
       "    mpld3.register_plugin(\"htmltooltip\", HtmlTooltipPlugin);\n",
       "    HtmlTooltipPlugin.prototype = Object.create(mpld3.Plugin.prototype);\n",
       "    HtmlTooltipPlugin.prototype.constructor = HtmlTooltipPlugin;\n",
       "    HtmlTooltipPlugin.prototype.requiredProps = [\"id\"];\n",
       "    HtmlTooltipPlugin.prototype.defaultProps = {labels:null, hoffset:0, voffset:10};\n",
       "    function HtmlTooltipPlugin(fig, props){\n",
       "        mpld3.Plugin.call(this, fig, props);\n",
       "    };\n",
       "\n",
       "    HtmlTooltipPlugin.prototype.draw = function(){\n",
       "       var obj = mpld3.get_element(this.props.id);\n",
       "       var labels = this.props.labels;\n",
       "       var tooltip = d3.select(\"body\").append(\"div\")\n",
       "                    .attr(\"class\", \"mpld3-tooltip\")\n",
       "                    .style(\"position\", \"absolute\")\n",
       "                    .style(\"z-index\", \"10\")\n",
       "                    .style(\"visibility\", \"hidden\");\n",
       "\n",
       "       obj.elements()\n",
       "           .on(\"mouseover\", function(d, i){\n",
       "                              tooltip.html(labels[i])\n",
       "                                     .style(\"visibility\", \"visible\");})\n",
       "           .on(\"mousemove\", function(d, i){\n",
       "                    tooltip\n",
       "                      .style(\"top\", d3.event.pageY + this.props.voffset + \"px\")\n",
       "                      .style(\"left\",d3.event.pageX + this.props.hoffset + \"px\");\n",
       "                 }.bind(this))\n",
       "           .on(\"mouseout\",  function(d, i){\n",
       "                           tooltip.style(\"visibility\", \"hidden\");});\n",
       "    };\n",
       "    \n",
       "                 mpld3.draw_figure(\"fig_el130471404667005883684001044475\", {\"axes\": [{\"xlim\": [-0.080000000000000002, 0.75827259637925326], \"yscale\": \"linear\", \"axesbg\": \"#FFFFFF\", \"texts\": [{\"v_baseline\": \"central\", \"h_anchor\": \"middle\", \"color\": \"#000000\", \"text\": \"Burglary\", \"coordinates\": \"data\", \"zorder\": 3, \"alpha\": 1, \"fontsize\": 10.0, \"position\": [0.49065778201356736, 0.0], \"rotation\": -0.0, \"id\": \"el13047140466704690448\"}, {\"v_baseline\": \"central\", \"h_anchor\": \"middle\", \"color\": \"#000000\", \"text\": \"MaryCalls\", \"coordinates\": \"data\", \"zorder\": 3, \"alpha\": 1, \"fontsize\": 10.0, \"position\": [0.41421329637500731, 0.9122830548146903], \"rotation\": -0.0, \"id\": \"el13047140466704687440\"}, {\"v_baseline\": \"central\", \"h_anchor\": \"middle\", \"color\": \"#000000\", \"text\": \"Alarm\", \"coordinates\": \"data\", \"zorder\": 3, \"alpha\": 1, \"fontsize\": 10.0, \"position\": [0.068178303961742626, 0.41177525328728831], \"rotation\": -0.0, \"id\": \"el13047140466704688848\"}, {\"v_baseline\": \"central\", \"h_anchor\": \"middle\", \"color\": \"#000000\", \"text\": \"JohnCalls\", \"coordinates\": \"data\", \"zorder\": 3, \"alpha\": 1, \"fontsize\": 10.0, \"position\": [0.6782725963792533, 0.38300035500888385], \"rotation\": -0.0, \"id\": \"el13047140466704651152\"}, {\"v_baseline\": \"central\", \"h_anchor\": \"middle\", \"color\": \"#000000\", \"text\": \"Earthquake\", \"coordinates\": \"data\", \"zorder\": 3, \"alpha\": 1, \"fontsize\": 10.0, \"position\": [0.0, 1.0], \"rotation\": -0.0, \"id\": \"el13047140466704651792\"}], \"zoomable\": true, \"images\": [], \"xdomain\": [-0.080000000000000002, 0.75827259637925326], \"ylim\": [-0.080000000000000002, 1.0800000000000001], \"paths\": [], \"sharey\": [], \"sharex\": [], \"axesbgalpha\": null, \"axes\": [{\"scale\": \"linear\", \"tickformat\": null, \"grid\": {\"gridOn\": false}, \"fontsize\": 10.0, \"position\": \"bottom\", \"nticks\": 10, \"tickvalues\": null}, {\"scale\": \"linear\", \"tickformat\": null, \"grid\": {\"gridOn\": false}, \"fontsize\": 10.0, \"position\": \"left\", \"nticks\": 8, \"tickvalues\": null}], \"lines\": [{\"color\": \"#808080\", \"yindex\": 1, \"coordinates\": \"data\", \"dasharray\": \"10,0\", \"zorder\": 2, \"alpha\": 1, \"xindex\": 0, \"linewidth\": 1.0, \"data\": \"data01\", \"id\": \"el13047140466704315216\"}, {\"color\": \"#000000\", \"yindex\": 1, \"coordinates\": \"data\", \"dasharray\": \"10,0\", \"zorder\": 2, \"alpha\": 0.5, \"xindex\": 0, \"linewidth\": 5.0, \"data\": \"data02\", \"id\": \"el13047140466704315728\"}, {\"color\": \"#808080\", \"yindex\": 1, \"coordinates\": \"data\", \"dasharray\": \"10,0\", \"zorder\": 2, \"alpha\": 1, \"xindex\": 0, \"linewidth\": 1.0, \"data\": \"data03\", \"id\": \"el13047140466704317968\"}, {\"color\": \"#000000\", \"yindex\": 1, \"coordinates\": \"data\", \"dasharray\": \"10,0\", \"zorder\": 2, \"alpha\": 0.5, \"xindex\": 0, \"linewidth\": 5.0, \"data\": \"data04\", \"id\": \"el13047140466704762448\"}, {\"color\": \"#808080\", \"yindex\": 1, \"coordinates\": \"data\", \"dasharray\": \"10,0\", \"zorder\": 2, \"alpha\": 1, \"xindex\": 0, \"linewidth\": 1.0, \"data\": \"data05\", \"id\": \"el13047140466704761808\"}, {\"color\": \"#000000\", \"yindex\": 1, \"coordinates\": \"data\", \"dasharray\": \"10,0\", \"zorder\": 2, \"alpha\": 0.5, \"xindex\": 0, \"linewidth\": 5.0, \"data\": \"data06\", \"id\": \"el13047140466704809680\"}, {\"color\": \"#808080\", \"yindex\": 1, \"coordinates\": \"data\", \"dasharray\": \"10,0\", \"zorder\": 2, \"alpha\": 1, \"xindex\": 0, \"linewidth\": 1.0, \"data\": \"data07\", \"id\": \"el13047140466704808656\"}, {\"color\": \"#000000\", \"yindex\": 1, \"coordinates\": \"data\", \"dasharray\": \"10,0\", \"zorder\": 2, \"alpha\": 0.5, \"xindex\": 0, \"linewidth\": 5.0, \"data\": \"data08\", \"id\": \"el13047140466705166544\"}], \"markers\": [{\"edgecolor\": \"#000000\", \"facecolor\": \"#D3D3D3\", \"edgewidth\": 1, \"yindex\": 1, \"coordinates\": \"data\", \"zorder\": 2, \"markerpath\": [[[0.0, 10.0], [2.652031, 10.0], [5.195798707848534, 8.946336915882418], [7.0710678118654755, 7.0710678118654755], [8.946336915882418, 5.195798707848534], [10.0, 2.652031], [10.0, 0.0], [10.0, -2.652031], [8.946336915882418, -5.195798707848534], [7.0710678118654755, -7.0710678118654755], [5.195798707848534, -8.946336915882418], [2.652031, -10.0], [0.0, -10.0], [-2.652031, -10.0], [-5.195798707848534, -8.946336915882418], [-7.0710678118654755, -7.0710678118654755], [-8.946336915882418, -5.195798707848534], [-10.0, -2.652031], [-10.0, 0.0], [-10.0, 2.652031], [-8.946336915882418, 5.195798707848534], [-7.0710678118654755, 7.0710678118654755], [-5.195798707848534, 8.946336915882418], [-2.652031, 10.0], [0.0, 10.0]], [\"M\", \"C\", \"C\", \"C\", \"C\", \"C\", \"C\", \"C\", \"C\", \"Z\"]], \"alpha\": 1.0, \"xindex\": 0, \"data\": \"data09\", \"id\": \"el13047140466704315024pts\"}, {\"edgecolor\": \"#000000\", \"facecolor\": \"#D3D3D3\", \"edgewidth\": 1, \"yindex\": 1, \"coordinates\": \"data\", \"zorder\": 2, \"markerpath\": [[[0.0, 20.0], [5.304062, 20.0], [10.391597415697069, 17.892673831764835], [14.142135623730951, 14.142135623730951], [17.892673831764835, 10.391597415697069], [20.0, 5.304062], [20.0, 0.0], [20.0, -5.304062], [17.892673831764835, -10.391597415697069], [14.142135623730951, -14.142135623730951], [10.391597415697069, -17.892673831764835], [5.304062, -20.0], [0.0, -20.0], [-5.304062, -20.0], [-10.391597415697069, -17.892673831764835], [-14.142135623730951, -14.142135623730951], [-17.892673831764835, -10.391597415697069], [-20.0, -5.304062], [-20.0, 0.0], [-20.0, 5.304062], [-17.892673831764835, 10.391597415697069], [-14.142135623730951, 14.142135623730951], [-10.391597415697069, 17.892673831764835], [-5.304062, 20.0], [0.0, 20.0]], [\"M\", \"C\", \"C\", \"C\", \"C\", \"C\", \"C\", \"C\", \"C\", \"Z\"]], \"alpha\": 0.0, \"xindex\": 0, \"data\": \"data09\", \"id\": \"el13047140466704653200pts\"}], \"id\": \"el13047140466700590608\", \"ydomain\": [-0.080000000000000002, 1.0800000000000001], \"collections\": [], \"xscale\": \"linear\", \"bbox\": [0.125, 0.125, 0.77500000000000002, 0.77500000000000002]}], \"height\": 640.0, \"width\": 960.0, \"plugins\": [{\"type\": \"reset\"}, {\"enabled\": false, \"button\": true, \"type\": \"zoom\"}, {\"enabled\": false, \"button\": true, \"type\": \"boxzoom\"}, {\"voffset\": 10, \"labels\": [], \"type\": \"htmltooltip\", \"id\": \"el13047140466704653200pts\", \"hoffset\": 10}], \"data\": {\"data08\": [[0.05795155836748123, 0.500008965294195], [0.06817830396174263, 0.4117752532872883]], \"data09\": [[0.49065778201356736, 0.0], [0.4142132963750073, 0.9122830548146903], [0.06817830396174263, 0.4117752532872883], [0.6782725963792533, 0.38300035500888385], [0.0, 1.0]], \"data06\": [[0.5867584525166267, 0.38731658975064454], [0.6782725963792533, 0.38300035500888385]], \"data07\": [[0.0, 1.0], [0.06817830396174263, 0.4117752532872883]], \"data04\": [[0.3623080475130176, 0.83720688458558], [0.4142132963750073, 0.9122830548146903]], \"data05\": [[0.06817830396174263, 0.4117752532872883], [0.6782725963792533, 0.38300035500888385]], \"data02\": [[0.13155022566951635, 0.35000896529419506], [0.06817830396174263, 0.4117752532872883]], \"data03\": [[0.06817830396174263, 0.4117752532872883], [0.4142132963750073, 0.9122830548146903]], \"data01\": [[0.49065778201356736, 0.0], [0.06817830396174263, 0.4117752532872883]]}, \"id\": \"el13047140466700588368\"});\n",
       "            })\n",
       "         });\n",
       "}\n",
       "</script>"
      ],
      "text/plain": [
       "<IPython.core.display.HTML object>"
      ]
     },
     "execution_count": 143,
     "metadata": {},
     "output_type": "execute_result"
    }
   ],
   "source": [
    "mxg.draw()"
   ]
  },
  {
   "cell_type": "code",
   "execution_count": 144,
   "metadata": {
    "collapsed": false
   },
   "outputs": [
    {
     "data": {
      "text/plain": [
       "['Burglary', 'MaryCalls', 'Alarm', 'JohnCalls', 'Earthquake']"
      ]
     },
     "execution_count": 144,
     "metadata": {},
     "output_type": "execute_result"
    }
   ],
   "source": [
    "mxg.names"
   ]
  },
  {
   "cell_type": "code",
   "execution_count": 145,
   "metadata": {
    "collapsed": false
   },
   "outputs": [
    {
     "data": {
      "text/plain": [
       "-26.398795090964995"
      ]
     },
     "execution_count": 145,
     "metadata": {},
     "output_type": "execute_result"
    }
   ],
   "source": [
    "op = AddEdge(mxg, score, 0, 3)\n",
    "op.score"
   ]
  },
  {
   "cell_type": "code",
   "execution_count": 146,
   "metadata": {
    "collapsed": false
   },
   "outputs": [
    {
     "data": {
      "text/html": [
       "\n",
       "\n",
       "<style>\n",
       "\n",
       "table\n",
       "{\n",
       "  border-collapse: collapse;\n",
       "}\n",
       "th\n",
       "{\n",
       "  color: #ffffff;\n",
       "  background-color: #000000;\n",
       "}\n",
       "td\n",
       "{\n",
       "  background-color: #cccccc;\n",
       "}\n",
       "table, th, td\n",
       "{\n",
       "  font-family:Arial, Helvetica, sans-serif;\n",
       "  border: 1px solid black;\n",
       "  text-align: center;\n",
       "  padding: 3px;\n",
       "  font-size:11pt;\n",
       "}\n",
       "g.mpld3-xaxis, g.mpld3-yaxis {\n",
       "    display: none;\n",
       "}\n",
       "    \n",
       "</style>\n",
       "\n",
       "<div id=\"fig_el130471404667058366248005973894\"></div>\n",
       "<script>\n",
       "function mpld3_load_lib(url, callback){\n",
       "  var s = document.createElement('script');\n",
       "  s.src = url;\n",
       "  s.async = true;\n",
       "  s.onreadystatechange = s.onload = callback;\n",
       "  s.onerror = function(){console.warn(\"failed to load library \" + url);};\n",
       "  document.getElementsByTagName(\"head\")[0].appendChild(s);\n",
       "}\n",
       "\n",
       "if(typeof(mpld3) !== \"undefined\" && mpld3._mpld3IsLoaded){\n",
       "   // already loaded: just create the figure\n",
       "   !function(mpld3){\n",
       "       \n",
       "    mpld3.register_plugin(\"htmltooltip\", HtmlTooltipPlugin);\n",
       "    HtmlTooltipPlugin.prototype = Object.create(mpld3.Plugin.prototype);\n",
       "    HtmlTooltipPlugin.prototype.constructor = HtmlTooltipPlugin;\n",
       "    HtmlTooltipPlugin.prototype.requiredProps = [\"id\"];\n",
       "    HtmlTooltipPlugin.prototype.defaultProps = {labels:null, hoffset:0, voffset:10};\n",
       "    function HtmlTooltipPlugin(fig, props){\n",
       "        mpld3.Plugin.call(this, fig, props);\n",
       "    };\n",
       "\n",
       "    HtmlTooltipPlugin.prototype.draw = function(){\n",
       "       var obj = mpld3.get_element(this.props.id);\n",
       "       var labels = this.props.labels;\n",
       "       var tooltip = d3.select(\"body\").append(\"div\")\n",
       "                    .attr(\"class\", \"mpld3-tooltip\")\n",
       "                    .style(\"position\", \"absolute\")\n",
       "                    .style(\"z-index\", \"10\")\n",
       "                    .style(\"visibility\", \"hidden\");\n",
       "\n",
       "       obj.elements()\n",
       "           .on(\"mouseover\", function(d, i){\n",
       "                              tooltip.html(labels[i])\n",
       "                                     .style(\"visibility\", \"visible\");})\n",
       "           .on(\"mousemove\", function(d, i){\n",
       "                    tooltip\n",
       "                      .style(\"top\", d3.event.pageY + this.props.voffset + \"px\")\n",
       "                      .style(\"left\",d3.event.pageX + this.props.hoffset + \"px\");\n",
       "                 }.bind(this))\n",
       "           .on(\"mouseout\",  function(d, i){\n",
       "                           tooltip.style(\"visibility\", \"hidden\");});\n",
       "    };\n",
       "    \n",
       "       mpld3.draw_figure(\"fig_el130471404667058366248005973894\", {\"axes\": [{\"xlim\": [-0.080000000000000002, 0.84210821933227964], \"yscale\": \"linear\", \"axesbg\": \"#FFFFFF\", \"texts\": [{\"v_baseline\": \"central\", \"h_anchor\": \"middle\", \"color\": \"#000000\", \"text\": \"Burglary\", \"coordinates\": \"data\", \"zorder\": 3, \"alpha\": 1, \"fontsize\": 10.0, \"position\": [0.30886644927000156, 0.94764583687292692], \"rotation\": -0.0, \"id\": \"el13047140466707536848\"}, {\"v_baseline\": \"central\", \"h_anchor\": \"middle\", \"color\": \"#000000\", \"text\": \"MaryCalls\", \"coordinates\": \"data\", \"zorder\": 3, \"alpha\": 1, \"fontsize\": 10.0, \"position\": [0.76210821933227968, 1.0], \"rotation\": -0.0, \"id\": \"el13047140466707534608\"}, {\"v_baseline\": \"central\", \"h_anchor\": \"middle\", \"color\": \"#000000\", \"text\": \"Alarm\", \"coordinates\": \"data\", \"zorder\": 3, \"alpha\": 1, \"fontsize\": 10.0, \"position\": [0.45849823301965786, 0.54200971359958594], \"rotation\": -0.0, \"id\": \"el13047140466707535824\"}, {\"v_baseline\": \"central\", \"h_anchor\": \"middle\", \"color\": \"#000000\", \"text\": \"JohnCalls\", \"coordinates\": \"data\", \"zorder\": 3, \"alpha\": 1, \"fontsize\": 10.0, \"position\": [0.75190495710495986, 0.0], \"rotation\": -0.0, \"id\": \"el13047140466710398480\"}, {\"v_baseline\": \"central\", \"h_anchor\": \"middle\", \"color\": \"#000000\", \"text\": \"Earthquake\", \"coordinates\": \"data\", \"zorder\": 3, \"alpha\": 1, \"fontsize\": 10.0, \"position\": [0.0, 0.6025716466891472], \"rotation\": -0.0, \"id\": \"el13047140466710398288\"}], \"zoomable\": true, \"images\": [], \"xdomain\": [-0.080000000000000002, 0.84210821933227964], \"ylim\": [-0.080000000000000002, 1.0800000000000001], \"paths\": [], \"sharey\": [], \"sharex\": [], \"axesbgalpha\": null, \"axes\": [{\"scale\": \"linear\", \"tickformat\": null, \"grid\": {\"gridOn\": false}, \"fontsize\": 10.0, \"position\": \"bottom\", \"nticks\": 7, \"tickvalues\": null}, {\"scale\": \"linear\", \"tickformat\": null, \"grid\": {\"gridOn\": false}, \"fontsize\": 10.0, \"position\": \"left\", \"nticks\": 8, \"tickvalues\": null}], \"lines\": [{\"color\": \"#808080\", \"yindex\": 1, \"coordinates\": \"data\", \"dasharray\": \"10,0\", \"zorder\": 2, \"alpha\": 1, \"xindex\": 0, \"linewidth\": 1.0, \"data\": \"data01\", \"id\": \"el13047140466710473872\"}, {\"color\": \"#000000\", \"yindex\": 1, \"coordinates\": \"data\", \"dasharray\": \"10,0\", \"zorder\": 2, \"alpha\": 0.5, \"xindex\": 0, \"linewidth\": 5.0, \"data\": \"data02\", \"id\": \"el13047140466710473040\"}, {\"color\": \"#808080\", \"yindex\": 1, \"coordinates\": \"data\", \"dasharray\": \"10,0\", \"zorder\": 2, \"alpha\": 1, \"xindex\": 0, \"linewidth\": 1.0, \"data\": \"data03\", \"id\": \"el13047140466710933776\"}, {\"color\": \"#000000\", \"yindex\": 1, \"coordinates\": \"data\", \"dasharray\": \"10,0\", \"zorder\": 2, \"alpha\": 0.5, \"xindex\": 0, \"linewidth\": 5.0, \"data\": \"data04\", \"id\": \"el13047140466710935696\"}, {\"color\": \"#808080\", \"yindex\": 1, \"coordinates\": \"data\", \"dasharray\": \"10,0\", \"zorder\": 2, \"alpha\": 1, \"xindex\": 0, \"linewidth\": 1.0, \"data\": \"data05\", \"id\": \"el13047140466710934736\"}, {\"color\": \"#000000\", \"yindex\": 1, \"coordinates\": \"data\", \"dasharray\": \"10,0\", \"zorder\": 2, \"alpha\": 0.5, \"xindex\": 0, \"linewidth\": 5.0, \"data\": \"data06\", \"id\": \"el13047140466707563920\"}, {\"color\": \"#808080\", \"yindex\": 1, \"coordinates\": \"data\", \"dasharray\": \"10,0\", \"zorder\": 2, \"alpha\": 1, \"xindex\": 0, \"linewidth\": 1.0, \"data\": \"data07\", \"id\": \"el13047140466707576528\"}, {\"color\": \"#000000\", \"yindex\": 1, \"coordinates\": \"data\", \"dasharray\": \"10,0\", \"zorder\": 2, \"alpha\": 0.5, \"xindex\": 0, \"linewidth\": 5.0, \"data\": \"data08\", \"id\": \"el13047140466707575504\"}, {\"color\": \"#808080\", \"yindex\": 1, \"coordinates\": \"data\", \"dasharray\": \"10,0\", \"zorder\": 2, \"alpha\": 1, \"xindex\": 0, \"linewidth\": 1.0, \"data\": \"data09\", \"id\": \"el13047140466707578512\"}, {\"color\": \"#000000\", \"yindex\": 1, \"coordinates\": \"data\", \"dasharray\": \"10,0\", \"zorder\": 2, \"alpha\": 0.5, \"xindex\": 0, \"linewidth\": 5.0, \"data\": \"data10\", \"id\": \"el13047140466707613904\"}], \"markers\": [{\"edgecolor\": \"#000000\", \"facecolor\": \"#D3D3D3\", \"edgewidth\": 1, \"yindex\": 1, \"coordinates\": \"data\", \"zorder\": 2, \"markerpath\": [[[0.0, 10.0], [2.652031, 10.0], [5.195798707848534, 8.946336915882418], [7.0710678118654755, 7.0710678118654755], [8.946336915882418, 5.195798707848534], [10.0, 2.652031], [10.0, 0.0], [10.0, -2.652031], [8.946336915882418, -5.195798707848534], [7.0710678118654755, -7.0710678118654755], [5.195798707848534, -8.946336915882418], [2.652031, -10.0], [0.0, -10.0], [-2.652031, -10.0], [-5.195798707848534, -8.946336915882418], [-7.0710678118654755, -7.0710678118654755], [-8.946336915882418, -5.195798707848534], [-10.0, -2.652031], [-10.0, 0.0], [-10.0, 2.652031], [-8.946336915882418, 5.195798707848534], [-7.0710678118654755, 7.0710678118654755], [-5.195798707848534, 8.946336915882418], [-2.652031, 10.0], [0.0, 10.0]], [\"M\", \"C\", \"C\", \"C\", \"C\", \"C\", \"C\", \"C\", \"C\", \"Z\"]], \"alpha\": 1.0, \"xindex\": 0, \"data\": \"data11\", \"id\": \"el13047140466710473552pts\"}, {\"edgecolor\": \"#000000\", \"facecolor\": \"#D3D3D3\", \"edgewidth\": 1, \"yindex\": 1, \"coordinates\": \"data\", \"zorder\": 2, \"markerpath\": [[[0.0, 20.0], [5.304062, 20.0], [10.391597415697069, 17.892673831764835], [14.142135623730951, 14.142135623730951], [17.892673831764835, 10.391597415697069], [20.0, 5.304062], [20.0, 0.0], [20.0, -5.304062], [17.892673831764835, -10.391597415697069], [14.142135623730951, -14.142135623730951], [10.391597415697069, -17.892673831764835], [5.304062, -20.0], [0.0, -20.0], [-5.304062, -20.0], [-10.391597415697069, -17.892673831764835], [-14.142135623730951, -14.142135623730951], [-17.892673831764835, -10.391597415697069], [-20.0, -5.304062], [-20.0, 0.0], [-20.0, 5.304062], [-17.892673831764835, 10.391597415697069], [-14.142135623730951, 14.142135623730951], [-10.391597415697069, 17.892673831764835], [-5.304062, 20.0], [0.0, 20.0]], [\"M\", \"C\", \"C\", \"C\", \"C\", \"C\", \"C\", \"C\", \"C\", \"Z\"]], \"alpha\": 0.0, \"xindex\": 0, \"data\": \"data11\", \"id\": \"el13047140466710399248pts\"}], \"id\": \"el13047140466705749200\", \"ydomain\": [-0.080000000000000002, 1.0800000000000001], \"collections\": [], \"xscale\": \"linear\", \"bbox\": [0.125, 0.125, 0.77500000000000002, 0.77500000000000002]}], \"height\": 640.0, \"width\": 960.0, \"plugins\": [{\"type\": \"reset\"}, {\"enabled\": false, \"button\": true, \"type\": \"zoom\"}, {\"enabled\": false, \"button\": true, \"type\": \"boxzoom\"}, {\"voffset\": 10, \"labels\": [], \"type\": \"htmltooltip\", \"id\": \"el13047140466710399248pts\", \"hoffset\": 10}], \"data\": {\"data11\": [[0.30886644927000156, 0.9476458368729269], [0.7621082193322797, 1.0], [0.45849823301965786, 0.5420097135995859], [0.7519049571049599, 0.0], [0.0, 0.6025716466891472]], \"data10\": [[0.3897234980667092, 0.5510940035630201], [0.45849823301965786, 0.5420097135995859]], \"data08\": [[0.7078939484921646, 0.0813014570399379], [0.7519049571049599, 0.0]], \"data09\": [[0.0, 0.6025716466891472], [0.45849823301965786, 0.5420097135995859]], \"data06\": [[0.7165667213853864, 0.9313014570399379], [0.7621082193322797, 1.0]], \"data07\": [[0.45849823301965786, 0.5420097135995859], [0.7519049571049599, 0.0]], \"data04\": [[0.4360534654572094, 0.602855132090587], [0.45849823301965786, 0.5420097135995859]], \"data05\": [[0.45849823301965786, 0.5420097135995859], [0.7621082193322797, 1.0]], \"data02\": [[0.694121953822938, 0.992146875530939], [0.7621082193322797, 1.0]], \"data03\": [[0.30886644927000156, 0.9476458368729269], [0.45849823301965786, 0.5420097135995859]], \"data01\": [[0.30886644927000156, 0.9476458368729269], [0.7621082193322797, 1.0]]}, \"id\": \"el13047140466705836624\"});\n",
       "   }(mpld3);\n",
       "}else if(typeof define === \"function\" && define.amd){\n",
       "   // require.js is available: use it to load d3/mpld3\n",
       "   require.config({paths: {d3: \"https://mpld3.github.io/js/d3.v3.min\"}});\n",
       "   require([\"d3\"], function(d3){\n",
       "      window.d3 = d3;\n",
       "      mpld3_load_lib(\"https://mpld3.github.io/js/mpld3.v0.2.js\", function(){\n",
       "         \n",
       "    mpld3.register_plugin(\"htmltooltip\", HtmlTooltipPlugin);\n",
       "    HtmlTooltipPlugin.prototype = Object.create(mpld3.Plugin.prototype);\n",
       "    HtmlTooltipPlugin.prototype.constructor = HtmlTooltipPlugin;\n",
       "    HtmlTooltipPlugin.prototype.requiredProps = [\"id\"];\n",
       "    HtmlTooltipPlugin.prototype.defaultProps = {labels:null, hoffset:0, voffset:10};\n",
       "    function HtmlTooltipPlugin(fig, props){\n",
       "        mpld3.Plugin.call(this, fig, props);\n",
       "    };\n",
       "\n",
       "    HtmlTooltipPlugin.prototype.draw = function(){\n",
       "       var obj = mpld3.get_element(this.props.id);\n",
       "       var labels = this.props.labels;\n",
       "       var tooltip = d3.select(\"body\").append(\"div\")\n",
       "                    .attr(\"class\", \"mpld3-tooltip\")\n",
       "                    .style(\"position\", \"absolute\")\n",
       "                    .style(\"z-index\", \"10\")\n",
       "                    .style(\"visibility\", \"hidden\");\n",
       "\n",
       "       obj.elements()\n",
       "           .on(\"mouseover\", function(d, i){\n",
       "                              tooltip.html(labels[i])\n",
       "                                     .style(\"visibility\", \"visible\");})\n",
       "           .on(\"mousemove\", function(d, i){\n",
       "                    tooltip\n",
       "                      .style(\"top\", d3.event.pageY + this.props.voffset + \"px\")\n",
       "                      .style(\"left\",d3.event.pageX + this.props.hoffset + \"px\");\n",
       "                 }.bind(this))\n",
       "           .on(\"mouseout\",  function(d, i){\n",
       "                           tooltip.style(\"visibility\", \"hidden\");});\n",
       "    };\n",
       "    \n",
       "         mpld3.draw_figure(\"fig_el130471404667058366248005973894\", {\"axes\": [{\"xlim\": [-0.080000000000000002, 0.84210821933227964], \"yscale\": \"linear\", \"axesbg\": \"#FFFFFF\", \"texts\": [{\"v_baseline\": \"central\", \"h_anchor\": \"middle\", \"color\": \"#000000\", \"text\": \"Burglary\", \"coordinates\": \"data\", \"zorder\": 3, \"alpha\": 1, \"fontsize\": 10.0, \"position\": [0.30886644927000156, 0.94764583687292692], \"rotation\": -0.0, \"id\": \"el13047140466707536848\"}, {\"v_baseline\": \"central\", \"h_anchor\": \"middle\", \"color\": \"#000000\", \"text\": \"MaryCalls\", \"coordinates\": \"data\", \"zorder\": 3, \"alpha\": 1, \"fontsize\": 10.0, \"position\": [0.76210821933227968, 1.0], \"rotation\": -0.0, \"id\": \"el13047140466707534608\"}, {\"v_baseline\": \"central\", \"h_anchor\": \"middle\", \"color\": \"#000000\", \"text\": \"Alarm\", \"coordinates\": \"data\", \"zorder\": 3, \"alpha\": 1, \"fontsize\": 10.0, \"position\": [0.45849823301965786, 0.54200971359958594], \"rotation\": -0.0, \"id\": \"el13047140466707535824\"}, {\"v_baseline\": \"central\", \"h_anchor\": \"middle\", \"color\": \"#000000\", \"text\": \"JohnCalls\", \"coordinates\": \"data\", \"zorder\": 3, \"alpha\": 1, \"fontsize\": 10.0, \"position\": [0.75190495710495986, 0.0], \"rotation\": -0.0, \"id\": \"el13047140466710398480\"}, {\"v_baseline\": \"central\", \"h_anchor\": \"middle\", \"color\": \"#000000\", \"text\": \"Earthquake\", \"coordinates\": \"data\", \"zorder\": 3, \"alpha\": 1, \"fontsize\": 10.0, \"position\": [0.0, 0.6025716466891472], \"rotation\": -0.0, \"id\": \"el13047140466710398288\"}], \"zoomable\": true, \"images\": [], \"xdomain\": [-0.080000000000000002, 0.84210821933227964], \"ylim\": [-0.080000000000000002, 1.0800000000000001], \"paths\": [], \"sharey\": [], \"sharex\": [], \"axesbgalpha\": null, \"axes\": [{\"scale\": \"linear\", \"tickformat\": null, \"grid\": {\"gridOn\": false}, \"fontsize\": 10.0, \"position\": \"bottom\", \"nticks\": 7, \"tickvalues\": null}, {\"scale\": \"linear\", \"tickformat\": null, \"grid\": {\"gridOn\": false}, \"fontsize\": 10.0, \"position\": \"left\", \"nticks\": 8, \"tickvalues\": null}], \"lines\": [{\"color\": \"#808080\", \"yindex\": 1, \"coordinates\": \"data\", \"dasharray\": \"10,0\", \"zorder\": 2, \"alpha\": 1, \"xindex\": 0, \"linewidth\": 1.0, \"data\": \"data01\", \"id\": \"el13047140466710473872\"}, {\"color\": \"#000000\", \"yindex\": 1, \"coordinates\": \"data\", \"dasharray\": \"10,0\", \"zorder\": 2, \"alpha\": 0.5, \"xindex\": 0, \"linewidth\": 5.0, \"data\": \"data02\", \"id\": \"el13047140466710473040\"}, {\"color\": \"#808080\", \"yindex\": 1, \"coordinates\": \"data\", \"dasharray\": \"10,0\", \"zorder\": 2, \"alpha\": 1, \"xindex\": 0, \"linewidth\": 1.0, \"data\": \"data03\", \"id\": \"el13047140466710933776\"}, {\"color\": \"#000000\", \"yindex\": 1, \"coordinates\": \"data\", \"dasharray\": \"10,0\", \"zorder\": 2, \"alpha\": 0.5, \"xindex\": 0, \"linewidth\": 5.0, \"data\": \"data04\", \"id\": \"el13047140466710935696\"}, {\"color\": \"#808080\", \"yindex\": 1, \"coordinates\": \"data\", \"dasharray\": \"10,0\", \"zorder\": 2, \"alpha\": 1, \"xindex\": 0, \"linewidth\": 1.0, \"data\": \"data05\", \"id\": \"el13047140466710934736\"}, {\"color\": \"#000000\", \"yindex\": 1, \"coordinates\": \"data\", \"dasharray\": \"10,0\", \"zorder\": 2, \"alpha\": 0.5, \"xindex\": 0, \"linewidth\": 5.0, \"data\": \"data06\", \"id\": \"el13047140466707563920\"}, {\"color\": \"#808080\", \"yindex\": 1, \"coordinates\": \"data\", \"dasharray\": \"10,0\", \"zorder\": 2, \"alpha\": 1, \"xindex\": 0, \"linewidth\": 1.0, \"data\": \"data07\", \"id\": \"el13047140466707576528\"}, {\"color\": \"#000000\", \"yindex\": 1, \"coordinates\": \"data\", \"dasharray\": \"10,0\", \"zorder\": 2, \"alpha\": 0.5, \"xindex\": 0, \"linewidth\": 5.0, \"data\": \"data08\", \"id\": \"el13047140466707575504\"}, {\"color\": \"#808080\", \"yindex\": 1, \"coordinates\": \"data\", \"dasharray\": \"10,0\", \"zorder\": 2, \"alpha\": 1, \"xindex\": 0, \"linewidth\": 1.0, \"data\": \"data09\", \"id\": \"el13047140466707578512\"}, {\"color\": \"#000000\", \"yindex\": 1, \"coordinates\": \"data\", \"dasharray\": \"10,0\", \"zorder\": 2, \"alpha\": 0.5, \"xindex\": 0, \"linewidth\": 5.0, \"data\": \"data10\", \"id\": \"el13047140466707613904\"}], \"markers\": [{\"edgecolor\": \"#000000\", \"facecolor\": \"#D3D3D3\", \"edgewidth\": 1, \"yindex\": 1, \"coordinates\": \"data\", \"zorder\": 2, \"markerpath\": [[[0.0, 10.0], [2.652031, 10.0], [5.195798707848534, 8.946336915882418], [7.0710678118654755, 7.0710678118654755], [8.946336915882418, 5.195798707848534], [10.0, 2.652031], [10.0, 0.0], [10.0, -2.652031], [8.946336915882418, -5.195798707848534], [7.0710678118654755, -7.0710678118654755], [5.195798707848534, -8.946336915882418], [2.652031, -10.0], [0.0, -10.0], [-2.652031, -10.0], [-5.195798707848534, -8.946336915882418], [-7.0710678118654755, -7.0710678118654755], [-8.946336915882418, -5.195798707848534], [-10.0, -2.652031], [-10.0, 0.0], [-10.0, 2.652031], [-8.946336915882418, 5.195798707848534], [-7.0710678118654755, 7.0710678118654755], [-5.195798707848534, 8.946336915882418], [-2.652031, 10.0], [0.0, 10.0]], [\"M\", \"C\", \"C\", \"C\", \"C\", \"C\", \"C\", \"C\", \"C\", \"Z\"]], \"alpha\": 1.0, \"xindex\": 0, \"data\": \"data11\", \"id\": \"el13047140466710473552pts\"}, {\"edgecolor\": \"#000000\", \"facecolor\": \"#D3D3D3\", \"edgewidth\": 1, \"yindex\": 1, \"coordinates\": \"data\", \"zorder\": 2, \"markerpath\": [[[0.0, 20.0], [5.304062, 20.0], [10.391597415697069, 17.892673831764835], [14.142135623730951, 14.142135623730951], [17.892673831764835, 10.391597415697069], [20.0, 5.304062], [20.0, 0.0], [20.0, -5.304062], [17.892673831764835, -10.391597415697069], [14.142135623730951, -14.142135623730951], [10.391597415697069, -17.892673831764835], [5.304062, -20.0], [0.0, -20.0], [-5.304062, -20.0], [-10.391597415697069, -17.892673831764835], [-14.142135623730951, -14.142135623730951], [-17.892673831764835, -10.391597415697069], [-20.0, -5.304062], [-20.0, 0.0], [-20.0, 5.304062], [-17.892673831764835, 10.391597415697069], [-14.142135623730951, 14.142135623730951], [-10.391597415697069, 17.892673831764835], [-5.304062, 20.0], [0.0, 20.0]], [\"M\", \"C\", \"C\", \"C\", \"C\", \"C\", \"C\", \"C\", \"C\", \"Z\"]], \"alpha\": 0.0, \"xindex\": 0, \"data\": \"data11\", \"id\": \"el13047140466710399248pts\"}], \"id\": \"el13047140466705749200\", \"ydomain\": [-0.080000000000000002, 1.0800000000000001], \"collections\": [], \"xscale\": \"linear\", \"bbox\": [0.125, 0.125, 0.77500000000000002, 0.77500000000000002]}], \"height\": 640.0, \"width\": 960.0, \"plugins\": [{\"type\": \"reset\"}, {\"enabled\": false, \"button\": true, \"type\": \"zoom\"}, {\"enabled\": false, \"button\": true, \"type\": \"boxzoom\"}, {\"voffset\": 10, \"labels\": [], \"type\": \"htmltooltip\", \"id\": \"el13047140466710399248pts\", \"hoffset\": 10}], \"data\": {\"data11\": [[0.30886644927000156, 0.9476458368729269], [0.7621082193322797, 1.0], [0.45849823301965786, 0.5420097135995859], [0.7519049571049599, 0.0], [0.0, 0.6025716466891472]], \"data10\": [[0.3897234980667092, 0.5510940035630201], [0.45849823301965786, 0.5420097135995859]], \"data08\": [[0.7078939484921646, 0.0813014570399379], [0.7519049571049599, 0.0]], \"data09\": [[0.0, 0.6025716466891472], [0.45849823301965786, 0.5420097135995859]], \"data06\": [[0.7165667213853864, 0.9313014570399379], [0.7621082193322797, 1.0]], \"data07\": [[0.45849823301965786, 0.5420097135995859], [0.7519049571049599, 0.0]], \"data04\": [[0.4360534654572094, 0.602855132090587], [0.45849823301965786, 0.5420097135995859]], \"data05\": [[0.45849823301965786, 0.5420097135995859], [0.7621082193322797, 1.0]], \"data02\": [[0.694121953822938, 0.992146875530939], [0.7621082193322797, 1.0]], \"data03\": [[0.30886644927000156, 0.9476458368729269], [0.45849823301965786, 0.5420097135995859]], \"data01\": [[0.30886644927000156, 0.9476458368729269], [0.7621082193322797, 1.0]]}, \"id\": \"el13047140466705836624\"});\n",
       "      });\n",
       "    });\n",
       "}else{\n",
       "    // require.js not available: dynamically load d3 & mpld3\n",
       "    mpld3_load_lib(\"https://mpld3.github.io/js/d3.v3.min.js\", function(){\n",
       "         mpld3_load_lib(\"https://mpld3.github.io/js/mpld3.v0.2.js\", function(){\n",
       "                 \n",
       "    mpld3.register_plugin(\"htmltooltip\", HtmlTooltipPlugin);\n",
       "    HtmlTooltipPlugin.prototype = Object.create(mpld3.Plugin.prototype);\n",
       "    HtmlTooltipPlugin.prototype.constructor = HtmlTooltipPlugin;\n",
       "    HtmlTooltipPlugin.prototype.requiredProps = [\"id\"];\n",
       "    HtmlTooltipPlugin.prototype.defaultProps = {labels:null, hoffset:0, voffset:10};\n",
       "    function HtmlTooltipPlugin(fig, props){\n",
       "        mpld3.Plugin.call(this, fig, props);\n",
       "    };\n",
       "\n",
       "    HtmlTooltipPlugin.prototype.draw = function(){\n",
       "       var obj = mpld3.get_element(this.props.id);\n",
       "       var labels = this.props.labels;\n",
       "       var tooltip = d3.select(\"body\").append(\"div\")\n",
       "                    .attr(\"class\", \"mpld3-tooltip\")\n",
       "                    .style(\"position\", \"absolute\")\n",
       "                    .style(\"z-index\", \"10\")\n",
       "                    .style(\"visibility\", \"hidden\");\n",
       "\n",
       "       obj.elements()\n",
       "           .on(\"mouseover\", function(d, i){\n",
       "                              tooltip.html(labels[i])\n",
       "                                     .style(\"visibility\", \"visible\");})\n",
       "           .on(\"mousemove\", function(d, i){\n",
       "                    tooltip\n",
       "                      .style(\"top\", d3.event.pageY + this.props.voffset + \"px\")\n",
       "                      .style(\"left\",d3.event.pageX + this.props.hoffset + \"px\");\n",
       "                 }.bind(this))\n",
       "           .on(\"mouseout\",  function(d, i){\n",
       "                           tooltip.style(\"visibility\", \"hidden\");});\n",
       "    };\n",
       "    \n",
       "                 mpld3.draw_figure(\"fig_el130471404667058366248005973894\", {\"axes\": [{\"xlim\": [-0.080000000000000002, 0.84210821933227964], \"yscale\": \"linear\", \"axesbg\": \"#FFFFFF\", \"texts\": [{\"v_baseline\": \"central\", \"h_anchor\": \"middle\", \"color\": \"#000000\", \"text\": \"Burglary\", \"coordinates\": \"data\", \"zorder\": 3, \"alpha\": 1, \"fontsize\": 10.0, \"position\": [0.30886644927000156, 0.94764583687292692], \"rotation\": -0.0, \"id\": \"el13047140466707536848\"}, {\"v_baseline\": \"central\", \"h_anchor\": \"middle\", \"color\": \"#000000\", \"text\": \"MaryCalls\", \"coordinates\": \"data\", \"zorder\": 3, \"alpha\": 1, \"fontsize\": 10.0, \"position\": [0.76210821933227968, 1.0], \"rotation\": -0.0, \"id\": \"el13047140466707534608\"}, {\"v_baseline\": \"central\", \"h_anchor\": \"middle\", \"color\": \"#000000\", \"text\": \"Alarm\", \"coordinates\": \"data\", \"zorder\": 3, \"alpha\": 1, \"fontsize\": 10.0, \"position\": [0.45849823301965786, 0.54200971359958594], \"rotation\": -0.0, \"id\": \"el13047140466707535824\"}, {\"v_baseline\": \"central\", \"h_anchor\": \"middle\", \"color\": \"#000000\", \"text\": \"JohnCalls\", \"coordinates\": \"data\", \"zorder\": 3, \"alpha\": 1, \"fontsize\": 10.0, \"position\": [0.75190495710495986, 0.0], \"rotation\": -0.0, \"id\": \"el13047140466710398480\"}, {\"v_baseline\": \"central\", \"h_anchor\": \"middle\", \"color\": \"#000000\", \"text\": \"Earthquake\", \"coordinates\": \"data\", \"zorder\": 3, \"alpha\": 1, \"fontsize\": 10.0, \"position\": [0.0, 0.6025716466891472], \"rotation\": -0.0, \"id\": \"el13047140466710398288\"}], \"zoomable\": true, \"images\": [], \"xdomain\": [-0.080000000000000002, 0.84210821933227964], \"ylim\": [-0.080000000000000002, 1.0800000000000001], \"paths\": [], \"sharey\": [], \"sharex\": [], \"axesbgalpha\": null, \"axes\": [{\"scale\": \"linear\", \"tickformat\": null, \"grid\": {\"gridOn\": false}, \"fontsize\": 10.0, \"position\": \"bottom\", \"nticks\": 7, \"tickvalues\": null}, {\"scale\": \"linear\", \"tickformat\": null, \"grid\": {\"gridOn\": false}, \"fontsize\": 10.0, \"position\": \"left\", \"nticks\": 8, \"tickvalues\": null}], \"lines\": [{\"color\": \"#808080\", \"yindex\": 1, \"coordinates\": \"data\", \"dasharray\": \"10,0\", \"zorder\": 2, \"alpha\": 1, \"xindex\": 0, \"linewidth\": 1.0, \"data\": \"data01\", \"id\": \"el13047140466710473872\"}, {\"color\": \"#000000\", \"yindex\": 1, \"coordinates\": \"data\", \"dasharray\": \"10,0\", \"zorder\": 2, \"alpha\": 0.5, \"xindex\": 0, \"linewidth\": 5.0, \"data\": \"data02\", \"id\": \"el13047140466710473040\"}, {\"color\": \"#808080\", \"yindex\": 1, \"coordinates\": \"data\", \"dasharray\": \"10,0\", \"zorder\": 2, \"alpha\": 1, \"xindex\": 0, \"linewidth\": 1.0, \"data\": \"data03\", \"id\": \"el13047140466710933776\"}, {\"color\": \"#000000\", \"yindex\": 1, \"coordinates\": \"data\", \"dasharray\": \"10,0\", \"zorder\": 2, \"alpha\": 0.5, \"xindex\": 0, \"linewidth\": 5.0, \"data\": \"data04\", \"id\": \"el13047140466710935696\"}, {\"color\": \"#808080\", \"yindex\": 1, \"coordinates\": \"data\", \"dasharray\": \"10,0\", \"zorder\": 2, \"alpha\": 1, \"xindex\": 0, \"linewidth\": 1.0, \"data\": \"data05\", \"id\": \"el13047140466710934736\"}, {\"color\": \"#000000\", \"yindex\": 1, \"coordinates\": \"data\", \"dasharray\": \"10,0\", \"zorder\": 2, \"alpha\": 0.5, \"xindex\": 0, \"linewidth\": 5.0, \"data\": \"data06\", \"id\": \"el13047140466707563920\"}, {\"color\": \"#808080\", \"yindex\": 1, \"coordinates\": \"data\", \"dasharray\": \"10,0\", \"zorder\": 2, \"alpha\": 1, \"xindex\": 0, \"linewidth\": 1.0, \"data\": \"data07\", \"id\": \"el13047140466707576528\"}, {\"color\": \"#000000\", \"yindex\": 1, \"coordinates\": \"data\", \"dasharray\": \"10,0\", \"zorder\": 2, \"alpha\": 0.5, \"xindex\": 0, \"linewidth\": 5.0, \"data\": \"data08\", \"id\": \"el13047140466707575504\"}, {\"color\": \"#808080\", \"yindex\": 1, \"coordinates\": \"data\", \"dasharray\": \"10,0\", \"zorder\": 2, \"alpha\": 1, \"xindex\": 0, \"linewidth\": 1.0, \"data\": \"data09\", \"id\": \"el13047140466707578512\"}, {\"color\": \"#000000\", \"yindex\": 1, \"coordinates\": \"data\", \"dasharray\": \"10,0\", \"zorder\": 2, \"alpha\": 0.5, \"xindex\": 0, \"linewidth\": 5.0, \"data\": \"data10\", \"id\": \"el13047140466707613904\"}], \"markers\": [{\"edgecolor\": \"#000000\", \"facecolor\": \"#D3D3D3\", \"edgewidth\": 1, \"yindex\": 1, \"coordinates\": \"data\", \"zorder\": 2, \"markerpath\": [[[0.0, 10.0], [2.652031, 10.0], [5.195798707848534, 8.946336915882418], [7.0710678118654755, 7.0710678118654755], [8.946336915882418, 5.195798707848534], [10.0, 2.652031], [10.0, 0.0], [10.0, -2.652031], [8.946336915882418, -5.195798707848534], [7.0710678118654755, -7.0710678118654755], [5.195798707848534, -8.946336915882418], [2.652031, -10.0], [0.0, -10.0], [-2.652031, -10.0], [-5.195798707848534, -8.946336915882418], [-7.0710678118654755, -7.0710678118654755], [-8.946336915882418, -5.195798707848534], [-10.0, -2.652031], [-10.0, 0.0], [-10.0, 2.652031], [-8.946336915882418, 5.195798707848534], [-7.0710678118654755, 7.0710678118654755], [-5.195798707848534, 8.946336915882418], [-2.652031, 10.0], [0.0, 10.0]], [\"M\", \"C\", \"C\", \"C\", \"C\", \"C\", \"C\", \"C\", \"C\", \"Z\"]], \"alpha\": 1.0, \"xindex\": 0, \"data\": \"data11\", \"id\": \"el13047140466710473552pts\"}, {\"edgecolor\": \"#000000\", \"facecolor\": \"#D3D3D3\", \"edgewidth\": 1, \"yindex\": 1, \"coordinates\": \"data\", \"zorder\": 2, \"markerpath\": [[[0.0, 20.0], [5.304062, 20.0], [10.391597415697069, 17.892673831764835], [14.142135623730951, 14.142135623730951], [17.892673831764835, 10.391597415697069], [20.0, 5.304062], [20.0, 0.0], [20.0, -5.304062], [17.892673831764835, -10.391597415697069], [14.142135623730951, -14.142135623730951], [10.391597415697069, -17.892673831764835], [5.304062, -20.0], [0.0, -20.0], [-5.304062, -20.0], [-10.391597415697069, -17.892673831764835], [-14.142135623730951, -14.142135623730951], [-17.892673831764835, -10.391597415697069], [-20.0, -5.304062], [-20.0, 0.0], [-20.0, 5.304062], [-17.892673831764835, 10.391597415697069], [-14.142135623730951, 14.142135623730951], [-10.391597415697069, 17.892673831764835], [-5.304062, 20.0], [0.0, 20.0]], [\"M\", \"C\", \"C\", \"C\", \"C\", \"C\", \"C\", \"C\", \"C\", \"Z\"]], \"alpha\": 0.0, \"xindex\": 0, \"data\": \"data11\", \"id\": \"el13047140466710399248pts\"}], \"id\": \"el13047140466705749200\", \"ydomain\": [-0.080000000000000002, 1.0800000000000001], \"collections\": [], \"xscale\": \"linear\", \"bbox\": [0.125, 0.125, 0.77500000000000002, 0.77500000000000002]}], \"height\": 640.0, \"width\": 960.0, \"plugins\": [{\"type\": \"reset\"}, {\"enabled\": false, \"button\": true, \"type\": \"zoom\"}, {\"enabled\": false, \"button\": true, \"type\": \"boxzoom\"}, {\"voffset\": 10, \"labels\": [], \"type\": \"htmltooltip\", \"id\": \"el13047140466710399248pts\", \"hoffset\": 10}], \"data\": {\"data11\": [[0.30886644927000156, 0.9476458368729269], [0.7621082193322797, 1.0], [0.45849823301965786, 0.5420097135995859], [0.7519049571049599, 0.0], [0.0, 0.6025716466891472]], \"data10\": [[0.3897234980667092, 0.5510940035630201], [0.45849823301965786, 0.5420097135995859]], \"data08\": [[0.7078939484921646, 0.0813014570399379], [0.7519049571049599, 0.0]], \"data09\": [[0.0, 0.6025716466891472], [0.45849823301965786, 0.5420097135995859]], \"data06\": [[0.7165667213853864, 0.9313014570399379], [0.7621082193322797, 1.0]], \"data07\": [[0.45849823301965786, 0.5420097135995859], [0.7519049571049599, 0.0]], \"data04\": [[0.4360534654572094, 0.602855132090587], [0.45849823301965786, 0.5420097135995859]], \"data05\": [[0.45849823301965786, 0.5420097135995859], [0.7621082193322797, 1.0]], \"data02\": [[0.694121953822938, 0.992146875530939], [0.7621082193322797, 1.0]], \"data03\": [[0.30886644927000156, 0.9476458368729269], [0.45849823301965786, 0.5420097135995859]], \"data01\": [[0.30886644927000156, 0.9476458368729269], [0.7621082193322797, 1.0]]}, \"id\": \"el13047140466705836624\"});\n",
       "            })\n",
       "         });\n",
       "}\n",
       "</script>"
      ],
      "text/plain": [
       "<IPython.core.display.HTML object>"
      ]
     },
     "execution_count": 146,
     "metadata": {},
     "output_type": "execute_result"
    }
   ],
   "source": [
    "mxg.adj[0, 1] = 1\n",
    "mxg.draw()"
   ]
  },
  {
   "cell_type": "code",
   "execution_count": 157,
   "metadata": {
    "collapsed": false
   },
   "outputs": [
    {
     "data": {
      "text/plain": [
       "-36526.515372038361"
      ]
     },
     "execution_count": 157,
     "metadata": {},
     "output_type": "execute_result"
    }
   ],
   "source": [
    "op = RemoveEdge(mxg, score, 2, 1)\n",
    "op.score"
   ]
  },
  {
   "cell_type": "code",
   "execution_count": 160,
   "metadata": {
    "collapsed": false
   },
   "outputs": [
    {
     "ename": "InvalidOperation",
     "evalue": "",
     "output_type": "error",
     "traceback": [
      "\u001b[1;31m---------------------------------------------------------------------------\u001b[0m",
      "\u001b[1;31mInvalidOperation\u001b[0m                          Traceback (most recent call last)",
      "\u001b[1;32m<ipython-input-160-6af168160dd2>\u001b[0m in \u001b[0;36m<module>\u001b[1;34m()\u001b[0m\n\u001b[1;32m----> 1\u001b[1;33m \u001b[0mop\u001b[0m\u001b[1;33m.\u001b[0m\u001b[0mdo\u001b[0m\u001b[1;33m(\u001b[0m\u001b[1;33m)\u001b[0m\u001b[1;33m\u001b[0m\u001b[0m\n\u001b[0m",
      "\u001b[1;32m<ipython-input-139-bce18bd7091d>\u001b[0m in \u001b[0;36mdo\u001b[1;34m(self)\u001b[0m\n\u001b[0;32m      7\u001b[0m     \u001b[1;32mdef\u001b[0m \u001b[0mdo\u001b[0m\u001b[1;33m(\u001b[0m\u001b[0mself\u001b[0m\u001b[1;33m)\u001b[0m\u001b[1;33m:\u001b[0m\u001b[1;33m\u001b[0m\u001b[0m\n\u001b[0;32m      8\u001b[0m         \u001b[1;32mif\u001b[0m \u001b[1;32mnot\u001b[0m \u001b[0mself\u001b[0m\u001b[1;33m.\u001b[0m\u001b[0mgraph\u001b[0m\u001b[1;33m.\u001b[0m\u001b[0madj\u001b[0m\u001b[1;33m[\u001b[0m\u001b[0mself\u001b[0m\u001b[1;33m.\u001b[0m\u001b[0msrc\u001b[0m\u001b[1;33m,\u001b[0m \u001b[0mself\u001b[0m\u001b[1;33m.\u001b[0m\u001b[0mdst\u001b[0m\u001b[1;33m]\u001b[0m\u001b[1;33m:\u001b[0m\u001b[1;33m\u001b[0m\u001b[0m\n\u001b[1;32m----> 9\u001b[1;33m             \u001b[1;32mraise\u001b[0m \u001b[0mInvalidOperation\u001b[0m\u001b[1;33m(\u001b[0m\u001b[1;33m)\u001b[0m\u001b[1;33m\u001b[0m\u001b[0m\n\u001b[0m\u001b[0;32m     10\u001b[0m         \u001b[0mself\u001b[0m\u001b[1;33m.\u001b[0m\u001b[0mgraph\u001b[0m\u001b[1;33m.\u001b[0m\u001b[0madj\u001b[0m\u001b[1;33m[\u001b[0m\u001b[0mself\u001b[0m\u001b[1;33m.\u001b[0m\u001b[0msrc\u001b[0m\u001b[1;33m,\u001b[0m \u001b[0mself\u001b[0m\u001b[1;33m.\u001b[0m\u001b[0mdst\u001b[0m\u001b[1;33m]\u001b[0m \u001b[1;33m=\u001b[0m \u001b[1;36m0\u001b[0m\u001b[1;33m\u001b[0m\u001b[0m\n\u001b[0;32m     11\u001b[0m         \u001b[1;32mreturn\u001b[0m \u001b[0mself\u001b[0m\u001b[1;33m\u001b[0m\u001b[0m\n",
      "\u001b[1;31mInvalidOperation\u001b[0m: "
     ]
    }
   ],
   "source": [
    "op.do()"
   ]
  },
  {
   "cell_type": "code",
   "execution_count": 159,
   "metadata": {
    "collapsed": false
   },
   "outputs": [
    {
     "data": {
      "text/plain": [
       "0.0"
      ]
     },
     "execution_count": 159,
     "metadata": {},
     "output_type": "execute_result"
    }
   ],
   "source": [
    "op.score"
   ]
  },
  {
   "cell_type": "code",
   "execution_count": null,
   "metadata": {
    "collapsed": true
   },
   "outputs": [],
   "source": []
  }
 ],
 "metadata": {
  "kernelspec": {
   "display_name": "Python 2",
   "language": "python",
   "name": "python2"
  },
  "language_info": {
   "codemirror_mode": {
    "name": "ipython",
    "version": 2
   },
   "file_extension": ".py",
   "mimetype": "text/x-python",
   "name": "python",
   "nbconvert_exporter": "python",
   "pygments_lexer": "ipython2",
   "version": "2.7.9"
  }
 },
 "nbformat": 4,
 "nbformat_minor": 0
}
