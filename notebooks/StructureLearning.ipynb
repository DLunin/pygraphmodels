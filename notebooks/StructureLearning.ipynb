{
 "cells": [
  {
   "cell_type": "code",
   "execution_count": 1,
   "metadata": {
    "collapsed": true
   },
   "outputs": [],
   "source": [
    "%%capture\n",
    "import numpy as np\n",
    "import scipy as sp\n",
    "import matplotlib as mpl\n",
    "import matplotlib.pyplot as plt\n",
    "import networkx as nx\n",
    "%matplotlib inline"
   ]
  },
  {
   "cell_type": "code",
   "execution_count": 2,
   "metadata": {
    "collapsed": false
   },
   "outputs": [],
   "source": [
    "%%capture\n",
    "import sys\n",
    "sys.path.append('/home/wrwt/Programming/pygraphmodels')\n",
    "import graphmodels as gm"
   ]
  },
  {
   "cell_type": "code",
   "execution_count": 3,
   "metadata": {
    "collapsed": true
   },
   "outputs": [],
   "source": [
    "import warnings\n",
    "warnings.filterwarnings('ignore', module='matplotlib')\n",
    "warnings.filterwarnings('ignore', module='IPython')"
   ]
  },
  {
   "cell_type": "code",
   "execution_count": 4,
   "metadata": {
    "collapsed": false
   },
   "outputs": [],
   "source": [
    "def bic_score(x, pa):\n",
    "    l = gm.information.discrete_mutual_information(data[[x]], data[pa]) - gm.information.discrete_entropy(data[[x]])\n",
    "    n = data.shape[0]\n",
    "    k = np.prod(true_dgm.factor(x).table.shape) - 1\n",
    "    result = -n*l + 0.5 * np.log(n) * k\n",
    "    return result"
   ]
  },
  {
   "cell_type": "code",
   "execution_count": 5,
   "metadata": {
    "collapsed": false
   },
   "outputs": [
    {
     "name": "stderr",
     "output_type": "stream",
     "text": [
      "/usr/local/lib/python2.7/dist-packages/IPython/core/formatters.py:92: DeprecationWarning: DisplayFormatter._ipython_display_formatter_default is deprecated: use @default decorator instead.\n",
      "  def _ipython_display_formatter_default(self):\n",
      "/usr/local/lib/python2.7/dist-packages/IPython/core/formatters.py:669: DeprecationWarning: PlainTextFormatter._singleton_printers_default is deprecated: use @default decorator instead.\n",
      "  def _singleton_printers_default(self):\n"
     ]
    },
    {
     "data": {
      "text/html": [
       "\n",
       "\n",
       "<style>\n",
       "\n",
       "table\n",
       "{\n",
       "  border-collapse: collapse;\n",
       "}\n",
       "th\n",
       "{\n",
       "  color: #ffffff;\n",
       "  background-color: #000000;\n",
       "}\n",
       "td\n",
       "{\n",
       "  background-color: #cccccc;\n",
       "}\n",
       "table, th, td\n",
       "{\n",
       "  font-family:Arial, Helvetica, sans-serif;\n",
       "  border: 1px solid black;\n",
       "  text-align: center;\n",
       "  padding: 3px;\n",
       "  font-size:11pt;\n",
       "}\n",
       "g.mpld3-xaxis, g.mpld3-yaxis {\n",
       "    display: none;\n",
       "}\n",
       "    \n",
       "</style>\n",
       "\n",
       "<div id=\"fig_el24861401127457522086350672418\"></div>\n",
       "<script>\n",
       "function mpld3_load_lib(url, callback){\n",
       "  var s = document.createElement('script');\n",
       "  s.src = url;\n",
       "  s.async = true;\n",
       "  s.onreadystatechange = s.onload = callback;\n",
       "  s.onerror = function(){console.warn(\"failed to load library \" + url);};\n",
       "  document.getElementsByTagName(\"head\")[0].appendChild(s);\n",
       "}\n",
       "\n",
       "if(typeof(mpld3) !== \"undefined\" && mpld3._mpld3IsLoaded){\n",
       "   // already loaded: just create the figure\n",
       "   !function(mpld3){\n",
       "       \n",
       "    mpld3.register_plugin(\"htmltooltip\", HtmlTooltipPlugin);\n",
       "    HtmlTooltipPlugin.prototype = Object.create(mpld3.Plugin.prototype);\n",
       "    HtmlTooltipPlugin.prototype.constructor = HtmlTooltipPlugin;\n",
       "    HtmlTooltipPlugin.prototype.requiredProps = [\"id\"];\n",
       "    HtmlTooltipPlugin.prototype.defaultProps = {labels:null, hoffset:0, voffset:10};\n",
       "    function HtmlTooltipPlugin(fig, props){\n",
       "        mpld3.Plugin.call(this, fig, props);\n",
       "    };\n",
       "\n",
       "    HtmlTooltipPlugin.prototype.draw = function(){\n",
       "       var obj = mpld3.get_element(this.props.id);\n",
       "       var labels = this.props.labels;\n",
       "       var tooltip = d3.select(\"body\").append(\"div\")\n",
       "                    .attr(\"class\", \"mpld3-tooltip\")\n",
       "                    .style(\"position\", \"absolute\")\n",
       "                    .style(\"z-index\", \"10\")\n",
       "                    .style(\"visibility\", \"hidden\");\n",
       "\n",
       "       obj.elements()\n",
       "           .on(\"mouseover\", function(d, i){\n",
       "                              tooltip.html(labels[i])\n",
       "                                     .style(\"visibility\", \"visible\");})\n",
       "           .on(\"mousemove\", function(d, i){\n",
       "                    tooltip\n",
       "                      .style(\"top\", d3.event.pageY + this.props.voffset + \"px\")\n",
       "                      .style(\"left\",d3.event.pageX + this.props.hoffset + \"px\");\n",
       "                 }.bind(this))\n",
       "           .on(\"mouseout\",  function(d, i){\n",
       "                           tooltip.style(\"visibility\", \"hidden\");});\n",
       "    };\n",
       "    \n",
       "       mpld3.draw_figure(\"fig_el24861401127457522086350672418\", {\"axes\": [{\"xlim\": [-0.080000000000000002, 1.0800000000000001], \"yscale\": \"linear\", \"axesbg\": \"#FFFFFF\", \"texts\": [{\"v_baseline\": \"central\", \"h_anchor\": \"middle\", \"color\": \"#000000\", \"text\": \"Burglary\", \"coordinates\": \"data\", \"zorder\": 3, \"alpha\": 1, \"fontsize\": 10.0, \"position\": [0.0, 0.63266308884028577], \"rotation\": -0.0, \"id\": \"el2486140112745080144\"}, {\"v_baseline\": \"central\", \"h_anchor\": \"middle\", \"color\": \"#000000\", \"text\": \"MaryCalls\", \"coordinates\": \"data\", \"zorder\": 3, \"alpha\": 1, \"fontsize\": 10.0, \"position\": [0.29011863438731583, 0.066093536384106893], \"rotation\": -0.0, \"id\": \"el2486140112745081104\"}, {\"v_baseline\": \"central\", \"h_anchor\": \"middle\", \"color\": \"#000000\", \"text\": \"Alarm\", \"coordinates\": \"data\", \"zorder\": 3, \"alpha\": 1, \"fontsize\": 10.0, \"position\": [0.64070484263802907, 0.54525231848737454], \"rotation\": -0.0, \"id\": \"el2486140112745082192\"}, {\"v_baseline\": \"central\", \"h_anchor\": \"middle\", \"color\": \"#000000\", \"text\": \"JohnCalls\", \"coordinates\": \"data\", \"zorder\": 3, \"alpha\": 1, \"fontsize\": 10.0, \"position\": [0.92491158821224218, 0.0], \"rotation\": -0.0, \"id\": \"el2486140112745132496\"}, {\"v_baseline\": \"central\", \"h_anchor\": \"middle\", \"color\": \"#000000\", \"text\": \"Earthquake\", \"coordinates\": \"data\", \"zorder\": 3, \"alpha\": 1, \"fontsize\": 10.0, \"position\": [1.0, 0.89005380142589963], \"rotation\": -0.0, \"id\": \"el2486140112745133584\"}], \"zoomable\": true, \"images\": [], \"xdomain\": [-0.080000000000000002, 1.0800000000000001], \"ylim\": [-0.080000000000000002, 0.97005380142589959], \"paths\": [], \"sharey\": [], \"sharex\": [], \"axesbgalpha\": null, \"axes\": [{\"scale\": \"linear\", \"tickformat\": null, \"grid\": {\"gridOn\": false}, \"fontsize\": 10.0, \"position\": \"bottom\", \"nticks\": 8, \"tickvalues\": null}, {\"scale\": \"linear\", \"tickformat\": null, \"grid\": {\"gridOn\": false}, \"fontsize\": 10.0, \"position\": \"left\", \"nticks\": 7, \"tickvalues\": null}], \"lines\": [{\"color\": \"#808080\", \"yindex\": 1, \"coordinates\": \"data\", \"dasharray\": \"10,0\", \"zorder\": 2, \"alpha\": 1, \"xindex\": 0, \"linewidth\": 1.0, \"data\": \"data01\", \"id\": \"el2486140113385480592\"}, {\"color\": \"#000000\", \"yindex\": 1, \"coordinates\": \"data\", \"dasharray\": \"10,0\", \"zorder\": 2, \"alpha\": 0.5, \"xindex\": 0, \"linewidth\": 5.0, \"data\": \"data02\", \"id\": \"el2486140112745651920\"}, {\"color\": \"#808080\", \"yindex\": 1, \"coordinates\": \"data\", \"dasharray\": \"10,0\", \"zorder\": 2, \"alpha\": 1, \"xindex\": 0, \"linewidth\": 1.0, \"data\": \"data03\", \"id\": \"el2486140112745580240\"}, {\"color\": \"#000000\", \"yindex\": 1, \"coordinates\": \"data\", \"dasharray\": \"10,0\", \"zorder\": 2, \"alpha\": 0.5, \"xindex\": 0, \"linewidth\": 5.0, \"data\": \"data04\", \"id\": \"el2486140112745527056\"}, {\"color\": \"#808080\", \"yindex\": 1, \"coordinates\": \"data\", \"dasharray\": \"10,0\", \"zorder\": 2, \"alpha\": 1, \"xindex\": 0, \"linewidth\": 1.0, \"data\": \"data05\", \"id\": \"el2486140112745486544\"}, {\"color\": \"#000000\", \"yindex\": 1, \"coordinates\": \"data\", \"dasharray\": \"10,0\", \"zorder\": 2, \"alpha\": 0.5, \"xindex\": 0, \"linewidth\": 5.0, \"data\": \"data06\", \"id\": \"el2486140112745411856\"}, {\"color\": \"#808080\", \"yindex\": 1, \"coordinates\": \"data\", \"dasharray\": \"10,0\", \"zorder\": 2, \"alpha\": 1, \"xindex\": 0, \"linewidth\": 1.0, \"data\": \"data07\", \"id\": \"el2486140112744906000\"}, {\"color\": \"#000000\", \"yindex\": 1, \"coordinates\": \"data\", \"dasharray\": \"10,0\", \"zorder\": 2, \"alpha\": 0.5, \"xindex\": 0, \"linewidth\": 5.0, \"data\": \"data08\", \"id\": \"el2486140112745030544\"}], \"markers\": [{\"edgecolor\": \"#000000\", \"facecolor\": \"#D3D3D3\", \"edgewidth\": 1, \"yindex\": 1, \"coordinates\": \"data\", \"zorder\": 2, \"markerpath\": [[[0.0, 10.0], [2.652031, 10.0], [5.195798707848534, 8.946336915882418], [7.0710678118654755, 7.0710678118654755], [8.946336915882418, 5.195798707848534], [10.0, 2.652031], [10.0, 0.0], [10.0, -2.652031], [8.946336915882418, -5.195798707848534], [7.0710678118654755, -7.0710678118654755], [5.195798707848534, -8.946336915882418], [2.652031, -10.0], [0.0, -10.0], [-2.652031, -10.0], [-5.195798707848534, -8.946336915882418], [-7.0710678118654755, -7.0710678118654755], [-8.946336915882418, -5.195798707848534], [-10.0, -2.652031], [-10.0, 0.0], [-10.0, 2.652031], [-8.946336915882418, 5.195798707848534], [-7.0710678118654755, 7.0710678118654755], [-5.195798707848534, 8.946336915882418], [-2.652031, 10.0], [0.0, 10.0]], [\"M\", \"C\", \"C\", \"C\", \"C\", \"C\", \"C\", \"C\", \"C\", \"Z\"]], \"alpha\": 1.0, \"xindex\": 0, \"data\": \"data09\", \"id\": \"el2486140113385481232pts\"}, {\"edgecolor\": \"#000000\", \"facecolor\": \"#D3D3D3\", \"edgewidth\": 1, \"yindex\": 1, \"coordinates\": \"data\", \"zorder\": 2, \"markerpath\": [[[0.0, 20.0], [5.304062, 20.0], [10.391597415697069, 17.892673831764835], [14.142135623730951, 14.142135623730951], [17.892673831764835, 10.391597415697069], [20.0, 5.304062], [20.0, 0.0], [20.0, -5.304062], [17.892673831764835, -10.391597415697069], [14.142135623730951, -14.142135623730951], [10.391597415697069, -17.892673831764835], [5.304062, -20.0], [0.0, -20.0], [-5.304062, -20.0], [-10.391597415697069, -17.892673831764835], [-14.142135623730951, -14.142135623730951], [-17.892673831764835, -10.391597415697069], [-20.0, -5.304062], [-20.0, 0.0], [-20.0, 5.304062], [-17.892673831764835, 10.391597415697069], [-14.142135623730951, 14.142135623730951], [-10.391597415697069, 17.892673831764835], [-5.304062, 20.0], [0.0, 20.0]], [\"M\", \"C\", \"C\", \"C\", \"C\", \"C\", \"C\", \"C\", \"C\", \"Z\"]], \"alpha\": 0.0, \"xindex\": 0, \"data\": \"data09\", \"id\": \"el2486140112745134672pts\"}], \"id\": \"el2486140112745754512\", \"ydomain\": [-0.080000000000000002, 0.97005380142589959], \"collections\": [], \"xscale\": \"linear\", \"bbox\": [0.125, 0.125, 0.77500000000000002, 0.77500000000000002]}], \"height\": 640.0, \"width\": 960.0, \"plugins\": [{\"type\": \"reset\"}, {\"enabled\": false, \"button\": true, \"type\": \"zoom\"}, {\"enabled\": false, \"button\": true, \"type\": \"boxzoom\"}, {\"voffset\": 10, \"labels\": [\"<table border=\\\"1\\\" cellpadding=\\\"4\\\" cellspacing=\\\"0\\\" bordercolor=\\\"#000000\\\">\\n<tr bgcolor=\\\"#AAAAAA\\\">\\n<th align=\\\"center\\\">Burglary</th>\\n<th align=\\\"center\\\">Prob.</th>\\n</tr>\\n<tr>\\n<td bgcolor=#FFFFFF>True</td>\\n<td bgcolor=#f6b5b1>0.010</td>\\n</tr>\\n<tr>\\n<td bgcolor=#FFFFFF>False</td>\\n<td bgcolor=#f2f0f1>0.990</td>\\n</tr>\\n</table>\", \"<table border=\\\"1\\\" cellpadding=\\\"4\\\" cellspacing=\\\"0\\\" bordercolor=\\\"#000000\\\">\\n<tr bgcolor=\\\"#AAAAAA\\\">\\n<th align=\\\"center\\\">Alarm</th>\\n<th align=\\\"center\\\">MaryCalls</th>\\n<th align=\\\"center\\\">Prob.</th>\\n</tr>\\n<tr>\\n<td bgcolor=#FFFFFF>True</td>\\n<td bgcolor=#FFFFFF>True</td>\\n<td bgcolor=#eee6c2>0.700</td>\\n</tr>\\n<tr>\\n<td bgcolor=#FFFFFF>True</td>\\n<td bgcolor=#FFFFFF>False</td>\\n<td bgcolor=#d2ded0>0.300</td>\\n</tr>\\n<tr>\\n<td bgcolor=#FFFFFF>False</td>\\n<td bgcolor=#FFFFFF>True</td>\\n<td bgcolor=#f6b5b1>0.010</td>\\n</tr>\\n<tr>\\n<td bgcolor=#FFFFFF>False</td>\\n<td bgcolor=#FFFFFF>False</td>\\n<td bgcolor=#f2f0f1>0.990</td>\\n</tr>\\n</table>\", \"<table border=\\\"1\\\" cellpadding=\\\"4\\\" cellspacing=\\\"0\\\" bordercolor=\\\"#000000\\\">\\n<tr bgcolor=\\\"#AAAAAA\\\">\\n<th align=\\\"center\\\">Burglary</th>\\n<th align=\\\"center\\\">Earthquake</th>\\n<th align=\\\"center\\\">Alarm</th>\\n<th align=\\\"center\\\">Prob.</th>\\n</tr>\\n<tr>\\n<td bgcolor=#FFFFFF>True</td>\\n<td bgcolor=#FFFFFF>True</td>\\n<td bgcolor=#FFFFFF>True</td>\\n<td bgcolor=#f6e8ef>0.950</td>\\n</tr>\\n<tr>\\n<td bgcolor=#FFFFFF>True</td>\\n<td bgcolor=#FFFFFF>True</td>\\n<td bgcolor=#FFFFFF>False</td>\\n<td bgcolor=#dfbdc1>0.050</td>\\n</tr>\\n<tr>\\n<td bgcolor=#FFFFFF>True</td>\\n<td bgcolor=#FFFFFF>False</td>\\n<td bgcolor=#FFFFFF>True</td>\\n<td bgcolor=#f7e6ef>0.940</td>\\n</tr>\\n<tr>\\n<td bgcolor=#FFFFFF>True</td>\\n<td bgcolor=#FFFFFF>False</td>\\n<td bgcolor=#FFFFFF>False</td>\\n<td bgcolor=#d9bfc6>0.060</td>\\n</tr>\\n<tr>\\n<td bgcolor=#FFFFFF>False</td>\\n<td bgcolor=#FFFFFF>True</td>\\n<td bgcolor=#FFFFFF>True</td>\\n<td bgcolor=#d1e0ce>0.290</td>\\n</tr>\\n<tr>\\n<td bgcolor=#FFFFFF>False</td>\\n<td bgcolor=#FFFFFF>True</td>\\n<td bgcolor=#FFFFFF>False</td>\\n<td bgcolor=#ede4c1>0.710</td>\\n</tr>\\n<tr>\\n<td bgcolor=#FFFFFF>False</td>\\n<td bgcolor=#FFFFFF>False</td>\\n<td bgcolor=#FFFFFF>True</td>\\n<td bgcolor=#fbb4ae>0.001</td>\\n</tr>\\n<tr>\\n<td bgcolor=#FFFFFF>False</td>\\n<td bgcolor=#FFFFFF>False</td>\\n<td bgcolor=#FFFFFF>False</td>\\n<td bgcolor=#f2f2f2>0.999</td>\\n</tr>\\n</table>\", \"<table border=\\\"1\\\" cellpadding=\\\"4\\\" cellspacing=\\\"0\\\" bordercolor=\\\"#000000\\\">\\n<tr bgcolor=\\\"#AAAAAA\\\">\\n<th align=\\\"center\\\">Alarm</th>\\n<th align=\\\"center\\\">JohnCalls</th>\\n<th align=\\\"center\\\">Prob.</th>\\n</tr>\\n<tr>\\n<td bgcolor=#FFFFFF>True</td>\\n<td bgcolor=#FFFFFF>True</td>\\n<td bgcolor=#fadfed>0.900</td>\\n</tr>\\n<tr>\\n<td bgcolor=#FFFFFF>True</td>\\n<td bgcolor=#FFFFFF>False</td>\\n<td bgcolor=#c2c7d7>0.100</td>\\n</tr>\\n<tr>\\n<td bgcolor=#FFFFFF>False</td>\\n<td bgcolor=#FFFFFF>True</td>\\n<td bgcolor=#dfbdc1>0.050</td>\\n</tr>\\n<tr>\\n<td bgcolor=#FFFFFF>False</td>\\n<td bgcolor=#FFFFFF>False</td>\\n<td bgcolor=#f6e8ef>0.950</td>\\n</tr>\\n</table>\", \"<table border=\\\"1\\\" cellpadding=\\\"4\\\" cellspacing=\\\"0\\\" bordercolor=\\\"#000000\\\">\\n<tr bgcolor=\\\"#AAAAAA\\\">\\n<th align=\\\"center\\\">Earthquake</th>\\n<th align=\\\"center\\\">Prob.</th>\\n</tr>\\n<tr>\\n<td bgcolor=#FFFFFF>True</td>\\n<td bgcolor=#efb7b6>0.020</td>\\n</tr>\\n<tr>\\n<td bgcolor=#FFFFFF>False</td>\\n<td bgcolor=#f3eef1>0.980</td>\\n</tr>\\n</table>\"], \"type\": \"htmltooltip\", \"id\": \"el2486140112745134672pts\", \"hoffset\": 10}], \"data\": {\"data08\": [[0.6945991162423247, 0.5969725409281533], [0.6407048426380291, 0.5452523184873745]], \"data09\": [[0.0, 0.6326630888402858], [0.29011863438731583, 0.0660935363841069], [0.6407048426380291, 0.5452523184873745], [0.9249115882122422, 0.0], [1.0, 0.8900538014258996]], \"data06\": [[0.8822805763761102, 0.08178784777310617], [0.9249115882122422, 0.0]], \"data07\": [[1.0, 0.8900538014258996], [0.6407048426380291, 0.5452523184873745]], \"data04\": [[0.3427065656249228, 0.13796735369959706], [0.29011863438731583, 0.0660935363841069]], \"data05\": [[0.6407048426380291, 0.5452523184873745], [0.9249115882122422, 0.0]], \"data02\": [[0.5445991162423247, 0.5583639340403113], [0.6407048426380291, 0.5452523184873745]], \"data03\": [[0.6407048426380291, 0.5452523184873745], [0.29011863438731583, 0.0660935363841069]], \"data01\": [[0.0, 0.6326630888402858], [0.6407048426380291, 0.5452523184873745]]}, \"id\": \"el2486140112745752208\"});\n",
       "   }(mpld3);\n",
       "}else if(typeof define === \"function\" && define.amd){\n",
       "   // require.js is available: use it to load d3/mpld3\n",
       "   require.config({paths: {d3: \"https://mpld3.github.io/js/d3.v3.min\"}});\n",
       "   require([\"d3\"], function(d3){\n",
       "      window.d3 = d3;\n",
       "      mpld3_load_lib(\"https://mpld3.github.io/js/mpld3.v0.2.js\", function(){\n",
       "         \n",
       "    mpld3.register_plugin(\"htmltooltip\", HtmlTooltipPlugin);\n",
       "    HtmlTooltipPlugin.prototype = Object.create(mpld3.Plugin.prototype);\n",
       "    HtmlTooltipPlugin.prototype.constructor = HtmlTooltipPlugin;\n",
       "    HtmlTooltipPlugin.prototype.requiredProps = [\"id\"];\n",
       "    HtmlTooltipPlugin.prototype.defaultProps = {labels:null, hoffset:0, voffset:10};\n",
       "    function HtmlTooltipPlugin(fig, props){\n",
       "        mpld3.Plugin.call(this, fig, props);\n",
       "    };\n",
       "\n",
       "    HtmlTooltipPlugin.prototype.draw = function(){\n",
       "       var obj = mpld3.get_element(this.props.id);\n",
       "       var labels = this.props.labels;\n",
       "       var tooltip = d3.select(\"body\").append(\"div\")\n",
       "                    .attr(\"class\", \"mpld3-tooltip\")\n",
       "                    .style(\"position\", \"absolute\")\n",
       "                    .style(\"z-index\", \"10\")\n",
       "                    .style(\"visibility\", \"hidden\");\n",
       "\n",
       "       obj.elements()\n",
       "           .on(\"mouseover\", function(d, i){\n",
       "                              tooltip.html(labels[i])\n",
       "                                     .style(\"visibility\", \"visible\");})\n",
       "           .on(\"mousemove\", function(d, i){\n",
       "                    tooltip\n",
       "                      .style(\"top\", d3.event.pageY + this.props.voffset + \"px\")\n",
       "                      .style(\"left\",d3.event.pageX + this.props.hoffset + \"px\");\n",
       "                 }.bind(this))\n",
       "           .on(\"mouseout\",  function(d, i){\n",
       "                           tooltip.style(\"visibility\", \"hidden\");});\n",
       "    };\n",
       "    \n",
       "         mpld3.draw_figure(\"fig_el24861401127457522086350672418\", {\"axes\": [{\"xlim\": [-0.080000000000000002, 1.0800000000000001], \"yscale\": \"linear\", \"axesbg\": \"#FFFFFF\", \"texts\": [{\"v_baseline\": \"central\", \"h_anchor\": \"middle\", \"color\": \"#000000\", \"text\": \"Burglary\", \"coordinates\": \"data\", \"zorder\": 3, \"alpha\": 1, \"fontsize\": 10.0, \"position\": [0.0, 0.63266308884028577], \"rotation\": -0.0, \"id\": \"el2486140112745080144\"}, {\"v_baseline\": \"central\", \"h_anchor\": \"middle\", \"color\": \"#000000\", \"text\": \"MaryCalls\", \"coordinates\": \"data\", \"zorder\": 3, \"alpha\": 1, \"fontsize\": 10.0, \"position\": [0.29011863438731583, 0.066093536384106893], \"rotation\": -0.0, \"id\": \"el2486140112745081104\"}, {\"v_baseline\": \"central\", \"h_anchor\": \"middle\", \"color\": \"#000000\", \"text\": \"Alarm\", \"coordinates\": \"data\", \"zorder\": 3, \"alpha\": 1, \"fontsize\": 10.0, \"position\": [0.64070484263802907, 0.54525231848737454], \"rotation\": -0.0, \"id\": \"el2486140112745082192\"}, {\"v_baseline\": \"central\", \"h_anchor\": \"middle\", \"color\": \"#000000\", \"text\": \"JohnCalls\", \"coordinates\": \"data\", \"zorder\": 3, \"alpha\": 1, \"fontsize\": 10.0, \"position\": [0.92491158821224218, 0.0], \"rotation\": -0.0, \"id\": \"el2486140112745132496\"}, {\"v_baseline\": \"central\", \"h_anchor\": \"middle\", \"color\": \"#000000\", \"text\": \"Earthquake\", \"coordinates\": \"data\", \"zorder\": 3, \"alpha\": 1, \"fontsize\": 10.0, \"position\": [1.0, 0.89005380142589963], \"rotation\": -0.0, \"id\": \"el2486140112745133584\"}], \"zoomable\": true, \"images\": [], \"xdomain\": [-0.080000000000000002, 1.0800000000000001], \"ylim\": [-0.080000000000000002, 0.97005380142589959], \"paths\": [], \"sharey\": [], \"sharex\": [], \"axesbgalpha\": null, \"axes\": [{\"scale\": \"linear\", \"tickformat\": null, \"grid\": {\"gridOn\": false}, \"fontsize\": 10.0, \"position\": \"bottom\", \"nticks\": 8, \"tickvalues\": null}, {\"scale\": \"linear\", \"tickformat\": null, \"grid\": {\"gridOn\": false}, \"fontsize\": 10.0, \"position\": \"left\", \"nticks\": 7, \"tickvalues\": null}], \"lines\": [{\"color\": \"#808080\", \"yindex\": 1, \"coordinates\": \"data\", \"dasharray\": \"10,0\", \"zorder\": 2, \"alpha\": 1, \"xindex\": 0, \"linewidth\": 1.0, \"data\": \"data01\", \"id\": \"el2486140113385480592\"}, {\"color\": \"#000000\", \"yindex\": 1, \"coordinates\": \"data\", \"dasharray\": \"10,0\", \"zorder\": 2, \"alpha\": 0.5, \"xindex\": 0, \"linewidth\": 5.0, \"data\": \"data02\", \"id\": \"el2486140112745651920\"}, {\"color\": \"#808080\", \"yindex\": 1, \"coordinates\": \"data\", \"dasharray\": \"10,0\", \"zorder\": 2, \"alpha\": 1, \"xindex\": 0, \"linewidth\": 1.0, \"data\": \"data03\", \"id\": \"el2486140112745580240\"}, {\"color\": \"#000000\", \"yindex\": 1, \"coordinates\": \"data\", \"dasharray\": \"10,0\", \"zorder\": 2, \"alpha\": 0.5, \"xindex\": 0, \"linewidth\": 5.0, \"data\": \"data04\", \"id\": \"el2486140112745527056\"}, {\"color\": \"#808080\", \"yindex\": 1, \"coordinates\": \"data\", \"dasharray\": \"10,0\", \"zorder\": 2, \"alpha\": 1, \"xindex\": 0, \"linewidth\": 1.0, \"data\": \"data05\", \"id\": \"el2486140112745486544\"}, {\"color\": \"#000000\", \"yindex\": 1, \"coordinates\": \"data\", \"dasharray\": \"10,0\", \"zorder\": 2, \"alpha\": 0.5, \"xindex\": 0, \"linewidth\": 5.0, \"data\": \"data06\", \"id\": \"el2486140112745411856\"}, {\"color\": \"#808080\", \"yindex\": 1, \"coordinates\": \"data\", \"dasharray\": \"10,0\", \"zorder\": 2, \"alpha\": 1, \"xindex\": 0, \"linewidth\": 1.0, \"data\": \"data07\", \"id\": \"el2486140112744906000\"}, {\"color\": \"#000000\", \"yindex\": 1, \"coordinates\": \"data\", \"dasharray\": \"10,0\", \"zorder\": 2, \"alpha\": 0.5, \"xindex\": 0, \"linewidth\": 5.0, \"data\": \"data08\", \"id\": \"el2486140112745030544\"}], \"markers\": [{\"edgecolor\": \"#000000\", \"facecolor\": \"#D3D3D3\", \"edgewidth\": 1, \"yindex\": 1, \"coordinates\": \"data\", \"zorder\": 2, \"markerpath\": [[[0.0, 10.0], [2.652031, 10.0], [5.195798707848534, 8.946336915882418], [7.0710678118654755, 7.0710678118654755], [8.946336915882418, 5.195798707848534], [10.0, 2.652031], [10.0, 0.0], [10.0, -2.652031], [8.946336915882418, -5.195798707848534], [7.0710678118654755, -7.0710678118654755], [5.195798707848534, -8.946336915882418], [2.652031, -10.0], [0.0, -10.0], [-2.652031, -10.0], [-5.195798707848534, -8.946336915882418], [-7.0710678118654755, -7.0710678118654755], [-8.946336915882418, -5.195798707848534], [-10.0, -2.652031], [-10.0, 0.0], [-10.0, 2.652031], [-8.946336915882418, 5.195798707848534], [-7.0710678118654755, 7.0710678118654755], [-5.195798707848534, 8.946336915882418], [-2.652031, 10.0], [0.0, 10.0]], [\"M\", \"C\", \"C\", \"C\", \"C\", \"C\", \"C\", \"C\", \"C\", \"Z\"]], \"alpha\": 1.0, \"xindex\": 0, \"data\": \"data09\", \"id\": \"el2486140113385481232pts\"}, {\"edgecolor\": \"#000000\", \"facecolor\": \"#D3D3D3\", \"edgewidth\": 1, \"yindex\": 1, \"coordinates\": \"data\", \"zorder\": 2, \"markerpath\": [[[0.0, 20.0], [5.304062, 20.0], [10.391597415697069, 17.892673831764835], [14.142135623730951, 14.142135623730951], [17.892673831764835, 10.391597415697069], [20.0, 5.304062], [20.0, 0.0], [20.0, -5.304062], [17.892673831764835, -10.391597415697069], [14.142135623730951, -14.142135623730951], [10.391597415697069, -17.892673831764835], [5.304062, -20.0], [0.0, -20.0], [-5.304062, -20.0], [-10.391597415697069, -17.892673831764835], [-14.142135623730951, -14.142135623730951], [-17.892673831764835, -10.391597415697069], [-20.0, -5.304062], [-20.0, 0.0], [-20.0, 5.304062], [-17.892673831764835, 10.391597415697069], [-14.142135623730951, 14.142135623730951], [-10.391597415697069, 17.892673831764835], [-5.304062, 20.0], [0.0, 20.0]], [\"M\", \"C\", \"C\", \"C\", \"C\", \"C\", \"C\", \"C\", \"C\", \"Z\"]], \"alpha\": 0.0, \"xindex\": 0, \"data\": \"data09\", \"id\": \"el2486140112745134672pts\"}], \"id\": \"el2486140112745754512\", \"ydomain\": [-0.080000000000000002, 0.97005380142589959], \"collections\": [], \"xscale\": \"linear\", \"bbox\": [0.125, 0.125, 0.77500000000000002, 0.77500000000000002]}], \"height\": 640.0, \"width\": 960.0, \"plugins\": [{\"type\": \"reset\"}, {\"enabled\": false, \"button\": true, \"type\": \"zoom\"}, {\"enabled\": false, \"button\": true, \"type\": \"boxzoom\"}, {\"voffset\": 10, \"labels\": [\"<table border=\\\"1\\\" cellpadding=\\\"4\\\" cellspacing=\\\"0\\\" bordercolor=\\\"#000000\\\">\\n<tr bgcolor=\\\"#AAAAAA\\\">\\n<th align=\\\"center\\\">Burglary</th>\\n<th align=\\\"center\\\">Prob.</th>\\n</tr>\\n<tr>\\n<td bgcolor=#FFFFFF>True</td>\\n<td bgcolor=#f6b5b1>0.010</td>\\n</tr>\\n<tr>\\n<td bgcolor=#FFFFFF>False</td>\\n<td bgcolor=#f2f0f1>0.990</td>\\n</tr>\\n</table>\", \"<table border=\\\"1\\\" cellpadding=\\\"4\\\" cellspacing=\\\"0\\\" bordercolor=\\\"#000000\\\">\\n<tr bgcolor=\\\"#AAAAAA\\\">\\n<th align=\\\"center\\\">Alarm</th>\\n<th align=\\\"center\\\">MaryCalls</th>\\n<th align=\\\"center\\\">Prob.</th>\\n</tr>\\n<tr>\\n<td bgcolor=#FFFFFF>True</td>\\n<td bgcolor=#FFFFFF>True</td>\\n<td bgcolor=#eee6c2>0.700</td>\\n</tr>\\n<tr>\\n<td bgcolor=#FFFFFF>True</td>\\n<td bgcolor=#FFFFFF>False</td>\\n<td bgcolor=#d2ded0>0.300</td>\\n</tr>\\n<tr>\\n<td bgcolor=#FFFFFF>False</td>\\n<td bgcolor=#FFFFFF>True</td>\\n<td bgcolor=#f6b5b1>0.010</td>\\n</tr>\\n<tr>\\n<td bgcolor=#FFFFFF>False</td>\\n<td bgcolor=#FFFFFF>False</td>\\n<td bgcolor=#f2f0f1>0.990</td>\\n</tr>\\n</table>\", \"<table border=\\\"1\\\" cellpadding=\\\"4\\\" cellspacing=\\\"0\\\" bordercolor=\\\"#000000\\\">\\n<tr bgcolor=\\\"#AAAAAA\\\">\\n<th align=\\\"center\\\">Burglary</th>\\n<th align=\\\"center\\\">Earthquake</th>\\n<th align=\\\"center\\\">Alarm</th>\\n<th align=\\\"center\\\">Prob.</th>\\n</tr>\\n<tr>\\n<td bgcolor=#FFFFFF>True</td>\\n<td bgcolor=#FFFFFF>True</td>\\n<td bgcolor=#FFFFFF>True</td>\\n<td bgcolor=#f6e8ef>0.950</td>\\n</tr>\\n<tr>\\n<td bgcolor=#FFFFFF>True</td>\\n<td bgcolor=#FFFFFF>True</td>\\n<td bgcolor=#FFFFFF>False</td>\\n<td bgcolor=#dfbdc1>0.050</td>\\n</tr>\\n<tr>\\n<td bgcolor=#FFFFFF>True</td>\\n<td bgcolor=#FFFFFF>False</td>\\n<td bgcolor=#FFFFFF>True</td>\\n<td bgcolor=#f7e6ef>0.940</td>\\n</tr>\\n<tr>\\n<td bgcolor=#FFFFFF>True</td>\\n<td bgcolor=#FFFFFF>False</td>\\n<td bgcolor=#FFFFFF>False</td>\\n<td bgcolor=#d9bfc6>0.060</td>\\n</tr>\\n<tr>\\n<td bgcolor=#FFFFFF>False</td>\\n<td bgcolor=#FFFFFF>True</td>\\n<td bgcolor=#FFFFFF>True</td>\\n<td bgcolor=#d1e0ce>0.290</td>\\n</tr>\\n<tr>\\n<td bgcolor=#FFFFFF>False</td>\\n<td bgcolor=#FFFFFF>True</td>\\n<td bgcolor=#FFFFFF>False</td>\\n<td bgcolor=#ede4c1>0.710</td>\\n</tr>\\n<tr>\\n<td bgcolor=#FFFFFF>False</td>\\n<td bgcolor=#FFFFFF>False</td>\\n<td bgcolor=#FFFFFF>True</td>\\n<td bgcolor=#fbb4ae>0.001</td>\\n</tr>\\n<tr>\\n<td bgcolor=#FFFFFF>False</td>\\n<td bgcolor=#FFFFFF>False</td>\\n<td bgcolor=#FFFFFF>False</td>\\n<td bgcolor=#f2f2f2>0.999</td>\\n</tr>\\n</table>\", \"<table border=\\\"1\\\" cellpadding=\\\"4\\\" cellspacing=\\\"0\\\" bordercolor=\\\"#000000\\\">\\n<tr bgcolor=\\\"#AAAAAA\\\">\\n<th align=\\\"center\\\">Alarm</th>\\n<th align=\\\"center\\\">JohnCalls</th>\\n<th align=\\\"center\\\">Prob.</th>\\n</tr>\\n<tr>\\n<td bgcolor=#FFFFFF>True</td>\\n<td bgcolor=#FFFFFF>True</td>\\n<td bgcolor=#fadfed>0.900</td>\\n</tr>\\n<tr>\\n<td bgcolor=#FFFFFF>True</td>\\n<td bgcolor=#FFFFFF>False</td>\\n<td bgcolor=#c2c7d7>0.100</td>\\n</tr>\\n<tr>\\n<td bgcolor=#FFFFFF>False</td>\\n<td bgcolor=#FFFFFF>True</td>\\n<td bgcolor=#dfbdc1>0.050</td>\\n</tr>\\n<tr>\\n<td bgcolor=#FFFFFF>False</td>\\n<td bgcolor=#FFFFFF>False</td>\\n<td bgcolor=#f6e8ef>0.950</td>\\n</tr>\\n</table>\", \"<table border=\\\"1\\\" cellpadding=\\\"4\\\" cellspacing=\\\"0\\\" bordercolor=\\\"#000000\\\">\\n<tr bgcolor=\\\"#AAAAAA\\\">\\n<th align=\\\"center\\\">Earthquake</th>\\n<th align=\\\"center\\\">Prob.</th>\\n</tr>\\n<tr>\\n<td bgcolor=#FFFFFF>True</td>\\n<td bgcolor=#efb7b6>0.020</td>\\n</tr>\\n<tr>\\n<td bgcolor=#FFFFFF>False</td>\\n<td bgcolor=#f3eef1>0.980</td>\\n</tr>\\n</table>\"], \"type\": \"htmltooltip\", \"id\": \"el2486140112745134672pts\", \"hoffset\": 10}], \"data\": {\"data08\": [[0.6945991162423247, 0.5969725409281533], [0.6407048426380291, 0.5452523184873745]], \"data09\": [[0.0, 0.6326630888402858], [0.29011863438731583, 0.0660935363841069], [0.6407048426380291, 0.5452523184873745], [0.9249115882122422, 0.0], [1.0, 0.8900538014258996]], \"data06\": [[0.8822805763761102, 0.08178784777310617], [0.9249115882122422, 0.0]], \"data07\": [[1.0, 0.8900538014258996], [0.6407048426380291, 0.5452523184873745]], \"data04\": [[0.3427065656249228, 0.13796735369959706], [0.29011863438731583, 0.0660935363841069]], \"data05\": [[0.6407048426380291, 0.5452523184873745], [0.9249115882122422, 0.0]], \"data02\": [[0.5445991162423247, 0.5583639340403113], [0.6407048426380291, 0.5452523184873745]], \"data03\": [[0.6407048426380291, 0.5452523184873745], [0.29011863438731583, 0.0660935363841069]], \"data01\": [[0.0, 0.6326630888402858], [0.6407048426380291, 0.5452523184873745]]}, \"id\": \"el2486140112745752208\"});\n",
       "      });\n",
       "    });\n",
       "}else{\n",
       "    // require.js not available: dynamically load d3 & mpld3\n",
       "    mpld3_load_lib(\"https://mpld3.github.io/js/d3.v3.min.js\", function(){\n",
       "         mpld3_load_lib(\"https://mpld3.github.io/js/mpld3.v0.2.js\", function(){\n",
       "                 \n",
       "    mpld3.register_plugin(\"htmltooltip\", HtmlTooltipPlugin);\n",
       "    HtmlTooltipPlugin.prototype = Object.create(mpld3.Plugin.prototype);\n",
       "    HtmlTooltipPlugin.prototype.constructor = HtmlTooltipPlugin;\n",
       "    HtmlTooltipPlugin.prototype.requiredProps = [\"id\"];\n",
       "    HtmlTooltipPlugin.prototype.defaultProps = {labels:null, hoffset:0, voffset:10};\n",
       "    function HtmlTooltipPlugin(fig, props){\n",
       "        mpld3.Plugin.call(this, fig, props);\n",
       "    };\n",
       "\n",
       "    HtmlTooltipPlugin.prototype.draw = function(){\n",
       "       var obj = mpld3.get_element(this.props.id);\n",
       "       var labels = this.props.labels;\n",
       "       var tooltip = d3.select(\"body\").append(\"div\")\n",
       "                    .attr(\"class\", \"mpld3-tooltip\")\n",
       "                    .style(\"position\", \"absolute\")\n",
       "                    .style(\"z-index\", \"10\")\n",
       "                    .style(\"visibility\", \"hidden\");\n",
       "\n",
       "       obj.elements()\n",
       "           .on(\"mouseover\", function(d, i){\n",
       "                              tooltip.html(labels[i])\n",
       "                                     .style(\"visibility\", \"visible\");})\n",
       "           .on(\"mousemove\", function(d, i){\n",
       "                    tooltip\n",
       "                      .style(\"top\", d3.event.pageY + this.props.voffset + \"px\")\n",
       "                      .style(\"left\",d3.event.pageX + this.props.hoffset + \"px\");\n",
       "                 }.bind(this))\n",
       "           .on(\"mouseout\",  function(d, i){\n",
       "                           tooltip.style(\"visibility\", \"hidden\");});\n",
       "    };\n",
       "    \n",
       "                 mpld3.draw_figure(\"fig_el24861401127457522086350672418\", {\"axes\": [{\"xlim\": [-0.080000000000000002, 1.0800000000000001], \"yscale\": \"linear\", \"axesbg\": \"#FFFFFF\", \"texts\": [{\"v_baseline\": \"central\", \"h_anchor\": \"middle\", \"color\": \"#000000\", \"text\": \"Burglary\", \"coordinates\": \"data\", \"zorder\": 3, \"alpha\": 1, \"fontsize\": 10.0, \"position\": [0.0, 0.63266308884028577], \"rotation\": -0.0, \"id\": \"el2486140112745080144\"}, {\"v_baseline\": \"central\", \"h_anchor\": \"middle\", \"color\": \"#000000\", \"text\": \"MaryCalls\", \"coordinates\": \"data\", \"zorder\": 3, \"alpha\": 1, \"fontsize\": 10.0, \"position\": [0.29011863438731583, 0.066093536384106893], \"rotation\": -0.0, \"id\": \"el2486140112745081104\"}, {\"v_baseline\": \"central\", \"h_anchor\": \"middle\", \"color\": \"#000000\", \"text\": \"Alarm\", \"coordinates\": \"data\", \"zorder\": 3, \"alpha\": 1, \"fontsize\": 10.0, \"position\": [0.64070484263802907, 0.54525231848737454], \"rotation\": -0.0, \"id\": \"el2486140112745082192\"}, {\"v_baseline\": \"central\", \"h_anchor\": \"middle\", \"color\": \"#000000\", \"text\": \"JohnCalls\", \"coordinates\": \"data\", \"zorder\": 3, \"alpha\": 1, \"fontsize\": 10.0, \"position\": [0.92491158821224218, 0.0], \"rotation\": -0.0, \"id\": \"el2486140112745132496\"}, {\"v_baseline\": \"central\", \"h_anchor\": \"middle\", \"color\": \"#000000\", \"text\": \"Earthquake\", \"coordinates\": \"data\", \"zorder\": 3, \"alpha\": 1, \"fontsize\": 10.0, \"position\": [1.0, 0.89005380142589963], \"rotation\": -0.0, \"id\": \"el2486140112745133584\"}], \"zoomable\": true, \"images\": [], \"xdomain\": [-0.080000000000000002, 1.0800000000000001], \"ylim\": [-0.080000000000000002, 0.97005380142589959], \"paths\": [], \"sharey\": [], \"sharex\": [], \"axesbgalpha\": null, \"axes\": [{\"scale\": \"linear\", \"tickformat\": null, \"grid\": {\"gridOn\": false}, \"fontsize\": 10.0, \"position\": \"bottom\", \"nticks\": 8, \"tickvalues\": null}, {\"scale\": \"linear\", \"tickformat\": null, \"grid\": {\"gridOn\": false}, \"fontsize\": 10.0, \"position\": \"left\", \"nticks\": 7, \"tickvalues\": null}], \"lines\": [{\"color\": \"#808080\", \"yindex\": 1, \"coordinates\": \"data\", \"dasharray\": \"10,0\", \"zorder\": 2, \"alpha\": 1, \"xindex\": 0, \"linewidth\": 1.0, \"data\": \"data01\", \"id\": \"el2486140113385480592\"}, {\"color\": \"#000000\", \"yindex\": 1, \"coordinates\": \"data\", \"dasharray\": \"10,0\", \"zorder\": 2, \"alpha\": 0.5, \"xindex\": 0, \"linewidth\": 5.0, \"data\": \"data02\", \"id\": \"el2486140112745651920\"}, {\"color\": \"#808080\", \"yindex\": 1, \"coordinates\": \"data\", \"dasharray\": \"10,0\", \"zorder\": 2, \"alpha\": 1, \"xindex\": 0, \"linewidth\": 1.0, \"data\": \"data03\", \"id\": \"el2486140112745580240\"}, {\"color\": \"#000000\", \"yindex\": 1, \"coordinates\": \"data\", \"dasharray\": \"10,0\", \"zorder\": 2, \"alpha\": 0.5, \"xindex\": 0, \"linewidth\": 5.0, \"data\": \"data04\", \"id\": \"el2486140112745527056\"}, {\"color\": \"#808080\", \"yindex\": 1, \"coordinates\": \"data\", \"dasharray\": \"10,0\", \"zorder\": 2, \"alpha\": 1, \"xindex\": 0, \"linewidth\": 1.0, \"data\": \"data05\", \"id\": \"el2486140112745486544\"}, {\"color\": \"#000000\", \"yindex\": 1, \"coordinates\": \"data\", \"dasharray\": \"10,0\", \"zorder\": 2, \"alpha\": 0.5, \"xindex\": 0, \"linewidth\": 5.0, \"data\": \"data06\", \"id\": \"el2486140112745411856\"}, {\"color\": \"#808080\", \"yindex\": 1, \"coordinates\": \"data\", \"dasharray\": \"10,0\", \"zorder\": 2, \"alpha\": 1, \"xindex\": 0, \"linewidth\": 1.0, \"data\": \"data07\", \"id\": \"el2486140112744906000\"}, {\"color\": \"#000000\", \"yindex\": 1, \"coordinates\": \"data\", \"dasharray\": \"10,0\", \"zorder\": 2, \"alpha\": 0.5, \"xindex\": 0, \"linewidth\": 5.0, \"data\": \"data08\", \"id\": \"el2486140112745030544\"}], \"markers\": [{\"edgecolor\": \"#000000\", \"facecolor\": \"#D3D3D3\", \"edgewidth\": 1, \"yindex\": 1, \"coordinates\": \"data\", \"zorder\": 2, \"markerpath\": [[[0.0, 10.0], [2.652031, 10.0], [5.195798707848534, 8.946336915882418], [7.0710678118654755, 7.0710678118654755], [8.946336915882418, 5.195798707848534], [10.0, 2.652031], [10.0, 0.0], [10.0, -2.652031], [8.946336915882418, -5.195798707848534], [7.0710678118654755, -7.0710678118654755], [5.195798707848534, -8.946336915882418], [2.652031, -10.0], [0.0, -10.0], [-2.652031, -10.0], [-5.195798707848534, -8.946336915882418], [-7.0710678118654755, -7.0710678118654755], [-8.946336915882418, -5.195798707848534], [-10.0, -2.652031], [-10.0, 0.0], [-10.0, 2.652031], [-8.946336915882418, 5.195798707848534], [-7.0710678118654755, 7.0710678118654755], [-5.195798707848534, 8.946336915882418], [-2.652031, 10.0], [0.0, 10.0]], [\"M\", \"C\", \"C\", \"C\", \"C\", \"C\", \"C\", \"C\", \"C\", \"Z\"]], \"alpha\": 1.0, \"xindex\": 0, \"data\": \"data09\", \"id\": \"el2486140113385481232pts\"}, {\"edgecolor\": \"#000000\", \"facecolor\": \"#D3D3D3\", \"edgewidth\": 1, \"yindex\": 1, \"coordinates\": \"data\", \"zorder\": 2, \"markerpath\": [[[0.0, 20.0], [5.304062, 20.0], [10.391597415697069, 17.892673831764835], [14.142135623730951, 14.142135623730951], [17.892673831764835, 10.391597415697069], [20.0, 5.304062], [20.0, 0.0], [20.0, -5.304062], [17.892673831764835, -10.391597415697069], [14.142135623730951, -14.142135623730951], [10.391597415697069, -17.892673831764835], [5.304062, -20.0], [0.0, -20.0], [-5.304062, -20.0], [-10.391597415697069, -17.892673831764835], [-14.142135623730951, -14.142135623730951], [-17.892673831764835, -10.391597415697069], [-20.0, -5.304062], [-20.0, 0.0], [-20.0, 5.304062], [-17.892673831764835, 10.391597415697069], [-14.142135623730951, 14.142135623730951], [-10.391597415697069, 17.892673831764835], [-5.304062, 20.0], [0.0, 20.0]], [\"M\", \"C\", \"C\", \"C\", \"C\", \"C\", \"C\", \"C\", \"C\", \"Z\"]], \"alpha\": 0.0, \"xindex\": 0, \"data\": \"data09\", \"id\": \"el2486140112745134672pts\"}], \"id\": \"el2486140112745754512\", \"ydomain\": [-0.080000000000000002, 0.97005380142589959], \"collections\": [], \"xscale\": \"linear\", \"bbox\": [0.125, 0.125, 0.77500000000000002, 0.77500000000000002]}], \"height\": 640.0, \"width\": 960.0, \"plugins\": [{\"type\": \"reset\"}, {\"enabled\": false, \"button\": true, \"type\": \"zoom\"}, {\"enabled\": false, \"button\": true, \"type\": \"boxzoom\"}, {\"voffset\": 10, \"labels\": [\"<table border=\\\"1\\\" cellpadding=\\\"4\\\" cellspacing=\\\"0\\\" bordercolor=\\\"#000000\\\">\\n<tr bgcolor=\\\"#AAAAAA\\\">\\n<th align=\\\"center\\\">Burglary</th>\\n<th align=\\\"center\\\">Prob.</th>\\n</tr>\\n<tr>\\n<td bgcolor=#FFFFFF>True</td>\\n<td bgcolor=#f6b5b1>0.010</td>\\n</tr>\\n<tr>\\n<td bgcolor=#FFFFFF>False</td>\\n<td bgcolor=#f2f0f1>0.990</td>\\n</tr>\\n</table>\", \"<table border=\\\"1\\\" cellpadding=\\\"4\\\" cellspacing=\\\"0\\\" bordercolor=\\\"#000000\\\">\\n<tr bgcolor=\\\"#AAAAAA\\\">\\n<th align=\\\"center\\\">Alarm</th>\\n<th align=\\\"center\\\">MaryCalls</th>\\n<th align=\\\"center\\\">Prob.</th>\\n</tr>\\n<tr>\\n<td bgcolor=#FFFFFF>True</td>\\n<td bgcolor=#FFFFFF>True</td>\\n<td bgcolor=#eee6c2>0.700</td>\\n</tr>\\n<tr>\\n<td bgcolor=#FFFFFF>True</td>\\n<td bgcolor=#FFFFFF>False</td>\\n<td bgcolor=#d2ded0>0.300</td>\\n</tr>\\n<tr>\\n<td bgcolor=#FFFFFF>False</td>\\n<td bgcolor=#FFFFFF>True</td>\\n<td bgcolor=#f6b5b1>0.010</td>\\n</tr>\\n<tr>\\n<td bgcolor=#FFFFFF>False</td>\\n<td bgcolor=#FFFFFF>False</td>\\n<td bgcolor=#f2f0f1>0.990</td>\\n</tr>\\n</table>\", \"<table border=\\\"1\\\" cellpadding=\\\"4\\\" cellspacing=\\\"0\\\" bordercolor=\\\"#000000\\\">\\n<tr bgcolor=\\\"#AAAAAA\\\">\\n<th align=\\\"center\\\">Burglary</th>\\n<th align=\\\"center\\\">Earthquake</th>\\n<th align=\\\"center\\\">Alarm</th>\\n<th align=\\\"center\\\">Prob.</th>\\n</tr>\\n<tr>\\n<td bgcolor=#FFFFFF>True</td>\\n<td bgcolor=#FFFFFF>True</td>\\n<td bgcolor=#FFFFFF>True</td>\\n<td bgcolor=#f6e8ef>0.950</td>\\n</tr>\\n<tr>\\n<td bgcolor=#FFFFFF>True</td>\\n<td bgcolor=#FFFFFF>True</td>\\n<td bgcolor=#FFFFFF>False</td>\\n<td bgcolor=#dfbdc1>0.050</td>\\n</tr>\\n<tr>\\n<td bgcolor=#FFFFFF>True</td>\\n<td bgcolor=#FFFFFF>False</td>\\n<td bgcolor=#FFFFFF>True</td>\\n<td bgcolor=#f7e6ef>0.940</td>\\n</tr>\\n<tr>\\n<td bgcolor=#FFFFFF>True</td>\\n<td bgcolor=#FFFFFF>False</td>\\n<td bgcolor=#FFFFFF>False</td>\\n<td bgcolor=#d9bfc6>0.060</td>\\n</tr>\\n<tr>\\n<td bgcolor=#FFFFFF>False</td>\\n<td bgcolor=#FFFFFF>True</td>\\n<td bgcolor=#FFFFFF>True</td>\\n<td bgcolor=#d1e0ce>0.290</td>\\n</tr>\\n<tr>\\n<td bgcolor=#FFFFFF>False</td>\\n<td bgcolor=#FFFFFF>True</td>\\n<td bgcolor=#FFFFFF>False</td>\\n<td bgcolor=#ede4c1>0.710</td>\\n</tr>\\n<tr>\\n<td bgcolor=#FFFFFF>False</td>\\n<td bgcolor=#FFFFFF>False</td>\\n<td bgcolor=#FFFFFF>True</td>\\n<td bgcolor=#fbb4ae>0.001</td>\\n</tr>\\n<tr>\\n<td bgcolor=#FFFFFF>False</td>\\n<td bgcolor=#FFFFFF>False</td>\\n<td bgcolor=#FFFFFF>False</td>\\n<td bgcolor=#f2f2f2>0.999</td>\\n</tr>\\n</table>\", \"<table border=\\\"1\\\" cellpadding=\\\"4\\\" cellspacing=\\\"0\\\" bordercolor=\\\"#000000\\\">\\n<tr bgcolor=\\\"#AAAAAA\\\">\\n<th align=\\\"center\\\">Alarm</th>\\n<th align=\\\"center\\\">JohnCalls</th>\\n<th align=\\\"center\\\">Prob.</th>\\n</tr>\\n<tr>\\n<td bgcolor=#FFFFFF>True</td>\\n<td bgcolor=#FFFFFF>True</td>\\n<td bgcolor=#fadfed>0.900</td>\\n</tr>\\n<tr>\\n<td bgcolor=#FFFFFF>True</td>\\n<td bgcolor=#FFFFFF>False</td>\\n<td bgcolor=#c2c7d7>0.100</td>\\n</tr>\\n<tr>\\n<td bgcolor=#FFFFFF>False</td>\\n<td bgcolor=#FFFFFF>True</td>\\n<td bgcolor=#dfbdc1>0.050</td>\\n</tr>\\n<tr>\\n<td bgcolor=#FFFFFF>False</td>\\n<td bgcolor=#FFFFFF>False</td>\\n<td bgcolor=#f6e8ef>0.950</td>\\n</tr>\\n</table>\", \"<table border=\\\"1\\\" cellpadding=\\\"4\\\" cellspacing=\\\"0\\\" bordercolor=\\\"#000000\\\">\\n<tr bgcolor=\\\"#AAAAAA\\\">\\n<th align=\\\"center\\\">Earthquake</th>\\n<th align=\\\"center\\\">Prob.</th>\\n</tr>\\n<tr>\\n<td bgcolor=#FFFFFF>True</td>\\n<td bgcolor=#efb7b6>0.020</td>\\n</tr>\\n<tr>\\n<td bgcolor=#FFFFFF>False</td>\\n<td bgcolor=#f3eef1>0.980</td>\\n</tr>\\n</table>\"], \"type\": \"htmltooltip\", \"id\": \"el2486140112745134672pts\", \"hoffset\": 10}], \"data\": {\"data08\": [[0.6945991162423247, 0.5969725409281533], [0.6407048426380291, 0.5452523184873745]], \"data09\": [[0.0, 0.6326630888402858], [0.29011863438731583, 0.0660935363841069], [0.6407048426380291, 0.5452523184873745], [0.9249115882122422, 0.0], [1.0, 0.8900538014258996]], \"data06\": [[0.8822805763761102, 0.08178784777310617], [0.9249115882122422, 0.0]], \"data07\": [[1.0, 0.8900538014258996], [0.6407048426380291, 0.5452523184873745]], \"data04\": [[0.3427065656249228, 0.13796735369959706], [0.29011863438731583, 0.0660935363841069]], \"data05\": [[0.6407048426380291, 0.5452523184873745], [0.9249115882122422, 0.0]], \"data02\": [[0.5445991162423247, 0.5583639340403113], [0.6407048426380291, 0.5452523184873745]], \"data03\": [[0.6407048426380291, 0.5452523184873745], [0.29011863438731583, 0.0660935363841069]], \"data01\": [[0.0, 0.6326630888402858], [0.6407048426380291, 0.5452523184873745]]}, \"id\": \"el2486140112745752208\"});\n",
       "            })\n",
       "         });\n",
       "}\n",
       "</script>"
      ],
      "text/plain": [
       "<IPython.core.display.HTML object>"
      ]
     },
     "execution_count": 5,
     "metadata": {},
     "output_type": "execute_result"
    }
   ],
   "source": [
    "from os import listdir\n",
    "import os.path\n",
    "NETWORKS_PATH = '/home/wrwt/Programming/pygraphmodels/networks/'\n",
    "network_filenames = listdir(NETWORKS_PATH)\n",
    "true_dgm = gm.DGM.read(os.path.join(NETWORKS_PATH, 'earthquake.bif'))\n",
    "true_dgm.draw()"
   ]
  },
  {
   "cell_type": "code",
   "execution_count": 92,
   "metadata": {
    "collapsed": true
   },
   "outputs": [],
   "source": [
    "data = true_dgm.rvs(1000000)"
   ]
  },
  {
   "cell_type": "code",
   "execution_count": 93,
   "metadata": {
    "collapsed": false
   },
   "outputs": [],
   "source": [
    "from graphmodels.information import discrete_entropy, discrete_mutual_information"
   ]
  },
  {
   "cell_type": "code",
   "execution_count": 94,
   "metadata": {
    "collapsed": false
   },
   "outputs": [
    {
     "name": "stdout",
     "output_type": "stream",
     "text": [
      "1 loop, best of 3: 605 ms per loop\n"
     ]
    }
   ],
   "source": [
    "%%timeit\n",
    "discrete_mutual_information(data[['Alarm']], data[['MaryCalls', 'JohnCalls']])"
   ]
  },
  {
   "cell_type": "code",
   "execution_count": 95,
   "metadata": {
    "collapsed": true
   },
   "outputs": [],
   "source": [
    "from itertools import product\n",
    "class MatrixGraph:\n",
    "    def __init__(self, adjacency_matrix, names_to_idx=None):\n",
    "        self.adj = adjacency_matrix\n",
    "        self.names_to_idx = names_to_idx\n",
    "        if names_to_idx is None:\n",
    "            self.names_to_idx = {i:i for i in range(adj.shape[0])}\n",
    "            \n",
    "    @property\n",
    "    def n(self):\n",
    "        return self.adj.shape[0]\n",
    "    \n",
    "    @property\n",
    "    def m(self):\n",
    "        return np.sum(self.adj)\n",
    "    \n",
    "    @property\n",
    "    def names(self):\n",
    "        idx_to_names = self.idx_to_names\n",
    "        return [idx_to_names[i] for i in range(self.n)]\n",
    "    \n",
    "    def nodes(self):\n",
    "        return list(range(self.n))\n",
    "    \n",
    "    @property\n",
    "    def idx_to_names(self):\n",
    "        return {i:node for node, i in self.names_to_idx.items()}\n",
    "    \n",
    "    @staticmethod\n",
    "    def from_networkx_DiGraph(graph):\n",
    "        names_to_idx = {node:i for i, node in enumerate(graph.nodes())}\n",
    "        adj = np.zeros((len(names_to_idx), len(names_to_idx)))\n",
    "        for u, v in graph.edges():\n",
    "            adj[names_to_idx[u], names_to_idx[v]] = 1\n",
    "        return MatrixGraph(adj, names_to_idx=names_to_idx)\n",
    "\n",
    "    def to_networkx_DiGraph(self):\n",
    "        result = nx.DiGraph()\n",
    "        result.add_nodes_from(self.names_to_idx.keys())\n",
    "        for i, j in product(range(self.n), repeat=2):\n",
    "            if self.adj[i, j]:\n",
    "                result.add_edge(self.idx_to_names[i], self.idx_to_names[j])\n",
    "        return result\n",
    "    \n",
    "    def is_acyclic(self):\n",
    "        return nx.is_directed_acyclic_graph(self.to_networkx_DiGraph())\n",
    "    \n",
    "    def draw(self):\n",
    "        return gm.DGM(self.to_networkx_DiGraph()).draw()"
   ]
  },
  {
   "cell_type": "code",
   "execution_count": 96,
   "metadata": {
    "collapsed": true
   },
   "outputs": [],
   "source": [
    "def bic_score(dgm, data):\n",
    "    result = 0.\n",
    "    for x in dgm.nodes():\n",
    "        pa = dgm.predecessors(x)\n",
    "        \n",
    "        def n_values(x):\n",
    "            return len(data[x].value_counts())\n",
    "    \n",
    "        k = n_values(x)*np.prod([n_values(pa_i) for pa_i in pa]) - 1\n",
    "        n = data.shape[0]\n",
    "        l = n*(discrete_mutual_information(data[[x]], data[pa]) - \\\n",
    "               discrete_entropy(data[[x]]))\n",
    "        result += l - 0.5 * np.log(n) * k\n",
    "    return result"
   ]
  },
  {
   "cell_type": "code",
   "execution_count": 97,
   "metadata": {
    "collapsed": false
   },
   "outputs": [],
   "source": [
    "class ScoreBIC:\n",
    "    def __init__(self, graph, data):\n",
    "        self.graph = graph\n",
    "        self.data = data\n",
    "        self.n_values = {name: len(self.data[name].value_counts()) for name in self.data.columns}\n",
    "        self.cache = {}\n",
    "        \n",
    "    def _footprint(self, node, parents):\n",
    "        return tuple([node] + list(parents))\n",
    "        \n",
    "    def __call__(self, node, parents):\n",
    "        fp = self._footprint(node, parents)\n",
    "        if fp in self.cache:\n",
    "            return self.cache[fp]\n",
    "        \n",
    "        pa_names = [self.graph.idx_to_names[idx] for idx, exists in enumerate(parents) if exists]\n",
    "        node_name = self.graph.idx_to_names[node]\n",
    "            \n",
    "        k = self.n_values[node_name]*np.prod([self.n_values[pa_i] for pa_i in pa_names]) - 1\n",
    "        n = self.data.shape[0]\n",
    "        l = n*discrete_mutual_information(data[[node_name]], data[pa_names])\n",
    "        \n",
    "        result = l - 0.5 * np.log(n) * k\n",
    "        self.cache[fp] = result\n",
    "        return result"
   ]
  },
  {
   "cell_type": "code",
   "execution_count": 98,
   "metadata": {
    "collapsed": true
   },
   "outputs": [],
   "source": [
    "mxg = MatrixGraph.from_networkx_DiGraph(true_dgm)\n",
    "score = ScoreBIC(mxg, data)"
   ]
  },
  {
   "cell_type": "code",
   "execution_count": 99,
   "metadata": {
    "collapsed": false
   },
   "outputs": [
    {
     "data": {
      "text/plain": [
       "['Burglary', 'MaryCalls', 'Alarm', 'JohnCalls', 'Earthquake']"
      ]
     },
     "execution_count": 99,
     "metadata": {},
     "output_type": "execute_result"
    }
   ],
   "source": [
    "mxg.names"
   ]
  },
  {
   "cell_type": "code",
   "execution_count": 100,
   "metadata": {
    "collapsed": false
   },
   "outputs": [
    {
     "data": {
      "text/plain": [
       "-6.9077552789821368"
      ]
     },
     "execution_count": 100,
     "metadata": {},
     "output_type": "execute_result"
    }
   ],
   "source": [
    "score(1, [0, 0, 0, 0, 0])"
   ]
  },
  {
   "cell_type": "code",
   "execution_count": 101,
   "metadata": {
    "collapsed": false
   },
   "outputs": [
    {
     "data": {
      "text/plain": [
       "37186.405747296842"
      ]
     },
     "execution_count": 101,
     "metadata": {},
     "output_type": "execute_result"
    }
   ],
   "source": [
    "score(1, [0, 0, 1, 0, 0])"
   ]
  },
  {
   "cell_type": "code",
   "execution_count": 102,
   "metadata": {
    "collapsed": false
   },
   "outputs": [
    {
     "data": {
      "text/plain": [
       "37161.957955982485"
      ]
     },
     "execution_count": 102,
     "metadata": {},
     "output_type": "execute_result"
    }
   ],
   "source": [
    "score(1, [1, 0, 1, 0, 0])"
   ]
  },
  {
   "cell_type": "code",
   "execution_count": 103,
   "metadata": {
    "collapsed": false
   },
   "outputs": [
    {
     "data": {
      "text/plain": [
       "-6.9077552789821368"
      ]
     },
     "execution_count": 103,
     "metadata": {},
     "output_type": "execute_result"
    }
   ],
   "source": [
    "score(4, [0, 0, 0, 0, 0])"
   ]
  },
  {
   "cell_type": "code",
   "execution_count": 104,
   "metadata": {
    "collapsed": false
   },
   "outputs": [
    {
     "name": "stdout",
     "output_type": "stream",
     "text": [
      "The line_profiler extension is already loaded. To reload it, use:\n",
      "  %reload_ext line_profiler\n"
     ]
    }
   ],
   "source": [
    "%load_ext line_profiler\n",
    "%lprun -f ScoreBIC.__call__ score(4, [1, 1, 1, 1, 0])"
   ]
  },
  {
   "cell_type": "code",
   "execution_count": 105,
   "metadata": {
    "collapsed": true
   },
   "outputs": [],
   "source": [
    "class InvalidOperation(Exception): pass\n",
    "\n",
    "class LocalOperation:\n",
    "    def __init__(self, graph, fscore):\n",
    "        self.graph = graph\n",
    "        self.fscore = fscore\n",
    "    \n",
    "    def do(self):\n",
    "        raise NotImplementedError()\n",
    "    \n",
    "    def undo(self):\n",
    "        raise NotImplementedError()\n",
    "        \n",
    "    @property\n",
    "    def score(self):\n",
    "        raise NotImplementedError()"
   ]
  },
  {
   "cell_type": "code",
   "execution_count": 106,
   "metadata": {
    "collapsed": true
   },
   "outputs": [],
   "source": [
    "class AddEdge(LocalOperation):\n",
    "    def __init__(self, graph, fscore, src, dst):\n",
    "        LocalOperation.__init__(self, graph, fscore)\n",
    "        self.src = src\n",
    "        self.dst = dst\n",
    "    \n",
    "    def do(self):\n",
    "        if self.graph.adj[self.src, self.dst]:\n",
    "            raise InvalidOperation()\n",
    "        self.graph.adj[self.src, self.dst] = 1\n",
    "        if not self.graph.is_acyclic():\n",
    "            self.graph.adj[self.src, self.dst] = 0\n",
    "            raise InvalidOperation()\n",
    "        return self\n",
    "    \n",
    "    def undo(self):\n",
    "        self.graph.adj[self.src, self.dst] = 0\n",
    "        return self\n",
    "    \n",
    "    @property\n",
    "    def score(self):\n",
    "        pa = self.graph.adj[:, self.dst].copy()\n",
    "        score = -self.fscore(self.dst, pa)\n",
    "        pa[self.src] = 1\n",
    "        score += self.fscore(self.dst, pa)\n",
    "        return score"
   ]
  },
  {
   "cell_type": "code",
   "execution_count": 107,
   "metadata": {
    "collapsed": true
   },
   "outputs": [],
   "source": [
    "class RemoveEdge(LocalOperation):\n",
    "    def __init__(self, graph, fscore, src, dst):\n",
    "        LocalOperation.__init__(self, graph, fscore)\n",
    "        self.src = src\n",
    "        self.dst = dst\n",
    "    \n",
    "    def do(self):\n",
    "        if not self.graph.adj[self.src, self.dst]:\n",
    "            raise InvalidOperation()\n",
    "        self.graph.adj[self.src, self.dst] = 0\n",
    "        return self\n",
    "    \n",
    "    def undo(self):\n",
    "        self.graph.adj[self.src, self.dst] = 1\n",
    "        return self\n",
    "    \n",
    "    @property\n",
    "    def score(self):\n",
    "        pa = self.graph.adj[:, self.dst].copy()\n",
    "        score = -self.fscore(self.dst, pa)\n",
    "        pa[self.src] = 0\n",
    "        score += self.fscore(self.dst, pa)\n",
    "        return score"
   ]
  },
  {
   "cell_type": "code",
   "execution_count": 108,
   "metadata": {
    "collapsed": true
   },
   "outputs": [],
   "source": [
    "class ReverseEdge(LocalOperation):\n",
    "    def __init__(self, graph, fscore, src, dst):\n",
    "        LocalOperation.__init__(self, graph, fscore)\n",
    "        self.src = src\n",
    "        self.dst = dst\n",
    "        \n",
    "    def do(self):\n",
    "        if not self.graph.adj[self.src, self.dst]:\n",
    "            raise InvalidOperation()\n",
    "        self.graph.adj[self.src, self.dst] = 0\n",
    "        self.graph.adj[self.dst, self.src] = 1\n",
    "        if not self.graph.is_acyclic():\n",
    "            self.graph.adj[self.src, self.dst] = 1\n",
    "            self.graph.adj[self.dst, self.src] = 0\n",
    "            raise InvalidOperation()\n",
    "        return self\n",
    "    \n",
    "    def undo(self):\n",
    "        self.graph.adj[self.src, self.dst] = 1\n",
    "        self.graph.adj[self.dst, self.src] = 0\n",
    "        return self\n",
    "    \n",
    "    @property\n",
    "    def score(self):\n",
    "        pa = self.graph.adj[:, self.dst].copy()\n",
    "        score = -self.fscore(self.dst, pa)\n",
    "        pa[self.src] = 0\n",
    "        score += self.fscore(self.dst, pa)\n",
    "        \n",
    "        pa = self.graph.adj[:, self.src].copy()\n",
    "        score -= self.fscore(self.src, pa)\n",
    "        pa[self.dst] = 1\n",
    "        score += self.fscore(self.src, pa)\n",
    "        return score"
   ]
  },
  {
   "cell_type": "code",
   "execution_count": 109,
   "metadata": {
    "collapsed": true
   },
   "outputs": [],
   "source": [
    "mxg = MatrixGraph.from_networkx_DiGraph(true_dgm)\n",
    "score = ScoreBIC(mxg, data)"
   ]
  },
  {
   "cell_type": "code",
   "execution_count": 110,
   "metadata": {
    "collapsed": false
   },
   "outputs": [
    {
     "data": {
      "text/html": [
       "\n",
       "\n",
       "<style>\n",
       "\n",
       "table\n",
       "{\n",
       "  border-collapse: collapse;\n",
       "}\n",
       "th\n",
       "{\n",
       "  color: #ffffff;\n",
       "  background-color: #000000;\n",
       "}\n",
       "td\n",
       "{\n",
       "  background-color: #cccccc;\n",
       "}\n",
       "table, th, td\n",
       "{\n",
       "  font-family:Arial, Helvetica, sans-serif;\n",
       "  border: 1px solid black;\n",
       "  text-align: center;\n",
       "  padding: 3px;\n",
       "  font-size:11pt;\n",
       "}\n",
       "g.mpld3-xaxis, g.mpld3-yaxis {\n",
       "    display: none;\n",
       "}\n",
       "    \n",
       "</style>\n",
       "\n",
       "<div id=\"fig_el2486140112735715664115671625\"></div>\n",
       "<script>\n",
       "function mpld3_load_lib(url, callback){\n",
       "  var s = document.createElement('script');\n",
       "  s.src = url;\n",
       "  s.async = true;\n",
       "  s.onreadystatechange = s.onload = callback;\n",
       "  s.onerror = function(){console.warn(\"failed to load library \" + url);};\n",
       "  document.getElementsByTagName(\"head\")[0].appendChild(s);\n",
       "}\n",
       "\n",
       "if(typeof(mpld3) !== \"undefined\" && mpld3._mpld3IsLoaded){\n",
       "   // already loaded: just create the figure\n",
       "   !function(mpld3){\n",
       "       \n",
       "    mpld3.register_plugin(\"htmltooltip\", HtmlTooltipPlugin);\n",
       "    HtmlTooltipPlugin.prototype = Object.create(mpld3.Plugin.prototype);\n",
       "    HtmlTooltipPlugin.prototype.constructor = HtmlTooltipPlugin;\n",
       "    HtmlTooltipPlugin.prototype.requiredProps = [\"id\"];\n",
       "    HtmlTooltipPlugin.prototype.defaultProps = {labels:null, hoffset:0, voffset:10};\n",
       "    function HtmlTooltipPlugin(fig, props){\n",
       "        mpld3.Plugin.call(this, fig, props);\n",
       "    };\n",
       "\n",
       "    HtmlTooltipPlugin.prototype.draw = function(){\n",
       "       var obj = mpld3.get_element(this.props.id);\n",
       "       var labels = this.props.labels;\n",
       "       var tooltip = d3.select(\"body\").append(\"div\")\n",
       "                    .attr(\"class\", \"mpld3-tooltip\")\n",
       "                    .style(\"position\", \"absolute\")\n",
       "                    .style(\"z-index\", \"10\")\n",
       "                    .style(\"visibility\", \"hidden\");\n",
       "\n",
       "       obj.elements()\n",
       "           .on(\"mouseover\", function(d, i){\n",
       "                              tooltip.html(labels[i])\n",
       "                                     .style(\"visibility\", \"visible\");})\n",
       "           .on(\"mousemove\", function(d, i){\n",
       "                    tooltip\n",
       "                      .style(\"top\", d3.event.pageY + this.props.voffset + \"px\")\n",
       "                      .style(\"left\",d3.event.pageX + this.props.hoffset + \"px\");\n",
       "                 }.bind(this))\n",
       "           .on(\"mouseout\",  function(d, i){\n",
       "                           tooltip.style(\"visibility\", \"hidden\");});\n",
       "    };\n",
       "    \n",
       "       mpld3.draw_figure(\"fig_el2486140112735715664115671625\", {\"axes\": [{\"xlim\": [-0.080000000000000002, 0.93745455486002538], \"yscale\": \"linear\", \"axesbg\": \"#FFFFFF\", \"texts\": [{\"v_baseline\": \"central\", \"h_anchor\": \"middle\", \"color\": \"#000000\", \"text\": \"Burglary\", \"coordinates\": \"data\", \"zorder\": 3, \"alpha\": 1, \"fontsize\": 10.0, \"position\": [0.0, 0.51912803509927696], \"rotation\": -0.0, \"id\": \"el2486140112733193936\"}, {\"v_baseline\": \"central\", \"h_anchor\": \"middle\", \"color\": \"#000000\", \"text\": \"MaryCalls\", \"coordinates\": \"data\", \"zorder\": 3, \"alpha\": 1, \"fontsize\": 10.0, \"position\": [0.85745455486002542, 0.78200664443375478], \"rotation\": -0.0, \"id\": \"el2486140112733675088\"}, {\"v_baseline\": \"central\", \"h_anchor\": \"middle\", \"color\": \"#000000\", \"text\": \"Alarm\", \"coordinates\": \"data\", \"zorder\": 3, \"alpha\": 1, \"fontsize\": 10.0, \"position\": [0.43813081039567309, 0.54023877975847523], \"rotation\": -0.0, \"id\": \"el2486140112733672528\"}, {\"v_baseline\": \"central\", \"h_anchor\": \"middle\", \"color\": \"#000000\", \"text\": \"JohnCalls\", \"coordinates\": \"data\", \"zorder\": 3, \"alpha\": 1, \"fontsize\": 10.0, \"position\": [0.40196331295605703, 0.0], \"rotation\": -0.0, \"id\": \"el2486140112733671696\"}, {\"v_baseline\": \"central\", \"h_anchor\": \"middle\", \"color\": \"#000000\", \"text\": \"Earthquake\", \"coordinates\": \"data\", \"zorder\": 3, \"alpha\": 1, \"fontsize\": 10.0, \"position\": [0.32648962357901973, 1.0], \"rotation\": -0.0, \"id\": \"el2486140112736928208\"}], \"zoomable\": true, \"images\": [], \"xdomain\": [-0.080000000000000002, 0.93745455486002538], \"ylim\": [-0.080000000000000002, 1.0800000000000001], \"paths\": [], \"sharey\": [], \"sharex\": [], \"axesbgalpha\": null, \"axes\": [{\"scale\": \"linear\", \"tickformat\": null, \"grid\": {\"gridOn\": false}, \"fontsize\": 10.0, \"position\": \"bottom\", \"nticks\": 7, \"tickvalues\": null}, {\"scale\": \"linear\", \"tickformat\": null, \"grid\": {\"gridOn\": false}, \"fontsize\": 10.0, \"position\": \"left\", \"nticks\": 8, \"tickvalues\": null}], \"lines\": [{\"color\": \"#808080\", \"yindex\": 1, \"coordinates\": \"data\", \"dasharray\": \"10,0\", \"zorder\": 2, \"alpha\": 1, \"xindex\": 0, \"linewidth\": 1.0, \"data\": \"data01\", \"id\": \"el2486140112732967504\"}, {\"color\": \"#000000\", \"yindex\": 1, \"coordinates\": \"data\", \"dasharray\": \"10,0\", \"zorder\": 2, \"alpha\": 0.5, \"xindex\": 0, \"linewidth\": 5.0, \"data\": \"data02\", \"id\": \"el2486140112732967120\"}, {\"color\": \"#808080\", \"yindex\": 1, \"coordinates\": \"data\", \"dasharray\": \"10,0\", \"zorder\": 2, \"alpha\": 1, \"xindex\": 0, \"linewidth\": 1.0, \"data\": \"data03\", \"id\": \"el2486140112733192272\"}, {\"color\": \"#000000\", \"yindex\": 1, \"coordinates\": \"data\", \"dasharray\": \"10,0\", \"zorder\": 2, \"alpha\": 0.5, \"xindex\": 0, \"linewidth\": 5.0, \"data\": \"data04\", \"id\": \"el2486140112735782480\"}, {\"color\": \"#808080\", \"yindex\": 1, \"coordinates\": \"data\", \"dasharray\": \"10,0\", \"zorder\": 2, \"alpha\": 1, \"xindex\": 0, \"linewidth\": 1.0, \"data\": \"data05\", \"id\": \"el2486140112735784848\"}, {\"color\": \"#000000\", \"yindex\": 1, \"coordinates\": \"data\", \"dasharray\": \"10,0\", \"zorder\": 2, \"alpha\": 0.5, \"xindex\": 0, \"linewidth\": 5.0, \"data\": \"data06\", \"id\": \"el2486140112736065424\"}, {\"color\": \"#808080\", \"yindex\": 1, \"coordinates\": \"data\", \"dasharray\": \"10,0\", \"zorder\": 2, \"alpha\": 1, \"xindex\": 0, \"linewidth\": 1.0, \"data\": \"data07\", \"id\": \"el2486140112745304208\"}, {\"color\": \"#000000\", \"yindex\": 1, \"coordinates\": \"data\", \"dasharray\": \"10,0\", \"zorder\": 2, \"alpha\": 0.5, \"xindex\": 0, \"linewidth\": 5.0, \"data\": \"data08\", \"id\": \"el2486140112735748048\"}], \"markers\": [{\"edgecolor\": \"#000000\", \"facecolor\": \"#D3D3D3\", \"edgewidth\": 1, \"yindex\": 1, \"coordinates\": \"data\", \"zorder\": 2, \"markerpath\": [[[0.0, 10.0], [2.652031, 10.0], [5.195798707848534, 8.946336915882418], [7.0710678118654755, 7.0710678118654755], [8.946336915882418, 5.195798707848534], [10.0, 2.652031], [10.0, 0.0], [10.0, -2.652031], [8.946336915882418, -5.195798707848534], [7.0710678118654755, -7.0710678118654755], [5.195798707848534, -8.946336915882418], [2.652031, -10.0], [0.0, -10.0], [-2.652031, -10.0], [-5.195798707848534, -8.946336915882418], [-7.0710678118654755, -7.0710678118654755], [-8.946336915882418, -5.195798707848534], [-10.0, -2.652031], [-10.0, 0.0], [-10.0, 2.652031], [-8.946336915882418, 5.195798707848534], [-7.0710678118654755, 7.0710678118654755], [-5.195798707848534, 8.946336915882418], [-2.652031, 10.0], [0.0, 10.0]], [\"M\", \"C\", \"C\", \"C\", \"C\", \"C\", \"C\", \"C\", \"C\", \"Z\"]], \"alpha\": 1.0, \"xindex\": 0, \"data\": \"data09\", \"id\": \"el2486140112732967760pts\"}, {\"edgecolor\": \"#000000\", \"facecolor\": \"#D3D3D3\", \"edgewidth\": 1, \"yindex\": 1, \"coordinates\": \"data\", \"zorder\": 2, \"markerpath\": [[[0.0, 20.0], [5.304062, 20.0], [10.391597415697069, 17.892673831764835], [14.142135623730951, 14.142135623730951], [17.892673831764835, 10.391597415697069], [20.0, 5.304062], [20.0, 0.0], [20.0, -5.304062], [17.892673831764835, -10.391597415697069], [14.142135623730951, -14.142135623730951], [10.391597415697069, -17.892673831764835], [5.304062, -20.0], [0.0, -20.0], [-5.304062, -20.0], [-10.391597415697069, -17.892673831764835], [-14.142135623730951, -14.142135623730951], [-17.892673831764835, -10.391597415697069], [-20.0, -5.304062], [-20.0, 0.0], [-20.0, 5.304062], [-17.892673831764835, 10.391597415697069], [-14.142135623730951, 14.142135623730951], [-10.391597415697069, 17.892673831764835], [-5.304062, 20.0], [0.0, 20.0]], [\"M\", \"C\", \"C\", \"C\", \"C\", \"C\", \"C\", \"C\", \"C\", \"Z\"]], \"alpha\": 0.0, \"xindex\": 0, \"data\": \"data09\", \"id\": \"el2486140112736930512pts\"}], \"id\": \"el2486140112735718416\", \"ydomain\": [-0.080000000000000002, 1.0800000000000001], \"collections\": [], \"xscale\": \"linear\", \"bbox\": [0.125, 0.125, 0.77500000000000002, 0.77500000000000002]}], \"height\": 640.0, \"width\": 960.0, \"plugins\": [{\"type\": \"reset\"}, {\"enabled\": false, \"button\": true, \"type\": \"zoom\"}, {\"enabled\": false, \"button\": true, \"type\": \"boxzoom\"}, {\"voffset\": 10, \"labels\": [], \"type\": \"htmltooltip\", \"id\": \"el2486140112736930512pts\", \"hoffset\": 10}], \"data\": {\"data08\": [[0.4213846323731751, 0.609202962794704], [0.4381308103956731, 0.5402387797584752]], \"data09\": [[0.0, 0.519128035099277], [0.8574545548600254, 0.7820066444337548], [0.4381308103956731, 0.5402387797584752], [0.40196331295605703, 0.0], [0.3264896235790197, 1.0]], \"data06\": [[0.40738843757199944, 0.08103581696377128], [0.40196331295605703, 0.0]], \"data07\": [[0.3264896235790197, 1.0], [0.4381308103956731, 0.5402387797584752]], \"data04\": [[0.7945559931903725, 0.7457414647324628], [0.8574545548600254, 0.7820066444337548]], \"data05\": [[0.4381308103956731, 0.5402387797584752], [0.40196331295605703, 0.0]], \"data02\": [[0.3724111888363221, 0.5370721680595955], [0.4381308103956731, 0.5402387797584752]], \"data03\": [[0.4381308103956731, 0.5402387797584752], [0.8574545548600254, 0.7820066444337548]], \"data01\": [[0.0, 0.519128035099277], [0.4381308103956731, 0.5402387797584752]]}, \"id\": \"el2486140112735715664\"});\n",
       "   }(mpld3);\n",
       "}else if(typeof define === \"function\" && define.amd){\n",
       "   // require.js is available: use it to load d3/mpld3\n",
       "   require.config({paths: {d3: \"https://mpld3.github.io/js/d3.v3.min\"}});\n",
       "   require([\"d3\"], function(d3){\n",
       "      window.d3 = d3;\n",
       "      mpld3_load_lib(\"https://mpld3.github.io/js/mpld3.v0.2.js\", function(){\n",
       "         \n",
       "    mpld3.register_plugin(\"htmltooltip\", HtmlTooltipPlugin);\n",
       "    HtmlTooltipPlugin.prototype = Object.create(mpld3.Plugin.prototype);\n",
       "    HtmlTooltipPlugin.prototype.constructor = HtmlTooltipPlugin;\n",
       "    HtmlTooltipPlugin.prototype.requiredProps = [\"id\"];\n",
       "    HtmlTooltipPlugin.prototype.defaultProps = {labels:null, hoffset:0, voffset:10};\n",
       "    function HtmlTooltipPlugin(fig, props){\n",
       "        mpld3.Plugin.call(this, fig, props);\n",
       "    };\n",
       "\n",
       "    HtmlTooltipPlugin.prototype.draw = function(){\n",
       "       var obj = mpld3.get_element(this.props.id);\n",
       "       var labels = this.props.labels;\n",
       "       var tooltip = d3.select(\"body\").append(\"div\")\n",
       "                    .attr(\"class\", \"mpld3-tooltip\")\n",
       "                    .style(\"position\", \"absolute\")\n",
       "                    .style(\"z-index\", \"10\")\n",
       "                    .style(\"visibility\", \"hidden\");\n",
       "\n",
       "       obj.elements()\n",
       "           .on(\"mouseover\", function(d, i){\n",
       "                              tooltip.html(labels[i])\n",
       "                                     .style(\"visibility\", \"visible\");})\n",
       "           .on(\"mousemove\", function(d, i){\n",
       "                    tooltip\n",
       "                      .style(\"top\", d3.event.pageY + this.props.voffset + \"px\")\n",
       "                      .style(\"left\",d3.event.pageX + this.props.hoffset + \"px\");\n",
       "                 }.bind(this))\n",
       "           .on(\"mouseout\",  function(d, i){\n",
       "                           tooltip.style(\"visibility\", \"hidden\");});\n",
       "    };\n",
       "    \n",
       "         mpld3.draw_figure(\"fig_el2486140112735715664115671625\", {\"axes\": [{\"xlim\": [-0.080000000000000002, 0.93745455486002538], \"yscale\": \"linear\", \"axesbg\": \"#FFFFFF\", \"texts\": [{\"v_baseline\": \"central\", \"h_anchor\": \"middle\", \"color\": \"#000000\", \"text\": \"Burglary\", \"coordinates\": \"data\", \"zorder\": 3, \"alpha\": 1, \"fontsize\": 10.0, \"position\": [0.0, 0.51912803509927696], \"rotation\": -0.0, \"id\": \"el2486140112733193936\"}, {\"v_baseline\": \"central\", \"h_anchor\": \"middle\", \"color\": \"#000000\", \"text\": \"MaryCalls\", \"coordinates\": \"data\", \"zorder\": 3, \"alpha\": 1, \"fontsize\": 10.0, \"position\": [0.85745455486002542, 0.78200664443375478], \"rotation\": -0.0, \"id\": \"el2486140112733675088\"}, {\"v_baseline\": \"central\", \"h_anchor\": \"middle\", \"color\": \"#000000\", \"text\": \"Alarm\", \"coordinates\": \"data\", \"zorder\": 3, \"alpha\": 1, \"fontsize\": 10.0, \"position\": [0.43813081039567309, 0.54023877975847523], \"rotation\": -0.0, \"id\": \"el2486140112733672528\"}, {\"v_baseline\": \"central\", \"h_anchor\": \"middle\", \"color\": \"#000000\", \"text\": \"JohnCalls\", \"coordinates\": \"data\", \"zorder\": 3, \"alpha\": 1, \"fontsize\": 10.0, \"position\": [0.40196331295605703, 0.0], \"rotation\": -0.0, \"id\": \"el2486140112733671696\"}, {\"v_baseline\": \"central\", \"h_anchor\": \"middle\", \"color\": \"#000000\", \"text\": \"Earthquake\", \"coordinates\": \"data\", \"zorder\": 3, \"alpha\": 1, \"fontsize\": 10.0, \"position\": [0.32648962357901973, 1.0], \"rotation\": -0.0, \"id\": \"el2486140112736928208\"}], \"zoomable\": true, \"images\": [], \"xdomain\": [-0.080000000000000002, 0.93745455486002538], \"ylim\": [-0.080000000000000002, 1.0800000000000001], \"paths\": [], \"sharey\": [], \"sharex\": [], \"axesbgalpha\": null, \"axes\": [{\"scale\": \"linear\", \"tickformat\": null, \"grid\": {\"gridOn\": false}, \"fontsize\": 10.0, \"position\": \"bottom\", \"nticks\": 7, \"tickvalues\": null}, {\"scale\": \"linear\", \"tickformat\": null, \"grid\": {\"gridOn\": false}, \"fontsize\": 10.0, \"position\": \"left\", \"nticks\": 8, \"tickvalues\": null}], \"lines\": [{\"color\": \"#808080\", \"yindex\": 1, \"coordinates\": \"data\", \"dasharray\": \"10,0\", \"zorder\": 2, \"alpha\": 1, \"xindex\": 0, \"linewidth\": 1.0, \"data\": \"data01\", \"id\": \"el2486140112732967504\"}, {\"color\": \"#000000\", \"yindex\": 1, \"coordinates\": \"data\", \"dasharray\": \"10,0\", \"zorder\": 2, \"alpha\": 0.5, \"xindex\": 0, \"linewidth\": 5.0, \"data\": \"data02\", \"id\": \"el2486140112732967120\"}, {\"color\": \"#808080\", \"yindex\": 1, \"coordinates\": \"data\", \"dasharray\": \"10,0\", \"zorder\": 2, \"alpha\": 1, \"xindex\": 0, \"linewidth\": 1.0, \"data\": \"data03\", \"id\": \"el2486140112733192272\"}, {\"color\": \"#000000\", \"yindex\": 1, \"coordinates\": \"data\", \"dasharray\": \"10,0\", \"zorder\": 2, \"alpha\": 0.5, \"xindex\": 0, \"linewidth\": 5.0, \"data\": \"data04\", \"id\": \"el2486140112735782480\"}, {\"color\": \"#808080\", \"yindex\": 1, \"coordinates\": \"data\", \"dasharray\": \"10,0\", \"zorder\": 2, \"alpha\": 1, \"xindex\": 0, \"linewidth\": 1.0, \"data\": \"data05\", \"id\": \"el2486140112735784848\"}, {\"color\": \"#000000\", \"yindex\": 1, \"coordinates\": \"data\", \"dasharray\": \"10,0\", \"zorder\": 2, \"alpha\": 0.5, \"xindex\": 0, \"linewidth\": 5.0, \"data\": \"data06\", \"id\": \"el2486140112736065424\"}, {\"color\": \"#808080\", \"yindex\": 1, \"coordinates\": \"data\", \"dasharray\": \"10,0\", \"zorder\": 2, \"alpha\": 1, \"xindex\": 0, \"linewidth\": 1.0, \"data\": \"data07\", \"id\": \"el2486140112745304208\"}, {\"color\": \"#000000\", \"yindex\": 1, \"coordinates\": \"data\", \"dasharray\": \"10,0\", \"zorder\": 2, \"alpha\": 0.5, \"xindex\": 0, \"linewidth\": 5.0, \"data\": \"data08\", \"id\": \"el2486140112735748048\"}], \"markers\": [{\"edgecolor\": \"#000000\", \"facecolor\": \"#D3D3D3\", \"edgewidth\": 1, \"yindex\": 1, \"coordinates\": \"data\", \"zorder\": 2, \"markerpath\": [[[0.0, 10.0], [2.652031, 10.0], [5.195798707848534, 8.946336915882418], [7.0710678118654755, 7.0710678118654755], [8.946336915882418, 5.195798707848534], [10.0, 2.652031], [10.0, 0.0], [10.0, -2.652031], [8.946336915882418, -5.195798707848534], [7.0710678118654755, -7.0710678118654755], [5.195798707848534, -8.946336915882418], [2.652031, -10.0], [0.0, -10.0], [-2.652031, -10.0], [-5.195798707848534, -8.946336915882418], [-7.0710678118654755, -7.0710678118654755], [-8.946336915882418, -5.195798707848534], [-10.0, -2.652031], [-10.0, 0.0], [-10.0, 2.652031], [-8.946336915882418, 5.195798707848534], [-7.0710678118654755, 7.0710678118654755], [-5.195798707848534, 8.946336915882418], [-2.652031, 10.0], [0.0, 10.0]], [\"M\", \"C\", \"C\", \"C\", \"C\", \"C\", \"C\", \"C\", \"C\", \"Z\"]], \"alpha\": 1.0, \"xindex\": 0, \"data\": \"data09\", \"id\": \"el2486140112732967760pts\"}, {\"edgecolor\": \"#000000\", \"facecolor\": \"#D3D3D3\", \"edgewidth\": 1, \"yindex\": 1, \"coordinates\": \"data\", \"zorder\": 2, \"markerpath\": [[[0.0, 20.0], [5.304062, 20.0], [10.391597415697069, 17.892673831764835], [14.142135623730951, 14.142135623730951], [17.892673831764835, 10.391597415697069], [20.0, 5.304062], [20.0, 0.0], [20.0, -5.304062], [17.892673831764835, -10.391597415697069], [14.142135623730951, -14.142135623730951], [10.391597415697069, -17.892673831764835], [5.304062, -20.0], [0.0, -20.0], [-5.304062, -20.0], [-10.391597415697069, -17.892673831764835], [-14.142135623730951, -14.142135623730951], [-17.892673831764835, -10.391597415697069], [-20.0, -5.304062], [-20.0, 0.0], [-20.0, 5.304062], [-17.892673831764835, 10.391597415697069], [-14.142135623730951, 14.142135623730951], [-10.391597415697069, 17.892673831764835], [-5.304062, 20.0], [0.0, 20.0]], [\"M\", \"C\", \"C\", \"C\", \"C\", \"C\", \"C\", \"C\", \"C\", \"Z\"]], \"alpha\": 0.0, \"xindex\": 0, \"data\": \"data09\", \"id\": \"el2486140112736930512pts\"}], \"id\": \"el2486140112735718416\", \"ydomain\": [-0.080000000000000002, 1.0800000000000001], \"collections\": [], \"xscale\": \"linear\", \"bbox\": [0.125, 0.125, 0.77500000000000002, 0.77500000000000002]}], \"height\": 640.0, \"width\": 960.0, \"plugins\": [{\"type\": \"reset\"}, {\"enabled\": false, \"button\": true, \"type\": \"zoom\"}, {\"enabled\": false, \"button\": true, \"type\": \"boxzoom\"}, {\"voffset\": 10, \"labels\": [], \"type\": \"htmltooltip\", \"id\": \"el2486140112736930512pts\", \"hoffset\": 10}], \"data\": {\"data08\": [[0.4213846323731751, 0.609202962794704], [0.4381308103956731, 0.5402387797584752]], \"data09\": [[0.0, 0.519128035099277], [0.8574545548600254, 0.7820066444337548], [0.4381308103956731, 0.5402387797584752], [0.40196331295605703, 0.0], [0.3264896235790197, 1.0]], \"data06\": [[0.40738843757199944, 0.08103581696377128], [0.40196331295605703, 0.0]], \"data07\": [[0.3264896235790197, 1.0], [0.4381308103956731, 0.5402387797584752]], \"data04\": [[0.7945559931903725, 0.7457414647324628], [0.8574545548600254, 0.7820066444337548]], \"data05\": [[0.4381308103956731, 0.5402387797584752], [0.40196331295605703, 0.0]], \"data02\": [[0.3724111888363221, 0.5370721680595955], [0.4381308103956731, 0.5402387797584752]], \"data03\": [[0.4381308103956731, 0.5402387797584752], [0.8574545548600254, 0.7820066444337548]], \"data01\": [[0.0, 0.519128035099277], [0.4381308103956731, 0.5402387797584752]]}, \"id\": \"el2486140112735715664\"});\n",
       "      });\n",
       "    });\n",
       "}else{\n",
       "    // require.js not available: dynamically load d3 & mpld3\n",
       "    mpld3_load_lib(\"https://mpld3.github.io/js/d3.v3.min.js\", function(){\n",
       "         mpld3_load_lib(\"https://mpld3.github.io/js/mpld3.v0.2.js\", function(){\n",
       "                 \n",
       "    mpld3.register_plugin(\"htmltooltip\", HtmlTooltipPlugin);\n",
       "    HtmlTooltipPlugin.prototype = Object.create(mpld3.Plugin.prototype);\n",
       "    HtmlTooltipPlugin.prototype.constructor = HtmlTooltipPlugin;\n",
       "    HtmlTooltipPlugin.prototype.requiredProps = [\"id\"];\n",
       "    HtmlTooltipPlugin.prototype.defaultProps = {labels:null, hoffset:0, voffset:10};\n",
       "    function HtmlTooltipPlugin(fig, props){\n",
       "        mpld3.Plugin.call(this, fig, props);\n",
       "    };\n",
       "\n",
       "    HtmlTooltipPlugin.prototype.draw = function(){\n",
       "       var obj = mpld3.get_element(this.props.id);\n",
       "       var labels = this.props.labels;\n",
       "       var tooltip = d3.select(\"body\").append(\"div\")\n",
       "                    .attr(\"class\", \"mpld3-tooltip\")\n",
       "                    .style(\"position\", \"absolute\")\n",
       "                    .style(\"z-index\", \"10\")\n",
       "                    .style(\"visibility\", \"hidden\");\n",
       "\n",
       "       obj.elements()\n",
       "           .on(\"mouseover\", function(d, i){\n",
       "                              tooltip.html(labels[i])\n",
       "                                     .style(\"visibility\", \"visible\");})\n",
       "           .on(\"mousemove\", function(d, i){\n",
       "                    tooltip\n",
       "                      .style(\"top\", d3.event.pageY + this.props.voffset + \"px\")\n",
       "                      .style(\"left\",d3.event.pageX + this.props.hoffset + \"px\");\n",
       "                 }.bind(this))\n",
       "           .on(\"mouseout\",  function(d, i){\n",
       "                           tooltip.style(\"visibility\", \"hidden\");});\n",
       "    };\n",
       "    \n",
       "                 mpld3.draw_figure(\"fig_el2486140112735715664115671625\", {\"axes\": [{\"xlim\": [-0.080000000000000002, 0.93745455486002538], \"yscale\": \"linear\", \"axesbg\": \"#FFFFFF\", \"texts\": [{\"v_baseline\": \"central\", \"h_anchor\": \"middle\", \"color\": \"#000000\", \"text\": \"Burglary\", \"coordinates\": \"data\", \"zorder\": 3, \"alpha\": 1, \"fontsize\": 10.0, \"position\": [0.0, 0.51912803509927696], \"rotation\": -0.0, \"id\": \"el2486140112733193936\"}, {\"v_baseline\": \"central\", \"h_anchor\": \"middle\", \"color\": \"#000000\", \"text\": \"MaryCalls\", \"coordinates\": \"data\", \"zorder\": 3, \"alpha\": 1, \"fontsize\": 10.0, \"position\": [0.85745455486002542, 0.78200664443375478], \"rotation\": -0.0, \"id\": \"el2486140112733675088\"}, {\"v_baseline\": \"central\", \"h_anchor\": \"middle\", \"color\": \"#000000\", \"text\": \"Alarm\", \"coordinates\": \"data\", \"zorder\": 3, \"alpha\": 1, \"fontsize\": 10.0, \"position\": [0.43813081039567309, 0.54023877975847523], \"rotation\": -0.0, \"id\": \"el2486140112733672528\"}, {\"v_baseline\": \"central\", \"h_anchor\": \"middle\", \"color\": \"#000000\", \"text\": \"JohnCalls\", \"coordinates\": \"data\", \"zorder\": 3, \"alpha\": 1, \"fontsize\": 10.0, \"position\": [0.40196331295605703, 0.0], \"rotation\": -0.0, \"id\": \"el2486140112733671696\"}, {\"v_baseline\": \"central\", \"h_anchor\": \"middle\", \"color\": \"#000000\", \"text\": \"Earthquake\", \"coordinates\": \"data\", \"zorder\": 3, \"alpha\": 1, \"fontsize\": 10.0, \"position\": [0.32648962357901973, 1.0], \"rotation\": -0.0, \"id\": \"el2486140112736928208\"}], \"zoomable\": true, \"images\": [], \"xdomain\": [-0.080000000000000002, 0.93745455486002538], \"ylim\": [-0.080000000000000002, 1.0800000000000001], \"paths\": [], \"sharey\": [], \"sharex\": [], \"axesbgalpha\": null, \"axes\": [{\"scale\": \"linear\", \"tickformat\": null, \"grid\": {\"gridOn\": false}, \"fontsize\": 10.0, \"position\": \"bottom\", \"nticks\": 7, \"tickvalues\": null}, {\"scale\": \"linear\", \"tickformat\": null, \"grid\": {\"gridOn\": false}, \"fontsize\": 10.0, \"position\": \"left\", \"nticks\": 8, \"tickvalues\": null}], \"lines\": [{\"color\": \"#808080\", \"yindex\": 1, \"coordinates\": \"data\", \"dasharray\": \"10,0\", \"zorder\": 2, \"alpha\": 1, \"xindex\": 0, \"linewidth\": 1.0, \"data\": \"data01\", \"id\": \"el2486140112732967504\"}, {\"color\": \"#000000\", \"yindex\": 1, \"coordinates\": \"data\", \"dasharray\": \"10,0\", \"zorder\": 2, \"alpha\": 0.5, \"xindex\": 0, \"linewidth\": 5.0, \"data\": \"data02\", \"id\": \"el2486140112732967120\"}, {\"color\": \"#808080\", \"yindex\": 1, \"coordinates\": \"data\", \"dasharray\": \"10,0\", \"zorder\": 2, \"alpha\": 1, \"xindex\": 0, \"linewidth\": 1.0, \"data\": \"data03\", \"id\": \"el2486140112733192272\"}, {\"color\": \"#000000\", \"yindex\": 1, \"coordinates\": \"data\", \"dasharray\": \"10,0\", \"zorder\": 2, \"alpha\": 0.5, \"xindex\": 0, \"linewidth\": 5.0, \"data\": \"data04\", \"id\": \"el2486140112735782480\"}, {\"color\": \"#808080\", \"yindex\": 1, \"coordinates\": \"data\", \"dasharray\": \"10,0\", \"zorder\": 2, \"alpha\": 1, \"xindex\": 0, \"linewidth\": 1.0, \"data\": \"data05\", \"id\": \"el2486140112735784848\"}, {\"color\": \"#000000\", \"yindex\": 1, \"coordinates\": \"data\", \"dasharray\": \"10,0\", \"zorder\": 2, \"alpha\": 0.5, \"xindex\": 0, \"linewidth\": 5.0, \"data\": \"data06\", \"id\": \"el2486140112736065424\"}, {\"color\": \"#808080\", \"yindex\": 1, \"coordinates\": \"data\", \"dasharray\": \"10,0\", \"zorder\": 2, \"alpha\": 1, \"xindex\": 0, \"linewidth\": 1.0, \"data\": \"data07\", \"id\": \"el2486140112745304208\"}, {\"color\": \"#000000\", \"yindex\": 1, \"coordinates\": \"data\", \"dasharray\": \"10,0\", \"zorder\": 2, \"alpha\": 0.5, \"xindex\": 0, \"linewidth\": 5.0, \"data\": \"data08\", \"id\": \"el2486140112735748048\"}], \"markers\": [{\"edgecolor\": \"#000000\", \"facecolor\": \"#D3D3D3\", \"edgewidth\": 1, \"yindex\": 1, \"coordinates\": \"data\", \"zorder\": 2, \"markerpath\": [[[0.0, 10.0], [2.652031, 10.0], [5.195798707848534, 8.946336915882418], [7.0710678118654755, 7.0710678118654755], [8.946336915882418, 5.195798707848534], [10.0, 2.652031], [10.0, 0.0], [10.0, -2.652031], [8.946336915882418, -5.195798707848534], [7.0710678118654755, -7.0710678118654755], [5.195798707848534, -8.946336915882418], [2.652031, -10.0], [0.0, -10.0], [-2.652031, -10.0], [-5.195798707848534, -8.946336915882418], [-7.0710678118654755, -7.0710678118654755], [-8.946336915882418, -5.195798707848534], [-10.0, -2.652031], [-10.0, 0.0], [-10.0, 2.652031], [-8.946336915882418, 5.195798707848534], [-7.0710678118654755, 7.0710678118654755], [-5.195798707848534, 8.946336915882418], [-2.652031, 10.0], [0.0, 10.0]], [\"M\", \"C\", \"C\", \"C\", \"C\", \"C\", \"C\", \"C\", \"C\", \"Z\"]], \"alpha\": 1.0, \"xindex\": 0, \"data\": \"data09\", \"id\": \"el2486140112732967760pts\"}, {\"edgecolor\": \"#000000\", \"facecolor\": \"#D3D3D3\", \"edgewidth\": 1, \"yindex\": 1, \"coordinates\": \"data\", \"zorder\": 2, \"markerpath\": [[[0.0, 20.0], [5.304062, 20.0], [10.391597415697069, 17.892673831764835], [14.142135623730951, 14.142135623730951], [17.892673831764835, 10.391597415697069], [20.0, 5.304062], [20.0, 0.0], [20.0, -5.304062], [17.892673831764835, -10.391597415697069], [14.142135623730951, -14.142135623730951], [10.391597415697069, -17.892673831764835], [5.304062, -20.0], [0.0, -20.0], [-5.304062, -20.0], [-10.391597415697069, -17.892673831764835], [-14.142135623730951, -14.142135623730951], [-17.892673831764835, -10.391597415697069], [-20.0, -5.304062], [-20.0, 0.0], [-20.0, 5.304062], [-17.892673831764835, 10.391597415697069], [-14.142135623730951, 14.142135623730951], [-10.391597415697069, 17.892673831764835], [-5.304062, 20.0], [0.0, 20.0]], [\"M\", \"C\", \"C\", \"C\", \"C\", \"C\", \"C\", \"C\", \"C\", \"Z\"]], \"alpha\": 0.0, \"xindex\": 0, \"data\": \"data09\", \"id\": \"el2486140112736930512pts\"}], \"id\": \"el2486140112735718416\", \"ydomain\": [-0.080000000000000002, 1.0800000000000001], \"collections\": [], \"xscale\": \"linear\", \"bbox\": [0.125, 0.125, 0.77500000000000002, 0.77500000000000002]}], \"height\": 640.0, \"width\": 960.0, \"plugins\": [{\"type\": \"reset\"}, {\"enabled\": false, \"button\": true, \"type\": \"zoom\"}, {\"enabled\": false, \"button\": true, \"type\": \"boxzoom\"}, {\"voffset\": 10, \"labels\": [], \"type\": \"htmltooltip\", \"id\": \"el2486140112736930512pts\", \"hoffset\": 10}], \"data\": {\"data08\": [[0.4213846323731751, 0.609202962794704], [0.4381308103956731, 0.5402387797584752]], \"data09\": [[0.0, 0.519128035099277], [0.8574545548600254, 0.7820066444337548], [0.4381308103956731, 0.5402387797584752], [0.40196331295605703, 0.0], [0.3264896235790197, 1.0]], \"data06\": [[0.40738843757199944, 0.08103581696377128], [0.40196331295605703, 0.0]], \"data07\": [[0.3264896235790197, 1.0], [0.4381308103956731, 0.5402387797584752]], \"data04\": [[0.7945559931903725, 0.7457414647324628], [0.8574545548600254, 0.7820066444337548]], \"data05\": [[0.4381308103956731, 0.5402387797584752], [0.40196331295605703, 0.0]], \"data02\": [[0.3724111888363221, 0.5370721680595955], [0.4381308103956731, 0.5402387797584752]], \"data03\": [[0.4381308103956731, 0.5402387797584752], [0.8574545548600254, 0.7820066444337548]], \"data01\": [[0.0, 0.519128035099277], [0.4381308103956731, 0.5402387797584752]]}, \"id\": \"el2486140112735715664\"});\n",
       "            })\n",
       "         });\n",
       "}\n",
       "</script>"
      ],
      "text/plain": [
       "<IPython.core.display.HTML object>"
      ]
     },
     "execution_count": 110,
     "metadata": {},
     "output_type": "execute_result"
    }
   ],
   "source": [
    "mxg.draw()"
   ]
  },
  {
   "cell_type": "code",
   "execution_count": 111,
   "metadata": {
    "collapsed": false
   },
   "outputs": [
    {
     "data": {
      "text/plain": [
       "['Burglary', 'MaryCalls', 'Alarm', 'JohnCalls', 'Earthquake']"
      ]
     },
     "execution_count": 111,
     "metadata": {},
     "output_type": "execute_result"
    }
   ],
   "source": [
    "mxg.names"
   ]
  },
  {
   "cell_type": "code",
   "execution_count": 112,
   "metadata": {
    "collapsed": false
   },
   "outputs": [
    {
     "data": {
      "text/plain": [
       "-23.740584907507582"
      ]
     },
     "execution_count": 112,
     "metadata": {},
     "output_type": "execute_result"
    }
   ],
   "source": [
    "op = AddEdge(mxg, score, 0, 3)\n",
    "op.score"
   ]
  },
  {
   "cell_type": "code",
   "execution_count": 113,
   "metadata": {
    "collapsed": false
   },
   "outputs": [
    {
     "data": {
      "text/html": [
       "\n",
       "\n",
       "<style>\n",
       "\n",
       "table\n",
       "{\n",
       "  border-collapse: collapse;\n",
       "}\n",
       "th\n",
       "{\n",
       "  color: #ffffff;\n",
       "  background-color: #000000;\n",
       "}\n",
       "td\n",
       "{\n",
       "  background-color: #cccccc;\n",
       "}\n",
       "table, th, td\n",
       "{\n",
       "  font-family:Arial, Helvetica, sans-serif;\n",
       "  border: 1px solid black;\n",
       "  text-align: center;\n",
       "  padding: 3px;\n",
       "  font-size:11pt;\n",
       "}\n",
       "g.mpld3-xaxis, g.mpld3-yaxis {\n",
       "    display: none;\n",
       "}\n",
       "    \n",
       "</style>\n",
       "\n",
       "<div id=\"fig_el24861401127367913127592168472\"></div>\n",
       "<script>\n",
       "function mpld3_load_lib(url, callback){\n",
       "  var s = document.createElement('script');\n",
       "  s.src = url;\n",
       "  s.async = true;\n",
       "  s.onreadystatechange = s.onload = callback;\n",
       "  s.onerror = function(){console.warn(\"failed to load library \" + url);};\n",
       "  document.getElementsByTagName(\"head\")[0].appendChild(s);\n",
       "}\n",
       "\n",
       "if(typeof(mpld3) !== \"undefined\" && mpld3._mpld3IsLoaded){\n",
       "   // already loaded: just create the figure\n",
       "   !function(mpld3){\n",
       "       \n",
       "    mpld3.register_plugin(\"htmltooltip\", HtmlTooltipPlugin);\n",
       "    HtmlTooltipPlugin.prototype = Object.create(mpld3.Plugin.prototype);\n",
       "    HtmlTooltipPlugin.prototype.constructor = HtmlTooltipPlugin;\n",
       "    HtmlTooltipPlugin.prototype.requiredProps = [\"id\"];\n",
       "    HtmlTooltipPlugin.prototype.defaultProps = {labels:null, hoffset:0, voffset:10};\n",
       "    function HtmlTooltipPlugin(fig, props){\n",
       "        mpld3.Plugin.call(this, fig, props);\n",
       "    };\n",
       "\n",
       "    HtmlTooltipPlugin.prototype.draw = function(){\n",
       "       var obj = mpld3.get_element(this.props.id);\n",
       "       var labels = this.props.labels;\n",
       "       var tooltip = d3.select(\"body\").append(\"div\")\n",
       "                    .attr(\"class\", \"mpld3-tooltip\")\n",
       "                    .style(\"position\", \"absolute\")\n",
       "                    .style(\"z-index\", \"10\")\n",
       "                    .style(\"visibility\", \"hidden\");\n",
       "\n",
       "       obj.elements()\n",
       "           .on(\"mouseover\", function(d, i){\n",
       "                              tooltip.html(labels[i])\n",
       "                                     .style(\"visibility\", \"visible\");})\n",
       "           .on(\"mousemove\", function(d, i){\n",
       "                    tooltip\n",
       "                      .style(\"top\", d3.event.pageY + this.props.voffset + \"px\")\n",
       "                      .style(\"left\",d3.event.pageX + this.props.hoffset + \"px\");\n",
       "                 }.bind(this))\n",
       "           .on(\"mouseout\",  function(d, i){\n",
       "                           tooltip.style(\"visibility\", \"hidden\");});\n",
       "    };\n",
       "    \n",
       "       mpld3.draw_figure(\"fig_el24861401127367913127592168472\", {\"axes\": [{\"xlim\": [-0.080000000000000002, 1.053746877893011], \"yscale\": \"linear\", \"axesbg\": \"#FFFFFF\", \"texts\": [{\"v_baseline\": \"central\", \"h_anchor\": \"middle\", \"color\": \"#000000\", \"text\": \"Burglary\", \"coordinates\": \"data\", \"zorder\": 3, \"alpha\": 1, \"fontsize\": 10.0, \"position\": [0.36021045522931605, 1.0], \"rotation\": -0.0, \"id\": \"el2486140112738228304\"}, {\"v_baseline\": \"central\", \"h_anchor\": \"middle\", \"color\": \"#000000\", \"text\": \"MaryCalls\", \"coordinates\": \"data\", \"zorder\": 3, \"alpha\": 1, \"fontsize\": 10.0, \"position\": [0.94112045644300757, 0.49687860258874372], \"rotation\": -0.0, \"id\": \"el2486140112738229200\"}, {\"v_baseline\": \"central\", \"h_anchor\": \"middle\", \"color\": \"#000000\", \"text\": \"Alarm\", \"coordinates\": \"data\", \"zorder\": 3, \"alpha\": 1, \"fontsize\": 10.0, \"position\": [0.0, 0.90211326612828124], \"rotation\": -0.0, \"id\": \"el2486140112738228688\"}, {\"v_baseline\": \"central\", \"h_anchor\": \"middle\", \"color\": \"#000000\", \"text\": \"JohnCalls\", \"coordinates\": \"data\", \"zorder\": 3, \"alpha\": 1, \"fontsize\": 10.0, \"position\": [0.97374687789301106, 0.9774843497929393], \"rotation\": -0.0, \"id\": \"el2486140112738227664\"}, {\"v_baseline\": \"central\", \"h_anchor\": \"middle\", \"color\": \"#000000\", \"text\": \"Earthquake\", \"coordinates\": \"data\", \"zorder\": 3, \"alpha\": 1, \"fontsize\": 10.0, \"position\": [0.77201706760112088, 0.0], \"rotation\": -0.0, \"id\": \"el2486140112738301904\"}], \"zoomable\": true, \"images\": [], \"xdomain\": [-0.080000000000000002, 1.053746877893011], \"ylim\": [-0.080000000000000002, 1.0800000000000001], \"paths\": [], \"sharey\": [], \"sharex\": [], \"axesbgalpha\": null, \"axes\": [{\"scale\": \"linear\", \"tickformat\": null, \"grid\": {\"gridOn\": false}, \"fontsize\": 10.0, \"position\": \"bottom\", \"nticks\": 8, \"tickvalues\": null}, {\"scale\": \"linear\", \"tickformat\": null, \"grid\": {\"gridOn\": false}, \"fontsize\": 10.0, \"position\": \"left\", \"nticks\": 8, \"tickvalues\": null}], \"lines\": [{\"color\": \"#808080\", \"yindex\": 1, \"coordinates\": \"data\", \"dasharray\": \"10,0\", \"zorder\": 2, \"alpha\": 1, \"xindex\": 0, \"linewidth\": 1.0, \"data\": \"data01\", \"id\": \"el2486140112737671888\"}, {\"color\": \"#000000\", \"yindex\": 1, \"coordinates\": \"data\", \"dasharray\": \"10,0\", \"zorder\": 2, \"alpha\": 0.5, \"xindex\": 0, \"linewidth\": 5.0, \"data\": \"data02\", \"id\": \"el2486140112737669520\"}, {\"color\": \"#808080\", \"yindex\": 1, \"coordinates\": \"data\", \"dasharray\": \"10,0\", \"zorder\": 2, \"alpha\": 1, \"xindex\": 0, \"linewidth\": 1.0, \"data\": \"data03\", \"id\": \"el2486140112736826640\"}, {\"color\": \"#000000\", \"yindex\": 1, \"coordinates\": \"data\", \"dasharray\": \"10,0\", \"zorder\": 2, \"alpha\": 0.5, \"xindex\": 0, \"linewidth\": 5.0, \"data\": \"data04\", \"id\": \"el2486140112736827024\"}, {\"color\": \"#808080\", \"yindex\": 1, \"coordinates\": \"data\", \"dasharray\": \"10,0\", \"zorder\": 2, \"alpha\": 1, \"xindex\": 0, \"linewidth\": 1.0, \"data\": \"data05\", \"id\": \"el2486140112736828816\"}, {\"color\": \"#000000\", \"yindex\": 1, \"coordinates\": \"data\", \"dasharray\": \"10,0\", \"zorder\": 2, \"alpha\": 0.5, \"xindex\": 0, \"linewidth\": 5.0, \"data\": \"data06\", \"id\": \"el2486140112735699152\"}, {\"color\": \"#808080\", \"yindex\": 1, \"coordinates\": \"data\", \"dasharray\": \"10,0\", \"zorder\": 2, \"alpha\": 1, \"xindex\": 0, \"linewidth\": 1.0, \"data\": \"data07\", \"id\": \"el2486140112735699856\"}, {\"color\": \"#000000\", \"yindex\": 1, \"coordinates\": \"data\", \"dasharray\": \"10,0\", \"zorder\": 2, \"alpha\": 0.5, \"xindex\": 0, \"linewidth\": 5.0, \"data\": \"data08\", \"id\": \"el2486140112735110288\"}, {\"color\": \"#808080\", \"yindex\": 1, \"coordinates\": \"data\", \"dasharray\": \"10,0\", \"zorder\": 2, \"alpha\": 1, \"xindex\": 0, \"linewidth\": 1.0, \"data\": \"data09\", \"id\": \"el2486140112735113168\"}, {\"color\": \"#000000\", \"yindex\": 1, \"coordinates\": \"data\", \"dasharray\": \"10,0\", \"zorder\": 2, \"alpha\": 0.5, \"xindex\": 0, \"linewidth\": 5.0, \"data\": \"data10\", \"id\": \"el2486140112735111376\"}], \"markers\": [{\"edgecolor\": \"#000000\", \"facecolor\": \"#D3D3D3\", \"edgewidth\": 1, \"yindex\": 1, \"coordinates\": \"data\", \"zorder\": 2, \"markerpath\": [[[0.0, 10.0], [2.652031, 10.0], [5.195798707848534, 8.946336915882418], [7.0710678118654755, 7.0710678118654755], [8.946336915882418, 5.195798707848534], [10.0, 2.652031], [10.0, 0.0], [10.0, -2.652031], [8.946336915882418, -5.195798707848534], [7.0710678118654755, -7.0710678118654755], [5.195798707848534, -8.946336915882418], [2.652031, -10.0], [0.0, -10.0], [-2.652031, -10.0], [-5.195798707848534, -8.946336915882418], [-7.0710678118654755, -7.0710678118654755], [-8.946336915882418, -5.195798707848534], [-10.0, -2.652031], [-10.0, 0.0], [-10.0, 2.652031], [-8.946336915882418, 5.195798707848534], [-7.0710678118654755, 7.0710678118654755], [-5.195798707848534, 8.946336915882418], [-2.652031, 10.0], [0.0, 10.0]], [\"M\", \"C\", \"C\", \"C\", \"C\", \"C\", \"C\", \"C\", \"C\", \"Z\"]], \"alpha\": 1.0, \"xindex\": 0, \"data\": \"data11\", \"id\": \"el2486140112737671248pts\"}, {\"edgecolor\": \"#000000\", \"facecolor\": \"#D3D3D3\", \"edgewidth\": 1, \"yindex\": 1, \"coordinates\": \"data\", \"zorder\": 2, \"markerpath\": [[[0.0, 20.0], [5.304062, 20.0], [10.391597415697069, 17.892673831764835], [14.142135623730951, 14.142135623730951], [17.892673831764835, 10.391597415697069], [20.0, 5.304062], [20.0, 0.0], [20.0, -5.304062], [17.892673831764835, -10.391597415697069], [14.142135623730951, -14.142135623730951], [10.391597415697069, -17.892673831764835], [5.304062, -20.0], [0.0, -20.0], [-5.304062, -20.0], [-10.391597415697069, -17.892673831764835], [-14.142135623730951, -14.142135623730951], [-17.892673831764835, -10.391597415697069], [-20.0, -5.304062], [-20.0, 0.0], [-20.0, 5.304062], [-17.892673831764835, 10.391597415697069], [-14.142135623730951, 14.142135623730951], [-10.391597415697069, 17.892673831764835], [-5.304062, 20.0], [0.0, 20.0]], [\"M\", \"C\", \"C\", \"C\", \"C\", \"C\", \"C\", \"C\", \"C\", \"Z\"]], \"alpha\": 0.0, \"xindex\": 0, \"data\": \"data11\", \"id\": \"el2486140112738300176pts\"}], \"id\": \"el2486140112736792144\", \"ydomain\": [-0.080000000000000002, 1.0800000000000001], \"collections\": [], \"xscale\": \"linear\", \"bbox\": [0.125, 0.125, 0.77500000000000002, 0.77500000000000002]}], \"height\": 640.0, \"width\": 960.0, \"plugins\": [{\"type\": \"reset\"}, {\"enabled\": false, \"button\": true, \"type\": \"zoom\"}, {\"enabled\": false, \"button\": true, \"type\": \"boxzoom\"}, {\"voffset\": 10, \"labels\": [], \"type\": \"htmltooltip\", \"id\": \"el2486140112738300176pts\", \"hoffset\": 10}], \"data\": {\"data11\": [[0.36021045522931605, 1.0], [0.9411204564430076, 0.4968786025887437], [0.0, 0.9021132661282812], [0.9737468778930111, 0.9774843497929393], [0.7720170676011209, 0.0]], \"data10\": [[0.11580256014016813, 0.766796276209039], [0.0, 0.9021132661282812]], \"data08\": [[0.8276848462090594, 0.9661786872432406], [0.9737468778930111, 0.9774843497929393]], \"data09\": [[0.7720170676011209, 0.0], [0.0, 0.9021132661282812]], \"data06\": [[0.7999523879765564, 0.5576638021196744], [0.9411204564430076, 0.4968786025887437]], \"data07\": [[0.0, 0.9021132661282812], [0.9737468778930111, 0.9774843497929393]], \"data04\": [[0.054031568284397404, 0.916796276209039], [0.0, 0.9021132661282812]], \"data05\": [[0.0, 0.9021132661282812], [0.9411204564430076, 0.4968786025887437]], \"data02\": [[0.8539839562609538, 0.5723468122004322], [0.9411204564430076, 0.4968786025887437]], \"data03\": [[0.36021045522931605, 1.0], [0.0, 0.9021132661282812]], \"data01\": [[0.36021045522931605, 1.0], [0.9411204564430076, 0.4968786025887437]]}, \"id\": \"el2486140112736791312\"});\n",
       "   }(mpld3);\n",
       "}else if(typeof define === \"function\" && define.amd){\n",
       "   // require.js is available: use it to load d3/mpld3\n",
       "   require.config({paths: {d3: \"https://mpld3.github.io/js/d3.v3.min\"}});\n",
       "   require([\"d3\"], function(d3){\n",
       "      window.d3 = d3;\n",
       "      mpld3_load_lib(\"https://mpld3.github.io/js/mpld3.v0.2.js\", function(){\n",
       "         \n",
       "    mpld3.register_plugin(\"htmltooltip\", HtmlTooltipPlugin);\n",
       "    HtmlTooltipPlugin.prototype = Object.create(mpld3.Plugin.prototype);\n",
       "    HtmlTooltipPlugin.prototype.constructor = HtmlTooltipPlugin;\n",
       "    HtmlTooltipPlugin.prototype.requiredProps = [\"id\"];\n",
       "    HtmlTooltipPlugin.prototype.defaultProps = {labels:null, hoffset:0, voffset:10};\n",
       "    function HtmlTooltipPlugin(fig, props){\n",
       "        mpld3.Plugin.call(this, fig, props);\n",
       "    };\n",
       "\n",
       "    HtmlTooltipPlugin.prototype.draw = function(){\n",
       "       var obj = mpld3.get_element(this.props.id);\n",
       "       var labels = this.props.labels;\n",
       "       var tooltip = d3.select(\"body\").append(\"div\")\n",
       "                    .attr(\"class\", \"mpld3-tooltip\")\n",
       "                    .style(\"position\", \"absolute\")\n",
       "                    .style(\"z-index\", \"10\")\n",
       "                    .style(\"visibility\", \"hidden\");\n",
       "\n",
       "       obj.elements()\n",
       "           .on(\"mouseover\", function(d, i){\n",
       "                              tooltip.html(labels[i])\n",
       "                                     .style(\"visibility\", \"visible\");})\n",
       "           .on(\"mousemove\", function(d, i){\n",
       "                    tooltip\n",
       "                      .style(\"top\", d3.event.pageY + this.props.voffset + \"px\")\n",
       "                      .style(\"left\",d3.event.pageX + this.props.hoffset + \"px\");\n",
       "                 }.bind(this))\n",
       "           .on(\"mouseout\",  function(d, i){\n",
       "                           tooltip.style(\"visibility\", \"hidden\");});\n",
       "    };\n",
       "    \n",
       "         mpld3.draw_figure(\"fig_el24861401127367913127592168472\", {\"axes\": [{\"xlim\": [-0.080000000000000002, 1.053746877893011], \"yscale\": \"linear\", \"axesbg\": \"#FFFFFF\", \"texts\": [{\"v_baseline\": \"central\", \"h_anchor\": \"middle\", \"color\": \"#000000\", \"text\": \"Burglary\", \"coordinates\": \"data\", \"zorder\": 3, \"alpha\": 1, \"fontsize\": 10.0, \"position\": [0.36021045522931605, 1.0], \"rotation\": -0.0, \"id\": \"el2486140112738228304\"}, {\"v_baseline\": \"central\", \"h_anchor\": \"middle\", \"color\": \"#000000\", \"text\": \"MaryCalls\", \"coordinates\": \"data\", \"zorder\": 3, \"alpha\": 1, \"fontsize\": 10.0, \"position\": [0.94112045644300757, 0.49687860258874372], \"rotation\": -0.0, \"id\": \"el2486140112738229200\"}, {\"v_baseline\": \"central\", \"h_anchor\": \"middle\", \"color\": \"#000000\", \"text\": \"Alarm\", \"coordinates\": \"data\", \"zorder\": 3, \"alpha\": 1, \"fontsize\": 10.0, \"position\": [0.0, 0.90211326612828124], \"rotation\": -0.0, \"id\": \"el2486140112738228688\"}, {\"v_baseline\": \"central\", \"h_anchor\": \"middle\", \"color\": \"#000000\", \"text\": \"JohnCalls\", \"coordinates\": \"data\", \"zorder\": 3, \"alpha\": 1, \"fontsize\": 10.0, \"position\": [0.97374687789301106, 0.9774843497929393], \"rotation\": -0.0, \"id\": \"el2486140112738227664\"}, {\"v_baseline\": \"central\", \"h_anchor\": \"middle\", \"color\": \"#000000\", \"text\": \"Earthquake\", \"coordinates\": \"data\", \"zorder\": 3, \"alpha\": 1, \"fontsize\": 10.0, \"position\": [0.77201706760112088, 0.0], \"rotation\": -0.0, \"id\": \"el2486140112738301904\"}], \"zoomable\": true, \"images\": [], \"xdomain\": [-0.080000000000000002, 1.053746877893011], \"ylim\": [-0.080000000000000002, 1.0800000000000001], \"paths\": [], \"sharey\": [], \"sharex\": [], \"axesbgalpha\": null, \"axes\": [{\"scale\": \"linear\", \"tickformat\": null, \"grid\": {\"gridOn\": false}, \"fontsize\": 10.0, \"position\": \"bottom\", \"nticks\": 8, \"tickvalues\": null}, {\"scale\": \"linear\", \"tickformat\": null, \"grid\": {\"gridOn\": false}, \"fontsize\": 10.0, \"position\": \"left\", \"nticks\": 8, \"tickvalues\": null}], \"lines\": [{\"color\": \"#808080\", \"yindex\": 1, \"coordinates\": \"data\", \"dasharray\": \"10,0\", \"zorder\": 2, \"alpha\": 1, \"xindex\": 0, \"linewidth\": 1.0, \"data\": \"data01\", \"id\": \"el2486140112737671888\"}, {\"color\": \"#000000\", \"yindex\": 1, \"coordinates\": \"data\", \"dasharray\": \"10,0\", \"zorder\": 2, \"alpha\": 0.5, \"xindex\": 0, \"linewidth\": 5.0, \"data\": \"data02\", \"id\": \"el2486140112737669520\"}, {\"color\": \"#808080\", \"yindex\": 1, \"coordinates\": \"data\", \"dasharray\": \"10,0\", \"zorder\": 2, \"alpha\": 1, \"xindex\": 0, \"linewidth\": 1.0, \"data\": \"data03\", \"id\": \"el2486140112736826640\"}, {\"color\": \"#000000\", \"yindex\": 1, \"coordinates\": \"data\", \"dasharray\": \"10,0\", \"zorder\": 2, \"alpha\": 0.5, \"xindex\": 0, \"linewidth\": 5.0, \"data\": \"data04\", \"id\": \"el2486140112736827024\"}, {\"color\": \"#808080\", \"yindex\": 1, \"coordinates\": \"data\", \"dasharray\": \"10,0\", \"zorder\": 2, \"alpha\": 1, \"xindex\": 0, \"linewidth\": 1.0, \"data\": \"data05\", \"id\": \"el2486140112736828816\"}, {\"color\": \"#000000\", \"yindex\": 1, \"coordinates\": \"data\", \"dasharray\": \"10,0\", \"zorder\": 2, \"alpha\": 0.5, \"xindex\": 0, \"linewidth\": 5.0, \"data\": \"data06\", \"id\": \"el2486140112735699152\"}, {\"color\": \"#808080\", \"yindex\": 1, \"coordinates\": \"data\", \"dasharray\": \"10,0\", \"zorder\": 2, \"alpha\": 1, \"xindex\": 0, \"linewidth\": 1.0, \"data\": \"data07\", \"id\": \"el2486140112735699856\"}, {\"color\": \"#000000\", \"yindex\": 1, \"coordinates\": \"data\", \"dasharray\": \"10,0\", \"zorder\": 2, \"alpha\": 0.5, \"xindex\": 0, \"linewidth\": 5.0, \"data\": \"data08\", \"id\": \"el2486140112735110288\"}, {\"color\": \"#808080\", \"yindex\": 1, \"coordinates\": \"data\", \"dasharray\": \"10,0\", \"zorder\": 2, \"alpha\": 1, \"xindex\": 0, \"linewidth\": 1.0, \"data\": \"data09\", \"id\": \"el2486140112735113168\"}, {\"color\": \"#000000\", \"yindex\": 1, \"coordinates\": \"data\", \"dasharray\": \"10,0\", \"zorder\": 2, \"alpha\": 0.5, \"xindex\": 0, \"linewidth\": 5.0, \"data\": \"data10\", \"id\": \"el2486140112735111376\"}], \"markers\": [{\"edgecolor\": \"#000000\", \"facecolor\": \"#D3D3D3\", \"edgewidth\": 1, \"yindex\": 1, \"coordinates\": \"data\", \"zorder\": 2, \"markerpath\": [[[0.0, 10.0], [2.652031, 10.0], [5.195798707848534, 8.946336915882418], [7.0710678118654755, 7.0710678118654755], [8.946336915882418, 5.195798707848534], [10.0, 2.652031], [10.0, 0.0], [10.0, -2.652031], [8.946336915882418, -5.195798707848534], [7.0710678118654755, -7.0710678118654755], [5.195798707848534, -8.946336915882418], [2.652031, -10.0], [0.0, -10.0], [-2.652031, -10.0], [-5.195798707848534, -8.946336915882418], [-7.0710678118654755, -7.0710678118654755], [-8.946336915882418, -5.195798707848534], [-10.0, -2.652031], [-10.0, 0.0], [-10.0, 2.652031], [-8.946336915882418, 5.195798707848534], [-7.0710678118654755, 7.0710678118654755], [-5.195798707848534, 8.946336915882418], [-2.652031, 10.0], [0.0, 10.0]], [\"M\", \"C\", \"C\", \"C\", \"C\", \"C\", \"C\", \"C\", \"C\", \"Z\"]], \"alpha\": 1.0, \"xindex\": 0, \"data\": \"data11\", \"id\": \"el2486140112737671248pts\"}, {\"edgecolor\": \"#000000\", \"facecolor\": \"#D3D3D3\", \"edgewidth\": 1, \"yindex\": 1, \"coordinates\": \"data\", \"zorder\": 2, \"markerpath\": [[[0.0, 20.0], [5.304062, 20.0], [10.391597415697069, 17.892673831764835], [14.142135623730951, 14.142135623730951], [17.892673831764835, 10.391597415697069], [20.0, 5.304062], [20.0, 0.0], [20.0, -5.304062], [17.892673831764835, -10.391597415697069], [14.142135623730951, -14.142135623730951], [10.391597415697069, -17.892673831764835], [5.304062, -20.0], [0.0, -20.0], [-5.304062, -20.0], [-10.391597415697069, -17.892673831764835], [-14.142135623730951, -14.142135623730951], [-17.892673831764835, -10.391597415697069], [-20.0, -5.304062], [-20.0, 0.0], [-20.0, 5.304062], [-17.892673831764835, 10.391597415697069], [-14.142135623730951, 14.142135623730951], [-10.391597415697069, 17.892673831764835], [-5.304062, 20.0], [0.0, 20.0]], [\"M\", \"C\", \"C\", \"C\", \"C\", \"C\", \"C\", \"C\", \"C\", \"Z\"]], \"alpha\": 0.0, \"xindex\": 0, \"data\": \"data11\", \"id\": \"el2486140112738300176pts\"}], \"id\": \"el2486140112736792144\", \"ydomain\": [-0.080000000000000002, 1.0800000000000001], \"collections\": [], \"xscale\": \"linear\", \"bbox\": [0.125, 0.125, 0.77500000000000002, 0.77500000000000002]}], \"height\": 640.0, \"width\": 960.0, \"plugins\": [{\"type\": \"reset\"}, {\"enabled\": false, \"button\": true, \"type\": \"zoom\"}, {\"enabled\": false, \"button\": true, \"type\": \"boxzoom\"}, {\"voffset\": 10, \"labels\": [], \"type\": \"htmltooltip\", \"id\": \"el2486140112738300176pts\", \"hoffset\": 10}], \"data\": {\"data11\": [[0.36021045522931605, 1.0], [0.9411204564430076, 0.4968786025887437], [0.0, 0.9021132661282812], [0.9737468778930111, 0.9774843497929393], [0.7720170676011209, 0.0]], \"data10\": [[0.11580256014016813, 0.766796276209039], [0.0, 0.9021132661282812]], \"data08\": [[0.8276848462090594, 0.9661786872432406], [0.9737468778930111, 0.9774843497929393]], \"data09\": [[0.7720170676011209, 0.0], [0.0, 0.9021132661282812]], \"data06\": [[0.7999523879765564, 0.5576638021196744], [0.9411204564430076, 0.4968786025887437]], \"data07\": [[0.0, 0.9021132661282812], [0.9737468778930111, 0.9774843497929393]], \"data04\": [[0.054031568284397404, 0.916796276209039], [0.0, 0.9021132661282812]], \"data05\": [[0.0, 0.9021132661282812], [0.9411204564430076, 0.4968786025887437]], \"data02\": [[0.8539839562609538, 0.5723468122004322], [0.9411204564430076, 0.4968786025887437]], \"data03\": [[0.36021045522931605, 1.0], [0.0, 0.9021132661282812]], \"data01\": [[0.36021045522931605, 1.0], [0.9411204564430076, 0.4968786025887437]]}, \"id\": \"el2486140112736791312\"});\n",
       "      });\n",
       "    });\n",
       "}else{\n",
       "    // require.js not available: dynamically load d3 & mpld3\n",
       "    mpld3_load_lib(\"https://mpld3.github.io/js/d3.v3.min.js\", function(){\n",
       "         mpld3_load_lib(\"https://mpld3.github.io/js/mpld3.v0.2.js\", function(){\n",
       "                 \n",
       "    mpld3.register_plugin(\"htmltooltip\", HtmlTooltipPlugin);\n",
       "    HtmlTooltipPlugin.prototype = Object.create(mpld3.Plugin.prototype);\n",
       "    HtmlTooltipPlugin.prototype.constructor = HtmlTooltipPlugin;\n",
       "    HtmlTooltipPlugin.prototype.requiredProps = [\"id\"];\n",
       "    HtmlTooltipPlugin.prototype.defaultProps = {labels:null, hoffset:0, voffset:10};\n",
       "    function HtmlTooltipPlugin(fig, props){\n",
       "        mpld3.Plugin.call(this, fig, props);\n",
       "    };\n",
       "\n",
       "    HtmlTooltipPlugin.prototype.draw = function(){\n",
       "       var obj = mpld3.get_element(this.props.id);\n",
       "       var labels = this.props.labels;\n",
       "       var tooltip = d3.select(\"body\").append(\"div\")\n",
       "                    .attr(\"class\", \"mpld3-tooltip\")\n",
       "                    .style(\"position\", \"absolute\")\n",
       "                    .style(\"z-index\", \"10\")\n",
       "                    .style(\"visibility\", \"hidden\");\n",
       "\n",
       "       obj.elements()\n",
       "           .on(\"mouseover\", function(d, i){\n",
       "                              tooltip.html(labels[i])\n",
       "                                     .style(\"visibility\", \"visible\");})\n",
       "           .on(\"mousemove\", function(d, i){\n",
       "                    tooltip\n",
       "                      .style(\"top\", d3.event.pageY + this.props.voffset + \"px\")\n",
       "                      .style(\"left\",d3.event.pageX + this.props.hoffset + \"px\");\n",
       "                 }.bind(this))\n",
       "           .on(\"mouseout\",  function(d, i){\n",
       "                           tooltip.style(\"visibility\", \"hidden\");});\n",
       "    };\n",
       "    \n",
       "                 mpld3.draw_figure(\"fig_el24861401127367913127592168472\", {\"axes\": [{\"xlim\": [-0.080000000000000002, 1.053746877893011], \"yscale\": \"linear\", \"axesbg\": \"#FFFFFF\", \"texts\": [{\"v_baseline\": \"central\", \"h_anchor\": \"middle\", \"color\": \"#000000\", \"text\": \"Burglary\", \"coordinates\": \"data\", \"zorder\": 3, \"alpha\": 1, \"fontsize\": 10.0, \"position\": [0.36021045522931605, 1.0], \"rotation\": -0.0, \"id\": \"el2486140112738228304\"}, {\"v_baseline\": \"central\", \"h_anchor\": \"middle\", \"color\": \"#000000\", \"text\": \"MaryCalls\", \"coordinates\": \"data\", \"zorder\": 3, \"alpha\": 1, \"fontsize\": 10.0, \"position\": [0.94112045644300757, 0.49687860258874372], \"rotation\": -0.0, \"id\": \"el2486140112738229200\"}, {\"v_baseline\": \"central\", \"h_anchor\": \"middle\", \"color\": \"#000000\", \"text\": \"Alarm\", \"coordinates\": \"data\", \"zorder\": 3, \"alpha\": 1, \"fontsize\": 10.0, \"position\": [0.0, 0.90211326612828124], \"rotation\": -0.0, \"id\": \"el2486140112738228688\"}, {\"v_baseline\": \"central\", \"h_anchor\": \"middle\", \"color\": \"#000000\", \"text\": \"JohnCalls\", \"coordinates\": \"data\", \"zorder\": 3, \"alpha\": 1, \"fontsize\": 10.0, \"position\": [0.97374687789301106, 0.9774843497929393], \"rotation\": -0.0, \"id\": \"el2486140112738227664\"}, {\"v_baseline\": \"central\", \"h_anchor\": \"middle\", \"color\": \"#000000\", \"text\": \"Earthquake\", \"coordinates\": \"data\", \"zorder\": 3, \"alpha\": 1, \"fontsize\": 10.0, \"position\": [0.77201706760112088, 0.0], \"rotation\": -0.0, \"id\": \"el2486140112738301904\"}], \"zoomable\": true, \"images\": [], \"xdomain\": [-0.080000000000000002, 1.053746877893011], \"ylim\": [-0.080000000000000002, 1.0800000000000001], \"paths\": [], \"sharey\": [], \"sharex\": [], \"axesbgalpha\": null, \"axes\": [{\"scale\": \"linear\", \"tickformat\": null, \"grid\": {\"gridOn\": false}, \"fontsize\": 10.0, \"position\": \"bottom\", \"nticks\": 8, \"tickvalues\": null}, {\"scale\": \"linear\", \"tickformat\": null, \"grid\": {\"gridOn\": false}, \"fontsize\": 10.0, \"position\": \"left\", \"nticks\": 8, \"tickvalues\": null}], \"lines\": [{\"color\": \"#808080\", \"yindex\": 1, \"coordinates\": \"data\", \"dasharray\": \"10,0\", \"zorder\": 2, \"alpha\": 1, \"xindex\": 0, \"linewidth\": 1.0, \"data\": \"data01\", \"id\": \"el2486140112737671888\"}, {\"color\": \"#000000\", \"yindex\": 1, \"coordinates\": \"data\", \"dasharray\": \"10,0\", \"zorder\": 2, \"alpha\": 0.5, \"xindex\": 0, \"linewidth\": 5.0, \"data\": \"data02\", \"id\": \"el2486140112737669520\"}, {\"color\": \"#808080\", \"yindex\": 1, \"coordinates\": \"data\", \"dasharray\": \"10,0\", \"zorder\": 2, \"alpha\": 1, \"xindex\": 0, \"linewidth\": 1.0, \"data\": \"data03\", \"id\": \"el2486140112736826640\"}, {\"color\": \"#000000\", \"yindex\": 1, \"coordinates\": \"data\", \"dasharray\": \"10,0\", \"zorder\": 2, \"alpha\": 0.5, \"xindex\": 0, \"linewidth\": 5.0, \"data\": \"data04\", \"id\": \"el2486140112736827024\"}, {\"color\": \"#808080\", \"yindex\": 1, \"coordinates\": \"data\", \"dasharray\": \"10,0\", \"zorder\": 2, \"alpha\": 1, \"xindex\": 0, \"linewidth\": 1.0, \"data\": \"data05\", \"id\": \"el2486140112736828816\"}, {\"color\": \"#000000\", \"yindex\": 1, \"coordinates\": \"data\", \"dasharray\": \"10,0\", \"zorder\": 2, \"alpha\": 0.5, \"xindex\": 0, \"linewidth\": 5.0, \"data\": \"data06\", \"id\": \"el2486140112735699152\"}, {\"color\": \"#808080\", \"yindex\": 1, \"coordinates\": \"data\", \"dasharray\": \"10,0\", \"zorder\": 2, \"alpha\": 1, \"xindex\": 0, \"linewidth\": 1.0, \"data\": \"data07\", \"id\": \"el2486140112735699856\"}, {\"color\": \"#000000\", \"yindex\": 1, \"coordinates\": \"data\", \"dasharray\": \"10,0\", \"zorder\": 2, \"alpha\": 0.5, \"xindex\": 0, \"linewidth\": 5.0, \"data\": \"data08\", \"id\": \"el2486140112735110288\"}, {\"color\": \"#808080\", \"yindex\": 1, \"coordinates\": \"data\", \"dasharray\": \"10,0\", \"zorder\": 2, \"alpha\": 1, \"xindex\": 0, \"linewidth\": 1.0, \"data\": \"data09\", \"id\": \"el2486140112735113168\"}, {\"color\": \"#000000\", \"yindex\": 1, \"coordinates\": \"data\", \"dasharray\": \"10,0\", \"zorder\": 2, \"alpha\": 0.5, \"xindex\": 0, \"linewidth\": 5.0, \"data\": \"data10\", \"id\": \"el2486140112735111376\"}], \"markers\": [{\"edgecolor\": \"#000000\", \"facecolor\": \"#D3D3D3\", \"edgewidth\": 1, \"yindex\": 1, \"coordinates\": \"data\", \"zorder\": 2, \"markerpath\": [[[0.0, 10.0], [2.652031, 10.0], [5.195798707848534, 8.946336915882418], [7.0710678118654755, 7.0710678118654755], [8.946336915882418, 5.195798707848534], [10.0, 2.652031], [10.0, 0.0], [10.0, -2.652031], [8.946336915882418, -5.195798707848534], [7.0710678118654755, -7.0710678118654755], [5.195798707848534, -8.946336915882418], [2.652031, -10.0], [0.0, -10.0], [-2.652031, -10.0], [-5.195798707848534, -8.946336915882418], [-7.0710678118654755, -7.0710678118654755], [-8.946336915882418, -5.195798707848534], [-10.0, -2.652031], [-10.0, 0.0], [-10.0, 2.652031], [-8.946336915882418, 5.195798707848534], [-7.0710678118654755, 7.0710678118654755], [-5.195798707848534, 8.946336915882418], [-2.652031, 10.0], [0.0, 10.0]], [\"M\", \"C\", \"C\", \"C\", \"C\", \"C\", \"C\", \"C\", \"C\", \"Z\"]], \"alpha\": 1.0, \"xindex\": 0, \"data\": \"data11\", \"id\": \"el2486140112737671248pts\"}, {\"edgecolor\": \"#000000\", \"facecolor\": \"#D3D3D3\", \"edgewidth\": 1, \"yindex\": 1, \"coordinates\": \"data\", \"zorder\": 2, \"markerpath\": [[[0.0, 20.0], [5.304062, 20.0], [10.391597415697069, 17.892673831764835], [14.142135623730951, 14.142135623730951], [17.892673831764835, 10.391597415697069], [20.0, 5.304062], [20.0, 0.0], [20.0, -5.304062], [17.892673831764835, -10.391597415697069], [14.142135623730951, -14.142135623730951], [10.391597415697069, -17.892673831764835], [5.304062, -20.0], [0.0, -20.0], [-5.304062, -20.0], [-10.391597415697069, -17.892673831764835], [-14.142135623730951, -14.142135623730951], [-17.892673831764835, -10.391597415697069], [-20.0, -5.304062], [-20.0, 0.0], [-20.0, 5.304062], [-17.892673831764835, 10.391597415697069], [-14.142135623730951, 14.142135623730951], [-10.391597415697069, 17.892673831764835], [-5.304062, 20.0], [0.0, 20.0]], [\"M\", \"C\", \"C\", \"C\", \"C\", \"C\", \"C\", \"C\", \"C\", \"Z\"]], \"alpha\": 0.0, \"xindex\": 0, \"data\": \"data11\", \"id\": \"el2486140112738300176pts\"}], \"id\": \"el2486140112736792144\", \"ydomain\": [-0.080000000000000002, 1.0800000000000001], \"collections\": [], \"xscale\": \"linear\", \"bbox\": [0.125, 0.125, 0.77500000000000002, 0.77500000000000002]}], \"height\": 640.0, \"width\": 960.0, \"plugins\": [{\"type\": \"reset\"}, {\"enabled\": false, \"button\": true, \"type\": \"zoom\"}, {\"enabled\": false, \"button\": true, \"type\": \"boxzoom\"}, {\"voffset\": 10, \"labels\": [], \"type\": \"htmltooltip\", \"id\": \"el2486140112738300176pts\", \"hoffset\": 10}], \"data\": {\"data11\": [[0.36021045522931605, 1.0], [0.9411204564430076, 0.4968786025887437], [0.0, 0.9021132661282812], [0.9737468778930111, 0.9774843497929393], [0.7720170676011209, 0.0]], \"data10\": [[0.11580256014016813, 0.766796276209039], [0.0, 0.9021132661282812]], \"data08\": [[0.8276848462090594, 0.9661786872432406], [0.9737468778930111, 0.9774843497929393]], \"data09\": [[0.7720170676011209, 0.0], [0.0, 0.9021132661282812]], \"data06\": [[0.7999523879765564, 0.5576638021196744], [0.9411204564430076, 0.4968786025887437]], \"data07\": [[0.0, 0.9021132661282812], [0.9737468778930111, 0.9774843497929393]], \"data04\": [[0.054031568284397404, 0.916796276209039], [0.0, 0.9021132661282812]], \"data05\": [[0.0, 0.9021132661282812], [0.9411204564430076, 0.4968786025887437]], \"data02\": [[0.8539839562609538, 0.5723468122004322], [0.9411204564430076, 0.4968786025887437]], \"data03\": [[0.36021045522931605, 1.0], [0.0, 0.9021132661282812]], \"data01\": [[0.36021045522931605, 1.0], [0.9411204564430076, 0.4968786025887437]]}, \"id\": \"el2486140112736791312\"});\n",
       "            })\n",
       "         });\n",
       "}\n",
       "</script>"
      ],
      "text/plain": [
       "<IPython.core.display.HTML object>"
      ]
     },
     "execution_count": 113,
     "metadata": {},
     "output_type": "execute_result"
    }
   ],
   "source": [
    "mxg.adj[0, 1] = 1\n",
    "mxg.draw()"
   ]
  },
  {
   "cell_type": "code",
   "execution_count": 114,
   "metadata": {
    "collapsed": false
   },
   "outputs": [
    {
     "data": {
      "text/plain": [
       "-16960.30848558644"
      ]
     },
     "execution_count": 114,
     "metadata": {},
     "output_type": "execute_result"
    }
   ],
   "source": [
    "op = RemoveEdge(mxg, score, 2, 1)\n",
    "op.score"
   ]
  },
  {
   "cell_type": "code",
   "execution_count": 115,
   "metadata": {
    "collapsed": false
   },
   "outputs": [
    {
     "data": {
      "text/plain": [
       "<__main__.RemoveEdge instance at 0x7f6e89fcf1b8>"
      ]
     },
     "execution_count": 115,
     "metadata": {},
     "output_type": "execute_result"
    }
   ],
   "source": [
    "op.do()"
   ]
  },
  {
   "cell_type": "code",
   "execution_count": 116,
   "metadata": {
    "collapsed": false
   },
   "outputs": [
    {
     "data": {
      "text/plain": [
       "0.0"
      ]
     },
     "execution_count": 116,
     "metadata": {},
     "output_type": "execute_result"
    }
   ],
   "source": [
    "op.score"
   ]
  },
  {
   "cell_type": "code",
   "execution_count": 117,
   "metadata": {
    "collapsed": true
   },
   "outputs": [],
   "source": [
    "from itertools import product, permutations\n",
    "class GreedySearch:\n",
    "    def __init__(self, graph, fscore):\n",
    "        self.graph = graph\n",
    "        self.fscore = fscore\n",
    "        self.ops = []\n",
    "        self.ops += [AddEdge(graph, fscore, u, v) for u, v in permutations(graph.nodes(), 2)]\n",
    "        self.ops += [RemoveEdge(graph, fscore, u, v) for u, v in permutations(graph.nodes(), 2)]\n",
    "        self.ops += [ReverseEdge(graph, fscore, u, v) for u, v in permutations(graph.nodes(), 2)]\n",
    "        \n",
    "    def iteration(self):\n",
    "        [op.score for op in self.ops]\n",
    "        self.ops.sort(reverse=True, key=lambda op: op.score)\n",
    "        for op in self.ops:\n",
    "            if op.score < 0:\n",
    "                return True\n",
    "            try:\n",
    "                op.do()\n",
    "                return False\n",
    "            except InvalidOperation:\n",
    "                pass\n",
    "        return True\n",
    "    \n",
    "    def __call__(self):\n",
    "        while not self.iteration():\n",
    "            pass"
   ]
  },
  {
   "cell_type": "code",
   "execution_count": 118,
   "metadata": {
    "collapsed": false
   },
   "outputs": [
    {
     "data": {
      "text/html": [
       "\n",
       "\n",
       "<style>\n",
       "\n",
       "table\n",
       "{\n",
       "  border-collapse: collapse;\n",
       "}\n",
       "th\n",
       "{\n",
       "  color: #ffffff;\n",
       "  background-color: #000000;\n",
       "}\n",
       "td\n",
       "{\n",
       "  background-color: #cccccc;\n",
       "}\n",
       "table, th, td\n",
       "{\n",
       "  font-family:Arial, Helvetica, sans-serif;\n",
       "  border: 1px solid black;\n",
       "  text-align: center;\n",
       "  padding: 3px;\n",
       "  font-size:11pt;\n",
       "}\n",
       "g.mpld3-xaxis, g.mpld3-yaxis {\n",
       "    display: none;\n",
       "}\n",
       "    \n",
       "</style>\n",
       "\n",
       "<div id=\"fig_el24861401127447646243264844168\"></div>\n",
       "<script>\n",
       "function mpld3_load_lib(url, callback){\n",
       "  var s = document.createElement('script');\n",
       "  s.src = url;\n",
       "  s.async = true;\n",
       "  s.onreadystatechange = s.onload = callback;\n",
       "  s.onerror = function(){console.warn(\"failed to load library \" + url);};\n",
       "  document.getElementsByTagName(\"head\")[0].appendChild(s);\n",
       "}\n",
       "\n",
       "if(typeof(mpld3) !== \"undefined\" && mpld3._mpld3IsLoaded){\n",
       "   // already loaded: just create the figure\n",
       "   !function(mpld3){\n",
       "       \n",
       "    mpld3.register_plugin(\"htmltooltip\", HtmlTooltipPlugin);\n",
       "    HtmlTooltipPlugin.prototype = Object.create(mpld3.Plugin.prototype);\n",
       "    HtmlTooltipPlugin.prototype.constructor = HtmlTooltipPlugin;\n",
       "    HtmlTooltipPlugin.prototype.requiredProps = [\"id\"];\n",
       "    HtmlTooltipPlugin.prototype.defaultProps = {labels:null, hoffset:0, voffset:10};\n",
       "    function HtmlTooltipPlugin(fig, props){\n",
       "        mpld3.Plugin.call(this, fig, props);\n",
       "    };\n",
       "\n",
       "    HtmlTooltipPlugin.prototype.draw = function(){\n",
       "       var obj = mpld3.get_element(this.props.id);\n",
       "       var labels = this.props.labels;\n",
       "       var tooltip = d3.select(\"body\").append(\"div\")\n",
       "                    .attr(\"class\", \"mpld3-tooltip\")\n",
       "                    .style(\"position\", \"absolute\")\n",
       "                    .style(\"z-index\", \"10\")\n",
       "                    .style(\"visibility\", \"hidden\");\n",
       "\n",
       "       obj.elements()\n",
       "           .on(\"mouseover\", function(d, i){\n",
       "                              tooltip.html(labels[i])\n",
       "                                     .style(\"visibility\", \"visible\");})\n",
       "           .on(\"mousemove\", function(d, i){\n",
       "                    tooltip\n",
       "                      .style(\"top\", d3.event.pageY + this.props.voffset + \"px\")\n",
       "                      .style(\"left\",d3.event.pageX + this.props.hoffset + \"px\");\n",
       "                 }.bind(this))\n",
       "           .on(\"mouseout\",  function(d, i){\n",
       "                           tooltip.style(\"visibility\", \"hidden\");});\n",
       "    };\n",
       "    \n",
       "       mpld3.draw_figure(\"fig_el24861401127447646243264844168\", {\"axes\": [{\"xlim\": [-0.080000000000000002, 1.0800000000000001], \"yscale\": \"linear\", \"axesbg\": \"#FFFFFF\", \"texts\": [{\"v_baseline\": \"central\", \"h_anchor\": \"middle\", \"color\": \"#000000\", \"text\": \"Burglary\", \"coordinates\": \"data\", \"zorder\": 3, \"alpha\": 1, \"fontsize\": 10.0, \"position\": [0.35958743100923707, 0.0], \"rotation\": -0.0, \"id\": \"el2486140112744294416\"}, {\"v_baseline\": \"central\", \"h_anchor\": \"middle\", \"color\": \"#000000\", \"text\": \"MaryCalls\", \"coordinates\": \"data\", \"zorder\": 3, \"alpha\": 1, \"fontsize\": 10.0, \"position\": [1.0, 0.46990934181293909], \"rotation\": -0.0, \"id\": \"el2486140112744295760\"}, {\"v_baseline\": \"central\", \"h_anchor\": \"middle\", \"color\": \"#000000\", \"text\": \"Alarm\", \"coordinates\": \"data\", \"zorder\": 3, \"alpha\": 1, \"fontsize\": 10.0, \"position\": [0.43366663443086723, 0.2792049848869011], \"rotation\": -0.0, \"id\": \"el2486140112737572176\"}, {\"v_baseline\": \"central\", \"h_anchor\": \"middle\", \"color\": \"#000000\", \"text\": \"JohnCalls\", \"coordinates\": \"data\", \"zorder\": 3, \"alpha\": 1, \"fontsize\": 10.0, \"position\": [0.46652581441316976, 0.85166155112508934], \"rotation\": -0.0, \"id\": \"el2486140112737572368\"}, {\"v_baseline\": \"central\", \"h_anchor\": \"middle\", \"color\": \"#000000\", \"text\": \"Earthquake\", \"coordinates\": \"data\", \"zorder\": 3, \"alpha\": 1, \"fontsize\": 10.0, \"position\": [0.0, 0.35594139471972158], \"rotation\": -0.0, \"id\": \"el2486140112737571728\"}], \"zoomable\": true, \"images\": [], \"xdomain\": [-0.080000000000000002, 1.0800000000000001], \"ylim\": [-0.080000000000000002, 0.9316615511250893], \"paths\": [], \"sharey\": [], \"sharex\": [], \"axesbgalpha\": null, \"axes\": [{\"scale\": \"linear\", \"tickformat\": null, \"grid\": {\"gridOn\": false}, \"fontsize\": 10.0, \"position\": \"bottom\", \"nticks\": 8, \"tickvalues\": null}, {\"scale\": \"linear\", \"tickformat\": null, \"grid\": {\"gridOn\": false}, \"fontsize\": 10.0, \"position\": \"left\", \"nticks\": 7, \"tickvalues\": null}], \"lines\": [{\"color\": \"#808080\", \"yindex\": 1, \"coordinates\": \"data\", \"dasharray\": \"10,0\", \"zorder\": 2, \"alpha\": 1, \"xindex\": 0, \"linewidth\": 1.0, \"data\": \"data01\", \"id\": \"el2486140112743501392\"}, {\"color\": \"#000000\", \"yindex\": 1, \"coordinates\": \"data\", \"dasharray\": \"10,0\", \"zorder\": 2, \"alpha\": 0.5, \"xindex\": 0, \"linewidth\": 5.0, \"data\": \"data02\", \"id\": \"el2486140112745203216\"}, {\"color\": \"#808080\", \"yindex\": 1, \"coordinates\": \"data\", \"dasharray\": \"10,0\", \"zorder\": 2, \"alpha\": 1, \"xindex\": 0, \"linewidth\": 1.0, \"data\": \"data03\", \"id\": \"el2486140112737758736\"}, {\"color\": \"#000000\", \"yindex\": 1, \"coordinates\": \"data\", \"dasharray\": \"10,0\", \"zorder\": 2, \"alpha\": 0.5, \"xindex\": 0, \"linewidth\": 5.0, \"data\": \"data04\", \"id\": \"el2486140112737756432\"}, {\"color\": \"#808080\", \"yindex\": 1, \"coordinates\": \"data\", \"dasharray\": \"10,0\", \"zorder\": 2, \"alpha\": 1, \"xindex\": 0, \"linewidth\": 1.0, \"data\": \"data05\", \"id\": \"el2486140112737506128\"}, {\"color\": \"#000000\", \"yindex\": 1, \"coordinates\": \"data\", \"dasharray\": \"10,0\", \"zorder\": 2, \"alpha\": 0.5, \"xindex\": 0, \"linewidth\": 5.0, \"data\": \"data06\", \"id\": \"el2486140112737505360\"}, {\"color\": \"#808080\", \"yindex\": 1, \"coordinates\": \"data\", \"dasharray\": \"10,0\", \"zorder\": 2, \"alpha\": 1, \"xindex\": 0, \"linewidth\": 1.0, \"data\": \"data07\", \"id\": \"el2486140112737600336\"}, {\"color\": \"#000000\", \"yindex\": 1, \"coordinates\": \"data\", \"dasharray\": \"10,0\", \"zorder\": 2, \"alpha\": 0.5, \"xindex\": 0, \"linewidth\": 5.0, \"data\": \"data08\", \"id\": \"el2486140112737600272\"}], \"markers\": [{\"edgecolor\": \"#000000\", \"facecolor\": \"#D3D3D3\", \"edgewidth\": 1, \"yindex\": 1, \"coordinates\": \"data\", \"zorder\": 2, \"markerpath\": [[[0.0, 10.0], [2.652031, 10.0], [5.195798707848534, 8.946336915882418], [7.0710678118654755, 7.0710678118654755], [8.946336915882418, 5.195798707848534], [10.0, 2.652031], [10.0, 0.0], [10.0, -2.652031], [8.946336915882418, -5.195798707848534], [7.0710678118654755, -7.0710678118654755], [5.195798707848534, -8.946336915882418], [2.652031, -10.0], [0.0, -10.0], [-2.652031, -10.0], [-5.195798707848534, -8.946336915882418], [-7.0710678118654755, -7.0710678118654755], [-8.946336915882418, -5.195798707848534], [-10.0, -2.652031], [-10.0, 0.0], [-10.0, 2.652031], [-8.946336915882418, 5.195798707848534], [-7.0710678118654755, 7.0710678118654755], [-5.195798707848534, 8.946336915882418], [-2.652031, 10.0], [0.0, 10.0]], [\"M\", \"C\", \"C\", \"C\", \"C\", \"C\", \"C\", \"C\", \"C\", \"Z\"]], \"alpha\": 1.0, \"xindex\": 0, \"data\": \"data09\", \"id\": \"el2486140112736928144pts\"}, {\"edgecolor\": \"#000000\", \"facecolor\": \"#D3D3D3\", \"edgewidth\": 1, \"yindex\": 1, \"coordinates\": \"data\", \"zorder\": 2, \"markerpath\": [[[0.0, 20.0], [5.304062, 20.0], [10.391597415697069, 17.892673831764835], [14.142135623730951, 14.142135623730951], [17.892673831764835, 10.391597415697069], [20.0, 5.304062], [20.0, 0.0], [20.0, -5.304062], [17.892673831764835, -10.391597415697069], [14.142135623730951, -14.142135623730951], [10.391597415697069, -17.892673831764835], [5.304062, -20.0], [0.0, -20.0], [-5.304062, -20.0], [-10.391597415697069, -17.892673831764835], [-14.142135623730951, -14.142135623730951], [-17.892673831764835, -10.391597415697069], [-20.0, -5.304062], [-20.0, 0.0], [-20.0, 5.304062], [-17.892673831764835, 10.391597415697069], [-14.142135623730951, 14.142135623730951], [-10.391597415697069, 17.892673831764835], [-5.304062, 20.0], [0.0, 20.0]], [\"M\", \"C\", \"C\", \"C\", \"C\", \"C\", \"C\", \"C\", \"C\", \"Z\"]], \"alpha\": 0.0, \"xindex\": 0, \"data\": \"data09\", \"id\": \"el2486140112737573456pts\"}], \"id\": \"el2486140112744763792\", \"ydomain\": [-0.080000000000000002, 0.9316615511250893], \"collections\": [], \"xscale\": \"linear\", \"bbox\": [0.125, 0.125, 0.77500000000000002, 0.77500000000000002]}], \"height\": 640.0, \"width\": 960.0, \"plugins\": [{\"type\": \"reset\"}, {\"enabled\": false, \"button\": true, \"type\": \"zoom\"}, {\"enabled\": false, \"button\": true, \"type\": \"boxzoom\"}, {\"voffset\": 10, \"labels\": [\"<table border=\\\"1\\\" cellpadding=\\\"4\\\" cellspacing=\\\"0\\\" bordercolor=\\\"#000000\\\">\\n<tr bgcolor=\\\"#AAAAAA\\\">\\n<th align=\\\"center\\\">Burglary</th>\\n<th align=\\\"center\\\">Prob.</th>\\n</tr>\\n<tr>\\n<td bgcolor=#FFFFFF>True</td>\\n<td bgcolor=#f6b5b1>0.010</td>\\n</tr>\\n<tr>\\n<td bgcolor=#FFFFFF>False</td>\\n<td bgcolor=#f2f0f1>0.990</td>\\n</tr>\\n</table>\", \"<table border=\\\"1\\\" cellpadding=\\\"4\\\" cellspacing=\\\"0\\\" bordercolor=\\\"#000000\\\">\\n<tr bgcolor=\\\"#AAAAAA\\\">\\n<th align=\\\"center\\\">Alarm</th>\\n<th align=\\\"center\\\">MaryCalls</th>\\n<th align=\\\"center\\\">Prob.</th>\\n</tr>\\n<tr>\\n<td bgcolor=#FFFFFF>True</td>\\n<td bgcolor=#FFFFFF>True</td>\\n<td bgcolor=#eee6c2>0.700</td>\\n</tr>\\n<tr>\\n<td bgcolor=#FFFFFF>True</td>\\n<td bgcolor=#FFFFFF>False</td>\\n<td bgcolor=#d2ded0>0.300</td>\\n</tr>\\n<tr>\\n<td bgcolor=#FFFFFF>False</td>\\n<td bgcolor=#FFFFFF>True</td>\\n<td bgcolor=#f6b5b1>0.010</td>\\n</tr>\\n<tr>\\n<td bgcolor=#FFFFFF>False</td>\\n<td bgcolor=#FFFFFF>False</td>\\n<td bgcolor=#f2f0f1>0.990</td>\\n</tr>\\n</table>\", \"<table border=\\\"1\\\" cellpadding=\\\"4\\\" cellspacing=\\\"0\\\" bordercolor=\\\"#000000\\\">\\n<tr bgcolor=\\\"#AAAAAA\\\">\\n<th align=\\\"center\\\">Burglary</th>\\n<th align=\\\"center\\\">Earthquake</th>\\n<th align=\\\"center\\\">Alarm</th>\\n<th align=\\\"center\\\">Prob.</th>\\n</tr>\\n<tr>\\n<td bgcolor=#FFFFFF>True</td>\\n<td bgcolor=#FFFFFF>True</td>\\n<td bgcolor=#FFFFFF>True</td>\\n<td bgcolor=#f6e8ef>0.950</td>\\n</tr>\\n<tr>\\n<td bgcolor=#FFFFFF>True</td>\\n<td bgcolor=#FFFFFF>True</td>\\n<td bgcolor=#FFFFFF>False</td>\\n<td bgcolor=#dfbdc1>0.050</td>\\n</tr>\\n<tr>\\n<td bgcolor=#FFFFFF>True</td>\\n<td bgcolor=#FFFFFF>False</td>\\n<td bgcolor=#FFFFFF>True</td>\\n<td bgcolor=#f7e6ef>0.940</td>\\n</tr>\\n<tr>\\n<td bgcolor=#FFFFFF>True</td>\\n<td bgcolor=#FFFFFF>False</td>\\n<td bgcolor=#FFFFFF>False</td>\\n<td bgcolor=#d9bfc6>0.060</td>\\n</tr>\\n<tr>\\n<td bgcolor=#FFFFFF>False</td>\\n<td bgcolor=#FFFFFF>True</td>\\n<td bgcolor=#FFFFFF>True</td>\\n<td bgcolor=#d1e0ce>0.290</td>\\n</tr>\\n<tr>\\n<td bgcolor=#FFFFFF>False</td>\\n<td bgcolor=#FFFFFF>True</td>\\n<td bgcolor=#FFFFFF>False</td>\\n<td bgcolor=#ede4c1>0.710</td>\\n</tr>\\n<tr>\\n<td bgcolor=#FFFFFF>False</td>\\n<td bgcolor=#FFFFFF>False</td>\\n<td bgcolor=#FFFFFF>True</td>\\n<td bgcolor=#fbb4ae>0.001</td>\\n</tr>\\n<tr>\\n<td bgcolor=#FFFFFF>False</td>\\n<td bgcolor=#FFFFFF>False</td>\\n<td bgcolor=#FFFFFF>False</td>\\n<td bgcolor=#f2f2f2>0.999</td>\\n</tr>\\n</table>\", \"<table border=\\\"1\\\" cellpadding=\\\"4\\\" cellspacing=\\\"0\\\" bordercolor=\\\"#000000\\\">\\n<tr bgcolor=\\\"#AAAAAA\\\">\\n<th align=\\\"center\\\">Alarm</th>\\n<th align=\\\"center\\\">JohnCalls</th>\\n<th align=\\\"center\\\">Prob.</th>\\n</tr>\\n<tr>\\n<td bgcolor=#FFFFFF>True</td>\\n<td bgcolor=#FFFFFF>True</td>\\n<td bgcolor=#fadfed>0.900</td>\\n</tr>\\n<tr>\\n<td bgcolor=#FFFFFF>True</td>\\n<td bgcolor=#FFFFFF>False</td>\\n<td bgcolor=#c2c7d7>0.100</td>\\n</tr>\\n<tr>\\n<td bgcolor=#FFFFFF>False</td>\\n<td bgcolor=#FFFFFF>True</td>\\n<td bgcolor=#dfbdc1>0.050</td>\\n</tr>\\n<tr>\\n<td bgcolor=#FFFFFF>False</td>\\n<td bgcolor=#FFFFFF>False</td>\\n<td bgcolor=#f6e8ef>0.950</td>\\n</tr>\\n</table>\", \"<table border=\\\"1\\\" cellpadding=\\\"4\\\" cellspacing=\\\"0\\\" bordercolor=\\\"#000000\\\">\\n<tr bgcolor=\\\"#AAAAAA\\\">\\n<th align=\\\"center\\\">Earthquake</th>\\n<th align=\\\"center\\\">Prob.</th>\\n</tr>\\n<tr>\\n<td bgcolor=#FFFFFF>True</td>\\n<td bgcolor=#efb7b6>0.020</td>\\n</tr>\\n<tr>\\n<td bgcolor=#FFFFFF>False</td>\\n<td bgcolor=#f3eef1>0.980</td>\\n</tr>\\n</table>\"], \"type\": \"htmltooltip\", \"id\": \"el2486140112737573456pts\", \"hoffset\": 10}], \"data\": {\"data08\": [[0.3686166392662371, 0.29071544636182417], [0.4336666344308672, 0.2792049848869011]], \"data09\": [[0.35958743100923707, 0.0], [1.0, 0.4699093418129391], [0.4336666344308672, 0.2792049848869011], [0.46652581441316976, 0.8516615511250893], [0.0, 0.3559413947197216]], \"data06\": [[0.46159693741582436, 0.7657930661893612], [0.46652581441316976, 0.8516615511250893]], \"data07\": [[0.0, 0.3559413947197216], [0.4336666344308672, 0.2792049848869011]], \"data04\": [[0.91504999516463, 0.4413036882740334], [1.0, 0.4699093418129391]], \"data05\": [[0.4336666344308672, 0.2792049848869011], [0.46652581441316976, 0.8516615511250893]], \"data02\": [[0.4225547539176227, 0.23732423715386594], [0.4336666344308672, 0.2792049848869011]], \"data03\": [[0.4336666344308672, 0.2792049848869011], [1.0, 0.4699093418129391]], \"data01\": [[0.35958743100923707, 0.0], [0.4336666344308672, 0.2792049848869011]]}, \"id\": \"el2486140112744764624\"});\n",
       "   }(mpld3);\n",
       "}else if(typeof define === \"function\" && define.amd){\n",
       "   // require.js is available: use it to load d3/mpld3\n",
       "   require.config({paths: {d3: \"https://mpld3.github.io/js/d3.v3.min\"}});\n",
       "   require([\"d3\"], function(d3){\n",
       "      window.d3 = d3;\n",
       "      mpld3_load_lib(\"https://mpld3.github.io/js/mpld3.v0.2.js\", function(){\n",
       "         \n",
       "    mpld3.register_plugin(\"htmltooltip\", HtmlTooltipPlugin);\n",
       "    HtmlTooltipPlugin.prototype = Object.create(mpld3.Plugin.prototype);\n",
       "    HtmlTooltipPlugin.prototype.constructor = HtmlTooltipPlugin;\n",
       "    HtmlTooltipPlugin.prototype.requiredProps = [\"id\"];\n",
       "    HtmlTooltipPlugin.prototype.defaultProps = {labels:null, hoffset:0, voffset:10};\n",
       "    function HtmlTooltipPlugin(fig, props){\n",
       "        mpld3.Plugin.call(this, fig, props);\n",
       "    };\n",
       "\n",
       "    HtmlTooltipPlugin.prototype.draw = function(){\n",
       "       var obj = mpld3.get_element(this.props.id);\n",
       "       var labels = this.props.labels;\n",
       "       var tooltip = d3.select(\"body\").append(\"div\")\n",
       "                    .attr(\"class\", \"mpld3-tooltip\")\n",
       "                    .style(\"position\", \"absolute\")\n",
       "                    .style(\"z-index\", \"10\")\n",
       "                    .style(\"visibility\", \"hidden\");\n",
       "\n",
       "       obj.elements()\n",
       "           .on(\"mouseover\", function(d, i){\n",
       "                              tooltip.html(labels[i])\n",
       "                                     .style(\"visibility\", \"visible\");})\n",
       "           .on(\"mousemove\", function(d, i){\n",
       "                    tooltip\n",
       "                      .style(\"top\", d3.event.pageY + this.props.voffset + \"px\")\n",
       "                      .style(\"left\",d3.event.pageX + this.props.hoffset + \"px\");\n",
       "                 }.bind(this))\n",
       "           .on(\"mouseout\",  function(d, i){\n",
       "                           tooltip.style(\"visibility\", \"hidden\");});\n",
       "    };\n",
       "    \n",
       "         mpld3.draw_figure(\"fig_el24861401127447646243264844168\", {\"axes\": [{\"xlim\": [-0.080000000000000002, 1.0800000000000001], \"yscale\": \"linear\", \"axesbg\": \"#FFFFFF\", \"texts\": [{\"v_baseline\": \"central\", \"h_anchor\": \"middle\", \"color\": \"#000000\", \"text\": \"Burglary\", \"coordinates\": \"data\", \"zorder\": 3, \"alpha\": 1, \"fontsize\": 10.0, \"position\": [0.35958743100923707, 0.0], \"rotation\": -0.0, \"id\": \"el2486140112744294416\"}, {\"v_baseline\": \"central\", \"h_anchor\": \"middle\", \"color\": \"#000000\", \"text\": \"MaryCalls\", \"coordinates\": \"data\", \"zorder\": 3, \"alpha\": 1, \"fontsize\": 10.0, \"position\": [1.0, 0.46990934181293909], \"rotation\": -0.0, \"id\": \"el2486140112744295760\"}, {\"v_baseline\": \"central\", \"h_anchor\": \"middle\", \"color\": \"#000000\", \"text\": \"Alarm\", \"coordinates\": \"data\", \"zorder\": 3, \"alpha\": 1, \"fontsize\": 10.0, \"position\": [0.43366663443086723, 0.2792049848869011], \"rotation\": -0.0, \"id\": \"el2486140112737572176\"}, {\"v_baseline\": \"central\", \"h_anchor\": \"middle\", \"color\": \"#000000\", \"text\": \"JohnCalls\", \"coordinates\": \"data\", \"zorder\": 3, \"alpha\": 1, \"fontsize\": 10.0, \"position\": [0.46652581441316976, 0.85166155112508934], \"rotation\": -0.0, \"id\": \"el2486140112737572368\"}, {\"v_baseline\": \"central\", \"h_anchor\": \"middle\", \"color\": \"#000000\", \"text\": \"Earthquake\", \"coordinates\": \"data\", \"zorder\": 3, \"alpha\": 1, \"fontsize\": 10.0, \"position\": [0.0, 0.35594139471972158], \"rotation\": -0.0, \"id\": \"el2486140112737571728\"}], \"zoomable\": true, \"images\": [], \"xdomain\": [-0.080000000000000002, 1.0800000000000001], \"ylim\": [-0.080000000000000002, 0.9316615511250893], \"paths\": [], \"sharey\": [], \"sharex\": [], \"axesbgalpha\": null, \"axes\": [{\"scale\": \"linear\", \"tickformat\": null, \"grid\": {\"gridOn\": false}, \"fontsize\": 10.0, \"position\": \"bottom\", \"nticks\": 8, \"tickvalues\": null}, {\"scale\": \"linear\", \"tickformat\": null, \"grid\": {\"gridOn\": false}, \"fontsize\": 10.0, \"position\": \"left\", \"nticks\": 7, \"tickvalues\": null}], \"lines\": [{\"color\": \"#808080\", \"yindex\": 1, \"coordinates\": \"data\", \"dasharray\": \"10,0\", \"zorder\": 2, \"alpha\": 1, \"xindex\": 0, \"linewidth\": 1.0, \"data\": \"data01\", \"id\": \"el2486140112743501392\"}, {\"color\": \"#000000\", \"yindex\": 1, \"coordinates\": \"data\", \"dasharray\": \"10,0\", \"zorder\": 2, \"alpha\": 0.5, \"xindex\": 0, \"linewidth\": 5.0, \"data\": \"data02\", \"id\": \"el2486140112745203216\"}, {\"color\": \"#808080\", \"yindex\": 1, \"coordinates\": \"data\", \"dasharray\": \"10,0\", \"zorder\": 2, \"alpha\": 1, \"xindex\": 0, \"linewidth\": 1.0, \"data\": \"data03\", \"id\": \"el2486140112737758736\"}, {\"color\": \"#000000\", \"yindex\": 1, \"coordinates\": \"data\", \"dasharray\": \"10,0\", \"zorder\": 2, \"alpha\": 0.5, \"xindex\": 0, \"linewidth\": 5.0, \"data\": \"data04\", \"id\": \"el2486140112737756432\"}, {\"color\": \"#808080\", \"yindex\": 1, \"coordinates\": \"data\", \"dasharray\": \"10,0\", \"zorder\": 2, \"alpha\": 1, \"xindex\": 0, \"linewidth\": 1.0, \"data\": \"data05\", \"id\": \"el2486140112737506128\"}, {\"color\": \"#000000\", \"yindex\": 1, \"coordinates\": \"data\", \"dasharray\": \"10,0\", \"zorder\": 2, \"alpha\": 0.5, \"xindex\": 0, \"linewidth\": 5.0, \"data\": \"data06\", \"id\": \"el2486140112737505360\"}, {\"color\": \"#808080\", \"yindex\": 1, \"coordinates\": \"data\", \"dasharray\": \"10,0\", \"zorder\": 2, \"alpha\": 1, \"xindex\": 0, \"linewidth\": 1.0, \"data\": \"data07\", \"id\": \"el2486140112737600336\"}, {\"color\": \"#000000\", \"yindex\": 1, \"coordinates\": \"data\", \"dasharray\": \"10,0\", \"zorder\": 2, \"alpha\": 0.5, \"xindex\": 0, \"linewidth\": 5.0, \"data\": \"data08\", \"id\": \"el2486140112737600272\"}], \"markers\": [{\"edgecolor\": \"#000000\", \"facecolor\": \"#D3D3D3\", \"edgewidth\": 1, \"yindex\": 1, \"coordinates\": \"data\", \"zorder\": 2, \"markerpath\": [[[0.0, 10.0], [2.652031, 10.0], [5.195798707848534, 8.946336915882418], [7.0710678118654755, 7.0710678118654755], [8.946336915882418, 5.195798707848534], [10.0, 2.652031], [10.0, 0.0], [10.0, -2.652031], [8.946336915882418, -5.195798707848534], [7.0710678118654755, -7.0710678118654755], [5.195798707848534, -8.946336915882418], [2.652031, -10.0], [0.0, -10.0], [-2.652031, -10.0], [-5.195798707848534, -8.946336915882418], [-7.0710678118654755, -7.0710678118654755], [-8.946336915882418, -5.195798707848534], [-10.0, -2.652031], [-10.0, 0.0], [-10.0, 2.652031], [-8.946336915882418, 5.195798707848534], [-7.0710678118654755, 7.0710678118654755], [-5.195798707848534, 8.946336915882418], [-2.652031, 10.0], [0.0, 10.0]], [\"M\", \"C\", \"C\", \"C\", \"C\", \"C\", \"C\", \"C\", \"C\", \"Z\"]], \"alpha\": 1.0, \"xindex\": 0, \"data\": \"data09\", \"id\": \"el2486140112736928144pts\"}, {\"edgecolor\": \"#000000\", \"facecolor\": \"#D3D3D3\", \"edgewidth\": 1, \"yindex\": 1, \"coordinates\": \"data\", \"zorder\": 2, \"markerpath\": [[[0.0, 20.0], [5.304062, 20.0], [10.391597415697069, 17.892673831764835], [14.142135623730951, 14.142135623730951], [17.892673831764835, 10.391597415697069], [20.0, 5.304062], [20.0, 0.0], [20.0, -5.304062], [17.892673831764835, -10.391597415697069], [14.142135623730951, -14.142135623730951], [10.391597415697069, -17.892673831764835], [5.304062, -20.0], [0.0, -20.0], [-5.304062, -20.0], [-10.391597415697069, -17.892673831764835], [-14.142135623730951, -14.142135623730951], [-17.892673831764835, -10.391597415697069], [-20.0, -5.304062], [-20.0, 0.0], [-20.0, 5.304062], [-17.892673831764835, 10.391597415697069], [-14.142135623730951, 14.142135623730951], [-10.391597415697069, 17.892673831764835], [-5.304062, 20.0], [0.0, 20.0]], [\"M\", \"C\", \"C\", \"C\", \"C\", \"C\", \"C\", \"C\", \"C\", \"Z\"]], \"alpha\": 0.0, \"xindex\": 0, \"data\": \"data09\", \"id\": \"el2486140112737573456pts\"}], \"id\": \"el2486140112744763792\", \"ydomain\": [-0.080000000000000002, 0.9316615511250893], \"collections\": [], \"xscale\": \"linear\", \"bbox\": [0.125, 0.125, 0.77500000000000002, 0.77500000000000002]}], \"height\": 640.0, \"width\": 960.0, \"plugins\": [{\"type\": \"reset\"}, {\"enabled\": false, \"button\": true, \"type\": \"zoom\"}, {\"enabled\": false, \"button\": true, \"type\": \"boxzoom\"}, {\"voffset\": 10, \"labels\": [\"<table border=\\\"1\\\" cellpadding=\\\"4\\\" cellspacing=\\\"0\\\" bordercolor=\\\"#000000\\\">\\n<tr bgcolor=\\\"#AAAAAA\\\">\\n<th align=\\\"center\\\">Burglary</th>\\n<th align=\\\"center\\\">Prob.</th>\\n</tr>\\n<tr>\\n<td bgcolor=#FFFFFF>True</td>\\n<td bgcolor=#f6b5b1>0.010</td>\\n</tr>\\n<tr>\\n<td bgcolor=#FFFFFF>False</td>\\n<td bgcolor=#f2f0f1>0.990</td>\\n</tr>\\n</table>\", \"<table border=\\\"1\\\" cellpadding=\\\"4\\\" cellspacing=\\\"0\\\" bordercolor=\\\"#000000\\\">\\n<tr bgcolor=\\\"#AAAAAA\\\">\\n<th align=\\\"center\\\">Alarm</th>\\n<th align=\\\"center\\\">MaryCalls</th>\\n<th align=\\\"center\\\">Prob.</th>\\n</tr>\\n<tr>\\n<td bgcolor=#FFFFFF>True</td>\\n<td bgcolor=#FFFFFF>True</td>\\n<td bgcolor=#eee6c2>0.700</td>\\n</tr>\\n<tr>\\n<td bgcolor=#FFFFFF>True</td>\\n<td bgcolor=#FFFFFF>False</td>\\n<td bgcolor=#d2ded0>0.300</td>\\n</tr>\\n<tr>\\n<td bgcolor=#FFFFFF>False</td>\\n<td bgcolor=#FFFFFF>True</td>\\n<td bgcolor=#f6b5b1>0.010</td>\\n</tr>\\n<tr>\\n<td bgcolor=#FFFFFF>False</td>\\n<td bgcolor=#FFFFFF>False</td>\\n<td bgcolor=#f2f0f1>0.990</td>\\n</tr>\\n</table>\", \"<table border=\\\"1\\\" cellpadding=\\\"4\\\" cellspacing=\\\"0\\\" bordercolor=\\\"#000000\\\">\\n<tr bgcolor=\\\"#AAAAAA\\\">\\n<th align=\\\"center\\\">Burglary</th>\\n<th align=\\\"center\\\">Earthquake</th>\\n<th align=\\\"center\\\">Alarm</th>\\n<th align=\\\"center\\\">Prob.</th>\\n</tr>\\n<tr>\\n<td bgcolor=#FFFFFF>True</td>\\n<td bgcolor=#FFFFFF>True</td>\\n<td bgcolor=#FFFFFF>True</td>\\n<td bgcolor=#f6e8ef>0.950</td>\\n</tr>\\n<tr>\\n<td bgcolor=#FFFFFF>True</td>\\n<td bgcolor=#FFFFFF>True</td>\\n<td bgcolor=#FFFFFF>False</td>\\n<td bgcolor=#dfbdc1>0.050</td>\\n</tr>\\n<tr>\\n<td bgcolor=#FFFFFF>True</td>\\n<td bgcolor=#FFFFFF>False</td>\\n<td bgcolor=#FFFFFF>True</td>\\n<td bgcolor=#f7e6ef>0.940</td>\\n</tr>\\n<tr>\\n<td bgcolor=#FFFFFF>True</td>\\n<td bgcolor=#FFFFFF>False</td>\\n<td bgcolor=#FFFFFF>False</td>\\n<td bgcolor=#d9bfc6>0.060</td>\\n</tr>\\n<tr>\\n<td bgcolor=#FFFFFF>False</td>\\n<td bgcolor=#FFFFFF>True</td>\\n<td bgcolor=#FFFFFF>True</td>\\n<td bgcolor=#d1e0ce>0.290</td>\\n</tr>\\n<tr>\\n<td bgcolor=#FFFFFF>False</td>\\n<td bgcolor=#FFFFFF>True</td>\\n<td bgcolor=#FFFFFF>False</td>\\n<td bgcolor=#ede4c1>0.710</td>\\n</tr>\\n<tr>\\n<td bgcolor=#FFFFFF>False</td>\\n<td bgcolor=#FFFFFF>False</td>\\n<td bgcolor=#FFFFFF>True</td>\\n<td bgcolor=#fbb4ae>0.001</td>\\n</tr>\\n<tr>\\n<td bgcolor=#FFFFFF>False</td>\\n<td bgcolor=#FFFFFF>False</td>\\n<td bgcolor=#FFFFFF>False</td>\\n<td bgcolor=#f2f2f2>0.999</td>\\n</tr>\\n</table>\", \"<table border=\\\"1\\\" cellpadding=\\\"4\\\" cellspacing=\\\"0\\\" bordercolor=\\\"#000000\\\">\\n<tr bgcolor=\\\"#AAAAAA\\\">\\n<th align=\\\"center\\\">Alarm</th>\\n<th align=\\\"center\\\">JohnCalls</th>\\n<th align=\\\"center\\\">Prob.</th>\\n</tr>\\n<tr>\\n<td bgcolor=#FFFFFF>True</td>\\n<td bgcolor=#FFFFFF>True</td>\\n<td bgcolor=#fadfed>0.900</td>\\n</tr>\\n<tr>\\n<td bgcolor=#FFFFFF>True</td>\\n<td bgcolor=#FFFFFF>False</td>\\n<td bgcolor=#c2c7d7>0.100</td>\\n</tr>\\n<tr>\\n<td bgcolor=#FFFFFF>False</td>\\n<td bgcolor=#FFFFFF>True</td>\\n<td bgcolor=#dfbdc1>0.050</td>\\n</tr>\\n<tr>\\n<td bgcolor=#FFFFFF>False</td>\\n<td bgcolor=#FFFFFF>False</td>\\n<td bgcolor=#f6e8ef>0.950</td>\\n</tr>\\n</table>\", \"<table border=\\\"1\\\" cellpadding=\\\"4\\\" cellspacing=\\\"0\\\" bordercolor=\\\"#000000\\\">\\n<tr bgcolor=\\\"#AAAAAA\\\">\\n<th align=\\\"center\\\">Earthquake</th>\\n<th align=\\\"center\\\">Prob.</th>\\n</tr>\\n<tr>\\n<td bgcolor=#FFFFFF>True</td>\\n<td bgcolor=#efb7b6>0.020</td>\\n</tr>\\n<tr>\\n<td bgcolor=#FFFFFF>False</td>\\n<td bgcolor=#f3eef1>0.980</td>\\n</tr>\\n</table>\"], \"type\": \"htmltooltip\", \"id\": \"el2486140112737573456pts\", \"hoffset\": 10}], \"data\": {\"data08\": [[0.3686166392662371, 0.29071544636182417], [0.4336666344308672, 0.2792049848869011]], \"data09\": [[0.35958743100923707, 0.0], [1.0, 0.4699093418129391], [0.4336666344308672, 0.2792049848869011], [0.46652581441316976, 0.8516615511250893], [0.0, 0.3559413947197216]], \"data06\": [[0.46159693741582436, 0.7657930661893612], [0.46652581441316976, 0.8516615511250893]], \"data07\": [[0.0, 0.3559413947197216], [0.4336666344308672, 0.2792049848869011]], \"data04\": [[0.91504999516463, 0.4413036882740334], [1.0, 0.4699093418129391]], \"data05\": [[0.4336666344308672, 0.2792049848869011], [0.46652581441316976, 0.8516615511250893]], \"data02\": [[0.4225547539176227, 0.23732423715386594], [0.4336666344308672, 0.2792049848869011]], \"data03\": [[0.4336666344308672, 0.2792049848869011], [1.0, 0.4699093418129391]], \"data01\": [[0.35958743100923707, 0.0], [0.4336666344308672, 0.2792049848869011]]}, \"id\": \"el2486140112744764624\"});\n",
       "      });\n",
       "    });\n",
       "}else{\n",
       "    // require.js not available: dynamically load d3 & mpld3\n",
       "    mpld3_load_lib(\"https://mpld3.github.io/js/d3.v3.min.js\", function(){\n",
       "         mpld3_load_lib(\"https://mpld3.github.io/js/mpld3.v0.2.js\", function(){\n",
       "                 \n",
       "    mpld3.register_plugin(\"htmltooltip\", HtmlTooltipPlugin);\n",
       "    HtmlTooltipPlugin.prototype = Object.create(mpld3.Plugin.prototype);\n",
       "    HtmlTooltipPlugin.prototype.constructor = HtmlTooltipPlugin;\n",
       "    HtmlTooltipPlugin.prototype.requiredProps = [\"id\"];\n",
       "    HtmlTooltipPlugin.prototype.defaultProps = {labels:null, hoffset:0, voffset:10};\n",
       "    function HtmlTooltipPlugin(fig, props){\n",
       "        mpld3.Plugin.call(this, fig, props);\n",
       "    };\n",
       "\n",
       "    HtmlTooltipPlugin.prototype.draw = function(){\n",
       "       var obj = mpld3.get_element(this.props.id);\n",
       "       var labels = this.props.labels;\n",
       "       var tooltip = d3.select(\"body\").append(\"div\")\n",
       "                    .attr(\"class\", \"mpld3-tooltip\")\n",
       "                    .style(\"position\", \"absolute\")\n",
       "                    .style(\"z-index\", \"10\")\n",
       "                    .style(\"visibility\", \"hidden\");\n",
       "\n",
       "       obj.elements()\n",
       "           .on(\"mouseover\", function(d, i){\n",
       "                              tooltip.html(labels[i])\n",
       "                                     .style(\"visibility\", \"visible\");})\n",
       "           .on(\"mousemove\", function(d, i){\n",
       "                    tooltip\n",
       "                      .style(\"top\", d3.event.pageY + this.props.voffset + \"px\")\n",
       "                      .style(\"left\",d3.event.pageX + this.props.hoffset + \"px\");\n",
       "                 }.bind(this))\n",
       "           .on(\"mouseout\",  function(d, i){\n",
       "                           tooltip.style(\"visibility\", \"hidden\");});\n",
       "    };\n",
       "    \n",
       "                 mpld3.draw_figure(\"fig_el24861401127447646243264844168\", {\"axes\": [{\"xlim\": [-0.080000000000000002, 1.0800000000000001], \"yscale\": \"linear\", \"axesbg\": \"#FFFFFF\", \"texts\": [{\"v_baseline\": \"central\", \"h_anchor\": \"middle\", \"color\": \"#000000\", \"text\": \"Burglary\", \"coordinates\": \"data\", \"zorder\": 3, \"alpha\": 1, \"fontsize\": 10.0, \"position\": [0.35958743100923707, 0.0], \"rotation\": -0.0, \"id\": \"el2486140112744294416\"}, {\"v_baseline\": \"central\", \"h_anchor\": \"middle\", \"color\": \"#000000\", \"text\": \"MaryCalls\", \"coordinates\": \"data\", \"zorder\": 3, \"alpha\": 1, \"fontsize\": 10.0, \"position\": [1.0, 0.46990934181293909], \"rotation\": -0.0, \"id\": \"el2486140112744295760\"}, {\"v_baseline\": \"central\", \"h_anchor\": \"middle\", \"color\": \"#000000\", \"text\": \"Alarm\", \"coordinates\": \"data\", \"zorder\": 3, \"alpha\": 1, \"fontsize\": 10.0, \"position\": [0.43366663443086723, 0.2792049848869011], \"rotation\": -0.0, \"id\": \"el2486140112737572176\"}, {\"v_baseline\": \"central\", \"h_anchor\": \"middle\", \"color\": \"#000000\", \"text\": \"JohnCalls\", \"coordinates\": \"data\", \"zorder\": 3, \"alpha\": 1, \"fontsize\": 10.0, \"position\": [0.46652581441316976, 0.85166155112508934], \"rotation\": -0.0, \"id\": \"el2486140112737572368\"}, {\"v_baseline\": \"central\", \"h_anchor\": \"middle\", \"color\": \"#000000\", \"text\": \"Earthquake\", \"coordinates\": \"data\", \"zorder\": 3, \"alpha\": 1, \"fontsize\": 10.0, \"position\": [0.0, 0.35594139471972158], \"rotation\": -0.0, \"id\": \"el2486140112737571728\"}], \"zoomable\": true, \"images\": [], \"xdomain\": [-0.080000000000000002, 1.0800000000000001], \"ylim\": [-0.080000000000000002, 0.9316615511250893], \"paths\": [], \"sharey\": [], \"sharex\": [], \"axesbgalpha\": null, \"axes\": [{\"scale\": \"linear\", \"tickformat\": null, \"grid\": {\"gridOn\": false}, \"fontsize\": 10.0, \"position\": \"bottom\", \"nticks\": 8, \"tickvalues\": null}, {\"scale\": \"linear\", \"tickformat\": null, \"grid\": {\"gridOn\": false}, \"fontsize\": 10.0, \"position\": \"left\", \"nticks\": 7, \"tickvalues\": null}], \"lines\": [{\"color\": \"#808080\", \"yindex\": 1, \"coordinates\": \"data\", \"dasharray\": \"10,0\", \"zorder\": 2, \"alpha\": 1, \"xindex\": 0, \"linewidth\": 1.0, \"data\": \"data01\", \"id\": \"el2486140112743501392\"}, {\"color\": \"#000000\", \"yindex\": 1, \"coordinates\": \"data\", \"dasharray\": \"10,0\", \"zorder\": 2, \"alpha\": 0.5, \"xindex\": 0, \"linewidth\": 5.0, \"data\": \"data02\", \"id\": \"el2486140112745203216\"}, {\"color\": \"#808080\", \"yindex\": 1, \"coordinates\": \"data\", \"dasharray\": \"10,0\", \"zorder\": 2, \"alpha\": 1, \"xindex\": 0, \"linewidth\": 1.0, \"data\": \"data03\", \"id\": \"el2486140112737758736\"}, {\"color\": \"#000000\", \"yindex\": 1, \"coordinates\": \"data\", \"dasharray\": \"10,0\", \"zorder\": 2, \"alpha\": 0.5, \"xindex\": 0, \"linewidth\": 5.0, \"data\": \"data04\", \"id\": \"el2486140112737756432\"}, {\"color\": \"#808080\", \"yindex\": 1, \"coordinates\": \"data\", \"dasharray\": \"10,0\", \"zorder\": 2, \"alpha\": 1, \"xindex\": 0, \"linewidth\": 1.0, \"data\": \"data05\", \"id\": \"el2486140112737506128\"}, {\"color\": \"#000000\", \"yindex\": 1, \"coordinates\": \"data\", \"dasharray\": \"10,0\", \"zorder\": 2, \"alpha\": 0.5, \"xindex\": 0, \"linewidth\": 5.0, \"data\": \"data06\", \"id\": \"el2486140112737505360\"}, {\"color\": \"#808080\", \"yindex\": 1, \"coordinates\": \"data\", \"dasharray\": \"10,0\", \"zorder\": 2, \"alpha\": 1, \"xindex\": 0, \"linewidth\": 1.0, \"data\": \"data07\", \"id\": \"el2486140112737600336\"}, {\"color\": \"#000000\", \"yindex\": 1, \"coordinates\": \"data\", \"dasharray\": \"10,0\", \"zorder\": 2, \"alpha\": 0.5, \"xindex\": 0, \"linewidth\": 5.0, \"data\": \"data08\", \"id\": \"el2486140112737600272\"}], \"markers\": [{\"edgecolor\": \"#000000\", \"facecolor\": \"#D3D3D3\", \"edgewidth\": 1, \"yindex\": 1, \"coordinates\": \"data\", \"zorder\": 2, \"markerpath\": [[[0.0, 10.0], [2.652031, 10.0], [5.195798707848534, 8.946336915882418], [7.0710678118654755, 7.0710678118654755], [8.946336915882418, 5.195798707848534], [10.0, 2.652031], [10.0, 0.0], [10.0, -2.652031], [8.946336915882418, -5.195798707848534], [7.0710678118654755, -7.0710678118654755], [5.195798707848534, -8.946336915882418], [2.652031, -10.0], [0.0, -10.0], [-2.652031, -10.0], [-5.195798707848534, -8.946336915882418], [-7.0710678118654755, -7.0710678118654755], [-8.946336915882418, -5.195798707848534], [-10.0, -2.652031], [-10.0, 0.0], [-10.0, 2.652031], [-8.946336915882418, 5.195798707848534], [-7.0710678118654755, 7.0710678118654755], [-5.195798707848534, 8.946336915882418], [-2.652031, 10.0], [0.0, 10.0]], [\"M\", \"C\", \"C\", \"C\", \"C\", \"C\", \"C\", \"C\", \"C\", \"Z\"]], \"alpha\": 1.0, \"xindex\": 0, \"data\": \"data09\", \"id\": \"el2486140112736928144pts\"}, {\"edgecolor\": \"#000000\", \"facecolor\": \"#D3D3D3\", \"edgewidth\": 1, \"yindex\": 1, \"coordinates\": \"data\", \"zorder\": 2, \"markerpath\": [[[0.0, 20.0], [5.304062, 20.0], [10.391597415697069, 17.892673831764835], [14.142135623730951, 14.142135623730951], [17.892673831764835, 10.391597415697069], [20.0, 5.304062], [20.0, 0.0], [20.0, -5.304062], [17.892673831764835, -10.391597415697069], [14.142135623730951, -14.142135623730951], [10.391597415697069, -17.892673831764835], [5.304062, -20.0], [0.0, -20.0], [-5.304062, -20.0], [-10.391597415697069, -17.892673831764835], [-14.142135623730951, -14.142135623730951], [-17.892673831764835, -10.391597415697069], [-20.0, -5.304062], [-20.0, 0.0], [-20.0, 5.304062], [-17.892673831764835, 10.391597415697069], [-14.142135623730951, 14.142135623730951], [-10.391597415697069, 17.892673831764835], [-5.304062, 20.0], [0.0, 20.0]], [\"M\", \"C\", \"C\", \"C\", \"C\", \"C\", \"C\", \"C\", \"C\", \"Z\"]], \"alpha\": 0.0, \"xindex\": 0, \"data\": \"data09\", \"id\": \"el2486140112737573456pts\"}], \"id\": \"el2486140112744763792\", \"ydomain\": [-0.080000000000000002, 0.9316615511250893], \"collections\": [], \"xscale\": \"linear\", \"bbox\": [0.125, 0.125, 0.77500000000000002, 0.77500000000000002]}], \"height\": 640.0, \"width\": 960.0, \"plugins\": [{\"type\": \"reset\"}, {\"enabled\": false, \"button\": true, \"type\": \"zoom\"}, {\"enabled\": false, \"button\": true, \"type\": \"boxzoom\"}, {\"voffset\": 10, \"labels\": [\"<table border=\\\"1\\\" cellpadding=\\\"4\\\" cellspacing=\\\"0\\\" bordercolor=\\\"#000000\\\">\\n<tr bgcolor=\\\"#AAAAAA\\\">\\n<th align=\\\"center\\\">Burglary</th>\\n<th align=\\\"center\\\">Prob.</th>\\n</tr>\\n<tr>\\n<td bgcolor=#FFFFFF>True</td>\\n<td bgcolor=#f6b5b1>0.010</td>\\n</tr>\\n<tr>\\n<td bgcolor=#FFFFFF>False</td>\\n<td bgcolor=#f2f0f1>0.990</td>\\n</tr>\\n</table>\", \"<table border=\\\"1\\\" cellpadding=\\\"4\\\" cellspacing=\\\"0\\\" bordercolor=\\\"#000000\\\">\\n<tr bgcolor=\\\"#AAAAAA\\\">\\n<th align=\\\"center\\\">Alarm</th>\\n<th align=\\\"center\\\">MaryCalls</th>\\n<th align=\\\"center\\\">Prob.</th>\\n</tr>\\n<tr>\\n<td bgcolor=#FFFFFF>True</td>\\n<td bgcolor=#FFFFFF>True</td>\\n<td bgcolor=#eee6c2>0.700</td>\\n</tr>\\n<tr>\\n<td bgcolor=#FFFFFF>True</td>\\n<td bgcolor=#FFFFFF>False</td>\\n<td bgcolor=#d2ded0>0.300</td>\\n</tr>\\n<tr>\\n<td bgcolor=#FFFFFF>False</td>\\n<td bgcolor=#FFFFFF>True</td>\\n<td bgcolor=#f6b5b1>0.010</td>\\n</tr>\\n<tr>\\n<td bgcolor=#FFFFFF>False</td>\\n<td bgcolor=#FFFFFF>False</td>\\n<td bgcolor=#f2f0f1>0.990</td>\\n</tr>\\n</table>\", \"<table border=\\\"1\\\" cellpadding=\\\"4\\\" cellspacing=\\\"0\\\" bordercolor=\\\"#000000\\\">\\n<tr bgcolor=\\\"#AAAAAA\\\">\\n<th align=\\\"center\\\">Burglary</th>\\n<th align=\\\"center\\\">Earthquake</th>\\n<th align=\\\"center\\\">Alarm</th>\\n<th align=\\\"center\\\">Prob.</th>\\n</tr>\\n<tr>\\n<td bgcolor=#FFFFFF>True</td>\\n<td bgcolor=#FFFFFF>True</td>\\n<td bgcolor=#FFFFFF>True</td>\\n<td bgcolor=#f6e8ef>0.950</td>\\n</tr>\\n<tr>\\n<td bgcolor=#FFFFFF>True</td>\\n<td bgcolor=#FFFFFF>True</td>\\n<td bgcolor=#FFFFFF>False</td>\\n<td bgcolor=#dfbdc1>0.050</td>\\n</tr>\\n<tr>\\n<td bgcolor=#FFFFFF>True</td>\\n<td bgcolor=#FFFFFF>False</td>\\n<td bgcolor=#FFFFFF>True</td>\\n<td bgcolor=#f7e6ef>0.940</td>\\n</tr>\\n<tr>\\n<td bgcolor=#FFFFFF>True</td>\\n<td bgcolor=#FFFFFF>False</td>\\n<td bgcolor=#FFFFFF>False</td>\\n<td bgcolor=#d9bfc6>0.060</td>\\n</tr>\\n<tr>\\n<td bgcolor=#FFFFFF>False</td>\\n<td bgcolor=#FFFFFF>True</td>\\n<td bgcolor=#FFFFFF>True</td>\\n<td bgcolor=#d1e0ce>0.290</td>\\n</tr>\\n<tr>\\n<td bgcolor=#FFFFFF>False</td>\\n<td bgcolor=#FFFFFF>True</td>\\n<td bgcolor=#FFFFFF>False</td>\\n<td bgcolor=#ede4c1>0.710</td>\\n</tr>\\n<tr>\\n<td bgcolor=#FFFFFF>False</td>\\n<td bgcolor=#FFFFFF>False</td>\\n<td bgcolor=#FFFFFF>True</td>\\n<td bgcolor=#fbb4ae>0.001</td>\\n</tr>\\n<tr>\\n<td bgcolor=#FFFFFF>False</td>\\n<td bgcolor=#FFFFFF>False</td>\\n<td bgcolor=#FFFFFF>False</td>\\n<td bgcolor=#f2f2f2>0.999</td>\\n</tr>\\n</table>\", \"<table border=\\\"1\\\" cellpadding=\\\"4\\\" cellspacing=\\\"0\\\" bordercolor=\\\"#000000\\\">\\n<tr bgcolor=\\\"#AAAAAA\\\">\\n<th align=\\\"center\\\">Alarm</th>\\n<th align=\\\"center\\\">JohnCalls</th>\\n<th align=\\\"center\\\">Prob.</th>\\n</tr>\\n<tr>\\n<td bgcolor=#FFFFFF>True</td>\\n<td bgcolor=#FFFFFF>True</td>\\n<td bgcolor=#fadfed>0.900</td>\\n</tr>\\n<tr>\\n<td bgcolor=#FFFFFF>True</td>\\n<td bgcolor=#FFFFFF>False</td>\\n<td bgcolor=#c2c7d7>0.100</td>\\n</tr>\\n<tr>\\n<td bgcolor=#FFFFFF>False</td>\\n<td bgcolor=#FFFFFF>True</td>\\n<td bgcolor=#dfbdc1>0.050</td>\\n</tr>\\n<tr>\\n<td bgcolor=#FFFFFF>False</td>\\n<td bgcolor=#FFFFFF>False</td>\\n<td bgcolor=#f6e8ef>0.950</td>\\n</tr>\\n</table>\", \"<table border=\\\"1\\\" cellpadding=\\\"4\\\" cellspacing=\\\"0\\\" bordercolor=\\\"#000000\\\">\\n<tr bgcolor=\\\"#AAAAAA\\\">\\n<th align=\\\"center\\\">Earthquake</th>\\n<th align=\\\"center\\\">Prob.</th>\\n</tr>\\n<tr>\\n<td bgcolor=#FFFFFF>True</td>\\n<td bgcolor=#efb7b6>0.020</td>\\n</tr>\\n<tr>\\n<td bgcolor=#FFFFFF>False</td>\\n<td bgcolor=#f3eef1>0.980</td>\\n</tr>\\n</table>\"], \"type\": \"htmltooltip\", \"id\": \"el2486140112737573456pts\", \"hoffset\": 10}], \"data\": {\"data08\": [[0.3686166392662371, 0.29071544636182417], [0.4336666344308672, 0.2792049848869011]], \"data09\": [[0.35958743100923707, 0.0], [1.0, 0.4699093418129391], [0.4336666344308672, 0.2792049848869011], [0.46652581441316976, 0.8516615511250893], [0.0, 0.3559413947197216]], \"data06\": [[0.46159693741582436, 0.7657930661893612], [0.46652581441316976, 0.8516615511250893]], \"data07\": [[0.0, 0.3559413947197216], [0.4336666344308672, 0.2792049848869011]], \"data04\": [[0.91504999516463, 0.4413036882740334], [1.0, 0.4699093418129391]], \"data05\": [[0.4336666344308672, 0.2792049848869011], [0.46652581441316976, 0.8516615511250893]], \"data02\": [[0.4225547539176227, 0.23732423715386594], [0.4336666344308672, 0.2792049848869011]], \"data03\": [[0.4336666344308672, 0.2792049848869011], [1.0, 0.4699093418129391]], \"data01\": [[0.35958743100923707, 0.0], [0.4336666344308672, 0.2792049848869011]]}, \"id\": \"el2486140112744764624\"});\n",
       "            })\n",
       "         });\n",
       "}\n",
       "</script>"
      ],
      "text/plain": [
       "<IPython.core.display.HTML object>"
      ]
     },
     "execution_count": 118,
     "metadata": {},
     "output_type": "execute_result"
    }
   ],
   "source": [
    "true_dgm.draw()"
   ]
  },
  {
   "cell_type": "code",
   "execution_count": 119,
   "metadata": {
    "collapsed": false
   },
   "outputs": [
    {
     "data": {
      "text/html": [
       "\n",
       "\n",
       "<style>\n",
       "\n",
       "table\n",
       "{\n",
       "  border-collapse: collapse;\n",
       "}\n",
       "th\n",
       "{\n",
       "  color: #ffffff;\n",
       "  background-color: #000000;\n",
       "}\n",
       "td\n",
       "{\n",
       "  background-color: #cccccc;\n",
       "}\n",
       "table, th, td\n",
       "{\n",
       "  font-family:Arial, Helvetica, sans-serif;\n",
       "  border: 1px solid black;\n",
       "  text-align: center;\n",
       "  padding: 3px;\n",
       "  font-size:11pt;\n",
       "}\n",
       "g.mpld3-xaxis, g.mpld3-yaxis {\n",
       "    display: none;\n",
       "}\n",
       "    \n",
       "</style>\n",
       "\n",
       "<div id=\"fig_el24861401127438017442008020302\"></div>\n",
       "<script>\n",
       "function mpld3_load_lib(url, callback){\n",
       "  var s = document.createElement('script');\n",
       "  s.src = url;\n",
       "  s.async = true;\n",
       "  s.onreadystatechange = s.onload = callback;\n",
       "  s.onerror = function(){console.warn(\"failed to load library \" + url);};\n",
       "  document.getElementsByTagName(\"head\")[0].appendChild(s);\n",
       "}\n",
       "\n",
       "if(typeof(mpld3) !== \"undefined\" && mpld3._mpld3IsLoaded){\n",
       "   // already loaded: just create the figure\n",
       "   !function(mpld3){\n",
       "       \n",
       "    mpld3.register_plugin(\"htmltooltip\", HtmlTooltipPlugin);\n",
       "    HtmlTooltipPlugin.prototype = Object.create(mpld3.Plugin.prototype);\n",
       "    HtmlTooltipPlugin.prototype.constructor = HtmlTooltipPlugin;\n",
       "    HtmlTooltipPlugin.prototype.requiredProps = [\"id\"];\n",
       "    HtmlTooltipPlugin.prototype.defaultProps = {labels:null, hoffset:0, voffset:10};\n",
       "    function HtmlTooltipPlugin(fig, props){\n",
       "        mpld3.Plugin.call(this, fig, props);\n",
       "    };\n",
       "\n",
       "    HtmlTooltipPlugin.prototype.draw = function(){\n",
       "       var obj = mpld3.get_element(this.props.id);\n",
       "       var labels = this.props.labels;\n",
       "       var tooltip = d3.select(\"body\").append(\"div\")\n",
       "                    .attr(\"class\", \"mpld3-tooltip\")\n",
       "                    .style(\"position\", \"absolute\")\n",
       "                    .style(\"z-index\", \"10\")\n",
       "                    .style(\"visibility\", \"hidden\");\n",
       "\n",
       "       obj.elements()\n",
       "           .on(\"mouseover\", function(d, i){\n",
       "                              tooltip.html(labels[i])\n",
       "                                     .style(\"visibility\", \"visible\");})\n",
       "           .on(\"mousemove\", function(d, i){\n",
       "                    tooltip\n",
       "                      .style(\"top\", d3.event.pageY + this.props.voffset + \"px\")\n",
       "                      .style(\"left\",d3.event.pageX + this.props.hoffset + \"px\");\n",
       "                 }.bind(this))\n",
       "           .on(\"mouseout\",  function(d, i){\n",
       "                           tooltip.style(\"visibility\", \"hidden\");});\n",
       "    };\n",
       "    \n",
       "       mpld3.draw_figure(\"fig_el24861401127438017442008020302\", {\"axes\": [{\"xlim\": [-0.080000000000000002, 0.99482034387120577], \"yscale\": \"linear\", \"axesbg\": \"#FFFFFF\", \"texts\": [{\"v_baseline\": \"central\", \"h_anchor\": \"middle\", \"color\": \"#000000\", \"text\": \"Burglary\", \"coordinates\": \"data\", \"zorder\": 3, \"alpha\": 1, \"fontsize\": 10.0, \"position\": [0.0, 0.18787723137984735], \"rotation\": -0.0, \"id\": \"el2486140112742871376\"}, {\"v_baseline\": \"central\", \"h_anchor\": \"middle\", \"color\": \"#000000\", \"text\": \"MaryCalls\", \"coordinates\": \"data\", \"zorder\": 3, \"alpha\": 1, \"fontsize\": 10.0, \"position\": [0.78602368383607413, 1.0], \"rotation\": -0.0, \"id\": \"el2486140112731867536\"}, {\"v_baseline\": \"central\", \"h_anchor\": \"middle\", \"color\": \"#000000\", \"text\": \"Alarm\", \"coordinates\": \"data\", \"zorder\": 3, \"alpha\": 1, \"fontsize\": 10.0, \"position\": [0.084992098597257301, 0.80646736080086434], \"rotation\": -0.0, \"id\": \"el2486140112731868624\"}, {\"v_baseline\": \"central\", \"h_anchor\": \"middle\", \"color\": \"#000000\", \"text\": \"JohnCalls\", \"coordinates\": \"data\", \"zorder\": 3, \"alpha\": 1, \"fontsize\": 10.0, \"position\": [0.48165098459332467, 0.0], \"rotation\": -0.0, \"id\": \"el2486140112743080528\"}, {\"v_baseline\": \"central\", \"h_anchor\": \"middle\", \"color\": \"#000000\", \"text\": \"Earthquake\", \"coordinates\": \"data\", \"zorder\": 3, \"alpha\": 1, \"fontsize\": 10.0, \"position\": [0.91482034387120581, 0.44699624943015037], \"rotation\": -0.0, \"id\": \"el2486140112743081616\"}], \"zoomable\": true, \"images\": [], \"xdomain\": [-0.080000000000000002, 0.99482034387120577], \"ylim\": [-0.080000000000000002, 1.0800000000000001], \"paths\": [], \"sharey\": [], \"sharex\": [], \"axesbgalpha\": null, \"axes\": [{\"scale\": \"linear\", \"tickformat\": null, \"grid\": {\"gridOn\": false}, \"fontsize\": 10.0, \"position\": \"bottom\", \"nticks\": 7, \"tickvalues\": null}, {\"scale\": \"linear\", \"tickformat\": null, \"grid\": {\"gridOn\": false}, \"fontsize\": 10.0, \"position\": \"left\", \"nticks\": 8, \"tickvalues\": null}], \"lines\": [], \"markers\": [{\"edgecolor\": \"#000000\", \"facecolor\": \"#D3D3D3\", \"edgewidth\": 1, \"yindex\": 1, \"coordinates\": \"data\", \"zorder\": 2, \"markerpath\": [[[0.0, 10.0], [2.652031, 10.0], [5.195798707848534, 8.946336915882418], [7.0710678118654755, 7.0710678118654755], [8.946336915882418, 5.195798707848534], [10.0, 2.652031], [10.0, 0.0], [10.0, -2.652031], [8.946336915882418, -5.195798707848534], [7.0710678118654755, -7.0710678118654755], [5.195798707848534, -8.946336915882418], [2.652031, -10.0], [0.0, -10.0], [-2.652031, -10.0], [-5.195798707848534, -8.946336915882418], [-7.0710678118654755, -7.0710678118654755], [-8.946336915882418, -5.195798707848534], [-10.0, -2.652031], [-10.0, 0.0], [-10.0, 2.652031], [-8.946336915882418, 5.195798707848534], [-7.0710678118654755, 7.0710678118654755], [-5.195798707848534, 8.946336915882418], [-2.652031, 10.0], [0.0, 10.0]], [\"M\", \"C\", \"C\", \"C\", \"C\", \"C\", \"C\", \"C\", \"C\", \"Z\"]], \"alpha\": 1.0, \"xindex\": 0, \"data\": \"data01\", \"id\": \"el2486140112742874768pts\"}, {\"edgecolor\": \"#000000\", \"facecolor\": \"#D3D3D3\", \"edgewidth\": 1, \"yindex\": 1, \"coordinates\": \"data\", \"zorder\": 2, \"markerpath\": [[[0.0, 20.0], [5.304062, 20.0], [10.391597415697069, 17.892673831764835], [14.142135623730951, 14.142135623730951], [17.892673831764835, 10.391597415697069], [20.0, 5.304062], [20.0, 0.0], [20.0, -5.304062], [17.892673831764835, -10.391597415697069], [14.142135623730951, -14.142135623730951], [10.391597415697069, -17.892673831764835], [5.304062, -20.0], [0.0, -20.0], [-5.304062, -20.0], [-10.391597415697069, -17.892673831764835], [-14.142135623730951, -14.142135623730951], [-17.892673831764835, -10.391597415697069], [-20.0, -5.304062], [-20.0, 0.0], [-20.0, 5.304062], [-17.892673831764835, 10.391597415697069], [-14.142135623730951, 14.142135623730951], [-10.391597415697069, 17.892673831764835], [-5.304062, 20.0], [0.0, 20.0]], [\"M\", \"C\", \"C\", \"C\", \"C\", \"C\", \"C\", \"C\", \"C\", \"Z\"]], \"alpha\": 0.0, \"xindex\": 0, \"data\": \"data01\", \"id\": \"el2486140112743082704pts\"}], \"id\": \"el2486140112743804432\", \"ydomain\": [-0.080000000000000002, 1.0800000000000001], \"collections\": [], \"xscale\": \"linear\", \"bbox\": [0.125, 0.125, 0.77500000000000002, 0.77500000000000002]}], \"height\": 640.0, \"width\": 960.0, \"plugins\": [{\"type\": \"reset\"}, {\"enabled\": false, \"button\": true, \"type\": \"zoom\"}, {\"enabled\": false, \"button\": true, \"type\": \"boxzoom\"}, {\"voffset\": 10, \"labels\": [], \"type\": \"htmltooltip\", \"id\": \"el2486140112743082704pts\", \"hoffset\": 10}], \"data\": {\"data01\": [[0.0, 0.18787723137984735], [0.7860236838360741, 1.0], [0.0849920985972573, 0.8064673608008643], [0.48165098459332467, 0.0], [0.9148203438712058, 0.44699624943015037]]}, \"id\": \"el2486140112743801744\"});\n",
       "   }(mpld3);\n",
       "}else if(typeof define === \"function\" && define.amd){\n",
       "   // require.js is available: use it to load d3/mpld3\n",
       "   require.config({paths: {d3: \"https://mpld3.github.io/js/d3.v3.min\"}});\n",
       "   require([\"d3\"], function(d3){\n",
       "      window.d3 = d3;\n",
       "      mpld3_load_lib(\"https://mpld3.github.io/js/mpld3.v0.2.js\", function(){\n",
       "         \n",
       "    mpld3.register_plugin(\"htmltooltip\", HtmlTooltipPlugin);\n",
       "    HtmlTooltipPlugin.prototype = Object.create(mpld3.Plugin.prototype);\n",
       "    HtmlTooltipPlugin.prototype.constructor = HtmlTooltipPlugin;\n",
       "    HtmlTooltipPlugin.prototype.requiredProps = [\"id\"];\n",
       "    HtmlTooltipPlugin.prototype.defaultProps = {labels:null, hoffset:0, voffset:10};\n",
       "    function HtmlTooltipPlugin(fig, props){\n",
       "        mpld3.Plugin.call(this, fig, props);\n",
       "    };\n",
       "\n",
       "    HtmlTooltipPlugin.prototype.draw = function(){\n",
       "       var obj = mpld3.get_element(this.props.id);\n",
       "       var labels = this.props.labels;\n",
       "       var tooltip = d3.select(\"body\").append(\"div\")\n",
       "                    .attr(\"class\", \"mpld3-tooltip\")\n",
       "                    .style(\"position\", \"absolute\")\n",
       "                    .style(\"z-index\", \"10\")\n",
       "                    .style(\"visibility\", \"hidden\");\n",
       "\n",
       "       obj.elements()\n",
       "           .on(\"mouseover\", function(d, i){\n",
       "                              tooltip.html(labels[i])\n",
       "                                     .style(\"visibility\", \"visible\");})\n",
       "           .on(\"mousemove\", function(d, i){\n",
       "                    tooltip\n",
       "                      .style(\"top\", d3.event.pageY + this.props.voffset + \"px\")\n",
       "                      .style(\"left\",d3.event.pageX + this.props.hoffset + \"px\");\n",
       "                 }.bind(this))\n",
       "           .on(\"mouseout\",  function(d, i){\n",
       "                           tooltip.style(\"visibility\", \"hidden\");});\n",
       "    };\n",
       "    \n",
       "         mpld3.draw_figure(\"fig_el24861401127438017442008020302\", {\"axes\": [{\"xlim\": [-0.080000000000000002, 0.99482034387120577], \"yscale\": \"linear\", \"axesbg\": \"#FFFFFF\", \"texts\": [{\"v_baseline\": \"central\", \"h_anchor\": \"middle\", \"color\": \"#000000\", \"text\": \"Burglary\", \"coordinates\": \"data\", \"zorder\": 3, \"alpha\": 1, \"fontsize\": 10.0, \"position\": [0.0, 0.18787723137984735], \"rotation\": -0.0, \"id\": \"el2486140112742871376\"}, {\"v_baseline\": \"central\", \"h_anchor\": \"middle\", \"color\": \"#000000\", \"text\": \"MaryCalls\", \"coordinates\": \"data\", \"zorder\": 3, \"alpha\": 1, \"fontsize\": 10.0, \"position\": [0.78602368383607413, 1.0], \"rotation\": -0.0, \"id\": \"el2486140112731867536\"}, {\"v_baseline\": \"central\", \"h_anchor\": \"middle\", \"color\": \"#000000\", \"text\": \"Alarm\", \"coordinates\": \"data\", \"zorder\": 3, \"alpha\": 1, \"fontsize\": 10.0, \"position\": [0.084992098597257301, 0.80646736080086434], \"rotation\": -0.0, \"id\": \"el2486140112731868624\"}, {\"v_baseline\": \"central\", \"h_anchor\": \"middle\", \"color\": \"#000000\", \"text\": \"JohnCalls\", \"coordinates\": \"data\", \"zorder\": 3, \"alpha\": 1, \"fontsize\": 10.0, \"position\": [0.48165098459332467, 0.0], \"rotation\": -0.0, \"id\": \"el2486140112743080528\"}, {\"v_baseline\": \"central\", \"h_anchor\": \"middle\", \"color\": \"#000000\", \"text\": \"Earthquake\", \"coordinates\": \"data\", \"zorder\": 3, \"alpha\": 1, \"fontsize\": 10.0, \"position\": [0.91482034387120581, 0.44699624943015037], \"rotation\": -0.0, \"id\": \"el2486140112743081616\"}], \"zoomable\": true, \"images\": [], \"xdomain\": [-0.080000000000000002, 0.99482034387120577], \"ylim\": [-0.080000000000000002, 1.0800000000000001], \"paths\": [], \"sharey\": [], \"sharex\": [], \"axesbgalpha\": null, \"axes\": [{\"scale\": \"linear\", \"tickformat\": null, \"grid\": {\"gridOn\": false}, \"fontsize\": 10.0, \"position\": \"bottom\", \"nticks\": 7, \"tickvalues\": null}, {\"scale\": \"linear\", \"tickformat\": null, \"grid\": {\"gridOn\": false}, \"fontsize\": 10.0, \"position\": \"left\", \"nticks\": 8, \"tickvalues\": null}], \"lines\": [], \"markers\": [{\"edgecolor\": \"#000000\", \"facecolor\": \"#D3D3D3\", \"edgewidth\": 1, \"yindex\": 1, \"coordinates\": \"data\", \"zorder\": 2, \"markerpath\": [[[0.0, 10.0], [2.652031, 10.0], [5.195798707848534, 8.946336915882418], [7.0710678118654755, 7.0710678118654755], [8.946336915882418, 5.195798707848534], [10.0, 2.652031], [10.0, 0.0], [10.0, -2.652031], [8.946336915882418, -5.195798707848534], [7.0710678118654755, -7.0710678118654755], [5.195798707848534, -8.946336915882418], [2.652031, -10.0], [0.0, -10.0], [-2.652031, -10.0], [-5.195798707848534, -8.946336915882418], [-7.0710678118654755, -7.0710678118654755], [-8.946336915882418, -5.195798707848534], [-10.0, -2.652031], [-10.0, 0.0], [-10.0, 2.652031], [-8.946336915882418, 5.195798707848534], [-7.0710678118654755, 7.0710678118654755], [-5.195798707848534, 8.946336915882418], [-2.652031, 10.0], [0.0, 10.0]], [\"M\", \"C\", \"C\", \"C\", \"C\", \"C\", \"C\", \"C\", \"C\", \"Z\"]], \"alpha\": 1.0, \"xindex\": 0, \"data\": \"data01\", \"id\": \"el2486140112742874768pts\"}, {\"edgecolor\": \"#000000\", \"facecolor\": \"#D3D3D3\", \"edgewidth\": 1, \"yindex\": 1, \"coordinates\": \"data\", \"zorder\": 2, \"markerpath\": [[[0.0, 20.0], [5.304062, 20.0], [10.391597415697069, 17.892673831764835], [14.142135623730951, 14.142135623730951], [17.892673831764835, 10.391597415697069], [20.0, 5.304062], [20.0, 0.0], [20.0, -5.304062], [17.892673831764835, -10.391597415697069], [14.142135623730951, -14.142135623730951], [10.391597415697069, -17.892673831764835], [5.304062, -20.0], [0.0, -20.0], [-5.304062, -20.0], [-10.391597415697069, -17.892673831764835], [-14.142135623730951, -14.142135623730951], [-17.892673831764835, -10.391597415697069], [-20.0, -5.304062], [-20.0, 0.0], [-20.0, 5.304062], [-17.892673831764835, 10.391597415697069], [-14.142135623730951, 14.142135623730951], [-10.391597415697069, 17.892673831764835], [-5.304062, 20.0], [0.0, 20.0]], [\"M\", \"C\", \"C\", \"C\", \"C\", \"C\", \"C\", \"C\", \"C\", \"Z\"]], \"alpha\": 0.0, \"xindex\": 0, \"data\": \"data01\", \"id\": \"el2486140112743082704pts\"}], \"id\": \"el2486140112743804432\", \"ydomain\": [-0.080000000000000002, 1.0800000000000001], \"collections\": [], \"xscale\": \"linear\", \"bbox\": [0.125, 0.125, 0.77500000000000002, 0.77500000000000002]}], \"height\": 640.0, \"width\": 960.0, \"plugins\": [{\"type\": \"reset\"}, {\"enabled\": false, \"button\": true, \"type\": \"zoom\"}, {\"enabled\": false, \"button\": true, \"type\": \"boxzoom\"}, {\"voffset\": 10, \"labels\": [], \"type\": \"htmltooltip\", \"id\": \"el2486140112743082704pts\", \"hoffset\": 10}], \"data\": {\"data01\": [[0.0, 0.18787723137984735], [0.7860236838360741, 1.0], [0.0849920985972573, 0.8064673608008643], [0.48165098459332467, 0.0], [0.9148203438712058, 0.44699624943015037]]}, \"id\": \"el2486140112743801744\"});\n",
       "      });\n",
       "    });\n",
       "}else{\n",
       "    // require.js not available: dynamically load d3 & mpld3\n",
       "    mpld3_load_lib(\"https://mpld3.github.io/js/d3.v3.min.js\", function(){\n",
       "         mpld3_load_lib(\"https://mpld3.github.io/js/mpld3.v0.2.js\", function(){\n",
       "                 \n",
       "    mpld3.register_plugin(\"htmltooltip\", HtmlTooltipPlugin);\n",
       "    HtmlTooltipPlugin.prototype = Object.create(mpld3.Plugin.prototype);\n",
       "    HtmlTooltipPlugin.prototype.constructor = HtmlTooltipPlugin;\n",
       "    HtmlTooltipPlugin.prototype.requiredProps = [\"id\"];\n",
       "    HtmlTooltipPlugin.prototype.defaultProps = {labels:null, hoffset:0, voffset:10};\n",
       "    function HtmlTooltipPlugin(fig, props){\n",
       "        mpld3.Plugin.call(this, fig, props);\n",
       "    };\n",
       "\n",
       "    HtmlTooltipPlugin.prototype.draw = function(){\n",
       "       var obj = mpld3.get_element(this.props.id);\n",
       "       var labels = this.props.labels;\n",
       "       var tooltip = d3.select(\"body\").append(\"div\")\n",
       "                    .attr(\"class\", \"mpld3-tooltip\")\n",
       "                    .style(\"position\", \"absolute\")\n",
       "                    .style(\"z-index\", \"10\")\n",
       "                    .style(\"visibility\", \"hidden\");\n",
       "\n",
       "       obj.elements()\n",
       "           .on(\"mouseover\", function(d, i){\n",
       "                              tooltip.html(labels[i])\n",
       "                                     .style(\"visibility\", \"visible\");})\n",
       "           .on(\"mousemove\", function(d, i){\n",
       "                    tooltip\n",
       "                      .style(\"top\", d3.event.pageY + this.props.voffset + \"px\")\n",
       "                      .style(\"left\",d3.event.pageX + this.props.hoffset + \"px\");\n",
       "                 }.bind(this))\n",
       "           .on(\"mouseout\",  function(d, i){\n",
       "                           tooltip.style(\"visibility\", \"hidden\");});\n",
       "    };\n",
       "    \n",
       "                 mpld3.draw_figure(\"fig_el24861401127438017442008020302\", {\"axes\": [{\"xlim\": [-0.080000000000000002, 0.99482034387120577], \"yscale\": \"linear\", \"axesbg\": \"#FFFFFF\", \"texts\": [{\"v_baseline\": \"central\", \"h_anchor\": \"middle\", \"color\": \"#000000\", \"text\": \"Burglary\", \"coordinates\": \"data\", \"zorder\": 3, \"alpha\": 1, \"fontsize\": 10.0, \"position\": [0.0, 0.18787723137984735], \"rotation\": -0.0, \"id\": \"el2486140112742871376\"}, {\"v_baseline\": \"central\", \"h_anchor\": \"middle\", \"color\": \"#000000\", \"text\": \"MaryCalls\", \"coordinates\": \"data\", \"zorder\": 3, \"alpha\": 1, \"fontsize\": 10.0, \"position\": [0.78602368383607413, 1.0], \"rotation\": -0.0, \"id\": \"el2486140112731867536\"}, {\"v_baseline\": \"central\", \"h_anchor\": \"middle\", \"color\": \"#000000\", \"text\": \"Alarm\", \"coordinates\": \"data\", \"zorder\": 3, \"alpha\": 1, \"fontsize\": 10.0, \"position\": [0.084992098597257301, 0.80646736080086434], \"rotation\": -0.0, \"id\": \"el2486140112731868624\"}, {\"v_baseline\": \"central\", \"h_anchor\": \"middle\", \"color\": \"#000000\", \"text\": \"JohnCalls\", \"coordinates\": \"data\", \"zorder\": 3, \"alpha\": 1, \"fontsize\": 10.0, \"position\": [0.48165098459332467, 0.0], \"rotation\": -0.0, \"id\": \"el2486140112743080528\"}, {\"v_baseline\": \"central\", \"h_anchor\": \"middle\", \"color\": \"#000000\", \"text\": \"Earthquake\", \"coordinates\": \"data\", \"zorder\": 3, \"alpha\": 1, \"fontsize\": 10.0, \"position\": [0.91482034387120581, 0.44699624943015037], \"rotation\": -0.0, \"id\": \"el2486140112743081616\"}], \"zoomable\": true, \"images\": [], \"xdomain\": [-0.080000000000000002, 0.99482034387120577], \"ylim\": [-0.080000000000000002, 1.0800000000000001], \"paths\": [], \"sharey\": [], \"sharex\": [], \"axesbgalpha\": null, \"axes\": [{\"scale\": \"linear\", \"tickformat\": null, \"grid\": {\"gridOn\": false}, \"fontsize\": 10.0, \"position\": \"bottom\", \"nticks\": 7, \"tickvalues\": null}, {\"scale\": \"linear\", \"tickformat\": null, \"grid\": {\"gridOn\": false}, \"fontsize\": 10.0, \"position\": \"left\", \"nticks\": 8, \"tickvalues\": null}], \"lines\": [], \"markers\": [{\"edgecolor\": \"#000000\", \"facecolor\": \"#D3D3D3\", \"edgewidth\": 1, \"yindex\": 1, \"coordinates\": \"data\", \"zorder\": 2, \"markerpath\": [[[0.0, 10.0], [2.652031, 10.0], [5.195798707848534, 8.946336915882418], [7.0710678118654755, 7.0710678118654755], [8.946336915882418, 5.195798707848534], [10.0, 2.652031], [10.0, 0.0], [10.0, -2.652031], [8.946336915882418, -5.195798707848534], [7.0710678118654755, -7.0710678118654755], [5.195798707848534, -8.946336915882418], [2.652031, -10.0], [0.0, -10.0], [-2.652031, -10.0], [-5.195798707848534, -8.946336915882418], [-7.0710678118654755, -7.0710678118654755], [-8.946336915882418, -5.195798707848534], [-10.0, -2.652031], [-10.0, 0.0], [-10.0, 2.652031], [-8.946336915882418, 5.195798707848534], [-7.0710678118654755, 7.0710678118654755], [-5.195798707848534, 8.946336915882418], [-2.652031, 10.0], [0.0, 10.0]], [\"M\", \"C\", \"C\", \"C\", \"C\", \"C\", \"C\", \"C\", \"C\", \"Z\"]], \"alpha\": 1.0, \"xindex\": 0, \"data\": \"data01\", \"id\": \"el2486140112742874768pts\"}, {\"edgecolor\": \"#000000\", \"facecolor\": \"#D3D3D3\", \"edgewidth\": 1, \"yindex\": 1, \"coordinates\": \"data\", \"zorder\": 2, \"markerpath\": [[[0.0, 20.0], [5.304062, 20.0], [10.391597415697069, 17.892673831764835], [14.142135623730951, 14.142135623730951], [17.892673831764835, 10.391597415697069], [20.0, 5.304062], [20.0, 0.0], [20.0, -5.304062], [17.892673831764835, -10.391597415697069], [14.142135623730951, -14.142135623730951], [10.391597415697069, -17.892673831764835], [5.304062, -20.0], [0.0, -20.0], [-5.304062, -20.0], [-10.391597415697069, -17.892673831764835], [-14.142135623730951, -14.142135623730951], [-17.892673831764835, -10.391597415697069], [-20.0, -5.304062], [-20.0, 0.0], [-20.0, 5.304062], [-17.892673831764835, 10.391597415697069], [-14.142135623730951, 14.142135623730951], [-10.391597415697069, 17.892673831764835], [-5.304062, 20.0], [0.0, 20.0]], [\"M\", \"C\", \"C\", \"C\", \"C\", \"C\", \"C\", \"C\", \"C\", \"Z\"]], \"alpha\": 0.0, \"xindex\": 0, \"data\": \"data01\", \"id\": \"el2486140112743082704pts\"}], \"id\": \"el2486140112743804432\", \"ydomain\": [-0.080000000000000002, 1.0800000000000001], \"collections\": [], \"xscale\": \"linear\", \"bbox\": [0.125, 0.125, 0.77500000000000002, 0.77500000000000002]}], \"height\": 640.0, \"width\": 960.0, \"plugins\": [{\"type\": \"reset\"}, {\"enabled\": false, \"button\": true, \"type\": \"zoom\"}, {\"enabled\": false, \"button\": true, \"type\": \"boxzoom\"}, {\"voffset\": 10, \"labels\": [], \"type\": \"htmltooltip\", \"id\": \"el2486140112743082704pts\", \"hoffset\": 10}], \"data\": {\"data01\": [[0.0, 0.18787723137984735], [0.7860236838360741, 1.0], [0.0849920985972573, 0.8064673608008643], [0.48165098459332467, 0.0], [0.9148203438712058, 0.44699624943015037]]}, \"id\": \"el2486140112743801744\"});\n",
       "            })\n",
       "         });\n",
       "}\n",
       "</script>"
      ],
      "text/plain": [
       "<IPython.core.display.HTML object>"
      ]
     },
     "execution_count": 119,
     "metadata": {},
     "output_type": "execute_result"
    }
   ],
   "source": [
    "mx = MatrixGraph.from_networkx_DiGraph(true_dgm)\n",
    "mx.adj = np.zeros(mx.adj.shape)\n",
    "mx.draw()"
   ]
  },
  {
   "cell_type": "code",
   "execution_count": 120,
   "metadata": {
    "collapsed": true
   },
   "outputs": [],
   "source": [
    "score = ScoreBIC(mx, data)"
   ]
  },
  {
   "cell_type": "code",
   "execution_count": 121,
   "metadata": {
    "collapsed": false
   },
   "outputs": [],
   "source": [
    "gs = GreedySearch(mx, score)"
   ]
  },
  {
   "cell_type": "code",
   "execution_count": 122,
   "metadata": {
    "collapsed": false
   },
   "outputs": [],
   "source": [
    "%lprun -f GreedySearch.iteration gs()"
   ]
  },
  {
   "cell_type": "code",
   "execution_count": 124,
   "metadata": {
    "collapsed": false
   },
   "outputs": [
    {
     "data": {
      "text/html": [
       "\n",
       "\n",
       "<style>\n",
       "\n",
       "table\n",
       "{\n",
       "  border-collapse: collapse;\n",
       "}\n",
       "th\n",
       "{\n",
       "  color: #ffffff;\n",
       "  background-color: #000000;\n",
       "}\n",
       "td\n",
       "{\n",
       "  background-color: #cccccc;\n",
       "}\n",
       "table, th, td\n",
       "{\n",
       "  font-family:Arial, Helvetica, sans-serif;\n",
       "  border: 1px solid black;\n",
       "  text-align: center;\n",
       "  padding: 3px;\n",
       "  font-size:11pt;\n",
       "}\n",
       "g.mpld3-xaxis, g.mpld3-yaxis {\n",
       "    display: none;\n",
       "}\n",
       "    \n",
       "</style>\n",
       "\n",
       "<div id=\"fig_el24861401127360481445634156821\"></div>\n",
       "<script>\n",
       "function mpld3_load_lib(url, callback){\n",
       "  var s = document.createElement('script');\n",
       "  s.src = url;\n",
       "  s.async = true;\n",
       "  s.onreadystatechange = s.onload = callback;\n",
       "  s.onerror = function(){console.warn(\"failed to load library \" + url);};\n",
       "  document.getElementsByTagName(\"head\")[0].appendChild(s);\n",
       "}\n",
       "\n",
       "if(typeof(mpld3) !== \"undefined\" && mpld3._mpld3IsLoaded){\n",
       "   // already loaded: just create the figure\n",
       "   !function(mpld3){\n",
       "       \n",
       "    mpld3.register_plugin(\"htmltooltip\", HtmlTooltipPlugin);\n",
       "    HtmlTooltipPlugin.prototype = Object.create(mpld3.Plugin.prototype);\n",
       "    HtmlTooltipPlugin.prototype.constructor = HtmlTooltipPlugin;\n",
       "    HtmlTooltipPlugin.prototype.requiredProps = [\"id\"];\n",
       "    HtmlTooltipPlugin.prototype.defaultProps = {labels:null, hoffset:0, voffset:10};\n",
       "    function HtmlTooltipPlugin(fig, props){\n",
       "        mpld3.Plugin.call(this, fig, props);\n",
       "    };\n",
       "\n",
       "    HtmlTooltipPlugin.prototype.draw = function(){\n",
       "       var obj = mpld3.get_element(this.props.id);\n",
       "       var labels = this.props.labels;\n",
       "       var tooltip = d3.select(\"body\").append(\"div\")\n",
       "                    .attr(\"class\", \"mpld3-tooltip\")\n",
       "                    .style(\"position\", \"absolute\")\n",
       "                    .style(\"z-index\", \"10\")\n",
       "                    .style(\"visibility\", \"hidden\");\n",
       "\n",
       "       obj.elements()\n",
       "           .on(\"mouseover\", function(d, i){\n",
       "                              tooltip.html(labels[i])\n",
       "                                     .style(\"visibility\", \"visible\");})\n",
       "           .on(\"mousemove\", function(d, i){\n",
       "                    tooltip\n",
       "                      .style(\"top\", d3.event.pageY + this.props.voffset + \"px\")\n",
       "                      .style(\"left\",d3.event.pageX + this.props.hoffset + \"px\");\n",
       "                 }.bind(this))\n",
       "           .on(\"mouseout\",  function(d, i){\n",
       "                           tooltip.style(\"visibility\", \"hidden\");});\n",
       "    };\n",
       "    \n",
       "       mpld3.draw_figure(\"fig_el24861401127360481445634156821\", {\"axes\": [{\"xlim\": [-0.080000000000000002, 0.91884685037682423], \"yscale\": \"linear\", \"axesbg\": \"#FFFFFF\", \"texts\": [{\"v_baseline\": \"central\", \"h_anchor\": \"middle\", \"color\": \"#000000\", \"text\": \"Burglary\", \"coordinates\": \"data\", \"zorder\": 3, \"alpha\": 1, \"fontsize\": 10.0, \"position\": [0.027391430041414085, 0.0], \"rotation\": -0.0, \"id\": \"el2486140112733402192\"}, {\"v_baseline\": \"central\", \"h_anchor\": \"middle\", \"color\": \"#000000\", \"text\": \"MaryCalls\", \"coordinates\": \"data\", \"zorder\": 3, \"alpha\": 1, \"fontsize\": 10.0, \"position\": [0.83884685037682427, 0.11918079030277942], \"rotation\": -0.0, \"id\": \"el2486140112733403152\"}, {\"v_baseline\": \"central\", \"h_anchor\": \"middle\", \"color\": \"#000000\", \"text\": \"Alarm\", \"coordinates\": \"data\", \"zorder\": 3, \"alpha\": 1, \"fontsize\": 10.0, \"position\": [0.3127958338351578, 0.4486952198490099], \"rotation\": -0.0, \"id\": \"el2486140112733404240\"}, {\"v_baseline\": \"central\", \"h_anchor\": \"middle\", \"color\": \"#000000\", \"text\": \"JohnCalls\", \"coordinates\": \"data\", \"zorder\": 3, \"alpha\": 1, \"fontsize\": 10.0, \"position\": [0.64913225670152586, 0.83875037787488915], \"rotation\": -0.0, \"id\": \"el2486140112733294800\"}, {\"v_baseline\": \"central\", \"h_anchor\": \"middle\", \"color\": \"#000000\", \"text\": \"Earthquake\", \"coordinates\": \"data\", \"zorder\": 3, \"alpha\": 1, \"fontsize\": 10.0, \"position\": [0.0, 1.0], \"rotation\": -0.0, \"id\": \"el2486140112733295888\"}], \"zoomable\": true, \"images\": [], \"xdomain\": [-0.080000000000000002, 0.91884685037682423], \"ylim\": [-0.080000000000000002, 1.0800000000000001], \"paths\": [], \"sharey\": [], \"sharex\": [], \"axesbgalpha\": null, \"axes\": [{\"scale\": \"linear\", \"tickformat\": null, \"grid\": {\"gridOn\": false}, \"fontsize\": 10.0, \"position\": \"bottom\", \"nticks\": 7, \"tickvalues\": null}, {\"scale\": \"linear\", \"tickformat\": null, \"grid\": {\"gridOn\": false}, \"fontsize\": 10.0, \"position\": \"left\", \"nticks\": 8, \"tickvalues\": null}], \"lines\": [{\"color\": \"#808080\", \"yindex\": 1, \"coordinates\": \"data\", \"dasharray\": \"10,0\", \"zorder\": 2, \"alpha\": 1, \"xindex\": 0, \"linewidth\": 1.0, \"data\": \"data01\", \"id\": \"el2486140112734423632\"}, {\"color\": \"#000000\", \"yindex\": 1, \"coordinates\": \"data\", \"dasharray\": \"10,0\", \"zorder\": 2, \"alpha\": 0.5, \"xindex\": 0, \"linewidth\": 5.0, \"data\": \"data02\", \"id\": \"el2486140112734424080\"}, {\"color\": \"#808080\", \"yindex\": 1, \"coordinates\": \"data\", \"dasharray\": \"10,0\", \"zorder\": 2, \"alpha\": 1, \"xindex\": 0, \"linewidth\": 1.0, \"data\": \"data03\", \"id\": \"el2486140112734270224\"}, {\"color\": \"#000000\", \"yindex\": 1, \"coordinates\": \"data\", \"dasharray\": \"10,0\", \"zorder\": 2, \"alpha\": 0.5, \"xindex\": 0, \"linewidth\": 5.0, \"data\": \"data04\", \"id\": \"el2486140112734271824\"}, {\"color\": \"#808080\", \"yindex\": 1, \"coordinates\": \"data\", \"dasharray\": \"10,0\", \"zorder\": 2, \"alpha\": 1, \"xindex\": 0, \"linewidth\": 1.0, \"data\": \"data05\", \"id\": \"el2486140112734273424\"}, {\"color\": \"#000000\", \"yindex\": 1, \"coordinates\": \"data\", \"dasharray\": \"10,0\", \"zorder\": 2, \"alpha\": 0.5, \"xindex\": 0, \"linewidth\": 5.0, \"data\": \"data06\", \"id\": \"el2486140112733386256\"}, {\"color\": \"#808080\", \"yindex\": 1, \"coordinates\": \"data\", \"dasharray\": \"10,0\", \"zorder\": 2, \"alpha\": 1, \"xindex\": 0, \"linewidth\": 1.0, \"data\": \"data07\", \"id\": \"el2486140112733387856\"}, {\"color\": \"#000000\", \"yindex\": 1, \"coordinates\": \"data\", \"dasharray\": \"10,0\", \"zorder\": 2, \"alpha\": 0.5, \"xindex\": 0, \"linewidth\": 5.0, \"data\": \"data08\", \"id\": \"el2486140112733254352\"}], \"markers\": [{\"edgecolor\": \"#000000\", \"facecolor\": \"#D3D3D3\", \"edgewidth\": 1, \"yindex\": 1, \"coordinates\": \"data\", \"zorder\": 2, \"markerpath\": [[[0.0, 10.0], [2.652031, 10.0], [5.195798707848534, 8.946336915882418], [7.0710678118654755, 7.0710678118654755], [8.946336915882418, 5.195798707848534], [10.0, 2.652031], [10.0, 0.0], [10.0, -2.652031], [8.946336915882418, -5.195798707848534], [7.0710678118654755, -7.0710678118654755], [5.195798707848534, -8.946336915882418], [2.652031, -10.0], [0.0, -10.0], [-2.652031, -10.0], [-5.195798707848534, -8.946336915882418], [-7.0710678118654755, -7.0710678118654755], [-8.946336915882418, -5.195798707848534], [-10.0, -2.652031], [-10.0, 0.0], [-10.0, 2.652031], [-8.946336915882418, 5.195798707848534], [-7.0710678118654755, 7.0710678118654755], [-5.195798707848534, 8.946336915882418], [-2.652031, 10.0], [0.0, 10.0]], [\"M\", \"C\", \"C\", \"C\", \"C\", \"C\", \"C\", \"C\", \"C\", \"Z\"]], \"alpha\": 1.0, \"xindex\": 0, \"data\": \"data09\", \"id\": \"el2486140112734423568pts\"}, {\"edgecolor\": \"#000000\", \"facecolor\": \"#D3D3D3\", \"edgewidth\": 1, \"yindex\": 1, \"coordinates\": \"data\", \"zorder\": 2, \"markerpath\": [[[0.0, 20.0], [5.304062, 20.0], [10.391597415697069, 17.892673831764835], [14.142135623730951, 14.142135623730951], [17.892673831764835, 10.391597415697069], [20.0, 5.304062], [20.0, 0.0], [20.0, -5.304062], [17.892673831764835, -10.391597415697069], [14.142135623730951, -14.142135623730951], [10.391597415697069, -17.892673831764835], [5.304062, -20.0], [0.0, -20.0], [-5.304062, -20.0], [-10.391597415697069, -17.892673831764835], [-14.142135623730951, -14.142135623730951], [-17.892673831764835, -10.391597415697069], [-20.0, -5.304062], [-20.0, 0.0], [-20.0, 5.304062], [-17.892673831764835, 10.391597415697069], [-14.142135623730951, 14.142135623730951], [-10.391597415697069, 17.892673831764835], [-5.304062, 20.0], [0.0, 20.0]], [\"M\", \"C\", \"C\", \"C\", \"C\", \"C\", \"C\", \"C\", \"C\", \"Z\"]], \"alpha\": 0.0, \"xindex\": 0, \"data\": \"data09\", \"id\": \"el2486140112733296976pts\"}], \"id\": \"el2486140112736049872\", \"ydomain\": [-0.080000000000000002, 1.0800000000000001], \"collections\": [], \"xscale\": \"linear\", \"bbox\": [0.125, 0.125, 0.77500000000000002, 0.77500000000000002]}], \"height\": 640.0, \"width\": 960.0, \"plugins\": [{\"type\": \"reset\"}, {\"enabled\": false, \"button\": true, \"type\": \"zoom\"}, {\"enabled\": false, \"button\": true, \"type\": \"boxzoom\"}, {\"voffset\": 10, \"labels\": [], \"type\": \"htmltooltip\", \"id\": \"el2486140112733296976pts\", \"hoffset\": 10}], \"data\": {\"data08\": [[0.26587645875988414, 0.5313909368716584], [0.3127958338351578, 0.4486952198490099]], \"data09\": [[0.027391430041414085, 0.0], [0.8388468503768243, 0.11918079030277942], [0.3127958338351578, 0.4486952198490099], [0.6491322567015259, 0.8387503778748892], [0.0, 1.0]], \"data06\": [[0.5986817932715707, 0.7802421041710073], [0.6491322567015259, 0.8387503778748892]], \"data07\": [[0.0, 1.0], [0.3127958338351578, 0.4486952198490099]], \"data04\": [[0.7599391978955743, 0.168607954734714], [0.8388468503768243, 0.11918079030277942]], \"data05\": [[0.3127958338351578, 0.4486952198490099], [0.6491322567015259, 0.8387503778748892]], \"data02\": [[0.2699851732660962, 0.3813909368716584], [0.3127958338351578, 0.4486952198490099]], \"data03\": [[0.3127958338351578, 0.4486952198490099], [0.8388468503768243, 0.11918079030277942]], \"data01\": [[0.027391430041414085, 0.0], [0.3127958338351578, 0.4486952198490099]]}, \"id\": \"el2486140112736048144\"});\n",
       "   }(mpld3);\n",
       "}else if(typeof define === \"function\" && define.amd){\n",
       "   // require.js is available: use it to load d3/mpld3\n",
       "   require.config({paths: {d3: \"https://mpld3.github.io/js/d3.v3.min\"}});\n",
       "   require([\"d3\"], function(d3){\n",
       "      window.d3 = d3;\n",
       "      mpld3_load_lib(\"https://mpld3.github.io/js/mpld3.v0.2.js\", function(){\n",
       "         \n",
       "    mpld3.register_plugin(\"htmltooltip\", HtmlTooltipPlugin);\n",
       "    HtmlTooltipPlugin.prototype = Object.create(mpld3.Plugin.prototype);\n",
       "    HtmlTooltipPlugin.prototype.constructor = HtmlTooltipPlugin;\n",
       "    HtmlTooltipPlugin.prototype.requiredProps = [\"id\"];\n",
       "    HtmlTooltipPlugin.prototype.defaultProps = {labels:null, hoffset:0, voffset:10};\n",
       "    function HtmlTooltipPlugin(fig, props){\n",
       "        mpld3.Plugin.call(this, fig, props);\n",
       "    };\n",
       "\n",
       "    HtmlTooltipPlugin.prototype.draw = function(){\n",
       "       var obj = mpld3.get_element(this.props.id);\n",
       "       var labels = this.props.labels;\n",
       "       var tooltip = d3.select(\"body\").append(\"div\")\n",
       "                    .attr(\"class\", \"mpld3-tooltip\")\n",
       "                    .style(\"position\", \"absolute\")\n",
       "                    .style(\"z-index\", \"10\")\n",
       "                    .style(\"visibility\", \"hidden\");\n",
       "\n",
       "       obj.elements()\n",
       "           .on(\"mouseover\", function(d, i){\n",
       "                              tooltip.html(labels[i])\n",
       "                                     .style(\"visibility\", \"visible\");})\n",
       "           .on(\"mousemove\", function(d, i){\n",
       "                    tooltip\n",
       "                      .style(\"top\", d3.event.pageY + this.props.voffset + \"px\")\n",
       "                      .style(\"left\",d3.event.pageX + this.props.hoffset + \"px\");\n",
       "                 }.bind(this))\n",
       "           .on(\"mouseout\",  function(d, i){\n",
       "                           tooltip.style(\"visibility\", \"hidden\");});\n",
       "    };\n",
       "    \n",
       "         mpld3.draw_figure(\"fig_el24861401127360481445634156821\", {\"axes\": [{\"xlim\": [-0.080000000000000002, 0.91884685037682423], \"yscale\": \"linear\", \"axesbg\": \"#FFFFFF\", \"texts\": [{\"v_baseline\": \"central\", \"h_anchor\": \"middle\", \"color\": \"#000000\", \"text\": \"Burglary\", \"coordinates\": \"data\", \"zorder\": 3, \"alpha\": 1, \"fontsize\": 10.0, \"position\": [0.027391430041414085, 0.0], \"rotation\": -0.0, \"id\": \"el2486140112733402192\"}, {\"v_baseline\": \"central\", \"h_anchor\": \"middle\", \"color\": \"#000000\", \"text\": \"MaryCalls\", \"coordinates\": \"data\", \"zorder\": 3, \"alpha\": 1, \"fontsize\": 10.0, \"position\": [0.83884685037682427, 0.11918079030277942], \"rotation\": -0.0, \"id\": \"el2486140112733403152\"}, {\"v_baseline\": \"central\", \"h_anchor\": \"middle\", \"color\": \"#000000\", \"text\": \"Alarm\", \"coordinates\": \"data\", \"zorder\": 3, \"alpha\": 1, \"fontsize\": 10.0, \"position\": [0.3127958338351578, 0.4486952198490099], \"rotation\": -0.0, \"id\": \"el2486140112733404240\"}, {\"v_baseline\": \"central\", \"h_anchor\": \"middle\", \"color\": \"#000000\", \"text\": \"JohnCalls\", \"coordinates\": \"data\", \"zorder\": 3, \"alpha\": 1, \"fontsize\": 10.0, \"position\": [0.64913225670152586, 0.83875037787488915], \"rotation\": -0.0, \"id\": \"el2486140112733294800\"}, {\"v_baseline\": \"central\", \"h_anchor\": \"middle\", \"color\": \"#000000\", \"text\": \"Earthquake\", \"coordinates\": \"data\", \"zorder\": 3, \"alpha\": 1, \"fontsize\": 10.0, \"position\": [0.0, 1.0], \"rotation\": -0.0, \"id\": \"el2486140112733295888\"}], \"zoomable\": true, \"images\": [], \"xdomain\": [-0.080000000000000002, 0.91884685037682423], \"ylim\": [-0.080000000000000002, 1.0800000000000001], \"paths\": [], \"sharey\": [], \"sharex\": [], \"axesbgalpha\": null, \"axes\": [{\"scale\": \"linear\", \"tickformat\": null, \"grid\": {\"gridOn\": false}, \"fontsize\": 10.0, \"position\": \"bottom\", \"nticks\": 7, \"tickvalues\": null}, {\"scale\": \"linear\", \"tickformat\": null, \"grid\": {\"gridOn\": false}, \"fontsize\": 10.0, \"position\": \"left\", \"nticks\": 8, \"tickvalues\": null}], \"lines\": [{\"color\": \"#808080\", \"yindex\": 1, \"coordinates\": \"data\", \"dasharray\": \"10,0\", \"zorder\": 2, \"alpha\": 1, \"xindex\": 0, \"linewidth\": 1.0, \"data\": \"data01\", \"id\": \"el2486140112734423632\"}, {\"color\": \"#000000\", \"yindex\": 1, \"coordinates\": \"data\", \"dasharray\": \"10,0\", \"zorder\": 2, \"alpha\": 0.5, \"xindex\": 0, \"linewidth\": 5.0, \"data\": \"data02\", \"id\": \"el2486140112734424080\"}, {\"color\": \"#808080\", \"yindex\": 1, \"coordinates\": \"data\", \"dasharray\": \"10,0\", \"zorder\": 2, \"alpha\": 1, \"xindex\": 0, \"linewidth\": 1.0, \"data\": \"data03\", \"id\": \"el2486140112734270224\"}, {\"color\": \"#000000\", \"yindex\": 1, \"coordinates\": \"data\", \"dasharray\": \"10,0\", \"zorder\": 2, \"alpha\": 0.5, \"xindex\": 0, \"linewidth\": 5.0, \"data\": \"data04\", \"id\": \"el2486140112734271824\"}, {\"color\": \"#808080\", \"yindex\": 1, \"coordinates\": \"data\", \"dasharray\": \"10,0\", \"zorder\": 2, \"alpha\": 1, \"xindex\": 0, \"linewidth\": 1.0, \"data\": \"data05\", \"id\": \"el2486140112734273424\"}, {\"color\": \"#000000\", \"yindex\": 1, \"coordinates\": \"data\", \"dasharray\": \"10,0\", \"zorder\": 2, \"alpha\": 0.5, \"xindex\": 0, \"linewidth\": 5.0, \"data\": \"data06\", \"id\": \"el2486140112733386256\"}, {\"color\": \"#808080\", \"yindex\": 1, \"coordinates\": \"data\", \"dasharray\": \"10,0\", \"zorder\": 2, \"alpha\": 1, \"xindex\": 0, \"linewidth\": 1.0, \"data\": \"data07\", \"id\": \"el2486140112733387856\"}, {\"color\": \"#000000\", \"yindex\": 1, \"coordinates\": \"data\", \"dasharray\": \"10,0\", \"zorder\": 2, \"alpha\": 0.5, \"xindex\": 0, \"linewidth\": 5.0, \"data\": \"data08\", \"id\": \"el2486140112733254352\"}], \"markers\": [{\"edgecolor\": \"#000000\", \"facecolor\": \"#D3D3D3\", \"edgewidth\": 1, \"yindex\": 1, \"coordinates\": \"data\", \"zorder\": 2, \"markerpath\": [[[0.0, 10.0], [2.652031, 10.0], [5.195798707848534, 8.946336915882418], [7.0710678118654755, 7.0710678118654755], [8.946336915882418, 5.195798707848534], [10.0, 2.652031], [10.0, 0.0], [10.0, -2.652031], [8.946336915882418, -5.195798707848534], [7.0710678118654755, -7.0710678118654755], [5.195798707848534, -8.946336915882418], [2.652031, -10.0], [0.0, -10.0], [-2.652031, -10.0], [-5.195798707848534, -8.946336915882418], [-7.0710678118654755, -7.0710678118654755], [-8.946336915882418, -5.195798707848534], [-10.0, -2.652031], [-10.0, 0.0], [-10.0, 2.652031], [-8.946336915882418, 5.195798707848534], [-7.0710678118654755, 7.0710678118654755], [-5.195798707848534, 8.946336915882418], [-2.652031, 10.0], [0.0, 10.0]], [\"M\", \"C\", \"C\", \"C\", \"C\", \"C\", \"C\", \"C\", \"C\", \"Z\"]], \"alpha\": 1.0, \"xindex\": 0, \"data\": \"data09\", \"id\": \"el2486140112734423568pts\"}, {\"edgecolor\": \"#000000\", \"facecolor\": \"#D3D3D3\", \"edgewidth\": 1, \"yindex\": 1, \"coordinates\": \"data\", \"zorder\": 2, \"markerpath\": [[[0.0, 20.0], [5.304062, 20.0], [10.391597415697069, 17.892673831764835], [14.142135623730951, 14.142135623730951], [17.892673831764835, 10.391597415697069], [20.0, 5.304062], [20.0, 0.0], [20.0, -5.304062], [17.892673831764835, -10.391597415697069], [14.142135623730951, -14.142135623730951], [10.391597415697069, -17.892673831764835], [5.304062, -20.0], [0.0, -20.0], [-5.304062, -20.0], [-10.391597415697069, -17.892673831764835], [-14.142135623730951, -14.142135623730951], [-17.892673831764835, -10.391597415697069], [-20.0, -5.304062], [-20.0, 0.0], [-20.0, 5.304062], [-17.892673831764835, 10.391597415697069], [-14.142135623730951, 14.142135623730951], [-10.391597415697069, 17.892673831764835], [-5.304062, 20.0], [0.0, 20.0]], [\"M\", \"C\", \"C\", \"C\", \"C\", \"C\", \"C\", \"C\", \"C\", \"Z\"]], \"alpha\": 0.0, \"xindex\": 0, \"data\": \"data09\", \"id\": \"el2486140112733296976pts\"}], \"id\": \"el2486140112736049872\", \"ydomain\": [-0.080000000000000002, 1.0800000000000001], \"collections\": [], \"xscale\": \"linear\", \"bbox\": [0.125, 0.125, 0.77500000000000002, 0.77500000000000002]}], \"height\": 640.0, \"width\": 960.0, \"plugins\": [{\"type\": \"reset\"}, {\"enabled\": false, \"button\": true, \"type\": \"zoom\"}, {\"enabled\": false, \"button\": true, \"type\": \"boxzoom\"}, {\"voffset\": 10, \"labels\": [], \"type\": \"htmltooltip\", \"id\": \"el2486140112733296976pts\", \"hoffset\": 10}], \"data\": {\"data08\": [[0.26587645875988414, 0.5313909368716584], [0.3127958338351578, 0.4486952198490099]], \"data09\": [[0.027391430041414085, 0.0], [0.8388468503768243, 0.11918079030277942], [0.3127958338351578, 0.4486952198490099], [0.6491322567015259, 0.8387503778748892], [0.0, 1.0]], \"data06\": [[0.5986817932715707, 0.7802421041710073], [0.6491322567015259, 0.8387503778748892]], \"data07\": [[0.0, 1.0], [0.3127958338351578, 0.4486952198490099]], \"data04\": [[0.7599391978955743, 0.168607954734714], [0.8388468503768243, 0.11918079030277942]], \"data05\": [[0.3127958338351578, 0.4486952198490099], [0.6491322567015259, 0.8387503778748892]], \"data02\": [[0.2699851732660962, 0.3813909368716584], [0.3127958338351578, 0.4486952198490099]], \"data03\": [[0.3127958338351578, 0.4486952198490099], [0.8388468503768243, 0.11918079030277942]], \"data01\": [[0.027391430041414085, 0.0], [0.3127958338351578, 0.4486952198490099]]}, \"id\": \"el2486140112736048144\"});\n",
       "      });\n",
       "    });\n",
       "}else{\n",
       "    // require.js not available: dynamically load d3 & mpld3\n",
       "    mpld3_load_lib(\"https://mpld3.github.io/js/d3.v3.min.js\", function(){\n",
       "         mpld3_load_lib(\"https://mpld3.github.io/js/mpld3.v0.2.js\", function(){\n",
       "                 \n",
       "    mpld3.register_plugin(\"htmltooltip\", HtmlTooltipPlugin);\n",
       "    HtmlTooltipPlugin.prototype = Object.create(mpld3.Plugin.prototype);\n",
       "    HtmlTooltipPlugin.prototype.constructor = HtmlTooltipPlugin;\n",
       "    HtmlTooltipPlugin.prototype.requiredProps = [\"id\"];\n",
       "    HtmlTooltipPlugin.prototype.defaultProps = {labels:null, hoffset:0, voffset:10};\n",
       "    function HtmlTooltipPlugin(fig, props){\n",
       "        mpld3.Plugin.call(this, fig, props);\n",
       "    };\n",
       "\n",
       "    HtmlTooltipPlugin.prototype.draw = function(){\n",
       "       var obj = mpld3.get_element(this.props.id);\n",
       "       var labels = this.props.labels;\n",
       "       var tooltip = d3.select(\"body\").append(\"div\")\n",
       "                    .attr(\"class\", \"mpld3-tooltip\")\n",
       "                    .style(\"position\", \"absolute\")\n",
       "                    .style(\"z-index\", \"10\")\n",
       "                    .style(\"visibility\", \"hidden\");\n",
       "\n",
       "       obj.elements()\n",
       "           .on(\"mouseover\", function(d, i){\n",
       "                              tooltip.html(labels[i])\n",
       "                                     .style(\"visibility\", \"visible\");})\n",
       "           .on(\"mousemove\", function(d, i){\n",
       "                    tooltip\n",
       "                      .style(\"top\", d3.event.pageY + this.props.voffset + \"px\")\n",
       "                      .style(\"left\",d3.event.pageX + this.props.hoffset + \"px\");\n",
       "                 }.bind(this))\n",
       "           .on(\"mouseout\",  function(d, i){\n",
       "                           tooltip.style(\"visibility\", \"hidden\");});\n",
       "    };\n",
       "    \n",
       "                 mpld3.draw_figure(\"fig_el24861401127360481445634156821\", {\"axes\": [{\"xlim\": [-0.080000000000000002, 0.91884685037682423], \"yscale\": \"linear\", \"axesbg\": \"#FFFFFF\", \"texts\": [{\"v_baseline\": \"central\", \"h_anchor\": \"middle\", \"color\": \"#000000\", \"text\": \"Burglary\", \"coordinates\": \"data\", \"zorder\": 3, \"alpha\": 1, \"fontsize\": 10.0, \"position\": [0.027391430041414085, 0.0], \"rotation\": -0.0, \"id\": \"el2486140112733402192\"}, {\"v_baseline\": \"central\", \"h_anchor\": \"middle\", \"color\": \"#000000\", \"text\": \"MaryCalls\", \"coordinates\": \"data\", \"zorder\": 3, \"alpha\": 1, \"fontsize\": 10.0, \"position\": [0.83884685037682427, 0.11918079030277942], \"rotation\": -0.0, \"id\": \"el2486140112733403152\"}, {\"v_baseline\": \"central\", \"h_anchor\": \"middle\", \"color\": \"#000000\", \"text\": \"Alarm\", \"coordinates\": \"data\", \"zorder\": 3, \"alpha\": 1, \"fontsize\": 10.0, \"position\": [0.3127958338351578, 0.4486952198490099], \"rotation\": -0.0, \"id\": \"el2486140112733404240\"}, {\"v_baseline\": \"central\", \"h_anchor\": \"middle\", \"color\": \"#000000\", \"text\": \"JohnCalls\", \"coordinates\": \"data\", \"zorder\": 3, \"alpha\": 1, \"fontsize\": 10.0, \"position\": [0.64913225670152586, 0.83875037787488915], \"rotation\": -0.0, \"id\": \"el2486140112733294800\"}, {\"v_baseline\": \"central\", \"h_anchor\": \"middle\", \"color\": \"#000000\", \"text\": \"Earthquake\", \"coordinates\": \"data\", \"zorder\": 3, \"alpha\": 1, \"fontsize\": 10.0, \"position\": [0.0, 1.0], \"rotation\": -0.0, \"id\": \"el2486140112733295888\"}], \"zoomable\": true, \"images\": [], \"xdomain\": [-0.080000000000000002, 0.91884685037682423], \"ylim\": [-0.080000000000000002, 1.0800000000000001], \"paths\": [], \"sharey\": [], \"sharex\": [], \"axesbgalpha\": null, \"axes\": [{\"scale\": \"linear\", \"tickformat\": null, \"grid\": {\"gridOn\": false}, \"fontsize\": 10.0, \"position\": \"bottom\", \"nticks\": 7, \"tickvalues\": null}, {\"scale\": \"linear\", \"tickformat\": null, \"grid\": {\"gridOn\": false}, \"fontsize\": 10.0, \"position\": \"left\", \"nticks\": 8, \"tickvalues\": null}], \"lines\": [{\"color\": \"#808080\", \"yindex\": 1, \"coordinates\": \"data\", \"dasharray\": \"10,0\", \"zorder\": 2, \"alpha\": 1, \"xindex\": 0, \"linewidth\": 1.0, \"data\": \"data01\", \"id\": \"el2486140112734423632\"}, {\"color\": \"#000000\", \"yindex\": 1, \"coordinates\": \"data\", \"dasharray\": \"10,0\", \"zorder\": 2, \"alpha\": 0.5, \"xindex\": 0, \"linewidth\": 5.0, \"data\": \"data02\", \"id\": \"el2486140112734424080\"}, {\"color\": \"#808080\", \"yindex\": 1, \"coordinates\": \"data\", \"dasharray\": \"10,0\", \"zorder\": 2, \"alpha\": 1, \"xindex\": 0, \"linewidth\": 1.0, \"data\": \"data03\", \"id\": \"el2486140112734270224\"}, {\"color\": \"#000000\", \"yindex\": 1, \"coordinates\": \"data\", \"dasharray\": \"10,0\", \"zorder\": 2, \"alpha\": 0.5, \"xindex\": 0, \"linewidth\": 5.0, \"data\": \"data04\", \"id\": \"el2486140112734271824\"}, {\"color\": \"#808080\", \"yindex\": 1, \"coordinates\": \"data\", \"dasharray\": \"10,0\", \"zorder\": 2, \"alpha\": 1, \"xindex\": 0, \"linewidth\": 1.0, \"data\": \"data05\", \"id\": \"el2486140112734273424\"}, {\"color\": \"#000000\", \"yindex\": 1, \"coordinates\": \"data\", \"dasharray\": \"10,0\", \"zorder\": 2, \"alpha\": 0.5, \"xindex\": 0, \"linewidth\": 5.0, \"data\": \"data06\", \"id\": \"el2486140112733386256\"}, {\"color\": \"#808080\", \"yindex\": 1, \"coordinates\": \"data\", \"dasharray\": \"10,0\", \"zorder\": 2, \"alpha\": 1, \"xindex\": 0, \"linewidth\": 1.0, \"data\": \"data07\", \"id\": \"el2486140112733387856\"}, {\"color\": \"#000000\", \"yindex\": 1, \"coordinates\": \"data\", \"dasharray\": \"10,0\", \"zorder\": 2, \"alpha\": 0.5, \"xindex\": 0, \"linewidth\": 5.0, \"data\": \"data08\", \"id\": \"el2486140112733254352\"}], \"markers\": [{\"edgecolor\": \"#000000\", \"facecolor\": \"#D3D3D3\", \"edgewidth\": 1, \"yindex\": 1, \"coordinates\": \"data\", \"zorder\": 2, \"markerpath\": [[[0.0, 10.0], [2.652031, 10.0], [5.195798707848534, 8.946336915882418], [7.0710678118654755, 7.0710678118654755], [8.946336915882418, 5.195798707848534], [10.0, 2.652031], [10.0, 0.0], [10.0, -2.652031], [8.946336915882418, -5.195798707848534], [7.0710678118654755, -7.0710678118654755], [5.195798707848534, -8.946336915882418], [2.652031, -10.0], [0.0, -10.0], [-2.652031, -10.0], [-5.195798707848534, -8.946336915882418], [-7.0710678118654755, -7.0710678118654755], [-8.946336915882418, -5.195798707848534], [-10.0, -2.652031], [-10.0, 0.0], [-10.0, 2.652031], [-8.946336915882418, 5.195798707848534], [-7.0710678118654755, 7.0710678118654755], [-5.195798707848534, 8.946336915882418], [-2.652031, 10.0], [0.0, 10.0]], [\"M\", \"C\", \"C\", \"C\", \"C\", \"C\", \"C\", \"C\", \"C\", \"Z\"]], \"alpha\": 1.0, \"xindex\": 0, \"data\": \"data09\", \"id\": \"el2486140112734423568pts\"}, {\"edgecolor\": \"#000000\", \"facecolor\": \"#D3D3D3\", \"edgewidth\": 1, \"yindex\": 1, \"coordinates\": \"data\", \"zorder\": 2, \"markerpath\": [[[0.0, 20.0], [5.304062, 20.0], [10.391597415697069, 17.892673831764835], [14.142135623730951, 14.142135623730951], [17.892673831764835, 10.391597415697069], [20.0, 5.304062], [20.0, 0.0], [20.0, -5.304062], [17.892673831764835, -10.391597415697069], [14.142135623730951, -14.142135623730951], [10.391597415697069, -17.892673831764835], [5.304062, -20.0], [0.0, -20.0], [-5.304062, -20.0], [-10.391597415697069, -17.892673831764835], [-14.142135623730951, -14.142135623730951], [-17.892673831764835, -10.391597415697069], [-20.0, -5.304062], [-20.0, 0.0], [-20.0, 5.304062], [-17.892673831764835, 10.391597415697069], [-14.142135623730951, 14.142135623730951], [-10.391597415697069, 17.892673831764835], [-5.304062, 20.0], [0.0, 20.0]], [\"M\", \"C\", \"C\", \"C\", \"C\", \"C\", \"C\", \"C\", \"C\", \"Z\"]], \"alpha\": 0.0, \"xindex\": 0, \"data\": \"data09\", \"id\": \"el2486140112733296976pts\"}], \"id\": \"el2486140112736049872\", \"ydomain\": [-0.080000000000000002, 1.0800000000000001], \"collections\": [], \"xscale\": \"linear\", \"bbox\": [0.125, 0.125, 0.77500000000000002, 0.77500000000000002]}], \"height\": 640.0, \"width\": 960.0, \"plugins\": [{\"type\": \"reset\"}, {\"enabled\": false, \"button\": true, \"type\": \"zoom\"}, {\"enabled\": false, \"button\": true, \"type\": \"boxzoom\"}, {\"voffset\": 10, \"labels\": [], \"type\": \"htmltooltip\", \"id\": \"el2486140112733296976pts\", \"hoffset\": 10}], \"data\": {\"data08\": [[0.26587645875988414, 0.5313909368716584], [0.3127958338351578, 0.4486952198490099]], \"data09\": [[0.027391430041414085, 0.0], [0.8388468503768243, 0.11918079030277942], [0.3127958338351578, 0.4486952198490099], [0.6491322567015259, 0.8387503778748892], [0.0, 1.0]], \"data06\": [[0.5986817932715707, 0.7802421041710073], [0.6491322567015259, 0.8387503778748892]], \"data07\": [[0.0, 1.0], [0.3127958338351578, 0.4486952198490099]], \"data04\": [[0.7599391978955743, 0.168607954734714], [0.8388468503768243, 0.11918079030277942]], \"data05\": [[0.3127958338351578, 0.4486952198490099], [0.6491322567015259, 0.8387503778748892]], \"data02\": [[0.2699851732660962, 0.3813909368716584], [0.3127958338351578, 0.4486952198490099]], \"data03\": [[0.3127958338351578, 0.4486952198490099], [0.8388468503768243, 0.11918079030277942]], \"data01\": [[0.027391430041414085, 0.0], [0.3127958338351578, 0.4486952198490099]]}, \"id\": \"el2486140112736048144\"});\n",
       "            })\n",
       "         });\n",
       "}\n",
       "</script>"
      ],
      "text/plain": [
       "<IPython.core.display.HTML object>"
      ]
     },
     "execution_count": 124,
     "metadata": {},
     "output_type": "execute_result"
    }
   ],
   "source": [
    "mx.draw()"
   ]
  },
  {
   "cell_type": "code",
   "execution_count": null,
   "metadata": {
    "collapsed": true
   },
   "outputs": [],
   "source": []
  }
 ],
 "metadata": {
  "kernelspec": {
   "display_name": "Python 2",
   "language": "python",
   "name": "python2"
  },
  "language_info": {
   "codemirror_mode": {
    "name": "ipython",
    "version": 2
   },
   "file_extension": ".py",
   "mimetype": "text/x-python",
   "name": "python",
   "nbconvert_exporter": "python",
   "pygments_lexer": "ipython2",
   "version": "2.7.9"
  }
 },
 "nbformat": 4,
 "nbformat_minor": 0
}
