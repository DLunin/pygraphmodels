{
 "cells": [
  {
   "cell_type": "code",
   "execution_count": 47,
   "metadata": {
    "collapsed": true
   },
   "outputs": [],
   "source": [
    "%%capture\n",
    "import numpy as np\n",
    "import scipy as sp\n",
    "import matplotlib as mpl\n",
    "import matplotlib.pyplot as plt\n",
    "import networkx as nx\n",
    "from scipy.special import gammaln, betaln, binom\n",
    "%matplotlib inline"
   ]
  },
  {
   "cell_type": "code",
   "execution_count": 48,
   "metadata": {
    "collapsed": false
   },
   "outputs": [
    {
     "data": {
      "text/plain": [
       "array([ 0.22552962,  0.2815577 ,  0.13683469,  0.15159873,  0.20447925])"
      ]
     },
     "execution_count": 48,
     "metadata": {},
     "output_type": "execute_result"
    }
   ],
   "source": [
    "np.random.dirichlet(np.ones(5))"
   ]
  },
  {
   "cell_type": "code",
   "execution_count": 49,
   "metadata": {
    "collapsed": false
   },
   "outputs": [],
   "source": [
    "def empirical(alpha):\n",
    "    p = np.random.dirichlet(alpha, size=100000)\n",
    "    result = np.mean(np.log(p[:, 0] + p[:, 1]))\n",
    "    return result"
   ]
  },
  {
   "cell_type": "code",
   "execution_count": 50,
   "metadata": {
    "collapsed": false
   },
   "outputs": [
    {
     "data": {
      "text/plain": [
       "[<matplotlib.lines.Line2D at 0x7fb2afdaf790>]"
      ]
     },
     "execution_count": 50,
     "metadata": {},
     "output_type": "execute_result"
    },
    {
     "data": {
      "image/png": "[encoded data removed]",
      "text/plain": [
       "<matplotlib.figure.Figure at 0x7fb2afeb5a10>"
      ]
     },
     "metadata": {},
     "output_type": "display_data"
    }
   ],
   "source": [
    "plt.plot([empirical(x*np.ones(5)) for x in np.arange(0.1, 10)], np.arange(0.1, 10))"
   ]
  },
  {
   "cell_type": "code",
   "execution_count": 51,
   "metadata": {
    "collapsed": true
   },
   "outputs": [],
   "source": [
    "def analytical(alpha, n_iter=1000):\n",
    "    result = 0.\n",
    "    alpha_x = alpha[0]\n",
    "    alpha_y = alpha[1]\n",
    "    alpha_z = np.sum(alpha[2:])\n",
    "    for iter_i in range(1, n_iter+1):\n",
    "        result += np.exp(betaln(alpha_x, alpha_y + alpha_z + iter_i) + \\\n",
    "                         betaln(alpha_y, alpha_z + iter_i) - \\\n",
    "                         log_mvbeta(alpha_x, alpha_y, alpha_z)) / iter_i\n",
    "    return -result"
   ]
  },
  {
   "cell_type": "code",
   "execution_count": 52,
   "metadata": {
    "collapsed": false
   },
   "outputs": [
    {
     "data": {
      "text/plain": [
       "-0.78333331354180002"
      ]
     },
     "execution_count": 52,
     "metadata": {},
     "output_type": "execute_result"
    }
   ],
   "source": [
    "analytical([1, 2, 3])"
   ]
  },
  {
   "cell_type": "code",
   "execution_count": 53,
   "metadata": {
    "collapsed": false
   },
   "outputs": [
    {
     "data": {
      "text/plain": [
       "-0.78520761498048119"
      ]
     },
     "execution_count": 53,
     "metadata": {},
     "output_type": "execute_result"
    }
   ],
   "source": [
    "empirical([1, 2, 3])"
   ]
  },
  {
   "cell_type": "code",
   "execution_count": 54,
   "metadata": {
    "collapsed": false
   },
   "outputs": [
    {
     "data": {
      "text/plain": [
       "-2.2833333333333323"
      ]
     },
     "execution_count": 54,
     "metadata": {},
     "output_type": "execute_result"
    }
   ],
   "source": [
    "generic_analytical_expectation(np.asarray([1, 2, 3]), 1, 0, 0, 0)"
   ]
  },
  {
   "cell_type": "code",
   "execution_count": 55,
   "metadata": {
    "collapsed": false
   },
   "outputs": [
    {
     "data": {
      "text/plain": [
       "[<matplotlib.lines.Line2D at 0x7fb2afce4450>]"
      ]
     },
     "execution_count": 55,
     "metadata": {},
     "output_type": "execute_result"
    },
    {
     "data": {
      "image/png": "[encoded data removed]",
      "text/plain": [
       "<matplotlib.figure.Figure at 0x7fb2b47b1410>"
      ]
     },
     "metadata": {},
     "output_type": "display_data"
    }
   ],
   "source": [
    "# plt.plot([analytical(x*np.asarray([1, 2, 3, 4, 5])) for x in np.arange(0.1, 10)], np.arange(0.1, 10))\n",
    "plt.plot([empirical(x*np.asarray([1, 2, 3, 4, 5])) for x in np.arange(0.1, 10)], np.arange(0.1, 10))"
   ]
  },
  {
   "cell_type": "code",
   "execution_count": 56,
   "metadata": {
    "collapsed": true
   },
   "outputs": [],
   "source": [
    "# since beta(a, b) can be very small we use logarithms\n",
    "\n",
    "def log_mbeta1(a, b):\n",
    "    \"\"\" \n",
    "    ln(-beta'(a, b))\n",
    "    \"\"\"\n",
    "    return betaln(a, b) + np.log(-digamma(a) + digamma(a + b))\n",
    "\n",
    "def beta1(a, b):\n",
    "    return -np.exp(log_mbeta1(a, b))\n",
    "\n",
    "def log_beta2(a, b):\n",
    "    \"\"\"\n",
    "    ln(beta\"(a, b))\n",
    "    \"\"\"\n",
    "    return betaln(a, b) + np.log((digamma(a) - digamma(a + b))**2 + (polygamma(1, a) - polygamma(1, a + b)))\n",
    "\n",
    "def beta2(a, b):\n",
    "    return np.exp(log_beta2(a, b))"
   ]
  },
  {
   "cell_type": "code",
   "execution_count": 57,
   "metadata": {
    "collapsed": false
   },
   "outputs": [],
   "source": [
    "def empirical(alpha):\n",
    "    p = np.random.dirichlet(alpha, size=100000)\n",
    "    result = np.mean(np.log(p[:, 1]))\n",
    "    return result"
   ]
  },
  {
   "cell_type": "code",
   "execution_count": 58,
   "metadata": {
    "collapsed": false
   },
   "outputs": [
    {
     "data": {
      "text/plain": [
       "-0.75874277010383584"
      ]
     },
     "execution_count": 58,
     "metadata": {},
     "output_type": "execute_result"
    }
   ],
   "source": [
    "empirical(np.asarray([1, 4, 3]))"
   ]
  },
  {
   "cell_type": "code",
   "execution_count": 59,
   "metadata": {
    "collapsed": true
   },
   "outputs": [],
   "source": [
    "from scipy.special import digamma, gamma, gammaln, beta, betaln, polygamma\n",
    "from scipy.misc import derivative"
   ]
  },
  {
   "cell_type": "code",
   "execution_count": 60,
   "metadata": {
    "collapsed": true
   },
   "outputs": [],
   "source": [
    "def log_mvbeta(*alphas):\n",
    "    return np.sum([gammaln(alpha) for alpha in alphas]) - gammaln(np.sum(alphas))"
   ]
  },
  {
   "cell_type": "code",
   "execution_count": 61,
   "metadata": {
    "collapsed": false
   },
   "outputs": [],
   "source": [
    "def log_betaderiv_xy(x, y):\n",
    "    result1 = betaln(x, y)\n",
    "    result1 += np.log(digamma(x + y) - digamma(x))\n",
    "    result1 += np.log(digamma(x + y) - digamma(y))\n",
    "    result1 = np.exp(result1)\n",
    "    \n",
    "    result2 = betaln(x, y)\n",
    "    result2 += np.log(polygamma(1, x + y))\n",
    "    result2 = -np.exp(result2)\n",
    "    \n",
    "    return result1 + result2"
   ]
  },
  {
   "cell_type": "code",
   "execution_count": 62,
   "metadata": {
    "collapsed": false
   },
   "outputs": [],
   "source": [
    "def analytical(alpha, n_iter=1000):\n",
    "    alpha_x = alpha[0]\n",
    "    alpha_y = alpha[1]\n",
    "    alpha_z = np.sum(alpha[2:])\n",
    "    \n",
    "    result1 = 0.\n",
    "    result1 += log_mbeta1(alpha_y, alpha_z)\n",
    "    result1 += betaln(alpha_x, alpha_y + alpha_z)\n",
    "    result1 -= log_mvbeta(alpha_x, alpha_y, alpha_z)\n",
    "    result1 = -np.exp(result1)\n",
    "    print result1\n",
    "    \n",
    "    result2 = 0.\n",
    "    result2 += betaln(alpha_y, alpha_z)\n",
    "    result2 += log_mbeta1(alpha_y + alpha_z, alpha_x)\n",
    "    result2 -= log_mvbeta(alpha_x, alpha_y, alpha_z)\n",
    "    result2 = -np.exp(result2)\n",
    "    print result2\n",
    "        \n",
    "    return result1 + result2"
   ]
  },
  {
   "cell_type": "code",
   "execution_count": 63,
   "metadata": {
    "collapsed": true
   },
   "outputs": [],
   "source": [
    "def log_beta_deriv(x, y, nx, ny):\n",
    "    if nx < ny: \n",
    "        return log_beta_deriv(y, x, ny, nx)\n",
    "    if nx == 0:\n",
    "        return betaln(x, y), +1\n",
    "    elif nx == 1 and ny == 0:\n",
    "        return np.log(digamma(x + y) - digamma(x)) + betaln(x, y), -1\n",
    "    elif nx == 2 and ny == 0:\n",
    "        return np.log((digamma(x + y) - digamma(x)) ** 2 + (polygamma(1, x) - polygamma(1, x + y))) + \\\n",
    "            betaln(x, y), +1\n",
    "    elif nx == 1 and ny == 1:\n",
    "        return np.log((digamma(x + y) - digamma(x))*(digamma(x + y) - digamma(y)) - polygamma(1, x + y)) + \\\n",
    "            betaln(x, y), +1\n",
    "    else:\n",
    "        raise Exception(\"not implemented for nx={}, ny={}\".format(nx, ny))"
   ]
  },
  {
   "cell_type": "code",
   "execution_count": 64,
   "metadata": {
    "collapsed": false
   },
   "outputs": [
    {
     "data": {
      "text/plain": [
       "((-3.9599107990785671, 1), -3.9599107990785671)"
      ]
     },
     "execution_count": 64,
     "metadata": {},
     "output_type": "execute_result"
    }
   ],
   "source": [
    "log_beta_deriv(4, 3, 0, 2), log_beta2(3, 4)"
   ]
  },
  {
   "cell_type": "code",
   "execution_count": 142,
   "metadata": {
    "collapsed": true
   },
   "outputs": [],
   "source": [
    "def beta_analytical_expectation1(alpha_x, alpha_y, m_x, k_x, m_y, k_y):\n",
    "    val, sign = log_beta_deriv(alpha_x + k_x, alpha_y + k_y, m_x, m_y)\n",
    "    return sign * np.exp(val - betaln(alpha_x, alpha_y))"
   ]
  },
  {
   "cell_type": "code",
   "execution_count": 143,
   "metadata": {
    "collapsed": true
   },
   "outputs": [],
   "source": [
    "def generic_analytical_expectation1(alpha_x, alpha_y, alpha_z, m_x, k_x, m_y, k_y, n_z=0):\n",
    "    #print alpha_x, alpha_y, alpha_z\n",
    "    \n",
    "    if alpha_z < 0.5:\n",
    "        return beta_analytical_expectation1(alpha_x, alpha_y, m_x, k_x, m_y, k_y)\n",
    "    \n",
    "    result = 0.\n",
    "    for i in range(m_y + 1):\n",
    "        current = 0.\n",
    "        sign = +1\n",
    "        \n",
    "        d1_log, d1_sign = log_beta_deriv(alpha_x + k_x, \n",
    "                                         alpha_y + alpha_z + n_z + k_y, \n",
    "                                         m_x, i)\n",
    "        \n",
    "        current += d1_log\n",
    "        sign *= d1_sign\n",
    "        \n",
    "        d2_log, d2_sign = log_beta_deriv(alpha_y + k_y, alpha_z + n_z,\n",
    "                                         m_y - i, 0)\n",
    "\n",
    "        current += d2_log\n",
    "        sign *= d2_sign\n",
    "        \n",
    "    \n",
    "        current -= log_mvbeta(alpha_x, alpha_y, alpha_z)\n",
    "\n",
    "        result += sign * np.exp(current) * binom(m_y, i)\n",
    "    return result\n",
    "\n",
    "def generic_analytical_expectation(alpha, m_x, k_x, m_y, k_y, x=0, y=1):\n",
    "    alpha_x = alpha[x]\n",
    "    alpha_y = alpha[y]\n",
    "    alpha_z = np.sum(alpha) - alpha_x - alpha_y\n",
    "    \n",
    "    return generic_analytical_expectation1(alpha_x, alpha_y, alpha_z, m_x, k_x, m_y, k_y)"
   ]
  },
  {
   "cell_type": "code",
   "execution_count": 66,
   "metadata": {
    "collapsed": false
   },
   "outputs": [],
   "source": [
    "def analytical_covariance(alpha, x, y):\n",
    "    return generic_analytical_expectation(alpha, 1, 1, 1, 1, x=x, y=y) - \\\n",
    "        (generic_analytical_expectation(alpha, 1, 1, 0, 0, x=x, y=y) * \\\n",
    "         generic_analytical_expectation(alpha, 0, 0, 1, 1, x=x, y=y))"
   ]
  },
  {
   "cell_type": "code",
   "execution_count": 67,
   "metadata": {
    "collapsed": true
   },
   "outputs": [],
   "source": [
    "def analytical_variance(alpha, x):\n",
    "    y = (x + 1) % len(alpha)\n",
    "    return generic_analytical_expectation(alpha, 2, 2, 0, 0, x=x, y=y) - \\\n",
    "        (generic_analytical_expectation(alpha, 1, 1, 0, 0, x=x, y=y)**2)"
   ]
  },
  {
   "cell_type": "code",
   "execution_count": 68,
   "metadata": {
    "collapsed": false
   },
   "outputs": [
    {
     "data": {
      "text/plain": [
       "0.052681553314663856"
      ]
     },
     "execution_count": 68,
     "metadata": {},
     "output_type": "execute_result"
    }
   ],
   "source": [
    "generic_analytical_expectation(np.asarray([1, 7, 3]), 1, 1, 1, 1)"
   ]
  },
  {
   "cell_type": "code",
   "execution_count": 69,
   "metadata": {
    "collapsed": false
   },
   "outputs": [
    {
     "data": {
      "text/plain": [
       "0.052697450911594744"
      ]
     },
     "execution_count": 69,
     "metadata": {},
     "output_type": "execute_result"
    }
   ],
   "source": [
    "def empirical(alpha):\n",
    "    p = np.random.dirichlet(alpha, size=1000000)\n",
    "    result = np.mean(np.log(p[:, 0]) * p[:, 0] * \\\n",
    "                     np.log(p[:, 1]) * p[:, 1])\n",
    "                    #p[:, 0] * p[:, 1])\n",
    "    return result\n",
    "empirical(np.asarray([1, 7, 3]))"
   ]
  },
  {
   "cell_type": "code",
   "execution_count": 70,
   "metadata": {
    "collapsed": false
   },
   "outputs": [],
   "source": [
    "def empirical_variance(alpha):\n",
    "    p = np.random.dirichlet(alpha, size=1000000)\n",
    "    result = np.var(p[:, 0] * np.log(p[:, 0]), ddof=1)\n",
    "    return result"
   ]
  },
  {
   "cell_type": "code",
   "execution_count": 71,
   "metadata": {
    "collapsed": false
   },
   "outputs": [
    {
     "data": {
      "text/plain": [
       "(0.010401436669317848, 0.010391893614515119)"
      ]
     },
     "execution_count": 71,
     "metadata": {},
     "output_type": "execute_result"
    }
   ],
   "source": [
    "empirical_variance([1, 2, 3, 4]), analytical_variance([1, 2, 3, 4], 0)"
   ]
  },
  {
   "cell_type": "code",
   "execution_count": 72,
   "metadata": {
    "collapsed": false
   },
   "outputs": [
    {
     "data": {
      "text/plain": [
       "-0.00089116171960386403"
      ]
     },
     "execution_count": 72,
     "metadata": {},
     "output_type": "execute_result"
    }
   ],
   "source": [
    "analytical_covariance([1, 2, 3, 4], 0, 1)"
   ]
  },
  {
   "cell_type": "code",
   "execution_count": 73,
   "metadata": {
    "collapsed": true
   },
   "outputs": [],
   "source": [
    "def empirical_entropy_variance(alpha):\n",
    "    p = np.random.dirichlet(alpha, size=1000000)\n",
    "    result = np.var(-np.sum(p * np.log(p), axis=1), ddof=1)\n",
    "    return result"
   ]
  },
  {
   "cell_type": "code",
   "execution_count": 77,
   "metadata": {
    "collapsed": false
   },
   "outputs": [
    {
     "data": {
      "text/plain": [
       "0.027551015042473037"
      ]
     },
     "execution_count": 77,
     "metadata": {},
     "output_type": "execute_result"
    }
   ],
   "source": [
    "empirical_entropy_variance([1, 2, 3])"
   ]
  },
  {
   "cell_type": "code",
   "execution_count": 78,
   "metadata": {
    "collapsed": false
   },
   "outputs": [
    {
     "data": {
      "text/plain": [
       "0.0033055616222028325"
      ]
     },
     "execution_count": 78,
     "metadata": {},
     "output_type": "execute_result"
    }
   ],
   "source": [
    "alpha = np.random.dirichlet(np.ones(10)) * 100\n",
    "empirical_entropy_variance(alpha)"
   ]
  },
  {
   "cell_type": "code",
   "execution_count": 79,
   "metadata": {
    "collapsed": true
   },
   "outputs": [],
   "source": [
    "def entropy_variance_analytical(alpha):\n",
    "    result = 0.\n",
    "    for i, alpha_i in enumerate(alpha):\n",
    "        result += analytical_variance(alpha, i)\n",
    "    for i, alpha_i in enumerate(alpha):\n",
    "        for j, alpha_j in enumerate(alpha):\n",
    "            if i == j: continue\n",
    "            result += analytical_covariance(alpha, i, j)\n",
    "    return result"
   ]
  },
  {
   "cell_type": "code",
   "execution_count": 80,
   "metadata": {
    "collapsed": false
   },
   "outputs": [
    {
     "data": {
      "text/plain": [
       "0.027574218952516792"
      ]
     },
     "execution_count": 80,
     "metadata": {},
     "output_type": "execute_result"
    }
   ],
   "source": [
    "entropy_variance_analytical([1, 2, 3])"
   ]
  },
  {
   "cell_type": "code",
   "execution_count": 81,
   "metadata": {
    "collapsed": false
   },
   "outputs": [
    {
     "data": {
      "text/plain": [
       "0.0033030059629875468"
      ]
     },
     "execution_count": 81,
     "metadata": {},
     "output_type": "execute_result"
    }
   ],
   "source": [
    "entropy_variance_analytical(alpha)"
   ]
  },
  {
   "cell_type": "code",
   "execution_count": 82,
   "metadata": {
    "collapsed": false
   },
   "outputs": [],
   "source": [
    "def generic_analytical_expectation_sum1(alpha_x, alpha_y, alpha_z, m_x, k_x, m_y, k_y, x=0, y=1, tol=1e-6):\n",
    "    result = 0.\n",
    "    prev = np.inf\n",
    "    iter_i = 1\n",
    "    while np.abs(prev - result) > tol:\n",
    "        prev = result\n",
    "        result += generic_analytical_expectation1(alpha_x, alpha_y, alpha_z,\n",
    "                                                  m_x=m_x, k_x=k_x, m_y=m_y, k_y=k_y, n_z=iter_i) / iter_i\n",
    "        iter_i += 1\n",
    "        \n",
    "    return -result\n",
    "\n",
    "def generic_analytical_expectation_sum(alpha, m_x, k_x, m_y, k_y, x=0, y=1, tol=1e-6):    \n",
    "    alpha = np.asarray(alpha, dtype=float)\n",
    "    alpha_x = alpha[x]\n",
    "    alpha_y = alpha[y]\n",
    "    alpha_z = np.sum(alpha) - alpha_x - alpha_y\n",
    "    \n",
    "    return generic_analytical_expectation_sum1(alpha_x, alpha_y, alpha_z, \n",
    "                                                   m_x, k_x, m_y, k_y, x=x, y=x, tol=tol)"
   ]
  },
  {
   "cell_type": "code",
   "execution_count": 83,
   "metadata": {
    "collapsed": true
   },
   "outputs": [],
   "source": [
    "def empirical(alpha):\n",
    "    p = np.random.dirichlet(alpha, size=100000)\n",
    "    result = np.mean(np.log(p[:, 0] + p[:, 1]))\n",
    "    return result"
   ]
  },
  {
   "cell_type": "code",
   "execution_count": 84,
   "metadata": {
    "collapsed": false
   },
   "outputs": [
    {
     "data": {
      "text/plain": [
       "-2.5577252364163967"
      ]
     },
     "execution_count": 84,
     "metadata": {},
     "output_type": "execute_result"
    }
   ],
   "source": [
    "generic_analytical_expectation_sum([1, 2, 30], 0, 0, 0, 0, tol=1e-5)"
   ]
  },
  {
   "cell_type": "code",
   "execution_count": 85,
   "metadata": {
    "collapsed": false
   },
   "outputs": [
    {
     "data": {
      "text/plain": [
       "-2.5584951954364783"
      ]
     },
     "execution_count": 85,
     "metadata": {},
     "output_type": "execute_result"
    }
   ],
   "source": [
    "generic_analytical_expectation([3, 1, 29], 1, 0, 0, 0)"
   ]
  },
  {
   "cell_type": "code",
   "execution_count": 86,
   "metadata": {
    "collapsed": false
   },
   "outputs": [
    {
     "data": {
      "text/plain": [
       "-0.63605696252091559"
      ]
     },
     "execution_count": 86,
     "metadata": {},
     "output_type": "execute_result"
    }
   ],
   "source": [
    "empirical([2, 3, 4])"
   ]
  },
  {
   "cell_type": "code",
   "execution_count": 87,
   "metadata": {
    "collapsed": true
   },
   "outputs": [],
   "source": [
    "def empirical(alpha):\n",
    "    p = np.random.dirichlet(alpha, size=100000)\n",
    "    result = np.mean(np.log(p[:, 0] + p[:, 1]) * np.log(p[:, 0]) * p[:, 0] * p[:, 0])\n",
    "    return result"
   ]
  },
  {
   "cell_type": "code",
   "execution_count": 88,
   "metadata": {
    "collapsed": false
   },
   "outputs": [
    {
     "data": {
      "text/plain": [
       "0.038874427778142755"
      ]
     },
     "execution_count": 88,
     "metadata": {},
     "output_type": "execute_result"
    }
   ],
   "source": [
    "generic_analytical_expectation_sum([2, 3, 4], 1, 2, 0, 0)"
   ]
  },
  {
   "cell_type": "code",
   "execution_count": 89,
   "metadata": {
    "collapsed": false
   },
   "outputs": [
    {
     "data": {
      "text/plain": [
       "0.038935868900466755"
      ]
     },
     "execution_count": 89,
     "metadata": {},
     "output_type": "execute_result"
    }
   ],
   "source": [
    "empirical([2, 3, 4])"
   ]
  },
  {
   "cell_type": "code",
   "execution_count": 359,
   "metadata": {
    "collapsed": true
   },
   "outputs": [],
   "source": [
    "def empirical(alpha):\n",
    "    p = np.random.dirichlet(alpha, size=100000)\n",
    "    result = np.mean(np.log(p[:, 0] + p[:, 1]) * np.log(p[:, 0]) * p[:, 0] * p[:, 1])\n",
    "    return result"
   ]
  },
  {
   "cell_type": "code",
   "execution_count": 360,
   "metadata": {
    "collapsed": false
   },
   "outputs": [
    {
     "data": {
      "text/plain": [
       "0.049517801054112055"
      ]
     },
     "execution_count": 360,
     "metadata": {},
     "output_type": "execute_result"
    }
   ],
   "source": [
    "generic_analytical_expectation_sum([2, 3, 4], 1, 1, 0, 1)"
   ]
  },
  {
   "cell_type": "code",
   "execution_count": 361,
   "metadata": {
    "collapsed": false
   },
   "outputs": [
    {
     "data": {
      "text/plain": [
       "0.049528080908722648"
      ]
     },
     "execution_count": 361,
     "metadata": {},
     "output_type": "execute_result"
    }
   ],
   "source": [
    "empirical([2, 3, 4])"
   ]
  },
  {
   "cell_type": "code",
   "execution_count": 391,
   "metadata": {
    "collapsed": false
   },
   "outputs": [],
   "source": [
    "def difference_variance(n_xy):\n",
    "    n_xy = np.asarray(n_xy)\n",
    "    n_x = np.sum(n_xy, axis=0)\n",
    "    n_xy_flat = n_xy.flatten()\n",
    "    n = np.sum(n_xy)\n",
    "    \n",
    "    result = entropy_variance_analytical(n_xy_flat) + entropy_variance_analytical(n_x)\n",
    "    \n",
    "    print result\n",
    "    \n",
    "    for a in range(n_xy.shape[1]):\n",
    "        for b in range(n_xy.shape[0]):\n",
    "            for c in range(n_xy.shape[1]):\n",
    "                if a == c:\n",
    "                    alpha_x = n_xy[b, a]\n",
    "                    alpha_y = n_x[a] - alpha_x\n",
    "\n",
    "                    alpha_z = n - alpha_x - alpha_y\n",
    "                    part1 = generic_analytical_expectation_sum1(alpha_x, alpha_y, alpha_z, \n",
    "                                                                1, 2, 0, 0, tol=1e-10)\n",
    "                    part2 = generic_analytical_expectation_sum1(alpha_x, alpha_y, alpha_z,\n",
    "                                                            1, 1, 0, 1, tol=1e-10)\n",
    "                    current = part1 + part2\n",
    "\n",
    "                    current -= generic_analytical_expectation1(alpha_x, alpha_y, alpha_z, \n",
    "                                                               1, 1, 0, 0) * \\\n",
    "                                generic_analytical_expectation1(alpha_x + alpha_y, 1, alpha_z - 1, \n",
    "                                                                1, 1, 0, 0)\n",
    "\n",
    "                    result += -2 * current\n",
    "                else:\n",
    "                    alpha_x = n_xy[b, c]\n",
    "                    alpha_y = n_x[a]\n",
    "                    alpha_z = n - alpha_x - alpha_y\n",
    "\n",
    "                    current = generic_analytical_expectation1(alpha_x, alpha_y, alpha_z, 1, 1, 1, 1)\n",
    "\n",
    "                    current -= generic_analytical_expectation1(alpha_x, alpha_y, alpha_z, 1, 1, 0, 0) * \\\n",
    "                                generic_analytical_expectation1(alpha_x, alpha_y, alpha_z, 0, 0, 1, 1)\n",
    "\n",
    "                    result += -2 * current\n",
    "    \n",
    "    return result"
   ]
  },
  {
   "cell_type": "code",
   "execution_count": 410,
   "metadata": {
    "collapsed": false
   },
   "outputs": [],
   "source": [
    "def empirical(n_xy):\n",
    "    n_xy = np.asarray(n_xy)\n",
    "    size = 100000\n",
    "    p = np.random.dirichlet(n_xy.flatten(), size=size)\n",
    "    p = p.reshape((-1,) + n_xy.shape)\n",
    "    \n",
    "    p_x = p.sum(axis=1)\n",
    "    return np.var(np.sum(np.sum(p * np.log(p), axis=2), axis=1) - np.sum(p_x * np.log(p_x), axis=1))"
   ]
  },
  {
   "cell_type": "code",
   "execution_count": 411,
   "metadata": {
    "collapsed": false
   },
   "outputs": [
    {
     "name": "stdout",
     "output_type": "stream",
     "text": [
      "0.00719835126631\n"
     ]
    },
    {
     "data": {
      "text/plain": [
       "(0.0027824781691178965, 0.0027681191793719178)"
      ]
     },
     "execution_count": 411,
     "metadata": {},
     "output_type": "execute_result"
    }
   ],
   "source": [
    "arr = np.asarray([[2, 2, 10, 15], [1, 20, 3, 15], [1, 2, 10, 15]])\n",
    "difference_variance(arr), empirical(arr)"
   ]
  },
  {
   "cell_type": "code",
   "execution_count": 395,
   "metadata": {
    "collapsed": false
   },
   "outputs": [
    {
     "name": "stdout",
     "output_type": "stream",
     "text": [
      "[[ 0.09551558  0.10772837  0.01329695]\n",
      " [ 0.34510606  0.17774463  0.11102416]\n",
      " [ 0.14523922  0.00213923  0.00220579]]\n",
      "(100000, 3, 3)\n",
      "(3, 3)\n"
     ]
    },
    {
     "data": {
      "text/plain": [
       "0.011258520551995449"
      ]
     },
     "execution_count": 395,
     "metadata": {},
     "output_type": "execute_result"
    }
   ],
   "source": [
    "empirical([[2, 2, 1], [2, 2, 1], [1, 1, 1]])"
   ]
  },
  {
   "cell_type": "code",
   "execution_count": 283,
   "metadata": {
    "collapsed": false
   },
   "outputs": [],
   "source": [
    "def empirical_term(n_xy, a, b, c):\n",
    "    n_xy = np.asarray(n_xy)\n",
    "    size = 100000\n",
    "    p = np.random.dirichlet(n_xy.flatten(), size=size)\n",
    "    p = p.reshape((-1,) + n_xy.shape)\n",
    "    \n",
    "    p_x = p.sum(axis=1)\n",
    "    return -np.cov(p[:, b, c] * np.log(p[:, b, c]), p_x[:, a] * np.log(p_x[:, a]))"
   ]
  },
  {
   "cell_type": "code",
   "execution_count": 396,
   "metadata": {
    "collapsed": true
   },
   "outputs": [],
   "source": [
    "def analytical_term(n_xy, a, b, c):\n",
    "    n_xy = np.asarray(n_xy)\n",
    "    n_x = np.sum(n_xy, axis=0)\n",
    "    n_xy_flat = n_xy.flatten()\n",
    "    n = np.sum(n_xy)\n",
    "    \n",
    "    if a == c:\n",
    "        alpha_x = n_xy[b, a]\n",
    "        alpha_y = n_x[a] - alpha_x\n",
    "\n",
    "\n",
    "        alpha_z = n - alpha_x - alpha_y\n",
    "        part1 = generic_analytical_expectation_sum1(alpha_x, alpha_y, alpha_z, \n",
    "                                                    1, 2, 0, 0, tol=1e-20)\n",
    "        part2 = generic_analytical_expectation_sum1(alpha_x, alpha_y, alpha_z,\n",
    "                                                1, 1, 0, 1, tol=1e-20)\n",
    "        current = part1 + part2\n",
    "        \n",
    "        current -= generic_analytical_expectation1(alpha_x, alpha_y, alpha_z, \n",
    "                                                   1, 1, 0, 0) * \\\n",
    "                    generic_analytical_expectation1(alpha_x + alpha_y, 1, alpha_z - 1, \n",
    "                                                    1, 1, 0, 0)\n",
    "        print current\n",
    "\n",
    "        return -current\n",
    "    else:\n",
    "        print 'tick'\n",
    "        alpha_x = n_xy[b, c]\n",
    "        alpha_y = n_x[a]\n",
    "        alpha_z = n - alpha_x - alpha_y\n",
    "        \n",
    "        print alpha_x, alpha_y, alpha_z\n",
    "\n",
    "        current = generic_analytical_expectation1(alpha_x, alpha_y, alpha_z, 1, 1, 1, 1)\n",
    "\n",
    "        current -= generic_analytical_expectation1(alpha_x, alpha_y, alpha_z, 1, 1, 0, 0) * \\\n",
    "                    generic_analytical_expectation1(alpha_x, alpha_y, alpha_z, 0, 0, 1, 1)\n",
    "\n",
    "        return -current"
   ]
  },
  {
   "cell_type": "code",
   "execution_count": 397,
   "metadata": {
    "collapsed": true
   },
   "outputs": [],
   "source": [
    "def empirical_term(n_xy, a, b, c):\n",
    "    n_xy = np.asarray(n_xy)\n",
    "    size = 100000\n",
    "    p = np.random.dirichlet(n_xy.flatten(), size=size)\n",
    "    p = p.reshape((-1,) + n_xy.shape)\n",
    "    \n",
    "    p_x = p.sum(axis=1)\n",
    "    print -np.cov(p[:, b, c] * np.log(p[:, b, c]), p_x[:, a] * np.log(p_x[:, a]))\n",
    "    print np.mean(p[:, b, c] * np.log(p[:, b, c])) * np.mean(p_x[:, a] * np.log(p_x[:, a]))\n",
    "    print np.mean(p[:, b, c] * np.log(p[:, b, c]) * p_x[:, a] * np.log(p_x[:, a]))"
   ]
  },
  {
   "cell_type": "code",
   "execution_count": 398,
   "metadata": {
    "collapsed": false
   },
   "outputs": [
    {
     "name": "stdout",
     "output_type": "stream",
     "text": [
      "[[-0.00796977 -0.00070632]\n",
      " [-0.00070632 -0.00102653]]\n",
      "0.0510418546361\n",
      "0.0517481653667\n"
     ]
    }
   ],
   "source": [
    "empirical_term([[2, 2, 1], [2, 5, 1], [1, 1, 1]], 0, 2, 0)"
   ]
  },
  {
   "cell_type": "code",
   "execution_count": 399,
   "metadata": {
    "collapsed": false
   },
   "outputs": [
    {
     "name": "stdout",
     "output_type": "stream",
     "text": [
      "0.000712868988135\n"
     ]
    },
    {
     "data": {
      "text/plain": [
       "-0.00071286898813484323"
      ]
     },
     "execution_count": 399,
     "metadata": {},
     "output_type": "execute_result"
    }
   ],
   "source": [
    "analytical_term([[2, 2, 1], [2, 5, 1], [1, 1, 1]], 0, 2, 0)"
   ]
  },
  {
   "cell_type": "code",
   "execution_count": null,
   "metadata": {
    "collapsed": true
   },
   "outputs": [],
   "source": []
  }
 ],
 "metadata": {
  "kernelspec": {
   "display_name": "Python 2",
   "language": "python",
   "name": "python2"
  },
  "language_info": {
   "codemirror_mode": {
    "name": "ipython",
    "version": 2
   },
   "file_extension": ".py",
   "mimetype": "text/x-python",
   "name": "python",
   "nbconvert_exporter": "python",
   "pygments_lexer": "ipython2",
   "version": "2.7.9"
  }
 },
 "nbformat": 4,
 "nbformat_minor": 0
}
