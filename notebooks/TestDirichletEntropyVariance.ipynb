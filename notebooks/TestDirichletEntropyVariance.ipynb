{
 "cells": [
  {
   "cell_type": "code",
   "execution_count": 609,
   "metadata": {
    "collapsed": true
   },
   "outputs": [],
   "source": [
    "%%capture\n",
    "import numpy as np\n",
    "import scipy as sp\n",
    "import matplotlib as mpl\n",
    "import matplotlib.pyplot as plt\n",
    "import networkx as nx\n",
    "from scipy.special import gammaln, betaln, binom\n",
    "%matplotlib inline"
   ]
  },
  {
   "cell_type": "code",
   "execution_count": 21,
   "metadata": {
    "collapsed": false
   },
   "outputs": [
    {
     "data": {
      "text/plain": [
       "array([ 0.07299006,  0.06807584,  0.39421284,  0.15596882,  0.30875244])"
      ]
     },
     "execution_count": 21,
     "metadata": {},
     "output_type": "execute_result"
    }
   ],
   "source": [
    "np.random.dirichlet(np.ones(5))"
   ]
  },
  {
   "cell_type": "code",
   "execution_count": 96,
   "metadata": {
    "collapsed": false
   },
   "outputs": [],
   "source": [
    "def empirical(alpha):\n",
    "    p = np.random.dirichlet(alpha, size=100000)\n",
    "    result = np.mean(np.log(p[:, 0] + p[:, 1]))\n",
    "    return result"
   ]
  },
  {
   "cell_type": "code",
   "execution_count": 97,
   "metadata": {
    "collapsed": false
   },
   "outputs": [
    {
     "data": {
      "text/plain": [
       "[<matplotlib.lines.Line2D at 0x7f33a9d86090>]"
      ]
     },
     "execution_count": 97,
     "metadata": {},
     "output_type": "execute_result"
    },
    {
     "data": {
      "image/png": "[encoded data removed]",
      "text/plain": [
       "<matplotlib.figure.Figure at 0x7f33aa128c90>"
      ]
     },
     "metadata": {},
     "output_type": "display_data"
    }
   ],
   "source": [
    "plt.plot([empirical(x*np.ones(5)) for x in np.arange(0.1, 10)], np.arange(0.1, 10))"
   ]
  },
  {
   "cell_type": "code",
   "execution_count": 112,
   "metadata": {
    "collapsed": true
   },
   "outputs": [],
   "source": [
    "def analytical(alpha, n_iter=1000):\n",
    "    result = 0.\n",
    "    alpha_x = alpha[0]\n",
    "    alpha_y = alpha[1]\n",
    "    alpha_z = np.sum(alpha[2:])\n",
    "    for iter_i in range(1, n_iter+1):\n",
    "        result += np.exp(betaln(alpha_x + iter_i, alpha_y + alpha_z) - betaln(alpha_x, alpha_y + alpha_z)) / iter_i\n",
    "    return -result"
   ]
  },
  {
   "cell_type": "code",
   "execution_count": 115,
   "metadata": {
    "collapsed": false
   },
   "outputs": [
    {
     "data": {
      "text/plain": [
       "-0.28571428571428431"
      ]
     },
     "execution_count": 115,
     "metadata": {},
     "output_type": "execute_result"
    }
   ],
   "source": [
    "analytical(2*np.ones(5))"
   ]
  },
  {
   "cell_type": "code",
   "execution_count": 116,
   "metadata": {
    "collapsed": false
   },
   "outputs": [
    {
     "data": {
      "text/plain": [
       "[<matplotlib.lines.Line2D at 0x7f33a93e1550>]"
      ]
     },
     "execution_count": 116,
     "metadata": {},
     "output_type": "execute_result"
    },
    {
     "data": {
      "image/png": "[encoded data removed]",
      "text/plain": [
       "<matplotlib.figure.Figure at 0x7f33a93e1050>"
      ]
     },
     "metadata": {},
     "output_type": "display_data"
    }
   ],
   "source": [
    "plt.plot([analytical(x*np.asarray([1, 2, 3, 4, 5])) * 24 for x in np.arange(0.1, 10)], np.arange(0.1, 10))\n",
    "plt.plot([empirical(x*np.asarray([1, 2, 3, 4, 5])) for x in np.arange(0.1, 10)], np.arange(0.1, 10))"
   ]
  },
  {
   "cell_type": "code",
   "execution_count": 404,
   "metadata": {
    "collapsed": true
   },
   "outputs": [],
   "source": [
    "# since beta(a, b) can be very small we use logarithms\n",
    "\n",
    "def log_mbeta1(a, b):\n",
    "    \"\"\" \n",
    "    ln(-beta'(a, b))\n",
    "    \"\"\"\n",
    "    return betaln(a, b) + np.log(-digamma(a) + digamma(a + b))\n",
    "\n",
    "def beta1(a, b):\n",
    "    return -np.exp(log_mbeta1(a, b))\n",
    "\n",
    "def log_beta2(a, b):\n",
    "    \"\"\"\n",
    "    ln(beta\"(a, b))\n",
    "    \"\"\"\n",
    "    return betaln(a, b) + np.log((digamma(a) - digamma(a + b))**2 + (polygamma(1, a) - polygamma(1, a + b)))\n",
    "\n",
    "def beta2(a, b):\n",
    "    return np.exp(log_beta2(a, b))"
   ]
  },
  {
   "cell_type": "code",
   "execution_count": 457,
   "metadata": {
    "collapsed": false
   },
   "outputs": [],
   "source": [
    "def empirical(alpha):\n",
    "    p = np.random.dirichlet(alpha, size=100000)\n",
    "    result = np.mean(np.log(p[:, 1]))\n",
    "    return result"
   ]
  },
  {
   "cell_type": "code",
   "execution_count": 458,
   "metadata": {
    "collapsed": false
   },
   "outputs": [
    {
     "data": {
      "text/plain": [
       "-0.76014801259751141"
      ]
     },
     "execution_count": 458,
     "metadata": {},
     "output_type": "execute_result"
    }
   ],
   "source": [
    "empirical(np.asarray([1, 4, 3]))"
   ]
  },
  {
   "cell_type": "code",
   "execution_count": 459,
   "metadata": {
    "collapsed": true
   },
   "outputs": [],
   "source": [
    "from scipy.special import digamma, gamma, gammaln, beta, betaln, polygamma\n",
    "from scipy.misc import derivative"
   ]
  },
  {
   "cell_type": "code",
   "execution_count": 460,
   "metadata": {
    "collapsed": true
   },
   "outputs": [],
   "source": [
    "def log_mvbeta(*alphas):\n",
    "    return np.sum([gammaln(alpha) for alpha in alphas]) - gammaln(np.sum(alphas))"
   ]
  },
  {
   "cell_type": "code",
   "execution_count": 461,
   "metadata": {
    "collapsed": false
   },
   "outputs": [],
   "source": [
    "def log_betaderiv_xy(x, y):\n",
    "    result1 = betaln(x, y)\n",
    "    result1 += np.log(digamma(x + y) - digamma(x))\n",
    "    result1 += np.log(digamma(x + y) - digamma(y))\n",
    "    result1 = np.exp(result1)\n",
    "    \n",
    "    result2 = betaln(x, y)\n",
    "    result2 += np.log(polygamma(1, x + y))\n",
    "    result2 = -np.exp(result2)\n",
    "    \n",
    "    return result1 + result2"
   ]
  },
  {
   "cell_type": "code",
   "execution_count": 488,
   "metadata": {
    "collapsed": false
   },
   "outputs": [],
   "source": [
    "def analytical(alpha, n_iter=1000):\n",
    "    alpha_x = alpha[0]\n",
    "    alpha_y = alpha[1]\n",
    "    alpha_z = np.sum(alpha[2:])\n",
    "    \n",
    "    result1 = 0.\n",
    "    result1 += log_mbeta1(alpha_y, alpha_z)\n",
    "    result1 += betaln(alpha_x, alpha_y + alpha_z)\n",
    "    result1 -= log_mvbeta(alpha_x, alpha_y, alpha_z)\n",
    "    result1 = -np.exp(result1)\n",
    "    print result1\n",
    "    \n",
    "    result2 = 0.\n",
    "    result2 += betaln(alpha_y, alpha_z)\n",
    "    result2 += log_mbeta1(alpha_y + alpha_z, alpha_x)\n",
    "    result2 -= log_mvbeta(alpha_x, alpha_y, alpha_z)\n",
    "    result2 = -np.exp(result2)\n",
    "    print result2\n",
    "        \n",
    "    return result1 + result2"
   ]
  },
  {
   "cell_type": "code",
   "execution_count": 710,
   "metadata": {
    "collapsed": true
   },
   "outputs": [],
   "source": [
    "def log_beta_deriv(x, y, nx, ny):\n",
    "    if nx < ny: \n",
    "        return log_beta_deriv(y, x, ny, nx)\n",
    "    if nx == 0:\n",
    "        return betaln(x, y), +1\n",
    "    elif nx == 1 and ny == 0:\n",
    "        return np.log(digamma(x + y) - digamma(x)) + betaln(x, y), -1\n",
    "    elif nx == 2 and ny == 0:\n",
    "        return np.log((digamma(x + y) - digamma(x)) ** 2 + (polygamma(1, x) - polygamma(1, x + y))) + \\\n",
    "            betaln(x, y), +1\n",
    "    elif nx == 1 and ny == 1:\n",
    "        return np.log((digamma(x + y) - digamma(x))*(digamma(x + y) - digamma(y)) - polygamma(1, x + y)) + \\\n",
    "            betaln(x, y), +1\n",
    "    else:\n",
    "        raise Exception(\"not implemented for nx={}, ny={}\".format(nx, ny))"
   ]
  },
  {
   "cell_type": "code",
   "execution_count": 711,
   "metadata": {
    "collapsed": false
   },
   "outputs": [
    {
     "data": {
      "text/plain": [
       "((-3.9599107990785671, 1), -3.9599107990785671)"
      ]
     },
     "execution_count": 711,
     "metadata": {},
     "output_type": "execute_result"
    }
   ],
   "source": [
    "log_beta_deriv(4, 3, 0, 2), log_beta2(3, 4)"
   ]
  },
  {
   "cell_type": "code",
   "execution_count": 720,
   "metadata": {
    "collapsed": true
   },
   "outputs": [],
   "source": [
    "def generic_analytical_expectation(alpha, m_x, k_x, m_y, k_y, x=0, y=1):\n",
    "    result = 0.\n",
    "    \n",
    "    alpha_x = alpha[x]\n",
    "    alpha_y = alpha[y]\n",
    "    alpha_z = np.sum(alpha) - alpha_x - alpha_y\n",
    "    \n",
    "    for i in range(m_y + 1):\n",
    "        current = 0.\n",
    "        sign = +1\n",
    "        \n",
    "        d1_log, d1_sign = log_beta_deriv(alpha_x + k_x, \n",
    "                                         alpha_y + alpha_z + k_y, \n",
    "                                         m_x, i)\n",
    "        \n",
    "        current += d1_log\n",
    "        sign *= d1_sign\n",
    "        \n",
    "        d2_log, d2_sign = log_beta_deriv(alpha_y + k_y, alpha_z,\n",
    "                                         m_y - i, 0)\n",
    "\n",
    "        current += d2_log\n",
    "        sign *= d2_sign\n",
    "        \n",
    "    \n",
    "        current -= log_mvbeta(alpha_x, alpha_y, alpha_z)\n",
    "\n",
    "        result += sign * np.exp(current) * binom(m_y, i)\n",
    "    \n",
    "    return result"
   ]
  },
  {
   "cell_type": "code",
   "execution_count": 728,
   "metadata": {
    "collapsed": false
   },
   "outputs": [],
   "source": [
    "def analytical_covariance(alpha, x, y):\n",
    "    return generic_analytical_expectation(alpha, 1, 1, 1, 1, x=x, y=y) - \\\n",
    "        (generic_analytical_expectation(alpha, 1, 1, 0, 0, x=x, y=y) * \\\n",
    "         generic_analytical_expectation(alpha, 0, 0, 1, 1, x=x, y=y))"
   ]
  },
  {
   "cell_type": "code",
   "execution_count": 729,
   "metadata": {
    "collapsed": true
   },
   "outputs": [],
   "source": [
    "def analytical_variance(alpha, x):\n",
    "    y = (x + 1) % len(alpha)\n",
    "    return generic_analytical_expectation(alpha, 2, 2, 0, 0, x=x, y=y) - \\\n",
    "        (generic_analytical_expectation(alpha, 1, 1, 0, 0, x=x, y=y)**2)"
   ]
  },
  {
   "cell_type": "code",
   "execution_count": 730,
   "metadata": {
    "collapsed": false
   },
   "outputs": [
    {
     "data": {
      "text/plain": [
       "0.052681553314663856"
      ]
     },
     "execution_count": 730,
     "metadata": {},
     "output_type": "execute_result"
    }
   ],
   "source": [
    "generic_analytical_expectation(np.asarray([1, 7, 3]), 1, 1, 1, 1)"
   ]
  },
  {
   "cell_type": "code",
   "execution_count": 731,
   "metadata": {
    "collapsed": false
   },
   "outputs": [
    {
     "data": {
      "text/plain": [
       "0.05275876149484944"
      ]
     },
     "execution_count": 731,
     "metadata": {},
     "output_type": "execute_result"
    }
   ],
   "source": [
    "def empirical(alpha):\n",
    "    p = np.random.dirichlet(alpha, size=1000000)\n",
    "    result = np.mean(np.log(p[:, 0]) * p[:, 0] * \\\n",
    "                     np.log(p[:, 1]) * p[:, 1])\n",
    "                    #p[:, 0] * p[:, 1])\n",
    "    return result\n",
    "empirical(np.asarray([1, 7, 3]))"
   ]
  },
  {
   "cell_type": "code",
   "execution_count": 736,
   "metadata": {
    "collapsed": false
   },
   "outputs": [],
   "source": [
    "def empirical_variance(alpha):\n",
    "    p = np.random.dirichlet(alpha, size=1000000)\n",
    "    result = np.var(p[:, 0] * np.log(p[:, 0]), ddof=1)\n",
    "    return result"
   ]
  },
  {
   "cell_type": "code",
   "execution_count": 739,
   "metadata": {
    "collapsed": false
   },
   "outputs": [
    {
     "data": {
      "text/plain": [
       "(0.010395361040976124, 0.010391893614515119)"
      ]
     },
     "execution_count": 739,
     "metadata": {},
     "output_type": "execute_result"
    }
   ],
   "source": [
    "empirical_variance([1, 2, 3, 4]), analytical_variance([1, 2, 3, 4], 0)"
   ]
  },
  {
   "cell_type": "code",
   "execution_count": 747,
   "metadata": {
    "collapsed": false
   },
   "outputs": [
    {
     "data": {
      "text/plain": [
       "-0.00089116171960386403"
      ]
     },
     "execution_count": 747,
     "metadata": {},
     "output_type": "execute_result"
    }
   ],
   "source": [
    "analytical_covariance([1, 2, 3, 4], 0, 1)"
   ]
  },
  {
   "cell_type": "code",
   "execution_count": 742,
   "metadata": {
    "collapsed": true
   },
   "outputs": [],
   "source": [
    "def empirical_entropy_variance(alpha):\n",
    "    p = np.random.dirichlet(alpha, size=1000000)\n",
    "    result = np.var(np.sum(p * np.log(p), axis=1), ddof=1)\n",
    "    return result"
   ]
  },
  {
   "cell_type": "code",
   "execution_count": 743,
   "metadata": {
    "collapsed": false
   },
   "outputs": [
    {
     "data": {
      "text/plain": [
       "0.027544509504125111"
      ]
     },
     "execution_count": 743,
     "metadata": {},
     "output_type": "execute_result"
    }
   ],
   "source": [
    "empirical_entropy_variance([1, 2, 3])"
   ]
  },
  {
   "cell_type": "code",
   "execution_count": 755,
   "metadata": {
    "collapsed": false
   },
   "outputs": [
    {
     "data": {
      "text/plain": [
       "0.0037167156677290129"
      ]
     },
     "execution_count": 755,
     "metadata": {},
     "output_type": "execute_result"
    }
   ],
   "source": [
    "alpha = np.random.dirichlet(np.ones(10)) * 100\n",
    "empirical_entropy_variance(alpha)"
   ]
  },
  {
   "cell_type": "code",
   "execution_count": 752,
   "metadata": {
    "collapsed": true
   },
   "outputs": [],
   "source": [
    "def entropy_variance_analytical(alpha):\n",
    "    result = 0.\n",
    "    for i, alpha_i in enumerate(alpha):\n",
    "        result += analytical_variance(alpha, i)\n",
    "    for i, alpha_i in enumerate(alpha):\n",
    "        for j, alpha_j in enumerate(alpha):\n",
    "            if i == j: continue\n",
    "            result += analytical_covariance(alpha, i, j)\n",
    "    return result"
   ]
  },
  {
   "cell_type": "code",
   "execution_count": 753,
   "metadata": {
    "collapsed": false
   },
   "outputs": [
    {
     "data": {
      "text/plain": [
       "0.027574218952516792"
      ]
     },
     "execution_count": 753,
     "metadata": {},
     "output_type": "execute_result"
    }
   ],
   "source": [
    "entropy_variance_analytical([1, 2, 3])"
   ]
  },
  {
   "cell_type": "code",
   "execution_count": 756,
   "metadata": {
    "collapsed": false
   },
   "outputs": [
    {
     "data": {
      "text/plain": [
       "0.003710246723882025"
      ]
     },
     "execution_count": 756,
     "metadata": {},
     "output_type": "execute_result"
    }
   ],
   "source": [
    "entropy_variance_analytical(alpha)"
   ]
  },
  {
   "cell_type": "code",
   "execution_count": null,
   "metadata": {
    "collapsed": true
   },
   "outputs": [],
   "source": []
  }
 ],
 "metadata": {
  "kernelspec": {
   "display_name": "Python 2",
   "language": "python",
   "name": "python2"
  },
  "language_info": {
   "codemirror_mode": {
    "name": "ipython",
    "version": 2
   },
   "file_extension": ".py",
   "mimetype": "text/x-python",
   "name": "python",
   "nbconvert_exporter": "python",
   "pygments_lexer": "ipython2",
   "version": "2.7.9"
  }
 },
 "nbformat": 4,
 "nbformat_minor": 0
}
