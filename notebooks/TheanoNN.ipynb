{
 "cells": [
  {
   "cell_type": "code",
   "execution_count": 2,
   "metadata": {
    "collapsed": true
   },
   "outputs": [],
   "source": [
    "%%capture\n",
    "import numpy as np\n",
    "import scipy as sp\n",
    "import matplotlib as mpl\n",
    "import matplotlib.pyplot as plt\n",
    "%matplotlib inline"
   ]
  },
  {
   "cell_type": "code",
   "execution_count": 3,
   "metadata": {
    "collapsed": false
   },
   "outputs": [],
   "source": [
    "%%capture\n",
    "import sys\n",
    "sys.path.append('/home/wrwt/Programming/pygraphmodels')\n",
    "import graphmodels as gm"
   ]
  },
  {
   "cell_type": "code",
   "execution_count": 4,
   "metadata": {
    "collapsed": true
   },
   "outputs": [],
   "source": [
    "import warnings\n",
    "warnings.filterwarnings('ignore', module='matplotlib')\n",
    "warnings.filterwarnings('ignore', module='IPython')"
   ]
  },
  {
   "cell_type": "code",
   "execution_count": 5,
   "metadata": {
    "collapsed": false
   },
   "outputs": [],
   "source": [
    "%%capture\n",
    "import theano\n",
    "import theano.tensor as T\n",
    "from theano.tensor import nnet"
   ]
  },
  {
   "cell_type": "markdown",
   "metadata": {},
   "source": [
    "### Simple neural network implementation"
   ]
  },
  {
   "cell_type": "code",
   "execution_count": 24,
   "metadata": {
    "collapsed": false
   },
   "outputs": [],
   "source": [
    "n_in = 2\n",
    "n_hid = 2\n",
    "n_out = 1\n",
    "\n",
    "W0 = T.dmatrix('W0')\n",
    "b0 = T.dvector('b0')\n",
    "W1 = T.dvector('W1')\n",
    "b1 = T.dscalar('b1')\n",
    "\n",
    "X = T.dmatrix('X')\n",
    "y = T.dvector('y')\n",
    "\n",
    "hidden = nnet.sigmoid(X.dot(W0) + b0)\n",
    "out = hidden.dot(W1) + b1\n",
    "lambda_ = 1e-5\n",
    "#loss = T.mean((out - y) ** 2) + lambda_ * (T.sum(W0 ** 2) + T.sum(W0 ** 2))\n",
    "loss = T.sum((out - y) ** 2)\n",
    "loss_f = theano.function(inputs=[X, y, W0, W1, b0, b1], outputs=loss)\n",
    "\n",
    "def get_loss(theta, X, y):\n",
    "    W0 = theta[:n_in*n_hid].reshape((n_in, n_hid))\n",
    "    W1 = theta[n_in*n_hid:n_in*n_hid + n_hid*n_out]\n",
    "    b0 = theta[n_in*n_hid + n_hid*n_out:n_in*n_hid + n_hid*n_out + n_hid]\n",
    "    b1 = theta[n_in*n_hid + n_hid*n_out + n_hid]\n",
    "    res1 = []\n",
    "    res2 = []\n",
    "    print(loss_f(X, y, W0, W1, b0, b1)[0].shape)\n",
    "\n",
    "T.grad(loss, wrt=W0)\n",
    "    \n",
    "deriv = T.concatenate([T.grad(loss, wrt=W0).flatten(),\n",
    "                      T.grad(loss, wrt=W1).flatten(),\n",
    "                      T.grad(loss, wrt=b0).flatten(),\n",
    "                      [T.grad(loss, wrt=b1)]])\n",
    "\n",
    "predict = theano.function(inputs=[X, W0, b0, W1, b1], outputs=out, name='predict')\n",
    "loss_deriv = theano.function(inputs=[X, y, W0, b0, W1, b1], outputs=[loss, deriv], name='loss_deriv')\n",
    "\n",
    "def get_loss_deriv(theta, X, y):\n",
    "    W0 = theta[:n_in*n_hid].reshape((n_in, n_hid))\n",
    "    W1 = theta[n_in*n_hid:n_in*n_hid + n_hid*n_out]\n",
    "    b0 = theta[n_in*n_hid + n_hid*n_out:n_in*n_hid + n_hid*n_out + n_hid]\n",
    "    b1 = theta[n_in*n_hid + n_hid*n_out + n_hid]\n",
    "    res1 = []\n",
    "    res2 = []\n",
    "    return loss_deriv(X, y, W0, b0, W1, b1)\n",
    "\n",
    "def initialize(size):\n",
    "    return np.random.rand(size)\n",
    "\n",
    "def learn(X, y):\n",
    "    theta = initialize(n_in * n_hid + n_hid * n_out + n_hid + n_out)\n",
    "    from scipy.optimize import minimize\n",
    "    res = minimize(lambda theta: get_loss_deriv(theta, X, y), theta, jac=True, method='L-BFGS-B')\n",
    "    print(res)\n",
    "    return res['x']\n",
    "\n",
    "def get_predict(theta, X):\n",
    "    W0 = theta[:n_in*n_hid].reshape((n_in, n_hid))\n",
    "    W1 = theta[n_in*n_hid:n_in*n_hid + n_hid*n_out]\n",
    "    b0 = theta[n_in*n_hid + n_hid*n_out:n_in*n_hid + n_hid*n_out + n_hid]\n",
    "    b1 = theta[n_in*n_hid + n_hid*n_out + n_hid]\n",
    "    return predict(X, W0, b0, W1, b1)"
   ]
  },
  {
   "cell_type": "code",
   "execution_count": 235,
   "metadata": {
    "collapsed": false
   },
   "outputs": [],
   "source": [
    "class Neurofunction:\n",
    "    def __init__(self, n_in, n_hid, lambda_=1e-4):\n",
    "        self.n_in = n_in\n",
    "        self.n_hid = n_hid\n",
    "        self.n_params = (self.n_in + 2) * self.n_hid + 1\n",
    "        \n",
    "        self.W0 = T.dmatrix('W0')\n",
    "        self.b0 = T.dvector('b0')\n",
    "        self.W1 = T.dvector('W1')\n",
    "        self.b1 = T.dscalar('b1')\n",
    "\n",
    "        self.X = T.dmatrix('X')\n",
    "        self.x = T.dvector('x')\n",
    "        self.y = T.dvector('y')\n",
    "        \n",
    "        self.hidden = nnet.sigmoid(self.X.dot(self.W0) + self.b0)\n",
    "        self.xhidden = nnet.sigmoid(self.x.dot(self.W0) + self.b0)\n",
    "        self.out = self.hidden.dot(self.W1) + self.b1\n",
    "        self.xout = self.xhidden.dot(self.W1) + self.b1\n",
    "        \n",
    "        self.loss = T.mean((self.out - self.y) ** 2) + lambda_ * (T.sum(self.W0 ** 2) + T.sum(self.W1 ** 2))\n",
    "        \n",
    "        self.theta_grad = T.concatenate([T.grad(self.loss, wrt=self.W0).flatten(),\n",
    "                              T.grad(self.loss, wrt=self.W1).flatten(),\n",
    "                              T.grad(self.loss, wrt=self.b0).flatten(),\n",
    "                              [T.grad(self.loss, wrt=self.b1)]])\n",
    "        self.loss_theta_grad_f = theano.function(inputs=[self.X, self.y, self.W0, self.W1, self.b0, self.b1],\n",
    "                                           outputs=[self.loss, self.theta_grad])\n",
    "        self.predict_f = theano.function(inputs=[self.X, self.W0, self.W1, self.b0, self.b1], \n",
    "                                         outputs=self.out, name='predict')\n",
    "        \n",
    "        self.x_grad = T.grad(-self.xout, wrt=self.x)\n",
    "        self.loss_x_grad_f = theano.function(inputs=[self.x, self.W0, self.W1, self.b0, self.b1], \n",
    "                                            outputs=[-self.xout, self.x_grad])\n",
    "    \n",
    "        \n",
    "    def _parse_params(self, theta):\n",
    "        n_in = self.n_in\n",
    "        n_hid = self.n_hid\n",
    "        n_out = 1\n",
    "        W0 = theta[:n_in*n_hid].reshape((n_in, n_hid))\n",
    "        W1 = theta[n_in*n_hid:n_in*n_hid + n_hid*n_out]\n",
    "        b0 = theta[n_in*n_hid + n_hid*n_out:n_in*n_hid + n_hid*n_out + n_hid]\n",
    "        b1 = theta[n_in*n_hid + n_hid*n_out + n_hid]\n",
    "        return W0, W1, b0, b1\n",
    "        \n",
    "    def fit(self, X, y):\n",
    "        theta = np.random.rand(self.n_params)\n",
    "        \n",
    "        def loss_grad(theta):\n",
    "            W0, W1, b0, b1 = self._parse_params(theta)\n",
    "            return self.loss_theta_grad_f(X, y, W0, W1, b0, b1)\n",
    "    \n",
    "        res = sp.optimize.minimize(loss_grad, theta, method='L-BFGS-B', jac=True)\n",
    "        self.theta = res['x']\n",
    "        \n",
    "    def __call__(self, X):\n",
    "        params = self._parse_params(self.theta)\n",
    "        return self.predict_f(np.atleast_2d(X), *params)\n",
    "    \n",
    "    def maximize(self, assignment=None):\n",
    "        if assignment is None:\n",
    "            assignment = [None] * self.n_in\n",
    "        \n",
    "        n_assigned = sum([1 if a is not None else 0 for a in assignment])\n",
    "        x = np.random.rand(self.n_in - n_assigned)\n",
    "        idx = [i for i, a in enumerate(assignment) if a is None]\n",
    "        \n",
    "        \n",
    "        dispatch = {}\n",
    "        for i, a in enumerate(assignment):\n",
    "            if a is None:\n",
    "                dispatch[len(dispatch)] = i\n",
    "        \n",
    "        def loss_grad(x_compl):\n",
    "            x = np.array(assignment)\n",
    "            for i, xi in enumerate(x_compl):\n",
    "                x[dispatch[i]] = xi\n",
    "            W0, W1, b0, b1 = self._parse_params(self.theta)\n",
    "            loss, grad = self.loss_x_grad_f(x.astype('float'), W0, W1, b0, b1)\n",
    "            grad = grad[idx]\n",
    "            return loss, grad\n",
    "        \n",
    "        res = sp.optimize.minimize(loss_grad, x, method='L-BFGS-B', jac=True, \n",
    "                                   bounds=[(0, 1)] * (self.n_in - n_assigned))\n",
    "        return res['x']"
   ]
  },
  {
   "cell_type": "code",
   "execution_count": 238,
   "metadata": {
    "collapsed": false
   },
   "outputs": [],
   "source": [
    "inputs = np.array([[0,1],[1,0],[1,1],[0,0]]).reshape(4,2) #training data X\n",
    "exp_y = np.array([1, 1, 0, 0]) #training data Y\n",
    "nf = Neurofunction(2, 4)\n",
    "nf.fit(inputs, exp_y)"
   ]
  },
  {
   "cell_type": "code",
   "execution_count": 237,
   "metadata": {
    "collapsed": false
   },
   "outputs": [
    {
     "data": {
      "text/plain": [
       "array([ 1.7838094 ,  0.99906714,  0.99911104,  0.0018411 ])"
      ]
     },
     "execution_count": 237,
     "metadata": {},
     "output_type": "execute_result"
    }
   ],
   "source": [
    "#Training done! Let's test it out\n",
    "nf([[0, 0], [0, 1], [1, 0], [1, 1]])"
   ]
  },
  {
   "cell_type": "code",
   "execution_count": 233,
   "metadata": {
    "collapsed": false
   },
   "outputs": [
    {
     "data": {
      "text/plain": [
       "array([ 0.])"
      ]
     },
     "execution_count": 233,
     "metadata": {},
     "output_type": "execute_result"
    }
   ],
   "source": [
    "nf.maximize(assignment=[None, 0.])"
   ]
  },
  {
   "cell_type": "code",
   "execution_count": 234,
   "metadata": {
    "collapsed": false
   },
   "outputs": [
    {
     "data": {
      "text/plain": [
       "array([ 1.56099748])"
      ]
     },
     "execution_count": 234,
     "metadata": {},
     "output_type": "execute_result"
    }
   ],
   "source": [
    "nf([0, 0.32])"
   ]
  },
  {
   "cell_type": "markdown",
   "metadata": {},
   "source": [
    "### Using the neural network on DGM"
   ]
  },
  {
   "cell_type": "code",
   "execution_count": 195,
   "metadata": {
    "collapsed": true
   },
   "outputs": [],
   "source": [
    "def generate_subset(target, factor, kmin=1, kmax=4, size=1):\n",
    "    \"\"\"\n",
    "    Generate `size` random subsets of parents for node `target` with factor `factor` \n",
    "    and calculate discrete mutual information for them.\n",
    "    Number of parents lies between kmin and kmax\n",
    "    \"\"\"\n",
    "    arguments = list(factor.arguments)\n",
    "    arguments.remove(target)\n",
    "    arguments = np.asarray(arguments)\n",
    "    \n",
    "    n = np.random.randint(low=kmin, high=kmax+1, size=size)\n",
    "    result = []\n",
    "    score = []\n",
    "    for i, cn in enumerate(n):\n",
    "        current = np.random.choice(arguments, size=cn, replace=False)\n",
    "        result.append([1.0 if arg in current else 0.0 for arg in arguments])\n",
    "        if cn == 0:\n",
    "            score.append(0)\n",
    "        else:\n",
    "            score.append(gm.information.discrete_mutual_information(data[[target]], data[current]))\n",
    "    return np.vstack(result), np.hstack(score)"
   ]
  },
  {
   "cell_type": "code",
   "execution_count": 196,
   "metadata": {
    "collapsed": false
   },
   "outputs": [
    {
     "data": {
      "text/html": [
       "\n",
       "\n",
       "<style>\n",
       "\n",
       "table\n",
       "{\n",
       "  border-collapse: collapse;\n",
       "}\n",
       "th\n",
       "{\n",
       "  color: #ffffff;\n",
       "  background-color: #000000;\n",
       "}\n",
       "td\n",
       "{\n",
       "  background-color: #cccccc;\n",
       "}\n",
       "table, th, td\n",
       "{\n",
       "  font-family:Arial, Helvetica, sans-serif;\n",
       "  border: 1px solid black;\n",
       "  text-align: center;\n",
       "  padding: 3px;\n",
       "  font-size:11pt;\n",
       "}\n",
       "g.mpld3-xaxis, g.mpld3-yaxis {\n",
       "    display: none;\n",
       "}\n",
       "    \n",
       "</style>\n",
       "\n",
       "<div id=\"fig_el39371398736268046884478871677\"></div>\n",
       "<script>\n",
       "function mpld3_load_lib(url, callback){\n",
       "  var s = document.createElement('script');\n",
       "  s.src = url;\n",
       "  s.async = true;\n",
       "  s.onreadystatechange = s.onload = callback;\n",
       "  s.onerror = function(){console.warn(\"failed to load library \" + url);};\n",
       "  document.getElementsByTagName(\"head\")[0].appendChild(s);\n",
       "}\n",
       "\n",
       "if(typeof(mpld3) !== \"undefined\" && mpld3._mpld3IsLoaded){\n",
       "   // already loaded: just create the figure\n",
       "   !function(mpld3){\n",
       "       \n",
       "    mpld3.register_plugin(\"htmltooltip\", HtmlTooltipPlugin);\n",
       "    HtmlTooltipPlugin.prototype = Object.create(mpld3.Plugin.prototype);\n",
       "    HtmlTooltipPlugin.prototype.constructor = HtmlTooltipPlugin;\n",
       "    HtmlTooltipPlugin.prototype.requiredProps = [\"id\"];\n",
       "    HtmlTooltipPlugin.prototype.defaultProps = {labels:null, hoffset:0, voffset:10};\n",
       "    function HtmlTooltipPlugin(fig, props){\n",
       "        mpld3.Plugin.call(this, fig, props);\n",
       "    };\n",
       "\n",
       "    HtmlTooltipPlugin.prototype.draw = function(){\n",
       "       var obj = mpld3.get_element(this.props.id);\n",
       "       var labels = this.props.labels;\n",
       "       var tooltip = d3.select(\"body\").append(\"div\")\n",
       "                    .attr(\"class\", \"mpld3-tooltip\")\n",
       "                    .style(\"position\", \"absolute\")\n",
       "                    .style(\"z-index\", \"10\")\n",
       "                    .style(\"visibility\", \"hidden\");\n",
       "\n",
       "       obj.elements()\n",
       "           .on(\"mouseover\", function(d, i){\n",
       "                              tooltip.html(labels[i])\n",
       "                                     .style(\"visibility\", \"visible\");})\n",
       "           .on(\"mousemove\", function(d, i){\n",
       "                    tooltip\n",
       "                      .style(\"top\", d3.event.pageY + this.props.voffset + \"px\")\n",
       "                      .style(\"left\",d3.event.pageX + this.props.hoffset + \"px\");\n",
       "                 }.bind(this))\n",
       "           .on(\"mouseout\",  function(d, i){\n",
       "                           tooltip.style(\"visibility\", \"hidden\");});\n",
       "    };\n",
       "    \n",
       "       mpld3.draw_figure(\"fig_el39371398736268046884478871677\", {\"axes\": [{\"xlim\": [-0.080000000000000002, 0.93984953229370916], \"yscale\": \"linear\", \"axesbg\": \"#FFFFFF\", \"texts\": [{\"v_baseline\": \"central\", \"h_anchor\": \"middle\", \"color\": \"#000000\", \"text\": \"a\", \"coordinates\": \"data\", \"zorder\": 3, \"alpha\": 1, \"fontsize\": 10.0, \"position\": [0.84929665319075254, 1.0], \"rotation\": -0.0, \"id\": \"el3937139873621400208\"}, {\"v_baseline\": \"central\", \"h_anchor\": \"middle\", \"color\": \"#000000\", \"text\": \"b\", \"coordinates\": \"data\", \"zorder\": 3, \"alpha\": 1, \"fontsize\": 10.0, \"position\": [0.0, 0.46878891618545437], \"rotation\": -0.0, \"id\": \"el3937139873621401424\"}, {\"v_baseline\": \"central\", \"h_anchor\": \"middle\", \"color\": \"#000000\", \"text\": \"a_xor_b\", \"coordinates\": \"data\", \"zorder\": 3, \"alpha\": 1, \"fontsize\": 10.0, \"position\": [0.8598495322937092, 0.0], \"rotation\": -0.0, \"id\": \"el3937139873621398800\"}], \"zoomable\": true, \"images\": [], \"xdomain\": [-0.080000000000000002, 0.93984953229370916], \"ylim\": [-0.080000000000000002, 1.0800000000000001], \"paths\": [], \"sharey\": [], \"sharex\": [], \"axesbgalpha\": null, \"axes\": [{\"scale\": \"linear\", \"tickformat\": null, \"grid\": {\"gridOn\": false}, \"fontsize\": 10.0, \"position\": \"bottom\", \"nticks\": 7, \"tickvalues\": null}, {\"scale\": \"linear\", \"tickformat\": null, \"grid\": {\"gridOn\": false}, \"fontsize\": 10.0, \"position\": \"left\", \"nticks\": 8, \"tickvalues\": null}], \"lines\": [{\"color\": \"#808080\", \"yindex\": 1, \"coordinates\": \"data\", \"dasharray\": \"10,0\", \"zorder\": 2, \"alpha\": 1, \"xindex\": 0, \"linewidth\": 1.0, \"data\": \"data01\", \"id\": \"el3937139873621022800\"}, {\"color\": \"#000000\", \"yindex\": 1, \"coordinates\": \"data\", \"dasharray\": \"10,0\", \"zorder\": 2, \"alpha\": 0.5, \"xindex\": 0, \"linewidth\": 5.0, \"data\": \"data02\", \"id\": \"el3937139873621022608\"}, {\"color\": \"#808080\", \"yindex\": 1, \"coordinates\": \"data\", \"dasharray\": \"10,0\", \"zorder\": 2, \"alpha\": 1, \"xindex\": 0, \"linewidth\": 1.0, \"data\": \"data03\", \"id\": \"el3937139873621021136\"}, {\"color\": \"#000000\", \"yindex\": 1, \"coordinates\": \"data\", \"dasharray\": \"10,0\", \"zorder\": 2, \"alpha\": 0.5, \"xindex\": 0, \"linewidth\": 5.0, \"data\": \"data04\", \"id\": \"el3937139873621248848\"}], \"markers\": [{\"edgecolor\": \"#000000\", \"facecolor\": \"#D3D3D3\", \"edgewidth\": 1, \"yindex\": 1, \"coordinates\": \"data\", \"zorder\": 2, \"markerpath\": [[[0.0, 10.0], [2.652031, 10.0], [5.195798707848534, 8.946336915882418], [7.0710678118654755, 7.0710678118654755], [8.946336915882418, 5.195798707848534], [10.0, 2.652031], [10.0, 0.0], [10.0, -2.652031], [8.946336915882418, -5.195798707848534], [7.0710678118654755, -7.0710678118654755], [5.195798707848534, -8.946336915882418], [2.652031, -10.0], [0.0, -10.0], [-2.652031, -10.0], [-5.195798707848534, -8.946336915882418], [-7.0710678118654755, -7.0710678118654755], [-8.946336915882418, -5.195798707848534], [-10.0, -2.652031], [-10.0, 0.0], [-10.0, 2.652031], [-8.946336915882418, 5.195798707848534], [-7.0710678118654755, 7.0710678118654755], [-5.195798707848534, 8.946336915882418], [-2.652031, 10.0], [0.0, 10.0]], [\"M\", \"C\", \"C\", \"C\", \"C\", \"C\", \"C\", \"C\", \"C\", \"Z\"]], \"alpha\": 1.0, \"xindex\": 0, \"data\": \"data05\", \"id\": \"el3937139873621346384pts\"}, {\"edgecolor\": \"#000000\", \"facecolor\": \"#D3D3D3\", \"edgewidth\": 1, \"yindex\": 1, \"coordinates\": \"data\", \"zorder\": 2, \"markerpath\": [[[0.0, 20.0], [5.304062, 20.0], [10.391597415697069, 17.892673831764835], [14.142135623730951, 14.142135623730951], [17.892673831764835, 10.391597415697069], [20.0, 5.304062], [20.0, 0.0], [20.0, -5.304062], [17.892673831764835, -10.391597415697069], [14.142135623730951, -14.142135623730951], [10.391597415697069, -17.892673831764835], [5.304062, -20.0], [0.0, -20.0], [-5.304062, -20.0], [-10.391597415697069, -17.892673831764835], [-14.142135623730951, -14.142135623730951], [-17.892673831764835, -10.391597415697069], [-20.0, -5.304062], [-20.0, 0.0], [-20.0, 5.304062], [-17.892673831764835, 10.391597415697069], [-14.142135623730951, 14.142135623730951], [-10.391597415697069, 17.892673831764835], [-5.304062, 20.0], [0.0, 20.0]], [\"M\", \"C\", \"C\", \"C\", \"C\", \"C\", \"C\", \"C\", \"C\", \"Z\"]], \"alpha\": 0.0, \"xindex\": 0, \"data\": \"data05\", \"id\": \"el3937139873621248144pts\"}], \"id\": \"el3937139873626804816\", \"ydomain\": [-0.080000000000000002, 1.0800000000000001], \"collections\": [], \"xscale\": \"linear\", \"bbox\": [0.125, 0.125, 0.77500000000000002, 0.77500000000000002]}], \"height\": 640.0, \"width\": 960.0, \"plugins\": [{\"type\": \"reset\"}, {\"enabled\": false, \"button\": true, \"type\": \"zoom\"}, {\"enabled\": false, \"button\": true, \"type\": \"boxzoom\"}, {\"voffset\": 10, \"labels\": [\"<table border=\\\"1\\\" cellpadding=\\\"4\\\" cellspacing=\\\"0\\\" bordercolor=\\\"#000000\\\">\\n<tr bgcolor=\\\"#AAAAAA\\\">\\n<th align=\\\"center\\\">a</th>\\n<th align=\\\"center\\\">Prob.</th>\\n</tr>\\n<tr>\\n<td bgcolor=#FFFFFF>0</td>\\n<td bgcolor=#fed9a6>0.500</td>\\n</tr>\\n<tr>\\n<td bgcolor=#FFFFFF>1</td>\\n<td bgcolor=#fed9a6>0.500</td>\\n</tr>\\n</table>\", \"<table border=\\\"1\\\" cellpadding=\\\"4\\\" cellspacing=\\\"0\\\" bordercolor=\\\"#000000\\\">\\n<tr bgcolor=\\\"#AAAAAA\\\">\\n<th align=\\\"center\\\">b</th>\\n<th align=\\\"center\\\">Prob.</th>\\n</tr>\\n<tr>\\n<td bgcolor=#FFFFFF>0</td>\\n<td bgcolor=#fed9a6>0.500</td>\\n</tr>\\n<tr>\\n<td bgcolor=#FFFFFF>1</td>\\n<td bgcolor=#fed9a6>0.500</td>\\n</tr>\\n</table>\", \"<table border=\\\"1\\\" cellpadding=\\\"4\\\" cellspacing=\\\"0\\\" bordercolor=\\\"#000000\\\">\\n<tr bgcolor=\\\"#AAAAAA\\\">\\n<th align=\\\"center\\\">a</th>\\n<th align=\\\"center\\\">b</th>\\n<th align=\\\"center\\\">a_xor_b</th>\\n<th align=\\\"center\\\">Prob.</th>\\n</tr>\\n<tr>\\n<td bgcolor=#FFFFFF>0</td>\\n<td bgcolor=#FFFFFF>0</td>\\n<td bgcolor=#FFFFFF>0</td>\\n<td bgcolor=#fadfed>0.900</td>\\n</tr>\\n<tr>\\n<td bgcolor=#FFFFFF>0</td>\\n<td bgcolor=#FFFFFF>0</td>\\n<td bgcolor=#FFFFFF>1</td>\\n<td bgcolor=#c2c7d7>0.100</td>\\n</tr>\\n<tr>\\n<td bgcolor=#FFFFFF>0</td>\\n<td bgcolor=#FFFFFF>1</td>\\n<td bgcolor=#FFFFFF>0</td>\\n<td bgcolor=#c2c7d7>0.100</td>\\n</tr>\\n<tr>\\n<td bgcolor=#FFFFFF>0</td>\\n<td bgcolor=#FFFFFF>1</td>\\n<td bgcolor=#FFFFFF>1</td>\\n<td bgcolor=#fadfed>0.900</td>\\n</tr>\\n<tr>\\n<td bgcolor=#FFFFFF>1</td>\\n<td bgcolor=#FFFFFF>0</td>\\n<td bgcolor=#FFFFFF>0</td>\\n<td bgcolor=#c2c7d7>0.100</td>\\n</tr>\\n<tr>\\n<td bgcolor=#FFFFFF>1</td>\\n<td bgcolor=#FFFFFF>0</td>\\n<td bgcolor=#FFFFFF>1</td>\\n<td bgcolor=#fadfed>0.900</td>\\n</tr>\\n<tr>\\n<td bgcolor=#FFFFFF>1</td>\\n<td bgcolor=#FFFFFF>1</td>\\n<td bgcolor=#FFFFFF>0</td>\\n<td bgcolor=#fadfed>0.900</td>\\n</tr>\\n<tr>\\n<td bgcolor=#FFFFFF>1</td>\\n<td bgcolor=#FFFFFF>1</td>\\n<td bgcolor=#FFFFFF>1</td>\\n<td bgcolor=#c2c7d7>0.100</td>\\n</tr>\\n</table>\"], \"type\": \"htmltooltip\", \"id\": \"el3937139873621248144pts\", \"hoffset\": 10}], \"data\": {\"data04\": [[0.7308721024496528, 0.07031833742781815], [0.8598495322937092, 0.0]], \"data05\": [[0.8492966531907525, 1.0], [0.0, 0.4687889161854544], [0.8598495322937092, 0.0]], \"data02\": [[0.8582666004282657, 0.15], [0.8598495322937092, 0.0]], \"data03\": [[0.0, 0.4687889161854544], [0.8598495322937092, 0.0]], \"data01\": [[0.8492966531907525, 1.0], [0.8598495322937092, 0.0]]}, \"id\": \"el3937139873626804688\"});\n",
       "   }(mpld3);\n",
       "}else if(typeof define === \"function\" && define.amd){\n",
       "   // require.js is available: use it to load d3/mpld3\n",
       "   require.config({paths: {d3: \"https://mpld3.github.io/js/d3.v3.min\"}});\n",
       "   require([\"d3\"], function(d3){\n",
       "      window.d3 = d3;\n",
       "      mpld3_load_lib(\"https://mpld3.github.io/js/mpld3.v0.2.js\", function(){\n",
       "         \n",
       "    mpld3.register_plugin(\"htmltooltip\", HtmlTooltipPlugin);\n",
       "    HtmlTooltipPlugin.prototype = Object.create(mpld3.Plugin.prototype);\n",
       "    HtmlTooltipPlugin.prototype.constructor = HtmlTooltipPlugin;\n",
       "    HtmlTooltipPlugin.prototype.requiredProps = [\"id\"];\n",
       "    HtmlTooltipPlugin.prototype.defaultProps = {labels:null, hoffset:0, voffset:10};\n",
       "    function HtmlTooltipPlugin(fig, props){\n",
       "        mpld3.Plugin.call(this, fig, props);\n",
       "    };\n",
       "\n",
       "    HtmlTooltipPlugin.prototype.draw = function(){\n",
       "       var obj = mpld3.get_element(this.props.id);\n",
       "       var labels = this.props.labels;\n",
       "       var tooltip = d3.select(\"body\").append(\"div\")\n",
       "                    .attr(\"class\", \"mpld3-tooltip\")\n",
       "                    .style(\"position\", \"absolute\")\n",
       "                    .style(\"z-index\", \"10\")\n",
       "                    .style(\"visibility\", \"hidden\");\n",
       "\n",
       "       obj.elements()\n",
       "           .on(\"mouseover\", function(d, i){\n",
       "                              tooltip.html(labels[i])\n",
       "                                     .style(\"visibility\", \"visible\");})\n",
       "           .on(\"mousemove\", function(d, i){\n",
       "                    tooltip\n",
       "                      .style(\"top\", d3.event.pageY + this.props.voffset + \"px\")\n",
       "                      .style(\"left\",d3.event.pageX + this.props.hoffset + \"px\");\n",
       "                 }.bind(this))\n",
       "           .on(\"mouseout\",  function(d, i){\n",
       "                           tooltip.style(\"visibility\", \"hidden\");});\n",
       "    };\n",
       "    \n",
       "         mpld3.draw_figure(\"fig_el39371398736268046884478871677\", {\"axes\": [{\"xlim\": [-0.080000000000000002, 0.93984953229370916], \"yscale\": \"linear\", \"axesbg\": \"#FFFFFF\", \"texts\": [{\"v_baseline\": \"central\", \"h_anchor\": \"middle\", \"color\": \"#000000\", \"text\": \"a\", \"coordinates\": \"data\", \"zorder\": 3, \"alpha\": 1, \"fontsize\": 10.0, \"position\": [0.84929665319075254, 1.0], \"rotation\": -0.0, \"id\": \"el3937139873621400208\"}, {\"v_baseline\": \"central\", \"h_anchor\": \"middle\", \"color\": \"#000000\", \"text\": \"b\", \"coordinates\": \"data\", \"zorder\": 3, \"alpha\": 1, \"fontsize\": 10.0, \"position\": [0.0, 0.46878891618545437], \"rotation\": -0.0, \"id\": \"el3937139873621401424\"}, {\"v_baseline\": \"central\", \"h_anchor\": \"middle\", \"color\": \"#000000\", \"text\": \"a_xor_b\", \"coordinates\": \"data\", \"zorder\": 3, \"alpha\": 1, \"fontsize\": 10.0, \"position\": [0.8598495322937092, 0.0], \"rotation\": -0.0, \"id\": \"el3937139873621398800\"}], \"zoomable\": true, \"images\": [], \"xdomain\": [-0.080000000000000002, 0.93984953229370916], \"ylim\": [-0.080000000000000002, 1.0800000000000001], \"paths\": [], \"sharey\": [], \"sharex\": [], \"axesbgalpha\": null, \"axes\": [{\"scale\": \"linear\", \"tickformat\": null, \"grid\": {\"gridOn\": false}, \"fontsize\": 10.0, \"position\": \"bottom\", \"nticks\": 7, \"tickvalues\": null}, {\"scale\": \"linear\", \"tickformat\": null, \"grid\": {\"gridOn\": false}, \"fontsize\": 10.0, \"position\": \"left\", \"nticks\": 8, \"tickvalues\": null}], \"lines\": [{\"color\": \"#808080\", \"yindex\": 1, \"coordinates\": \"data\", \"dasharray\": \"10,0\", \"zorder\": 2, \"alpha\": 1, \"xindex\": 0, \"linewidth\": 1.0, \"data\": \"data01\", \"id\": \"el3937139873621022800\"}, {\"color\": \"#000000\", \"yindex\": 1, \"coordinates\": \"data\", \"dasharray\": \"10,0\", \"zorder\": 2, \"alpha\": 0.5, \"xindex\": 0, \"linewidth\": 5.0, \"data\": \"data02\", \"id\": \"el3937139873621022608\"}, {\"color\": \"#808080\", \"yindex\": 1, \"coordinates\": \"data\", \"dasharray\": \"10,0\", \"zorder\": 2, \"alpha\": 1, \"xindex\": 0, \"linewidth\": 1.0, \"data\": \"data03\", \"id\": \"el3937139873621021136\"}, {\"color\": \"#000000\", \"yindex\": 1, \"coordinates\": \"data\", \"dasharray\": \"10,0\", \"zorder\": 2, \"alpha\": 0.5, \"xindex\": 0, \"linewidth\": 5.0, \"data\": \"data04\", \"id\": \"el3937139873621248848\"}], \"markers\": [{\"edgecolor\": \"#000000\", \"facecolor\": \"#D3D3D3\", \"edgewidth\": 1, \"yindex\": 1, \"coordinates\": \"data\", \"zorder\": 2, \"markerpath\": [[[0.0, 10.0], [2.652031, 10.0], [5.195798707848534, 8.946336915882418], [7.0710678118654755, 7.0710678118654755], [8.946336915882418, 5.195798707848534], [10.0, 2.652031], [10.0, 0.0], [10.0, -2.652031], [8.946336915882418, -5.195798707848534], [7.0710678118654755, -7.0710678118654755], [5.195798707848534, -8.946336915882418], [2.652031, -10.0], [0.0, -10.0], [-2.652031, -10.0], [-5.195798707848534, -8.946336915882418], [-7.0710678118654755, -7.0710678118654755], [-8.946336915882418, -5.195798707848534], [-10.0, -2.652031], [-10.0, 0.0], [-10.0, 2.652031], [-8.946336915882418, 5.195798707848534], [-7.0710678118654755, 7.0710678118654755], [-5.195798707848534, 8.946336915882418], [-2.652031, 10.0], [0.0, 10.0]], [\"M\", \"C\", \"C\", \"C\", \"C\", \"C\", \"C\", \"C\", \"C\", \"Z\"]], \"alpha\": 1.0, \"xindex\": 0, \"data\": \"data05\", \"id\": \"el3937139873621346384pts\"}, {\"edgecolor\": \"#000000\", \"facecolor\": \"#D3D3D3\", \"edgewidth\": 1, \"yindex\": 1, \"coordinates\": \"data\", \"zorder\": 2, \"markerpath\": [[[0.0, 20.0], [5.304062, 20.0], [10.391597415697069, 17.892673831764835], [14.142135623730951, 14.142135623730951], [17.892673831764835, 10.391597415697069], [20.0, 5.304062], [20.0, 0.0], [20.0, -5.304062], [17.892673831764835, -10.391597415697069], [14.142135623730951, -14.142135623730951], [10.391597415697069, -17.892673831764835], [5.304062, -20.0], [0.0, -20.0], [-5.304062, -20.0], [-10.391597415697069, -17.892673831764835], [-14.142135623730951, -14.142135623730951], [-17.892673831764835, -10.391597415697069], [-20.0, -5.304062], [-20.0, 0.0], [-20.0, 5.304062], [-17.892673831764835, 10.391597415697069], [-14.142135623730951, 14.142135623730951], [-10.391597415697069, 17.892673831764835], [-5.304062, 20.0], [0.0, 20.0]], [\"M\", \"C\", \"C\", \"C\", \"C\", \"C\", \"C\", \"C\", \"C\", \"Z\"]], \"alpha\": 0.0, \"xindex\": 0, \"data\": \"data05\", \"id\": \"el3937139873621248144pts\"}], \"id\": \"el3937139873626804816\", \"ydomain\": [-0.080000000000000002, 1.0800000000000001], \"collections\": [], \"xscale\": \"linear\", \"bbox\": [0.125, 0.125, 0.77500000000000002, 0.77500000000000002]}], \"height\": 640.0, \"width\": 960.0, \"plugins\": [{\"type\": \"reset\"}, {\"enabled\": false, \"button\": true, \"type\": \"zoom\"}, {\"enabled\": false, \"button\": true, \"type\": \"boxzoom\"}, {\"voffset\": 10, \"labels\": [\"<table border=\\\"1\\\" cellpadding=\\\"4\\\" cellspacing=\\\"0\\\" bordercolor=\\\"#000000\\\">\\n<tr bgcolor=\\\"#AAAAAA\\\">\\n<th align=\\\"center\\\">a</th>\\n<th align=\\\"center\\\">Prob.</th>\\n</tr>\\n<tr>\\n<td bgcolor=#FFFFFF>0</td>\\n<td bgcolor=#fed9a6>0.500</td>\\n</tr>\\n<tr>\\n<td bgcolor=#FFFFFF>1</td>\\n<td bgcolor=#fed9a6>0.500</td>\\n</tr>\\n</table>\", \"<table border=\\\"1\\\" cellpadding=\\\"4\\\" cellspacing=\\\"0\\\" bordercolor=\\\"#000000\\\">\\n<tr bgcolor=\\\"#AAAAAA\\\">\\n<th align=\\\"center\\\">b</th>\\n<th align=\\\"center\\\">Prob.</th>\\n</tr>\\n<tr>\\n<td bgcolor=#FFFFFF>0</td>\\n<td bgcolor=#fed9a6>0.500</td>\\n</tr>\\n<tr>\\n<td bgcolor=#FFFFFF>1</td>\\n<td bgcolor=#fed9a6>0.500</td>\\n</tr>\\n</table>\", \"<table border=\\\"1\\\" cellpadding=\\\"4\\\" cellspacing=\\\"0\\\" bordercolor=\\\"#000000\\\">\\n<tr bgcolor=\\\"#AAAAAA\\\">\\n<th align=\\\"center\\\">a</th>\\n<th align=\\\"center\\\">b</th>\\n<th align=\\\"center\\\">a_xor_b</th>\\n<th align=\\\"center\\\">Prob.</th>\\n</tr>\\n<tr>\\n<td bgcolor=#FFFFFF>0</td>\\n<td bgcolor=#FFFFFF>0</td>\\n<td bgcolor=#FFFFFF>0</td>\\n<td bgcolor=#fadfed>0.900</td>\\n</tr>\\n<tr>\\n<td bgcolor=#FFFFFF>0</td>\\n<td bgcolor=#FFFFFF>0</td>\\n<td bgcolor=#FFFFFF>1</td>\\n<td bgcolor=#c2c7d7>0.100</td>\\n</tr>\\n<tr>\\n<td bgcolor=#FFFFFF>0</td>\\n<td bgcolor=#FFFFFF>1</td>\\n<td bgcolor=#FFFFFF>0</td>\\n<td bgcolor=#c2c7d7>0.100</td>\\n</tr>\\n<tr>\\n<td bgcolor=#FFFFFF>0</td>\\n<td bgcolor=#FFFFFF>1</td>\\n<td bgcolor=#FFFFFF>1</td>\\n<td bgcolor=#fadfed>0.900</td>\\n</tr>\\n<tr>\\n<td bgcolor=#FFFFFF>1</td>\\n<td bgcolor=#FFFFFF>0</td>\\n<td bgcolor=#FFFFFF>0</td>\\n<td bgcolor=#c2c7d7>0.100</td>\\n</tr>\\n<tr>\\n<td bgcolor=#FFFFFF>1</td>\\n<td bgcolor=#FFFFFF>0</td>\\n<td bgcolor=#FFFFFF>1</td>\\n<td bgcolor=#fadfed>0.900</td>\\n</tr>\\n<tr>\\n<td bgcolor=#FFFFFF>1</td>\\n<td bgcolor=#FFFFFF>1</td>\\n<td bgcolor=#FFFFFF>0</td>\\n<td bgcolor=#fadfed>0.900</td>\\n</tr>\\n<tr>\\n<td bgcolor=#FFFFFF>1</td>\\n<td bgcolor=#FFFFFF>1</td>\\n<td bgcolor=#FFFFFF>1</td>\\n<td bgcolor=#c2c7d7>0.100</td>\\n</tr>\\n</table>\"], \"type\": \"htmltooltip\", \"id\": \"el3937139873621248144pts\", \"hoffset\": 10}], \"data\": {\"data04\": [[0.7308721024496528, 0.07031833742781815], [0.8598495322937092, 0.0]], \"data05\": [[0.8492966531907525, 1.0], [0.0, 0.4687889161854544], [0.8598495322937092, 0.0]], \"data02\": [[0.8582666004282657, 0.15], [0.8598495322937092, 0.0]], \"data03\": [[0.0, 0.4687889161854544], [0.8598495322937092, 0.0]], \"data01\": [[0.8492966531907525, 1.0], [0.8598495322937092, 0.0]]}, \"id\": \"el3937139873626804688\"});\n",
       "      });\n",
       "    });\n",
       "}else{\n",
       "    // require.js not available: dynamically load d3 & mpld3\n",
       "    mpld3_load_lib(\"https://mpld3.github.io/js/d3.v3.min.js\", function(){\n",
       "         mpld3_load_lib(\"https://mpld3.github.io/js/mpld3.v0.2.js\", function(){\n",
       "                 \n",
       "    mpld3.register_plugin(\"htmltooltip\", HtmlTooltipPlugin);\n",
       "    HtmlTooltipPlugin.prototype = Object.create(mpld3.Plugin.prototype);\n",
       "    HtmlTooltipPlugin.prototype.constructor = HtmlTooltipPlugin;\n",
       "    HtmlTooltipPlugin.prototype.requiredProps = [\"id\"];\n",
       "    HtmlTooltipPlugin.prototype.defaultProps = {labels:null, hoffset:0, voffset:10};\n",
       "    function HtmlTooltipPlugin(fig, props){\n",
       "        mpld3.Plugin.call(this, fig, props);\n",
       "    };\n",
       "\n",
       "    HtmlTooltipPlugin.prototype.draw = function(){\n",
       "       var obj = mpld3.get_element(this.props.id);\n",
       "       var labels = this.props.labels;\n",
       "       var tooltip = d3.select(\"body\").append(\"div\")\n",
       "                    .attr(\"class\", \"mpld3-tooltip\")\n",
       "                    .style(\"position\", \"absolute\")\n",
       "                    .style(\"z-index\", \"10\")\n",
       "                    .style(\"visibility\", \"hidden\");\n",
       "\n",
       "       obj.elements()\n",
       "           .on(\"mouseover\", function(d, i){\n",
       "                              tooltip.html(labels[i])\n",
       "                                     .style(\"visibility\", \"visible\");})\n",
       "           .on(\"mousemove\", function(d, i){\n",
       "                    tooltip\n",
       "                      .style(\"top\", d3.event.pageY + this.props.voffset + \"px\")\n",
       "                      .style(\"left\",d3.event.pageX + this.props.hoffset + \"px\");\n",
       "                 }.bind(this))\n",
       "           .on(\"mouseout\",  function(d, i){\n",
       "                           tooltip.style(\"visibility\", \"hidden\");});\n",
       "    };\n",
       "    \n",
       "                 mpld3.draw_figure(\"fig_el39371398736268046884478871677\", {\"axes\": [{\"xlim\": [-0.080000000000000002, 0.93984953229370916], \"yscale\": \"linear\", \"axesbg\": \"#FFFFFF\", \"texts\": [{\"v_baseline\": \"central\", \"h_anchor\": \"middle\", \"color\": \"#000000\", \"text\": \"a\", \"coordinates\": \"data\", \"zorder\": 3, \"alpha\": 1, \"fontsize\": 10.0, \"position\": [0.84929665319075254, 1.0], \"rotation\": -0.0, \"id\": \"el3937139873621400208\"}, {\"v_baseline\": \"central\", \"h_anchor\": \"middle\", \"color\": \"#000000\", \"text\": \"b\", \"coordinates\": \"data\", \"zorder\": 3, \"alpha\": 1, \"fontsize\": 10.0, \"position\": [0.0, 0.46878891618545437], \"rotation\": -0.0, \"id\": \"el3937139873621401424\"}, {\"v_baseline\": \"central\", \"h_anchor\": \"middle\", \"color\": \"#000000\", \"text\": \"a_xor_b\", \"coordinates\": \"data\", \"zorder\": 3, \"alpha\": 1, \"fontsize\": 10.0, \"position\": [0.8598495322937092, 0.0], \"rotation\": -0.0, \"id\": \"el3937139873621398800\"}], \"zoomable\": true, \"images\": [], \"xdomain\": [-0.080000000000000002, 0.93984953229370916], \"ylim\": [-0.080000000000000002, 1.0800000000000001], \"paths\": [], \"sharey\": [], \"sharex\": [], \"axesbgalpha\": null, \"axes\": [{\"scale\": \"linear\", \"tickformat\": null, \"grid\": {\"gridOn\": false}, \"fontsize\": 10.0, \"position\": \"bottom\", \"nticks\": 7, \"tickvalues\": null}, {\"scale\": \"linear\", \"tickformat\": null, \"grid\": {\"gridOn\": false}, \"fontsize\": 10.0, \"position\": \"left\", \"nticks\": 8, \"tickvalues\": null}], \"lines\": [{\"color\": \"#808080\", \"yindex\": 1, \"coordinates\": \"data\", \"dasharray\": \"10,0\", \"zorder\": 2, \"alpha\": 1, \"xindex\": 0, \"linewidth\": 1.0, \"data\": \"data01\", \"id\": \"el3937139873621022800\"}, {\"color\": \"#000000\", \"yindex\": 1, \"coordinates\": \"data\", \"dasharray\": \"10,0\", \"zorder\": 2, \"alpha\": 0.5, \"xindex\": 0, \"linewidth\": 5.0, \"data\": \"data02\", \"id\": \"el3937139873621022608\"}, {\"color\": \"#808080\", \"yindex\": 1, \"coordinates\": \"data\", \"dasharray\": \"10,0\", \"zorder\": 2, \"alpha\": 1, \"xindex\": 0, \"linewidth\": 1.0, \"data\": \"data03\", \"id\": \"el3937139873621021136\"}, {\"color\": \"#000000\", \"yindex\": 1, \"coordinates\": \"data\", \"dasharray\": \"10,0\", \"zorder\": 2, \"alpha\": 0.5, \"xindex\": 0, \"linewidth\": 5.0, \"data\": \"data04\", \"id\": \"el3937139873621248848\"}], \"markers\": [{\"edgecolor\": \"#000000\", \"facecolor\": \"#D3D3D3\", \"edgewidth\": 1, \"yindex\": 1, \"coordinates\": \"data\", \"zorder\": 2, \"markerpath\": [[[0.0, 10.0], [2.652031, 10.0], [5.195798707848534, 8.946336915882418], [7.0710678118654755, 7.0710678118654755], [8.946336915882418, 5.195798707848534], [10.0, 2.652031], [10.0, 0.0], [10.0, -2.652031], [8.946336915882418, -5.195798707848534], [7.0710678118654755, -7.0710678118654755], [5.195798707848534, -8.946336915882418], [2.652031, -10.0], [0.0, -10.0], [-2.652031, -10.0], [-5.195798707848534, -8.946336915882418], [-7.0710678118654755, -7.0710678118654755], [-8.946336915882418, -5.195798707848534], [-10.0, -2.652031], [-10.0, 0.0], [-10.0, 2.652031], [-8.946336915882418, 5.195798707848534], [-7.0710678118654755, 7.0710678118654755], [-5.195798707848534, 8.946336915882418], [-2.652031, 10.0], [0.0, 10.0]], [\"M\", \"C\", \"C\", \"C\", \"C\", \"C\", \"C\", \"C\", \"C\", \"Z\"]], \"alpha\": 1.0, \"xindex\": 0, \"data\": \"data05\", \"id\": \"el3937139873621346384pts\"}, {\"edgecolor\": \"#000000\", \"facecolor\": \"#D3D3D3\", \"edgewidth\": 1, \"yindex\": 1, \"coordinates\": \"data\", \"zorder\": 2, \"markerpath\": [[[0.0, 20.0], [5.304062, 20.0], [10.391597415697069, 17.892673831764835], [14.142135623730951, 14.142135623730951], [17.892673831764835, 10.391597415697069], [20.0, 5.304062], [20.0, 0.0], [20.0, -5.304062], [17.892673831764835, -10.391597415697069], [14.142135623730951, -14.142135623730951], [10.391597415697069, -17.892673831764835], [5.304062, -20.0], [0.0, -20.0], [-5.304062, -20.0], [-10.391597415697069, -17.892673831764835], [-14.142135623730951, -14.142135623730951], [-17.892673831764835, -10.391597415697069], [-20.0, -5.304062], [-20.0, 0.0], [-20.0, 5.304062], [-17.892673831764835, 10.391597415697069], [-14.142135623730951, 14.142135623730951], [-10.391597415697069, 17.892673831764835], [-5.304062, 20.0], [0.0, 20.0]], [\"M\", \"C\", \"C\", \"C\", \"C\", \"C\", \"C\", \"C\", \"C\", \"Z\"]], \"alpha\": 0.0, \"xindex\": 0, \"data\": \"data05\", \"id\": \"el3937139873621248144pts\"}], \"id\": \"el3937139873626804816\", \"ydomain\": [-0.080000000000000002, 1.0800000000000001], \"collections\": [], \"xscale\": \"linear\", \"bbox\": [0.125, 0.125, 0.77500000000000002, 0.77500000000000002]}], \"height\": 640.0, \"width\": 960.0, \"plugins\": [{\"type\": \"reset\"}, {\"enabled\": false, \"button\": true, \"type\": \"zoom\"}, {\"enabled\": false, \"button\": true, \"type\": \"boxzoom\"}, {\"voffset\": 10, \"labels\": [\"<table border=\\\"1\\\" cellpadding=\\\"4\\\" cellspacing=\\\"0\\\" bordercolor=\\\"#000000\\\">\\n<tr bgcolor=\\\"#AAAAAA\\\">\\n<th align=\\\"center\\\">a</th>\\n<th align=\\\"center\\\">Prob.</th>\\n</tr>\\n<tr>\\n<td bgcolor=#FFFFFF>0</td>\\n<td bgcolor=#fed9a6>0.500</td>\\n</tr>\\n<tr>\\n<td bgcolor=#FFFFFF>1</td>\\n<td bgcolor=#fed9a6>0.500</td>\\n</tr>\\n</table>\", \"<table border=\\\"1\\\" cellpadding=\\\"4\\\" cellspacing=\\\"0\\\" bordercolor=\\\"#000000\\\">\\n<tr bgcolor=\\\"#AAAAAA\\\">\\n<th align=\\\"center\\\">b</th>\\n<th align=\\\"center\\\">Prob.</th>\\n</tr>\\n<tr>\\n<td bgcolor=#FFFFFF>0</td>\\n<td bgcolor=#fed9a6>0.500</td>\\n</tr>\\n<tr>\\n<td bgcolor=#FFFFFF>1</td>\\n<td bgcolor=#fed9a6>0.500</td>\\n</tr>\\n</table>\", \"<table border=\\\"1\\\" cellpadding=\\\"4\\\" cellspacing=\\\"0\\\" bordercolor=\\\"#000000\\\">\\n<tr bgcolor=\\\"#AAAAAA\\\">\\n<th align=\\\"center\\\">a</th>\\n<th align=\\\"center\\\">b</th>\\n<th align=\\\"center\\\">a_xor_b</th>\\n<th align=\\\"center\\\">Prob.</th>\\n</tr>\\n<tr>\\n<td bgcolor=#FFFFFF>0</td>\\n<td bgcolor=#FFFFFF>0</td>\\n<td bgcolor=#FFFFFF>0</td>\\n<td bgcolor=#fadfed>0.900</td>\\n</tr>\\n<tr>\\n<td bgcolor=#FFFFFF>0</td>\\n<td bgcolor=#FFFFFF>0</td>\\n<td bgcolor=#FFFFFF>1</td>\\n<td bgcolor=#c2c7d7>0.100</td>\\n</tr>\\n<tr>\\n<td bgcolor=#FFFFFF>0</td>\\n<td bgcolor=#FFFFFF>1</td>\\n<td bgcolor=#FFFFFF>0</td>\\n<td bgcolor=#c2c7d7>0.100</td>\\n</tr>\\n<tr>\\n<td bgcolor=#FFFFFF>0</td>\\n<td bgcolor=#FFFFFF>1</td>\\n<td bgcolor=#FFFFFF>1</td>\\n<td bgcolor=#fadfed>0.900</td>\\n</tr>\\n<tr>\\n<td bgcolor=#FFFFFF>1</td>\\n<td bgcolor=#FFFFFF>0</td>\\n<td bgcolor=#FFFFFF>0</td>\\n<td bgcolor=#c2c7d7>0.100</td>\\n</tr>\\n<tr>\\n<td bgcolor=#FFFFFF>1</td>\\n<td bgcolor=#FFFFFF>0</td>\\n<td bgcolor=#FFFFFF>1</td>\\n<td bgcolor=#fadfed>0.900</td>\\n</tr>\\n<tr>\\n<td bgcolor=#FFFFFF>1</td>\\n<td bgcolor=#FFFFFF>1</td>\\n<td bgcolor=#FFFFFF>0</td>\\n<td bgcolor=#fadfed>0.900</td>\\n</tr>\\n<tr>\\n<td bgcolor=#FFFFFF>1</td>\\n<td bgcolor=#FFFFFF>1</td>\\n<td bgcolor=#FFFFFF>1</td>\\n<td bgcolor=#c2c7d7>0.100</td>\\n</tr>\\n</table>\"], \"type\": \"htmltooltip\", \"id\": \"el3937139873621248144pts\", \"hoffset\": 10}], \"data\": {\"data04\": [[0.7308721024496528, 0.07031833742781815], [0.8598495322937092, 0.0]], \"data05\": [[0.8492966531907525, 1.0], [0.0, 0.4687889161854544], [0.8598495322937092, 0.0]], \"data02\": [[0.8582666004282657, 0.15], [0.8598495322937092, 0.0]], \"data03\": [[0.0, 0.4687889161854544], [0.8598495322937092, 0.0]], \"data01\": [[0.8492966531907525, 1.0], [0.8598495322937092, 0.0]]}, \"id\": \"el3937139873626804688\"});\n",
       "            })\n",
       "         });\n",
       "}\n",
       "</script>"
      ],
      "text/plain": [
       "<IPython.core.display.HTML object>"
      ]
     },
     "execution_count": 196,
     "metadata": {},
     "output_type": "execute_result"
    }
   ],
   "source": [
    "arguments = ['a', 'b', 'a_xor_b']\n",
    "dgm = gm.DGM()\n",
    "dgm.add_nodes_from(arguments)\n",
    "dgm.add_edges_from([('a', 'a_xor_b'), ('b', 'a_xor_b')])\n",
    "dgm.node['a']['cpd'] = gm.TableFactor(arguments, ['a'])\n",
    "dgm.node['a']['cpd'].table = np.array([[[0.5]], [[0.5]]])\n",
    "dgm.node['b']['cpd'] = gm.TableFactor(arguments, ['b'])\n",
    "dgm.node['b']['cpd'].table = np.array([[[0.5], [0.5]]])\n",
    "dgm.node['a_xor_b']['cpd'] = gm.TableFactor(arguments, ['a', 'b', 'a_xor_b'])\n",
    "dgm.node['a_xor_b']['cpd'].table = np.array([[[0.9, 0.1], [0.1, 0.9]], [[0.1, 0.9], [0.9, 0.1]]])\n",
    "dgm.draw()"
   ]
  },
  {
   "cell_type": "code",
   "execution_count": 197,
   "metadata": {
    "collapsed": true
   },
   "outputs": [],
   "source": [
    "data = dgm.rvs(size=10000)"
   ]
  },
  {
   "cell_type": "code",
   "execution_count": 198,
   "metadata": {
    "collapsed": true
   },
   "outputs": [],
   "source": [
    "fact = dgm.cpd('a_xor_b')"
   ]
  },
  {
   "cell_type": "code",
   "execution_count": 199,
   "metadata": {
    "collapsed": false
   },
   "outputs": [
    {
     "name": "stdout",
     "output_type": "stream",
     "text": [
      "['a', 'b']\n",
      "2\n"
     ]
    }
   ],
   "source": [
    "target = 'a_xor_b'\n",
    "args = list(fact.arguments)\n",
    "args.remove(target)\n",
    "print(args)\n",
    "print(len(args))"
   ]
  },
  {
   "cell_type": "code",
   "execution_count": 200,
   "metadata": {
    "collapsed": false
   },
   "outputs": [],
   "source": [
    "mi_array = np.array([gm.information.discrete_mutual_information(data[[target]], data[[current]]) for current in args])\n",
    "def score(subset):\n",
    "    return np.dot(subset, mi_array)"
   ]
  },
  {
   "cell_type": "code",
   "execution_count": 201,
   "metadata": {
    "collapsed": false
   },
   "outputs": [],
   "source": [
    "X_train, y_train = generate_subset(target, fact, kmin=0, kmax=2, size=100)"
   ]
  },
  {
   "cell_type": "code",
   "execution_count": 218,
   "metadata": {
    "collapsed": false
   },
   "outputs": [],
   "source": [
    "nf = Neurofunction(2, 4, lambda_=1e-5)\n",
    "nf.fit(X_train, y_train)"
   ]
  },
  {
   "cell_type": "code",
   "execution_count": 219,
   "metadata": {
    "collapsed": false
   },
   "outputs": [
    {
     "data": {
      "text/plain": [
       "array([ -1.57331175e-04,   6.49270535e-04,   6.19116850e-04,\n",
       "         3.71196144e-01])"
      ]
     },
     "execution_count": 219,
     "metadata": {},
     "output_type": "execute_result"
    }
   ],
   "source": [
    "nf([[0, 0], [0, 1], [1, 0], [1, 1]])"
   ]
  },
  {
   "cell_type": "code",
   "execution_count": 221,
   "metadata": {
    "collapsed": false
   },
   "outputs": [
    {
     "name": "stdout",
     "output_type": "stream",
     "text": [
      "0.371574610978\n"
     ]
    }
   ],
   "source": [
    "print(gm.information.discrete_mutual_information(data[['a_xor_b']], \n",
    "                                                      data[['a', 'b']]))"
   ]
  },
  {
   "cell_type": "code",
   "execution_count": null,
   "metadata": {
    "collapsed": true
   },
   "outputs": [],
   "source": []
  }
 ],
 "metadata": {
  "kernelspec": {
   "display_name": "Python 2",
   "language": "python",
   "name": "python2"
  },
  "language_info": {
   "codemirror_mode": {
    "name": "ipython",
    "version": 2
   },
   "file_extension": ".py",
   "mimetype": "text/x-python",
   "name": "python",
   "nbconvert_exporter": "python",
   "pygments_lexer": "ipython2",
   "version": "2.7.9"
  }
 },
 "nbformat": 4,
 "nbformat_minor": 0
}
